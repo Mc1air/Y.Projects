{
 "cells": [
  {
   "cell_type": "markdown",
   "metadata": {},
   "source": [
    "# Выбор локации для скважины"
   ]
  },
  {
   "cell_type": "markdown",
   "metadata": {},
   "source": [
    "Допустим, мы работаем в нефтедобывающей компании. Нужно решить, где бурить новую скважину.\n",
    "\n",
    "Нам предоставлены пробы нефти в трёх регионах: в каждом 10 000 месторождений, где измерили качество нефти и объём её запасов.\n",
    "\n",
    "Шаги для выбора локации:\n",
    "\n",
    "- В избранном регионе ищут месторождения, для каждого определяют значения признаков;\n",
    "- Строят модель и оценивают объём запасов;\n",
    "- Выбирают месторождения с самым высокими оценками значений. Количество месторождений зависит от бюджета компании и стоимости разработки одной скважины;\n",
    "- Прибыль равна суммарной прибыли отобранных месторождений."
   ]
  },
  {
   "cell_type": "markdown",
   "metadata": {},
   "source": [
    "**Цель исследования:**    \n",
    "* Построить модель машинного обучения, которая поможет определить регион, где добыча принесёт наибольшую прибыль. Проанализировать возможную прибыль и риски."
   ]
  },
  {
   "cell_type": "markdown",
   "metadata": {},
   "source": [
    "**Ход иследования:**  \n",
    "* Загрузка и подготовка данных\n",
    "* Разбивка данных на выборки для обучения моделей\n",
    "* Обучение моделей и получение предсказаний для трёх регионов\n",
    "* Расчёт RMSE моделей\n",
    "* Расчёт среднего запаса пресказанного сырья\n",
    "* Расчёт достаточного объёма сырья для безубыточной разработки новой скважины\n",
    "* Расчёт прибыли 200 лучших скважин в регионах\n",
    "* Вычисление средней прибыли, 95%-го доверительного интервала и риска убытков"
   ]
  },
  {
   "cell_type": "code",
   "execution_count": 26,
   "metadata": {},
   "outputs": [],
   "source": [
    "#Импортируем библиотеки\n",
    "import pandas as pd\n",
    "from sklearn.model_selection import train_test_split\n",
    "import numpy as np\n",
    "from scipy import stats as st\n",
    "from sklearn.linear_model import LinearRegression\n",
    "from sklearn.metrics import mean_squared_error\n",
    "from sklearn.preprocessing import StandardScaler\n",
    "from numpy import sqrt\n",
    "\n",
    "state = np.random.RandomState(2022)"
   ]
  },
  {
   "cell_type": "markdown",
   "metadata": {},
   "source": [
    "## Загрузка и подготовка данных"
   ]
  },
  {
   "cell_type": "code",
   "execution_count": 2,
   "metadata": {},
   "outputs": [],
   "source": [
    "#Сохраним данные в переменные\n",
    "zero_data = pd.read_csv('geo_data_0.csv')\n",
    "one_data = pd.read_csv('geo_data_1.csv')\n",
    "two_data = pd.read_csv('geo_data_2.csv')"
   ]
  },
  {
   "cell_type": "code",
   "execution_count": 3,
   "metadata": {},
   "outputs": [
    {
     "name": "stdout",
     "output_type": "stream",
     "text": [
      "<class 'pandas.core.frame.DataFrame'>\n",
      "\n",
      "RangeIndex: 100000 entries, 0 to 99999\n",
      "\n",
      "Data columns (total 5 columns):\n",
      "\n",
      " #   Column   Non-Null Count   Dtype  \n",
      "\n",
      "---  ------   --------------   -----  \n",
      "\n",
      " 0   id       100000 non-null  object \n",
      "\n",
      " 1   f0       100000 non-null  float64\n",
      "\n",
      " 2   f1       100000 non-null  float64\n",
      "\n",
      " 3   f2       100000 non-null  float64\n",
      "\n",
      " 4   product  100000 non-null  float64\n",
      "\n",
      "dtypes: float64(4), object(1)\n",
      "\n",
      "memory usage: 3.8+ MB\n",
      "\n",
      "<class 'pandas.core.frame.DataFrame'>\n",
      "\n",
      "RangeIndex: 100000 entries, 0 to 99999\n",
      "\n",
      "Data columns (total 5 columns):\n",
      "\n",
      " #   Column   Non-Null Count   Dtype  \n",
      "\n",
      "---  ------   --------------   -----  \n",
      "\n",
      " 0   id       100000 non-null  object \n",
      "\n",
      " 1   f0       100000 non-null  float64\n",
      "\n",
      " 2   f1       100000 non-null  float64\n",
      "\n",
      " 3   f2       100000 non-null  float64\n",
      "\n",
      " 4   product  100000 non-null  float64\n",
      "\n",
      "dtypes: float64(4), object(1)\n",
      "\n",
      "memory usage: 3.8+ MB\n",
      "\n",
      "<class 'pandas.core.frame.DataFrame'>\n",
      "\n",
      "RangeIndex: 100000 entries, 0 to 99999\n",
      "\n",
      "Data columns (total 5 columns):\n",
      "\n",
      " #   Column   Non-Null Count   Dtype  \n",
      "\n",
      "---  ------   --------------   -----  \n",
      "\n",
      " 0   id       100000 non-null  object \n",
      "\n",
      " 1   f0       100000 non-null  float64\n",
      "\n",
      " 2   f1       100000 non-null  float64\n",
      "\n",
      " 3   f2       100000 non-null  float64\n",
      "\n",
      " 4   product  100000 non-null  float64\n",
      "\n",
      "dtypes: float64(4), object(1)\n",
      "\n",
      "memory usage: 3.8+ MB\n"
     ]
    }
   ],
   "source": [
    "#Проверим наличие пропусков и типы данных\n",
    "zero_data.info()\n",
    "one_data.info()\n",
    "two_data.info()"
   ]
  },
  {
   "cell_type": "code",
   "execution_count": 4,
   "metadata": {},
   "outputs": [
    {
     "data": {
      "text/html": [
       "<div>\n",
       "<style scoped>\n",
       "    .dataframe tbody tr th:only-of-type {\n",
       "        vertical-align: middle;\n",
       "    }\n",
       "\n",
       "    .dataframe tbody tr th {\n",
       "        vertical-align: top;\n",
       "    }\n",
       "\n",
       "    .dataframe thead th {\n",
       "        text-align: right;\n",
       "    }\n",
       "</style>\n",
       "<table border=\"1\" class=\"dataframe\">\n",
       "  <thead>\n",
       "    <tr style=\"text-align: right;\">\n",
       "      <th></th>\n",
       "      <th>id</th>\n",
       "      <th>f0</th>\n",
       "      <th>f1</th>\n",
       "      <th>f2</th>\n",
       "      <th>product</th>\n",
       "    </tr>\n",
       "  </thead>\n",
       "  <tbody>\n",
       "    <tr>\n",
       "      <th>0</th>\n",
       "      <td>txEyH</td>\n",
       "      <td>0.705745</td>\n",
       "      <td>-0.497823</td>\n",
       "      <td>1.221170</td>\n",
       "      <td>105.280062</td>\n",
       "    </tr>\n",
       "    <tr>\n",
       "      <th>1</th>\n",
       "      <td>2acmU</td>\n",
       "      <td>1.334711</td>\n",
       "      <td>-0.340164</td>\n",
       "      <td>4.365080</td>\n",
       "      <td>73.037750</td>\n",
       "    </tr>\n",
       "    <tr>\n",
       "      <th>2</th>\n",
       "      <td>409Wp</td>\n",
       "      <td>1.022732</td>\n",
       "      <td>0.151990</td>\n",
       "      <td>1.419926</td>\n",
       "      <td>85.265647</td>\n",
       "    </tr>\n",
       "    <tr>\n",
       "      <th>3</th>\n",
       "      <td>iJLyR</td>\n",
       "      <td>-0.032172</td>\n",
       "      <td>0.139033</td>\n",
       "      <td>2.978566</td>\n",
       "      <td>168.620776</td>\n",
       "    </tr>\n",
       "    <tr>\n",
       "      <th>4</th>\n",
       "      <td>Xdl7t</td>\n",
       "      <td>1.988431</td>\n",
       "      <td>0.155413</td>\n",
       "      <td>4.751769</td>\n",
       "      <td>154.036647</td>\n",
       "    </tr>\n",
       "  </tbody>\n",
       "</table>\n",
       "</div>"
      ],
      "text/plain": [
       "      id        f0        f1        f2     product\n",
       "0  txEyH  0.705745 -0.497823  1.221170  105.280062\n",
       "1  2acmU  1.334711 -0.340164  4.365080   73.037750\n",
       "2  409Wp  1.022732  0.151990  1.419926   85.265647\n",
       "3  iJLyR -0.032172  0.139033  2.978566  168.620776\n",
       "4  Xdl7t  1.988431  0.155413  4.751769  154.036647"
      ]
     },
     "metadata": {},
     "output_type": "display_data"
    },
    {
     "data": {
      "text/html": [
       "<div>\n",
       "<style scoped>\n",
       "    .dataframe tbody tr th:only-of-type {\n",
       "        vertical-align: middle;\n",
       "    }\n",
       "\n",
       "    .dataframe tbody tr th {\n",
       "        vertical-align: top;\n",
       "    }\n",
       "\n",
       "    .dataframe thead th {\n",
       "        text-align: right;\n",
       "    }\n",
       "</style>\n",
       "<table border=\"1\" class=\"dataframe\">\n",
       "  <thead>\n",
       "    <tr style=\"text-align: right;\">\n",
       "      <th></th>\n",
       "      <th>id</th>\n",
       "      <th>f0</th>\n",
       "      <th>f1</th>\n",
       "      <th>f2</th>\n",
       "      <th>product</th>\n",
       "    </tr>\n",
       "  </thead>\n",
       "  <tbody>\n",
       "    <tr>\n",
       "      <th>0</th>\n",
       "      <td>kBEdx</td>\n",
       "      <td>-15.001348</td>\n",
       "      <td>-8.276000</td>\n",
       "      <td>-0.005876</td>\n",
       "      <td>3.179103</td>\n",
       "    </tr>\n",
       "    <tr>\n",
       "      <th>1</th>\n",
       "      <td>62mP7</td>\n",
       "      <td>14.272088</td>\n",
       "      <td>-3.475083</td>\n",
       "      <td>0.999183</td>\n",
       "      <td>26.953261</td>\n",
       "    </tr>\n",
       "    <tr>\n",
       "      <th>2</th>\n",
       "      <td>vyE1P</td>\n",
       "      <td>6.263187</td>\n",
       "      <td>-5.948386</td>\n",
       "      <td>5.001160</td>\n",
       "      <td>134.766305</td>\n",
       "    </tr>\n",
       "    <tr>\n",
       "      <th>3</th>\n",
       "      <td>KcrkZ</td>\n",
       "      <td>-13.081196</td>\n",
       "      <td>-11.506057</td>\n",
       "      <td>4.999415</td>\n",
       "      <td>137.945408</td>\n",
       "    </tr>\n",
       "    <tr>\n",
       "      <th>4</th>\n",
       "      <td>AHL4O</td>\n",
       "      <td>12.702195</td>\n",
       "      <td>-8.147433</td>\n",
       "      <td>5.004363</td>\n",
       "      <td>134.766305</td>\n",
       "    </tr>\n",
       "  </tbody>\n",
       "</table>\n",
       "</div>"
      ],
      "text/plain": [
       "      id         f0         f1        f2     product\n",
       "0  kBEdx -15.001348  -8.276000 -0.005876    3.179103\n",
       "1  62mP7  14.272088  -3.475083  0.999183   26.953261\n",
       "2  vyE1P   6.263187  -5.948386  5.001160  134.766305\n",
       "3  KcrkZ -13.081196 -11.506057  4.999415  137.945408\n",
       "4  AHL4O  12.702195  -8.147433  5.004363  134.766305"
      ]
     },
     "metadata": {},
     "output_type": "display_data"
    },
    {
     "data": {
      "text/html": [
       "<div>\n",
       "<style scoped>\n",
       "    .dataframe tbody tr th:only-of-type {\n",
       "        vertical-align: middle;\n",
       "    }\n",
       "\n",
       "    .dataframe tbody tr th {\n",
       "        vertical-align: top;\n",
       "    }\n",
       "\n",
       "    .dataframe thead th {\n",
       "        text-align: right;\n",
       "    }\n",
       "</style>\n",
       "<table border=\"1\" class=\"dataframe\">\n",
       "  <thead>\n",
       "    <tr style=\"text-align: right;\">\n",
       "      <th></th>\n",
       "      <th>id</th>\n",
       "      <th>f0</th>\n",
       "      <th>f1</th>\n",
       "      <th>f2</th>\n",
       "      <th>product</th>\n",
       "    </tr>\n",
       "  </thead>\n",
       "  <tbody>\n",
       "    <tr>\n",
       "      <th>0</th>\n",
       "      <td>fwXo0</td>\n",
       "      <td>-1.146987</td>\n",
       "      <td>0.963328</td>\n",
       "      <td>-0.828965</td>\n",
       "      <td>27.758673</td>\n",
       "    </tr>\n",
       "    <tr>\n",
       "      <th>1</th>\n",
       "      <td>WJtFt</td>\n",
       "      <td>0.262778</td>\n",
       "      <td>0.269839</td>\n",
       "      <td>-2.530187</td>\n",
       "      <td>56.069697</td>\n",
       "    </tr>\n",
       "    <tr>\n",
       "      <th>2</th>\n",
       "      <td>ovLUW</td>\n",
       "      <td>0.194587</td>\n",
       "      <td>0.289035</td>\n",
       "      <td>-5.586433</td>\n",
       "      <td>62.871910</td>\n",
       "    </tr>\n",
       "    <tr>\n",
       "      <th>3</th>\n",
       "      <td>q6cA6</td>\n",
       "      <td>2.236060</td>\n",
       "      <td>-0.553760</td>\n",
       "      <td>0.930038</td>\n",
       "      <td>114.572842</td>\n",
       "    </tr>\n",
       "    <tr>\n",
       "      <th>4</th>\n",
       "      <td>WPMUX</td>\n",
       "      <td>-0.515993</td>\n",
       "      <td>1.716266</td>\n",
       "      <td>5.899011</td>\n",
       "      <td>149.600746</td>\n",
       "    </tr>\n",
       "  </tbody>\n",
       "</table>\n",
       "</div>"
      ],
      "text/plain": [
       "      id        f0        f1        f2     product\n",
       "0  fwXo0 -1.146987  0.963328 -0.828965   27.758673\n",
       "1  WJtFt  0.262778  0.269839 -2.530187   56.069697\n",
       "2  ovLUW  0.194587  0.289035 -5.586433   62.871910\n",
       "3  q6cA6  2.236060 -0.553760  0.930038  114.572842\n",
       "4  WPMUX -0.515993  1.716266  5.899011  149.600746"
      ]
     },
     "metadata": {},
     "output_type": "display_data"
    }
   ],
   "source": [
    "#Выведем первые пять строк датафреймов на экран\n",
    "display(zero_data.head())\n",
    "display(one_data.head())\n",
    "display(two_data.head())"
   ]
  },
  {
   "cell_type": "code",
   "execution_count": 5,
   "metadata": {},
   "outputs": [
    {
     "data": {
      "text/plain": [
       "0"
      ]
     },
     "metadata": {},
     "output_type": "display_data"
    },
    {
     "data": {
      "text/plain": [
       "0"
      ]
     },
     "metadata": {},
     "output_type": "display_data"
    },
    {
     "data": {
      "text/plain": [
       "0"
      ]
     },
     "metadata": {},
     "output_type": "display_data"
    }
   ],
   "source": [
    "#Проверим датафреймы на дубликаты\n",
    "display(zero_data.duplicated().sum())\n",
    "display(one_data.duplicated().sum())\n",
    "display(two_data.duplicated().sum())"
   ]
  },
  {
   "cell_type": "code",
   "execution_count": 6,
   "metadata": {},
   "outputs": [
    {
     "data": {
      "text/html": [
       "<div>\n",
       "<style scoped>\n",
       "    .dataframe tbody tr th:only-of-type {\n",
       "        vertical-align: middle;\n",
       "    }\n",
       "\n",
       "    .dataframe tbody tr th {\n",
       "        vertical-align: top;\n",
       "    }\n",
       "\n",
       "    .dataframe thead th {\n",
       "        text-align: right;\n",
       "    }\n",
       "</style>\n",
       "<table border=\"1\" class=\"dataframe\">\n",
       "  <thead>\n",
       "    <tr style=\"text-align: right;\">\n",
       "      <th></th>\n",
       "      <th>f0</th>\n",
       "      <th>f1</th>\n",
       "      <th>f2</th>\n",
       "      <th>product</th>\n",
       "    </tr>\n",
       "  </thead>\n",
       "  <tbody>\n",
       "    <tr>\n",
       "      <th>f0</th>\n",
       "      <td>1.000000</td>\n",
       "      <td>-0.440723</td>\n",
       "      <td>-0.003153</td>\n",
       "      <td>0.143536</td>\n",
       "    </tr>\n",
       "    <tr>\n",
       "      <th>f1</th>\n",
       "      <td>-0.440723</td>\n",
       "      <td>1.000000</td>\n",
       "      <td>0.001724</td>\n",
       "      <td>-0.192356</td>\n",
       "    </tr>\n",
       "    <tr>\n",
       "      <th>f2</th>\n",
       "      <td>-0.003153</td>\n",
       "      <td>0.001724</td>\n",
       "      <td>1.000000</td>\n",
       "      <td>0.483663</td>\n",
       "    </tr>\n",
       "    <tr>\n",
       "      <th>product</th>\n",
       "      <td>0.143536</td>\n",
       "      <td>-0.192356</td>\n",
       "      <td>0.483663</td>\n",
       "      <td>1.000000</td>\n",
       "    </tr>\n",
       "  </tbody>\n",
       "</table>\n",
       "</div>"
      ],
      "text/plain": [
       "               f0        f1        f2   product\n",
       "f0       1.000000 -0.440723 -0.003153  0.143536\n",
       "f1      -0.440723  1.000000  0.001724 -0.192356\n",
       "f2      -0.003153  0.001724  1.000000  0.483663\n",
       "product  0.143536 -0.192356  0.483663  1.000000"
      ]
     },
     "metadata": {},
     "output_type": "display_data"
    },
    {
     "data": {
      "text/html": [
       "<div>\n",
       "<style scoped>\n",
       "    .dataframe tbody tr th:only-of-type {\n",
       "        vertical-align: middle;\n",
       "    }\n",
       "\n",
       "    .dataframe tbody tr th {\n",
       "        vertical-align: top;\n",
       "    }\n",
       "\n",
       "    .dataframe thead th {\n",
       "        text-align: right;\n",
       "    }\n",
       "</style>\n",
       "<table border=\"1\" class=\"dataframe\">\n",
       "  <thead>\n",
       "    <tr style=\"text-align: right;\">\n",
       "      <th></th>\n",
       "      <th>f0</th>\n",
       "      <th>f1</th>\n",
       "      <th>f2</th>\n",
       "      <th>product</th>\n",
       "    </tr>\n",
       "  </thead>\n",
       "  <tbody>\n",
       "    <tr>\n",
       "      <th>f0</th>\n",
       "      <td>1.000000</td>\n",
       "      <td>0.182287</td>\n",
       "      <td>-0.001777</td>\n",
       "      <td>-0.030491</td>\n",
       "    </tr>\n",
       "    <tr>\n",
       "      <th>f1</th>\n",
       "      <td>0.182287</td>\n",
       "      <td>1.000000</td>\n",
       "      <td>-0.002595</td>\n",
       "      <td>-0.010155</td>\n",
       "    </tr>\n",
       "    <tr>\n",
       "      <th>f2</th>\n",
       "      <td>-0.001777</td>\n",
       "      <td>-0.002595</td>\n",
       "      <td>1.000000</td>\n",
       "      <td>0.999397</td>\n",
       "    </tr>\n",
       "    <tr>\n",
       "      <th>product</th>\n",
       "      <td>-0.030491</td>\n",
       "      <td>-0.010155</td>\n",
       "      <td>0.999397</td>\n",
       "      <td>1.000000</td>\n",
       "    </tr>\n",
       "  </tbody>\n",
       "</table>\n",
       "</div>"
      ],
      "text/plain": [
       "               f0        f1        f2   product\n",
       "f0       1.000000  0.182287 -0.001777 -0.030491\n",
       "f1       0.182287  1.000000 -0.002595 -0.010155\n",
       "f2      -0.001777 -0.002595  1.000000  0.999397\n",
       "product -0.030491 -0.010155  0.999397  1.000000"
      ]
     },
     "metadata": {},
     "output_type": "display_data"
    },
    {
     "data": {
      "text/html": [
       "<div>\n",
       "<style scoped>\n",
       "    .dataframe tbody tr th:only-of-type {\n",
       "        vertical-align: middle;\n",
       "    }\n",
       "\n",
       "    .dataframe tbody tr th {\n",
       "        vertical-align: top;\n",
       "    }\n",
       "\n",
       "    .dataframe thead th {\n",
       "        text-align: right;\n",
       "    }\n",
       "</style>\n",
       "<table border=\"1\" class=\"dataframe\">\n",
       "  <thead>\n",
       "    <tr style=\"text-align: right;\">\n",
       "      <th></th>\n",
       "      <th>f0</th>\n",
       "      <th>f1</th>\n",
       "      <th>f2</th>\n",
       "      <th>product</th>\n",
       "    </tr>\n",
       "  </thead>\n",
       "  <tbody>\n",
       "    <tr>\n",
       "      <th>f0</th>\n",
       "      <td>1.000000</td>\n",
       "      <td>0.000528</td>\n",
       "      <td>-0.000448</td>\n",
       "      <td>-0.001987</td>\n",
       "    </tr>\n",
       "    <tr>\n",
       "      <th>f1</th>\n",
       "      <td>0.000528</td>\n",
       "      <td>1.000000</td>\n",
       "      <td>0.000779</td>\n",
       "      <td>-0.001012</td>\n",
       "    </tr>\n",
       "    <tr>\n",
       "      <th>f2</th>\n",
       "      <td>-0.000448</td>\n",
       "      <td>0.000779</td>\n",
       "      <td>1.000000</td>\n",
       "      <td>0.445871</td>\n",
       "    </tr>\n",
       "    <tr>\n",
       "      <th>product</th>\n",
       "      <td>-0.001987</td>\n",
       "      <td>-0.001012</td>\n",
       "      <td>0.445871</td>\n",
       "      <td>1.000000</td>\n",
       "    </tr>\n",
       "  </tbody>\n",
       "</table>\n",
       "</div>"
      ],
      "text/plain": [
       "               f0        f1        f2   product\n",
       "f0       1.000000  0.000528 -0.000448 -0.001987\n",
       "f1       0.000528  1.000000  0.000779 -0.001012\n",
       "f2      -0.000448  0.000779  1.000000  0.445871\n",
       "product -0.001987 -0.001012  0.445871  1.000000"
      ]
     },
     "metadata": {},
     "output_type": "display_data"
    }
   ],
   "source": [
    "#Проверим корреляцию признаков\n",
    "display(zero_data.corr())\n",
    "display(one_data.corr())\n",
    "display(two_data.corr())"
   ]
  },
  {
   "cell_type": "markdown",
   "metadata": {},
   "source": [
    "**Вывод:** \n",
    "* Данные сохранены в переменные, изучены\n",
    "* Пропусков и дубликатов в данных нет\n",
    "* В нулевом датафрейме присутствует небольшая отрицательная корреляция между признаками f0 и f1, а также небольшая положительная корреляция между f2 и product\n",
    "* В первом датафрейме присутствует очень ольшая положительная корреляция между признаками f2 и product\n",
    "* Во втором датафрейме также присутствует небольшая корреляция между признаками f2 и product"
   ]
  },
  {
   "cell_type": "markdown",
   "metadata": {},
   "source": [
    "## Обучение и проверка модели"
   ]
  },
  {
   "cell_type": "code",
   "execution_count": 7,
   "metadata": {},
   "outputs": [],
   "source": [
    "#Определим признаки и целевой признак для каждого датафрейма\n",
    "zero_features = zero_data.drop(['id', 'product'], axis=1)\n",
    "zero_target = zero_data['product']\n",
    "\n",
    "one_features = one_data.drop(['id', 'product'], axis=1)\n",
    "one_target = one_data['product']\n",
    "\n",
    "two_features = two_data.drop(['id', 'product'], axis=1)\n",
    "two_target = two_data['product']\n"
   ]
  },
  {
   "cell_type": "code",
   "execution_count": 8,
   "metadata": {},
   "outputs": [],
   "source": [
    "#Разделим данные на выборки\n",
    "\n",
    "zero_features_train, zero_features_valid, zero_target_train, zero_target_valid = train_test_split(zero_features,\n",
    "                                                                                  zero_target,\n",
    "                                                                                  test_size=0.25,\n",
    "                                                                                 random_state=state,\n",
    "                                                                                  shuffle=False)\n",
    "one_features_train, one_features_valid, one_target_train, one_target_valid = train_test_split(one_features,\n",
    "                                                                                  one_target,\n",
    "                                                                                  test_size=0.25,\n",
    "                                                                                 random_state=state,\n",
    "                                                                                  shuffle=False)\n",
    "two_features_train, two_features_valid, two_target_train, two_target_valid = train_test_split(two_features,\n",
    "                                                                                  two_target,\n",
    "                                                                                  test_size=0.25,\n",
    "                                                                                 random_state=state,\n",
    "                                                                                  shuffle=False)"
   ]
  },
  {
   "cell_type": "code",
   "execution_count": 9,
   "metadata": {},
   "outputs": [
    {
     "name": "stdout",
     "output_type": "stream",
     "text": [
      "(75000, 3)\n",
      "\n",
      "(75000, 3)\n",
      "\n",
      "(75000, 3)\n"
     ]
    }
   ],
   "source": [
    "#Проверим размер выборок\n",
    "print(zero_features_train.shape)\n",
    "print(one_features_train.shape)\n",
    "print(two_features_train.shape)"
   ]
  },
  {
   "cell_type": "code",
   "execution_count": 10,
   "metadata": {},
   "outputs": [],
   "source": [
    "#Обучим модель и сделаем предсказание для нулевого региона\n",
    "scaler = StandardScaler()\n",
    "scaler.fit(zero_features_train)\n",
    "\n",
    "zero_features_train_scal = scaler.transform(zero_features_train)\n",
    "zero_features_valid_scal = scaler.transform(zero_features_valid)\n",
    "\n",
    "model = LinearRegression()\n",
    "model.fit(zero_features_train_scal, zero_target_train)\n",
    "\n",
    "zero_predictions = model.predict(zero_features_valid_scal)\n",
    "\n",
    "#Приведём предсказания к Series и установим индексы, аналогичные zero_target_valid\n",
    "zero_np_array = np.array(zero_predictions)\n",
    "zero_pred = pd.Series(zero_np_array, index=zero_target_valid.index)"
   ]
  },
  {
   "cell_type": "code",
   "execution_count": 11,
   "metadata": {},
   "outputs": [],
   "source": [
    "#Обучим модель и сделаем предсказание для первого региона\n",
    "scaler = StandardScaler()\n",
    "scaler.fit(zero_features_train)\n",
    "\n",
    "one_features_train_scal = scaler.transform(one_features_train)\n",
    "one_features_valid_scal = scaler.transform(one_features_valid)\n",
    "\n",
    "model = LinearRegression()\n",
    "model.fit(one_features_train_scal, one_target_train)\n",
    "\n",
    "one_predictions = model.predict(one_features_valid_scal)\n",
    "\n",
    "#Приведём предсказания к Series и установим индексы, аналогичные one_target_valid\n",
    "one_np_array = np.array(one_predictions)\n",
    "one_pred = pd.Series(one_np_array, index=one_target_valid.index)"
   ]
  },
  {
   "cell_type": "code",
   "execution_count": 12,
   "metadata": {},
   "outputs": [],
   "source": [
    "#Обучим модель и сделаем предсказание для второго региона\n",
    "scaler = StandardScaler()\n",
    "scaler.fit(zero_features_train)\n",
    "\n",
    "two_features_train_scal = scaler.transform(two_features_train)\n",
    "two_features_valid_scal = scaler.transform(two_features_valid)\n",
    "\n",
    "model = LinearRegression()\n",
    "model.fit(two_features_train_scal, two_target_train)\n",
    "\n",
    "two_predictions = model.predict(two_features_valid_scal)\n",
    "\n",
    "#Приведём предсказания к Series и установим индексы, аналогичные two_target_valid\n",
    "two_np_array = np.array(two_predictions)\n",
    "two_pred = pd.Series(two_np_array, index=two_target_valid.index)"
   ]
  },
  {
   "cell_type": "code",
   "execution_count": 13,
   "metadata": {},
   "outputs": [
    {
     "name": "stdout",
     "output_type": "stream",
     "text": [
      "92.42663467014862\n",
      "\n",
      "68.94008904238618\n",
      "\n",
      "94.91236791621232\n"
     ]
    }
   ],
   "source": [
    "#Сохраним правильные ответы и выведем их на экран\n",
    "zero_mean = zero_target_valid.mean()\n",
    "one_mean = one_target_valid.mean()\n",
    "two_mean = two_target_valid.mean()\n",
    "print(zero_mean)\n",
    "print(one_mean)\n",
    "print(two_mean)"
   ]
  },
  {
   "cell_type": "code",
   "execution_count": 14,
   "metadata": {},
   "outputs": [],
   "source": [
    "#Рассчитаем RMSE моделей\n",
    "zero_rmse = mean_squared_error(zero_target_valid, zero_pred) ** 0.5\n",
    "one_rmse = mean_squared_error(one_target_valid, one_pred) ** 0.5\n",
    "two_rmse = mean_squared_error(two_target_valid, two_pred) ** 0.5"
   ]
  },
  {
   "cell_type": "code",
   "execution_count": 15,
   "metadata": {},
   "outputs": [],
   "source": [
    "#Рассчитаем средний запас предсказанного сырья\n",
    "zero_mean = zero_pred.mean()\n",
    "one_mean = one_pred.mean()\n",
    "two_mean = two_pred.mean()"
   ]
  },
  {
   "cell_type": "code",
   "execution_count": 16,
   "metadata": {},
   "outputs": [
    {
     "name": "stdout",
     "output_type": "stream",
     "text": [
      "RMSE нулевого региона: 37.650563264123434\n",
      "\n",
      "Средний запас нулевого региона: 92.59368096991008\n",
      "\n",
      "RMSE первого региона: 0.8944456516942326\n",
      "\n",
      "Средний запас первого региона: 68.95753362359754\n",
      "\n",
      "RMSE второго региона: 40.00368126890319\n",
      "\n",
      "Средний запас второго региона: 95.27546163252782\n"
     ]
    }
   ],
   "source": [
    "#Выведем на экран RMSE и средний запас предсказанного сырья каждой модели\n",
    "print('RMSE нулевого региона:', zero_rmse)\n",
    "print('Средний запас нулевого региона:', zero_mean)\n",
    "print('RMSE первого региона:', one_rmse)\n",
    "print('Средний запас первого региона:', one_mean)\n",
    "print('RMSE второго региона:', two_rmse)\n",
    "print('Средний запас второго региона:', two_mean)"
   ]
  },
  {
   "cell_type": "markdown",
   "metadata": {},
   "source": [
    "**Вывод:**  \n",
    "* По среднему предсказанному запасу перспективнее всего нулевой и второй регионы\n",
    "* RMSE ниже всего у первого региона"
   ]
  },
  {
   "cell_type": "markdown",
   "metadata": {},
   "source": [
    "## Подготовка к расчёту прибыли"
   ]
  },
  {
   "cell_type": "markdown",
   "metadata": {},
   "source": [
    "При разведке региона исследуют 500 точек, из которых с помощью машинного обучения выбирают 200 лучших для разработки.\n",
    "Бюджет на разработку скважин в регионе — 10 млрд рублей.\n",
    "При нынешних ценах один баррель сырья приносит 450 рублей дохода. Доход с каждой единицы продукта составляет 450 тыс. рублей, поскольку объём указан в тысячах баррелей."
   ]
  },
  {
   "cell_type": "code",
   "execution_count": 17,
   "metadata": {},
   "outputs": [],
   "source": [
    "#Сохраним значения в переменных\n",
    "budget = 10000000000\n",
    "barel_profit = 450000\n",
    "max_points = 500\n",
    "best_max_points = 200"
   ]
  },
  {
   "cell_type": "code",
   "execution_count": 18,
   "metadata": {},
   "outputs": [
    {
     "name": "stdout",
     "output_type": "stream",
     "text": [
      "Объём сырья для безубыточной разработки скважины: 111.11111111111111\n"
     ]
    }
   ],
   "source": [
    "#Рассчитаем достаточный объём сырья для безубыточной разработки новой скважины\n",
    "print('Объём сырья для безубыточной разработки скважины:', budget/barel_profit/best_max_points)"
   ]
  },
  {
   "cell_type": "code",
   "execution_count": 19,
   "metadata": {},
   "outputs": [
    {
     "name": "stdout",
     "output_type": "stream",
     "text": [
      "Средний запас в нулевом регионе 92.50000000000001\n",
      "\n",
      "Средний запас в первом регионе 68.82500000000002\n",
      "\n",
      "Средний запас во втором регионе 95.00000000000004\n"
     ]
    }
   ],
   "source": [
    "#Сравним полученный объём сырья со средним запасом в каждом регионе\n",
    "print('Средний запас в нулевом регионе', zero_data['product'].mean())\n",
    "print('Средний запас в первом регионе', one_data['product'].mean())\n",
    "print('Средний запас во втором регионе', two_data['product'].mean())"
   ]
  },
  {
   "cell_type": "markdown",
   "metadata": {},
   "source": [
    "**Вывод:**  \n",
    "Ни в одном из регионов средний запас не достигает нужной отметки в 111.11, однако наша модель прогнозирует хорошие запасы скважин в первом регионе, несмотря на довольно маленькое среднее."
   ]
  },
  {
   "cell_type": "markdown",
   "metadata": {},
   "source": [
    "## Расчёт прибыли и рисков "
   ]
  },
  {
   "cell_type": "code",
   "execution_count": 20,
   "metadata": {},
   "outputs": [],
   "source": [
    "#Напишем функцию расчёта прибыли\n",
    "def revenue(target_valid, probabilities, count):\n",
    "    prob_sorted = pd.Series(probabilities).sort_values(ascending=False)\n",
    "    selected = target_valid[prob_sorted.index][:count]\n",
    "    goal_sum = selected.sum()\n",
    "    return round((goal_sum * barel_profit) - budget, 2)"
   ]
  },
  {
   "cell_type": "code",
   "execution_count": 21,
   "metadata": {},
   "outputs": [
    {
     "name": "stdout",
     "output_type": "stream",
     "text": [
      "Прибыль 200 лучших скважин в нулевом регионе: 3356865603.95\n",
      "\n",
      "Прибыль 200 лучших скважин в первом регионе: 2415086696.68\n",
      "\n",
      "Прибыль 200 лучших скважин во втором регионе: 2588651491.44\n"
     ]
    }
   ],
   "source": [
    "#Рассчитаем прибыль\n",
    "print('Прибыль 200 лучших скважин в нулевом регионе:', revenue(zero_target_valid, zero_pred, best_max_points))\n",
    "print('Прибыль 200 лучших скважин в первом регионе:', revenue(one_target_valid, one_pred, best_max_points))\n",
    "print('Прибыль 200 лучших скважин во втором регионе:', revenue(two_target_valid, two_pred, best_max_points))"
   ]
  },
  {
   "cell_type": "code",
   "execution_count": 22,
   "metadata": {},
   "outputs": [],
   "source": [
    "#Напишем функцию bootstrap\n",
    "def bootstr(target_valid, predictions):\n",
    "\n",
    "    values = []\n",
    "    for i in range(1000):\n",
    "        target_sample = target_valid.sample(replace = True, random_state = state, n=max_points)\n",
    "        predictions_sample = predictions[target_sample.index]\n",
    "\n",
    "        values.append(revenue(target_valid, predictions_sample, best_max_points))\n",
    "\n",
    "    values = pd.Series(values)\n",
    "    return values "
   ]
  },
  {
   "cell_type": "code",
   "execution_count": 23,
   "metadata": {},
   "outputs": [],
   "source": [
    "#Найдём распределение прибыли для каждого региона\n",
    "zero_rasp = bootstr(zero_target_valid, zero_pred)\n",
    "one_rasp = bootstr(one_target_valid, one_pred)\n",
    "two_rasp = bootstr(two_target_valid, two_pred)"
   ]
  },
  {
   "cell_type": "code",
   "execution_count": 27,
   "metadata": {},
   "outputs": [],
   "source": [
    "#Напишем функции для вычисления средней прибыли, 95%-го доверительного интервала и риска убытков\n",
    "def mean_revenue(values):\n",
    "    print(\"Средняя выручка:\", values.mean())\n",
    "    \n",
    "def dov_int(values):\n",
    "    print(\"95%-й доверительный интервал:\", values.quantile(0.025), '-', values.quantile(0.975))\n",
    "    \n",
    "def risks(values):\n",
    "    print(\"Риск убытков:\", st.percentileofscore(values, 0), '%')"
   ]
  },
  {
   "cell_type": "code",
   "execution_count": 28,
   "metadata": {},
   "outputs": [
    {
     "name": "stdout",
     "output_type": "stream",
     "text": [
      "Средняя выручка: 417981062.47498\n",
      "\n",
      "95%-й доверительный интервал: -100642480.11125 - 940737222.4679997\n",
      "\n",
      "Риск убытков: 4.800000000000001 %\n"
     ]
    }
   ],
   "source": [
    "mean_revenue(zero_rasp)\n",
    "dov_int(zero_rasp)\n",
    "risks(zero_rasp)"
   ]
  },
  {
   "cell_type": "code",
   "execution_count": 29,
   "metadata": {},
   "outputs": [
    {
     "name": "stdout",
     "output_type": "stream",
     "text": [
      "Средняя выручка: 466833977.84547997\n",
      "\n",
      "95%-й доверительный интервал: 69515438.6515 - 837478118.5944997\n",
      "\n",
      "Риск убытков: 1.0 %\n"
     ]
    }
   ],
   "source": [
    "mean_revenue(one_rasp)\n",
    "dov_int(one_rasp)\n",
    "risks(one_rasp)"
   ]
  },
  {
   "cell_type": "code",
   "execution_count": 30,
   "metadata": {},
   "outputs": [
    {
     "name": "stdout",
     "output_type": "stream",
     "text": [
      "Средняя выручка: 384069231.80391\n",
      "\n",
      "95%-й доверительный интервал: -116373605.90649997 - 900804348.1377499\n",
      "\n",
      "Риск убытков: 6.9 %\n"
     ]
    }
   ],
   "source": [
    "mean_revenue(two_rasp)\n",
    "dov_int(two_rasp)\n",
    "risks(two_rasp)"
   ]
  },
  {
   "cell_type": "markdown",
   "metadata": {},
   "source": [
    "**Вывод:**  \n",
    "Для разработки скважин подходит первый регион, т.к. риск убытков у него составляет 1%, что меньше, чем у двух других регионов, а средняя выручка, наоборот, выше, чем у остальных регионов."
   ]
  },
  {
   "cell_type": "markdown",
   "metadata": {},
   "source": [
    "Общий вывод\n",
    "====  \n",
    "  \n",
    "Для исследования было сделано следующее:  \n",
    "* Данные загружены и подготовлены к дальнейшей работе\n",
    "* Обучены и проверены модели\n",
    "* Подсчитаны средний запас сырья и RMSE модели\n",
    "* Рассчитан достаточный объём сырья для безубыточной разработки новой скважины\n",
    "* Рассчитана прибыль для скважин с максимальным оъёмом сырья\n",
    "* Подсчитаны: средняя прибыль, 95%-й доверительный интервал и риск убытков \n",
    "  \n",
    "По результатам исследования лучшим регионом для разработки скважин был выбран первый регион, т.к., по сравнению с двумя другими регионами, у первого наименьшее значение риска убытков и высокая средняя выручка."
   ]
  },
  {
   "cell_type": "code",
   "execution_count": null,
   "metadata": {},
   "outputs": [],
   "source": []
  }
 ],
 "metadata": {
  "ExecuteTimeLog": [
   {
    "duration": 1137,
    "start_time": "2022-12-10T21:09:43.341Z"
   },
   {
    "duration": 81,
    "start_time": "2022-12-10T21:16:36.379Z"
   },
   {
    "duration": 2181,
    "start_time": "2022-12-10T21:17:07.947Z"
   },
   {
    "duration": 37,
    "start_time": "2022-12-10T21:18:42.666Z"
   },
   {
    "duration": 18,
    "start_time": "2022-12-10T21:20:51.919Z"
   },
   {
    "duration": 24,
    "start_time": "2022-12-10T21:22:30.634Z"
   },
   {
    "duration": 159,
    "start_time": "2022-12-10T21:24:03.509Z"
   },
   {
    "duration": 143,
    "start_time": "2022-12-10T21:24:58.206Z"
   },
   {
    "duration": 48,
    "start_time": "2022-12-10T21:29:11.205Z"
   },
   {
    "duration": 4,
    "start_time": "2022-12-10T22:15:47.429Z"
   },
   {
    "duration": 50,
    "start_time": "2022-12-12T21:51:51.125Z"
   },
   {
    "duration": 1076,
    "start_time": "2022-12-12T21:52:01.135Z"
   },
   {
    "duration": 621,
    "start_time": "2022-12-12T21:52:03.286Z"
   },
   {
    "duration": 36,
    "start_time": "2022-12-12T21:52:07.626Z"
   },
   {
    "duration": 29,
    "start_time": "2022-12-12T21:52:12.220Z"
   },
   {
    "duration": 146,
    "start_time": "2022-12-12T21:52:17.157Z"
   },
   {
    "duration": 41,
    "start_time": "2022-12-12T21:52:18.933Z"
   },
   {
    "duration": 11,
    "start_time": "2022-12-12T21:52:24.504Z"
   },
   {
    "duration": 3,
    "start_time": "2022-12-12T21:52:27.698Z"
   },
   {
    "duration": 3,
    "start_time": "2022-12-12T22:29:20.808Z"
   },
   {
    "duration": 26,
    "start_time": "2022-12-12T22:32:48.217Z"
   },
   {
    "duration": 66,
    "start_time": "2022-12-12T22:34:35.304Z"
   },
   {
    "duration": 6,
    "start_time": "2022-12-12T22:36:06.907Z"
   },
   {
    "duration": 19,
    "start_time": "2022-12-12T22:39:31.667Z"
   },
   {
    "duration": 3,
    "start_time": "2022-12-12T22:39:33.527Z"
   },
   {
    "duration": 15,
    "start_time": "2022-12-12T22:39:48.043Z"
   },
   {
    "duration": 3,
    "start_time": "2022-12-12T22:39:49.664Z"
   },
   {
    "duration": 4,
    "start_time": "2022-12-12T22:43:54.275Z"
   },
   {
    "duration": 3,
    "start_time": "2022-12-12T22:45:20.683Z"
   },
   {
    "duration": 299,
    "start_time": "2022-12-12T22:59:06.882Z"
   },
   {
    "duration": 5,
    "start_time": "2022-12-12T23:11:56.698Z"
   },
   {
    "duration": 3,
    "start_time": "2022-12-12T23:12:00.267Z"
   },
   {
    "duration": 11,
    "start_time": "2022-12-12T23:13:16.078Z"
   },
   {
    "duration": 10,
    "start_time": "2022-12-12T23:13:51.786Z"
   },
   {
    "duration": 6,
    "start_time": "2022-12-12T23:14:47.971Z"
   },
   {
    "duration": 15,
    "start_time": "2022-12-12T23:17:12.503Z"
   },
   {
    "duration": 1000,
    "start_time": "2022-12-13T22:26:17.795Z"
   },
   {
    "duration": 627,
    "start_time": "2022-12-13T22:26:18.797Z"
   },
   {
    "duration": 36,
    "start_time": "2022-12-13T22:26:19.425Z"
   },
   {
    "duration": 28,
    "start_time": "2022-12-13T22:26:19.463Z"
   },
   {
    "duration": 149,
    "start_time": "2022-12-13T22:26:19.493Z"
   },
   {
    "duration": 36,
    "start_time": "2022-12-13T22:26:19.644Z"
   },
   {
    "duration": 9,
    "start_time": "2022-12-13T22:26:19.682Z"
   },
   {
    "duration": 5,
    "start_time": "2022-12-13T22:26:19.693Z"
   },
   {
    "duration": 48,
    "start_time": "2022-12-13T22:26:19.700Z"
   },
   {
    "duration": 4,
    "start_time": "2022-12-13T22:26:19.751Z"
   },
   {
    "duration": 10,
    "start_time": "2022-12-13T22:26:19.756Z"
   },
   {
    "duration": 471,
    "start_time": "2022-12-13T22:26:19.768Z"
   },
   {
    "duration": 13,
    "start_time": "2022-12-13T22:26:20.243Z"
   },
   {
    "duration": 181,
    "start_time": "2022-12-13T22:26:20.258Z"
   },
   {
    "duration": 114,
    "start_time": "2022-12-13T22:26:20.441Z"
   },
   {
    "duration": 3,
    "start_time": "2022-12-13T22:27:13.471Z"
   },
   {
    "duration": 19,
    "start_time": "2022-12-13T22:30:42.982Z"
   },
   {
    "duration": 474,
    "start_time": "2022-12-13T22:31:06.969Z"
   },
   {
    "duration": 6,
    "start_time": "2022-12-13T22:35:17.330Z"
   },
   {
    "duration": 3,
    "start_time": "2022-12-13T22:37:18.708Z"
   },
   {
    "duration": 24,
    "start_time": "2022-12-13T22:37:21.234Z"
   },
   {
    "duration": 11,
    "start_time": "2022-12-13T22:37:57.802Z"
   },
   {
    "duration": 3,
    "start_time": "2022-12-13T22:39:50.854Z"
   },
   {
    "duration": 13,
    "start_time": "2022-12-13T22:39:52.396Z"
   },
   {
    "duration": 22,
    "start_time": "2022-12-13T22:40:13.727Z"
   },
   {
    "duration": 4,
    "start_time": "2022-12-13T22:40:24.245Z"
   },
   {
    "duration": 74,
    "start_time": "2022-12-13T22:40:25.308Z"
   },
   {
    "duration": 52,
    "start_time": "2022-12-13T22:40:47.524Z"
   },
   {
    "duration": 6,
    "start_time": "2022-12-13T22:40:50.067Z"
   },
   {
    "duration": 22,
    "start_time": "2022-12-13T22:40:58.152Z"
   },
   {
    "duration": 3,
    "start_time": "2022-12-13T22:43:14.696Z"
   },
   {
    "duration": 16,
    "start_time": "2022-12-13T22:43:38.960Z"
   },
   {
    "duration": 4,
    "start_time": "2022-12-13T22:44:39.236Z"
   },
   {
    "duration": 56,
    "start_time": "2022-12-13T22:44:40.009Z"
   },
   {
    "duration": 49,
    "start_time": "2022-12-13T22:44:57.540Z"
   },
   {
    "duration": 46,
    "start_time": "2022-12-13T22:45:29.496Z"
   },
   {
    "duration": 5,
    "start_time": "2022-12-13T22:45:31.414Z"
   },
   {
    "duration": 3,
    "start_time": "2022-12-13T22:45:37.002Z"
   },
   {
    "duration": 18,
    "start_time": "2022-12-13T22:45:37.340Z"
   },
   {
    "duration": 43,
    "start_time": "2022-12-13T22:50:51.805Z"
   },
   {
    "duration": 26,
    "start_time": "2022-12-13T22:51:23.026Z"
   },
   {
    "duration": 27,
    "start_time": "2022-12-13T22:51:39.545Z"
   },
   {
    "duration": 20,
    "start_time": "2022-12-13T22:51:41.729Z"
   },
   {
    "duration": 21,
    "start_time": "2022-12-13T22:52:34.042Z"
   },
   {
    "duration": 23,
    "start_time": "2022-12-13T22:53:19.404Z"
   },
   {
    "duration": 24,
    "start_time": "2022-12-13T22:54:05.107Z"
   },
   {
    "duration": 5,
    "start_time": "2022-12-13T22:54:09.680Z"
   },
   {
    "duration": 3,
    "start_time": "2022-12-13T22:54:19.695Z"
   },
   {
    "duration": 18,
    "start_time": "2022-12-13T22:54:21.433Z"
   },
   {
    "duration": 14,
    "start_time": "2022-12-13T22:54:45.021Z"
   },
   {
    "duration": 14,
    "start_time": "2022-12-13T22:55:15.515Z"
   },
   {
    "duration": 4,
    "start_time": "2022-12-13T22:55:33.469Z"
   },
   {
    "duration": 16,
    "start_time": "2022-12-13T22:55:36.446Z"
   },
   {
    "duration": 10,
    "start_time": "2022-12-13T23:03:43.074Z"
   },
   {
    "duration": 16,
    "start_time": "2022-12-13T23:04:48.064Z"
   },
   {
    "duration": 3,
    "start_time": "2022-12-13T23:05:01.623Z"
   },
   {
    "duration": 3,
    "start_time": "2022-12-13T23:05:05.146Z"
   },
   {
    "duration": 18,
    "start_time": "2022-12-13T23:05:10.409Z"
   },
   {
    "duration": 17,
    "start_time": "2022-12-13T23:05:11.112Z"
   },
   {
    "duration": 17,
    "start_time": "2022-12-13T23:05:12.894Z"
   },
   {
    "duration": 4,
    "start_time": "2022-12-13T23:05:14.787Z"
   },
   {
    "duration": 4,
    "start_time": "2022-12-13T23:05:19.880Z"
   },
   {
    "duration": 18,
    "start_time": "2022-12-13T23:05:21.053Z"
   },
   {
    "duration": 3,
    "start_time": "2022-12-13T23:11:59.312Z"
   },
   {
    "duration": 5,
    "start_time": "2022-12-13T23:12:41.062Z"
   },
   {
    "duration": 5,
    "start_time": "2022-12-13T23:13:07.470Z"
   },
   {
    "duration": 13,
    "start_time": "2022-12-13T23:13:45.723Z"
   },
   {
    "duration": 4,
    "start_time": "2022-12-13T23:13:51.162Z"
   },
   {
    "duration": 18,
    "start_time": "2022-12-13T23:13:52.255Z"
   },
   {
    "duration": 19,
    "start_time": "2022-12-13T23:13:56.550Z"
   },
   {
    "duration": 16,
    "start_time": "2022-12-13T23:13:57.256Z"
   },
   {
    "duration": 5,
    "start_time": "2022-12-13T23:13:57.944Z"
   },
   {
    "duration": 5,
    "start_time": "2022-12-13T23:14:02.130Z"
   },
   {
    "duration": 4,
    "start_time": "2022-12-13T23:18:33.529Z"
   },
   {
    "duration": 5,
    "start_time": "2022-12-13T23:18:41.213Z"
   },
   {
    "duration": 7,
    "start_time": "2022-12-13T23:19:40.077Z"
   },
   {
    "duration": 1099,
    "start_time": "2022-12-14T21:37:20.608Z"
   },
   {
    "duration": 1671,
    "start_time": "2022-12-14T21:37:21.709Z"
   },
   {
    "duration": 35,
    "start_time": "2022-12-14T21:37:23.381Z"
   },
   {
    "duration": 32,
    "start_time": "2022-12-14T21:37:23.419Z"
   },
   {
    "duration": 145,
    "start_time": "2022-12-14T21:37:23.453Z"
   },
   {
    "duration": 60,
    "start_time": "2022-12-14T21:37:23.600Z"
   },
   {
    "duration": 8,
    "start_time": "2022-12-14T21:37:23.661Z"
   },
   {
    "duration": 22,
    "start_time": "2022-12-14T21:37:23.671Z"
   },
   {
    "duration": 3,
    "start_time": "2022-12-14T21:37:23.695Z"
   },
   {
    "duration": 39,
    "start_time": "2022-12-14T21:37:23.700Z"
   },
   {
    "duration": 182,
    "start_time": "2022-12-14T21:37:23.740Z"
   },
   {
    "duration": 126,
    "start_time": "2022-12-14T21:37:23.924Z"
   },
   {
    "duration": 173,
    "start_time": "2022-12-14T21:37:24.052Z"
   },
   {
    "duration": 19,
    "start_time": "2022-12-14T21:37:24.230Z"
   },
   {
    "duration": 10,
    "start_time": "2022-12-14T21:37:24.252Z"
   },
   {
    "duration": 11,
    "start_time": "2022-12-14T21:37:24.265Z"
   },
   {
    "duration": 93,
    "start_time": "2022-12-14T21:56:30.673Z"
   },
   {
    "duration": 3,
    "start_time": "2022-12-14T21:56:36.982Z"
   },
   {
    "duration": 3,
    "start_time": "2022-12-14T21:56:37.842Z"
   },
   {
    "duration": 7,
    "start_time": "2022-12-14T22:08:40.249Z"
   },
   {
    "duration": 4,
    "start_time": "2022-12-14T22:40:15.843Z"
   },
   {
    "duration": 7,
    "start_time": "2022-12-14T22:45:20.623Z"
   },
   {
    "duration": 10,
    "start_time": "2022-12-14T22:46:30.876Z"
   },
   {
    "duration": 3,
    "start_time": "2022-12-14T22:48:38.005Z"
   },
   {
    "duration": 11,
    "start_time": "2022-12-14T22:48:39.553Z"
   },
   {
    "duration": 3,
    "start_time": "2022-12-14T22:49:56.032Z"
   },
   {
    "duration": 21,
    "start_time": "2022-12-14T22:49:57.009Z"
   },
   {
    "duration": 8,
    "start_time": "2022-12-14T22:50:10.947Z"
   },
   {
    "duration": 3,
    "start_time": "2022-12-14T22:50:16.931Z"
   },
   {
    "duration": 19,
    "start_time": "2022-12-14T22:50:17.759Z"
   },
   {
    "duration": 3,
    "start_time": "2022-12-14T22:50:36.149Z"
   },
   {
    "duration": 20,
    "start_time": "2022-12-14T22:50:42.138Z"
   },
   {
    "duration": 3,
    "start_time": "2022-12-14T22:53:00.502Z"
   },
   {
    "duration": 8,
    "start_time": "2022-12-14T22:53:01.361Z"
   },
   {
    "duration": 19,
    "start_time": "2022-12-14T22:53:10.843Z"
   },
   {
    "duration": 3,
    "start_time": "2022-12-14T22:53:32.453Z"
   },
   {
    "duration": 14,
    "start_time": "2022-12-14T22:53:33.197Z"
   },
   {
    "duration": 3,
    "start_time": "2022-12-14T22:53:44.594Z"
   },
   {
    "duration": 8,
    "start_time": "2022-12-14T22:53:45.305Z"
   },
   {
    "duration": 15,
    "start_time": "2022-12-14T22:54:33.946Z"
   },
   {
    "duration": 4,
    "start_time": "2022-12-14T23:00:18.348Z"
   },
   {
    "duration": 3,
    "start_time": "2022-12-14T23:03:49.404Z"
   },
   {
    "duration": 8,
    "start_time": "2022-12-14T23:04:50.543Z"
   },
   {
    "duration": 11,
    "start_time": "2022-12-14T23:05:00.148Z"
   },
   {
    "duration": 13,
    "start_time": "2022-12-14T23:09:28.850Z"
   },
   {
    "duration": 4,
    "start_time": "2022-12-14T23:14:44.824Z"
   },
   {
    "duration": 10,
    "start_time": "2022-12-14T23:14:50.162Z"
   },
   {
    "duration": 4,
    "start_time": "2022-12-14T23:16:02.616Z"
   },
   {
    "duration": 12,
    "start_time": "2022-12-14T23:16:04.650Z"
   },
   {
    "duration": 4,
    "start_time": "2022-12-14T23:16:18.203Z"
   },
   {
    "duration": 12,
    "start_time": "2022-12-14T23:16:18.915Z"
   },
   {
    "duration": 4,
    "start_time": "2022-12-14T23:16:34.624Z"
   },
   {
    "duration": 11,
    "start_time": "2022-12-14T23:16:35.413Z"
   },
   {
    "duration": 4,
    "start_time": "2022-12-14T23:17:21.158Z"
   },
   {
    "duration": 12,
    "start_time": "2022-12-14T23:17:22.824Z"
   },
   {
    "duration": 4,
    "start_time": "2022-12-14T23:18:39.102Z"
   },
   {
    "duration": 7,
    "start_time": "2022-12-14T23:18:40.297Z"
   },
   {
    "duration": 12,
    "start_time": "2022-12-14T23:18:48.907Z"
   },
   {
    "duration": 1105,
    "start_time": "2022-12-15T07:32:34.398Z"
   },
   {
    "duration": 1682,
    "start_time": "2022-12-15T07:32:35.505Z"
   },
   {
    "duration": 50,
    "start_time": "2022-12-15T07:32:37.189Z"
   },
   {
    "duration": 25,
    "start_time": "2022-12-15T07:32:37.241Z"
   },
   {
    "duration": 176,
    "start_time": "2022-12-15T07:32:37.267Z"
   },
   {
    "duration": 37,
    "start_time": "2022-12-15T07:32:37.444Z"
   },
   {
    "duration": 39,
    "start_time": "2022-12-15T07:32:37.482Z"
   },
   {
    "duration": 104,
    "start_time": "2022-12-15T07:32:37.524Z"
   },
   {
    "duration": 3,
    "start_time": "2022-12-15T07:32:37.630Z"
   },
   {
    "duration": 26,
    "start_time": "2022-12-15T07:32:37.636Z"
   },
   {
    "duration": 114,
    "start_time": "2022-12-15T07:32:37.704Z"
   },
   {
    "duration": 190,
    "start_time": "2022-12-15T07:32:37.820Z"
   },
   {
    "duration": 92,
    "start_time": "2022-12-15T07:32:38.012Z"
   },
   {
    "duration": 98,
    "start_time": "2022-12-15T07:32:38.107Z"
   },
   {
    "duration": 9,
    "start_time": "2022-12-15T07:32:38.207Z"
   },
   {
    "duration": 8,
    "start_time": "2022-12-15T07:32:38.217Z"
   },
   {
    "duration": 10,
    "start_time": "2022-12-15T07:32:38.227Z"
   },
   {
    "duration": 13,
    "start_time": "2022-12-15T07:32:38.239Z"
   },
   {
    "duration": 10,
    "start_time": "2022-12-15T07:32:38.254Z"
   },
   {
    "duration": 11,
    "start_time": "2022-12-15T07:32:38.266Z"
   },
   {
    "duration": 31,
    "start_time": "2022-12-15T07:32:38.279Z"
   },
   {
    "duration": 5,
    "start_time": "2022-12-15T07:32:38.312Z"
   },
   {
    "duration": 120,
    "start_time": "2022-12-15T07:32:38.318Z"
   },
   {
    "duration": 0,
    "start_time": "2022-12-15T07:32:38.441Z"
   },
   {
    "duration": 4,
    "start_time": "2022-12-15T07:35:43.015Z"
   },
   {
    "duration": 12,
    "start_time": "2022-12-15T07:35:45.099Z"
   },
   {
    "duration": 12,
    "start_time": "2022-12-15T07:35:54.236Z"
   },
   {
    "duration": 4,
    "start_time": "2022-12-15T07:39:30.892Z"
   },
   {
    "duration": 15,
    "start_time": "2022-12-15T07:39:33.385Z"
   },
   {
    "duration": 5,
    "start_time": "2022-12-15T07:39:51.465Z"
   },
   {
    "duration": 14,
    "start_time": "2022-12-15T07:39:53.423Z"
   },
   {
    "duration": 4,
    "start_time": "2022-12-15T07:42:57.842Z"
   },
   {
    "duration": 13,
    "start_time": "2022-12-15T07:42:58.666Z"
   },
   {
    "duration": 3,
    "start_time": "2022-12-15T07:43:21.691Z"
   },
   {
    "duration": 13,
    "start_time": "2022-12-15T07:43:26.817Z"
   },
   {
    "duration": 3,
    "start_time": "2022-12-15T07:44:21.026Z"
   },
   {
    "duration": 12,
    "start_time": "2022-12-15T07:44:21.735Z"
   },
   {
    "duration": 12,
    "start_time": "2022-12-15T07:46:12.892Z"
   },
   {
    "duration": 4,
    "start_time": "2022-12-15T07:57:20.230Z"
   },
   {
    "duration": 11,
    "start_time": "2022-12-15T07:57:21.882Z"
   },
   {
    "duration": 3,
    "start_time": "2022-12-15T07:59:15.844Z"
   },
   {
    "duration": 8,
    "start_time": "2022-12-15T07:59:16.641Z"
   },
   {
    "duration": 18,
    "start_time": "2022-12-15T07:59:34.017Z"
   },
   {
    "duration": 20,
    "start_time": "2022-12-15T08:00:01.262Z"
   },
   {
    "duration": 19,
    "start_time": "2022-12-15T08:00:09.854Z"
   },
   {
    "duration": 5,
    "start_time": "2022-12-15T08:00:24.618Z"
   },
   {
    "duration": 15,
    "start_time": "2022-12-15T08:00:25.508Z"
   },
   {
    "duration": 4,
    "start_time": "2022-12-15T08:00:50.899Z"
   },
   {
    "duration": 11,
    "start_time": "2022-12-15T08:00:51.661Z"
   },
   {
    "duration": 5,
    "start_time": "2022-12-15T08:01:08.522Z"
   },
   {
    "duration": 11,
    "start_time": "2022-12-15T08:01:09.465Z"
   },
   {
    "duration": 3,
    "start_time": "2022-12-15T08:02:46.840Z"
   },
   {
    "duration": 4,
    "start_time": "2022-12-15T08:03:51.582Z"
   },
   {
    "duration": 13,
    "start_time": "2022-12-15T08:03:52.321Z"
   },
   {
    "duration": 4,
    "start_time": "2022-12-15T08:05:38.767Z"
   },
   {
    "duration": 11,
    "start_time": "2022-12-15T08:05:39.657Z"
   },
   {
    "duration": 4,
    "start_time": "2022-12-15T08:06:53.102Z"
   },
   {
    "duration": 18,
    "start_time": "2022-12-15T08:06:53.797Z"
   },
   {
    "duration": 9,
    "start_time": "2022-12-15T08:10:21.696Z"
   },
   {
    "duration": 4,
    "start_time": "2022-12-15T08:10:27.306Z"
   },
   {
    "duration": 3,
    "start_time": "2022-12-15T08:10:36.143Z"
   },
   {
    "duration": 26,
    "start_time": "2022-12-15T08:12:03.044Z"
   },
   {
    "duration": 3,
    "start_time": "2022-12-15T08:13:11.185Z"
   },
   {
    "duration": 22,
    "start_time": "2022-12-15T08:13:12.020Z"
   },
   {
    "duration": 18,
    "start_time": "2022-12-15T08:14:19.363Z"
   },
   {
    "duration": 20,
    "start_time": "2022-12-15T08:14:36.269Z"
   },
   {
    "duration": 2,
    "start_time": "2022-12-15T08:23:58.963Z"
   },
   {
    "duration": 3,
    "start_time": "2022-12-15T08:23:59.655Z"
   },
   {
    "duration": 18,
    "start_time": "2022-12-15T08:24:00.441Z"
   },
   {
    "duration": 4,
    "start_time": "2022-12-15T08:24:06.348Z"
   },
   {
    "duration": 22,
    "start_time": "2022-12-15T08:24:08.591Z"
   },
   {
    "duration": 19,
    "start_time": "2022-12-15T08:24:22.487Z"
   },
   {
    "duration": 5,
    "start_time": "2022-12-15T08:33:18.406Z"
   },
   {
    "duration": 19,
    "start_time": "2022-12-15T08:33:19.478Z"
   },
   {
    "duration": 3,
    "start_time": "2022-12-15T08:33:57.886Z"
   },
   {
    "duration": 11,
    "start_time": "2022-12-15T08:33:58.762Z"
   },
   {
    "duration": 45,
    "start_time": "2022-12-15T08:40:47.165Z"
   },
   {
    "duration": 21,
    "start_time": "2022-12-15T08:41:51.801Z"
   },
   {
    "duration": 93,
    "start_time": "2022-12-15T08:53:21.916Z"
   },
   {
    "duration": 88,
    "start_time": "2022-12-15T08:53:28.116Z"
   },
   {
    "duration": 22,
    "start_time": "2022-12-15T08:53:40.982Z"
   },
   {
    "duration": 19,
    "start_time": "2022-12-15T08:54:09.786Z"
   },
   {
    "duration": 20,
    "start_time": "2022-12-15T08:56:29.886Z"
   },
   {
    "duration": 20,
    "start_time": "2022-12-15T08:56:37.522Z"
   },
   {
    "duration": 18,
    "start_time": "2022-12-15T08:57:11.547Z"
   },
   {
    "duration": 11,
    "start_time": "2022-12-15T08:57:38.446Z"
   },
   {
    "duration": 20,
    "start_time": "2022-12-15T08:57:58.207Z"
   },
   {
    "duration": 5,
    "start_time": "2022-12-15T08:58:07.915Z"
   },
   {
    "duration": 4,
    "start_time": "2022-12-15T08:58:19.599Z"
   },
   {
    "duration": 4,
    "start_time": "2022-12-15T08:58:25.881Z"
   },
   {
    "duration": 2,
    "start_time": "2022-12-15T08:58:34.597Z"
   },
   {
    "duration": 3,
    "start_time": "2022-12-15T08:58:35.413Z"
   },
   {
    "duration": 6,
    "start_time": "2022-12-15T08:58:39.298Z"
   },
   {
    "duration": 3,
    "start_time": "2022-12-15T08:58:52.130Z"
   },
   {
    "duration": 21,
    "start_time": "2022-12-15T08:59:44.294Z"
   },
   {
    "duration": 4,
    "start_time": "2022-12-15T09:02:55.807Z"
   },
   {
    "duration": 18,
    "start_time": "2022-12-15T09:02:56.804Z"
   },
   {
    "duration": 4,
    "start_time": "2022-12-15T09:03:15.587Z"
   },
   {
    "duration": 15,
    "start_time": "2022-12-15T09:03:22.861Z"
   },
   {
    "duration": 3,
    "start_time": "2022-12-15T09:04:14.462Z"
   },
   {
    "duration": 909,
    "start_time": "2022-12-15T09:04:15.209Z"
   },
   {
    "duration": 914,
    "start_time": "2022-12-15T09:04:18.386Z"
   },
   {
    "duration": 2714,
    "start_time": "2022-12-15T09:05:16.406Z"
   },
   {
    "duration": 4,
    "start_time": "2022-12-15T09:05:30.518Z"
   },
   {
    "duration": 2545,
    "start_time": "2022-12-15T09:05:31.210Z"
   },
   {
    "duration": 2609,
    "start_time": "2022-12-15T09:10:12.962Z"
   },
   {
    "duration": 2749,
    "start_time": "2022-12-15T09:11:33.247Z"
   },
   {
    "duration": 2695,
    "start_time": "2022-12-15T09:12:36.118Z"
   },
   {
    "duration": 8,
    "start_time": "2022-12-15T09:47:28.804Z"
   },
   {
    "duration": 40,
    "start_time": "2022-12-15T09:50:06.106Z"
   },
   {
    "duration": 1020,
    "start_time": "2022-12-15T09:50:18.449Z"
   },
   {
    "duration": 660,
    "start_time": "2022-12-15T09:50:19.470Z"
   },
   {
    "duration": 35,
    "start_time": "2022-12-15T09:50:20.132Z"
   },
   {
    "duration": 25,
    "start_time": "2022-12-15T09:50:20.169Z"
   },
   {
    "duration": 131,
    "start_time": "2022-12-15T09:50:20.199Z"
   },
   {
    "duration": 41,
    "start_time": "2022-12-15T09:50:20.331Z"
   },
   {
    "duration": 27,
    "start_time": "2022-12-15T09:50:20.374Z"
   },
   {
    "duration": 38,
    "start_time": "2022-12-15T09:50:20.402Z"
   },
   {
    "duration": 3,
    "start_time": "2022-12-15T09:50:20.442Z"
   },
   {
    "duration": 29,
    "start_time": "2022-12-15T09:50:20.447Z"
   },
   {
    "duration": 109,
    "start_time": "2022-12-15T09:50:20.502Z"
   },
   {
    "duration": 202,
    "start_time": "2022-12-15T09:50:20.614Z"
   },
   {
    "duration": 107,
    "start_time": "2022-12-15T09:50:20.898Z"
   },
   {
    "duration": 10,
    "start_time": "2022-12-15T09:50:21.009Z"
   },
   {
    "duration": 4,
    "start_time": "2022-12-15T09:50:21.021Z"
   },
   {
    "duration": 8,
    "start_time": "2022-12-15T09:50:21.026Z"
   },
   {
    "duration": 3,
    "start_time": "2022-12-15T09:50:21.036Z"
   },
   {
    "duration": 6,
    "start_time": "2022-12-15T09:50:21.041Z"
   },
   {
    "duration": 11,
    "start_time": "2022-12-15T09:50:21.048Z"
   },
   {
    "duration": 4,
    "start_time": "2022-12-15T09:50:21.060Z"
   },
   {
    "duration": 18,
    "start_time": "2022-12-15T09:50:21.065Z"
   },
   {
    "duration": 13,
    "start_time": "2022-12-15T09:50:21.096Z"
   },
   {
    "duration": 2402,
    "start_time": "2022-12-15T09:50:21.111Z"
   },
   {
    "duration": 3,
    "start_time": "2022-12-15T09:50:23.514Z"
   },
   {
    "duration": 110,
    "start_time": "2022-12-15T09:50:23.519Z"
   },
   {
    "duration": 0,
    "start_time": "2022-12-15T09:50:23.631Z"
   },
   {
    "duration": 0,
    "start_time": "2022-12-15T09:50:23.632Z"
   },
   {
    "duration": 4,
    "start_time": "2022-12-15T09:51:10.359Z"
   },
   {
    "duration": 3,
    "start_time": "2022-12-15T09:51:17.223Z"
   },
   {
    "duration": 7,
    "start_time": "2022-12-15T09:51:18.009Z"
   },
   {
    "duration": 6,
    "start_time": "2022-12-15T09:51:21.728Z"
   },
   {
    "duration": 7,
    "start_time": "2022-12-15T09:51:23.647Z"
   }
  ],
  "kernelspec": {
   "display_name": "Python 3 (ipykernel)",
   "language": "python",
   "name": "python3"
  },
  "language_info": {
   "codemirror_mode": {
    "name": "ipython",
    "version": 3
   },
   "file_extension": ".py",
   "mimetype": "text/x-python",
   "name": "python",
   "nbconvert_exporter": "python",
   "pygments_lexer": "ipython3",
   "version": "3.10.9"
  },
  "toc": {
   "base_numbering": 1,
   "nav_menu": {},
   "number_sections": true,
   "sideBar": true,
   "skip_h1_title": true,
   "title_cell": "Table of Contents",
   "title_sidebar": "Contents",
   "toc_cell": false,
   "toc_position": {},
   "toc_section_display": true,
   "toc_window_display": false
  }
 },
 "nbformat": 4,
 "nbformat_minor": 4
}
