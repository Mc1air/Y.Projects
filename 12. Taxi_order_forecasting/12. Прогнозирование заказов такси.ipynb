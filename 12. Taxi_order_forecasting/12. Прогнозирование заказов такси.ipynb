{
  "metadata": {
    "ExecuteTimeLog": [
      {
        "duration": 1698,
        "start_time": "2023-02-14T14:42:57.508Z"
      },
      {
        "duration": 139,
        "start_time": "2023-02-14T14:44:06.321Z"
      },
      {
        "duration": 43,
        "start_time": "2023-02-14T15:02:56.136Z"
      },
      {
        "duration": 10,
        "start_time": "2023-02-14T15:02:56.749Z"
      },
      {
        "duration": 13,
        "start_time": "2023-02-14T15:03:17.826Z"
      },
      {
        "duration": 4,
        "start_time": "2023-02-14T15:04:41.102Z"
      },
      {
        "duration": 4,
        "start_time": "2023-02-14T15:05:01.157Z"
      },
      {
        "duration": 15,
        "start_time": "2023-02-14T15:06:42.140Z"
      },
      {
        "duration": 3,
        "start_time": "2023-02-14T15:10:25.704Z"
      },
      {
        "duration": 145,
        "start_time": "2023-02-14T15:56:29.463Z"
      },
      {
        "duration": 14,
        "start_time": "2023-02-14T15:57:40.484Z"
      },
      {
        "duration": 88,
        "start_time": "2023-02-14T15:58:15.439Z"
      },
      {
        "duration": 48,
        "start_time": "2023-02-14T15:58:18.043Z"
      },
      {
        "duration": 9,
        "start_time": "2023-02-14T15:58:18.550Z"
      },
      {
        "duration": 7,
        "start_time": "2023-02-14T15:58:19.449Z"
      },
      {
        "duration": 4,
        "start_time": "2023-02-14T15:58:20.206Z"
      },
      {
        "duration": 5,
        "start_time": "2023-02-14T15:58:20.934Z"
      },
      {
        "duration": 14,
        "start_time": "2023-02-14T15:58:21.604Z"
      },
      {
        "duration": 16,
        "start_time": "2023-02-14T15:58:27.658Z"
      },
      {
        "duration": 13,
        "start_time": "2023-02-14T15:59:59.968Z"
      },
      {
        "duration": 15,
        "start_time": "2023-02-14T16:01:25.250Z"
      },
      {
        "duration": 12,
        "start_time": "2023-02-14T16:01:43.659Z"
      },
      {
        "duration": 13,
        "start_time": "2023-02-14T16:04:04.444Z"
      },
      {
        "duration": 13,
        "start_time": "2023-02-14T16:04:30.925Z"
      },
      {
        "duration": 126,
        "start_time": "2023-02-14T16:04:45.615Z"
      },
      {
        "duration": 12,
        "start_time": "2023-02-14T16:05:04.566Z"
      },
      {
        "duration": 9,
        "start_time": "2023-02-14T16:07:09.222Z"
      },
      {
        "duration": 947,
        "start_time": "2023-02-14T16:08:17.687Z"
      },
      {
        "duration": 32,
        "start_time": "2023-02-14T16:08:23.865Z"
      },
      {
        "duration": 10,
        "start_time": "2023-02-14T16:08:32.930Z"
      },
      {
        "duration": 12,
        "start_time": "2023-02-14T16:08:39.743Z"
      },
      {
        "duration": 12,
        "start_time": "2023-02-14T16:08:47.172Z"
      },
      {
        "duration": 13,
        "start_time": "2023-02-14T16:08:51.619Z"
      },
      {
        "duration": 20,
        "start_time": "2023-02-14T16:09:02.970Z"
      },
      {
        "duration": 15,
        "start_time": "2023-02-14T16:13:08.778Z"
      },
      {
        "duration": 1959,
        "start_time": "2023-02-15T14:37:54.408Z"
      },
      {
        "duration": 219,
        "start_time": "2023-02-15T14:37:56.369Z"
      },
      {
        "duration": 10,
        "start_time": "2023-02-15T14:37:56.590Z"
      },
      {
        "duration": 9,
        "start_time": "2023-02-15T14:37:57.647Z"
      },
      {
        "duration": 3,
        "start_time": "2023-02-15T14:37:59.912Z"
      },
      {
        "duration": 4,
        "start_time": "2023-02-15T14:38:00.544Z"
      },
      {
        "duration": 15,
        "start_time": "2023-02-15T14:38:01.232Z"
      },
      {
        "duration": 137,
        "start_time": "2023-02-15T14:38:04.414Z"
      },
      {
        "duration": 14,
        "start_time": "2023-02-15T17:23:57.684Z"
      },
      {
        "duration": 14,
        "start_time": "2023-02-15T17:24:00.224Z"
      },
      {
        "duration": 2903,
        "start_time": "2023-02-16T21:18:24.020Z"
      },
      {
        "duration": 137,
        "start_time": "2023-02-16T21:18:26.925Z"
      },
      {
        "duration": 12,
        "start_time": "2023-02-16T21:18:27.064Z"
      },
      {
        "duration": 11,
        "start_time": "2023-02-16T21:18:27.078Z"
      },
      {
        "duration": 3,
        "start_time": "2023-02-16T21:18:28.061Z"
      },
      {
        "duration": 4,
        "start_time": "2023-02-16T21:18:29.154Z"
      },
      {
        "duration": 17,
        "start_time": "2023-02-16T21:18:30.174Z"
      },
      {
        "duration": 162,
        "start_time": "2023-02-16T21:18:34.484Z"
      },
      {
        "duration": 6,
        "start_time": "2023-02-16T21:28:34.032Z"
      },
      {
        "duration": 7,
        "start_time": "2023-02-16T21:28:37.189Z"
      },
      {
        "duration": 12,
        "start_time": "2023-02-16T21:28:42.907Z"
      },
      {
        "duration": 945,
        "start_time": "2023-02-16T21:28:53.152Z"
      },
      {
        "duration": 3,
        "start_time": "2023-02-16T21:44:48.477Z"
      },
      {
        "duration": 13,
        "start_time": "2023-02-16T21:44:49.257Z"
      },
      {
        "duration": 10,
        "start_time": "2023-02-16T21:44:56.635Z"
      },
      {
        "duration": 1747,
        "start_time": "2023-02-16T21:45:09.389Z"
      },
      {
        "duration": 48,
        "start_time": "2023-02-16T21:45:11.137Z"
      },
      {
        "duration": 11,
        "start_time": "2023-02-16T21:45:11.187Z"
      },
      {
        "duration": 11,
        "start_time": "2023-02-16T21:45:11.199Z"
      },
      {
        "duration": 4,
        "start_time": "2023-02-16T21:45:11.212Z"
      },
      {
        "duration": 147,
        "start_time": "2023-02-16T21:45:11.218Z"
      },
      {
        "duration": 0,
        "start_time": "2023-02-16T21:45:11.367Z"
      },
      {
        "duration": 0,
        "start_time": "2023-02-16T21:45:11.369Z"
      },
      {
        "duration": 0,
        "start_time": "2023-02-16T21:45:11.370Z"
      },
      {
        "duration": 0,
        "start_time": "2023-02-16T21:45:11.371Z"
      },
      {
        "duration": 0,
        "start_time": "2023-02-16T21:45:11.372Z"
      },
      {
        "duration": 0,
        "start_time": "2023-02-16T21:45:11.373Z"
      },
      {
        "duration": 0,
        "start_time": "2023-02-16T21:45:11.375Z"
      },
      {
        "duration": 0,
        "start_time": "2023-02-16T21:45:11.376Z"
      },
      {
        "duration": 0,
        "start_time": "2023-02-16T21:45:11.392Z"
      },
      {
        "duration": 0,
        "start_time": "2023-02-16T21:45:11.393Z"
      },
      {
        "duration": 0,
        "start_time": "2023-02-16T21:45:11.394Z"
      },
      {
        "duration": 0,
        "start_time": "2023-02-16T21:45:11.395Z"
      },
      {
        "duration": 0,
        "start_time": "2023-02-16T21:45:11.396Z"
      },
      {
        "duration": 0,
        "start_time": "2023-02-16T21:45:11.397Z"
      },
      {
        "duration": 0,
        "start_time": "2023-02-16T21:45:11.399Z"
      },
      {
        "duration": 0,
        "start_time": "2023-02-16T21:45:11.400Z"
      },
      {
        "duration": 12,
        "start_time": "2023-02-16T21:46:06.005Z"
      },
      {
        "duration": 12,
        "start_time": "2023-02-16T21:46:30.509Z"
      },
      {
        "duration": 1762,
        "start_time": "2023-02-16T21:46:39.095Z"
      },
      {
        "duration": 47,
        "start_time": "2023-02-16T21:46:40.859Z"
      },
      {
        "duration": 11,
        "start_time": "2023-02-16T21:46:40.908Z"
      },
      {
        "duration": 13,
        "start_time": "2023-02-16T21:46:40.921Z"
      },
      {
        "duration": 27,
        "start_time": "2023-02-16T21:46:40.935Z"
      },
      {
        "duration": 8,
        "start_time": "2023-02-16T21:46:40.965Z"
      },
      {
        "duration": 18,
        "start_time": "2023-02-16T21:46:40.974Z"
      },
      {
        "duration": 903,
        "start_time": "2023-02-16T21:46:40.994Z"
      },
      {
        "duration": 4,
        "start_time": "2023-02-16T21:46:41.899Z"
      },
      {
        "duration": 140,
        "start_time": "2023-02-16T21:46:41.906Z"
      },
      {
        "duration": 0,
        "start_time": "2023-02-16T21:46:42.048Z"
      },
      {
        "duration": 0,
        "start_time": "2023-02-16T21:46:42.050Z"
      },
      {
        "duration": 0,
        "start_time": "2023-02-16T21:46:42.051Z"
      },
      {
        "duration": 0,
        "start_time": "2023-02-16T21:46:42.052Z"
      },
      {
        "duration": 0,
        "start_time": "2023-02-16T21:46:42.054Z"
      },
      {
        "duration": 0,
        "start_time": "2023-02-16T21:46:42.056Z"
      },
      {
        "duration": 0,
        "start_time": "2023-02-16T21:46:42.057Z"
      },
      {
        "duration": 0,
        "start_time": "2023-02-16T21:46:42.059Z"
      },
      {
        "duration": 0,
        "start_time": "2023-02-16T21:46:42.060Z"
      },
      {
        "duration": 0,
        "start_time": "2023-02-16T21:46:42.061Z"
      },
      {
        "duration": 1,
        "start_time": "2023-02-16T21:46:42.062Z"
      },
      {
        "duration": 0,
        "start_time": "2023-02-16T21:46:42.064Z"
      },
      {
        "duration": 2571,
        "start_time": "2023-02-17T16:42:31.327Z"
      },
      {
        "duration": 275,
        "start_time": "2023-02-17T16:42:33.899Z"
      },
      {
        "duration": 10,
        "start_time": "2023-02-17T16:42:34.176Z"
      },
      {
        "duration": 11,
        "start_time": "2023-02-17T16:42:36.271Z"
      },
      {
        "duration": 3,
        "start_time": "2023-02-17T16:42:38.328Z"
      },
      {
        "duration": 4,
        "start_time": "2023-02-17T16:42:38.913Z"
      },
      {
        "duration": 16,
        "start_time": "2023-02-17T16:42:39.664Z"
      },
      {
        "duration": 698,
        "start_time": "2023-02-17T16:42:42.609Z"
      },
      {
        "duration": 481,
        "start_time": "2023-02-17T16:45:28.285Z"
      },
      {
        "duration": 490,
        "start_time": "2023-02-17T16:45:41.244Z"
      },
      {
        "duration": 20,
        "start_time": "2023-02-17T16:47:58.508Z"
      },
      {
        "duration": 21,
        "start_time": "2023-02-17T16:48:03.860Z"
      },
      {
        "duration": 20,
        "start_time": "2023-02-17T16:48:18.413Z"
      },
      {
        "duration": 573,
        "start_time": "2023-02-17T16:48:36.981Z"
      },
      {
        "duration": 795,
        "start_time": "2023-02-17T16:50:56.431Z"
      },
      {
        "duration": 145,
        "start_time": "2023-02-17T16:51:08.693Z"
      },
      {
        "duration": 136,
        "start_time": "2023-02-17T16:51:16.502Z"
      },
      {
        "duration": 547,
        "start_time": "2023-02-17T16:52:35.276Z"
      },
      {
        "duration": 840,
        "start_time": "2023-02-17T16:53:01.733Z"
      },
      {
        "duration": 236,
        "start_time": "2023-02-17T16:53:16.663Z"
      },
      {
        "duration": 223,
        "start_time": "2023-02-17T16:53:36.087Z"
      },
      {
        "duration": 235,
        "start_time": "2023-02-17T16:53:43.460Z"
      },
      {
        "duration": 261,
        "start_time": "2023-02-17T16:53:49.661Z"
      },
      {
        "duration": 211,
        "start_time": "2023-02-17T16:53:52.927Z"
      },
      {
        "duration": 168,
        "start_time": "2023-02-17T16:53:57.469Z"
      },
      {
        "duration": 171,
        "start_time": "2023-02-17T16:54:01.799Z"
      },
      {
        "duration": 156,
        "start_time": "2023-02-17T16:54:08.443Z"
      },
      {
        "duration": 172,
        "start_time": "2023-02-17T16:54:13.176Z"
      },
      {
        "duration": 830,
        "start_time": "2023-02-17T16:55:23.732Z"
      },
      {
        "duration": 164,
        "start_time": "2023-02-17T16:55:32.213Z"
      },
      {
        "duration": 4,
        "start_time": "2023-02-17T17:03:14.095Z"
      },
      {
        "duration": 8,
        "start_time": "2023-02-17T17:03:15.319Z"
      },
      {
        "duration": 3,
        "start_time": "2023-02-17T17:03:16.712Z"
      },
      {
        "duration": 5,
        "start_time": "2023-02-17T17:03:19.944Z"
      },
      {
        "duration": 11,
        "start_time": "2023-02-17T17:03:24.269Z"
      },
      {
        "duration": 5,
        "start_time": "2023-02-17T17:05:01.833Z"
      },
      {
        "duration": 10,
        "start_time": "2023-02-17T17:05:22.152Z"
      },
      {
        "duration": 66,
        "start_time": "2023-02-17T17:05:39.729Z"
      },
      {
        "duration": 7,
        "start_time": "2023-02-17T17:06:48.596Z"
      },
      {
        "duration": 4,
        "start_time": "2023-02-17T17:06:49.253Z"
      },
      {
        "duration": 6,
        "start_time": "2023-02-17T17:06:50.803Z"
      },
      {
        "duration": 62,
        "start_time": "2023-02-17T17:06:54.406Z"
      },
      {
        "duration": 9,
        "start_time": "2023-02-18T09:32:33.391Z"
      },
      {
        "duration": 43,
        "start_time": "2023-02-18T09:32:38.351Z"
      },
      {
        "duration": 2066,
        "start_time": "2023-02-18T09:32:55.600Z"
      },
      {
        "duration": 133,
        "start_time": "2023-02-18T09:32:57.669Z"
      },
      {
        "duration": 10,
        "start_time": "2023-02-18T09:32:57.804Z"
      },
      {
        "duration": 13,
        "start_time": "2023-02-18T09:32:57.817Z"
      },
      {
        "duration": 8,
        "start_time": "2023-02-18T09:32:57.831Z"
      },
      {
        "duration": 8,
        "start_time": "2023-02-18T09:32:57.841Z"
      },
      {
        "duration": 19,
        "start_time": "2023-02-18T09:32:57.851Z"
      },
      {
        "duration": 909,
        "start_time": "2023-02-18T09:32:57.871Z"
      },
      {
        "duration": 169,
        "start_time": "2023-02-18T09:32:58.781Z"
      },
      {
        "duration": 4,
        "start_time": "2023-02-18T09:32:58.953Z"
      },
      {
        "duration": 14,
        "start_time": "2023-02-18T09:32:58.958Z"
      },
      {
        "duration": 10,
        "start_time": "2023-02-18T09:32:58.973Z"
      },
      {
        "duration": 18,
        "start_time": "2023-02-18T09:32:58.985Z"
      },
      {
        "duration": 233,
        "start_time": "2023-02-18T09:32:59.005Z"
      },
      {
        "duration": 0,
        "start_time": "2023-02-18T09:32:59.240Z"
      },
      {
        "duration": 0,
        "start_time": "2023-02-18T09:32:59.242Z"
      },
      {
        "duration": 0,
        "start_time": "2023-02-18T09:32:59.243Z"
      },
      {
        "duration": 0,
        "start_time": "2023-02-18T09:32:59.244Z"
      },
      {
        "duration": 0,
        "start_time": "2023-02-18T09:32:59.246Z"
      },
      {
        "duration": 0,
        "start_time": "2023-02-18T09:32:59.247Z"
      },
      {
        "duration": 0,
        "start_time": "2023-02-18T09:32:59.249Z"
      },
      {
        "duration": 0,
        "start_time": "2023-02-18T09:32:59.250Z"
      },
      {
        "duration": 0,
        "start_time": "2023-02-18T09:32:59.251Z"
      },
      {
        "duration": 4,
        "start_time": "2023-02-18T09:33:39.229Z"
      },
      {
        "duration": 8,
        "start_time": "2023-02-18T09:33:40.592Z"
      },
      {
        "duration": 4,
        "start_time": "2023-02-18T09:33:41.342Z"
      },
      {
        "duration": 19,
        "start_time": "2023-02-18T09:35:30.491Z"
      },
      {
        "duration": 20,
        "start_time": "2023-02-18T09:36:08.174Z"
      },
      {
        "duration": 19,
        "start_time": "2023-02-18T09:36:37.339Z"
      },
      {
        "duration": 19,
        "start_time": "2023-02-18T09:39:44.428Z"
      },
      {
        "duration": 45,
        "start_time": "2023-02-18T09:39:54.627Z"
      },
      {
        "duration": 10,
        "start_time": "2023-02-18T09:42:02.144Z"
      },
      {
        "duration": 9,
        "start_time": "2023-02-18T09:43:55.058Z"
      },
      {
        "duration": 11,
        "start_time": "2023-02-18T09:44:00.090Z"
      },
      {
        "duration": 8,
        "start_time": "2023-02-18T09:47:46.653Z"
      },
      {
        "duration": 3,
        "start_time": "2023-02-18T09:47:47.629Z"
      },
      {
        "duration": 4,
        "start_time": "2023-02-18T09:48:31.778Z"
      },
      {
        "duration": 9,
        "start_time": "2023-02-18T09:49:25.271Z"
      },
      {
        "duration": 4,
        "start_time": "2023-02-18T09:49:26.165Z"
      },
      {
        "duration": 7,
        "start_time": "2023-02-18T09:52:42.661Z"
      },
      {
        "duration": 10,
        "start_time": "2023-02-18T09:54:45.353Z"
      },
      {
        "duration": 4,
        "start_time": "2023-02-18T09:54:46.353Z"
      },
      {
        "duration": 7,
        "start_time": "2023-02-18T09:56:01.456Z"
      },
      {
        "duration": 6,
        "start_time": "2023-02-18T09:58:25.926Z"
      },
      {
        "duration": 16,
        "start_time": "2023-02-18T09:58:50.963Z"
      },
      {
        "duration": 15,
        "start_time": "2023-02-18T10:03:58.233Z"
      },
      {
        "duration": 1215,
        "start_time": "2023-02-18T12:33:45.491Z"
      },
      {
        "duration": 26099,
        "start_time": "2023-02-18T12:35:04.774Z"
      },
      {
        "duration": 12,
        "start_time": "2023-02-18T12:39:08.658Z"
      },
      {
        "duration": 4,
        "start_time": "2023-02-18T12:39:59.748Z"
      },
      {
        "duration": 88880,
        "start_time": "2023-02-18T12:40:07.844Z"
      },
      {
        "duration": 976713,
        "start_time": "2023-02-18T13:17:14.692Z"
      },
      {
        "duration": 15,
        "start_time": "2023-02-18T13:45:12.565Z"
      },
      {
        "duration": 31,
        "start_time": "2023-02-18T13:45:39.728Z"
      },
      {
        "duration": 6865,
        "start_time": "2023-02-18T13:45:50.530Z"
      },
      {
        "duration": 9273,
        "start_time": "2023-02-18T13:46:08.730Z"
      },
      {
        "duration": 49483,
        "start_time": "2023-02-18T13:46:36.869Z"
      },
      {
        "duration": 65244,
        "start_time": "2023-02-18T13:47:44.373Z"
      },
      {
        "duration": 19349,
        "start_time": "2023-02-18T13:49:43.740Z"
      },
      {
        "duration": 65623,
        "start_time": "2023-02-18T13:50:27.089Z"
      },
      {
        "duration": 18,
        "start_time": "2023-02-18T14:02:51.399Z"
      },
      {
        "duration": 7,
        "start_time": "2023-02-18T14:11:52.143Z"
      },
      {
        "duration": 429019,
        "start_time": "2023-02-18T14:12:04.927Z"
      },
      {
        "duration": 1617,
        "start_time": "2023-02-18T14:26:45.622Z"
      },
      {
        "duration": 11,
        "start_time": "2023-02-18T14:36:46.778Z"
      },
      {
        "duration": 20417,
        "start_time": "2023-02-18T14:37:52.227Z"
      },
      {
        "duration": 182,
        "start_time": "2023-02-18T14:39:47.457Z"
      },
      {
        "duration": 9,
        "start_time": "2023-02-18T14:39:52.517Z"
      },
      {
        "duration": 204,
        "start_time": "2023-02-18T14:39:54.937Z"
      },
      {
        "duration": 20238,
        "start_time": "2023-02-18T14:40:00.770Z"
      },
      {
        "duration": 63596,
        "start_time": "2023-02-18T14:40:58.919Z"
      },
      {
        "duration": 28347,
        "start_time": "2023-02-18T14:42:13.487Z"
      },
      {
        "duration": 68884,
        "start_time": "2023-02-18T14:43:00.851Z"
      },
      {
        "duration": 155449,
        "start_time": "2023-02-18T14:45:26.596Z"
      },
      {
        "duration": 1330,
        "start_time": "2023-02-18T14:48:26.420Z"
      },
      {
        "duration": 1512,
        "start_time": "2023-02-18T14:48:53.729Z"
      },
      {
        "duration": 1486,
        "start_time": "2023-02-18T14:49:00.160Z"
      },
      {
        "duration": 1914,
        "start_time": "2023-02-18T14:49:06.626Z"
      },
      {
        "duration": 137989,
        "start_time": "2023-02-18T14:49:17.850Z"
      },
      {
        "duration": 11,
        "start_time": "2023-02-18T14:56:33.824Z"
      },
      {
        "duration": 5,
        "start_time": "2023-02-18T14:56:59.349Z"
      },
      {
        "duration": 13,
        "start_time": "2023-02-18T14:57:05.593Z"
      },
      {
        "duration": 28637,
        "start_time": "2023-02-18T14:57:19.612Z"
      },
      {
        "duration": 62361,
        "start_time": "2023-02-18T14:59:03.887Z"
      },
      {
        "duration": 1962,
        "start_time": "2023-02-18T15:00:41.191Z"
      },
      {
        "duration": 25,
        "start_time": "2023-02-18T15:09:58.024Z"
      },
      {
        "duration": 13,
        "start_time": "2023-02-18T15:10:03.664Z"
      },
      {
        "duration": 47080,
        "start_time": "2023-02-18T15:10:23.669Z"
      },
      {
        "duration": 1472,
        "start_time": "2023-02-18T15:11:25.173Z"
      },
      {
        "duration": 31,
        "start_time": "2023-02-18T15:14:39.482Z"
      },
      {
        "duration": 9,
        "start_time": "2023-02-18T15:14:49.451Z"
      },
      {
        "duration": 66,
        "start_time": "2023-02-18T15:17:30.772Z"
      },
      {
        "duration": 1368,
        "start_time": "2023-02-18T15:21:44.628Z"
      },
      {
        "duration": 49,
        "start_time": "2023-02-18T15:21:45.997Z"
      },
      {
        "duration": 13,
        "start_time": "2023-02-18T15:21:46.048Z"
      },
      {
        "duration": 10,
        "start_time": "2023-02-18T15:21:46.064Z"
      },
      {
        "duration": 17,
        "start_time": "2023-02-18T15:21:46.076Z"
      },
      {
        "duration": 12,
        "start_time": "2023-02-18T15:21:46.095Z"
      },
      {
        "duration": 30,
        "start_time": "2023-02-18T15:21:46.108Z"
      },
      {
        "duration": 840,
        "start_time": "2023-02-18T15:21:46.140Z"
      },
      {
        "duration": 245,
        "start_time": "2023-02-18T15:21:46.981Z"
      },
      {
        "duration": 49,
        "start_time": "2023-02-18T15:21:47.228Z"
      },
      {
        "duration": 8,
        "start_time": "2023-02-18T15:21:47.279Z"
      },
      {
        "duration": 8,
        "start_time": "2023-02-18T15:21:47.288Z"
      },
      {
        "duration": 7,
        "start_time": "2023-02-18T15:21:47.297Z"
      },
      {
        "duration": 9,
        "start_time": "2023-02-18T15:21:47.305Z"
      },
      {
        "duration": 201,
        "start_time": "2023-02-18T15:21:47.337Z"
      },
      {
        "duration": 28387,
        "start_time": "2023-02-18T15:21:47.540Z"
      },
      {
        "duration": 68877,
        "start_time": "2023-02-18T15:22:15.929Z"
      },
      {
        "duration": 228733,
        "start_time": "2023-02-18T15:23:24.808Z"
      },
      {
        "duration": 1698,
        "start_time": "2023-02-18T15:27:13.543Z"
      },
      {
        "duration": 101,
        "start_time": "2023-02-18T15:27:15.243Z"
      },
      {
        "duration": 47963,
        "start_time": "2023-02-18T15:27:15.437Z"
      },
      {
        "duration": 1738,
        "start_time": "2023-02-18T15:28:03.402Z"
      },
      {
        "duration": 9,
        "start_time": "2023-02-18T15:28:05.142Z"
      },
      {
        "duration": 1685,
        "start_time": "2023-02-19T21:51:19.913Z"
      },
      {
        "duration": 208,
        "start_time": "2023-02-19T21:51:21.600Z"
      },
      {
        "duration": 10,
        "start_time": "2023-02-19T21:51:21.810Z"
      },
      {
        "duration": 10,
        "start_time": "2023-02-19T21:51:21.821Z"
      },
      {
        "duration": 3,
        "start_time": "2023-02-19T21:51:21.833Z"
      },
      {
        "duration": 5,
        "start_time": "2023-02-19T21:51:21.837Z"
      },
      {
        "duration": 18,
        "start_time": "2023-02-19T21:51:21.844Z"
      },
      {
        "duration": 811,
        "start_time": "2023-02-19T21:51:21.863Z"
      },
      {
        "duration": 218,
        "start_time": "2023-02-19T21:51:22.676Z"
      },
      {
        "duration": 41,
        "start_time": "2023-02-19T21:51:22.896Z"
      },
      {
        "duration": 7,
        "start_time": "2023-02-19T21:51:22.938Z"
      },
      {
        "duration": 19,
        "start_time": "2023-02-19T21:51:22.947Z"
      },
      {
        "duration": 3,
        "start_time": "2023-02-19T21:51:22.968Z"
      },
      {
        "duration": 6,
        "start_time": "2023-02-19T21:51:22.973Z"
      },
      {
        "duration": 88,
        "start_time": "2023-02-19T21:51:22.980Z"
      },
      {
        "duration": 24773,
        "start_time": "2023-02-19T21:51:23.070Z"
      },
      {
        "duration": 59178,
        "start_time": "2023-02-19T21:51:47.844Z"
      },
      {
        "duration": 50444,
        "start_time": "2023-02-19T21:52:47.024Z"
      },
      {
        "duration": 1598,
        "start_time": "2023-02-19T21:53:37.470Z"
      },
      {
        "duration": 192,
        "start_time": "2023-02-19T21:53:39.070Z"
      },
      {
        "duration": 41890,
        "start_time": "2023-02-19T21:53:39.264Z"
      },
      {
        "duration": 1412,
        "start_time": "2023-02-19T21:54:21.156Z"
      },
      {
        "duration": 8,
        "start_time": "2023-02-19T21:54:22.570Z"
      },
      {
        "duration": 47282,
        "start_time": "2023-02-19T21:59:02.687Z"
      },
      {
        "duration": 1036,
        "start_time": "2023-02-19T22:00:07.426Z"
      },
      {
        "duration": 1263,
        "start_time": "2023-02-19T22:00:18.505Z"
      },
      {
        "duration": 1103,
        "start_time": "2023-02-19T22:00:32.662Z"
      },
      {
        "duration": 48744,
        "start_time": "2023-02-19T22:00:46.319Z"
      },
      {
        "duration": 755,
        "start_time": "2023-02-19T22:01:50.216Z"
      },
      {
        "duration": 52849,
        "start_time": "2023-02-19T22:02:18.717Z"
      },
      {
        "duration": 1262,
        "start_time": "2023-02-19T22:04:08.300Z"
      },
      {
        "duration": 4883,
        "start_time": "2023-02-19T22:04:18.486Z"
      },
      {
        "duration": 77,
        "start_time": "2023-02-19T22:06:01.617Z"
      },
      {
        "duration": 26963,
        "start_time": "2023-02-19T22:07:57.308Z"
      },
      {
        "duration": 2120,
        "start_time": "2023-02-19T22:08:33.453Z"
      },
      {
        "duration": 1206,
        "start_time": "2023-02-19T22:08:42.561Z"
      },
      {
        "duration": 974,
        "start_time": "2023-02-19T22:09:02.688Z"
      },
      {
        "duration": 1106,
        "start_time": "2023-02-19T22:09:22.455Z"
      },
      {
        "duration": 51558,
        "start_time": "2023-02-19T22:09:35.218Z"
      },
      {
        "duration": 1035,
        "start_time": "2023-02-19T22:10:40.738Z"
      },
      {
        "duration": 1592,
        "start_time": "2023-02-19T22:10:55.972Z"
      },
      {
        "duration": 85247,
        "start_time": "2023-02-19T22:12:15.322Z"
      },
      {
        "duration": 1280,
        "start_time": "2023-02-19T22:13:51.390Z"
      },
      {
        "duration": 5477,
        "start_time": "2023-02-19T22:14:11.299Z"
      },
      {
        "duration": 112881,
        "start_time": "2023-02-19T22:14:54.784Z"
      },
      {
        "duration": 1414,
        "start_time": "2023-02-19T22:17:00.357Z"
      },
      {
        "duration": 1412,
        "start_time": "2023-02-19T22:17:10.153Z"
      },
      {
        "duration": 1320,
        "start_time": "2023-02-19T22:18:10.852Z"
      },
      {
        "duration": 47,
        "start_time": "2023-02-19T22:18:12.174Z"
      },
      {
        "duration": 9,
        "start_time": "2023-02-19T22:18:12.222Z"
      },
      {
        "duration": 23,
        "start_time": "2023-02-19T22:18:12.233Z"
      },
      {
        "duration": 22,
        "start_time": "2023-02-19T22:18:12.258Z"
      },
      {
        "duration": 28,
        "start_time": "2023-02-19T22:18:12.281Z"
      },
      {
        "duration": 30,
        "start_time": "2023-02-19T22:18:12.311Z"
      },
      {
        "duration": 756,
        "start_time": "2023-02-19T22:18:12.342Z"
      },
      {
        "duration": 214,
        "start_time": "2023-02-19T22:18:13.099Z"
      },
      {
        "duration": 47,
        "start_time": "2023-02-19T22:18:13.315Z"
      },
      {
        "duration": 8,
        "start_time": "2023-02-19T22:18:13.364Z"
      },
      {
        "duration": 22,
        "start_time": "2023-02-19T22:18:13.374Z"
      },
      {
        "duration": 6,
        "start_time": "2023-02-19T22:18:13.398Z"
      },
      {
        "duration": 10,
        "start_time": "2023-02-19T22:18:13.406Z"
      },
      {
        "duration": 148,
        "start_time": "2023-02-19T22:18:13.417Z"
      },
      {
        "duration": 24642,
        "start_time": "2023-02-19T22:18:13.567Z"
      },
      {
        "duration": 59132,
        "start_time": "2023-02-19T22:18:38.210Z"
      },
      {
        "duration": 114633,
        "start_time": "2023-02-19T22:19:37.344Z"
      },
      {
        "duration": 1590,
        "start_time": "2023-02-19T22:21:31.979Z"
      },
      {
        "duration": 2,
        "start_time": "2023-02-19T22:21:33.571Z"
      },
      {
        "duration": 12,
        "start_time": "2023-02-19T22:21:33.574Z"
      },
      {
        "duration": 1685,
        "start_time": "2023-02-19T22:21:33.587Z"
      },
      {
        "duration": 2,
        "start_time": "2023-02-19T22:21:35.274Z"
      },
      {
        "duration": 1682,
        "start_time": "2023-02-20T21:26:50.282Z"
      },
      {
        "duration": 149,
        "start_time": "2023-02-20T21:26:51.966Z"
      },
      {
        "duration": 13,
        "start_time": "2023-02-20T21:26:52.117Z"
      },
      {
        "duration": 10,
        "start_time": "2023-02-20T21:26:52.133Z"
      },
      {
        "duration": 7,
        "start_time": "2023-02-20T21:26:52.145Z"
      },
      {
        "duration": 14,
        "start_time": "2023-02-20T21:26:52.153Z"
      },
      {
        "duration": 46,
        "start_time": "2023-02-20T21:26:52.168Z"
      },
      {
        "duration": 909,
        "start_time": "2023-02-20T21:26:52.216Z"
      },
      {
        "duration": 276,
        "start_time": "2023-02-20T21:26:53.127Z"
      },
      {
        "duration": 46,
        "start_time": "2023-02-20T21:26:53.406Z"
      },
      {
        "duration": 11,
        "start_time": "2023-02-20T21:26:53.454Z"
      },
      {
        "duration": 14,
        "start_time": "2023-02-20T21:26:53.487Z"
      },
      {
        "duration": 15,
        "start_time": "2023-02-20T21:26:53.503Z"
      },
      {
        "duration": 10,
        "start_time": "2023-02-20T21:26:53.520Z"
      },
      {
        "duration": 163,
        "start_time": "2023-02-20T21:26:53.532Z"
      },
      {
        "duration": 28667,
        "start_time": "2023-02-20T21:26:53.697Z"
      },
      {
        "duration": 71664,
        "start_time": "2023-02-20T21:27:22.366Z"
      },
      {
        "duration": 1535,
        "start_time": "2023-02-20T21:50:19.067Z"
      },
      {
        "duration": 45,
        "start_time": "2023-02-20T21:50:20.605Z"
      },
      {
        "duration": 12,
        "start_time": "2023-02-20T21:50:20.652Z"
      },
      {
        "duration": 10,
        "start_time": "2023-02-20T21:50:20.665Z"
      },
      {
        "duration": 7,
        "start_time": "2023-02-20T21:50:20.677Z"
      },
      {
        "duration": 24,
        "start_time": "2023-02-20T21:50:20.692Z"
      },
      {
        "duration": 17,
        "start_time": "2023-02-20T21:50:20.718Z"
      },
      {
        "duration": 943,
        "start_time": "2023-02-20T21:50:20.737Z"
      },
      {
        "duration": 277,
        "start_time": "2023-02-20T21:50:21.682Z"
      },
      {
        "duration": 58,
        "start_time": "2023-02-20T21:50:21.961Z"
      },
      {
        "duration": 9,
        "start_time": "2023-02-20T21:50:22.021Z"
      },
      {
        "duration": 20,
        "start_time": "2023-02-20T21:50:22.032Z"
      },
      {
        "duration": 7,
        "start_time": "2023-02-20T21:50:22.054Z"
      },
      {
        "duration": 32,
        "start_time": "2023-02-20T21:50:22.064Z"
      },
      {
        "duration": 27,
        "start_time": "2023-02-20T21:50:22.100Z"
      },
      {
        "duration": 28747,
        "start_time": "2023-02-20T21:50:22.129Z"
      },
      {
        "duration": 68188,
        "start_time": "2023-02-20T21:50:50.878Z"
      },
      {
        "duration": 1738,
        "start_time": "2023-02-21T07:13:39.579Z"
      },
      {
        "duration": 150,
        "start_time": "2023-02-21T07:13:41.319Z"
      },
      {
        "duration": 12,
        "start_time": "2023-02-21T07:13:41.472Z"
      },
      {
        "duration": 16,
        "start_time": "2023-02-21T07:13:41.486Z"
      },
      {
        "duration": 5,
        "start_time": "2023-02-21T07:13:41.504Z"
      },
      {
        "duration": 17,
        "start_time": "2023-02-21T07:13:41.511Z"
      },
      {
        "duration": 16,
        "start_time": "2023-02-21T07:13:41.530Z"
      },
      {
        "duration": 929,
        "start_time": "2023-02-21T07:13:41.548Z"
      },
      {
        "duration": 194,
        "start_time": "2023-02-21T07:13:42.478Z"
      },
      {
        "duration": 45,
        "start_time": "2023-02-21T07:13:42.678Z"
      },
      {
        "duration": 23,
        "start_time": "2023-02-21T07:13:42.725Z"
      },
      {
        "duration": 14,
        "start_time": "2023-02-21T07:13:42.751Z"
      },
      {
        "duration": 8,
        "start_time": "2023-02-21T07:13:42.768Z"
      },
      {
        "duration": 8,
        "start_time": "2023-02-21T07:13:42.777Z"
      },
      {
        "duration": 66,
        "start_time": "2023-02-21T07:13:42.787Z"
      },
      {
        "duration": 29426,
        "start_time": "2023-02-21T07:13:42.857Z"
      },
      {
        "duration": 65574,
        "start_time": "2023-02-21T07:14:12.285Z"
      },
      {
        "duration": 334405,
        "start_time": "2023-02-21T07:15:17.860Z"
      },
      {
        "duration": 3589,
        "start_time": "2023-02-21T07:20:52.267Z"
      },
      {
        "duration": 3,
        "start_time": "2023-02-21T07:20:55.858Z"
      },
      {
        "duration": 13,
        "start_time": "2023-02-21T07:20:55.862Z"
      },
      {
        "duration": 5,
        "start_time": "2023-02-21T07:20:55.877Z"
      },
      {
        "duration": 3479,
        "start_time": "2023-02-21T07:20:55.883Z"
      },
      {
        "duration": 2,
        "start_time": "2023-02-21T07:20:59.365Z"
      },
      {
        "duration": 1531,
        "start_time": "2023-02-22T15:47:12.896Z"
      },
      {
        "duration": 654,
        "start_time": "2023-02-22T15:47:36.878Z"
      },
      {
        "duration": 360,
        "start_time": "2023-02-22T15:55:10.869Z"
      },
      {
        "duration": 335,
        "start_time": "2023-02-22T16:07:03.102Z"
      },
      {
        "duration": 169,
        "start_time": "2023-02-22T16:22:56.447Z"
      },
      {
        "duration": 240,
        "start_time": "2023-02-22T16:23:27.946Z"
      },
      {
        "duration": 255,
        "start_time": "2023-02-22T16:23:36.017Z"
      },
      {
        "duration": 215,
        "start_time": "2023-02-22T16:25:48.524Z"
      },
      {
        "duration": 317,
        "start_time": "2023-02-22T16:31:44.887Z"
      },
      {
        "duration": 338,
        "start_time": "2023-02-22T16:45:39.094Z"
      },
      {
        "duration": 301,
        "start_time": "2023-02-22T16:46:11.445Z"
      },
      {
        "duration": 431,
        "start_time": "2023-02-22T16:56:08.066Z"
      },
      {
        "duration": 297,
        "start_time": "2023-02-22T16:56:14.865Z"
      }
    ],
    "toc": {
      "base_numbering": 1,
      "nav_menu": {},
      "number_sections": true,
      "sideBar": true,
      "skip_h1_title": true,
      "title_cell": "Содержание",
      "title_sidebar": "Contents",
      "toc_cell": true,
      "toc_position": {},
      "toc_section_display": true,
      "toc_window_display": false
    },
    "kernelspec": {
      "name": "python",
      "display_name": "Python (Pyodide)",
      "language": "python"
    },
    "language_info": {
      "codemirror_mode": {
        "name": "python",
        "version": 3
      },
      "file_extension": ".py",
      "mimetype": "text/x-python",
      "name": "python",
      "nbconvert_exporter": "python",
      "pygments_lexer": "ipython3",
      "version": "3.8"
    }
  },
  "nbformat_minor": 4,
  "nbformat": 4,
  "cells": [
    {
      "cell_type": "markdown",
      "source": "<h1>Содержание<span class=\"tocSkip\"></span></h1>\n<div class=\"toc\"><ul class=\"toc-item\"><li><ul class=\"toc-item\"><li><ul class=\"toc-item\"><li><span><a  href=\"#Подготовка\" data-toc-modified-id=\"Подготовка-1\"><span class=\"toc-item-num\">1&nbsp;&nbsp;</span>Подготовка</a></span></li><li><span><a href=\"#Анализ\" data-toc-modified-id=\"Анализ-2\"><span class=\"toc-item-num\">2&nbsp;&nbsp;</span>Анализ</a></span></li><li><span><a href=\"#Обучение\" data-toc-modified-id=\"Обучение-3\"><span class=\"toc-item-num\">3&nbsp;&nbsp;</span>Обучение</a></span></li><li><span><a href=\"#Тестирование\" data-toc-modified-id=\"Тестирование-4\"><span class=\"toc-item-num\">4&nbsp;&nbsp;</span>Тестирование</a></span></li><li><span><a href=\"#Чек-лист-проверки\" data-toc-modified-id=\"Чек-лист-проверки-5\"><span class=\"toc-item-num\">5&nbsp;&nbsp;</span>Чек-лист проверки</a></span></li></ul></div>",
      "metadata": {
        "toc": true
      }
    },
    {
      "cell_type": "markdown",
      "source": "#  Прогнозирование заказов такси",
      "metadata": {}
    },
    {
      "cell_type": "markdown",
      "source": "Компания «Чётенькое такси» собрала исторические данные о заказах такси в аэропортах. Чтобы привлекать больше водителей в период пиковой нагрузки, нужно спрогнозировать количество заказов такси на следующий час. Постройте модель для такого предсказания.\n\nЗначение метрики *RMSE* на тестовой выборке должно быть не больше 48.\n\nВам нужно:\n\n1. Загрузить данные и выполнить их ресемплирование по одному часу.\n2. Проанализировать данные.\n3. Обучить разные модели с различными гиперпараметрами. Сделать тестовую выборку размером 10% от исходных данных.\n4. Проверить данные на тестовой выборке и сделать выводы.\n\n\nДанные лежат в файле `taxi.csv`. Количество заказов находится в столбце `num_orders` (от англ. *number of orders*, «число заказов»).",
      "metadata": {}
    },
    {
      "cell_type": "markdown",
      "source": "**Цель исследования:**  \nПостроить модель для прогнозирования количества заказов на следующий час со значением метрики RMSE ниже 48.",
      "metadata": {}
    },
    {
      "cell_type": "markdown",
      "source": "**Ход исследования:**  \n* Импорт библиотек\n* Загрузка данных\n* Анализ данных\n* Создание признаков для обучения моделей\n* Разбивка данных на выборки\n* Обучение моделей, нахождение RMSE\n* Проверка моделей на тестовой выборке",
      "metadata": {}
    },
    {
      "cell_type": "markdown",
      "source": "## Подготовка",
      "metadata": {}
    },
    {
      "cell_type": "code",
      "source": "#Импортируем необходимые библиотеки\nimport pandas as pd\nimport numpy as np\nimport matplotlib.pyplot as plt\nfrom sklearn.model_selection import GridSearchCV\nfrom sklearn.metrics import mean_squared_error\nfrom sklearn.preprocessing import StandardScaler\nfrom sklearn.linear_model import LinearRegression\nimport lightgbm as lgb\nfrom lightgbm import LGBMRegressor\nfrom sklearn.ensemble import RandomForestRegressor\nfrom sklearn.model_selection import train_test_split \nfrom statsmodels.tsa.seasonal import seasonal_decompose\nfrom sklearn.model_selection import TimeSeriesSplit",
      "metadata": {},
      "execution_count": 1,
      "outputs": []
    },
    {
      "cell_type": "code",
      "source": "#Сохраним данные в переменную data\ndata = pd.read_csv('/datasets/taxi.csv', index_col=[0], parse_dates=[0])",
      "metadata": {},
      "execution_count": 2,
      "outputs": []
    },
    {
      "cell_type": "code",
      "source": "#Посмотрим информацию о данных\ndata.info()",
      "metadata": {},
      "execution_count": 3,
      "outputs": [
        {
          "name": "stdout",
          "output_type": "stream",
          "text": "<class 'pandas.core.frame.DataFrame'>\n\nDatetimeIndex: 26496 entries, 2018-03-01 00:00:00 to 2018-08-31 23:50:00\n\nData columns (total 1 columns):\n\n #   Column      Non-Null Count  Dtype\n\n---  ------      --------------  -----\n\n 0   num_orders  26496 non-null  int64\n\ndtypes: int64(1)\n\nmemory usage: 414.0 KB\n"
        }
      ]
    },
    {
      "cell_type": "code",
      "source": "#Выведем первые пять строк таблицы на экран\ndata.head()",
      "metadata": {},
      "execution_count": 4,
      "outputs": [
        {
          "execution_count": 4,
          "output_type": "execute_result",
          "data": {
            "text/html": [
              "<div>\n",
              "<style scoped>\n",
              "    .dataframe tbody tr th:only-of-type {\n",
              "        vertical-align: middle;\n",
              "    }\n",
              "\n",
              "    .dataframe tbody tr th {\n",
              "        vertical-align: top;\n",
              "    }\n",
              "\n",
              "    .dataframe thead th {\n",
              "        text-align: right;\n",
              "    }\n",
              "</style>\n",
              "<table border=\"1\" class=\"dataframe\">\n",
              "  <thead>\n",
              "    <tr style=\"text-align: right;\">\n",
              "      <th></th>\n",
              "      <th>num_orders</th>\n",
              "    </tr>\n",
              "    <tr>\n",
              "      <th>datetime</th>\n",
              "      <th></th>\n",
              "    </tr>\n",
              "  </thead>\n",
              "  <tbody>\n",
              "    <tr>\n",
              "      <th>2018-03-01 00:00:00</th>\n",
              "      <td>9</td>\n",
              "    </tr>\n",
              "    <tr>\n",
              "      <th>2018-03-01 00:10:00</th>\n",
              "      <td>14</td>\n",
              "    </tr>\n",
              "    <tr>\n",
              "      <th>2018-03-01 00:20:00</th>\n",
              "      <td>28</td>\n",
              "    </tr>\n",
              "    <tr>\n",
              "      <th>2018-03-01 00:30:00</th>\n",
              "      <td>20</td>\n",
              "    </tr>\n",
              "    <tr>\n",
              "      <th>2018-03-01 00:40:00</th>\n",
              "      <td>32</td>\n",
              "    </tr>\n",
              "  </tbody>\n",
              "</table>\n",
              "</div>"
            ],
            "text/plain": [
              "                     num_orders\n",
              "datetime                       \n",
              "2018-03-01 00:00:00           9\n",
              "2018-03-01 00:10:00          14\n",
              "2018-03-01 00:20:00          28\n",
              "2018-03-01 00:30:00          20\n",
              "2018-03-01 00:40:00          32"
            ]
          },
          "metadata": {}
        }
      ]
    },
    {
      "cell_type": "code",
      "source": "#Отсортируем индексы по увеличению дат\ndata.sort_index(inplace=True)",
      "metadata": {},
      "execution_count": 5,
      "outputs": []
    },
    {
      "cell_type": "code",
      "source": "#Проверим, в хронологоческом ли порядке расположены даты и время\ndata.index.is_monotonic",
      "metadata": {},
      "execution_count": 6,
      "outputs": [
        {
          "execution_count": 6,
          "output_type": "execute_result",
          "data": {
            "text/plain": [
              "True"
            ]
          },
          "metadata": {}
        }
      ]
    },
    {
      "cell_type": "code",
      "source": "#Выполним ресемплирование данных по одному часу\ndata = data.resample('1H').sum()\ndata",
      "metadata": {},
      "execution_count": 7,
      "outputs": [
        {
          "execution_count": 7,
          "output_type": "execute_result",
          "data": {
            "text/html": [
              "<div>\n",
              "<style scoped>\n",
              "    .dataframe tbody tr th:only-of-type {\n",
              "        vertical-align: middle;\n",
              "    }\n",
              "\n",
              "    .dataframe tbody tr th {\n",
              "        vertical-align: top;\n",
              "    }\n",
              "\n",
              "    .dataframe thead th {\n",
              "        text-align: right;\n",
              "    }\n",
              "</style>\n",
              "<table border=\"1\" class=\"dataframe\">\n",
              "  <thead>\n",
              "    <tr style=\"text-align: right;\">\n",
              "      <th></th>\n",
              "      <th>num_orders</th>\n",
              "    </tr>\n",
              "    <tr>\n",
              "      <th>datetime</th>\n",
              "      <th></th>\n",
              "    </tr>\n",
              "  </thead>\n",
              "  <tbody>\n",
              "    <tr>\n",
              "      <th>2018-03-01 00:00:00</th>\n",
              "      <td>124</td>\n",
              "    </tr>\n",
              "    <tr>\n",
              "      <th>2018-03-01 01:00:00</th>\n",
              "      <td>85</td>\n",
              "    </tr>\n",
              "    <tr>\n",
              "      <th>2018-03-01 02:00:00</th>\n",
              "      <td>71</td>\n",
              "    </tr>\n",
              "    <tr>\n",
              "      <th>2018-03-01 03:00:00</th>\n",
              "      <td>66</td>\n",
              "    </tr>\n",
              "    <tr>\n",
              "      <th>2018-03-01 04:00:00</th>\n",
              "      <td>43</td>\n",
              "    </tr>\n",
              "    <tr>\n",
              "      <th>...</th>\n",
              "      <td>...</td>\n",
              "    </tr>\n",
              "    <tr>\n",
              "      <th>2018-08-31 19:00:00</th>\n",
              "      <td>136</td>\n",
              "    </tr>\n",
              "    <tr>\n",
              "      <th>2018-08-31 20:00:00</th>\n",
              "      <td>154</td>\n",
              "    </tr>\n",
              "    <tr>\n",
              "      <th>2018-08-31 21:00:00</th>\n",
              "      <td>159</td>\n",
              "    </tr>\n",
              "    <tr>\n",
              "      <th>2018-08-31 22:00:00</th>\n",
              "      <td>223</td>\n",
              "    </tr>\n",
              "    <tr>\n",
              "      <th>2018-08-31 23:00:00</th>\n",
              "      <td>205</td>\n",
              "    </tr>\n",
              "  </tbody>\n",
              "</table>\n",
              "<p>4416 rows × 1 columns</p>\n",
              "</div>"
            ],
            "text/plain": [
              "                     num_orders\n",
              "datetime                       \n",
              "2018-03-01 00:00:00         124\n",
              "2018-03-01 01:00:00          85\n",
              "2018-03-01 02:00:00          71\n",
              "2018-03-01 03:00:00          66\n",
              "2018-03-01 04:00:00          43\n",
              "...                         ...\n",
              "2018-08-31 19:00:00         136\n",
              "2018-08-31 20:00:00         154\n",
              "2018-08-31 21:00:00         159\n",
              "2018-08-31 22:00:00         223\n",
              "2018-08-31 23:00:00         205\n",
              "\n",
              "[4416 rows x 1 columns]"
            ]
          },
          "metadata": {}
        }
      ]
    },
    {
      "cell_type": "markdown",
      "source": "**Вывод:**  \n* Данные изучены\n* Проведено ресемплирование данных",
      "metadata": {}
    },
    {
      "cell_type": "markdown",
      "source": "## Анализ",
      "metadata": {}
    },
    {
      "cell_type": "code",
      "source": "#Изучим тренды и сезонность\ndecomposed = seasonal_decompose(data)\nplt.figure(figsize=(12, 14))\nplt.subplot(311)\ndecomposed.trend.plot(ax=plt.gca())\nplt.title('Trend')\nplt.subplot(312)\ndecomposed.seasonal['2018-05-01':'2018-05-02'].plot(ax=plt.gca())\nplt.title('Seasonality_day')\nplt.subplot(313)\ndecomposed.resid.plot(ax=plt.gca()) \nplt.title('Residuals')\nplt.tight_layout()",
      "metadata": {},
      "execution_count": 8,
      "outputs": [
        {
          "output_type": "display_data",
          "data": {
            "image/png": "[encoded data removed]",
            "text/plain": [
              "<Figure size 864x1008 with 3 Axes>"
            ]
          },
          "metadata": {
            "needs_background": "light"
          }
        }
      ]
    },
    {
      "cell_type": "code",
      "source": "#Построим график сезонности за неделю\nplt.figure(figsize=(15, 5))\ndecomposed.seasonal['2018-05-01':'2018-05-07'].plot(ax=plt.gca())\nplt.title('Seasonality_week')",
      "metadata": {},
      "execution_count": 9,
      "outputs": [
        {
          "execution_count": 9,
          "output_type": "execute_result",
          "data": {
            "text/plain": [
              "Text(0.5, 1.0, 'Seasonality_week')"
            ]
          },
          "metadata": {}
        },
        {
          "output_type": "display_data",
          "data": {
            "image/png": "[encoded data removed]",
            "text/plain": [
              "<Figure size 1080x360 with 1 Axes>"
            ]
          },
          "metadata": {
            "needs_background": "light"
          }
        }
      ]
    },
    {
      "cell_type": "markdown",
      "source": "**Вывод:**  \n* По графику **тренд** видно, что количество заказов увеличивается с каждым месяцем\n* По графику **сезонность за день** - самое меньшее количество заказов происходит в 6 утра, самое большее - в 00 часов\n* Шумы необъяснимы\n* По графику **сезонность за неделю** - количество заказов не меняется в зависимости от дня недели",
      "metadata": {}
    },
    {
      "cell_type": "markdown",
      "source": "## Обучение",
      "metadata": {}
    },
    {
      "cell_type": "code",
      "source": "#Создадим признаки для обучения модели\ndata_1 = data.copy()\n\ndef make_features(data_1, max_lag, rolling_mean_size):\n    data_1['month'] = data_1.index.month\n    data_1['day'] = data_1.index.day\n    data_1['dayofweek'] = data_1.index.dayofweek\n    data_1['hour'] = data_1.index.hour\n    \n    for lag in range(1, max_lag + 1):\n        data_1['lag_{}'.format(lag)] = data_1['num_orders'].shift(lag)\n    \n    data_1['rolling_mean'] = data_1['num_orders'].shift().rolling(rolling_mean_size).mean()\n\n    \nmake_features(data_1, 24, 10)\ndata_1.head()",
      "metadata": {},
      "execution_count": 10,
      "outputs": [
        {
          "execution_count": 10,
          "output_type": "execute_result",
          "data": {
            "text/html": [
              "<div>\n",
              "<style scoped>\n",
              "    .dataframe tbody tr th:only-of-type {\n",
              "        vertical-align: middle;\n",
              "    }\n",
              "\n",
              "    .dataframe tbody tr th {\n",
              "        vertical-align: top;\n",
              "    }\n",
              "\n",
              "    .dataframe thead th {\n",
              "        text-align: right;\n",
              "    }\n",
              "</style>\n",
              "<table border=\"1\" class=\"dataframe\">\n",
              "  <thead>\n",
              "    <tr style=\"text-align: right;\">\n",
              "      <th></th>\n",
              "      <th>num_orders</th>\n",
              "      <th>month</th>\n",
              "      <th>day</th>\n",
              "      <th>dayofweek</th>\n",
              "      <th>hour</th>\n",
              "      <th>lag_1</th>\n",
              "      <th>lag_2</th>\n",
              "      <th>lag_3</th>\n",
              "      <th>lag_4</th>\n",
              "      <th>lag_5</th>\n",
              "      <th>...</th>\n",
              "      <th>lag_16</th>\n",
              "      <th>lag_17</th>\n",
              "      <th>lag_18</th>\n",
              "      <th>lag_19</th>\n",
              "      <th>lag_20</th>\n",
              "      <th>lag_21</th>\n",
              "      <th>lag_22</th>\n",
              "      <th>lag_23</th>\n",
              "      <th>lag_24</th>\n",
              "      <th>rolling_mean</th>\n",
              "    </tr>\n",
              "    <tr>\n",
              "      <th>datetime</th>\n",
              "      <th></th>\n",
              "      <th></th>\n",
              "      <th></th>\n",
              "      <th></th>\n",
              "      <th></th>\n",
              "      <th></th>\n",
              "      <th></th>\n",
              "      <th></th>\n",
              "      <th></th>\n",
              "      <th></th>\n",
              "      <th></th>\n",
              "      <th></th>\n",
              "      <th></th>\n",
              "      <th></th>\n",
              "      <th></th>\n",
              "      <th></th>\n",
              "      <th></th>\n",
              "      <th></th>\n",
              "      <th></th>\n",
              "      <th></th>\n",
              "      <th></th>\n",
              "    </tr>\n",
              "  </thead>\n",
              "  <tbody>\n",
              "    <tr>\n",
              "      <th>2018-03-01 00:00:00</th>\n",
              "      <td>124</td>\n",
              "      <td>3</td>\n",
              "      <td>1</td>\n",
              "      <td>3</td>\n",
              "      <td>0</td>\n",
              "      <td>NaN</td>\n",
              "      <td>NaN</td>\n",
              "      <td>NaN</td>\n",
              "      <td>NaN</td>\n",
              "      <td>NaN</td>\n",
              "      <td>...</td>\n",
              "      <td>NaN</td>\n",
              "      <td>NaN</td>\n",
              "      <td>NaN</td>\n",
              "      <td>NaN</td>\n",
              "      <td>NaN</td>\n",
              "      <td>NaN</td>\n",
              "      <td>NaN</td>\n",
              "      <td>NaN</td>\n",
              "      <td>NaN</td>\n",
              "      <td>NaN</td>\n",
              "    </tr>\n",
              "    <tr>\n",
              "      <th>2018-03-01 01:00:00</th>\n",
              "      <td>85</td>\n",
              "      <td>3</td>\n",
              "      <td>1</td>\n",
              "      <td>3</td>\n",
              "      <td>1</td>\n",
              "      <td>124.0</td>\n",
              "      <td>NaN</td>\n",
              "      <td>NaN</td>\n",
              "      <td>NaN</td>\n",
              "      <td>NaN</td>\n",
              "      <td>...</td>\n",
              "      <td>NaN</td>\n",
              "      <td>NaN</td>\n",
              "      <td>NaN</td>\n",
              "      <td>NaN</td>\n",
              "      <td>NaN</td>\n",
              "      <td>NaN</td>\n",
              "      <td>NaN</td>\n",
              "      <td>NaN</td>\n",
              "      <td>NaN</td>\n",
              "      <td>NaN</td>\n",
              "    </tr>\n",
              "    <tr>\n",
              "      <th>2018-03-01 02:00:00</th>\n",
              "      <td>71</td>\n",
              "      <td>3</td>\n",
              "      <td>1</td>\n",
              "      <td>3</td>\n",
              "      <td>2</td>\n",
              "      <td>85.0</td>\n",
              "      <td>124.0</td>\n",
              "      <td>NaN</td>\n",
              "      <td>NaN</td>\n",
              "      <td>NaN</td>\n",
              "      <td>...</td>\n",
              "      <td>NaN</td>\n",
              "      <td>NaN</td>\n",
              "      <td>NaN</td>\n",
              "      <td>NaN</td>\n",
              "      <td>NaN</td>\n",
              "      <td>NaN</td>\n",
              "      <td>NaN</td>\n",
              "      <td>NaN</td>\n",
              "      <td>NaN</td>\n",
              "      <td>NaN</td>\n",
              "    </tr>\n",
              "    <tr>\n",
              "      <th>2018-03-01 03:00:00</th>\n",
              "      <td>66</td>\n",
              "      <td>3</td>\n",
              "      <td>1</td>\n",
              "      <td>3</td>\n",
              "      <td>3</td>\n",
              "      <td>71.0</td>\n",
              "      <td>85.0</td>\n",
              "      <td>124.0</td>\n",
              "      <td>NaN</td>\n",
              "      <td>NaN</td>\n",
              "      <td>...</td>\n",
              "      <td>NaN</td>\n",
              "      <td>NaN</td>\n",
              "      <td>NaN</td>\n",
              "      <td>NaN</td>\n",
              "      <td>NaN</td>\n",
              "      <td>NaN</td>\n",
              "      <td>NaN</td>\n",
              "      <td>NaN</td>\n",
              "      <td>NaN</td>\n",
              "      <td>NaN</td>\n",
              "    </tr>\n",
              "    <tr>\n",
              "      <th>2018-03-01 04:00:00</th>\n",
              "      <td>43</td>\n",
              "      <td>3</td>\n",
              "      <td>1</td>\n",
              "      <td>3</td>\n",
              "      <td>4</td>\n",
              "      <td>66.0</td>\n",
              "      <td>71.0</td>\n",
              "      <td>85.0</td>\n",
              "      <td>124.0</td>\n",
              "      <td>NaN</td>\n",
              "      <td>...</td>\n",
              "      <td>NaN</td>\n",
              "      <td>NaN</td>\n",
              "      <td>NaN</td>\n",
              "      <td>NaN</td>\n",
              "      <td>NaN</td>\n",
              "      <td>NaN</td>\n",
              "      <td>NaN</td>\n",
              "      <td>NaN</td>\n",
              "      <td>NaN</td>\n",
              "      <td>NaN</td>\n",
              "    </tr>\n",
              "  </tbody>\n",
              "</table>\n",
              "<p>5 rows × 30 columns</p>\n",
              "</div>"
            ],
            "text/plain": [
              "                     num_orders  month  day  dayofweek  hour  lag_1  lag_2  \\\n",
              "datetime                                                                     \n",
              "2018-03-01 00:00:00         124      3    1          3     0    NaN    NaN   \n",
              "2018-03-01 01:00:00          85      3    1          3     1  124.0    NaN   \n",
              "2018-03-01 02:00:00          71      3    1          3     2   85.0  124.0   \n",
              "2018-03-01 03:00:00          66      3    1          3     3   71.0   85.0   \n",
              "2018-03-01 04:00:00          43      3    1          3     4   66.0   71.0   \n",
              "\n",
              "                     lag_3  lag_4  lag_5  ...  lag_16  lag_17  lag_18  lag_19  \\\n",
              "datetime                                  ...                                   \n",
              "2018-03-01 00:00:00    NaN    NaN    NaN  ...     NaN     NaN     NaN     NaN   \n",
              "2018-03-01 01:00:00    NaN    NaN    NaN  ...     NaN     NaN     NaN     NaN   \n",
              "2018-03-01 02:00:00    NaN    NaN    NaN  ...     NaN     NaN     NaN     NaN   \n",
              "2018-03-01 03:00:00  124.0    NaN    NaN  ...     NaN     NaN     NaN     NaN   \n",
              "2018-03-01 04:00:00   85.0  124.0    NaN  ...     NaN     NaN     NaN     NaN   \n",
              "\n",
              "                     lag_20  lag_21  lag_22  lag_23  lag_24  rolling_mean  \n",
              "datetime                                                                   \n",
              "2018-03-01 00:00:00     NaN     NaN     NaN     NaN     NaN           NaN  \n",
              "2018-03-01 01:00:00     NaN     NaN     NaN     NaN     NaN           NaN  \n",
              "2018-03-01 02:00:00     NaN     NaN     NaN     NaN     NaN           NaN  \n",
              "2018-03-01 03:00:00     NaN     NaN     NaN     NaN     NaN           NaN  \n",
              "2018-03-01 04:00:00     NaN     NaN     NaN     NaN     NaN           NaN  \n",
              "\n",
              "[5 rows x 30 columns]"
            ]
          },
          "metadata": {}
        }
      ]
    },
    {
      "cell_type": "code",
      "source": "#Удалим пропуски\ndata_1.dropna(inplace=True)",
      "metadata": {},
      "execution_count": 11,
      "outputs": []
    },
    {
      "cell_type": "code",
      "source": "#Разобъём данные на выборки\ntrain, valid = train_test_split(data_1, shuffle=False, test_size=0.2, random_state=12345)\nvalid, test = train_test_split(valid, shuffle=False, test_size=0.5, random_state=12345)\ntrain = train.dropna()",
      "metadata": {},
      "execution_count": 12,
      "outputs": []
    },
    {
      "cell_type": "code",
      "source": "#Проверим деление выборок\nprint(train.shape)\nprint(valid.shape)\nprint(test.shape)",
      "metadata": {},
      "execution_count": 13,
      "outputs": [
        {
          "name": "stdout",
          "output_type": "stream",
          "text": "(3513, 30)\n\n(439, 30)\n\n(440, 30)\n"
        }
      ]
    },
    {
      "cell_type": "code",
      "source": "#Разобъём выборки на признаки и целевые признаки\nfeatures_train = train.drop(['num_orders'], axis=1)\ntarget_train = train['num_orders']\n\nfeatures_valid = valid.drop(['num_orders'], axis=1)\ntarget_valid = valid['num_orders']\n\nfeatures_test = test.drop(['num_orders'], axis=1)\ntarget_test = test['num_orders']",
      "metadata": {},
      "execution_count": 14,
      "outputs": []
    },
    {
      "cell_type": "markdown",
      "source": "**Обучим модель линейной регрессии**",
      "metadata": {}
    },
    {
      "cell_type": "code",
      "source": "model_lr = LinearRegression()\n \nmodel_lr.fit(features_train, target_train)\npred_valid_lr = model_lr.predict(features_valid)\nrmse_lr = mean_squared_error(target_valid, pred_valid_lr)**0.5\nprint(rmse_lr)",
      "metadata": {},
      "execution_count": 15,
      "outputs": [
        {
          "name": "stdout",
          "output_type": "stream",
          "text": "34.2280883141464\n"
        }
      ]
    },
    {
      "cell_type": "markdown",
      "source": "RMSE в пределах заданного значения",
      "metadata": {}
    },
    {
      "cell_type": "markdown",
      "source": "**Обучим модель случайного леса**",
      "metadata": {}
    },
    {
      "cell_type": "code",
      "source": "#Надём лучшую глубину деревьев\nfor depth in range(12, 30, 3):\n    model_forest = RandomForestRegressor(random_state=12345, max_depth = depth)\n    model_forest.fit(features_train, target_train)\n    predictions_valid_forest = model_forest.predict(features_valid)\n    rmse_forest = mean_squared_error(target_valid, predictions_valid_forest)**0.5\n    print('Глубина:', depth)\n    print('RMSE для решающего дерева:', rmse_forest)\n    print('')\nprint()",
      "metadata": {},
      "execution_count": 16,
      "outputs": [
        {
          "name": "stdout",
          "output_type": "stream",
          "text": "Глубина: 12\n\nRMSE для решающего дерева: 31.860281265946814\n\n\n\nГлубина: 15\n\nRMSE для решающего дерева: 31.830525275822243\n\n\n\nГлубина: 18\n\nRMSE для решающего дерева: 31.700546107922463\n\n\n\nГлубина: 21\n\nRMSE для решающего дерева: 31.8536523432193\n\n\n\nГлубина: 24\n\nRMSE для решающего дерева: 31.708298804250234\n\n\n\nГлубина: 27\n\nRMSE для решающего дерева: 31.68736943139932\n\n\n\n\n"
        }
      ]
    },
    {
      "cell_type": "code",
      "source": "#Подберём гиперпараметры и обучим модель\nfor est in [100, 300, 1000]:\n    model_forest = RandomForestRegressor(random_state=12345, \n                                   n_estimators=est, \n                                   max_depth=18)\n    model_forest.fit(features_train, target_train)\n    predictions_forest = model_forest.predict(features_valid)\n    rmse_forest = mean_squared_error(target_valid, predictions_forest)**0.5\n    print('Количество деревьев:', est)\n    print('RMSE случайного леса:', rmse_forest)\n    print('')\nprint()",
      "metadata": {},
      "execution_count": 17,
      "outputs": [
        {
          "name": "stdout",
          "output_type": "stream",
          "text": "Количество деревьев: 100\n\nRMSE случайного леса: 31.700546107922463\n\n\n\nКоличество деревьев: 300\n\nRMSE случайного леса: 31.570733441420128\n\n\n\nКоличество деревьев: 1000\n\nRMSE случайного леса: 31.61466073513683\n\n\n\n\n"
        }
      ]
    },
    {
      "cell_type": "markdown",
      "source": "RMSE у случайного леса лучше, чем у линейной регрессии",
      "metadata": {}
    },
    {
      "cell_type": "markdown",
      "source": "**Обучим модель LightGBM**",
      "metadata": {}
    },
    {
      "cell_type": "code",
      "source": "#Найдём лучшие параметры для модели\nsplits = TimeSeriesSplit(n_splits=3)\nmodel_lg = lgb.LGBMRegressor(random_state=12345)\nparams_gr = {'n_estimators': [60, 100, 300], 'num_leaves': [50, 200, 500], 'max_depth': [10, 20]}\n\ngrid = GridSearchCV(model_lg, params_gr, scoring='neg_root_mean_squared_error', cv=splits)\n\ngrid.fit(features_train, target_train)\n\nprint(grid.best_params_)\nprint(grid.best_score_*-1)",
      "metadata": {},
      "execution_count": 18,
      "outputs": [
        {
          "name": "stdout",
          "output_type": "stream",
          "text": "{'max_depth': 10, 'n_estimators': 60, 'num_leaves': 200}\n\n24.925769612885997\n"
        }
      ]
    },
    {
      "cell_type": "code",
      "source": "#Обучим модель с подобранными параметрами\nmodel_lg = lgb.LGBMRegressor(random_state=12345, n_estimators=60, num_leaves=200, max_depth=10)\nmodel_lg.fit(features_train, target_train)\npredictions_valid_lg = model_lg.predict(features_valid)\nrmse_lg = mean_squared_error(target_valid, predictions_valid_lg)**0.5\nprint(rmse_lg)",
      "metadata": {},
      "execution_count": 19,
      "outputs": [
        {
          "name": "stdout",
          "output_type": "stream",
          "text": "31.214641436591258\n"
        }
      ]
    },
    {
      "cell_type": "markdown",
      "source": "RMSE у LightGBM лучше, чем у других моделей проведём тестирование на ней",
      "metadata": {}
    },
    {
      "cell_type": "markdown",
      "source": "## Тестирование",
      "metadata": {}
    },
    {
      "cell_type": "code",
      "source": "#Объединим тренировочную и валидационну выборки и протестируем модель\nfeatures_train_valid = pd.concat([features_train, features_valid]) \ntarget_train_valid = pd.concat([target_train, target_valid]) \n\nmodel_lg = lgb.LGBMRegressor(random_state=12345, n_estimators=60, num_leaves=200, max_depth=10)\nmodel_lg.fit(features_train_valid, target_train_valid) \npredictions_test_lg = model_lg.predict(features_test)\nrmse_lg = mean_squared_error(target_test, predictions_test_lg)**0.5\nprint(rmse_lg)",
      "metadata": {},
      "execution_count": 23,
      "outputs": [
        {
          "name": "stdout",
          "output_type": "stream",
          "text": "41.182034084457655\n"
        }
      ]
    },
    {
      "cell_type": "markdown",
      "source": "RMSE на тестовой выборке в пределах допустимого значения",
      "metadata": {}
    },
    {
      "cell_type": "markdown",
      "source": "**Вывод:**  \n* Данные были загружены и проанализированы\n* Рассмотрены тренды и сезонность на графиках\n* Выбраны и обучены три модели с различными гиперпараметрами\n* Выполнены предсказания на валидационной выборке\n* Проведено тестирование модели на объединённых тренировочной и валидационной выборках (полученное значение в пределах допустимого)",
      "metadata": {}
    },
    {
      "cell_type": "code",
      "source": "import pandas as pd\nfrom sklearn.feature_extraction.text import TfidfVectorizer\nimport nltk\nfrom nltk.corpus import stopwords as nltk_stopwords\nfrom sklearn.linear_model import LogisticRegression\n\ntrain = pd.read_csv('/datasets/tweets_lemm_train.csv')\ncorpus_train = train['lemm_text'].values.astype('U')\n \nnltk.download('stopwords')\nstopwords = set(nltk_stopwords.words('russian'))\n \ncount_tf_idf = TfidfVectorizer(stop_words=stopwords)\ntf_idf_train = count_tf_idf.fit_transform(corpus_train)\nt_train = train['positive']\n\nmodel = LogisticRegression()\nmodel.fit(tf_idf_train, t_train)\n\ntest = pd.read_csv('/datasets/tweets_lemm_test.csv')\ncorpus_test = test['lemm_text'].values.astype('U')\ntf_idf_test = count_tf_idf.transform(corpus_test)\n\nprint(tf_idf_test.shape)\n\npredictions = model.predict(tf_idf_test)\npredict_df = pd.DataFrame(predictions, columns=['positive'])\n\nprint(predict_df.head())\n\npredict_df.to_csv('predicts.csv')",
      "metadata": {},
      "execution_count": 13,
      "outputs": [
        {
          "name": "stderr",
          "output_type": "stream",
          "text": "[nltk_data] Downloading package stopwords to /home/jovyan/nltk_data...\n\n[nltk_data]   Package stopwords is already up-to-date!\n"
        },
        {
          "name": "stdout",
          "output_type": "stream",
          "text": "(3000, 9737)\n\n   positive\n\n0         1\n\n1         0\n\n2         0\n\n3         0\n\n4         1\n"
        }
      ]
    },
    {
      "cell_type": "code",
      "source": "",
      "metadata": {},
      "execution_count": null,
      "outputs": []
    }
  ]
}