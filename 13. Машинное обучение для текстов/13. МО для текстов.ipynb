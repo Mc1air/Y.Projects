{
 "cells": [
  {
   "cell_type": "markdown",
   "metadata": {
    "toc": true
   },
   "source": [
    "<h1>Содержание<span class=\"tocSkip\"></span></h1>\n",
    "<li><ul class=\"toc-item\"><li><span><a href=\"#Подготовка\" data-toc-modified-id=\"Подготовка-1\"><span class=\"toc-item-num\">1&nbsp;&nbsp;</span>Подготовка</a></span></li><li><span><a href=\"#Обучение\" data-toc-modified-id=\"Обучение-2\"><span class=\"toc-item-num\">2&nbsp;&nbsp;</span>Обучение</a></span></li><li><span><a href=\"#Выводы\" data-toc-modified-id=\"Выводы-3\"><span class=\"toc-item-num\">3&nbsp;&nbsp;</span>Выводы</a></span></li>"
   ]
  },
  {
   "cell_type": "markdown",
   "metadata": {},
   "source": [
    "# Классификация комментариев"
   ]
  },
  {
   "cell_type": "markdown",
   "metadata": {},
   "source": [
    "**Описание данных:**\n",
    "    \n",
    "Интернет-магазин запускает новый сервис. Теперь пользователи могут редактировать и дополнять описания товаров, как в вики-сообществах. То есть клиенты предлагают свои правки и комментируют изменения других. Магазину нужен инструмент, который будет искать токсичные комментарии и отправлять их на модерацию.\n",
    "\n",
    "**Цель исследования:**\n",
    "    \n",
    "Построить модель, классифицирующую комментарии, со значением метрики качества F1 не меньше 0.75.\n",
    "\n",
    "**Ход исследования:**\n",
    "1. Подготовка данных\n",
    "2. Обучение модели\n",
    "3. Вывод по исследованию"
   ]
  },
  {
   "cell_type": "markdown",
   "metadata": {},
   "source": [
    "## Подготовка"
   ]
  },
  {
   "cell_type": "code",
   "execution_count": 1,
   "metadata": {},
   "outputs": [],
   "source": [
    "# Импорт библиотек\n",
    "import pandas as pd\n",
    "from sklearn.linear_model import LogisticRegression\n",
    "from sklearn.ensemble import RandomForestClassifier\n",
    "from sklearn.metrics import accuracy_score\n",
    "from sklearn.feature_extraction.text import CountVectorizer\n",
    "from nltk.corpus import stopwords\n",
    "import nltk\n",
    "from sklearn.feature_extraction.text import TfidfVectorizer\n",
    "import re\n",
    "from sklearn.model_selection import train_test_split\n",
    "from nltk.corpus import stopwords as nltk_stopwords\n",
    "from sklearn.metrics import f1_score,make_scorer\n",
    "import transformers\n",
    "import numpy as np\n",
    "from sklearn.model_selection import cross_val_score\n",
    "from nltk.stem import WordNetLemmatizer\n",
    "from nltk.corpus import wordnet\n",
    "from nltk.tokenize import word_tokenize"
   ]
  },
  {
   "cell_type": "code",
   "execution_count": 2,
   "metadata": {},
   "outputs": [],
   "source": [
    "#Сохраним данные в переменную data\n",
    "data = pd.read_csv('/datasets/toxic_comments.csv')"
   ]
  },
  {
   "cell_type": "code",
   "execution_count": 3,
   "metadata": {},
   "outputs": [
    {
     "data": {
      "text/html": [
       "<div>\n",
       "<style scoped>\n",
       "    .dataframe tbody tr th:only-of-type {\n",
       "        vertical-align: middle;\n",
       "    }\n",
       "\n",
       "    .dataframe tbody tr th {\n",
       "        vertical-align: top;\n",
       "    }\n",
       "\n",
       "    .dataframe thead th {\n",
       "        text-align: right;\n",
       "    }\n",
       "</style>\n",
       "<table border=\"1\" class=\"dataframe\">\n",
       "  <thead>\n",
       "    <tr style=\"text-align: right;\">\n",
       "      <th></th>\n",
       "      <th>Unnamed: 0</th>\n",
       "      <th>text</th>\n",
       "      <th>toxic</th>\n",
       "    </tr>\n",
       "  </thead>\n",
       "  <tbody>\n",
       "    <tr>\n",
       "      <th>0</th>\n",
       "      <td>0</td>\n",
       "      <td>Explanation\\nWhy the edits made under my usern...</td>\n",
       "      <td>0</td>\n",
       "    </tr>\n",
       "    <tr>\n",
       "      <th>1</th>\n",
       "      <td>1</td>\n",
       "      <td>D'aww! He matches this background colour I'm s...</td>\n",
       "      <td>0</td>\n",
       "    </tr>\n",
       "    <tr>\n",
       "      <th>2</th>\n",
       "      <td>2</td>\n",
       "      <td>Hey man, I'm really not trying to edit war. It...</td>\n",
       "      <td>0</td>\n",
       "    </tr>\n",
       "    <tr>\n",
       "      <th>3</th>\n",
       "      <td>3</td>\n",
       "      <td>\"\\nMore\\nI can't make any real suggestions on ...</td>\n",
       "      <td>0</td>\n",
       "    </tr>\n",
       "    <tr>\n",
       "      <th>4</th>\n",
       "      <td>4</td>\n",
       "      <td>You, sir, are my hero. Any chance you remember...</td>\n",
       "      <td>0</td>\n",
       "    </tr>\n",
       "  </tbody>\n",
       "</table>\n",
       "</div>"
      ],
      "text/plain": [
       "   Unnamed: 0                                               text  toxic\n",
       "0           0  Explanation\\nWhy the edits made under my usern...      0\n",
       "1           1  D'aww! He matches this background colour I'm s...      0\n",
       "2           2  Hey man, I'm really not trying to edit war. It...      0\n",
       "3           3  \"\\nMore\\nI can't make any real suggestions on ...      0\n",
       "4           4  You, sir, are my hero. Any chance you remember...      0"
      ]
     },
     "execution_count": 3,
     "metadata": {},
     "output_type": "execute_result"
    }
   ],
   "source": [
    "#Посмотрим первые пять строк\n",
    "data.head()"
   ]
  },
  {
   "cell_type": "code",
   "execution_count": 4,
   "metadata": {},
   "outputs": [
    {
     "name": "stdout",
     "output_type": "stream",
     "text": [
      "<class 'pandas.core.frame.DataFrame'>\n",
      "\n",
      "RangeIndex: 159292 entries, 0 to 159291\n",
      "\n",
      "Data columns (total 3 columns):\n",
      "\n",
      " #   Column      Non-Null Count   Dtype \n",
      "\n",
      "---  ------      --------------   ----- \n",
      "\n",
      " 0   Unnamed: 0  159292 non-null  int64 \n",
      "\n",
      " 1   text        159292 non-null  object\n",
      "\n",
      " 2   toxic       159292 non-null  int64 \n",
      "\n",
      "dtypes: int64(2), object(1)\n",
      "\n",
      "memory usage: 3.6+ MB\n"
     ]
    }
   ],
   "source": [
    "#Посмотрим общую информацию\n",
    "data.info()"
   ]
  },
  {
   "cell_type": "code",
   "execution_count": 5,
   "metadata": {},
   "outputs": [
    {
     "data": {
      "text/plain": [
       "0"
      ]
     },
     "execution_count": 5,
     "metadata": {},
     "output_type": "execute_result"
    }
   ],
   "source": [
    "#Посмотрим наличие дубликатов\n",
    "data.duplicated().sum()"
   ]
  },
  {
   "cell_type": "markdown",
   "metadata": {},
   "source": [
    "Дубликаты отсутствуют"
   ]
  },
  {
   "cell_type": "code",
   "execution_count": 6,
   "metadata": {},
   "outputs": [
    {
     "data": {
      "text/plain": [
       "0    143106\n",
       "1     16186\n",
       "Name: toxic, dtype: int64"
      ]
     },
     "execution_count": 6,
     "metadata": {},
     "output_type": "execute_result"
    }
   ],
   "source": [
    "#Проверим уникальные значения столбца toxic\n",
    "data.toxic.value_counts()"
   ]
  },
  {
   "cell_type": "markdown",
   "metadata": {},
   "source": [
    "Присутствует явный дисбаланс"
   ]
  },
  {
   "cell_type": "code",
   "execution_count": 7,
   "metadata": {},
   "outputs": [],
   "source": [
    "#Переведём столбец text в нижний регистр\n",
    "data['text'] = data['text'].str.lower()"
   ]
  },
  {
   "cell_type": "code",
   "execution_count": 8,
   "metadata": {},
   "outputs": [],
   "source": [
    "#Очистим текст\n",
    "def clean(text):\n",
    "    text = re.sub(r\"(?:\\n|\\r)\", \" \", text)\n",
    "    text = re.sub(r\"[^a-zA-Z ]+\", \"\", text).strip()\n",
    "    return text\n",
    "\n",
    "data['text'] = data['text'].apply(clean)"
   ]
  },
  {
   "cell_type": "code",
   "execution_count": 9,
   "metadata": {},
   "outputs": [
    {
     "name": "stdout",
     "output_type": "stream",
     "text": [
      "0    explanation why the edits made under my userna...\n",
      "\n",
      "1    daww he matches this background colour im seem...\n",
      "\n",
      "Name: text, dtype: object\n"
     ]
    }
   ],
   "source": [
    "#Проверим очистку\n",
    "print(data.text[:2])"
   ]
  },
  {
   "cell_type": "code",
   "execution_count": 11,
   "metadata": {},
   "outputs": [],
   "source": [
    "#Лемматизируем текст и создадим новый столбец\n",
    "def lemmetize(words):\n",
    "    lemmatizer = WordNetLemmatizer() \n",
    "    text = []\n",
    "    tokens = word_tokenize(words)\n",
    "    for token in tokens:\n",
    "        lem_word = lemmatizer.lemmatize(token) \n",
    "        text.append(lem_word)\n",
    "    sentence = \" \".join(text)\n",
    "    return sentence\n",
    "\n",
    "data['lem_text'] = data['text'].apply(lemmetize)"
   ]
  },
  {
   "cell_type": "markdown",
   "metadata": {},
   "source": [
    "## Обучение"
   ]
  },
  {
   "cell_type": "code",
   "execution_count": 12,
   "metadata": {},
   "outputs": [],
   "source": [
    "#Разделим данные на обучающую, валидационную и тестовую выборки\n",
    "target = data['toxic']\n",
    "features = data['lem_text']\n",
    "\n",
    "features_train, features_valid, target_train, target_valid = train_test_split(\n",
    "    features, target, test_size=0.4, random_state=12345) \n",
    "\n",
    "features_valid, features_test, target_valid, target_test = train_test_split(\n",
    "    features_valid, target_valid, test_size=0.50, random_state=12345)"
   ]
  },
  {
   "cell_type": "code",
   "execution_count": 13,
   "metadata": {},
   "outputs": [
    {
     "name": "stdout",
     "output_type": "stream",
     "text": [
      "(95575,)\n",
      "\n",
      "(95575,)\n",
      "\n",
      "(31858,)\n",
      "\n",
      "(31858,)\n",
      "\n",
      "(31859,)\n",
      "\n",
      "(31859,)\n"
     ]
    }
   ],
   "source": [
    "#Посмотрим размеры выборок\n",
    "print(features_train.shape)\n",
    "print(target_train.shape)\n",
    "print(features_valid.shape)\n",
    "print(target_valid.shape)\n",
    "print(features_test.shape)\n",
    "print(target_test.shape)"
   ]
  },
  {
   "cell_type": "code",
   "execution_count": 14,
   "metadata": {},
   "outputs": [],
   "source": [
    "#Загрузим список стоп-слов\n",
    "stopwords = set(nltk_stopwords.words('english'))\n",
    "#Создадим счётчик стоп-слов\n",
    "count_tf_idf = TfidfVectorizer(stop_words=stopwords)"
   ]
  },
  {
   "cell_type": "code",
   "execution_count": 15,
   "metadata": {},
   "outputs": [],
   "source": [
    "#Переведём выборки в векторы и посчитаем TF-IDF\n",
    "train_tf_idf = count_tf_idf.fit_transform(features_train)\n",
    "valid_tf_idf = count_tf_idf.transform(features_valid)\n",
    "test_tf_idf = count_tf_idf.transform(features_test)"
   ]
  },
  {
   "cell_type": "code",
   "execution_count": 16,
   "metadata": {},
   "outputs": [
    {
     "name": "stdout",
     "output_type": "stream",
     "text": [
      "(95575, 150920)\n",
      "\n",
      "(31858, 150920)\n",
      "\n",
      "(31859, 150920)\n"
     ]
    }
   ],
   "source": [
    "#Посмотрим размеры матриц\n",
    "print(train_tf_idf.shape)\n",
    "print(valid_tf_idf.shape)\n",
    "print(test_tf_idf.shape)"
   ]
  },
  {
   "cell_type": "code",
   "execution_count": 17,
   "metadata": {},
   "outputs": [
    {
     "name": "stdout",
     "output_type": "stream",
     "text": [
      "F1_score: 0.7620108619969365\n"
     ]
    }
   ],
   "source": [
    "#Обучим модель логистической регрессии\n",
    "model_lr = LogisticRegression(class_weight='balanced', random_state=12345, max_iter=1000, C=5)\n",
    " \n",
    "model_lr.fit(train_tf_idf, target_train)\n",
    "pred_valid_lr = model_lr.predict(valid_tf_idf)\n",
    "print(\"F1_score:\", f1_score(target_valid, pred_valid_lr))"
   ]
  },
  {
   "cell_type": "code",
   "execution_count": 18,
   "metadata": {},
   "outputs": [
    {
     "name": "stdout",
     "output_type": "stream",
     "text": [
      "Глубина: 3\n",
      "\n",
      "F1_score: 0.32237835326907444\n",
      "\n",
      "\n",
      "\n",
      "Глубина: 6\n",
      "\n",
      "F1_score: 0.36755053819900235\n",
      "\n",
      "\n",
      "\n",
      "Глубина: 9\n",
      "\n",
      "F1_score: 0.3690249819683955\n",
      "\n",
      "\n",
      "\n",
      "Глубина: 12\n",
      "\n",
      "F1_score: 0.36892816798458367\n",
      "\n",
      "\n",
      "\n",
      "Глубина: 15\n",
      "\n",
      "F1_score: 0.38169304886441846\n",
      "\n",
      "\n",
      "\n",
      "Глубина: 18\n",
      "\n",
      "F1_score: 0.39096462565705353\n",
      "\n",
      "\n",
      "\n",
      "\n"
     ]
    }
   ],
   "source": [
    "#Обучим модель случайного леса\n",
    "for depth in range(3, 20, 3):\n",
    "    model = RandomForestClassifier(random_state=12345, \n",
    "                                   max_depth = depth, \n",
    "                                   class_weight='balanced')\n",
    "    model.fit(train_tf_idf, target_train)\n",
    "    pred_valid_forest = model.predict(valid_tf_idf)\n",
    "    print('Глубина:', depth)\n",
    "    print(\"F1_score:\", f1_score(target_valid, pred_valid_forest))    \n",
    "    print('')\n",
    "print()"
   ]
  },
  {
   "cell_type": "markdown",
   "metadata": {},
   "source": [
    "Логистическая регрессия показала хороший результат, протестируем её"
   ]
  },
  {
   "cell_type": "code",
   "execution_count": 21,
   "metadata": {},
   "outputs": [
    {
     "name": "stdout",
     "output_type": "stream",
     "text": [
      "F1_score: 0.7537109093529327\n"
     ]
    }
   ],
   "source": [
    "#Протестируем модель\n",
    "model_lr = LogisticRegression(class_weight='balanced', random_state=12345, max_iter=1000, C=5)\n",
    "model_lr.fit(train_tf_idf, target_train)\n",
    "pred_test_lr = model_lr.predict(test_tf_idf)\n",
    "print(\"F1_score:\", f1_score(target_test, pred_test_lr))"
   ]
  },
  {
   "cell_type": "markdown",
   "metadata": {},
   "source": [
    "## Выводы"
   ]
  },
  {
   "cell_type": "markdown",
   "metadata": {},
   "source": [
    "* Данные были загружены и подготовлены для обучения\n",
    "    * Проведена очистка текста\n",
    "    * Проведена лемматизация текста\n",
    "    * Значения столбца text приведены к нижнему регистру\n",
    "* Данные разделили на признаки и целевой признак\n",
    "* Обучены две модели: Логистическая регрессия и случайный лес\n",
    "* По результатам обучения для тестирования была выбрана модель \"Логистическая регрессия\" с результатом f1-метрики - 0.76\n",
    "* На тестовой выборке модел показала значение 0.75, что соответствует требованиям"
   ]
  },
  {
   "cell_type": "code",
   "execution_count": null,
   "metadata": {},
   "outputs": [],
   "source": []
  }
 ],
 "metadata": {
  "ExecuteTimeLog": [
   {
    "duration": 6991,
    "start_time": "2023-02-24T19:25:13.734Z"
   },
   {
    "duration": 373,
    "start_time": "2023-02-24T19:25:20.728Z"
   },
   {
    "duration": 0,
    "start_time": "2023-02-24T19:25:21.103Z"
   },
   {
    "duration": 2383,
    "start_time": "2023-02-24T19:25:26.635Z"
   },
   {
    "duration": 12,
    "start_time": "2023-02-24T19:25:29.020Z"
   },
   {
    "duration": 35,
    "start_time": "2023-02-24T19:25:36.978Z"
   },
   {
    "duration": 241,
    "start_time": "2023-02-24T19:25:43.104Z"
   },
   {
    "duration": 148,
    "start_time": "2023-02-24T19:25:45.072Z"
   },
   {
    "duration": 7,
    "start_time": "2023-02-24T20:05:48.577Z"
   },
   {
    "duration": 311,
    "start_time": "2023-02-24T20:11:05.595Z"
   },
   {
    "duration": 2582,
    "start_time": "2023-02-24T20:48:12.707Z"
   },
   {
    "duration": 4,
    "start_time": "2023-02-24T20:49:28.582Z"
   },
   {
    "duration": 2281,
    "start_time": "2023-02-24T20:51:05.958Z"
   },
   {
    "duration": 51,
    "start_time": "2023-02-24T20:52:30.757Z"
   },
   {
    "duration": 8,
    "start_time": "2023-02-24T20:52:38.554Z"
   },
   {
    "duration": 6,
    "start_time": "2023-02-24T20:52:43.242Z"
   },
   {
    "duration": 6459,
    "start_time": "2023-02-24T20:52:50.907Z"
   },
   {
    "duration": 2391,
    "start_time": "2023-02-24T20:52:57.368Z"
   },
   {
    "duration": 11,
    "start_time": "2023-02-24T20:52:59.761Z"
   },
   {
    "duration": 38,
    "start_time": "2023-02-24T20:52:59.774Z"
   },
   {
    "duration": 247,
    "start_time": "2023-02-24T20:52:59.814Z"
   },
   {
    "duration": 6,
    "start_time": "2023-02-24T20:53:00.063Z"
   },
   {
    "duration": 320,
    "start_time": "2023-02-24T20:53:00.070Z"
   },
   {
    "duration": 2602,
    "start_time": "2023-02-24T20:53:00.391Z"
   },
   {
    "duration": 4,
    "start_time": "2023-02-24T20:53:02.995Z"
   },
   {
    "duration": 3314,
    "start_time": "2023-02-24T20:53:03.001Z"
   },
   {
    "duration": 11,
    "start_time": "2023-02-24T20:53:06.316Z"
   },
   {
    "duration": 6473,
    "start_time": "2023-02-24T21:00:45.999Z"
   },
   {
    "duration": 2294,
    "start_time": "2023-02-24T21:00:52.476Z"
   },
   {
    "duration": 12,
    "start_time": "2023-02-24T21:00:54.772Z"
   },
   {
    "duration": 46,
    "start_time": "2023-02-24T21:00:54.785Z"
   },
   {
    "duration": 243,
    "start_time": "2023-02-24T21:00:54.833Z"
   },
   {
    "duration": 5,
    "start_time": "2023-02-24T21:00:55.078Z"
   },
   {
    "duration": 310,
    "start_time": "2023-02-24T21:00:55.085Z"
   },
   {
    "duration": 2509,
    "start_time": "2023-02-24T21:00:55.397Z"
   },
   {
    "duration": 4,
    "start_time": "2023-02-24T21:00:57.908Z"
   },
   {
    "duration": 3426,
    "start_time": "2023-02-24T21:00:57.914Z"
   },
   {
    "duration": 45,
    "start_time": "2023-02-24T21:02:23.835Z"
   },
   {
    "duration": 5520,
    "start_time": "2023-02-24T21:02:33.914Z"
   },
   {
    "duration": 2294,
    "start_time": "2023-02-24T21:02:39.436Z"
   },
   {
    "duration": 11,
    "start_time": "2023-02-24T21:02:41.731Z"
   },
   {
    "duration": 34,
    "start_time": "2023-02-24T21:02:41.745Z"
   },
   {
    "duration": 257,
    "start_time": "2023-02-24T21:02:41.781Z"
   },
   {
    "duration": 5,
    "start_time": "2023-02-24T21:02:42.040Z"
   },
   {
    "duration": 312,
    "start_time": "2023-02-24T21:02:42.047Z"
   },
   {
    "duration": 2491,
    "start_time": "2023-02-24T21:02:42.361Z"
   },
   {
    "duration": 4,
    "start_time": "2023-02-24T21:02:44.854Z"
   },
   {
    "duration": 5424,
    "start_time": "2023-02-24T21:17:36.170Z"
   },
   {
    "duration": 2306,
    "start_time": "2023-02-24T21:17:41.596Z"
   },
   {
    "duration": 11,
    "start_time": "2023-02-24T21:17:43.904Z"
   },
   {
    "duration": 34,
    "start_time": "2023-02-24T21:17:43.917Z"
   },
   {
    "duration": 244,
    "start_time": "2023-02-24T21:17:43.952Z"
   },
   {
    "duration": 6,
    "start_time": "2023-02-24T21:17:44.197Z"
   },
   {
    "duration": 311,
    "start_time": "2023-02-24T21:17:44.204Z"
   },
   {
    "duration": 2389,
    "start_time": "2023-02-24T21:17:44.516Z"
   },
   {
    "duration": 4,
    "start_time": "2023-02-24T21:17:46.907Z"
   },
   {
    "duration": 3487,
    "start_time": "2023-02-24T21:17:46.914Z"
   },
   {
    "duration": 17,
    "start_time": "2023-02-24T21:17:50.403Z"
   },
   {
    "duration": 1591,
    "start_time": "2023-02-24T21:17:50.422Z"
   },
   {
    "duration": 74,
    "start_time": "2023-02-24T21:19:03.602Z"
   },
   {
    "duration": 46,
    "start_time": "2023-02-24T21:19:27.886Z"
   },
   {
    "duration": 6,
    "start_time": "2023-02-24T21:21:02.401Z"
   },
   {
    "duration": 4,
    "start_time": "2023-02-24T21:23:12.476Z"
   },
   {
    "duration": 20,
    "start_time": "2023-02-24T21:26:23.616Z"
   },
   {
    "duration": 6859,
    "start_time": "2023-02-24T21:26:32.382Z"
   },
   {
    "duration": 3,
    "start_time": "2023-02-24T21:26:42.792Z"
   },
   {
    "duration": 17,
    "start_time": "2023-02-24T21:42:32.988Z"
   },
   {
    "duration": 34638,
    "start_time": "2023-02-24T21:43:36.704Z"
   },
   {
    "duration": 21,
    "start_time": "2023-02-24T21:53:12.946Z"
   },
   {
    "duration": 33,
    "start_time": "2023-02-24T21:53:46.832Z"
   },
   {
    "duration": 24951,
    "start_time": "2023-02-24T21:53:52.811Z"
   },
   {
    "duration": 6667,
    "start_time": "2023-02-24T22:02:16.538Z"
   },
   {
    "duration": 2391,
    "start_time": "2023-02-24T22:02:23.207Z"
   },
   {
    "duration": 11,
    "start_time": "2023-02-24T22:02:25.600Z"
   },
   {
    "duration": 55,
    "start_time": "2023-02-24T22:02:25.613Z"
   },
   {
    "duration": 284,
    "start_time": "2023-02-24T22:02:25.670Z"
   },
   {
    "duration": 6,
    "start_time": "2023-02-24T22:02:25.956Z"
   },
   {
    "duration": 331,
    "start_time": "2023-02-24T22:02:25.964Z"
   },
   {
    "duration": 2577,
    "start_time": "2023-02-24T22:02:26.297Z"
   },
   {
    "duration": 5,
    "start_time": "2023-02-24T22:02:28.875Z"
   },
   {
    "duration": 3164,
    "start_time": "2023-02-24T22:02:28.882Z"
   },
   {
    "duration": 68,
    "start_time": "2023-02-24T22:02:32.048Z"
   },
   {
    "duration": 4,
    "start_time": "2023-02-24T22:02:32.117Z"
   },
   {
    "duration": 22,
    "start_time": "2023-02-24T22:02:32.123Z"
   },
   {
    "duration": 6541,
    "start_time": "2023-02-24T22:02:32.147Z"
   },
   {
    "duration": 3,
    "start_time": "2023-02-24T22:02:38.690Z"
   },
   {
    "duration": 34253,
    "start_time": "2023-02-24T22:02:38.695Z"
   },
   {
    "duration": 25439,
    "start_time": "2023-02-24T22:03:12.950Z"
   },
   {
    "duration": 50,
    "start_time": "2023-02-24T22:05:07.569Z"
   },
   {
    "duration": 5982,
    "start_time": "2023-02-24T22:05:28.656Z"
   },
   {
    "duration": 2379,
    "start_time": "2023-02-24T22:05:34.640Z"
   },
   {
    "duration": 12,
    "start_time": "2023-02-24T22:05:37.021Z"
   },
   {
    "duration": 41,
    "start_time": "2023-02-24T22:05:37.035Z"
   },
   {
    "duration": 260,
    "start_time": "2023-02-24T22:05:37.078Z"
   },
   {
    "duration": 5,
    "start_time": "2023-02-24T22:05:37.340Z"
   },
   {
    "duration": 295,
    "start_time": "2023-02-24T22:05:37.347Z"
   },
   {
    "duration": 2375,
    "start_time": "2023-02-24T22:05:37.644Z"
   },
   {
    "duration": 4,
    "start_time": "2023-02-24T22:05:40.020Z"
   },
   {
    "duration": 3089,
    "start_time": "2023-02-24T22:05:40.027Z"
   },
   {
    "duration": 72,
    "start_time": "2023-02-24T22:05:43.118Z"
   },
   {
    "duration": 4,
    "start_time": "2023-02-24T22:05:43.192Z"
   },
   {
    "duration": 10,
    "start_time": "2023-02-24T22:05:43.197Z"
   },
   {
    "duration": 6763,
    "start_time": "2023-02-24T22:05:43.209Z"
   },
   {
    "duration": 3,
    "start_time": "2023-02-24T22:05:49.974Z"
   },
   {
    "duration": 35265,
    "start_time": "2023-02-24T22:05:49.979Z"
   },
   {
    "duration": 23160,
    "start_time": "2023-02-24T22:06:25.245Z"
   },
   {
    "duration": 2,
    "start_time": "2023-02-24T22:06:48.407Z"
   },
   {
    "duration": 6495,
    "start_time": "2023-02-24T22:24:42.217Z"
   },
   {
    "duration": 2298,
    "start_time": "2023-02-24T22:24:48.714Z"
   },
   {
    "duration": 12,
    "start_time": "2023-02-24T22:24:51.014Z"
   },
   {
    "duration": 44,
    "start_time": "2023-02-24T22:24:51.028Z"
   },
   {
    "duration": 248,
    "start_time": "2023-02-24T22:24:51.073Z"
   },
   {
    "duration": 17,
    "start_time": "2023-02-24T22:24:51.323Z"
   },
   {
    "duration": 300,
    "start_time": "2023-02-24T22:24:51.342Z"
   },
   {
    "duration": 2467,
    "start_time": "2023-02-24T22:24:51.644Z"
   },
   {
    "duration": 4,
    "start_time": "2023-02-24T22:24:54.113Z"
   },
   {
    "duration": 3098,
    "start_time": "2023-02-24T22:24:54.120Z"
   },
   {
    "duration": 67,
    "start_time": "2023-02-24T22:24:57.220Z"
   },
   {
    "duration": 4,
    "start_time": "2023-02-24T22:24:57.289Z"
   },
   {
    "duration": 17,
    "start_time": "2023-02-24T22:24:57.295Z"
   },
   {
    "duration": 6754,
    "start_time": "2023-02-24T22:24:57.313Z"
   },
   {
    "duration": 3,
    "start_time": "2023-02-24T22:25:04.069Z"
   },
   {
    "duration": 34672,
    "start_time": "2023-02-24T22:25:04.073Z"
   },
   {
    "duration": 24308,
    "start_time": "2023-02-24T22:25:38.747Z"
   },
   {
    "duration": 3,
    "start_time": "2023-02-24T22:26:03.056Z"
   },
   {
    "duration": 33887,
    "start_time": "2023-02-24T22:26:03.060Z"
   },
   {
    "duration": 375,
    "start_time": "2023-02-24T22:29:35.368Z"
   },
   {
    "duration": 6520,
    "start_time": "2023-02-24T22:33:11.673Z"
   },
   {
    "duration": 2336,
    "start_time": "2023-02-24T22:33:18.195Z"
   },
   {
    "duration": 12,
    "start_time": "2023-02-24T22:33:20.533Z"
   },
   {
    "duration": 57,
    "start_time": "2023-02-24T22:33:20.547Z"
   },
   {
    "duration": 245,
    "start_time": "2023-02-24T22:33:20.607Z"
   },
   {
    "duration": 6,
    "start_time": "2023-02-24T22:33:20.854Z"
   },
   {
    "duration": 325,
    "start_time": "2023-02-24T22:33:20.861Z"
   },
   {
    "duration": 2555,
    "start_time": "2023-02-24T22:33:21.188Z"
   },
   {
    "duration": 4,
    "start_time": "2023-02-24T22:33:23.744Z"
   },
   {
    "duration": 3203,
    "start_time": "2023-02-24T22:33:23.750Z"
   },
   {
    "duration": 77,
    "start_time": "2023-02-24T22:33:26.955Z"
   },
   {
    "duration": 7,
    "start_time": "2023-02-24T22:33:27.033Z"
   },
   {
    "duration": 16,
    "start_time": "2023-02-24T22:33:27.042Z"
   },
   {
    "duration": 7081,
    "start_time": "2023-02-24T22:33:27.061Z"
   },
   {
    "duration": 3,
    "start_time": "2023-02-24T22:33:34.144Z"
   },
   {
    "duration": 34491,
    "start_time": "2023-02-24T22:33:34.148Z"
   },
   {
    "duration": 24980,
    "start_time": "2023-02-24T22:34:08.641Z"
   },
   {
    "duration": 3,
    "start_time": "2023-02-24T22:34:33.623Z"
   },
   {
    "duration": 6483,
    "start_time": "2023-02-24T22:36:22.833Z"
   },
   {
    "duration": 2411,
    "start_time": "2023-02-24T22:36:29.318Z"
   },
   {
    "duration": 17,
    "start_time": "2023-02-24T22:36:31.733Z"
   },
   {
    "duration": 57,
    "start_time": "2023-02-24T22:36:31.752Z"
   },
   {
    "duration": 246,
    "start_time": "2023-02-24T22:36:31.811Z"
   },
   {
    "duration": 7,
    "start_time": "2023-02-24T22:36:32.059Z"
   },
   {
    "duration": 318,
    "start_time": "2023-02-24T22:36:32.067Z"
   },
   {
    "duration": 2512,
    "start_time": "2023-02-24T22:36:32.387Z"
   },
   {
    "duration": 4,
    "start_time": "2023-02-24T22:36:34.901Z"
   },
   {
    "duration": 3402,
    "start_time": "2023-02-24T22:36:34.907Z"
   },
   {
    "duration": 72,
    "start_time": "2023-02-24T22:36:38.311Z"
   },
   {
    "duration": 5,
    "start_time": "2023-02-24T22:36:38.385Z"
   },
   {
    "duration": 16,
    "start_time": "2023-02-24T22:36:38.393Z"
   },
   {
    "duration": 7117,
    "start_time": "2023-02-24T22:36:38.411Z"
   },
   {
    "duration": 10,
    "start_time": "2023-02-24T22:36:45.530Z"
   },
   {
    "duration": 35806,
    "start_time": "2023-02-24T22:36:45.541Z"
   },
   {
    "duration": 25436,
    "start_time": "2023-02-24T22:37:21.349Z"
   },
   {
    "duration": 2,
    "start_time": "2023-02-24T22:37:46.787Z"
   },
   {
    "duration": 6582,
    "start_time": "2023-02-24T22:39:46.853Z"
   },
   {
    "duration": 2427,
    "start_time": "2023-02-24T22:39:53.437Z"
   },
   {
    "duration": 12,
    "start_time": "2023-02-24T22:39:55.866Z"
   },
   {
    "duration": 41,
    "start_time": "2023-02-24T22:39:55.880Z"
   },
   {
    "duration": 246,
    "start_time": "2023-02-24T22:39:55.922Z"
   },
   {
    "duration": 6,
    "start_time": "2023-02-24T22:39:56.170Z"
   },
   {
    "duration": 322,
    "start_time": "2023-02-24T22:39:56.178Z"
   },
   {
    "duration": 2580,
    "start_time": "2023-02-24T22:39:56.502Z"
   },
   {
    "duration": 4,
    "start_time": "2023-02-24T22:39:59.083Z"
   },
   {
    "duration": 3349,
    "start_time": "2023-02-24T22:39:59.089Z"
   },
   {
    "duration": 81,
    "start_time": "2023-02-24T22:40:02.440Z"
   },
   {
    "duration": 15,
    "start_time": "2023-02-24T22:40:02.523Z"
   },
   {
    "duration": 54,
    "start_time": "2023-02-24T22:40:02.540Z"
   },
   {
    "duration": 7178,
    "start_time": "2023-02-24T22:40:02.595Z"
   },
   {
    "duration": 3,
    "start_time": "2023-02-24T22:40:09.775Z"
   },
   {
    "duration": 34259,
    "start_time": "2023-02-24T22:40:09.780Z"
   },
   {
    "duration": 24699,
    "start_time": "2023-02-24T22:40:44.041Z"
   },
   {
    "duration": 2,
    "start_time": "2023-02-24T22:41:08.741Z"
   },
   {
    "duration": 57,
    "start_time": "2023-02-24T22:45:11.370Z"
   },
   {
    "duration": 6576,
    "start_time": "2023-02-24T22:45:18.827Z"
   },
   {
    "duration": 2313,
    "start_time": "2023-02-24T22:45:25.406Z"
   },
   {
    "duration": 12,
    "start_time": "2023-02-24T22:45:27.721Z"
   },
   {
    "duration": 40,
    "start_time": "2023-02-24T22:45:27.734Z"
   },
   {
    "duration": 237,
    "start_time": "2023-02-24T22:45:27.776Z"
   },
   {
    "duration": 6,
    "start_time": "2023-02-24T22:45:28.015Z"
   },
   {
    "duration": 336,
    "start_time": "2023-02-24T22:45:28.022Z"
   },
   {
    "duration": 2402,
    "start_time": "2023-02-24T22:45:28.360Z"
   },
   {
    "duration": 4,
    "start_time": "2023-02-24T22:45:30.764Z"
   },
   {
    "duration": 3312,
    "start_time": "2023-02-24T22:45:30.769Z"
   },
   {
    "duration": 71,
    "start_time": "2023-02-24T22:45:34.083Z"
   },
   {
    "duration": 5,
    "start_time": "2023-02-24T22:45:34.156Z"
   },
   {
    "duration": 55,
    "start_time": "2023-02-24T22:45:34.163Z"
   },
   {
    "duration": 7079,
    "start_time": "2023-02-24T22:45:34.221Z"
   },
   {
    "duration": 3,
    "start_time": "2023-02-24T22:45:41.302Z"
   },
   {
    "duration": 35042,
    "start_time": "2023-02-24T22:45:41.307Z"
   },
   {
    "duration": 24657,
    "start_time": "2023-02-24T22:46:16.351Z"
   },
   {
    "duration": 3,
    "start_time": "2023-02-24T22:46:41.009Z"
   },
   {
    "duration": 377,
    "start_time": "2023-02-24T22:46:41.013Z"
   },
   {
    "duration": 6059,
    "start_time": "2023-02-24T22:50:53.760Z"
   },
   {
    "duration": 2318,
    "start_time": "2023-02-24T22:50:59.822Z"
   },
   {
    "duration": 13,
    "start_time": "2023-02-24T22:51:02.142Z"
   },
   {
    "duration": 54,
    "start_time": "2023-02-24T22:51:02.157Z"
   },
   {
    "duration": 244,
    "start_time": "2023-02-24T22:51:02.213Z"
   },
   {
    "duration": 7,
    "start_time": "2023-02-24T22:51:02.460Z"
   },
   {
    "duration": 311,
    "start_time": "2023-02-24T22:51:02.469Z"
   },
   {
    "duration": 2460,
    "start_time": "2023-02-24T22:51:02.781Z"
   },
   {
    "duration": 4,
    "start_time": "2023-02-24T22:51:05.243Z"
   },
   {
    "duration": 3240,
    "start_time": "2023-02-24T22:51:05.249Z"
   },
   {
    "duration": 73,
    "start_time": "2023-02-24T22:51:08.491Z"
   },
   {
    "duration": 5,
    "start_time": "2023-02-24T22:51:08.566Z"
   },
   {
    "duration": 13,
    "start_time": "2023-02-24T22:51:08.573Z"
   },
   {
    "duration": 7042,
    "start_time": "2023-02-24T22:51:08.588Z"
   },
   {
    "duration": 8,
    "start_time": "2023-02-24T22:51:15.632Z"
   },
   {
    "duration": 35115,
    "start_time": "2023-02-24T22:51:15.642Z"
   },
   {
    "duration": 25076,
    "start_time": "2023-02-24T22:51:50.759Z"
   },
   {
    "duration": 3,
    "start_time": "2023-02-24T22:52:15.838Z"
   },
   {
    "duration": 6678,
    "start_time": "2023-02-24T22:56:01.909Z"
   },
   {
    "duration": 2350,
    "start_time": "2023-02-24T22:56:08.590Z"
   },
   {
    "duration": 11,
    "start_time": "2023-02-24T22:56:10.942Z"
   },
   {
    "duration": 57,
    "start_time": "2023-02-24T22:56:10.955Z"
   },
   {
    "duration": 239,
    "start_time": "2023-02-24T22:56:11.013Z"
   },
   {
    "duration": 6,
    "start_time": "2023-02-24T22:56:11.254Z"
   },
   {
    "duration": 304,
    "start_time": "2023-02-24T22:56:11.261Z"
   },
   {
    "duration": 2495,
    "start_time": "2023-02-24T22:56:11.567Z"
   },
   {
    "duration": 4,
    "start_time": "2023-02-24T22:56:14.064Z"
   },
   {
    "duration": 3297,
    "start_time": "2023-02-24T22:56:14.070Z"
   },
   {
    "duration": 76,
    "start_time": "2023-02-24T22:56:17.369Z"
   },
   {
    "duration": 5,
    "start_time": "2023-02-24T22:56:17.446Z"
   },
   {
    "duration": 32,
    "start_time": "2023-02-24T22:56:17.452Z"
   },
   {
    "duration": 7031,
    "start_time": "2023-02-24T22:56:17.486Z"
   },
   {
    "duration": 4,
    "start_time": "2023-02-24T22:56:24.519Z"
   },
   {
    "duration": 34038,
    "start_time": "2023-02-24T22:56:24.524Z"
   },
   {
    "duration": 25268,
    "start_time": "2023-02-24T22:56:58.564Z"
   },
   {
    "duration": 4,
    "start_time": "2023-02-24T22:57:23.834Z"
   },
   {
    "duration": 19,
    "start_time": "2023-02-24T22:57:23.840Z"
   },
   {
    "duration": 34085,
    "start_time": "2023-02-24T22:57:23.861Z"
   },
   {
    "duration": 359,
    "start_time": "2023-02-24T22:59:26.091Z"
   },
   {
    "duration": 77023,
    "start_time": "2023-02-24T23:00:28.418Z"
   },
   {
    "duration": 75699,
    "start_time": "2023-02-24T23:02:21.649Z"
   },
   {
    "duration": 6604,
    "start_time": "2023-02-24T23:03:59.218Z"
   },
   {
    "duration": 2329,
    "start_time": "2023-02-24T23:04:05.824Z"
   },
   {
    "duration": 13,
    "start_time": "2023-02-24T23:04:08.155Z"
   },
   {
    "duration": 43,
    "start_time": "2023-02-24T23:04:08.170Z"
   },
   {
    "duration": 239,
    "start_time": "2023-02-24T23:04:08.214Z"
   },
   {
    "duration": 6,
    "start_time": "2023-02-24T23:04:08.455Z"
   },
   {
    "duration": 318,
    "start_time": "2023-02-24T23:04:08.462Z"
   },
   {
    "duration": 2501,
    "start_time": "2023-02-24T23:04:08.782Z"
   },
   {
    "duration": 4,
    "start_time": "2023-02-24T23:04:11.285Z"
   },
   {
    "duration": 3311,
    "start_time": "2023-02-24T23:04:11.291Z"
   },
   {
    "duration": 81,
    "start_time": "2023-02-24T23:04:14.604Z"
   },
   {
    "duration": 5,
    "start_time": "2023-02-24T23:04:14.687Z"
   },
   {
    "duration": 19,
    "start_time": "2023-02-24T23:04:14.694Z"
   },
   {
    "duration": 7135,
    "start_time": "2023-02-24T23:04:14.715Z"
   },
   {
    "duration": 5,
    "start_time": "2023-02-24T23:04:21.852Z"
   },
   {
    "duration": 78988,
    "start_time": "2023-02-24T23:04:21.858Z"
   },
   {
    "duration": 23241,
    "start_time": "2023-02-24T23:05:40.847Z"
   },
   {
    "duration": 2,
    "start_time": "2023-02-24T23:06:04.090Z"
   },
   {
    "duration": 8,
    "start_time": "2023-02-24T23:06:04.094Z"
   },
   {
    "duration": 75735,
    "start_time": "2023-02-24T23:06:04.104Z"
   },
   {
    "duration": 4,
    "start_time": "2023-02-25T20:42:11.217Z"
   },
   {
    "duration": 55,
    "start_time": "2023-02-25T21:37:15.210Z"
   },
   {
    "duration": 7742,
    "start_time": "2023-02-25T21:38:03.555Z"
   },
   {
    "duration": 4086,
    "start_time": "2023-02-25T21:38:11.299Z"
   },
   {
    "duration": 12,
    "start_time": "2023-02-25T21:38:15.387Z"
   },
   {
    "duration": 35,
    "start_time": "2023-02-25T21:38:15.401Z"
   },
   {
    "duration": 273,
    "start_time": "2023-02-25T21:38:15.440Z"
   },
   {
    "duration": 14,
    "start_time": "2023-02-25T21:38:15.715Z"
   },
   {
    "duration": 343,
    "start_time": "2023-02-25T21:38:15.735Z"
   },
   {
    "duration": 2894,
    "start_time": "2023-02-25T21:38:16.080Z"
   },
   {
    "duration": 4,
    "start_time": "2023-02-25T21:38:18.976Z"
   },
   {
    "duration": 5,
    "start_time": "2023-02-25T21:38:18.981Z"
   },
   {
    "duration": 1327,
    "start_time": "2023-02-25T21:38:18.988Z"
   },
   {
    "duration": 0,
    "start_time": "2023-02-25T21:38:20.318Z"
   },
   {
    "duration": 0,
    "start_time": "2023-02-25T21:38:20.319Z"
   },
   {
    "duration": 0,
    "start_time": "2023-02-25T21:38:20.321Z"
   },
   {
    "duration": 0,
    "start_time": "2023-02-25T21:38:20.322Z"
   },
   {
    "duration": 0,
    "start_time": "2023-02-25T21:38:20.324Z"
   },
   {
    "duration": 0,
    "start_time": "2023-02-25T21:38:20.325Z"
   },
   {
    "duration": 0,
    "start_time": "2023-02-25T21:38:20.329Z"
   },
   {
    "duration": 0,
    "start_time": "2023-02-25T21:38:20.335Z"
   },
   {
    "duration": 0,
    "start_time": "2023-02-25T21:38:20.337Z"
   },
   {
    "duration": 0,
    "start_time": "2023-02-25T21:38:20.338Z"
   },
   {
    "duration": 953,
    "start_time": "2023-02-25T21:38:42.415Z"
   },
   {
    "duration": 280,
    "start_time": "2023-02-25T21:39:19.416Z"
   },
   {
    "duration": 5,
    "start_time": "2023-02-25T21:40:48.500Z"
   },
   {
    "duration": 2009,
    "start_time": "2023-02-25T21:40:57.277Z"
   },
   {
    "duration": 870,
    "start_time": "2023-02-25T21:40:59.289Z"
   },
   {
    "duration": 14,
    "start_time": "2023-02-25T21:41:00.161Z"
   },
   {
    "duration": 38,
    "start_time": "2023-02-25T21:41:00.177Z"
   },
   {
    "duration": 298,
    "start_time": "2023-02-25T21:41:00.227Z"
   },
   {
    "duration": 13,
    "start_time": "2023-02-25T21:41:00.529Z"
   },
   {
    "duration": 381,
    "start_time": "2023-02-25T21:41:00.545Z"
   },
   {
    "duration": 2826,
    "start_time": "2023-02-25T21:41:00.934Z"
   },
   {
    "duration": 5,
    "start_time": "2023-02-25T21:41:03.762Z"
   },
   {
    "duration": 15,
    "start_time": "2023-02-25T21:41:03.768Z"
   },
   {
    "duration": 364,
    "start_time": "2023-02-25T21:41:03.785Z"
   },
   {
    "duration": 0,
    "start_time": "2023-02-25T21:41:04.151Z"
   },
   {
    "duration": 0,
    "start_time": "2023-02-25T21:41:04.153Z"
   },
   {
    "duration": 0,
    "start_time": "2023-02-25T21:41:04.154Z"
   },
   {
    "duration": 0,
    "start_time": "2023-02-25T21:41:04.156Z"
   },
   {
    "duration": 0,
    "start_time": "2023-02-25T21:41:04.157Z"
   },
   {
    "duration": 0,
    "start_time": "2023-02-25T21:41:04.158Z"
   },
   {
    "duration": 0,
    "start_time": "2023-02-25T21:41:04.159Z"
   },
   {
    "duration": 0,
    "start_time": "2023-02-25T21:41:04.160Z"
   },
   {
    "duration": 0,
    "start_time": "2023-02-25T21:41:04.161Z"
   },
   {
    "duration": 0,
    "start_time": "2023-02-25T21:41:04.163Z"
   },
   {
    "duration": 2014,
    "start_time": "2023-02-25T21:41:44.651Z"
   },
   {
    "duration": 851,
    "start_time": "2023-02-25T21:41:46.668Z"
   },
   {
    "duration": 24,
    "start_time": "2023-02-25T21:41:47.522Z"
   },
   {
    "duration": 61,
    "start_time": "2023-02-25T21:41:47.548Z"
   },
   {
    "duration": 284,
    "start_time": "2023-02-25T21:41:47.612Z"
   },
   {
    "duration": 9,
    "start_time": "2023-02-25T21:41:47.900Z"
   },
   {
    "duration": 321,
    "start_time": "2023-02-25T21:41:47.911Z"
   },
   {
    "duration": 2774,
    "start_time": "2023-02-25T21:41:48.241Z"
   },
   {
    "duration": 6,
    "start_time": "2023-02-25T21:41:51.017Z"
   },
   {
    "duration": 42,
    "start_time": "2023-02-25T21:41:51.025Z"
   },
   {
    "duration": 88614,
    "start_time": "2023-02-25T21:41:51.069Z"
   },
   {
    "duration": 59,
    "start_time": "2023-02-25T21:43:19.685Z"
   },
   {
    "duration": 6,
    "start_time": "2023-02-25T21:43:19.747Z"
   },
   {
    "duration": 5,
    "start_time": "2023-02-25T21:43:19.757Z"
   },
   {
    "duration": 7753,
    "start_time": "2023-02-25T21:43:19.764Z"
   },
   {
    "duration": 4,
    "start_time": "2023-02-25T21:43:27.519Z"
   },
   {
    "duration": 92123,
    "start_time": "2023-02-25T21:43:27.527Z"
   },
   {
    "duration": 26413,
    "start_time": "2023-02-25T21:44:59.658Z"
   },
   {
    "duration": 3,
    "start_time": "2023-02-25T21:45:26.073Z"
   },
   {
    "duration": 25,
    "start_time": "2023-02-25T21:45:26.077Z"
   },
   {
    "duration": 84249,
    "start_time": "2023-02-25T21:45:26.103Z"
   }
  ],
  "kernelspec": {
   "display_name": "Python 3 (ipykernel)",
   "language": "python",
   "name": "python3"
  },
  "language_info": {
   "codemirror_mode": {
    "name": "ipython",
    "version": 3
   },
   "file_extension": ".py",
   "mimetype": "text/x-python",
   "name": "python",
   "nbconvert_exporter": "python",
   "pygments_lexer": "ipython3",
   "version": "3.10.9"
  },
  "toc": {
   "base_numbering": 1,
   "nav_menu": {},
   "number_sections": true,
   "sideBar": true,
   "skip_h1_title": true,
   "title_cell": "Содержание",
   "title_sidebar": "Contents",
   "toc_cell": true,
   "toc_position": {
    "height": "calc(100% - 180px)",
    "left": "10px",
    "top": "150px",
    "width": "302.391px"
   },
   "toc_section_display": true,
   "toc_window_display": false
  }
 },
 "nbformat": 4,
 "nbformat_minor": 4
}
