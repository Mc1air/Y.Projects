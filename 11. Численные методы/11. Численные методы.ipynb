{
 "cells": [
  {
   "cell_type": "markdown",
   "metadata": {},
   "source": [
    "# Определение стоимости автомобилей"
   ]
  },
  {
   "cell_type": "markdown",
   "metadata": {},
   "source": [
    "**Описание проекта:**\n",
    "     \n",
    "Сервис по продаже автомобилей с пробегом разрабатывает приложение для привлечения новых клиентов. В нём можно быстро узнать рыночную стоимость своего автомобиля. В нашем распоряжении исторические данные: технические характеристики, комплектации и цены автомобилей.\n",
    "\n",
    "Заказчику важны:\n",
    "\n",
    "- качество предсказания\n",
    "- скорость предсказания\n",
    "- время обучения"
   ]
  },
  {
   "cell_type": "markdown",
   "metadata": {},
   "source": [
    "**Цель исследования:**  \n",
    "Построить модель для определения стоимости автомобилей с наилучшим качеством предсказания, минимальной скоростью обучения и предсказания."
   ]
  },
  {
   "cell_type": "markdown",
   "metadata": {},
   "source": [
    "**Ход исследования:**  \n",
    "* Изучение данных\n",
    "* Предобработка данных\n",
    "* Подготовка данных к обучению моделей\n",
    "* Обучение моделей\n",
    "* Анализ скорости обучения и предсказания, качества предсказания моделей\n",
    "* Выбор лучшей модели и проверка её на тестовой выборке"
   ]
  },
  {
   "cell_type": "markdown",
   "metadata": {},
   "source": [
    "## Подготовка данных"
   ]
  },
  {
   "cell_type": "code",
   "execution_count": 1,
   "metadata": {},
   "outputs": [],
   "source": [
    "#Импортируем библиотеки\n",
    "from time import time\n",
    "import pandas as pd\n",
    "from sklearn.model_selection import train_test_split\n",
    "from sklearn.metrics import mean_squared_error\n",
    "from sklearn.model_selection import GridSearchCV\n",
    "from sklearn.ensemble import RandomForestClassifier\n",
    "from sklearn.linear_model import LinearRegression\n",
    "from sklearn.preprocessing import OrdinalEncoder\n",
    "from sklearn.tree import DecisionTreeRegressor\n",
    "import lightgbm as lgb\n",
    "from lightgbm import LGBMRegressor\n",
    "from sklearn.preprocessing import StandardScaler\n",
    "from sklearn.ensemble import RandomForestRegressor"
   ]
  },
  {
   "cell_type": "code",
   "execution_count": 2,
   "metadata": {},
   "outputs": [],
   "source": [
    "#Сохраним данные в переменную data\n",
    "data = pd.read_csv('/datasets/autos.csv')"
   ]
  },
  {
   "cell_type": "markdown",
   "metadata": {},
   "source": [
    "Изучим данные"
   ]
  },
  {
   "cell_type": "code",
   "execution_count": 3,
   "metadata": {},
   "outputs": [
    {
     "data": {
      "text/html": [
       "<div>\n",
       "<style scoped>\n",
       "    .dataframe tbody tr th:only-of-type {\n",
       "        vertical-align: middle;\n",
       "    }\n",
       "\n",
       "    .dataframe tbody tr th {\n",
       "        vertical-align: top;\n",
       "    }\n",
       "\n",
       "    .dataframe thead th {\n",
       "        text-align: right;\n",
       "    }\n",
       "</style>\n",
       "<table border=\"1\" class=\"dataframe\">\n",
       "  <thead>\n",
       "    <tr style=\"text-align: right;\">\n",
       "      <th></th>\n",
       "      <th>DateCrawled</th>\n",
       "      <th>Price</th>\n",
       "      <th>VehicleType</th>\n",
       "      <th>RegistrationYear</th>\n",
       "      <th>Gearbox</th>\n",
       "      <th>Power</th>\n",
       "      <th>Model</th>\n",
       "      <th>Kilometer</th>\n",
       "      <th>RegistrationMonth</th>\n",
       "      <th>FuelType</th>\n",
       "      <th>Brand</th>\n",
       "      <th>Repaired</th>\n",
       "      <th>DateCreated</th>\n",
       "      <th>NumberOfPictures</th>\n",
       "      <th>PostalCode</th>\n",
       "      <th>LastSeen</th>\n",
       "    </tr>\n",
       "  </thead>\n",
       "  <tbody>\n",
       "    <tr>\n",
       "      <th>0</th>\n",
       "      <td>2016-03-24 11:52:17</td>\n",
       "      <td>480</td>\n",
       "      <td>NaN</td>\n",
       "      <td>1993</td>\n",
       "      <td>manual</td>\n",
       "      <td>0</td>\n",
       "      <td>golf</td>\n",
       "      <td>150000</td>\n",
       "      <td>0</td>\n",
       "      <td>petrol</td>\n",
       "      <td>volkswagen</td>\n",
       "      <td>NaN</td>\n",
       "      <td>2016-03-24 00:00:00</td>\n",
       "      <td>0</td>\n",
       "      <td>70435</td>\n",
       "      <td>2016-04-07 03:16:57</td>\n",
       "    </tr>\n",
       "    <tr>\n",
       "      <th>1</th>\n",
       "      <td>2016-03-24 10:58:45</td>\n",
       "      <td>18300</td>\n",
       "      <td>coupe</td>\n",
       "      <td>2011</td>\n",
       "      <td>manual</td>\n",
       "      <td>190</td>\n",
       "      <td>NaN</td>\n",
       "      <td>125000</td>\n",
       "      <td>5</td>\n",
       "      <td>gasoline</td>\n",
       "      <td>audi</td>\n",
       "      <td>yes</td>\n",
       "      <td>2016-03-24 00:00:00</td>\n",
       "      <td>0</td>\n",
       "      <td>66954</td>\n",
       "      <td>2016-04-07 01:46:50</td>\n",
       "    </tr>\n",
       "    <tr>\n",
       "      <th>2</th>\n",
       "      <td>2016-03-14 12:52:21</td>\n",
       "      <td>9800</td>\n",
       "      <td>suv</td>\n",
       "      <td>2004</td>\n",
       "      <td>auto</td>\n",
       "      <td>163</td>\n",
       "      <td>grand</td>\n",
       "      <td>125000</td>\n",
       "      <td>8</td>\n",
       "      <td>gasoline</td>\n",
       "      <td>jeep</td>\n",
       "      <td>NaN</td>\n",
       "      <td>2016-03-14 00:00:00</td>\n",
       "      <td>0</td>\n",
       "      <td>90480</td>\n",
       "      <td>2016-04-05 12:47:46</td>\n",
       "    </tr>\n",
       "    <tr>\n",
       "      <th>3</th>\n",
       "      <td>2016-03-17 16:54:04</td>\n",
       "      <td>1500</td>\n",
       "      <td>small</td>\n",
       "      <td>2001</td>\n",
       "      <td>manual</td>\n",
       "      <td>75</td>\n",
       "      <td>golf</td>\n",
       "      <td>150000</td>\n",
       "      <td>6</td>\n",
       "      <td>petrol</td>\n",
       "      <td>volkswagen</td>\n",
       "      <td>no</td>\n",
       "      <td>2016-03-17 00:00:00</td>\n",
       "      <td>0</td>\n",
       "      <td>91074</td>\n",
       "      <td>2016-03-17 17:40:17</td>\n",
       "    </tr>\n",
       "    <tr>\n",
       "      <th>4</th>\n",
       "      <td>2016-03-31 17:25:20</td>\n",
       "      <td>3600</td>\n",
       "      <td>small</td>\n",
       "      <td>2008</td>\n",
       "      <td>manual</td>\n",
       "      <td>69</td>\n",
       "      <td>fabia</td>\n",
       "      <td>90000</td>\n",
       "      <td>7</td>\n",
       "      <td>gasoline</td>\n",
       "      <td>skoda</td>\n",
       "      <td>no</td>\n",
       "      <td>2016-03-31 00:00:00</td>\n",
       "      <td>0</td>\n",
       "      <td>60437</td>\n",
       "      <td>2016-04-06 10:17:21</td>\n",
       "    </tr>\n",
       "  </tbody>\n",
       "</table>\n",
       "</div>"
      ],
      "text/plain": [
       "           DateCrawled  Price VehicleType  RegistrationYear Gearbox  Power  \\\n",
       "0  2016-03-24 11:52:17    480         NaN              1993  manual      0   \n",
       "1  2016-03-24 10:58:45  18300       coupe              2011  manual    190   \n",
       "2  2016-03-14 12:52:21   9800         suv              2004    auto    163   \n",
       "3  2016-03-17 16:54:04   1500       small              2001  manual     75   \n",
       "4  2016-03-31 17:25:20   3600       small              2008  manual     69   \n",
       "\n",
       "   Model  Kilometer  RegistrationMonth  FuelType       Brand Repaired  \\\n",
       "0   golf     150000                  0    petrol  volkswagen      NaN   \n",
       "1    NaN     125000                  5  gasoline        audi      yes   \n",
       "2  grand     125000                  8  gasoline        jeep      NaN   \n",
       "3   golf     150000                  6    petrol  volkswagen       no   \n",
       "4  fabia      90000                  7  gasoline       skoda       no   \n",
       "\n",
       "           DateCreated  NumberOfPictures  PostalCode             LastSeen  \n",
       "0  2016-03-24 00:00:00                 0       70435  2016-04-07 03:16:57  \n",
       "1  2016-03-24 00:00:00                 0       66954  2016-04-07 01:46:50  \n",
       "2  2016-03-14 00:00:00                 0       90480  2016-04-05 12:47:46  \n",
       "3  2016-03-17 00:00:00                 0       91074  2016-03-17 17:40:17  \n",
       "4  2016-03-31 00:00:00                 0       60437  2016-04-06 10:17:21  "
      ]
     },
     "execution_count": 3,
     "metadata": {},
     "output_type": "execute_result"
    }
   ],
   "source": [
    "data.head()"
   ]
  },
  {
   "cell_type": "code",
   "execution_count": 4,
   "metadata": {},
   "outputs": [
    {
     "name": "stdout",
     "output_type": "stream",
     "text": [
      "<class 'pandas.core.frame.DataFrame'>\n",
      "\n",
      "RangeIndex: 354369 entries, 0 to 354368\n",
      "\n",
      "Data columns (total 16 columns):\n",
      "\n",
      " #   Column             Non-Null Count   Dtype \n",
      "\n",
      "---  ------             --------------   ----- \n",
      "\n",
      " 0   DateCrawled        354369 non-null  object\n",
      "\n",
      " 1   Price              354369 non-null  int64 \n",
      "\n",
      " 2   VehicleType        316879 non-null  object\n",
      "\n",
      " 3   RegistrationYear   354369 non-null  int64 \n",
      "\n",
      " 4   Gearbox            334536 non-null  object\n",
      "\n",
      " 5   Power              354369 non-null  int64 \n",
      "\n",
      " 6   Model              334664 non-null  object\n",
      "\n",
      " 7   Kilometer          354369 non-null  int64 \n",
      "\n",
      " 8   RegistrationMonth  354369 non-null  int64 \n",
      "\n",
      " 9   FuelType           321474 non-null  object\n",
      "\n",
      " 10  Brand              354369 non-null  object\n",
      "\n",
      " 11  Repaired           283215 non-null  object\n",
      "\n",
      " 12  DateCreated        354369 non-null  object\n",
      "\n",
      " 13  NumberOfPictures   354369 non-null  int64 \n",
      "\n",
      " 14  PostalCode         354369 non-null  int64 \n",
      "\n",
      " 15  LastSeen           354369 non-null  object\n",
      "\n",
      "dtypes: int64(7), object(9)\n",
      "\n",
      "memory usage: 43.3+ MB\n"
     ]
    }
   ],
   "source": [
    "data.info()"
   ]
  },
  {
   "cell_type": "code",
   "execution_count": 5,
   "metadata": {},
   "outputs": [
    {
     "data": {
      "text/html": [
       "<div>\n",
       "<style scoped>\n",
       "    .dataframe tbody tr th:only-of-type {\n",
       "        vertical-align: middle;\n",
       "    }\n",
       "\n",
       "    .dataframe tbody tr th {\n",
       "        vertical-align: top;\n",
       "    }\n",
       "\n",
       "    .dataframe thead th {\n",
       "        text-align: right;\n",
       "    }\n",
       "</style>\n",
       "<table border=\"1\" class=\"dataframe\">\n",
       "  <thead>\n",
       "    <tr style=\"text-align: right;\">\n",
       "      <th></th>\n",
       "      <th>Price</th>\n",
       "      <th>RegistrationYear</th>\n",
       "      <th>Power</th>\n",
       "      <th>Kilometer</th>\n",
       "      <th>RegistrationMonth</th>\n",
       "      <th>NumberOfPictures</th>\n",
       "      <th>PostalCode</th>\n",
       "    </tr>\n",
       "  </thead>\n",
       "  <tbody>\n",
       "    <tr>\n",
       "      <th>count</th>\n",
       "      <td>354369.000000</td>\n",
       "      <td>354369.000000</td>\n",
       "      <td>354369.000000</td>\n",
       "      <td>354369.000000</td>\n",
       "      <td>354369.000000</td>\n",
       "      <td>354369.0</td>\n",
       "      <td>354369.000000</td>\n",
       "    </tr>\n",
       "    <tr>\n",
       "      <th>mean</th>\n",
       "      <td>4416.656776</td>\n",
       "      <td>2004.234448</td>\n",
       "      <td>110.094337</td>\n",
       "      <td>128211.172535</td>\n",
       "      <td>5.714645</td>\n",
       "      <td>0.0</td>\n",
       "      <td>50508.689087</td>\n",
       "    </tr>\n",
       "    <tr>\n",
       "      <th>std</th>\n",
       "      <td>4514.158514</td>\n",
       "      <td>90.227958</td>\n",
       "      <td>189.850405</td>\n",
       "      <td>37905.341530</td>\n",
       "      <td>3.726421</td>\n",
       "      <td>0.0</td>\n",
       "      <td>25783.096248</td>\n",
       "    </tr>\n",
       "    <tr>\n",
       "      <th>min</th>\n",
       "      <td>0.000000</td>\n",
       "      <td>1000.000000</td>\n",
       "      <td>0.000000</td>\n",
       "      <td>5000.000000</td>\n",
       "      <td>0.000000</td>\n",
       "      <td>0.0</td>\n",
       "      <td>1067.000000</td>\n",
       "    </tr>\n",
       "    <tr>\n",
       "      <th>25%</th>\n",
       "      <td>1050.000000</td>\n",
       "      <td>1999.000000</td>\n",
       "      <td>69.000000</td>\n",
       "      <td>125000.000000</td>\n",
       "      <td>3.000000</td>\n",
       "      <td>0.0</td>\n",
       "      <td>30165.000000</td>\n",
       "    </tr>\n",
       "    <tr>\n",
       "      <th>50%</th>\n",
       "      <td>2700.000000</td>\n",
       "      <td>2003.000000</td>\n",
       "      <td>105.000000</td>\n",
       "      <td>150000.000000</td>\n",
       "      <td>6.000000</td>\n",
       "      <td>0.0</td>\n",
       "      <td>49413.000000</td>\n",
       "    </tr>\n",
       "    <tr>\n",
       "      <th>75%</th>\n",
       "      <td>6400.000000</td>\n",
       "      <td>2008.000000</td>\n",
       "      <td>143.000000</td>\n",
       "      <td>150000.000000</td>\n",
       "      <td>9.000000</td>\n",
       "      <td>0.0</td>\n",
       "      <td>71083.000000</td>\n",
       "    </tr>\n",
       "    <tr>\n",
       "      <th>max</th>\n",
       "      <td>20000.000000</td>\n",
       "      <td>9999.000000</td>\n",
       "      <td>20000.000000</td>\n",
       "      <td>150000.000000</td>\n",
       "      <td>12.000000</td>\n",
       "      <td>0.0</td>\n",
       "      <td>99998.000000</td>\n",
       "    </tr>\n",
       "  </tbody>\n",
       "</table>\n",
       "</div>"
      ],
      "text/plain": [
       "               Price  RegistrationYear          Power      Kilometer  \\\n",
       "count  354369.000000     354369.000000  354369.000000  354369.000000   \n",
       "mean     4416.656776       2004.234448     110.094337  128211.172535   \n",
       "std      4514.158514         90.227958     189.850405   37905.341530   \n",
       "min         0.000000       1000.000000       0.000000    5000.000000   \n",
       "25%      1050.000000       1999.000000      69.000000  125000.000000   \n",
       "50%      2700.000000       2003.000000     105.000000  150000.000000   \n",
       "75%      6400.000000       2008.000000     143.000000  150000.000000   \n",
       "max     20000.000000       9999.000000   20000.000000  150000.000000   \n",
       "\n",
       "       RegistrationMonth  NumberOfPictures     PostalCode  \n",
       "count      354369.000000          354369.0  354369.000000  \n",
       "mean            5.714645               0.0   50508.689087  \n",
       "std             3.726421               0.0   25783.096248  \n",
       "min             0.000000               0.0    1067.000000  \n",
       "25%             3.000000               0.0   30165.000000  \n",
       "50%             6.000000               0.0   49413.000000  \n",
       "75%             9.000000               0.0   71083.000000  \n",
       "max            12.000000               0.0   99998.000000  "
      ]
     },
     "execution_count": 5,
     "metadata": {},
     "output_type": "execute_result"
    }
   ],
   "source": [
    "data.describe()"
   ]
  },
  {
   "cell_type": "code",
   "execution_count": 6,
   "metadata": {},
   "outputs": [],
   "source": [
    "#Приведём названия столбцов к нижнему регистру\n",
    "data.columns = data.columns.str.lower()"
   ]
  },
  {
   "cell_type": "code",
   "execution_count": 7,
   "metadata": {},
   "outputs": [],
   "source": [
    "#Приведём названия к змеиному регистру\n",
    "data = data.rename(columns={'datecrawled':'date_crawled', \n",
    "                        'vehicletype':'vehicle_type', \n",
    "                        'registrationyear':'registration_year', \n",
    "                        'registrationmonth':'registration_month', \n",
    "                        'fueltype':'fuel_type', \n",
    "                        'repaired':'repaired', \n",
    "                        'datecreated':'date_created',\n",
    "                        'numberofpictures': 'number_of_pictures',\n",
    "                        'postalcode':'postal_code',\n",
    "                        'lastseen':'last_seen'})"
   ]
  },
  {
   "cell_type": "code",
   "execution_count": 8,
   "metadata": {},
   "outputs": [],
   "source": [
    "#Удалим неинформативные столбцы\n",
    "data = data.drop(['number_of_pictures', 'postal_code', 'date_created', 'last_seen', 'registration_month', 'date_crawled'], axis=1)"
   ]
  },
  {
   "cell_type": "code",
   "execution_count": 9,
   "metadata": {},
   "outputs": [
    {
     "data": {
      "text/plain": [
       "price                    0\n",
       "vehicle_type         37490\n",
       "registration_year        0\n",
       "gearbox              19833\n",
       "power                    0\n",
       "model                19705\n",
       "kilometer                0\n",
       "fuel_type            32895\n",
       "brand                    0\n",
       "repaired             71154\n",
       "dtype: int64"
      ]
     },
     "execution_count": 9,
     "metadata": {},
     "output_type": "execute_result"
    }
   ],
   "source": [
    "#Узнаем количество пропусков\n",
    "data.isna().sum()"
   ]
  },
  {
   "cell_type": "code",
   "execution_count": 10,
   "metadata": {},
   "outputs": [],
   "source": [
    "#Заменим пропуски значением unknown\n",
    "data['vehicle_type'] = data['vehicle_type'].fillna('unknown')\n",
    "data['gearbox'] = data['gearbox'].fillna('unknown')\n",
    "data['model'] = data['model'].fillna('unknown')\n",
    "data['fuel_type'] = data['fuel_type'].fillna('unknown')\n",
    "data['repaired'] = data['repaired'].fillna('unknown')"
   ]
  },
  {
   "cell_type": "code",
   "execution_count": 11,
   "metadata": {},
   "outputs": [
    {
     "data": {
      "text/plain": [
       "price                0\n",
       "vehicle_type         0\n",
       "registration_year    0\n",
       "gearbox              0\n",
       "power                0\n",
       "model                0\n",
       "kilometer            0\n",
       "fuel_type            0\n",
       "brand                0\n",
       "repaired             0\n",
       "dtype: int64"
      ]
     },
     "execution_count": 11,
     "metadata": {},
     "output_type": "execute_result"
    }
   ],
   "source": [
    "#Проверим количество пропусков после замены\n",
    "data.isna().sum()"
   ]
  },
  {
   "cell_type": "code",
   "execution_count": 12,
   "metadata": {},
   "outputs": [
    {
     "data": {
      "text/plain": [
       "45040"
      ]
     },
     "execution_count": 12,
     "metadata": {},
     "output_type": "execute_result"
    }
   ],
   "source": [
    "#Проверим наличие дубликатов\n",
    "data.duplicated().sum()"
   ]
  },
  {
   "cell_type": "code",
   "execution_count": 13,
   "metadata": {},
   "outputs": [],
   "source": [
    "#Удалим дубликаты\n",
    "data = data.drop_duplicates()"
   ]
  },
  {
   "cell_type": "code",
   "execution_count": 14,
   "metadata": {},
   "outputs": [
    {
     "data": {
      "text/plain": [
       "0"
      ]
     },
     "execution_count": 14,
     "metadata": {},
     "output_type": "execute_result"
    }
   ],
   "source": [
    "#Проверим наличие дубликатов после удаления\n",
    "data.duplicated().sum()"
   ]
  },
  {
   "cell_type": "code",
   "execution_count": 15,
   "metadata": {},
   "outputs": [
    {
     "data": {
      "text/plain": [
       "0        8904\n",
       "1        1075\n",
       "2          12\n",
       "3           7\n",
       "4           1\n",
       "         ... \n",
       "19995       9\n",
       "19997       1\n",
       "19998       5\n",
       "19999     252\n",
       "20000     223\n",
       "Name: price, Length: 3731, dtype: int64"
      ]
     },
     "execution_count": 15,
     "metadata": {},
     "output_type": "execute_result"
    }
   ],
   "source": [
    "#Найдём аномалии в столбцах\n",
    "#Выведем уникальные значения столбцов\n",
    "data['price'].value_counts().sort_index()"
   ]
  },
  {
   "cell_type": "code",
   "execution_count": 16,
   "metadata": {},
   "outputs": [],
   "source": [
    "#Удалим строки со значением 0\n",
    "data = data[data['price']>=1]"
   ]
  },
  {
   "cell_type": "code",
   "execution_count": 17,
   "metadata": {},
   "outputs": [
    {
     "data": {
      "text/plain": [
       "bus            25455\n",
       "convertible    17893\n",
       "coupe          14234\n",
       "other           2975\n",
       "sedan          76513\n",
       "small          66008\n",
       "suv            10596\n",
       "unknown        31670\n",
       "wagon          55081\n",
       "Name: vehicle_type, dtype: int64"
      ]
     },
     "execution_count": 17,
     "metadata": {},
     "output_type": "execute_result"
    }
   ],
   "source": [
    "data['vehicle_type'].value_counts().sort_index()"
   ]
  },
  {
   "cell_type": "markdown",
   "metadata": {},
   "source": [
    "**В столбце vehicle_type аномалий нет**"
   ]
  },
  {
   "cell_type": "code",
   "execution_count": 18,
   "metadata": {},
   "outputs": [
    {
     "data": {
      "text/plain": [
       "1000    30\n",
       "1001     1\n",
       "1039     1\n",
       "1111     1\n",
       "1234     4\n",
       "        ..\n",
       "8500     1\n",
       "8888     1\n",
       "9000     2\n",
       "9450     1\n",
       "9999    18\n",
       "Name: registration_year, Length: 140, dtype: int64"
      ]
     },
     "execution_count": 18,
     "metadata": {},
     "output_type": "execute_result"
    }
   ],
   "source": [
    "data['registration_year'].value_counts().sort_index()"
   ]
  },
  {
   "cell_type": "code",
   "execution_count": 19,
   "metadata": {},
   "outputs": [],
   "source": [
    "#Удалим строки созначением меньше 1950 и больше 2023\n",
    "data = data.loc[(data['registration_year'] <= 2023) & (data['registration_year'] >= 1950)]"
   ]
  },
  {
   "cell_type": "code",
   "execution_count": 20,
   "metadata": {},
   "outputs": [
    {
     "data": {
      "text/plain": [
       "auto        58083\n",
       "manual     226829\n",
       "unknown     15258\n",
       "Name: gearbox, dtype: int64"
      ]
     },
     "execution_count": 20,
     "metadata": {},
     "output_type": "execute_result"
    }
   ],
   "source": [
    "data['gearbox'].value_counts().sort_index()"
   ]
  },
  {
   "cell_type": "markdown",
   "metadata": {},
   "source": [
    "**В столбце gearbox аномалий нет**"
   ]
  },
  {
   "cell_type": "code",
   "execution_count": 21,
   "metadata": {},
   "outputs": [
    {
     "data": {
      "text/plain": [
       "0        32799\n",
       "1           25\n",
       "2            9\n",
       "3            8\n",
       "4           26\n",
       "         ...  \n",
       "17932        1\n",
       "19208        1\n",
       "19211        1\n",
       "19312        1\n",
       "20000        1\n",
       "Name: power, Length: 699, dtype: int64"
      ]
     },
     "execution_count": 21,
     "metadata": {},
     "output_type": "execute_result"
    }
   ],
   "source": [
    "data['power'].value_counts().sort_index()"
   ]
  },
  {
   "cell_type": "code",
   "execution_count": 22,
   "metadata": {},
   "outputs": [],
   "source": [
    "#Удалим строки со значением меньше 1 и больше 700\n",
    "data = data.loc[(data['power'] >= 1) & (data['power'] <= 700)]"
   ]
  },
  {
   "cell_type": "code",
   "execution_count": 23,
   "metadata": {},
   "outputs": [
    {
     "data": {
      "text/plain": [
       "100         330\n",
       "145          36\n",
       "147         480\n",
       "156         500\n",
       "159         189\n",
       "           ... \n",
       "yaris       838\n",
       "yeti        158\n",
       "ypsilon     161\n",
       "z_reihe     637\n",
       "zafira     2246\n",
       "Name: model, Length: 250, dtype: int64"
      ]
     },
     "execution_count": 23,
     "metadata": {},
     "output_type": "execute_result"
    }
   ],
   "source": [
    "data['model'].value_counts().sort_index()"
   ]
  },
  {
   "cell_type": "markdown",
   "metadata": {},
   "source": [
    "**В столбце model аномалий нет**"
   ]
  },
  {
   "cell_type": "code",
   "execution_count": 24,
   "metadata": {},
   "outputs": [
    {
     "data": {
      "text/plain": [
       "5000        2960\n",
       "10000        892\n",
       "20000       3135\n",
       "30000       3606\n",
       "40000       4140\n",
       "50000       5283\n",
       "60000       6224\n",
       "70000       7359\n",
       "80000       8432\n",
       "90000       9599\n",
       "100000     11948\n",
       "125000     29522\n",
       "150000    173954\n",
       "Name: kilometer, dtype: int64"
      ]
     },
     "execution_count": 24,
     "metadata": {},
     "output_type": "execute_result"
    }
   ],
   "source": [
    "data['kilometer'].value_counts().sort_index()"
   ]
  },
  {
   "cell_type": "markdown",
   "metadata": {},
   "source": [
    "**В столбце kilometer аномалий нет**"
   ]
  },
  {
   "cell_type": "code",
   "execution_count": 25,
   "metadata": {},
   "outputs": [
    {
     "data": {
      "text/plain": [
       "cng            459\n",
       "electric        75\n",
       "gasoline     77297\n",
       "hybrid         195\n",
       "lpg           4397\n",
       "other           92\n",
       "petrol      165514\n",
       "unknown      19025\n",
       "Name: fuel_type, dtype: int64"
      ]
     },
     "execution_count": 25,
     "metadata": {},
     "output_type": "execute_result"
    }
   ],
   "source": [
    "data['fuel_type'].value_counts().sort_index()"
   ]
  },
  {
   "cell_type": "markdown",
   "metadata": {},
   "source": [
    "**В столбце fuel_type аномалий нет**"
   ]
  },
  {
   "cell_type": "code",
   "execution_count": 26,
   "metadata": {},
   "outputs": [
    {
     "data": {
      "text/plain": [
       "alfa_romeo         1882\n",
       "audi              22973\n",
       "bmw               28352\n",
       "chevrolet          1408\n",
       "chrysler           1121\n",
       "citroen            4096\n",
       "dacia               754\n",
       "daewoo              398\n",
       "daihatsu            587\n",
       "fiat               7121\n",
       "ford              18915\n",
       "honda              2298\n",
       "hyundai            2926\n",
       "jaguar              419\n",
       "jeep                558\n",
       "kia                1971\n",
       "lada                148\n",
       "lancia              373\n",
       "land_rover          434\n",
       "mazda              4424\n",
       "mercedes_benz     25001\n",
       "mini               2724\n",
       "mitsubishi         2405\n",
       "nissan             3766\n",
       "opel              28608\n",
       "peugeot            8562\n",
       "porsche             583\n",
       "renault           12740\n",
       "rover               355\n",
       "saab                445\n",
       "seat               5480\n",
       "skoda              4562\n",
       "smart              4218\n",
       "sonstige_autos     1795\n",
       "subaru              628\n",
       "suzuki             1863\n",
       "toyota             3789\n",
       "trabant             284\n",
       "volkswagen        55502\n",
       "volvo              2586\n",
       "Name: brand, dtype: int64"
      ]
     },
     "execution_count": 26,
     "metadata": {},
     "output_type": "execute_result"
    }
   ],
   "source": [
    "data['brand'].value_counts().sort_index()"
   ]
  },
  {
   "cell_type": "markdown",
   "metadata": {},
   "source": [
    "**В столбце brand аномалий нет**"
   ]
  },
  {
   "cell_type": "code",
   "execution_count": 27,
   "metadata": {},
   "outputs": [
    {
     "data": {
      "text/plain": [
       "no         196063\n",
       "unknown     43506\n",
       "yes         27485\n",
       "Name: repaired, dtype: int64"
      ]
     },
     "execution_count": 27,
     "metadata": {},
     "output_type": "execute_result"
    }
   ],
   "source": [
    "data['repaired'].value_counts().sort_index()"
   ]
  },
  {
   "cell_type": "markdown",
   "metadata": {},
   "source": [
    "**В столбце repaired аномалий нет**"
   ]
  },
  {
   "cell_type": "markdown",
   "metadata": {},
   "source": [
    "**Вывод:**  \n",
    "* Данные проанализированы\n",
    "* Удалены дубликаты\n",
    "* Заполнены пропуски\n",
    "* Удалены неинформативные столбцы, которые не понадобятся для обучения моделей\n",
    "* Оработаны аномалии в столбцах"
   ]
  },
  {
   "cell_type": "markdown",
   "metadata": {},
   "source": [
    "## Обучение моделей"
   ]
  },
  {
   "cell_type": "markdown",
   "metadata": {},
   "source": [
    "### Подготовка к обучению"
   ]
  },
  {
   "cell_type": "code",
   "execution_count": 28,
   "metadata": {},
   "outputs": [
    {
     "data": {
      "text/html": [
       "<div>\n",
       "<style scoped>\n",
       "    .dataframe tbody tr th:only-of-type {\n",
       "        vertical-align: middle;\n",
       "    }\n",
       "\n",
       "    .dataframe tbody tr th {\n",
       "        vertical-align: top;\n",
       "    }\n",
       "\n",
       "    .dataframe thead th {\n",
       "        text-align: right;\n",
       "    }\n",
       "</style>\n",
       "<table border=\"1\" class=\"dataframe\">\n",
       "  <thead>\n",
       "    <tr style=\"text-align: right;\">\n",
       "      <th></th>\n",
       "      <th>price</th>\n",
       "      <th>registration_year</th>\n",
       "      <th>power</th>\n",
       "      <th>kilometer</th>\n",
       "      <th>vehicle_type_convertible</th>\n",
       "      <th>vehicle_type_coupe</th>\n",
       "      <th>vehicle_type_other</th>\n",
       "      <th>vehicle_type_sedan</th>\n",
       "      <th>vehicle_type_small</th>\n",
       "      <th>vehicle_type_suv</th>\n",
       "      <th>...</th>\n",
       "      <th>brand_smart</th>\n",
       "      <th>brand_sonstige_autos</th>\n",
       "      <th>brand_subaru</th>\n",
       "      <th>brand_suzuki</th>\n",
       "      <th>brand_toyota</th>\n",
       "      <th>brand_trabant</th>\n",
       "      <th>brand_volkswagen</th>\n",
       "      <th>brand_volvo</th>\n",
       "      <th>repaired_unknown</th>\n",
       "      <th>repaired_yes</th>\n",
       "    </tr>\n",
       "  </thead>\n",
       "  <tbody>\n",
       "    <tr>\n",
       "      <th>1</th>\n",
       "      <td>18300</td>\n",
       "      <td>2011</td>\n",
       "      <td>190</td>\n",
       "      <td>125000</td>\n",
       "      <td>0</td>\n",
       "      <td>1</td>\n",
       "      <td>0</td>\n",
       "      <td>0</td>\n",
       "      <td>0</td>\n",
       "      <td>0</td>\n",
       "      <td>...</td>\n",
       "      <td>0</td>\n",
       "      <td>0</td>\n",
       "      <td>0</td>\n",
       "      <td>0</td>\n",
       "      <td>0</td>\n",
       "      <td>0</td>\n",
       "      <td>0</td>\n",
       "      <td>0</td>\n",
       "      <td>0</td>\n",
       "      <td>1</td>\n",
       "    </tr>\n",
       "    <tr>\n",
       "      <th>2</th>\n",
       "      <td>9800</td>\n",
       "      <td>2004</td>\n",
       "      <td>163</td>\n",
       "      <td>125000</td>\n",
       "      <td>0</td>\n",
       "      <td>0</td>\n",
       "      <td>0</td>\n",
       "      <td>0</td>\n",
       "      <td>0</td>\n",
       "      <td>1</td>\n",
       "      <td>...</td>\n",
       "      <td>0</td>\n",
       "      <td>0</td>\n",
       "      <td>0</td>\n",
       "      <td>0</td>\n",
       "      <td>0</td>\n",
       "      <td>0</td>\n",
       "      <td>0</td>\n",
       "      <td>0</td>\n",
       "      <td>1</td>\n",
       "      <td>0</td>\n",
       "    </tr>\n",
       "    <tr>\n",
       "      <th>3</th>\n",
       "      <td>1500</td>\n",
       "      <td>2001</td>\n",
       "      <td>75</td>\n",
       "      <td>150000</td>\n",
       "      <td>0</td>\n",
       "      <td>0</td>\n",
       "      <td>0</td>\n",
       "      <td>0</td>\n",
       "      <td>1</td>\n",
       "      <td>0</td>\n",
       "      <td>...</td>\n",
       "      <td>0</td>\n",
       "      <td>0</td>\n",
       "      <td>0</td>\n",
       "      <td>0</td>\n",
       "      <td>0</td>\n",
       "      <td>0</td>\n",
       "      <td>1</td>\n",
       "      <td>0</td>\n",
       "      <td>0</td>\n",
       "      <td>0</td>\n",
       "    </tr>\n",
       "    <tr>\n",
       "      <th>4</th>\n",
       "      <td>3600</td>\n",
       "      <td>2008</td>\n",
       "      <td>69</td>\n",
       "      <td>90000</td>\n",
       "      <td>0</td>\n",
       "      <td>0</td>\n",
       "      <td>0</td>\n",
       "      <td>0</td>\n",
       "      <td>1</td>\n",
       "      <td>0</td>\n",
       "      <td>...</td>\n",
       "      <td>0</td>\n",
       "      <td>0</td>\n",
       "      <td>0</td>\n",
       "      <td>0</td>\n",
       "      <td>0</td>\n",
       "      <td>0</td>\n",
       "      <td>0</td>\n",
       "      <td>0</td>\n",
       "      <td>0</td>\n",
       "      <td>0</td>\n",
       "    </tr>\n",
       "    <tr>\n",
       "      <th>5</th>\n",
       "      <td>650</td>\n",
       "      <td>1995</td>\n",
       "      <td>102</td>\n",
       "      <td>150000</td>\n",
       "      <td>0</td>\n",
       "      <td>0</td>\n",
       "      <td>0</td>\n",
       "      <td>1</td>\n",
       "      <td>0</td>\n",
       "      <td>0</td>\n",
       "      <td>...</td>\n",
       "      <td>0</td>\n",
       "      <td>0</td>\n",
       "      <td>0</td>\n",
       "      <td>0</td>\n",
       "      <td>0</td>\n",
       "      <td>0</td>\n",
       "      <td>0</td>\n",
       "      <td>0</td>\n",
       "      <td>0</td>\n",
       "      <td>1</td>\n",
       "    </tr>\n",
       "  </tbody>\n",
       "</table>\n",
       "<p>5 rows × 311 columns</p>\n",
       "</div>"
      ],
      "text/plain": [
       "   price  registration_year  power  kilometer  vehicle_type_convertible  \\\n",
       "1  18300               2011    190     125000                         0   \n",
       "2   9800               2004    163     125000                         0   \n",
       "3   1500               2001     75     150000                         0   \n",
       "4   3600               2008     69      90000                         0   \n",
       "5    650               1995    102     150000                         0   \n",
       "\n",
       "   vehicle_type_coupe  vehicle_type_other  vehicle_type_sedan  \\\n",
       "1                   1                   0                   0   \n",
       "2                   0                   0                   0   \n",
       "3                   0                   0                   0   \n",
       "4                   0                   0                   0   \n",
       "5                   0                   0                   1   \n",
       "\n",
       "   vehicle_type_small  vehicle_type_suv  ...  brand_smart  \\\n",
       "1                   0                 0  ...            0   \n",
       "2                   0                 1  ...            0   \n",
       "3                   1                 0  ...            0   \n",
       "4                   1                 0  ...            0   \n",
       "5                   0                 0  ...            0   \n",
       "\n",
       "   brand_sonstige_autos  brand_subaru  brand_suzuki  brand_toyota  \\\n",
       "1                     0             0             0             0   \n",
       "2                     0             0             0             0   \n",
       "3                     0             0             0             0   \n",
       "4                     0             0             0             0   \n",
       "5                     0             0             0             0   \n",
       "\n",
       "   brand_trabant  brand_volkswagen  brand_volvo  repaired_unknown  \\\n",
       "1              0                 0            0                 0   \n",
       "2              0                 0            0                 1   \n",
       "3              0                 1            0                 0   \n",
       "4              0                 0            0                 0   \n",
       "5              0                 0            0                 0   \n",
       "\n",
       "   repaired_yes  \n",
       "1             1  \n",
       "2             0  \n",
       "3             0  \n",
       "4             0  \n",
       "5             1  \n",
       "\n",
       "[5 rows x 311 columns]"
      ]
     },
     "execution_count": 28,
     "metadata": {},
     "output_type": "execute_result"
    }
   ],
   "source": [
    "#Переведём категориальные значения в количественные с помощью ОНЕ\n",
    "data_ohe = data.copy()\n",
    "data_ohe = pd.get_dummies(data, drop_first=True)\n",
    "data_ohe.head()"
   ]
  },
  {
   "cell_type": "code",
   "execution_count": 29,
   "metadata": {},
   "outputs": [
    {
     "name": "stdout",
     "output_type": "stream",
     "text": [
      "(160232, 310)\n",
      "\n",
      "(53411, 310)\n",
      "\n",
      "(53411, 310)\n"
     ]
    }
   ],
   "source": [
    "#Разделим данные на обучающую и тестовую выборки\n",
    "target_ohe = data_ohe['price']\n",
    "features_ohe = data_ohe.drop('price', axis=1)\n",
    "#features_train_ohe, target_train_ohe = train_test_split(features_ohe, target_ohe, test_size=0.25, random_state=12345) \n",
    "\n",
    "features_train_ohe, x_ohe, target_train_ohe, y_ohe = train_test_split(features_ohe, target_ohe, test_size=0.4, random_state=12345)\n",
    "features_valid_ohe, features_test_ohe, target_valid_ohe, target_test_ohe = train_test_split(x_ohe, y_ohe, test_size=0.5, random_state=12345)\n",
    "\n",
    "print(features_train_ohe.shape)\n",
    "print(features_test_ohe.shape)\n",
    "print(features_valid_ohe.shape)"
   ]
  },
  {
   "cell_type": "code",
   "execution_count": 30,
   "metadata": {},
   "outputs": [],
   "source": [
    "#Проведём масштабирование признаков\n",
    "scaler = StandardScaler()\n",
    "scaler.fit(features_train_ohe)\n",
    "features_train_ohe = scaler.transform(features_train_ohe)\n",
    "features_test_ohe = scaler.transform(features_test_ohe)\n",
    "features_valid_ohe = scaler.transform(features_valid_ohe)"
   ]
  },
  {
   "cell_type": "markdown",
   "metadata": {},
   "source": [
    "### Линейная регрессия:"
   ]
  },
  {
   "cell_type": "code",
   "execution_count": 31,
   "metadata": {},
   "outputs": [],
   "source": [
    "#Обучим модель линейной регрессии, сделаем предсказания и найдем RMSE"
   ]
  },
  {
   "cell_type": "code",
   "execution_count": 32,
   "metadata": {},
   "outputs": [
    {
     "name": "stdout",
     "output_type": "stream",
     "text": [
      "2653.4809371960673\n",
      "\n",
      "CPU times: user 17.3 s, sys: 19.5 s, total: 36.9 s\n",
      "\n",
      "Wall time: 36.8 s\n"
     ]
    }
   ],
   "source": [
    "%%time\n",
    "model_lr = LinearRegression()\n",
    "model_lr.fit(features_train_ohe, target_train_ohe)\n",
    "predictions_valid_lr = model_lr.predict(features_valid_ohe)\n",
    "rmse_lr = mean_squared_error(target_valid_ohe, predictions_valid_lr)**0.5\n",
    "print(rmse_lr)"
   ]
  },
  {
   "cell_type": "markdown",
   "metadata": {},
   "source": [
    "Значение RMSE выше допустимого, обучим другие модели"
   ]
  },
  {
   "cell_type": "markdown",
   "metadata": {},
   "source": [
    "### Случайный лес"
   ]
  },
  {
   "cell_type": "code",
   "execution_count": 33,
   "metadata": {},
   "outputs": [],
   "source": [
    "#Проведём кодирование категориальных признаков с помощью OrdinalEncoder\n",
    "data_enc = data.copy()\n",
    "cod_feat = ['vehicle_type', 'gearbox', 'model', 'fuel_type', 'brand', 'repaired']\n",
    "enc = OrdinalEncoder()\n",
    "enc.fit(data_enc[cod_feat])\n",
    "data_enc[cod_feat] = enc.transform(data_enc[cod_feat])"
   ]
  },
  {
   "cell_type": "code",
   "execution_count": 34,
   "metadata": {},
   "outputs": [
    {
     "name": "stdout",
     "output_type": "stream",
     "text": [
      "(160232, 9)\n",
      "\n",
      "(53411, 9)\n",
      "\n",
      "(53411, 9)\n"
     ]
    }
   ],
   "source": [
    "#Разделим данные на обучающую и тестовую выборки\n",
    "target_enc = data_enc['price']\n",
    "features_enc = data_enc.drop('price', axis=1)\n",
    "#features_train_enc, features_test_enc, target_train_enc, target_test_enc = train_test_split(features_enc, target_enc, test_size=0.25, random_state=12345) \n",
    "\n",
    "features_train_enc, x_enc, target_train_enc, y_enc = train_test_split(features_enc, target_enc, test_size=0.4, random_state=12345)\n",
    "features_valid_enc, features_test_enc, target_valid_enc, target_test_enc = train_test_split(x_enc, y_enc, test_size=0.5, random_state=12345)\n",
    "\n",
    "print(features_train_enc.shape)\n",
    "print(features_test_enc.shape)\n",
    "print(features_valid_enc.shape)"
   ]
  },
  {
   "cell_type": "code",
   "execution_count": 35,
   "metadata": {},
   "outputs": [],
   "source": [
    "#Обучим модель случайного леса"
   ]
  },
  {
   "cell_type": "code",
   "execution_count": 36,
   "metadata": {},
   "outputs": [
    {
     "name": "stdout",
     "output_type": "stream",
     "text": [
      "Количество деревьев: 30\n",
      "\n",
      "RMSE случайного леса: 1935.610283949783\n",
      "\n",
      "\n",
      "\n",
      "Количество деревьев: 60\n",
      "\n",
      "RMSE случайного леса: 1932.2299961294684\n",
      "\n",
      "\n",
      "\n",
      "Количество деревьев: 100\n",
      "\n",
      "RMSE случайного леса: 1929.399373867918\n",
      "\n",
      "\n",
      "\n",
      "\n",
      "\n",
      "CPU times: user 40.4 s, sys: 0 ns, total: 40.4 s\n",
      "\n",
      "Wall time: 40.4 s\n"
     ]
    }
   ],
   "source": [
    "%%time\n",
    "for est in [30, 60, 100]:\n",
    "    model_forest = RandomForestRegressor(random_state=12345, \n",
    "                                   n_estimators=est, \n",
    "                                   max_depth=10)\n",
    "    model_forest.fit(features_train_enc, target_train_enc)\n",
    "    predictions_valid_enc = model_forest.predict(features_valid_enc)\n",
    "    rmse_forest = mean_squared_error(target_valid_enc, predictions_valid_enc)**0.5\n",
    "    print('Количество деревьев:', est)\n",
    "    print('RMSE случайного леса:', rmse_forest)\n",
    "    print('')\n",
    "print()"
   ]
  },
  {
   "cell_type": "markdown",
   "metadata": {},
   "source": [
    "Лучший результат RMSE у леса с количеством деревьев = 100"
   ]
  },
  {
   "cell_type": "markdown",
   "metadata": {},
   "source": [
    "### LightGBM"
   ]
  },
  {
   "cell_type": "code",
   "execution_count": 37,
   "metadata": {},
   "outputs": [
    {
     "name": "stdout",
     "output_type": "stream",
     "text": [
      "Requirement already satisfied: lightgbm in /opt/conda/lib/python3.9/site-packages (3.3.1)\n",
      "\n",
      "Requirement already satisfied: scipy in /opt/conda/lib/python3.9/site-packages (from lightgbm) (1.9.1)\n",
      "\n",
      "Requirement already satisfied: wheel in /opt/conda/lib/python3.9/site-packages (from lightgbm) (0.36.2)\n",
      "\n",
      "Requirement already satisfied: scikit-learn!=0.22.0 in /opt/conda/lib/python3.9/site-packages (from lightgbm) (0.24.1)\n",
      "\n",
      "Requirement already satisfied: numpy in /opt/conda/lib/python3.9/site-packages (from lightgbm) (1.21.1)\n",
      "\n",
      "Requirement already satisfied: joblib>=0.11 in /opt/conda/lib/python3.9/site-packages (from scikit-learn!=0.22.0->lightgbm) (1.1.0)\n",
      "\n",
      "Requirement already satisfied: threadpoolctl>=2.0.0 in /opt/conda/lib/python3.9/site-packages (from scikit-learn!=0.22.0->lightgbm) (3.1.0)\n"
     ]
    }
   ],
   "source": [
    "!pip install lightgbm"
   ]
  },
  {
   "cell_type": "code",
   "execution_count": 38,
   "metadata": {},
   "outputs": [],
   "source": [
    "#Обучим модель без подбора гиперпараметров"
   ]
  },
  {
   "cell_type": "code",
   "execution_count": 39,
   "metadata": {},
   "outputs": [
    {
     "name": "stdout",
     "output_type": "stream",
     "text": [
      "1746.7440409918822\n",
      "\n",
      "CPU times: user 5min 41s, sys: 6.45 s, total: 5min 48s\n",
      "\n",
      "Wall time: 5min 50s\n"
     ]
    }
   ],
   "source": [
    "%%time\n",
    "model_lg = lgb.LGBMRegressor(random_state=12345)\n",
    "model_lg.fit(features_train_enc, target_train_enc)\n",
    "predictions_valid_lg = model_lg.predict(features_valid_enc)\n",
    "rmse_lg = mean_squared_error(target_valid_enc, predictions_valid_lg)**0.5\n",
    "print(rmse_lg)"
   ]
  },
  {
   "cell_type": "code",
   "execution_count": null,
   "metadata": {},
   "outputs": [],
   "source": [
    "%%time\n",
    "params_gr = {'n_estimators': [30, 60, 100], 'num_leaves': [50, 70, 100], 'max_depth': [10, 12]}\n",
    "\n",
    "grid = GridSearchCV(model_lg, params_gr, scoring='neg_root_mean_squared_error', cv=5)\n",
    "\n",
    "grid.fit(features_train_enc, target_train_enc)\n",
    "\n",
    "print(grid.best_params_)\n",
    "print(grid.best_score_*-1)"
   ]
  },
  {
   "cell_type": "markdown",
   "metadata": {},
   "source": [
    "Лучший результат получен при параметрах: **max_depth** = 12, **n_estimators** = 100, **num_leaves** = 100"
   ]
  },
  {
   "cell_type": "markdown",
   "metadata": {},
   "source": [
    "## Анализ моделей"
   ]
  },
  {
   "cell_type": "code",
   "execution_count": 41,
   "metadata": {},
   "outputs": [],
   "source": [
    "#Проверим время обучения линейной регрессии"
   ]
  },
  {
   "cell_type": "code",
   "execution_count": 55,
   "metadata": {},
   "outputs": [
    {
     "name": "stdout",
     "output_type": "stream",
     "text": [
      "CPU times: user 13.7 s, sys: 10.8 s, total: 24.5 s\n",
      "\n",
      "Wall time: 24.5 s\n"
     ]
    },
    {
     "data": {
      "text/plain": [
       "LinearRegression()"
      ]
     },
     "execution_count": 55,
     "metadata": {},
     "output_type": "execute_result"
    }
   ],
   "source": [
    "%%time\n",
    "model_lr = LinearRegression()\n",
    "model_lr.fit(features_train_ohe, target_train_ohe)"
   ]
  },
  {
   "cell_type": "code",
   "execution_count": 43,
   "metadata": {},
   "outputs": [],
   "source": [
    "#Проверим скорость предсказания линейной регрессии"
   ]
  },
  {
   "cell_type": "code",
   "execution_count": 44,
   "metadata": {},
   "outputs": [
    {
     "name": "stdout",
     "output_type": "stream",
     "text": [
      "CPU times: user 61 ms, sys: 31.4 ms, total: 92.4 ms\n",
      "\n",
      "Wall time: 81.3 ms\n"
     ]
    }
   ],
   "source": [
    "%%time\n",
    "predictions_valid_lr = model_lr.predict(features_valid_ohe)"
   ]
  },
  {
   "cell_type": "code",
   "execution_count": 45,
   "metadata": {},
   "outputs": [],
   "source": [
    "#Проверим время обучения случайного леса"
   ]
  },
  {
   "cell_type": "code",
   "execution_count": null,
   "metadata": {},
   "outputs": [],
   "source": [
    "%%time\n",
    "model_forest = RandomForestRegressor(random_state=12345, n_estimators=100, max_depth=10)\n",
    "model_forest.fit(features_train_enc, target_train_enc)"
   ]
  },
  {
   "cell_type": "code",
   "execution_count": 47,
   "metadata": {},
   "outputs": [],
   "source": [
    "#Проверим скорость предсказания случайного леса"
   ]
  },
  {
   "cell_type": "code",
   "execution_count": 48,
   "metadata": {},
   "outputs": [
    {
     "name": "stdout",
     "output_type": "stream",
     "text": [
      "CPU times: user 460 ms, sys: 77 µs, total: 460 ms\n",
      "\n",
      "Wall time: 460 ms\n"
     ]
    }
   ],
   "source": [
    "%%time\n",
    "predictions_valid_enc = model_forest.predict(features_valid_enc)"
   ]
  },
  {
   "cell_type": "code",
   "execution_count": 49,
   "metadata": {},
   "outputs": [],
   "source": [
    "#Проверим время обучения LightGBM"
   ]
  },
  {
   "cell_type": "code",
   "execution_count": 50,
   "metadata": {},
   "outputs": [
    {
     "name": "stdout",
     "output_type": "stream",
     "text": [
      "CPU times: user 37 s, sys: 667 ms, total: 37.7 s\n",
      "\n",
      "Wall time: 37.9 s\n"
     ]
    },
    {
     "data": {
      "text/plain": [
       "LGBMRegressor(max_depth=12, random_state=12345)"
      ]
     },
     "execution_count": 50,
     "metadata": {},
     "output_type": "execute_result"
    }
   ],
   "source": [
    "%%time\n",
    "model_lg = lgb.LGBMRegressor(random_state=12345, max_depth=12, n_estimators=100)\n",
    "model_lg.fit(features_train_enc, target_train_enc)"
   ]
  },
  {
   "cell_type": "code",
   "execution_count": 51,
   "metadata": {},
   "outputs": [],
   "source": [
    "#Проверим скорость предсказания LightGBM"
   ]
  },
  {
   "cell_type": "code",
   "execution_count": 52,
   "metadata": {},
   "outputs": [
    {
     "name": "stdout",
     "output_type": "stream",
     "text": [
      "CPU times: user 403 ms, sys: 0 ns, total: 403 ms\n",
      "\n",
      "Wall time: 389 ms\n"
     ]
    }
   ],
   "source": [
    "%%time\n",
    "predictions_valid_lg = model_lg.predict(features_valid_enc)"
   ]
  },
  {
   "cell_type": "markdown",
   "metadata": {},
   "source": [
    "Быстрее всего обучается модель LightGBM, также у неё самое меньшее значение RMSE. Проверим её на тестовой выборке."
   ]
  },
  {
   "cell_type": "code",
   "execution_count": 53,
   "metadata": {},
   "outputs": [
    {
     "name": "stdout",
     "output_type": "stream",
     "text": [
      "1726.2095467569854\n",
      "\n",
      "CPU times: user 43.6 s, sys: 680 ms, total: 44.3 s\n",
      "\n",
      "Wall time: 44.6 s\n"
     ]
    }
   ],
   "source": [
    "%%time\n",
    "model_lg = lgb.LGBMRegressor(random_state=12345, max_depth=12, n_estimators=100)\n",
    "model_lg.fit(features_train_enc, target_train_enc)\n",
    "predictions_test_lg = model_lg.predict(features_test_enc)\n",
    "rmse_lg = mean_squared_error(target_test_enc, predictions_test_lg)**0.5\n",
    "print(rmse_lg)"
   ]
  },
  {
   "cell_type": "markdown",
   "metadata": {},
   "source": [
    "Модель хорошо показала себя на тестовой выборке. Время обучения и предсказания небольшое. RMSE в пределах допустимого. Рекомендуем использовать модель LightGBM для определения стоимости автомобилей."
   ]
  },
  {
   "cell_type": "markdown",
   "metadata": {},
   "source": [
    "**Вывод:**  \n",
    "* На вход были получены сырые данные. Мы их привели в нормальный вид для дальнейшей работы\n",
    "* Подготовили данные для обучения моделей\n",
    "    + Масштабировали признаки\n",
    "    + Провели кодировку признаков\n",
    "* Выбрали для обучения три модели: Линейную регрессию, случайный лес и LightGBM, и рассчитали для каждой RMSE\n",
    "* Обучили модели и провели анализ резельтатов обучения\n",
    "* По результатам исследования была выбрана модель LightGBM. Исходя из указанных критериев, она подходит лучше всего для определения стоимости автомобилей"
   ]
  },
  {
   "cell_type": "code",
   "execution_count": null,
   "metadata": {},
   "outputs": [],
   "source": []
  }
 ],
 "metadata": {
  "ExecuteTimeLog": [
   {
    "duration": 1266,
    "start_time": "2023-02-05T22:17:31.213Z"
   },
   {
    "duration": 316,
    "start_time": "2023-02-05T22:18:08.712Z"
   },
   {
    "duration": 1008,
    "start_time": "2023-02-05T22:19:37.453Z"
   },
   {
    "duration": 17,
    "start_time": "2023-02-05T22:23:23.151Z"
   },
   {
    "duration": 103,
    "start_time": "2023-02-05T22:23:25.464Z"
   },
   {
    "duration": 93,
    "start_time": "2023-02-05T22:23:30.633Z"
   },
   {
    "duration": 1849,
    "start_time": "2023-02-07T14:44:34.855Z"
   },
   {
    "duration": 3485,
    "start_time": "2023-02-07T14:44:36.706Z"
   },
   {
    "duration": 13,
    "start_time": "2023-02-07T14:44:40.210Z"
   },
   {
    "duration": 143,
    "start_time": "2023-02-07T14:44:42.410Z"
   },
   {
    "duration": 129,
    "start_time": "2023-02-07T14:44:44.281Z"
   },
   {
    "duration": 4,
    "start_time": "2023-02-07T14:44:46.889Z"
   },
   {
    "duration": 53,
    "start_time": "2023-02-07T14:44:47.535Z"
   },
   {
    "duration": 41,
    "start_time": "2023-02-07T14:44:48.345Z"
   },
   {
    "duration": 78,
    "start_time": "2023-02-07T14:44:49.078Z"
   },
   {
    "duration": 1866,
    "start_time": "2023-02-07T14:52:16.033Z"
   },
   {
    "duration": 100,
    "start_time": "2023-02-07T14:53:17.972Z"
   },
   {
    "duration": 83,
    "start_time": "2023-02-07T14:53:36.753Z"
   },
   {
    "duration": 9,
    "start_time": "2023-02-07T14:53:38.926Z"
   },
   {
    "duration": 1418,
    "start_time": "2023-02-07T14:53:52.840Z"
   },
   {
    "duration": 821,
    "start_time": "2023-02-07T14:53:54.261Z"
   },
   {
    "duration": 18,
    "start_time": "2023-02-07T14:53:55.084Z"
   },
   {
    "duration": 154,
    "start_time": "2023-02-07T14:53:55.104Z"
   },
   {
    "duration": 100,
    "start_time": "2023-02-07T14:53:55.268Z"
   },
   {
    "duration": 5,
    "start_time": "2023-02-07T14:53:55.369Z"
   },
   {
    "duration": 58,
    "start_time": "2023-02-07T14:53:55.375Z"
   },
   {
    "duration": 48,
    "start_time": "2023-02-07T14:53:55.434Z"
   },
   {
    "duration": 86,
    "start_time": "2023-02-07T14:53:55.484Z"
   },
   {
    "duration": 98,
    "start_time": "2023-02-07T14:53:55.572Z"
   },
   {
    "duration": 112,
    "start_time": "2023-02-07T14:54:31.529Z"
   },
   {
    "duration": 1386,
    "start_time": "2023-02-07T14:54:41.184Z"
   },
   {
    "duration": 797,
    "start_time": "2023-02-07T14:54:42.571Z"
   },
   {
    "duration": 18,
    "start_time": "2023-02-07T14:54:43.370Z"
   },
   {
    "duration": 143,
    "start_time": "2023-02-07T14:54:43.390Z"
   },
   {
    "duration": 98,
    "start_time": "2023-02-07T14:54:43.535Z"
   },
   {
    "duration": 2,
    "start_time": "2023-02-07T14:54:43.635Z"
   },
   {
    "duration": 62,
    "start_time": "2023-02-07T14:54:43.639Z"
   },
   {
    "duration": 38,
    "start_time": "2023-02-07T14:54:43.702Z"
   },
   {
    "duration": 95,
    "start_time": "2023-02-07T14:54:43.741Z"
   },
   {
    "duration": 86,
    "start_time": "2023-02-07T14:54:43.838Z"
   },
   {
    "duration": 112,
    "start_time": "2023-02-07T14:54:43.925Z"
   },
   {
    "duration": 8,
    "start_time": "2023-02-07T14:55:47.508Z"
   },
   {
    "duration": 9,
    "start_time": "2023-02-07T14:55:51.381Z"
   },
   {
    "duration": 1369,
    "start_time": "2023-02-07T14:55:58.927Z"
   },
   {
    "duration": 901,
    "start_time": "2023-02-07T14:56:00.298Z"
   },
   {
    "duration": 16,
    "start_time": "2023-02-07T14:56:01.201Z"
   },
   {
    "duration": 162,
    "start_time": "2023-02-07T14:56:01.219Z"
   },
   {
    "duration": 99,
    "start_time": "2023-02-07T14:56:01.383Z"
   },
   {
    "duration": 3,
    "start_time": "2023-02-07T14:56:01.484Z"
   },
   {
    "duration": 75,
    "start_time": "2023-02-07T14:56:01.489Z"
   },
   {
    "duration": 39,
    "start_time": "2023-02-07T14:56:01.579Z"
   },
   {
    "duration": 109,
    "start_time": "2023-02-07T14:56:01.619Z"
   },
   {
    "duration": 108,
    "start_time": "2023-02-07T14:56:01.730Z"
   },
   {
    "duration": 115,
    "start_time": "2023-02-07T14:56:01.840Z"
   },
   {
    "duration": 8,
    "start_time": "2023-02-07T15:00:11.741Z"
   },
   {
    "duration": 1406,
    "start_time": "2023-02-07T15:00:23.970Z"
   },
   {
    "duration": 751,
    "start_time": "2023-02-07T15:00:25.378Z"
   },
   {
    "duration": 15,
    "start_time": "2023-02-07T15:00:26.130Z"
   },
   {
    "duration": 139,
    "start_time": "2023-02-07T15:00:26.147Z"
   },
   {
    "duration": 94,
    "start_time": "2023-02-07T15:00:26.288Z"
   },
   {
    "duration": 3,
    "start_time": "2023-02-07T15:00:26.383Z"
   },
   {
    "duration": 55,
    "start_time": "2023-02-07T15:00:26.387Z"
   },
   {
    "duration": 42,
    "start_time": "2023-02-07T15:00:26.444Z"
   },
   {
    "duration": 80,
    "start_time": "2023-02-07T15:00:26.488Z"
   },
   {
    "duration": 89,
    "start_time": "2023-02-07T15:00:26.570Z"
   },
   {
    "duration": 45,
    "start_time": "2023-02-07T15:00:26.667Z"
   },
   {
    "duration": 1391,
    "start_time": "2023-02-07T15:00:52.131Z"
   },
   {
    "duration": 818,
    "start_time": "2023-02-07T15:00:53.524Z"
   },
   {
    "duration": 15,
    "start_time": "2023-02-07T15:00:54.344Z"
   },
   {
    "duration": 141,
    "start_time": "2023-02-07T15:00:54.360Z"
   },
   {
    "duration": 98,
    "start_time": "2023-02-07T15:00:54.503Z"
   },
   {
    "duration": 3,
    "start_time": "2023-02-07T15:00:54.603Z"
   },
   {
    "duration": 65,
    "start_time": "2023-02-07T15:00:54.608Z"
   },
   {
    "duration": 37,
    "start_time": "2023-02-07T15:00:54.675Z"
   },
   {
    "duration": 113,
    "start_time": "2023-02-07T15:00:54.714Z"
   },
   {
    "duration": 84,
    "start_time": "2023-02-07T15:02:26.890Z"
   },
   {
    "duration": 33,
    "start_time": "2023-02-07T15:03:25.784Z"
   },
   {
    "duration": 114,
    "start_time": "2023-02-07T15:03:26.391Z"
   },
   {
    "duration": 84,
    "start_time": "2023-02-07T15:03:27.862Z"
   },
   {
    "duration": 83,
    "start_time": "2023-02-07T15:03:29.677Z"
   },
   {
    "duration": 1332,
    "start_time": "2023-02-07T15:03:47.213Z"
   },
   {
    "duration": 794,
    "start_time": "2023-02-07T15:03:48.547Z"
   },
   {
    "duration": 26,
    "start_time": "2023-02-07T15:03:49.343Z"
   },
   {
    "duration": 129,
    "start_time": "2023-02-07T15:03:49.371Z"
   },
   {
    "duration": 98,
    "start_time": "2023-02-07T15:03:49.501Z"
   },
   {
    "duration": 3,
    "start_time": "2023-02-07T15:03:49.600Z"
   },
   {
    "duration": 62,
    "start_time": "2023-02-07T15:03:49.605Z"
   },
   {
    "duration": 36,
    "start_time": "2023-02-07T15:03:49.669Z"
   },
   {
    "duration": 91,
    "start_time": "2023-02-07T15:03:49.706Z"
   },
   {
    "duration": 89,
    "start_time": "2023-02-07T15:03:49.799Z"
   },
   {
    "duration": 78,
    "start_time": "2023-02-07T15:03:59.298Z"
   },
   {
    "duration": 148,
    "start_time": "2023-02-07T15:08:12.998Z"
   },
   {
    "duration": 164,
    "start_time": "2023-02-07T15:08:20.863Z"
   },
   {
    "duration": 141,
    "start_time": "2023-02-07T15:08:28.767Z"
   },
   {
    "duration": 104,
    "start_time": "2023-02-07T15:23:40.829Z"
   },
   {
    "duration": 1461,
    "start_time": "2023-02-07T15:23:49.325Z"
   },
   {
    "duration": 899,
    "start_time": "2023-02-07T15:23:50.788Z"
   },
   {
    "duration": 17,
    "start_time": "2023-02-07T15:23:51.688Z"
   },
   {
    "duration": 161,
    "start_time": "2023-02-07T15:23:51.707Z"
   },
   {
    "duration": 106,
    "start_time": "2023-02-07T15:23:51.871Z"
   },
   {
    "duration": 3,
    "start_time": "2023-02-07T15:23:51.979Z"
   },
   {
    "duration": 71,
    "start_time": "2023-02-07T15:23:51.983Z"
   },
   {
    "duration": 40,
    "start_time": "2023-02-07T15:23:52.056Z"
   },
   {
    "duration": 99,
    "start_time": "2023-02-07T15:23:52.099Z"
   },
   {
    "duration": 102,
    "start_time": "2023-02-07T15:23:52.201Z"
   },
   {
    "duration": 86,
    "start_time": "2023-02-07T15:23:52.305Z"
   },
   {
    "duration": 183,
    "start_time": "2023-02-07T15:23:52.393Z"
   },
   {
    "duration": 181,
    "start_time": "2023-02-07T15:23:52.578Z"
   },
   {
    "duration": 141,
    "start_time": "2023-02-07T15:23:52.762Z"
   },
   {
    "duration": 126,
    "start_time": "2023-02-07T15:23:52.905Z"
   },
   {
    "duration": 0,
    "start_time": "2023-02-07T15:23:53.033Z"
   },
   {
    "duration": 0,
    "start_time": "2023-02-07T15:23:53.034Z"
   },
   {
    "duration": 0,
    "start_time": "2023-02-07T15:23:53.035Z"
   },
   {
    "duration": 0,
    "start_time": "2023-02-07T15:23:53.037Z"
   },
   {
    "duration": 0,
    "start_time": "2023-02-07T15:23:53.038Z"
   },
   {
    "duration": 0,
    "start_time": "2023-02-07T15:23:53.038Z"
   },
   {
    "duration": 0,
    "start_time": "2023-02-07T15:23:53.040Z"
   },
   {
    "duration": 0,
    "start_time": "2023-02-07T15:23:53.041Z"
   },
   {
    "duration": 0,
    "start_time": "2023-02-07T15:23:53.042Z"
   },
   {
    "duration": 1464,
    "start_time": "2023-02-07T15:24:10.153Z"
   },
   {
    "duration": 828,
    "start_time": "2023-02-07T15:24:11.619Z"
   },
   {
    "duration": 23,
    "start_time": "2023-02-07T15:24:12.449Z"
   },
   {
    "duration": 138,
    "start_time": "2023-02-07T15:24:12.473Z"
   },
   {
    "duration": 116,
    "start_time": "2023-02-07T15:24:12.612Z"
   },
   {
    "duration": 3,
    "start_time": "2023-02-07T15:24:12.730Z"
   },
   {
    "duration": 70,
    "start_time": "2023-02-07T15:24:12.734Z"
   },
   {
    "duration": 38,
    "start_time": "2023-02-07T15:24:12.806Z"
   },
   {
    "duration": 93,
    "start_time": "2023-02-07T15:24:12.846Z"
   },
   {
    "duration": 93,
    "start_time": "2023-02-07T15:24:12.942Z"
   },
   {
    "duration": 115,
    "start_time": "2023-02-07T15:24:13.037Z"
   },
   {
    "duration": 174,
    "start_time": "2023-02-07T15:24:13.153Z"
   },
   {
    "duration": 184,
    "start_time": "2023-02-07T15:24:13.329Z"
   },
   {
    "duration": 163,
    "start_time": "2023-02-07T15:24:13.515Z"
   },
   {
    "duration": 140,
    "start_time": "2023-02-07T15:24:13.681Z"
   },
   {
    "duration": 0,
    "start_time": "2023-02-07T15:24:13.822Z"
   },
   {
    "duration": 0,
    "start_time": "2023-02-07T15:24:13.824Z"
   },
   {
    "duration": 0,
    "start_time": "2023-02-07T15:24:13.825Z"
   },
   {
    "duration": 0,
    "start_time": "2023-02-07T15:24:13.826Z"
   },
   {
    "duration": 0,
    "start_time": "2023-02-07T15:24:13.827Z"
   },
   {
    "duration": 0,
    "start_time": "2023-02-07T15:24:13.828Z"
   },
   {
    "duration": 0,
    "start_time": "2023-02-07T15:24:13.829Z"
   },
   {
    "duration": 0,
    "start_time": "2023-02-07T15:24:13.830Z"
   },
   {
    "duration": 0,
    "start_time": "2023-02-07T15:24:13.831Z"
   },
   {
    "duration": 11,
    "start_time": "2023-02-07T15:24:17.328Z"
   },
   {
    "duration": 9,
    "start_time": "2023-02-07T15:24:18.160Z"
   },
   {
    "duration": 13,
    "start_time": "2023-02-07T15:24:26.593Z"
   },
   {
    "duration": 8,
    "start_time": "2023-02-07T15:24:31.138Z"
   },
   {
    "duration": 10,
    "start_time": "2023-02-07T15:24:45.986Z"
   },
   {
    "duration": 7,
    "start_time": "2023-02-07T15:25:13.774Z"
   },
   {
    "duration": 30,
    "start_time": "2023-02-07T15:25:50.599Z"
   },
   {
    "duration": 6,
    "start_time": "2023-02-07T15:25:59.277Z"
   },
   {
    "duration": 5,
    "start_time": "2023-02-07T15:26:12.463Z"
   },
   {
    "duration": 8,
    "start_time": "2023-02-07T15:26:34.257Z"
   },
   {
    "duration": 28,
    "start_time": "2023-02-07T15:26:39.064Z"
   },
   {
    "duration": 9,
    "start_time": "2023-02-07T15:26:43.216Z"
   },
   {
    "duration": 30,
    "start_time": "2023-02-07T15:26:50.249Z"
   },
   {
    "duration": 9,
    "start_time": "2023-02-07T15:26:53.009Z"
   },
   {
    "duration": 34,
    "start_time": "2023-02-07T15:27:04.570Z"
   },
   {
    "duration": 8,
    "start_time": "2023-02-07T15:27:06.434Z"
   },
   {
    "duration": 27,
    "start_time": "2023-02-07T15:27:08.297Z"
   },
   {
    "duration": 28,
    "start_time": "2023-02-07T15:27:09.329Z"
   },
   {
    "duration": 30,
    "start_time": "2023-02-07T15:27:10.146Z"
   },
   {
    "duration": 9,
    "start_time": "2023-02-07T15:31:32.490Z"
   },
   {
    "duration": 21,
    "start_time": "2023-02-07T15:33:51.746Z"
   },
   {
    "duration": 22,
    "start_time": "2023-02-07T15:34:01.196Z"
   },
   {
    "duration": 36,
    "start_time": "2023-02-07T15:34:31.028Z"
   },
   {
    "duration": 8,
    "start_time": "2023-02-07T15:36:19.935Z"
   },
   {
    "duration": 20,
    "start_time": "2023-02-07T15:39:38.142Z"
   },
   {
    "duration": 29,
    "start_time": "2023-02-07T15:40:14.448Z"
   },
   {
    "duration": 7,
    "start_time": "2023-02-07T15:40:47.163Z"
   },
   {
    "duration": 18,
    "start_time": "2023-02-07T16:04:21.090Z"
   },
   {
    "duration": 28,
    "start_time": "2023-02-07T16:05:04.396Z"
   },
   {
    "duration": 7,
    "start_time": "2023-02-07T16:06:13.447Z"
   },
   {
    "duration": 26,
    "start_time": "2023-02-07T16:07:58.439Z"
   },
   {
    "duration": 87,
    "start_time": "2023-02-07T16:09:37.621Z"
   },
   {
    "duration": 27,
    "start_time": "2023-02-07T16:10:34.544Z"
   },
   {
    "duration": 19,
    "start_time": "2023-02-07T16:14:04.261Z"
   },
   {
    "duration": 32,
    "start_time": "2023-02-07T16:14:05.044Z"
   },
   {
    "duration": 26,
    "start_time": "2023-02-07T16:14:43.126Z"
   },
   {
    "duration": 496,
    "start_time": "2023-02-07T16:40:26.921Z"
   },
   {
    "duration": 391,
    "start_time": "2023-02-07T16:44:44.026Z"
   },
   {
    "duration": 9,
    "start_time": "2023-02-07T16:51:28.407Z"
   },
   {
    "duration": 3,
    "start_time": "2023-02-07T16:52:06.777Z"
   },
   {
    "duration": 2451,
    "start_time": "2023-02-07T16:52:12.522Z"
   },
   {
    "duration": 14,
    "start_time": "2023-02-07T16:58:20.423Z"
   },
   {
    "duration": 5,
    "start_time": "2023-02-07T16:58:41.559Z"
   },
   {
    "duration": 36887,
    "start_time": "2023-02-07T17:01:10.095Z"
   },
   {
    "duration": 45200,
    "start_time": "2023-02-07T17:01:57.678Z"
   },
   {
    "duration": 46054,
    "start_time": "2023-02-07T17:02:50.923Z"
   },
   {
    "duration": 1698,
    "start_time": "2023-02-08T06:56:16.206Z"
   },
   {
    "duration": 3022,
    "start_time": "2023-02-08T06:56:17.906Z"
   },
   {
    "duration": 18,
    "start_time": "2023-02-08T06:56:20.930Z"
   },
   {
    "duration": 127,
    "start_time": "2023-02-08T06:56:20.950Z"
   },
   {
    "duration": 117,
    "start_time": "2023-02-08T06:56:21.079Z"
   },
   {
    "duration": 3,
    "start_time": "2023-02-08T06:56:21.198Z"
   },
   {
    "duration": 67,
    "start_time": "2023-02-08T06:56:21.203Z"
   },
   {
    "duration": 40,
    "start_time": "2023-02-08T06:56:21.272Z"
   },
   {
    "duration": 111,
    "start_time": "2023-02-08T06:56:21.314Z"
   },
   {
    "duration": 95,
    "start_time": "2023-02-08T06:56:21.427Z"
   },
   {
    "duration": 77,
    "start_time": "2023-02-08T06:56:21.523Z"
   },
   {
    "duration": 185,
    "start_time": "2023-02-08T06:56:21.602Z"
   },
   {
    "duration": 177,
    "start_time": "2023-02-08T06:56:21.789Z"
   },
   {
    "duration": 138,
    "start_time": "2023-02-08T06:56:21.968Z"
   },
   {
    "duration": 11,
    "start_time": "2023-02-08T06:56:22.108Z"
   },
   {
    "duration": 33,
    "start_time": "2023-02-08T06:56:22.121Z"
   },
   {
    "duration": 27,
    "start_time": "2023-02-08T06:56:22.156Z"
   },
   {
    "duration": 8,
    "start_time": "2023-02-08T06:56:22.184Z"
   },
   {
    "duration": 49,
    "start_time": "2023-02-08T06:56:22.194Z"
   },
   {
    "duration": 28,
    "start_time": "2023-02-08T06:56:22.244Z"
   },
   {
    "duration": 13,
    "start_time": "2023-02-08T06:56:22.274Z"
   },
   {
    "duration": 26,
    "start_time": "2023-02-08T06:56:22.289Z"
   },
   {
    "duration": 47,
    "start_time": "2023-02-08T06:56:22.317Z"
   },
   {
    "duration": 8,
    "start_time": "2023-02-08T06:56:22.367Z"
   },
   {
    "duration": 25,
    "start_time": "2023-02-08T06:56:22.377Z"
   },
   {
    "duration": 51,
    "start_time": "2023-02-08T06:56:22.404Z"
   },
   {
    "duration": 24,
    "start_time": "2023-02-08T06:56:22.458Z"
   },
   {
    "duration": 616,
    "start_time": "2023-02-08T06:56:22.486Z"
   },
   {
    "duration": 470,
    "start_time": "2023-02-08T06:56:23.105Z"
   },
   {
    "duration": 2569,
    "start_time": "2023-02-08T06:56:23.577Z"
   },
   {
    "duration": 24392,
    "start_time": "2023-02-08T06:56:26.149Z"
   },
   {
    "duration": 365,
    "start_time": "2023-02-08T12:31:36.912Z"
   },
   {
    "duration": 2544,
    "start_time": "2023-02-08T12:31:38.586Z"
   },
   {
    "duration": 21513,
    "start_time": "2023-02-08T12:32:07.029Z"
   },
   {
    "duration": 58,
    "start_time": "2023-02-08T12:34:10.253Z"
   },
   {
    "duration": 188,
    "start_time": "2023-02-08T13:13:56.852Z"
   },
   {
    "duration": 823,
    "start_time": "2023-02-08T13:14:02.514Z"
   },
   {
    "duration": 180,
    "start_time": "2023-02-08T13:15:33.586Z"
   },
   {
    "duration": 607,
    "start_time": "2023-02-08T13:15:39.656Z"
   },
   {
    "duration": 47,
    "start_time": "2023-02-08T13:16:21.217Z"
   },
   {
    "duration": 4795,
    "start_time": "2023-02-08T13:19:10.499Z"
   },
   {
    "duration": 5,
    "start_time": "2023-02-08T15:32:26.198Z"
   },
   {
    "duration": 4,
    "start_time": "2023-02-08T15:34:06.360Z"
   },
   {
    "duration": 7,
    "start_time": "2023-02-08T15:34:12.550Z"
   },
   {
    "duration": 5,
    "start_time": "2023-02-08T15:34:21.167Z"
   },
   {
    "duration": 16959,
    "start_time": "2023-02-08T15:37:53.795Z"
   },
   {
    "duration": 3,
    "start_time": "2023-02-08T15:38:10.757Z"
   },
   {
    "duration": 52181,
    "start_time": "2023-02-08T15:38:50.055Z"
   },
   {
    "duration": 21928,
    "start_time": "2023-02-08T15:43:45.910Z"
   },
   {
    "duration": 4,
    "start_time": "2023-02-08T15:45:41.829Z"
   },
   {
    "duration": 56,
    "start_time": "2023-02-08T16:24:09.075Z"
   },
   {
    "duration": 97,
    "start_time": "2023-02-08T16:25:59.017Z"
   },
   {
    "duration": 85,
    "start_time": "2023-02-08T16:26:42.218Z"
   },
   {
    "duration": 82,
    "start_time": "2023-02-08T16:27:13.092Z"
   },
   {
    "duration": 75,
    "start_time": "2023-02-08T16:29:51.133Z"
   },
   {
    "duration": 84,
    "start_time": "2023-02-08T16:30:13.414Z"
   },
   {
    "duration": 4,
    "start_time": "2023-02-08T16:30:45.199Z"
   },
   {
    "duration": 81,
    "start_time": "2023-02-08T16:30:50.618Z"
   },
   {
    "duration": 96,
    "start_time": "2023-02-08T16:32:40.343Z"
   },
   {
    "duration": 1248,
    "start_time": "2023-02-08T16:33:22.315Z"
   },
   {
    "duration": 813,
    "start_time": "2023-02-08T16:33:23.565Z"
   },
   {
    "duration": 22,
    "start_time": "2023-02-08T16:33:24.380Z"
   },
   {
    "duration": 140,
    "start_time": "2023-02-08T16:33:24.404Z"
   },
   {
    "duration": 109,
    "start_time": "2023-02-08T16:33:24.546Z"
   },
   {
    "duration": 3,
    "start_time": "2023-02-08T16:33:24.657Z"
   },
   {
    "duration": 74,
    "start_time": "2023-02-08T16:33:24.662Z"
   },
   {
    "duration": 38,
    "start_time": "2023-02-08T16:33:24.738Z"
   },
   {
    "duration": 78,
    "start_time": "2023-02-08T16:33:24.778Z"
   },
   {
    "duration": 99,
    "start_time": "2023-02-08T16:33:24.857Z"
   },
   {
    "duration": 81,
    "start_time": "2023-02-08T16:33:24.959Z"
   },
   {
    "duration": 173,
    "start_time": "2023-02-08T16:33:25.042Z"
   },
   {
    "duration": 183,
    "start_time": "2023-02-08T16:33:25.216Z"
   },
   {
    "duration": 209,
    "start_time": "2023-02-08T16:33:25.402Z"
   },
   {
    "duration": 9,
    "start_time": "2023-02-08T16:33:25.613Z"
   },
   {
    "duration": 33,
    "start_time": "2023-02-08T16:33:25.624Z"
   },
   {
    "duration": 27,
    "start_time": "2023-02-08T16:33:25.659Z"
   },
   {
    "duration": 14,
    "start_time": "2023-02-08T16:33:25.688Z"
   },
   {
    "duration": 44,
    "start_time": "2023-02-08T16:33:25.703Z"
   },
   {
    "duration": 26,
    "start_time": "2023-02-08T16:33:25.749Z"
   },
   {
    "duration": 21,
    "start_time": "2023-02-08T16:33:25.777Z"
   },
   {
    "duration": 22,
    "start_time": "2023-02-08T16:33:25.800Z"
   },
   {
    "duration": 35,
    "start_time": "2023-02-08T16:33:25.824Z"
   },
   {
    "duration": 9,
    "start_time": "2023-02-08T16:33:25.861Z"
   },
   {
    "duration": 24,
    "start_time": "2023-02-08T16:33:25.871Z"
   },
   {
    "duration": 49,
    "start_time": "2023-02-08T16:33:25.896Z"
   },
   {
    "duration": 26,
    "start_time": "2023-02-08T16:33:25.947Z"
   },
   {
    "duration": 593,
    "start_time": "2023-02-08T16:33:25.975Z"
   },
   {
    "duration": 456,
    "start_time": "2023-02-08T16:33:26.570Z"
   },
   {
    "duration": 2545,
    "start_time": "2023-02-08T16:33:27.028Z"
   },
   {
    "duration": 3,
    "start_time": "2023-02-08T16:33:29.575Z"
   },
   {
    "duration": 20762,
    "start_time": "2023-02-08T16:33:29.579Z"
   },
   {
    "duration": 995,
    "start_time": "2023-02-08T16:33:50.343Z"
   },
   {
    "duration": 52,
    "start_time": "2023-02-08T16:33:51.341Z"
   },
   {
    "duration": 3,
    "start_time": "2023-02-08T16:33:51.395Z"
   },
   {
    "duration": 54218,
    "start_time": "2023-02-08T16:33:51.400Z"
   },
   {
    "duration": 57,
    "start_time": "2023-02-08T16:34:45.619Z"
   },
   {
    "duration": 3,
    "start_time": "2023-02-08T16:34:45.677Z"
   },
   {
    "duration": 176,
    "start_time": "2023-02-08T16:34:45.682Z"
   },
   {
    "duration": 665,
    "start_time": "2023-02-08T16:37:05.422Z"
   },
   {
    "duration": 45,
    "start_time": "2023-02-08T16:37:20.327Z"
   },
   {
    "duration": 44,
    "start_time": "2023-02-08T16:37:35.671Z"
   },
   {
    "duration": 3,
    "start_time": "2023-02-08T16:37:39.918Z"
   },
   {
    "duration": 87,
    "start_time": "2023-02-08T16:37:40.599Z"
   },
   {
    "duration": 50,
    "start_time": "2023-02-08T16:38:57.063Z"
   },
   {
    "duration": 65,
    "start_time": "2023-02-08T16:38:59.924Z"
   },
   {
    "duration": 66,
    "start_time": "2023-02-08T16:39:02.797Z"
   },
   {
    "duration": 78,
    "start_time": "2023-02-08T16:39:09.067Z"
   },
   {
    "duration": 47,
    "start_time": "2023-02-08T16:39:18.772Z"
   },
   {
    "duration": 1287,
    "start_time": "2023-02-08T16:39:48.200Z"
   },
   {
    "duration": 824,
    "start_time": "2023-02-08T16:39:49.489Z"
   },
   {
    "duration": 24,
    "start_time": "2023-02-08T16:39:50.315Z"
   },
   {
    "duration": 125,
    "start_time": "2023-02-08T16:39:50.341Z"
   },
   {
    "duration": 118,
    "start_time": "2023-02-08T16:39:50.469Z"
   },
   {
    "duration": 3,
    "start_time": "2023-02-08T16:39:50.589Z"
   },
   {
    "duration": 71,
    "start_time": "2023-02-08T16:39:50.594Z"
   },
   {
    "duration": 36,
    "start_time": "2023-02-08T16:39:50.667Z"
   },
   {
    "duration": 90,
    "start_time": "2023-02-08T16:39:50.705Z"
   },
   {
    "duration": 87,
    "start_time": "2023-02-08T16:39:50.796Z"
   },
   {
    "duration": 82,
    "start_time": "2023-02-08T16:39:50.884Z"
   },
   {
    "duration": 169,
    "start_time": "2023-02-08T16:39:50.968Z"
   },
   {
    "duration": 185,
    "start_time": "2023-02-08T16:39:51.139Z"
   },
   {
    "duration": 219,
    "start_time": "2023-02-08T16:39:51.328Z"
   },
   {
    "duration": 9,
    "start_time": "2023-02-08T16:39:51.548Z"
   },
   {
    "duration": 23,
    "start_time": "2023-02-08T16:39:51.559Z"
   },
   {
    "duration": 28,
    "start_time": "2023-02-08T16:39:51.583Z"
   },
   {
    "duration": 8,
    "start_time": "2023-02-08T16:39:51.636Z"
   },
   {
    "duration": 24,
    "start_time": "2023-02-08T16:39:51.646Z"
   },
   {
    "duration": 30,
    "start_time": "2023-02-08T16:39:51.672Z"
   },
   {
    "duration": 37,
    "start_time": "2023-02-08T16:39:51.703Z"
   },
   {
    "duration": 31,
    "start_time": "2023-02-08T16:39:51.742Z"
   },
   {
    "duration": 30,
    "start_time": "2023-02-08T16:39:51.776Z"
   },
   {
    "duration": 57,
    "start_time": "2023-02-08T16:39:51.808Z"
   },
   {
    "duration": 43,
    "start_time": "2023-02-08T16:39:51.868Z"
   },
   {
    "duration": 34,
    "start_time": "2023-02-08T16:39:51.913Z"
   },
   {
    "duration": 32,
    "start_time": "2023-02-08T16:39:51.949Z"
   },
   {
    "duration": 607,
    "start_time": "2023-02-08T16:39:51.983Z"
   },
   {
    "duration": 461,
    "start_time": "2023-02-08T16:39:52.592Z"
   },
   {
    "duration": 2525,
    "start_time": "2023-02-08T16:39:53.055Z"
   },
   {
    "duration": 3,
    "start_time": "2023-02-08T16:39:55.582Z"
   },
   {
    "duration": 19455,
    "start_time": "2023-02-08T16:39:55.586Z"
   },
   {
    "duration": 961,
    "start_time": "2023-02-08T16:40:15.043Z"
   },
   {
    "duration": 55,
    "start_time": "2023-02-08T16:40:16.005Z"
   },
   {
    "duration": 2,
    "start_time": "2023-02-08T16:40:16.062Z"
   },
   {
    "duration": 55989,
    "start_time": "2023-02-08T16:40:16.065Z"
   },
   {
    "duration": 71,
    "start_time": "2023-02-08T16:41:12.056Z"
   },
   {
    "duration": 3,
    "start_time": "2023-02-08T16:41:12.136Z"
   },
   {
    "duration": 187,
    "start_time": "2023-02-08T16:41:12.141Z"
   },
   {
    "duration": 108,
    "start_time": "2023-02-08T16:47:25.776Z"
   },
   {
    "duration": 98,
    "start_time": "2023-02-08T16:47:32.368Z"
   },
   {
    "duration": 3,
    "start_time": "2023-02-08T16:47:37.536Z"
   },
   {
    "duration": 84,
    "start_time": "2023-02-08T16:47:38.329Z"
   },
   {
    "duration": 81,
    "start_time": "2023-02-08T16:49:42.355Z"
   },
   {
    "duration": 2413,
    "start_time": "2023-02-08T16:49:58.864Z"
   },
   {
    "duration": 88,
    "start_time": "2023-02-08T16:50:04.950Z"
   },
   {
    "duration": 3,
    "start_time": "2023-02-08T16:50:06.968Z"
   },
   {
    "duration": 94,
    "start_time": "2023-02-08T16:50:07.681Z"
   },
   {
    "duration": 76,
    "start_time": "2023-02-08T16:50:47.907Z"
   },
   {
    "duration": 3,
    "start_time": "2023-02-08T16:50:56.325Z"
   },
   {
    "duration": 74,
    "start_time": "2023-02-08T16:50:57.547Z"
   },
   {
    "duration": 62,
    "start_time": "2023-02-08T16:51:28.124Z"
   },
   {
    "duration": 85,
    "start_time": "2023-02-08T16:52:49.871Z"
   },
   {
    "duration": 77,
    "start_time": "2023-02-08T16:53:05.523Z"
   },
   {
    "duration": 2,
    "start_time": "2023-02-08T16:54:34.984Z"
   },
   {
    "duration": 62,
    "start_time": "2023-02-08T16:54:57.065Z"
   },
   {
    "duration": 37,
    "start_time": "2023-02-08T16:55:19.016Z"
   },
   {
    "duration": 43,
    "start_time": "2023-02-08T16:55:52.517Z"
   },
   {
    "duration": 3,
    "start_time": "2023-02-08T16:56:13.773Z"
   },
   {
    "duration": 36,
    "start_time": "2023-02-08T16:56:14.621Z"
   },
   {
    "duration": 3,
    "start_time": "2023-02-08T16:57:49.581Z"
   },
   {
    "duration": 97,
    "start_time": "2023-02-08T16:58:44.186Z"
   },
   {
    "duration": 111,
    "start_time": "2023-02-08T16:59:05.153Z"
   },
   {
    "duration": 1316,
    "start_time": "2023-02-08T16:59:46.275Z"
   },
   {
    "duration": 929,
    "start_time": "2023-02-08T16:59:47.593Z"
   },
   {
    "duration": 27,
    "start_time": "2023-02-08T16:59:48.523Z"
   },
   {
    "duration": 134,
    "start_time": "2023-02-08T16:59:48.553Z"
   },
   {
    "duration": 116,
    "start_time": "2023-02-08T16:59:48.689Z"
   },
   {
    "duration": 3,
    "start_time": "2023-02-08T16:59:48.807Z"
   },
   {
    "duration": 88,
    "start_time": "2023-02-08T16:59:48.812Z"
   },
   {
    "duration": 40,
    "start_time": "2023-02-08T16:59:48.902Z"
   },
   {
    "duration": 84,
    "start_time": "2023-02-08T16:59:48.944Z"
   },
   {
    "duration": 97,
    "start_time": "2023-02-08T16:59:49.031Z"
   },
   {
    "duration": 77,
    "start_time": "2023-02-08T16:59:49.130Z"
   },
   {
    "duration": 203,
    "start_time": "2023-02-08T16:59:49.208Z"
   },
   {
    "duration": 271,
    "start_time": "2023-02-08T16:59:49.413Z"
   },
   {
    "duration": 155,
    "start_time": "2023-02-08T16:59:49.685Z"
   },
   {
    "duration": 15,
    "start_time": "2023-02-08T16:59:49.842Z"
   },
   {
    "duration": 32,
    "start_time": "2023-02-08T16:59:49.859Z"
   },
   {
    "duration": 28,
    "start_time": "2023-02-08T16:59:49.893Z"
   },
   {
    "duration": 19,
    "start_time": "2023-02-08T16:59:49.937Z"
   },
   {
    "duration": 23,
    "start_time": "2023-02-08T16:59:49.958Z"
   },
   {
    "duration": 28,
    "start_time": "2023-02-08T16:59:49.983Z"
   },
   {
    "duration": 34,
    "start_time": "2023-02-08T16:59:50.013Z"
   },
   {
    "duration": 24,
    "start_time": "2023-02-08T16:59:50.050Z"
   },
   {
    "duration": 27,
    "start_time": "2023-02-08T16:59:50.076Z"
   },
   {
    "duration": 12,
    "start_time": "2023-02-08T16:59:50.105Z"
   },
   {
    "duration": 36,
    "start_time": "2023-02-08T16:59:50.138Z"
   },
   {
    "duration": 30,
    "start_time": "2023-02-08T16:59:50.176Z"
   },
   {
    "duration": 45,
    "start_time": "2023-02-08T16:59:50.208Z"
   },
   {
    "duration": 630,
    "start_time": "2023-02-08T16:59:50.257Z"
   },
   {
    "duration": 434,
    "start_time": "2023-02-08T16:59:50.890Z"
   },
   {
    "duration": 2499,
    "start_time": "2023-02-08T16:59:51.326Z"
   },
   {
    "duration": 2,
    "start_time": "2023-02-08T16:59:53.827Z"
   },
   {
    "duration": 20305,
    "start_time": "2023-02-08T16:59:53.836Z"
   },
   {
    "duration": 978,
    "start_time": "2023-02-08T17:00:14.143Z"
   },
   {
    "duration": 67,
    "start_time": "2023-02-08T17:00:15.123Z"
   },
   {
    "duration": 3,
    "start_time": "2023-02-08T17:00:15.192Z"
   },
   {
    "duration": 54959,
    "start_time": "2023-02-08T17:00:15.198Z"
   },
   {
    "duration": 2061,
    "start_time": "2023-02-08T17:01:10.158Z"
   },
   {
    "duration": 78,
    "start_time": "2023-02-08T17:01:12.221Z"
   },
   {
    "duration": 3,
    "start_time": "2023-02-08T17:01:12.300Z"
   },
   {
    "duration": 247,
    "start_time": "2023-02-08T17:01:12.305Z"
   },
   {
    "duration": 2,
    "start_time": "2023-02-08T17:01:12.554Z"
   },
   {
    "duration": 44,
    "start_time": "2023-02-08T17:01:12.558Z"
   },
   {
    "duration": 61,
    "start_time": "2023-02-08T17:04:00.221Z"
   },
   {
    "duration": 7329,
    "start_time": "2023-02-08T17:05:46.426Z"
   },
   {
    "duration": 3,
    "start_time": "2023-02-08T17:06:00.391Z"
   },
   {
    "duration": 40,
    "start_time": "2023-02-08T17:06:15.015Z"
   },
   {
    "duration": 37,
    "start_time": "2023-02-08T17:06:36.295Z"
   },
   {
    "duration": 78,
    "start_time": "2023-02-08T17:06:51.540Z"
   },
   {
    "duration": 85,
    "start_time": "2023-02-08T17:07:34.364Z"
   },
   {
    "duration": 3,
    "start_time": "2023-02-08T17:08:31.212Z"
   },
   {
    "duration": 91,
    "start_time": "2023-02-08T17:08:33.382Z"
   },
   {
    "duration": 78,
    "start_time": "2023-02-08T17:08:49.991Z"
   },
   {
    "duration": 107,
    "start_time": "2023-02-08T17:09:03.361Z"
   },
   {
    "duration": 123,
    "start_time": "2023-02-08T17:10:09.684Z"
   },
   {
    "duration": 122,
    "start_time": "2023-02-08T17:10:25.309Z"
   },
   {
    "duration": 4,
    "start_time": "2023-02-08T17:26:20.285Z"
   },
   {
    "duration": 121,
    "start_time": "2023-02-08T17:26:25.372Z"
   },
   {
    "duration": 4,
    "start_time": "2023-02-08T17:26:34.860Z"
   },
   {
    "duration": 121,
    "start_time": "2023-02-08T17:30:14.737Z"
   },
   {
    "duration": 78,
    "start_time": "2023-02-08T17:30:42.778Z"
   },
   {
    "duration": 83,
    "start_time": "2023-02-08T17:31:35.181Z"
   },
   {
    "duration": 42,
    "start_time": "2023-02-08T17:34:31.960Z"
   },
   {
    "duration": 39,
    "start_time": "2023-02-08T17:35:09.217Z"
   },
   {
    "duration": 40,
    "start_time": "2023-02-08T17:35:39.867Z"
   },
   {
    "duration": 4,
    "start_time": "2023-02-08T17:37:12.545Z"
   },
   {
    "duration": 40,
    "start_time": "2023-02-08T17:37:18.048Z"
   },
   {
    "duration": 3,
    "start_time": "2023-02-08T17:39:11.736Z"
   },
   {
    "duration": 38,
    "start_time": "2023-02-08T17:39:18.052Z"
   },
   {
    "duration": 1584064,
    "start_time": "2023-02-08T17:39:40.784Z"
   },
   {
    "duration": 589600,
    "start_time": "2023-02-08T18:20:35.438Z"
   },
   {
    "duration": 4,
    "start_time": "2023-02-09T08:48:20.078Z"
   },
   {
    "duration": 3,
    "start_time": "2023-02-09T08:48:59.917Z"
   },
   {
    "duration": 32449,
    "start_time": "2023-02-09T08:49:00.597Z"
   },
   {
    "duration": 154,
    "start_time": "2023-02-09T08:51:14.486Z"
   },
   {
    "duration": 2,
    "start_time": "2023-02-09T08:53:42.271Z"
   },
   {
    "duration": 29334,
    "start_time": "2023-02-09T08:53:42.899Z"
   },
   {
    "duration": 3,
    "start_time": "2023-02-09T08:54:21.097Z"
   },
   {
    "duration": 1851,
    "start_time": "2023-02-09T08:54:21.807Z"
   },
   {
    "duration": 180280,
    "start_time": "2023-02-09T08:56:37.762Z"
   },
   {
    "duration": 2,
    "start_time": "2023-02-09T08:59:38.044Z"
   },
   {
    "duration": 237737,
    "start_time": "2023-02-09T09:00:11.300Z"
   },
   {
    "duration": 3,
    "start_time": "2023-02-09T09:05:04.708Z"
   },
   {
    "duration": 2169,
    "start_time": "2023-02-09T09:05:06.484Z"
   },
   {
    "duration": 277240,
    "start_time": "2023-02-09T09:07:08.101Z"
   },
   {
    "duration": 151906,
    "start_time": "2023-02-09T09:12:03.031Z"
   },
   {
    "duration": 6158,
    "start_time": "2023-02-09T10:01:15.791Z"
   },
   {
    "duration": 12673,
    "start_time": "2023-02-09T10:11:26.970Z"
   },
   {
    "duration": 1380,
    "start_time": "2023-02-10T04:53:15.298Z"
   },
   {
    "duration": 794,
    "start_time": "2023-02-10T04:53:16.679Z"
   },
   {
    "duration": 21,
    "start_time": "2023-02-10T04:53:17.475Z"
   },
   {
    "duration": 110,
    "start_time": "2023-02-10T04:53:19.013Z"
   },
   {
    "duration": 93,
    "start_time": "2023-02-10T04:53:19.490Z"
   },
   {
    "duration": 3,
    "start_time": "2023-02-10T04:53:21.581Z"
   },
   {
    "duration": 54,
    "start_time": "2023-02-10T04:53:24.179Z"
   },
   {
    "duration": 37,
    "start_time": "2023-02-10T04:53:29.161Z"
   },
   {
    "duration": 78,
    "start_time": "2023-02-10T04:54:32.993Z"
   },
   {
    "duration": 83,
    "start_time": "2023-02-10T04:54:37.188Z"
   },
   {
    "duration": 75,
    "start_time": "2023-02-10T04:55:02.848Z"
   },
   {
    "duration": 178,
    "start_time": "2023-02-10T04:55:04.095Z"
   },
   {
    "duration": 180,
    "start_time": "2023-02-10T04:55:04.907Z"
   },
   {
    "duration": 153,
    "start_time": "2023-02-10T04:55:39.196Z"
   },
   {
    "duration": 9,
    "start_time": "2023-02-10T04:55:40.192Z"
   },
   {
    "duration": 25,
    "start_time": "2023-02-10T04:55:42.557Z"
   },
   {
    "duration": 33,
    "start_time": "2023-02-10T04:55:59.526Z"
   },
   {
    "duration": 8,
    "start_time": "2023-02-10T04:56:00.309Z"
   },
   {
    "duration": 24,
    "start_time": "2023-02-10T04:56:03.352Z"
   },
   {
    "duration": 26,
    "start_time": "2023-02-10T04:56:26.453Z"
   },
   {
    "duration": 11,
    "start_time": "2023-02-10T04:56:29.309Z"
   },
   {
    "duration": 21,
    "start_time": "2023-02-10T04:56:32.153Z"
   },
   {
    "duration": 33,
    "start_time": "2023-02-10T04:56:54.554Z"
   },
   {
    "duration": 7,
    "start_time": "2023-02-10T04:56:55.571Z"
   },
   {
    "duration": 26,
    "start_time": "2023-02-10T04:56:58.158Z"
   },
   {
    "duration": 26,
    "start_time": "2023-02-10T04:56:59.449Z"
   },
   {
    "duration": 31,
    "start_time": "2023-02-10T04:57:02.615Z"
   },
   {
    "duration": 684,
    "start_time": "2023-02-10T04:58:18.528Z"
   },
   {
    "duration": 438,
    "start_time": "2023-02-10T04:58:42.347Z"
   },
   {
    "duration": 2510,
    "start_time": "2023-02-10T05:02:14.624Z"
   },
   {
    "duration": 905,
    "start_time": "2023-02-10T05:03:08.891Z"
   },
   {
    "duration": 75,
    "start_time": "2023-02-10T08:18:46.457Z"
   },
   {
    "duration": 1290,
    "start_time": "2023-02-10T08:19:02.753Z"
   },
   {
    "duration": 3680,
    "start_time": "2023-02-10T08:19:04.046Z"
   },
   {
    "duration": 19,
    "start_time": "2023-02-10T08:19:07.728Z"
   },
   {
    "duration": 156,
    "start_time": "2023-02-10T08:19:07.748Z"
   },
   {
    "duration": 104,
    "start_time": "2023-02-10T08:19:07.906Z"
   },
   {
    "duration": 5,
    "start_time": "2023-02-10T08:19:08.011Z"
   },
   {
    "duration": 65,
    "start_time": "2023-02-10T08:19:08.020Z"
   },
   {
    "duration": 45,
    "start_time": "2023-02-10T08:19:08.091Z"
   },
   {
    "duration": 157,
    "start_time": "2023-02-10T08:19:08.138Z"
   },
   {
    "duration": 126,
    "start_time": "2023-02-10T08:19:08.297Z"
   },
   {
    "duration": 108,
    "start_time": "2023-02-10T08:19:08.426Z"
   },
   {
    "duration": 217,
    "start_time": "2023-02-10T08:19:08.536Z"
   },
   {
    "duration": 200,
    "start_time": "2023-02-10T08:19:08.756Z"
   },
   {
    "duration": 212,
    "start_time": "2023-02-10T08:19:08.960Z"
   },
   {
    "duration": 37,
    "start_time": "2023-02-10T08:19:09.175Z"
   },
   {
    "duration": 25,
    "start_time": "2023-02-10T08:19:09.218Z"
   },
   {
    "duration": 34,
    "start_time": "2023-02-10T08:19:09.246Z"
   },
   {
    "duration": 17,
    "start_time": "2023-02-10T08:19:09.281Z"
   },
   {
    "duration": 34,
    "start_time": "2023-02-10T08:19:09.303Z"
   },
   {
    "duration": 54,
    "start_time": "2023-02-10T08:19:09.339Z"
   },
   {
    "duration": 32,
    "start_time": "2023-02-10T08:19:09.398Z"
   },
   {
    "duration": 18,
    "start_time": "2023-02-10T08:19:09.431Z"
   },
   {
    "duration": 31,
    "start_time": "2023-02-10T08:19:09.451Z"
   },
   {
    "duration": 24,
    "start_time": "2023-02-10T08:19:09.484Z"
   },
   {
    "duration": 50,
    "start_time": "2023-02-10T08:19:09.515Z"
   },
   {
    "duration": 36,
    "start_time": "2023-02-10T08:19:09.566Z"
   },
   {
    "duration": 38,
    "start_time": "2023-02-10T08:19:09.607Z"
   },
   {
    "duration": 600,
    "start_time": "2023-02-10T08:19:09.647Z"
   },
   {
    "duration": 611,
    "start_time": "2023-02-10T08:19:10.249Z"
   },
   {
    "duration": 0,
    "start_time": "2023-02-10T08:19:10.862Z"
   },
   {
    "duration": 0,
    "start_time": "2023-02-10T08:19:10.864Z"
   },
   {
    "duration": 0,
    "start_time": "2023-02-10T08:19:10.865Z"
   },
   {
    "duration": 0,
    "start_time": "2023-02-10T08:19:10.866Z"
   },
   {
    "duration": 0,
    "start_time": "2023-02-10T08:19:10.868Z"
   },
   {
    "duration": 0,
    "start_time": "2023-02-10T08:19:10.869Z"
   },
   {
    "duration": 0,
    "start_time": "2023-02-10T08:19:10.870Z"
   },
   {
    "duration": 0,
    "start_time": "2023-02-10T08:19:10.893Z"
   },
   {
    "duration": 0,
    "start_time": "2023-02-10T08:19:10.894Z"
   },
   {
    "duration": 0,
    "start_time": "2023-02-10T08:19:10.895Z"
   },
   {
    "duration": 0,
    "start_time": "2023-02-10T08:19:10.896Z"
   },
   {
    "duration": 0,
    "start_time": "2023-02-10T08:19:10.897Z"
   },
   {
    "duration": 0,
    "start_time": "2023-02-10T08:19:10.899Z"
   },
   {
    "duration": 0,
    "start_time": "2023-02-10T08:19:10.902Z"
   },
   {
    "duration": 0,
    "start_time": "2023-02-10T08:19:10.905Z"
   },
   {
    "duration": 0,
    "start_time": "2023-02-10T08:19:10.906Z"
   },
   {
    "duration": 0,
    "start_time": "2023-02-10T08:19:10.907Z"
   },
   {
    "duration": 0,
    "start_time": "2023-02-10T08:19:10.909Z"
   },
   {
    "duration": 0,
    "start_time": "2023-02-10T08:19:10.910Z"
   },
   {
    "duration": 0,
    "start_time": "2023-02-10T08:19:10.912Z"
   },
   {
    "duration": 0,
    "start_time": "2023-02-10T08:19:10.913Z"
   },
   {
    "duration": 0,
    "start_time": "2023-02-10T08:19:10.914Z"
   },
   {
    "duration": 0,
    "start_time": "2023-02-10T08:19:10.916Z"
   },
   {
    "duration": 0,
    "start_time": "2023-02-10T08:19:10.917Z"
   },
   {
    "duration": 414,
    "start_time": "2023-02-10T08:19:41.165Z"
   },
   {
    "duration": 453,
    "start_time": "2023-02-10T08:19:55.991Z"
   },
   {
    "duration": 2119,
    "start_time": "2023-02-10T08:21:25.413Z"
   },
   {
    "duration": 37647,
    "start_time": "2023-02-10T08:22:33.181Z"
   },
   {
    "duration": 106,
    "start_time": "2023-02-10T08:24:14.148Z"
   },
   {
    "duration": 126,
    "start_time": "2023-02-10T08:25:12.622Z"
   },
   {
    "duration": 75,
    "start_time": "2023-02-10T08:25:55.711Z"
   },
   {
    "duration": 14,
    "start_time": "2023-02-10T08:29:13.076Z"
   },
   {
    "duration": 1053,
    "start_time": "2023-02-10T08:29:19.317Z"
   },
   {
    "duration": 82,
    "start_time": "2023-02-10T08:29:22.134Z"
   },
   {
    "duration": 70,
    "start_time": "2023-02-10T08:30:12.253Z"
   },
   {
    "duration": 47125,
    "start_time": "2023-02-10T08:31:33.208Z"
   },
   {
    "duration": 471084,
    "start_time": "2023-02-10T08:49:34.514Z"
   },
   {
    "duration": 1245,
    "start_time": "2023-02-10T13:42:57.913Z"
   },
   {
    "duration": 2230,
    "start_time": "2023-02-10T13:42:59.160Z"
   },
   {
    "duration": 19,
    "start_time": "2023-02-10T13:43:01.392Z"
   },
   {
    "duration": 157,
    "start_time": "2023-02-10T13:43:01.413Z"
   },
   {
    "duration": 99,
    "start_time": "2023-02-10T13:43:01.572Z"
   },
   {
    "duration": 3,
    "start_time": "2023-02-10T13:43:01.673Z"
   },
   {
    "duration": 67,
    "start_time": "2023-02-10T13:43:01.691Z"
   },
   {
    "duration": 44,
    "start_time": "2023-02-10T13:43:01.760Z"
   },
   {
    "duration": 124,
    "start_time": "2023-02-10T13:43:01.806Z"
   },
   {
    "duration": 126,
    "start_time": "2023-02-10T13:43:01.933Z"
   },
   {
    "duration": 86,
    "start_time": "2023-02-10T13:43:02.060Z"
   },
   {
    "duration": 169,
    "start_time": "2023-02-10T13:43:02.148Z"
   },
   {
    "duration": 225,
    "start_time": "2023-02-10T13:43:02.319Z"
   },
   {
    "duration": 128,
    "start_time": "2023-02-10T13:43:02.546Z"
   },
   {
    "duration": 17,
    "start_time": "2023-02-10T13:43:02.676Z"
   },
   {
    "duration": 24,
    "start_time": "2023-02-10T13:43:02.695Z"
   },
   {
    "duration": 29,
    "start_time": "2023-02-10T13:43:02.721Z"
   },
   {
    "duration": 37,
    "start_time": "2023-02-10T13:43:02.752Z"
   },
   {
    "duration": 56,
    "start_time": "2023-02-10T13:43:02.791Z"
   },
   {
    "duration": 31,
    "start_time": "2023-02-10T13:43:02.849Z"
   },
   {
    "duration": 25,
    "start_time": "2023-02-10T13:43:02.881Z"
   },
   {
    "duration": 23,
    "start_time": "2023-02-10T13:43:02.908Z"
   },
   {
    "duration": 45,
    "start_time": "2023-02-10T13:43:02.933Z"
   },
   {
    "duration": 44,
    "start_time": "2023-02-10T13:43:02.980Z"
   },
   {
    "duration": 84,
    "start_time": "2023-02-10T13:43:03.026Z"
   },
   {
    "duration": 44,
    "start_time": "2023-02-10T13:43:03.112Z"
   },
   {
    "duration": 40,
    "start_time": "2023-02-10T13:43:03.158Z"
   },
   {
    "duration": 561,
    "start_time": "2023-02-10T13:43:03.202Z"
   },
   {
    "duration": 488,
    "start_time": "2023-02-10T13:43:03.765Z"
   },
   {
    "duration": 2013,
    "start_time": "2023-02-10T13:43:04.254Z"
   },
   {
    "duration": 5,
    "start_time": "2023-02-10T13:43:06.269Z"
   },
   {
    "duration": 22185,
    "start_time": "2023-02-10T13:43:06.276Z"
   },
   {
    "duration": 739,
    "start_time": "2023-02-10T13:43:28.462Z"
   },
   {
    "duration": 61,
    "start_time": "2023-02-10T13:43:29.203Z"
   },
   {
    "duration": 2,
    "start_time": "2023-02-10T13:43:29.266Z"
   },
   {
    "duration": 36096,
    "start_time": "2023-02-10T13:43:29.270Z"
   },
   {
    "duration": 2480,
    "start_time": "2023-02-10T13:44:05.368Z"
   },
   {
    "duration": 3,
    "start_time": "2023-02-10T13:44:07.850Z"
   },
   {
    "duration": 350049,
    "start_time": "2023-02-10T13:44:07.855Z"
   },
   {
    "duration": 79,
    "start_time": "2023-02-10T13:49:57.906Z"
   },
   {
    "duration": 2,
    "start_time": "2023-02-10T13:49:57.987Z"
   },
   {
    "duration": 21602,
    "start_time": "2023-02-10T13:49:57.991Z"
   },
   {
    "duration": 2,
    "start_time": "2023-02-10T13:50:19.595Z"
   },
   {
    "duration": 99,
    "start_time": "2023-02-10T13:50:19.599Z"
   },
   {
    "duration": 92,
    "start_time": "2023-02-10T13:50:19.700Z"
   },
   {
    "duration": 18223,
    "start_time": "2023-02-10T13:50:19.794Z"
   },
   {
    "duration": 3,
    "start_time": "2023-02-10T13:50:38.018Z"
   },
   {
    "duration": 468,
    "start_time": "2023-02-10T13:50:38.023Z"
   },
   {
    "duration": 3,
    "start_time": "2023-02-10T13:50:38.493Z"
   },
   {
    "duration": 345297,
    "start_time": "2023-02-10T13:50:38.498Z"
   },
   {
    "duration": 4,
    "start_time": "2023-02-10T13:56:23.797Z"
   },
   {
    "duration": 408,
    "start_time": "2023-02-10T13:56:23.803Z"
   },
   {
    "duration": 336697,
    "start_time": "2023-02-10T13:56:24.212Z"
   },
   {
    "duration": 82981,
    "start_time": "2023-02-10T14:02:00.913Z"
   },
   {
    "duration": 1171,
    "start_time": "2023-02-10T15:01:44.217Z"
   },
   {
    "duration": 793,
    "start_time": "2023-02-10T15:01:45.390Z"
   },
   {
    "duration": 18,
    "start_time": "2023-02-10T15:01:46.185Z"
   },
   {
    "duration": 143,
    "start_time": "2023-02-10T15:01:46.205Z"
   },
   {
    "duration": 106,
    "start_time": "2023-02-10T15:01:46.350Z"
   },
   {
    "duration": 4,
    "start_time": "2023-02-10T15:01:46.458Z"
   },
   {
    "duration": 70,
    "start_time": "2023-02-10T15:01:46.463Z"
   },
   {
    "duration": 43,
    "start_time": "2023-02-10T15:01:46.535Z"
   },
   {
    "duration": 100,
    "start_time": "2023-02-10T15:01:46.580Z"
   },
   {
    "duration": 83,
    "start_time": "2023-02-10T15:01:46.693Z"
   },
   {
    "duration": 80,
    "start_time": "2023-02-10T15:01:46.777Z"
   },
   {
    "duration": 169,
    "start_time": "2023-02-10T15:01:46.858Z"
   },
   {
    "duration": 216,
    "start_time": "2023-02-10T15:01:47.029Z"
   },
   {
    "duration": 125,
    "start_time": "2023-02-10T15:01:47.247Z"
   },
   {
    "duration": 18,
    "start_time": "2023-02-10T15:01:47.374Z"
   },
   {
    "duration": 21,
    "start_time": "2023-02-10T15:01:47.393Z"
   },
   {
    "duration": 28,
    "start_time": "2023-02-10T15:01:47.416Z"
   },
   {
    "duration": 35,
    "start_time": "2023-02-10T15:01:47.445Z"
   },
   {
    "duration": 24,
    "start_time": "2023-02-10T15:01:47.482Z"
   },
   {
    "duration": 29,
    "start_time": "2023-02-10T15:01:47.508Z"
   },
   {
    "duration": 15,
    "start_time": "2023-02-10T15:01:47.539Z"
   },
   {
    "duration": 25,
    "start_time": "2023-02-10T15:01:47.556Z"
   },
   {
    "duration": 38,
    "start_time": "2023-02-10T15:01:47.583Z"
   },
   {
    "duration": 20,
    "start_time": "2023-02-10T15:01:47.623Z"
   },
   {
    "duration": 55,
    "start_time": "2023-02-10T15:01:47.645Z"
   },
   {
    "duration": 36,
    "start_time": "2023-02-10T15:01:47.702Z"
   },
   {
    "duration": 38,
    "start_time": "2023-02-10T15:01:47.739Z"
   },
   {
    "duration": 529,
    "start_time": "2023-02-10T15:01:47.781Z"
   },
   {
    "duration": 494,
    "start_time": "2023-02-10T15:01:48.312Z"
   },
   {
    "duration": 1990,
    "start_time": "2023-02-10T15:01:48.808Z"
   },
   {
    "duration": 3,
    "start_time": "2023-02-10T15:01:50.800Z"
   },
   {
    "duration": 18087,
    "start_time": "2023-02-10T15:01:50.804Z"
   },
   {
    "duration": 821,
    "start_time": "2023-02-10T15:02:08.894Z"
   },
   {
    "duration": 56,
    "start_time": "2023-02-10T15:02:09.717Z"
   },
   {
    "duration": 2,
    "start_time": "2023-02-10T15:02:09.775Z"
   },
   {
    "duration": 35404,
    "start_time": "2023-02-10T15:02:09.779Z"
   },
   {
    "duration": 2122,
    "start_time": "2023-02-10T15:02:45.184Z"
   },
   {
    "duration": 3,
    "start_time": "2023-02-10T15:02:47.308Z"
   },
   {
    "duration": 350399,
    "start_time": "2023-02-10T15:02:47.313Z"
   },
   {
    "duration": 1238,
    "start_time": "2023-02-10T21:48:57.065Z"
   },
   {
    "duration": 3135,
    "start_time": "2023-02-10T21:48:58.305Z"
   },
   {
    "duration": 42,
    "start_time": "2023-02-10T21:49:01.442Z"
   },
   {
    "duration": 145,
    "start_time": "2023-02-10T21:49:01.487Z"
   },
   {
    "duration": 122,
    "start_time": "2023-02-10T21:49:01.634Z"
   },
   {
    "duration": 4,
    "start_time": "2023-02-10T21:49:01.762Z"
   },
   {
    "duration": 56,
    "start_time": "2023-02-10T21:49:01.770Z"
   },
   {
    "duration": 47,
    "start_time": "2023-02-10T21:49:01.828Z"
   },
   {
    "duration": 101,
    "start_time": "2023-02-10T21:49:01.877Z"
   },
   {
    "duration": 121,
    "start_time": "2023-02-10T21:49:01.980Z"
   },
   {
    "duration": 101,
    "start_time": "2023-02-10T21:49:02.104Z"
   },
   {
    "duration": 216,
    "start_time": "2023-02-10T21:49:02.207Z"
   },
   {
    "duration": 260,
    "start_time": "2023-02-10T21:49:02.425Z"
   },
   {
    "duration": 140,
    "start_time": "2023-02-10T21:49:02.687Z"
   },
   {
    "duration": 24,
    "start_time": "2023-02-10T21:49:02.829Z"
   },
   {
    "duration": 28,
    "start_time": "2023-02-10T21:49:02.858Z"
   },
   {
    "duration": 55,
    "start_time": "2023-02-10T21:49:02.888Z"
   },
   {
    "duration": 15,
    "start_time": "2023-02-10T21:49:02.949Z"
   },
   {
    "duration": 21,
    "start_time": "2023-02-10T21:49:02.965Z"
   },
   {
    "duration": 33,
    "start_time": "2023-02-10T21:49:02.988Z"
   },
   {
    "duration": 45,
    "start_time": "2023-02-10T21:49:03.023Z"
   },
   {
    "duration": 20,
    "start_time": "2023-02-10T21:49:03.069Z"
   },
   {
    "duration": 28,
    "start_time": "2023-02-10T21:49:03.090Z"
   },
   {
    "duration": 19,
    "start_time": "2023-02-10T21:49:03.119Z"
   },
   {
    "duration": 38,
    "start_time": "2023-02-10T21:49:03.139Z"
   },
   {
    "duration": 28,
    "start_time": "2023-02-10T21:49:03.178Z"
   },
   {
    "duration": 26,
    "start_time": "2023-02-10T21:49:03.208Z"
   },
   {
    "duration": 572,
    "start_time": "2023-02-10T21:49:03.249Z"
   },
   {
    "duration": 504,
    "start_time": "2023-02-10T21:49:03.822Z"
   },
   {
    "duration": 2302,
    "start_time": "2023-02-10T21:49:04.328Z"
   },
   {
    "duration": 2,
    "start_time": "2023-02-10T21:49:06.632Z"
   },
   {
    "duration": 36920,
    "start_time": "2023-02-10T21:49:06.636Z"
   },
   {
    "duration": 1004,
    "start_time": "2023-02-10T21:49:43.558Z"
   },
   {
    "duration": 62,
    "start_time": "2023-02-10T21:49:44.564Z"
   },
   {
    "duration": 2,
    "start_time": "2023-02-10T21:49:44.628Z"
   },
   {
    "duration": 40445,
    "start_time": "2023-02-10T21:49:44.632Z"
   },
   {
    "duration": 2664,
    "start_time": "2023-02-10T21:50:25.079Z"
   },
   {
    "duration": 10,
    "start_time": "2023-02-10T21:50:27.746Z"
   },
   {
    "duration": 350216,
    "start_time": "2023-02-10T21:50:27.758Z"
   },
   {
    "duration": 2876920,
    "start_time": "2023-02-10T21:56:17.975Z"
   },
   {
    "duration": 2,
    "start_time": "2023-02-10T22:44:14.897Z"
   },
   {
    "duration": 3,
    "start_time": "2023-02-10T22:44:40.166Z"
   },
   {
    "duration": 93,
    "start_time": "2023-02-10T22:44:40.170Z"
   },
   {
    "duration": 5,
    "start_time": "2023-02-10T22:44:40.265Z"
   },
   {
    "duration": 3,
    "start_time": "2023-02-10T22:44:59.588Z"
   },
   {
    "duration": 475,
    "start_time": "2023-02-10T22:44:59.592Z"
   },
   {
    "duration": 2,
    "start_time": "2023-02-10T22:45:00.069Z"
   },
   {
    "duration": 37890,
    "start_time": "2023-02-10T22:45:00.073Z"
   },
   {
    "duration": 2,
    "start_time": "2023-02-10T22:45:37.965Z"
   },
   {
    "duration": 396,
    "start_time": "2023-02-10T22:45:37.968Z"
   },
   {
    "duration": 44599,
    "start_time": "2023-02-10T22:45:38.366Z"
   },
   {
    "duration": 24585,
    "start_time": "2023-02-10T22:46:48.165Z"
   }
  ],
  "kernelspec": {
   "display_name": "Python 3 (ipykernel)",
   "language": "python",
   "name": "python3"
  },
  "language_info": {
   "codemirror_mode": {
    "name": "ipython",
    "version": 3
   },
   "file_extension": ".py",
   "mimetype": "text/x-python",
   "name": "python",
   "nbconvert_exporter": "python",
   "pygments_lexer": "ipython3",
   "version": "3.10.9"
  },
  "toc": {
   "base_numbering": 1,
   "nav_menu": {},
   "number_sections": true,
   "sideBar": true,
   "skip_h1_title": true,
   "title_cell": "Table of Contents",
   "title_sidebar": "Contents",
   "toc_cell": false,
   "toc_position": {},
   "toc_section_display": true,
   "toc_window_display": true
  }
 },
 "nbformat": 4,
 "nbformat_minor": 4
}
