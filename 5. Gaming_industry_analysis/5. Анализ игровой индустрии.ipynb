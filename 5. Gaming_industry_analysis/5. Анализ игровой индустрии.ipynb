{
  "metadata": {
    "ExecuteTimeLog": [
      {
        "duration": 1448,
        "start_time": "2022-10-14T10:57:01.560Z"
      },
      {
        "duration": 72,
        "start_time": "2022-10-14T10:59:09.449Z"
      },
      {
        "duration": 17,
        "start_time": "2022-10-14T10:59:24.307Z"
      },
      {
        "duration": 36,
        "start_time": "2022-10-14T11:01:39.825Z"
      },
      {
        "duration": 19,
        "start_time": "2022-10-14T11:02:07.603Z"
      },
      {
        "duration": 14,
        "start_time": "2022-10-14T11:03:41.577Z"
      },
      {
        "duration": 57,
        "start_time": "2022-10-14T11:04:52.471Z"
      },
      {
        "duration": 7,
        "start_time": "2022-10-14T11:12:22.128Z"
      },
      {
        "duration": 6,
        "start_time": "2022-10-14T11:12:34.642Z"
      },
      {
        "duration": 5,
        "start_time": "2022-10-14T11:13:05.257Z"
      },
      {
        "duration": 4,
        "start_time": "2022-10-14T12:30:54.889Z"
      },
      {
        "duration": 5,
        "start_time": "2022-10-14T12:33:44.370Z"
      },
      {
        "duration": 118,
        "start_time": "2022-10-14T12:35:31.868Z"
      },
      {
        "duration": 16,
        "start_time": "2022-10-14T12:36:38.074Z"
      },
      {
        "duration": 22,
        "start_time": "2022-10-14T12:37:57.352Z"
      },
      {
        "duration": 14,
        "start_time": "2022-10-14T12:38:37.232Z"
      },
      {
        "duration": 14,
        "start_time": "2022-10-14T12:47:25.571Z"
      },
      {
        "duration": 7,
        "start_time": "2022-10-14T12:47:38.220Z"
      },
      {
        "duration": 13,
        "start_time": "2022-10-14T12:47:52.755Z"
      },
      {
        "duration": 9,
        "start_time": "2022-10-14T12:47:58.425Z"
      },
      {
        "duration": 7,
        "start_time": "2022-10-14T12:48:33.538Z"
      },
      {
        "duration": 7,
        "start_time": "2022-10-14T12:48:53.803Z"
      },
      {
        "duration": 7,
        "start_time": "2022-10-14T12:49:01.396Z"
      },
      {
        "duration": 7,
        "start_time": "2022-10-14T12:50:12.609Z"
      },
      {
        "duration": 15,
        "start_time": "2022-10-14T12:50:45.490Z"
      },
      {
        "duration": 3,
        "start_time": "2022-10-14T12:51:09.367Z"
      },
      {
        "duration": 15,
        "start_time": "2022-10-14T12:51:11.708Z"
      },
      {
        "duration": 5,
        "start_time": "2022-10-14T12:54:32.616Z"
      },
      {
        "duration": 5,
        "start_time": "2022-10-14T13:02:26.036Z"
      },
      {
        "duration": 7,
        "start_time": "2022-10-14T13:07:26.230Z"
      },
      {
        "duration": 5,
        "start_time": "2022-10-14T13:08:07.294Z"
      },
      {
        "duration": 8,
        "start_time": "2022-10-14T13:08:34.520Z"
      },
      {
        "duration": 15,
        "start_time": "2022-10-14T13:09:15.490Z"
      },
      {
        "duration": 8,
        "start_time": "2022-10-14T13:10:31.006Z"
      },
      {
        "duration": 8,
        "start_time": "2022-10-14T13:25:46.550Z"
      },
      {
        "duration": 18,
        "start_time": "2022-10-14T13:25:50.059Z"
      },
      {
        "duration": 742,
        "start_time": "2022-10-14T13:29:19.681Z"
      },
      {
        "duration": 7,
        "start_time": "2022-10-14T13:29:35.071Z"
      },
      {
        "duration": 4,
        "start_time": "2022-10-14T13:35:21.406Z"
      },
      {
        "duration": 4,
        "start_time": "2022-10-14T13:36:06.134Z"
      },
      {
        "duration": 6,
        "start_time": "2022-10-14T13:38:47.081Z"
      },
      {
        "duration": 5,
        "start_time": "2022-10-14T13:39:26.179Z"
      },
      {
        "duration": 6,
        "start_time": "2022-10-14T13:39:46.203Z"
      },
      {
        "duration": 16,
        "start_time": "2022-10-14T13:41:07.857Z"
      },
      {
        "duration": 6,
        "start_time": "2022-10-14T13:46:09.379Z"
      },
      {
        "duration": 5,
        "start_time": "2022-10-14T13:46:52.241Z"
      },
      {
        "duration": 16,
        "start_time": "2022-10-14T13:46:53.505Z"
      },
      {
        "duration": 8,
        "start_time": "2022-10-14T14:00:35.380Z"
      },
      {
        "duration": 12,
        "start_time": "2022-10-14T14:00:51.939Z"
      },
      {
        "duration": 9,
        "start_time": "2022-10-14T14:01:14.190Z"
      },
      {
        "duration": 9,
        "start_time": "2022-10-14T14:01:34.941Z"
      },
      {
        "duration": 7,
        "start_time": "2022-10-14T14:01:39.310Z"
      },
      {
        "duration": 11,
        "start_time": "2022-10-14T14:02:05.407Z"
      },
      {
        "duration": 15,
        "start_time": "2022-10-14T14:04:07.645Z"
      },
      {
        "duration": 13,
        "start_time": "2022-10-14T14:04:43.737Z"
      },
      {
        "duration": 18,
        "start_time": "2022-10-14T14:04:48.375Z"
      },
      {
        "duration": 12,
        "start_time": "2022-10-14T14:05:43.532Z"
      },
      {
        "duration": 9,
        "start_time": "2022-10-14T14:06:21.640Z"
      },
      {
        "duration": 4,
        "start_time": "2022-10-14T14:07:08.600Z"
      },
      {
        "duration": 6,
        "start_time": "2022-10-14T14:07:10.434Z"
      },
      {
        "duration": 15,
        "start_time": "2022-10-14T14:13:19.098Z"
      },
      {
        "duration": 10,
        "start_time": "2022-10-14T14:13:27.142Z"
      },
      {
        "duration": 5,
        "start_time": "2022-10-14T14:13:29.446Z"
      },
      {
        "duration": 6,
        "start_time": "2022-10-14T14:13:31.573Z"
      },
      {
        "duration": 5,
        "start_time": "2022-10-14T14:13:52.350Z"
      },
      {
        "duration": 4,
        "start_time": "2022-10-14T14:13:56.112Z"
      },
      {
        "duration": 16,
        "start_time": "2022-10-14T14:13:57.370Z"
      },
      {
        "duration": 1171,
        "start_time": "2022-10-14T14:25:02.381Z"
      },
      {
        "duration": 43,
        "start_time": "2022-10-14T14:25:03.554Z"
      },
      {
        "duration": 19,
        "start_time": "2022-10-14T14:25:03.599Z"
      },
      {
        "duration": 48,
        "start_time": "2022-10-14T14:25:03.620Z"
      },
      {
        "duration": 17,
        "start_time": "2022-10-14T14:25:03.670Z"
      },
      {
        "duration": 15,
        "start_time": "2022-10-14T14:25:03.689Z"
      },
      {
        "duration": 77,
        "start_time": "2022-10-14T14:25:03.706Z"
      },
      {
        "duration": 4,
        "start_time": "2022-10-14T14:25:03.784Z"
      },
      {
        "duration": 19,
        "start_time": "2022-10-14T14:25:03.790Z"
      },
      {
        "duration": 9,
        "start_time": "2022-10-14T14:25:03.812Z"
      },
      {
        "duration": 38,
        "start_time": "2022-10-14T14:25:03.822Z"
      },
      {
        "duration": 7,
        "start_time": "2022-10-14T14:25:03.862Z"
      },
      {
        "duration": 7,
        "start_time": "2022-10-14T14:25:03.871Z"
      },
      {
        "duration": 17,
        "start_time": "2022-10-14T14:25:03.880Z"
      },
      {
        "duration": 11,
        "start_time": "2022-10-14T14:25:03.898Z"
      },
      {
        "duration": 16,
        "start_time": "2022-10-14T14:25:03.911Z"
      },
      {
        "duration": 26,
        "start_time": "2022-10-14T14:25:03.929Z"
      },
      {
        "duration": 6,
        "start_time": "2022-10-14T14:25:03.957Z"
      },
      {
        "duration": 12,
        "start_time": "2022-10-14T14:25:03.965Z"
      },
      {
        "duration": 15,
        "start_time": "2022-10-14T14:25:03.978Z"
      },
      {
        "duration": 7,
        "start_time": "2022-10-14T14:25:03.994Z"
      },
      {
        "duration": 6,
        "start_time": "2022-10-14T14:25:04.002Z"
      },
      {
        "duration": 7,
        "start_time": "2022-10-14T14:25:04.010Z"
      },
      {
        "duration": 7,
        "start_time": "2022-10-14T14:25:04.019Z"
      },
      {
        "duration": 40,
        "start_time": "2022-10-14T14:25:04.028Z"
      },
      {
        "duration": 26,
        "start_time": "2022-10-14T14:25:04.070Z"
      },
      {
        "duration": 12,
        "start_time": "2022-10-14T14:25:04.099Z"
      },
      {
        "duration": 11,
        "start_time": "2022-10-14T14:29:07.167Z"
      },
      {
        "duration": 11,
        "start_time": "2022-10-14T14:29:13.614Z"
      },
      {
        "duration": 11,
        "start_time": "2022-10-14T14:29:15.791Z"
      },
      {
        "duration": 12,
        "start_time": "2022-10-14T14:29:17.458Z"
      },
      {
        "duration": 104,
        "start_time": "2022-10-14T14:33:29.799Z"
      },
      {
        "duration": 62,
        "start_time": "2022-10-14T14:35:20.471Z"
      },
      {
        "duration": 25,
        "start_time": "2022-10-14T14:35:41.091Z"
      },
      {
        "duration": 208,
        "start_time": "2022-10-14T14:36:00.540Z"
      },
      {
        "duration": 8,
        "start_time": "2022-10-14T14:37:24.151Z"
      },
      {
        "duration": 15,
        "start_time": "2022-10-14T14:37:50.865Z"
      },
      {
        "duration": 18,
        "start_time": "2022-10-14T14:38:11.729Z"
      },
      {
        "duration": 24,
        "start_time": "2022-10-14T14:40:11.081Z"
      },
      {
        "duration": 9,
        "start_time": "2022-10-14T14:41:17.302Z"
      },
      {
        "duration": 1304,
        "start_time": "2022-10-14T14:41:28.742Z"
      },
      {
        "duration": 43,
        "start_time": "2022-10-14T14:41:30.049Z"
      },
      {
        "duration": 19,
        "start_time": "2022-10-14T14:41:30.095Z"
      },
      {
        "duration": 58,
        "start_time": "2022-10-14T14:41:30.116Z"
      },
      {
        "duration": 18,
        "start_time": "2022-10-14T14:41:30.177Z"
      },
      {
        "duration": 90,
        "start_time": "2022-10-14T14:41:30.197Z"
      },
      {
        "duration": 90,
        "start_time": "2022-10-14T14:41:30.288Z"
      },
      {
        "duration": 4,
        "start_time": "2022-10-14T14:41:30.380Z"
      },
      {
        "duration": 48,
        "start_time": "2022-10-14T14:41:30.386Z"
      },
      {
        "duration": 34,
        "start_time": "2022-10-14T14:41:30.437Z"
      },
      {
        "duration": 42,
        "start_time": "2022-10-14T14:41:30.474Z"
      },
      {
        "duration": 41,
        "start_time": "2022-10-14T14:41:30.519Z"
      },
      {
        "duration": 24,
        "start_time": "2022-10-14T14:41:30.561Z"
      },
      {
        "duration": 33,
        "start_time": "2022-10-14T14:41:30.589Z"
      },
      {
        "duration": 22,
        "start_time": "2022-10-14T14:41:30.624Z"
      },
      {
        "duration": 48,
        "start_time": "2022-10-14T14:41:30.649Z"
      },
      {
        "duration": 75,
        "start_time": "2022-10-14T14:41:30.700Z"
      },
      {
        "duration": 24,
        "start_time": "2022-10-14T14:41:30.778Z"
      },
      {
        "duration": 41,
        "start_time": "2022-10-14T14:41:30.804Z"
      },
      {
        "duration": 28,
        "start_time": "2022-10-14T14:41:30.847Z"
      },
      {
        "duration": 40,
        "start_time": "2022-10-14T14:41:30.878Z"
      },
      {
        "duration": 38,
        "start_time": "2022-10-14T14:41:30.920Z"
      },
      {
        "duration": 21,
        "start_time": "2022-10-14T14:41:30.960Z"
      },
      {
        "duration": 18,
        "start_time": "2022-10-14T14:41:30.984Z"
      },
      {
        "duration": 17,
        "start_time": "2022-10-14T14:41:31.006Z"
      },
      {
        "duration": 21,
        "start_time": "2022-10-14T14:41:31.025Z"
      },
      {
        "duration": 17,
        "start_time": "2022-10-14T14:41:31.049Z"
      },
      {
        "duration": 133,
        "start_time": "2022-10-14T14:41:31.068Z"
      },
      {
        "duration": 13,
        "start_time": "2022-10-14T14:41:45.602Z"
      },
      {
        "duration": 14,
        "start_time": "2022-10-14T14:41:53.316Z"
      },
      {
        "duration": 17,
        "start_time": "2022-10-14T14:44:23.900Z"
      },
      {
        "duration": 22,
        "start_time": "2022-10-14T14:44:36.227Z"
      },
      {
        "duration": 16,
        "start_time": "2022-10-14T14:45:06.978Z"
      },
      {
        "duration": 14,
        "start_time": "2022-10-14T14:45:42.216Z"
      },
      {
        "duration": 21,
        "start_time": "2022-10-14T14:46:22.377Z"
      },
      {
        "duration": 220,
        "start_time": "2022-10-14T14:47:05.247Z"
      },
      {
        "duration": 166,
        "start_time": "2022-10-14T14:47:25.670Z"
      },
      {
        "duration": 1285,
        "start_time": "2022-10-14T14:47:32.294Z"
      },
      {
        "duration": 47,
        "start_time": "2022-10-14T14:47:33.581Z"
      },
      {
        "duration": 23,
        "start_time": "2022-10-14T14:47:33.631Z"
      },
      {
        "duration": 41,
        "start_time": "2022-10-14T14:47:33.657Z"
      },
      {
        "duration": 21,
        "start_time": "2022-10-14T14:47:33.700Z"
      },
      {
        "duration": 37,
        "start_time": "2022-10-14T14:47:33.723Z"
      },
      {
        "duration": 108,
        "start_time": "2022-10-14T14:47:33.762Z"
      },
      {
        "duration": 4,
        "start_time": "2022-10-14T14:47:33.873Z"
      },
      {
        "duration": 39,
        "start_time": "2022-10-14T14:47:33.880Z"
      },
      {
        "duration": 9,
        "start_time": "2022-10-14T14:47:33.924Z"
      },
      {
        "duration": 37,
        "start_time": "2022-10-14T14:47:33.935Z"
      },
      {
        "duration": 10,
        "start_time": "2022-10-14T14:47:33.974Z"
      },
      {
        "duration": 9,
        "start_time": "2022-10-14T14:47:33.985Z"
      },
      {
        "duration": 6,
        "start_time": "2022-10-14T14:47:33.996Z"
      },
      {
        "duration": 7,
        "start_time": "2022-10-14T14:47:34.005Z"
      },
      {
        "duration": 40,
        "start_time": "2022-10-14T14:47:34.014Z"
      },
      {
        "duration": 9,
        "start_time": "2022-10-14T14:47:34.056Z"
      },
      {
        "duration": 9,
        "start_time": "2022-10-14T14:47:34.066Z"
      },
      {
        "duration": 13,
        "start_time": "2022-10-14T14:47:34.077Z"
      },
      {
        "duration": 9,
        "start_time": "2022-10-14T14:47:34.092Z"
      },
      {
        "duration": 11,
        "start_time": "2022-10-14T14:47:34.102Z"
      },
      {
        "duration": 6,
        "start_time": "2022-10-14T14:47:34.115Z"
      },
      {
        "duration": 36,
        "start_time": "2022-10-14T14:47:34.123Z"
      },
      {
        "duration": 8,
        "start_time": "2022-10-14T14:47:34.162Z"
      },
      {
        "duration": 8,
        "start_time": "2022-10-14T14:47:34.172Z"
      },
      {
        "duration": 19,
        "start_time": "2022-10-14T14:47:34.182Z"
      },
      {
        "duration": 15,
        "start_time": "2022-10-14T14:47:34.203Z"
      },
      {
        "duration": 327,
        "start_time": "2022-10-14T14:47:34.254Z"
      },
      {
        "duration": 22,
        "start_time": "2022-10-14T14:49:09.162Z"
      },
      {
        "duration": 22,
        "start_time": "2022-10-14T14:49:35.203Z"
      },
      {
        "duration": 14,
        "start_time": "2022-10-14T14:49:40.385Z"
      },
      {
        "duration": 13,
        "start_time": "2022-10-14T14:50:20.350Z"
      },
      {
        "duration": 20,
        "start_time": "2022-10-14T14:50:22.619Z"
      },
      {
        "duration": 709,
        "start_time": "2022-10-14T14:54:07.373Z"
      },
      {
        "duration": 753,
        "start_time": "2022-10-14T14:54:27.738Z"
      },
      {
        "duration": 222,
        "start_time": "2022-10-14T14:55:00.996Z"
      },
      {
        "duration": 19,
        "start_time": "2022-10-14T14:55:13.196Z"
      },
      {
        "duration": 394,
        "start_time": "2022-10-14T14:55:33.182Z"
      },
      {
        "duration": 426,
        "start_time": "2022-10-14T14:55:53.791Z"
      },
      {
        "duration": 398,
        "start_time": "2022-10-14T14:56:05.025Z"
      },
      {
        "duration": 318,
        "start_time": "2022-10-14T14:56:51.459Z"
      },
      {
        "duration": 448,
        "start_time": "2022-10-14T14:57:29.821Z"
      },
      {
        "duration": 44,
        "start_time": "2022-10-14T18:31:02.909Z"
      },
      {
        "duration": 1294,
        "start_time": "2022-10-14T18:31:16.339Z"
      },
      {
        "duration": 183,
        "start_time": "2022-10-14T18:31:17.634Z"
      },
      {
        "duration": 13,
        "start_time": "2022-10-14T18:31:17.818Z"
      },
      {
        "duration": 38,
        "start_time": "2022-10-14T18:31:17.833Z"
      },
      {
        "duration": 14,
        "start_time": "2022-10-14T18:31:17.873Z"
      },
      {
        "duration": 20,
        "start_time": "2022-10-14T18:31:17.889Z"
      },
      {
        "duration": 71,
        "start_time": "2022-10-14T18:31:17.911Z"
      },
      {
        "duration": 2,
        "start_time": "2022-10-14T18:31:17.984Z"
      },
      {
        "duration": 34,
        "start_time": "2022-10-14T18:31:17.988Z"
      },
      {
        "duration": 16,
        "start_time": "2022-10-14T18:31:18.025Z"
      },
      {
        "duration": 32,
        "start_time": "2022-10-14T18:31:18.042Z"
      },
      {
        "duration": 10,
        "start_time": "2022-10-14T18:31:18.075Z"
      },
      {
        "duration": 28,
        "start_time": "2022-10-14T18:31:18.086Z"
      },
      {
        "duration": 7,
        "start_time": "2022-10-14T18:31:18.115Z"
      },
      {
        "duration": 28,
        "start_time": "2022-10-14T18:31:18.123Z"
      },
      {
        "duration": 29,
        "start_time": "2022-10-14T18:31:18.152Z"
      },
      {
        "duration": 20,
        "start_time": "2022-10-14T18:31:18.182Z"
      },
      {
        "duration": 22,
        "start_time": "2022-10-14T18:31:18.203Z"
      },
      {
        "duration": 10,
        "start_time": "2022-10-14T18:31:18.226Z"
      },
      {
        "duration": 45,
        "start_time": "2022-10-14T18:31:18.237Z"
      },
      {
        "duration": 26,
        "start_time": "2022-10-14T18:31:18.284Z"
      },
      {
        "duration": 24,
        "start_time": "2022-10-14T18:31:18.313Z"
      },
      {
        "duration": 28,
        "start_time": "2022-10-14T18:31:18.339Z"
      },
      {
        "duration": 11,
        "start_time": "2022-10-14T18:31:18.369Z"
      },
      {
        "duration": 21,
        "start_time": "2022-10-14T18:31:18.381Z"
      },
      {
        "duration": 21,
        "start_time": "2022-10-14T18:31:18.404Z"
      },
      {
        "duration": 19,
        "start_time": "2022-10-14T18:31:18.427Z"
      },
      {
        "duration": 394,
        "start_time": "2022-10-14T18:31:18.449Z"
      },
      {
        "duration": 12,
        "start_time": "2022-10-14T18:31:18.845Z"
      },
      {
        "duration": 90,
        "start_time": "2022-10-14T18:31:18.858Z"
      },
      {
        "duration": 0,
        "start_time": "2022-10-14T18:31:18.949Z"
      },
      {
        "duration": 0,
        "start_time": "2022-10-14T18:31:18.951Z"
      },
      {
        "duration": 0,
        "start_time": "2022-10-14T18:31:18.952Z"
      },
      {
        "duration": 1,
        "start_time": "2022-10-14T18:31:18.953Z"
      },
      {
        "duration": 0,
        "start_time": "2022-10-14T18:31:18.955Z"
      },
      {
        "duration": 0,
        "start_time": "2022-10-14T18:31:18.956Z"
      },
      {
        "duration": 0,
        "start_time": "2022-10-14T18:31:18.957Z"
      },
      {
        "duration": 0,
        "start_time": "2022-10-14T18:31:18.958Z"
      },
      {
        "duration": 11,
        "start_time": "2022-10-14T18:41:33.007Z"
      },
      {
        "duration": 12,
        "start_time": "2022-10-14T18:42:58.148Z"
      },
      {
        "duration": 13,
        "start_time": "2022-10-14T18:43:11.413Z"
      },
      {
        "duration": 12,
        "start_time": "2022-10-14T18:48:19.954Z"
      },
      {
        "duration": 281,
        "start_time": "2022-10-14T18:55:35.927Z"
      },
      {
        "duration": 342,
        "start_time": "2022-10-14T18:56:36.072Z"
      },
      {
        "duration": 167,
        "start_time": "2022-10-14T18:56:53.322Z"
      },
      {
        "duration": 242,
        "start_time": "2022-10-14T18:57:31.213Z"
      },
      {
        "duration": 88,
        "start_time": "2022-10-14T19:03:25.232Z"
      },
      {
        "duration": 3,
        "start_time": "2022-10-14T19:03:35.312Z"
      },
      {
        "duration": 3,
        "start_time": "2022-10-14T19:06:48.421Z"
      },
      {
        "duration": 26,
        "start_time": "2022-10-14T19:06:49.863Z"
      },
      {
        "duration": 21,
        "start_time": "2022-10-14T19:07:10.083Z"
      },
      {
        "duration": 171,
        "start_time": "2022-10-14T19:07:18.245Z"
      },
      {
        "duration": 325,
        "start_time": "2022-10-14T19:08:01.419Z"
      },
      {
        "duration": 286,
        "start_time": "2022-10-14T19:08:19.490Z"
      },
      {
        "duration": 287,
        "start_time": "2022-10-14T19:08:53.374Z"
      },
      {
        "duration": 22,
        "start_time": "2022-10-14T19:09:15.068Z"
      },
      {
        "duration": 274,
        "start_time": "2022-10-14T19:09:15.491Z"
      },
      {
        "duration": 32,
        "start_time": "2022-10-14T19:37:15.757Z"
      },
      {
        "duration": 33,
        "start_time": "2022-10-14T19:37:46.612Z"
      },
      {
        "duration": 34,
        "start_time": "2022-10-14T19:38:13.729Z"
      },
      {
        "duration": 389,
        "start_time": "2022-10-14T19:38:47.621Z"
      },
      {
        "duration": 505,
        "start_time": "2022-10-14T19:39:08.493Z"
      },
      {
        "duration": 9,
        "start_time": "2022-10-14T20:25:22.061Z"
      },
      {
        "duration": 5,
        "start_time": "2022-10-14T20:25:29.905Z"
      },
      {
        "duration": 309,
        "start_time": "2022-10-14T20:25:31.985Z"
      },
      {
        "duration": 5,
        "start_time": "2022-10-14T20:27:17.329Z"
      },
      {
        "duration": 282,
        "start_time": "2022-10-14T20:27:19.226Z"
      },
      {
        "duration": 176,
        "start_time": "2022-10-14T20:51:03.272Z"
      },
      {
        "duration": 169,
        "start_time": "2022-10-14T20:51:26.550Z"
      },
      {
        "duration": 231,
        "start_time": "2022-10-14T20:51:40.691Z"
      },
      {
        "duration": 218,
        "start_time": "2022-10-14T20:51:50.346Z"
      },
      {
        "duration": 267,
        "start_time": "2022-10-14T20:55:11.523Z"
      },
      {
        "duration": 14,
        "start_time": "2022-10-14T21:00:35.690Z"
      },
      {
        "duration": 11,
        "start_time": "2022-10-14T21:00:45.813Z"
      },
      {
        "duration": 406,
        "start_time": "2022-10-14T21:44:10.777Z"
      },
      {
        "duration": 15,
        "start_time": "2022-10-14T22:05:05.033Z"
      },
      {
        "duration": 9,
        "start_time": "2022-10-14T22:05:22.753Z"
      },
      {
        "duration": 14,
        "start_time": "2022-10-14T22:06:29.753Z"
      },
      {
        "duration": 10,
        "start_time": "2022-10-14T22:30:57.309Z"
      },
      {
        "duration": 24,
        "start_time": "2022-10-14T22:30:59.232Z"
      },
      {
        "duration": 15,
        "start_time": "2022-10-14T22:50:51.085Z"
      },
      {
        "duration": 12,
        "start_time": "2022-10-14T22:52:02.102Z"
      },
      {
        "duration": 11,
        "start_time": "2022-10-14T22:52:07.058Z"
      },
      {
        "duration": 12,
        "start_time": "2022-10-14T22:52:31.741Z"
      },
      {
        "duration": 11,
        "start_time": "2022-10-14T22:52:45.460Z"
      },
      {
        "duration": 13,
        "start_time": "2022-10-14T22:53:03.234Z"
      },
      {
        "duration": 13,
        "start_time": "2022-10-14T22:53:36.540Z"
      },
      {
        "duration": 17261,
        "start_time": "2022-10-14T22:55:29.939Z"
      },
      {
        "duration": 17415,
        "start_time": "2022-10-14T22:55:49.796Z"
      },
      {
        "duration": 83,
        "start_time": "2022-10-14T22:57:17.996Z"
      },
      {
        "duration": 30385,
        "start_time": "2022-10-14T22:57:28.370Z"
      },
      {
        "duration": 328,
        "start_time": "2022-10-14T22:58:59.591Z"
      },
      {
        "duration": 267,
        "start_time": "2022-10-14T23:01:04.707Z"
      },
      {
        "duration": 264,
        "start_time": "2022-10-14T23:01:46.173Z"
      },
      {
        "duration": 267,
        "start_time": "2022-10-14T23:02:14.493Z"
      },
      {
        "duration": 384,
        "start_time": "2022-10-14T23:03:08.885Z"
      },
      {
        "duration": 286,
        "start_time": "2022-10-14T23:03:33.556Z"
      },
      {
        "duration": 346,
        "start_time": "2022-10-14T23:06:20.877Z"
      },
      {
        "duration": 315,
        "start_time": "2022-10-14T23:06:56.858Z"
      },
      {
        "duration": 330,
        "start_time": "2022-10-14T23:07:05.779Z"
      },
      {
        "duration": 307,
        "start_time": "2022-10-14T23:07:33.343Z"
      },
      {
        "duration": 381,
        "start_time": "2022-10-14T23:08:11.594Z"
      },
      {
        "duration": 11,
        "start_time": "2022-10-14T23:27:57.897Z"
      },
      {
        "duration": 11,
        "start_time": "2022-10-14T23:32:29.577Z"
      },
      {
        "duration": 22,
        "start_time": "2022-10-14T23:34:40.614Z"
      },
      {
        "duration": 10,
        "start_time": "2022-10-14T23:40:30.008Z"
      },
      {
        "duration": 12,
        "start_time": "2022-10-14T23:42:18.550Z"
      },
      {
        "duration": 17,
        "start_time": "2022-10-14T23:42:35.590Z"
      },
      {
        "duration": 1292,
        "start_time": "2022-10-15T06:42:33.641Z"
      },
      {
        "duration": 71,
        "start_time": "2022-10-15T06:42:34.935Z"
      },
      {
        "duration": 16,
        "start_time": "2022-10-15T06:42:35.008Z"
      },
      {
        "duration": 33,
        "start_time": "2022-10-15T06:42:35.026Z"
      },
      {
        "duration": 15,
        "start_time": "2022-10-15T06:42:35.061Z"
      },
      {
        "duration": 11,
        "start_time": "2022-10-15T06:42:35.078Z"
      },
      {
        "duration": 66,
        "start_time": "2022-10-15T06:42:35.091Z"
      },
      {
        "duration": 3,
        "start_time": "2022-10-15T06:42:35.159Z"
      },
      {
        "duration": 16,
        "start_time": "2022-10-15T06:42:35.164Z"
      },
      {
        "duration": 6,
        "start_time": "2022-10-15T06:42:35.183Z"
      },
      {
        "duration": 13,
        "start_time": "2022-10-15T06:42:35.190Z"
      },
      {
        "duration": 29,
        "start_time": "2022-10-15T06:42:35.205Z"
      },
      {
        "duration": 4,
        "start_time": "2022-10-15T06:42:35.236Z"
      },
      {
        "duration": 8,
        "start_time": "2022-10-15T06:42:35.241Z"
      },
      {
        "duration": 11,
        "start_time": "2022-10-15T06:42:35.250Z"
      },
      {
        "duration": 9,
        "start_time": "2022-10-15T06:42:35.263Z"
      },
      {
        "duration": 9,
        "start_time": "2022-10-15T06:42:35.274Z"
      },
      {
        "duration": 8,
        "start_time": "2022-10-15T06:42:35.284Z"
      },
      {
        "duration": 10,
        "start_time": "2022-10-15T06:42:35.293Z"
      },
      {
        "duration": 33,
        "start_time": "2022-10-15T06:42:35.305Z"
      },
      {
        "duration": 8,
        "start_time": "2022-10-15T06:42:35.340Z"
      },
      {
        "duration": 10,
        "start_time": "2022-10-15T06:42:35.350Z"
      },
      {
        "duration": 7,
        "start_time": "2022-10-15T06:42:35.362Z"
      },
      {
        "duration": 7,
        "start_time": "2022-10-15T06:42:35.371Z"
      },
      {
        "duration": 7,
        "start_time": "2022-10-15T06:42:35.380Z"
      },
      {
        "duration": 14,
        "start_time": "2022-10-15T06:42:35.388Z"
      },
      {
        "duration": 38,
        "start_time": "2022-10-15T06:42:35.404Z"
      },
      {
        "duration": 416,
        "start_time": "2022-10-15T06:42:35.446Z"
      },
      {
        "duration": 536,
        "start_time": "2022-10-15T06:42:35.864Z"
      },
      {
        "duration": 18,
        "start_time": "2022-10-15T06:42:36.403Z"
      },
      {
        "duration": 4,
        "start_time": "2022-10-15T06:42:36.424Z"
      },
      {
        "duration": 38,
        "start_time": "2022-10-15T06:42:36.430Z"
      },
      {
        "duration": 352,
        "start_time": "2022-10-15T06:42:36.471Z"
      },
      {
        "duration": 10,
        "start_time": "2022-10-15T06:42:36.825Z"
      },
      {
        "duration": 363,
        "start_time": "2022-10-15T06:42:36.836Z"
      },
      {
        "duration": 280,
        "start_time": "2022-10-15T06:42:37.201Z"
      },
      {
        "duration": 10,
        "start_time": "2022-10-15T06:42:37.483Z"
      },
      {
        "duration": 287,
        "start_time": "2022-10-15T06:42:37.494Z"
      },
      {
        "duration": 11,
        "start_time": "2022-10-15T06:42:37.783Z"
      },
      {
        "duration": 16,
        "start_time": "2022-10-15T06:42:37.796Z"
      },
      {
        "duration": 28,
        "start_time": "2022-10-15T06:42:37.813Z"
      },
      {
        "duration": 16,
        "start_time": "2022-10-15T06:42:37.842Z"
      },
      {
        "duration": 328,
        "start_time": "2022-10-15T06:42:37.859Z"
      },
      {
        "duration": 340,
        "start_time": "2022-10-15T06:42:38.188Z"
      },
      {
        "duration": 337,
        "start_time": "2022-10-15T06:42:38.533Z"
      },
      {
        "duration": 11,
        "start_time": "2022-10-15T06:42:38.872Z"
      },
      {
        "duration": 20,
        "start_time": "2022-10-15T06:42:38.885Z"
      },
      {
        "duration": 29,
        "start_time": "2022-10-15T06:42:38.906Z"
      },
      {
        "duration": 15,
        "start_time": "2022-10-15T06:42:38.936Z"
      },
      {
        "duration": 13,
        "start_time": "2022-10-15T06:57:13.832Z"
      },
      {
        "duration": 1168,
        "start_time": "2022-10-15T07:09:26.650Z"
      },
      {
        "duration": 40,
        "start_time": "2022-10-15T07:09:27.820Z"
      },
      {
        "duration": 14,
        "start_time": "2022-10-15T07:09:27.861Z"
      },
      {
        "duration": 30,
        "start_time": "2022-10-15T07:09:27.877Z"
      },
      {
        "duration": 27,
        "start_time": "2022-10-15T07:09:27.908Z"
      },
      {
        "duration": 11,
        "start_time": "2022-10-15T07:09:27.936Z"
      },
      {
        "duration": 51,
        "start_time": "2022-10-15T07:09:27.949Z"
      },
      {
        "duration": 3,
        "start_time": "2022-10-15T07:09:28.002Z"
      },
      {
        "duration": 41,
        "start_time": "2022-10-15T07:09:28.006Z"
      },
      {
        "duration": 6,
        "start_time": "2022-10-15T07:09:28.050Z"
      },
      {
        "duration": 13,
        "start_time": "2022-10-15T07:09:28.057Z"
      },
      {
        "duration": 7,
        "start_time": "2022-10-15T07:09:28.071Z"
      },
      {
        "duration": 7,
        "start_time": "2022-10-15T07:09:28.079Z"
      },
      {
        "duration": 7,
        "start_time": "2022-10-15T07:09:28.087Z"
      },
      {
        "duration": 9,
        "start_time": "2022-10-15T07:09:28.096Z"
      },
      {
        "duration": 30,
        "start_time": "2022-10-15T07:09:28.107Z"
      },
      {
        "duration": 8,
        "start_time": "2022-10-15T07:09:28.139Z"
      },
      {
        "duration": 15,
        "start_time": "2022-10-15T07:09:28.148Z"
      },
      {
        "duration": 11,
        "start_time": "2022-10-15T07:09:28.165Z"
      },
      {
        "duration": 4,
        "start_time": "2022-10-15T07:09:28.178Z"
      },
      {
        "duration": 8,
        "start_time": "2022-10-15T07:09:28.184Z"
      },
      {
        "duration": 9,
        "start_time": "2022-10-15T07:09:28.193Z"
      },
      {
        "duration": 16,
        "start_time": "2022-10-15T07:09:28.204Z"
      },
      {
        "duration": 16,
        "start_time": "2022-10-15T07:09:28.222Z"
      },
      {
        "duration": 7,
        "start_time": "2022-10-15T07:09:28.240Z"
      },
      {
        "duration": 19,
        "start_time": "2022-10-15T07:09:28.249Z"
      },
      {
        "duration": 12,
        "start_time": "2022-10-15T07:09:28.269Z"
      },
      {
        "duration": 439,
        "start_time": "2022-10-15T07:09:28.285Z"
      },
      {
        "duration": 463,
        "start_time": "2022-10-15T07:09:28.726Z"
      },
      {
        "duration": 13,
        "start_time": "2022-10-15T07:09:29.190Z"
      },
      {
        "duration": 3,
        "start_time": "2022-10-15T07:09:29.206Z"
      },
      {
        "duration": 27,
        "start_time": "2022-10-15T07:09:29.210Z"
      },
      {
        "duration": 305,
        "start_time": "2022-10-15T07:09:29.238Z"
      },
      {
        "duration": 6,
        "start_time": "2022-10-15T07:09:29.545Z"
      },
      {
        "duration": 381,
        "start_time": "2022-10-15T07:09:29.553Z"
      },
      {
        "duration": 278,
        "start_time": "2022-10-15T07:09:29.936Z"
      },
      {
        "duration": 21,
        "start_time": "2022-10-15T07:09:30.216Z"
      },
      {
        "duration": 18,
        "start_time": "2022-10-15T07:09:30.239Z"
      },
      {
        "duration": 284,
        "start_time": "2022-10-15T07:09:30.259Z"
      },
      {
        "duration": 12,
        "start_time": "2022-10-15T07:09:30.545Z"
      },
      {
        "duration": 72,
        "start_time": "2022-10-15T07:09:30.558Z"
      },
      {
        "duration": 23,
        "start_time": "2022-10-15T07:09:30.632Z"
      },
      {
        "duration": 43,
        "start_time": "2022-10-15T07:09:30.657Z"
      },
      {
        "duration": 330,
        "start_time": "2022-10-15T07:09:30.701Z"
      },
      {
        "duration": 331,
        "start_time": "2022-10-15T07:09:31.033Z"
      },
      {
        "duration": 328,
        "start_time": "2022-10-15T07:09:31.366Z"
      },
      {
        "duration": 12,
        "start_time": "2022-10-15T07:09:31.696Z"
      },
      {
        "duration": 28,
        "start_time": "2022-10-15T07:09:31.709Z"
      },
      {
        "duration": 11,
        "start_time": "2022-10-15T07:09:31.738Z"
      },
      {
        "duration": 15,
        "start_time": "2022-10-15T07:09:31.751Z"
      },
      {
        "duration": 68,
        "start_time": "2022-10-15T09:33:18.065Z"
      },
      {
        "duration": 1637,
        "start_time": "2022-10-15T09:33:25.490Z"
      },
      {
        "duration": 198,
        "start_time": "2022-10-15T09:33:27.130Z"
      },
      {
        "duration": 21,
        "start_time": "2022-10-15T09:33:27.331Z"
      },
      {
        "duration": 45,
        "start_time": "2022-10-15T09:33:27.354Z"
      },
      {
        "duration": 36,
        "start_time": "2022-10-15T09:33:27.402Z"
      },
      {
        "duration": 11,
        "start_time": "2022-10-15T09:33:27.440Z"
      },
      {
        "duration": 68,
        "start_time": "2022-10-15T09:33:27.454Z"
      },
      {
        "duration": 3,
        "start_time": "2022-10-15T09:33:27.524Z"
      },
      {
        "duration": 17,
        "start_time": "2022-10-15T09:33:27.529Z"
      },
      {
        "duration": 6,
        "start_time": "2022-10-15T09:33:27.550Z"
      },
      {
        "duration": 17,
        "start_time": "2022-10-15T09:33:27.557Z"
      },
      {
        "duration": 8,
        "start_time": "2022-10-15T09:33:27.575Z"
      },
      {
        "duration": 39,
        "start_time": "2022-10-15T09:33:27.585Z"
      },
      {
        "duration": 8,
        "start_time": "2022-10-15T09:33:27.625Z"
      },
      {
        "duration": 12,
        "start_time": "2022-10-15T09:33:27.636Z"
      },
      {
        "duration": 8,
        "start_time": "2022-10-15T09:33:27.650Z"
      },
      {
        "duration": 13,
        "start_time": "2022-10-15T09:33:27.660Z"
      },
      {
        "duration": 11,
        "start_time": "2022-10-15T09:33:27.675Z"
      },
      {
        "duration": 9,
        "start_time": "2022-10-15T09:33:27.688Z"
      },
      {
        "duration": 25,
        "start_time": "2022-10-15T09:33:27.699Z"
      },
      {
        "duration": 19,
        "start_time": "2022-10-15T09:33:27.727Z"
      },
      {
        "duration": 4,
        "start_time": "2022-10-15T09:33:27.748Z"
      },
      {
        "duration": 7,
        "start_time": "2022-10-15T09:33:27.754Z"
      },
      {
        "duration": 11,
        "start_time": "2022-10-15T09:33:27.763Z"
      },
      {
        "duration": 8,
        "start_time": "2022-10-15T09:33:27.776Z"
      },
      {
        "duration": 37,
        "start_time": "2022-10-15T09:33:27.786Z"
      },
      {
        "duration": 20,
        "start_time": "2022-10-15T09:33:27.826Z"
      },
      {
        "duration": 564,
        "start_time": "2022-10-15T09:33:27.850Z"
      },
      {
        "duration": 153,
        "start_time": "2022-10-15T09:33:28.423Z"
      },
      {
        "duration": 0,
        "start_time": "2022-10-15T09:33:28.578Z"
      },
      {
        "duration": 0,
        "start_time": "2022-10-15T09:33:28.580Z"
      },
      {
        "duration": 0,
        "start_time": "2022-10-15T09:33:28.582Z"
      },
      {
        "duration": 0,
        "start_time": "2022-10-15T09:33:28.584Z"
      },
      {
        "duration": 0,
        "start_time": "2022-10-15T09:33:28.585Z"
      },
      {
        "duration": 0,
        "start_time": "2022-10-15T09:33:28.587Z"
      },
      {
        "duration": 0,
        "start_time": "2022-10-15T09:33:28.588Z"
      },
      {
        "duration": 0,
        "start_time": "2022-10-15T09:33:28.590Z"
      },
      {
        "duration": 0,
        "start_time": "2022-10-15T09:33:28.591Z"
      },
      {
        "duration": 0,
        "start_time": "2022-10-15T09:33:28.593Z"
      },
      {
        "duration": 0,
        "start_time": "2022-10-15T09:33:28.622Z"
      },
      {
        "duration": 0,
        "start_time": "2022-10-15T09:33:28.624Z"
      },
      {
        "duration": 0,
        "start_time": "2022-10-15T09:33:28.625Z"
      },
      {
        "duration": 0,
        "start_time": "2022-10-15T09:33:28.627Z"
      },
      {
        "duration": 0,
        "start_time": "2022-10-15T09:33:28.628Z"
      },
      {
        "duration": 0,
        "start_time": "2022-10-15T09:33:28.629Z"
      },
      {
        "duration": 0,
        "start_time": "2022-10-15T09:33:28.631Z"
      },
      {
        "duration": 0,
        "start_time": "2022-10-15T09:33:28.632Z"
      },
      {
        "duration": 0,
        "start_time": "2022-10-15T09:33:28.634Z"
      },
      {
        "duration": 0,
        "start_time": "2022-10-15T09:33:28.635Z"
      },
      {
        "duration": 0,
        "start_time": "2022-10-15T09:33:28.636Z"
      },
      {
        "duration": 13,
        "start_time": "2022-10-15T09:33:44.125Z"
      },
      {
        "duration": 288,
        "start_time": "2022-10-15T09:34:26.565Z"
      },
      {
        "duration": 448,
        "start_time": "2022-10-15T09:35:16.080Z"
      },
      {
        "duration": 6,
        "start_time": "2022-10-15T09:55:00.080Z"
      },
      {
        "duration": 6,
        "start_time": "2022-10-15T09:57:15.802Z"
      },
      {
        "duration": 72,
        "start_time": "2022-10-15T09:57:18.052Z"
      },
      {
        "duration": 296,
        "start_time": "2022-10-15T09:58:24.118Z"
      },
      {
        "duration": 396,
        "start_time": "2022-10-15T10:00:37.962Z"
      },
      {
        "duration": 322,
        "start_time": "2022-10-15T10:02:57.652Z"
      },
      {
        "duration": 360,
        "start_time": "2022-10-15T10:03:23.111Z"
      },
      {
        "duration": 306,
        "start_time": "2022-10-15T10:03:41.641Z"
      },
      {
        "duration": 69,
        "start_time": "2022-10-15T10:11:01.852Z"
      },
      {
        "duration": 218,
        "start_time": "2022-10-15T10:11:12.654Z"
      },
      {
        "duration": 236,
        "start_time": "2022-10-15T10:11:21.822Z"
      },
      {
        "duration": 192,
        "start_time": "2022-10-15T10:12:26.796Z"
      },
      {
        "duration": 191,
        "start_time": "2022-10-15T10:12:38.865Z"
      },
      {
        "duration": 12,
        "start_time": "2022-10-15T10:13:48.587Z"
      },
      {
        "duration": 342,
        "start_time": "2022-10-15T10:16:22.455Z"
      },
      {
        "duration": 198,
        "start_time": "2022-10-15T10:16:58.080Z"
      },
      {
        "duration": 9,
        "start_time": "2022-10-15T10:17:55.014Z"
      },
      {
        "duration": 19,
        "start_time": "2022-10-15T10:26:23.342Z"
      },
      {
        "duration": 26,
        "start_time": "2022-10-15T10:26:49.572Z"
      },
      {
        "duration": 34,
        "start_time": "2022-10-15T10:27:03.485Z"
      },
      {
        "duration": 11,
        "start_time": "2022-10-15T10:30:43.429Z"
      },
      {
        "duration": 18,
        "start_time": "2022-10-15T10:30:52.127Z"
      },
      {
        "duration": 12,
        "start_time": "2022-10-15T10:35:27.728Z"
      },
      {
        "duration": 19,
        "start_time": "2022-10-15T10:35:29.590Z"
      },
      {
        "duration": 249,
        "start_time": "2022-10-15T10:44:55.391Z"
      },
      {
        "duration": 246,
        "start_time": "2022-10-15T10:45:06.375Z"
      },
      {
        "duration": 236,
        "start_time": "2022-10-15T10:45:47.913Z"
      },
      {
        "duration": 1023,
        "start_time": "2022-10-15T11:26:28.038Z"
      },
      {
        "duration": 57,
        "start_time": "2022-10-15T11:26:29.063Z"
      },
      {
        "duration": 20,
        "start_time": "2022-10-15T11:26:29.122Z"
      },
      {
        "duration": 45,
        "start_time": "2022-10-15T11:26:29.144Z"
      },
      {
        "duration": 15,
        "start_time": "2022-10-15T11:26:29.190Z"
      },
      {
        "duration": 14,
        "start_time": "2022-10-15T11:26:29.207Z"
      },
      {
        "duration": 68,
        "start_time": "2022-10-15T11:26:29.223Z"
      },
      {
        "duration": 2,
        "start_time": "2022-10-15T11:26:29.293Z"
      },
      {
        "duration": 16,
        "start_time": "2022-10-15T11:26:29.297Z"
      },
      {
        "duration": 5,
        "start_time": "2022-10-15T11:26:29.316Z"
      },
      {
        "duration": 13,
        "start_time": "2022-10-15T11:26:29.322Z"
      },
      {
        "duration": 7,
        "start_time": "2022-10-15T11:26:29.337Z"
      },
      {
        "duration": 6,
        "start_time": "2022-10-15T11:26:29.346Z"
      },
      {
        "duration": 35,
        "start_time": "2022-10-15T11:26:29.353Z"
      },
      {
        "duration": 10,
        "start_time": "2022-10-15T11:26:29.389Z"
      },
      {
        "duration": 11,
        "start_time": "2022-10-15T11:26:29.401Z"
      },
      {
        "duration": 9,
        "start_time": "2022-10-15T11:26:29.413Z"
      },
      {
        "duration": 5,
        "start_time": "2022-10-15T11:26:29.424Z"
      },
      {
        "duration": 6,
        "start_time": "2022-10-15T11:26:29.431Z"
      },
      {
        "duration": 4,
        "start_time": "2022-10-15T11:26:29.438Z"
      },
      {
        "duration": 7,
        "start_time": "2022-10-15T11:26:29.444Z"
      },
      {
        "duration": 4,
        "start_time": "2022-10-15T11:26:29.452Z"
      },
      {
        "duration": 6,
        "start_time": "2022-10-15T11:26:29.485Z"
      },
      {
        "duration": 14,
        "start_time": "2022-10-15T11:26:29.493Z"
      },
      {
        "duration": 7,
        "start_time": "2022-10-15T11:26:29.508Z"
      },
      {
        "duration": 16,
        "start_time": "2022-10-15T11:26:29.517Z"
      },
      {
        "duration": 14,
        "start_time": "2022-10-15T11:26:29.534Z"
      },
      {
        "duration": 417,
        "start_time": "2022-10-15T11:26:29.551Z"
      },
      {
        "duration": 354,
        "start_time": "2022-10-15T11:26:29.969Z"
      },
      {
        "duration": 14,
        "start_time": "2022-10-15T11:26:30.324Z"
      },
      {
        "duration": 17,
        "start_time": "2022-10-15T11:26:30.339Z"
      },
      {
        "duration": 31,
        "start_time": "2022-10-15T11:26:30.357Z"
      },
      {
        "duration": 323,
        "start_time": "2022-10-15T11:26:30.390Z"
      },
      {
        "duration": 4,
        "start_time": "2022-10-15T11:26:30.715Z"
      },
      {
        "duration": 356,
        "start_time": "2022-10-15T11:26:30.720Z"
      },
      {
        "duration": 290,
        "start_time": "2022-10-15T11:26:31.077Z"
      },
      {
        "duration": 234,
        "start_time": "2022-10-15T11:26:31.369Z"
      },
      {
        "duration": 212,
        "start_time": "2022-10-15T11:26:31.605Z"
      },
      {
        "duration": 17,
        "start_time": "2022-10-15T11:26:31.831Z"
      },
      {
        "duration": 42,
        "start_time": "2022-10-15T11:26:31.850Z"
      },
      {
        "duration": 26,
        "start_time": "2022-10-15T11:26:31.895Z"
      },
      {
        "duration": 297,
        "start_time": "2022-10-15T11:26:31.922Z"
      },
      {
        "duration": 12,
        "start_time": "2022-10-15T11:26:32.221Z"
      },
      {
        "duration": 19,
        "start_time": "2022-10-15T11:26:32.235Z"
      },
      {
        "duration": 33,
        "start_time": "2022-10-15T11:26:32.256Z"
      },
      {
        "duration": 23,
        "start_time": "2022-10-15T11:26:32.291Z"
      },
      {
        "duration": 260,
        "start_time": "2022-10-15T11:26:32.316Z"
      },
      {
        "duration": 271,
        "start_time": "2022-10-15T11:26:32.585Z"
      },
      {
        "duration": 289,
        "start_time": "2022-10-15T11:26:32.859Z"
      },
      {
        "duration": 11,
        "start_time": "2022-10-15T11:26:33.149Z"
      },
      {
        "duration": 30,
        "start_time": "2022-10-15T11:26:33.163Z"
      },
      {
        "duration": 10,
        "start_time": "2022-10-15T11:26:33.194Z"
      },
      {
        "duration": 18,
        "start_time": "2022-10-15T11:26:33.206Z"
      },
      {
        "duration": 221,
        "start_time": "2022-10-15T11:29:56.238Z"
      },
      {
        "duration": 6,
        "start_time": "2022-10-15T11:30:16.372Z"
      },
      {
        "duration": 1108,
        "start_time": "2022-10-15T11:31:52.859Z"
      },
      {
        "duration": 50,
        "start_time": "2022-10-15T11:31:53.969Z"
      },
      {
        "duration": 14,
        "start_time": "2022-10-15T11:31:54.020Z"
      },
      {
        "duration": 44,
        "start_time": "2022-10-15T11:31:54.037Z"
      },
      {
        "duration": 15,
        "start_time": "2022-10-15T11:31:54.084Z"
      },
      {
        "duration": 22,
        "start_time": "2022-10-15T11:31:54.101Z"
      },
      {
        "duration": 50,
        "start_time": "2022-10-15T11:31:54.125Z"
      },
      {
        "duration": 9,
        "start_time": "2022-10-15T11:31:54.177Z"
      },
      {
        "duration": 23,
        "start_time": "2022-10-15T11:31:54.187Z"
      },
      {
        "duration": 8,
        "start_time": "2022-10-15T11:31:54.213Z"
      },
      {
        "duration": 11,
        "start_time": "2022-10-15T11:31:54.223Z"
      },
      {
        "duration": 7,
        "start_time": "2022-10-15T11:31:54.235Z"
      },
      {
        "duration": 5,
        "start_time": "2022-10-15T11:31:54.243Z"
      },
      {
        "duration": 9,
        "start_time": "2022-10-15T11:31:54.250Z"
      },
      {
        "duration": 26,
        "start_time": "2022-10-15T11:31:54.260Z"
      },
      {
        "duration": 30,
        "start_time": "2022-10-15T11:31:54.288Z"
      },
      {
        "duration": 8,
        "start_time": "2022-10-15T11:31:54.320Z"
      },
      {
        "duration": 12,
        "start_time": "2022-10-15T11:31:54.329Z"
      },
      {
        "duration": 13,
        "start_time": "2022-10-15T11:31:54.342Z"
      },
      {
        "duration": 5,
        "start_time": "2022-10-15T11:31:54.356Z"
      },
      {
        "duration": 6,
        "start_time": "2022-10-15T11:31:54.363Z"
      },
      {
        "duration": 6,
        "start_time": "2022-10-15T11:31:54.370Z"
      },
      {
        "duration": 8,
        "start_time": "2022-10-15T11:31:54.377Z"
      },
      {
        "duration": 20,
        "start_time": "2022-10-15T11:31:54.386Z"
      },
      {
        "duration": 6,
        "start_time": "2022-10-15T11:31:54.408Z"
      },
      {
        "duration": 21,
        "start_time": "2022-10-15T11:31:54.415Z"
      },
      {
        "duration": 13,
        "start_time": "2022-10-15T11:31:54.438Z"
      },
      {
        "duration": 392,
        "start_time": "2022-10-15T11:31:54.455Z"
      },
      {
        "duration": 355,
        "start_time": "2022-10-15T11:31:54.848Z"
      },
      {
        "duration": 12,
        "start_time": "2022-10-15T11:31:55.204Z"
      },
      {
        "duration": 25,
        "start_time": "2022-10-15T11:31:55.217Z"
      },
      {
        "duration": 58,
        "start_time": "2022-10-15T11:31:55.243Z"
      },
      {
        "duration": 314,
        "start_time": "2022-10-15T11:31:55.303Z"
      },
      {
        "duration": 5,
        "start_time": "2022-10-15T11:31:55.619Z"
      },
      {
        "duration": 436,
        "start_time": "2022-10-15T11:31:55.626Z"
      },
      {
        "duration": 288,
        "start_time": "2022-10-15T11:31:56.064Z"
      },
      {
        "duration": 255,
        "start_time": "2022-10-15T11:31:56.353Z"
      },
      {
        "duration": 218,
        "start_time": "2022-10-15T11:31:56.610Z"
      },
      {
        "duration": 17,
        "start_time": "2022-10-15T11:31:56.830Z"
      },
      {
        "duration": 10,
        "start_time": "2022-10-15T11:31:56.849Z"
      },
      {
        "duration": 45,
        "start_time": "2022-10-15T11:31:56.860Z"
      },
      {
        "duration": 420,
        "start_time": "2022-10-15T11:31:56.906Z"
      },
      {
        "duration": 12,
        "start_time": "2022-10-15T11:31:57.328Z"
      },
      {
        "duration": 21,
        "start_time": "2022-10-15T11:31:57.342Z"
      },
      {
        "duration": 29,
        "start_time": "2022-10-15T11:31:57.364Z"
      },
      {
        "duration": 22,
        "start_time": "2022-10-15T11:31:57.394Z"
      },
      {
        "duration": 298,
        "start_time": "2022-10-15T11:31:57.417Z"
      },
      {
        "duration": 295,
        "start_time": "2022-10-15T11:31:57.716Z"
      },
      {
        "duration": 287,
        "start_time": "2022-10-15T11:31:58.012Z"
      },
      {
        "duration": 15,
        "start_time": "2022-10-15T11:31:58.301Z"
      },
      {
        "duration": 22,
        "start_time": "2022-10-15T11:31:58.318Z"
      },
      {
        "duration": 11,
        "start_time": "2022-10-15T11:31:58.341Z"
      },
      {
        "duration": 34,
        "start_time": "2022-10-15T11:31:58.354Z"
      },
      {
        "duration": 4,
        "start_time": "2022-10-15T11:40:49.797Z"
      },
      {
        "duration": 30,
        "start_time": "2022-10-15T11:44:12.046Z"
      },
      {
        "duration": 70,
        "start_time": "2022-10-15T11:45:08.276Z"
      },
      {
        "duration": 1016,
        "start_time": "2022-10-15T11:45:27.373Z"
      },
      {
        "duration": 49,
        "start_time": "2022-10-15T11:45:28.391Z"
      },
      {
        "duration": 13,
        "start_time": "2022-10-15T11:45:28.441Z"
      },
      {
        "duration": 60,
        "start_time": "2022-10-15T11:45:28.455Z"
      },
      {
        "duration": 19,
        "start_time": "2022-10-15T11:45:28.517Z"
      },
      {
        "duration": 56,
        "start_time": "2022-10-15T11:45:28.537Z"
      },
      {
        "duration": 73,
        "start_time": "2022-10-15T11:45:28.594Z"
      },
      {
        "duration": 3,
        "start_time": "2022-10-15T11:45:28.669Z"
      },
      {
        "duration": 17,
        "start_time": "2022-10-15T11:45:28.674Z"
      },
      {
        "duration": 15,
        "start_time": "2022-10-15T11:45:28.694Z"
      },
      {
        "duration": 18,
        "start_time": "2022-10-15T11:45:28.710Z"
      },
      {
        "duration": 7,
        "start_time": "2022-10-15T11:45:28.730Z"
      },
      {
        "duration": 6,
        "start_time": "2022-10-15T11:45:28.738Z"
      },
      {
        "duration": 25,
        "start_time": "2022-10-15T11:45:28.745Z"
      },
      {
        "duration": 12,
        "start_time": "2022-10-15T11:45:28.771Z"
      },
      {
        "duration": 13,
        "start_time": "2022-10-15T11:45:28.784Z"
      },
      {
        "duration": 10,
        "start_time": "2022-10-15T11:45:28.799Z"
      },
      {
        "duration": 19,
        "start_time": "2022-10-15T11:45:28.810Z"
      },
      {
        "duration": 11,
        "start_time": "2022-10-15T11:45:28.831Z"
      },
      {
        "duration": 10,
        "start_time": "2022-10-15T11:45:28.843Z"
      },
      {
        "duration": 17,
        "start_time": "2022-10-15T11:45:28.855Z"
      },
      {
        "duration": 7,
        "start_time": "2022-10-15T11:45:28.874Z"
      },
      {
        "duration": 11,
        "start_time": "2022-10-15T11:45:28.882Z"
      },
      {
        "duration": 12,
        "start_time": "2022-10-15T11:45:28.894Z"
      },
      {
        "duration": 13,
        "start_time": "2022-10-15T11:45:28.908Z"
      },
      {
        "duration": 23,
        "start_time": "2022-10-15T11:45:28.923Z"
      },
      {
        "duration": 11,
        "start_time": "2022-10-15T11:45:28.948Z"
      },
      {
        "duration": 359,
        "start_time": "2022-10-15T11:45:28.962Z"
      },
      {
        "duration": 357,
        "start_time": "2022-10-15T11:45:29.323Z"
      },
      {
        "duration": 12,
        "start_time": "2022-10-15T11:45:29.682Z"
      },
      {
        "duration": 6,
        "start_time": "2022-10-15T11:45:29.695Z"
      },
      {
        "duration": 24,
        "start_time": "2022-10-15T11:45:29.703Z"
      },
      {
        "duration": 308,
        "start_time": "2022-10-15T11:45:29.729Z"
      },
      {
        "duration": 5,
        "start_time": "2022-10-15T11:45:30.038Z"
      },
      {
        "duration": 345,
        "start_time": "2022-10-15T11:45:30.044Z"
      },
      {
        "duration": 259,
        "start_time": "2022-10-15T11:45:30.391Z"
      },
      {
        "duration": 207,
        "start_time": "2022-10-15T11:45:30.651Z"
      },
      {
        "duration": 202,
        "start_time": "2022-10-15T11:45:30.860Z"
      },
      {
        "duration": 15,
        "start_time": "2022-10-15T11:45:31.065Z"
      },
      {
        "duration": 32,
        "start_time": "2022-10-15T11:45:31.082Z"
      },
      {
        "duration": 27,
        "start_time": "2022-10-15T11:45:31.116Z"
      },
      {
        "duration": 284,
        "start_time": "2022-10-15T11:45:31.144Z"
      },
      {
        "duration": 9,
        "start_time": "2022-10-15T11:45:31.429Z"
      },
      {
        "duration": 18,
        "start_time": "2022-10-15T11:45:31.439Z"
      },
      {
        "duration": 9,
        "start_time": "2022-10-15T11:45:31.458Z"
      },
      {
        "duration": 16,
        "start_time": "2022-10-15T11:45:31.469Z"
      },
      {
        "duration": 265,
        "start_time": "2022-10-15T11:45:31.486Z"
      },
      {
        "duration": 261,
        "start_time": "2022-10-15T11:45:31.753Z"
      },
      {
        "duration": 253,
        "start_time": "2022-10-15T11:45:32.021Z"
      },
      {
        "duration": 9,
        "start_time": "2022-10-15T11:45:32.276Z"
      },
      {
        "duration": 19,
        "start_time": "2022-10-15T11:45:32.286Z"
      },
      {
        "duration": 20,
        "start_time": "2022-10-15T11:45:32.306Z"
      },
      {
        "duration": 15,
        "start_time": "2022-10-15T11:45:32.327Z"
      },
      {
        "duration": 1101,
        "start_time": "2022-10-15T11:49:01.585Z"
      },
      {
        "duration": 47,
        "start_time": "2022-10-15T11:49:02.687Z"
      },
      {
        "duration": 13,
        "start_time": "2022-10-15T11:49:02.736Z"
      },
      {
        "duration": 36,
        "start_time": "2022-10-15T11:49:02.751Z"
      },
      {
        "duration": 13,
        "start_time": "2022-10-15T11:49:02.789Z"
      },
      {
        "duration": 12,
        "start_time": "2022-10-15T11:49:02.804Z"
      },
      {
        "duration": 53,
        "start_time": "2022-10-15T11:49:02.817Z"
      },
      {
        "duration": 2,
        "start_time": "2022-10-15T11:49:02.872Z"
      },
      {
        "duration": 16,
        "start_time": "2022-10-15T11:49:02.875Z"
      },
      {
        "duration": 9,
        "start_time": "2022-10-15T11:49:02.893Z"
      },
      {
        "duration": 18,
        "start_time": "2022-10-15T11:49:02.903Z"
      },
      {
        "duration": 5,
        "start_time": "2022-10-15T11:49:02.923Z"
      },
      {
        "duration": 5,
        "start_time": "2022-10-15T11:49:02.930Z"
      },
      {
        "duration": 8,
        "start_time": "2022-10-15T11:49:02.937Z"
      },
      {
        "duration": 11,
        "start_time": "2022-10-15T11:49:02.947Z"
      },
      {
        "duration": 18,
        "start_time": "2022-10-15T11:49:02.959Z"
      },
      {
        "duration": 8,
        "start_time": "2022-10-15T11:49:02.979Z"
      },
      {
        "duration": 8,
        "start_time": "2022-10-15T11:49:02.989Z"
      },
      {
        "duration": 7,
        "start_time": "2022-10-15T11:49:02.998Z"
      },
      {
        "duration": 16,
        "start_time": "2022-10-15T11:49:03.006Z"
      },
      {
        "duration": 16,
        "start_time": "2022-10-15T11:49:03.024Z"
      },
      {
        "duration": 8,
        "start_time": "2022-10-15T11:49:03.041Z"
      },
      {
        "duration": 11,
        "start_time": "2022-10-15T11:49:03.050Z"
      },
      {
        "duration": 8,
        "start_time": "2022-10-15T11:49:03.063Z"
      },
      {
        "duration": 6,
        "start_time": "2022-10-15T11:49:03.072Z"
      },
      {
        "duration": 15,
        "start_time": "2022-10-15T11:49:03.080Z"
      },
      {
        "duration": 14,
        "start_time": "2022-10-15T11:49:03.097Z"
      },
      {
        "duration": 388,
        "start_time": "2022-10-15T11:49:03.114Z"
      },
      {
        "duration": 340,
        "start_time": "2022-10-15T11:49:03.504Z"
      },
      {
        "duration": 12,
        "start_time": "2022-10-15T11:49:03.845Z"
      },
      {
        "duration": 3,
        "start_time": "2022-10-15T11:49:03.859Z"
      },
      {
        "duration": 22,
        "start_time": "2022-10-15T11:49:03.863Z"
      },
      {
        "duration": 285,
        "start_time": "2022-10-15T11:49:03.887Z"
      },
      {
        "duration": 4,
        "start_time": "2022-10-15T11:49:04.174Z"
      },
      {
        "duration": 316,
        "start_time": "2022-10-15T11:49:04.179Z"
      },
      {
        "duration": 257,
        "start_time": "2022-10-15T11:49:04.497Z"
      },
      {
        "duration": 205,
        "start_time": "2022-10-15T11:49:04.755Z"
      },
      {
        "duration": 196,
        "start_time": "2022-10-15T11:49:04.962Z"
      },
      {
        "duration": 11,
        "start_time": "2022-10-15T11:49:05.161Z"
      },
      {
        "duration": 17,
        "start_time": "2022-10-15T11:49:05.173Z"
      },
      {
        "duration": 32,
        "start_time": "2022-10-15T11:49:05.191Z"
      },
      {
        "duration": 264,
        "start_time": "2022-10-15T11:49:05.224Z"
      },
      {
        "duration": 9,
        "start_time": "2022-10-15T11:49:05.489Z"
      },
      {
        "duration": 27,
        "start_time": "2022-10-15T11:49:05.500Z"
      },
      {
        "duration": 10,
        "start_time": "2022-10-15T11:49:05.528Z"
      },
      {
        "duration": 31,
        "start_time": "2022-10-15T11:49:05.540Z"
      },
      {
        "duration": 253,
        "start_time": "2022-10-15T11:49:05.573Z"
      },
      {
        "duration": 280,
        "start_time": "2022-10-15T11:49:05.828Z"
      },
      {
        "duration": 294,
        "start_time": "2022-10-15T11:49:06.110Z"
      },
      {
        "duration": 17,
        "start_time": "2022-10-15T11:49:06.405Z"
      },
      {
        "duration": 15,
        "start_time": "2022-10-15T11:49:06.423Z"
      },
      {
        "duration": 9,
        "start_time": "2022-10-15T11:49:06.440Z"
      },
      {
        "duration": 17,
        "start_time": "2022-10-15T11:49:06.451Z"
      },
      {
        "duration": 270,
        "start_time": "2022-10-15T11:55:48.910Z"
      },
      {
        "duration": 294,
        "start_time": "2022-10-15T11:56:51.491Z"
      },
      {
        "duration": 79,
        "start_time": "2022-10-15T11:57:25.424Z"
      },
      {
        "duration": 9,
        "start_time": "2022-10-15T11:58:26.948Z"
      },
      {
        "duration": 98,
        "start_time": "2022-10-15T11:59:43.836Z"
      },
      {
        "duration": 14,
        "start_time": "2022-10-15T11:59:56.223Z"
      },
      {
        "duration": 1072,
        "start_time": "2022-10-15T12:25:10.218Z"
      },
      {
        "duration": 51,
        "start_time": "2022-10-15T12:25:11.292Z"
      },
      {
        "duration": 18,
        "start_time": "2022-10-15T12:25:11.345Z"
      },
      {
        "duration": 30,
        "start_time": "2022-10-15T12:25:11.365Z"
      },
      {
        "duration": 15,
        "start_time": "2022-10-15T12:25:11.396Z"
      },
      {
        "duration": 10,
        "start_time": "2022-10-15T12:25:11.412Z"
      },
      {
        "duration": 62,
        "start_time": "2022-10-15T12:25:11.424Z"
      },
      {
        "duration": 5,
        "start_time": "2022-10-15T12:25:11.496Z"
      },
      {
        "duration": 23,
        "start_time": "2022-10-15T12:25:11.503Z"
      },
      {
        "duration": 12,
        "start_time": "2022-10-15T12:25:11.529Z"
      },
      {
        "duration": 19,
        "start_time": "2022-10-15T12:25:11.543Z"
      },
      {
        "duration": 7,
        "start_time": "2022-10-15T12:25:11.564Z"
      },
      {
        "duration": 36,
        "start_time": "2022-10-15T12:25:11.572Z"
      },
      {
        "duration": 19,
        "start_time": "2022-10-15T12:25:11.610Z"
      },
      {
        "duration": 10,
        "start_time": "2022-10-15T12:25:11.631Z"
      },
      {
        "duration": 10,
        "start_time": "2022-10-15T12:25:11.643Z"
      },
      {
        "duration": 12,
        "start_time": "2022-10-15T12:25:11.654Z"
      },
      {
        "duration": 8,
        "start_time": "2022-10-15T12:25:11.668Z"
      },
      {
        "duration": 31,
        "start_time": "2022-10-15T12:25:11.678Z"
      },
      {
        "duration": 4,
        "start_time": "2022-10-15T12:25:11.711Z"
      },
      {
        "duration": 23,
        "start_time": "2022-10-15T12:25:11.717Z"
      },
      {
        "duration": 5,
        "start_time": "2022-10-15T12:25:11.742Z"
      },
      {
        "duration": 12,
        "start_time": "2022-10-15T12:25:11.749Z"
      },
      {
        "duration": 9,
        "start_time": "2022-10-15T12:25:11.763Z"
      },
      {
        "duration": 12,
        "start_time": "2022-10-15T12:25:11.774Z"
      },
      {
        "duration": 31,
        "start_time": "2022-10-15T12:25:11.787Z"
      },
      {
        "duration": 13,
        "start_time": "2022-10-15T12:25:11.821Z"
      },
      {
        "duration": 387,
        "start_time": "2022-10-15T12:25:11.837Z"
      },
      {
        "duration": 354,
        "start_time": "2022-10-15T12:25:12.225Z"
      },
      {
        "duration": 19,
        "start_time": "2022-10-15T12:25:12.581Z"
      },
      {
        "duration": 11,
        "start_time": "2022-10-15T12:25:12.601Z"
      },
      {
        "duration": 23,
        "start_time": "2022-10-15T12:25:12.614Z"
      },
      {
        "duration": 332,
        "start_time": "2022-10-15T12:25:12.638Z"
      },
      {
        "duration": 5,
        "start_time": "2022-10-15T12:25:12.971Z"
      },
      {
        "duration": 353,
        "start_time": "2022-10-15T12:25:12.984Z"
      },
      {
        "duration": 292,
        "start_time": "2022-10-15T12:25:13.338Z"
      },
      {
        "duration": 245,
        "start_time": "2022-10-15T12:25:13.632Z"
      },
      {
        "duration": 237,
        "start_time": "2022-10-15T12:25:13.886Z"
      },
      {
        "duration": 12,
        "start_time": "2022-10-15T12:25:14.125Z"
      },
      {
        "duration": 35,
        "start_time": "2022-10-15T12:25:14.138Z"
      },
      {
        "duration": 50,
        "start_time": "2022-10-15T12:25:14.175Z"
      },
      {
        "duration": 292,
        "start_time": "2022-10-15T12:25:14.226Z"
      },
      {
        "duration": 12,
        "start_time": "2022-10-15T12:25:14.520Z"
      },
      {
        "duration": 21,
        "start_time": "2022-10-15T12:25:14.533Z"
      },
      {
        "duration": 36,
        "start_time": "2022-10-15T12:25:14.556Z"
      },
      {
        "duration": 20,
        "start_time": "2022-10-15T12:25:14.594Z"
      },
      {
        "duration": 255,
        "start_time": "2022-10-15T12:25:14.616Z"
      },
      {
        "duration": 276,
        "start_time": "2022-10-15T12:25:14.873Z"
      },
      {
        "duration": 299,
        "start_time": "2022-10-15T12:25:15.150Z"
      },
      {
        "duration": 10,
        "start_time": "2022-10-15T12:25:15.450Z"
      },
      {
        "duration": 28,
        "start_time": "2022-10-15T12:25:15.462Z"
      },
      {
        "duration": 17,
        "start_time": "2022-10-15T12:25:15.494Z"
      },
      {
        "duration": 19,
        "start_time": "2022-10-15T12:25:15.512Z"
      },
      {
        "duration": 6,
        "start_time": "2022-10-15T12:25:31.905Z"
      }
    ],
    "toc": {
      "base_numbering": 1,
      "nav_menu": {
        "height": "29px",
        "width": "160px"
      },
      "number_sections": true,
      "sideBar": true,
      "skip_h1_title": true,
      "title_cell": "Table of Contents",
      "title_sidebar": "Contents",
      "toc_cell": false,
      "toc_position": {},
      "toc_section_display": true,
      "toc_window_display": true
    },
    "kernelspec": {
      "name": "python",
      "display_name": "Python (Pyodide)",
      "language": "python"
    },
    "language_info": {
      "codemirror_mode": {
        "name": "python",
        "version": 3
      },
      "file_extension": ".py",
      "mimetype": "text/x-python",
      "name": "python",
      "nbconvert_exporter": "python",
      "pygments_lexer": "ipython3",
      "version": "3.8"
    }
  },
  "nbformat_minor": 4,
  "nbformat": 4,
  "cells": [
    {
      "cell_type": "markdown",
      "source": "# Анализ игровой индустрии",
      "metadata": {}
    },
    {
      "cell_type": "markdown",
      "source": "# Описание проекта  \nМы работаем в интернет-магазине «Стримчик», который продаёт по всему миру компьютерные игры. Из открытых источников доступны исторические данные о продажах игр, оценки пользователей и экспертов, жанры и платформы (например, Xbox или PlayStation). Нам нужно выявить определяющие успешность игры закономерности. Это позволит сделать ставку на потенциально популярный продукт и спланировать рекламные кампании.\nПеред нами данные до 2016 года. Представим, что сейчас декабрь 2016 г., и мы планируем кампанию на 2017-й. Нужно отработать принцип работы с данными. Неважно, прогнозируем ли мы продажи на 2017 год по данным 2016-го или же 2027-й — по данным 2026 года.\nВ наборе данных попадается аббревиатура ESRB (Entertainment Software Rating Board) — это ассоциация, определяющая возрастной рейтинг компьютерных игр. ESRB оценивает игровой контент и присваивает ему подходящую возрастную категорию, например, «Для взрослых», «Для детей младшего возраста» или «Для подростков».",
      "metadata": {}
    },
    {
      "cell_type": "markdown",
      "source": "**Описание данных**\n* Name — название игры\n* Platform — платформа\n* Year_of_Release — год выпуска\n* Genre — жанр игры\n* NA_sales — продажи в Северной Америке (миллионы проданных копий)\n* EU_sales — продажи в Европе (миллионы проданных копий)\n* JP_sales — продажи в Японии (миллионы проданных копий)\n* Other_sales — продажи в других странах (миллионы проданных копий)\n* Critic_Score — оценка критиков (максимум 100)\n* User_Score — оценка пользователей (максимум 10)\n* Rating — рейтинг от организации ESRB (англ. Entertainment Software Rating Board). Эта ассоциация определяет рейтинг компьютерных игр и присваивает им подходящую возрастную категорию.\n\nДанные за 2016 год могут быть неполными.\n",
      "metadata": {}
    },
    {
      "cell_type": "markdown",
      "source": "**Цель исследования состоит в следующем:**  \n* Выявить закономерности, определяющие успешность игры для планирования рекламных кампаний",
      "metadata": {}
    },
    {
      "cell_type": "markdown",
      "source": "**Ход исследования:**  \n* Изучение общей информации датасета\n* Замена пропусков в данных и удаление строк с малым количеством пропусков в столбцах\n* Добавление столбца с общей суммой продаж по всем регионам для более полного анализа\n* Проведение анализа игр\n* Проведение анализа платформ\n* Изучение зависимостей продаж от отзывов критиков и пользователей\n* Исследование платформ и жанров\n* Анализ продаж по регионам\n* Проверка влияния рейтинга ESRB на продажи по регионам\n* Проверка гипотез\n* Общий вывод исследования",
      "metadata": {}
    },
    {
      "cell_type": "markdown",
      "source": "**Импортируем библиотеки**",
      "metadata": {}
    },
    {
      "cell_type": "code",
      "source": "import pandas as pd\nimport numpy as np\nimport matplotlib.pyplot as plt\nimport seaborn as sns\n\nfrom datetime import datetime\nfrom scipy import stats as st",
      "metadata": {},
      "execution_count": 1,
      "outputs": []
    },
    {
      "cell_type": "markdown",
      "source": "# Шаг 1. Откроем файл с данными и изучим общую информацию",
      "metadata": {}
    },
    {
      "cell_type": "code",
      "source": "#Откроем файл и сохраним его в переменной data\ndata = pd.read_csv('/datasets/games.csv')",
      "metadata": {},
      "execution_count": 2,
      "outputs": []
    },
    {
      "cell_type": "code",
      "source": "#Посмотрим наличие пропусков и тип данных\ndata.info()",
      "metadata": {},
      "execution_count": 3,
      "outputs": [
        {
          "name": "stdout",
          "output_type": "stream",
          "text": "<class 'pandas.core.frame.DataFrame'>\n\nRangeIndex: 16715 entries, 0 to 16714\n\nData columns (total 11 columns):\n\n #   Column           Non-Null Count  Dtype  \n\n---  ------           --------------  -----  \n\n 0   Name             16713 non-null  object \n\n 1   Platform         16715 non-null  object \n\n 2   Year_of_Release  16446 non-null  float64\n\n 3   Genre            16713 non-null  object \n\n 4   NA_sales         16715 non-null  float64\n\n 5   EU_sales         16715 non-null  float64\n\n 6   JP_sales         16715 non-null  float64\n\n 7   Other_sales      16715 non-null  float64\n\n 8   Critic_Score     8137 non-null   float64\n\n 9   User_Score       10014 non-null  object \n\n 10  Rating           9949 non-null   object \n\ndtypes: float64(6), object(5)\n\nmemory usage: 1.4+ MB\n"
        }
      ]
    },
    {
      "cell_type": "code",
      "source": "#Посмтотрим общую информацию\ndata.describe()",
      "metadata": {},
      "execution_count": 4,
      "outputs": [
        {
          "execution_count": 4,
          "output_type": "execute_result",
          "data": {
            "text/html": [
              "<div>\n",
              "<style scoped>\n",
              "    .dataframe tbody tr th:only-of-type {\n",
              "        vertical-align: middle;\n",
              "    }\n",
              "\n",
              "    .dataframe tbody tr th {\n",
              "        vertical-align: top;\n",
              "    }\n",
              "\n",
              "    .dataframe thead th {\n",
              "        text-align: right;\n",
              "    }\n",
              "</style>\n",
              "<table border=\"1\" class=\"dataframe\">\n",
              "  <thead>\n",
              "    <tr style=\"text-align: right;\">\n",
              "      <th></th>\n",
              "      <th>Year_of_Release</th>\n",
              "      <th>NA_sales</th>\n",
              "      <th>EU_sales</th>\n",
              "      <th>JP_sales</th>\n",
              "      <th>Other_sales</th>\n",
              "      <th>Critic_Score</th>\n",
              "    </tr>\n",
              "  </thead>\n",
              "  <tbody>\n",
              "    <tr>\n",
              "      <th>count</th>\n",
              "      <td>16446.000000</td>\n",
              "      <td>16715.000000</td>\n",
              "      <td>16715.000000</td>\n",
              "      <td>16715.000000</td>\n",
              "      <td>16715.000000</td>\n",
              "      <td>8137.000000</td>\n",
              "    </tr>\n",
              "    <tr>\n",
              "      <th>mean</th>\n",
              "      <td>2006.484616</td>\n",
              "      <td>0.263377</td>\n",
              "      <td>0.145060</td>\n",
              "      <td>0.077617</td>\n",
              "      <td>0.047342</td>\n",
              "      <td>68.967679</td>\n",
              "    </tr>\n",
              "    <tr>\n",
              "      <th>std</th>\n",
              "      <td>5.877050</td>\n",
              "      <td>0.813604</td>\n",
              "      <td>0.503339</td>\n",
              "      <td>0.308853</td>\n",
              "      <td>0.186731</td>\n",
              "      <td>13.938165</td>\n",
              "    </tr>\n",
              "    <tr>\n",
              "      <th>min</th>\n",
              "      <td>1980.000000</td>\n",
              "      <td>0.000000</td>\n",
              "      <td>0.000000</td>\n",
              "      <td>0.000000</td>\n",
              "      <td>0.000000</td>\n",
              "      <td>13.000000</td>\n",
              "    </tr>\n",
              "    <tr>\n",
              "      <th>25%</th>\n",
              "      <td>2003.000000</td>\n",
              "      <td>0.000000</td>\n",
              "      <td>0.000000</td>\n",
              "      <td>0.000000</td>\n",
              "      <td>0.000000</td>\n",
              "      <td>60.000000</td>\n",
              "    </tr>\n",
              "    <tr>\n",
              "      <th>50%</th>\n",
              "      <td>2007.000000</td>\n",
              "      <td>0.080000</td>\n",
              "      <td>0.020000</td>\n",
              "      <td>0.000000</td>\n",
              "      <td>0.010000</td>\n",
              "      <td>71.000000</td>\n",
              "    </tr>\n",
              "    <tr>\n",
              "      <th>75%</th>\n",
              "      <td>2010.000000</td>\n",
              "      <td>0.240000</td>\n",
              "      <td>0.110000</td>\n",
              "      <td>0.040000</td>\n",
              "      <td>0.030000</td>\n",
              "      <td>79.000000</td>\n",
              "    </tr>\n",
              "    <tr>\n",
              "      <th>max</th>\n",
              "      <td>2016.000000</td>\n",
              "      <td>41.360000</td>\n",
              "      <td>28.960000</td>\n",
              "      <td>10.220000</td>\n",
              "      <td>10.570000</td>\n",
              "      <td>98.000000</td>\n",
              "    </tr>\n",
              "  </tbody>\n",
              "</table>\n",
              "</div>"
            ],
            "text/plain": [
              "       Year_of_Release      NA_sales      EU_sales      JP_sales  \\\n",
              "count     16446.000000  16715.000000  16715.000000  16715.000000   \n",
              "mean       2006.484616      0.263377      0.145060      0.077617   \n",
              "std           5.877050      0.813604      0.503339      0.308853   \n",
              "min        1980.000000      0.000000      0.000000      0.000000   \n",
              "25%        2003.000000      0.000000      0.000000      0.000000   \n",
              "50%        2007.000000      0.080000      0.020000      0.000000   \n",
              "75%        2010.000000      0.240000      0.110000      0.040000   \n",
              "max        2016.000000     41.360000     28.960000     10.220000   \n",
              "\n",
              "        Other_sales  Critic_Score  \n",
              "count  16715.000000   8137.000000  \n",
              "mean       0.047342     68.967679  \n",
              "std        0.186731     13.938165  \n",
              "min        0.000000     13.000000  \n",
              "25%        0.000000     60.000000  \n",
              "50%        0.010000     71.000000  \n",
              "75%        0.030000     79.000000  \n",
              "max       10.570000     98.000000  "
            ]
          },
          "metadata": {}
        }
      ]
    },
    {
      "cell_type": "code",
      "source": "#Выведем первые 10 строк датафрейма\ndata.head(10)",
      "metadata": {},
      "execution_count": 5,
      "outputs": [
        {
          "execution_count": 5,
          "output_type": "execute_result",
          "data": {
            "text/html": [
              "<div>\n",
              "<style scoped>\n",
              "    .dataframe tbody tr th:only-of-type {\n",
              "        vertical-align: middle;\n",
              "    }\n",
              "\n",
              "    .dataframe tbody tr th {\n",
              "        vertical-align: top;\n",
              "    }\n",
              "\n",
              "    .dataframe thead th {\n",
              "        text-align: right;\n",
              "    }\n",
              "</style>\n",
              "<table border=\"1\" class=\"dataframe\">\n",
              "  <thead>\n",
              "    <tr style=\"text-align: right;\">\n",
              "      <th></th>\n",
              "      <th>Name</th>\n",
              "      <th>Platform</th>\n",
              "      <th>Year_of_Release</th>\n",
              "      <th>Genre</th>\n",
              "      <th>NA_sales</th>\n",
              "      <th>EU_sales</th>\n",
              "      <th>JP_sales</th>\n",
              "      <th>Other_sales</th>\n",
              "      <th>Critic_Score</th>\n",
              "      <th>User_Score</th>\n",
              "      <th>Rating</th>\n",
              "    </tr>\n",
              "  </thead>\n",
              "  <tbody>\n",
              "    <tr>\n",
              "      <th>0</th>\n",
              "      <td>Wii Sports</td>\n",
              "      <td>Wii</td>\n",
              "      <td>2006.0</td>\n",
              "      <td>Sports</td>\n",
              "      <td>41.36</td>\n",
              "      <td>28.96</td>\n",
              "      <td>3.77</td>\n",
              "      <td>8.45</td>\n",
              "      <td>76.0</td>\n",
              "      <td>8</td>\n",
              "      <td>E</td>\n",
              "    </tr>\n",
              "    <tr>\n",
              "      <th>1</th>\n",
              "      <td>Super Mario Bros.</td>\n",
              "      <td>NES</td>\n",
              "      <td>1985.0</td>\n",
              "      <td>Platform</td>\n",
              "      <td>29.08</td>\n",
              "      <td>3.58</td>\n",
              "      <td>6.81</td>\n",
              "      <td>0.77</td>\n",
              "      <td>NaN</td>\n",
              "      <td>NaN</td>\n",
              "      <td>NaN</td>\n",
              "    </tr>\n",
              "    <tr>\n",
              "      <th>2</th>\n",
              "      <td>Mario Kart Wii</td>\n",
              "      <td>Wii</td>\n",
              "      <td>2008.0</td>\n",
              "      <td>Racing</td>\n",
              "      <td>15.68</td>\n",
              "      <td>12.76</td>\n",
              "      <td>3.79</td>\n",
              "      <td>3.29</td>\n",
              "      <td>82.0</td>\n",
              "      <td>8.3</td>\n",
              "      <td>E</td>\n",
              "    </tr>\n",
              "    <tr>\n",
              "      <th>3</th>\n",
              "      <td>Wii Sports Resort</td>\n",
              "      <td>Wii</td>\n",
              "      <td>2009.0</td>\n",
              "      <td>Sports</td>\n",
              "      <td>15.61</td>\n",
              "      <td>10.93</td>\n",
              "      <td>3.28</td>\n",
              "      <td>2.95</td>\n",
              "      <td>80.0</td>\n",
              "      <td>8</td>\n",
              "      <td>E</td>\n",
              "    </tr>\n",
              "    <tr>\n",
              "      <th>4</th>\n",
              "      <td>Pokemon Red/Pokemon Blue</td>\n",
              "      <td>GB</td>\n",
              "      <td>1996.0</td>\n",
              "      <td>Role-Playing</td>\n",
              "      <td>11.27</td>\n",
              "      <td>8.89</td>\n",
              "      <td>10.22</td>\n",
              "      <td>1.00</td>\n",
              "      <td>NaN</td>\n",
              "      <td>NaN</td>\n",
              "      <td>NaN</td>\n",
              "    </tr>\n",
              "    <tr>\n",
              "      <th>5</th>\n",
              "      <td>Tetris</td>\n",
              "      <td>GB</td>\n",
              "      <td>1989.0</td>\n",
              "      <td>Puzzle</td>\n",
              "      <td>23.20</td>\n",
              "      <td>2.26</td>\n",
              "      <td>4.22</td>\n",
              "      <td>0.58</td>\n",
              "      <td>NaN</td>\n",
              "      <td>NaN</td>\n",
              "      <td>NaN</td>\n",
              "    </tr>\n",
              "    <tr>\n",
              "      <th>6</th>\n",
              "      <td>New Super Mario Bros.</td>\n",
              "      <td>DS</td>\n",
              "      <td>2006.0</td>\n",
              "      <td>Platform</td>\n",
              "      <td>11.28</td>\n",
              "      <td>9.14</td>\n",
              "      <td>6.50</td>\n",
              "      <td>2.88</td>\n",
              "      <td>89.0</td>\n",
              "      <td>8.5</td>\n",
              "      <td>E</td>\n",
              "    </tr>\n",
              "    <tr>\n",
              "      <th>7</th>\n",
              "      <td>Wii Play</td>\n",
              "      <td>Wii</td>\n",
              "      <td>2006.0</td>\n",
              "      <td>Misc</td>\n",
              "      <td>13.96</td>\n",
              "      <td>9.18</td>\n",
              "      <td>2.93</td>\n",
              "      <td>2.84</td>\n",
              "      <td>58.0</td>\n",
              "      <td>6.6</td>\n",
              "      <td>E</td>\n",
              "    </tr>\n",
              "    <tr>\n",
              "      <th>8</th>\n",
              "      <td>New Super Mario Bros. Wii</td>\n",
              "      <td>Wii</td>\n",
              "      <td>2009.0</td>\n",
              "      <td>Platform</td>\n",
              "      <td>14.44</td>\n",
              "      <td>6.94</td>\n",
              "      <td>4.70</td>\n",
              "      <td>2.24</td>\n",
              "      <td>87.0</td>\n",
              "      <td>8.4</td>\n",
              "      <td>E</td>\n",
              "    </tr>\n",
              "    <tr>\n",
              "      <th>9</th>\n",
              "      <td>Duck Hunt</td>\n",
              "      <td>NES</td>\n",
              "      <td>1984.0</td>\n",
              "      <td>Shooter</td>\n",
              "      <td>26.93</td>\n",
              "      <td>0.63</td>\n",
              "      <td>0.28</td>\n",
              "      <td>0.47</td>\n",
              "      <td>NaN</td>\n",
              "      <td>NaN</td>\n",
              "      <td>NaN</td>\n",
              "    </tr>\n",
              "  </tbody>\n",
              "</table>\n",
              "</div>"
            ],
            "text/plain": [
              "                        Name Platform  Year_of_Release         Genre  \\\n",
              "0                 Wii Sports      Wii           2006.0        Sports   \n",
              "1          Super Mario Bros.      NES           1985.0      Platform   \n",
              "2             Mario Kart Wii      Wii           2008.0        Racing   \n",
              "3          Wii Sports Resort      Wii           2009.0        Sports   \n",
              "4   Pokemon Red/Pokemon Blue       GB           1996.0  Role-Playing   \n",
              "5                     Tetris       GB           1989.0        Puzzle   \n",
              "6      New Super Mario Bros.       DS           2006.0      Platform   \n",
              "7                   Wii Play      Wii           2006.0          Misc   \n",
              "8  New Super Mario Bros. Wii      Wii           2009.0      Platform   \n",
              "9                  Duck Hunt      NES           1984.0       Shooter   \n",
              "\n",
              "   NA_sales  EU_sales  JP_sales  Other_sales  Critic_Score User_Score Rating  \n",
              "0     41.36     28.96      3.77         8.45          76.0          8      E  \n",
              "1     29.08      3.58      6.81         0.77           NaN        NaN    NaN  \n",
              "2     15.68     12.76      3.79         3.29          82.0        8.3      E  \n",
              "3     15.61     10.93      3.28         2.95          80.0          8      E  \n",
              "4     11.27      8.89     10.22         1.00           NaN        NaN    NaN  \n",
              "5     23.20      2.26      4.22         0.58           NaN        NaN    NaN  \n",
              "6     11.28      9.14      6.50         2.88          89.0        8.5      E  \n",
              "7     13.96      9.18      2.93         2.84          58.0        6.6      E  \n",
              "8     14.44      6.94      4.70         2.24          87.0        8.4      E  \n",
              "9     26.93      0.63      0.28         0.47           NaN        NaN    NaN  "
            ]
          },
          "metadata": {}
        }
      ]
    },
    {
      "cell_type": "code",
      "source": "#Посмотрим количество пропусков\ndata.isna().sum()",
      "metadata": {},
      "execution_count": 6,
      "outputs": [
        {
          "execution_count": 6,
          "output_type": "execute_result",
          "data": {
            "text/plain": [
              "Name                  2\n",
              "Platform              0\n",
              "Year_of_Release     269\n",
              "Genre                 2\n",
              "NA_sales              0\n",
              "EU_sales              0\n",
              "JP_sales              0\n",
              "Other_sales           0\n",
              "Critic_Score       8578\n",
              "User_Score         6701\n",
              "Rating             6766\n",
              "dtype: int64"
            ]
          },
          "metadata": {}
        }
      ]
    },
    {
      "cell_type": "code",
      "source": "#Проверим % пропусков в датасете\npd.DataFrame(round(data.isna().mean()*100,)).style.background_gradient('coolwarm')",
      "metadata": {},
      "execution_count": 7,
      "outputs": [
        {
          "execution_count": 7,
          "output_type": "execute_result",
          "data": {
            "text/html": [
              "<style  type=\"text/css\" >\n",
              "#T_596d7_row0_col0,#T_596d7_row1_col0,#T_596d7_row3_col0,#T_596d7_row4_col0,#T_596d7_row5_col0,#T_596d7_row6_col0,#T_596d7_row7_col0{\n",
              "            background-color:  #3b4cc0;\n",
              "            color:  #f1f1f1;\n",
              "        }#T_596d7_row2_col0{\n",
              "            background-color:  #465ecf;\n",
              "            color:  #f1f1f1;\n",
              "        }#T_596d7_row8_col0{\n",
              "            background-color:  #b40426;\n",
              "            color:  #f1f1f1;\n",
              "        }#T_596d7_row9_col0,#T_596d7_row10_col0{\n",
              "            background-color:  #f08b6e;\n",
              "            color:  #000000;\n",
              "        }</style><table id=\"T_596d7_\" ><thead>    <tr>        <th class=\"blank level0\" ></th>        <th class=\"col_heading level0 col0\" >0</th>    </tr></thead><tbody>\n",
              "                <tr>\n",
              "                        <th id=\"T_596d7_level0_row0\" class=\"row_heading level0 row0\" >Name</th>\n",
              "                        <td id=\"T_596d7_row0_col0\" class=\"data row0 col0\" >0.000000</td>\n",
              "            </tr>\n",
              "            <tr>\n",
              "                        <th id=\"T_596d7_level0_row1\" class=\"row_heading level0 row1\" >Platform</th>\n",
              "                        <td id=\"T_596d7_row1_col0\" class=\"data row1 col0\" >0.000000</td>\n",
              "            </tr>\n",
              "            <tr>\n",
              "                        <th id=\"T_596d7_level0_row2\" class=\"row_heading level0 row2\" >Year_of_Release</th>\n",
              "                        <td id=\"T_596d7_row2_col0\" class=\"data row2 col0\" >2.000000</td>\n",
              "            </tr>\n",
              "            <tr>\n",
              "                        <th id=\"T_596d7_level0_row3\" class=\"row_heading level0 row3\" >Genre</th>\n",
              "                        <td id=\"T_596d7_row3_col0\" class=\"data row3 col0\" >0.000000</td>\n",
              "            </tr>\n",
              "            <tr>\n",
              "                        <th id=\"T_596d7_level0_row4\" class=\"row_heading level0 row4\" >NA_sales</th>\n",
              "                        <td id=\"T_596d7_row4_col0\" class=\"data row4 col0\" >0.000000</td>\n",
              "            </tr>\n",
              "            <tr>\n",
              "                        <th id=\"T_596d7_level0_row5\" class=\"row_heading level0 row5\" >EU_sales</th>\n",
              "                        <td id=\"T_596d7_row5_col0\" class=\"data row5 col0\" >0.000000</td>\n",
              "            </tr>\n",
              "            <tr>\n",
              "                        <th id=\"T_596d7_level0_row6\" class=\"row_heading level0 row6\" >JP_sales</th>\n",
              "                        <td id=\"T_596d7_row6_col0\" class=\"data row6 col0\" >0.000000</td>\n",
              "            </tr>\n",
              "            <tr>\n",
              "                        <th id=\"T_596d7_level0_row7\" class=\"row_heading level0 row7\" >Other_sales</th>\n",
              "                        <td id=\"T_596d7_row7_col0\" class=\"data row7 col0\" >0.000000</td>\n",
              "            </tr>\n",
              "            <tr>\n",
              "                        <th id=\"T_596d7_level0_row8\" class=\"row_heading level0 row8\" >Critic_Score</th>\n",
              "                        <td id=\"T_596d7_row8_col0\" class=\"data row8 col0\" >51.000000</td>\n",
              "            </tr>\n",
              "            <tr>\n",
              "                        <th id=\"T_596d7_level0_row9\" class=\"row_heading level0 row9\" >User_Score</th>\n",
              "                        <td id=\"T_596d7_row9_col0\" class=\"data row9 col0\" >40.000000</td>\n",
              "            </tr>\n",
              "            <tr>\n",
              "                        <th id=\"T_596d7_level0_row10\" class=\"row_heading level0 row10\" >Rating</th>\n",
              "                        <td id=\"T_596d7_row10_col0\" class=\"data row10 col0\" >40.000000</td>\n",
              "            </tr>\n",
              "    </tbody></table>"
            ],
            "text/plain": [
              "<pandas.io.formats.style.Styler at 0x7f4c88313820>"
            ]
          },
          "metadata": {}
        }
      ]
    },
    {
      "cell_type": "markdown",
      "source": "**Вывод:** \nВ столбцах Critic_Score, User_Score, Rating очень много пропусков. В столбцах Name, Year_of_Release пропусков практически нет, от строк с пропущенными значениями в этих столбцах можно избавиться. Названия столбцов указаны с использованием разных регистров одновременно. Типы данных в столбцах Year_of_Release, User_Score не соответствуют значениям в этих столбцах.  \nПропуски в столбцах Critic_Score, User_Score могут быть связаны с тем, что раньше не практиковалось оценивать игры, соответственно и некоторых оценок в столбцах нет. Заменить пропуски медианой или средним было бы неправильно, т.к. есть вероятность поставить хорошую оценку плохой игре и наоборот. К тому же, результаты исследования могут из-за этого исказиться. Поэтому пропуски лучше заменить на '-1', чтобы данные по ним не попали в выборку с другими значениями.  \nПропуски в столбце Rating скорее всего связаны с тем, что ESRB образовалась позже, чем были созданы игры, данные по которым есть в датафрейме. Заменим пропуски на 'without_esrb'.\nИсходя из полученной информации, нам нужно обработать данные, прежде чем работать с ними:  \n* Привести в нижний регистр названия столбцов датафрейма\n* Изменить тип значений столбца Year_of_Release на int\n* Изменить тип значений столбца User_Score на float\n* Удалить строки с пропусками в столбцах Name, Year_of_Release, т.к. % пропусков не превышает 5%\n* Заменить пропуски в столбцах Critic_Score, User_Score на '-1'\n* Заменить тип значений столбца Critic_Score на int\n* Заменить пропуски в столбце Rating на 'without_esrb'",
      "metadata": {}
    },
    {
      "cell_type": "markdown",
      "source": "# Шаг 2. Подготовим данные. Проведём предобработку",
      "metadata": {}
    },
    {
      "cell_type": "code",
      "source": "#Приведём названия столбцов к нижнему регистру\ndata.columns = data.columns.str.lower()",
      "metadata": {},
      "execution_count": 8,
      "outputs": []
    },
    {
      "cell_type": "code",
      "source": "#Проверим результат\ndata.head()",
      "metadata": {},
      "execution_count": 9,
      "outputs": [
        {
          "execution_count": 9,
          "output_type": "execute_result",
          "data": {
            "text/html": [
              "<div>\n",
              "<style scoped>\n",
              "    .dataframe tbody tr th:only-of-type {\n",
              "        vertical-align: middle;\n",
              "    }\n",
              "\n",
              "    .dataframe tbody tr th {\n",
              "        vertical-align: top;\n",
              "    }\n",
              "\n",
              "    .dataframe thead th {\n",
              "        text-align: right;\n",
              "    }\n",
              "</style>\n",
              "<table border=\"1\" class=\"dataframe\">\n",
              "  <thead>\n",
              "    <tr style=\"text-align: right;\">\n",
              "      <th></th>\n",
              "      <th>name</th>\n",
              "      <th>platform</th>\n",
              "      <th>year_of_release</th>\n",
              "      <th>genre</th>\n",
              "      <th>na_sales</th>\n",
              "      <th>eu_sales</th>\n",
              "      <th>jp_sales</th>\n",
              "      <th>other_sales</th>\n",
              "      <th>critic_score</th>\n",
              "      <th>user_score</th>\n",
              "      <th>rating</th>\n",
              "    </tr>\n",
              "  </thead>\n",
              "  <tbody>\n",
              "    <tr>\n",
              "      <th>0</th>\n",
              "      <td>Wii Sports</td>\n",
              "      <td>Wii</td>\n",
              "      <td>2006.0</td>\n",
              "      <td>Sports</td>\n",
              "      <td>41.36</td>\n",
              "      <td>28.96</td>\n",
              "      <td>3.77</td>\n",
              "      <td>8.45</td>\n",
              "      <td>76.0</td>\n",
              "      <td>8</td>\n",
              "      <td>E</td>\n",
              "    </tr>\n",
              "    <tr>\n",
              "      <th>1</th>\n",
              "      <td>Super Mario Bros.</td>\n",
              "      <td>NES</td>\n",
              "      <td>1985.0</td>\n",
              "      <td>Platform</td>\n",
              "      <td>29.08</td>\n",
              "      <td>3.58</td>\n",
              "      <td>6.81</td>\n",
              "      <td>0.77</td>\n",
              "      <td>NaN</td>\n",
              "      <td>NaN</td>\n",
              "      <td>NaN</td>\n",
              "    </tr>\n",
              "    <tr>\n",
              "      <th>2</th>\n",
              "      <td>Mario Kart Wii</td>\n",
              "      <td>Wii</td>\n",
              "      <td>2008.0</td>\n",
              "      <td>Racing</td>\n",
              "      <td>15.68</td>\n",
              "      <td>12.76</td>\n",
              "      <td>3.79</td>\n",
              "      <td>3.29</td>\n",
              "      <td>82.0</td>\n",
              "      <td>8.3</td>\n",
              "      <td>E</td>\n",
              "    </tr>\n",
              "    <tr>\n",
              "      <th>3</th>\n",
              "      <td>Wii Sports Resort</td>\n",
              "      <td>Wii</td>\n",
              "      <td>2009.0</td>\n",
              "      <td>Sports</td>\n",
              "      <td>15.61</td>\n",
              "      <td>10.93</td>\n",
              "      <td>3.28</td>\n",
              "      <td>2.95</td>\n",
              "      <td>80.0</td>\n",
              "      <td>8</td>\n",
              "      <td>E</td>\n",
              "    </tr>\n",
              "    <tr>\n",
              "      <th>4</th>\n",
              "      <td>Pokemon Red/Pokemon Blue</td>\n",
              "      <td>GB</td>\n",
              "      <td>1996.0</td>\n",
              "      <td>Role-Playing</td>\n",
              "      <td>11.27</td>\n",
              "      <td>8.89</td>\n",
              "      <td>10.22</td>\n",
              "      <td>1.00</td>\n",
              "      <td>NaN</td>\n",
              "      <td>NaN</td>\n",
              "      <td>NaN</td>\n",
              "    </tr>\n",
              "  </tbody>\n",
              "</table>\n",
              "</div>"
            ],
            "text/plain": [
              "                       name platform  year_of_release         genre  na_sales  \\\n",
              "0                Wii Sports      Wii           2006.0        Sports     41.36   \n",
              "1         Super Mario Bros.      NES           1985.0      Platform     29.08   \n",
              "2            Mario Kart Wii      Wii           2008.0        Racing     15.68   \n",
              "3         Wii Sports Resort      Wii           2009.0        Sports     15.61   \n",
              "4  Pokemon Red/Pokemon Blue       GB           1996.0  Role-Playing     11.27   \n",
              "\n",
              "   eu_sales  jp_sales  other_sales  critic_score user_score rating  \n",
              "0     28.96      3.77         8.45          76.0          8      E  \n",
              "1      3.58      6.81         0.77           NaN        NaN    NaN  \n",
              "2     12.76      3.79         3.29          82.0        8.3      E  \n",
              "3     10.93      3.28         2.95          80.0          8      E  \n",
              "4      8.89     10.22         1.00           NaN        NaN    NaN  "
            ]
          },
          "metadata": {}
        }
      ]
    },
    {
      "cell_type": "code",
      "source": "#Посмотрим уникальные значения столбца year_of_release\ndata['year_of_release'].unique()",
      "metadata": {},
      "execution_count": 10,
      "outputs": [
        {
          "execution_count": 10,
          "output_type": "execute_result",
          "data": {
            "text/plain": [
              "array([2006., 1985., 2008., 2009., 1996., 1989., 1984., 2005., 1999.,\n",
              "       2007., 2010., 2013., 2004., 1990., 1988., 2002., 2001., 2011.,\n",
              "       1998., 2015., 2012., 2014., 1992., 1997., 1993., 1994., 1982.,\n",
              "       2016., 2003., 1986., 2000.,   nan, 1995., 1991., 1981., 1987.,\n",
              "       1980., 1983.])"
            ]
          },
          "metadata": {}
        }
      ]
    },
    {
      "cell_type": "code",
      "source": "#Удалим строки с пропусками в столбцах year_of_release, name\ndata.dropna(subset=['name'], inplace=True)\ndata.dropna(subset=['year_of_release'], inplace=True)",
      "metadata": {},
      "execution_count": 11,
      "outputs": []
    },
    {
      "cell_type": "code",
      "source": "#Проверим результат\nprint(data['name'].isna().sum())\ndata['year_of_release'].isna().sum()",
      "metadata": {},
      "execution_count": 12,
      "outputs": [
        {
          "name": "stdout",
          "output_type": "stream",
          "text": "0\n"
        },
        {
          "execution_count": 12,
          "output_type": "execute_result",
          "data": {
            "text/plain": [
              "0"
            ]
          },
          "metadata": {}
        }
      ]
    },
    {
      "cell_type": "code",
      "source": "#Изменим тип значений столбца year_of_release на int\ndata['year_of_release'] = data['year_of_release'].astype(int)",
      "metadata": {},
      "execution_count": 13,
      "outputs": []
    },
    {
      "cell_type": "code",
      "source": "#Проверим изменения\ndata['year_of_release'].unique()",
      "metadata": {},
      "execution_count": 14,
      "outputs": [
        {
          "execution_count": 14,
          "output_type": "execute_result",
          "data": {
            "text/plain": [
              "array([2006, 1985, 2008, 2009, 1996, 1989, 1984, 2005, 1999, 2007, 2010,\n",
              "       2013, 2004, 1990, 1988, 2002, 2001, 2011, 1998, 2015, 2012, 2014,\n",
              "       1992, 1997, 1993, 1994, 1982, 2016, 2003, 1986, 2000, 1995, 1991,\n",
              "       1981, 1987, 1980, 1983])"
            ]
          },
          "metadata": {}
        }
      ]
    },
    {
      "cell_type": "code",
      "source": "#Посмотрим уникальные значения столбца user_score\ndata['user_score'].unique()",
      "metadata": {},
      "execution_count": 15,
      "outputs": [
        {
          "execution_count": 15,
          "output_type": "execute_result",
          "data": {
            "text/plain": [
              "array(['8', nan, '8.3', '8.5', '6.6', '8.4', '8.6', '7.7', '6.3', '7.4',\n",
              "       '8.2', '9', '7.9', '8.1', '8.7', '7.1', '3.4', '5.3', '4.8', '3.2',\n",
              "       '8.9', '6.4', '7.8', '7.5', '2.6', '7.2', '9.2', '7', '7.3', '4.3',\n",
              "       '7.6', '5.7', '5', '9.1', '6.5', 'tbd', '8.8', '6.9', '9.4', '6.8',\n",
              "       '6.1', '6.7', '5.4', '4', '4.9', '4.5', '9.3', '6.2', '4.2', '6',\n",
              "       '3.7', '4.1', '5.8', '5.6', '5.5', '4.4', '4.6', '5.9', '3.9',\n",
              "       '3.1', '2.9', '5.2', '3.3', '4.7', '5.1', '3.5', '2.5', '1.9', '3',\n",
              "       '2.7', '2.2', '2', '9.5', '2.1', '3.6', '2.8', '1.8', '3.8', '0',\n",
              "       '1.6', '9.6', '2.4', '1.7', '1.1', '0.3', '1.5', '0.7', '1.2',\n",
              "       '2.3', '0.5', '1.3', '0.2', '0.6', '1.4', '0.9', '1', '9.7'],\n",
              "      dtype=object)"
            ]
          },
          "metadata": {}
        }
      ]
    },
    {
      "cell_type": "markdown",
      "source": "Кроме nan и цифровых значений, в столбце присутствует значение 'tbd'. Судя по расшифровке с сайта https://mobilradio.ru/information/vocabulary/tbd.htm: \"TBD - аббревиатура от английского To Be Determined (будет определено) или To Be Decided (будет решено). Используется, если какая-то информация еще не определена или решение по вопросу не принято. Акроним служит для отметки неясностей или пропусков, которые надо заполнить, в информации требований.\" Т.е., tbd - это то же пропуски, как и nan, поэтому заменим tbd на '-1'.",
      "metadata": {}
    },
    {
      "cell_type": "code",
      "source": "#Заменим значение 'tbd' и 'nan' на '-1'\nrow = data['user_score'] == 'tbd'\ndata.loc[row, ['user_score']] = -1\ndata['user_score'] = data['user_score'].fillna(-1)",
      "metadata": {},
      "execution_count": 16,
      "outputs": []
    },
    {
      "cell_type": "code",
      "source": "#Проверим результат\nprint(data['user_score'].isna().sum())\ndata['user_score'].unique()",
      "metadata": {},
      "execution_count": 54,
      "outputs": [
        {
          "name": "stdout",
          "output_type": "stream",
          "text": "0\n"
        },
        {
          "execution_count": 54,
          "output_type": "execute_result",
          "data": {
            "text/plain": [
              "array([ 8. , -1. ,  8.3,  8.5,  6.6,  8.4,  8.6,  7.7,  6.3,  7.4,  8.2,\n",
              "        9. ,  7.9,  8.1,  8.7,  7.1,  3.4,  5.3,  4.8,  3.2,  8.9,  6.4,\n",
              "        7.8,  7.5,  2.6,  7.2,  9.2,  7. ,  7.3,  4.3,  7.6,  5.7,  5. ,\n",
              "        9.1,  6.5,  8.8,  6.9,  9.4,  6.8,  6.1,  6.7,  5.4,  4. ,  4.9,\n",
              "        4.5,  9.3,  6.2,  4.2,  6. ,  3.7,  4.1,  5.8,  5.6,  5.5,  4.4,\n",
              "        4.6,  5.9,  3.9,  3.1,  2.9,  5.2,  3.3,  4.7,  5.1,  3.5,  2.5,\n",
              "        1.9,  3. ,  2.7,  2.2,  2. ,  9.5,  2.1,  3.6,  2.8,  1.8,  3.8,\n",
              "        0. ,  1.6,  9.6,  2.4,  1.7,  1.1,  0.3,  1.5,  0.7,  1.2,  2.3,\n",
              "        0.5,  1.3,  0.2,  0.6,  1.4,  0.9,  1. ,  9.7])"
            ]
          },
          "metadata": {}
        }
      ]
    },
    {
      "cell_type": "code",
      "source": "#Изменим тип данных столбца user_score на float\ndata['user_score'] = data['user_score'].astype(float)",
      "metadata": {},
      "execution_count": 18,
      "outputs": []
    },
    {
      "cell_type": "code",
      "source": "#Посмотрим уникальные значения столбца critic_score\ndata['critic_score'].unique()",
      "metadata": {},
      "execution_count": 19,
      "outputs": [
        {
          "execution_count": 19,
          "output_type": "execute_result",
          "data": {
            "text/plain": [
              "array([76., nan, 82., 80., 89., 58., 87., 91., 61., 97., 95., 77., 88.,\n",
              "       83., 94., 93., 85., 86., 98., 96., 90., 84., 73., 74., 78., 92.,\n",
              "       71., 72., 68., 62., 49., 67., 81., 66., 56., 79., 70., 59., 64.,\n",
              "       75., 60., 63., 69., 50., 25., 42., 44., 55., 48., 57., 29., 47.,\n",
              "       65., 54., 20., 53., 37., 38., 33., 52., 30., 32., 43., 45., 51.,\n",
              "       40., 46., 39., 34., 41., 36., 31., 27., 35., 26., 19., 28., 23.,\n",
              "       24., 21., 17., 13.])"
            ]
          },
          "metadata": {}
        }
      ]
    },
    {
      "cell_type": "markdown",
      "source": "Все значения целые, можно заменить тип столбца на int",
      "metadata": {}
    },
    {
      "cell_type": "code",
      "source": "#Заменим пропуски в столбце critic_score на '-1'\ndata['critic_score'] = data['critic_score'].fillna(-1)",
      "metadata": {},
      "execution_count": 20,
      "outputs": []
    },
    {
      "cell_type": "code",
      "source": "#Проверим результат\ndata['critic_score'].isna().sum()",
      "metadata": {},
      "execution_count": 21,
      "outputs": [
        {
          "execution_count": 21,
          "output_type": "execute_result",
          "data": {
            "text/plain": [
              "0"
            ]
          },
          "metadata": {}
        }
      ]
    },
    {
      "cell_type": "code",
      "source": "#Заменим пропуски в столбце rating на 'without_esrb'\ndata['rating'] = data['rating'].fillna('without_esrb')",
      "metadata": {},
      "execution_count": 23,
      "outputs": []
    },
    {
      "cell_type": "code",
      "source": "#Проверим результат\ndata['rating'].isna().sum()",
      "metadata": {},
      "execution_count": 24,
      "outputs": [
        {
          "execution_count": 24,
          "output_type": "execute_result",
          "data": {
            "text/plain": [
              "0"
            ]
          },
          "metadata": {}
        }
      ]
    },
    {
      "cell_type": "code",
      "source": "#Посчитаем суммарные продажи во всех регионах и запишем их в отдельный столбец\ndata['all_sales'] = data['na_sales'] + data['eu_sales'] + data['jp_sales']",
      "metadata": {},
      "execution_count": 25,
      "outputs": []
    },
    {
      "cell_type": "code",
      "source": "#Выведем информацию по датафрейму\ndata.info()",
      "metadata": {},
      "execution_count": 26,
      "outputs": [
        {
          "name": "stdout",
          "output_type": "stream",
          "text": "<class 'pandas.core.frame.DataFrame'>\n\nInt64Index: 16444 entries, 0 to 16714\n\nData columns (total 12 columns):\n\n #   Column           Non-Null Count  Dtype  \n\n---  ------           --------------  -----  \n\n 0   name             16444 non-null  object \n\n 1   platform         16444 non-null  object \n\n 2   year_of_release  16444 non-null  int64  \n\n 3   genre            16444 non-null  object \n\n 4   na_sales         16444 non-null  float64\n\n 5   eu_sales         16444 non-null  float64\n\n 6   jp_sales         16444 non-null  float64\n\n 7   other_sales      16444 non-null  float64\n\n 8   critic_score     16444 non-null  float64\n\n 9   user_score       16444 non-null  float64\n\n 10  rating           16444 non-null  object \n\n 11  all_sales        16444 non-null  float64\n\ndtypes: float64(7), int64(1), object(4)\n\nmemory usage: 1.6+ MB\n"
        }
      ]
    },
    {
      "cell_type": "markdown",
      "source": "**Вывод:**  \nПредобработка данных произведена:\n* Заменены пропуски\n* Удалены строки с малым количеством пропусков в столбцах\n* Заменены типы данных столбцов там, где это было необходимо\n* В датафрейм добавлен столбец с общей суммой продаж по всем регионам \n  \nПосле предобработки в данных нет пропусков, можно проводить исследовательский анализ",
      "metadata": {}
    },
    {
      "cell_type": "markdown",
      "source": "# Шаг 3. Проведём исследовательский анализ данных",
      "metadata": {}
    },
    {
      "cell_type": "markdown",
      "source": "**Анализ игр**",
      "metadata": {}
    },
    {
      "cell_type": "code",
      "source": "#Посмотрим, сколько игр выпускалось в разные годы.\nrel = data.pivot_table(index='year_of_release', values='all_sales', aggfunc='count')\nrel.columns = ['count']\nrel",
      "metadata": {},
      "execution_count": 27,
      "outputs": [
        {
          "execution_count": 27,
          "output_type": "execute_result",
          "data": {
            "text/html": [
              "<div>\n",
              "<style scoped>\n",
              "    .dataframe tbody tr th:only-of-type {\n",
              "        vertical-align: middle;\n",
              "    }\n",
              "\n",
              "    .dataframe tbody tr th {\n",
              "        vertical-align: top;\n",
              "    }\n",
              "\n",
              "    .dataframe thead th {\n",
              "        text-align: right;\n",
              "    }\n",
              "</style>\n",
              "<table border=\"1\" class=\"dataframe\">\n",
              "  <thead>\n",
              "    <tr style=\"text-align: right;\">\n",
              "      <th></th>\n",
              "      <th>count</th>\n",
              "    </tr>\n",
              "    <tr>\n",
              "      <th>year_of_release</th>\n",
              "      <th></th>\n",
              "    </tr>\n",
              "  </thead>\n",
              "  <tbody>\n",
              "    <tr>\n",
              "      <th>1980</th>\n",
              "      <td>9</td>\n",
              "    </tr>\n",
              "    <tr>\n",
              "      <th>1981</th>\n",
              "      <td>46</td>\n",
              "    </tr>\n",
              "    <tr>\n",
              "      <th>1982</th>\n",
              "      <td>36</td>\n",
              "    </tr>\n",
              "    <tr>\n",
              "      <th>1983</th>\n",
              "      <td>17</td>\n",
              "    </tr>\n",
              "    <tr>\n",
              "      <th>1984</th>\n",
              "      <td>14</td>\n",
              "    </tr>\n",
              "    <tr>\n",
              "      <th>1985</th>\n",
              "      <td>14</td>\n",
              "    </tr>\n",
              "    <tr>\n",
              "      <th>1986</th>\n",
              "      <td>21</td>\n",
              "    </tr>\n",
              "    <tr>\n",
              "      <th>1987</th>\n",
              "      <td>16</td>\n",
              "    </tr>\n",
              "    <tr>\n",
              "      <th>1988</th>\n",
              "      <td>15</td>\n",
              "    </tr>\n",
              "    <tr>\n",
              "      <th>1989</th>\n",
              "      <td>17</td>\n",
              "    </tr>\n",
              "    <tr>\n",
              "      <th>1990</th>\n",
              "      <td>16</td>\n",
              "    </tr>\n",
              "    <tr>\n",
              "      <th>1991</th>\n",
              "      <td>41</td>\n",
              "    </tr>\n",
              "    <tr>\n",
              "      <th>1992</th>\n",
              "      <td>43</td>\n",
              "    </tr>\n",
              "    <tr>\n",
              "      <th>1993</th>\n",
              "      <td>60</td>\n",
              "    </tr>\n",
              "    <tr>\n",
              "      <th>1994</th>\n",
              "      <td>121</td>\n",
              "    </tr>\n",
              "    <tr>\n",
              "      <th>1995</th>\n",
              "      <td>219</td>\n",
              "    </tr>\n",
              "    <tr>\n",
              "      <th>1996</th>\n",
              "      <td>263</td>\n",
              "    </tr>\n",
              "    <tr>\n",
              "      <th>1997</th>\n",
              "      <td>289</td>\n",
              "    </tr>\n",
              "    <tr>\n",
              "      <th>1998</th>\n",
              "      <td>379</td>\n",
              "    </tr>\n",
              "    <tr>\n",
              "      <th>1999</th>\n",
              "      <td>338</td>\n",
              "    </tr>\n",
              "    <tr>\n",
              "      <th>2000</th>\n",
              "      <td>350</td>\n",
              "    </tr>\n",
              "    <tr>\n",
              "      <th>2001</th>\n",
              "      <td>482</td>\n",
              "    </tr>\n",
              "    <tr>\n",
              "      <th>2002</th>\n",
              "      <td>829</td>\n",
              "    </tr>\n",
              "    <tr>\n",
              "      <th>2003</th>\n",
              "      <td>775</td>\n",
              "    </tr>\n",
              "    <tr>\n",
              "      <th>2004</th>\n",
              "      <td>762</td>\n",
              "    </tr>\n",
              "    <tr>\n",
              "      <th>2005</th>\n",
              "      <td>939</td>\n",
              "    </tr>\n",
              "    <tr>\n",
              "      <th>2006</th>\n",
              "      <td>1006</td>\n",
              "    </tr>\n",
              "    <tr>\n",
              "      <th>2007</th>\n",
              "      <td>1197</td>\n",
              "    </tr>\n",
              "    <tr>\n",
              "      <th>2008</th>\n",
              "      <td>1427</td>\n",
              "    </tr>\n",
              "    <tr>\n",
              "      <th>2009</th>\n",
              "      <td>1426</td>\n",
              "    </tr>\n",
              "    <tr>\n",
              "      <th>2010</th>\n",
              "      <td>1255</td>\n",
              "    </tr>\n",
              "    <tr>\n",
              "      <th>2011</th>\n",
              "      <td>1136</td>\n",
              "    </tr>\n",
              "    <tr>\n",
              "      <th>2012</th>\n",
              "      <td>653</td>\n",
              "    </tr>\n",
              "    <tr>\n",
              "      <th>2013</th>\n",
              "      <td>544</td>\n",
              "    </tr>\n",
              "    <tr>\n",
              "      <th>2014</th>\n",
              "      <td>581</td>\n",
              "    </tr>\n",
              "    <tr>\n",
              "      <th>2015</th>\n",
              "      <td>606</td>\n",
              "    </tr>\n",
              "    <tr>\n",
              "      <th>2016</th>\n",
              "      <td>502</td>\n",
              "    </tr>\n",
              "  </tbody>\n",
              "</table>\n",
              "</div>"
            ],
            "text/plain": [
              "                 count\n",
              "year_of_release       \n",
              "1980                 9\n",
              "1981                46\n",
              "1982                36\n",
              "1983                17\n",
              "1984                14\n",
              "1985                14\n",
              "1986                21\n",
              "1987                16\n",
              "1988                15\n",
              "1989                17\n",
              "1990                16\n",
              "1991                41\n",
              "1992                43\n",
              "1993                60\n",
              "1994               121\n",
              "1995               219\n",
              "1996               263\n",
              "1997               289\n",
              "1998               379\n",
              "1999               338\n",
              "2000               350\n",
              "2001               482\n",
              "2002               829\n",
              "2003               775\n",
              "2004               762\n",
              "2005               939\n",
              "2006              1006\n",
              "2007              1197\n",
              "2008              1427\n",
              "2009              1426\n",
              "2010              1255\n",
              "2011              1136\n",
              "2012               653\n",
              "2013               544\n",
              "2014               581\n",
              "2015               606\n",
              "2016               502"
            ]
          },
          "metadata": {}
        }
      ]
    },
    {
      "cell_type": "code",
      "source": "#Построим график\nplt.subplots(figsize=(22, 8))\nsns.barplot(data=rel, x=rel.index, y=rel['count'])\nplt.title('График выпущенных игр в разные годы')\nplt.show()",
      "metadata": {},
      "execution_count": 28,
      "outputs": [
        {
          "output_type": "display_data",
          "data": {
            "image/png": "[encoded data removed]",
            "text/plain": [
              "<Figure size 1584x576 with 1 Axes>"
            ]
          },
          "metadata": {
            "needs_background": "light"
          }
        }
      ]
    },
    {
      "cell_type": "markdown",
      "source": "**Вывод по графику:**  \nДо 1994 года игр было очень мало. Потом количество начало постепенно расти. Наибольшее число игр было с 2007 по 2011 годы. Скорее всего, это связано с тем, что с развитием техники начала развиваться и игровая индустрия. После 2011 года произошёл спад игр, возможно из-за того, что рынок стал перенасыщен или игры стали не настолько интересными как это было раньше.  \n  \nВажными для нас данными будут значения с 2011 года по 2016 год включительно, т.к., выбрав более ранние годы в качестве начала актуального для нас периода, мы можем захватить непопулярные уже платформы для игр, которые были на пике в нулевых, а сейчас уже не использутся.",
      "metadata": {}
    },
    {
      "cell_type": "markdown",
      "source": "**Анализ платформ**",
      "metadata": {}
    },
    {
      "cell_type": "code",
      "source": "#Посмотрим, за какой характерный срок появляются новые и исчезают старые платформы\n#Выберем весь период с 1980 года по 2016 год, т.к. с 2011 по 2016 года появлялось и исчезало не так много платформ \n#Для анализа будет достаточно 10 платформ\ndis_and_appear_platforms = (data[(data['year_of_release']<2017)&(data['year_of_release']>1979)]\n                          .groupby('platform')[['all_sales']]\n                          .sum())\ndis_and_appear_platforms.sort_values(by = 'all_sales',ascending = False).head(10)\n#Переведём top_platforms в список\ndis_and_appear_platforms_list = dis_and_appear_platforms.sort_values(by = 'all_sales',ascending = False).head(10).index.to_list()\n#Составим таблицу по продажам десяти самых прибыльных платформ\ndis_sale_platforms = data.pivot_table(index=['year_of_release'], values=['all_sales'], columns='platform', aggfunc='sum', fill_value=0)\n#dis_sale_platforms = dis_sale_platforms[(dis_sale_platforms.index<2017)&(dis_sale_platforms.index>1993)]\ndis_sale_platforms = dis_sale_platforms.droplevel(None, axis=1)\ndis_sale_platforms = dis_sale_platforms[dis_and_appear_platforms_list]\n#Построим график распределения платформ с наибольшими продажами по годам\nsns.set(rc={'figure.figsize':(15,8.27)})\nsns.set_palette('Paired')\nsns.set_style(\"darkgrid\")\ndis_sale_platforms.plot.area(alpha=0.55, linewidth = 0.01)\nplt.title('График продаж по платформам за 1980-2016 года')\nplt.xlabel('Год')\nplt.ylabel('Объем продаж (млн.)')\nplt.legend(loc='upper right')\nplt.show()",
      "metadata": {},
      "execution_count": 29,
      "outputs": [
        {
          "output_type": "display_data",
          "data": {
            "image/png": "[encoded data removed]",
            "text/plain": [
              "<Figure size 1080x595.44 with 1 Axes>"
            ]
          },
          "metadata": {}
        }
      ]
    },
    {
      "cell_type": "markdown",
      "source": "**Вывод:**  \nСудя по графику, платформы живут примерно 10 лет. Наибольшая продаваемость происходила через 4-5 лет после появления платформы. Так что в 2017 году нужно обращать внимание на платформы, появившиеся в 2012-2013 годах. Учитывая, что данные за 2016 год неполные, у доживших до 2016 года платформ, показатели могут быть выше, что будет оначать рост продаж этих платформ.",
      "metadata": {}
    },
    {
      "cell_type": "code",
      "source": "#Посмотрим на топ платформ по продажам за 2013-2016 года\n#Ограничимся 10-ю платформами\ntop_platforms = (data[(data['year_of_release']<2017)&(data['year_of_release']>2012)]\n                         .groupby('platform')[['all_sales']]\n                         .sum())\ntop_platforms.sort_values(by = 'all_sales',ascending = False).head(10)",
      "metadata": {},
      "execution_count": 30,
      "outputs": [
        {
          "execution_count": 30,
          "output_type": "execute_result",
          "data": {
            "text/html": [
              "<div>\n",
              "<style scoped>\n",
              "    .dataframe tbody tr th:only-of-type {\n",
              "        vertical-align: middle;\n",
              "    }\n",
              "\n",
              "    .dataframe tbody tr th {\n",
              "        vertical-align: top;\n",
              "    }\n",
              "\n",
              "    .dataframe thead th {\n",
              "        text-align: right;\n",
              "    }\n",
              "</style>\n",
              "<table border=\"1\" class=\"dataframe\">\n",
              "  <thead>\n",
              "    <tr style=\"text-align: right;\">\n",
              "      <th></th>\n",
              "      <th>all_sales</th>\n",
              "    </tr>\n",
              "    <tr>\n",
              "      <th>platform</th>\n",
              "      <th></th>\n",
              "    </tr>\n",
              "  </thead>\n",
              "  <tbody>\n",
              "    <tr>\n",
              "      <th>PS4</th>\n",
              "      <td>265.79</td>\n",
              "    </tr>\n",
              "    <tr>\n",
              "      <th>PS3</th>\n",
              "      <td>154.66</td>\n",
              "    </tr>\n",
              "    <tr>\n",
              "      <th>XOne</th>\n",
              "      <td>145.05</td>\n",
              "    </tr>\n",
              "    <tr>\n",
              "      <th>3DS</th>\n",
              "      <td>136.97</td>\n",
              "    </tr>\n",
              "    <tr>\n",
              "      <th>X360</th>\n",
              "      <td>124.69</td>\n",
              "    </tr>\n",
              "    <tr>\n",
              "      <th>WiiU</th>\n",
              "      <td>59.94</td>\n",
              "    </tr>\n",
              "    <tr>\n",
              "      <th>PC</th>\n",
              "      <td>36.47</td>\n",
              "    </tr>\n",
              "    <tr>\n",
              "      <th>PSV</th>\n",
              "      <td>29.73</td>\n",
              "    </tr>\n",
              "    <tr>\n",
              "      <th>Wii</th>\n",
              "      <td>12.54</td>\n",
              "    </tr>\n",
              "    <tr>\n",
              "      <th>PSP</th>\n",
              "      <td>3.46</td>\n",
              "    </tr>\n",
              "  </tbody>\n",
              "</table>\n",
              "</div>"
            ],
            "text/plain": [
              "          all_sales\n",
              "platform           \n",
              "PS4          265.79\n",
              "PS3          154.66\n",
              "XOne         145.05\n",
              "3DS          136.97\n",
              "X360         124.69\n",
              "WiiU          59.94\n",
              "PC            36.47\n",
              "PSV           29.73\n",
              "Wii           12.54\n",
              "PSP            3.46"
            ]
          },
          "metadata": {}
        }
      ]
    },
    {
      "cell_type": "code",
      "source": "#Переведём top_platforms в список\ntop_platforms_list = top_platforms.sort_values(by = 'all_sales',ascending = False).head(15).index.to_list()",
      "metadata": {},
      "execution_count": 31,
      "outputs": []
    },
    {
      "cell_type": "code",
      "source": "#Составим таблицу по продажам десяти самых прибыльных платформ\nsale_platforms = data.pivot_table(index=['year_of_release'], values=['all_sales'], columns='platform', aggfunc='sum', fill_value=0)\nsale_platforms = sale_platforms[(sale_platforms.index<2017)&(sale_platforms.index>2012)]\nsale_platforms = sale_platforms.droplevel(None, axis=1)\nsale_platforms = sale_platforms[top_platforms_list]",
      "metadata": {},
      "execution_count": 32,
      "outputs": []
    },
    {
      "cell_type": "code",
      "source": "#Построим график распределения платформ с наибольшими продажами по годам\nsns.set(rc={'figure.figsize':(15,8.27)})\nsns.set_palette('Paired')\nsns.set_style(\"darkgrid\")\nsale_platforms.plot.area(alpha=0.55, linewidth = 0.01)\nplt.title('График продаж по платформам в разные годы')\nplt.xlabel('Год')\nplt.ylabel('Объем продаж (млн.)')\nplt.legend(loc='upper right')\nplt.show()",
      "metadata": {},
      "execution_count": 33,
      "outputs": [
        {
          "output_type": "display_data",
          "data": {
            "image/png": "[encoded data removed]",
            "text/plain": [
              "<Figure size 1080x595.44 with 1 Axes>"
            ]
          },
          "metadata": {}
        }
      ]
    },
    {
      "cell_type": "markdown",
      "source": "**Вывод:**  \nЛидерами по продажам являются PS4, PS3, X360, 3DS, XOne. Судя по графику, растут продажи PS4, т.к. она недавно вышла и пока ещё на пике популярности. РС может подняться в 2017, учитывая её склонность к чередованию взлётов-падений. Wii, DS и PSP изжили своё ещё до 2015. PS3 падает, её затмевает недавно вышедшая PS4, пользующаяся большей популярностью своей предшественницы. XOne затмил Х360, Х360 скоро уйдёт с лидирующих позиций.\n  \nВ 2017 скорее всего будут лидировать PS4 и XOne, как недавно вышедшие.",
      "metadata": {}
    },
    {
      "cell_type": "code",
      "source": "#Для дальнейшей работы создадим датасет с данными по актуальному для нас периоду С 2013 по 2016 годы\ngame_data = data[(data['year_of_release']>2012)&(data['year_of_release']<2017)]",
      "metadata": {},
      "execution_count": 34,
      "outputs": []
    },
    {
      "cell_type": "code",
      "source": "#Построим график «ящик с усами» по глобальным продажам игр в разбивке по платформам без выбросов\nsns.boxplot(data=game_data, x='platform', y='all_sales', showfliers = False)\nplt.xlabel('Платформы')\nplt.ylabel('Продажи')\nplt.title('График \"ящик с усами\"')\nplt.show()",
      "metadata": {},
      "execution_count": 35,
      "outputs": [
        {
          "output_type": "display_data",
          "data": {
            "image/png": "[encoded data removed]",
            "text/plain": [
              "<Figure size 1080x595.44 with 1 Axes>"
            ]
          },
          "metadata": {}
        }
      ]
    },
    {
      "cell_type": "code",
      "source": "#Построим график «ящик с усами» по глобальным продажам игр в разбивке по платформам с выбросами\nsns.boxplot(data=game_data, x='platform', y='all_sales', showfliers = True)\nplt.ylim(0, 10)\nplt.xlabel('Платформы')\nplt.ylabel('Продажи')\nplt.title('График \"ящик с усами\"')\nplt.show()",
      "metadata": {},
      "execution_count": 36,
      "outputs": [
        {
          "output_type": "display_data",
          "data": {
            "image/png": "[encoded data removed]",
            "text/plain": [
              "<Figure size 1080x595.44 with 1 Axes>"
            ]
          },
          "metadata": {}
        }
      ]
    },
    {
      "cell_type": "markdown",
      "source": "**Вывод:**  \nУ PS4 и XOne почти одинаковое медианное значение, что означает, что на этих платформах было продано примерно одинаковое количество игр, но XOne немного лидирует. Однако у PS4 хвост больше, а значит, игры на этой платформе продатся лучше, возможно, потому что они интересней (или графика лучше). Не отстаёт от этих платформ и WiiU. \n  \nУ Х360 и PS3 тоже большое количество продаж, но эти платформы уже устарели. У остальных платформ продажи идут не так хорошо.  \n  \nСамые хитовые игры были у Х360, 3DS, PS3, PS4, XOne и WiiU.",
      "metadata": {}
    },
    {
      "cell_type": "code",
      "source": "#Посмотрим, как влияют на продажи внутри одной популярной платформы отзывы пользователей и критиков\n#Проведём анализ на основании платформы PS4\nps4_data_crit=game_data.query('platform == \"PS4\" and critic_score > 0')\n\n#Построим диаграмму рассеяния для оценок критиков\nsns.scatterplot(data=ps4_data_crit, y='all_sales', x='critic_score', alpha=0.8)\nplt.xlabel('Оценки')\nplt.ylabel('Продажи')\nplt.legend(['Критики', 'Пользователи'])\nplt.title('Диаграмма рассеяния оценок критиков')\nplt.show()",
      "metadata": {},
      "execution_count": 37,
      "outputs": [
        {
          "output_type": "display_data",
          "data": {
            "image/png": "[encoded data removed]",
            "text/plain": [
              "<Figure size 1080x595.44 with 1 Axes>"
            ]
          },
          "metadata": {}
        }
      ]
    },
    {
      "cell_type": "code",
      "source": "#Построим диаграмму рассеяния для оценок пользователей\nps4_data_user=game_data.query('platform == \"PS4\" and user_score > 0')\n\nsns.scatterplot(data=ps4_data_user, y='all_sales', x='user_score', alpha=0.8)\nplt.xlabel('Оценки')\nplt.ylabel('Продажи')\nplt.legend('Пользователи')\nplt.title('Диаграмма рассеяния оценок пользователей')\nplt.show()",
      "metadata": {},
      "execution_count": 38,
      "outputs": [
        {
          "output_type": "display_data",
          "data": {
            "image/png": "[encoded data removed]",
            "text/plain": [
              "<Figure size 1080x595.44 with 1 Axes>"
            ]
          },
          "metadata": {}
        }
      ]
    },
    {
      "cell_type": "code",
      "source": "# код ревьюера\n\nprint(game_data.query('platform == \"PS4\" and critic_score>0').shape[0])\nprint(game_data.query('platform == \"PS4\" and user_score > 0').shape[0])\nprint(game_data.query('platform == \"PS4\" and critic_score>0 and user_score > 0').shape[0])",
      "metadata": {},
      "execution_count": 39,
      "outputs": [
        {
          "name": "stdout",
          "output_type": "stream",
          "text": "252\n\n257\n\n249\n"
        }
      ]
    },
    {
      "cell_type": "code",
      "source": "#Посчитаем корреляцию между отзывами и продажами\nps4_data=game_data.query('platform == \"PS4\"')\nps4_data[['user_score', 'critic_score', 'all_sales']].corr()",
      "metadata": {},
      "execution_count": 40,
      "outputs": [
        {
          "execution_count": 40,
          "output_type": "execute_result",
          "data": {
            "text/html": [
              "<div>\n",
              "<style scoped>\n",
              "    .dataframe tbody tr th:only-of-type {\n",
              "        vertical-align: middle;\n",
              "    }\n",
              "\n",
              "    .dataframe tbody tr th {\n",
              "        vertical-align: top;\n",
              "    }\n",
              "\n",
              "    .dataframe thead th {\n",
              "        text-align: right;\n",
              "    }\n",
              "</style>\n",
              "<table border=\"1\" class=\"dataframe\">\n",
              "  <thead>\n",
              "    <tr style=\"text-align: right;\">\n",
              "      <th></th>\n",
              "      <th>user_score</th>\n",
              "      <th>critic_score</th>\n",
              "      <th>all_sales</th>\n",
              "    </tr>\n",
              "  </thead>\n",
              "  <tbody>\n",
              "    <tr>\n",
              "      <th>user_score</th>\n",
              "      <td>1.000000</td>\n",
              "      <td>0.907449</td>\n",
              "      <td>0.115451</td>\n",
              "    </tr>\n",
              "    <tr>\n",
              "      <th>critic_score</th>\n",
              "      <td>0.907449</td>\n",
              "      <td>1.000000</td>\n",
              "      <td>0.225974</td>\n",
              "    </tr>\n",
              "    <tr>\n",
              "      <th>all_sales</th>\n",
              "      <td>0.115451</td>\n",
              "      <td>0.225974</td>\n",
              "      <td>1.000000</td>\n",
              "    </tr>\n",
              "  </tbody>\n",
              "</table>\n",
              "</div>"
            ],
            "text/plain": [
              "              user_score  critic_score  all_sales\n",
              "user_score      1.000000      0.907449   0.115451\n",
              "critic_score    0.907449      1.000000   0.225974\n",
              "all_sales       0.115451      0.225974   1.000000"
            ]
          },
          "metadata": {}
        }
      ]
    },
    {
      "cell_type": "code",
      "source": "#Посчитаем корреляцию между отзывами и продажами платформах XOne, WiiU, 3DS для сравнения\nxone_data=game_data.query('platform == \"XOne\"')\nwiiu_data=game_data.query('platform == \"WiiU\"')\nthree_ds_data=game_data.query('platform == \"3DS\"')\n\ndisplay(xone_data[['user_score', 'critic_score', 'all_sales']].corr())\ndisplay(wiiu_data[['user_score', 'critic_score', 'all_sales']].corr())\nthree_ds_data[['user_score', 'critic_score', 'all_sales']].corr()",
      "metadata": {},
      "execution_count": 41,
      "outputs": [
        {
          "output_type": "display_data",
          "data": {
            "text/html": [
              "<div>\n",
              "<style scoped>\n",
              "    .dataframe tbody tr th:only-of-type {\n",
              "        vertical-align: middle;\n",
              "    }\n",
              "\n",
              "    .dataframe tbody tr th {\n",
              "        vertical-align: top;\n",
              "    }\n",
              "\n",
              "    .dataframe thead th {\n",
              "        text-align: right;\n",
              "    }\n",
              "</style>\n",
              "<table border=\"1\" class=\"dataframe\">\n",
              "  <thead>\n",
              "    <tr style=\"text-align: right;\">\n",
              "      <th></th>\n",
              "      <th>user_score</th>\n",
              "      <th>critic_score</th>\n",
              "      <th>all_sales</th>\n",
              "    </tr>\n",
              "  </thead>\n",
              "  <tbody>\n",
              "    <tr>\n",
              "      <th>user_score</th>\n",
              "      <td>1.000000</td>\n",
              "      <td>0.781040</td>\n",
              "      <td>0.121929</td>\n",
              "    </tr>\n",
              "    <tr>\n",
              "      <th>critic_score</th>\n",
              "      <td>0.781040</td>\n",
              "      <td>1.000000</td>\n",
              "      <td>0.274118</td>\n",
              "    </tr>\n",
              "    <tr>\n",
              "      <th>all_sales</th>\n",
              "      <td>0.121929</td>\n",
              "      <td>0.274118</td>\n",
              "      <td>1.000000</td>\n",
              "    </tr>\n",
              "  </tbody>\n",
              "</table>\n",
              "</div>"
            ],
            "text/plain": [
              "              user_score  critic_score  all_sales\n",
              "user_score      1.000000      0.781040   0.121929\n",
              "critic_score    0.781040      1.000000   0.274118\n",
              "all_sales       0.121929      0.274118   1.000000"
            ]
          },
          "metadata": {}
        },
        {
          "output_type": "display_data",
          "data": {
            "text/html": [
              "<div>\n",
              "<style scoped>\n",
              "    .dataframe tbody tr th:only-of-type {\n",
              "        vertical-align: middle;\n",
              "    }\n",
              "\n",
              "    .dataframe tbody tr th {\n",
              "        vertical-align: top;\n",
              "    }\n",
              "\n",
              "    .dataframe thead th {\n",
              "        text-align: right;\n",
              "    }\n",
              "</style>\n",
              "<table border=\"1\" class=\"dataframe\">\n",
              "  <thead>\n",
              "    <tr style=\"text-align: right;\">\n",
              "      <th></th>\n",
              "      <th>user_score</th>\n",
              "      <th>critic_score</th>\n",
              "      <th>all_sales</th>\n",
              "    </tr>\n",
              "  </thead>\n",
              "  <tbody>\n",
              "    <tr>\n",
              "      <th>user_score</th>\n",
              "      <td>1.000000</td>\n",
              "      <td>0.828502</td>\n",
              "      <td>0.239706</td>\n",
              "    </tr>\n",
              "    <tr>\n",
              "      <th>critic_score</th>\n",
              "      <td>0.828502</td>\n",
              "      <td>1.000000</td>\n",
              "      <td>0.292216</td>\n",
              "    </tr>\n",
              "    <tr>\n",
              "      <th>all_sales</th>\n",
              "      <td>0.239706</td>\n",
              "      <td>0.292216</td>\n",
              "      <td>1.000000</td>\n",
              "    </tr>\n",
              "  </tbody>\n",
              "</table>\n",
              "</div>"
            ],
            "text/plain": [
              "              user_score  critic_score  all_sales\n",
              "user_score      1.000000      0.828502   0.239706\n",
              "critic_score    0.828502      1.000000   0.292216\n",
              "all_sales       0.239706      0.292216   1.000000"
            ]
          },
          "metadata": {}
        },
        {
          "execution_count": 41,
          "output_type": "execute_result",
          "data": {
            "text/html": [
              "<div>\n",
              "<style scoped>\n",
              "    .dataframe tbody tr th:only-of-type {\n",
              "        vertical-align: middle;\n",
              "    }\n",
              "\n",
              "    .dataframe tbody tr th {\n",
              "        vertical-align: top;\n",
              "    }\n",
              "\n",
              "    .dataframe thead th {\n",
              "        text-align: right;\n",
              "    }\n",
              "</style>\n",
              "<table border=\"1\" class=\"dataframe\">\n",
              "  <thead>\n",
              "    <tr style=\"text-align: right;\">\n",
              "      <th></th>\n",
              "      <th>user_score</th>\n",
              "      <th>critic_score</th>\n",
              "      <th>all_sales</th>\n",
              "    </tr>\n",
              "  </thead>\n",
              "  <tbody>\n",
              "    <tr>\n",
              "      <th>user_score</th>\n",
              "      <td>1.000000</td>\n",
              "      <td>0.885053</td>\n",
              "      <td>0.042819</td>\n",
              "    </tr>\n",
              "    <tr>\n",
              "      <th>critic_score</th>\n",
              "      <td>0.885053</td>\n",
              "      <td>1.000000</td>\n",
              "      <td>0.058577</td>\n",
              "    </tr>\n",
              "    <tr>\n",
              "      <th>all_sales</th>\n",
              "      <td>0.042819</td>\n",
              "      <td>0.058577</td>\n",
              "      <td>1.000000</td>\n",
              "    </tr>\n",
              "  </tbody>\n",
              "</table>\n",
              "</div>"
            ],
            "text/plain": [
              "              user_score  critic_score  all_sales\n",
              "user_score      1.000000      0.885053   0.042819\n",
              "critic_score    0.885053      1.000000   0.058577\n",
              "all_sales       0.042819      0.058577   1.000000"
            ]
          },
          "metadata": {}
        }
      ]
    },
    {
      "cell_type": "markdown",
      "source": "**Вывод:**  \nИз графика видно, что пользователи практически не оценивают игры с большим количеством продаж, в отличие от критиков. Оценки и те, и другие ставят похожие. \n  \nКорреляция показывает, что у продаж есть положительная зависимость от оценок критиков. От оценок пользователей продажи почти не зависят. Также видно, что есть зависимость между оценками пользователей и оценками критиков.  \n  \nДля других платформ дела обстоят также.",
      "metadata": {}
    },
    {
      "cell_type": "markdown",
      "source": "**Распределение игр по жанрам**",
      "metadata": {}
    },
    {
      "cell_type": "code",
      "source": "#Посмотрим на общее распределение игр по жанрам без выбросов\nsns.boxplot(data=game_data, x='genre', y='all_sales', showfliers=False)\nplt.xlabel('Жанр')\nplt.ylabel('Продажи')\nplt.title('График \"ящик с усами\" по жанрам')\nplt.show()",
      "metadata": {},
      "execution_count": 42,
      "outputs": [
        {
          "output_type": "display_data",
          "data": {
            "image/png": "[encoded data removed]",
            "text/plain": [
              "<Figure size 1080x595.44 with 1 Axes>"
            ]
          },
          "metadata": {}
        }
      ]
    },
    {
      "cell_type": "markdown",
      "source": "**Вывод:**  \nИз усов видно, что прибыльнее всего шутеры (у этого жанра ус длиннее всех, значит и хитовых игр у него больше), на втором месте жанр \"Platform\", на третьем - \"спорт\", \"файтинг\" и гонки, их покаатели не особо различаются. Приключения являются самыми непопулярными. По продажам шутеры обгоняют приключения примерно в 10 раз.",
      "metadata": {}
    },
    {
      "cell_type": "markdown",
      "source": "# Шаг 4. Составим портрет пользователя каждого региона",
      "metadata": {}
    },
    {
      "cell_type": "markdown",
      "source": "**Анализ продаж по регионам**",
      "metadata": {}
    },
    {
      "cell_type": "code",
      "source": "#Определим для пользователя каждого региона (NA, EU, JP) самые популярные платформы\ntop_jp = (game_data.groupby('platform')[['jp_sales']].sum())\ntop_eu = (game_data.groupby('platform')[['eu_sales']].sum())\ntop_na = (game_data.groupby('platform')[['na_sales']].sum())",
      "metadata": {},
      "execution_count": 43,
      "outputs": []
    },
    {
      "cell_type": "code",
      "source": "#Выведем первые пять строк в каждом регионе\ndisplay(top_na.sort_values(by='na_sales', ascending=False).head())\ndisplay(top_eu.sort_values(by='eu_sales', ascending=False).head())\ndisplay(top_jp.sort_values(by='jp_sales', ascending=False).head())",
      "metadata": {},
      "execution_count": 44,
      "outputs": [
        {
          "output_type": "display_data",
          "data": {
            "text/html": [
              "<div>\n",
              "<style scoped>\n",
              "    .dataframe tbody tr th:only-of-type {\n",
              "        vertical-align: middle;\n",
              "    }\n",
              "\n",
              "    .dataframe tbody tr th {\n",
              "        vertical-align: top;\n",
              "    }\n",
              "\n",
              "    .dataframe thead th {\n",
              "        text-align: right;\n",
              "    }\n",
              "</style>\n",
              "<table border=\"1\" class=\"dataframe\">\n",
              "  <thead>\n",
              "    <tr style=\"text-align: right;\">\n",
              "      <th></th>\n",
              "      <th>na_sales</th>\n",
              "    </tr>\n",
              "    <tr>\n",
              "      <th>platform</th>\n",
              "      <th></th>\n",
              "    </tr>\n",
              "  </thead>\n",
              "  <tbody>\n",
              "    <tr>\n",
              "      <th>PS4</th>\n",
              "      <td>108.74</td>\n",
              "    </tr>\n",
              "    <tr>\n",
              "      <th>XOne</th>\n",
              "      <td>93.12</td>\n",
              "    </tr>\n",
              "    <tr>\n",
              "      <th>X360</th>\n",
              "      <td>81.66</td>\n",
              "    </tr>\n",
              "    <tr>\n",
              "      <th>PS3</th>\n",
              "      <td>63.50</td>\n",
              "    </tr>\n",
              "    <tr>\n",
              "      <th>3DS</th>\n",
              "      <td>38.20</td>\n",
              "    </tr>\n",
              "  </tbody>\n",
              "</table>\n",
              "</div>"
            ],
            "text/plain": [
              "          na_sales\n",
              "platform          \n",
              "PS4         108.74\n",
              "XOne         93.12\n",
              "X360         81.66\n",
              "PS3          63.50\n",
              "3DS          38.20"
            ]
          },
          "metadata": {}
        },
        {
          "output_type": "display_data",
          "data": {
            "text/html": [
              "<div>\n",
              "<style scoped>\n",
              "    .dataframe tbody tr th:only-of-type {\n",
              "        vertical-align: middle;\n",
              "    }\n",
              "\n",
              "    .dataframe tbody tr th {\n",
              "        vertical-align: top;\n",
              "    }\n",
              "\n",
              "    .dataframe thead th {\n",
              "        text-align: right;\n",
              "    }\n",
              "</style>\n",
              "<table border=\"1\" class=\"dataframe\">\n",
              "  <thead>\n",
              "    <tr style=\"text-align: right;\">\n",
              "      <th></th>\n",
              "      <th>eu_sales</th>\n",
              "    </tr>\n",
              "    <tr>\n",
              "      <th>platform</th>\n",
              "      <th></th>\n",
              "    </tr>\n",
              "  </thead>\n",
              "  <tbody>\n",
              "    <tr>\n",
              "      <th>PS4</th>\n",
              "      <td>141.09</td>\n",
              "    </tr>\n",
              "    <tr>\n",
              "      <th>PS3</th>\n",
              "      <td>67.81</td>\n",
              "    </tr>\n",
              "    <tr>\n",
              "      <th>XOne</th>\n",
              "      <td>51.59</td>\n",
              "    </tr>\n",
              "    <tr>\n",
              "      <th>X360</th>\n",
              "      <td>42.52</td>\n",
              "    </tr>\n",
              "    <tr>\n",
              "      <th>3DS</th>\n",
              "      <td>30.96</td>\n",
              "    </tr>\n",
              "  </tbody>\n",
              "</table>\n",
              "</div>"
            ],
            "text/plain": [
              "          eu_sales\n",
              "platform          \n",
              "PS4         141.09\n",
              "PS3          67.81\n",
              "XOne         51.59\n",
              "X360         42.52\n",
              "3DS          30.96"
            ]
          },
          "metadata": {}
        },
        {
          "output_type": "display_data",
          "data": {
            "text/html": [
              "<div>\n",
              "<style scoped>\n",
              "    .dataframe tbody tr th:only-of-type {\n",
              "        vertical-align: middle;\n",
              "    }\n",
              "\n",
              "    .dataframe tbody tr th {\n",
              "        vertical-align: top;\n",
              "    }\n",
              "\n",
              "    .dataframe thead th {\n",
              "        text-align: right;\n",
              "    }\n",
              "</style>\n",
              "<table border=\"1\" class=\"dataframe\">\n",
              "  <thead>\n",
              "    <tr style=\"text-align: right;\">\n",
              "      <th></th>\n",
              "      <th>jp_sales</th>\n",
              "    </tr>\n",
              "    <tr>\n",
              "      <th>platform</th>\n",
              "      <th></th>\n",
              "    </tr>\n",
              "  </thead>\n",
              "  <tbody>\n",
              "    <tr>\n",
              "      <th>3DS</th>\n",
              "      <td>67.81</td>\n",
              "    </tr>\n",
              "    <tr>\n",
              "      <th>PS3</th>\n",
              "      <td>23.35</td>\n",
              "    </tr>\n",
              "    <tr>\n",
              "      <th>PSV</th>\n",
              "      <td>18.59</td>\n",
              "    </tr>\n",
              "    <tr>\n",
              "      <th>PS4</th>\n",
              "      <td>15.96</td>\n",
              "    </tr>\n",
              "    <tr>\n",
              "      <th>WiiU</th>\n",
              "      <td>10.88</td>\n",
              "    </tr>\n",
              "  </tbody>\n",
              "</table>\n",
              "</div>"
            ],
            "text/plain": [
              "          jp_sales\n",
              "platform          \n",
              "3DS          67.81\n",
              "PS3          23.35\n",
              "PSV          18.59\n",
              "PS4          15.96\n",
              "WiiU         10.88"
            ]
          },
          "metadata": {}
        }
      ]
    },
    {
      "cell_type": "markdown",
      "source": "**Вывод:**  \nВ Северной Америке популярнее всего Х360, в Европе - PS4, а в Японии предпочитают портативные консоли, которые менее популярны в других регионах (3DS на пятом месте в Америке и Европе). На первом месте в Японии - 3DS. Во всех трёх странах пока ещё полупярны PS3 и X360. Скоро их затмят нововышедшие PS4 и XOne.",
      "metadata": {}
    },
    {
      "cell_type": "code",
      "source": "#Определим для пользователя каждого региона (NA, EU, JP) самые популярные жанры\ntop_genre_jp = (game_data.groupby('genre')[['jp_sales']].sum())\ntop_genre_eu = (game_data.groupby('genre')[['eu_sales']].sum())\ntop_genre_na = (game_data.groupby('genre')[['na_sales']].sum())",
      "metadata": {},
      "execution_count": 45,
      "outputs": []
    },
    {
      "cell_type": "code",
      "source": "#Выведем первые пять строк в каждом регионе\ndisplay(top_genre_na.sort_values(by='na_sales', ascending=False).head())\ndisplay(top_genre_eu.sort_values(by='eu_sales', ascending=False).head())\ndisplay(top_genre_jp.sort_values(by='jp_sales', ascending=False).head())",
      "metadata": {},
      "execution_count": 46,
      "outputs": [
        {
          "output_type": "display_data",
          "data": {
            "text/html": [
              "<div>\n",
              "<style scoped>\n",
              "    .dataframe tbody tr th:only-of-type {\n",
              "        vertical-align: middle;\n",
              "    }\n",
              "\n",
              "    .dataframe tbody tr th {\n",
              "        vertical-align: top;\n",
              "    }\n",
              "\n",
              "    .dataframe thead th {\n",
              "        text-align: right;\n",
              "    }\n",
              "</style>\n",
              "<table border=\"1\" class=\"dataframe\">\n",
              "  <thead>\n",
              "    <tr style=\"text-align: right;\">\n",
              "      <th></th>\n",
              "      <th>na_sales</th>\n",
              "    </tr>\n",
              "    <tr>\n",
              "      <th>genre</th>\n",
              "      <th></th>\n",
              "    </tr>\n",
              "  </thead>\n",
              "  <tbody>\n",
              "    <tr>\n",
              "      <th>Action</th>\n",
              "      <td>126.05</td>\n",
              "    </tr>\n",
              "    <tr>\n",
              "      <th>Shooter</th>\n",
              "      <td>109.74</td>\n",
              "    </tr>\n",
              "    <tr>\n",
              "      <th>Sports</th>\n",
              "      <td>65.27</td>\n",
              "    </tr>\n",
              "    <tr>\n",
              "      <th>Role-Playing</th>\n",
              "      <td>46.40</td>\n",
              "    </tr>\n",
              "    <tr>\n",
              "      <th>Misc</th>\n",
              "      <td>27.49</td>\n",
              "    </tr>\n",
              "  </tbody>\n",
              "</table>\n",
              "</div>"
            ],
            "text/plain": [
              "              na_sales\n",
              "genre                 \n",
              "Action          126.05\n",
              "Shooter         109.74\n",
              "Sports           65.27\n",
              "Role-Playing     46.40\n",
              "Misc             27.49"
            ]
          },
          "metadata": {}
        },
        {
          "output_type": "display_data",
          "data": {
            "text/html": [
              "<div>\n",
              "<style scoped>\n",
              "    .dataframe tbody tr th:only-of-type {\n",
              "        vertical-align: middle;\n",
              "    }\n",
              "\n",
              "    .dataframe tbody tr th {\n",
              "        vertical-align: top;\n",
              "    }\n",
              "\n",
              "    .dataframe thead th {\n",
              "        text-align: right;\n",
              "    }\n",
              "</style>\n",
              "<table border=\"1\" class=\"dataframe\">\n",
              "  <thead>\n",
              "    <tr style=\"text-align: right;\">\n",
              "      <th></th>\n",
              "      <th>eu_sales</th>\n",
              "    </tr>\n",
              "    <tr>\n",
              "      <th>genre</th>\n",
              "      <th></th>\n",
              "    </tr>\n",
              "  </thead>\n",
              "  <tbody>\n",
              "    <tr>\n",
              "      <th>Action</th>\n",
              "      <td>118.13</td>\n",
              "    </tr>\n",
              "    <tr>\n",
              "      <th>Shooter</th>\n",
              "      <td>87.86</td>\n",
              "    </tr>\n",
              "    <tr>\n",
              "      <th>Sports</th>\n",
              "      <td>60.52</td>\n",
              "    </tr>\n",
              "    <tr>\n",
              "      <th>Role-Playing</th>\n",
              "      <td>36.97</td>\n",
              "    </tr>\n",
              "    <tr>\n",
              "      <th>Racing</th>\n",
              "      <td>20.19</td>\n",
              "    </tr>\n",
              "  </tbody>\n",
              "</table>\n",
              "</div>"
            ],
            "text/plain": [
              "              eu_sales\n",
              "genre                 \n",
              "Action          118.13\n",
              "Shooter          87.86\n",
              "Sports           60.52\n",
              "Role-Playing     36.97\n",
              "Racing           20.19"
            ]
          },
          "metadata": {}
        },
        {
          "output_type": "display_data",
          "data": {
            "text/html": [
              "<div>\n",
              "<style scoped>\n",
              "    .dataframe tbody tr th:only-of-type {\n",
              "        vertical-align: middle;\n",
              "    }\n",
              "\n",
              "    .dataframe tbody tr th {\n",
              "        vertical-align: top;\n",
              "    }\n",
              "\n",
              "    .dataframe thead th {\n",
              "        text-align: right;\n",
              "    }\n",
              "</style>\n",
              "<table border=\"1\" class=\"dataframe\">\n",
              "  <thead>\n",
              "    <tr style=\"text-align: right;\">\n",
              "      <th></th>\n",
              "      <th>jp_sales</th>\n",
              "    </tr>\n",
              "    <tr>\n",
              "      <th>genre</th>\n",
              "      <th></th>\n",
              "    </tr>\n",
              "  </thead>\n",
              "  <tbody>\n",
              "    <tr>\n",
              "      <th>Role-Playing</th>\n",
              "      <td>51.04</td>\n",
              "    </tr>\n",
              "    <tr>\n",
              "      <th>Action</th>\n",
              "      <td>40.49</td>\n",
              "    </tr>\n",
              "    <tr>\n",
              "      <th>Misc</th>\n",
              "      <td>9.20</td>\n",
              "    </tr>\n",
              "    <tr>\n",
              "      <th>Fighting</th>\n",
              "      <td>7.65</td>\n",
              "    </tr>\n",
              "    <tr>\n",
              "      <th>Shooter</th>\n",
              "      <td>6.61</td>\n",
              "    </tr>\n",
              "  </tbody>\n",
              "</table>\n",
              "</div>"
            ],
            "text/plain": [
              "              jp_sales\n",
              "genre                 \n",
              "Role-Playing     51.04\n",
              "Action           40.49\n",
              "Misc              9.20\n",
              "Fighting          7.65\n",
              "Shooter           6.61"
            ]
          },
          "metadata": {}
        }
      ]
    },
    {
      "cell_type": "markdown",
      "source": "**Вывод:**  \nВ Северной Америке и Европе самые популярные жанры выглядят почти одинаково. В Японии предпочитают больше ролевые игры. Такие различия скорее всего из-за платформ, на которых играют пользователи. Хотя ролевые популярны и в Европе с Америкой. По продажам они примерно равны. Продаж в Японии в 2 раза меньше, чем в Америке и Европе.",
      "metadata": {}
    },
    {
      "cell_type": "markdown",
      "source": "**Рейтинги ESRB:**  \n* EC (Early childhood) — Для детей младшего возраста\n* E (Everyone) — Для всех\n* E10+ (Everyone 10 and older) — Для всех от 10 лет и старше\n* T (Teen) — Подросткам\n* M (Mature) — Для взрослых\n* AO (Adults Only 18+) — Только для взрослых\n* RP (Rating Pending) — Рейтинг ожидается",
      "metadata": {}
    },
    {
      "cell_type": "code",
      "source": "#Проверим, влияет ли рейтинг ESRB на продажи в отдельном регионе\n#Построим график по региону na_sales\nsns.barplot(data=game_data, y='na_sales',  x='rating', alpha=0.6, ci=0)\nplt.xlabel('Рейтинг ESRB')\nplt.ylabel('Продажи')\nplt.title('График продаж по рейтингу na_sales')\nplt.show()",
      "metadata": {},
      "execution_count": 47,
      "outputs": [
        {
          "output_type": "display_data",
          "data": {
            "image/png": "[encoded data removed]",
            "text/plain": [
              "<Figure size 1080x595.44 with 1 Axes>"
            ]
          },
          "metadata": {}
        }
      ]
    },
    {
      "cell_type": "code",
      "source": "#Построим график по региону jp_sales\nsns.barplot(data=game_data, y='jp_sales',  x='rating', alpha=0.6, ci=0)\nplt.xlabel('Рейтинг ESRB')\nplt.ylabel('Продажи')\nplt.title('График продаж по рейтингу jp_sales')\nplt.show()",
      "metadata": {},
      "execution_count": 48,
      "outputs": [
        {
          "output_type": "display_data",
          "data": {
            "image/png": "[encoded data removed]",
            "text/plain": [
              "<Figure size 1080x595.44 with 1 Axes>"
            ]
          },
          "metadata": {}
        }
      ]
    },
    {
      "cell_type": "code",
      "source": "#Построим график по региону eu_sales\nsns.barplot(data=game_data, y='eu_sales',  x='rating', alpha=0.6, ci=0)\nplt.xlabel('Рейтинг ESRB')\nplt.ylabel('Продажи')\nplt.title('График продаж по рейтингу eu_sales')\nplt.show()",
      "metadata": {},
      "execution_count": 49,
      "outputs": [
        {
          "output_type": "display_data",
          "data": {
            "image/png": "[encoded data removed]",
            "text/plain": [
              "<Figure size 1080x595.44 with 1 Axes>"
            ]
          },
          "metadata": {}
        }
      ]
    },
    {
      "cell_type": "markdown",
      "source": "**Вывод:**\nВ Америке и Европе преобладает рейтинг **М**, в Японии - **Е** и **Т** (они примерно на одном уровне). ",
      "metadata": {}
    },
    {
      "cell_type": "markdown",
      "source": "# Шаг 5. Проверим гипотезы",
      "metadata": {}
    },
    {
      "cell_type": "markdown",
      "source": "**1. Средние пользовательские рейтинги платформ Xbox One и PC одинаковые**",
      "metadata": {}
    },
    {
      "cell_type": "markdown",
      "source": "Нулевая гипотеза предполагает, что между выборками нет различий, поэтому:\n* Нулевая гипотеза: Средние пользовательские рейтинги платформ Xbox One и PC одинаковые\n* Альтернативная гипотеза: Средние пользовательские рейтинги платформ Xbox One и PC отличаются",
      "metadata": {}
    },
    {
      "cell_type": "markdown",
      "source": "Выберем стандартный критический уровень значимости - **alpha=.05**",
      "metadata": {}
    },
    {
      "cell_type": "code",
      "source": "#Проведём тест\n\nxone_score = game_data.query('platform == \"XOne\" and user_score > 0')['user_score']\npc_score = game_data.query('platform == \"PC\" and user_score > 0')['user_score']\n\nalpha = .05\n\nresults = st.ttest_ind(\n    xone_score,\n    pc_score,\n    equal_var=False)\n\nprint('p-значение:', results.pvalue)\n\nif results.pvalue < alpha:\n    print(\"Отвергаем нулевую гипотезу\")\nelse:\n    print(\"Не получилось отвергнуть нулевую гипотезу\")",
      "metadata": {},
      "execution_count": 50,
      "outputs": [
        {
          "name": "stdout",
          "output_type": "stream",
          "text": "p-значение: 0.14759594013430463\n\nНе получилось отвергнуть нулевую гипотезу\n"
        }
      ]
    },
    {
      "cell_type": "code",
      "source": "#Посмотрим на значения среднего\nxone_pc = game_data.query('platform == \"XOne\" or platform == \"PC\"')\nxone_pc.pivot_table(index='platform', values='user_score', aggfunc='mean')",
      "metadata": {},
      "execution_count": 51,
      "outputs": [
        {
          "execution_count": 51,
          "output_type": "execute_result",
          "data": {
            "text/html": [
              "<div>\n",
              "<style scoped>\n",
              "    .dataframe tbody tr th:only-of-type {\n",
              "        vertical-align: middle;\n",
              "    }\n",
              "\n",
              "    .dataframe tbody tr th {\n",
              "        vertical-align: top;\n",
              "    }\n",
              "\n",
              "    .dataframe thead th {\n",
              "        text-align: right;\n",
              "    }\n",
              "</style>\n",
              "<table border=\"1\" class=\"dataframe\">\n",
              "  <thead>\n",
              "    <tr style=\"text-align: right;\">\n",
              "      <th></th>\n",
              "      <th>user_score</th>\n",
              "    </tr>\n",
              "    <tr>\n",
              "      <th>platform</th>\n",
              "      <th></th>\n",
              "    </tr>\n",
              "  </thead>\n",
              "  <tbody>\n",
              "    <tr>\n",
              "      <th>PC</th>\n",
              "      <td>4.961905</td>\n",
              "    </tr>\n",
              "    <tr>\n",
              "      <th>XOne</th>\n",
              "      <td>4.542105</td>\n",
              "    </tr>\n",
              "  </tbody>\n",
              "</table>\n",
              "</div>"
            ],
            "text/plain": [
              "          user_score\n",
              "platform            \n",
              "PC          4.961905\n",
              "XOne        4.542105"
            ]
          },
          "metadata": {}
        }
      ]
    },
    {
      "cell_type": "markdown",
      "source": "**Вывод:**  \nРазличие между средними незначительное. Подтвердилась нулевая гипотеза, из которой следует, что средние пользовательские рейтинги платформ Xbox One и PC не имеют статистически значимых отличий.",
      "metadata": {}
    },
    {
      "cell_type": "markdown",
      "source": "**2. Средние пользовательские рейтинги жанров Action и Sports разные**",
      "metadata": {}
    },
    {
      "cell_type": "markdown",
      "source": "**Нулевая гипотеза:** Средние пользовательские рейтинги жанров Action и Sports одинаковые  \n**Альтернативная гипотеза:** Средние пользовательские рейтинги жанров Action и Sports отличаются",
      "metadata": {}
    },
    {
      "cell_type": "markdown",
      "source": "Выберем стандартный критический уровень значимости - **alpha=.05**",
      "metadata": {}
    },
    {
      "cell_type": "code",
      "source": "action_score = game_data.query('genre == \"Action\" and user_score > 0')['user_score']\nsports_score = game_data.query('genre == \"Sports\" and user_score > 0')['user_score']\n\nalpha = .05\n\nresults = st.ttest_ind(\n    action_score,\n    sports_score,\n    equal_var=False)\n\nprint('p-значение:', results.pvalue)\n\nif results.pvalue < alpha:\n    print(\"Отвергаем нулевую гипотезу\")\nelse:\n    print(\"Не получилось отвергнуть нулевую гипотезу\")\n\n",
      "metadata": {},
      "execution_count": 52,
      "outputs": [
        {
          "name": "stdout",
          "output_type": "stream",
          "text": "p-значение: 1.4460039700704315e-20\n\nОтвергаем нулевую гипотезу\n"
        }
      ]
    },
    {
      "cell_type": "code",
      "source": "#Посмотрим на значения среднего\naction_sports = game_data.query('genre == \"Action\" or genre == \"Sports\"')\naction_sports.pivot_table(index='genre', values='user_score', aggfunc='mean')",
      "metadata": {},
      "execution_count": 53,
      "outputs": [
        {
          "execution_count": 53,
          "output_type": "execute_result",
          "data": {
            "text/html": [
              "<div>\n",
              "<style scoped>\n",
              "    .dataframe tbody tr th:only-of-type {\n",
              "        vertical-align: middle;\n",
              "    }\n",
              "\n",
              "    .dataframe tbody tr th {\n",
              "        vertical-align: top;\n",
              "    }\n",
              "\n",
              "    .dataframe thead th {\n",
              "        text-align: right;\n",
              "    }\n",
              "</style>\n",
              "<table border=\"1\" class=\"dataframe\">\n",
              "  <thead>\n",
              "    <tr style=\"text-align: right;\">\n",
              "      <th></th>\n",
              "      <th>user_score</th>\n",
              "    </tr>\n",
              "    <tr>\n",
              "      <th>genre</th>\n",
              "      <th></th>\n",
              "    </tr>\n",
              "  </thead>\n",
              "  <tbody>\n",
              "    <tr>\n",
              "      <th>Action</th>\n",
              "      <td>2.980157</td>\n",
              "    </tr>\n",
              "    <tr>\n",
              "      <th>Sports</th>\n",
              "      <td>3.664019</td>\n",
              "    </tr>\n",
              "  </tbody>\n",
              "</table>\n",
              "</div>"
            ],
            "text/plain": [
              "        user_score\n",
              "genre             \n",
              "Action    2.980157\n",
              "Sports    3.664019"
            ]
          },
          "metadata": {}
        }
      ]
    },
    {
      "cell_type": "markdown",
      "source": "**Вывод:**  \nПодтвердилась альтернативная гипотеза, а значит, средние пользовательские рейтинги жанров Action и Sports имеют статистически значимые отличия.",
      "metadata": {}
    },
    {
      "cell_type": "markdown",
      "source": "**Шаг 6. Общий вывод**",
      "metadata": {}
    },
    {
      "cell_type": "markdown",
      "source": "В ходе исследования было сделано:  \n* Заменены пропуски в данных и удалены строки с малым количеством пропусков в столбцах\n* Добавлен столбец с общей суммой продаж по всем регионам для более полного анализа\n* Проведён анализ игр\n* Проведён анализ платформ:\n    + Платформы живут 7-10 лет\n* Изучены зависимости продаж от отзывов критиков и пользователей:\n    + Продажи зависимы от оценок критиков, но не от оценок пользователей\n* Исследованы платформы и жанры по сумме продаж в каждом регионе\n* Проведён анализ продаж по регионам\n* Проверено влияние рейтинга ESRB на продажи по регионам\n* Проверены гипотезы  \n  \nВ 2017 году скорее всего выйет большое количество игр, но выручка от их продаж будет меньше. Многие разработчики перешли на создание игр для смартфонов. Нужно присмотреться к следующим жанрам: Shooter, Action, Sports, Roleplaying и misc.\nВ Японии на первых местах - портативные консоли (лидер - 3ds) и пользователи предпочитают ролевые игры.\nВ Америке и Европе лидируют стационарные платформы и пользователи предпочитают жанр Shooter.",
      "metadata": {}
    },
    {
      "cell_type": "code",
      "source": "",
      "metadata": {},
      "execution_count": null,
      "outputs": []
    }
  ]
}