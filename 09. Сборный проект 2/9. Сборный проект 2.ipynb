{
 "cells": [
  {
   "cell_type": "markdown",
   "metadata": {},
   "source": [
    "# Восстановление золота из руды"
   ]
  },
  {
   "cell_type": "markdown",
   "metadata": {},
   "source": [
    "**Описание проекта:**    \n",
    "    \n",
    "Подготовим прототип модели машинного обучения для «Цифры». Компания разрабатывает решения для эффективной работы промышленных предприятий. Модель должна предсказать коэффициент восстановления золота из золотосодержащей руды. В нашем распоряжении данные с параметрами добычи и очистки. Модель поможет оптимизировать производство, чтобы не запускать предприятие с убыточными характеристиками.\n",
    "\n",
    "**Цель исследования:**\n",
    "\n",
    "* Подготовить прототип модели машинного обучения для оптимизации производства\n",
    "\n",
    "**Ход исследования:**\n",
    "\n",
    "1. Подготовка данных\n",
    "2. Анализ данных\n",
    "3. Построение модели\n",
    "4. Проверка модели"
   ]
  },
  {
   "cell_type": "code",
   "execution_count": 1,
   "metadata": {},
   "outputs": [],
   "source": [
    "#Импортируем библиотеки\n",
    "import pandas as pd\n",
    "import numpy as np\n",
    "from scipy import stats\n",
    "import matplotlib.pyplot as plt\n",
    "import seaborn as sns\n",
    "sns.set()\n",
    "from sklearn.utils import shuffle\n",
    "from sklearn.preprocessing import StandardScaler\n",
    "from sklearn.dummy import DummyRegressor\n",
    "from sklearn.metrics import mean_absolute_error\n",
    "from sklearn.tree import DecisionTreeRegressor\n",
    "from sklearn.linear_model import LinearRegression\n",
    "from sklearn.ensemble import RandomForestRegressor\n",
    "from sklearn.metrics import make_scorer\n",
    "from sklearn.model_selection import cross_val_score\n",
    "from tqdm import tqdm"
   ]
  },
  {
   "cell_type": "markdown",
   "metadata": {},
   "source": [
    "## Подготовка данных"
   ]
  },
  {
   "cell_type": "code",
   "execution_count": 2,
   "metadata": {},
   "outputs": [],
   "source": [
    "#Сохраним данные в переменных\n",
    "data_train = pd.read_csv('gold_industry_train.csv')\n",
    "data_test = pd.read_csv('gold_industry_test.csv')\n",
    "data_full = pd.read_csv('gold_industry_full.csv')"
   ]
  },
  {
   "cell_type": "code",
   "execution_count": 3,
   "metadata": {
    "scrolled": true
   },
   "outputs": [
    {
     "data": {
      "text/html": [
       "<div>\n",
       "<style scoped>\n",
       "    .dataframe tbody tr th:only-of-type {\n",
       "        vertical-align: middle;\n",
       "    }\n",
       "\n",
       "    .dataframe tbody tr th {\n",
       "        vertical-align: top;\n",
       "    }\n",
       "\n",
       "    .dataframe thead th {\n",
       "        text-align: right;\n",
       "    }\n",
       "</style>\n",
       "<table border=\"1\" class=\"dataframe\">\n",
       "  <thead>\n",
       "    <tr style=\"text-align: right;\">\n",
       "      <th></th>\n",
       "      <th>date</th>\n",
       "      <th>rougher.input.feed_au</th>\n",
       "      <th>rougher.input.feed_ag</th>\n",
       "      <th>rougher.input.feed_pb</th>\n",
       "      <th>rougher.input.feed_sol</th>\n",
       "      <th>rougher.input.feed_rate</th>\n",
       "      <th>rougher.input.feed_size</th>\n",
       "      <th>rougher.input.floatbank10_sulfate</th>\n",
       "      <th>rougher.input.floatbank10_xanthate</th>\n",
       "      <th>rougher.state.floatbank10_a_air</th>\n",
       "      <th>...</th>\n",
       "      <th>secondary_cleaner.output.tail_sol</th>\n",
       "      <th>final.output.concentrate_au</th>\n",
       "      <th>final.output.concentrate_ag</th>\n",
       "      <th>final.output.concentrate_pb</th>\n",
       "      <th>final.output.concentrate_sol</th>\n",
       "      <th>final.output.recovery</th>\n",
       "      <th>final.output.tail_au</th>\n",
       "      <th>final.output.tail_ag</th>\n",
       "      <th>final.output.tail_pb</th>\n",
       "      <th>final.output.tail_sol</th>\n",
       "    </tr>\n",
       "  </thead>\n",
       "  <tbody>\n",
       "    <tr>\n",
       "      <th>0</th>\n",
       "      <td>2016-01-15 00:00:00</td>\n",
       "      <td>6.486150</td>\n",
       "      <td>6.100378</td>\n",
       "      <td>2.284912</td>\n",
       "      <td>36.808594</td>\n",
       "      <td>523.546326</td>\n",
       "      <td>55.486599</td>\n",
       "      <td>11.986616</td>\n",
       "      <td>6.007990</td>\n",
       "      <td>999.706909</td>\n",
       "      <td>...</td>\n",
       "      <td>8.764648</td>\n",
       "      <td>42.192020</td>\n",
       "      <td>6.055403</td>\n",
       "      <td>9.889648</td>\n",
       "      <td>5.507324</td>\n",
       "      <td>70.541216</td>\n",
       "      <td>2.143149</td>\n",
       "      <td>10.411962</td>\n",
       "      <td>0.895447</td>\n",
       "      <td>16.904297</td>\n",
       "    </tr>\n",
       "    <tr>\n",
       "      <th>1</th>\n",
       "      <td>2016-01-15 01:00:00</td>\n",
       "      <td>6.478583</td>\n",
       "      <td>6.161113</td>\n",
       "      <td>2.266033</td>\n",
       "      <td>35.753385</td>\n",
       "      <td>525.290581</td>\n",
       "      <td>57.278666</td>\n",
       "      <td>11.971193</td>\n",
       "      <td>6.005766</td>\n",
       "      <td>1000.286398</td>\n",
       "      <td>...</td>\n",
       "      <td>9.001494</td>\n",
       "      <td>42.701629</td>\n",
       "      <td>6.029369</td>\n",
       "      <td>9.968944</td>\n",
       "      <td>5.257781</td>\n",
       "      <td>69.266198</td>\n",
       "      <td>2.224930</td>\n",
       "      <td>10.462676</td>\n",
       "      <td>0.927452</td>\n",
       "      <td>16.634514</td>\n",
       "    </tr>\n",
       "    <tr>\n",
       "      <th>2</th>\n",
       "      <td>2016-01-15 02:00:00</td>\n",
       "      <td>6.362222</td>\n",
       "      <td>6.116455</td>\n",
       "      <td>2.159622</td>\n",
       "      <td>35.971630</td>\n",
       "      <td>530.026610</td>\n",
       "      <td>57.510649</td>\n",
       "      <td>11.920603</td>\n",
       "      <td>6.197377</td>\n",
       "      <td>999.719565</td>\n",
       "      <td>...</td>\n",
       "      <td>8.842896</td>\n",
       "      <td>42.657501</td>\n",
       "      <td>6.055926</td>\n",
       "      <td>10.213995</td>\n",
       "      <td>5.383759</td>\n",
       "      <td>68.116445</td>\n",
       "      <td>2.257889</td>\n",
       "      <td>10.507046</td>\n",
       "      <td>0.953716</td>\n",
       "      <td>16.208849</td>\n",
       "    </tr>\n",
       "    <tr>\n",
       "      <th>3</th>\n",
       "      <td>2016-01-15 03:00:00</td>\n",
       "      <td>6.118189</td>\n",
       "      <td>6.043309</td>\n",
       "      <td>2.037807</td>\n",
       "      <td>36.862241</td>\n",
       "      <td>542.590390</td>\n",
       "      <td>57.792734</td>\n",
       "      <td>11.630094</td>\n",
       "      <td>6.203177</td>\n",
       "      <td>999.814770</td>\n",
       "      <td>...</td>\n",
       "      <td>9.122857</td>\n",
       "      <td>42.689819</td>\n",
       "      <td>6.047977</td>\n",
       "      <td>9.977019</td>\n",
       "      <td>4.858634</td>\n",
       "      <td>68.347543</td>\n",
       "      <td>2.146849</td>\n",
       "      <td>10.422762</td>\n",
       "      <td>0.883763</td>\n",
       "      <td>16.532835</td>\n",
       "    </tr>\n",
       "    <tr>\n",
       "      <th>4</th>\n",
       "      <td>2016-01-15 04:00:00</td>\n",
       "      <td>5.663707</td>\n",
       "      <td>6.060915</td>\n",
       "      <td>1.786875</td>\n",
       "      <td>34.347666</td>\n",
       "      <td>540.531893</td>\n",
       "      <td>56.047189</td>\n",
       "      <td>10.957755</td>\n",
       "      <td>6.198826</td>\n",
       "      <td>999.678690</td>\n",
       "      <td>...</td>\n",
       "      <td>8.871028</td>\n",
       "      <td>42.774141</td>\n",
       "      <td>6.148599</td>\n",
       "      <td>10.142511</td>\n",
       "      <td>4.939416</td>\n",
       "      <td>66.927016</td>\n",
       "      <td>2.055292</td>\n",
       "      <td>10.360302</td>\n",
       "      <td>0.792826</td>\n",
       "      <td>16.525686</td>\n",
       "    </tr>\n",
       "  </tbody>\n",
       "</table>\n",
       "<p>5 rows × 87 columns</p>\n",
       "</div>"
      ],
      "text/plain": [
       "                  date  rougher.input.feed_au  rougher.input.feed_ag  \\\n",
       "0  2016-01-15 00:00:00               6.486150               6.100378   \n",
       "1  2016-01-15 01:00:00               6.478583               6.161113   \n",
       "2  2016-01-15 02:00:00               6.362222               6.116455   \n",
       "3  2016-01-15 03:00:00               6.118189               6.043309   \n",
       "4  2016-01-15 04:00:00               5.663707               6.060915   \n",
       "\n",
       "   rougher.input.feed_pb  rougher.input.feed_sol  rougher.input.feed_rate  \\\n",
       "0               2.284912               36.808594               523.546326   \n",
       "1               2.266033               35.753385               525.290581   \n",
       "2               2.159622               35.971630               530.026610   \n",
       "3               2.037807               36.862241               542.590390   \n",
       "4               1.786875               34.347666               540.531893   \n",
       "\n",
       "   rougher.input.feed_size  rougher.input.floatbank10_sulfate  \\\n",
       "0                55.486599                          11.986616   \n",
       "1                57.278666                          11.971193   \n",
       "2                57.510649                          11.920603   \n",
       "3                57.792734                          11.630094   \n",
       "4                56.047189                          10.957755   \n",
       "\n",
       "   rougher.input.floatbank10_xanthate  rougher.state.floatbank10_a_air  ...  \\\n",
       "0                            6.007990                       999.706909  ...   \n",
       "1                            6.005766                      1000.286398  ...   \n",
       "2                            6.197377                       999.719565  ...   \n",
       "3                            6.203177                       999.814770  ...   \n",
       "4                            6.198826                       999.678690  ...   \n",
       "\n",
       "   secondary_cleaner.output.tail_sol  final.output.concentrate_au  \\\n",
       "0                           8.764648                    42.192020   \n",
       "1                           9.001494                    42.701629   \n",
       "2                           8.842896                    42.657501   \n",
       "3                           9.122857                    42.689819   \n",
       "4                           8.871028                    42.774141   \n",
       "\n",
       "   final.output.concentrate_ag  final.output.concentrate_pb  \\\n",
       "0                     6.055403                     9.889648   \n",
       "1                     6.029369                     9.968944   \n",
       "2                     6.055926                    10.213995   \n",
       "3                     6.047977                     9.977019   \n",
       "4                     6.148599                    10.142511   \n",
       "\n",
       "   final.output.concentrate_sol  final.output.recovery  final.output.tail_au  \\\n",
       "0                      5.507324              70.541216              2.143149   \n",
       "1                      5.257781              69.266198              2.224930   \n",
       "2                      5.383759              68.116445              2.257889   \n",
       "3                      4.858634              68.347543              2.146849   \n",
       "4                      4.939416              66.927016              2.055292   \n",
       "\n",
       "   final.output.tail_ag  final.output.tail_pb  final.output.tail_sol  \n",
       "0             10.411962              0.895447              16.904297  \n",
       "1             10.462676              0.927452              16.634514  \n",
       "2             10.507046              0.953716              16.208849  \n",
       "3             10.422762              0.883763              16.532835  \n",
       "4             10.360302              0.792826              16.525686  \n",
       "\n",
       "[5 rows x 87 columns]"
      ]
     },
     "metadata": {},
     "output_type": "display_data"
    },
    {
     "name": "stdout",
     "output_type": "stream",
     "text": [
      "<class 'pandas.core.frame.DataFrame'>\n",
      "RangeIndex: 14579 entries, 0 to 14578\n",
      "Data columns (total 87 columns):\n",
      " #   Column                                              Non-Null Count  Dtype  \n",
      "---  ------                                              --------------  -----  \n",
      " 0   date                                                14579 non-null  object \n",
      " 1   rougher.input.feed_au                               14579 non-null  float64\n",
      " 2   rougher.input.feed_ag                               14579 non-null  float64\n",
      " 3   rougher.input.feed_pb                               14507 non-null  float64\n",
      " 4   rougher.input.feed_sol                              14502 non-null  float64\n",
      " 5   rougher.input.feed_rate                             14572 non-null  float64\n",
      " 6   rougher.input.feed_size                             14478 non-null  float64\n",
      " 7   rougher.input.floatbank10_sulfate                   14548 non-null  float64\n",
      " 8   rougher.input.floatbank10_xanthate                  14572 non-null  float64\n",
      " 9   rougher.state.floatbank10_a_air                     14579 non-null  float64\n",
      " 10  rougher.state.floatbank10_a_level                   14579 non-null  float64\n",
      " 11  rougher.state.floatbank10_b_air                     14579 non-null  float64\n",
      " 12  rougher.state.floatbank10_b_level                   14579 non-null  float64\n",
      " 13  rougher.state.floatbank10_c_air                     14579 non-null  float64\n",
      " 14  rougher.state.floatbank10_c_level                   14579 non-null  float64\n",
      " 15  rougher.state.floatbank10_d_air                     14579 non-null  float64\n",
      " 16  rougher.state.floatbank10_d_level                   14579 non-null  float64\n",
      " 17  rougher.state.floatbank10_e_air                     14150 non-null  float64\n",
      " 18  rougher.state.floatbank10_e_level                   14579 non-null  float64\n",
      " 19  rougher.state.floatbank10_f_air                     14579 non-null  float64\n",
      " 20  rougher.state.floatbank10_f_level                   14579 non-null  float64\n",
      " 21  rougher.input.floatbank11_sulfate                   14543 non-null  float64\n",
      " 22  rougher.input.floatbank11_xanthate                  14172 non-null  float64\n",
      " 23  rougher.calculation.sulfate_to_au_concentrate       14578 non-null  float64\n",
      " 24  rougher.calculation.floatbank10_sulfate_to_au_feed  14578 non-null  float64\n",
      " 25  rougher.calculation.floatbank11_sulfate_to_au_feed  14578 non-null  float64\n",
      " 26  rougher.calculation.au_pb_ratio                     14579 non-null  float64\n",
      " 27  rougher.output.concentrate_au                       14579 non-null  float64\n",
      " 28  rougher.output.concentrate_ag                       14579 non-null  float64\n",
      " 29  rougher.output.concentrate_pb                       14579 non-null  float64\n",
      " 30  rougher.output.concentrate_sol                      14561 non-null  float64\n",
      " 31  rougher.output.recovery                             14579 non-null  float64\n",
      " 32  rougher.output.tail_au                              14579 non-null  float64\n",
      " 33  rougher.output.tail_ag                              14578 non-null  float64\n",
      " 34  rougher.output.tail_pb                              14579 non-null  float64\n",
      " 35  rougher.output.tail_sol                             14579 non-null  float64\n",
      " 36  primary_cleaner.input.sulfate                       14556 non-null  float64\n",
      " 37  primary_cleaner.input.depressant                    14551 non-null  float64\n",
      " 38  primary_cleaner.input.feed_size                     14579 non-null  float64\n",
      " 39  primary_cleaner.input.xanthate                      14518 non-null  float64\n",
      " 40  primary_cleaner.state.floatbank8_a_air              14576 non-null  float64\n",
      " 41  primary_cleaner.state.floatbank8_a_level            14579 non-null  float64\n",
      " 42  primary_cleaner.state.floatbank8_b_air              14576 non-null  float64\n",
      " 43  primary_cleaner.state.floatbank8_b_level            14579 non-null  float64\n",
      " 44  primary_cleaner.state.floatbank8_c_air              14579 non-null  float64\n",
      " 45  primary_cleaner.state.floatbank8_c_level            14579 non-null  float64\n",
      " 46  primary_cleaner.state.floatbank8_d_air              14578 non-null  float64\n",
      " 47  primary_cleaner.state.floatbank8_d_level            14579 non-null  float64\n",
      " 48  primary_cleaner.output.concentrate_au               14579 non-null  float64\n",
      " 49  primary_cleaner.output.concentrate_ag               14579 non-null  float64\n",
      " 50  primary_cleaner.output.concentrate_pb               14491 non-null  float64\n",
      " 51  primary_cleaner.output.concentrate_sol              14314 non-null  float64\n",
      " 52  primary_cleaner.output.tail_au                      14579 non-null  float64\n",
      " 53  primary_cleaner.output.tail_ag                      14575 non-null  float64\n",
      " 54  primary_cleaner.output.tail_pb                      14573 non-null  float64\n",
      " 55  primary_cleaner.output.tail_sol                     14534 non-null  float64\n",
      " 56  secondary_cleaner.state.floatbank2_a_air            14485 non-null  float64\n",
      " 57  secondary_cleaner.state.floatbank2_a_level          14579 non-null  float64\n",
      " 58  secondary_cleaner.state.floatbank2_b_air            14557 non-null  float64\n",
      " 59  secondary_cleaner.state.floatbank2_b_level          14579 non-null  float64\n",
      " 60  secondary_cleaner.state.floatbank3_a_air            14567 non-null  float64\n",
      " 61  secondary_cleaner.state.floatbank3_a_level          14579 non-null  float64\n",
      " 62  secondary_cleaner.state.floatbank3_b_air            14579 non-null  float64\n",
      " 63  secondary_cleaner.state.floatbank3_b_level          14579 non-null  float64\n",
      " 64  secondary_cleaner.state.floatbank4_a_air            14574 non-null  float64\n",
      " 65  secondary_cleaner.state.floatbank4_a_level          14579 non-null  float64\n",
      " 66  secondary_cleaner.state.floatbank4_b_air            14579 non-null  float64\n",
      " 67  secondary_cleaner.state.floatbank4_b_level          14579 non-null  float64\n",
      " 68  secondary_cleaner.state.floatbank5_a_air            14579 non-null  float64\n",
      " 69  secondary_cleaner.state.floatbank5_a_level          14579 non-null  float64\n",
      " 70  secondary_cleaner.state.floatbank5_b_air            14579 non-null  float64\n",
      " 71  secondary_cleaner.state.floatbank5_b_level          14579 non-null  float64\n",
      " 72  secondary_cleaner.state.floatbank6_a_air            14578 non-null  float64\n",
      " 73  secondary_cleaner.state.floatbank6_a_level          14579 non-null  float64\n",
      " 74  secondary_cleaner.output.tail_au                    14579 non-null  float64\n",
      " 75  secondary_cleaner.output.tail_ag                    14578 non-null  float64\n",
      " 76  secondary_cleaner.output.tail_pb                    14575 non-null  float64\n",
      " 77  secondary_cleaner.output.tail_sol                   13659 non-null  float64\n",
      " 78  final.output.concentrate_au                         14579 non-null  float64\n",
      " 79  final.output.concentrate_ag                         14578 non-null  float64\n",
      " 80  final.output.concentrate_pb                         14578 non-null  float64\n",
      " 81  final.output.concentrate_sol                        14387 non-null  float64\n",
      " 82  final.output.recovery                               14579 non-null  float64\n",
      " 83  final.output.tail_au                                14579 non-null  float64\n",
      " 84  final.output.tail_ag                                14578 non-null  float64\n",
      " 85  final.output.tail_pb                                14504 non-null  float64\n",
      " 86  final.output.tail_sol                               14574 non-null  float64\n",
      "dtypes: float64(86), object(1)\n",
      "memory usage: 9.7+ MB\n"
     ]
    },
    {
     "data": {
      "text/plain": [
       "None"
      ]
     },
     "metadata": {},
     "output_type": "display_data"
    },
    {
     "data": {
      "text/html": [
       "<div>\n",
       "<style scoped>\n",
       "    .dataframe tbody tr th:only-of-type {\n",
       "        vertical-align: middle;\n",
       "    }\n",
       "\n",
       "    .dataframe tbody tr th {\n",
       "        vertical-align: top;\n",
       "    }\n",
       "\n",
       "    .dataframe thead th {\n",
       "        text-align: right;\n",
       "    }\n",
       "</style>\n",
       "<table border=\"1\" class=\"dataframe\">\n",
       "  <thead>\n",
       "    <tr style=\"text-align: right;\">\n",
       "      <th></th>\n",
       "      <th>rougher.input.feed_au</th>\n",
       "      <th>rougher.input.feed_ag</th>\n",
       "      <th>rougher.input.feed_pb</th>\n",
       "      <th>rougher.input.feed_sol</th>\n",
       "      <th>rougher.input.feed_rate</th>\n",
       "      <th>rougher.input.feed_size</th>\n",
       "      <th>rougher.input.floatbank10_sulfate</th>\n",
       "      <th>rougher.input.floatbank10_xanthate</th>\n",
       "      <th>rougher.state.floatbank10_a_air</th>\n",
       "      <th>rougher.state.floatbank10_a_level</th>\n",
       "      <th>...</th>\n",
       "      <th>secondary_cleaner.output.tail_sol</th>\n",
       "      <th>final.output.concentrate_au</th>\n",
       "      <th>final.output.concentrate_ag</th>\n",
       "      <th>final.output.concentrate_pb</th>\n",
       "      <th>final.output.concentrate_sol</th>\n",
       "      <th>final.output.recovery</th>\n",
       "      <th>final.output.tail_au</th>\n",
       "      <th>final.output.tail_ag</th>\n",
       "      <th>final.output.tail_pb</th>\n",
       "      <th>final.output.tail_sol</th>\n",
       "    </tr>\n",
       "  </thead>\n",
       "  <tbody>\n",
       "    <tr>\n",
       "      <th>count</th>\n",
       "      <td>14579.000000</td>\n",
       "      <td>14579.000000</td>\n",
       "      <td>14507.000000</td>\n",
       "      <td>14502.000000</td>\n",
       "      <td>14572.000000</td>\n",
       "      <td>14478.000000</td>\n",
       "      <td>14548.000000</td>\n",
       "      <td>14572.000000</td>\n",
       "      <td>14579.000000</td>\n",
       "      <td>14579.000000</td>\n",
       "      <td>...</td>\n",
       "      <td>13659.000000</td>\n",
       "      <td>14579.000000</td>\n",
       "      <td>14578.000000</td>\n",
       "      <td>14578.000000</td>\n",
       "      <td>14387.000000</td>\n",
       "      <td>14579.000000</td>\n",
       "      <td>14579.000000</td>\n",
       "      <td>14578.000000</td>\n",
       "      <td>14504.000000</td>\n",
       "      <td>14574.000000</td>\n",
       "    </tr>\n",
       "    <tr>\n",
       "      <th>mean</th>\n",
       "      <td>8.352941</td>\n",
       "      <td>8.877460</td>\n",
       "      <td>3.604221</td>\n",
       "      <td>36.561420</td>\n",
       "      <td>474.332784</td>\n",
       "      <td>58.922712</td>\n",
       "      <td>12.427399</td>\n",
       "      <td>5.994854</td>\n",
       "      <td>1104.208278</td>\n",
       "      <td>-379.367166</td>\n",
       "      <td>...</td>\n",
       "      <td>7.111347</td>\n",
       "      <td>43.979499</td>\n",
       "      <td>5.192145</td>\n",
       "      <td>9.923809</td>\n",
       "      <td>9.566676</td>\n",
       "      <td>66.759066</td>\n",
       "      <td>3.087939</td>\n",
       "      <td>9.731972</td>\n",
       "      <td>2.719985</td>\n",
       "      <td>10.612745</td>\n",
       "    </tr>\n",
       "    <tr>\n",
       "      <th>std</th>\n",
       "      <td>1.934376</td>\n",
       "      <td>1.922536</td>\n",
       "      <td>1.056063</td>\n",
       "      <td>5.209823</td>\n",
       "      <td>108.503552</td>\n",
       "      <td>22.407410</td>\n",
       "      <td>3.428939</td>\n",
       "      <td>1.152873</td>\n",
       "      <td>162.235606</td>\n",
       "      <td>94.652311</td>\n",
       "      <td>...</td>\n",
       "      <td>3.909951</td>\n",
       "      <td>5.471437</td>\n",
       "      <td>1.388014</td>\n",
       "      <td>1.706976</td>\n",
       "      <td>2.805654</td>\n",
       "      <td>10.619709</td>\n",
       "      <td>0.915187</td>\n",
       "      <td>2.358143</td>\n",
       "      <td>0.958929</td>\n",
       "      <td>2.871075</td>\n",
       "    </tr>\n",
       "    <tr>\n",
       "      <th>min</th>\n",
       "      <td>0.010000</td>\n",
       "      <td>0.010000</td>\n",
       "      <td>0.010000</td>\n",
       "      <td>0.010000</td>\n",
       "      <td>0.002986</td>\n",
       "      <td>0.049194</td>\n",
       "      <td>0.001083</td>\n",
       "      <td>0.000568</td>\n",
       "      <td>-0.042069</td>\n",
       "      <td>-657.949759</td>\n",
       "      <td>...</td>\n",
       "      <td>0.000000</td>\n",
       "      <td>0.000000</td>\n",
       "      <td>0.000000</td>\n",
       "      <td>0.000000</td>\n",
       "      <td>0.000000</td>\n",
       "      <td>0.000000</td>\n",
       "      <td>0.000000</td>\n",
       "      <td>0.000000</td>\n",
       "      <td>0.000000</td>\n",
       "      <td>0.000000</td>\n",
       "    </tr>\n",
       "    <tr>\n",
       "      <th>25%</th>\n",
       "      <td>6.932996</td>\n",
       "      <td>7.341922</td>\n",
       "      <td>2.880490</td>\n",
       "      <td>34.093951</td>\n",
       "      <td>411.048483</td>\n",
       "      <td>47.278490</td>\n",
       "      <td>10.002832</td>\n",
       "      <td>5.304167</td>\n",
       "      <td>999.644856</td>\n",
       "      <td>-499.861797</td>\n",
       "      <td>...</td>\n",
       "      <td>3.784897</td>\n",
       "      <td>43.345906</td>\n",
       "      <td>4.283347</td>\n",
       "      <td>9.103183</td>\n",
       "      <td>7.860030</td>\n",
       "      <td>63.114596</td>\n",
       "      <td>2.505287</td>\n",
       "      <td>8.088928</td>\n",
       "      <td>2.036512</td>\n",
       "      <td>9.013412</td>\n",
       "    </tr>\n",
       "    <tr>\n",
       "      <th>50%</th>\n",
       "      <td>8.225284</td>\n",
       "      <td>8.715859</td>\n",
       "      <td>3.532399</td>\n",
       "      <td>37.097511</td>\n",
       "      <td>498.187968</td>\n",
       "      <td>54.361187</td>\n",
       "      <td>12.003320</td>\n",
       "      <td>6.003053</td>\n",
       "      <td>1000.982624</td>\n",
       "      <td>-300.314199</td>\n",
       "      <td>...</td>\n",
       "      <td>7.629968</td>\n",
       "      <td>44.975014</td>\n",
       "      <td>5.118647</td>\n",
       "      <td>10.046455</td>\n",
       "      <td>9.301970</td>\n",
       "      <td>67.962788</td>\n",
       "      <td>3.029238</td>\n",
       "      <td>9.818512</td>\n",
       "      <td>2.774847</td>\n",
       "      <td>10.670515</td>\n",
       "    </tr>\n",
       "    <tr>\n",
       "      <th>75%</th>\n",
       "      <td>9.832210</td>\n",
       "      <td>10.255843</td>\n",
       "      <td>4.257282</td>\n",
       "      <td>39.899799</td>\n",
       "      <td>549.586552</td>\n",
       "      <td>64.464926</td>\n",
       "      <td>14.929903</td>\n",
       "      <td>6.796632</td>\n",
       "      <td>1292.663971</td>\n",
       "      <td>-299.989315</td>\n",
       "      <td>...</td>\n",
       "      <td>10.367050</td>\n",
       "      <td>46.275153</td>\n",
       "      <td>5.925380</td>\n",
       "      <td>10.981203</td>\n",
       "      <td>11.001573</td>\n",
       "      <td>72.598187</td>\n",
       "      <td>3.614098</td>\n",
       "      <td>11.169187</td>\n",
       "      <td>3.353845</td>\n",
       "      <td>12.130827</td>\n",
       "    </tr>\n",
       "    <tr>\n",
       "      <th>max</th>\n",
       "      <td>13.731330</td>\n",
       "      <td>14.596026</td>\n",
       "      <td>7.052325</td>\n",
       "      <td>53.475325</td>\n",
       "      <td>717.508837</td>\n",
       "      <td>484.967466</td>\n",
       "      <td>36.118275</td>\n",
       "      <td>9.703448</td>\n",
       "      <td>1512.299531</td>\n",
       "      <td>-273.776101</td>\n",
       "      <td>...</td>\n",
       "      <td>26.000772</td>\n",
       "      <td>52.756638</td>\n",
       "      <td>16.001945</td>\n",
       "      <td>16.705297</td>\n",
       "      <td>19.423912</td>\n",
       "      <td>100.000000</td>\n",
       "      <td>8.245022</td>\n",
       "      <td>19.552149</td>\n",
       "      <td>5.804178</td>\n",
       "      <td>22.317730</td>\n",
       "    </tr>\n",
       "  </tbody>\n",
       "</table>\n",
       "<p>8 rows × 86 columns</p>\n",
       "</div>"
      ],
      "text/plain": [
       "       rougher.input.feed_au  rougher.input.feed_ag  rougher.input.feed_pb  \\\n",
       "count           14579.000000           14579.000000           14507.000000   \n",
       "mean                8.352941               8.877460               3.604221   \n",
       "std                 1.934376               1.922536               1.056063   \n",
       "min                 0.010000               0.010000               0.010000   \n",
       "25%                 6.932996               7.341922               2.880490   \n",
       "50%                 8.225284               8.715859               3.532399   \n",
       "75%                 9.832210              10.255843               4.257282   \n",
       "max                13.731330              14.596026               7.052325   \n",
       "\n",
       "       rougher.input.feed_sol  rougher.input.feed_rate  \\\n",
       "count            14502.000000             14572.000000   \n",
       "mean                36.561420               474.332784   \n",
       "std                  5.209823               108.503552   \n",
       "min                  0.010000                 0.002986   \n",
       "25%                 34.093951               411.048483   \n",
       "50%                 37.097511               498.187968   \n",
       "75%                 39.899799               549.586552   \n",
       "max                 53.475325               717.508837   \n",
       "\n",
       "       rougher.input.feed_size  rougher.input.floatbank10_sulfate  \\\n",
       "count             14478.000000                       14548.000000   \n",
       "mean                 58.922712                          12.427399   \n",
       "std                  22.407410                           3.428939   \n",
       "min                   0.049194                           0.001083   \n",
       "25%                  47.278490                          10.002832   \n",
       "50%                  54.361187                          12.003320   \n",
       "75%                  64.464926                          14.929903   \n",
       "max                 484.967466                          36.118275   \n",
       "\n",
       "       rougher.input.floatbank10_xanthate  rougher.state.floatbank10_a_air  \\\n",
       "count                        14572.000000                     14579.000000   \n",
       "mean                             5.994854                      1104.208278   \n",
       "std                              1.152873                       162.235606   \n",
       "min                              0.000568                        -0.042069   \n",
       "25%                              5.304167                       999.644856   \n",
       "50%                              6.003053                      1000.982624   \n",
       "75%                              6.796632                      1292.663971   \n",
       "max                              9.703448                      1512.299531   \n",
       "\n",
       "       rougher.state.floatbank10_a_level  ...  \\\n",
       "count                       14579.000000  ...   \n",
       "mean                         -379.367166  ...   \n",
       "std                            94.652311  ...   \n",
       "min                          -657.949759  ...   \n",
       "25%                          -499.861797  ...   \n",
       "50%                          -300.314199  ...   \n",
       "75%                          -299.989315  ...   \n",
       "max                          -273.776101  ...   \n",
       "\n",
       "       secondary_cleaner.output.tail_sol  final.output.concentrate_au  \\\n",
       "count                       13659.000000                 14579.000000   \n",
       "mean                            7.111347                    43.979499   \n",
       "std                             3.909951                     5.471437   \n",
       "min                             0.000000                     0.000000   \n",
       "25%                             3.784897                    43.345906   \n",
       "50%                             7.629968                    44.975014   \n",
       "75%                            10.367050                    46.275153   \n",
       "max                            26.000772                    52.756638   \n",
       "\n",
       "       final.output.concentrate_ag  final.output.concentrate_pb  \\\n",
       "count                 14578.000000                 14578.000000   \n",
       "mean                      5.192145                     9.923809   \n",
       "std                       1.388014                     1.706976   \n",
       "min                       0.000000                     0.000000   \n",
       "25%                       4.283347                     9.103183   \n",
       "50%                       5.118647                    10.046455   \n",
       "75%                       5.925380                    10.981203   \n",
       "max                      16.001945                    16.705297   \n",
       "\n",
       "       final.output.concentrate_sol  final.output.recovery  \\\n",
       "count                  14387.000000           14579.000000   \n",
       "mean                       9.566676              66.759066   \n",
       "std                        2.805654              10.619709   \n",
       "min                        0.000000               0.000000   \n",
       "25%                        7.860030              63.114596   \n",
       "50%                        9.301970              67.962788   \n",
       "75%                       11.001573              72.598187   \n",
       "max                       19.423912             100.000000   \n",
       "\n",
       "       final.output.tail_au  final.output.tail_ag  final.output.tail_pb  \\\n",
       "count          14579.000000          14578.000000          14504.000000   \n",
       "mean               3.087939              9.731972              2.719985   \n",
       "std                0.915187              2.358143              0.958929   \n",
       "min                0.000000              0.000000              0.000000   \n",
       "25%                2.505287              8.088928              2.036512   \n",
       "50%                3.029238              9.818512              2.774847   \n",
       "75%                3.614098             11.169187              3.353845   \n",
       "max                8.245022             19.552149              5.804178   \n",
       "\n",
       "       final.output.tail_sol  \n",
       "count           14574.000000  \n",
       "mean               10.612745  \n",
       "std                 2.871075  \n",
       "min                 0.000000  \n",
       "25%                 9.013412  \n",
       "50%                10.670515  \n",
       "75%                12.130827  \n",
       "max                22.317730  \n",
       "\n",
       "[8 rows x 86 columns]"
      ]
     },
     "metadata": {},
     "output_type": "display_data"
    },
    {
     "data": {
      "text/html": [
       "<div>\n",
       "<style scoped>\n",
       "    .dataframe tbody tr th:only-of-type {\n",
       "        vertical-align: middle;\n",
       "    }\n",
       "\n",
       "    .dataframe tbody tr th {\n",
       "        vertical-align: top;\n",
       "    }\n",
       "\n",
       "    .dataframe thead th {\n",
       "        text-align: right;\n",
       "    }\n",
       "</style>\n",
       "<table border=\"1\" class=\"dataframe\">\n",
       "  <thead>\n",
       "    <tr style=\"text-align: right;\">\n",
       "      <th></th>\n",
       "      <th>date</th>\n",
       "      <th>rougher.input.feed_au</th>\n",
       "      <th>rougher.input.feed_ag</th>\n",
       "      <th>rougher.input.feed_pb</th>\n",
       "      <th>rougher.input.feed_sol</th>\n",
       "      <th>rougher.input.feed_rate</th>\n",
       "      <th>rougher.input.feed_size</th>\n",
       "      <th>rougher.input.floatbank10_sulfate</th>\n",
       "      <th>rougher.input.floatbank10_xanthate</th>\n",
       "      <th>rougher.state.floatbank10_a_air</th>\n",
       "      <th>...</th>\n",
       "      <th>secondary_cleaner.state.floatbank4_a_air</th>\n",
       "      <th>secondary_cleaner.state.floatbank4_a_level</th>\n",
       "      <th>secondary_cleaner.state.floatbank4_b_air</th>\n",
       "      <th>secondary_cleaner.state.floatbank4_b_level</th>\n",
       "      <th>secondary_cleaner.state.floatbank5_a_air</th>\n",
       "      <th>secondary_cleaner.state.floatbank5_a_level</th>\n",
       "      <th>secondary_cleaner.state.floatbank5_b_air</th>\n",
       "      <th>secondary_cleaner.state.floatbank5_b_level</th>\n",
       "      <th>secondary_cleaner.state.floatbank6_a_air</th>\n",
       "      <th>secondary_cleaner.state.floatbank6_a_level</th>\n",
       "    </tr>\n",
       "  </thead>\n",
       "  <tbody>\n",
       "    <tr>\n",
       "      <th>0</th>\n",
       "      <td>2017-12-09 14:59:59</td>\n",
       "      <td>4.365491</td>\n",
       "      <td>6.158718</td>\n",
       "      <td>3.875727</td>\n",
       "      <td>39.135119</td>\n",
       "      <td>555.820208</td>\n",
       "      <td>94.544358</td>\n",
       "      <td>6.146982</td>\n",
       "      <td>9.308612</td>\n",
       "      <td>1196.238112</td>\n",
       "      <td>...</td>\n",
       "      <td>23.018622</td>\n",
       "      <td>-500.492702</td>\n",
       "      <td>20.020205</td>\n",
       "      <td>-500.220296</td>\n",
       "      <td>17.963512</td>\n",
       "      <td>-499.939490</td>\n",
       "      <td>12.990306</td>\n",
       "      <td>-500.080993</td>\n",
       "      <td>19.990336</td>\n",
       "      <td>-499.191575</td>\n",
       "    </tr>\n",
       "    <tr>\n",
       "      <th>1</th>\n",
       "      <td>2017-12-09 15:59:59</td>\n",
       "      <td>4.362781</td>\n",
       "      <td>6.048130</td>\n",
       "      <td>3.902537</td>\n",
       "      <td>39.713906</td>\n",
       "      <td>544.731687</td>\n",
       "      <td>123.742430</td>\n",
       "      <td>6.210119</td>\n",
       "      <td>9.297709</td>\n",
       "      <td>1201.904177</td>\n",
       "      <td>...</td>\n",
       "      <td>23.024963</td>\n",
       "      <td>-501.153409</td>\n",
       "      <td>20.054122</td>\n",
       "      <td>-500.314711</td>\n",
       "      <td>17.979515</td>\n",
       "      <td>-499.272871</td>\n",
       "      <td>12.992404</td>\n",
       "      <td>-499.976268</td>\n",
       "      <td>20.013986</td>\n",
       "      <td>-500.625471</td>\n",
       "    </tr>\n",
       "    <tr>\n",
       "      <th>2</th>\n",
       "      <td>2017-12-09 16:59:59</td>\n",
       "      <td>5.081681</td>\n",
       "      <td>6.082745</td>\n",
       "      <td>4.564078</td>\n",
       "      <td>37.208683</td>\n",
       "      <td>558.155110</td>\n",
       "      <td>82.610855</td>\n",
       "      <td>7.363824</td>\n",
       "      <td>9.003562</td>\n",
       "      <td>1200.826926</td>\n",
       "      <td>...</td>\n",
       "      <td>22.993827</td>\n",
       "      <td>-501.559663</td>\n",
       "      <td>20.029144</td>\n",
       "      <td>-500.000662</td>\n",
       "      <td>18.012723</td>\n",
       "      <td>-500.024764</td>\n",
       "      <td>13.016445</td>\n",
       "      <td>-500.058432</td>\n",
       "      <td>19.973767</td>\n",
       "      <td>-501.394155</td>\n",
       "    </tr>\n",
       "    <tr>\n",
       "      <th>3</th>\n",
       "      <td>2017-12-09 17:59:59</td>\n",
       "      <td>5.145949</td>\n",
       "      <td>6.084374</td>\n",
       "      <td>4.768124</td>\n",
       "      <td>36.808874</td>\n",
       "      <td>539.713765</td>\n",
       "      <td>77.984784</td>\n",
       "      <td>6.927072</td>\n",
       "      <td>8.955597</td>\n",
       "      <td>1199.292489</td>\n",
       "      <td>...</td>\n",
       "      <td>23.032807</td>\n",
       "      <td>-501.287889</td>\n",
       "      <td>19.977466</td>\n",
       "      <td>-500.159903</td>\n",
       "      <td>17.980463</td>\n",
       "      <td>-500.504602</td>\n",
       "      <td>12.949071</td>\n",
       "      <td>-500.009937</td>\n",
       "      <td>20.010332</td>\n",
       "      <td>-508.337973</td>\n",
       "    </tr>\n",
       "    <tr>\n",
       "      <th>4</th>\n",
       "      <td>2017-12-09 18:59:59</td>\n",
       "      <td>5.735249</td>\n",
       "      <td>6.165220</td>\n",
       "      <td>4.512346</td>\n",
       "      <td>37.810642</td>\n",
       "      <td>558.713584</td>\n",
       "      <td>86.434874</td>\n",
       "      <td>7.823471</td>\n",
       "      <td>7.490356</td>\n",
       "      <td>1198.005449</td>\n",
       "      <td>...</td>\n",
       "      <td>23.001911</td>\n",
       "      <td>-499.947838</td>\n",
       "      <td>20.023735</td>\n",
       "      <td>-499.713680</td>\n",
       "      <td>17.990955</td>\n",
       "      <td>-500.334769</td>\n",
       "      <td>13.007523</td>\n",
       "      <td>-499.968459</td>\n",
       "      <td>19.995999</td>\n",
       "      <td>-499.788805</td>\n",
       "    </tr>\n",
       "  </tbody>\n",
       "</table>\n",
       "<p>5 rows × 53 columns</p>\n",
       "</div>"
      ],
      "text/plain": [
       "                  date  rougher.input.feed_au  rougher.input.feed_ag  \\\n",
       "0  2017-12-09 14:59:59               4.365491               6.158718   \n",
       "1  2017-12-09 15:59:59               4.362781               6.048130   \n",
       "2  2017-12-09 16:59:59               5.081681               6.082745   \n",
       "3  2017-12-09 17:59:59               5.145949               6.084374   \n",
       "4  2017-12-09 18:59:59               5.735249               6.165220   \n",
       "\n",
       "   rougher.input.feed_pb  rougher.input.feed_sol  rougher.input.feed_rate  \\\n",
       "0               3.875727               39.135119               555.820208   \n",
       "1               3.902537               39.713906               544.731687   \n",
       "2               4.564078               37.208683               558.155110   \n",
       "3               4.768124               36.808874               539.713765   \n",
       "4               4.512346               37.810642               558.713584   \n",
       "\n",
       "   rougher.input.feed_size  rougher.input.floatbank10_sulfate  \\\n",
       "0                94.544358                           6.146982   \n",
       "1               123.742430                           6.210119   \n",
       "2                82.610855                           7.363824   \n",
       "3                77.984784                           6.927072   \n",
       "4                86.434874                           7.823471   \n",
       "\n",
       "   rougher.input.floatbank10_xanthate  rougher.state.floatbank10_a_air  ...  \\\n",
       "0                            9.308612                      1196.238112  ...   \n",
       "1                            9.297709                      1201.904177  ...   \n",
       "2                            9.003562                      1200.826926  ...   \n",
       "3                            8.955597                      1199.292489  ...   \n",
       "4                            7.490356                      1198.005449  ...   \n",
       "\n",
       "   secondary_cleaner.state.floatbank4_a_air  \\\n",
       "0                                 23.018622   \n",
       "1                                 23.024963   \n",
       "2                                 22.993827   \n",
       "3                                 23.032807   \n",
       "4                                 23.001911   \n",
       "\n",
       "   secondary_cleaner.state.floatbank4_a_level  \\\n",
       "0                                 -500.492702   \n",
       "1                                 -501.153409   \n",
       "2                                 -501.559663   \n",
       "3                                 -501.287889   \n",
       "4                                 -499.947838   \n",
       "\n",
       "   secondary_cleaner.state.floatbank4_b_air  \\\n",
       "0                                 20.020205   \n",
       "1                                 20.054122   \n",
       "2                                 20.029144   \n",
       "3                                 19.977466   \n",
       "4                                 20.023735   \n",
       "\n",
       "   secondary_cleaner.state.floatbank4_b_level  \\\n",
       "0                                 -500.220296   \n",
       "1                                 -500.314711   \n",
       "2                                 -500.000662   \n",
       "3                                 -500.159903   \n",
       "4                                 -499.713680   \n",
       "\n",
       "   secondary_cleaner.state.floatbank5_a_air  \\\n",
       "0                                 17.963512   \n",
       "1                                 17.979515   \n",
       "2                                 18.012723   \n",
       "3                                 17.980463   \n",
       "4                                 17.990955   \n",
       "\n",
       "   secondary_cleaner.state.floatbank5_a_level  \\\n",
       "0                                 -499.939490   \n",
       "1                                 -499.272871   \n",
       "2                                 -500.024764   \n",
       "3                                 -500.504602   \n",
       "4                                 -500.334769   \n",
       "\n",
       "   secondary_cleaner.state.floatbank5_b_air  \\\n",
       "0                                 12.990306   \n",
       "1                                 12.992404   \n",
       "2                                 13.016445   \n",
       "3                                 12.949071   \n",
       "4                                 13.007523   \n",
       "\n",
       "   secondary_cleaner.state.floatbank5_b_level  \\\n",
       "0                                 -500.080993   \n",
       "1                                 -499.976268   \n",
       "2                                 -500.058432   \n",
       "3                                 -500.009937   \n",
       "4                                 -499.968459   \n",
       "\n",
       "   secondary_cleaner.state.floatbank6_a_air  \\\n",
       "0                                 19.990336   \n",
       "1                                 20.013986   \n",
       "2                                 19.973767   \n",
       "3                                 20.010332   \n",
       "4                                 19.995999   \n",
       "\n",
       "   secondary_cleaner.state.floatbank6_a_level  \n",
       "0                                 -499.191575  \n",
       "1                                 -500.625471  \n",
       "2                                 -501.394155  \n",
       "3                                 -508.337973  \n",
       "4                                 -499.788805  \n",
       "\n",
       "[5 rows x 53 columns]"
      ]
     },
     "metadata": {},
     "output_type": "display_data"
    },
    {
     "name": "stdout",
     "output_type": "stream",
     "text": [
      "<class 'pandas.core.frame.DataFrame'>\n",
      "RangeIndex: 4860 entries, 0 to 4859\n",
      "Data columns (total 53 columns):\n",
      " #   Column                                      Non-Null Count  Dtype  \n",
      "---  ------                                      --------------  -----  \n",
      " 0   date                                        4860 non-null   object \n",
      " 1   rougher.input.feed_au                       4860 non-null   float64\n",
      " 2   rougher.input.feed_ag                       4860 non-null   float64\n",
      " 3   rougher.input.feed_pb                       4832 non-null   float64\n",
      " 4   rougher.input.feed_sol                      4838 non-null   float64\n",
      " 5   rougher.input.feed_rate                     4856 non-null   float64\n",
      " 6   rougher.input.feed_size                     4816 non-null   float64\n",
      " 7   rougher.input.floatbank10_sulfate           4857 non-null   float64\n",
      " 8   rougher.input.floatbank10_xanthate          4859 non-null   float64\n",
      " 9   rougher.state.floatbank10_a_air             4859 non-null   float64\n",
      " 10  rougher.state.floatbank10_a_level           4859 non-null   float64\n",
      " 11  rougher.state.floatbank10_b_air             4859 non-null   float64\n",
      " 12  rougher.state.floatbank10_b_level           4859 non-null   float64\n",
      " 13  rougher.state.floatbank10_c_air             4859 non-null   float64\n",
      " 14  rougher.state.floatbank10_c_level           4859 non-null   float64\n",
      " 15  rougher.state.floatbank10_d_air             4860 non-null   float64\n",
      " 16  rougher.state.floatbank10_d_level           4860 non-null   float64\n",
      " 17  rougher.state.floatbank10_e_air             4853 non-null   float64\n",
      " 18  rougher.state.floatbank10_e_level           4860 non-null   float64\n",
      " 19  rougher.state.floatbank10_f_air             4860 non-null   float64\n",
      " 20  rougher.state.floatbank10_f_level           4860 non-null   float64\n",
      " 21  rougher.input.floatbank11_sulfate           4852 non-null   float64\n",
      " 22  rougher.input.floatbank11_xanthate          4814 non-null   float64\n",
      " 23  primary_cleaner.input.sulfate               4859 non-null   float64\n",
      " 24  primary_cleaner.input.depressant            4851 non-null   float64\n",
      " 25  primary_cleaner.input.feed_size             4860 non-null   float64\n",
      " 26  primary_cleaner.input.xanthate              4817 non-null   float64\n",
      " 27  primary_cleaner.state.floatbank8_a_air      4859 non-null   float64\n",
      " 28  primary_cleaner.state.floatbank8_a_level    4859 non-null   float64\n",
      " 29  primary_cleaner.state.floatbank8_b_air      4859 non-null   float64\n",
      " 30  primary_cleaner.state.floatbank8_b_level    4859 non-null   float64\n",
      " 31  primary_cleaner.state.floatbank8_c_air      4858 non-null   float64\n",
      " 32  primary_cleaner.state.floatbank8_c_level    4859 non-null   float64\n",
      " 33  primary_cleaner.state.floatbank8_d_air      4858 non-null   float64\n",
      " 34  primary_cleaner.state.floatbank8_d_level    4859 non-null   float64\n",
      " 35  secondary_cleaner.state.floatbank2_a_air    4734 non-null   float64\n",
      " 36  secondary_cleaner.state.floatbank2_a_level  4859 non-null   float64\n",
      " 37  secondary_cleaner.state.floatbank2_b_air    4859 non-null   float64\n",
      " 38  secondary_cleaner.state.floatbank2_b_level  4859 non-null   float64\n",
      " 39  secondary_cleaner.state.floatbank3_a_air    4859 non-null   float64\n",
      " 40  secondary_cleaner.state.floatbank3_a_level  4859 non-null   float64\n",
      " 41  secondary_cleaner.state.floatbank3_b_air    4859 non-null   float64\n",
      " 42  secondary_cleaner.state.floatbank3_b_level  4859 non-null   float64\n",
      " 43  secondary_cleaner.state.floatbank4_a_air    4859 non-null   float64\n",
      " 44  secondary_cleaner.state.floatbank4_a_level  4859 non-null   float64\n",
      " 45  secondary_cleaner.state.floatbank4_b_air    4859 non-null   float64\n",
      " 46  secondary_cleaner.state.floatbank4_b_level  4859 non-null   float64\n",
      " 47  secondary_cleaner.state.floatbank5_a_air    4859 non-null   float64\n",
      " 48  secondary_cleaner.state.floatbank5_a_level  4859 non-null   float64\n",
      " 49  secondary_cleaner.state.floatbank5_b_air    4859 non-null   float64\n",
      " 50  secondary_cleaner.state.floatbank5_b_level  4859 non-null   float64\n",
      " 51  secondary_cleaner.state.floatbank6_a_air    4859 non-null   float64\n",
      " 52  secondary_cleaner.state.floatbank6_a_level  4859 non-null   float64\n",
      "dtypes: float64(52), object(1)\n",
      "memory usage: 2.0+ MB\n"
     ]
    },
    {
     "data": {
      "text/plain": [
       "None"
      ]
     },
     "metadata": {},
     "output_type": "display_data"
    },
    {
     "data": {
      "text/html": [
       "<div>\n",
       "<style scoped>\n",
       "    .dataframe tbody tr th:only-of-type {\n",
       "        vertical-align: middle;\n",
       "    }\n",
       "\n",
       "    .dataframe tbody tr th {\n",
       "        vertical-align: top;\n",
       "    }\n",
       "\n",
       "    .dataframe thead th {\n",
       "        text-align: right;\n",
       "    }\n",
       "</style>\n",
       "<table border=\"1\" class=\"dataframe\">\n",
       "  <thead>\n",
       "    <tr style=\"text-align: right;\">\n",
       "      <th></th>\n",
       "      <th>rougher.input.feed_au</th>\n",
       "      <th>rougher.input.feed_ag</th>\n",
       "      <th>rougher.input.feed_pb</th>\n",
       "      <th>rougher.input.feed_sol</th>\n",
       "      <th>rougher.input.feed_rate</th>\n",
       "      <th>rougher.input.feed_size</th>\n",
       "      <th>rougher.input.floatbank10_sulfate</th>\n",
       "      <th>rougher.input.floatbank10_xanthate</th>\n",
       "      <th>rougher.state.floatbank10_a_air</th>\n",
       "      <th>rougher.state.floatbank10_a_level</th>\n",
       "      <th>...</th>\n",
       "      <th>secondary_cleaner.state.floatbank4_a_air</th>\n",
       "      <th>secondary_cleaner.state.floatbank4_a_level</th>\n",
       "      <th>secondary_cleaner.state.floatbank4_b_air</th>\n",
       "      <th>secondary_cleaner.state.floatbank4_b_level</th>\n",
       "      <th>secondary_cleaner.state.floatbank5_a_air</th>\n",
       "      <th>secondary_cleaner.state.floatbank5_a_level</th>\n",
       "      <th>secondary_cleaner.state.floatbank5_b_air</th>\n",
       "      <th>secondary_cleaner.state.floatbank5_b_level</th>\n",
       "      <th>secondary_cleaner.state.floatbank6_a_air</th>\n",
       "      <th>secondary_cleaner.state.floatbank6_a_level</th>\n",
       "    </tr>\n",
       "  </thead>\n",
       "  <tbody>\n",
       "    <tr>\n",
       "      <th>count</th>\n",
       "      <td>4860.000000</td>\n",
       "      <td>4860.000000</td>\n",
       "      <td>4832.000000</td>\n",
       "      <td>4838.000000</td>\n",
       "      <td>4856.000000</td>\n",
       "      <td>4816.000000</td>\n",
       "      <td>4857.000000</td>\n",
       "      <td>4859.000000</td>\n",
       "      <td>4859.000000</td>\n",
       "      <td>4859.000000</td>\n",
       "      <td>...</td>\n",
       "      <td>4.859000e+03</td>\n",
       "      <td>4859.000000</td>\n",
       "      <td>4.859000e+03</td>\n",
       "      <td>4859.000000</td>\n",
       "      <td>4859.000000</td>\n",
       "      <td>4859.000000</td>\n",
       "      <td>4859.000000</td>\n",
       "      <td>4859.000000</td>\n",
       "      <td>4859.000000</td>\n",
       "      <td>4859.000000</td>\n",
       "    </tr>\n",
       "    <tr>\n",
       "      <th>mean</th>\n",
       "      <td>8.005584</td>\n",
       "      <td>8.547348</td>\n",
       "      <td>3.579662</td>\n",
       "      <td>37.095864</td>\n",
       "      <td>490.285103</td>\n",
       "      <td>59.113400</td>\n",
       "      <td>12.055735</td>\n",
       "      <td>6.101308</td>\n",
       "      <td>1108.635895</td>\n",
       "      <td>-368.340127</td>\n",
       "      <td>...</td>\n",
       "      <td>1.985770e+01</td>\n",
       "      <td>-488.665140</td>\n",
       "      <td>1.557025e+01</td>\n",
       "      <td>-464.176507</td>\n",
       "      <td>16.594103</td>\n",
       "      <td>-490.815250</td>\n",
       "      <td>12.945971</td>\n",
       "      <td>-489.583564</td>\n",
       "      <td>19.053888</td>\n",
       "      <td>-504.678924</td>\n",
       "    </tr>\n",
       "    <tr>\n",
       "      <th>std</th>\n",
       "      <td>1.993590</td>\n",
       "      <td>1.958601</td>\n",
       "      <td>1.029377</td>\n",
       "      <td>4.926284</td>\n",
       "      <td>94.371623</td>\n",
       "      <td>19.125122</td>\n",
       "      <td>3.407642</td>\n",
       "      <td>1.042754</td>\n",
       "      <td>156.493143</td>\n",
       "      <td>91.155929</td>\n",
       "      <td>...</td>\n",
       "      <td>5.913105e+00</td>\n",
       "      <td>44.392714</td>\n",
       "      <td>4.927361e+00</td>\n",
       "      <td>65.706994</td>\n",
       "      <td>5.724305</td>\n",
       "      <td>32.258443</td>\n",
       "      <td>5.533176</td>\n",
       "      <td>37.084609</td>\n",
       "      <td>5.548996</td>\n",
       "      <td>38.690186</td>\n",
       "    </tr>\n",
       "    <tr>\n",
       "      <th>min</th>\n",
       "      <td>0.010000</td>\n",
       "      <td>0.010000</td>\n",
       "      <td>0.010000</td>\n",
       "      <td>0.010000</td>\n",
       "      <td>0.012786</td>\n",
       "      <td>0.046369</td>\n",
       "      <td>0.018907</td>\n",
       "      <td>0.015783</td>\n",
       "      <td>300.792494</td>\n",
       "      <td>-600.568138</td>\n",
       "      <td>...</td>\n",
       "      <td>1.079872e-16</td>\n",
       "      <td>-799.704969</td>\n",
       "      <td>2.489718e-17</td>\n",
       "      <td>-799.860767</td>\n",
       "      <td>-0.371498</td>\n",
       "      <td>-797.142475</td>\n",
       "      <td>1.358469</td>\n",
       "      <td>-800.006180</td>\n",
       "      <td>0.160386</td>\n",
       "      <td>-809.734800</td>\n",
       "    </tr>\n",
       "    <tr>\n",
       "      <th>25%</th>\n",
       "      <td>6.574363</td>\n",
       "      <td>6.975898</td>\n",
       "      <td>2.903612</td>\n",
       "      <td>34.510841</td>\n",
       "      <td>434.099695</td>\n",
       "      <td>47.596984</td>\n",
       "      <td>9.890429</td>\n",
       "      <td>5.499808</td>\n",
       "      <td>999.715729</td>\n",
       "      <td>-499.731972</td>\n",
       "      <td>...</td>\n",
       "      <td>1.501123e+01</td>\n",
       "      <td>-500.704004</td>\n",
       "      <td>1.202172e+01</td>\n",
       "      <td>-500.196517</td>\n",
       "      <td>11.073822</td>\n",
       "      <td>-500.483564</td>\n",
       "      <td>9.011890</td>\n",
       "      <td>-500.129913</td>\n",
       "      <td>14.963953</td>\n",
       "      <td>-500.668501</td>\n",
       "    </tr>\n",
       "    <tr>\n",
       "      <th>50%</th>\n",
       "      <td>7.812923</td>\n",
       "      <td>8.179714</td>\n",
       "      <td>3.540772</td>\n",
       "      <td>37.499761</td>\n",
       "      <td>502.118742</td>\n",
       "      <td>55.509481</td>\n",
       "      <td>11.997859</td>\n",
       "      <td>6.099805</td>\n",
       "      <td>1001.414798</td>\n",
       "      <td>-300.181367</td>\n",
       "      <td>...</td>\n",
       "      <td>1.996807e+01</td>\n",
       "      <td>-499.892919</td>\n",
       "      <td>1.501240e+01</td>\n",
       "      <td>-499.540776</td>\n",
       "      <td>16.631195</td>\n",
       "      <td>-499.873136</td>\n",
       "      <td>11.999417</td>\n",
       "      <td>-499.955304</td>\n",
       "      <td>19.960006</td>\n",
       "      <td>-500.033769</td>\n",
       "    </tr>\n",
       "    <tr>\n",
       "      <th>75%</th>\n",
       "      <td>9.556589</td>\n",
       "      <td>10.084339</td>\n",
       "      <td>4.199847</td>\n",
       "      <td>40.461315</td>\n",
       "      <td>555.596563</td>\n",
       "      <td>66.661547</td>\n",
       "      <td>14.496072</td>\n",
       "      <td>6.802101</td>\n",
       "      <td>1202.837565</td>\n",
       "      <td>-299.961547</td>\n",
       "      <td>...</td>\n",
       "      <td>2.498900e+01</td>\n",
       "      <td>-498.652030</td>\n",
       "      <td>1.999949e+01</td>\n",
       "      <td>-400.302329</td>\n",
       "      <td>19.983191</td>\n",
       "      <td>-498.852815</td>\n",
       "      <td>15.004198</td>\n",
       "      <td>-499.643776</td>\n",
       "      <td>24.974583</td>\n",
       "      <td>-499.460134</td>\n",
       "    </tr>\n",
       "    <tr>\n",
       "      <th>max</th>\n",
       "      <td>13.417156</td>\n",
       "      <td>14.533698</td>\n",
       "      <td>7.142594</td>\n",
       "      <td>53.477742</td>\n",
       "      <td>702.523396</td>\n",
       "      <td>363.989699</td>\n",
       "      <td>30.010759</td>\n",
       "      <td>9.396928</td>\n",
       "      <td>1521.980372</td>\n",
       "      <td>-281.039299</td>\n",
       "      <td>...</td>\n",
       "      <td>3.008450e+01</td>\n",
       "      <td>-383.373053</td>\n",
       "      <td>2.398898e+01</td>\n",
       "      <td>-114.250832</td>\n",
       "      <td>33.215996</td>\n",
       "      <td>-288.963521</td>\n",
       "      <td>24.177106</td>\n",
       "      <td>-141.934397</td>\n",
       "      <td>32.028529</td>\n",
       "      <td>-104.427459</td>\n",
       "    </tr>\n",
       "  </tbody>\n",
       "</table>\n",
       "<p>8 rows × 52 columns</p>\n",
       "</div>"
      ],
      "text/plain": [
       "       rougher.input.feed_au  rougher.input.feed_ag  rougher.input.feed_pb  \\\n",
       "count            4860.000000            4860.000000            4832.000000   \n",
       "mean                8.005584               8.547348               3.579662   \n",
       "std                 1.993590               1.958601               1.029377   \n",
       "min                 0.010000               0.010000               0.010000   \n",
       "25%                 6.574363               6.975898               2.903612   \n",
       "50%                 7.812923               8.179714               3.540772   \n",
       "75%                 9.556589              10.084339               4.199847   \n",
       "max                13.417156              14.533698               7.142594   \n",
       "\n",
       "       rougher.input.feed_sol  rougher.input.feed_rate  \\\n",
       "count             4838.000000              4856.000000   \n",
       "mean                37.095864               490.285103   \n",
       "std                  4.926284                94.371623   \n",
       "min                  0.010000                 0.012786   \n",
       "25%                 34.510841               434.099695   \n",
       "50%                 37.499761               502.118742   \n",
       "75%                 40.461315               555.596563   \n",
       "max                 53.477742               702.523396   \n",
       "\n",
       "       rougher.input.feed_size  rougher.input.floatbank10_sulfate  \\\n",
       "count              4816.000000                        4857.000000   \n",
       "mean                 59.113400                          12.055735   \n",
       "std                  19.125122                           3.407642   \n",
       "min                   0.046369                           0.018907   \n",
       "25%                  47.596984                           9.890429   \n",
       "50%                  55.509481                          11.997859   \n",
       "75%                  66.661547                          14.496072   \n",
       "max                 363.989699                          30.010759   \n",
       "\n",
       "       rougher.input.floatbank10_xanthate  rougher.state.floatbank10_a_air  \\\n",
       "count                         4859.000000                      4859.000000   \n",
       "mean                             6.101308                      1108.635895   \n",
       "std                              1.042754                       156.493143   \n",
       "min                              0.015783                       300.792494   \n",
       "25%                              5.499808                       999.715729   \n",
       "50%                              6.099805                      1001.414798   \n",
       "75%                              6.802101                      1202.837565   \n",
       "max                              9.396928                      1521.980372   \n",
       "\n",
       "       rougher.state.floatbank10_a_level  ...  \\\n",
       "count                        4859.000000  ...   \n",
       "mean                         -368.340127  ...   \n",
       "std                            91.155929  ...   \n",
       "min                          -600.568138  ...   \n",
       "25%                          -499.731972  ...   \n",
       "50%                          -300.181367  ...   \n",
       "75%                          -299.961547  ...   \n",
       "max                          -281.039299  ...   \n",
       "\n",
       "       secondary_cleaner.state.floatbank4_a_air  \\\n",
       "count                              4.859000e+03   \n",
       "mean                               1.985770e+01   \n",
       "std                                5.913105e+00   \n",
       "min                                1.079872e-16   \n",
       "25%                                1.501123e+01   \n",
       "50%                                1.996807e+01   \n",
       "75%                                2.498900e+01   \n",
       "max                                3.008450e+01   \n",
       "\n",
       "       secondary_cleaner.state.floatbank4_a_level  \\\n",
       "count                                 4859.000000   \n",
       "mean                                  -488.665140   \n",
       "std                                     44.392714   \n",
       "min                                   -799.704969   \n",
       "25%                                   -500.704004   \n",
       "50%                                   -499.892919   \n",
       "75%                                   -498.652030   \n",
       "max                                   -383.373053   \n",
       "\n",
       "       secondary_cleaner.state.floatbank4_b_air  \\\n",
       "count                              4.859000e+03   \n",
       "mean                               1.557025e+01   \n",
       "std                                4.927361e+00   \n",
       "min                                2.489718e-17   \n",
       "25%                                1.202172e+01   \n",
       "50%                                1.501240e+01   \n",
       "75%                                1.999949e+01   \n",
       "max                                2.398898e+01   \n",
       "\n",
       "       secondary_cleaner.state.floatbank4_b_level  \\\n",
       "count                                 4859.000000   \n",
       "mean                                  -464.176507   \n",
       "std                                     65.706994   \n",
       "min                                   -799.860767   \n",
       "25%                                   -500.196517   \n",
       "50%                                   -499.540776   \n",
       "75%                                   -400.302329   \n",
       "max                                   -114.250832   \n",
       "\n",
       "       secondary_cleaner.state.floatbank5_a_air  \\\n",
       "count                               4859.000000   \n",
       "mean                                  16.594103   \n",
       "std                                    5.724305   \n",
       "min                                   -0.371498   \n",
       "25%                                   11.073822   \n",
       "50%                                   16.631195   \n",
       "75%                                   19.983191   \n",
       "max                                   33.215996   \n",
       "\n",
       "       secondary_cleaner.state.floatbank5_a_level  \\\n",
       "count                                 4859.000000   \n",
       "mean                                  -490.815250   \n",
       "std                                     32.258443   \n",
       "min                                   -797.142475   \n",
       "25%                                   -500.483564   \n",
       "50%                                   -499.873136   \n",
       "75%                                   -498.852815   \n",
       "max                                   -288.963521   \n",
       "\n",
       "       secondary_cleaner.state.floatbank5_b_air  \\\n",
       "count                               4859.000000   \n",
       "mean                                  12.945971   \n",
       "std                                    5.533176   \n",
       "min                                    1.358469   \n",
       "25%                                    9.011890   \n",
       "50%                                   11.999417   \n",
       "75%                                   15.004198   \n",
       "max                                   24.177106   \n",
       "\n",
       "       secondary_cleaner.state.floatbank5_b_level  \\\n",
       "count                                 4859.000000   \n",
       "mean                                  -489.583564   \n",
       "std                                     37.084609   \n",
       "min                                   -800.006180   \n",
       "25%                                   -500.129913   \n",
       "50%                                   -499.955304   \n",
       "75%                                   -499.643776   \n",
       "max                                   -141.934397   \n",
       "\n",
       "       secondary_cleaner.state.floatbank6_a_air  \\\n",
       "count                               4859.000000   \n",
       "mean                                  19.053888   \n",
       "std                                    5.548996   \n",
       "min                                    0.160386   \n",
       "25%                                   14.963953   \n",
       "50%                                   19.960006   \n",
       "75%                                   24.974583   \n",
       "max                                   32.028529   \n",
       "\n",
       "       secondary_cleaner.state.floatbank6_a_level  \n",
       "count                                 4859.000000  \n",
       "mean                                  -504.678924  \n",
       "std                                     38.690186  \n",
       "min                                   -809.734800  \n",
       "25%                                   -500.668501  \n",
       "50%                                   -500.033769  \n",
       "75%                                   -499.460134  \n",
       "max                                   -104.427459  \n",
       "\n",
       "[8 rows x 52 columns]"
      ]
     },
     "metadata": {},
     "output_type": "display_data"
    },
    {
     "data": {
      "text/html": [
       "<div>\n",
       "<style scoped>\n",
       "    .dataframe tbody tr th:only-of-type {\n",
       "        vertical-align: middle;\n",
       "    }\n",
       "\n",
       "    .dataframe tbody tr th {\n",
       "        vertical-align: top;\n",
       "    }\n",
       "\n",
       "    .dataframe thead th {\n",
       "        text-align: right;\n",
       "    }\n",
       "</style>\n",
       "<table border=\"1\" class=\"dataframe\">\n",
       "  <thead>\n",
       "    <tr style=\"text-align: right;\">\n",
       "      <th></th>\n",
       "      <th>date</th>\n",
       "      <th>rougher.input.feed_au</th>\n",
       "      <th>rougher.input.feed_ag</th>\n",
       "      <th>rougher.input.feed_pb</th>\n",
       "      <th>rougher.input.feed_sol</th>\n",
       "      <th>rougher.input.feed_rate</th>\n",
       "      <th>rougher.input.feed_size</th>\n",
       "      <th>rougher.input.floatbank10_sulfate</th>\n",
       "      <th>rougher.input.floatbank10_xanthate</th>\n",
       "      <th>rougher.state.floatbank10_a_air</th>\n",
       "      <th>...</th>\n",
       "      <th>secondary_cleaner.output.tail_sol</th>\n",
       "      <th>final.output.concentrate_au</th>\n",
       "      <th>final.output.concentrate_ag</th>\n",
       "      <th>final.output.concentrate_pb</th>\n",
       "      <th>final.output.concentrate_sol</th>\n",
       "      <th>final.output.recovery</th>\n",
       "      <th>final.output.tail_au</th>\n",
       "      <th>final.output.tail_ag</th>\n",
       "      <th>final.output.tail_pb</th>\n",
       "      <th>final.output.tail_sol</th>\n",
       "    </tr>\n",
       "  </thead>\n",
       "  <tbody>\n",
       "    <tr>\n",
       "      <th>0</th>\n",
       "      <td>2016-01-15 00:00:00</td>\n",
       "      <td>6.486150</td>\n",
       "      <td>6.100378</td>\n",
       "      <td>2.284912</td>\n",
       "      <td>36.808594</td>\n",
       "      <td>523.546326</td>\n",
       "      <td>55.486599</td>\n",
       "      <td>11.986616</td>\n",
       "      <td>6.007990</td>\n",
       "      <td>999.706909</td>\n",
       "      <td>...</td>\n",
       "      <td>8.764648</td>\n",
       "      <td>42.192020</td>\n",
       "      <td>6.055403</td>\n",
       "      <td>9.889648</td>\n",
       "      <td>5.507324</td>\n",
       "      <td>70.541216</td>\n",
       "      <td>2.143149</td>\n",
       "      <td>10.411962</td>\n",
       "      <td>0.895447</td>\n",
       "      <td>16.904297</td>\n",
       "    </tr>\n",
       "    <tr>\n",
       "      <th>1</th>\n",
       "      <td>2016-01-15 01:00:00</td>\n",
       "      <td>6.478583</td>\n",
       "      <td>6.161113</td>\n",
       "      <td>2.266033</td>\n",
       "      <td>35.753385</td>\n",
       "      <td>525.290581</td>\n",
       "      <td>57.278666</td>\n",
       "      <td>11.971193</td>\n",
       "      <td>6.005766</td>\n",
       "      <td>1000.286398</td>\n",
       "      <td>...</td>\n",
       "      <td>9.001494</td>\n",
       "      <td>42.701629</td>\n",
       "      <td>6.029369</td>\n",
       "      <td>9.968944</td>\n",
       "      <td>5.257781</td>\n",
       "      <td>69.266198</td>\n",
       "      <td>2.224930</td>\n",
       "      <td>10.462676</td>\n",
       "      <td>0.927452</td>\n",
       "      <td>16.634514</td>\n",
       "    </tr>\n",
       "    <tr>\n",
       "      <th>2</th>\n",
       "      <td>2016-01-15 02:00:00</td>\n",
       "      <td>6.362222</td>\n",
       "      <td>6.116455</td>\n",
       "      <td>2.159622</td>\n",
       "      <td>35.971630</td>\n",
       "      <td>530.026610</td>\n",
       "      <td>57.510649</td>\n",
       "      <td>11.920603</td>\n",
       "      <td>6.197377</td>\n",
       "      <td>999.719565</td>\n",
       "      <td>...</td>\n",
       "      <td>8.842896</td>\n",
       "      <td>42.657501</td>\n",
       "      <td>6.055926</td>\n",
       "      <td>10.213995</td>\n",
       "      <td>5.383759</td>\n",
       "      <td>68.116445</td>\n",
       "      <td>2.257889</td>\n",
       "      <td>10.507046</td>\n",
       "      <td>0.953716</td>\n",
       "      <td>16.208849</td>\n",
       "    </tr>\n",
       "    <tr>\n",
       "      <th>3</th>\n",
       "      <td>2016-01-15 03:00:00</td>\n",
       "      <td>6.118189</td>\n",
       "      <td>6.043309</td>\n",
       "      <td>2.037807</td>\n",
       "      <td>36.862241</td>\n",
       "      <td>542.590390</td>\n",
       "      <td>57.792734</td>\n",
       "      <td>11.630094</td>\n",
       "      <td>6.203177</td>\n",
       "      <td>999.814770</td>\n",
       "      <td>...</td>\n",
       "      <td>9.122857</td>\n",
       "      <td>42.689819</td>\n",
       "      <td>6.047977</td>\n",
       "      <td>9.977019</td>\n",
       "      <td>4.858634</td>\n",
       "      <td>68.347543</td>\n",
       "      <td>2.146849</td>\n",
       "      <td>10.422762</td>\n",
       "      <td>0.883763</td>\n",
       "      <td>16.532835</td>\n",
       "    </tr>\n",
       "    <tr>\n",
       "      <th>4</th>\n",
       "      <td>2016-01-15 04:00:00</td>\n",
       "      <td>5.663707</td>\n",
       "      <td>6.060915</td>\n",
       "      <td>1.786875</td>\n",
       "      <td>34.347666</td>\n",
       "      <td>540.531893</td>\n",
       "      <td>56.047189</td>\n",
       "      <td>10.957755</td>\n",
       "      <td>6.198826</td>\n",
       "      <td>999.678690</td>\n",
       "      <td>...</td>\n",
       "      <td>8.871028</td>\n",
       "      <td>42.774141</td>\n",
       "      <td>6.148599</td>\n",
       "      <td>10.142511</td>\n",
       "      <td>4.939416</td>\n",
       "      <td>66.927016</td>\n",
       "      <td>2.055292</td>\n",
       "      <td>10.360302</td>\n",
       "      <td>0.792826</td>\n",
       "      <td>16.525686</td>\n",
       "    </tr>\n",
       "  </tbody>\n",
       "</table>\n",
       "<p>5 rows × 87 columns</p>\n",
       "</div>"
      ],
      "text/plain": [
       "                  date  rougher.input.feed_au  rougher.input.feed_ag  \\\n",
       "0  2016-01-15 00:00:00               6.486150               6.100378   \n",
       "1  2016-01-15 01:00:00               6.478583               6.161113   \n",
       "2  2016-01-15 02:00:00               6.362222               6.116455   \n",
       "3  2016-01-15 03:00:00               6.118189               6.043309   \n",
       "4  2016-01-15 04:00:00               5.663707               6.060915   \n",
       "\n",
       "   rougher.input.feed_pb  rougher.input.feed_sol  rougher.input.feed_rate  \\\n",
       "0               2.284912               36.808594               523.546326   \n",
       "1               2.266033               35.753385               525.290581   \n",
       "2               2.159622               35.971630               530.026610   \n",
       "3               2.037807               36.862241               542.590390   \n",
       "4               1.786875               34.347666               540.531893   \n",
       "\n",
       "   rougher.input.feed_size  rougher.input.floatbank10_sulfate  \\\n",
       "0                55.486599                          11.986616   \n",
       "1                57.278666                          11.971193   \n",
       "2                57.510649                          11.920603   \n",
       "3                57.792734                          11.630094   \n",
       "4                56.047189                          10.957755   \n",
       "\n",
       "   rougher.input.floatbank10_xanthate  rougher.state.floatbank10_a_air  ...  \\\n",
       "0                            6.007990                       999.706909  ...   \n",
       "1                            6.005766                      1000.286398  ...   \n",
       "2                            6.197377                       999.719565  ...   \n",
       "3                            6.203177                       999.814770  ...   \n",
       "4                            6.198826                       999.678690  ...   \n",
       "\n",
       "   secondary_cleaner.output.tail_sol  final.output.concentrate_au  \\\n",
       "0                           8.764648                    42.192020   \n",
       "1                           9.001494                    42.701629   \n",
       "2                           8.842896                    42.657501   \n",
       "3                           9.122857                    42.689819   \n",
       "4                           8.871028                    42.774141   \n",
       "\n",
       "   final.output.concentrate_ag  final.output.concentrate_pb  \\\n",
       "0                     6.055403                     9.889648   \n",
       "1                     6.029369                     9.968944   \n",
       "2                     6.055926                    10.213995   \n",
       "3                     6.047977                     9.977019   \n",
       "4                     6.148599                    10.142511   \n",
       "\n",
       "   final.output.concentrate_sol  final.output.recovery  final.output.tail_au  \\\n",
       "0                      5.507324              70.541216              2.143149   \n",
       "1                      5.257781              69.266198              2.224930   \n",
       "2                      5.383759              68.116445              2.257889   \n",
       "3                      4.858634              68.347543              2.146849   \n",
       "4                      4.939416              66.927016              2.055292   \n",
       "\n",
       "   final.output.tail_ag  final.output.tail_pb  final.output.tail_sol  \n",
       "0             10.411962              0.895447              16.904297  \n",
       "1             10.462676              0.927452              16.634514  \n",
       "2             10.507046              0.953716              16.208849  \n",
       "3             10.422762              0.883763              16.532835  \n",
       "4             10.360302              0.792826              16.525686  \n",
       "\n",
       "[5 rows x 87 columns]"
      ]
     },
     "metadata": {},
     "output_type": "display_data"
    },
    {
     "name": "stdout",
     "output_type": "stream",
     "text": [
      "<class 'pandas.core.frame.DataFrame'>\n",
      "RangeIndex: 19439 entries, 0 to 19438\n",
      "Data columns (total 87 columns):\n",
      " #   Column                                              Non-Null Count  Dtype  \n",
      "---  ------                                              --------------  -----  \n",
      " 0   date                                                19439 non-null  object \n",
      " 1   rougher.input.feed_au                               19439 non-null  float64\n",
      " 2   rougher.input.feed_ag                               19439 non-null  float64\n",
      " 3   rougher.input.feed_pb                               19339 non-null  float64\n",
      " 4   rougher.input.feed_sol                              19340 non-null  float64\n",
      " 5   rougher.input.feed_rate                             19428 non-null  float64\n",
      " 6   rougher.input.feed_size                             19294 non-null  float64\n",
      " 7   rougher.input.floatbank10_sulfate                   19405 non-null  float64\n",
      " 8   rougher.input.floatbank10_xanthate                  19431 non-null  float64\n",
      " 9   rougher.state.floatbank10_a_air                     19438 non-null  float64\n",
      " 10  rougher.state.floatbank10_a_level                   19438 non-null  float64\n",
      " 11  rougher.state.floatbank10_b_air                     19438 non-null  float64\n",
      " 12  rougher.state.floatbank10_b_level                   19438 non-null  float64\n",
      " 13  rougher.state.floatbank10_c_air                     19438 non-null  float64\n",
      " 14  rougher.state.floatbank10_c_level                   19438 non-null  float64\n",
      " 15  rougher.state.floatbank10_d_air                     19439 non-null  float64\n",
      " 16  rougher.state.floatbank10_d_level                   19439 non-null  float64\n",
      " 17  rougher.state.floatbank10_e_air                     19003 non-null  float64\n",
      " 18  rougher.state.floatbank10_e_level                   19439 non-null  float64\n",
      " 19  rougher.state.floatbank10_f_air                     19439 non-null  float64\n",
      " 20  rougher.state.floatbank10_f_level                   19439 non-null  float64\n",
      " 21  rougher.input.floatbank11_sulfate                   19395 non-null  float64\n",
      " 22  rougher.input.floatbank11_xanthate                  18986 non-null  float64\n",
      " 23  rougher.calculation.sulfate_to_au_concentrate       19437 non-null  float64\n",
      " 24  rougher.calculation.floatbank10_sulfate_to_au_feed  19437 non-null  float64\n",
      " 25  rougher.calculation.floatbank11_sulfate_to_au_feed  19437 non-null  float64\n",
      " 26  rougher.calculation.au_pb_ratio                     19439 non-null  float64\n",
      " 27  rougher.output.concentrate_au                       19439 non-null  float64\n",
      " 28  rougher.output.concentrate_ag                       19439 non-null  float64\n",
      " 29  rougher.output.concentrate_pb                       19439 non-null  float64\n",
      " 30  rougher.output.concentrate_sol                      19416 non-null  float64\n",
      " 31  rougher.output.recovery                             19439 non-null  float64\n",
      " 32  rougher.output.tail_au                              19439 non-null  float64\n",
      " 33  rougher.output.tail_ag                              19438 non-null  float64\n",
      " 34  rougher.output.tail_pb                              19439 non-null  float64\n",
      " 35  rougher.output.tail_sol                             19439 non-null  float64\n",
      " 36  primary_cleaner.input.sulfate                       19415 non-null  float64\n",
      " 37  primary_cleaner.input.depressant                    19402 non-null  float64\n",
      " 38  primary_cleaner.input.feed_size                     19439 non-null  float64\n",
      " 39  primary_cleaner.input.xanthate                      19335 non-null  float64\n",
      " 40  primary_cleaner.state.floatbank8_a_air              19435 non-null  float64\n",
      " 41  primary_cleaner.state.floatbank8_a_level            19438 non-null  float64\n",
      " 42  primary_cleaner.state.floatbank8_b_air              19435 non-null  float64\n",
      " 43  primary_cleaner.state.floatbank8_b_level            19438 non-null  float64\n",
      " 44  primary_cleaner.state.floatbank8_c_air              19437 non-null  float64\n",
      " 45  primary_cleaner.state.floatbank8_c_level            19438 non-null  float64\n",
      " 46  primary_cleaner.state.floatbank8_d_air              19436 non-null  float64\n",
      " 47  primary_cleaner.state.floatbank8_d_level            19438 non-null  float64\n",
      " 48  primary_cleaner.output.concentrate_au               19439 non-null  float64\n",
      " 49  primary_cleaner.output.concentrate_ag               19439 non-null  float64\n",
      " 50  primary_cleaner.output.concentrate_pb               19323 non-null  float64\n",
      " 51  primary_cleaner.output.concentrate_sol              19069 non-null  float64\n",
      " 52  primary_cleaner.output.tail_au                      19439 non-null  float64\n",
      " 53  primary_cleaner.output.tail_ag                      19435 non-null  float64\n",
      " 54  primary_cleaner.output.tail_pb                      19418 non-null  float64\n",
      " 55  primary_cleaner.output.tail_sol                     19377 non-null  float64\n",
      " 56  secondary_cleaner.state.floatbank2_a_air            19219 non-null  float64\n",
      " 57  secondary_cleaner.state.floatbank2_a_level          19438 non-null  float64\n",
      " 58  secondary_cleaner.state.floatbank2_b_air            19416 non-null  float64\n",
      " 59  secondary_cleaner.state.floatbank2_b_level          19438 non-null  float64\n",
      " 60  secondary_cleaner.state.floatbank3_a_air            19426 non-null  float64\n",
      " 61  secondary_cleaner.state.floatbank3_a_level          19438 non-null  float64\n",
      " 62  secondary_cleaner.state.floatbank3_b_air            19438 non-null  float64\n",
      " 63  secondary_cleaner.state.floatbank3_b_level          19438 non-null  float64\n",
      " 64  secondary_cleaner.state.floatbank4_a_air            19433 non-null  float64\n",
      " 65  secondary_cleaner.state.floatbank4_a_level          19438 non-null  float64\n",
      " 66  secondary_cleaner.state.floatbank4_b_air            19438 non-null  float64\n",
      " 67  secondary_cleaner.state.floatbank4_b_level          19438 non-null  float64\n",
      " 68  secondary_cleaner.state.floatbank5_a_air            19438 non-null  float64\n",
      " 69  secondary_cleaner.state.floatbank5_a_level          19438 non-null  float64\n",
      " 70  secondary_cleaner.state.floatbank5_b_air            19438 non-null  float64\n",
      " 71  secondary_cleaner.state.floatbank5_b_level          19438 non-null  float64\n",
      " 72  secondary_cleaner.state.floatbank6_a_air            19437 non-null  float64\n",
      " 73  secondary_cleaner.state.floatbank6_a_level          19438 non-null  float64\n",
      " 74  secondary_cleaner.output.tail_au                    19439 non-null  float64\n",
      " 75  secondary_cleaner.output.tail_ag                    19437 non-null  float64\n",
      " 76  secondary_cleaner.output.tail_pb                    19427 non-null  float64\n",
      " 77  secondary_cleaner.output.tail_sol                   17691 non-null  float64\n",
      " 78  final.output.concentrate_au                         19439 non-null  float64\n",
      " 79  final.output.concentrate_ag                         19438 non-null  float64\n",
      " 80  final.output.concentrate_pb                         19438 non-null  float64\n",
      " 81  final.output.concentrate_sol                        19228 non-null  float64\n",
      " 82  final.output.recovery                               19439 non-null  float64\n",
      " 83  final.output.tail_au                                19439 non-null  float64\n",
      " 84  final.output.tail_ag                                19438 non-null  float64\n",
      " 85  final.output.tail_pb                                19338 non-null  float64\n",
      " 86  final.output.tail_sol                               19433 non-null  float64\n",
      "dtypes: float64(86), object(1)\n",
      "memory usage: 12.9+ MB\n"
     ]
    },
    {
     "data": {
      "text/plain": [
       "None"
      ]
     },
     "metadata": {},
     "output_type": "display_data"
    },
    {
     "data": {
      "text/html": [
       "<div>\n",
       "<style scoped>\n",
       "    .dataframe tbody tr th:only-of-type {\n",
       "        vertical-align: middle;\n",
       "    }\n",
       "\n",
       "    .dataframe tbody tr th {\n",
       "        vertical-align: top;\n",
       "    }\n",
       "\n",
       "    .dataframe thead th {\n",
       "        text-align: right;\n",
       "    }\n",
       "</style>\n",
       "<table border=\"1\" class=\"dataframe\">\n",
       "  <thead>\n",
       "    <tr style=\"text-align: right;\">\n",
       "      <th></th>\n",
       "      <th>rougher.input.feed_au</th>\n",
       "      <th>rougher.input.feed_ag</th>\n",
       "      <th>rougher.input.feed_pb</th>\n",
       "      <th>rougher.input.feed_sol</th>\n",
       "      <th>rougher.input.feed_rate</th>\n",
       "      <th>rougher.input.feed_size</th>\n",
       "      <th>rougher.input.floatbank10_sulfate</th>\n",
       "      <th>rougher.input.floatbank10_xanthate</th>\n",
       "      <th>rougher.state.floatbank10_a_air</th>\n",
       "      <th>rougher.state.floatbank10_a_level</th>\n",
       "      <th>...</th>\n",
       "      <th>secondary_cleaner.output.tail_sol</th>\n",
       "      <th>final.output.concentrate_au</th>\n",
       "      <th>final.output.concentrate_ag</th>\n",
       "      <th>final.output.concentrate_pb</th>\n",
       "      <th>final.output.concentrate_sol</th>\n",
       "      <th>final.output.recovery</th>\n",
       "      <th>final.output.tail_au</th>\n",
       "      <th>final.output.tail_ag</th>\n",
       "      <th>final.output.tail_pb</th>\n",
       "      <th>final.output.tail_sol</th>\n",
       "    </tr>\n",
       "  </thead>\n",
       "  <tbody>\n",
       "    <tr>\n",
       "      <th>count</th>\n",
       "      <td>19439.000000</td>\n",
       "      <td>19439.000000</td>\n",
       "      <td>19339.000000</td>\n",
       "      <td>19340.000000</td>\n",
       "      <td>19428.000000</td>\n",
       "      <td>19294.000000</td>\n",
       "      <td>19405.000000</td>\n",
       "      <td>19431.000000</td>\n",
       "      <td>19438.000000</td>\n",
       "      <td>19438.000000</td>\n",
       "      <td>...</td>\n",
       "      <td>17691.000000</td>\n",
       "      <td>19439.000000</td>\n",
       "      <td>19438.000000</td>\n",
       "      <td>19438.000000</td>\n",
       "      <td>19228.000000</td>\n",
       "      <td>19439.000000</td>\n",
       "      <td>19439.000000</td>\n",
       "      <td>19438.000000</td>\n",
       "      <td>19338.000000</td>\n",
       "      <td>19433.000000</td>\n",
       "    </tr>\n",
       "    <tr>\n",
       "      <th>mean</th>\n",
       "      <td>8.266097</td>\n",
       "      <td>8.794927</td>\n",
       "      <td>3.598085</td>\n",
       "      <td>36.695114</td>\n",
       "      <td>478.320042</td>\n",
       "      <td>58.970310</td>\n",
       "      <td>12.334373</td>\n",
       "      <td>6.021474</td>\n",
       "      <td>1105.315068</td>\n",
       "      <td>-376.610690</td>\n",
       "      <td>...</td>\n",
       "      <td>7.167247</td>\n",
       "      <td>44.076513</td>\n",
       "      <td>5.168470</td>\n",
       "      <td>9.978895</td>\n",
       "      <td>9.501224</td>\n",
       "      <td>67.050208</td>\n",
       "      <td>3.042467</td>\n",
       "      <td>9.688589</td>\n",
       "      <td>2.705795</td>\n",
       "      <td>10.583728</td>\n",
       "    </tr>\n",
       "    <tr>\n",
       "      <th>std</th>\n",
       "      <td>1.955092</td>\n",
       "      <td>1.936847</td>\n",
       "      <td>1.049486</td>\n",
       "      <td>5.145445</td>\n",
       "      <td>105.373758</td>\n",
       "      <td>21.634478</td>\n",
       "      <td>3.427317</td>\n",
       "      <td>1.127263</td>\n",
       "      <td>160.826798</td>\n",
       "      <td>93.909667</td>\n",
       "      <td>...</td>\n",
       "      <td>3.916079</td>\n",
       "      <td>5.129784</td>\n",
       "      <td>1.372348</td>\n",
       "      <td>1.669240</td>\n",
       "      <td>2.787537</td>\n",
       "      <td>10.125840</td>\n",
       "      <td>0.922808</td>\n",
       "      <td>2.328642</td>\n",
       "      <td>0.949077</td>\n",
       "      <td>2.868782</td>\n",
       "    </tr>\n",
       "    <tr>\n",
       "      <th>min</th>\n",
       "      <td>0.010000</td>\n",
       "      <td>0.010000</td>\n",
       "      <td>0.010000</td>\n",
       "      <td>0.010000</td>\n",
       "      <td>0.002986</td>\n",
       "      <td>0.046369</td>\n",
       "      <td>0.001083</td>\n",
       "      <td>0.000568</td>\n",
       "      <td>-0.042069</td>\n",
       "      <td>-657.949759</td>\n",
       "      <td>...</td>\n",
       "      <td>0.000000</td>\n",
       "      <td>0.000000</td>\n",
       "      <td>0.000000</td>\n",
       "      <td>0.000000</td>\n",
       "      <td>0.000000</td>\n",
       "      <td>0.000000</td>\n",
       "      <td>0.000000</td>\n",
       "      <td>0.000000</td>\n",
       "      <td>0.000000</td>\n",
       "      <td>0.000000</td>\n",
       "    </tr>\n",
       "    <tr>\n",
       "      <th>25%</th>\n",
       "      <td>6.854384</td>\n",
       "      <td>7.237967</td>\n",
       "      <td>2.887280</td>\n",
       "      <td>34.207799</td>\n",
       "      <td>416.525453</td>\n",
       "      <td>47.435103</td>\n",
       "      <td>10.000362</td>\n",
       "      <td>5.398678</td>\n",
       "      <td>999.661867</td>\n",
       "      <td>-499.835165</td>\n",
       "      <td>...</td>\n",
       "      <td>3.845475</td>\n",
       "      <td>43.402215</td>\n",
       "      <td>4.251240</td>\n",
       "      <td>9.137262</td>\n",
       "      <td>7.722820</td>\n",
       "      <td>63.299712</td>\n",
       "      <td>2.461138</td>\n",
       "      <td>8.062878</td>\n",
       "      <td>2.040119</td>\n",
       "      <td>8.938947</td>\n",
       "    </tr>\n",
       "    <tr>\n",
       "      <th>50%</th>\n",
       "      <td>8.125839</td>\n",
       "      <td>8.593574</td>\n",
       "      <td>3.534895</td>\n",
       "      <td>37.202650</td>\n",
       "      <td>499.416120</td>\n",
       "      <td>54.610197</td>\n",
       "      <td>12.001174</td>\n",
       "      <td>6.008273</td>\n",
       "      <td>1001.072890</td>\n",
       "      <td>-300.263994</td>\n",
       "      <td>...</td>\n",
       "      <td>7.685827</td>\n",
       "      <td>45.011244</td>\n",
       "      <td>5.066094</td>\n",
       "      <td>10.102433</td>\n",
       "      <td>9.218961</td>\n",
       "      <td>68.172738</td>\n",
       "      <td>2.984909</td>\n",
       "      <td>9.743623</td>\n",
       "      <td>2.748730</td>\n",
       "      <td>10.622456</td>\n",
       "    </tr>\n",
       "    <tr>\n",
       "      <th>75%</th>\n",
       "      <td>9.769917</td>\n",
       "      <td>10.213771</td>\n",
       "      <td>4.244161</td>\n",
       "      <td>40.039133</td>\n",
       "      <td>550.172183</td>\n",
       "      <td>65.023044</td>\n",
       "      <td>14.716595</td>\n",
       "      <td>6.798051</td>\n",
       "      <td>1205.620588</td>\n",
       "      <td>-299.981998</td>\n",
       "      <td>...</td>\n",
       "      <td>10.411296</td>\n",
       "      <td>46.275313</td>\n",
       "      <td>5.895527</td>\n",
       "      <td>11.035769</td>\n",
       "      <td>10.947813</td>\n",
       "      <td>72.686642</td>\n",
       "      <td>3.571351</td>\n",
       "      <td>11.134294</td>\n",
       "      <td>3.333216</td>\n",
       "      <td>12.104271</td>\n",
       "    </tr>\n",
       "    <tr>\n",
       "      <th>max</th>\n",
       "      <td>13.731330</td>\n",
       "      <td>14.596026</td>\n",
       "      <td>7.142594</td>\n",
       "      <td>53.477742</td>\n",
       "      <td>717.508837</td>\n",
       "      <td>484.967466</td>\n",
       "      <td>36.118275</td>\n",
       "      <td>9.703448</td>\n",
       "      <td>1521.980372</td>\n",
       "      <td>-273.776101</td>\n",
       "      <td>...</td>\n",
       "      <td>26.000772</td>\n",
       "      <td>52.756638</td>\n",
       "      <td>16.001945</td>\n",
       "      <td>17.031899</td>\n",
       "      <td>19.615720</td>\n",
       "      <td>100.000000</td>\n",
       "      <td>8.245022</td>\n",
       "      <td>19.552149</td>\n",
       "      <td>5.804178</td>\n",
       "      <td>22.317730</td>\n",
       "    </tr>\n",
       "  </tbody>\n",
       "</table>\n",
       "<p>8 rows × 86 columns</p>\n",
       "</div>"
      ],
      "text/plain": [
       "       rougher.input.feed_au  rougher.input.feed_ag  rougher.input.feed_pb  \\\n",
       "count           19439.000000           19439.000000           19339.000000   \n",
       "mean                8.266097               8.794927               3.598085   \n",
       "std                 1.955092               1.936847               1.049486   \n",
       "min                 0.010000               0.010000               0.010000   \n",
       "25%                 6.854384               7.237967               2.887280   \n",
       "50%                 8.125839               8.593574               3.534895   \n",
       "75%                 9.769917              10.213771               4.244161   \n",
       "max                13.731330              14.596026               7.142594   \n",
       "\n",
       "       rougher.input.feed_sol  rougher.input.feed_rate  \\\n",
       "count            19340.000000             19428.000000   \n",
       "mean                36.695114               478.320042   \n",
       "std                  5.145445               105.373758   \n",
       "min                  0.010000                 0.002986   \n",
       "25%                 34.207799               416.525453   \n",
       "50%                 37.202650               499.416120   \n",
       "75%                 40.039133               550.172183   \n",
       "max                 53.477742               717.508837   \n",
       "\n",
       "       rougher.input.feed_size  rougher.input.floatbank10_sulfate  \\\n",
       "count             19294.000000                       19405.000000   \n",
       "mean                 58.970310                          12.334373   \n",
       "std                  21.634478                           3.427317   \n",
       "min                   0.046369                           0.001083   \n",
       "25%                  47.435103                          10.000362   \n",
       "50%                  54.610197                          12.001174   \n",
       "75%                  65.023044                          14.716595   \n",
       "max                 484.967466                          36.118275   \n",
       "\n",
       "       rougher.input.floatbank10_xanthate  rougher.state.floatbank10_a_air  \\\n",
       "count                        19431.000000                     19438.000000   \n",
       "mean                             6.021474                      1105.315068   \n",
       "std                              1.127263                       160.826798   \n",
       "min                              0.000568                        -0.042069   \n",
       "25%                              5.398678                       999.661867   \n",
       "50%                              6.008273                      1001.072890   \n",
       "75%                              6.798051                      1205.620588   \n",
       "max                              9.703448                      1521.980372   \n",
       "\n",
       "       rougher.state.floatbank10_a_level  ...  \\\n",
       "count                       19438.000000  ...   \n",
       "mean                         -376.610690  ...   \n",
       "std                            93.909667  ...   \n",
       "min                          -657.949759  ...   \n",
       "25%                          -499.835165  ...   \n",
       "50%                          -300.263994  ...   \n",
       "75%                          -299.981998  ...   \n",
       "max                          -273.776101  ...   \n",
       "\n",
       "       secondary_cleaner.output.tail_sol  final.output.concentrate_au  \\\n",
       "count                       17691.000000                 19439.000000   \n",
       "mean                            7.167247                    44.076513   \n",
       "std                             3.916079                     5.129784   \n",
       "min                             0.000000                     0.000000   \n",
       "25%                             3.845475                    43.402215   \n",
       "50%                             7.685827                    45.011244   \n",
       "75%                            10.411296                    46.275313   \n",
       "max                            26.000772                    52.756638   \n",
       "\n",
       "       final.output.concentrate_ag  final.output.concentrate_pb  \\\n",
       "count                 19438.000000                 19438.000000   \n",
       "mean                      5.168470                     9.978895   \n",
       "std                       1.372348                     1.669240   \n",
       "min                       0.000000                     0.000000   \n",
       "25%                       4.251240                     9.137262   \n",
       "50%                       5.066094                    10.102433   \n",
       "75%                       5.895527                    11.035769   \n",
       "max                      16.001945                    17.031899   \n",
       "\n",
       "       final.output.concentrate_sol  final.output.recovery  \\\n",
       "count                  19228.000000           19439.000000   \n",
       "mean                       9.501224              67.050208   \n",
       "std                        2.787537              10.125840   \n",
       "min                        0.000000               0.000000   \n",
       "25%                        7.722820              63.299712   \n",
       "50%                        9.218961              68.172738   \n",
       "75%                       10.947813              72.686642   \n",
       "max                       19.615720             100.000000   \n",
       "\n",
       "       final.output.tail_au  final.output.tail_ag  final.output.tail_pb  \\\n",
       "count          19439.000000          19438.000000          19338.000000   \n",
       "mean               3.042467              9.688589              2.705795   \n",
       "std                0.922808              2.328642              0.949077   \n",
       "min                0.000000              0.000000              0.000000   \n",
       "25%                2.461138              8.062878              2.040119   \n",
       "50%                2.984909              9.743623              2.748730   \n",
       "75%                3.571351             11.134294              3.333216   \n",
       "max                8.245022             19.552149              5.804178   \n",
       "\n",
       "       final.output.tail_sol  \n",
       "count           19433.000000  \n",
       "mean               10.583728  \n",
       "std                 2.868782  \n",
       "min                 0.000000  \n",
       "25%                 8.938947  \n",
       "50%                10.622456  \n",
       "75%                12.104271  \n",
       "max                22.317730  \n",
       "\n",
       "[8 rows x 86 columns]"
      ]
     },
     "metadata": {},
     "output_type": "display_data"
    }
   ],
   "source": [
    "#Создадим список из переменных и посмотрим информацию о каждом датасете\n",
    "data_list = [data_train, data_test, data_full]\n",
    "for data in data_list:\n",
    "    display(data.head())\n",
    "    display(data.info())\n",
    "    display(data.describe())"
   ]
  },
  {
   "cell_type": "code",
   "execution_count": 4,
   "metadata": {},
   "outputs": [
    {
     "name": "stdout",
     "output_type": "stream",
     "text": [
      "Количество дубликатов в датасете: 0\n",
      "Количество дубликатов в датасете: 0\n",
      "Количество дубликатов в датасете: 0\n"
     ]
    }
   ],
   "source": [
    "#Проверим данные на дубликаты\n",
    "for data in data_list:\n",
    "    print('Количество дубликатов в датасете:', data.duplicated().sum())"
   ]
  },
  {
   "cell_type": "markdown",
   "metadata": {},
   "source": [
    "Во всех выборках присутствуют пропуски. Дуликатов нет. Предобработка будет позже."
   ]
  },
  {
   "attachments": {
    "%D0%B8%D0%B7%D0%BE%D0%B1%D1%80%D0%B0%D0%B6%D0%B5%D0%BD%D0%B8%D0%B5.png": {
     "image/png": "[encoded data removed]"
    }
   },
   "cell_type": "markdown",
   "metadata": {},
   "source": [
    "Проверим правильность расчёта эффективности обогащения. Вычислим её на обучающей выборке для признака rougher.output.recover  \n",
    "**Формула расчёта:**  \n",
    "![%D0%B8%D0%B7%D0%BE%D0%B1%D1%80%D0%B0%D0%B6%D0%B5%D0%BD%D0%B8%D0%B5.png](attachment:%D0%B8%D0%B7%D0%BE%D0%B1%D1%80%D0%B0%D0%B6%D0%B5%D0%BD%D0%B8%D0%B5.png)  \n",
    "**В которой:**  \n",
    "C — доля золота в концентрате после флотации/очистки;  \n",
    "F — доля золота в сырье до флотации/очистки;  \n",
    "T — доля золота в отвальных хвостах после флотации/очистки."
   ]
  },
  {
   "cell_type": "code",
   "execution_count": 5,
   "metadata": {},
   "outputs": [
    {
     "data": {
      "text/plain": [
       "82.52119968211336"
      ]
     },
     "execution_count": 5,
     "metadata": {},
     "output_type": "execute_result"
    }
   ],
   "source": [
    "C = data_train['rougher.output.concentrate_au']\n",
    "F = data_train['rougher.input.feed_au']\n",
    "T = data_train['rougher.output.tail_au']\n",
    "#Сохраним расчёты в новом столбце и вычислим среднее\n",
    "data_train['count_recovery'] = ((C*(F-T))/(F*(C-T)))*100\n",
    "data_train['count_recovery'].mean()"
   ]
  },
  {
   "cell_type": "code",
   "execution_count": 6,
   "metadata": {},
   "outputs": [
    {
     "data": {
      "text/plain": [
       "82.52119968211336"
      ]
     },
     "execution_count": 6,
     "metadata": {},
     "output_type": "execute_result"
    }
   ],
   "source": [
    "#Посмотрим среднее признака rougher.output.recover\n",
    "data_train['rougher.output.recovery'].mean()"
   ]
  },
  {
   "cell_type": "markdown",
   "metadata": {},
   "source": [
    "Седние показатели равны, значит эффективность рассчитана правильно."
   ]
  },
  {
   "cell_type": "code",
   "execution_count": 7,
   "metadata": {},
   "outputs": [
    {
     "name": "stdout",
     "output_type": "stream",
     "text": [
      "9.83758577644259e-15\n"
     ]
    }
   ],
   "source": [
    "#Найдём MAE между нашими расчётами и значением признака\n",
    "print(mean_absolute_error(data_train['count_recovery'], data_train['rougher.output.recovery']))"
   ]
  },
  {
   "cell_type": "code",
   "execution_count": 8,
   "metadata": {},
   "outputs": [],
   "source": [
    "#Удалим созданный столбец с расчётами\n",
    "data_train.drop('count_recovery', axis=1, inplace=True)"
   ]
  },
  {
   "cell_type": "markdown",
   "metadata": {},
   "source": [
    "МАЕ очень мало, поэтому правильность расчёта эффективности подтверждена."
   ]
  },
  {
   "cell_type": "code",
   "execution_count": 9,
   "metadata": {},
   "outputs": [],
   "source": [
    "#Добавим в тестовую выборку целевые признаки final.output.recovery и rougher.output.recovery\n",
    "data_test = data_test.merge(data_full[['rougher.output.recovery', 'final.output.recovery']],\n",
    "                                              how='left', left_index=True, right_index=True)"
   ]
  },
  {
   "cell_type": "code",
   "execution_count": 10,
   "metadata": {
    "scrolled": true
   },
   "outputs": [
    {
     "data": {
      "text/plain": [
       "{'final.output.concentrate_ag',\n",
       " 'final.output.concentrate_au',\n",
       " 'final.output.concentrate_pb',\n",
       " 'final.output.concentrate_sol',\n",
       " 'final.output.tail_ag',\n",
       " 'final.output.tail_au',\n",
       " 'final.output.tail_pb',\n",
       " 'final.output.tail_sol',\n",
       " 'primary_cleaner.output.concentrate_ag',\n",
       " 'primary_cleaner.output.concentrate_au',\n",
       " 'primary_cleaner.output.concentrate_pb',\n",
       " 'primary_cleaner.output.concentrate_sol',\n",
       " 'primary_cleaner.output.tail_ag',\n",
       " 'primary_cleaner.output.tail_au',\n",
       " 'primary_cleaner.output.tail_pb',\n",
       " 'primary_cleaner.output.tail_sol',\n",
       " 'rougher.calculation.au_pb_ratio',\n",
       " 'rougher.calculation.floatbank10_sulfate_to_au_feed',\n",
       " 'rougher.calculation.floatbank11_sulfate_to_au_feed',\n",
       " 'rougher.calculation.sulfate_to_au_concentrate',\n",
       " 'rougher.output.concentrate_ag',\n",
       " 'rougher.output.concentrate_au',\n",
       " 'rougher.output.concentrate_pb',\n",
       " 'rougher.output.concentrate_sol',\n",
       " 'rougher.output.tail_ag',\n",
       " 'rougher.output.tail_au',\n",
       " 'rougher.output.tail_pb',\n",
       " 'rougher.output.tail_sol',\n",
       " 'secondary_cleaner.output.tail_ag',\n",
       " 'secondary_cleaner.output.tail_au',\n",
       " 'secondary_cleaner.output.tail_pb',\n",
       " 'secondary_cleaner.output.tail_sol'}"
      ]
     },
     "execution_count": 10,
     "metadata": {},
     "output_type": "execute_result"
    }
   ],
   "source": [
    "#Посмотрим признаки, которые недоступны в тестовой выборке\n",
    "train_set=set(data_train.columns.to_list())\n",
    "test_set=set(data_test.columns.to_list())\n",
    "tt_set=train_set-test_set\n",
    "tt_set\n"
   ]
  },
  {
   "cell_type": "markdown",
   "metadata": {},
   "source": [
    "Обнаруженные признаки относятся к параметрам продукта и расчётным характеристикам. В тестовой выборке отсутствуют целевые признаки **final.output.recovery** и **rougher.output.recovery**. В тренировочной выборке присутствуют признаки, которые мы получаем в процессе флотации. Т.к. мы хотим получить предсказание до флотации, все признаки, которых нет в тестовой выборке, нам нужно удалить из тренировочной выборки, чтобы обучить модель. Целевые признаки нужно добавить в тестовую выборку."
   ]
  },
  {
   "cell_type": "code",
   "execution_count": 11,
   "metadata": {},
   "outputs": [
    {
     "name": "stdout",
     "output_type": "stream",
     "text": [
      "96\n",
      "24\n",
      "394\n",
      "98\n"
     ]
    }
   ],
   "source": [
    "#Проведём предобработку\n",
    "#Посмотрим, есть ли нулевые значения у целевых признаков в тестовой и обучающей выборках\n",
    "print(data_test[data_test['rougher.output.recovery'] == 0]['rougher.output.recovery'].count())\n",
    "print(data_test[data_test['final.output.recovery'] == 0]['final.output.recovery'].count())\n",
    "print(data_train[data_train['rougher.output.recovery'] == 0]['rougher.output.recovery'].count())\n",
    "print(data_train[data_train['final.output.recovery'] == 0]['final.output.recovery'].count())"
   ]
  },
  {
   "cell_type": "code",
   "execution_count": 12,
   "metadata": {},
   "outputs": [],
   "source": [
    "#Удалим строки с нулевыми значениями целевых признаков, т.к. для обучения модели они не будут полезны, а наоборот, \n",
    "#создадут помехи\n",
    "data_train = data_train.drop(data_train[data_train['rougher.output.recovery'] == 0].index)\n",
    "data_train = data_train.drop(data_train[data_train['final.output.recovery'] == 0].index)\n",
    "data_test = data_test.drop(data_test[data_test['rougher.output.recovery'] == 0].index)\n",
    "data_test = data_test.drop(data_test[data_test['final.output.recovery'] == 0].index)"
   ]
  },
  {
   "cell_type": "code",
   "execution_count": 13,
   "metadata": {},
   "outputs": [],
   "source": [
    "#Заменим пропуски в данных методом ffill\n",
    "data_list = [data_train, data_test, data_full]\n",
    "for data in data_list:\n",
    "    data.fillna(method= 'ffill', inplace=True)"
   ]
  },
  {
   "cell_type": "code",
   "execution_count": 14,
   "metadata": {
    "scrolled": true
   },
   "outputs": [
    {
     "name": "stdout",
     "output_type": "stream",
     "text": [
      "date                      0\n",
      "rougher.input.feed_au     0\n",
      "rougher.input.feed_ag     0\n",
      "rougher.input.feed_pb     0\n",
      "rougher.input.feed_sol    0\n",
      "                         ..\n",
      "final.output.recovery     0\n",
      "final.output.tail_au      0\n",
      "final.output.tail_ag      0\n",
      "final.output.tail_pb      0\n",
      "final.output.tail_sol     0\n",
      "Length: 87, dtype: int64\n",
      "date                                          0\n",
      "rougher.input.feed_au                         0\n",
      "rougher.input.feed_ag                         0\n",
      "rougher.input.feed_pb                         0\n",
      "rougher.input.feed_sol                        0\n",
      "rougher.input.feed_rate                       0\n",
      "rougher.input.feed_size                       0\n",
      "rougher.input.floatbank10_sulfate             0\n",
      "rougher.input.floatbank10_xanthate            0\n",
      "rougher.state.floatbank10_a_air               0\n",
      "rougher.state.floatbank10_a_level             0\n",
      "rougher.state.floatbank10_b_air               0\n",
      "rougher.state.floatbank10_b_level             0\n",
      "rougher.state.floatbank10_c_air               0\n",
      "rougher.state.floatbank10_c_level             0\n",
      "rougher.state.floatbank10_d_air               0\n",
      "rougher.state.floatbank10_d_level             0\n",
      "rougher.state.floatbank10_e_air               0\n",
      "rougher.state.floatbank10_e_level             0\n",
      "rougher.state.floatbank10_f_air               0\n",
      "rougher.state.floatbank10_f_level             0\n",
      "rougher.input.floatbank11_sulfate             0\n",
      "rougher.input.floatbank11_xanthate            0\n",
      "primary_cleaner.input.sulfate                 0\n",
      "primary_cleaner.input.depressant              0\n",
      "primary_cleaner.input.feed_size               0\n",
      "primary_cleaner.input.xanthate                0\n",
      "primary_cleaner.state.floatbank8_a_air        0\n",
      "primary_cleaner.state.floatbank8_a_level      0\n",
      "primary_cleaner.state.floatbank8_b_air        0\n",
      "primary_cleaner.state.floatbank8_b_level      0\n",
      "primary_cleaner.state.floatbank8_c_air        0\n",
      "primary_cleaner.state.floatbank8_c_level      0\n",
      "primary_cleaner.state.floatbank8_d_air        0\n",
      "primary_cleaner.state.floatbank8_d_level      0\n",
      "secondary_cleaner.state.floatbank2_a_air      0\n",
      "secondary_cleaner.state.floatbank2_a_level    0\n",
      "secondary_cleaner.state.floatbank2_b_air      0\n",
      "secondary_cleaner.state.floatbank2_b_level    0\n",
      "secondary_cleaner.state.floatbank3_a_air      0\n",
      "secondary_cleaner.state.floatbank3_a_level    0\n",
      "secondary_cleaner.state.floatbank3_b_air      0\n",
      "secondary_cleaner.state.floatbank3_b_level    0\n",
      "secondary_cleaner.state.floatbank4_a_air      0\n",
      "secondary_cleaner.state.floatbank4_a_level    0\n",
      "secondary_cleaner.state.floatbank4_b_air      0\n",
      "secondary_cleaner.state.floatbank4_b_level    0\n",
      "secondary_cleaner.state.floatbank5_a_air      0\n",
      "secondary_cleaner.state.floatbank5_a_level    0\n",
      "secondary_cleaner.state.floatbank5_b_air      0\n",
      "secondary_cleaner.state.floatbank5_b_level    0\n",
      "secondary_cleaner.state.floatbank6_a_air      0\n",
      "secondary_cleaner.state.floatbank6_a_level    0\n",
      "rougher.output.recovery                       0\n",
      "final.output.recovery                         0\n",
      "dtype: int64\n",
      "date                      0\n",
      "rougher.input.feed_au     0\n",
      "rougher.input.feed_ag     0\n",
      "rougher.input.feed_pb     0\n",
      "rougher.input.feed_sol    0\n",
      "                         ..\n",
      "final.output.recovery     0\n",
      "final.output.tail_au      0\n",
      "final.output.tail_ag      0\n",
      "final.output.tail_pb      0\n",
      "final.output.tail_sol     0\n",
      "Length: 87, dtype: int64\n"
     ]
    }
   ],
   "source": [
    "#Проверим, остались ли пропуски в данных\n",
    "for data in data_list:\n",
    "    print(data.isna().sum())"
   ]
  },
  {
   "cell_type": "markdown",
   "metadata": {},
   "source": [
    "**Вывод**  \n",
    "Данные подготовлены:\n",
    "* Изучена общая иформация о данных\n",
    "* Проверена правильность расчёта эффективности обогащения\n",
    "* Проведена предобработка данных - удалены ненужные признаки из тренировочной выборки, добавлены целевые признаки в тестовую выборку, пропуски в данных заменены подходящими значениями, удалён признак **date** за ненадобностью\n",
    "* Строки с нулевыми значениями целевых признаков удалены"
   ]
  },
  {
   "cell_type": "markdown",
   "metadata": {},
   "source": [
    "## Анализ данных"
   ]
  },
  {
   "cell_type": "code",
   "execution_count": 15,
   "metadata": {},
   "outputs": [
    {
     "data": {
      "image/png": "[encoded data removed]",
      "text/plain": [
       "<Figure size 1200x900 with 1 Axes>"
      ]
     },
     "metadata": {},
     "output_type": "display_data"
    }
   ],
   "source": [
    "#Построим гистограмму концентрации золота\n",
    "plt.figure(figsize=[12,9])\n",
    "\n",
    "plt.hist(data_train['rougher.input.feed_au'], bins=100, label = 'До флотации', alpha=0.5, color='blue')\n",
    "plt.hist(data_train['rougher.output.concentrate_au'], bins=100, label = 'После флотации', alpha=0.5,\n",
    "                                                                                       color='green')\n",
    "plt.hist(data_train['primary_cleaner.output.concentrate_au'], bins=100, label = 'После первичной очистки',\n",
    "                                                                                alpha=0.5, color='yellow')\n",
    "plt.hist(data_train['final.output.concentrate_au'], bins=100, label = 'Финальная концентрация', alpha=0.5, color='purple')\n",
    "\n",
    "\n",
    "\n",
    "plt.xlabel('Концентрация золота')\n",
    "\n",
    "plt.legend(loc='upper left', fontsize='x-large')\n",
    "\n",
    "plt.title('Гистограмма концентрации Золота')\n",
    "plt.show()"
   ]
  },
  {
   "cell_type": "markdown",
   "metadata": {},
   "source": [
    "С каждым этапом концентрация золота повышается"
   ]
  },
  {
   "cell_type": "code",
   "execution_count": 16,
   "metadata": {},
   "outputs": [
    {
     "data": {
      "image/png": "[encoded data removed]",
      "text/plain": [
       "<Figure size 1200x900 with 1 Axes>"
      ]
     },
     "metadata": {},
     "output_type": "display_data"
    }
   ],
   "source": [
    "#Построим гистограмму концентрации серебра\n",
    "plt.figure(figsize=[12,9])\n",
    "\n",
    "plt.hist(data_train['rougher.input.feed_ag'], bins=100, label = 'До флотации', alpha=0.5, color='blue')\n",
    "plt.hist(data_train['rougher.output.concentrate_ag'], bins=100, label = 'После флотации', alpha=0.3,\n",
    "                                                                                       color='green')\n",
    "plt.hist(data_train['primary_cleaner.output.concentrate_ag'], bins=100, label = 'После первичной очистки',\n",
    "                                                                                alpha=0.3, color='yellow')\n",
    "plt.hist(data_train['final.output.concentrate_ag'], bins=100, label = 'Финальная концентрация', alpha=0.3, color='purple')\n",
    "\n",
    "\n",
    "\n",
    "plt.xlabel('Концентрация серебра')\n",
    "\n",
    "plt.legend(loc='upper left', fontsize='x-large')\n",
    "\n",
    "plt.title('Гистограмма концентрации Серебра')\n",
    "plt.show()"
   ]
  },
  {
   "cell_type": "markdown",
   "metadata": {},
   "source": [
    "С каждым этапом концентрация серебра понижается, т.к. основной целью очистки является получение золота и избавление от прочих металлов"
   ]
  },
  {
   "cell_type": "code",
   "execution_count": 17,
   "metadata": {},
   "outputs": [
    {
     "data": {
      "image/png": "[encoded data removed]",
      "text/plain": [
       "<Figure size 1200x900 with 1 Axes>"
      ]
     },
     "metadata": {},
     "output_type": "display_data"
    }
   ],
   "source": [
    "#Построим гистограмму концентрации свинца\n",
    "plt.figure(figsize=[12,9])\n",
    "\n",
    "plt.hist(data_train['rougher.input.feed_pb'], bins=100, label = 'До флотации', alpha=0.5, color='blue')\n",
    "plt.hist(data_train['rougher.output.concentrate_pb'], bins=100, label = 'После флотации', alpha=0.5,\n",
    "                                                                                       color='green')\n",
    "plt.hist(data_train['primary_cleaner.output.concentrate_pb'], bins=100, label = 'После первичной очистки',\n",
    "                                                                                alpha=0.5, color='yellow')\n",
    "plt.hist(data_train['final.output.concentrate_pb'], bins=100, label = 'Финальная концентрация', alpha=0.3, color='purple')\n",
    "\n",
    "\n",
    "\n",
    "plt.xlabel('Концентрация свинца')\n",
    "\n",
    "plt.legend(loc='upper left', fontsize='x-large')\n",
    "\n",
    "plt.title('Гистограмма концентрации Свинца')\n",
    "plt.show()"
   ]
  },
  {
   "cell_type": "markdown",
   "metadata": {},
   "source": [
    "Концентрация свинца повышается после флотации и первичной очистки, потом не меняется"
   ]
  },
  {
   "cell_type": "code",
   "execution_count": 18,
   "metadata": {},
   "outputs": [
    {
     "data": {
      "image/png": "[encoded data removed]",
      "text/plain": [
       "<Figure size 1500x1200 with 1 Axes>"
      ]
     },
     "metadata": {},
     "output_type": "display_data"
    }
   ],
   "source": [
    "#Сравним распределения размеров гранул сырья на обучающей и тестовой выборках\n",
    "#Построим гистограмму\n",
    "\n",
    "plt.figure(figsize=[15,12])\n",
    "\n",
    "plt.hist(data_train['primary_cleaner.input.feed_size'], bins=150, density=True, label = 'Обучающая выборка', alpha=0.5)\n",
    "plt.hist(data_test['primary_cleaner.input.feed_size'], bins=150, density=True, label = 'Тестовая выборка', alpha=0.5)\n",
    "\n",
    "plt.xlabel('Размер гранул сырья')\n",
    "\n",
    "plt.legend(loc='upper right', fontsize='x-large')\n",
    "\n",
    "plt.title('Гистограмма распределения гранул сырья')\n",
    "plt.show()"
   ]
  },
  {
   "cell_type": "markdown",
   "metadata": {},
   "source": [
    "Распределение гранул не сильно отличается, модель от этого не пострадает"
   ]
  },
  {
   "cell_type": "code",
   "execution_count": 19,
   "metadata": {},
   "outputs": [],
   "source": [
    "#Исследуем суммарную концентрацию всех веществ на разных стадиях: в сырье, в черновом и финальном концентратах\n",
    "#Создадим переменные с нужными нам признаками\n",
    "\n",
    "primary_conc = (data_train['primary_cleaner.output.concentrate_au'] + \n",
    "                                                data_train['primary_cleaner.output.concentrate_ag'] + \n",
    "                                                data_train['primary_cleaner.output.concentrate_pb'])\n",
    "\n",
    "rougher_int_conc = (data_train['rougher.input.feed_au'] + \n",
    "                                        data_train['rougher.input.feed_ag'] + \n",
    "                                        data_train['rougher.input.feed_pb'])\n",
    "rougher_out_conc = (data_train['rougher.output.concentrate_au'] + \n",
    "                                                data_train['rougher.output.concentrate_ag'] + \n",
    "                                                data_train['rougher.output.concentrate_pb'])\n",
    "final_conc = (data_train['final.output.concentrate_au'] + \n",
    "                                      data_train['final.output.concentrate_ag'] + \n",
    "                                      data_train['final.output.concentrate_pb'])"
   ]
  },
  {
   "cell_type": "code",
   "execution_count": 20,
   "metadata": {},
   "outputs": [
    {
     "data": {
      "image/png": "[encoded data removed]",
      "text/plain": [
       "<Figure size 1200x900 with 1 Axes>"
      ]
     },
     "metadata": {},
     "output_type": "display_data"
    }
   ],
   "source": [
    "#Построим гистограмму\n",
    "plt.figure(figsize=[12,9])\n",
    "\n",
    "plt.hist(rougher_int_conc, bins=100, label = 'до флотации', alpha=0.5)\n",
    "plt.hist(rougher_out_conc, bins=100, label = 'после флотации', alpha=0.5)\n",
    "plt.hist(final_conc, bins=100, label = 'финальная', alpha=0.5)\n",
    "\n",
    "plt.xlabel('Суммарная концентрация')\n",
    "\n",
    "plt.legend(loc='upper left', fontsize='x-large')\n",
    "\n",
    "plt.title('Гистограмма суммарной концентрации')\n",
    "plt.show()"
   ]
  },
  {
   "cell_type": "markdown",
   "metadata": {},
   "source": [
    "На гистограмме видно, что с каждой стадией суммарная концентрация увеличивается"
   ]
  },
  {
   "cell_type": "markdown",
   "metadata": {},
   "source": [
    "Построим гистограмму для поиска аномалий в стадиях \"после флотации\", \"после первичной очистки\" и \"финальная\""
   ]
  },
  {
   "cell_type": "code",
   "execution_count": 21,
   "metadata": {},
   "outputs": [
    {
     "data": {
      "image/png": "[encoded data removed]",
      "text/plain": [
       "<Figure size 1200x900 with 1 Axes>"
      ]
     },
     "metadata": {},
     "output_type": "display_data"
    }
   ],
   "source": [
    "plt.figure(figsize=[12,9])\n",
    "\n",
    "plt.hist(rougher_out_conc, bins=100, label = 'после флотации', alpha=0.5)\n",
    "plt.hist(primary_conc, bins=100, label = 'после первичной очистки', alpha=0.5)\n",
    "plt.hist(final_conc, bins=100, label = 'финальная', alpha=0.5)\n",
    "\n",
    "plt.xlabel('Суммарная концентрация')\n",
    "plt.xlim(0, 5)\n",
    "plt.ylim(0, 200)\n",
    "\n",
    "plt.legend(loc='upper left', fontsize='x-large')\n",
    "\n",
    "plt.title('Гистограмма распределения суммарной концентрации')\n",
    "plt.show()"
   ]
  },
  {
   "cell_type": "markdown",
   "metadata": {},
   "source": [
    "Видим, что есть нулевые значения концентрации у всех троих признаков. Удалим все нулевые значения."
   ]
  },
  {
   "cell_type": "code",
   "execution_count": 22,
   "metadata": {},
   "outputs": [
    {
     "data": {
      "text/plain": [
       "(14089, 87)"
      ]
     },
     "execution_count": 22,
     "metadata": {},
     "output_type": "execute_result"
    }
   ],
   "source": [
    "#Посмотрим размер тренировочной выборки\n",
    "data_train.shape"
   ]
  },
  {
   "cell_type": "code",
   "execution_count": 23,
   "metadata": {},
   "outputs": [],
   "source": [
    "#Удалим нулевые значения\n",
    "data_train = data_train.drop(data_train[data_train['primary_cleaner.output.concentrate_au'] == 0].index)\n",
    "data_train = data_train.drop(data_train[data_train['primary_cleaner.output.concentrate_ag'] == 0].index)\n",
    "data_train = data_train.drop(data_train[data_train['primary_cleaner.output.concentrate_pb'] == 0].index)\n",
    "data_train = data_train.drop(data_train[data_train['rougher.output.concentrate_au'] == 0].index)\n",
    "data_train = data_train.drop(data_train[data_train['rougher.output.concentrate_ag'] == 0].index)\n",
    "data_train = data_train.drop(data_train[data_train['rougher.output.concentrate_pb'] == 0].index)\n",
    "data_train = data_train.drop(data_train[data_train['final.output.concentrate_au'] == 0].index)\n",
    "data_train = data_train.drop(data_train[data_train['final.output.concentrate_ag'] == 0].index)\n",
    "data_train = data_train.drop(data_train[data_train['final.output.concentrate_pb'] == 0].index)"
   ]
  },
  {
   "cell_type": "code",
   "execution_count": 24,
   "metadata": {},
   "outputs": [
    {
     "data": {
      "text/plain": [
       "(13983, 87)"
      ]
     },
     "execution_count": 24,
     "metadata": {},
     "output_type": "execute_result"
    }
   ],
   "source": [
    "#Посмотрим размер тренировочной выборки\n",
    "data_train.shape"
   ]
  },
  {
   "cell_type": "code",
   "execution_count": 25,
   "metadata": {},
   "outputs": [],
   "source": [
    "#Удалим ненужные признаки из тренировочной выборки\n",
    "data_train = data_train.drop(list(tt_set), axis=1)"
   ]
  },
  {
   "cell_type": "code",
   "execution_count": 26,
   "metadata": {
    "scrolled": true
   },
   "outputs": [
    {
     "name": "stdout",
     "output_type": "stream",
     "text": [
      "<class 'pandas.core.frame.DataFrame'>\n",
      "Int64Index: 13983 entries, 0 to 14578\n",
      "Data columns (total 55 columns):\n",
      " #   Column                                      Non-Null Count  Dtype  \n",
      "---  ------                                      --------------  -----  \n",
      " 0   date                                        13983 non-null  object \n",
      " 1   rougher.input.feed_au                       13983 non-null  float64\n",
      " 2   rougher.input.feed_ag                       13983 non-null  float64\n",
      " 3   rougher.input.feed_pb                       13983 non-null  float64\n",
      " 4   rougher.input.feed_sol                      13983 non-null  float64\n",
      " 5   rougher.input.feed_rate                     13983 non-null  float64\n",
      " 6   rougher.input.feed_size                     13983 non-null  float64\n",
      " 7   rougher.input.floatbank10_sulfate           13983 non-null  float64\n",
      " 8   rougher.input.floatbank10_xanthate          13983 non-null  float64\n",
      " 9   rougher.state.floatbank10_a_air             13983 non-null  float64\n",
      " 10  rougher.state.floatbank10_a_level           13983 non-null  float64\n",
      " 11  rougher.state.floatbank10_b_air             13983 non-null  float64\n",
      " 12  rougher.state.floatbank10_b_level           13983 non-null  float64\n",
      " 13  rougher.state.floatbank10_c_air             13983 non-null  float64\n",
      " 14  rougher.state.floatbank10_c_level           13983 non-null  float64\n",
      " 15  rougher.state.floatbank10_d_air             13983 non-null  float64\n",
      " 16  rougher.state.floatbank10_d_level           13983 non-null  float64\n",
      " 17  rougher.state.floatbank10_e_air             13983 non-null  float64\n",
      " 18  rougher.state.floatbank10_e_level           13983 non-null  float64\n",
      " 19  rougher.state.floatbank10_f_air             13983 non-null  float64\n",
      " 20  rougher.state.floatbank10_f_level           13983 non-null  float64\n",
      " 21  rougher.input.floatbank11_sulfate           13983 non-null  float64\n",
      " 22  rougher.input.floatbank11_xanthate          13983 non-null  float64\n",
      " 23  rougher.output.recovery                     13983 non-null  float64\n",
      " 24  primary_cleaner.input.sulfate               13983 non-null  float64\n",
      " 25  primary_cleaner.input.depressant            13983 non-null  float64\n",
      " 26  primary_cleaner.input.feed_size             13983 non-null  float64\n",
      " 27  primary_cleaner.input.xanthate              13983 non-null  float64\n",
      " 28  primary_cleaner.state.floatbank8_a_air      13983 non-null  float64\n",
      " 29  primary_cleaner.state.floatbank8_a_level    13983 non-null  float64\n",
      " 30  primary_cleaner.state.floatbank8_b_air      13983 non-null  float64\n",
      " 31  primary_cleaner.state.floatbank8_b_level    13983 non-null  float64\n",
      " 32  primary_cleaner.state.floatbank8_c_air      13983 non-null  float64\n",
      " 33  primary_cleaner.state.floatbank8_c_level    13983 non-null  float64\n",
      " 34  primary_cleaner.state.floatbank8_d_air      13983 non-null  float64\n",
      " 35  primary_cleaner.state.floatbank8_d_level    13983 non-null  float64\n",
      " 36  secondary_cleaner.state.floatbank2_a_air    13983 non-null  float64\n",
      " 37  secondary_cleaner.state.floatbank2_a_level  13983 non-null  float64\n",
      " 38  secondary_cleaner.state.floatbank2_b_air    13983 non-null  float64\n",
      " 39  secondary_cleaner.state.floatbank2_b_level  13983 non-null  float64\n",
      " 40  secondary_cleaner.state.floatbank3_a_air    13983 non-null  float64\n",
      " 41  secondary_cleaner.state.floatbank3_a_level  13983 non-null  float64\n",
      " 42  secondary_cleaner.state.floatbank3_b_air    13983 non-null  float64\n",
      " 43  secondary_cleaner.state.floatbank3_b_level  13983 non-null  float64\n",
      " 44  secondary_cleaner.state.floatbank4_a_air    13983 non-null  float64\n",
      " 45  secondary_cleaner.state.floatbank4_a_level  13983 non-null  float64\n",
      " 46  secondary_cleaner.state.floatbank4_b_air    13983 non-null  float64\n",
      " 47  secondary_cleaner.state.floatbank4_b_level  13983 non-null  float64\n",
      " 48  secondary_cleaner.state.floatbank5_a_air    13983 non-null  float64\n",
      " 49  secondary_cleaner.state.floatbank5_a_level  13983 non-null  float64\n",
      " 50  secondary_cleaner.state.floatbank5_b_air    13983 non-null  float64\n",
      " 51  secondary_cleaner.state.floatbank5_b_level  13983 non-null  float64\n",
      " 52  secondary_cleaner.state.floatbank6_a_air    13983 non-null  float64\n",
      " 53  secondary_cleaner.state.floatbank6_a_level  13983 non-null  float64\n",
      " 54  final.output.recovery                       13983 non-null  float64\n",
      "dtypes: float64(54), object(1)\n",
      "memory usage: 6.0+ MB\n"
     ]
    }
   ],
   "source": [
    "#Проверим удаление признаков\n",
    "data_train.info()"
   ]
  },
  {
   "cell_type": "code",
   "execution_count": 27,
   "metadata": {},
   "outputs": [],
   "source": [
    "#Удалим столбец с датой из датасетов, т.к. он не понадобится для предсказания\n",
    "data_list = [data_train, data_test, data_full]\n",
    "\n",
    "for data in data_list:\n",
    "    data.drop('date', axis=1, inplace=True)"
   ]
  },
  {
   "cell_type": "markdown",
   "metadata": {},
   "source": [
    "**Вывод:**  \n",
    "* Исследованы изменения концентрации золота, серебра и свинца. Концентрация золота увеличивается с каждым этапом, концентрация серебра уменьшается, концентрация свинца увеличивается после первичной очистки и больше не меняется.\n",
    "* Проведено сравнение распределения размеров гранул сырья в обучающей и тестовой выборках. Различия незначительны, на обучение модели это не повлияет.\n",
    "* Исследована суммарная концентрация всех веществ на разных стадиях. Обнаружены аномалии, которые мы удалили."
   ]
  },
  {
   "cell_type": "markdown",
   "metadata": {},
   "source": [
    "## Модель"
   ]
  },
  {
   "cell_type": "code",
   "execution_count": 28,
   "metadata": {},
   "outputs": [],
   "source": [
    "#Напишем функцию вычисления итоговой sMAPE\n",
    "def smape(target, predict):\n",
    "    return 1/len(target) * np.sum(2*np.abs(target - predict) / (np.abs(target) + np.abs(predict))*100)\n",
    "def smape_final(rougher, final):\n",
    "    return 0.25*rougher + 0.75*final"
   ]
  },
  {
   "cell_type": "code",
   "execution_count": 29,
   "metadata": {},
   "outputs": [
    {
     "name": "stdout",
     "output_type": "stream",
     "text": [
      "(13983, 22)\n",
      "(13983,)\n",
      "(13983, 52)\n",
      "(13983,)\n"
     ]
    }
   ],
   "source": [
    "#Разделим обучающую выборку на признаки и целевой признак\n",
    "features_rougher_train = data_train.drop(['rougher.output.recovery'], axis=1).filter(regex='^rougher',axis=1)\n",
    "target_rougher_train = data_train['rougher.output.recovery']\n",
    "print(features_rougher_train.shape)\n",
    "print(target_rougher_train.shape)\n",
    "\n",
    "features_final_train = data_train.drop(['final.output.recovery', 'rougher.output.recovery'], axis=1)\n",
    "target_final_train = data_train['final.output.recovery']\n",
    "print(features_final_train.shape)\n",
    "print(target_final_train.shape)"
   ]
  },
  {
   "cell_type": "code",
   "execution_count": 30,
   "metadata": {},
   "outputs": [
    {
     "name": "stdout",
     "output_type": "stream",
     "text": [
      "(4742, 22)\n",
      "(4742,)\n",
      "(4742, 52)\n",
      "(4742,)\n"
     ]
    }
   ],
   "source": [
    "#Разделим тестовую выборку на признаки и целевой признак\n",
    "features_rougher_test = data_test.filter(regex='^rougher',axis=1).drop(['rougher.output.recovery'], axis=1)\n",
    "target_rougher_test = data_test['rougher.output.recovery']\n",
    "print(features_rougher_test.shape)\n",
    "print(target_rougher_test.shape)\n",
    "\n",
    "features_final_test = data_test.drop(['final.output.recovery', 'rougher.output.recovery'], axis=1)\n",
    "target_final_test = data_test['final.output.recovery']\n",
    "print(features_final_test.shape)\n",
    "print(target_final_test.shape)"
   ]
  },
  {
   "cell_type": "code",
   "execution_count": 31,
   "metadata": {},
   "outputs": [
    {
     "name": "stdout",
     "output_type": "stream",
     "text": [
      "Глубина: 1\n",
      "Итоговая sMAPE: 8.793923155447228\n",
      "Глубина: 3\n",
      "Итоговая sMAPE: 8.581110005262698\n",
      "Глубина: 5\n",
      "Итоговая sMAPE: 9.079104321709126\n",
      "Глубина: 7\n",
      "Итоговая sMAPE: 10.196724629979121\n",
      "Глубина: 9\n",
      "Итоговая sMAPE: 11.393807561653114\n",
      "Глубина: 11\n",
      "Итоговая sMAPE: 12.636375345219433\n"
     ]
    }
   ],
   "source": [
    "#Обучим модель решающего дерева\n",
    "for depth in range(1, 13, 2):\n",
    "    model_tree = DecisionTreeRegressor(random_state=12345, max_depth = depth)\n",
    "    scorer = make_scorer(smape, greater_is_better=False)\n",
    "    tree_rougher = -1 * cross_val_score(model_tree, features_rougher_train, target_rougher_train, scoring=scorer, cv=5)\n",
    "    tree_final = -1 * cross_val_score(model_tree, features_final_train, target_final_train, scoring=scorer, cv=5)\n",
    "    print('Глубина:',depth)\n",
    "    print('Итоговая sMAPE:', smape_final(tree_rougher, tree_final).mean())"
   ]
  },
  {
   "cell_type": "markdown",
   "metadata": {},
   "source": [
    "Лучшее значение итоговой sMAPE у дерева с глубиной **3** и равна **8.58**"
   ]
  },
  {
   "cell_type": "code",
   "execution_count": 32,
   "metadata": {},
   "outputs": [
    {
     "name": "stdout",
     "output_type": "stream",
     "text": [
      "Итоговая sMAPE: 9.057265505930035\n",
      "Количество деревьев 50\n",
      "Лучшая глубина 2\n"
     ]
    }
   ],
   "source": [
    "#Код грузится 40 минут\n",
    "#Обучим модель случайного леса\n",
    "best_depth = 0\n",
    "best_est = 0\n",
    "best_smape = 10\n",
    "\n",
    "for est in range(10, 51, 10):   \n",
    "    for depth in range (1, 13):\n",
    "        model_forest = RandomForestRegressor(random_state=12345, n_estimators=est, max_depth=depth)\n",
    "        forest_rougher = -1 * cross_val_score(model_forest, features_rougher_train, target_rougher_train, scoring=scorer, cv=5)\n",
    "        forest_final = -1 * cross_val_score(model_forest, features_final_train, target_final_train, scoring=scorer, cv=5)\n",
    "        total_score = smape_final(forest_rougher, forest_final).mean()\n",
    "        if total_score < best_smape:\n",
    "            best_smape = total_score\n",
    "            best_est = est\n",
    "            best_depth = depth\n",
    "            \n",
    "print('Итоговая sMAPE:', total_score)\n",
    "print('Количество деревьев', best_est)\n",
    "print('Лучшая глубина', best_depth)"
   ]
  },
  {
   "cell_type": "markdown",
   "metadata": {},
   "source": [
    "Итоговая sMAPE случайного леса хуже, чем у решающего дерева и равна 9.05"
   ]
  },
  {
   "cell_type": "code",
   "execution_count": 33,
   "metadata": {},
   "outputs": [
    {
     "name": "stdout",
     "output_type": "stream",
     "text": [
      "Итоговая sMAPE: 8.754271999162702\n"
     ]
    }
   ],
   "source": [
    "#Обучим модель линейной регрессии\n",
    "scaler = StandardScaler()\n",
    "scaler.fit(features_rougher_train) \n",
    "features_rouger_train = scaler.transform(features_rougher_train)\n",
    "\n",
    "scaler = StandardScaler()\n",
    "scaler.fit(features_final_train) \n",
    "features_final_train = scaler.transform(features_final_train)\n",
    "\n",
    "model_reg = LinearRegression()\n",
    "reg_rougher = -1 * cross_val_score(model_reg, features_rougher_train, target_rougher_train, scoring=scorer, cv=5)\n",
    "reg_final = -1 * cross_val_score(model_reg, features_final_train, target_final_train, scoring=scorer, cv=5)\n",
    "print('Итоговая sMAPE:', smape_final(reg_rougher, reg_final).mean())"
   ]
  },
  {
   "cell_type": "markdown",
   "metadata": {},
   "source": [
    "Итоговая sMAPE линейной регрессии равна **8.75**"
   ]
  },
  {
   "cell_type": "markdown",
   "metadata": {},
   "source": [
    "**Вывод:**  \n",
    "Лучший показатель sMAPE выявлен у дерева решений с глубиной **3**. Его мы и проверим на тестовой выборке."
   ]
  },
  {
   "cell_type": "code",
   "execution_count": 38,
   "metadata": {},
   "outputs": [
    {
     "name": "stdout",
     "output_type": "stream",
     "text": [
      "Итоговая sMAPE: 11.937603930258994\n"
     ]
    },
    {
     "name": "stderr",
     "output_type": "stream",
     "text": [
      "C:\\Users\\Mc1air\\anaconda3\\lib\\site-packages\\sklearn\\base.py:413: UserWarning: X has feature names, but DecisionTreeRegressor was fitted without feature names\n",
      "  warnings.warn(\n"
     ]
    }
   ],
   "source": [
    "#Проверим модель на тестовой выборке\n",
    "model_rough = DecisionTreeRegressor(random_state=12345, max_depth=3)\n",
    "model_rough.fit(features_rougher_train, target_rougher_train)\n",
    "predict_rough = pd.Series(model_rough.predict(features_rougher_test))\n",
    "smape_rough = smape(target_rougher_test, predict_rough).mean()\n",
    "\n",
    "model_final = DecisionTreeRegressor(random_state=12345, max_depth=3)\n",
    "model_final.fit(features_final_train, target_final_train)\n",
    "predict_final = pd.Series(model_final.predict(features_final_test))\n",
    "smape_fin = smape(target_final_test, predict_final).mean()\n",
    "\n",
    "print('Итоговая sMAPE:', smape_final(smape_rough, smape_fin).mean())"
   ]
  },
  {
   "cell_type": "code",
   "execution_count": 39,
   "metadata": {},
   "outputs": [
    {
     "name": "stdout",
     "output_type": "stream",
     "text": [
      "Итоговая sMAPE на dummy: 9.559259941837977\n"
     ]
    }
   ],
   "source": [
    "#Проверим адекватность модели\n",
    "dummy_rough = DummyRegressor(strategy=\"mean\")\n",
    "dummy_rough.fit(features_rougher_train, target_rougher_train)\n",
    "predict_rough = dummy_rough.predict(features_rougher_test)\n",
    "smape_rough_dumm = smape(target_rougher_test, predict_rough).mean()\n",
    "\n",
    "dummy_final = DummyRegressor(strategy=\"mean\")\n",
    "dummy_final.fit(features_final_train, target_final_train)\n",
    "predict_final = dummy_final.predict(features_final_test)\n",
    "smape_fin_dumm = smape(target_final_test, predict_final).mean()\n",
    "\n",
    "smape_dummy = smape_final(smape_rough_dumm, smape_fin_dumm)\n",
    "print('Итоговая sMAPE на dummy:', smape_dummy)"
   ]
  },
  {
   "cell_type": "markdown",
   "metadata": {},
   "source": [
    "**Вывод:**  \n",
    "* Проверка на адекватность показала, что модель вменяемая\n",
    "* На тестовой выборке было получено значение итоговой sMAPE, равное **11.93**. Многовато, конечно, но приемлемо"
   ]
  },
  {
   "cell_type": "code",
   "execution_count": null,
   "metadata": {},
   "outputs": [],
   "source": []
  }
 ],
 "metadata": {
  "ExecuteTimeLog": [
   {
    "duration": 1649,
    "start_time": "2022-12-16T21:10:20.814Z"
   },
   {
    "duration": 1597,
    "start_time": "2022-12-17T20:29:28.016Z"
   },
   {
    "duration": 1621,
    "start_time": "2022-12-17T20:31:38.337Z"
   },
   {
    "duration": 340,
    "start_time": "2022-12-17T20:31:45.604Z"
   },
   {
    "duration": 840,
    "start_time": "2022-12-17T20:31:50.726Z"
   },
   {
    "duration": 3,
    "start_time": "2022-12-17T20:52:53.146Z"
   },
   {
    "duration": 3,
    "start_time": "2022-12-17T20:53:48.891Z"
   },
   {
    "duration": 734,
    "start_time": "2022-12-17T20:54:29.652Z"
   },
   {
    "duration": 10,
    "start_time": "2022-12-17T21:04:59.883Z"
   },
   {
    "duration": 9,
    "start_time": "2022-12-17T21:06:07.186Z"
   },
   {
    "duration": 210,
    "start_time": "2022-12-17T21:06:23.571Z"
   },
   {
    "duration": 211,
    "start_time": "2022-12-17T21:07:35.927Z"
   },
   {
    "duration": 3,
    "start_time": "2022-12-17T22:46:09.818Z"
   },
   {
    "duration": 10,
    "start_time": "2022-12-17T22:54:24.033Z"
   },
   {
    "duration": 4,
    "start_time": "2022-12-17T22:54:25.963Z"
   },
   {
    "duration": 5,
    "start_time": "2022-12-17T22:55:34.088Z"
   },
   {
    "duration": 13,
    "start_time": "2022-12-17T22:55:38.868Z"
   },
   {
    "duration": 9,
    "start_time": "2022-12-17T23:13:16.492Z"
   },
   {
    "duration": 4,
    "start_time": "2022-12-17T23:13:27.277Z"
   },
   {
    "duration": 48,
    "start_time": "2022-12-19T15:49:00.685Z"
   },
   {
    "duration": 1535,
    "start_time": "2022-12-19T15:49:10.009Z"
   },
   {
    "duration": 3043,
    "start_time": "2022-12-19T15:49:11.546Z"
   },
   {
    "duration": 806,
    "start_time": "2022-12-19T15:49:14.591Z"
   },
   {
    "duration": 252,
    "start_time": "2022-12-19T15:49:15.399Z"
   },
   {
    "duration": 8,
    "start_time": "2022-12-19T15:49:15.654Z"
   },
   {
    "duration": 17,
    "start_time": "2022-12-19T15:49:15.664Z"
   },
   {
    "duration": 7,
    "start_time": "2022-12-19T15:49:15.683Z"
   },
   {
    "duration": 19,
    "start_time": "2022-12-19T15:49:15.691Z"
   },
   {
    "duration": 5,
    "start_time": "2022-12-19T15:49:15.711Z"
   },
   {
    "duration": 22,
    "start_time": "2022-12-19T15:49:15.717Z"
   },
   {
    "duration": 13,
    "start_time": "2022-12-19T15:49:39.933Z"
   },
   {
    "duration": 18,
    "start_time": "2022-12-19T15:58:35.075Z"
   },
   {
    "duration": 6,
    "start_time": "2022-12-19T16:03:08.198Z"
   },
   {
    "duration": 12,
    "start_time": "2022-12-19T16:03:33.442Z"
   },
   {
    "duration": 5,
    "start_time": "2022-12-19T16:13:30.293Z"
   },
   {
    "duration": 12,
    "start_time": "2022-12-19T16:13:32.786Z"
   },
   {
    "duration": 17,
    "start_time": "2022-12-19T16:13:34.523Z"
   },
   {
    "duration": 5,
    "start_time": "2022-12-19T16:14:00.174Z"
   },
   {
    "duration": 13,
    "start_time": "2022-12-19T16:14:01.692Z"
   },
   {
    "duration": 15,
    "start_time": "2022-12-19T16:14:23.437Z"
   },
   {
    "duration": 1323,
    "start_time": "2022-12-19T16:15:57.153Z"
   },
   {
    "duration": 673,
    "start_time": "2022-12-19T16:15:58.478Z"
   },
   {
    "duration": 663,
    "start_time": "2022-12-19T16:15:59.152Z"
   },
   {
    "duration": 215,
    "start_time": "2022-12-19T16:15:59.816Z"
   },
   {
    "duration": 7,
    "start_time": "2022-12-19T16:16:00.033Z"
   },
   {
    "duration": 24,
    "start_time": "2022-12-19T16:16:00.042Z"
   },
   {
    "duration": 35,
    "start_time": "2022-12-19T16:16:00.068Z"
   },
   {
    "duration": 30,
    "start_time": "2022-12-19T16:16:00.104Z"
   },
   {
    "duration": 39,
    "start_time": "2022-12-19T16:16:00.136Z"
   },
   {
    "duration": 33,
    "start_time": "2022-12-19T16:16:00.177Z"
   },
   {
    "duration": 59,
    "start_time": "2022-12-19T16:16:00.211Z"
   },
   {
    "duration": 48,
    "start_time": "2022-12-19T16:16:00.272Z"
   },
   {
    "duration": 26,
    "start_time": "2022-12-19T16:16:00.322Z"
   },
   {
    "duration": 15,
    "start_time": "2022-12-19T16:16:00.350Z"
   },
   {
    "duration": 51,
    "start_time": "2022-12-19T16:16:00.366Z"
   },
   {
    "duration": 48,
    "start_time": "2022-12-19T16:16:00.418Z"
   },
   {
    "duration": 17,
    "start_time": "2022-12-19T16:18:56.646Z"
   },
   {
    "duration": 35,
    "start_time": "2022-12-19T16:19:42.232Z"
   },
   {
    "duration": 1699,
    "start_time": "2022-12-20T13:17:48.478Z"
   },
   {
    "duration": 2976,
    "start_time": "2022-12-20T13:17:50.179Z"
   },
   {
    "duration": 741,
    "start_time": "2022-12-20T13:17:53.157Z"
   },
   {
    "duration": 241,
    "start_time": "2022-12-20T13:17:53.900Z"
   },
   {
    "duration": 8,
    "start_time": "2022-12-20T13:17:54.143Z"
   },
   {
    "duration": 5,
    "start_time": "2022-12-20T13:17:54.153Z"
   },
   {
    "duration": 8,
    "start_time": "2022-12-20T13:17:54.159Z"
   },
   {
    "duration": 35,
    "start_time": "2022-12-20T13:17:54.169Z"
   },
   {
    "duration": 6,
    "start_time": "2022-12-20T13:17:54.206Z"
   },
   {
    "duration": 7,
    "start_time": "2022-12-20T13:17:54.216Z"
   },
   {
    "duration": 17,
    "start_time": "2022-12-20T13:17:54.225Z"
   },
   {
    "duration": 13,
    "start_time": "2022-12-20T13:17:54.243Z"
   },
   {
    "duration": 44,
    "start_time": "2022-12-20T13:17:54.258Z"
   },
   {
    "duration": 7,
    "start_time": "2022-12-20T13:17:54.304Z"
   },
   {
    "duration": 16,
    "start_time": "2022-12-20T13:17:54.313Z"
   },
   {
    "duration": 15,
    "start_time": "2022-12-20T13:17:54.330Z"
   },
   {
    "duration": 72,
    "start_time": "2022-12-20T13:17:54.347Z"
   },
   {
    "duration": 121,
    "start_time": "2022-12-20T14:04:27.014Z"
   },
   {
    "duration": 1046,
    "start_time": "2022-12-20T14:05:25.469Z"
   },
   {
    "duration": 904,
    "start_time": "2022-12-20T14:10:00.985Z"
   },
   {
    "duration": 761,
    "start_time": "2022-12-20T14:10:31.724Z"
   },
   {
    "duration": 865,
    "start_time": "2022-12-20T14:10:44.811Z"
   },
   {
    "duration": 793,
    "start_time": "2022-12-20T14:11:19.159Z"
   },
   {
    "duration": 922,
    "start_time": "2022-12-20T14:11:31.024Z"
   },
   {
    "duration": 1009,
    "start_time": "2022-12-20T14:11:45.394Z"
   },
   {
    "duration": 878,
    "start_time": "2022-12-20T14:12:02.987Z"
   },
   {
    "duration": 773,
    "start_time": "2022-12-20T14:12:32.081Z"
   },
   {
    "duration": 67,
    "start_time": "2022-12-20T14:14:07.778Z"
   },
   {
    "duration": 920,
    "start_time": "2022-12-20T14:16:51.724Z"
   },
   {
    "duration": 728,
    "start_time": "2022-12-20T14:40:50.302Z"
   },
   {
    "duration": 731,
    "start_time": "2022-12-20T14:41:06.787Z"
   },
   {
    "duration": 860,
    "start_time": "2022-12-20T14:41:34.591Z"
   },
   {
    "duration": 484,
    "start_time": "2022-12-20T14:45:30.990Z"
   },
   {
    "duration": 602,
    "start_time": "2022-12-20T14:46:46.898Z"
   },
   {
    "duration": 51,
    "start_time": "2022-12-20T14:57:15.968Z"
   },
   {
    "duration": 11,
    "start_time": "2022-12-20T14:59:21.582Z"
   },
   {
    "duration": 712,
    "start_time": "2022-12-20T14:59:36.632Z"
   },
   {
    "duration": 1083,
    "start_time": "2022-12-20T15:00:11.554Z"
   },
   {
    "duration": 846,
    "start_time": "2022-12-20T15:01:09.487Z"
   },
   {
    "duration": 1699,
    "start_time": "2022-12-20T15:19:53.596Z"
   },
   {
    "duration": 2946,
    "start_time": "2022-12-20T15:19:55.297Z"
   },
   {
    "duration": 794,
    "start_time": "2022-12-20T15:19:58.246Z"
   },
   {
    "duration": 229,
    "start_time": "2022-12-20T15:19:59.042Z"
   },
   {
    "duration": 9,
    "start_time": "2022-12-20T15:19:59.277Z"
   },
   {
    "duration": 22,
    "start_time": "2022-12-20T15:19:59.288Z"
   },
   {
    "duration": 16,
    "start_time": "2022-12-20T15:19:59.312Z"
   },
   {
    "duration": 37,
    "start_time": "2022-12-20T15:19:59.330Z"
   },
   {
    "duration": 16,
    "start_time": "2022-12-20T15:19:59.369Z"
   },
   {
    "duration": 13,
    "start_time": "2022-12-20T15:19:59.389Z"
   },
   {
    "duration": 37,
    "start_time": "2022-12-20T15:19:59.403Z"
   },
   {
    "duration": 22,
    "start_time": "2022-12-20T15:19:59.442Z"
   },
   {
    "duration": 25,
    "start_time": "2022-12-20T15:19:59.466Z"
   },
   {
    "duration": 6,
    "start_time": "2022-12-20T15:19:59.492Z"
   },
   {
    "duration": 28,
    "start_time": "2022-12-20T15:19:59.500Z"
   },
   {
    "duration": 45,
    "start_time": "2022-12-20T15:19:59.530Z"
   },
   {
    "duration": 21,
    "start_time": "2022-12-20T15:19:59.577Z"
   },
   {
    "duration": 31,
    "start_time": "2022-12-20T15:19:59.600Z"
   },
   {
    "duration": 62,
    "start_time": "2022-12-20T15:19:59.633Z"
   },
   {
    "duration": 123,
    "start_time": "2022-12-20T15:19:59.697Z"
   },
   {
    "duration": 0,
    "start_time": "2022-12-20T15:19:59.822Z"
   },
   {
    "duration": 0,
    "start_time": "2022-12-20T15:19:59.823Z"
   },
   {
    "duration": 0,
    "start_time": "2022-12-20T15:19:59.824Z"
   },
   {
    "duration": 0,
    "start_time": "2022-12-20T15:19:59.826Z"
   },
   {
    "duration": 0,
    "start_time": "2022-12-20T15:19:59.827Z"
   },
   {
    "duration": 0,
    "start_time": "2022-12-20T15:19:59.828Z"
   },
   {
    "duration": 6,
    "start_time": "2022-12-20T15:23:07.933Z"
   },
   {
    "duration": 9,
    "start_time": "2022-12-20T15:23:08.551Z"
   },
   {
    "duration": 16,
    "start_time": "2022-12-20T15:23:09.175Z"
   },
   {
    "duration": 16,
    "start_time": "2022-12-20T15:23:11.131Z"
   },
   {
    "duration": 11,
    "start_time": "2022-12-20T15:23:16.338Z"
   },
   {
    "duration": 17,
    "start_time": "2022-12-20T15:23:19.373Z"
   },
   {
    "duration": 18,
    "start_time": "2022-12-20T15:23:54.328Z"
   },
   {
    "duration": 1461,
    "start_time": "2022-12-20T15:24:22.438Z"
   },
   {
    "duration": 686,
    "start_time": "2022-12-20T15:24:23.901Z"
   },
   {
    "duration": 736,
    "start_time": "2022-12-20T15:24:24.588Z"
   },
   {
    "duration": 240,
    "start_time": "2022-12-20T15:24:25.326Z"
   },
   {
    "duration": 15,
    "start_time": "2022-12-20T15:24:25.568Z"
   },
   {
    "duration": 4,
    "start_time": "2022-12-20T15:24:25.584Z"
   },
   {
    "duration": 8,
    "start_time": "2022-12-20T15:24:25.590Z"
   },
   {
    "duration": 14,
    "start_time": "2022-12-20T15:24:25.600Z"
   },
   {
    "duration": 5,
    "start_time": "2022-12-20T15:24:25.615Z"
   },
   {
    "duration": 8,
    "start_time": "2022-12-20T15:24:25.621Z"
   },
   {
    "duration": 50,
    "start_time": "2022-12-20T15:24:25.630Z"
   },
   {
    "duration": 6,
    "start_time": "2022-12-20T15:24:25.682Z"
   },
   {
    "duration": 13,
    "start_time": "2022-12-20T15:24:25.690Z"
   },
   {
    "duration": 17,
    "start_time": "2022-12-20T15:24:25.706Z"
   },
   {
    "duration": 15,
    "start_time": "2022-12-20T15:24:25.724Z"
   },
   {
    "duration": 39,
    "start_time": "2022-12-20T15:24:25.741Z"
   },
   {
    "duration": 17,
    "start_time": "2022-12-20T15:24:25.782Z"
   },
   {
    "duration": 15,
    "start_time": "2022-12-20T15:24:25.800Z"
   },
   {
    "duration": 73,
    "start_time": "2022-12-20T15:24:25.816Z"
   },
   {
    "duration": 130,
    "start_time": "2022-12-20T15:24:25.892Z"
   },
   {
    "duration": 0,
    "start_time": "2022-12-20T15:24:26.023Z"
   },
   {
    "duration": 0,
    "start_time": "2022-12-20T15:24:26.025Z"
   },
   {
    "duration": 0,
    "start_time": "2022-12-20T15:24:26.026Z"
   },
   {
    "duration": 0,
    "start_time": "2022-12-20T15:24:26.027Z"
   },
   {
    "duration": 0,
    "start_time": "2022-12-20T15:24:26.028Z"
   },
   {
    "duration": 0,
    "start_time": "2022-12-20T15:24:26.029Z"
   },
   {
    "duration": 19,
    "start_time": "2022-12-20T15:25:17.942Z"
   },
   {
    "duration": 9,
    "start_time": "2022-12-20T15:25:42.648Z"
   },
   {
    "duration": 17,
    "start_time": "2022-12-20T15:28:04.480Z"
   },
   {
    "duration": 3,
    "start_time": "2022-12-20T15:28:44.145Z"
   },
   {
    "duration": 861,
    "start_time": "2022-12-20T15:28:44.752Z"
   },
   {
    "duration": 752,
    "start_time": "2022-12-20T15:28:46.856Z"
   },
   {
    "duration": 1019,
    "start_time": "2022-12-20T15:28:48.402Z"
   },
   {
    "duration": 649,
    "start_time": "2022-12-20T15:28:50.290Z"
   },
   {
    "duration": 643,
    "start_time": "2022-12-20T15:29:04.093Z"
   },
   {
    "duration": 764,
    "start_time": "2022-12-20T15:29:09.642Z"
   },
   {
    "duration": 926,
    "start_time": "2022-12-20T15:30:01.032Z"
   },
   {
    "duration": 758,
    "start_time": "2022-12-20T15:30:04.678Z"
   },
   {
    "duration": 865,
    "start_time": "2022-12-20T15:30:08.472Z"
   },
   {
    "duration": 615,
    "start_time": "2022-12-20T15:30:12.011Z"
   },
   {
    "duration": 14,
    "start_time": "2022-12-20T15:30:38.769Z"
   },
   {
    "duration": 21,
    "start_time": "2022-12-20T15:31:12.106Z"
   },
   {
    "duration": 19,
    "start_time": "2022-12-20T15:32:49.906Z"
   },
   {
    "duration": 16,
    "start_time": "2022-12-20T15:34:24.757Z"
   },
   {
    "duration": 9,
    "start_time": "2022-12-20T15:34:27.285Z"
   },
   {
    "duration": 20,
    "start_time": "2022-12-20T15:34:28.989Z"
   },
   {
    "duration": 11,
    "start_time": "2022-12-20T15:35:02.048Z"
   },
   {
    "duration": 14,
    "start_time": "2022-12-20T15:35:04.864Z"
   },
   {
    "duration": 5,
    "start_time": "2022-12-20T15:36:05.691Z"
   },
   {
    "duration": 14,
    "start_time": "2022-12-20T15:36:06.643Z"
   },
   {
    "duration": 1381,
    "start_time": "2022-12-20T15:36:37.123Z"
   },
   {
    "duration": 686,
    "start_time": "2022-12-20T15:36:38.506Z"
   },
   {
    "duration": 726,
    "start_time": "2022-12-20T15:36:39.194Z"
   },
   {
    "duration": 230,
    "start_time": "2022-12-20T15:36:39.922Z"
   },
   {
    "duration": 9,
    "start_time": "2022-12-20T15:36:40.154Z"
   },
   {
    "duration": 15,
    "start_time": "2022-12-20T15:36:40.164Z"
   },
   {
    "duration": 5,
    "start_time": "2022-12-20T15:36:40.180Z"
   },
   {
    "duration": 18,
    "start_time": "2022-12-20T15:36:40.186Z"
   },
   {
    "duration": 4,
    "start_time": "2022-12-20T15:36:40.206Z"
   },
   {
    "duration": 10,
    "start_time": "2022-12-20T15:36:40.213Z"
   },
   {
    "duration": 35,
    "start_time": "2022-12-20T15:36:40.224Z"
   },
   {
    "duration": 18,
    "start_time": "2022-12-20T15:36:40.261Z"
   },
   {
    "duration": 9,
    "start_time": "2022-12-20T15:36:40.281Z"
   },
   {
    "duration": 15,
    "start_time": "2022-12-20T15:36:40.292Z"
   },
   {
    "duration": 15,
    "start_time": "2022-12-20T15:36:40.309Z"
   },
   {
    "duration": 15,
    "start_time": "2022-12-20T15:36:40.326Z"
   },
   {
    "duration": 48,
    "start_time": "2022-12-20T15:36:40.343Z"
   },
   {
    "duration": 16,
    "start_time": "2022-12-20T15:36:40.392Z"
   },
   {
    "duration": 14,
    "start_time": "2022-12-20T15:36:40.410Z"
   },
   {
    "duration": 14,
    "start_time": "2022-12-20T15:36:40.425Z"
   },
   {
    "duration": 39,
    "start_time": "2022-12-20T15:36:40.441Z"
   },
   {
    "duration": 24,
    "start_time": "2022-12-20T15:36:40.482Z"
   },
   {
    "duration": 14,
    "start_time": "2022-12-20T15:36:40.507Z"
   },
   {
    "duration": 866,
    "start_time": "2022-12-20T15:36:40.523Z"
   },
   {
    "duration": 760,
    "start_time": "2022-12-20T15:36:41.391Z"
   },
   {
    "duration": 900,
    "start_time": "2022-12-20T15:36:42.153Z"
   },
   {
    "duration": 622,
    "start_time": "2022-12-20T15:36:43.055Z"
   },
   {
    "duration": 13,
    "start_time": "2022-12-20T15:36:43.680Z"
   },
   {
    "duration": 13,
    "start_time": "2022-12-20T15:36:43.694Z"
   },
   {
    "duration": 834,
    "start_time": "2022-12-20T15:36:43.709Z"
   },
   {
    "duration": 9,
    "start_time": "2022-12-20T15:38:41.610Z"
   },
   {
    "duration": 15,
    "start_time": "2022-12-20T15:38:46.392Z"
   },
   {
    "duration": 9,
    "start_time": "2022-12-20T15:40:33.155Z"
   },
   {
    "duration": 1484,
    "start_time": "2022-12-20T15:40:40.307Z"
   },
   {
    "duration": 716,
    "start_time": "2022-12-20T15:40:41.794Z"
   },
   {
    "duration": 777,
    "start_time": "2022-12-20T15:40:42.512Z"
   },
   {
    "duration": 253,
    "start_time": "2022-12-20T15:40:43.290Z"
   },
   {
    "duration": 15,
    "start_time": "2022-12-20T15:40:43.547Z"
   },
   {
    "duration": 18,
    "start_time": "2022-12-20T15:40:43.565Z"
   },
   {
    "duration": 12,
    "start_time": "2022-12-20T15:40:43.586Z"
   },
   {
    "duration": 21,
    "start_time": "2022-12-20T15:40:43.601Z"
   },
   {
    "duration": 4,
    "start_time": "2022-12-20T15:40:43.624Z"
   },
   {
    "duration": 11,
    "start_time": "2022-12-20T15:40:43.630Z"
   },
   {
    "duration": 44,
    "start_time": "2022-12-20T15:40:43.643Z"
   },
   {
    "duration": 7,
    "start_time": "2022-12-20T15:40:43.690Z"
   },
   {
    "duration": 13,
    "start_time": "2022-12-20T15:40:43.699Z"
   },
   {
    "duration": 26,
    "start_time": "2022-12-20T15:40:43.716Z"
   },
   {
    "duration": 34,
    "start_time": "2022-12-20T15:40:43.744Z"
   },
   {
    "duration": 19,
    "start_time": "2022-12-20T15:40:43.780Z"
   },
   {
    "duration": 17,
    "start_time": "2022-12-20T15:40:43.801Z"
   },
   {
    "duration": 29,
    "start_time": "2022-12-20T15:40:43.820Z"
   },
   {
    "duration": 18,
    "start_time": "2022-12-20T15:40:43.877Z"
   },
   {
    "duration": 16,
    "start_time": "2022-12-20T15:40:43.896Z"
   },
   {
    "duration": 81,
    "start_time": "2022-12-20T15:40:43.914Z"
   },
   {
    "duration": 16,
    "start_time": "2022-12-20T15:40:43.997Z"
   },
   {
    "duration": 924,
    "start_time": "2022-12-20T15:40:44.015Z"
   },
   {
    "duration": 776,
    "start_time": "2022-12-20T15:40:44.941Z"
   },
   {
    "duration": 956,
    "start_time": "2022-12-20T15:40:45.719Z"
   },
   {
    "duration": 614,
    "start_time": "2022-12-20T15:40:46.678Z"
   },
   {
    "duration": 13,
    "start_time": "2022-12-20T15:40:47.295Z"
   },
   {
    "duration": 14,
    "start_time": "2022-12-20T15:40:47.310Z"
   },
   {
    "duration": 920,
    "start_time": "2022-12-20T15:40:47.326Z"
   },
   {
    "duration": 16,
    "start_time": "2022-12-20T15:42:31.921Z"
   },
   {
    "duration": 11,
    "start_time": "2022-12-20T15:42:45.387Z"
   },
   {
    "duration": 38,
    "start_time": "2022-12-20T15:42:46.531Z"
   },
   {
    "duration": 12,
    "start_time": "2022-12-20T15:44:02.496Z"
   },
   {
    "duration": 32,
    "start_time": "2022-12-20T15:44:03.663Z"
   },
   {
    "duration": 10,
    "start_time": "2022-12-20T15:44:29.010Z"
   },
   {
    "duration": 12,
    "start_time": "2022-12-20T15:44:45.911Z"
   },
   {
    "duration": 1437,
    "start_time": "2022-12-20T15:45:09.563Z"
   },
   {
    "duration": 685,
    "start_time": "2022-12-20T15:45:11.003Z"
   },
   {
    "duration": 764,
    "start_time": "2022-12-20T15:45:11.690Z"
   },
   {
    "duration": 257,
    "start_time": "2022-12-20T15:45:12.457Z"
   },
   {
    "duration": 13,
    "start_time": "2022-12-20T15:45:12.716Z"
   },
   {
    "duration": 6,
    "start_time": "2022-12-20T15:45:12.731Z"
   },
   {
    "duration": 11,
    "start_time": "2022-12-20T15:45:12.739Z"
   },
   {
    "duration": 34,
    "start_time": "2022-12-20T15:45:12.752Z"
   },
   {
    "duration": 6,
    "start_time": "2022-12-20T15:45:12.788Z"
   },
   {
    "duration": 10,
    "start_time": "2022-12-20T15:45:12.797Z"
   },
   {
    "duration": 19,
    "start_time": "2022-12-20T15:45:12.809Z"
   },
   {
    "duration": 8,
    "start_time": "2022-12-20T15:45:12.829Z"
   },
   {
    "duration": 11,
    "start_time": "2022-12-20T15:45:12.839Z"
   },
   {
    "duration": 35,
    "start_time": "2022-12-20T15:45:12.851Z"
   },
   {
    "duration": 15,
    "start_time": "2022-12-20T15:45:12.887Z"
   },
   {
    "duration": 18,
    "start_time": "2022-12-20T15:45:12.903Z"
   },
   {
    "duration": 15,
    "start_time": "2022-12-20T15:45:12.923Z"
   },
   {
    "duration": 43,
    "start_time": "2022-12-20T15:45:12.940Z"
   },
   {
    "duration": 128,
    "start_time": "2022-12-20T15:45:12.985Z"
   },
   {
    "duration": 0,
    "start_time": "2022-12-20T15:45:13.115Z"
   },
   {
    "duration": 0,
    "start_time": "2022-12-20T15:45:13.117Z"
   },
   {
    "duration": 0,
    "start_time": "2022-12-20T15:45:13.119Z"
   },
   {
    "duration": 0,
    "start_time": "2022-12-20T15:45:13.120Z"
   },
   {
    "duration": 0,
    "start_time": "2022-12-20T15:45:13.121Z"
   },
   {
    "duration": 0,
    "start_time": "2022-12-20T15:45:13.124Z"
   },
   {
    "duration": 0,
    "start_time": "2022-12-20T15:45:13.125Z"
   },
   {
    "duration": 0,
    "start_time": "2022-12-20T15:45:13.127Z"
   },
   {
    "duration": 12,
    "start_time": "2022-12-20T15:45:38.413Z"
   },
   {
    "duration": 11,
    "start_time": "2022-12-20T15:45:41.029Z"
   },
   {
    "duration": 11,
    "start_time": "2022-12-20T15:45:44.480Z"
   },
   {
    "duration": 11,
    "start_time": "2022-12-20T15:45:47.608Z"
   },
   {
    "duration": 6,
    "start_time": "2022-12-20T15:45:53.463Z"
   },
   {
    "duration": 679,
    "start_time": "2022-12-20T15:45:54.645Z"
   },
   {
    "duration": 707,
    "start_time": "2022-12-20T15:45:55.387Z"
   },
   {
    "duration": 214,
    "start_time": "2022-12-20T15:45:56.203Z"
   },
   {
    "duration": 9,
    "start_time": "2022-12-20T15:46:00.381Z"
   },
   {
    "duration": 5,
    "start_time": "2022-12-20T15:46:01.517Z"
   },
   {
    "duration": 4,
    "start_time": "2022-12-20T15:46:03.351Z"
   },
   {
    "duration": 13,
    "start_time": "2022-12-20T15:46:04.136Z"
   },
   {
    "duration": 4,
    "start_time": "2022-12-20T15:46:05.437Z"
   },
   {
    "duration": 6,
    "start_time": "2022-12-20T15:46:06.902Z"
   },
   {
    "duration": 14,
    "start_time": "2022-12-20T15:46:07.526Z"
   },
   {
    "duration": 5,
    "start_time": "2022-12-20T15:46:08.294Z"
   },
   {
    "duration": 7,
    "start_time": "2022-12-20T15:46:09.018Z"
   },
   {
    "duration": 14,
    "start_time": "2022-12-20T15:46:09.721Z"
   },
   {
    "duration": 15,
    "start_time": "2022-12-20T15:46:10.366Z"
   },
   {
    "duration": 17,
    "start_time": "2022-12-20T15:46:10.989Z"
   },
   {
    "duration": 16,
    "start_time": "2022-12-20T15:46:12.278Z"
   },
   {
    "duration": 14,
    "start_time": "2022-12-20T15:46:14.029Z"
   },
   {
    "duration": 11,
    "start_time": "2022-12-20T15:46:14.855Z"
   },
   {
    "duration": 15,
    "start_time": "2022-12-20T15:46:16.676Z"
   },
   {
    "duration": 11,
    "start_time": "2022-12-20T15:46:26.127Z"
   },
   {
    "duration": 9,
    "start_time": "2022-12-20T15:46:42.144Z"
   },
   {
    "duration": 11,
    "start_time": "2022-12-20T15:47:05.321Z"
   },
   {
    "duration": 11,
    "start_time": "2022-12-20T15:47:31.131Z"
   },
   {
    "duration": 5,
    "start_time": "2022-12-20T15:47:49.004Z"
   },
   {
    "duration": 648,
    "start_time": "2022-12-20T15:47:50.131Z"
   },
   {
    "duration": 728,
    "start_time": "2022-12-20T15:47:51.873Z"
   },
   {
    "duration": 217,
    "start_time": "2022-12-20T15:47:54.061Z"
   },
   {
    "duration": 7,
    "start_time": "2022-12-20T15:47:57.957Z"
   },
   {
    "duration": 5,
    "start_time": "2022-12-20T15:47:59.212Z"
   },
   {
    "duration": 4,
    "start_time": "2022-12-20T15:48:02.093Z"
   },
   {
    "duration": 11,
    "start_time": "2022-12-20T15:48:03.324Z"
   },
   {
    "duration": 4,
    "start_time": "2022-12-20T15:48:06.013Z"
   },
   {
    "duration": 6,
    "start_time": "2022-12-20T15:48:11.197Z"
   },
   {
    "duration": 16,
    "start_time": "2022-12-20T15:48:15.247Z"
   },
   {
    "duration": 6,
    "start_time": "2022-12-20T15:48:18.270Z"
   },
   {
    "duration": 7,
    "start_time": "2022-12-20T15:48:25.159Z"
   },
   {
    "duration": 90,
    "start_time": "2022-12-20T15:48:34.919Z"
   },
   {
    "duration": 14,
    "start_time": "2022-12-20T15:48:36.199Z"
   },
   {
    "duration": 14,
    "start_time": "2022-12-20T15:48:39.535Z"
   },
   {
    "duration": 18,
    "start_time": "2022-12-20T15:48:42.614Z"
   },
   {
    "duration": 16,
    "start_time": "2022-12-20T15:48:43.991Z"
   },
   {
    "duration": 9,
    "start_time": "2022-12-20T15:48:53.760Z"
   },
   {
    "duration": 10,
    "start_time": "2022-12-20T15:49:18.297Z"
   },
   {
    "duration": 14,
    "start_time": "2022-12-20T15:49:20.417Z"
   },
   {
    "duration": 17,
    "start_time": "2022-12-20T15:49:26.450Z"
   },
   {
    "duration": 50,
    "start_time": "2022-12-21T07:22:05.749Z"
   },
   {
    "duration": 1681,
    "start_time": "2022-12-21T07:22:24.007Z"
   },
   {
    "duration": 2712,
    "start_time": "2022-12-21T07:22:25.690Z"
   },
   {
    "duration": 677,
    "start_time": "2022-12-21T07:22:28.404Z"
   },
   {
    "duration": 226,
    "start_time": "2022-12-21T07:22:29.083Z"
   },
   {
    "duration": 9,
    "start_time": "2022-12-21T07:22:29.310Z"
   },
   {
    "duration": 6,
    "start_time": "2022-12-21T07:22:29.325Z"
   },
   {
    "duration": 10,
    "start_time": "2022-12-21T07:22:29.333Z"
   },
   {
    "duration": 18,
    "start_time": "2022-12-21T07:22:29.344Z"
   },
   {
    "duration": 4,
    "start_time": "2022-12-21T07:22:29.364Z"
   },
   {
    "duration": 118,
    "start_time": "2022-12-21T07:22:29.370Z"
   },
   {
    "duration": 0,
    "start_time": "2022-12-21T07:22:29.490Z"
   },
   {
    "duration": 0,
    "start_time": "2022-12-21T07:22:29.492Z"
   },
   {
    "duration": 0,
    "start_time": "2022-12-21T07:22:29.493Z"
   },
   {
    "duration": 0,
    "start_time": "2022-12-21T07:22:29.495Z"
   },
   {
    "duration": 0,
    "start_time": "2022-12-21T07:22:29.496Z"
   },
   {
    "duration": 0,
    "start_time": "2022-12-21T07:22:29.498Z"
   },
   {
    "duration": 0,
    "start_time": "2022-12-21T07:22:29.499Z"
   },
   {
    "duration": 0,
    "start_time": "2022-12-21T07:22:29.501Z"
   },
   {
    "duration": 0,
    "start_time": "2022-12-21T07:22:29.502Z"
   },
   {
    "duration": 0,
    "start_time": "2022-12-21T07:22:29.504Z"
   },
   {
    "duration": 0,
    "start_time": "2022-12-21T07:22:29.527Z"
   },
   {
    "duration": 0,
    "start_time": "2022-12-21T07:22:29.529Z"
   },
   {
    "duration": 0,
    "start_time": "2022-12-21T07:22:29.530Z"
   },
   {
    "duration": 0,
    "start_time": "2022-12-21T07:22:29.532Z"
   },
   {
    "duration": 0,
    "start_time": "2022-12-21T07:22:29.533Z"
   },
   {
    "duration": 0,
    "start_time": "2022-12-21T07:22:29.535Z"
   },
   {
    "duration": 0,
    "start_time": "2022-12-21T07:22:29.537Z"
   },
   {
    "duration": 10,
    "start_time": "2022-12-21T07:23:06.868Z"
   },
   {
    "duration": 10,
    "start_time": "2022-12-21T07:23:22.260Z"
   },
   {
    "duration": 12,
    "start_time": "2022-12-21T07:23:34.244Z"
   },
   {
    "duration": 5,
    "start_time": "2022-12-21T07:31:50.758Z"
   },
   {
    "duration": 10,
    "start_time": "2022-12-21T07:32:39.565Z"
   },
   {
    "duration": 10,
    "start_time": "2022-12-21T07:32:49.224Z"
   },
   {
    "duration": 1375,
    "start_time": "2022-12-21T07:32:59.672Z"
   },
   {
    "duration": 695,
    "start_time": "2022-12-21T07:33:01.049Z"
   },
   {
    "duration": 749,
    "start_time": "2022-12-21T07:33:01.746Z"
   },
   {
    "duration": 229,
    "start_time": "2022-12-21T07:33:02.497Z"
   },
   {
    "duration": 9,
    "start_time": "2022-12-21T07:33:02.728Z"
   },
   {
    "duration": 4,
    "start_time": "2022-12-21T07:33:02.739Z"
   },
   {
    "duration": 6,
    "start_time": "2022-12-21T07:33:02.745Z"
   },
   {
    "duration": 16,
    "start_time": "2022-12-21T07:33:02.753Z"
   },
   {
    "duration": 5,
    "start_time": "2022-12-21T07:33:02.771Z"
   },
   {
    "duration": 142,
    "start_time": "2022-12-21T07:33:02.777Z"
   },
   {
    "duration": 0,
    "start_time": "2022-12-21T07:33:02.921Z"
   },
   {
    "duration": 0,
    "start_time": "2022-12-21T07:33:02.926Z"
   },
   {
    "duration": 0,
    "start_time": "2022-12-21T07:33:02.928Z"
   },
   {
    "duration": 1,
    "start_time": "2022-12-21T07:33:02.928Z"
   },
   {
    "duration": 0,
    "start_time": "2022-12-21T07:33:02.930Z"
   },
   {
    "duration": 0,
    "start_time": "2022-12-21T07:33:02.931Z"
   },
   {
    "duration": 0,
    "start_time": "2022-12-21T07:33:02.932Z"
   },
   {
    "duration": 0,
    "start_time": "2022-12-21T07:33:02.933Z"
   },
   {
    "duration": 0,
    "start_time": "2022-12-21T07:33:02.933Z"
   },
   {
    "duration": 0,
    "start_time": "2022-12-21T07:33:02.934Z"
   },
   {
    "duration": 0,
    "start_time": "2022-12-21T07:33:02.935Z"
   },
   {
    "duration": 0,
    "start_time": "2022-12-21T07:33:02.935Z"
   },
   {
    "duration": 0,
    "start_time": "2022-12-21T07:33:02.941Z"
   },
   {
    "duration": 0,
    "start_time": "2022-12-21T07:33:02.942Z"
   },
   {
    "duration": 0,
    "start_time": "2022-12-21T07:33:02.944Z"
   },
   {
    "duration": 0,
    "start_time": "2022-12-21T07:33:02.944Z"
   },
   {
    "duration": 0,
    "start_time": "2022-12-21T07:33:02.945Z"
   },
   {
    "duration": 10,
    "start_time": "2022-12-21T07:34:11.147Z"
   },
   {
    "duration": 13,
    "start_time": "2022-12-21T07:37:33.852Z"
   },
   {
    "duration": 15,
    "start_time": "2022-12-21T07:37:54.576Z"
   },
   {
    "duration": 9,
    "start_time": "2022-12-21T07:38:46.914Z"
   },
   {
    "duration": 1400,
    "start_time": "2022-12-21T07:39:03.059Z"
   },
   {
    "duration": 654,
    "start_time": "2022-12-21T07:39:04.461Z"
   },
   {
    "duration": 765,
    "start_time": "2022-12-21T07:39:05.117Z"
   },
   {
    "duration": 220,
    "start_time": "2022-12-21T07:39:05.884Z"
   },
   {
    "duration": 8,
    "start_time": "2022-12-21T07:39:06.106Z"
   },
   {
    "duration": 13,
    "start_time": "2022-12-21T07:39:06.126Z"
   },
   {
    "duration": 67,
    "start_time": "2022-12-21T07:39:06.140Z"
   },
   {
    "duration": 54,
    "start_time": "2022-12-21T07:39:06.209Z"
   },
   {
    "duration": 114,
    "start_time": "2022-12-21T07:39:06.265Z"
   },
   {
    "duration": 0,
    "start_time": "2022-12-21T07:39:06.381Z"
   },
   {
    "duration": 0,
    "start_time": "2022-12-21T07:39:06.382Z"
   },
   {
    "duration": 0,
    "start_time": "2022-12-21T07:39:06.383Z"
   },
   {
    "duration": 0,
    "start_time": "2022-12-21T07:39:06.384Z"
   },
   {
    "duration": 0,
    "start_time": "2022-12-21T07:39:06.385Z"
   },
   {
    "duration": 0,
    "start_time": "2022-12-21T07:39:06.386Z"
   },
   {
    "duration": 0,
    "start_time": "2022-12-21T07:39:06.387Z"
   },
   {
    "duration": 0,
    "start_time": "2022-12-21T07:39:06.388Z"
   },
   {
    "duration": 0,
    "start_time": "2022-12-21T07:39:06.389Z"
   },
   {
    "duration": 0,
    "start_time": "2022-12-21T07:39:06.391Z"
   },
   {
    "duration": 0,
    "start_time": "2022-12-21T07:39:06.392Z"
   },
   {
    "duration": 0,
    "start_time": "2022-12-21T07:39:06.393Z"
   },
   {
    "duration": 0,
    "start_time": "2022-12-21T07:39:06.394Z"
   },
   {
    "duration": 0,
    "start_time": "2022-12-21T07:39:06.395Z"
   },
   {
    "duration": 0,
    "start_time": "2022-12-21T07:39:06.396Z"
   },
   {
    "duration": 0,
    "start_time": "2022-12-21T07:39:06.397Z"
   },
   {
    "duration": 0,
    "start_time": "2022-12-21T07:39:06.398Z"
   },
   {
    "duration": 0,
    "start_time": "2022-12-21T07:39:06.427Z"
   },
   {
    "duration": 14,
    "start_time": "2022-12-21T07:39:20.219Z"
   },
   {
    "duration": 9,
    "start_time": "2022-12-21T07:39:24.806Z"
   },
   {
    "duration": 10,
    "start_time": "2022-12-21T07:39:45.050Z"
   },
   {
    "duration": 5,
    "start_time": "2022-12-21T07:39:56.468Z"
   },
   {
    "duration": 10,
    "start_time": "2022-12-21T07:40:00.056Z"
   },
   {
    "duration": 4,
    "start_time": "2022-12-21T07:49:51.225Z"
   },
   {
    "duration": 10,
    "start_time": "2022-12-21T07:49:53.747Z"
   },
   {
    "duration": 9,
    "start_time": "2022-12-21T07:53:14.701Z"
   },
   {
    "duration": 5,
    "start_time": "2022-12-21T07:54:24.165Z"
   },
   {
    "duration": 5,
    "start_time": "2022-12-21T07:57:52.269Z"
   },
   {
    "duration": 5,
    "start_time": "2022-12-21T07:57:53.581Z"
   },
   {
    "duration": 6,
    "start_time": "2022-12-21T07:59:16.338Z"
   },
   {
    "duration": 14,
    "start_time": "2022-12-21T07:59:20.264Z"
   },
   {
    "duration": 9,
    "start_time": "2022-12-21T08:00:09.894Z"
   },
   {
    "duration": 17,
    "start_time": "2022-12-21T08:00:14.662Z"
   },
   {
    "duration": 18,
    "start_time": "2022-12-21T08:00:47.281Z"
   },
   {
    "duration": 16,
    "start_time": "2022-12-21T08:00:52.320Z"
   },
   {
    "duration": 10,
    "start_time": "2022-12-21T08:00:53.825Z"
   },
   {
    "duration": 9,
    "start_time": "2022-12-21T08:04:03.757Z"
   },
   {
    "duration": 9,
    "start_time": "2022-12-21T08:04:09.996Z"
   },
   {
    "duration": 9,
    "start_time": "2022-12-21T08:04:11.116Z"
   },
   {
    "duration": 1312,
    "start_time": "2022-12-21T08:04:25.480Z"
   },
   {
    "duration": 640,
    "start_time": "2022-12-21T08:04:26.794Z"
   },
   {
    "duration": 709,
    "start_time": "2022-12-21T08:04:27.436Z"
   },
   {
    "duration": 220,
    "start_time": "2022-12-21T08:04:28.147Z"
   },
   {
    "duration": 9,
    "start_time": "2022-12-21T08:04:28.369Z"
   },
   {
    "duration": 4,
    "start_time": "2022-12-21T08:04:28.379Z"
   },
   {
    "duration": 7,
    "start_time": "2022-12-21T08:04:28.385Z"
   },
   {
    "duration": 33,
    "start_time": "2022-12-21T08:04:28.393Z"
   },
   {
    "duration": 5,
    "start_time": "2022-12-21T08:04:28.428Z"
   },
   {
    "duration": 7,
    "start_time": "2022-12-21T08:04:28.435Z"
   },
   {
    "duration": 19,
    "start_time": "2022-12-21T08:04:28.443Z"
   },
   {
    "duration": 15,
    "start_time": "2022-12-21T08:04:28.464Z"
   },
   {
    "duration": 32,
    "start_time": "2022-12-21T08:04:28.480Z"
   },
   {
    "duration": 20,
    "start_time": "2022-12-21T08:04:28.514Z"
   },
   {
    "duration": 11,
    "start_time": "2022-12-21T08:04:28.536Z"
   },
   {
    "duration": 104,
    "start_time": "2022-12-21T08:04:28.549Z"
   },
   {
    "duration": 0,
    "start_time": "2022-12-21T08:04:28.655Z"
   },
   {
    "duration": 0,
    "start_time": "2022-12-21T08:04:28.655Z"
   },
   {
    "duration": 0,
    "start_time": "2022-12-21T08:04:28.657Z"
   },
   {
    "duration": 0,
    "start_time": "2022-12-21T08:04:28.658Z"
   },
   {
    "duration": 0,
    "start_time": "2022-12-21T08:04:28.659Z"
   },
   {
    "duration": 0,
    "start_time": "2022-12-21T08:04:28.660Z"
   },
   {
    "duration": 0,
    "start_time": "2022-12-21T08:04:28.661Z"
   },
   {
    "duration": 0,
    "start_time": "2022-12-21T08:04:28.662Z"
   },
   {
    "duration": 8,
    "start_time": "2022-12-21T08:04:49.687Z"
   },
   {
    "duration": 2,
    "start_time": "2022-12-21T08:04:55.324Z"
   },
   {
    "duration": 3,
    "start_time": "2022-12-21T08:05:08.009Z"
   },
   {
    "duration": 3,
    "start_time": "2022-12-21T08:05:37.341Z"
   },
   {
    "duration": 3,
    "start_time": "2022-12-21T08:05:45.354Z"
   },
   {
    "duration": 9,
    "start_time": "2022-12-21T08:05:53.654Z"
   },
   {
    "duration": 3,
    "start_time": "2022-12-21T08:05:56.036Z"
   },
   {
    "duration": 8,
    "start_time": "2022-12-21T08:06:04.380Z"
   },
   {
    "duration": 9,
    "start_time": "2022-12-21T08:06:07.146Z"
   },
   {
    "duration": 9,
    "start_time": "2022-12-21T08:06:10.201Z"
   },
   {
    "duration": 8,
    "start_time": "2022-12-21T08:06:12.291Z"
   },
   {
    "duration": 9,
    "start_time": "2022-12-21T08:06:34.067Z"
   },
   {
    "duration": 4,
    "start_time": "2022-12-21T08:07:14.497Z"
   },
   {
    "duration": 620,
    "start_time": "2022-12-21T08:07:16.863Z"
   },
   {
    "duration": 665,
    "start_time": "2022-12-21T08:07:17.508Z"
   },
   {
    "duration": 211,
    "start_time": "2022-12-21T08:07:18.260Z"
   },
   {
    "duration": 8,
    "start_time": "2022-12-21T08:07:20.510Z"
   },
   {
    "duration": 5,
    "start_time": "2022-12-21T08:07:21.087Z"
   },
   {
    "duration": 4,
    "start_time": "2022-12-21T08:07:22.592Z"
   },
   {
    "duration": 10,
    "start_time": "2022-12-21T08:07:23.222Z"
   },
   {
    "duration": 5,
    "start_time": "2022-12-21T08:07:24.476Z"
   },
   {
    "duration": 6,
    "start_time": "2022-12-21T08:07:25.558Z"
   },
   {
    "duration": 6,
    "start_time": "2022-12-21T08:07:27.015Z"
   },
   {
    "duration": 14,
    "start_time": "2022-12-21T08:07:27.658Z"
   },
   {
    "duration": 10,
    "start_time": "2022-12-21T08:07:28.579Z"
   },
   {
    "duration": 14,
    "start_time": "2022-12-21T08:07:29.318Z"
   },
   {
    "duration": 13,
    "start_time": "2022-12-21T08:07:30.052Z"
   },
   {
    "duration": 8,
    "start_time": "2022-12-21T08:07:30.711Z"
   },
   {
    "duration": 9,
    "start_time": "2022-12-21T08:07:48.752Z"
   },
   {
    "duration": 9,
    "start_time": "2022-12-21T08:07:49.957Z"
   },
   {
    "duration": 17,
    "start_time": "2022-12-21T08:17:58.482Z"
   },
   {
    "duration": 12,
    "start_time": "2022-12-21T08:18:01.971Z"
   },
   {
    "duration": 12,
    "start_time": "2022-12-21T08:18:18.638Z"
   },
   {
    "duration": 1365,
    "start_time": "2022-12-21T08:18:28.054Z"
   },
   {
    "duration": 671,
    "start_time": "2022-12-21T08:18:29.421Z"
   },
   {
    "duration": 735,
    "start_time": "2022-12-21T08:18:30.094Z"
   },
   {
    "duration": 228,
    "start_time": "2022-12-21T08:18:30.831Z"
   },
   {
    "duration": 8,
    "start_time": "2022-12-21T08:18:31.061Z"
   },
   {
    "duration": 46,
    "start_time": "2022-12-21T08:18:31.070Z"
   },
   {
    "duration": 32,
    "start_time": "2022-12-21T08:18:31.118Z"
   },
   {
    "duration": 49,
    "start_time": "2022-12-21T08:18:31.151Z"
   },
   {
    "duration": 25,
    "start_time": "2022-12-21T08:18:31.201Z"
   },
   {
    "duration": 22,
    "start_time": "2022-12-21T08:18:31.229Z"
   },
   {
    "duration": 34,
    "start_time": "2022-12-21T08:18:31.253Z"
   },
   {
    "duration": 35,
    "start_time": "2022-12-21T08:18:31.289Z"
   },
   {
    "duration": 36,
    "start_time": "2022-12-21T08:18:31.326Z"
   },
   {
    "duration": 42,
    "start_time": "2022-12-21T08:18:31.363Z"
   },
   {
    "duration": 31,
    "start_time": "2022-12-21T08:18:31.406Z"
   },
   {
    "duration": 22,
    "start_time": "2022-12-21T08:18:31.439Z"
   },
   {
    "duration": 22,
    "start_time": "2022-12-21T08:18:31.463Z"
   },
   {
    "duration": 78,
    "start_time": "2022-12-21T08:18:31.487Z"
   },
   {
    "duration": 859,
    "start_time": "2022-12-21T08:18:31.567Z"
   },
   {
    "duration": 715,
    "start_time": "2022-12-21T08:18:32.428Z"
   },
   {
    "duration": 845,
    "start_time": "2022-12-21T08:18:33.145Z"
   },
   {
    "duration": 597,
    "start_time": "2022-12-21T08:18:33.992Z"
   },
   {
    "duration": 12,
    "start_time": "2022-12-21T08:18:34.591Z"
   },
   {
    "duration": 43,
    "start_time": "2022-12-21T08:18:34.604Z"
   },
   {
    "duration": 1379,
    "start_time": "2022-12-21T08:18:34.648Z"
   },
   {
    "duration": 33,
    "start_time": "2022-12-21T08:25:17.556Z"
   },
   {
    "duration": 15,
    "start_time": "2022-12-21T08:25:18.941Z"
   },
   {
    "duration": 1372,
    "start_time": "2022-12-21T08:25:46.437Z"
   },
   {
    "duration": 622,
    "start_time": "2022-12-21T08:25:47.811Z"
   },
   {
    "duration": 749,
    "start_time": "2022-12-21T08:25:48.435Z"
   },
   {
    "duration": 223,
    "start_time": "2022-12-21T08:25:49.186Z"
   },
   {
    "duration": 19,
    "start_time": "2022-12-21T08:25:49.412Z"
   },
   {
    "duration": 4,
    "start_time": "2022-12-21T08:25:49.433Z"
   },
   {
    "duration": 25,
    "start_time": "2022-12-21T08:25:49.439Z"
   },
   {
    "duration": 19,
    "start_time": "2022-12-21T08:25:49.467Z"
   },
   {
    "duration": 9,
    "start_time": "2022-12-21T08:25:49.488Z"
   },
   {
    "duration": 13,
    "start_time": "2022-12-21T08:25:49.498Z"
   },
   {
    "duration": 16,
    "start_time": "2022-12-21T08:25:49.513Z"
   },
   {
    "duration": 34,
    "start_time": "2022-12-21T08:25:49.531Z"
   },
   {
    "duration": 11,
    "start_time": "2022-12-21T08:25:49.567Z"
   },
   {
    "duration": 21,
    "start_time": "2022-12-21T08:25:49.580Z"
   },
   {
    "duration": 12,
    "start_time": "2022-12-21T08:25:49.603Z"
   },
   {
    "duration": 4451,
    "start_time": "2022-12-21T08:25:49.617Z"
   },
   {
    "duration": 15,
    "start_time": "2022-12-21T08:25:54.070Z"
   },
   {
    "duration": 20,
    "start_time": "2022-12-21T08:25:54.086Z"
   },
   {
    "duration": 745,
    "start_time": "2022-12-21T08:25:54.108Z"
   },
   {
    "duration": 812,
    "start_time": "2022-12-21T08:25:54.856Z"
   },
   {
    "duration": 891,
    "start_time": "2022-12-21T08:25:55.671Z"
   },
   {
    "duration": 566,
    "start_time": "2022-12-21T08:25:56.564Z"
   },
   {
    "duration": 12,
    "start_time": "2022-12-21T08:25:57.131Z"
   },
   {
    "duration": 44,
    "start_time": "2022-12-21T08:25:57.145Z"
   },
   {
    "duration": 1365,
    "start_time": "2022-12-21T08:25:57.191Z"
   },
   {
    "duration": 11,
    "start_time": "2022-12-21T08:26:57.617Z"
   },
   {
    "duration": 12,
    "start_time": "2022-12-21T08:27:05.153Z"
   },
   {
    "duration": 26,
    "start_time": "2022-12-21T08:27:12.147Z"
   },
   {
    "duration": 13,
    "start_time": "2022-12-21T08:27:13.600Z"
   },
   {
    "duration": 34,
    "start_time": "2022-12-21T08:29:09.782Z"
   },
   {
    "duration": 13,
    "start_time": "2022-12-21T08:29:13.056Z"
   },
   {
    "duration": 10,
    "start_time": "2022-12-21T08:29:26.696Z"
   },
   {
    "duration": 13,
    "start_time": "2022-12-21T08:29:30.287Z"
   },
   {
    "duration": 17,
    "start_time": "2022-12-21T08:30:03.588Z"
   },
   {
    "duration": 15,
    "start_time": "2022-12-21T08:30:49.861Z"
   },
   {
    "duration": 1393,
    "start_time": "2022-12-21T08:31:07.043Z"
   },
   {
    "duration": 649,
    "start_time": "2022-12-21T08:31:08.440Z"
   },
   {
    "duration": 678,
    "start_time": "2022-12-21T08:31:09.091Z"
   },
   {
    "duration": 232,
    "start_time": "2022-12-21T08:31:09.770Z"
   },
   {
    "duration": 10,
    "start_time": "2022-12-21T08:31:10.004Z"
   },
   {
    "duration": 29,
    "start_time": "2022-12-21T08:31:10.015Z"
   },
   {
    "duration": 6,
    "start_time": "2022-12-21T08:31:10.046Z"
   },
   {
    "duration": 21,
    "start_time": "2022-12-21T08:31:10.054Z"
   },
   {
    "duration": 6,
    "start_time": "2022-12-21T08:31:10.077Z"
   },
   {
    "duration": 13,
    "start_time": "2022-12-21T08:31:10.085Z"
   },
   {
    "duration": 10,
    "start_time": "2022-12-21T08:31:10.099Z"
   },
   {
    "duration": 21,
    "start_time": "2022-12-21T08:31:10.110Z"
   },
   {
    "duration": 25,
    "start_time": "2022-12-21T08:31:10.132Z"
   },
   {
    "duration": 16,
    "start_time": "2022-12-21T08:31:10.159Z"
   },
   {
    "duration": 21,
    "start_time": "2022-12-21T08:31:10.177Z"
   },
   {
    "duration": 17,
    "start_time": "2022-12-21T08:31:10.200Z"
   },
   {
    "duration": 12,
    "start_time": "2022-12-21T08:31:10.219Z"
   },
   {
    "duration": 804,
    "start_time": "2022-12-21T08:31:10.233Z"
   },
   {
    "duration": 734,
    "start_time": "2022-12-21T08:31:11.039Z"
   },
   {
    "duration": 862,
    "start_time": "2022-12-21T08:31:11.774Z"
   },
   {
    "duration": 582,
    "start_time": "2022-12-21T08:31:12.638Z"
   },
   {
    "duration": 15,
    "start_time": "2022-12-21T08:31:13.222Z"
   },
   {
    "duration": 32,
    "start_time": "2022-12-21T08:31:13.238Z"
   },
   {
    "duration": 1356,
    "start_time": "2022-12-21T08:31:13.272Z"
   },
   {
    "duration": 558,
    "start_time": "2022-12-21T08:38:51.592Z"
   },
   {
    "duration": 1151,
    "start_time": "2022-12-21T08:52:48.246Z"
   },
   {
    "duration": 13,
    "start_time": "2022-12-21T08:52:49.717Z"
   },
   {
    "duration": 2,
    "start_time": "2022-12-21T08:57:30.898Z"
   },
   {
    "duration": 11,
    "start_time": "2022-12-21T08:57:31.557Z"
   },
   {
    "duration": 8,
    "start_time": "2022-12-21T08:57:35.883Z"
   },
   {
    "duration": 16,
    "start_time": "2022-12-21T08:57:36.586Z"
   },
   {
    "duration": 8,
    "start_time": "2022-12-21T08:57:37.061Z"
   },
   {
    "duration": 12,
    "start_time": "2022-12-21T08:57:37.675Z"
   },
   {
    "duration": 14,
    "start_time": "2022-12-21T08:57:38.285Z"
   },
   {
    "duration": 753,
    "start_time": "2022-12-21T08:57:49.560Z"
   },
   {
    "duration": 1473,
    "start_time": "2022-12-21T08:58:28.392Z"
   },
   {
    "duration": 1349,
    "start_time": "2022-12-21T08:58:38.116Z"
   },
   {
    "duration": 619,
    "start_time": "2022-12-21T08:58:39.466Z"
   },
   {
    "duration": 683,
    "start_time": "2022-12-21T08:58:40.086Z"
   },
   {
    "duration": 215,
    "start_time": "2022-12-21T08:58:40.771Z"
   },
   {
    "duration": 8,
    "start_time": "2022-12-21T08:58:40.988Z"
   },
   {
    "duration": 9,
    "start_time": "2022-12-21T08:58:40.998Z"
   },
   {
    "duration": 7,
    "start_time": "2022-12-21T08:58:41.009Z"
   },
   {
    "duration": 16,
    "start_time": "2022-12-21T08:58:41.026Z"
   },
   {
    "duration": 5,
    "start_time": "2022-12-21T08:58:41.044Z"
   },
   {
    "duration": 4,
    "start_time": "2022-12-21T08:58:41.052Z"
   },
   {
    "duration": 4,
    "start_time": "2022-12-21T08:58:41.058Z"
   },
   {
    "duration": 18,
    "start_time": "2022-12-21T08:58:41.064Z"
   },
   {
    "duration": 9,
    "start_time": "2022-12-21T08:58:41.084Z"
   },
   {
    "duration": 47,
    "start_time": "2022-12-21T08:58:41.095Z"
   },
   {
    "duration": 12,
    "start_time": "2022-12-21T08:58:41.144Z"
   },
   {
    "duration": 15,
    "start_time": "2022-12-21T08:58:41.158Z"
   },
   {
    "duration": 12,
    "start_time": "2022-12-21T08:58:41.174Z"
   },
   {
    "duration": 814,
    "start_time": "2022-12-21T08:58:41.188Z"
   },
   {
    "duration": 652,
    "start_time": "2022-12-21T08:58:42.004Z"
   },
   {
    "duration": 782,
    "start_time": "2022-12-21T08:58:42.658Z"
   },
   {
    "duration": 553,
    "start_time": "2022-12-21T08:58:43.441Z"
   },
   {
    "duration": 1289,
    "start_time": "2022-12-21T08:58:43.995Z"
   },
   {
    "duration": 0,
    "start_time": "2022-12-21T08:58:45.285Z"
   },
   {
    "duration": 649,
    "start_time": "2022-12-21T08:59:00.094Z"
   },
   {
    "duration": 788,
    "start_time": "2022-12-21T08:59:18.288Z"
   },
   {
    "duration": 527,
    "start_time": "2022-12-21T08:59:28.091Z"
   },
   {
    "duration": 5,
    "start_time": "2022-12-21T08:59:39.684Z"
   },
   {
    "duration": 685,
    "start_time": "2022-12-21T08:59:45.092Z"
   },
   {
    "duration": 561,
    "start_time": "2022-12-21T09:24:03.744Z"
   },
   {
    "duration": 2,
    "start_time": "2022-12-21T11:32:35.311Z"
   },
   {
    "duration": 718,
    "start_time": "2022-12-21T11:32:37.949Z"
   },
   {
    "duration": 950,
    "start_time": "2022-12-21T11:32:41.465Z"
   },
   {
    "duration": 771,
    "start_time": "2022-12-21T11:32:44.769Z"
   },
   {
    "duration": 731,
    "start_time": "2022-12-21T11:32:48.032Z"
   },
   {
    "duration": 6,
    "start_time": "2022-12-21T11:32:51.509Z"
   },
   {
    "duration": 596,
    "start_time": "2022-12-21T11:32:55.192Z"
   },
   {
    "duration": 6,
    "start_time": "2022-12-21T14:05:52.097Z"
   },
   {
    "duration": 11,
    "start_time": "2022-12-21T14:07:09.411Z"
   },
   {
    "duration": 13,
    "start_time": "2022-12-21T14:07:27.011Z"
   },
   {
    "duration": 15,
    "start_time": "2022-12-21T14:10:40.774Z"
   },
   {
    "duration": 14,
    "start_time": "2022-12-21T14:10:47.415Z"
   },
   {
    "duration": 14,
    "start_time": "2022-12-21T14:12:58.139Z"
   },
   {
    "duration": 14,
    "start_time": "2022-12-21T14:16:04.034Z"
   },
   {
    "duration": 13,
    "start_time": "2022-12-21T14:16:40.303Z"
   },
   {
    "duration": 13,
    "start_time": "2022-12-21T14:16:42.571Z"
   },
   {
    "duration": 37,
    "start_time": "2022-12-21T14:19:45.055Z"
   },
   {
    "duration": 35,
    "start_time": "2022-12-21T14:19:56.900Z"
   },
   {
    "duration": 5,
    "start_time": "2022-12-21T14:20:24.643Z"
   },
   {
    "duration": 544,
    "start_time": "2022-12-21T14:20:51.572Z"
   },
   {
    "duration": 4,
    "start_time": "2022-12-21T14:20:56.112Z"
   },
   {
    "duration": 37,
    "start_time": "2022-12-21T14:20:57.970Z"
   },
   {
    "duration": 3,
    "start_time": "2022-12-21T14:20:58.580Z"
   },
   {
    "duration": 1374,
    "start_time": "2022-12-21T14:21:47.497Z"
   },
   {
    "duration": 613,
    "start_time": "2022-12-21T14:21:48.873Z"
   },
   {
    "duration": 662,
    "start_time": "2022-12-21T14:21:49.487Z"
   },
   {
    "duration": 208,
    "start_time": "2022-12-21T14:21:50.151Z"
   },
   {
    "duration": 9,
    "start_time": "2022-12-21T14:21:50.361Z"
   },
   {
    "duration": 5,
    "start_time": "2022-12-21T14:21:50.372Z"
   },
   {
    "duration": 6,
    "start_time": "2022-12-21T14:21:50.379Z"
   },
   {
    "duration": 16,
    "start_time": "2022-12-21T14:21:50.387Z"
   },
   {
    "duration": 5,
    "start_time": "2022-12-21T14:21:50.427Z"
   },
   {
    "duration": 5,
    "start_time": "2022-12-21T14:21:50.435Z"
   },
   {
    "duration": 5,
    "start_time": "2022-12-21T14:21:50.442Z"
   },
   {
    "duration": 33,
    "start_time": "2022-12-21T14:21:50.449Z"
   },
   {
    "duration": 32,
    "start_time": "2022-12-21T14:21:50.484Z"
   },
   {
    "duration": 20,
    "start_time": "2022-12-21T14:21:50.517Z"
   },
   {
    "duration": 20,
    "start_time": "2022-12-21T14:21:50.538Z"
   },
   {
    "duration": 14,
    "start_time": "2022-12-21T14:21:50.559Z"
   },
   {
    "duration": 2,
    "start_time": "2022-12-21T14:21:50.574Z"
   },
   {
    "duration": 743,
    "start_time": "2022-12-21T14:21:50.578Z"
   },
   {
    "duration": 720,
    "start_time": "2022-12-21T14:21:51.323Z"
   },
   {
    "duration": 775,
    "start_time": "2022-12-21T14:21:52.045Z"
   },
   {
    "duration": 541,
    "start_time": "2022-12-21T14:21:52.822Z"
   },
   {
    "duration": 6,
    "start_time": "2022-12-21T14:21:53.364Z"
   },
   {
    "duration": 533,
    "start_time": "2022-12-21T14:21:53.372Z"
   },
   {
    "duration": 653,
    "start_time": "2022-12-21T14:21:53.907Z"
   },
   {
    "duration": 5,
    "start_time": "2022-12-21T14:21:54.562Z"
   },
   {
    "duration": 41,
    "start_time": "2022-12-21T14:21:54.568Z"
   },
   {
    "duration": 16,
    "start_time": "2022-12-21T14:21:54.611Z"
   },
   {
    "duration": 6,
    "start_time": "2022-12-21T14:25:26.624Z"
   },
   {
    "duration": 14,
    "start_time": "2022-12-21T14:25:27.417Z"
   },
   {
    "duration": 14,
    "start_time": "2022-12-21T14:25:35.290Z"
   },
   {
    "duration": 4,
    "start_time": "2022-12-21T15:25:51.545Z"
   },
   {
    "duration": 3,
    "start_time": "2022-12-21T15:25:52.574Z"
   },
   {
    "duration": 9,
    "start_time": "2022-12-21T15:25:53.502Z"
   },
   {
    "duration": 8,
    "start_time": "2022-12-21T15:25:54.170Z"
   },
   {
    "duration": 106,
    "start_time": "2022-12-21T15:57:24.817Z"
   },
   {
    "duration": 10,
    "start_time": "2022-12-21T15:58:48.495Z"
   },
   {
    "duration": 308,
    "start_time": "2022-12-21T16:01:07.141Z"
   },
   {
    "duration": 4,
    "start_time": "2022-12-21T16:09:13.548Z"
   },
   {
    "duration": 8,
    "start_time": "2022-12-21T16:09:14.993Z"
   },
   {
    "duration": 6,
    "start_time": "2022-12-21T16:09:15.529Z"
   },
   {
    "duration": 547,
    "start_time": "2022-12-21T16:09:53.547Z"
   },
   {
    "duration": 532,
    "start_time": "2022-12-21T16:12:38.399Z"
   },
   {
    "duration": 14,
    "start_time": "2022-12-21T16:12:55.701Z"
   },
   {
    "duration": 1482,
    "start_time": "2022-12-21T16:13:06.140Z"
   },
   {
    "duration": 635,
    "start_time": "2022-12-21T16:13:07.624Z"
   },
   {
    "duration": 672,
    "start_time": "2022-12-21T16:13:08.261Z"
   },
   {
    "duration": 226,
    "start_time": "2022-12-21T16:13:08.936Z"
   },
   {
    "duration": 9,
    "start_time": "2022-12-21T16:13:09.165Z"
   },
   {
    "duration": 10,
    "start_time": "2022-12-21T16:13:09.176Z"
   },
   {
    "duration": 21,
    "start_time": "2022-12-21T16:13:09.188Z"
   },
   {
    "duration": 40,
    "start_time": "2022-12-21T16:13:09.211Z"
   },
   {
    "duration": 26,
    "start_time": "2022-12-21T16:13:09.253Z"
   },
   {
    "duration": 24,
    "start_time": "2022-12-21T16:13:09.281Z"
   },
   {
    "duration": 24,
    "start_time": "2022-12-21T16:13:09.306Z"
   },
   {
    "duration": 23,
    "start_time": "2022-12-21T16:13:09.332Z"
   },
   {
    "duration": 31,
    "start_time": "2022-12-21T16:13:09.357Z"
   },
   {
    "duration": 33,
    "start_time": "2022-12-21T16:13:09.390Z"
   },
   {
    "duration": 821,
    "start_time": "2022-12-21T16:13:09.425Z"
   },
   {
    "duration": 679,
    "start_time": "2022-12-21T16:13:10.248Z"
   },
   {
    "duration": 826,
    "start_time": "2022-12-21T16:13:10.929Z"
   },
   {
    "duration": 566,
    "start_time": "2022-12-21T16:13:11.756Z"
   },
   {
    "duration": 7,
    "start_time": "2022-12-21T16:13:12.323Z"
   },
   {
    "duration": 551,
    "start_time": "2022-12-21T16:13:12.332Z"
   },
   {
    "duration": 674,
    "start_time": "2022-12-21T16:13:12.885Z"
   },
   {
    "duration": 3,
    "start_time": "2022-12-21T16:13:13.561Z"
   },
   {
    "duration": 84,
    "start_time": "2022-12-21T16:13:13.566Z"
   },
   {
    "duration": 4,
    "start_time": "2022-12-21T16:13:13.652Z"
   },
   {
    "duration": 12,
    "start_time": "2022-12-21T16:13:13.658Z"
   },
   {
    "duration": 19,
    "start_time": "2022-12-21T16:13:13.672Z"
   },
   {
    "duration": 12,
    "start_time": "2022-12-21T16:13:13.693Z"
   },
   {
    "duration": 20,
    "start_time": "2022-12-21T16:13:13.707Z"
   },
   {
    "duration": 15,
    "start_time": "2022-12-21T16:13:13.728Z"
   },
   {
    "duration": 20,
    "start_time": "2022-12-21T16:13:13.744Z"
   },
   {
    "duration": 705,
    "start_time": "2022-12-21T16:13:13.766Z"
   },
   {
    "duration": 0,
    "start_time": "2022-12-21T16:13:14.473Z"
   },
   {
    "duration": 0,
    "start_time": "2022-12-21T16:13:14.474Z"
   },
   {
    "duration": 0,
    "start_time": "2022-12-21T16:13:14.474Z"
   },
   {
    "duration": 0,
    "start_time": "2022-12-21T16:13:14.476Z"
   },
   {
    "duration": 10,
    "start_time": "2022-12-21T16:32:33.441Z"
   },
   {
    "duration": 7,
    "start_time": "2022-12-21T16:33:10.023Z"
   },
   {
    "duration": 1277,
    "start_time": "2022-12-21T16:44:23.775Z"
   },
   {
    "duration": 628,
    "start_time": "2022-12-21T16:44:25.054Z"
   },
   {
    "duration": 716,
    "start_time": "2022-12-21T16:44:25.684Z"
   },
   {
    "duration": 205,
    "start_time": "2022-12-21T16:44:26.402Z"
   },
   {
    "duration": 8,
    "start_time": "2022-12-21T16:44:26.608Z"
   },
   {
    "duration": 11,
    "start_time": "2022-12-21T16:44:26.617Z"
   },
   {
    "duration": 5,
    "start_time": "2022-12-21T16:44:26.630Z"
   },
   {
    "duration": 11,
    "start_time": "2022-12-21T16:44:26.637Z"
   },
   {
    "duration": 8,
    "start_time": "2022-12-21T16:44:26.649Z"
   },
   {
    "duration": 10,
    "start_time": "2022-12-21T16:44:26.660Z"
   },
   {
    "duration": 18,
    "start_time": "2022-12-21T16:44:26.671Z"
   },
   {
    "duration": 24,
    "start_time": "2022-12-21T16:44:26.690Z"
   },
   {
    "duration": 18,
    "start_time": "2022-12-21T16:44:26.716Z"
   },
   {
    "duration": 23,
    "start_time": "2022-12-21T16:44:26.736Z"
   },
   {
    "duration": 710,
    "start_time": "2022-12-21T16:44:26.761Z"
   },
   {
    "duration": 658,
    "start_time": "2022-12-21T16:44:27.473Z"
   },
   {
    "duration": 777,
    "start_time": "2022-12-21T16:44:28.132Z"
   },
   {
    "duration": 532,
    "start_time": "2022-12-21T16:44:28.910Z"
   },
   {
    "duration": 5,
    "start_time": "2022-12-21T16:44:29.444Z"
   },
   {
    "duration": 525,
    "start_time": "2022-12-21T16:44:29.450Z"
   },
   {
    "duration": 655,
    "start_time": "2022-12-21T16:44:29.976Z"
   },
   {
    "duration": 4,
    "start_time": "2022-12-21T16:44:30.632Z"
   },
   {
    "duration": 70,
    "start_time": "2022-12-21T16:44:30.637Z"
   },
   {
    "duration": 20,
    "start_time": "2022-12-21T16:44:30.709Z"
   },
   {
    "duration": 56,
    "start_time": "2022-12-21T16:44:30.731Z"
   },
   {
    "duration": 74,
    "start_time": "2022-12-21T16:44:30.789Z"
   },
   {
    "duration": 25,
    "start_time": "2022-12-21T16:44:30.864Z"
   },
   {
    "duration": 51,
    "start_time": "2022-12-21T16:44:30.892Z"
   },
   {
    "duration": 63,
    "start_time": "2022-12-21T16:44:30.945Z"
   },
   {
    "duration": 35,
    "start_time": "2022-12-21T16:44:31.010Z"
   },
   {
    "duration": 704,
    "start_time": "2022-12-21T16:44:31.047Z"
   },
   {
    "duration": 0,
    "start_time": "2022-12-21T16:44:31.753Z"
   },
   {
    "duration": 0,
    "start_time": "2022-12-21T16:44:31.754Z"
   },
   {
    "duration": 0,
    "start_time": "2022-12-21T16:44:31.755Z"
   },
   {
    "duration": 0,
    "start_time": "2022-12-21T16:44:31.757Z"
   },
   {
    "duration": 14,
    "start_time": "2022-12-21T16:44:49.796Z"
   },
   {
    "duration": 43,
    "start_time": "2022-12-21T16:44:58.323Z"
   },
   {
    "duration": 14,
    "start_time": "2022-12-21T16:45:10.595Z"
   },
   {
    "duration": 1340,
    "start_time": "2022-12-21T16:45:22.735Z"
   },
   {
    "duration": 647,
    "start_time": "2022-12-21T16:45:24.076Z"
   },
   {
    "duration": 655,
    "start_time": "2022-12-21T16:45:24.725Z"
   },
   {
    "duration": 251,
    "start_time": "2022-12-21T16:45:25.381Z"
   },
   {
    "duration": 10,
    "start_time": "2022-12-21T16:45:25.635Z"
   },
   {
    "duration": 8,
    "start_time": "2022-12-21T16:45:25.647Z"
   },
   {
    "duration": 10,
    "start_time": "2022-12-21T16:45:25.657Z"
   },
   {
    "duration": 19,
    "start_time": "2022-12-21T16:45:25.668Z"
   },
   {
    "duration": 21,
    "start_time": "2022-12-21T16:45:25.689Z"
   },
   {
    "duration": 51,
    "start_time": "2022-12-21T16:45:25.712Z"
   },
   {
    "duration": 19,
    "start_time": "2022-12-21T16:45:25.765Z"
   },
   {
    "duration": 19,
    "start_time": "2022-12-21T16:45:25.785Z"
   },
   {
    "duration": 14,
    "start_time": "2022-12-21T16:45:25.806Z"
   },
   {
    "duration": 14,
    "start_time": "2022-12-21T16:45:25.823Z"
   },
   {
    "duration": 725,
    "start_time": "2022-12-21T16:45:25.839Z"
   },
   {
    "duration": 652,
    "start_time": "2022-12-21T16:45:26.566Z"
   },
   {
    "duration": 761,
    "start_time": "2022-12-21T16:45:27.220Z"
   },
   {
    "duration": 529,
    "start_time": "2022-12-21T16:45:27.982Z"
   },
   {
    "duration": 5,
    "start_time": "2022-12-21T16:45:28.512Z"
   },
   {
    "duration": 513,
    "start_time": "2022-12-21T16:45:28.519Z"
   },
   {
    "duration": 632,
    "start_time": "2022-12-21T16:45:29.034Z"
   },
   {
    "duration": 5,
    "start_time": "2022-12-21T16:45:29.668Z"
   },
   {
    "duration": 53,
    "start_time": "2022-12-21T16:45:29.675Z"
   },
   {
    "duration": 4,
    "start_time": "2022-12-21T16:45:29.729Z"
   },
   {
    "duration": 12,
    "start_time": "2022-12-21T16:45:29.734Z"
   },
   {
    "duration": 21,
    "start_time": "2022-12-21T16:45:29.748Z"
   },
   {
    "duration": 13,
    "start_time": "2022-12-21T16:45:29.771Z"
   },
   {
    "duration": 12,
    "start_time": "2022-12-21T16:45:29.786Z"
   },
   {
    "duration": 14,
    "start_time": "2022-12-21T16:45:29.800Z"
   },
   {
    "duration": 14,
    "start_time": "2022-12-21T16:45:29.816Z"
   },
   {
    "duration": 675,
    "start_time": "2022-12-21T16:45:29.831Z"
   },
   {
    "duration": 0,
    "start_time": "2022-12-21T16:45:30.508Z"
   },
   {
    "duration": 0,
    "start_time": "2022-12-21T16:45:30.509Z"
   },
   {
    "duration": 0,
    "start_time": "2022-12-21T16:45:30.510Z"
   },
   {
    "duration": 0,
    "start_time": "2022-12-21T16:45:30.512Z"
   },
   {
    "duration": 17,
    "start_time": "2022-12-21T16:46:11.562Z"
   },
   {
    "duration": 13,
    "start_time": "2022-12-21T16:46:17.938Z"
   },
   {
    "duration": 12,
    "start_time": "2022-12-21T16:46:21.948Z"
   },
   {
    "duration": 13,
    "start_time": "2022-12-21T16:46:24.020Z"
   },
   {
    "duration": 13,
    "start_time": "2022-12-21T16:46:26.330Z"
   },
   {
    "duration": 14,
    "start_time": "2022-12-21T16:51:35.877Z"
   },
   {
    "duration": 4,
    "start_time": "2022-12-21T16:53:51.501Z"
   },
   {
    "duration": 646,
    "start_time": "2022-12-21T16:53:52.789Z"
   },
   {
    "duration": 657,
    "start_time": "2022-12-21T16:53:53.577Z"
   },
   {
    "duration": 204,
    "start_time": "2022-12-21T16:53:54.368Z"
   },
   {
    "duration": 9,
    "start_time": "2022-12-21T16:53:58.371Z"
   },
   {
    "duration": 5,
    "start_time": "2022-12-21T16:53:59.142Z"
   },
   {
    "duration": 4,
    "start_time": "2022-12-21T16:54:02.179Z"
   },
   {
    "duration": 10,
    "start_time": "2022-12-21T16:54:03.996Z"
   },
   {
    "duration": 6,
    "start_time": "2022-12-21T16:54:05.028Z"
   },
   {
    "duration": 5,
    "start_time": "2022-12-21T16:54:05.877Z"
   },
   {
    "duration": 10,
    "start_time": "2022-12-21T16:54:09.612Z"
   },
   {
    "duration": 16,
    "start_time": "2022-12-21T16:54:13.379Z"
   },
   {
    "duration": 12,
    "start_time": "2022-12-21T16:54:13.988Z"
   },
   {
    "duration": 16,
    "start_time": "2022-12-21T16:54:14.916Z"
   },
   {
    "duration": 656,
    "start_time": "2022-12-21T16:54:22.062Z"
   },
   {
    "duration": 820,
    "start_time": "2022-12-21T16:54:26.159Z"
   },
   {
    "duration": 754,
    "start_time": "2022-12-21T16:54:29.550Z"
   },
   {
    "duration": 668,
    "start_time": "2022-12-21T16:54:37.573Z"
   },
   {
    "duration": 5,
    "start_time": "2022-12-21T16:54:43.773Z"
   },
   {
    "duration": 573,
    "start_time": "2022-12-21T16:54:47.062Z"
   },
   {
    "duration": 562,
    "start_time": "2022-12-21T16:54:51.230Z"
   },
   {
    "duration": 4,
    "start_time": "2022-12-21T16:54:57.391Z"
   },
   {
    "duration": 31,
    "start_time": "2022-12-21T16:54:58.471Z"
   },
   {
    "duration": 4,
    "start_time": "2022-12-21T16:54:59.451Z"
   },
   {
    "duration": 7,
    "start_time": "2022-12-21T16:55:02.573Z"
   },
   {
    "duration": 13,
    "start_time": "2022-12-21T16:55:05.343Z"
   },
   {
    "duration": 13,
    "start_time": "2022-12-21T16:55:12.451Z"
   },
   {
    "duration": 4,
    "start_time": "2022-12-21T16:55:18.103Z"
   },
   {
    "duration": 8,
    "start_time": "2022-12-21T16:55:19.250Z"
   },
   {
    "duration": 7,
    "start_time": "2022-12-21T16:55:20.017Z"
   },
   {
    "duration": 1463,
    "start_time": "2022-12-21T16:55:21.057Z"
   },
   {
    "duration": 14,
    "start_time": "2022-12-21T17:01:54.147Z"
   },
   {
    "duration": 9,
    "start_time": "2022-12-21T17:03:53.502Z"
   },
   {
    "duration": 895,
    "start_time": "2022-12-21T17:11:56.426Z"
   },
   {
    "duration": 9,
    "start_time": "2022-12-21T17:15:26.709Z"
   },
   {
    "duration": 6,
    "start_time": "2022-12-21T17:15:54.672Z"
   },
   {
    "duration": 3,
    "start_time": "2022-12-21T17:19:13.327Z"
   },
   {
    "duration": 9331,
    "start_time": "2022-12-21T17:19:15.533Z"
   },
   {
    "duration": 8,
    "start_time": "2022-12-21T17:22:48.001Z"
   },
   {
    "duration": 8,
    "start_time": "2022-12-21T17:23:09.579Z"
   },
   {
    "duration": 7,
    "start_time": "2022-12-21T17:23:48.346Z"
   },
   {
    "duration": 2,
    "start_time": "2022-12-21T17:25:49.293Z"
   },
   {
    "duration": 925,
    "start_time": "2022-12-21T17:32:51.354Z"
   },
   {
    "duration": 47,
    "start_time": "2022-12-22T08:07:06.363Z"
   },
   {
    "duration": 1560,
    "start_time": "2022-12-22T08:07:15.313Z"
   },
   {
    "duration": 3060,
    "start_time": "2022-12-22T08:07:16.876Z"
   },
   {
    "duration": 694,
    "start_time": "2022-12-22T08:07:19.938Z"
   },
   {
    "duration": 222,
    "start_time": "2022-12-22T08:07:20.633Z"
   },
   {
    "duration": 9,
    "start_time": "2022-12-22T08:07:20.857Z"
   },
   {
    "duration": 8,
    "start_time": "2022-12-22T08:07:20.867Z"
   },
   {
    "duration": 8,
    "start_time": "2022-12-22T08:07:20.876Z"
   },
   {
    "duration": 11,
    "start_time": "2022-12-22T08:07:20.898Z"
   },
   {
    "duration": 5,
    "start_time": "2022-12-22T08:07:20.910Z"
   },
   {
    "duration": 9,
    "start_time": "2022-12-22T08:07:20.917Z"
   },
   {
    "duration": 12,
    "start_time": "2022-12-22T08:07:20.928Z"
   },
   {
    "duration": 20,
    "start_time": "2022-12-22T08:07:20.942Z"
   },
   {
    "duration": 35,
    "start_time": "2022-12-22T08:07:20.964Z"
   },
   {
    "duration": 16,
    "start_time": "2022-12-22T08:07:21.002Z"
   },
   {
    "duration": 817,
    "start_time": "2022-12-22T08:07:21.019Z"
   },
   {
    "duration": 696,
    "start_time": "2022-12-22T08:07:21.838Z"
   },
   {
    "duration": 812,
    "start_time": "2022-12-22T08:07:22.535Z"
   },
   {
    "duration": 557,
    "start_time": "2022-12-22T08:07:23.349Z"
   },
   {
    "duration": 6,
    "start_time": "2022-12-22T08:07:23.907Z"
   },
   {
    "duration": 553,
    "start_time": "2022-12-22T08:07:23.914Z"
   },
   {
    "duration": 732,
    "start_time": "2022-12-22T08:07:24.469Z"
   },
   {
    "duration": 4,
    "start_time": "2022-12-22T08:07:25.203Z"
   },
   {
    "duration": 42,
    "start_time": "2022-12-22T08:07:25.208Z"
   },
   {
    "duration": 4,
    "start_time": "2022-12-22T08:07:25.252Z"
   },
   {
    "duration": 13,
    "start_time": "2022-12-22T08:07:25.258Z"
   },
   {
    "duration": 34,
    "start_time": "2022-12-22T08:07:25.273Z"
   },
   {
    "duration": 10,
    "start_time": "2022-12-22T08:07:25.309Z"
   },
   {
    "duration": 8,
    "start_time": "2022-12-22T08:07:25.322Z"
   },
   {
    "duration": 24,
    "start_time": "2022-12-22T08:07:25.332Z"
   },
   {
    "duration": 13,
    "start_time": "2022-12-22T08:07:25.358Z"
   },
   {
    "duration": 8,
    "start_time": "2022-12-22T08:07:25.373Z"
   },
   {
    "duration": 1169,
    "start_time": "2022-12-22T08:07:25.382Z"
   },
   {
    "duration": 0,
    "start_time": "2022-12-22T08:07:26.553Z"
   },
   {
    "duration": 0,
    "start_time": "2022-12-22T08:07:26.554Z"
   },
   {
    "duration": 0,
    "start_time": "2022-12-22T08:07:26.555Z"
   },
   {
    "duration": 0,
    "start_time": "2022-12-22T08:07:26.556Z"
   },
   {
    "duration": 0,
    "start_time": "2022-12-22T08:07:26.557Z"
   },
   {
    "duration": 11,
    "start_time": "2022-12-22T09:02:53.861Z"
   },
   {
    "duration": 8,
    "start_time": "2022-12-22T09:02:55.879Z"
   },
   {
    "duration": 3,
    "start_time": "2022-12-22T09:03:04.107Z"
   },
   {
    "duration": 781,
    "start_time": "2022-12-22T09:03:05.609Z"
   },
   {
    "duration": 3,
    "start_time": "2022-12-22T09:06:51.211Z"
   },
   {
    "duration": 818,
    "start_time": "2022-12-22T09:06:51.701Z"
   },
   {
    "duration": 699,
    "start_time": "2022-12-22T09:07:52.609Z"
   },
   {
    "duration": 656,
    "start_time": "2022-12-22T09:22:48.303Z"
   },
   {
    "duration": 3,
    "start_time": "2022-12-22T09:23:28.100Z"
   },
   {
    "duration": 10,
    "start_time": "2022-12-22T09:23:28.832Z"
   },
   {
    "duration": 7,
    "start_time": "2022-12-22T09:23:29.339Z"
   },
   {
    "duration": 641,
    "start_time": "2022-12-22T09:23:33.531Z"
   },
   {
    "duration": 4,
    "start_time": "2022-12-22T09:29:32.817Z"
   },
   {
    "duration": 10,
    "start_time": "2022-12-22T09:29:34.176Z"
   },
   {
    "duration": 8,
    "start_time": "2022-12-22T09:29:34.705Z"
   },
   {
    "duration": 459,
    "start_time": "2022-12-22T09:29:37.108Z"
   },
   {
    "duration": 4,
    "start_time": "2022-12-22T09:33:36.900Z"
   },
   {
    "duration": 12342,
    "start_time": "2022-12-22T09:34:23.874Z"
   },
   {
    "duration": 2,
    "start_time": "2022-12-22T09:36:57.446Z"
   },
   {
    "duration": 2,
    "start_time": "2022-12-22T09:37:05.878Z"
   },
   {
    "duration": 12253,
    "start_time": "2022-12-22T09:37:26.693Z"
   },
   {
    "duration": 12461,
    "start_time": "2022-12-22T09:38:10.936Z"
   },
   {
    "duration": 12232,
    "start_time": "2022-12-22T09:42:27.037Z"
   },
   {
    "duration": 1350015,
    "start_time": "2022-12-22T10:13:57.849Z"
   },
   {
    "duration": 1348,
    "start_time": "2022-12-22T11:40:45.720Z"
   },
   {
    "duration": 660,
    "start_time": "2022-12-22T11:40:47.069Z"
   },
   {
    "duration": 672,
    "start_time": "2022-12-22T11:40:47.731Z"
   },
   {
    "duration": 228,
    "start_time": "2022-12-22T11:40:48.404Z"
   },
   {
    "duration": 9,
    "start_time": "2022-12-22T11:40:48.636Z"
   },
   {
    "duration": 5,
    "start_time": "2022-12-22T11:40:48.647Z"
   },
   {
    "duration": 6,
    "start_time": "2022-12-22T11:40:48.654Z"
   },
   {
    "duration": 42,
    "start_time": "2022-12-22T11:40:48.662Z"
   },
   {
    "duration": 6,
    "start_time": "2022-12-22T11:40:48.706Z"
   },
   {
    "duration": 25,
    "start_time": "2022-12-22T11:40:48.713Z"
   },
   {
    "duration": 15,
    "start_time": "2022-12-22T11:40:48.740Z"
   },
   {
    "duration": 19,
    "start_time": "2022-12-22T11:40:48.757Z"
   },
   {
    "duration": 21,
    "start_time": "2022-12-22T11:40:48.777Z"
   },
   {
    "duration": 17,
    "start_time": "2022-12-22T11:40:48.801Z"
   },
   {
    "duration": 796,
    "start_time": "2022-12-22T11:40:48.820Z"
   },
   {
    "duration": 726,
    "start_time": "2022-12-22T11:40:49.617Z"
   },
   {
    "duration": 822,
    "start_time": "2022-12-22T11:40:50.344Z"
   },
   {
    "duration": 560,
    "start_time": "2022-12-22T11:40:51.167Z"
   },
   {
    "duration": 5,
    "start_time": "2022-12-22T11:40:51.728Z"
   },
   {
    "duration": 540,
    "start_time": "2022-12-22T11:40:51.735Z"
   },
   {
    "duration": 667,
    "start_time": "2022-12-22T11:40:52.277Z"
   },
   {
    "duration": 4,
    "start_time": "2022-12-22T11:40:52.946Z"
   },
   {
    "duration": 49,
    "start_time": "2022-12-22T11:40:52.951Z"
   },
   {
    "duration": 4,
    "start_time": "2022-12-22T11:40:53.001Z"
   },
   {
    "duration": 7,
    "start_time": "2022-12-22T11:40:53.006Z"
   },
   {
    "duration": 14,
    "start_time": "2022-12-22T11:40:53.014Z"
   },
   {
    "duration": 10,
    "start_time": "2022-12-22T11:40:53.029Z"
   },
   {
    "duration": 5,
    "start_time": "2022-12-22T11:40:53.040Z"
   },
   {
    "duration": 12,
    "start_time": "2022-12-22T11:40:53.047Z"
   },
   {
    "duration": 11,
    "start_time": "2022-12-22T11:40:53.060Z"
   },
   {
    "duration": 8,
    "start_time": "2022-12-22T11:40:53.097Z"
   },
   {
    "duration": 12447,
    "start_time": "2022-12-22T11:40:53.107Z"
   },
   {
    "duration": 39,
    "start_time": "2022-12-22T11:41:05.555Z"
   },
   {
    "duration": 0,
    "start_time": "2022-12-22T11:41:05.596Z"
   },
   {
    "duration": 0,
    "start_time": "2022-12-22T11:41:05.598Z"
   },
   {
    "duration": 0,
    "start_time": "2022-12-22T11:41:05.599Z"
   },
   {
    "duration": 45,
    "start_time": "2022-12-22T11:42:50.875Z"
   },
   {
    "duration": 60,
    "start_time": "2022-12-22T11:43:14.878Z"
   },
   {
    "duration": 1333,
    "start_time": "2022-12-22T11:54:52.880Z"
   },
   {
    "duration": 727,
    "start_time": "2022-12-22T11:54:54.215Z"
   },
   {
    "duration": 666,
    "start_time": "2022-12-22T11:54:54.944Z"
   },
   {
    "duration": 228,
    "start_time": "2022-12-22T11:54:55.611Z"
   },
   {
    "duration": 9,
    "start_time": "2022-12-22T11:54:55.842Z"
   },
   {
    "duration": 5,
    "start_time": "2022-12-22T11:54:55.853Z"
   },
   {
    "duration": 11,
    "start_time": "2022-12-22T11:54:55.860Z"
   },
   {
    "duration": 32,
    "start_time": "2022-12-22T11:54:55.873Z"
   },
   {
    "duration": 6,
    "start_time": "2022-12-22T11:54:55.906Z"
   },
   {
    "duration": 8,
    "start_time": "2022-12-22T11:54:55.914Z"
   },
   {
    "duration": 16,
    "start_time": "2022-12-22T11:54:55.923Z"
   },
   {
    "duration": 27,
    "start_time": "2022-12-22T11:54:55.941Z"
   },
   {
    "duration": 28,
    "start_time": "2022-12-22T11:54:55.970Z"
   },
   {
    "duration": 15,
    "start_time": "2022-12-22T11:54:56.001Z"
   },
   {
    "duration": 746,
    "start_time": "2022-12-22T11:54:56.018Z"
   },
   {
    "duration": 645,
    "start_time": "2022-12-22T11:54:56.766Z"
   },
   {
    "duration": 789,
    "start_time": "2022-12-22T11:54:57.413Z"
   },
   {
    "duration": 562,
    "start_time": "2022-12-22T11:54:58.203Z"
   },
   {
    "duration": 6,
    "start_time": "2022-12-22T11:54:58.767Z"
   },
   {
    "duration": 557,
    "start_time": "2022-12-22T11:54:58.774Z"
   },
   {
    "duration": 652,
    "start_time": "2022-12-22T11:54:59.333Z"
   },
   {
    "duration": 12,
    "start_time": "2022-12-22T11:54:59.986Z"
   },
   {
    "duration": 43,
    "start_time": "2022-12-22T11:54:59.999Z"
   },
   {
    "duration": 4,
    "start_time": "2022-12-22T11:55:00.044Z"
   },
   {
    "duration": 20,
    "start_time": "2022-12-22T11:55:00.049Z"
   },
   {
    "duration": 27,
    "start_time": "2022-12-22T11:55:00.071Z"
   },
   {
    "duration": 12,
    "start_time": "2022-12-22T11:55:00.100Z"
   },
   {
    "duration": 114,
    "start_time": "2022-12-22T11:55:00.114Z"
   },
   {
    "duration": 19,
    "start_time": "2022-12-22T11:55:00.230Z"
   },
   {
    "duration": 57,
    "start_time": "2022-12-22T11:55:00.250Z"
   },
   {
    "duration": 34,
    "start_time": "2022-12-22T11:55:00.308Z"
   },
   {
    "duration": 12603,
    "start_time": "2022-12-22T11:55:00.344Z"
   },
   {
    "duration": 172,
    "start_time": "2022-12-22T12:26:00.566Z"
   },
   {
    "duration": 0,
    "start_time": "2022-12-22T12:26:00.740Z"
   },
   {
    "duration": 0,
    "start_time": "2022-12-22T12:26:00.742Z"
   },
   {
    "duration": 0,
    "start_time": "2022-12-22T12:26:00.744Z"
   },
   {
    "duration": 1242,
    "start_time": "2022-12-22T13:21:52.257Z"
   },
   {
    "duration": 667,
    "start_time": "2022-12-22T13:21:53.501Z"
   },
   {
    "duration": 699,
    "start_time": "2022-12-22T13:21:54.170Z"
   },
   {
    "duration": 221,
    "start_time": "2022-12-22T13:21:54.870Z"
   },
   {
    "duration": 8,
    "start_time": "2022-12-22T13:21:55.097Z"
   },
   {
    "duration": 5,
    "start_time": "2022-12-22T13:21:55.106Z"
   },
   {
    "duration": 7,
    "start_time": "2022-12-22T13:21:55.112Z"
   },
   {
    "duration": 13,
    "start_time": "2022-12-22T13:21:55.120Z"
   },
   {
    "duration": 5,
    "start_time": "2022-12-22T13:21:55.134Z"
   },
   {
    "duration": 8,
    "start_time": "2022-12-22T13:21:55.140Z"
   },
   {
    "duration": 23,
    "start_time": "2022-12-22T13:21:55.149Z"
   },
   {
    "duration": 38,
    "start_time": "2022-12-22T13:21:55.173Z"
   },
   {
    "duration": 11,
    "start_time": "2022-12-22T13:21:55.213Z"
   },
   {
    "duration": 14,
    "start_time": "2022-12-22T13:21:55.226Z"
   },
   {
    "duration": 732,
    "start_time": "2022-12-22T13:21:55.242Z"
   },
   {
    "duration": 626,
    "start_time": "2022-12-22T13:21:55.976Z"
   },
   {
    "duration": 750,
    "start_time": "2022-12-22T13:21:56.603Z"
   },
   {
    "duration": 516,
    "start_time": "2022-12-22T13:21:57.354Z"
   },
   {
    "duration": 6,
    "start_time": "2022-12-22T13:21:57.871Z"
   },
   {
    "duration": 539,
    "start_time": "2022-12-22T13:21:57.878Z"
   },
   {
    "duration": 602,
    "start_time": "2022-12-22T13:21:58.418Z"
   },
   {
    "duration": 4,
    "start_time": "2022-12-22T13:21:59.021Z"
   },
   {
    "duration": 40,
    "start_time": "2022-12-22T13:21:59.026Z"
   },
   {
    "duration": 4,
    "start_time": "2022-12-22T13:21:59.067Z"
   },
   {
    "duration": 7,
    "start_time": "2022-12-22T13:21:59.072Z"
   },
   {
    "duration": 13,
    "start_time": "2022-12-22T13:21:59.097Z"
   },
   {
    "duration": 9,
    "start_time": "2022-12-22T13:21:59.111Z"
   },
   {
    "duration": 9,
    "start_time": "2022-12-22T13:21:59.122Z"
   },
   {
    "duration": 5,
    "start_time": "2022-12-22T13:21:59.132Z"
   },
   {
    "duration": 12,
    "start_time": "2022-12-22T13:21:59.138Z"
   },
   {
    "duration": 11,
    "start_time": "2022-12-22T13:21:59.151Z"
   },
   {
    "duration": 12166,
    "start_time": "2022-12-22T13:21:59.164Z"
   },
   {
    "duration": 1155993,
    "start_time": "2022-12-22T13:22:11.331Z"
   },
   {
    "duration": 5791,
    "start_time": "2022-12-22T13:41:27.326Z"
   },
   {
    "duration": 6,
    "start_time": "2022-12-22T13:41:33.119Z"
   },
   {
    "duration": 100,
    "start_time": "2022-12-22T13:41:33.199Z"
   },
   {
    "duration": 3990,
    "start_time": "2022-12-22T13:42:44.920Z"
   },
   {
    "duration": 3132,
    "start_time": "2022-12-22T13:43:07.985Z"
   },
   {
    "duration": 5885,
    "start_time": "2022-12-22T14:04:50.942Z"
   },
   {
    "duration": 5841,
    "start_time": "2022-12-22T14:07:46.529Z"
   },
   {
    "duration": 5700,
    "start_time": "2022-12-22T14:14:30.173Z"
   },
   {
    "duration": 5,
    "start_time": "2022-12-22T14:16:11.945Z"
   },
   {
    "duration": 5,
    "start_time": "2022-12-22T14:16:39.568Z"
   },
   {
    "duration": 5588,
    "start_time": "2022-12-22T14:16:48.321Z"
   },
   {
    "duration": 5687,
    "start_time": "2022-12-22T14:18:28.426Z"
   },
   {
    "duration": 1581,
    "start_time": "2022-12-23T07:24:52.792Z"
   },
   {
    "duration": 2920,
    "start_time": "2022-12-23T07:24:54.375Z"
   },
   {
    "duration": 723,
    "start_time": "2022-12-23T07:24:57.297Z"
   },
   {
    "duration": 251,
    "start_time": "2022-12-23T07:24:58.022Z"
   },
   {
    "duration": 14,
    "start_time": "2022-12-23T07:24:58.276Z"
   },
   {
    "duration": 6,
    "start_time": "2022-12-23T07:24:58.293Z"
   },
   {
    "duration": 9,
    "start_time": "2022-12-23T07:24:58.301Z"
   },
   {
    "duration": 23,
    "start_time": "2022-12-23T07:24:58.312Z"
   },
   {
    "duration": 14,
    "start_time": "2022-12-23T07:24:58.337Z"
   },
   {
    "duration": 27,
    "start_time": "2022-12-23T07:24:58.352Z"
   },
   {
    "duration": 21,
    "start_time": "2022-12-23T07:24:58.381Z"
   },
   {
    "duration": 25,
    "start_time": "2022-12-23T07:24:58.404Z"
   },
   {
    "duration": 16,
    "start_time": "2022-12-23T07:24:58.431Z"
   },
   {
    "duration": 46,
    "start_time": "2022-12-23T07:24:58.450Z"
   },
   {
    "duration": 863,
    "start_time": "2022-12-23T07:24:58.498Z"
   },
   {
    "duration": 778,
    "start_time": "2022-12-23T07:24:59.363Z"
   },
   {
    "duration": 906,
    "start_time": "2022-12-23T07:25:00.143Z"
   },
   {
    "duration": 632,
    "start_time": "2022-12-23T07:25:01.051Z"
   },
   {
    "duration": 7,
    "start_time": "2022-12-23T07:25:01.685Z"
   },
   {
    "duration": 591,
    "start_time": "2022-12-23T07:25:01.694Z"
   },
   {
    "duration": 720,
    "start_time": "2022-12-23T07:25:02.287Z"
   },
   {
    "duration": 4,
    "start_time": "2022-12-23T07:25:03.009Z"
   },
   {
    "duration": 48,
    "start_time": "2022-12-23T07:25:03.015Z"
   },
   {
    "duration": 13,
    "start_time": "2022-12-23T07:25:03.065Z"
   },
   {
    "duration": 16,
    "start_time": "2022-12-23T07:25:03.080Z"
   },
   {
    "duration": 25,
    "start_time": "2022-12-23T07:25:03.097Z"
   },
   {
    "duration": 11,
    "start_time": "2022-12-23T07:25:03.124Z"
   },
   {
    "duration": 8,
    "start_time": "2022-12-23T07:25:03.137Z"
   },
   {
    "duration": 12,
    "start_time": "2022-12-23T07:25:03.146Z"
   },
   {
    "duration": 44,
    "start_time": "2022-12-23T07:25:03.178Z"
   },
   {
    "duration": 13040,
    "start_time": "2022-12-23T07:25:03.224Z"
   },
   {
    "duration": 1079980,
    "start_time": "2022-12-23T07:25:16.267Z"
   },
   {
    "duration": 1836,
    "start_time": "2022-12-23T07:43:16.249Z"
   },
   {
    "duration": 5973,
    "start_time": "2022-12-23T07:43:18.087Z"
   },
   {
    "duration": 3,
    "start_time": "2022-12-23T07:43:24.062Z"
   },
   {
    "duration": 2385903,
    "start_time": "2022-12-23T08:04:45.096Z"
   },
   {
    "duration": 2718586,
    "start_time": "2022-12-23T09:39:01.549Z"
   },
   {
    "duration": 5033,
    "start_time": "2022-12-23T10:39:11.405Z"
   },
   {
    "duration": 132,
    "start_time": "2022-12-23T10:39:50.066Z"
   },
   {
    "duration": 10,
    "start_time": "2022-12-23T10:40:07.719Z"
   },
   {
    "duration": 5218,
    "start_time": "2022-12-23T10:41:10.596Z"
   },
   {
    "duration": 10,
    "start_time": "2022-12-23T10:41:34.634Z"
   },
   {
    "duration": 5499,
    "start_time": "2022-12-23T10:45:23.859Z"
   },
   {
    "duration": 13517,
    "start_time": "2022-12-23T10:46:25.838Z"
   },
   {
    "duration": 5138,
    "start_time": "2022-12-23T10:47:22.223Z"
   },
   {
    "duration": 1605,
    "start_time": "2022-12-23T21:22:52.601Z"
   },
   {
    "duration": 2506,
    "start_time": "2022-12-23T21:22:54.209Z"
   },
   {
    "duration": 694,
    "start_time": "2022-12-23T21:22:56.717Z"
   },
   {
    "duration": 229,
    "start_time": "2022-12-23T21:22:57.413Z"
   },
   {
    "duration": 8,
    "start_time": "2022-12-23T21:22:57.644Z"
   },
   {
    "duration": 20,
    "start_time": "2022-12-23T21:22:57.653Z"
   },
   {
    "duration": 14,
    "start_time": "2022-12-23T21:22:57.675Z"
   },
   {
    "duration": 28,
    "start_time": "2022-12-23T21:22:57.691Z"
   },
   {
    "duration": 5,
    "start_time": "2022-12-23T21:22:57.721Z"
   },
   {
    "duration": 8,
    "start_time": "2022-12-23T21:22:57.728Z"
   },
   {
    "duration": 13,
    "start_time": "2022-12-23T21:22:57.737Z"
   },
   {
    "duration": 19,
    "start_time": "2022-12-23T21:22:57.752Z"
   },
   {
    "duration": 21,
    "start_time": "2022-12-23T21:22:57.773Z"
   },
   {
    "duration": 23,
    "start_time": "2022-12-23T21:22:57.802Z"
   },
   {
    "duration": 844,
    "start_time": "2022-12-23T21:22:57.827Z"
   },
   {
    "duration": 752,
    "start_time": "2022-12-23T21:22:58.673Z"
   },
   {
    "duration": 876,
    "start_time": "2022-12-23T21:22:59.426Z"
   },
   {
    "duration": 596,
    "start_time": "2022-12-23T21:23:00.305Z"
   },
   {
    "duration": 5,
    "start_time": "2022-12-23T21:23:00.904Z"
   },
   {
    "duration": 136,
    "start_time": "2022-12-23T21:23:00.911Z"
   },
   {
    "duration": 0,
    "start_time": "2022-12-23T21:23:01.049Z"
   },
   {
    "duration": 0,
    "start_time": "2022-12-23T21:23:01.050Z"
   },
   {
    "duration": 0,
    "start_time": "2022-12-23T21:23:01.051Z"
   },
   {
    "duration": 0,
    "start_time": "2022-12-23T21:23:01.052Z"
   },
   {
    "duration": 0,
    "start_time": "2022-12-23T21:23:01.053Z"
   },
   {
    "duration": 0,
    "start_time": "2022-12-23T21:23:01.054Z"
   },
   {
    "duration": 0,
    "start_time": "2022-12-23T21:23:01.055Z"
   },
   {
    "duration": 0,
    "start_time": "2022-12-23T21:23:01.057Z"
   },
   {
    "duration": 0,
    "start_time": "2022-12-23T21:23:01.058Z"
   },
   {
    "duration": 0,
    "start_time": "2022-12-23T21:23:01.059Z"
   },
   {
    "duration": 0,
    "start_time": "2022-12-23T21:23:01.080Z"
   },
   {
    "duration": 0,
    "start_time": "2022-12-23T21:23:01.081Z"
   },
   {
    "duration": 0,
    "start_time": "2022-12-23T21:23:01.081Z"
   },
   {
    "duration": 0,
    "start_time": "2022-12-23T21:23:01.082Z"
   },
   {
    "duration": 0,
    "start_time": "2022-12-23T21:23:01.088Z"
   },
   {
    "duration": 567,
    "start_time": "2022-12-23T21:24:33.203Z"
   },
   {
    "duration": 3,
    "start_time": "2022-12-23T21:32:39.906Z"
   },
   {
    "duration": 3,
    "start_time": "2022-12-23T21:32:56.904Z"
   },
   {
    "duration": 6,
    "start_time": "2022-12-23T21:59:13.459Z"
   },
   {
    "duration": 763,
    "start_time": "2022-12-23T21:59:21.401Z"
   },
   {
    "duration": 5,
    "start_time": "2022-12-23T22:01:57.107Z"
   },
   {
    "duration": 593,
    "start_time": "2022-12-23T22:04:52.374Z"
   },
   {
    "duration": 4,
    "start_time": "2022-12-23T22:05:13.128Z"
   },
   {
    "duration": 54,
    "start_time": "2022-12-23T22:05:18.455Z"
   },
   {
    "duration": 10,
    "start_time": "2022-12-23T22:05:20.576Z"
   }
  ],
  "kernelspec": {
   "display_name": "Python 3 (ipykernel)",
   "language": "python",
   "name": "python3"
  },
  "language_info": {
   "codemirror_mode": {
    "name": "ipython",
    "version": 3
   },
   "file_extension": ".py",
   "mimetype": "text/x-python",
   "name": "python",
   "nbconvert_exporter": "python",
   "pygments_lexer": "ipython3",
   "version": "3.10.9"
  },
  "toc": {
   "base_numbering": 1,
   "nav_menu": {},
   "number_sections": true,
   "sideBar": true,
   "skip_h1_title": true,
   "title_cell": "Содержание",
   "title_sidebar": "Contents",
   "toc_cell": true,
   "toc_position": {
    "height": "calc(100% - 180px)",
    "left": "10px",
    "top": "150px",
    "width": "229.188px"
   },
   "toc_section_display": true,
   "toc_window_display": true
  }
 },
 "nbformat": 4,
 "nbformat_minor": 4
}
