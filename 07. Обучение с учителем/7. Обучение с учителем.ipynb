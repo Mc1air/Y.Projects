{
 "cells": [
  {
   "cell_type": "markdown",
   "metadata": {
    "toc": true
   },
   "source": [
    "<h1>Содержание<span class=\"tocSkip\"></span></h1>\n",
    "<div class=\"toc\"><ul class=\"toc-item\"><li><span><a href=\"#Подготовка-данных\" data-toc-modified-id=\"Подготовка-данных-1\"><span class=\"toc-item-num\">1&nbsp;&nbsp;</span>Подготовка данных</a></span></li><li><span><a href=\"#Исследование-задачи\" data-toc-modified-id=\"Исследование-задачи-2\"><span class=\"toc-item-num\">2&nbsp;&nbsp;</span>Исследование задачи</a></span></li><li><span><a href=\"#Борьба-с-дисбалансом\" data-toc-modified-id=\"Борьба-с-дисбалансом-3\"><span class=\"toc-item-num\">3&nbsp;&nbsp;</span>Борьба с дисбалансом</a></span></li><li><span><a href=\"#Тестирование-модели\" data-toc-modified-id=\"Тестирование-модели-4\"><span class=\"toc-item-num\">4&nbsp;&nbsp;</span>Тестирование модели</a></span>"
   ]
  },
  {
   "cell_type": "markdown",
   "metadata": {},
   "source": [
    "# Отток клиентов"
   ]
  },
  {
   "cell_type": "markdown",
   "metadata": {},
   "source": [
    "Из банка стали уходить клиенты. Каждый месяц. Немного, но заметно. Банковские маркетологи посчитали: сохранять текущих клиентов дешевле, чем привлекать новых.\n",
    "\n",
    "Нужно спрогнозировать, уйдёт клиент из банка в ближайшее время или нет. Нам предоставлены исторические данные о поведении клиентов и расторжении договоров с банком."
   ]
  },
  {
   "cell_type": "markdown",
   "metadata": {},
   "source": [
    "**Цель исследования:**  \n",
    "Построить модель с предельно большим значением F1-меры (не менее 0.59), чтобы спрогнозировать, уйдёт клиент из банка в ближайшее время или нет."
   ]
  },
  {
   "cell_type": "markdown",
   "metadata": {},
   "source": [
    "**Ход исследования:**  \n",
    "* Предобработка данных (удаление ненужных столбцов, замена пропусков)\n",
    "* Исследование моделей и выбор лучшей из них без учёта дисбаланса классов\n",
    "* Устранение дисбаланса в классах\n",
    "* Выбор лучшей модели после устранения дисбаланса\n",
    "* Финальное тестирование лучшей модели"
   ]
  },
  {
   "cell_type": "markdown",
   "metadata": {},
   "source": [
    "## Подготовка данных"
   ]
  },
  {
   "cell_type": "code",
   "execution_count": 1,
   "metadata": {},
   "outputs": [],
   "source": [
    "#Импортируем необходимые библиотеки\n",
    "import numpy as np\n",
    "import pandas as pd\n",
    "from sklearn.tree import DecisionTreeClassifier\n",
    "from sklearn.linear_model import LogisticRegression\n",
    "from sklearn.ensemble import RandomForestClassifier\n",
    "from sklearn.model_selection import GridSearchCV, StratifiedKFold, train_test_split, cross_val_score\n",
    "from sklearn.utils import shuffle\n",
    "from sklearn.metrics import roc_auc_score, f1_score\n",
    "import matplotlib.pyplot as plt\n",
    "import seaborn as sns"
   ]
  },
  {
   "cell_type": "code",
   "execution_count": 2,
   "metadata": {},
   "outputs": [
    {
     "name": "stdout",
     "output_type": "stream",
     "text": [
      "<class 'pandas.core.frame.DataFrame'>\n",
      "\n",
      "RangeIndex: 10000 entries, 0 to 9999\n",
      "\n",
      "Data columns (total 14 columns):\n",
      "\n",
      " #   Column           Non-Null Count  Dtype  \n",
      "\n",
      "---  ------           --------------  -----  \n",
      "\n",
      " 0   RowNumber        10000 non-null  int64  \n",
      "\n",
      " 1   CustomerId       10000 non-null  int64  \n",
      "\n",
      " 2   Surname          10000 non-null  object \n",
      "\n",
      " 3   CreditScore      10000 non-null  int64  \n",
      "\n",
      " 4   Geography        10000 non-null  object \n",
      "\n",
      " 5   Gender           10000 non-null  object \n",
      "\n",
      " 6   Age              10000 non-null  int64  \n",
      "\n",
      " 7   Tenure           9091 non-null   float64\n",
      "\n",
      " 8   Balance          10000 non-null  float64\n",
      "\n",
      " 9   NumOfProducts    10000 non-null  int64  \n",
      "\n",
      " 10  HasCrCard        10000 non-null  int64  \n",
      "\n",
      " 11  IsActiveMember   10000 non-null  int64  \n",
      "\n",
      " 12  EstimatedSalary  10000 non-null  float64\n",
      "\n",
      " 13  Exited           10000 non-null  int64  \n",
      "\n",
      "dtypes: float64(3), int64(8), object(3)\n",
      "\n",
      "memory usage: 1.1+ MB\n"
     ]
    },
    {
     "data": {
      "text/html": [
       "<div>\n",
       "<style scoped>\n",
       "    .dataframe tbody tr th:only-of-type {\n",
       "        vertical-align: middle;\n",
       "    }\n",
       "\n",
       "    .dataframe tbody tr th {\n",
       "        vertical-align: top;\n",
       "    }\n",
       "\n",
       "    .dataframe thead th {\n",
       "        text-align: right;\n",
       "    }\n",
       "</style>\n",
       "<table border=\"1\" class=\"dataframe\">\n",
       "  <thead>\n",
       "    <tr style=\"text-align: right;\">\n",
       "      <th></th>\n",
       "      <th>RowNumber</th>\n",
       "      <th>CustomerId</th>\n",
       "      <th>Surname</th>\n",
       "      <th>CreditScore</th>\n",
       "      <th>Geography</th>\n",
       "      <th>Gender</th>\n",
       "      <th>Age</th>\n",
       "      <th>Tenure</th>\n",
       "      <th>Balance</th>\n",
       "      <th>NumOfProducts</th>\n",
       "      <th>HasCrCard</th>\n",
       "      <th>IsActiveMember</th>\n",
       "      <th>EstimatedSalary</th>\n",
       "      <th>Exited</th>\n",
       "    </tr>\n",
       "  </thead>\n",
       "  <tbody>\n",
       "    <tr>\n",
       "      <th>0</th>\n",
       "      <td>1</td>\n",
       "      <td>15634602</td>\n",
       "      <td>Hargrave</td>\n",
       "      <td>619</td>\n",
       "      <td>France</td>\n",
       "      <td>Female</td>\n",
       "      <td>42</td>\n",
       "      <td>2.0</td>\n",
       "      <td>0.00</td>\n",
       "      <td>1</td>\n",
       "      <td>1</td>\n",
       "      <td>1</td>\n",
       "      <td>101348.88</td>\n",
       "      <td>1</td>\n",
       "    </tr>\n",
       "    <tr>\n",
       "      <th>1</th>\n",
       "      <td>2</td>\n",
       "      <td>15647311</td>\n",
       "      <td>Hill</td>\n",
       "      <td>608</td>\n",
       "      <td>Spain</td>\n",
       "      <td>Female</td>\n",
       "      <td>41</td>\n",
       "      <td>1.0</td>\n",
       "      <td>83807.86</td>\n",
       "      <td>1</td>\n",
       "      <td>0</td>\n",
       "      <td>1</td>\n",
       "      <td>112542.58</td>\n",
       "      <td>0</td>\n",
       "    </tr>\n",
       "    <tr>\n",
       "      <th>2</th>\n",
       "      <td>3</td>\n",
       "      <td>15619304</td>\n",
       "      <td>Onio</td>\n",
       "      <td>502</td>\n",
       "      <td>France</td>\n",
       "      <td>Female</td>\n",
       "      <td>42</td>\n",
       "      <td>8.0</td>\n",
       "      <td>159660.80</td>\n",
       "      <td>3</td>\n",
       "      <td>1</td>\n",
       "      <td>0</td>\n",
       "      <td>113931.57</td>\n",
       "      <td>1</td>\n",
       "    </tr>\n",
       "    <tr>\n",
       "      <th>3</th>\n",
       "      <td>4</td>\n",
       "      <td>15701354</td>\n",
       "      <td>Boni</td>\n",
       "      <td>699</td>\n",
       "      <td>France</td>\n",
       "      <td>Female</td>\n",
       "      <td>39</td>\n",
       "      <td>1.0</td>\n",
       "      <td>0.00</td>\n",
       "      <td>2</td>\n",
       "      <td>0</td>\n",
       "      <td>0</td>\n",
       "      <td>93826.63</td>\n",
       "      <td>0</td>\n",
       "    </tr>\n",
       "    <tr>\n",
       "      <th>4</th>\n",
       "      <td>5</td>\n",
       "      <td>15737888</td>\n",
       "      <td>Mitchell</td>\n",
       "      <td>850</td>\n",
       "      <td>Spain</td>\n",
       "      <td>Female</td>\n",
       "      <td>43</td>\n",
       "      <td>2.0</td>\n",
       "      <td>125510.82</td>\n",
       "      <td>1</td>\n",
       "      <td>1</td>\n",
       "      <td>1</td>\n",
       "      <td>79084.10</td>\n",
       "      <td>0</td>\n",
       "    </tr>\n",
       "  </tbody>\n",
       "</table>\n",
       "</div>"
      ],
      "text/plain": [
       "   RowNumber  CustomerId   Surname  CreditScore Geography  Gender  Age  \\\n",
       "0          1    15634602  Hargrave          619    France  Female   42   \n",
       "1          2    15647311      Hill          608     Spain  Female   41   \n",
       "2          3    15619304      Onio          502    France  Female   42   \n",
       "3          4    15701354      Boni          699    France  Female   39   \n",
       "4          5    15737888  Mitchell          850     Spain  Female   43   \n",
       "\n",
       "   Tenure    Balance  NumOfProducts  HasCrCard  IsActiveMember  \\\n",
       "0     2.0       0.00              1          1               1   \n",
       "1     1.0   83807.86              1          0               1   \n",
       "2     8.0  159660.80              3          1               0   \n",
       "3     1.0       0.00              2          0               0   \n",
       "4     2.0  125510.82              1          1               1   \n",
       "\n",
       "   EstimatedSalary  Exited  \n",
       "0        101348.88       1  \n",
       "1        112542.58       0  \n",
       "2        113931.57       1  \n",
       "3         93826.63       0  \n",
       "4         79084.10       0  "
      ]
     },
     "execution_count": 2,
     "metadata": {},
     "output_type": "execute_result"
    }
   ],
   "source": [
    "#Сохраним данные в переменной data\n",
    "data = pd.read_csv('Churn.csv')\n",
    "#Посмотрим наличие пропусков и тип данных по датафрейму и выведем первые пять строк таблицы на экран\n",
    "data.info()\n",
    "data.head()"
   ]
  },
  {
   "cell_type": "code",
   "execution_count": 3,
   "metadata": {},
   "outputs": [
    {
     "data": {
      "text/html": [
       "<div>\n",
       "<style scoped>\n",
       "    .dataframe tbody tr th:only-of-type {\n",
       "        vertical-align: middle;\n",
       "    }\n",
       "\n",
       "    .dataframe tbody tr th {\n",
       "        vertical-align: top;\n",
       "    }\n",
       "\n",
       "    .dataframe thead th {\n",
       "        text-align: right;\n",
       "    }\n",
       "</style>\n",
       "<table border=\"1\" class=\"dataframe\">\n",
       "  <thead>\n",
       "    <tr style=\"text-align: right;\">\n",
       "      <th></th>\n",
       "      <th>RowNumber</th>\n",
       "      <th>CustomerId</th>\n",
       "      <th>CreditScore</th>\n",
       "      <th>Age</th>\n",
       "      <th>Tenure</th>\n",
       "      <th>Balance</th>\n",
       "      <th>NumOfProducts</th>\n",
       "      <th>HasCrCard</th>\n",
       "      <th>IsActiveMember</th>\n",
       "      <th>EstimatedSalary</th>\n",
       "      <th>Exited</th>\n",
       "    </tr>\n",
       "  </thead>\n",
       "  <tbody>\n",
       "    <tr>\n",
       "      <th>count</th>\n",
       "      <td>10000.00000</td>\n",
       "      <td>1.000000e+04</td>\n",
       "      <td>10000.000000</td>\n",
       "      <td>10000.000000</td>\n",
       "      <td>9091.000000</td>\n",
       "      <td>10000.000000</td>\n",
       "      <td>10000.000000</td>\n",
       "      <td>10000.00000</td>\n",
       "      <td>10000.000000</td>\n",
       "      <td>10000.000000</td>\n",
       "      <td>10000.000000</td>\n",
       "    </tr>\n",
       "    <tr>\n",
       "      <th>mean</th>\n",
       "      <td>5000.50000</td>\n",
       "      <td>1.569094e+07</td>\n",
       "      <td>650.528800</td>\n",
       "      <td>38.921800</td>\n",
       "      <td>4.997690</td>\n",
       "      <td>76485.889288</td>\n",
       "      <td>1.530200</td>\n",
       "      <td>0.70550</td>\n",
       "      <td>0.515100</td>\n",
       "      <td>100090.239881</td>\n",
       "      <td>0.203700</td>\n",
       "    </tr>\n",
       "    <tr>\n",
       "      <th>std</th>\n",
       "      <td>2886.89568</td>\n",
       "      <td>7.193619e+04</td>\n",
       "      <td>96.653299</td>\n",
       "      <td>10.487806</td>\n",
       "      <td>2.894723</td>\n",
       "      <td>62397.405202</td>\n",
       "      <td>0.581654</td>\n",
       "      <td>0.45584</td>\n",
       "      <td>0.499797</td>\n",
       "      <td>57510.492818</td>\n",
       "      <td>0.402769</td>\n",
       "    </tr>\n",
       "    <tr>\n",
       "      <th>min</th>\n",
       "      <td>1.00000</td>\n",
       "      <td>1.556570e+07</td>\n",
       "      <td>350.000000</td>\n",
       "      <td>18.000000</td>\n",
       "      <td>0.000000</td>\n",
       "      <td>0.000000</td>\n",
       "      <td>1.000000</td>\n",
       "      <td>0.00000</td>\n",
       "      <td>0.000000</td>\n",
       "      <td>11.580000</td>\n",
       "      <td>0.000000</td>\n",
       "    </tr>\n",
       "    <tr>\n",
       "      <th>25%</th>\n",
       "      <td>2500.75000</td>\n",
       "      <td>1.562853e+07</td>\n",
       "      <td>584.000000</td>\n",
       "      <td>32.000000</td>\n",
       "      <td>2.000000</td>\n",
       "      <td>0.000000</td>\n",
       "      <td>1.000000</td>\n",
       "      <td>0.00000</td>\n",
       "      <td>0.000000</td>\n",
       "      <td>51002.110000</td>\n",
       "      <td>0.000000</td>\n",
       "    </tr>\n",
       "    <tr>\n",
       "      <th>50%</th>\n",
       "      <td>5000.50000</td>\n",
       "      <td>1.569074e+07</td>\n",
       "      <td>652.000000</td>\n",
       "      <td>37.000000</td>\n",
       "      <td>5.000000</td>\n",
       "      <td>97198.540000</td>\n",
       "      <td>1.000000</td>\n",
       "      <td>1.00000</td>\n",
       "      <td>1.000000</td>\n",
       "      <td>100193.915000</td>\n",
       "      <td>0.000000</td>\n",
       "    </tr>\n",
       "    <tr>\n",
       "      <th>75%</th>\n",
       "      <td>7500.25000</td>\n",
       "      <td>1.575323e+07</td>\n",
       "      <td>718.000000</td>\n",
       "      <td>44.000000</td>\n",
       "      <td>7.000000</td>\n",
       "      <td>127644.240000</td>\n",
       "      <td>2.000000</td>\n",
       "      <td>1.00000</td>\n",
       "      <td>1.000000</td>\n",
       "      <td>149388.247500</td>\n",
       "      <td>0.000000</td>\n",
       "    </tr>\n",
       "    <tr>\n",
       "      <th>max</th>\n",
       "      <td>10000.00000</td>\n",
       "      <td>1.581569e+07</td>\n",
       "      <td>850.000000</td>\n",
       "      <td>92.000000</td>\n",
       "      <td>10.000000</td>\n",
       "      <td>250898.090000</td>\n",
       "      <td>4.000000</td>\n",
       "      <td>1.00000</td>\n",
       "      <td>1.000000</td>\n",
       "      <td>199992.480000</td>\n",
       "      <td>1.000000</td>\n",
       "    </tr>\n",
       "  </tbody>\n",
       "</table>\n",
       "</div>"
      ],
      "text/plain": [
       "         RowNumber    CustomerId   CreditScore           Age       Tenure  \\\n",
       "count  10000.00000  1.000000e+04  10000.000000  10000.000000  9091.000000   \n",
       "mean    5000.50000  1.569094e+07    650.528800     38.921800     4.997690   \n",
       "std     2886.89568  7.193619e+04     96.653299     10.487806     2.894723   \n",
       "min        1.00000  1.556570e+07    350.000000     18.000000     0.000000   \n",
       "25%     2500.75000  1.562853e+07    584.000000     32.000000     2.000000   \n",
       "50%     5000.50000  1.569074e+07    652.000000     37.000000     5.000000   \n",
       "75%     7500.25000  1.575323e+07    718.000000     44.000000     7.000000   \n",
       "max    10000.00000  1.581569e+07    850.000000     92.000000    10.000000   \n",
       "\n",
       "             Balance  NumOfProducts    HasCrCard  IsActiveMember  \\\n",
       "count   10000.000000   10000.000000  10000.00000    10000.000000   \n",
       "mean    76485.889288       1.530200      0.70550        0.515100   \n",
       "std     62397.405202       0.581654      0.45584        0.499797   \n",
       "min         0.000000       1.000000      0.00000        0.000000   \n",
       "25%         0.000000       1.000000      0.00000        0.000000   \n",
       "50%     97198.540000       1.000000      1.00000        1.000000   \n",
       "75%    127644.240000       2.000000      1.00000        1.000000   \n",
       "max    250898.090000       4.000000      1.00000        1.000000   \n",
       "\n",
       "       EstimatedSalary        Exited  \n",
       "count     10000.000000  10000.000000  \n",
       "mean     100090.239881      0.203700  \n",
       "std       57510.492818      0.402769  \n",
       "min          11.580000      0.000000  \n",
       "25%       51002.110000      0.000000  \n",
       "50%      100193.915000      0.000000  \n",
       "75%      149388.247500      0.000000  \n",
       "max      199992.480000      1.000000  "
      ]
     },
     "execution_count": 3,
     "metadata": {},
     "output_type": "execute_result"
    }
   ],
   "source": [
    "#Посмотрим общую информацию по датафрейму\n",
    "data.describe()"
   ]
  },
  {
   "cell_type": "markdown",
   "metadata": {},
   "source": [
    "**Промежуточный вывод**"
   ]
  },
  {
   "cell_type": "markdown",
   "metadata": {},
   "source": [
    "* В столбце **Tenure** есть пропуски. Их можно заполнить медианными значениями.\n",
    "* Можно удалить столбец **RowNumber**. Он лишний.\n",
    "* Также можно удалить столбец **Surname**. Он вряд ли влияет на вероятность ухода клиента из банка.\n",
    "* Столбец **CustomerId** также лишний, удалим и его."
   ]
  },
  {
   "cell_type": "code",
   "execution_count": 4,
   "metadata": {},
   "outputs": [],
   "source": [
    "#Удалим столбцы RowNumber, Surname и CustomerId\n",
    "data = data.drop(['RowNumber', 'CustomerId', 'Surname'], axis=1)"
   ]
  },
  {
   "cell_type": "code",
   "execution_count": 5,
   "metadata": {},
   "outputs": [],
   "source": [
    "#Заменим пропуски в столбце Tenure медианными значениями\n",
    "data.loc[data['Tenure'].isna(), 'Tenure'] = data['Tenure'].median()"
   ]
  },
  {
   "cell_type": "code",
   "execution_count": 6,
   "metadata": {},
   "outputs": [
    {
     "data": {
      "text/plain": [
       "CreditScore        0\n",
       "Geography          0\n",
       "Gender             0\n",
       "Age                0\n",
       "Tenure             0\n",
       "Balance            0\n",
       "NumOfProducts      0\n",
       "HasCrCard          0\n",
       "IsActiveMember     0\n",
       "EstimatedSalary    0\n",
       "Exited             0\n",
       "dtype: int64"
      ]
     },
     "execution_count": 6,
     "metadata": {},
     "output_type": "execute_result"
    }
   ],
   "source": [
    "#Проверим количество пропусков в датафрейме\n",
    "data.isna().sum()"
   ]
  },
  {
   "cell_type": "code",
   "execution_count": 7,
   "metadata": {},
   "outputs": [
    {
     "data": {
      "text/plain": [
       "0"
      ]
     },
     "execution_count": 7,
     "metadata": {},
     "output_type": "execute_result"
    }
   ],
   "source": [
    "#Проверим датафрейм на наличие дубликатов\n",
    "data.duplicated().sum()"
   ]
  },
  {
   "cell_type": "code",
   "execution_count": 8,
   "metadata": {},
   "outputs": [
    {
     "data": {
      "text/html": [
       "<div>\n",
       "<style scoped>\n",
       "    .dataframe tbody tr th:only-of-type {\n",
       "        vertical-align: middle;\n",
       "    }\n",
       "\n",
       "    .dataframe tbody tr th {\n",
       "        vertical-align: top;\n",
       "    }\n",
       "\n",
       "    .dataframe thead th {\n",
       "        text-align: right;\n",
       "    }\n",
       "</style>\n",
       "<table border=\"1\" class=\"dataframe\">\n",
       "  <thead>\n",
       "    <tr style=\"text-align: right;\">\n",
       "      <th></th>\n",
       "      <th>CreditScore</th>\n",
       "      <th>Age</th>\n",
       "      <th>Tenure</th>\n",
       "      <th>Balance</th>\n",
       "      <th>NumOfProducts</th>\n",
       "      <th>EstimatedSalary</th>\n",
       "    </tr>\n",
       "  </thead>\n",
       "  <tbody>\n",
       "    <tr>\n",
       "      <th>CreditScore</th>\n",
       "      <td>1.000000</td>\n",
       "      <td>-0.003965</td>\n",
       "      <td>-0.000060</td>\n",
       "      <td>0.006268</td>\n",
       "      <td>0.012238</td>\n",
       "      <td>-0.001384</td>\n",
       "    </tr>\n",
       "    <tr>\n",
       "      <th>Age</th>\n",
       "      <td>-0.003965</td>\n",
       "      <td>1.000000</td>\n",
       "      <td>-0.012606</td>\n",
       "      <td>0.028308</td>\n",
       "      <td>-0.030680</td>\n",
       "      <td>-0.007201</td>\n",
       "    </tr>\n",
       "    <tr>\n",
       "      <th>Tenure</th>\n",
       "      <td>-0.000060</td>\n",
       "      <td>-0.012606</td>\n",
       "      <td>1.000000</td>\n",
       "      <td>-0.007535</td>\n",
       "      <td>0.011409</td>\n",
       "      <td>0.010049</td>\n",
       "    </tr>\n",
       "    <tr>\n",
       "      <th>Balance</th>\n",
       "      <td>0.006268</td>\n",
       "      <td>0.028308</td>\n",
       "      <td>-0.007535</td>\n",
       "      <td>1.000000</td>\n",
       "      <td>-0.304180</td>\n",
       "      <td>0.012797</td>\n",
       "    </tr>\n",
       "    <tr>\n",
       "      <th>NumOfProducts</th>\n",
       "      <td>0.012238</td>\n",
       "      <td>-0.030680</td>\n",
       "      <td>0.011409</td>\n",
       "      <td>-0.304180</td>\n",
       "      <td>1.000000</td>\n",
       "      <td>0.014204</td>\n",
       "    </tr>\n",
       "    <tr>\n",
       "      <th>EstimatedSalary</th>\n",
       "      <td>-0.001384</td>\n",
       "      <td>-0.007201</td>\n",
       "      <td>0.010049</td>\n",
       "      <td>0.012797</td>\n",
       "      <td>0.014204</td>\n",
       "      <td>1.000000</td>\n",
       "    </tr>\n",
       "  </tbody>\n",
       "</table>\n",
       "</div>"
      ],
      "text/plain": [
       "                 CreditScore       Age    Tenure   Balance  NumOfProducts  \\\n",
       "CreditScore         1.000000 -0.003965 -0.000060  0.006268       0.012238   \n",
       "Age                -0.003965  1.000000 -0.012606  0.028308      -0.030680   \n",
       "Tenure             -0.000060 -0.012606  1.000000 -0.007535       0.011409   \n",
       "Balance             0.006268  0.028308 -0.007535  1.000000      -0.304180   \n",
       "NumOfProducts       0.012238 -0.030680  0.011409 -0.304180       1.000000   \n",
       "EstimatedSalary    -0.001384 -0.007201  0.010049  0.012797       0.014204   \n",
       "\n",
       "                 EstimatedSalary  \n",
       "CreditScore            -0.001384  \n",
       "Age                    -0.007201  \n",
       "Tenure                  0.010049  \n",
       "Balance                 0.012797  \n",
       "NumOfProducts           0.014204  \n",
       "EstimatedSalary         1.000000  "
      ]
     },
     "execution_count": 8,
     "metadata": {},
     "output_type": "execute_result"
    }
   ],
   "source": [
    "#Создадим список из столбцов с числовыми значениями и проверим корреляцию\n",
    "numbers = ['CreditScore','Age', 'Tenure', 'Balance','NumOfProducts','EstimatedSalary']\n",
    "data.loc[:,numbers].corr()"
   ]
  },
  {
   "cell_type": "markdown",
   "metadata": {},
   "source": [
    "Самая большая корреляция **0.3** есть между столбцами **Age** и **NumOfProducts**, а также между **Balance** и **NumOfProducts**. Она не особо велика, поэтому столбцы можно не трогать."
   ]
  },
  {
   "cell_type": "markdown",
   "metadata": {},
   "source": [
    "**Вывод:**  \n",
    "* Данные загружены и проверены. \n",
    "* Дубликатов нет.\n",
    "* Признаки RowNumber, CustomerId и Surname удалены, так как целевой признак от них не зависит.\n",
    "* Пропуски в признаке Tenure были заполнены медианными значениями.\n",
    "* Проверена корреляция признаков, существенной не обнаружено, поэтому столбцы оставили как есть.  \n",
    "Данные готовы к дальнейшей работе."
   ]
  },
  {
   "cell_type": "markdown",
   "metadata": {},
   "source": [
    "## Исследование задачи"
   ]
  },
  {
   "cell_type": "code",
   "execution_count": 9,
   "metadata": {},
   "outputs": [],
   "source": [
    "#Разделим данные на целевой признак и признаки\n",
    "features = data.drop('Exited', axis=1)\n",
    "target = data['Exited']"
   ]
  },
  {
   "cell_type": "code",
   "execution_count": 11,
   "metadata": {},
   "outputs": [],
   "source": [
    "#Разделим данные на валидационную, обучающую и тестовую выборки\n",
    "features, features_test, target, target_test = train_test_split(features, target, test_size=0.2, random_state=12345)\n",
    "features_train, features_valid, target_train, target_valid = train_test_split(features, target, test_size=0.25, random_state=12345)"
   ]
  },
  {
   "cell_type": "code",
   "execution_count": 12,
   "metadata": {},
   "outputs": [
    {
     "name": "stdout",
     "output_type": "stream",
     "text": [
      "Размеры выборок:\n",
      "\n",
      "features_train:  (6000, 10)\n",
      "\n",
      "features_valid:  (2000, 10)\n",
      "\n",
      "features_test:   (2000, 10)\n"
     ]
    }
   ],
   "source": [
    "#Выведем размеры получившихся выборок\n",
    "print('Размеры выборок:')\n",
    "print('features_train:', features_train.shape)\n",
    "print('features_valid:', features_valid.shape)\n",
    "print('features_test:', features_test.shape)"
   ]
  },
  {
   "cell_type": "code",
   "execution_count": 13,
   "metadata": {},
   "outputs": [
    {
     "name": "stdout",
     "output_type": "stream",
     "text": [
      "(6000, 11)\n"
     ]
    },
    {
     "data": {
      "text/html": [
       "<div>\n",
       "<style scoped>\n",
       "    .dataframe tbody tr th:only-of-type {\n",
       "        vertical-align: middle;\n",
       "    }\n",
       "\n",
       "    .dataframe tbody tr th {\n",
       "        vertical-align: top;\n",
       "    }\n",
       "\n",
       "    .dataframe thead th {\n",
       "        text-align: right;\n",
       "    }\n",
       "</style>\n",
       "<table border=\"1\" class=\"dataframe\">\n",
       "  <thead>\n",
       "    <tr style=\"text-align: right;\">\n",
       "      <th></th>\n",
       "      <th>CreditScore</th>\n",
       "      <th>Age</th>\n",
       "      <th>Tenure</th>\n",
       "      <th>Balance</th>\n",
       "      <th>NumOfProducts</th>\n",
       "      <th>HasCrCard</th>\n",
       "      <th>IsActiveMember</th>\n",
       "      <th>EstimatedSalary</th>\n",
       "      <th>Geography_Germany</th>\n",
       "      <th>Geography_Spain</th>\n",
       "      <th>Gender_Male</th>\n",
       "    </tr>\n",
       "  </thead>\n",
       "  <tbody>\n",
       "    <tr>\n",
       "      <th>492</th>\n",
       "      <td>639</td>\n",
       "      <td>38</td>\n",
       "      <td>4.0</td>\n",
       "      <td>81550.94</td>\n",
       "      <td>2</td>\n",
       "      <td>0</td>\n",
       "      <td>1</td>\n",
       "      <td>118974.77</td>\n",
       "      <td>0</td>\n",
       "      <td>0</td>\n",
       "      <td>0</td>\n",
       "    </tr>\n",
       "  </tbody>\n",
       "</table>\n",
       "</div>"
      ],
      "text/plain": [
       "     CreditScore  Age  Tenure   Balance  NumOfProducts  HasCrCard  \\\n",
       "492          639   38     4.0  81550.94              2          0   \n",
       "\n",
       "     IsActiveMember  EstimatedSalary  Geography_Germany  Geography_Spain  \\\n",
       "492               1        118974.77                  0                0   \n",
       "\n",
       "     Gender_Male  \n",
       "492            0  "
      ]
     },
     "execution_count": 13,
     "metadata": {},
     "output_type": "execute_result"
    }
   ],
   "source": [
    "#Разобьём признаки на категориальные и количественные\n",
    "cat_features = ['Geography', 'Gender']\n",
    "num_features_train = features_train.columns.drop(cat_features).to_list()\n",
    "     \n",
    "#Для категориальных признаков применим OHE и проверим результат\n",
    "features_train = pd.get_dummies(features_train, columns=cat_features, drop_first=True)\n",
    "print(features_train.shape)\n",
    "features_train.head(1)"
   ]
  },
  {
   "cell_type": "code",
   "execution_count": 14,
   "metadata": {},
   "outputs": [
    {
     "name": "stdout",
     "output_type": "stream",
     "text": [
      "(2000, 11)\n"
     ]
    },
    {
     "data": {
      "text/html": [
       "<div>\n",
       "<style scoped>\n",
       "    .dataframe tbody tr th:only-of-type {\n",
       "        vertical-align: middle;\n",
       "    }\n",
       "\n",
       "    .dataframe tbody tr th {\n",
       "        vertical-align: top;\n",
       "    }\n",
       "\n",
       "    .dataframe thead th {\n",
       "        text-align: right;\n",
       "    }\n",
       "</style>\n",
       "<table border=\"1\" class=\"dataframe\">\n",
       "  <thead>\n",
       "    <tr style=\"text-align: right;\">\n",
       "      <th></th>\n",
       "      <th>CreditScore</th>\n",
       "      <th>Age</th>\n",
       "      <th>Tenure</th>\n",
       "      <th>Balance</th>\n",
       "      <th>NumOfProducts</th>\n",
       "      <th>HasCrCard</th>\n",
       "      <th>IsActiveMember</th>\n",
       "      <th>EstimatedSalary</th>\n",
       "      <th>Geography_Germany</th>\n",
       "      <th>Geography_Spain</th>\n",
       "      <th>Gender_Male</th>\n",
       "    </tr>\n",
       "  </thead>\n",
       "  <tbody>\n",
       "    <tr>\n",
       "      <th>2358</th>\n",
       "      <td>669</td>\n",
       "      <td>43</td>\n",
       "      <td>1.0</td>\n",
       "      <td>163159.85</td>\n",
       "      <td>1</td>\n",
       "      <td>0</td>\n",
       "      <td>1</td>\n",
       "      <td>15602.8</td>\n",
       "      <td>0</td>\n",
       "      <td>0</td>\n",
       "      <td>1</td>\n",
       "    </tr>\n",
       "  </tbody>\n",
       "</table>\n",
       "</div>"
      ],
      "text/plain": [
       "      CreditScore  Age  Tenure    Balance  NumOfProducts  HasCrCard  \\\n",
       "2358          669   43     1.0  163159.85              1          0   \n",
       "\n",
       "      IsActiveMember  EstimatedSalary  Geography_Germany  Geography_Spain  \\\n",
       "2358               1          15602.8                  0                0   \n",
       "\n",
       "      Gender_Male  \n",
       "2358            1  "
      ]
     },
     "execution_count": 14,
     "metadata": {},
     "output_type": "execute_result"
    }
   ],
   "source": [
    "#Разобьём признаки на категориальные и количественные\n",
    "cat_features = ['Geography', 'Gender']\n",
    "num_features_valid = features_valid.columns.drop(cat_features).to_list()\n",
    "     \n",
    "#Для категориальных признаков применим OHE и проверим результат\n",
    "features_valid = pd.get_dummies(features_valid, columns=cat_features, drop_first=True)\n",
    "print(features_valid.shape)\n",
    "features_valid.head(1)"
   ]
  },
  {
   "cell_type": "code",
   "execution_count": 15,
   "metadata": {},
   "outputs": [
    {
     "name": "stdout",
     "output_type": "stream",
     "text": [
      "(2000, 11)\n"
     ]
    },
    {
     "data": {
      "text/html": [
       "<div>\n",
       "<style scoped>\n",
       "    .dataframe tbody tr th:only-of-type {\n",
       "        vertical-align: middle;\n",
       "    }\n",
       "\n",
       "    .dataframe tbody tr th {\n",
       "        vertical-align: top;\n",
       "    }\n",
       "\n",
       "    .dataframe thead th {\n",
       "        text-align: right;\n",
       "    }\n",
       "</style>\n",
       "<table border=\"1\" class=\"dataframe\">\n",
       "  <thead>\n",
       "    <tr style=\"text-align: right;\">\n",
       "      <th></th>\n",
       "      <th>CreditScore</th>\n",
       "      <th>Age</th>\n",
       "      <th>Tenure</th>\n",
       "      <th>Balance</th>\n",
       "      <th>NumOfProducts</th>\n",
       "      <th>HasCrCard</th>\n",
       "      <th>IsActiveMember</th>\n",
       "      <th>EstimatedSalary</th>\n",
       "      <th>Geography_Germany</th>\n",
       "      <th>Geography_Spain</th>\n",
       "      <th>Gender_Male</th>\n",
       "    </tr>\n",
       "  </thead>\n",
       "  <tbody>\n",
       "    <tr>\n",
       "      <th>7867</th>\n",
       "      <td>640</td>\n",
       "      <td>46</td>\n",
       "      <td>3.0</td>\n",
       "      <td>0.0</td>\n",
       "      <td>1</td>\n",
       "      <td>1</td>\n",
       "      <td>1</td>\n",
       "      <td>156260.08</td>\n",
       "      <td>0</td>\n",
       "      <td>1</td>\n",
       "      <td>0</td>\n",
       "    </tr>\n",
       "  </tbody>\n",
       "</table>\n",
       "</div>"
      ],
      "text/plain": [
       "      CreditScore  Age  Tenure  Balance  NumOfProducts  HasCrCard  \\\n",
       "7867          640   46     3.0      0.0              1          1   \n",
       "\n",
       "      IsActiveMember  EstimatedSalary  Geography_Germany  Geography_Spain  \\\n",
       "7867               1        156260.08                  0                1   \n",
       "\n",
       "      Gender_Male  \n",
       "7867            0  "
      ]
     },
     "execution_count": 15,
     "metadata": {},
     "output_type": "execute_result"
    }
   ],
   "source": [
    "#Разобьём признаки на категориальные и количественные\n",
    "cat_features = ['Geography', 'Gender']\n",
    "num_features_test = features_test.columns.drop(cat_features).to_list()\n",
    "     \n",
    "#Для категориальных признаков применим OHE и проверим результат\n",
    "features_test = pd.get_dummies(features_test, columns=cat_features, drop_first=True)\n",
    "print(features_test.shape)\n",
    "features_test.head(1)"
   ]
  },
  {
   "cell_type": "code",
   "execution_count": 16,
   "metadata": {},
   "outputs": [
    {
     "data": {
      "text/plain": [
       "<matplotlib.legend.Legend at 0x7f587b4ada30>"
      ]
     },
     "execution_count": 16,
     "metadata": {},
     "output_type": "execute_result"
    },
    {
     "data": {
      "image/png": "[encoded data removed]",
      "text/plain": [
       "<Figure size 432x288 with 2 Axes>"
      ]
     },
     "metadata": {
      "needs_background": "light"
     },
     "output_type": "display_data"
    }
   ],
   "source": [
    "#Проверим дисбаланс целевого класса\n",
    "f, (ax1, ax2) = plt.subplots(1, 2)\n",
    "target_train.value_counts().plot(kind='bar', ax=ax1, label='train')\n",
    "target_test.value_counts().plot(kind='bar', ax=ax2, label='test')\n",
    "plt.legend()"
   ]
  },
  {
   "cell_type": "markdown",
   "metadata": {},
   "source": [
    "Дисбаланс классов присутствует. Класс **0** почти в 4 раза превышает класс **1**."
   ]
  },
  {
   "cell_type": "markdown",
   "metadata": {},
   "source": [
    "### Решающее дерево"
   ]
  },
  {
   "cell_type": "markdown",
   "metadata": {},
   "source": [
    "Построим модель решающего дерева с помощью собственной функции  \n",
    "Гиперпараметры для модели:  \n",
    "* **max_depth** - максимальная глубина древа  \n",
    "* **min_samples_split** - минимальное количество объектов в узле  \n",
    "* **min_samples_leaf** - минимальное количество объектов в листе  \n",
    "* **criterion** (*gini* или *entropy*) - функция измерения качества разделения  \n",
    "Критерием проверки качества модели будет **f1**.  "
   ]
  },
  {
   "cell_type": "code",
   "execution_count": 17,
   "metadata": {},
   "outputs": [
    {
     "name": "stdout",
     "output_type": "stream",
     "text": [
      "Лучшая метрика f1: 0.565\n",
      "\n",
      "    Парамтеры модели:\n",
      "\n",
      "       max_depth = 7\n",
      "\n",
      "       min_samples_split = 2\n",
      "\n",
      "       min_samples_leaf = 7\n",
      "\n",
      "       criterion = gini \n",
      "\n",
      "\n"
     ]
    }
   ],
   "source": [
    "#cw - параметр class_weight для модели решающего дерева\n",
    "\n",
    "def decision_tree(features_train, features_valid, target_train, target_valid, cw=None):\n",
    "    \n",
    "    best_parameters_f1 = []\n",
    "    best_f1 = 0\n",
    "    #best_parameters_roc_auc = []\n",
    "    #best_roc_auc = 0.5\n",
    "    \n",
    "    for max_depth in range(2,10):\n",
    "        for min_samples_split in range(2,6):\n",
    "            for min_samples_leaf in range(1,10):\n",
    "                for criterion in ['gini', 'entropy']:\n",
    "                    model_tree_cl = DecisionTreeClassifier(random_state=12345,\n",
    "                                                          max_depth=max_depth,\n",
    "                                                          min_samples_split=min_samples_split,\n",
    "                                                          min_samples_leaf=min_samples_leaf,\n",
    "                                                          criterion=criterion,\n",
    "                                                          class_weight=cw)\n",
    "                    \n",
    "                    model_tree_cl.fit(features_train, target_train)\n",
    "                    predictions = model_tree_cl.predict(features_valid)\n",
    "                    f1 = f1_score(target_valid, predictions)\n",
    "                    if f1 > best_f1:\n",
    "                        best_parameters_f1 = [max_depth, min_samples_split, min_samples_leaf, criterion]\n",
    "                        best_f1 = f1\n",
    "                    #roc_auc = roc_auc_score(target_valid, predictions)\n",
    "                    #if roc_auc > best_roc_auc:\n",
    "                        #best_parameters_roc_auc = [max_depth, min_samples_split, min_samples_leaf, criterion]\n",
    "                        #best_roc_auc = roc_auc\n",
    "    \n",
    "\n",
    "    print('''Лучшая метрика f1: {}\n",
    "    Парамтеры модели:\n",
    "       max_depth = {}\n",
    "       min_samples_split = {}\n",
    "       min_samples_leaf = {}\n",
    "       criterion = {} \\n'''.format(round(best_f1, 3),\n",
    "                                 best_parameters_f1[0],\n",
    "                                 best_parameters_f1[1],\n",
    "                                 best_parameters_f1[2],\n",
    "                                 best_parameters_f1[3]\n",
    "                                ))\n",
    "    \n",
    "    #print('''Лучшая метрика roc_auc: {}\n",
    "    #Парамтеры модели:\n",
    "       #max_depth = {}\n",
    "       #min_samples_split = {}\n",
    "       #min_samples_leaf = {}\n",
    "       #criterion = {} '''.format(round(best_roc_auc, 3),\n",
    "                                 #best_parameters_roc_auc[0],\n",
    "                                 #best_parameters_roc_auc[1],\n",
    "                                 #best_parameters_roc_auc[2],\n",
    "                                 #best_parameters_roc_auc[3]\n",
    "                                #))\n",
    "\n",
    "decision_tree(features_train, features_valid, target_train, target_valid)\n"
   ]
  },
  {
   "cell_type": "markdown",
   "metadata": {},
   "source": [
    "Лучшая метрика f1 для решающего дерева составляет 0.56, что недостаточно для нашей цели. Рассмотрим другие модели."
   ]
  },
  {
   "cell_type": "markdown",
   "metadata": {},
   "source": [
    "### Случайный лес"
   ]
  },
  {
   "cell_type": "markdown",
   "metadata": {},
   "source": [
    "Построим модель случайного леса с помощью собственной функции.\n",
    "Гиперпараметры для модели:\n",
    "* **n_estimators** - количество деревьев\n",
    "* **max_depth** - максимальная глубина древа\n",
    "* **min_samples_split** - минимальное количество объектов в узле\n",
    "* **min_samples_leaf** - минимальное количество объектов в листе  \n",
    "Критерием проверки качества модели будет **f1**."
   ]
  },
  {
   "cell_type": "code",
   "execution_count": 18,
   "metadata": {},
   "outputs": [
    {
     "name": "stdout",
     "output_type": "stream",
     "text": [
      "Лучшая метрика f1: 0.587\n",
      "\n",
      "    Парамтеры модели:\n",
      "\n",
      "       n_estimators = 36\n",
      "\n",
      "       max_depth = 16\n",
      "\n",
      "       min_samples_split = 3\n",
      "\n",
      "       min_samples_leaf = 1 \n",
      "\n",
      "\n"
     ]
    }
   ],
   "source": [
    "#Код выполняется несколько минут\n",
    "def random_forest(features_train, features_valid, target_train, target_valid, cw=None):\n",
    "    \n",
    "    best_parametres_f1 = []\n",
    "    best_f1 = 0\n",
    "    #best_parametres_roc_auc = []\n",
    "    #best_roc_auc = 0.5\n",
    "\n",
    "    for n_estimators in range(30,40):\n",
    "        for max_depth in range(10,17,2):\n",
    "            for min_samples_split in range(2,5):\n",
    "                for min_samples_leaf in range(1,4):\n",
    "                    \n",
    "                    model_forest_cl = RandomForestClassifier(random_state=12345,\n",
    "                                                          n_estimators=n_estimators,\n",
    "                                                          max_depth=max_depth,\n",
    "                                                          min_samples_split=min_samples_split,\n",
    "                                                          min_samples_leaf=min_samples_leaf)\n",
    "                    \n",
    "                    model_forest_cl.fit(features_train, target_train)\n",
    "                    predictions = model_forest_cl.predict(features_valid)\n",
    "\n",
    "                    f1 = f1_score(target_valid, predictions)\n",
    "                    if f1 > best_f1:\n",
    "                        best_parametres_f1 = [n_estimators, max_depth, min_samples_split, min_samples_leaf]\n",
    "                        best_f1 = f1\n",
    "\n",
    "                    #roc_auc = roc_auc_score(target_valid, predictions)\n",
    "                    #if roc_auc > best_roc_auc:\n",
    "                        #best_parametres_roc_auc = [n_estimators, max_depth, min_samples_split, min_samples_leaf]\n",
    "                        #best_roc_auc = roc_auc\n",
    "\n",
    "    print('''Лучшая метрика f1: {}\n",
    "    Парамтеры модели:\n",
    "       n_estimators = {}\n",
    "       max_depth = {}\n",
    "       min_samples_split = {}\n",
    "       min_samples_leaf = {} \\n'''.format(round(best_f1, 3),\n",
    "                                 best_parametres_f1[0],\n",
    "                                 best_parametres_f1[1],\n",
    "                                 best_parametres_f1[2],\n",
    "                                 best_parametres_f1[3]\n",
    "                                ))\n",
    "\n",
    "    #print('''Лучшая метрика roc_auc: {}\n",
    "    #Парамтеры модели:\n",
    "       #n_estimators = {}\n",
    "       #max_depth = {}\n",
    "       #min_samples_split = {}\n",
    "       #min_samples_leaf = {} '''.format(round(best_roc_auc, 3),\n",
    "                                 #best_parametres_roc_auc[0],\n",
    "                                 #best_parametres_roc_auc[1],\n",
    "                                 #best_parametres_roc_auc[2],\n",
    "                                 #best_parametres_roc_auc[3]\n",
    "                                #))\n",
    "\n",
    "\n",
    "random_forest(features_train, features_valid, target_train, target_valid)\n"
   ]
  },
  {
   "cell_type": "markdown",
   "metadata": {},
   "source": [
    "Лучшая метрика f1 для случайного леса составляет 0.587, что также недостаточно для нашей цели. Посмотрим ещё на логистическую регрессию."
   ]
  },
  {
   "cell_type": "markdown",
   "metadata": {},
   "source": [
    "### Логистическая регрессия"
   ]
  },
  {
   "cell_type": "markdown",
   "metadata": {},
   "source": [
    "Построим модель логистической регрессии.\n",
    "Гиперпараметры для модели:\n",
    "* **С** - инверсия силы регуляризации  \n",
    "Критерием проверки качества модели будет **f1**."
   ]
  },
  {
   "cell_type": "code",
   "execution_count": 19,
   "metadata": {},
   "outputs": [],
   "source": [
    "#Импортируем StandardScaler из библиотеки\n",
    "from sklearn.preprocessing import StandardScaler"
   ]
  },
  {
   "cell_type": "code",
   "execution_count": 20,
   "metadata": {},
   "outputs": [],
   "source": [
    "#Произведём масштабирование признаков\n",
    "scaler = StandardScaler()\n",
    "scaler.fit(features_train)\n",
    "features_train_scaled = scaler.transform(features_train)\n",
    "features_valid_scaled = scaler.transform(features_valid) "
   ]
  },
  {
   "cell_type": "code",
   "execution_count": 21,
   "metadata": {},
   "outputs": [
    {
     "name": "stdout",
     "output_type": "stream",
     "text": [
      "Лучшая метрика f1: 0.305\n",
      "\n",
      "Парамтеры модели:\n",
      "\n",
      "   C = 2 \n"
     ]
    }
   ],
   "source": [
    "#Код выполняется несколько минут\n",
    "best_parametres_f1 = []\n",
    "best_f1 = 0\n",
    "#best_parametres_roc_auc = []\n",
    "#best_roc_auc = 0.5\n",
    "\n",
    "cs = range(1, 100)\n",
    "for C in cs:\n",
    "    model_log_cl = LogisticRegression(random_state=12345,\n",
    "                                      C=C,\n",
    "                                      max_iter=1000)\n",
    "\n",
    "    model_log_cl.fit(features_train_scaled, target_train)\n",
    "    predictions = model_log_cl.predict(features_valid_scaled)\n",
    "\n",
    "    f1 = f1_score(target_valid, predictions)\n",
    "    if f1 > best_f1:\n",
    "        best_parametres_f1 = [C]\n",
    "        best_f1 = f1\n",
    "\n",
    "    #roc_auc = roc_auc_score(target_valid, predictions)\n",
    "    #if roc_auc > best_roc_auc:\n",
    "        #best_parametres_roc_auc = [C]\n",
    "        #best_roc_auc = roc_auc\n",
    "\n",
    "print('''Лучшая метрика f1: {}\n",
    "Парамтеры модели:\n",
    "   C = {} '''.format(round(best_f1, 3),\n",
    "                             best_parametres_f1[0]\n",
    "                            ))\n",
    "\n",
    "#print('''Лучшая метрика roc_auc: {}\n",
    "#Парамтеры модели:\n",
    "   #C = {} '''.format(round(best_roc_auc, 3),\n",
    "                             #best_parametres_roc_auc[0]\n",
    "                            #))"
   ]
  },
  {
   "cell_type": "markdown",
   "metadata": {},
   "source": [
    "Лучшая метрика f1 для логистической регрессии составляет 0.305, что хуже, чем у остальных моделей."
   ]
  },
  {
   "cell_type": "markdown",
   "metadata": {},
   "source": [
    "**Вывод:**  \n",
    "* Данные разделены на валидационную, обучающую и тестовую выборки.\n",
    "* Лучшее значение f1-метрики получено у модели случайного леса и составляет 0.587."
   ]
  },
  {
   "cell_type": "markdown",
   "metadata": {},
   "source": [
    "## Борьба с дисбалансом"
   ]
  },
  {
   "cell_type": "code",
   "execution_count": 22,
   "metadata": {},
   "outputs": [
    {
     "name": "stdout",
     "output_type": "stream",
     "text": [
      "Лучшая метрика f1: 0.57\n",
      "\n",
      "    Парамтеры модели:\n",
      "\n",
      "       max_depth = 7\n",
      "\n",
      "       min_samples_split = 2\n",
      "\n",
      "       min_samples_leaf = 6\n",
      "\n",
      "       criterion = entropy \n",
      "\n",
      "\n"
     ]
    }
   ],
   "source": [
    "#Попробуем использовать взвешивание классов на модели решающего дерева\n",
    "decision_tree(features_train, features_valid, target_train, target_valid, cw='balanced')"
   ]
  },
  {
   "cell_type": "markdown",
   "metadata": {},
   "source": [
    "Взвешивание классов не намного увеличило значения метрики. Попробуем использовать *upsampling* и *downsampling*."
   ]
  },
  {
   "cell_type": "code",
   "execution_count": 23,
   "metadata": {},
   "outputs": [],
   "source": [
    "#Напишем собственную функцию для увеличения выборки\n",
    "def upsample_tr(features_train, target, repeat):\n",
    "\n",
    "    features_zeros_tr = features_train[target == 0]\n",
    "    features_ones_tr = features_train[target == 1]\n",
    "    target_zeros_tr = target[target == 0]\n",
    "    target_ones_tr = target[target == 1]\n",
    "    \n",
    "    features_upsampled_tr = pd.concat([features_zeros_tr] + [features_ones_tr] * repeat)\n",
    "    target_upsampled_tr = pd.concat([target_zeros_tr] + [target_ones_tr] * repeat)\n",
    "    \n",
    "    features_upsampled_tr, target_upsampled_tr = shuffle(\n",
    "        features_upsampled_tr, target_upsampled_tr, random_state=12345)\n",
    "    return features_upsampled_tr, target_upsampled_tr\n",
    "\n",
    "def upsample_v(features_valid, target, repeat):\n",
    "\n",
    "    features_zeros_v = features_valid[target == 0]\n",
    "    features_ones_v = features_valid[target == 1]\n",
    "    target_zeros_v = target[target == 0]\n",
    "    target_ones_v = target[target == 1]\n",
    "    \n",
    "    features_upsampled_v = pd.concat([features_zeros_v] + [features_ones_v] * repeat)\n",
    "    target_upsampled_v = pd.concat([target_zeros_v] + [target_ones_v] * repeat)\n",
    "    \n",
    "    features_upsampled_v, target_upsampled_v = shuffle(\n",
    "        features_upsampled_v, target_upsampled_v, random_state=12345)\n",
    "    return features_upsampled_v, target_upsampled_v\n",
    "\n",
    "def upsample_test(features_test, target, repeat):\n",
    "\n",
    "    features_zeros_test = features_test[target == 0]\n",
    "    features_ones_test = features_test[target == 1]\n",
    "    target_zeros_test = target[target == 0]\n",
    "    target_ones_test = target[target == 1]\n",
    "    \n",
    "    features_upsampled_test = pd.concat([features_zeros_test] + [features_ones_test] * repeat)\n",
    "    target_upsampled_test = pd.concat([target_zeros_test] + [target_ones_test] * repeat)\n",
    "    \n",
    "    features_upsampled_test, target_upsampled_test = shuffle(\n",
    "        features_upsampled_test, target_upsampled_test, random_state=12345)\n",
    "    return features_upsampled_test, target_upsampled_test\n"
   ]
  },
  {
   "cell_type": "code",
   "execution_count": 24,
   "metadata": {},
   "outputs": [],
   "source": [
    "#Напишем собственную функцию для уменьшения выборки\n",
    "def downsample_tr(features_train, target, fraction):\n",
    "\n",
    "    features_zeros_tr = features_train[target == 0]\n",
    "    features_ones_tr = features_train[target == 1]\n",
    "    target_zeros_tr = target[target == 0]\n",
    "    target_ones_tr = target[target == 1]\n",
    "    \n",
    "    features_downsampled_tr = pd.concat(\n",
    "        [features_zeros_tr.sample(frac=fraction, random_state=12345)] + [features_ones_tr])\n",
    "    target_downsampled_tr = pd.concat(\n",
    "        [target_zeros_tr.sample(frac=fraction, random_state=12345)] + [target_ones_tr])\n",
    "    \n",
    "    features_downsampled_tr, target_downsampled_tr = shuffle(\n",
    "        features_downsampled_tr, target_downsampled_tr, random_state=12345)\n",
    "    return features_downsampled_tr, target_downsampled_tr\n",
    "\n",
    "def downsample_v(features_valid, target, fraction):\n",
    "\n",
    "    features_zeros_v = features_valid[target == 0]\n",
    "    features_ones_v = features_valid[target == 1]\n",
    "    target_zeros_v = target[target == 0]\n",
    "    target_ones_v = target[target == 1]\n",
    "    \n",
    "    features_downsampled_v = pd.concat(\n",
    "        [features_zeros_v.sample(frac=fraction, random_state=12345)] + [features_ones_v])\n",
    "    target_downsampled_v = pd.concat(\n",
    "        [target_zeros_v.sample(frac=fraction, random_state=12345)] + [target_ones_v])\n",
    "    \n",
    "    features_downsampled_v, target_downsampled_v = shuffle(\n",
    "        features_downsampled_v, target_downsampled_v, random_state=12345)\n",
    "    return features_downsampled_v, target_downsampled_v\n",
    "\n",
    "def downsample_test(features_test, target, fraction):\n",
    "\n",
    "    features_zeros_test = features_test[target == 0]\n",
    "    features_ones_test = features_test[target == 1]\n",
    "    target_zeros_test = target[target == 0]\n",
    "    target_ones_test = target[target == 1]\n",
    "    \n",
    "    features_downsampled_test = pd.concat(\n",
    "        [features_zeros_test.sample(frac=fraction, random_state=12345)] + [features_ones_test])\n",
    "    target_downsampled_test = pd.concat(\n",
    "        [target_zeros_test.sample(frac=fraction, random_state=12345)] + [target_ones_test])\n",
    "    \n",
    "    features_downsampled_test, target_downsampled_test = shuffle(\n",
    "        features_downsampled_test, target_downsampled_test, random_state=12345)\n",
    "    return features_downsampled_test, target_downsampled_test"
   ]
  },
  {
   "cell_type": "code",
   "execution_count": 25,
   "metadata": {},
   "outputs": [],
   "source": [
    "#Увеличим количество объектов класса \"1\" в 2 раза, уменьшим количество объектов класса \"0\" в 1.5 раза\n",
    "features_train_upsampled, target_train_upsampled = upsample_tr(features_train, target_train, 2)\n",
    "features_train_balanced, target_train_balanced = downsample_tr(features_train_upsampled, target_train_upsampled, 0.75)\n"
   ]
  },
  {
   "cell_type": "code",
   "execution_count": 26,
   "metadata": {},
   "outputs": [
    {
     "name": "stdout",
     "output_type": "stream",
     "text": [
      "Лучшая метрика f1: 0.616\n",
      "\n",
      "    Парамтеры модели:\n",
      "\n",
      "       n_estimators = 37\n",
      "\n",
      "       max_depth = 16\n",
      "\n",
      "       min_samples_split = 4\n",
      "\n",
      "       min_samples_leaf = 1 \n",
      "\n",
      "\n"
     ]
    }
   ],
   "source": [
    "#Обучим модель случайного леса на сбалансированной обучающей выборке\n",
    "random_forest(features_train_balanced, features_valid, target_train_balanced, target_valid)"
   ]
  },
  {
   "cell_type": "markdown",
   "metadata": {},
   "source": [
    "Метрика **f1** достигла показателя в 0.616, что удовлетворяет нашей цели. "
   ]
  },
  {
   "cell_type": "code",
   "execution_count": 27,
   "metadata": {},
   "outputs": [
    {
     "name": "stdout",
     "output_type": "stream",
     "text": [
      "Лучшая метрика f1: 0.592\n",
      "\n",
      "    Парамтеры модели:\n",
      "\n",
      "       max_depth = 8\n",
      "\n",
      "       min_samples_split = 2\n",
      "\n",
      "       min_samples_leaf = 7\n",
      "\n",
      "       criterion = entropy \n",
      "\n",
      "\n"
     ]
    }
   ],
   "source": [
    "#Обучим модель решающего дерева на сбалансированной обучающей выборке\n",
    "decision_tree(features_train_balanced, features_valid, target_train_balanced, target_valid)"
   ]
  },
  {
   "cell_type": "markdown",
   "metadata": {},
   "source": [
    "Показатель метрики **f1** у решающего дерева тоже достиг нужной отметки. Но для финального теста мы возьмём случайный лес, у него значение выше."
   ]
  },
  {
   "cell_type": "code",
   "execution_count": 28,
   "metadata": {},
   "outputs": [
    {
     "name": "stdout",
     "output_type": "stream",
     "text": [
      "Лучшая метрика roc_auc: 0.851\n",
      "\n",
      "    Парамтеры модели:\n",
      "\n",
      "       n_estimators = 38\n",
      "\n",
      "       max_depth = 12\n",
      "\n",
      "       min_samples_split = 2\n",
      "\n",
      "       min_samples_leaf = 3 \n"
     ]
    }
   ],
   "source": [
    "#Проверим метрику auc-roc у модели случайного леса\n",
    "def random_forest_auc(features_train, features_valid, target_train, target_valid, cw=None):\n",
    "    \n",
    "    best_parametres_roc_auc = []\n",
    "    best_roc_auc = 0.5\n",
    "\n",
    "    for n_estimators in range(30,40):\n",
    "        for max_depth in range(10,17,2):\n",
    "            for min_samples_split in range(2,5):\n",
    "                for min_samples_leaf in range(1,4):\n",
    "                    \n",
    "                    model_forest_auc_cl = RandomForestClassifier(random_state=12345,\n",
    "                                                          n_estimators=n_estimators,\n",
    "                                                          max_depth=max_depth,\n",
    "                                                          min_samples_split=min_samples_split,\n",
    "                                                          min_samples_leaf=min_samples_leaf)\n",
    "                    \n",
    "                    model_forest_auc_cl.fit(features_train, target_train)\n",
    "                    probabilities_valid = model_forest_auc_cl.predict_proba(features_valid)\n",
    "                    probabilities_one_valid = probabilities_valid[:, 1]\n",
    "\n",
    "                    roc_auc = roc_auc_score(target_valid, probabilities_one_valid)\n",
    "                    if roc_auc > best_roc_auc:\n",
    "                        best_parametres_roc_auc = [n_estimators, max_depth, min_samples_split, min_samples_leaf]\n",
    "                        best_roc_auc = roc_auc\n",
    "\n",
    "    print('''Лучшая метрика roc_auc: {}\n",
    "    Парамтеры модели:\n",
    "       n_estimators = {}\n",
    "       max_depth = {}\n",
    "       min_samples_split = {}\n",
    "       min_samples_leaf = {} '''.format(round(best_roc_auc, 3),\n",
    "                                 best_parametres_roc_auc[0],\n",
    "                                 best_parametres_roc_auc[1],\n",
    "                                 best_parametres_roc_auc[2],\n",
    "                                 best_parametres_roc_auc[3]\n",
    "                                ))\n",
    "\n",
    "\n",
    "random_forest_auc(features_train, features_valid, target_train, target_valid)"
   ]
  },
  {
   "cell_type": "markdown",
   "metadata": {},
   "source": [
    "**Вывод:**  \n",
    "* Взвешивание классов незначительно увеличило метрику f1.\n",
    "* Upsampling и downsampling увеличили точность моделей до нужного уровня.\n",
    "* Необходимое качество на валидационной выборке получили модели:\n",
    "  \n",
    "**Случайный лес:**  \n",
    "f1 = 0.616   \n",
    "**Решающее дерево:**  \n",
    "f1 = 0.592   \n",
    "* Лучший показатель roc_auc у случайного леса составил 0.851"
   ]
  },
  {
   "cell_type": "markdown",
   "metadata": {},
   "source": [
    "## Тестирование модели"
   ]
  },
  {
   "cell_type": "code",
   "execution_count": 29,
   "metadata": {},
   "outputs": [
    {
     "name": "stdout",
     "output_type": "stream",
     "text": [
      " f1 = 0.64, \n",
      "\n",
      " roc_auc = 0.86\n"
     ]
    }
   ],
   "source": [
    "#Протестируем модель\n",
    "features_upsampled, target_upsampled = upsample_test(features_test, target_test, 2)\n",
    "features_balanced, target_balanced = downsample_test(features_upsampled, target_upsampled, 0.75)\n",
    "model_forest_final = RandomForestClassifier(random_state=12345,\n",
    "                                         n_estimators=37,\n",
    "                                         max_depth=10,\n",
    "                                         min_samples_split=4,\n",
    "                                         min_samples_leaf=1)\n",
    "model_forest_final.fit(features_train_balanced, target_train_balanced)\n",
    "predictions = model_forest_final.predict(features_test)\n",
    "probabilities_test = model_forest_final.predict_proba(features_test)\n",
    "probabilities_one_test = probabilities_test[:, 1]\n",
    "f1 = f1_score(target_test, predictions)\n",
    "roc_auc = roc_auc_score(target_test, probabilities_one_test)\n",
    "print(' f1 = {}, \\n roc_auc = {}'.format(round(f1,2), round(roc_auc,2)))"
   ]
  },
  {
   "cell_type": "markdown",
   "metadata": {},
   "source": [
    "Достигнуто необходимое значение метрики **f1**."
   ]
  },
  {
   "cell_type": "markdown",
   "metadata": {},
   "source": [
    "# Вывод"
   ]
  },
  {
   "cell_type": "markdown",
   "metadata": {},
   "source": [
    "* Проведена предобработка данных: удалены не влияющие на целевой признак столбцы, заполнены пропуски там, где они были, данные были проверены на дубликаты.\n",
    "* Проведено исследование на выбор лучшей модели без учёта дисбаланса. Лучшей стала модель \"Случайный лес\"\n",
    "* Проведено устранение дисбаланса.\n",
    "* После устранения дисбаланса было проведено повторное исследование на выбор лучшей модели, которой также стал \"Случайный лес\" (f1 = 0.616).\n",
    "* Модель \"Решающее дерево\" также достигло высоких показателей, необходимых для достижения нашей цели (f1 = 0.592) за меньшее время.\n",
    "* Финальный тест модели случайного показал значения f1 = 0.64 и roc_auc = 0.86"
   ]
  },
  {
   "cell_type": "code",
   "execution_count": null,
   "metadata": {},
   "outputs": [],
   "source": []
  }
 ],
 "metadata": {
  "ExecuteTimeLog": [
   {
    "duration": 1722,
    "start_time": "2022-11-30T15:31:53.041Z"
   },
   {
    "duration": 175,
    "start_time": "2022-11-30T15:31:54.766Z"
   },
   {
    "duration": 70,
    "start_time": "2022-11-30T15:32:16.293Z"
   },
   {
    "duration": 39,
    "start_time": "2022-11-30T15:34:27.078Z"
   },
   {
    "duration": 93,
    "start_time": "2022-11-30T16:13:11.369Z"
   },
   {
    "duration": 4,
    "start_time": "2022-11-30T16:16:12.694Z"
   },
   {
    "duration": 60,
    "start_time": "2022-11-30T16:18:01.079Z"
   },
   {
    "duration": 42,
    "start_time": "2022-11-30T16:19:01.245Z"
   },
   {
    "duration": 4,
    "start_time": "2022-11-30T17:06:40.621Z"
   },
   {
    "duration": 7,
    "start_time": "2022-11-30T17:09:40.604Z"
   },
   {
    "duration": 8,
    "start_time": "2022-11-30T17:10:27.149Z"
   },
   {
    "duration": 11,
    "start_time": "2022-11-30T17:13:49.474Z"
   },
   {
    "duration": 9,
    "start_time": "2022-11-30T17:13:57.096Z"
   },
   {
    "duration": 11,
    "start_time": "2022-12-05T13:17:04.679Z"
   },
   {
    "duration": 42,
    "start_time": "2022-12-05T13:17:51.076Z"
   },
   {
    "duration": 1507,
    "start_time": "2022-12-05T13:17:57.275Z"
   },
   {
    "duration": 201,
    "start_time": "2022-12-05T13:17:59.234Z"
   },
   {
    "duration": 39,
    "start_time": "2022-12-05T13:18:02.185Z"
   },
   {
    "duration": 4,
    "start_time": "2022-12-05T13:18:05.084Z"
   },
   {
    "duration": 5,
    "start_time": "2022-12-05T13:18:06.364Z"
   },
   {
    "duration": 7,
    "start_time": "2022-12-05T13:18:07.103Z"
   },
   {
    "duration": 11,
    "start_time": "2022-12-05T13:18:08.930Z"
   },
   {
    "duration": 79,
    "start_time": "2022-12-05T13:18:09.716Z"
   },
   {
    "duration": 14,
    "start_time": "2022-12-05T13:18:18.970Z"
   },
   {
    "duration": 5,
    "start_time": "2022-12-05T13:50:54.894Z"
   },
   {
    "duration": 16,
    "start_time": "2022-12-05T13:56:13.306Z"
   },
   {
    "duration": 17,
    "start_time": "2022-12-05T14:27:10.356Z"
   },
   {
    "duration": 20,
    "start_time": "2022-12-05T14:27:34.302Z"
   },
   {
    "duration": 237,
    "start_time": "2022-12-05T14:29:15.351Z"
   },
   {
    "duration": 186,
    "start_time": "2022-12-05T14:33:32.819Z"
   },
   {
    "duration": 8,
    "start_time": "2022-12-05T14:33:36.137Z"
   },
   {
    "duration": 284,
    "start_time": "2022-12-05T14:33:37.266Z"
   },
   {
    "duration": 8,
    "start_time": "2022-12-05T14:43:53.389Z"
   },
   {
    "duration": 4,
    "start_time": "2022-12-05T14:44:09.165Z"
   },
   {
    "duration": 216,
    "start_time": "2022-12-05T14:44:33.121Z"
   },
   {
    "duration": 18,
    "start_time": "2022-12-05T15:48:29.591Z"
   },
   {
    "duration": 4,
    "start_time": "2022-12-05T15:49:02.477Z"
   },
   {
    "duration": 42,
    "start_time": "2022-12-05T15:49:07.953Z"
   },
   {
    "duration": 8,
    "start_time": "2022-12-05T15:50:52.449Z"
   },
   {
    "duration": 6,
    "start_time": "2022-12-05T15:51:00.694Z"
   },
   {
    "duration": 23,
    "start_time": "2022-12-05T15:52:22.204Z"
   },
   {
    "duration": 30,
    "start_time": "2022-12-05T15:53:45.402Z"
   },
   {
    "duration": 24,
    "start_time": "2022-12-05T15:55:27.901Z"
   },
   {
    "duration": 25,
    "start_time": "2022-12-05T15:55:31.966Z"
   },
   {
    "duration": 25,
    "start_time": "2022-12-05T15:58:51.345Z"
   },
   {
    "duration": 31,
    "start_time": "2022-12-05T15:58:57.308Z"
   },
   {
    "duration": 27,
    "start_time": "2022-12-05T16:01:56.861Z"
   },
   {
    "duration": 8,
    "start_time": "2022-12-05T16:12:52.088Z"
   },
   {
    "duration": 4,
    "start_time": "2022-12-05T16:14:27.452Z"
   },
   {
    "duration": 15,
    "start_time": "2022-12-05T16:14:29.596Z"
   },
   {
    "duration": 17,
    "start_time": "2022-12-05T16:14:39.738Z"
   },
   {
    "duration": 8,
    "start_time": "2022-12-05T16:16:53.999Z"
   },
   {
    "duration": 4,
    "start_time": "2022-12-05T16:16:55.338Z"
   },
   {
    "duration": 175,
    "start_time": "2022-12-05T16:16:57.742Z"
   },
   {
    "duration": 24,
    "start_time": "2022-12-05T16:17:34.535Z"
   },
   {
    "duration": 7,
    "start_time": "2022-12-05T16:18:13.975Z"
   },
   {
    "duration": 3,
    "start_time": "2022-12-05T16:18:15.672Z"
   },
   {
    "duration": 181,
    "start_time": "2022-12-05T16:18:17.295Z"
   },
   {
    "duration": 26,
    "start_time": "2022-12-05T16:18:25.373Z"
   },
   {
    "duration": 24,
    "start_time": "2022-12-05T16:26:43.596Z"
   },
   {
    "duration": 81,
    "start_time": "2022-12-05T16:26:57.216Z"
   },
   {
    "duration": 0,
    "start_time": "2022-12-05T16:26:57.299Z"
   },
   {
    "duration": 0,
    "start_time": "2022-12-05T16:26:57.300Z"
   },
   {
    "duration": 0,
    "start_time": "2022-12-05T16:26:57.301Z"
   },
   {
    "duration": 0,
    "start_time": "2022-12-05T16:26:57.302Z"
   },
   {
    "duration": 0,
    "start_time": "2022-12-05T16:26:57.303Z"
   },
   {
    "duration": 0,
    "start_time": "2022-12-05T16:26:57.304Z"
   },
   {
    "duration": 0,
    "start_time": "2022-12-05T16:26:57.305Z"
   },
   {
    "duration": 0,
    "start_time": "2022-12-05T16:26:57.307Z"
   },
   {
    "duration": 0,
    "start_time": "2022-12-05T16:26:57.308Z"
   },
   {
    "duration": 0,
    "start_time": "2022-12-05T16:26:57.309Z"
   },
   {
    "duration": 0,
    "start_time": "2022-12-05T16:26:57.310Z"
   },
   {
    "duration": 0,
    "start_time": "2022-12-05T16:26:57.311Z"
   },
   {
    "duration": 0,
    "start_time": "2022-12-05T16:26:57.312Z"
   },
   {
    "duration": 0,
    "start_time": "2022-12-05T16:26:57.314Z"
   },
   {
    "duration": 1335,
    "start_time": "2022-12-05T16:27:25.154Z"
   },
   {
    "duration": 125,
    "start_time": "2022-12-05T16:27:26.491Z"
   },
   {
    "duration": 38,
    "start_time": "2022-12-05T16:27:26.618Z"
   },
   {
    "duration": 3,
    "start_time": "2022-12-05T16:27:26.658Z"
   },
   {
    "duration": 8,
    "start_time": "2022-12-05T16:27:26.662Z"
   },
   {
    "duration": 8,
    "start_time": "2022-12-05T16:27:26.671Z"
   },
   {
    "duration": 9,
    "start_time": "2022-12-05T16:27:26.680Z"
   },
   {
    "duration": 34,
    "start_time": "2022-12-05T16:27:26.690Z"
   },
   {
    "duration": 4,
    "start_time": "2022-12-05T16:27:26.725Z"
   },
   {
    "duration": 17,
    "start_time": "2022-12-05T16:27:26.731Z"
   },
   {
    "duration": 7,
    "start_time": "2022-12-05T16:27:26.750Z"
   },
   {
    "duration": 4,
    "start_time": "2022-12-05T16:27:26.759Z"
   },
   {
    "duration": 239,
    "start_time": "2022-12-05T16:27:26.765Z"
   },
   {
    "duration": 10015,
    "start_time": "2022-12-05T16:27:27.006Z"
   },
   {
    "duration": 10419,
    "start_time": "2022-12-05T16:27:50.246Z"
   },
   {
    "duration": 10006,
    "start_time": "2022-12-05T16:28:17.245Z"
   },
   {
    "duration": 75177,
    "start_time": "2022-12-05T16:40:44.705Z"
   },
   {
    "duration": 95832,
    "start_time": "2022-12-05T16:42:52.202Z"
   },
   {
    "duration": 647,
    "start_time": "2022-12-05T16:57:35.945Z"
   },
   {
    "duration": 347,
    "start_time": "2022-12-05T16:58:00.977Z"
   },
   {
    "duration": 95466,
    "start_time": "2022-12-05T16:58:19.147Z"
   },
   {
    "duration": 4,
    "start_time": "2022-12-05T17:23:09.960Z"
   },
   {
    "duration": 4,
    "start_time": "2022-12-05T17:23:40.534Z"
   },
   {
    "duration": 10734,
    "start_time": "2022-12-05T17:26:26.539Z"
   },
   {
    "duration": 9,
    "start_time": "2022-12-05T17:32:30.825Z"
   },
   {
    "duration": 11,
    "start_time": "2022-12-05T17:32:40.742Z"
   },
   {
    "duration": 10,
    "start_time": "2022-12-05T17:33:24.215Z"
   },
   {
    "duration": 4,
    "start_time": "2022-12-05T17:33:33.364Z"
   },
   {
    "duration": 9,
    "start_time": "2022-12-05T17:33:35.203Z"
   },
   {
    "duration": 1462,
    "start_time": "2022-12-05T17:34:09.585Z"
   },
   {
    "duration": 60,
    "start_time": "2022-12-05T17:34:11.049Z"
   },
   {
    "duration": 38,
    "start_time": "2022-12-05T17:34:11.111Z"
   },
   {
    "duration": 4,
    "start_time": "2022-12-05T17:34:11.150Z"
   },
   {
    "duration": 8,
    "start_time": "2022-12-05T17:34:11.157Z"
   },
   {
    "duration": 7,
    "start_time": "2022-12-05T17:34:11.167Z"
   },
   {
    "duration": 13,
    "start_time": "2022-12-05T17:34:11.176Z"
   },
   {
    "duration": 31,
    "start_time": "2022-12-05T17:34:11.190Z"
   },
   {
    "duration": 4,
    "start_time": "2022-12-05T17:34:11.222Z"
   },
   {
    "duration": 19,
    "start_time": "2022-12-05T17:34:11.228Z"
   },
   {
    "duration": 8,
    "start_time": "2022-12-05T17:34:11.248Z"
   },
   {
    "duration": 4,
    "start_time": "2022-12-05T17:34:11.258Z"
   },
   {
    "duration": 224,
    "start_time": "2022-12-05T17:34:11.263Z"
   },
   {
    "duration": 10076,
    "start_time": "2022-12-05T17:34:11.490Z"
   },
   {
    "duration": 95917,
    "start_time": "2022-12-05T17:34:21.567Z"
   },
   {
    "duration": 62833,
    "start_time": "2022-12-05T17:35:57.486Z"
   },
   {
    "duration": 10914,
    "start_time": "2022-12-05T17:37:00.321Z"
   },
   {
    "duration": 5,
    "start_time": "2022-12-05T17:37:11.236Z"
   },
   {
    "duration": 107,
    "start_time": "2022-12-05T17:37:11.242Z"
   },
   {
    "duration": 0,
    "start_time": "2022-12-05T17:37:11.350Z"
   },
   {
    "duration": 0,
    "start_time": "2022-12-05T17:37:11.352Z"
   },
   {
    "duration": 9,
    "start_time": "2022-12-05T17:39:43.980Z"
   },
   {
    "duration": 10,
    "start_time": "2022-12-05T17:41:15.129Z"
   },
   {
    "duration": 107,
    "start_time": "2022-12-05T17:42:46.750Z"
   },
   {
    "duration": 160,
    "start_time": "2022-12-05T17:42:52.764Z"
   },
   {
    "duration": 101,
    "start_time": "2022-12-05T17:43:23.237Z"
   },
   {
    "duration": 112,
    "start_time": "2022-12-05T17:43:27.358Z"
   },
   {
    "duration": 4,
    "start_time": "2022-12-05T17:46:11.615Z"
   },
   {
    "duration": 100,
    "start_time": "2022-12-05T17:46:12.950Z"
   },
   {
    "duration": 99357,
    "start_time": "2022-12-05T17:51:10.831Z"
   },
   {
    "duration": 16,
    "start_time": "2022-12-05T17:55:39.135Z"
   },
   {
    "duration": 4,
    "start_time": "2022-12-05T17:55:54.793Z"
   },
   {
    "duration": 15,
    "start_time": "2022-12-05T17:55:57.648Z"
   },
   {
    "duration": 10,
    "start_time": "2022-12-05T17:56:47.371Z"
   },
   {
    "duration": 100593,
    "start_time": "2022-12-05T17:57:05.949Z"
   },
   {
    "duration": 9916,
    "start_time": "2022-12-05T17:59:06.730Z"
   },
   {
    "duration": 78204,
    "start_time": "2022-12-05T18:00:29.325Z"
   },
   {
    "duration": 78297,
    "start_time": "2022-12-05T18:02:11.104Z"
   },
   {
    "duration": 4,
    "start_time": "2022-12-05T18:05:48.730Z"
   },
   {
    "duration": 79162,
    "start_time": "2022-12-05T18:05:57.178Z"
   },
   {
    "duration": 203,
    "start_time": "2022-12-05T18:10:34.695Z"
   },
   {
    "duration": 78494,
    "start_time": "2022-12-05T18:11:01.751Z"
   },
   {
    "duration": 77852,
    "start_time": "2022-12-05T18:12:58.796Z"
   },
   {
    "duration": 262,
    "start_time": "2022-12-05T18:32:17.534Z"
   },
   {
    "duration": 2372,
    "start_time": "2022-12-06T02:24:44.982Z"
   },
   {
    "duration": 116,
    "start_time": "2022-12-06T02:24:47.356Z"
   },
   {
    "duration": 39,
    "start_time": "2022-12-06T02:24:47.473Z"
   },
   {
    "duration": 4,
    "start_time": "2022-12-06T02:24:47.514Z"
   },
   {
    "duration": 22,
    "start_time": "2022-12-06T02:24:47.519Z"
   },
   {
    "duration": 9,
    "start_time": "2022-12-06T02:24:47.543Z"
   },
   {
    "duration": 19,
    "start_time": "2022-12-06T02:24:47.553Z"
   },
   {
    "duration": 12,
    "start_time": "2022-12-06T02:24:47.573Z"
   },
   {
    "duration": 4,
    "start_time": "2022-12-06T02:24:49.180Z"
   },
   {
    "duration": 24,
    "start_time": "2022-12-06T02:24:50.003Z"
   },
   {
    "duration": 4,
    "start_time": "2022-12-06T02:24:50.654Z"
   },
   {
    "duration": 1686,
    "start_time": "2022-12-06T14:25:18.550Z"
   },
   {
    "duration": 456,
    "start_time": "2022-12-06T14:25:20.619Z"
   },
   {
    "duration": 53,
    "start_time": "2022-12-06T14:25:23.785Z"
   },
   {
    "duration": 5,
    "start_time": "2022-12-06T14:25:26.723Z"
   },
   {
    "duration": 5,
    "start_time": "2022-12-06T14:25:28.845Z"
   },
   {
    "duration": 7,
    "start_time": "2022-12-06T14:25:31.330Z"
   },
   {
    "duration": 10,
    "start_time": "2022-12-06T14:25:33.346Z"
   },
   {
    "duration": 13,
    "start_time": "2022-12-06T14:25:35.237Z"
   },
   {
    "duration": 5,
    "start_time": "2022-12-06T14:25:38.666Z"
   },
   {
    "duration": 2,
    "start_time": "2022-12-06T14:25:40.893Z"
   },
   {
    "duration": 7,
    "start_time": "2022-12-06T14:25:53.313Z"
   },
   {
    "duration": 10,
    "start_time": "2022-12-06T14:25:54.981Z"
   },
   {
    "duration": 18,
    "start_time": "2022-12-06T14:26:00.603Z"
   },
   {
    "duration": 230,
    "start_time": "2022-12-06T14:33:54.002Z"
   },
   {
    "duration": 125,
    "start_time": "2022-12-06T14:33:57.871Z"
   },
   {
    "duration": 7,
    "start_time": "2022-12-06T14:35:08.667Z"
   },
   {
    "duration": 4,
    "start_time": "2022-12-06T14:35:09.361Z"
   },
   {
    "duration": 16,
    "start_time": "2022-12-06T14:35:14.756Z"
   },
   {
    "duration": 188,
    "start_time": "2022-12-06T14:35:19.865Z"
   },
   {
    "duration": 90,
    "start_time": "2022-12-06T14:35:23.716Z"
   },
   {
    "duration": 4,
    "start_time": "2022-12-06T14:35:35.834Z"
   },
   {
    "duration": 1372,
    "start_time": "2022-12-06T14:35:56.156Z"
   },
   {
    "duration": 59,
    "start_time": "2022-12-06T14:35:57.530Z"
   },
   {
    "duration": 39,
    "start_time": "2022-12-06T14:35:57.591Z"
   },
   {
    "duration": 4,
    "start_time": "2022-12-06T14:35:57.632Z"
   },
   {
    "duration": 8,
    "start_time": "2022-12-06T14:35:57.637Z"
   },
   {
    "duration": 12,
    "start_time": "2022-12-06T14:35:57.646Z"
   },
   {
    "duration": 27,
    "start_time": "2022-12-06T14:35:57.660Z"
   },
   {
    "duration": 20,
    "start_time": "2022-12-06T14:35:57.688Z"
   },
   {
    "duration": 12,
    "start_time": "2022-12-06T14:35:57.711Z"
   },
   {
    "duration": 7,
    "start_time": "2022-12-06T14:35:57.726Z"
   },
   {
    "duration": 12,
    "start_time": "2022-12-06T14:35:57.735Z"
   },
   {
    "duration": 4,
    "start_time": "2022-12-06T14:35:57.748Z"
   },
   {
    "duration": 26,
    "start_time": "2022-12-06T14:35:57.753Z"
   },
   {
    "duration": 198,
    "start_time": "2022-12-06T14:35:57.781Z"
   },
   {
    "duration": 133,
    "start_time": "2022-12-06T14:35:57.981Z"
   },
   {
    "duration": 0,
    "start_time": "2022-12-06T14:35:58.116Z"
   },
   {
    "duration": 0,
    "start_time": "2022-12-06T14:35:58.117Z"
   },
   {
    "duration": 0,
    "start_time": "2022-12-06T14:35:58.118Z"
   },
   {
    "duration": 0,
    "start_time": "2022-12-06T14:35:58.119Z"
   },
   {
    "duration": 0,
    "start_time": "2022-12-06T14:35:58.120Z"
   },
   {
    "duration": 0,
    "start_time": "2022-12-06T14:35:58.121Z"
   },
   {
    "duration": 0,
    "start_time": "2022-12-06T14:35:58.122Z"
   },
   {
    "duration": 0,
    "start_time": "2022-12-06T14:35:58.124Z"
   },
   {
    "duration": 0,
    "start_time": "2022-12-06T14:35:58.126Z"
   },
   {
    "duration": 26,
    "start_time": "2022-12-06T14:39:25.893Z"
   },
   {
    "duration": 19,
    "start_time": "2022-12-06T14:42:43.572Z"
   },
   {
    "duration": 17,
    "start_time": "2022-12-06T14:43:19.502Z"
   },
   {
    "duration": 16,
    "start_time": "2022-12-06T14:43:57.936Z"
   },
   {
    "duration": 24,
    "start_time": "2022-12-06T14:43:59.565Z"
   },
   {
    "duration": 18,
    "start_time": "2022-12-06T14:44:00.998Z"
   },
   {
    "duration": 17,
    "start_time": "2022-12-06T14:45:07.956Z"
   },
   {
    "duration": 17,
    "start_time": "2022-12-06T14:45:09.139Z"
   },
   {
    "duration": 16,
    "start_time": "2022-12-06T14:45:10.300Z"
   },
   {
    "duration": 179,
    "start_time": "2022-12-06T14:45:24.379Z"
   },
   {
    "duration": 27,
    "start_time": "2022-12-06T14:45:29.587Z"
   },
   {
    "duration": 16,
    "start_time": "2022-12-06T14:46:35.705Z"
   },
   {
    "duration": 16,
    "start_time": "2022-12-06T14:46:56.361Z"
   },
   {
    "duration": 15,
    "start_time": "2022-12-06T14:47:21.669Z"
   },
   {
    "duration": 179,
    "start_time": "2022-12-06T14:47:25.051Z"
   },
   {
    "duration": 9528,
    "start_time": "2022-12-06T14:47:28.591Z"
   },
   {
    "duration": 75094,
    "start_time": "2022-12-06T14:50:29.846Z"
   },
   {
    "duration": 3,
    "start_time": "2022-12-06T15:05:24.683Z"
   },
   {
    "duration": 9,
    "start_time": "2022-12-06T15:11:02.814Z"
   },
   {
    "duration": 14659,
    "start_time": "2022-12-06T15:11:04.222Z"
   },
   {
    "duration": 10082,
    "start_time": "2022-12-06T15:22:00.409Z"
   },
   {
    "duration": 4,
    "start_time": "2022-12-06T15:22:34.982Z"
   },
   {
    "duration": 4,
    "start_time": "2022-12-06T15:22:36.066Z"
   },
   {
    "duration": 16,
    "start_time": "2022-12-06T15:22:37.881Z"
   },
   {
    "duration": 75516,
    "start_time": "2022-12-06T15:22:39.242Z"
   },
   {
    "duration": 9342,
    "start_time": "2022-12-06T15:26:35.719Z"
   },
   {
    "duration": 75658,
    "start_time": "2022-12-06T15:35:53.114Z"
   },
   {
    "duration": 164,
    "start_time": "2022-12-06T15:43:26.133Z"
   },
   {
    "duration": 184,
    "start_time": "2022-12-06T15:43:41.860Z"
   },
   {
    "duration": 190,
    "start_time": "2022-12-06T15:44:06.039Z"
   },
   {
    "duration": 76950,
    "start_time": "2022-12-06T15:44:31.634Z"
   },
   {
    "duration": 23,
    "start_time": "2022-12-06T15:47:07.049Z"
   },
   {
    "duration": 28,
    "start_time": "2022-12-06T15:48:53.998Z"
   },
   {
    "duration": 21,
    "start_time": "2022-12-06T15:49:05.838Z"
   },
   {
    "duration": 20,
    "start_time": "2022-12-06T15:49:41.575Z"
   },
   {
    "duration": 21,
    "start_time": "2022-12-06T15:53:47.205Z"
   },
   {
    "duration": 23,
    "start_time": "2022-12-06T15:53:54.750Z"
   },
   {
    "duration": 19,
    "start_time": "2022-12-06T15:54:30.882Z"
   },
   {
    "duration": 5,
    "start_time": "2022-12-06T15:55:48.925Z"
   },
   {
    "duration": 4,
    "start_time": "2022-12-06T15:55:49.634Z"
   },
   {
    "duration": 4,
    "start_time": "2022-12-06T15:56:36.248Z"
   },
   {
    "duration": 4,
    "start_time": "2022-12-06T15:56:38.671Z"
   },
   {
    "duration": 4,
    "start_time": "2022-12-06T15:58:46.168Z"
   },
   {
    "duration": 4,
    "start_time": "2022-12-06T15:58:47.255Z"
   },
   {
    "duration": 7,
    "start_time": "2022-12-06T16:04:00.259Z"
   },
   {
    "duration": 8,
    "start_time": "2022-12-06T16:07:39.966Z"
   },
   {
    "duration": 16,
    "start_time": "2022-12-06T16:10:28.105Z"
   },
   {
    "duration": 78945,
    "start_time": "2022-12-06T16:10:29.387Z"
   },
   {
    "duration": 17,
    "start_time": "2022-12-06T16:14:55.199Z"
   },
   {
    "duration": 17,
    "start_time": "2022-12-06T16:15:20.407Z"
   },
   {
    "duration": 152,
    "start_time": "2022-12-06T16:18:21.364Z"
   },
   {
    "duration": 119,
    "start_time": "2022-12-06T16:25:34.389Z"
   },
   {
    "duration": 162,
    "start_time": "2022-12-06T16:26:15.014Z"
   },
   {
    "duration": 146,
    "start_time": "2022-12-06T16:26:30.216Z"
   },
   {
    "duration": 46,
    "start_time": "2022-12-08T06:35:02.190Z"
   },
   {
    "duration": 1532,
    "start_time": "2022-12-08T06:35:34.176Z"
   },
   {
    "duration": 114,
    "start_time": "2022-12-08T06:35:35.710Z"
   },
   {
    "duration": 36,
    "start_time": "2022-12-08T06:35:35.826Z"
   },
   {
    "duration": 4,
    "start_time": "2022-12-08T06:35:35.864Z"
   },
   {
    "duration": 19,
    "start_time": "2022-12-08T06:35:35.869Z"
   },
   {
    "duration": 11,
    "start_time": "2022-12-08T06:35:35.890Z"
   },
   {
    "duration": 12,
    "start_time": "2022-12-08T06:35:35.903Z"
   },
   {
    "duration": 12,
    "start_time": "2022-12-08T06:35:35.917Z"
   },
   {
    "duration": 9,
    "start_time": "2022-12-08T06:35:35.931Z"
   },
   {
    "duration": 8,
    "start_time": "2022-12-08T06:35:35.942Z"
   },
   {
    "duration": 14,
    "start_time": "2022-12-08T06:35:35.951Z"
   },
   {
    "duration": 8,
    "start_time": "2022-12-08T06:35:35.967Z"
   },
   {
    "duration": 28,
    "start_time": "2022-12-08T06:35:35.977Z"
   },
   {
    "duration": 13,
    "start_time": "2022-12-08T06:35:36.007Z"
   },
   {
    "duration": 14,
    "start_time": "2022-12-08T06:35:36.022Z"
   },
   {
    "duration": 215,
    "start_time": "2022-12-08T06:35:36.037Z"
   },
   {
    "duration": 9236,
    "start_time": "2022-12-08T06:35:36.253Z"
   },
   {
    "duration": 73292,
    "start_time": "2022-12-08T06:35:45.497Z"
   },
   {
    "duration": 7,
    "start_time": "2022-12-08T06:36:58.790Z"
   },
   {
    "duration": 26,
    "start_time": "2022-12-08T06:36:58.799Z"
   },
   {
    "duration": 13976,
    "start_time": "2022-12-08T06:36:58.827Z"
   },
   {
    "duration": 10271,
    "start_time": "2022-12-08T06:37:12.805Z"
   },
   {
    "duration": 6,
    "start_time": "2022-12-08T06:37:23.078Z"
   },
   {
    "duration": 19,
    "start_time": "2022-12-08T06:37:23.097Z"
   },
   {
    "duration": 22,
    "start_time": "2022-12-08T06:37:23.118Z"
   },
   {
    "duration": 74889,
    "start_time": "2022-12-08T06:37:23.142Z"
   },
   {
    "duration": 9023,
    "start_time": "2022-12-08T06:38:38.034Z"
   },
   {
    "duration": 74924,
    "start_time": "2022-12-08T06:38:47.059Z"
   },
   {
    "duration": 258,
    "start_time": "2022-12-08T06:40:01.985Z"
   }
  ],
  "kernelspec": {
   "display_name": "Python 3 (ipykernel)",
   "language": "python",
   "name": "python3"
  },
  "language_info": {
   "codemirror_mode": {
    "name": "ipython",
    "version": 3
   },
   "file_extension": ".py",
   "mimetype": "text/x-python",
   "name": "python",
   "nbconvert_exporter": "python",
   "pygments_lexer": "ipython3",
   "version": "3.10.9"
  },
  "toc": {
   "base_numbering": 1,
   "nav_menu": {},
   "number_sections": true,
   "sideBar": true,
   "skip_h1_title": true,
   "title_cell": "Содержание",
   "title_sidebar": "Contents",
   "toc_cell": true,
   "toc_position": {},
   "toc_section_display": true,
   "toc_window_display": true
  }
 },
 "nbformat": 4,
 "nbformat_minor": 4
}
