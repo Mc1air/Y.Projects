{
 "cells": [
  {
   "cell_type": "markdown",
   "metadata": {},
   "source": [
    "# Исследование объявлений о продаже квартир\n",
    "\n",
    "В нашем распоряжении архив объявлений о продаже квартир в Санкт-Петербурге и соседних населённых пунктов за несколько лет. Нужно научиться определять рыночную стоимость объектов недвижимости.\n",
    "\n",
    "По каждой квартире на продажу доступны два вида данных. Первые вписаны пользователем, вторые — получены автоматически на основе картографических данных. Например, расстояние до центра, аэропорта, ближайшего парка и водоёма. "
   ]
  },
  {
   "cell_type": "markdown",
   "metadata": {},
   "source": [
    "**Цель исследования:**\n",
    "* Найти параметры, по которым определяется цена недвижимости, чтобы система смогла следить за аномалиями и определять мошенническую деятельность\n",
    "* Поиск особенностей и зависимостей, котрые есть на рынке недвижимости"
   ]
  },
  {
   "cell_type": "markdown",
   "metadata": {},
   "source": [
    "**Ход исследования:**\n",
    "* Изучение общей информации датасета\n",
    "* Поиск и замена пропущенных значений, изменение типа данных, поиск и обработка аномалий\n",
    "* Добавление новых столбцов с данными для более полного анализа\n",
    "* Изучение параметров объектов недвижимости, исследование скорости продажи объектов, иучение зависимости цены от различных параметров объектов\n",
    "* Определение самой высокой и самой низкой стоимости квадратного метра\n",
    "* Определение зависимости цены объекта от удалённости от центра"
   ]
  },
  {
   "cell_type": "markdown",
   "metadata": {},
   "source": [
    "### Изучение общей информации"
   ]
  },
  {
   "cell_type": "code",
   "execution_count": 1,
   "metadata": {},
   "outputs": [
    {
     "name": "stdout",
     "output_type": "stream",
     "text": [
      "<class 'pandas.core.frame.DataFrame'>\n",
      "RangeIndex: 23699 entries, 0 to 23698\n",
      "Data columns (total 22 columns):\n",
      " #   Column                Non-Null Count  Dtype  \n",
      "---  ------                --------------  -----  \n",
      " 0   total_images          23699 non-null  int64  \n",
      " 1   last_price            23699 non-null  float64\n",
      " 2   total_area            23699 non-null  float64\n",
      " 3   first_day_exposition  23699 non-null  object \n",
      " 4   rooms                 23699 non-null  int64  \n",
      " 5   ceiling_height        14504 non-null  float64\n",
      " 6   floors_total          23613 non-null  float64\n",
      " 7   living_area           21796 non-null  float64\n",
      " 8   floor                 23699 non-null  int64  \n",
      " 9   is_apartment          2775 non-null   object \n",
      " 10  studio                23699 non-null  bool   \n",
      " 11  open_plan             23699 non-null  bool   \n",
      " 12  kitchen_area          21421 non-null  float64\n",
      " 13  balcony               12180 non-null  float64\n",
      " 14  locality_name         23650 non-null  object \n",
      " 15  airports_nearest      18157 non-null  float64\n",
      " 16  cityCenters_nearest   18180 non-null  float64\n",
      " 17  parks_around3000      18181 non-null  float64\n",
      " 18  parks_nearest         8079 non-null   float64\n",
      " 19  ponds_around3000      18181 non-null  float64\n",
      " 20  ponds_nearest         9110 non-null   float64\n",
      " 21  days_exposition       20518 non-null  float64\n",
      "dtypes: bool(2), float64(14), int64(3), object(3)\n",
      "memory usage: 3.7+ MB\n"
     ]
    },
    {
     "data": {
      "text/html": [
       "<div>\n",
       "<style scoped>\n",
       "    .dataframe tbody tr th:only-of-type {\n",
       "        vertical-align: middle;\n",
       "    }\n",
       "\n",
       "    .dataframe tbody tr th {\n",
       "        vertical-align: top;\n",
       "    }\n",
       "\n",
       "    .dataframe thead th {\n",
       "        text-align: right;\n",
       "    }\n",
       "</style>\n",
       "<table border=\"1\" class=\"dataframe\">\n",
       "  <thead>\n",
       "    <tr style=\"text-align: right;\">\n",
       "      <th></th>\n",
       "      <th>total_images</th>\n",
       "      <th>last_price</th>\n",
       "      <th>total_area</th>\n",
       "      <th>rooms</th>\n",
       "      <th>ceiling_height</th>\n",
       "      <th>floors_total</th>\n",
       "      <th>living_area</th>\n",
       "      <th>floor</th>\n",
       "      <th>kitchen_area</th>\n",
       "      <th>balcony</th>\n",
       "      <th>airports_nearest</th>\n",
       "      <th>cityCenters_nearest</th>\n",
       "      <th>parks_around3000</th>\n",
       "      <th>parks_nearest</th>\n",
       "      <th>ponds_around3000</th>\n",
       "      <th>ponds_nearest</th>\n",
       "      <th>days_exposition</th>\n",
       "    </tr>\n",
       "  </thead>\n",
       "  <tbody>\n",
       "    <tr>\n",
       "      <th>count</th>\n",
       "      <td>23699.000000</td>\n",
       "      <td>2.369900e+04</td>\n",
       "      <td>23699.000000</td>\n",
       "      <td>23699.000000</td>\n",
       "      <td>14504.000000</td>\n",
       "      <td>23613.000000</td>\n",
       "      <td>21796.000000</td>\n",
       "      <td>23699.000000</td>\n",
       "      <td>21421.000000</td>\n",
       "      <td>12180.000000</td>\n",
       "      <td>18157.000000</td>\n",
       "      <td>18180.000000</td>\n",
       "      <td>18181.000000</td>\n",
       "      <td>8079.000000</td>\n",
       "      <td>18181.000000</td>\n",
       "      <td>9110.000000</td>\n",
       "      <td>20518.000000</td>\n",
       "    </tr>\n",
       "    <tr>\n",
       "      <th>mean</th>\n",
       "      <td>9.858475</td>\n",
       "      <td>6.541549e+06</td>\n",
       "      <td>60.348651</td>\n",
       "      <td>2.070636</td>\n",
       "      <td>2.771499</td>\n",
       "      <td>10.673824</td>\n",
       "      <td>34.457852</td>\n",
       "      <td>5.892358</td>\n",
       "      <td>10.569807</td>\n",
       "      <td>1.150082</td>\n",
       "      <td>28793.672193</td>\n",
       "      <td>14191.277833</td>\n",
       "      <td>0.611408</td>\n",
       "      <td>490.804555</td>\n",
       "      <td>0.770255</td>\n",
       "      <td>517.980900</td>\n",
       "      <td>180.888634</td>\n",
       "    </tr>\n",
       "    <tr>\n",
       "      <th>std</th>\n",
       "      <td>5.682529</td>\n",
       "      <td>1.088701e+07</td>\n",
       "      <td>35.654083</td>\n",
       "      <td>1.078405</td>\n",
       "      <td>1.261056</td>\n",
       "      <td>6.597173</td>\n",
       "      <td>22.030445</td>\n",
       "      <td>4.885249</td>\n",
       "      <td>5.905438</td>\n",
       "      <td>1.071300</td>\n",
       "      <td>12630.880622</td>\n",
       "      <td>8608.386210</td>\n",
       "      <td>0.802074</td>\n",
       "      <td>342.317995</td>\n",
       "      <td>0.938346</td>\n",
       "      <td>277.720643</td>\n",
       "      <td>219.727988</td>\n",
       "    </tr>\n",
       "    <tr>\n",
       "      <th>min</th>\n",
       "      <td>0.000000</td>\n",
       "      <td>1.219000e+04</td>\n",
       "      <td>12.000000</td>\n",
       "      <td>0.000000</td>\n",
       "      <td>1.000000</td>\n",
       "      <td>1.000000</td>\n",
       "      <td>2.000000</td>\n",
       "      <td>1.000000</td>\n",
       "      <td>1.300000</td>\n",
       "      <td>0.000000</td>\n",
       "      <td>0.000000</td>\n",
       "      <td>181.000000</td>\n",
       "      <td>0.000000</td>\n",
       "      <td>1.000000</td>\n",
       "      <td>0.000000</td>\n",
       "      <td>13.000000</td>\n",
       "      <td>1.000000</td>\n",
       "    </tr>\n",
       "    <tr>\n",
       "      <th>25%</th>\n",
       "      <td>6.000000</td>\n",
       "      <td>3.400000e+06</td>\n",
       "      <td>40.000000</td>\n",
       "      <td>1.000000</td>\n",
       "      <td>2.520000</td>\n",
       "      <td>5.000000</td>\n",
       "      <td>18.600000</td>\n",
       "      <td>2.000000</td>\n",
       "      <td>7.000000</td>\n",
       "      <td>0.000000</td>\n",
       "      <td>18585.000000</td>\n",
       "      <td>9238.000000</td>\n",
       "      <td>0.000000</td>\n",
       "      <td>288.000000</td>\n",
       "      <td>0.000000</td>\n",
       "      <td>294.000000</td>\n",
       "      <td>45.000000</td>\n",
       "    </tr>\n",
       "    <tr>\n",
       "      <th>50%</th>\n",
       "      <td>9.000000</td>\n",
       "      <td>4.650000e+06</td>\n",
       "      <td>52.000000</td>\n",
       "      <td>2.000000</td>\n",
       "      <td>2.650000</td>\n",
       "      <td>9.000000</td>\n",
       "      <td>30.000000</td>\n",
       "      <td>4.000000</td>\n",
       "      <td>9.100000</td>\n",
       "      <td>1.000000</td>\n",
       "      <td>26726.000000</td>\n",
       "      <td>13098.500000</td>\n",
       "      <td>0.000000</td>\n",
       "      <td>455.000000</td>\n",
       "      <td>1.000000</td>\n",
       "      <td>502.000000</td>\n",
       "      <td>95.000000</td>\n",
       "    </tr>\n",
       "    <tr>\n",
       "      <th>75%</th>\n",
       "      <td>14.000000</td>\n",
       "      <td>6.800000e+06</td>\n",
       "      <td>69.900000</td>\n",
       "      <td>3.000000</td>\n",
       "      <td>2.800000</td>\n",
       "      <td>16.000000</td>\n",
       "      <td>42.300000</td>\n",
       "      <td>8.000000</td>\n",
       "      <td>12.000000</td>\n",
       "      <td>2.000000</td>\n",
       "      <td>37273.000000</td>\n",
       "      <td>16293.000000</td>\n",
       "      <td>1.000000</td>\n",
       "      <td>612.000000</td>\n",
       "      <td>1.000000</td>\n",
       "      <td>729.000000</td>\n",
       "      <td>232.000000</td>\n",
       "    </tr>\n",
       "    <tr>\n",
       "      <th>max</th>\n",
       "      <td>50.000000</td>\n",
       "      <td>7.630000e+08</td>\n",
       "      <td>900.000000</td>\n",
       "      <td>19.000000</td>\n",
       "      <td>100.000000</td>\n",
       "      <td>60.000000</td>\n",
       "      <td>409.700000</td>\n",
       "      <td>33.000000</td>\n",
       "      <td>112.000000</td>\n",
       "      <td>5.000000</td>\n",
       "      <td>84869.000000</td>\n",
       "      <td>65968.000000</td>\n",
       "      <td>3.000000</td>\n",
       "      <td>3190.000000</td>\n",
       "      <td>3.000000</td>\n",
       "      <td>1344.000000</td>\n",
       "      <td>1580.000000</td>\n",
       "    </tr>\n",
       "  </tbody>\n",
       "</table>\n",
       "</div>"
      ],
      "text/plain": [
       "       total_images    last_price    total_area         rooms  ceiling_height  \\\n",
       "count  23699.000000  2.369900e+04  23699.000000  23699.000000    14504.000000   \n",
       "mean       9.858475  6.541549e+06     60.348651      2.070636        2.771499   \n",
       "std        5.682529  1.088701e+07     35.654083      1.078405        1.261056   \n",
       "min        0.000000  1.219000e+04     12.000000      0.000000        1.000000   \n",
       "25%        6.000000  3.400000e+06     40.000000      1.000000        2.520000   \n",
       "50%        9.000000  4.650000e+06     52.000000      2.000000        2.650000   \n",
       "75%       14.000000  6.800000e+06     69.900000      3.000000        2.800000   \n",
       "max       50.000000  7.630000e+08    900.000000     19.000000      100.000000   \n",
       "\n",
       "       floors_total   living_area         floor  kitchen_area       balcony  \\\n",
       "count  23613.000000  21796.000000  23699.000000  21421.000000  12180.000000   \n",
       "mean      10.673824     34.457852      5.892358     10.569807      1.150082   \n",
       "std        6.597173     22.030445      4.885249      5.905438      1.071300   \n",
       "min        1.000000      2.000000      1.000000      1.300000      0.000000   \n",
       "25%        5.000000     18.600000      2.000000      7.000000      0.000000   \n",
       "50%        9.000000     30.000000      4.000000      9.100000      1.000000   \n",
       "75%       16.000000     42.300000      8.000000     12.000000      2.000000   \n",
       "max       60.000000    409.700000     33.000000    112.000000      5.000000   \n",
       "\n",
       "       airports_nearest  cityCenters_nearest  parks_around3000  parks_nearest  \\\n",
       "count      18157.000000         18180.000000      18181.000000    8079.000000   \n",
       "mean       28793.672193         14191.277833          0.611408     490.804555   \n",
       "std        12630.880622          8608.386210          0.802074     342.317995   \n",
       "min            0.000000           181.000000          0.000000       1.000000   \n",
       "25%        18585.000000          9238.000000          0.000000     288.000000   \n",
       "50%        26726.000000         13098.500000          0.000000     455.000000   \n",
       "75%        37273.000000         16293.000000          1.000000     612.000000   \n",
       "max        84869.000000         65968.000000          3.000000    3190.000000   \n",
       "\n",
       "       ponds_around3000  ponds_nearest  days_exposition  \n",
       "count      18181.000000    9110.000000     20518.000000  \n",
       "mean           0.770255     517.980900       180.888634  \n",
       "std            0.938346     277.720643       219.727988  \n",
       "min            0.000000      13.000000         1.000000  \n",
       "25%            0.000000     294.000000        45.000000  \n",
       "50%            1.000000     502.000000        95.000000  \n",
       "75%            1.000000     729.000000       232.000000  \n",
       "max            3.000000    1344.000000      1580.000000  "
      ]
     },
     "execution_count": 1,
     "metadata": {},
     "output_type": "execute_result"
    }
   ],
   "source": [
    "import pandas as pd\n",
    "import matplotlib.pyplot as plt\n",
    "data = pd.read_csv('real_estate_data.csv', sep='\\t')\n",
    "#Посмотрим наличие пропусков\n",
    "data.info()\n",
    "#Посмотрим общую информацию\n",
    "data.describe()"
   ]
  },
  {
   "cell_type": "code",
   "execution_count": 2,
   "metadata": {},
   "outputs": [
    {
     "data": {
      "text/html": [
       "<div>\n",
       "<style scoped>\n",
       "    .dataframe tbody tr th:only-of-type {\n",
       "        vertical-align: middle;\n",
       "    }\n",
       "\n",
       "    .dataframe tbody tr th {\n",
       "        vertical-align: top;\n",
       "    }\n",
       "\n",
       "    .dataframe thead th {\n",
       "        text-align: right;\n",
       "    }\n",
       "</style>\n",
       "<table border=\"1\" class=\"dataframe\">\n",
       "  <thead>\n",
       "    <tr style=\"text-align: right;\">\n",
       "      <th></th>\n",
       "      <th>total_images</th>\n",
       "      <th>last_price</th>\n",
       "      <th>total_area</th>\n",
       "      <th>first_day_exposition</th>\n",
       "      <th>rooms</th>\n",
       "      <th>ceiling_height</th>\n",
       "      <th>floors_total</th>\n",
       "      <th>living_area</th>\n",
       "      <th>floor</th>\n",
       "      <th>is_apartment</th>\n",
       "      <th>...</th>\n",
       "      <th>kitchen_area</th>\n",
       "      <th>balcony</th>\n",
       "      <th>locality_name</th>\n",
       "      <th>airports_nearest</th>\n",
       "      <th>cityCenters_nearest</th>\n",
       "      <th>parks_around3000</th>\n",
       "      <th>parks_nearest</th>\n",
       "      <th>ponds_around3000</th>\n",
       "      <th>ponds_nearest</th>\n",
       "      <th>days_exposition</th>\n",
       "    </tr>\n",
       "  </thead>\n",
       "  <tbody>\n",
       "    <tr>\n",
       "      <th>0</th>\n",
       "      <td>20</td>\n",
       "      <td>13000000.0</td>\n",
       "      <td>108.00</td>\n",
       "      <td>2019-03-07T00:00:00</td>\n",
       "      <td>3</td>\n",
       "      <td>2.70</td>\n",
       "      <td>16.0</td>\n",
       "      <td>51.00</td>\n",
       "      <td>8</td>\n",
       "      <td>NaN</td>\n",
       "      <td>...</td>\n",
       "      <td>25.00</td>\n",
       "      <td>NaN</td>\n",
       "      <td>Санкт-Петербург</td>\n",
       "      <td>18863.0</td>\n",
       "      <td>16028.0</td>\n",
       "      <td>1.0</td>\n",
       "      <td>482.0</td>\n",
       "      <td>2.0</td>\n",
       "      <td>755.0</td>\n",
       "      <td>NaN</td>\n",
       "    </tr>\n",
       "    <tr>\n",
       "      <th>1</th>\n",
       "      <td>7</td>\n",
       "      <td>3350000.0</td>\n",
       "      <td>40.40</td>\n",
       "      <td>2018-12-04T00:00:00</td>\n",
       "      <td>1</td>\n",
       "      <td>NaN</td>\n",
       "      <td>11.0</td>\n",
       "      <td>18.60</td>\n",
       "      <td>1</td>\n",
       "      <td>NaN</td>\n",
       "      <td>...</td>\n",
       "      <td>11.00</td>\n",
       "      <td>2.0</td>\n",
       "      <td>посёлок Шушары</td>\n",
       "      <td>12817.0</td>\n",
       "      <td>18603.0</td>\n",
       "      <td>0.0</td>\n",
       "      <td>NaN</td>\n",
       "      <td>0.0</td>\n",
       "      <td>NaN</td>\n",
       "      <td>81.0</td>\n",
       "    </tr>\n",
       "    <tr>\n",
       "      <th>2</th>\n",
       "      <td>10</td>\n",
       "      <td>5196000.0</td>\n",
       "      <td>56.00</td>\n",
       "      <td>2015-08-20T00:00:00</td>\n",
       "      <td>2</td>\n",
       "      <td>NaN</td>\n",
       "      <td>5.0</td>\n",
       "      <td>34.30</td>\n",
       "      <td>4</td>\n",
       "      <td>NaN</td>\n",
       "      <td>...</td>\n",
       "      <td>8.30</td>\n",
       "      <td>0.0</td>\n",
       "      <td>Санкт-Петербург</td>\n",
       "      <td>21741.0</td>\n",
       "      <td>13933.0</td>\n",
       "      <td>1.0</td>\n",
       "      <td>90.0</td>\n",
       "      <td>2.0</td>\n",
       "      <td>574.0</td>\n",
       "      <td>558.0</td>\n",
       "    </tr>\n",
       "    <tr>\n",
       "      <th>3</th>\n",
       "      <td>0</td>\n",
       "      <td>64900000.0</td>\n",
       "      <td>159.00</td>\n",
       "      <td>2015-07-24T00:00:00</td>\n",
       "      <td>3</td>\n",
       "      <td>NaN</td>\n",
       "      <td>14.0</td>\n",
       "      <td>NaN</td>\n",
       "      <td>9</td>\n",
       "      <td>NaN</td>\n",
       "      <td>...</td>\n",
       "      <td>NaN</td>\n",
       "      <td>0.0</td>\n",
       "      <td>Санкт-Петербург</td>\n",
       "      <td>28098.0</td>\n",
       "      <td>6800.0</td>\n",
       "      <td>2.0</td>\n",
       "      <td>84.0</td>\n",
       "      <td>3.0</td>\n",
       "      <td>234.0</td>\n",
       "      <td>424.0</td>\n",
       "    </tr>\n",
       "    <tr>\n",
       "      <th>4</th>\n",
       "      <td>2</td>\n",
       "      <td>10000000.0</td>\n",
       "      <td>100.00</td>\n",
       "      <td>2018-06-19T00:00:00</td>\n",
       "      <td>2</td>\n",
       "      <td>3.03</td>\n",
       "      <td>14.0</td>\n",
       "      <td>32.00</td>\n",
       "      <td>13</td>\n",
       "      <td>NaN</td>\n",
       "      <td>...</td>\n",
       "      <td>41.00</td>\n",
       "      <td>NaN</td>\n",
       "      <td>Санкт-Петербург</td>\n",
       "      <td>31856.0</td>\n",
       "      <td>8098.0</td>\n",
       "      <td>2.0</td>\n",
       "      <td>112.0</td>\n",
       "      <td>1.0</td>\n",
       "      <td>48.0</td>\n",
       "      <td>121.0</td>\n",
       "    </tr>\n",
       "    <tr>\n",
       "      <th>5</th>\n",
       "      <td>10</td>\n",
       "      <td>2890000.0</td>\n",
       "      <td>30.40</td>\n",
       "      <td>2018-09-10T00:00:00</td>\n",
       "      <td>1</td>\n",
       "      <td>NaN</td>\n",
       "      <td>12.0</td>\n",
       "      <td>14.40</td>\n",
       "      <td>5</td>\n",
       "      <td>NaN</td>\n",
       "      <td>...</td>\n",
       "      <td>9.10</td>\n",
       "      <td>NaN</td>\n",
       "      <td>городской посёлок Янино-1</td>\n",
       "      <td>NaN</td>\n",
       "      <td>NaN</td>\n",
       "      <td>NaN</td>\n",
       "      <td>NaN</td>\n",
       "      <td>NaN</td>\n",
       "      <td>NaN</td>\n",
       "      <td>55.0</td>\n",
       "    </tr>\n",
       "    <tr>\n",
       "      <th>6</th>\n",
       "      <td>6</td>\n",
       "      <td>3700000.0</td>\n",
       "      <td>37.30</td>\n",
       "      <td>2017-11-02T00:00:00</td>\n",
       "      <td>1</td>\n",
       "      <td>NaN</td>\n",
       "      <td>26.0</td>\n",
       "      <td>10.60</td>\n",
       "      <td>6</td>\n",
       "      <td>NaN</td>\n",
       "      <td>...</td>\n",
       "      <td>14.40</td>\n",
       "      <td>1.0</td>\n",
       "      <td>посёлок Парголово</td>\n",
       "      <td>52996.0</td>\n",
       "      <td>19143.0</td>\n",
       "      <td>0.0</td>\n",
       "      <td>NaN</td>\n",
       "      <td>0.0</td>\n",
       "      <td>NaN</td>\n",
       "      <td>155.0</td>\n",
       "    </tr>\n",
       "    <tr>\n",
       "      <th>7</th>\n",
       "      <td>5</td>\n",
       "      <td>7915000.0</td>\n",
       "      <td>71.60</td>\n",
       "      <td>2019-04-18T00:00:00</td>\n",
       "      <td>2</td>\n",
       "      <td>NaN</td>\n",
       "      <td>24.0</td>\n",
       "      <td>NaN</td>\n",
       "      <td>22</td>\n",
       "      <td>NaN</td>\n",
       "      <td>...</td>\n",
       "      <td>18.90</td>\n",
       "      <td>2.0</td>\n",
       "      <td>Санкт-Петербург</td>\n",
       "      <td>23982.0</td>\n",
       "      <td>11634.0</td>\n",
       "      <td>0.0</td>\n",
       "      <td>NaN</td>\n",
       "      <td>0.0</td>\n",
       "      <td>NaN</td>\n",
       "      <td>NaN</td>\n",
       "    </tr>\n",
       "    <tr>\n",
       "      <th>8</th>\n",
       "      <td>20</td>\n",
       "      <td>2900000.0</td>\n",
       "      <td>33.16</td>\n",
       "      <td>2018-05-23T00:00:00</td>\n",
       "      <td>1</td>\n",
       "      <td>NaN</td>\n",
       "      <td>27.0</td>\n",
       "      <td>15.43</td>\n",
       "      <td>26</td>\n",
       "      <td>NaN</td>\n",
       "      <td>...</td>\n",
       "      <td>8.81</td>\n",
       "      <td>NaN</td>\n",
       "      <td>посёлок Мурино</td>\n",
       "      <td>NaN</td>\n",
       "      <td>NaN</td>\n",
       "      <td>NaN</td>\n",
       "      <td>NaN</td>\n",
       "      <td>NaN</td>\n",
       "      <td>NaN</td>\n",
       "      <td>189.0</td>\n",
       "    </tr>\n",
       "    <tr>\n",
       "      <th>9</th>\n",
       "      <td>18</td>\n",
       "      <td>5400000.0</td>\n",
       "      <td>61.00</td>\n",
       "      <td>2017-02-26T00:00:00</td>\n",
       "      <td>3</td>\n",
       "      <td>2.50</td>\n",
       "      <td>9.0</td>\n",
       "      <td>43.60</td>\n",
       "      <td>7</td>\n",
       "      <td>NaN</td>\n",
       "      <td>...</td>\n",
       "      <td>6.50</td>\n",
       "      <td>2.0</td>\n",
       "      <td>Санкт-Петербург</td>\n",
       "      <td>50898.0</td>\n",
       "      <td>15008.0</td>\n",
       "      <td>0.0</td>\n",
       "      <td>NaN</td>\n",
       "      <td>0.0</td>\n",
       "      <td>NaN</td>\n",
       "      <td>289.0</td>\n",
       "    </tr>\n",
       "  </tbody>\n",
       "</table>\n",
       "<p>10 rows × 22 columns</p>\n",
       "</div>"
      ],
      "text/plain": [
       "   total_images  last_price  total_area first_day_exposition  rooms  \\\n",
       "0            20  13000000.0      108.00  2019-03-07T00:00:00      3   \n",
       "1             7   3350000.0       40.40  2018-12-04T00:00:00      1   \n",
       "2            10   5196000.0       56.00  2015-08-20T00:00:00      2   \n",
       "3             0  64900000.0      159.00  2015-07-24T00:00:00      3   \n",
       "4             2  10000000.0      100.00  2018-06-19T00:00:00      2   \n",
       "5            10   2890000.0       30.40  2018-09-10T00:00:00      1   \n",
       "6             6   3700000.0       37.30  2017-11-02T00:00:00      1   \n",
       "7             5   7915000.0       71.60  2019-04-18T00:00:00      2   \n",
       "8            20   2900000.0       33.16  2018-05-23T00:00:00      1   \n",
       "9            18   5400000.0       61.00  2017-02-26T00:00:00      3   \n",
       "\n",
       "   ceiling_height  floors_total  living_area  floor is_apartment  ...  \\\n",
       "0            2.70          16.0        51.00      8          NaN  ...   \n",
       "1             NaN          11.0        18.60      1          NaN  ...   \n",
       "2             NaN           5.0        34.30      4          NaN  ...   \n",
       "3             NaN          14.0          NaN      9          NaN  ...   \n",
       "4            3.03          14.0        32.00     13          NaN  ...   \n",
       "5             NaN          12.0        14.40      5          NaN  ...   \n",
       "6             NaN          26.0        10.60      6          NaN  ...   \n",
       "7             NaN          24.0          NaN     22          NaN  ...   \n",
       "8             NaN          27.0        15.43     26          NaN  ...   \n",
       "9            2.50           9.0        43.60      7          NaN  ...   \n",
       "\n",
       "   kitchen_area  balcony              locality_name  airports_nearest  \\\n",
       "0         25.00      NaN            Санкт-Петербург           18863.0   \n",
       "1         11.00      2.0             посёлок Шушары           12817.0   \n",
       "2          8.30      0.0            Санкт-Петербург           21741.0   \n",
       "3           NaN      0.0            Санкт-Петербург           28098.0   \n",
       "4         41.00      NaN            Санкт-Петербург           31856.0   \n",
       "5          9.10      NaN  городской посёлок Янино-1               NaN   \n",
       "6         14.40      1.0          посёлок Парголово           52996.0   \n",
       "7         18.90      2.0            Санкт-Петербург           23982.0   \n",
       "8          8.81      NaN             посёлок Мурино               NaN   \n",
       "9          6.50      2.0            Санкт-Петербург           50898.0   \n",
       "\n",
       "  cityCenters_nearest  parks_around3000  parks_nearest  ponds_around3000  \\\n",
       "0             16028.0               1.0          482.0               2.0   \n",
       "1             18603.0               0.0            NaN               0.0   \n",
       "2             13933.0               1.0           90.0               2.0   \n",
       "3              6800.0               2.0           84.0               3.0   \n",
       "4              8098.0               2.0          112.0               1.0   \n",
       "5                 NaN               NaN            NaN               NaN   \n",
       "6             19143.0               0.0            NaN               0.0   \n",
       "7             11634.0               0.0            NaN               0.0   \n",
       "8                 NaN               NaN            NaN               NaN   \n",
       "9             15008.0               0.0            NaN               0.0   \n",
       "\n",
       "   ponds_nearest  days_exposition  \n",
       "0          755.0              NaN  \n",
       "1            NaN             81.0  \n",
       "2          574.0            558.0  \n",
       "3          234.0            424.0  \n",
       "4           48.0            121.0  \n",
       "5            NaN             55.0  \n",
       "6            NaN            155.0  \n",
       "7            NaN              NaN  \n",
       "8            NaN            189.0  \n",
       "9            NaN            289.0  \n",
       "\n",
       "[10 rows x 22 columns]"
      ]
     },
     "execution_count": 2,
     "metadata": {},
     "output_type": "execute_result"
    }
   ],
   "source": [
    "#Выведем первые 10 строк датасета\n",
    "data.head(10)"
   ]
  },
  {
   "cell_type": "code",
   "execution_count": 3,
   "metadata": {},
   "outputs": [
    {
     "data": {
      "text/plain": [
       "total_images                0\n",
       "last_price                  0\n",
       "total_area                  0\n",
       "first_day_exposition        0\n",
       "rooms                       0\n",
       "ceiling_height           9195\n",
       "floors_total               86\n",
       "living_area              1903\n",
       "floor                       0\n",
       "is_apartment            20924\n",
       "studio                      0\n",
       "open_plan                   0\n",
       "kitchen_area             2278\n",
       "balcony                 11519\n",
       "locality_name              49\n",
       "airports_nearest         5542\n",
       "cityCenters_nearest      5519\n",
       "parks_around3000         5518\n",
       "parks_nearest           15620\n",
       "ponds_around3000         5518\n",
       "ponds_nearest           14589\n",
       "days_exposition          3181\n",
       "dtype: int64"
      ]
     },
     "execution_count": 3,
     "metadata": {},
     "output_type": "execute_result"
    }
   ],
   "source": [
    "#Посмотрим количество пропусков\n",
    "data.isna().sum()"
   ]
  },
  {
   "cell_type": "code",
   "execution_count": 4,
   "metadata": {},
   "outputs": [
    {
     "data": {
      "image/png": "[encoded data removed]",
      "text/plain": [
       "<Figure size 1500x2000 with 20 Axes>"
      ]
     },
     "metadata": {},
     "output_type": "display_data"
    }
   ],
   "source": [
    "#Построим гистограмму для всех столбцов\n",
    "import matplotlib.pyplot as plt\n",
    "data.hist(grid=True, figsize=(15, 20));plt.show()"
   ]
  },
  {
   "cell_type": "markdown",
   "metadata": {},
   "source": [
    "**Пройдёмся по гистограммам:**\n",
    "В целом, значения распределяются нормально. Выбросов не наблюдается."
   ]
  },
  {
   "cell_type": "markdown",
   "metadata": {},
   "source": [
    "**Вывод:**   \n",
    "В столбцах **ceiling_height**, **floors_total**, **living_area**, **is_apartment**, **kitchen_area**, **balcony**, **locality_name**, **airports_nearest**, **cityCenters_nearest**, **parks_around3000**, **parks_nearest**, **ponds_around3000**, **ponds_nearest**, **days_exposition** есть пропуски.    \n",
    "     \n",
    "Также:\n",
    "1. У столбца **first_day_exposition** должен быть тип \"datetime\"\n",
    "2. У столбцов **floors_total, balcony, parks_around3000, ponds_around3000, days_exposition, airports_nearest, cityCenters_nearest, parks_nearest, ponds_nearest** должен быть тип \"int\", т.к. числовые значения в них могут быть только целыми (вряд ли кто-то решит указать цену с копейками)\n",
    "3. У столбца **is_apartment** должен быть тип \"bool\"\n",
    "    \n",
    "Данные нужно привести в порядок.\n",
    "\n",
    "* В столбце **is_apartment** слишком много пропусков, возможно, это связано с тем, что многие люди не знают, что такое апартаменты, поэтому, при заполнении данных, они пропускали этот пункт. Знающие, наоборот, заполняли данные (раз они купили такую квартиру, значит разбираются в отличиях квартиры и апартаментов). Можно заменить NaN на \"False\", т.к., скорее всего, пропуски свидетельствуют о том, что квартира не является апартаментами (в договоре купли-продажи должна быть прописана информация о типе продаваемого/покупаемого помещения; в таком случае, если человек не знал, явлется ли квартира апартаментами, значит в договоре информаия про апартаменты не была указана, соответственно, помещение апартаментами не является).\n",
    "\n",
    "* В столбце **balcony** пропуски можно заменить на \"0\", т.к., вероятно, что, если информация по наличию балкона не указана, то балкона нет.\n",
    "\n",
    "* В столбце **ceiling_height** вместо пропусков можно поставить медианные значения. Пропуски могли появиться из-за того, что некоторые люди не считают эту информацию важной и обязательной к заполнению.\n",
    "\n",
    "* Столбец **floors_total** оставим без изменений, данных для анализа досаточно. Причина может быть такой же, как и в предыдущем пункте.\n",
    "\n",
    "* Столбцы **living_area, kitchen_area** могут быть не заполнены из-за того, что квартира является студией. Пропуски заполнить не сможем (можно было бы рассчитать их путём вычитания из общей площади кухни/жилой площади, но у нас нет данных по площади сан. узла и коридора, которые также являются частью общей площади квартиры). Заполненных строк для анализа достаточно.\n",
    "\n",
    "* Столбец **locality_name** оставим как есть. Непонятна причина пропусков.\n",
    "\n",
    "* В столбцах **airports_nearest, cityCenters_nearest, parks_around3000, parks_nearest, ponds_around3000, ponds_nearest** данные были добавлены системой, мы их заполнить ничем не сможем, поэтому оставим всё как есть.\n",
    "\n",
    "* Столбец **days_exposition** тоже оставим в покое. Медианные или средние значения не подойдут, т.к. длительность продажи может зависеть и от других факторов, по которым нет данных (например, шумные соседи, трубы текут, ремонта нет). Имеющихся данных для анализа достаточно. Пропуски могли быть из-за того, что продавцы не убрали объявление с сайта после продажи."
   ]
  },
  {
   "cell_type": "markdown",
   "metadata": {},
   "source": [
    "### Предобработка данных"
   ]
  },
  {
   "cell_type": "code",
   "execution_count": 5,
   "metadata": {},
   "outputs": [
    {
     "data": {
      "text/html": [
       "<style type=\"text/css\">\n",
       "#T_be9ef_row0_col0, #T_be9ef_row1_col0, #T_be9ef_row2_col0, #T_be9ef_row3_col0, #T_be9ef_row4_col0, #T_be9ef_row6_col0, #T_be9ef_row8_col0, #T_be9ef_row10_col0, #T_be9ef_row11_col0, #T_be9ef_row14_col0 {\n",
       "  background-color: #3b4cc0;\n",
       "  color: #f1f1f1;\n",
       "}\n",
       "#T_be9ef_row5_col0 {\n",
       "  background-color: #cdd9ec;\n",
       "  color: #000000;\n",
       "}\n",
       "#T_be9ef_row7_col0 {\n",
       "  background-color: #5673e0;\n",
       "  color: #f1f1f1;\n",
       "}\n",
       "#T_be9ef_row9_col0 {\n",
       "  background-color: #b40426;\n",
       "  color: #f1f1f1;\n",
       "}\n",
       "#T_be9ef_row12_col0 {\n",
       "  background-color: #5e7de7;\n",
       "  color: #f1f1f1;\n",
       "}\n",
       "#T_be9ef_row13_col0 {\n",
       "  background-color: #ead4c8;\n",
       "  color: #000000;\n",
       "}\n",
       "#T_be9ef_row15_col0, #T_be9ef_row16_col0, #T_be9ef_row17_col0, #T_be9ef_row19_col0 {\n",
       "  background-color: #90b2fe;\n",
       "  color: #000000;\n",
       "}\n",
       "#T_be9ef_row18_col0 {\n",
       "  background-color: #f4987a;\n",
       "  color: #000000;\n",
       "}\n",
       "#T_be9ef_row20_col0 {\n",
       "  background-color: #f7aa8c;\n",
       "  color: #000000;\n",
       "}\n",
       "#T_be9ef_row21_col0 {\n",
       "  background-color: #688aef;\n",
       "  color: #f1f1f1;\n",
       "}\n",
       "</style>\n",
       "<table id=\"T_be9ef\">\n",
       "  <thead>\n",
       "    <tr>\n",
       "      <th class=\"blank level0\" >&nbsp;</th>\n",
       "      <th id=\"T_be9ef_level0_col0\" class=\"col_heading level0 col0\" >0</th>\n",
       "    </tr>\n",
       "  </thead>\n",
       "  <tbody>\n",
       "    <tr>\n",
       "      <th id=\"T_be9ef_level0_row0\" class=\"row_heading level0 row0\" >total_images</th>\n",
       "      <td id=\"T_be9ef_row0_col0\" class=\"data row0 col0\" >0.000000</td>\n",
       "    </tr>\n",
       "    <tr>\n",
       "      <th id=\"T_be9ef_level0_row1\" class=\"row_heading level0 row1\" >last_price</th>\n",
       "      <td id=\"T_be9ef_row1_col0\" class=\"data row1 col0\" >0.000000</td>\n",
       "    </tr>\n",
       "    <tr>\n",
       "      <th id=\"T_be9ef_level0_row2\" class=\"row_heading level0 row2\" >total_area</th>\n",
       "      <td id=\"T_be9ef_row2_col0\" class=\"data row2 col0\" >0.000000</td>\n",
       "    </tr>\n",
       "    <tr>\n",
       "      <th id=\"T_be9ef_level0_row3\" class=\"row_heading level0 row3\" >first_day_exposition</th>\n",
       "      <td id=\"T_be9ef_row3_col0\" class=\"data row3 col0\" >0.000000</td>\n",
       "    </tr>\n",
       "    <tr>\n",
       "      <th id=\"T_be9ef_level0_row4\" class=\"row_heading level0 row4\" >rooms</th>\n",
       "      <td id=\"T_be9ef_row4_col0\" class=\"data row4 col0\" >0.000000</td>\n",
       "    </tr>\n",
       "    <tr>\n",
       "      <th id=\"T_be9ef_level0_row5\" class=\"row_heading level0 row5\" >ceiling_height</th>\n",
       "      <td id=\"T_be9ef_row5_col0\" class=\"data row5 col0\" >39.000000</td>\n",
       "    </tr>\n",
       "    <tr>\n",
       "      <th id=\"T_be9ef_level0_row6\" class=\"row_heading level0 row6\" >floors_total</th>\n",
       "      <td id=\"T_be9ef_row6_col0\" class=\"data row6 col0\" >0.000000</td>\n",
       "    </tr>\n",
       "    <tr>\n",
       "      <th id=\"T_be9ef_level0_row7\" class=\"row_heading level0 row7\" >living_area</th>\n",
       "      <td id=\"T_be9ef_row7_col0\" class=\"data row7 col0\" >8.000000</td>\n",
       "    </tr>\n",
       "    <tr>\n",
       "      <th id=\"T_be9ef_level0_row8\" class=\"row_heading level0 row8\" >floor</th>\n",
       "      <td id=\"T_be9ef_row8_col0\" class=\"data row8 col0\" >0.000000</td>\n",
       "    </tr>\n",
       "    <tr>\n",
       "      <th id=\"T_be9ef_level0_row9\" class=\"row_heading level0 row9\" >is_apartment</th>\n",
       "      <td id=\"T_be9ef_row9_col0\" class=\"data row9 col0\" >88.000000</td>\n",
       "    </tr>\n",
       "    <tr>\n",
       "      <th id=\"T_be9ef_level0_row10\" class=\"row_heading level0 row10\" >studio</th>\n",
       "      <td id=\"T_be9ef_row10_col0\" class=\"data row10 col0\" >0.000000</td>\n",
       "    </tr>\n",
       "    <tr>\n",
       "      <th id=\"T_be9ef_level0_row11\" class=\"row_heading level0 row11\" >open_plan</th>\n",
       "      <td id=\"T_be9ef_row11_col0\" class=\"data row11 col0\" >0.000000</td>\n",
       "    </tr>\n",
       "    <tr>\n",
       "      <th id=\"T_be9ef_level0_row12\" class=\"row_heading level0 row12\" >kitchen_area</th>\n",
       "      <td id=\"T_be9ef_row12_col0\" class=\"data row12 col0\" >10.000000</td>\n",
       "    </tr>\n",
       "    <tr>\n",
       "      <th id=\"T_be9ef_level0_row13\" class=\"row_heading level0 row13\" >balcony</th>\n",
       "      <td id=\"T_be9ef_row13_col0\" class=\"data row13 col0\" >49.000000</td>\n",
       "    </tr>\n",
       "    <tr>\n",
       "      <th id=\"T_be9ef_level0_row14\" class=\"row_heading level0 row14\" >locality_name</th>\n",
       "      <td id=\"T_be9ef_row14_col0\" class=\"data row14 col0\" >0.000000</td>\n",
       "    </tr>\n",
       "    <tr>\n",
       "      <th id=\"T_be9ef_level0_row15\" class=\"row_heading level0 row15\" >airports_nearest</th>\n",
       "      <td id=\"T_be9ef_row15_col0\" class=\"data row15 col0\" >23.000000</td>\n",
       "    </tr>\n",
       "    <tr>\n",
       "      <th id=\"T_be9ef_level0_row16\" class=\"row_heading level0 row16\" >cityCenters_nearest</th>\n",
       "      <td id=\"T_be9ef_row16_col0\" class=\"data row16 col0\" >23.000000</td>\n",
       "    </tr>\n",
       "    <tr>\n",
       "      <th id=\"T_be9ef_level0_row17\" class=\"row_heading level0 row17\" >parks_around3000</th>\n",
       "      <td id=\"T_be9ef_row17_col0\" class=\"data row17 col0\" >23.000000</td>\n",
       "    </tr>\n",
       "    <tr>\n",
       "      <th id=\"T_be9ef_level0_row18\" class=\"row_heading level0 row18\" >parks_nearest</th>\n",
       "      <td id=\"T_be9ef_row18_col0\" class=\"data row18 col0\" >66.000000</td>\n",
       "    </tr>\n",
       "    <tr>\n",
       "      <th id=\"T_be9ef_level0_row19\" class=\"row_heading level0 row19\" >ponds_around3000</th>\n",
       "      <td id=\"T_be9ef_row19_col0\" class=\"data row19 col0\" >23.000000</td>\n",
       "    </tr>\n",
       "    <tr>\n",
       "      <th id=\"T_be9ef_level0_row20\" class=\"row_heading level0 row20\" >ponds_nearest</th>\n",
       "      <td id=\"T_be9ef_row20_col0\" class=\"data row20 col0\" >62.000000</td>\n",
       "    </tr>\n",
       "    <tr>\n",
       "      <th id=\"T_be9ef_level0_row21\" class=\"row_heading level0 row21\" >days_exposition</th>\n",
       "      <td id=\"T_be9ef_row21_col0\" class=\"data row21 col0\" >13.000000</td>\n",
       "    </tr>\n",
       "  </tbody>\n",
       "</table>\n"
      ],
      "text/plain": [
       "<pandas.io.formats.style.Styler at 0xaea8cf43a0>"
      ]
     },
     "execution_count": 5,
     "metadata": {},
     "output_type": "execute_result"
    }
   ],
   "source": [
    "#Проверим % пропусков в датасете\n",
    "pd.DataFrame(round(data.isna().mean()*100,)).style.background_gradient('coolwarm')"
   ]
  },
  {
   "cell_type": "code",
   "execution_count": 6,
   "metadata": {},
   "outputs": [
    {
     "name": "stdout",
     "output_type": "stream",
     "text": [
      "<class 'pandas.core.frame.DataFrame'>\n",
      "RangeIndex: 23699 entries, 0 to 23698\n",
      "Data columns (total 22 columns):\n",
      " #   Column                Non-Null Count  Dtype         \n",
      "---  ------                --------------  -----         \n",
      " 0   total_images          23699 non-null  int64         \n",
      " 1   last_price            23699 non-null  float64       \n",
      " 2   total_area            23699 non-null  float64       \n",
      " 3   first_day_exposition  23699 non-null  datetime64[ns]\n",
      " 4   rooms                 23699 non-null  int64         \n",
      " 5   ceiling_height        23699 non-null  float64       \n",
      " 6   floors_total          23699 non-null  int32         \n",
      " 7   living_area           21796 non-null  float64       \n",
      " 8   floor                 23699 non-null  int64         \n",
      " 9   is_apartment          23699 non-null  bool          \n",
      " 10  studio                23699 non-null  bool          \n",
      " 11  open_plan             23699 non-null  bool          \n",
      " 12  kitchen_area          21421 non-null  float64       \n",
      " 13  balcony               23699 non-null  int32         \n",
      " 14  locality_name         23650 non-null  object        \n",
      " 15  airports_nearest      18157 non-null  float64       \n",
      " 16  cityCenters_nearest   18180 non-null  float64       \n",
      " 17  parks_around3000      23699 non-null  int32         \n",
      " 18  parks_nearest         8079 non-null   float64       \n",
      " 19  ponds_around3000      23699 non-null  int32         \n",
      " 20  ponds_nearest         9110 non-null   float64       \n",
      " 21  days_exposition       20518 non-null  float64       \n",
      "dtypes: bool(3), datetime64[ns](1), float64(10), int32(4), int64(3), object(1)\n",
      "memory usage: 3.1+ MB\n"
     ]
    }
   ],
   "source": [
    "#Посмотрим количество пропусков и уникальные значения в столбце balcony\n",
    "data['balcony'].isna().sum()\n",
    "data['balcony'].unique()\n",
    "#Заменим пропуски в столбце balcony на \"0\" и заменим тип данных\n",
    "data['balcony'] = data['balcony'].fillna(0).astype(int)\n",
    "\n",
    "#Посмотрим количество пропусков и уникальные значения в столбце is_apartment\n",
    "data['is_apartment'].isna().sum()\n",
    "data['is_apartment'].unique()\n",
    "#Заменим пропуски в столбце is_apartment на \"False\"\n",
    "data['is_apartment'] = data['is_apartment'].fillna(False)\n",
    "\n",
    "#Посмотрим количество пропусков и уникальные значения в столбце ceiling_height\n",
    "data['ceiling_height'].isna().sum()\n",
    "data['ceiling_height'].unique()\n",
    "#Заменим пропуски в столбце ceiling_height на медианные значения\n",
    "data['ceiling_height'] = data['ceiling_height'].fillna(data['ceiling_height'].median())\n",
    "\n",
    "#Заменим тип данных в столбце first_day_exposition на datetime (время неизвестно, поэтому его указывать не будем)\n",
    "data['first_day_exposition'] = pd.to_datetime(data['first_day_exposition'], format = '%Y-%m-%d')\n",
    "\n",
    "#Заполним пропуски в столцах parks_around3000, ponds_around3000 нулями\n",
    "data['parks_around3000'] = data['parks_around3000'].fillna(0)\n",
    "data['ponds_around3000'] = data['ponds_around3000'].fillna(0)\n",
    "\n",
    "#Заменим пропуски в столбце floors_total на значения столца floor той же строки\n",
    "row = data['floor']\n",
    "data['floors_total'] = data['floors_total'].fillna(row)\n",
    "\n",
    "#Заменим тип данных в столбцах floors_total, parks_around3000, ponds_around3000, на int \n",
    "data['floors_total'] = data['floors_total'].astype(int)\n",
    "data['parks_around3000'] = data['parks_around3000'].astype(int)\n",
    "data['ponds_around3000'] = data['ponds_around3000'].astype(int)\n",
    "\n",
    "#Тип столбцов days_exposition, airports_nearest, cityCenters_nearest, parks_nearest, ponds_nearest \n",
    "#не можем заменить на int из-за пропусков\n",
    "\n",
    "#Проверим изменения\n",
    "data.info()"
   ]
  },
  {
   "cell_type": "code",
   "execution_count": 7,
   "metadata": {},
   "outputs": [
    {
     "data": {
      "text/plain": [
       "array(['Санкт-Петербург', 'посёлок Шушары', 'городской посёлок Янино-1',\n",
       "       'посёлок Парголово', 'посёлок Мурино', 'Ломоносов', 'Сертолово',\n",
       "       'Петергоф', 'Пушкин', 'деревня Кудрово', 'Коммунар', 'Колпино',\n",
       "       'поселок городского типа Красный Бор', 'Гатчина', 'поселок Мурино',\n",
       "       'деревня Фёдоровское', 'Выборг', 'Кронштадт', 'Кировск',\n",
       "       'деревня Новое Девяткино', 'посёлок Металлострой',\n",
       "       'посёлок городского типа Лебяжье',\n",
       "       'посёлок городского типа Сиверский', 'поселок Молодцово',\n",
       "       'поселок городского типа Кузьмоловский',\n",
       "       'садовое товарищество Новая Ропша', 'Павловск',\n",
       "       'деревня Пикколово', 'Всеволожск', 'Волхов', 'Кингисепп',\n",
       "       'Приозерск', 'Сестрорецк', 'деревня Куттузи', 'посёлок Аннино',\n",
       "       'поселок городского типа Ефимовский', 'посёлок Плодовое',\n",
       "       'деревня Заклинье', 'поселок Торковичи', 'поселок Первомайское',\n",
       "       'Красное Село', 'посёлок Понтонный', 'Сясьстрой', 'деревня Старая',\n",
       "       'деревня Лесколово', 'посёлок Новый Свет', 'Сланцы',\n",
       "       'село Путилово', 'Ивангород', 'Мурино', 'Шлиссельбург',\n",
       "       'Никольское', 'Зеленогорск', 'Сосновый Бор', 'поселок Новый Свет',\n",
       "       'деревня Оржицы', 'деревня Кальтино', 'Кудрово',\n",
       "       'поселок Романовка', 'посёлок Бугры', 'поселок Бугры',\n",
       "       'поселок городского типа Рощино', 'Кириши', 'Луга', 'Волосово',\n",
       "       'Отрадное', 'село Павлово', 'поселок Оредеж', 'село Копорье',\n",
       "       'посёлок городского типа Красный Бор', 'посёлок Молодёжное',\n",
       "       'Тихвин', 'посёлок Победа', 'деревня Нурма',\n",
       "       'поселок городского типа Синявино', 'Тосно',\n",
       "       'посёлок городского типа Кузьмоловский', 'посёлок Стрельна',\n",
       "       'Бокситогорск', 'посёлок Александровская', 'деревня Лопухинка',\n",
       "       'Пикалёво', 'поселок Терволово',\n",
       "       'поселок городского типа Советский', 'Подпорожье',\n",
       "       'посёлок Петровское', 'посёлок городского типа Токсово',\n",
       "       'поселок Сельцо', 'посёлок городского типа Вырица',\n",
       "       'деревня Кипень', 'деревня Келози', 'деревня Вартемяги',\n",
       "       'посёлок Тельмана', 'поселок Севастьяново',\n",
       "       'городской поселок Большая Ижора', nan,\n",
       "       'городской посёлок Павлово', 'деревня Агалатово',\n",
       "       'посёлок Новогорелово', 'городской посёлок Лесогорский',\n",
       "       'деревня Лаголово', 'поселок Цвелодубово',\n",
       "       'поселок городского типа Рахья', 'поселок городского типа Вырица',\n",
       "       'деревня Белогорка', 'поселок Заводской',\n",
       "       'городской посёлок Новоселье', 'деревня Большие Колпаны',\n",
       "       'деревня Горбунки', 'деревня Батово', 'деревня Заневка',\n",
       "       'деревня Иссад', 'Приморск', 'городской посёлок Фёдоровское',\n",
       "       'деревня Мистолово', 'Новая Ладога', 'поселок Зимитицы',\n",
       "       'поселок Барышево', 'деревня Разметелево',\n",
       "       'поселок городского типа имени Свердлова', 'деревня Пеники',\n",
       "       'поселок Рябово', 'деревня Пудомяги', 'поселок станции Корнево',\n",
       "       'деревня Низино', 'деревня Бегуницы', 'посёлок Поляны',\n",
       "       'городской посёлок Мга', 'поселок Елизаветино',\n",
       "       'посёлок городского типа Кузнечное', 'деревня Колтуши',\n",
       "       'поселок Запорожское', 'посёлок городского типа Рощино',\n",
       "       'деревня Гостилицы', 'деревня Малое Карлино',\n",
       "       'посёлок Мичуринское', 'посёлок городского типа имени Морозова',\n",
       "       'посёлок Песочный', 'посёлок Сосново', 'деревня Аро',\n",
       "       'поселок Ильичёво', 'посёлок городского типа Тайцы',\n",
       "       'деревня Малое Верево', 'деревня Извара', 'поселок станции Вещево',\n",
       "       'село Паша', 'деревня Калитино',\n",
       "       'посёлок городского типа Ульяновка', 'деревня Чудской Бор',\n",
       "       'поселок городского типа Дубровка', 'деревня Мины',\n",
       "       'поселок Войсковицы', 'посёлок городского типа имени Свердлова',\n",
       "       'деревня Коркино', 'посёлок Ропша',\n",
       "       'поселок городского типа Приладожский', 'посёлок Щеглово',\n",
       "       'посёлок Гаврилово', 'Лодейное Поле', 'деревня Рабитицы',\n",
       "       'поселок городского типа Никольский', 'деревня Кузьмолово',\n",
       "       'деревня Малые Колпаны', 'поселок Тельмана',\n",
       "       'посёлок Петро-Славянка', 'городской посёлок Назия',\n",
       "       'посёлок Репино', 'посёлок Ильичёво', 'поселок Углово',\n",
       "       'поселок Старая Малукса', 'садовое товарищество Рахья',\n",
       "       'поселок Аннино', 'поселок Победа', 'деревня Меньково',\n",
       "       'деревня Старые Бегуницы', 'посёлок Сапёрный', 'поселок Семрино',\n",
       "       'поселок Гаврилово', 'поселок Глажево', 'поселок Кобринское',\n",
       "       'деревня Гарболово', 'деревня Юкки',\n",
       "       'поселок станции Приветнинское', 'деревня Мануйлово',\n",
       "       'деревня Пчева', 'поселок Поляны', 'поселок Цвылёво',\n",
       "       'поселок Мельниково', 'посёлок Пудость', 'посёлок Усть-Луга',\n",
       "       'Светогорск', 'Любань', 'поселок Селезнёво',\n",
       "       'поселок городского типа Рябово', 'Каменногорск', 'деревня Кривко',\n",
       "       'поселок Глебычево', 'деревня Парицы', 'поселок Жилпосёлок',\n",
       "       'посёлок городского типа Мга', 'городской поселок Янино-1',\n",
       "       'посёлок Войскорово', 'село Никольское', 'посёлок Терволово',\n",
       "       'поселок Стеклянный', 'посёлок городского типа Важины',\n",
       "       'посёлок Мыза-Ивановка', 'село Русско-Высоцкое',\n",
       "       'поселок городского типа Лебяжье',\n",
       "       'поселок городского типа Форносово', 'село Старая Ладога',\n",
       "       'поселок Житково', 'городской посёлок Виллози', 'деревня Лампово',\n",
       "       'деревня Шпаньково', 'деревня Лаврики', 'посёлок Сумино',\n",
       "       'посёлок Возрождение', 'деревня Старосиверская',\n",
       "       'посёлок Кикерино', 'поселок Возрождение',\n",
       "       'деревня Старое Хинколово', 'посёлок Пригородный',\n",
       "       'посёлок Торфяное', 'городской посёлок Будогощь',\n",
       "       'поселок Суходолье', 'поселок Красная Долина', 'деревня Хапо-Ое',\n",
       "       'поселок городского типа Дружная Горка', 'поселок Лисий Нос',\n",
       "       'деревня Яльгелево', 'посёлок Стеклянный', 'село Рождествено',\n",
       "       'деревня Старополье', 'посёлок Левашово', 'деревня Сяськелево',\n",
       "       'деревня Камышовка',\n",
       "       'садоводческое некоммерческое товарищество Лесная Поляна',\n",
       "       'деревня Хязельки', 'поселок Жилгородок',\n",
       "       'посёлок городского типа Павлово', 'деревня Ялгино',\n",
       "       'поселок Новый Учхоз', 'городской посёлок Рощино',\n",
       "       'поселок Гончарово', 'поселок Почап', 'посёлок Сапёрное',\n",
       "       'посёлок Платформа 69-й километр', 'поселок Каложицы',\n",
       "       'деревня Фалилеево', 'деревня Пельгора',\n",
       "       'поселок городского типа Лесогорский', 'деревня Торошковичи',\n",
       "       'посёлок Белоостров', 'посёлок Алексеевка', 'поселок Серебрянский',\n",
       "       'поселок Лукаши', 'поселок Петровское', 'деревня Щеглово',\n",
       "       'поселок Мичуринское', 'деревня Тарасово', 'поселок Кингисеппский',\n",
       "       'посёлок при железнодорожной станции Вещево', 'поселок Ушаки',\n",
       "       'деревня Котлы', 'деревня Сижно', 'деревня Торосово',\n",
       "       'посёлок Форт Красная Горка', 'поселок городского типа Токсово',\n",
       "       'деревня Новолисино', 'посёлок станции Громово', 'деревня Глинка',\n",
       "       'посёлок Мельниково', 'поселок городского типа Назия',\n",
       "       'деревня Старая Пустошь', 'поселок Коммунары', 'поселок Починок',\n",
       "       'посёлок городского типа Вознесенье', 'деревня Разбегаево',\n",
       "       'посёлок городского типа Рябово', 'поселок Гладкое',\n",
       "       'посёлок при железнодорожной станции Приветнинское',\n",
       "       'поселок Тёсово-4', 'посёлок Жилгородок', 'деревня Бор',\n",
       "       'посёлок Коробицыно', 'деревня Большая Вруда', 'деревня Курковицы',\n",
       "       'посёлок Лисий Нос', 'городской посёлок Советский',\n",
       "       'посёлок Кобралово', 'деревня Суоранда', 'поселок Кобралово',\n",
       "       'поселок городского типа Кондратьево',\n",
       "       'коттеджный поселок Счастье', 'поселок Любань', 'деревня Реброво',\n",
       "       'деревня Зимитицы', 'деревня Тойворово', 'поселок Семиозерье',\n",
       "       'поселок Лесное', 'поселок Совхозный', 'поселок Усть-Луга',\n",
       "       'посёлок Ленинское', 'посёлок Суйда',\n",
       "       'посёлок городского типа Форносово', 'деревня Нижние Осельки',\n",
       "       'посёлок станции Свирь', 'поселок Перово', 'Высоцк',\n",
       "       'поселок Гарболово', 'село Шум', 'поселок Котельский',\n",
       "       'поселок станции Лужайка', 'деревня Большая Пустомержа',\n",
       "       'поселок Красносельское', 'деревня Вахнова Кара', 'деревня Пижма',\n",
       "       'коттеджный поселок Кивеннапа Север', 'поселок Коробицыно',\n",
       "       'поселок Ромашки', 'посёлок Перово', 'деревня Каськово',\n",
       "       'деревня Куровицы', 'посёлок Плоское', 'поселок Сумино',\n",
       "       'поселок городского типа Большая Ижора', 'поселок Кирпичное',\n",
       "       'деревня Ям-Тесово', 'деревня Раздолье', 'деревня Терпилицы',\n",
       "       'посёлок Шугозеро', 'деревня Ваганово', 'поселок Пушное',\n",
       "       'садовое товарищество Садко', 'посёлок Усть-Ижора',\n",
       "       'деревня Выскатка', 'городской посёлок Свирьстрой',\n",
       "       'поселок Громово', 'деревня Кисельня', 'посёлок Старая Малукса',\n",
       "       'деревня Трубников Бор', 'поселок Калитино',\n",
       "       'посёлок Высокоключевой', 'садовое товарищество Приладожский',\n",
       "       'посёлок Пансионат Зелёный Бор', 'деревня Ненимяки',\n",
       "       'поселок Пансионат Зелёный Бор', 'деревня Снегирёвка',\n",
       "       'деревня Рапполово', 'деревня Пустынка', 'поселок Рабитицы',\n",
       "       'деревня Большой Сабск', 'деревня Русско', 'деревня Лупполово',\n",
       "       'деревня Большое Рейзино', 'деревня Малая Романовка',\n",
       "       'поселок Дружноселье', 'поселок Пчевжа', 'поселок Володарское',\n",
       "       'деревня Нижняя', 'коттеджный посёлок Лесное', 'деревня Тихковицы',\n",
       "       'деревня Борисова Грива', 'посёлок Дзержинского'], dtype=object)"
      ]
     },
     "execution_count": 7,
     "metadata": {},
     "output_type": "execute_result"
    }
   ],
   "source": [
    "#Посмотрим значения столбца locality_name\n",
    "data['locality_name'].value_counts()\n",
    "data['locality_name'].unique()"
   ]
  },
  {
   "cell_type": "code",
   "execution_count": 8,
   "metadata": {},
   "outputs": [
    {
     "name": "stdout",
     "output_type": "stream",
     "text": [
      "Int64Index([ 1097,  2033,  2603,  2632,  3574,  4151,  4189,  4670,  5343,\n",
      "             5707,  6765,  7114,  7330,  7600,  8568,  8986,  9821, 10122,\n",
      "            11248, 12879, 12936, 13223, 13690, 14273, 14342, 15686, 15866,\n",
      "            16499, 16561, 16610, 17535, 17764, 18526, 18917, 19045, 19972,\n",
      "            20057, 20382, 20590, 20654, 21119, 21276, 21333, 21715, 21898,\n",
      "            22474, 22717, 22933, 23214],\n",
      "           dtype='int64')\n"
     ]
    },
    {
     "data": {
      "text/plain": [
       "array(['Санкт-Петербург', 'Шушары', 'Янино-1', 'Парголово', 'Мурино',\n",
       "       'Ломоносов', 'Сертолово', 'Петергоф', 'Пушкин', 'Кудрово',\n",
       "       'Коммунар', 'Колпино', 'КрасныйБор', 'Гатчина', 'Фёдоровское',\n",
       "       'Выборг', 'Кронштадт', 'Кировск', 'НовоеДевяткино', 'Металлострой',\n",
       "       'Лебяжье', 'Сиверский', 'Молодцово', 'Кузьмоловский', 'НоваяРопша',\n",
       "       'Павловск', 'Пикколово', 'Всеволожск', 'Волхов', 'Кингисепп',\n",
       "       'Приозерск', 'Сестрорецк', 'Куттузи', 'Аннино', 'Ефимовский',\n",
       "       'Плодовое', 'Заклинье', 'Торковичи', 'Первомайское', 'КрасноеСело',\n",
       "       'Понтонный', 'Сясьстрой', 'Старая', 'Лесколово', 'НовыйСвет',\n",
       "       'Сланцы', 'Путилово', 'Ивангород', 'Шлиссельбург', 'Никольское',\n",
       "       'Зеленогорск', 'СосновыйБор', 'Оржицы', 'Кальтино', 'Романовка',\n",
       "       'Бугры', 'Рощино', 'Кириши', 'Луга', 'Волосово', 'Отрадное',\n",
       "       'Павлово', 'Оредеж', 'Копорье', 'Молодёжное', 'Тихвин', 'Победа',\n",
       "       'Нурма', 'Синявино', 'Тосно', 'Стрельна', 'Бокситогорск',\n",
       "       'Александровская', 'Лопухинка', 'Пикалёво', 'Терволово',\n",
       "       'Советский', 'Подпорожье', 'Петровское', 'Токсово', 'Сельцо',\n",
       "       'Вырица', 'Кипень', 'Келози', 'Вартемяги', 'Тельмана',\n",
       "       'Севастьяново', 'БольшаяИжора', 'Агалатово', 'Новогорелово',\n",
       "       'Лесогорский', 'Лаголово', 'Цвелодубово', 'Рахья', 'Белогорка',\n",
       "       'Заводской', 'Новоселье', 'БольшиеКолпаны', 'Горбунки', 'Батово',\n",
       "       'Заневка', 'Иссад', 'Приморск', 'Мистолово', 'НоваяЛадога',\n",
       "       'Зимитицы', 'Барышево', 'Разметелево', 'Свердлова', 'Пеники',\n",
       "       'Рябово', 'Пудомяги', 'Корнево', 'Низино', 'Бегуницы', 'Поляны',\n",
       "       'Мга', 'Елизаветино', 'Кузнечное', 'Колтуши', 'Запорожское',\n",
       "       'Гостилицы', 'МалоеКарлино', 'Мичуринское', 'Морозова', 'Песочный',\n",
       "       'Сосново', 'Аро', 'Ильичёво', 'Тайцы', 'МалоеВерево', 'Извара',\n",
       "       'Вещево', 'Паша', 'Калитино', 'Ульяновка', 'ЧудскойБор',\n",
       "       'Дубровка', 'Мины', 'Войсковицы', 'Коркино', 'Ропша',\n",
       "       'Приладожский', 'Щеглово', 'Гаврилово', 'ЛодейноеПоле', 'Рабитицы',\n",
       "       'Никольский', 'Кузьмолово', 'МалыеКолпаны', 'Петро-Славянка',\n",
       "       'Назия', 'Репино', 'Углово', 'СтараяМалукса', 'Меньково',\n",
       "       'СтарыеБегуницы', 'Сапёрный', 'Семрино', 'Глажево', 'Кобринское',\n",
       "       'Гарболово', 'Юкки', 'Приветнинское', 'Мануйлово', 'Пчева',\n",
       "       'Цвылёво', 'Мельниково', 'Пудость', 'Усть-Луга', 'Светогорск',\n",
       "       'Любань', 'Селезнёво', 'Каменногорск', 'Кривко', 'Глебычево',\n",
       "       'Парицы', 'Жилпосёлок', 'Войскорово', 'Стеклянный', 'Важины',\n",
       "       'Мыза-Ивановка', 'Русско-Высоцкое', 'Форносово', 'СтараяЛадога',\n",
       "       'Житково', 'Виллози', 'Лампово', 'Шпаньково', 'Лаврики', 'Сумино',\n",
       "       'Возрождение', 'Старосиверская', 'Кикерино', 'СтароеХинколово',\n",
       "       'Пригородный', 'Торфяное', 'Будогощь', 'Суходолье',\n",
       "       'КраснаяДолина', 'Хапо-Ое', 'ДружнаяГорка', 'ЛисийНос',\n",
       "       'Яльгелево', 'Рождествено', 'Старополье', 'Левашово', 'Сяськелево',\n",
       "       'Камышовка', 'ЛеснаяПоляна', 'Хязельки', 'Жилгородок', 'Ялгино',\n",
       "       'НовыйУчхоз', 'Гончарово', 'Почап', 'Сапёрное', 'Платформа',\n",
       "       'Каложицы', 'Фалилеево', 'Пельгора', 'Торошковичи', 'Белоостров',\n",
       "       'Алексеевка', 'Серебрянский', 'Лукаши', 'Тарасово',\n",
       "       'Кингисеппский', 'Ушаки', 'Котлы', 'Сижно', 'Торосово',\n",
       "       'ФортКраснаяГорка', 'Новолисино', 'Громово', 'Глинка',\n",
       "       'СтараяПустошь', 'Коммунары', 'Починок', 'Вознесенье',\n",
       "       'Разбегаево', 'Гладкое', 'Тёсово-4', 'Бор', 'Коробицыно',\n",
       "       'БольшаяВруда', 'Курковицы', 'Кобралово', 'Суоранда',\n",
       "       'Кондратьево', 'Счастье', 'Реброво', 'Тойворово', 'Семиозерье',\n",
       "       'Лесное', 'Совхозный', 'Ленинское', 'Суйда', 'НижниеОсельки',\n",
       "       'Свирь', 'Перово', 'Высоцк', 'Шум', 'Котельский', 'Лужайка',\n",
       "       'БольшаяПустомержа', 'Красносельское', 'ВахноваКара', 'Пижма',\n",
       "       'КивеннапаСевер', 'Ромашки', 'Каськово', 'Куровицы', 'Плоское',\n",
       "       'Кирпичное', 'Ям-Тесово', 'Раздолье', 'Терпилицы', 'Шугозеро',\n",
       "       'Ваганово', 'Пушное', 'Садко', 'Усть-Ижора', 'Выскатка',\n",
       "       'Свирьстрой', 'Кисельня', 'ТрубниковБор', 'Высокоключевой',\n",
       "       'ПансионатЗелёныйБор', 'Ненимяки', 'Снегирёвка', 'Рапполово',\n",
       "       'Пустынка', 'БольшойСабск', 'Русско', 'Лупполово',\n",
       "       'БольшоеРейзино', 'МалаяРомановка', 'Дружноселье', 'Пчевжа',\n",
       "       'Володарское', 'Нижняя', 'Тихковицы', 'БорисоваГрива',\n",
       "       'Дзержинского'], dtype=object)"
      ]
     },
     "execution_count": 8,
     "metadata": {},
     "output_type": "execute_result"
    }
   ],
   "source": [
    "#Приведём названия к одному виду и удалим пропуски\n",
    "bad_name = data[data['locality_name'].isnull()]\n",
    "bad_ind = bad_name.index\n",
    "print(bad_ind)\n",
    "data.drop(bad_ind, inplace=True)\n",
    "\n",
    "def short_name(row):\n",
    "    split_name = row.split()\n",
    "    new_name = []\n",
    "    for name in split_name:\n",
    "        if name[0].isupper():\n",
    "            new_name.append(name)\n",
    "    new_name = ''.join(name for name in new_name)\n",
    "    return new_name\n",
    "\n",
    "data['short_name'] = data['locality_name'].apply(short_name)\n",
    "data['short_name'].unique()"
   ]
  },
  {
   "cell_type": "code",
   "execution_count": 9,
   "metadata": {},
   "outputs": [
    {
     "name": "stdout",
     "output_type": "stream",
     "text": [
      "20264      6.0\n",
      "17442      8.0\n",
      "3474       8.0\n",
      "15743      8.0\n",
      "5863       8.3\n",
      "22309     10.3\n",
      "15061     14.0\n",
      "17496     20.0\n",
      "20507     22.6\n",
      "5076      24.0\n",
      "18545     25.0\n",
      "9379      25.0\n",
      "4643      25.0\n",
      "11285     25.0\n",
      "14382     25.0\n",
      "355       25.0\n",
      "6246      25.0\n",
      "5669      26.0\n",
      "10773     27.0\n",
      "4876      27.0\n",
      "5246      27.0\n",
      "21824     27.0\n",
      "17857     27.0\n",
      "5807      27.0\n",
      "22938     27.0\n",
      "20478     27.0\n",
      "21377     27.5\n",
      "22336     32.0\n",
      "3148      32.0\n",
      "22869    100.0\n",
      "Name: ceiling_height, dtype: float64\n"
     ]
    },
    {
     "data": {
      "text/plain": [
       "array([  2.7 ,   2.65,   3.03,   2.5 ,   2.67,   2.56,   3.05,   2.75,\n",
       "         2.6 ,   2.9 ,   2.8 ,   2.55,   3.  ,   3.2 ,   2.61,   3.25,\n",
       "         3.45,   2.77,   2.85,   2.64,   2.57,   4.15,   3.5 ,   3.3 ,\n",
       "         2.71,   4.  ,   2.47,   2.73,   2.84,   3.1 ,   2.34,   3.4 ,\n",
       "         3.06,   2.72,   2.54,   2.51,   2.78,   2.76,  25.  ,   2.58,\n",
       "         3.7 ,   2.52,   5.2 ,   2.87,   2.66,   2.59,   2.  ,   2.45,\n",
       "         3.6 ,   2.92,   3.11,   3.13,   3.8 ,   3.15,   3.55,   3.16,\n",
       "         3.62,   3.12,   2.53,   2.74,   2.96,   2.46,   5.3 ,   5.  ,\n",
       "         2.79,   2.95,   4.06,   2.94,   3.82,   3.54,   3.53,   2.83,\n",
       "         4.7 ,   2.4 ,   3.38,   3.01,   5.6 ,   3.65,   3.9 ,   3.18,\n",
       "         3.35,   2.3 ,   3.57,   2.48,   2.62,   2.82,   3.98,   2.63,\n",
       "         3.83,   3.52,   3.95,   3.75,   2.88,   3.67,   3.87,   3.66,\n",
       "         3.85,   3.86,   4.19,   3.24,   4.8 ,   4.5 ,   4.2 ,   3.36,\n",
       "        32.  ,   3.08,   3.68,   3.07,   3.37,   3.09,   8.  ,   3.26,\n",
       "         3.34,   2.81,   3.44,   2.97,   3.14,   4.37,   2.68,   3.22,\n",
       "         3.27,  27.  ,   4.1 ,   2.93,   3.46,  24.  ,   3.47,   3.33,\n",
       "         3.63,   3.32,  26.  ,   1.2 ,   8.3 ,   2.98,   2.86,   3.17,\n",
       "         4.4 ,   3.28,   3.04,   4.45,   5.5 ,   3.84,   3.23,   3.02,\n",
       "         3.21,   3.43,   3.78,   4.3 ,   3.39,   2.69,   3.31,   4.65,\n",
       "         3.56,   2.2 ,   3.51,   3.93,   3.42,   2.99,   3.49,  14.  ,\n",
       "         4.14,   2.91,   3.88,   1.75,   4.25,   3.29,  20.  ,   2.25,\n",
       "         3.76,   3.69,   6.  ,  22.6 ,   2.89,   3.58,   5.8 ,  27.5 ,\n",
       "         2.49,   4.9 ,   3.48,  10.3 ,   1.  , 100.  ,   3.59])"
      ]
     },
     "execution_count": 9,
     "metadata": {},
     "output_type": "execute_result"
    }
   ],
   "source": [
    "#Посмотрим уникальные значения столбца ceiling_height и выведем 30 последних значений\n",
    "print(data['ceiling_height'].sort_values().tail(30))\n",
    "data['ceiling_height'].unique()"
   ]
  },
  {
   "cell_type": "markdown",
   "metadata": {},
   "source": [
    "Большие значения могли появиться из-за человеческого фактора. Продавец поставил запятую не там, где надо, и, вот у него в квартире уже 20-ти метровые потолки. А вот высота потолка в 8 метров непонятно откуда взялась, проблема явно не в запятой, лучше заменим все большие значения на более реальные"
   ]
  },
  {
   "cell_type": "code",
   "execution_count": 10,
   "metadata": {},
   "outputs": [
    {
     "data": {
      "text/plain": [
       "array([2.7, 2.6, 3. , 2.5, 2.8, 2.9, 3.2, 3.4, 4.2, 3.5, 3.3, 4. , 3.1,\n",
       "       2.3, 4.5, 3.7, 2. , 2.4, 3.6, 3.8, 4.1, 3.9, 4.4, 1.2, 4.3, 2.2,\n",
       "       1.8, 1. ])"
      ]
     },
     "execution_count": 10,
     "metadata": {},
     "output_type": "execute_result"
    }
   ],
   "source": [
    "#Предположим, что 4-х метровые потолки действительно есть, в старых домах такая высота вполне может быть, а вот больше - вряд ли\n",
    "#Сначала округлим значения до 1 знака после запятой\n",
    "data['ceiling_height'] = data['ceiling_height'].round(1)\n",
    "#Проверим преобразование\n",
    "data['ceiling_height'].unique()\n",
    "#Заменим значения больше 4.5 метров на 4.5\n",
    "row = data['ceiling_height'] > 4.5\n",
    "data.loc[row, ['ceiling_height']] = 4.5\n",
    "\n",
    "#Проверим результат        \n",
    "data['ceiling_height'].unique()"
   ]
  },
  {
   "cell_type": "markdown",
   "metadata": {},
   "source": [
    "Уникальных значений стало намного меньше, с ними будет проще работать дальше. Все неправдоподобные значения были переделаны в нормальные"
   ]
  },
  {
   "cell_type": "code",
   "execution_count": 11,
   "metadata": {},
   "outputs": [
    {
     "name": "stdout",
     "output_type": "stream",
     "text": [
      "21085       0.0\n",
      "4017     6450.0\n",
      "12899    6450.0\n",
      "7778     6914.0\n",
      "23150    6949.0\n",
      "Name: airports_nearest, dtype: float64\n",
      "13694    181.0\n",
      "1182     208.0\n",
      "8614     215.0\n",
      "1934     287.0\n",
      "20873    291.0\n",
      "Name: cityCenters_nearest, dtype: float64\n",
      "1632     1.0\n",
      "16212    2.0\n",
      "13061    2.0\n",
      "16053    2.0\n",
      "23116    3.0\n",
      "Name: days_exposition, dtype: float64\n",
      "23698    1\n",
      "15814    1\n",
      "15803    1\n",
      "15794    1\n",
      "15767    1\n",
      "Name: floor, dtype: int64\n",
      "21603    1\n",
      "19590    1\n",
      "4379     1\n",
      "10817    1\n",
      "17020    1\n",
      "Name: floors_total, dtype: int32\n",
      "20217    1.3\n",
      "21419    2.0\n",
      "906      2.0\n",
      "16367    2.0\n",
      "19642    2.0\n",
      "Name: kitchen_area, dtype: float64\n",
      "8793      12190.0\n",
      "17456    430000.0\n",
      "14911    430000.0\n",
      "16274    440000.0\n",
      "17676    450000.0\n",
      "Name: last_price, dtype: float64\n",
      "13915    2.0\n",
      "21758    2.0\n",
      "23574    3.0\n",
      "3242     3.0\n",
      "17582    5.0\n",
      "Name: living_area, dtype: float64\n",
      "23698    0\n",
      "11158    0\n",
      "11159    0\n",
      "11160    0\n",
      "11162    0\n",
      "Name: parks_around3000, dtype: int32\n",
      "14624    1.0\n",
      "11949    3.0\n",
      "22941    4.0\n",
      "9344     7.0\n",
      "20193    9.0\n",
      "Name: parks_nearest, dtype: float64\n",
      "23698    0\n",
      "21856    0\n",
      "12521    0\n",
      "21855    0\n",
      "12523    0\n",
      "Name: ponds_around3000, dtype: int32\n",
      "1548     13.0\n",
      "17585    13.0\n",
      "8785     16.0\n",
      "9311     16.0\n",
      "20427    16.0\n",
      "Name: ponds_nearest, dtype: float64\n",
      "12130    0\n",
      "19477    0\n",
      "10008    0\n",
      "780      0\n",
      "7237     0\n",
      "Name: rooms, dtype: int64\n",
      "19904    12.0\n",
      "19807    13.0\n",
      "17961    13.0\n",
      "19546    13.0\n",
      "19558    13.2\n",
      "Name: total_area, dtype: float64\n",
      "23407    0\n",
      "12718    0\n",
      "8235     0\n",
      "952      0\n",
      "8232     0\n",
      "Name: total_images, dtype: int64\n"
     ]
    }
   ],
   "source": [
    "#Проверим, нет ли отрицательных знаений в столбцах airports_nearest, cityCenters_nearest, days_exposition, floor, floors_total,\n",
    "#kitchen_area, last_price, living_area, parks_around3000, parks_nearest, ponds_around3000, ponds_nearest, rooms, total_area, total_images\n",
    "#for airports_nearest, cityCenters_nearest, days_exposition, floor, floors_total, kitchen_area, last_price, living_area, parks_around3000, parks_nearest, ponds_around3000, ponds_nearest, rooms, total_area, total_images in data:\n",
    "    \n",
    "\n",
    "print(data['airports_nearest'].sort_values().head())\n",
    "print(data['cityCenters_nearest'].sort_values().head())\n",
    "print(data['days_exposition'].sort_values().head())\n",
    "print(data['floor'].sort_values().head())\n",
    "print(data['floors_total'].sort_values().head())\n",
    "print(data['kitchen_area'].sort_values().head())\n",
    "print(data['last_price'].sort_values().head())\n",
    "print(data['living_area'].sort_values().head())\n",
    "print(data['parks_around3000'].sort_values().head())\n",
    "print(data['parks_nearest'].sort_values().head())\n",
    "print(data['ponds_around3000'].sort_values().head())\n",
    "print(data['ponds_nearest'].sort_values().head())\n",
    "print(data['rooms'].sort_values().head())\n",
    "print(data['total_area'].sort_values().head())\n",
    "print(data['total_images'].sort_values().head())"
   ]
  },
  {
   "cell_type": "markdown",
   "metadata": {},
   "source": [
    "Отрицательных значений нет, работаем дальше. \n",
    "Вызывает сомнение существование одноэтажного дома, но всё возможно.\n",
    "В столбцах living_area и rooms есть аномальные значения, скорее всего они вызваны тем, что квартира является студией. Ведь у неё нет комнат и жилая площадь может быть маленькой (например, все метры ушли на кухню). Также имеет место быть вариант продажи доли."
   ]
  },
  {
   "cell_type": "code",
   "execution_count": 12,
   "metadata": {},
   "outputs": [
    {
     "data": {
      "text/plain": [
       "0"
      ]
     },
     "execution_count": 12,
     "metadata": {},
     "output_type": "execute_result"
    }
   ],
   "source": [
    "#Посмотрим наличие дубликатов в датафрейме\n",
    "data.duplicated().sum()"
   ]
  },
  {
   "cell_type": "code",
   "execution_count": 13,
   "metadata": {
    "scrolled": true
   },
   "outputs": [
    {
     "name": "stdout",
     "output_type": "stream",
     "text": [
      "<class 'pandas.core.frame.DataFrame'>\n",
      "Int64Index: 23650 entries, 0 to 23698\n",
      "Data columns (total 23 columns):\n",
      " #   Column                Non-Null Count  Dtype         \n",
      "---  ------                --------------  -----         \n",
      " 0   total_images          23650 non-null  int64         \n",
      " 1   last_price            23650 non-null  float64       \n",
      " 2   total_area            23650 non-null  float64       \n",
      " 3   first_day_exposition  23650 non-null  datetime64[ns]\n",
      " 4   rooms                 23650 non-null  int64         \n",
      " 5   ceiling_height        23650 non-null  float64       \n",
      " 6   floors_total          23650 non-null  int32         \n",
      " 7   living_area           21752 non-null  float64       \n",
      " 8   floor                 23650 non-null  int64         \n",
      " 9   is_apartment          23650 non-null  bool          \n",
      " 10  studio                23650 non-null  bool          \n",
      " 11  open_plan             23650 non-null  bool          \n",
      " 12  kitchen_area          21381 non-null  float64       \n",
      " 13  balcony               23650 non-null  int32         \n",
      " 14  locality_name         23650 non-null  object        \n",
      " 15  airports_nearest      18116 non-null  float64       \n",
      " 16  cityCenters_nearest   18139 non-null  float64       \n",
      " 17  parks_around3000      23650 non-null  int32         \n",
      " 18  parks_nearest         8064 non-null   float64       \n",
      " 19  ponds_around3000      23650 non-null  int32         \n",
      " 20  ponds_nearest         9085 non-null   float64       \n",
      " 21  days_exposition       20470 non-null  float64       \n",
      " 22  short_name            23650 non-null  object        \n",
      "dtypes: bool(3), datetime64[ns](1), float64(10), int32(4), int64(3), object(2)\n",
      "memory usage: 3.5+ MB\n"
     ]
    },
    {
     "data": {
      "text/html": [
       "<div>\n",
       "<style scoped>\n",
       "    .dataframe tbody tr th:only-of-type {\n",
       "        vertical-align: middle;\n",
       "    }\n",
       "\n",
       "    .dataframe tbody tr th {\n",
       "        vertical-align: top;\n",
       "    }\n",
       "\n",
       "    .dataframe thead th {\n",
       "        text-align: right;\n",
       "    }\n",
       "</style>\n",
       "<table border=\"1\" class=\"dataframe\">\n",
       "  <thead>\n",
       "    <tr style=\"text-align: right;\">\n",
       "      <th></th>\n",
       "      <th>total_images</th>\n",
       "      <th>last_price</th>\n",
       "      <th>total_area</th>\n",
       "      <th>rooms</th>\n",
       "      <th>ceiling_height</th>\n",
       "      <th>floors_total</th>\n",
       "      <th>living_area</th>\n",
       "      <th>floor</th>\n",
       "      <th>kitchen_area</th>\n",
       "      <th>balcony</th>\n",
       "      <th>airports_nearest</th>\n",
       "      <th>cityCenters_nearest</th>\n",
       "      <th>parks_around3000</th>\n",
       "      <th>parks_nearest</th>\n",
       "      <th>ponds_around3000</th>\n",
       "      <th>ponds_nearest</th>\n",
       "      <th>days_exposition</th>\n",
       "    </tr>\n",
       "  </thead>\n",
       "  <tbody>\n",
       "    <tr>\n",
       "      <th>count</th>\n",
       "      <td>23650.000000</td>\n",
       "      <td>2.365000e+04</td>\n",
       "      <td>23650.000000</td>\n",
       "      <td>23650.000000</td>\n",
       "      <td>23650.000000</td>\n",
       "      <td>23650.000000</td>\n",
       "      <td>21752.000000</td>\n",
       "      <td>23650.000000</td>\n",
       "      <td>21381.000000</td>\n",
       "      <td>23650.000000</td>\n",
       "      <td>18116.000000</td>\n",
       "      <td>18139.000000</td>\n",
       "      <td>23650.000000</td>\n",
       "      <td>8064.000000</td>\n",
       "      <td>23650.000000</td>\n",
       "      <td>9085.000000</td>\n",
       "      <td>20470.000000</td>\n",
       "    </tr>\n",
       "    <tr>\n",
       "      <th>mean</th>\n",
       "      <td>9.862326</td>\n",
       "      <td>6.541127e+06</td>\n",
       "      <td>60.329069</td>\n",
       "      <td>2.070106</td>\n",
       "      <td>2.681725</td>\n",
       "      <td>10.673784</td>\n",
       "      <td>34.448356</td>\n",
       "      <td>5.893277</td>\n",
       "      <td>10.566403</td>\n",
       "      <td>0.591712</td>\n",
       "      <td>28803.225878</td>\n",
       "      <td>14197.860742</td>\n",
       "      <td>0.469091</td>\n",
       "      <td>490.830729</td>\n",
       "      <td>0.590359</td>\n",
       "      <td>518.059879</td>\n",
       "      <td>180.753200</td>\n",
       "    </tr>\n",
       "    <tr>\n",
       "      <th>std</th>\n",
       "      <td>5.682278</td>\n",
       "      <td>1.089640e+07</td>\n",
       "      <td>35.661808</td>\n",
       "      <td>1.078620</td>\n",
       "      <td>0.232606</td>\n",
       "      <td>6.593455</td>\n",
       "      <td>22.037664</td>\n",
       "      <td>4.883317</td>\n",
       "      <td>5.901753</td>\n",
       "      <td>0.959662</td>\n",
       "      <td>12637.314144</td>\n",
       "      <td>8606.830295</td>\n",
       "      <td>0.748458</td>\n",
       "      <td>342.554386</td>\n",
       "      <td>0.883539</td>\n",
       "      <td>277.841733</td>\n",
       "      <td>219.777916</td>\n",
       "    </tr>\n",
       "    <tr>\n",
       "      <th>min</th>\n",
       "      <td>0.000000</td>\n",
       "      <td>1.219000e+04</td>\n",
       "      <td>12.000000</td>\n",
       "      <td>0.000000</td>\n",
       "      <td>1.000000</td>\n",
       "      <td>1.000000</td>\n",
       "      <td>2.000000</td>\n",
       "      <td>1.000000</td>\n",
       "      <td>1.300000</td>\n",
       "      <td>0.000000</td>\n",
       "      <td>0.000000</td>\n",
       "      <td>181.000000</td>\n",
       "      <td>0.000000</td>\n",
       "      <td>1.000000</td>\n",
       "      <td>0.000000</td>\n",
       "      <td>13.000000</td>\n",
       "      <td>1.000000</td>\n",
       "    </tr>\n",
       "    <tr>\n",
       "      <th>25%</th>\n",
       "      <td>6.000000</td>\n",
       "      <td>3.400000e+06</td>\n",
       "      <td>40.000000</td>\n",
       "      <td>1.000000</td>\n",
       "      <td>2.600000</td>\n",
       "      <td>5.000000</td>\n",
       "      <td>18.600000</td>\n",
       "      <td>2.000000</td>\n",
       "      <td>7.000000</td>\n",
       "      <td>0.000000</td>\n",
       "      <td>18575.750000</td>\n",
       "      <td>9241.000000</td>\n",
       "      <td>0.000000</td>\n",
       "      <td>288.000000</td>\n",
       "      <td>0.000000</td>\n",
       "      <td>293.000000</td>\n",
       "      <td>45.000000</td>\n",
       "    </tr>\n",
       "    <tr>\n",
       "      <th>50%</th>\n",
       "      <td>9.000000</td>\n",
       "      <td>4.650000e+06</td>\n",
       "      <td>52.000000</td>\n",
       "      <td>2.000000</td>\n",
       "      <td>2.600000</td>\n",
       "      <td>9.000000</td>\n",
       "      <td>30.000000</td>\n",
       "      <td>4.000000</td>\n",
       "      <td>9.100000</td>\n",
       "      <td>0.000000</td>\n",
       "      <td>26756.500000</td>\n",
       "      <td>13105.000000</td>\n",
       "      <td>0.000000</td>\n",
       "      <td>454.500000</td>\n",
       "      <td>0.000000</td>\n",
       "      <td>502.000000</td>\n",
       "      <td>95.000000</td>\n",
       "    </tr>\n",
       "    <tr>\n",
       "      <th>75%</th>\n",
       "      <td>14.000000</td>\n",
       "      <td>6.799000e+06</td>\n",
       "      <td>69.700000</td>\n",
       "      <td>3.000000</td>\n",
       "      <td>2.700000</td>\n",
       "      <td>16.000000</td>\n",
       "      <td>42.300000</td>\n",
       "      <td>8.000000</td>\n",
       "      <td>12.000000</td>\n",
       "      <td>1.000000</td>\n",
       "      <td>37294.000000</td>\n",
       "      <td>16293.000000</td>\n",
       "      <td>1.000000</td>\n",
       "      <td>612.000000</td>\n",
       "      <td>1.000000</td>\n",
       "      <td>730.000000</td>\n",
       "      <td>231.000000</td>\n",
       "    </tr>\n",
       "    <tr>\n",
       "      <th>max</th>\n",
       "      <td>50.000000</td>\n",
       "      <td>7.630000e+08</td>\n",
       "      <td>900.000000</td>\n",
       "      <td>19.000000</td>\n",
       "      <td>4.500000</td>\n",
       "      <td>60.000000</td>\n",
       "      <td>409.700000</td>\n",
       "      <td>33.000000</td>\n",
       "      <td>112.000000</td>\n",
       "      <td>5.000000</td>\n",
       "      <td>84869.000000</td>\n",
       "      <td>65968.000000</td>\n",
       "      <td>3.000000</td>\n",
       "      <td>3190.000000</td>\n",
       "      <td>3.000000</td>\n",
       "      <td>1344.000000</td>\n",
       "      <td>1580.000000</td>\n",
       "    </tr>\n",
       "  </tbody>\n",
       "</table>\n",
       "</div>"
      ],
      "text/plain": [
       "       total_images    last_price    total_area         rooms  ceiling_height  \\\n",
       "count  23650.000000  2.365000e+04  23650.000000  23650.000000    23650.000000   \n",
       "mean       9.862326  6.541127e+06     60.329069      2.070106        2.681725   \n",
       "std        5.682278  1.089640e+07     35.661808      1.078620        0.232606   \n",
       "min        0.000000  1.219000e+04     12.000000      0.000000        1.000000   \n",
       "25%        6.000000  3.400000e+06     40.000000      1.000000        2.600000   \n",
       "50%        9.000000  4.650000e+06     52.000000      2.000000        2.600000   \n",
       "75%       14.000000  6.799000e+06     69.700000      3.000000        2.700000   \n",
       "max       50.000000  7.630000e+08    900.000000     19.000000        4.500000   \n",
       "\n",
       "       floors_total   living_area         floor  kitchen_area       balcony  \\\n",
       "count  23650.000000  21752.000000  23650.000000  21381.000000  23650.000000   \n",
       "mean      10.673784     34.448356      5.893277     10.566403      0.591712   \n",
       "std        6.593455     22.037664      4.883317      5.901753      0.959662   \n",
       "min        1.000000      2.000000      1.000000      1.300000      0.000000   \n",
       "25%        5.000000     18.600000      2.000000      7.000000      0.000000   \n",
       "50%        9.000000     30.000000      4.000000      9.100000      0.000000   \n",
       "75%       16.000000     42.300000      8.000000     12.000000      1.000000   \n",
       "max       60.000000    409.700000     33.000000    112.000000      5.000000   \n",
       "\n",
       "       airports_nearest  cityCenters_nearest  parks_around3000  parks_nearest  \\\n",
       "count      18116.000000         18139.000000      23650.000000    8064.000000   \n",
       "mean       28803.225878         14197.860742          0.469091     490.830729   \n",
       "std        12637.314144          8606.830295          0.748458     342.554386   \n",
       "min            0.000000           181.000000          0.000000       1.000000   \n",
       "25%        18575.750000          9241.000000          0.000000     288.000000   \n",
       "50%        26756.500000         13105.000000          0.000000     454.500000   \n",
       "75%        37294.000000         16293.000000          1.000000     612.000000   \n",
       "max        84869.000000         65968.000000          3.000000    3190.000000   \n",
       "\n",
       "       ponds_around3000  ponds_nearest  days_exposition  \n",
       "count      23650.000000    9085.000000     20470.000000  \n",
       "mean           0.590359     518.059879       180.753200  \n",
       "std            0.883539     277.841733       219.777916  \n",
       "min            0.000000      13.000000         1.000000  \n",
       "25%            0.000000     293.000000        45.000000  \n",
       "50%            0.000000     502.000000        95.000000  \n",
       "75%            1.000000     730.000000       231.000000  \n",
       "max            3.000000    1344.000000      1580.000000  "
      ]
     },
     "execution_count": 13,
     "metadata": {},
     "output_type": "execute_result"
    }
   ],
   "source": [
    "#Выведем общую информацию датафрейма\n",
    "data.info()\n",
    "data.describe()"
   ]
  },
  {
   "cell_type": "code",
   "execution_count": 14,
   "metadata": {},
   "outputs": [
    {
     "data": {
      "text/plain": [
       "0    13000000\n",
       "1     3350000\n",
       "2     5196000\n",
       "3    64900000\n",
       "4    10000000\n",
       "Name: last_price, dtype: int32"
      ]
     },
     "execution_count": 14,
     "metadata": {},
     "output_type": "execute_result"
    }
   ],
   "source": [
    "#Заменим тип данных в столбце last_price на целочисленный\n",
    "data['last_price'] = data['last_price'].astype('int')\n",
    "#Проверим результат\n",
    "data['last_price'].head()"
   ]
  },
  {
   "cell_type": "markdown",
   "metadata": {},
   "source": [
    "**Вывод:**\n",
    "Данные обработаны насколько возможно. \n",
    "* Пропуски заменены подходящими по логике значениями\n",
    "* Навания населённых пунктов приведены в нормальный вид\n",
    "* Изменены типы данных\n"
   ]
  },
  {
   "cell_type": "markdown",
   "metadata": {},
   "source": [
    "### Посчитайте и добавьте в таблицу новые столбцы"
   ]
  },
  {
   "cell_type": "code",
   "execution_count": 15,
   "metadata": {},
   "outputs": [
    {
     "name": "stdout",
     "output_type": "stream",
     "text": [
      "0        120370\n",
      "1         82920\n",
      "2         92785\n",
      "3        408176\n",
      "4        100000\n",
      "          ...  \n",
      "23694     72490\n",
      "23695     52542\n",
      "23696     44091\n",
      "23697    149511\n",
      "23698     41795\n",
      "Name: one_met_price, Length: 23650, dtype: int32\n"
     ]
    }
   ],
   "source": [
    "#Добавим столбец с ценой квадратного метра и приведём столбец к типу int\n",
    "data['one_met_price'] = data['last_price'] / data['total_area']\n",
    "data['one_met_price'] = data['one_met_price'].astype(int)\n",
    "#Проверим результат\n",
    "print(data['one_met_price'])"
   ]
  },
  {
   "cell_type": "code",
   "execution_count": 16,
   "metadata": {},
   "outputs": [
    {
     "name": "stdout",
     "output_type": "stream",
     "text": [
      "0        3\n",
      "1        1\n",
      "2        3\n",
      "3        4\n",
      "4        1\n",
      "        ..\n",
      "23694    1\n",
      "23695    0\n",
      "23696    6\n",
      "23697    1\n",
      "23698    4\n",
      "Name: weekday, Length: 23650, dtype: int64\n"
     ]
    }
   ],
   "source": [
    "#Добавим столбец с днём недели публикации объявления\n",
    "data['weekday'] = data['first_day_exposition'].dt.weekday\n",
    "#Проверим результат\n",
    "print(data['weekday'])"
   ]
  },
  {
   "cell_type": "code",
   "execution_count": 17,
   "metadata": {},
   "outputs": [
    {
     "name": "stdout",
     "output_type": "stream",
     "text": [
      "0         3\n",
      "1        12\n",
      "2         8\n",
      "3         7\n",
      "4         6\n",
      "         ..\n",
      "23694     3\n",
      "23695     1\n",
      "23696     2\n",
      "23697     3\n",
      "23698     7\n",
      "Name: month, Length: 23650, dtype: int64\n"
     ]
    }
   ],
   "source": [
    "#Добавим столбец с месяцем публикации объявления и проверим результат\n",
    "data['month'] = data['first_day_exposition'].dt.month\n",
    "print(data['month'])"
   ]
  },
  {
   "cell_type": "code",
   "execution_count": 18,
   "metadata": {},
   "outputs": [
    {
     "name": "stdout",
     "output_type": "stream",
     "text": [
      "0        2019\n",
      "1        2018\n",
      "2        2015\n",
      "3        2015\n",
      "4        2018\n",
      "         ... \n",
      "23694    2017\n",
      "23695    2018\n",
      "23696    2018\n",
      "23697    2017\n",
      "23698    2017\n",
      "Name: year, Length: 23650, dtype: int64\n"
     ]
    }
   ],
   "source": [
    "#Добавим год публикации объявления и проверим результат\n",
    "data['year'] = data['first_day_exposition'].dt.year\n",
    "print(data['year'])"
   ]
  },
  {
   "cell_type": "code",
   "execution_count": 19,
   "metadata": {},
   "outputs": [
    {
     "name": "stdout",
     "output_type": "stream",
     "text": [
      "0        другой\n",
      "1        первый\n",
      "2        другой\n",
      "3        другой\n",
      "4        другой\n",
      "          ...  \n",
      "23694    другой\n",
      "23695    другой\n",
      "23696    первый\n",
      "23697    другой\n",
      "23698    первый\n",
      "Name: floor_category, Length: 23650, dtype: object\n"
     ]
    }
   ],
   "source": [
    "#Напишем функцию категориации этажей и добавим столбец\n",
    "def floor_cat(row):\n",
    "    floors_total = row['floors_total']\n",
    "    floor = row['floor']\n",
    "    if floor == 1:\n",
    "        return 'первый'\n",
    "    elif floor == floors_total:\n",
    "        return 'последний'\n",
    "    elif 1 < floor < floors_total:\n",
    "        return 'другой'\n",
    "    \n",
    "data['floor_category'] = data.apply(floor_cat, axis=1)\n",
    "#Посмотрим на результат\n",
    "print(data['floor_category'])"
   ]
  },
  {
   "cell_type": "code",
   "execution_count": 20,
   "metadata": {},
   "outputs": [
    {
     "name": "stdout",
     "output_type": "stream",
     "text": [
      "0        16.0\n",
      "1        19.0\n",
      "2        14.0\n",
      "3         7.0\n",
      "4         8.0\n",
      "         ... \n",
      "23694     4.0\n",
      "23695     NaN\n",
      "23696     NaN\n",
      "23697    10.0\n",
      "23698     NaN\n",
      "Name: center_distance, Length: 23650, dtype: float64\n"
     ]
    }
   ],
   "source": [
    "#Добавим столбец с расстоянием до центра города в километрах\n",
    "data['center_distance'] = data['cityCenters_nearest'] / 1000\n",
    "#Округлим до целых значений\n",
    "data['center_distance'] = data['center_distance'].round()\n",
    "#Проверим результат\n",
    "print(data['center_distance'])"
   ]
  },
  {
   "cell_type": "markdown",
   "metadata": {},
   "source": [
    "**Вывод:**\n",
    "Столбцы добавлены, данных для анализа стало больше"
   ]
  },
  {
   "cell_type": "markdown",
   "metadata": {},
   "source": [
    "### Проведите исследовательский анализ данных"
   ]
  },
  {
   "cell_type": "code",
   "execution_count": 21,
   "metadata": {},
   "outputs": [
    {
     "data": {
      "text/plain": [
       "count    23650.000000\n",
       "mean        60.329069\n",
       "std         35.661808\n",
       "min         12.000000\n",
       "25%         40.000000\n",
       "50%         52.000000\n",
       "75%         69.700000\n",
       "max        900.000000\n",
       "Name: total_area, dtype: float64"
      ]
     },
     "execution_count": 21,
     "metadata": {},
     "output_type": "execute_result"
    },
    {
     "data": {
      "image/png": "[encoded data removed]",
      "text/plain": [
       "<Figure size 500x300 with 1 Axes>"
      ]
     },
     "metadata": {},
     "output_type": "display_data"
    }
   ],
   "source": [
    "#Построим гистограмму для изучения общей площади и выведем данные столбца\n",
    "data.plot(y='total_area', kind='hist', bins=100, grid=True, figsize=(5, 3), range=(12, 150))\n",
    "data['total_area'].describe()"
   ]
  },
  {
   "cell_type": "markdown",
   "metadata": {},
   "source": [
    "**Вывод:** Самое пиковое значение на гистограмме у квартир с площадью 45 квадратных метров. Много квартир с площадью от 30 до 45 метров квадратных. Также есть довольно объёмный участок от 45 до 60 квадратных метров. Потом плотность идёт на спад. У гистограммы есть хвост справа. В данных есть выбросы, но на среднее они не особо влияют."
   ]
  },
  {
   "cell_type": "code",
   "execution_count": 22,
   "metadata": {},
   "outputs": [
    {
     "data": {
      "text/plain": [
       "count    21752.000000\n",
       "mean        34.448356\n",
       "std         22.037664\n",
       "min          2.000000\n",
       "25%         18.600000\n",
       "50%         30.000000\n",
       "75%         42.300000\n",
       "max        409.700000\n",
       "Name: living_area, dtype: float64"
      ]
     },
     "execution_count": 22,
     "metadata": {},
     "output_type": "execute_result"
    },
    {
     "data": {
      "image/png": "[encoded data removed]",
      "text/plain": [
       "<Figure size 500x300 with 1 Axes>"
      ]
     },
     "metadata": {},
     "output_type": "display_data"
    }
   ],
   "source": [
    "#Построим гистограмму для изучения жилой площади и выведем данные столбца\n",
    "data.plot(y='living_area', kind='hist', bins=100, grid=True, figsize=(5, 3), range=(0, 100))\n",
    "data['living_area'].describe()"
   ]
  },
  {
   "cell_type": "markdown",
   "metadata": {},
   "source": [
    "**Вывод:** Самое пиковое значение у жилой площади на отметке 17 кв. метров. Значения в основном распределяются от 14 до 50 кв. метров. Между этими значениями есть участок, в котором отражено мало значений. Квартир с жилой площадью от 21 о 25 кв. метров на рынке немного. Далее плотность идёт на спад. У гистограммы есть длинный хвост справа. Это говорит о том,что квартир с жилой площадью больше 55 кв. метров очень мало."
   ]
  },
  {
   "cell_type": "code",
   "execution_count": 23,
   "metadata": {},
   "outputs": [
    {
     "data": {
      "text/plain": [
       "count    21381.000000\n",
       "mean        10.566403\n",
       "std          5.901753\n",
       "min          1.300000\n",
       "25%          7.000000\n",
       "50%          9.100000\n",
       "75%         12.000000\n",
       "max        112.000000\n",
       "Name: kitchen_area, dtype: float64"
      ]
     },
     "execution_count": 23,
     "metadata": {},
     "output_type": "execute_result"
    },
    {
     "data": {
      "image/png": "[encoded data removed]",
      "text/plain": [
       "<Figure size 500x300 with 1 Axes>"
      ]
     },
     "metadata": {},
     "output_type": "display_data"
    }
   ],
   "source": [
    "#Построим гистограмму для изучения площади кухни и выведем данные столбца\n",
    "data.plot(y='kitchen_area', kind='hist', bins=100, grid=True, figsize=(5, 3), range=(0, 60))\n",
    "data['kitchen_area'].describe()"
   ]
  },
  {
   "cell_type": "markdown",
   "metadata": {},
   "source": [
    "**Вывод:** Основная масса значений располагается в диапазоне от 5 до 15 кв. метров. Больше всего квартир с кухней 7 кв. метров. У гистограммы есть хвост справа, показывающий, что кухонь с метражом больше 15 кв. метров очень мало."
   ]
  },
  {
   "cell_type": "code",
   "execution_count": 24,
   "metadata": {},
   "outputs": [
    {
     "data": {
      "text/plain": [
       "count    2.365000e+04\n",
       "mean     6.541127e+06\n",
       "std      1.089640e+07\n",
       "min      1.219000e+04\n",
       "25%      3.400000e+06\n",
       "50%      4.650000e+06\n",
       "75%      6.799000e+06\n",
       "max      7.630000e+08\n",
       "Name: last_price, dtype: float64"
      ]
     },
     "execution_count": 24,
     "metadata": {},
     "output_type": "execute_result"
    },
    {
     "data": {
      "image/png": "[encoded data removed]",
      "text/plain": [
       "<Figure size 500x300 with 1 Axes>"
      ]
     },
     "metadata": {},
     "output_type": "display_data"
    }
   ],
   "source": [
    "#Построим гистограмму для изучения цены объекта и выведем данные столбца\n",
    "data.plot(y='last_price', kind='hist', bins=100, grid=True, figsize=(5, 3), range=(0, 15000000))\n",
    "data['last_price'].describe()"
   ]
  },
  {
   "cell_type": "markdown",
   "metadata": {},
   "source": [
    "**Вывод:** Гистограмма имеет вид пирамиды с небольшим хвостом справа. Наибольшее количество квартир продаётся за 4 млн.р. Квартиры в основном продаются в диапазоне от 2 млн. р. до 6.5 млн.р. Мало квартир продаётся дороже, чем 7 млн.р."
   ]
  },
  {
   "cell_type": "code",
   "execution_count": 25,
   "metadata": {},
   "outputs": [
    {
     "data": {
      "text/plain": [
       "count    23650.000000\n",
       "mean         2.070106\n",
       "std          1.078620\n",
       "min          0.000000\n",
       "25%          1.000000\n",
       "50%          2.000000\n",
       "75%          3.000000\n",
       "max         19.000000\n",
       "Name: rooms, dtype: float64"
      ]
     },
     "execution_count": 25,
     "metadata": {},
     "output_type": "execute_result"
    },
    {
     "data": {
      "image/png": "[encoded data removed]",
      "text/plain": [
       "<Figure size 500x300 with 1 Axes>"
      ]
     },
     "metadata": {},
     "output_type": "display_data"
    }
   ],
   "source": [
    "#Построим гистограмму для изучения количества комнат и выведем данные столбца\n",
    "data.plot(y='rooms', kind='hist', bins=25, grid=True, figsize=(5, 3), range=(0, 10))\n",
    "data['rooms'].describe()"
   ]
  },
  {
   "cell_type": "markdown",
   "metadata": {},
   "source": [
    "**Вывод:** В данных есть выбросы, но на среднее это не влияет. На рынке больше всего однокомнатных и двухкомнатных квартир. Потом оидут трёхкомнатные. Четырёхкомнатных совсем мало и редко когда встречаются квартиры с пятью или больше комнатами. Студий тоже довольно мало."
   ]
  },
  {
   "cell_type": "code",
   "execution_count": 26,
   "metadata": {},
   "outputs": [
    {
     "data": {
      "text/plain": [
       "count    23650.000000\n",
       "mean         2.681725\n",
       "std          0.232606\n",
       "min          1.000000\n",
       "25%          2.600000\n",
       "50%          2.600000\n",
       "75%          2.700000\n",
       "max          4.500000\n",
       "Name: ceiling_height, dtype: float64"
      ]
     },
     "execution_count": 26,
     "metadata": {},
     "output_type": "execute_result"
    },
    {
     "data": {
      "image/png": "[encoded data removed]",
      "text/plain": [
       "<Figure size 500x300 with 1 Axes>"
      ]
     },
     "metadata": {},
     "output_type": "display_data"
    }
   ],
   "source": [
    "#Построим гистограмму для изучения высоты потолков и выведем данные столбца\n",
    "data.plot(y='ceiling_height', kind='hist', bins=10, grid=True, figsize=(5, 3), range=(2.5, 3.5))\n",
    "data['ceiling_height'].describe()"
   ]
  },
  {
   "cell_type": "markdown",
   "metadata": {},
   "source": [
    "**Вывод:** В основном на рынке у квартир потолки от 2.6 до 2.7 метров. Редко встречаются потолки ниже 2.6 метров и совсем реко выше 2.7 метров."
   ]
  },
  {
   "cell_type": "code",
   "execution_count": 27,
   "metadata": {},
   "outputs": [
    {
     "data": {
      "text/plain": [
       "count    23650.000000\n",
       "mean         5.893277\n",
       "std          4.883317\n",
       "min          1.000000\n",
       "25%          2.000000\n",
       "50%          4.000000\n",
       "75%          8.000000\n",
       "max         33.000000\n",
       "Name: floor, dtype: float64"
      ]
     },
     "execution_count": 27,
     "metadata": {},
     "output_type": "execute_result"
    },
    {
     "data": {
      "image/png": "[encoded data removed]",
      "text/plain": [
       "<Figure size 500x300 with 1 Axes>"
      ]
     },
     "metadata": {},
     "output_type": "display_data"
    }
   ],
   "source": [
    "#Построим гистограмму для изучения этажа квартиры и выведем данные столбца\n",
    "data.plot(y='floor', kind='hist', bins=50, grid=True, figsize=(5, 3), range=(1, 30))\n",
    "data['floor'].describe()"
   ]
  },
  {
   "cell_type": "markdown",
   "metadata": {},
   "source": [
    "**Вывод:** Большая часть квартир находится в промежутке от 1 до 5 этажа. Потом количество квартир идёт на спад. Выше 12 этажа продаётся мало квартир. Возможно, квартиры во многоэтажках продаются реже."
   ]
  },
  {
   "cell_type": "code",
   "execution_count": 28,
   "metadata": {},
   "outputs": [
    {
     "data": {
      "text/plain": [
       "count      23650\n",
       "unique         3\n",
       "top       другой\n",
       "freq       17326\n",
       "Name: floor_category, dtype: object"
      ]
     },
     "execution_count": 28,
     "metadata": {},
     "output_type": "execute_result"
    },
    {
     "data": {
      "image/png": "[encoded data removed]",
      "text/plain": [
       "<Figure size 500x300 with 1 Axes>"
      ]
     },
     "metadata": {},
     "output_type": "display_data"
    }
   ],
   "source": [
    "#Построим гистограмму для изучения типа этажа квартиры и выведем данные столбца\n",
    "data['floor_category'].hist(bins=5, grid=True, figsize=(5, 3))\n",
    "data['floor_category'].describe()"
   ]
  },
  {
   "cell_type": "markdown",
   "metadata": {},
   "source": [
    "**Вывод:** Меньше всего квартир продаются на 1 этаже. Неалеко ушли картиры на последнем этаже. Чаще всего продатся квартиры в середине дома."
   ]
  },
  {
   "cell_type": "code",
   "execution_count": 29,
   "metadata": {},
   "outputs": [
    {
     "data": {
      "text/plain": [
       "count    23650.000000\n",
       "mean        10.673784\n",
       "std          6.593455\n",
       "min          1.000000\n",
       "25%          5.000000\n",
       "50%          9.000000\n",
       "75%         16.000000\n",
       "max         60.000000\n",
       "Name: floors_total, dtype: float64"
      ]
     },
     "execution_count": 29,
     "metadata": {},
     "output_type": "execute_result"
    },
    {
     "data": {
      "image/png": "[encoded data removed]",
      "text/plain": [
       "<Figure size 500x300 with 1 Axes>"
      ]
     },
     "metadata": {},
     "output_type": "display_data"
    }
   ],
   "source": [
    "#Построим гистограмму для изучения общего количества этажей в доме и выведем данные столбца\n",
    "data.plot(y='floors_total', kind='hist', bins=50, grid=True, figsize=(5, 3), range=(1, 30))\n",
    "data['floors_total'].describe()"
   ]
  },
  {
   "cell_type": "markdown",
   "metadata": {},
   "source": [
    "**Вывод:** На рынке больше всего квартир продаётся в пятиэтажных домах. Можно предположить, что пятиэтажек построено намного больше, чем домов с другим количеством этажей. Недалеко от них ушли девятиэтажные дома, их тоже довольно много. Домов с другим количеством этажей не так много. Среди них выделяются 4-х, 10-ти, 12-ти, 16-ти и 25-ти этажные дома. Если рассматривать их отдельно от пятиэтажек и девятиэтажек, то квартир на продажу в тех домах примерно равное количество."
   ]
  },
  {
   "cell_type": "code",
   "execution_count": 30,
   "metadata": {},
   "outputs": [
    {
     "data": {
      "text/plain": [
       "count    18139.000000\n",
       "mean     14197.860742\n",
       "std       8606.830295\n",
       "min        181.000000\n",
       "25%       9241.000000\n",
       "50%      13105.000000\n",
       "75%      16293.000000\n",
       "max      65968.000000\n",
       "Name: cityCenters_nearest, dtype: float64"
      ]
     },
     "execution_count": 30,
     "metadata": {},
     "output_type": "execute_result"
    },
    {
     "data": {
      "image/png": "[encoded data removed]",
      "text/plain": [
       "<Figure size 500x300 with 1 Axes>"
      ]
     },
     "metadata": {},
     "output_type": "display_data"
    }
   ],
   "source": [
    "#Построим гистограмму для изучения расстояния до центра города в метрах и выведем данные столбца\n",
    "data.plot(y='cityCenters_nearest', kind='hist', bins=50, grid=True, figsize=(5, 3), range=(0, 30000))\n",
    "data['cityCenters_nearest'].describe()"
   ]
  },
  {
   "cell_type": "markdown",
   "metadata": {},
   "source": [
    "**Вывод:** Большинство квартир находится на расстоянии от 8000 до 17000 м от центра. Есть довольно внушительное количество квартир, расположенных на расстоянии от 4000 до 6000 м от центра. В остальных диапазонах квартир не так много."
   ]
  },
  {
   "cell_type": "code",
   "execution_count": 31,
   "metadata": {},
   "outputs": [
    {
     "data": {
      "text/plain": [
       "count    18116.000000\n",
       "mean     28803.225878\n",
       "std      12637.314144\n",
       "min          0.000000\n",
       "25%      18575.750000\n",
       "50%      26756.500000\n",
       "75%      37294.000000\n",
       "max      84869.000000\n",
       "Name: airports_nearest, dtype: float64"
      ]
     },
     "execution_count": 31,
     "metadata": {},
     "output_type": "execute_result"
    },
    {
     "data": {
      "image/png": "[encoded data removed]",
      "text/plain": [
       "<Figure size 500x300 with 1 Axes>"
      ]
     },
     "metadata": {},
     "output_type": "display_data"
    }
   ],
   "source": [
    "#Построим гистограмму для изучения расстояния до ближайшего аэропорта и выведем данные столбца\n",
    "data.plot(y='airports_nearest', kind='hist', bins=50, grid=True, figsize=(5, 3), range=(5000, 70000))\n",
    "data['airports_nearest'].describe()"
   ]
  },
  {
   "cell_type": "markdown",
   "metadata": {},
   "source": [
    "**Вывод:** В основном продаваемые квартиры находятся в диапазоне от 10000 до 55000 м до аэропорта. До 10000м расположено мало квартир. Начиная с 55000м идёт хвост, которы означает, что есть квартиры, находящиеся длеко от аэропорта, но их не так много. Больше всего квартир находятся на расстоянии в 20000м от аэропорта."
   ]
  },
  {
   "cell_type": "code",
   "execution_count": 32,
   "metadata": {},
   "outputs": [
    {
     "data": {
      "text/plain": [
       "count    8064.000000\n",
       "mean      490.830729\n",
       "std       342.554386\n",
       "min         1.000000\n",
       "25%       288.000000\n",
       "50%       454.500000\n",
       "75%       612.000000\n",
       "max      3190.000000\n",
       "Name: parks_nearest, dtype: float64"
      ]
     },
     "execution_count": 32,
     "metadata": {},
     "output_type": "execute_result"
    },
    {
     "data": {
      "image/png": "[encoded data removed]",
      "text/plain": [
       "<Figure size 500x300 with 1 Axes>"
      ]
     },
     "metadata": {},
     "output_type": "display_data"
    }
   ],
   "source": [
    "#Построим гистограмму для изучения расстояния до ближайшего парка и выведем данные столбца\n",
    "data.plot(y='parks_nearest', kind='hist', bins=50, grid=True, figsize=(5, 3), range=(0, 5000))\n",
    "data['parks_nearest'].describe()"
   ]
  },
  {
   "cell_type": "markdown",
   "metadata": {},
   "source": [
    "**Вывод:** В данных очень много пропусков по этому столбцу, поэтому гистограмма может быть неточной. По имеющимся данным видно, что у большинства квартир парк находится на расстоянии в 500м. В основном парки удалены от квартир не дальше, чем на 900 метров. С удалённостью парков больше 1000м не так много квартир."
   ]
  },
  {
   "cell_type": "code",
   "execution_count": 33,
   "metadata": {},
   "outputs": [
    {
     "data": {
      "text/plain": [
       "count    23650.000000\n",
       "mean         2.568710\n",
       "std          1.788808\n",
       "min          0.000000\n",
       "25%          1.000000\n",
       "50%          3.000000\n",
       "75%          4.000000\n",
       "max          6.000000\n",
       "Name: weekday, dtype: float64"
      ]
     },
     "execution_count": 33,
     "metadata": {},
     "output_type": "execute_result"
    },
    {
     "data": {
      "image/png": "[encoded data removed]",
      "text/plain": [
       "<Figure size 500x300 with 1 Axes>"
      ]
     },
     "metadata": {},
     "output_type": "display_data"
    }
   ],
   "source": [
    "#Построим гистограмму для изучения дня публикации объявления и выведем данные столбца\n",
    "data.plot(y='weekday', kind='hist', bins=50, grid=True, figsize=(5, 3), range=(0, 6))\n",
    "data['weekday'].describe()"
   ]
  },
  {
   "cell_type": "markdown",
   "metadata": {},
   "source": [
    "**Вывод:** Преимущественно публикуются объявления в будние дни. В выходные публикуется почти в два раа меньше объявлений, чем в первые дни. В четверг подано больше всего объявлений, хоть разница с другими днями и не такая большая."
   ]
  },
  {
   "cell_type": "code",
   "execution_count": 34,
   "metadata": {},
   "outputs": [
    {
     "data": {
      "text/plain": [
       "count    23650.000000\n",
       "mean         6.401564\n",
       "std          3.491418\n",
       "min          1.000000\n",
       "25%          3.000000\n",
       "50%          6.000000\n",
       "75%         10.000000\n",
       "max         12.000000\n",
       "Name: month, dtype: float64"
      ]
     },
     "execution_count": 34,
     "metadata": {},
     "output_type": "execute_result"
    },
    {
     "data": {
      "image/png": "[encoded data removed]",
      "text/plain": [
       "<Figure size 500x300 with 1 Axes>"
      ]
     },
     "metadata": {},
     "output_type": "display_data"
    }
   ],
   "source": [
    "#Построим гистограмму для изучения месяца публикации объявления и выведем данные столбца\n",
    "data.plot(y='month', kind='hist', bins=50, grid=True, figsize=(5, 3), range=(1, 12))\n",
    "data['month'].describe()"
   ]
  },
  {
   "cell_type": "markdown",
   "metadata": {},
   "source": [
    "**Вывод:** Больше всего публикаций было в феврале, марте, апреле и ноябре. Меньше всего публикаций было в мае."
   ]
  },
  {
   "cell_type": "code",
   "execution_count": 35,
   "metadata": {},
   "outputs": [
    {
     "name": "stdout",
     "output_type": "stream",
     "text": [
      "Среднее значение равно: 180.7531998045921\n",
      "Медиана равна: 95.0\n"
     ]
    },
    {
     "data": {
      "image/png": "[encoded data removed]",
      "text/plain": [
       "<Figure size 500x300 with 1 Axes>"
      ]
     },
     "metadata": {},
     "output_type": "display_data"
    }
   ],
   "source": [
    "#Изучим, как быстро продавались квартиры\n",
    "#Построим гистограмму по столбцу days_exposition\n",
    "data.plot(y='days_exposition', kind='hist', bins=100, grid=True, figsize=(5, 3), range=(1, 300))\n",
    "#Посчитаем среднее и медиану\n",
    "print('Среднее значение равно:', data['days_exposition'].mean())\n",
    "print('Медиана равна:', data['days_exposition'].median())"
   ]
  },
  {
   "cell_type": "markdown",
   "metadata": {},
   "source": [
    "**Вывод:** Самое пиковое значение у отметки в 45 дней. Чуть поменьше - 60 дней. Некоторые объекты продаются более 300 дней, но тут нужно учесть, что некоторые объявления забывают снимать с публикации после продажи, и объявление так и висит многие месяцы. Среднее время продажи составляет 180 дней. Медианное - 95 дней. Судя по гистограмме быстрыми продажами можно посчитать диапазон от 1 до 60 дней. Долгими - диапазон от 200 и выше. Следует отметить, что на сайте Яндекс.Недвижимость объявления автоматически акрываются каждые 45 и 60 дней, что искажает данные. Можно было бы их удалить, но тогда могут потеряться данные о реальной продаже в эти дни."
   ]
  },
  {
   "cell_type": "code",
   "execution_count": 36,
   "metadata": {},
   "outputs": [
    {
     "name": "stdout",
     "output_type": "stream",
     "text": [
      "0.6537428966335399\n"
     ]
    },
    {
     "data": {
      "image/png": "[encoded data removed]",
      "text/plain": [
       "<Figure size 640x480 with 1 Axes>"
      ]
     },
     "metadata": {},
     "output_type": "display_data"
    }
   ],
   "source": [
    "#Изучим зависимость полной стоимости от общей площади\n",
    "total_area_pt = data.pivot_table(index='total_area', values='last_price', aggfunc=['mean', 'count', 'median'])\n",
    "total_area_pt.columns = ['mean', 'count', 'median']\n",
    "total_area_pt.plot(y='median', style='o')\n",
    "total_area_pt.sort_values('median', ascending=False)\n",
    "\n",
    "print(data['total_area'].corr(data['last_price']))"
   ]
  },
  {
   "cell_type": "markdown",
   "metadata": {},
   "source": [
    "**Вывод:** Цена ощутимо зависит от общей площади. Корреляция Пирсона равна 0.6. Это доказывает, что чем больше площадь квартиры, тем выше цена за эту квартиру."
   ]
  },
  {
   "cell_type": "code",
   "execution_count": 37,
   "metadata": {},
   "outputs": [
    {
     "name": "stdout",
     "output_type": "stream",
     "text": [
      "0.5665168840375518\n"
     ]
    },
    {
     "data": {
      "image/png": "[encoded data removed]",
      "text/plain": [
       "<Figure size 640x480 with 1 Axes>"
      ]
     },
     "metadata": {},
     "output_type": "display_data"
    }
   ],
   "source": [
    "#Изучим зависимость стоимости от жилой площади\n",
    "living_area_pt = data.pivot_table(index='living_area', values='last_price', aggfunc=['mean', 'count', 'median'])\n",
    "living_area_pt.columns = ['mean', 'count', 'median']\n",
    "living_area_pt.plot(y='median', style='o')\n",
    "living_area_pt.sort_values('median', ascending=False)\n",
    "\n",
    "print(data['living_area'].corr(data['last_price']))"
   ]
  },
  {
   "cell_type": "markdown",
   "metadata": {},
   "source": [
    "**Вывод:** Корреляция Пирсона равна 0.5. Значит, метраж жилой площади влияет на общую стоимость квартиры. Чем больше площадь, тем больше стоимость квартиры."
   ]
  },
  {
   "cell_type": "code",
   "execution_count": 38,
   "metadata": {},
   "outputs": [
    {
     "name": "stdout",
     "output_type": "stream",
     "text": [
      "0.5202330465436195\n"
     ]
    },
    {
     "data": {
      "image/png": "[encoded data removed]",
      "text/plain": [
       "<Figure size 640x480 with 1 Axes>"
      ]
     },
     "metadata": {},
     "output_type": "display_data"
    }
   ],
   "source": [
    "#Изучим зависимость стоимости от площади кухни\n",
    "kitchen_area_pt = data.pivot_table(index='kitchen_area', values='last_price', aggfunc=['mean', 'count', 'median'])\n",
    "kitchen_area_pt.columns = ['mean', 'count', 'median']\n",
    "kitchen_area_pt.plot(y='median', style='o')\n",
    "kitchen_area_pt.sort_values('median', ascending=False)\n",
    "\n",
    "print(data['kitchen_area'].corr(data['last_price']))"
   ]
  },
  {
   "cell_type": "markdown",
   "metadata": {},
   "source": [
    "**Вывод:** Корреляция Пирсона составляет также 0.5. Зависимость стоимости есть, чем выше метраж кухни, тем выше стоимость квартиры. Хотя из графика видно, что это единичные случаи. Больше всего скопление в диапазоне от 0 до 55 кв. метров. И цена там не сильно различается."
   ]
  },
  {
   "cell_type": "code",
   "execution_count": 39,
   "metadata": {},
   "outputs": [
    {
     "data": {
      "text/plain": [
       "0.36342062218770665"
      ]
     },
     "execution_count": 39,
     "metadata": {},
     "output_type": "execute_result"
    },
    {
     "data": {
      "image/png": "[encoded data removed]",
      "text/plain": [
       "<Figure size 640x480 with 1 Axes>"
      ]
     },
     "metadata": {},
     "output_type": "display_data"
    }
   ],
   "source": [
    "#Изучим зависимость стоимости от количества комнат\n",
    "rooms_pt = data.pivot_table(index = 'rooms', values = 'last_price', aggfunc = ['mean', 'count', 'median'])\n",
    "rooms_pt.columns = ['mean', 'count', 'median']\n",
    "rooms_pt.query('count > 50').plot(y = 'median')\n",
    "\n",
    "rooms_pt.query('count > 50').sort_values('median', ascending = False)\n",
    "\n",
    "data['rooms'].corr(data['last_price'])"
   ]
  },
  {
   "cell_type": "markdown",
   "metadata": {},
   "source": [
    "**Вывод:** Зависимость есть. С увеличением числа комнат, стоимость квартиры растёт."
   ]
  },
  {
   "cell_type": "code",
   "execution_count": 40,
   "metadata": {},
   "outputs": [
    {
     "data": {
      "text/html": [
       "<div>\n",
       "<style scoped>\n",
       "    .dataframe tbody tr th:only-of-type {\n",
       "        vertical-align: middle;\n",
       "    }\n",
       "\n",
       "    .dataframe tbody tr th {\n",
       "        vertical-align: top;\n",
       "    }\n",
       "\n",
       "    .dataframe thead th {\n",
       "        text-align: right;\n",
       "    }\n",
       "</style>\n",
       "<table border=\"1\" class=\"dataframe\">\n",
       "  <thead>\n",
       "    <tr style=\"text-align: right;\">\n",
       "      <th></th>\n",
       "      <th>mean</th>\n",
       "      <th>count</th>\n",
       "      <th>median</th>\n",
       "    </tr>\n",
       "    <tr>\n",
       "      <th>floor_category</th>\n",
       "      <th></th>\n",
       "      <th></th>\n",
       "      <th></th>\n",
       "    </tr>\n",
       "  </thead>\n",
       "  <tbody>\n",
       "    <tr>\n",
       "      <th>другой</th>\n",
       "      <td>6.674349e+06</td>\n",
       "      <td>17326</td>\n",
       "      <td>4848500</td>\n",
       "    </tr>\n",
       "    <tr>\n",
       "      <th>первый</th>\n",
       "      <td>4.800465e+06</td>\n",
       "      <td>2912</td>\n",
       "      <td>3900000</td>\n",
       "    </tr>\n",
       "    <tr>\n",
       "      <th>последний</th>\n",
       "      <td>7.350214e+06</td>\n",
       "      <td>3412</td>\n",
       "      <td>4350000</td>\n",
       "    </tr>\n",
       "  </tbody>\n",
       "</table>\n",
       "</div>"
      ],
      "text/plain": [
       "                        mean  count   median\n",
       "floor_category                              \n",
       "другой          6.674349e+06  17326  4848500\n",
       "первый          4.800465e+06   2912  3900000\n",
       "последний       7.350214e+06   3412  4350000"
      ]
     },
     "execution_count": 40,
     "metadata": {},
     "output_type": "execute_result"
    },
    {
     "data": {
      "image/png": "[encoded data removed]",
      "text/plain": [
       "<Figure size 640x480 with 1 Axes>"
      ]
     },
     "metadata": {},
     "output_type": "display_data"
    }
   ],
   "source": [
    "#Изучим зависимость стоимости от этажа, на котором расположена квартира (первый, последний, другой)\n",
    "floor_category_pt = data.pivot_table(index = 'floor_category', values = 'last_price', aggfunc = ['mean', 'count', 'median'])\n",
    "floor_category_pt.columns = ['mean', 'count', 'median']\n",
    "floor_category_pt.plot(y = 'median')\n",
    "floor_category_pt"
   ]
  },
  {
   "cell_type": "markdown",
   "metadata": {},
   "source": [
    "**Вывод:** Из графика видно, что у квартир, расположенных на первом этаже, самая низкая цена. Самая высокая - у квартир, расположенных между первым и последним этажами. Цена на квартиры на посленем этаже не намного меньше цены на квартиры в середине дома. Цена зависит от этажа, если это первый или последний, осальные этажи будут примерно в одной ценовой категории."
   ]
  },
  {
   "cell_type": "code",
   "execution_count": 41,
   "metadata": {},
   "outputs": [
    {
     "data": {
      "text/html": [
       "<div>\n",
       "<style scoped>\n",
       "    .dataframe tbody tr th:only-of-type {\n",
       "        vertical-align: middle;\n",
       "    }\n",
       "\n",
       "    .dataframe tbody tr th {\n",
       "        vertical-align: top;\n",
       "    }\n",
       "\n",
       "    .dataframe thead th {\n",
       "        text-align: right;\n",
       "    }\n",
       "</style>\n",
       "<table border=\"1\" class=\"dataframe\">\n",
       "  <thead>\n",
       "    <tr style=\"text-align: right;\">\n",
       "      <th></th>\n",
       "      <th>mean</th>\n",
       "      <th>count</th>\n",
       "      <th>median</th>\n",
       "    </tr>\n",
       "    <tr>\n",
       "      <th>weekday</th>\n",
       "      <th></th>\n",
       "      <th></th>\n",
       "      <th></th>\n",
       "    </tr>\n",
       "  </thead>\n",
       "  <tbody>\n",
       "    <tr>\n",
       "      <th>1</th>\n",
       "      <td>6.393782e+06</td>\n",
       "      <td>4175</td>\n",
       "      <td>4720000</td>\n",
       "    </tr>\n",
       "    <tr>\n",
       "      <th>2</th>\n",
       "      <td>6.626416e+06</td>\n",
       "      <td>3966</td>\n",
       "      <td>4700000</td>\n",
       "    </tr>\n",
       "    <tr>\n",
       "      <th>0</th>\n",
       "      <td>6.510815e+06</td>\n",
       "      <td>3606</td>\n",
       "      <td>4650000</td>\n",
       "    </tr>\n",
       "    <tr>\n",
       "      <th>3</th>\n",
       "      <td>6.711767e+06</td>\n",
       "      <td>4286</td>\n",
       "      <td>4650000</td>\n",
       "    </tr>\n",
       "    <tr>\n",
       "      <th>4</th>\n",
       "      <td>6.364605e+06</td>\n",
       "      <td>3992</td>\n",
       "      <td>4577500</td>\n",
       "    </tr>\n",
       "    <tr>\n",
       "      <th>5</th>\n",
       "      <td>6.982510e+06</td>\n",
       "      <td>1933</td>\n",
       "      <td>4575000</td>\n",
       "    </tr>\n",
       "    <tr>\n",
       "      <th>6</th>\n",
       "      <td>6.249360e+06</td>\n",
       "      <td>1692</td>\n",
       "      <td>4550000</td>\n",
       "    </tr>\n",
       "  </tbody>\n",
       "</table>\n",
       "</div>"
      ],
      "text/plain": [
       "                 mean  count   median\n",
       "weekday                              \n",
       "1        6.393782e+06   4175  4720000\n",
       "2        6.626416e+06   3966  4700000\n",
       "0        6.510815e+06   3606  4650000\n",
       "3        6.711767e+06   4286  4650000\n",
       "4        6.364605e+06   3992  4577500\n",
       "5        6.982510e+06   1933  4575000\n",
       "6        6.249360e+06   1692  4550000"
      ]
     },
     "execution_count": 41,
     "metadata": {},
     "output_type": "execute_result"
    },
    {
     "data": {
      "image/png": "[encoded data removed]",
      "text/plain": [
       "<Figure size 640x480 with 1 Axes>"
      ]
     },
     "metadata": {},
     "output_type": "display_data"
    }
   ],
   "source": [
    "#Изучим зависимость стоимости от дня размещения\n",
    "weekday_pt = data.pivot_table(index = 'weekday', values = 'last_price', aggfunc = ['mean', 'count', 'median'])\n",
    "weekday_pt.columns = ['mean', 'count', 'median']\n",
    "weekday_pt.plot(y = 'median')\n",
    "\n",
    "weekday_pt.sort_values('median', ascending = False)"
   ]
  },
  {
   "cell_type": "markdown",
   "metadata": {},
   "source": [
    "**Вывод:** Из графика можно сделать вывод, что цена зависит от дня размещения объявления. Во вторник публикуются самые дорогие объявления. К концу недели цена на квартиры идёт на спад. В воскресенье устанавливается самая низкая цена. Хотя разница между самой высокой и самой низкой ценой не такая большая. Это связано с тем, что в выходные публикуется почти в два раза меньше объявлений. "
   ]
  },
  {
   "cell_type": "code",
   "execution_count": 42,
   "metadata": {},
   "outputs": [
    {
     "data": {
      "text/html": [
       "<div>\n",
       "<style scoped>\n",
       "    .dataframe tbody tr th:only-of-type {\n",
       "        vertical-align: middle;\n",
       "    }\n",
       "\n",
       "    .dataframe tbody tr th {\n",
       "        vertical-align: top;\n",
       "    }\n",
       "\n",
       "    .dataframe thead th {\n",
       "        text-align: right;\n",
       "    }\n",
       "</style>\n",
       "<table border=\"1\" class=\"dataframe\">\n",
       "  <thead>\n",
       "    <tr style=\"text-align: right;\">\n",
       "      <th></th>\n",
       "      <th>mean</th>\n",
       "      <th>count</th>\n",
       "      <th>median</th>\n",
       "    </tr>\n",
       "    <tr>\n",
       "      <th>month</th>\n",
       "      <th></th>\n",
       "      <th></th>\n",
       "      <th></th>\n",
       "    </tr>\n",
       "  </thead>\n",
       "  <tbody>\n",
       "    <tr>\n",
       "      <th>4</th>\n",
       "      <td>6.742671e+06</td>\n",
       "      <td>2373</td>\n",
       "      <td>4800000</td>\n",
       "    </tr>\n",
       "    <tr>\n",
       "      <th>9</th>\n",
       "      <td>6.828471e+06</td>\n",
       "      <td>1979</td>\n",
       "      <td>4700000</td>\n",
       "    </tr>\n",
       "    <tr>\n",
       "      <th>11</th>\n",
       "      <td>6.461458e+06</td>\n",
       "      <td>2367</td>\n",
       "      <td>4700000</td>\n",
       "    </tr>\n",
       "    <tr>\n",
       "      <th>12</th>\n",
       "      <td>7.005343e+06</td>\n",
       "      <td>1638</td>\n",
       "      <td>4695000</td>\n",
       "    </tr>\n",
       "    <tr>\n",
       "      <th>2</th>\n",
       "      <td>6.464463e+06</td>\n",
       "      <td>2639</td>\n",
       "      <td>4650000</td>\n",
       "    </tr>\n",
       "    <tr>\n",
       "      <th>3</th>\n",
       "      <td>6.362919e+06</td>\n",
       "      <td>2582</td>\n",
       "      <td>4650000</td>\n",
       "    </tr>\n",
       "    <tr>\n",
       "      <th>7</th>\n",
       "      <td>6.641336e+06</td>\n",
       "      <td>1690</td>\n",
       "      <td>4650000</td>\n",
       "    </tr>\n",
       "    <tr>\n",
       "      <th>1</th>\n",
       "      <td>6.666975e+06</td>\n",
       "      <td>1491</td>\n",
       "      <td>4600000</td>\n",
       "    </tr>\n",
       "    <tr>\n",
       "      <th>8</th>\n",
       "      <td>6.352839e+06</td>\n",
       "      <td>1742</td>\n",
       "      <td>4570000</td>\n",
       "    </tr>\n",
       "    <tr>\n",
       "      <th>10</th>\n",
       "      <td>6.235166e+06</td>\n",
       "      <td>2124</td>\n",
       "      <td>4560000</td>\n",
       "    </tr>\n",
       "    <tr>\n",
       "      <th>5</th>\n",
       "      <td>6.594777e+06</td>\n",
       "      <td>1270</td>\n",
       "      <td>4500000</td>\n",
       "    </tr>\n",
       "    <tr>\n",
       "      <th>6</th>\n",
       "      <td>6.311184e+06</td>\n",
       "      <td>1755</td>\n",
       "      <td>4400000</td>\n",
       "    </tr>\n",
       "  </tbody>\n",
       "</table>\n",
       "</div>"
      ],
      "text/plain": [
       "               mean  count   median\n",
       "month                              \n",
       "4      6.742671e+06   2373  4800000\n",
       "9      6.828471e+06   1979  4700000\n",
       "11     6.461458e+06   2367  4700000\n",
       "12     7.005343e+06   1638  4695000\n",
       "2      6.464463e+06   2639  4650000\n",
       "3      6.362919e+06   2582  4650000\n",
       "7      6.641336e+06   1690  4650000\n",
       "1      6.666975e+06   1491  4600000\n",
       "8      6.352839e+06   1742  4570000\n",
       "10     6.235166e+06   2124  4560000\n",
       "5      6.594777e+06   1270  4500000\n",
       "6      6.311184e+06   1755  4400000"
      ]
     },
     "execution_count": 42,
     "metadata": {},
     "output_type": "execute_result"
    },
    {
     "data": {
      "image/png": "[encoded data removed]",
      "text/plain": [
       "<Figure size 640x480 with 1 Axes>"
      ]
     },
     "metadata": {},
     "output_type": "display_data"
    }
   ],
   "source": [
    "#Изучим зависимость стоимости от месяца размещения\n",
    "month_pt = data.pivot_table(index = 'month', values = 'last_price', aggfunc = ['mean', 'count', 'median'])\n",
    "month_pt.columns = ['mean', 'count', 'median']\n",
    "month_pt.plot(y = 'median')\n",
    "\n",
    "month_pt.sort_values('median', ascending = False)"
   ]
  },
  {
   "cell_type": "markdown",
   "metadata": {},
   "source": [
    "**Вывод:** Самая высокая цена у объявлений, опубликованных в апреле, самая низкая - в июне. С начала года до апреля цена растёт, потом происходит падение. Возможно это связано с началом летнего сезона. Потом цена находится примерно в одном диапазоне. Повышается в нечётные месяцы, понижается в чётные."
   ]
  },
  {
   "cell_type": "code",
   "execution_count": 43,
   "metadata": {},
   "outputs": [
    {
     "data": {
      "text/html": [
       "<div>\n",
       "<style scoped>\n",
       "    .dataframe tbody tr th:only-of-type {\n",
       "        vertical-align: middle;\n",
       "    }\n",
       "\n",
       "    .dataframe tbody tr th {\n",
       "        vertical-align: top;\n",
       "    }\n",
       "\n",
       "    .dataframe thead th {\n",
       "        text-align: right;\n",
       "    }\n",
       "</style>\n",
       "<table border=\"1\" class=\"dataframe\">\n",
       "  <thead>\n",
       "    <tr style=\"text-align: right;\">\n",
       "      <th></th>\n",
       "      <th>mean</th>\n",
       "      <th>count</th>\n",
       "      <th>median</th>\n",
       "    </tr>\n",
       "    <tr>\n",
       "      <th>year</th>\n",
       "      <th></th>\n",
       "      <th></th>\n",
       "      <th></th>\n",
       "    </tr>\n",
       "  </thead>\n",
       "  <tbody>\n",
       "    <tr>\n",
       "      <th>2014</th>\n",
       "      <td>1.204660e+07</td>\n",
       "      <td>136</td>\n",
       "      <td>7640000</td>\n",
       "    </tr>\n",
       "    <tr>\n",
       "      <th>2015</th>\n",
       "      <td>8.592727e+06</td>\n",
       "      <td>1173</td>\n",
       "      <td>5350000</td>\n",
       "    </tr>\n",
       "    <tr>\n",
       "      <th>2019</th>\n",
       "      <td>6.782388e+06</td>\n",
       "      <td>2879</td>\n",
       "      <td>5050000</td>\n",
       "    </tr>\n",
       "    <tr>\n",
       "      <th>2016</th>\n",
       "      <td>6.829415e+06</td>\n",
       "      <td>2765</td>\n",
       "      <td>4550000</td>\n",
       "    </tr>\n",
       "    <tr>\n",
       "      <th>2018</th>\n",
       "      <td>5.952216e+06</td>\n",
       "      <td>8512</td>\n",
       "      <td>4550000</td>\n",
       "    </tr>\n",
       "    <tr>\n",
       "      <th>2017</th>\n",
       "      <td>6.585822e+06</td>\n",
       "      <td>8185</td>\n",
       "      <td>4500000</td>\n",
       "    </tr>\n",
       "  </tbody>\n",
       "</table>\n",
       "</div>"
      ],
      "text/plain": [
       "              mean  count   median\n",
       "year                              \n",
       "2014  1.204660e+07    136  7640000\n",
       "2015  8.592727e+06   1173  5350000\n",
       "2019  6.782388e+06   2879  5050000\n",
       "2016  6.829415e+06   2765  4550000\n",
       "2018  5.952216e+06   8512  4550000\n",
       "2017  6.585822e+06   8185  4500000"
      ]
     },
     "execution_count": 43,
     "metadata": {},
     "output_type": "execute_result"
    },
    {
     "data": {
      "image/png": "[encoded data removed]",
      "text/plain": [
       "<Figure size 640x480 with 1 Axes>"
      ]
     },
     "metadata": {},
     "output_type": "display_data"
    }
   ],
   "source": [
    "#Изучим зависимость стоимости от года размещения\n",
    "year_pt = data.pivot_table(index = 'year', values = 'last_price', aggfunc = ['mean', 'count', 'median'])\n",
    "year_pt.columns = ['mean', 'count', 'median']\n",
    "year_pt.plot(y = 'median')\n",
    "\n",
    "year_pt.sort_values('median', ascending = False)"
   ]
  },
  {
   "cell_type": "markdown",
   "metadata": {},
   "source": [
    "**Вывод:** В 2014 году было подано меньше всего объявлений, этот год мы не будем учитывать. В 2017 и 2018 году было больше всего объявлений(8000 против 2000 в остальные годы), но медианная цена у них меньше всего. В 2016 году подано 2000 объявлений, а медианная цена совпадает с 2018 годом. Самая высокая цена была в 2015 и 2019 годах. И этого можно сделать вывод, что год подачи объявления влияет на цену, а точнее мировая обстановка на это влияет."
   ]
  },
  {
   "cell_type": "code",
   "execution_count": 44,
   "metadata": {},
   "outputs": [
    {
     "data": {
      "text/html": [
       "<div>\n",
       "<style scoped>\n",
       "    .dataframe tbody tr th:only-of-type {\n",
       "        vertical-align: middle;\n",
       "    }\n",
       "\n",
       "    .dataframe tbody tr th {\n",
       "        vertical-align: top;\n",
       "    }\n",
       "\n",
       "    .dataframe thead th {\n",
       "        text-align: right;\n",
       "    }\n",
       "</style>\n",
       "<table border=\"1\" class=\"dataframe\">\n",
       "  <thead>\n",
       "    <tr style=\"text-align: right;\">\n",
       "      <th></th>\n",
       "      <th>mean</th>\n",
       "      <th>count</th>\n",
       "      <th>median</th>\n",
       "    </tr>\n",
       "    <tr>\n",
       "      <th>year</th>\n",
       "      <th></th>\n",
       "      <th></th>\n",
       "      <th></th>\n",
       "    </tr>\n",
       "  </thead>\n",
       "  <tbody>\n",
       "    <tr>\n",
       "      <th>2014</th>\n",
       "      <td>86.225956</td>\n",
       "      <td>136</td>\n",
       "      <td>76.18</td>\n",
       "    </tr>\n",
       "    <tr>\n",
       "      <th>2015</th>\n",
       "      <td>71.569923</td>\n",
       "      <td>1173</td>\n",
       "      <td>60.00</td>\n",
       "    </tr>\n",
       "    <tr>\n",
       "      <th>2016</th>\n",
       "      <td>62.143852</td>\n",
       "      <td>2765</td>\n",
       "      <td>53.02</td>\n",
       "    </tr>\n",
       "    <tr>\n",
       "      <th>2017</th>\n",
       "      <td>60.746788</td>\n",
       "      <td>8185</td>\n",
       "      <td>52.00</td>\n",
       "    </tr>\n",
       "    <tr>\n",
       "      <th>2019</th>\n",
       "      <td>59.467864</td>\n",
       "      <td>2879</td>\n",
       "      <td>52.00</td>\n",
       "    </tr>\n",
       "    <tr>\n",
       "      <th>2018</th>\n",
       "      <td>57.666359</td>\n",
       "      <td>8512</td>\n",
       "      <td>50.50</td>\n",
       "    </tr>\n",
       "  </tbody>\n",
       "</table>\n",
       "</div>"
      ],
      "text/plain": [
       "           mean  count  median\n",
       "year                          \n",
       "2014  86.225956    136   76.18\n",
       "2015  71.569923   1173   60.00\n",
       "2016  62.143852   2765   53.02\n",
       "2017  60.746788   8185   52.00\n",
       "2019  59.467864   2879   52.00\n",
       "2018  57.666359   8512   50.50"
      ]
     },
     "execution_count": 44,
     "metadata": {},
     "output_type": "execute_result"
    },
    {
     "data": {
      "image/png": "[encoded data removed]",
      "text/plain": [
       "<Figure size 640x480 with 1 Axes>"
      ]
     },
     "metadata": {},
     "output_type": "display_data"
    }
   ],
   "source": [
    "#Изучим зависимость площади от года подачи объявления\n",
    "area_pt = data.pivot_table(index = 'year', values = 'total_area', aggfunc = ['mean', 'count', 'median'])\n",
    "area_pt.columns = ['mean', 'count', 'median']\n",
    "area_pt.plot(y = 'median')\n",
    "\n",
    "area_pt.sort_values('median', ascending = False)"
   ]
  },
  {
   "cell_type": "markdown",
   "metadata": {},
   "source": [
    "**Вывод:** С каждым годом площадь продаваемых квартир уменьшалась, только в 2019 году немного подросла по сравнени с предыущим годом. А так так цена зависит от площади, то и стоимость объектов снижалась соответственно. Зависимости цены от года нет, всё идёт от площади объектов."
   ]
  },
  {
   "cell_type": "code",
   "execution_count": 45,
   "metadata": {},
   "outputs": [
    {
     "name": "stdout",
     "output_type": "stream",
     "text": [
      "                   count           mean\n",
      "locality_name                          \n",
      "Санкт-Петербург    15721  114848.565231\n",
      "посёлок Мурино       522   85751.733716\n",
      "посёлок Шушары       440   78676.904545\n",
      "Всеволожск           398   68654.007538\n",
      "Пушкин               369  103125.373984\n",
      "Колпино              338   75424.150888\n",
      "посёлок Парголово    327   90175.489297\n",
      "Гатчина              307   68745.693811\n",
      "деревня Кудрово      299   92473.086957\n",
      "Выборг               237   58141.489451\n"
     ]
    },
    {
     "data": {
      "text/html": [
       "<div>\n",
       "<style scoped>\n",
       "    .dataframe tbody tr th:only-of-type {\n",
       "        vertical-align: middle;\n",
       "    }\n",
       "\n",
       "    .dataframe tbody tr th {\n",
       "        vertical-align: top;\n",
       "    }\n",
       "\n",
       "    .dataframe thead th {\n",
       "        text-align: right;\n",
       "    }\n",
       "</style>\n",
       "<table border=\"1\" class=\"dataframe\">\n",
       "  <thead>\n",
       "    <tr style=\"text-align: right;\">\n",
       "      <th></th>\n",
       "      <th>count</th>\n",
       "      <th>mean</th>\n",
       "    </tr>\n",
       "    <tr>\n",
       "      <th>locality_name</th>\n",
       "      <th></th>\n",
       "      <th></th>\n",
       "    </tr>\n",
       "  </thead>\n",
       "  <tbody>\n",
       "    <tr>\n",
       "      <th>Санкт-Петербург</th>\n",
       "      <td>15721</td>\n",
       "      <td>114848.565231</td>\n",
       "    </tr>\n",
       "  </tbody>\n",
       "</table>\n",
       "</div>"
      ],
      "text/plain": [
       "                 count           mean\n",
       "locality_name                        \n",
       "Санкт-Петербург  15721  114848.565231"
      ]
     },
     "metadata": {},
     "output_type": "display_data"
    },
    {
     "data": {
      "text/html": [
       "<div>\n",
       "<style scoped>\n",
       "    .dataframe tbody tr th:only-of-type {\n",
       "        vertical-align: middle;\n",
       "    }\n",
       "\n",
       "    .dataframe tbody tr th {\n",
       "        vertical-align: top;\n",
       "    }\n",
       "\n",
       "    .dataframe thead th {\n",
       "        text-align: right;\n",
       "    }\n",
       "</style>\n",
       "<table border=\"1\" class=\"dataframe\">\n",
       "  <thead>\n",
       "    <tr style=\"text-align: right;\">\n",
       "      <th></th>\n",
       "      <th>count</th>\n",
       "      <th>mean</th>\n",
       "    </tr>\n",
       "    <tr>\n",
       "      <th>locality_name</th>\n",
       "      <th></th>\n",
       "      <th></th>\n",
       "    </tr>\n",
       "  </thead>\n",
       "  <tbody>\n",
       "    <tr>\n",
       "      <th>Выборг</th>\n",
       "      <td>237</td>\n",
       "      <td>58141.489451</td>\n",
       "    </tr>\n",
       "  </tbody>\n",
       "</table>\n",
       "</div>"
      ],
      "text/plain": [
       "               count          mean\n",
       "locality_name                     \n",
       "Выборг           237  58141.489451"
      ]
     },
     "metadata": {},
     "output_type": "display_data"
    }
   ],
   "source": [
    "#Посчитаем среднюю цену одного квадратного метра в 10 населённых пунктах с наибольшим числом объявлений и \n",
    "#выделим населённые пункты с самой высокой и низкой стоимостью квадратного метра\n",
    "local_pt = data.pivot_table(index = 'locality_name', values = 'one_met_price', aggfunc=['count', 'mean'])\n",
    "local_pt.columns = ['count', 'mean']\n",
    "local_pt = local_pt.sort_values('count', ascending = False).head(10)\n",
    "print(local_pt)\n",
    "#самая высокая стоимость\n",
    "max_price = local_pt[local_pt['mean']==local_pt['mean'].max()]\n",
    "#самая низкая стоимость\n",
    "min_price = local_pt[local_pt['mean']==local_pt['mean'].min()]\n",
    "\n",
    "display(max_price)\n",
    "display(min_price)"
   ]
  },
  {
   "cell_type": "code",
   "execution_count": 46,
   "metadata": {},
   "outputs": [
    {
     "name": "stdout",
     "output_type": "stream",
     "text": [
      "                   count    median\n",
      "locality_name                     \n",
      "Санкт-Петербург    15721  104761.0\n",
      "посёлок Мурино       522   85878.0\n",
      "посёлок Шушары       440   76876.0\n",
      "Всеволожск           398   65789.0\n",
      "Пушкин               369  100000.0\n",
      "Колпино              338   74723.5\n",
      "посёлок Парголово    327   91642.0\n",
      "Гатчина              307   67796.0\n",
      "деревня Кудрово      299   91860.0\n",
      "Выборг               237   58158.0\n"
     ]
    },
    {
     "data": {
      "text/html": [
       "<div>\n",
       "<style scoped>\n",
       "    .dataframe tbody tr th:only-of-type {\n",
       "        vertical-align: middle;\n",
       "    }\n",
       "\n",
       "    .dataframe tbody tr th {\n",
       "        vertical-align: top;\n",
       "    }\n",
       "\n",
       "    .dataframe thead th {\n",
       "        text-align: right;\n",
       "    }\n",
       "</style>\n",
       "<table border=\"1\" class=\"dataframe\">\n",
       "  <thead>\n",
       "    <tr style=\"text-align: right;\">\n",
       "      <th></th>\n",
       "      <th>count</th>\n",
       "      <th>median</th>\n",
       "    </tr>\n",
       "    <tr>\n",
       "      <th>locality_name</th>\n",
       "      <th></th>\n",
       "      <th></th>\n",
       "    </tr>\n",
       "  </thead>\n",
       "  <tbody>\n",
       "    <tr>\n",
       "      <th>Санкт-Петербург</th>\n",
       "      <td>15721</td>\n",
       "      <td>104761.0</td>\n",
       "    </tr>\n",
       "  </tbody>\n",
       "</table>\n",
       "</div>"
      ],
      "text/plain": [
       "                 count    median\n",
       "locality_name                   \n",
       "Санкт-Петербург  15721  104761.0"
      ]
     },
     "metadata": {},
     "output_type": "display_data"
    },
    {
     "data": {
      "text/html": [
       "<div>\n",
       "<style scoped>\n",
       "    .dataframe tbody tr th:only-of-type {\n",
       "        vertical-align: middle;\n",
       "    }\n",
       "\n",
       "    .dataframe tbody tr th {\n",
       "        vertical-align: top;\n",
       "    }\n",
       "\n",
       "    .dataframe thead th {\n",
       "        text-align: right;\n",
       "    }\n",
       "</style>\n",
       "<table border=\"1\" class=\"dataframe\">\n",
       "  <thead>\n",
       "    <tr style=\"text-align: right;\">\n",
       "      <th></th>\n",
       "      <th>count</th>\n",
       "      <th>median</th>\n",
       "    </tr>\n",
       "    <tr>\n",
       "      <th>locality_name</th>\n",
       "      <th></th>\n",
       "      <th></th>\n",
       "    </tr>\n",
       "  </thead>\n",
       "  <tbody>\n",
       "    <tr>\n",
       "      <th>Выборг</th>\n",
       "      <td>237</td>\n",
       "      <td>58158.0</td>\n",
       "    </tr>\n",
       "  </tbody>\n",
       "</table>\n",
       "</div>"
      ],
      "text/plain": [
       "               count   median\n",
       "locality_name                \n",
       "Выборг           237  58158.0"
      ]
     },
     "metadata": {},
     "output_type": "display_data"
    }
   ],
   "source": [
    "#Посчитаем медианную цену одного квадратного метра в 10 населённых пунктах с наибольшим числом объявлений и \n",
    "#выделим населённые пункты с самой высокой и низкой стоимостью квадратного метра\n",
    "local_pt = data.pivot_table(index = 'locality_name', values = 'one_met_price', aggfunc=['count', 'median'])\n",
    "local_pt.columns = ['count', 'median']\n",
    "local_pt = local_pt.sort_values('count', ascending = False).head(10)\n",
    "print(local_pt)\n",
    "#самая высокая стоимость\n",
    "max_price = local_pt[local_pt['median']==local_pt['median'].max()]\n",
    "#самая низкая стоимость\n",
    "min_price = local_pt[local_pt['median']==local_pt['median'].min()]\n",
    "\n",
    "display(max_price)\n",
    "display(min_price)"
   ]
  },
  {
   "cell_type": "markdown",
   "metadata": {},
   "source": [
    "**Вывод:** Самая высокая цена за один кв. метр на жильё в Санкт-Петербурге. Самая низкая - в Выборге."
   ]
  },
  {
   "cell_type": "code",
   "execution_count": 47,
   "metadata": {},
   "outputs": [
    {
     "data": {
      "image/png": "[encoded data removed]",
      "text/plain": [
       "<Figure size 640x480 with 1 Axes>"
      ]
     },
     "metadata": {},
     "output_type": "display_data"
    }
   ],
   "source": [
    "#Выделим квартиры в Санкт-Петербурге с помощью столбца locality_name и вычислим среднюю цену каждого километра\n",
    "data_spb = data.copy()\n",
    "data_spb = data_spb.query('locality_name == \"Санкт-Петербург\"')\n",
    "data_spb.loc[:, 'center_distance'] = (data_spb.loc[:, 'cityCenters_nearest']/1000).round()\n",
    "data_spb_km = data_spb.pivot_table(index = 'center_distance', values = 'one_met_price', aggfunc = 'mean')\n",
    "data_spb_km.plot(grid = True, title = 'Цена за километр')\n",
    "plt.show()"
   ]
  },
  {
   "cell_type": "markdown",
   "metadata": {},
   "source": [
    "**Вывод:** Из графика видно, что цена на квартиры увеличивается по мере приближения к центру. Есть 2 пика на отметках в 27 и 7 км. Может быть эти объекты намного лучше своих конкурентов, находящихся на том же расстоянии от центра, от того и цена у них выше. Другой вариант - собственники квартир установили слишком высокие цены просто потому что захотели. Начиная с отметки в 3км, цена начинает расти очень быстро. Получается, чем ближе к центру находится квартира, тем она будет дороже."
   ]
  },
  {
   "cell_type": "markdown",
   "metadata": {},
   "source": [
    "### Общий вывод"
   ]
  },
  {
   "cell_type": "markdown",
   "metadata": {},
   "source": [
    "В ходе работы было сделано:\n",
    "* Определены пропуски и обозначены варианты их заполнения\n",
    "* Пропуски заменены на значения там, где это было возможно\n",
    "* Определены и исправлены аномалии в данных\n",
    "* Названия населённых пунктов приведены к общему виду\n",
    "* Изменены типы данных там, где это было необходимо\n",
    "* Добавлены столбцы в датасет для лучшего изучения картины\n",
    "* Проведён анализ имещихся данных, в котором выяснилось, что:\n",
    "    + Цена квартиры зависит в основном от метража, удалённости от центра и немного от этажа\n",
    "    + Квартиры в среднем продаются 180 дней, но есть квартиры, которые продаются 200 дней и дольше\n",
    "    + В Санкт-Петербурге самая высокая цена на квартиры\n",
    "    + В Выборге самая низкая цена на квартиры"
   ]
  },
  {
   "cell_type": "code",
   "execution_count": null,
   "metadata": {},
   "outputs": [],
   "source": []
  }
 ],
 "metadata": {
  "ExecuteTimeLog": [
   {
    "duration": 716,
    "start_time": "2022-09-24T10:32:48.371Z"
   },
   {
    "duration": 137,
    "start_time": "2022-09-24T10:34:13.211Z"
   },
   {
    "duration": 94,
    "start_time": "2022-09-24T10:34:32.230Z"
   },
   {
    "duration": 114,
    "start_time": "2022-09-24T10:34:37.815Z"
   },
   {
    "duration": 142,
    "start_time": "2022-09-24T10:36:08.029Z"
   },
   {
    "duration": 138,
    "start_time": "2022-09-24T10:36:26.746Z"
   },
   {
    "duration": 151,
    "start_time": "2022-09-24T10:36:46.870Z"
   },
   {
    "duration": 157,
    "start_time": "2022-09-24T10:40:01.126Z"
   },
   {
    "duration": 776,
    "start_time": "2022-09-25T20:50:48.184Z"
   },
   {
    "duration": 167,
    "start_time": "2022-09-25T20:51:02.102Z"
   },
   {
    "duration": 176,
    "start_time": "2022-09-25T20:51:19.180Z"
   },
   {
    "duration": 184,
    "start_time": "2022-09-25T22:33:09.257Z"
   },
   {
    "duration": 789,
    "start_time": "2022-09-27T20:08:56.369Z"
   },
   {
    "duration": 190,
    "start_time": "2022-09-27T20:09:26.133Z"
   },
   {
    "duration": 26,
    "start_time": "2022-09-27T20:15:58.024Z"
   },
   {
    "duration": 49,
    "start_time": "2022-09-27T21:14:19.863Z"
   },
   {
    "duration": 1517,
    "start_time": "2022-09-27T21:15:54.703Z"
   },
   {
    "duration": 49,
    "start_time": "2022-09-27T21:16:13.827Z"
   },
   {
    "duration": 68,
    "start_time": "2022-09-27T21:18:20.695Z"
   },
   {
    "duration": 70,
    "start_time": "2022-09-27T21:20:49.537Z"
   },
   {
    "duration": 67,
    "start_time": "2022-09-27T21:21:16.039Z"
   },
   {
    "duration": 46,
    "start_time": "2022-09-27T21:21:41.214Z"
   },
   {
    "duration": 38,
    "start_time": "2022-09-27T21:22:26.457Z"
   },
   {
    "duration": 45,
    "start_time": "2022-09-27T21:22:35.604Z"
   },
   {
    "duration": 157,
    "start_time": "2022-09-27T21:23:07.444Z"
   },
   {
    "duration": 26,
    "start_time": "2022-09-27T21:23:17.620Z"
   },
   {
    "duration": 47,
    "start_time": "2022-09-27T21:23:23.623Z"
   },
   {
    "duration": 26,
    "start_time": "2022-09-27T21:25:09.251Z"
   },
   {
    "duration": 51,
    "start_time": "2022-09-27T21:25:28.363Z"
   },
   {
    "duration": 69,
    "start_time": "2022-10-01T19:35:27.218Z"
   },
   {
    "duration": 840,
    "start_time": "2022-10-01T19:35:41.573Z"
   },
   {
    "duration": 33,
    "start_time": "2022-10-01T19:35:48.805Z"
   },
   {
    "duration": 61,
    "start_time": "2022-10-01T19:35:55.089Z"
   },
   {
    "duration": 6,
    "start_time": "2022-10-01T19:36:48.711Z"
   },
   {
    "duration": 5,
    "start_time": "2022-10-01T19:37:08.524Z"
   },
   {
    "duration": 5,
    "start_time": "2022-10-01T19:37:22.337Z"
   },
   {
    "duration": 6,
    "start_time": "2022-10-01T19:38:05.268Z"
   },
   {
    "duration": 5,
    "start_time": "2022-10-01T19:39:15.823Z"
   },
   {
    "duration": 5,
    "start_time": "2022-10-01T19:39:23.585Z"
   },
   {
    "duration": 6,
    "start_time": "2022-10-01T19:41:34.975Z"
   },
   {
    "duration": 6,
    "start_time": "2022-10-01T19:43:35.086Z"
   },
   {
    "duration": 4,
    "start_time": "2022-10-01T19:45:10.324Z"
   },
   {
    "duration": 102,
    "start_time": "2022-10-01T19:45:23.857Z"
   },
   {
    "duration": 4,
    "start_time": "2022-10-01T19:45:58.326Z"
   },
   {
    "duration": 54,
    "start_time": "2022-10-01T19:47:12.261Z"
   },
   {
    "duration": 54,
    "start_time": "2022-10-01T19:48:47.520Z"
   },
   {
    "duration": 4,
    "start_time": "2022-10-01T19:54:44.942Z"
   },
   {
    "duration": 54,
    "start_time": "2022-10-01T19:56:26.786Z"
   },
   {
    "duration": 46,
    "start_time": "2022-10-01T19:58:25.301Z"
   },
   {
    "duration": 51,
    "start_time": "2022-10-01T19:58:53.700Z"
   },
   {
    "duration": 53,
    "start_time": "2022-10-01T19:59:05.351Z"
   },
   {
    "duration": 38,
    "start_time": "2022-10-01T21:17:07.790Z"
   },
   {
    "duration": 48,
    "start_time": "2022-10-01T21:17:25.662Z"
   },
   {
    "duration": 47,
    "start_time": "2022-10-01T21:17:56.618Z"
   },
   {
    "duration": 52,
    "start_time": "2022-10-01T21:18:37.833Z"
   },
   {
    "duration": 95,
    "start_time": "2022-10-01T21:34:03.590Z"
   },
   {
    "duration": 55,
    "start_time": "2022-10-01T21:35:14.905Z"
   },
   {
    "duration": 51,
    "start_time": "2022-10-01T21:36:05.358Z"
   },
   {
    "duration": 51,
    "start_time": "2022-10-01T21:36:18.328Z"
   },
   {
    "duration": 14,
    "start_time": "2022-10-01T21:42:18.144Z"
   },
   {
    "duration": 15,
    "start_time": "2022-10-01T21:42:33.112Z"
   },
   {
    "duration": 18,
    "start_time": "2022-10-01T21:43:04.629Z"
   },
   {
    "duration": 17,
    "start_time": "2022-10-01T21:43:15.582Z"
   },
   {
    "duration": 48,
    "start_time": "2022-10-01T21:44:51.879Z"
   },
   {
    "duration": 55,
    "start_time": "2022-10-01T21:45:47.537Z"
   },
   {
    "duration": 56,
    "start_time": "2022-10-01T21:49:02.824Z"
   },
   {
    "duration": 952,
    "start_time": "2022-10-01T21:50:10.827Z"
   },
   {
    "duration": 31,
    "start_time": "2022-10-01T21:53:45.777Z"
   },
   {
    "duration": 172,
    "start_time": "2022-10-01T21:56:09.231Z"
   },
   {
    "duration": 35,
    "start_time": "2022-10-01T21:56:15.557Z"
   },
   {
    "duration": 32,
    "start_time": "2022-10-01T21:56:21.901Z"
   },
   {
    "duration": 72,
    "start_time": "2022-10-01T21:56:56.970Z"
   },
   {
    "duration": 35,
    "start_time": "2022-10-01T21:58:22.014Z"
   },
   {
    "duration": 32,
    "start_time": "2022-10-01T21:59:44.934Z"
   },
   {
    "duration": 8,
    "start_time": "2022-10-01T22:02:22.666Z"
   },
   {
    "duration": 33,
    "start_time": "2022-10-01T22:06:22.614Z"
   },
   {
    "duration": 51,
    "start_time": "2022-10-02T08:41:59.235Z"
   },
   {
    "duration": 828,
    "start_time": "2022-10-02T08:42:06.954Z"
   },
   {
    "duration": 31,
    "start_time": "2022-10-02T08:42:13.298Z"
   },
   {
    "duration": 2327,
    "start_time": "2022-10-02T08:42:21.373Z"
   },
   {
    "duration": 160,
    "start_time": "2022-10-02T09:22:50.027Z"
   },
   {
    "duration": 2130,
    "start_time": "2022-10-02T09:24:14.100Z"
   },
   {
    "duration": 1823,
    "start_time": "2022-10-02T09:34:24.016Z"
   },
   {
    "duration": 9,
    "start_time": "2022-10-02T09:50:30.706Z"
   },
   {
    "duration": 9,
    "start_time": "2022-10-02T09:53:14.995Z"
   },
   {
    "duration": 8,
    "start_time": "2022-10-02T09:53:25.056Z"
   },
   {
    "duration": 9,
    "start_time": "2022-10-02T10:19:00.036Z"
   },
   {
    "duration": 4,
    "start_time": "2022-10-02T10:21:15.448Z"
   },
   {
    "duration": 4,
    "start_time": "2022-10-02T10:22:14.507Z"
   },
   {
    "duration": 5,
    "start_time": "2022-10-02T10:22:34.976Z"
   },
   {
    "duration": 9,
    "start_time": "2022-10-02T10:26:01.447Z"
   },
   {
    "duration": 37,
    "start_time": "2022-10-02T10:34:35.803Z"
   },
   {
    "duration": 6,
    "start_time": "2022-10-02T10:47:50.578Z"
   },
   {
    "duration": 7,
    "start_time": "2022-10-02T10:48:19.216Z"
   },
   {
    "duration": 7,
    "start_time": "2022-10-02T10:48:41.327Z"
   },
   {
    "duration": 33,
    "start_time": "2022-10-02T11:28:13.224Z"
   },
   {
    "duration": 46,
    "start_time": "2022-10-02T11:44:32.817Z"
   },
   {
    "duration": 40,
    "start_time": "2022-10-02T11:44:57.086Z"
   },
   {
    "duration": 8,
    "start_time": "2022-10-02T20:29:44.208Z"
   },
   {
    "duration": 38,
    "start_time": "2022-10-02T20:37:26.817Z"
   },
   {
    "duration": 8,
    "start_time": "2022-10-02T20:38:00.972Z"
   },
   {
    "duration": 9,
    "start_time": "2022-10-02T20:38:08.403Z"
   },
   {
    "duration": 10,
    "start_time": "2022-10-02T20:38:14.780Z"
   },
   {
    "duration": 9,
    "start_time": "2022-10-02T20:41:42.271Z"
   },
   {
    "duration": 4,
    "start_time": "2022-10-02T20:50:48.339Z"
   },
   {
    "duration": 7,
    "start_time": "2022-10-02T20:51:26.604Z"
   },
   {
    "duration": 8,
    "start_time": "2022-10-02T20:52:38.863Z"
   },
   {
    "duration": 8,
    "start_time": "2022-10-02T20:52:47.816Z"
   },
   {
    "duration": 6,
    "start_time": "2022-10-02T20:52:54.548Z"
   },
   {
    "duration": 30,
    "start_time": "2022-10-02T21:00:16.349Z"
   },
   {
    "duration": 8,
    "start_time": "2022-10-02T21:01:16.341Z"
   },
   {
    "duration": 6,
    "start_time": "2022-10-02T21:01:23.425Z"
   },
   {
    "duration": 275,
    "start_time": "2022-10-02T21:21:06.437Z"
   },
   {
    "duration": 405,
    "start_time": "2022-10-02T21:21:45.248Z"
   },
   {
    "duration": 297,
    "start_time": "2022-10-02T21:21:59.813Z"
   },
   {
    "duration": 265,
    "start_time": "2022-10-02T21:22:35.081Z"
   },
   {
    "duration": 10,
    "start_time": "2022-10-02T21:26:01.456Z"
   },
   {
    "duration": 9,
    "start_time": "2022-10-02T21:26:19.236Z"
   },
   {
    "duration": 7,
    "start_time": "2022-10-02T21:26:21.816Z"
   },
   {
    "duration": 9,
    "start_time": "2022-10-02T21:26:36.578Z"
   },
   {
    "duration": 18,
    "start_time": "2022-10-02T21:26:56.580Z"
   },
   {
    "duration": 66,
    "start_time": "2022-10-02T21:27:17.565Z"
   },
   {
    "duration": 27,
    "start_time": "2022-10-02T21:27:37.737Z"
   },
   {
    "duration": 7,
    "start_time": "2022-10-02T21:28:26.148Z"
   },
   {
    "duration": 26,
    "start_time": "2022-10-02T21:40:37.537Z"
   },
   {
    "duration": 25,
    "start_time": "2022-10-02T21:40:55.131Z"
   },
   {
    "duration": 27,
    "start_time": "2022-10-02T21:41:28.750Z"
   },
   {
    "duration": 25,
    "start_time": "2022-10-02T21:41:35.766Z"
   },
   {
    "duration": 833,
    "start_time": "2022-10-02T21:41:58.184Z"
   },
   {
    "duration": 38,
    "start_time": "2022-10-02T21:41:59.019Z"
   },
   {
    "duration": 1934,
    "start_time": "2022-10-02T21:41:59.058Z"
   },
   {
    "duration": 35,
    "start_time": "2022-10-02T21:42:00.994Z"
   },
   {
    "duration": 15,
    "start_time": "2022-10-02T21:42:01.031Z"
   },
   {
    "duration": 54,
    "start_time": "2022-10-02T21:42:01.048Z"
   },
   {
    "duration": 10,
    "start_time": "2022-10-02T21:42:01.104Z"
   },
   {
    "duration": 33,
    "start_time": "2022-10-02T21:42:01.116Z"
   },
   {
    "duration": 1101,
    "start_time": "2022-10-02T21:42:26.658Z"
   },
   {
    "duration": 28,
    "start_time": "2022-10-02T21:42:43.226Z"
   },
   {
    "duration": 763,
    "start_time": "2022-10-02T21:43:07.349Z"
   },
   {
    "duration": 29,
    "start_time": "2022-10-02T21:43:08.114Z"
   },
   {
    "duration": 1765,
    "start_time": "2022-10-02T21:43:08.145Z"
   },
   {
    "duration": 33,
    "start_time": "2022-10-02T21:43:09.912Z"
   },
   {
    "duration": 7,
    "start_time": "2022-10-02T21:43:09.947Z"
   },
   {
    "duration": 47,
    "start_time": "2022-10-02T21:43:09.956Z"
   },
   {
    "duration": 8,
    "start_time": "2022-10-02T21:43:10.004Z"
   },
   {
    "duration": 34,
    "start_time": "2022-10-02T21:43:10.014Z"
   },
   {
    "duration": 27,
    "start_time": "2022-10-02T21:44:41.108Z"
   },
   {
    "duration": 816,
    "start_time": "2022-10-02T21:44:48.741Z"
   },
   {
    "duration": 26,
    "start_time": "2022-10-02T21:44:49.559Z"
   },
   {
    "duration": 1770,
    "start_time": "2022-10-02T21:44:49.586Z"
   },
   {
    "duration": 34,
    "start_time": "2022-10-02T21:44:51.358Z"
   },
   {
    "duration": 8,
    "start_time": "2022-10-02T21:44:51.394Z"
   },
   {
    "duration": 43,
    "start_time": "2022-10-02T21:44:51.404Z"
   },
   {
    "duration": 9,
    "start_time": "2022-10-02T21:44:51.448Z"
   },
   {
    "duration": 26,
    "start_time": "2022-10-02T21:44:51.459Z"
   },
   {
    "duration": 9,
    "start_time": "2022-10-02T21:45:42.889Z"
   },
   {
    "duration": 9,
    "start_time": "2022-10-02T21:45:43.222Z"
   },
   {
    "duration": 19,
    "start_time": "2022-10-02T21:46:04.882Z"
   },
   {
    "duration": 20,
    "start_time": "2022-10-02T21:46:07.849Z"
   },
   {
    "duration": 8,
    "start_time": "2022-10-02T21:46:35.601Z"
   },
   {
    "duration": 12,
    "start_time": "2022-10-02T21:47:04.322Z"
   },
   {
    "duration": 9,
    "start_time": "2022-10-02T21:47:06.978Z"
   },
   {
    "duration": 10,
    "start_time": "2022-10-02T21:47:48.696Z"
   },
   {
    "duration": 776,
    "start_time": "2022-10-02T21:47:54.463Z"
   },
   {
    "duration": 25,
    "start_time": "2022-10-02T21:47:55.241Z"
   },
   {
    "duration": 1712,
    "start_time": "2022-10-02T21:47:55.267Z"
   },
   {
    "duration": 33,
    "start_time": "2022-10-02T21:47:56.982Z"
   },
   {
    "duration": 8,
    "start_time": "2022-10-02T21:47:57.016Z"
   },
   {
    "duration": 42,
    "start_time": "2022-10-02T21:47:57.026Z"
   },
   {
    "duration": 9,
    "start_time": "2022-10-02T21:47:57.069Z"
   },
   {
    "duration": 9,
    "start_time": "2022-10-02T21:47:57.079Z"
   },
   {
    "duration": 10,
    "start_time": "2022-10-02T21:51:13.946Z"
   },
   {
    "duration": 41,
    "start_time": "2022-10-02T21:55:25.191Z"
   },
   {
    "duration": 9,
    "start_time": "2022-10-02T21:56:24.819Z"
   },
   {
    "duration": 28,
    "start_time": "2022-10-02T22:17:19.890Z"
   },
   {
    "duration": 35,
    "start_time": "2022-10-02T22:17:38.215Z"
   },
   {
    "duration": 732,
    "start_time": "2022-10-02T22:18:15.473Z"
   },
   {
    "duration": 33,
    "start_time": "2022-10-02T22:18:16.207Z"
   },
   {
    "duration": 1790,
    "start_time": "2022-10-02T22:18:16.241Z"
   },
   {
    "duration": 34,
    "start_time": "2022-10-02T22:18:18.033Z"
   },
   {
    "duration": 34,
    "start_time": "2022-10-02T22:18:18.069Z"
   },
   {
    "duration": 47,
    "start_time": "2022-10-02T22:18:18.105Z"
   },
   {
    "duration": 10,
    "start_time": "2022-10-02T22:18:18.154Z"
   },
   {
    "duration": 9,
    "start_time": "2022-10-02T22:18:18.166Z"
   },
   {
    "duration": 12,
    "start_time": "2022-10-02T22:19:01.859Z"
   },
   {
    "duration": 104,
    "start_time": "2022-10-02T22:31:46.283Z"
   },
   {
    "duration": 13,
    "start_time": "2022-10-02T22:31:58.071Z"
   },
   {
    "duration": 21,
    "start_time": "2022-10-02T22:39:44.181Z"
   },
   {
    "duration": 991,
    "start_time": "2022-10-02T22:40:26.554Z"
   },
   {
    "duration": 27,
    "start_time": "2022-10-02T22:40:27.548Z"
   },
   {
    "duration": 1754,
    "start_time": "2022-10-02T22:40:27.577Z"
   },
   {
    "duration": 33,
    "start_time": "2022-10-02T22:40:29.334Z"
   },
   {
    "duration": 13,
    "start_time": "2022-10-02T22:40:29.369Z"
   },
   {
    "duration": 63,
    "start_time": "2022-10-02T22:40:29.383Z"
   },
   {
    "duration": 10,
    "start_time": "2022-10-02T22:40:29.448Z"
   },
   {
    "duration": 43,
    "start_time": "2022-10-02T22:40:56.190Z"
   },
   {
    "duration": 1149,
    "start_time": "2022-10-03T19:16:38.684Z"
   },
   {
    "duration": 25,
    "start_time": "2022-10-03T19:16:39.835Z"
   },
   {
    "duration": 1798,
    "start_time": "2022-10-03T19:16:39.862Z"
   },
   {
    "duration": 48,
    "start_time": "2022-10-03T19:16:41.664Z"
   },
   {
    "duration": 12,
    "start_time": "2022-10-03T19:16:41.714Z"
   },
   {
    "duration": 43,
    "start_time": "2022-10-03T19:16:41.728Z"
   },
   {
    "duration": 9,
    "start_time": "2022-10-03T19:16:41.773Z"
   },
   {
    "duration": 42,
    "start_time": "2022-10-03T19:16:41.784Z"
   },
   {
    "duration": 339,
    "start_time": "2022-10-03T19:17:21.305Z"
   },
   {
    "duration": 12,
    "start_time": "2022-10-03T19:17:41.387Z"
   },
   {
    "duration": 10,
    "start_time": "2022-10-03T19:22:46.533Z"
   },
   {
    "duration": 35,
    "start_time": "2022-10-03T19:48:23.632Z"
   },
   {
    "duration": 25,
    "start_time": "2022-10-03T19:48:51.440Z"
   },
   {
    "duration": 22,
    "start_time": "2022-10-03T19:49:50.395Z"
   },
   {
    "duration": 11,
    "start_time": "2022-10-03T19:50:11.767Z"
   },
   {
    "duration": 10,
    "start_time": "2022-10-03T19:50:29.155Z"
   },
   {
    "duration": 14,
    "start_time": "2022-10-03T19:51:10.941Z"
   },
   {
    "duration": 11,
    "start_time": "2022-10-03T19:51:29.416Z"
   },
   {
    "duration": 772,
    "start_time": "2022-10-03T20:00:30.700Z"
   },
   {
    "duration": 830,
    "start_time": "2022-10-03T20:00:54.453Z"
   },
   {
    "duration": 857,
    "start_time": "2022-10-03T20:01:05.278Z"
   },
   {
    "duration": 896,
    "start_time": "2022-10-03T20:02:25.734Z"
   },
   {
    "duration": 857,
    "start_time": "2022-10-03T20:02:48.707Z"
   },
   {
    "duration": 807,
    "start_time": "2022-10-03T20:02:58.673Z"
   },
   {
    "duration": 786,
    "start_time": "2022-10-03T20:03:18.789Z"
   },
   {
    "duration": 12,
    "start_time": "2022-10-03T20:08:45.110Z"
   },
   {
    "duration": 8,
    "start_time": "2022-10-03T20:09:32.440Z"
   },
   {
    "duration": 7,
    "start_time": "2022-10-03T20:10:28.204Z"
   },
   {
    "duration": 9,
    "start_time": "2022-10-03T20:11:00.547Z"
   },
   {
    "duration": 9,
    "start_time": "2022-10-03T20:11:13.100Z"
   },
   {
    "duration": 11,
    "start_time": "2022-10-03T20:13:55.715Z"
   },
   {
    "duration": 14,
    "start_time": "2022-10-03T20:14:43.932Z"
   },
   {
    "duration": 10,
    "start_time": "2022-10-03T20:15:11.479Z"
   },
   {
    "duration": 11,
    "start_time": "2022-10-03T20:21:32.248Z"
   },
   {
    "duration": 8,
    "start_time": "2022-10-03T20:21:44.279Z"
   },
   {
    "duration": 711,
    "start_time": "2022-10-03T20:22:31.469Z"
   },
   {
    "duration": 27,
    "start_time": "2022-10-03T20:22:32.182Z"
   },
   {
    "duration": 11,
    "start_time": "2022-10-03T20:22:32.211Z"
   },
   {
    "duration": 1812,
    "start_time": "2022-10-03T20:22:32.224Z"
   },
   {
    "duration": 35,
    "start_time": "2022-10-03T20:22:34.038Z"
   },
   {
    "duration": 9,
    "start_time": "2022-10-03T20:22:34.074Z"
   },
   {
    "duration": 38,
    "start_time": "2022-10-03T20:22:34.084Z"
   },
   {
    "duration": 11,
    "start_time": "2022-10-03T20:22:34.124Z"
   },
   {
    "duration": 17,
    "start_time": "2022-10-03T20:22:34.137Z"
   },
   {
    "duration": 12,
    "start_time": "2022-10-03T20:22:46.637Z"
   },
   {
    "duration": 15,
    "start_time": "2022-10-03T20:23:25.666Z"
   },
   {
    "duration": 100,
    "start_time": "2022-10-03T20:24:24.487Z"
   },
   {
    "duration": 854,
    "start_time": "2022-10-03T20:24:42.090Z"
   },
   {
    "duration": 27,
    "start_time": "2022-10-03T20:24:42.946Z"
   },
   {
    "duration": 11,
    "start_time": "2022-10-03T20:24:42.974Z"
   },
   {
    "duration": 1905,
    "start_time": "2022-10-03T20:24:42.987Z"
   },
   {
    "duration": 36,
    "start_time": "2022-10-03T20:24:44.894Z"
   },
   {
    "duration": 8,
    "start_time": "2022-10-03T20:24:44.931Z"
   },
   {
    "duration": 35,
    "start_time": "2022-10-03T20:24:44.941Z"
   },
   {
    "duration": 31,
    "start_time": "2022-10-03T20:24:44.978Z"
   },
   {
    "duration": 1029,
    "start_time": "2022-10-03T20:24:45.011Z"
   },
   {
    "duration": 103,
    "start_time": "2022-10-03T20:25:10.112Z"
   },
   {
    "duration": 10,
    "start_time": "2022-10-03T20:25:32.380Z"
   },
   {
    "duration": 826,
    "start_time": "2022-10-03T20:25:41.073Z"
   },
   {
    "duration": 36,
    "start_time": "2022-10-03T20:25:41.901Z"
   },
   {
    "duration": 8,
    "start_time": "2022-10-03T20:25:41.938Z"
   },
   {
    "duration": 1920,
    "start_time": "2022-10-03T20:25:41.948Z"
   },
   {
    "duration": 36,
    "start_time": "2022-10-03T20:25:43.870Z"
   },
   {
    "duration": 10,
    "start_time": "2022-10-03T20:25:43.908Z"
   },
   {
    "duration": 49,
    "start_time": "2022-10-03T20:25:43.920Z"
   },
   {
    "duration": 11,
    "start_time": "2022-10-03T20:25:43.971Z"
   },
   {
    "duration": 40,
    "start_time": "2022-10-03T20:25:43.984Z"
   },
   {
    "duration": 10,
    "start_time": "2022-10-03T20:25:55.561Z"
   },
   {
    "duration": 61,
    "start_time": "2022-10-03T20:28:10.771Z"
   },
   {
    "duration": 9,
    "start_time": "2022-10-03T20:29:01.488Z"
   },
   {
    "duration": 13,
    "start_time": "2022-10-03T20:29:06.630Z"
   },
   {
    "duration": 80,
    "start_time": "2022-10-03T20:37:34.584Z"
   },
   {
    "duration": 734,
    "start_time": "2022-10-03T20:37:48.350Z"
   },
   {
    "duration": 27,
    "start_time": "2022-10-03T20:37:49.086Z"
   },
   {
    "duration": 12,
    "start_time": "2022-10-03T20:37:49.114Z"
   },
   {
    "duration": 1849,
    "start_time": "2022-10-03T20:37:49.127Z"
   },
   {
    "duration": 44,
    "start_time": "2022-10-03T20:37:50.978Z"
   },
   {
    "duration": 11,
    "start_time": "2022-10-03T20:37:51.025Z"
   },
   {
    "duration": 41,
    "start_time": "2022-10-03T20:37:51.038Z"
   },
   {
    "duration": 10,
    "start_time": "2022-10-03T20:37:51.081Z"
   },
   {
    "duration": 59,
    "start_time": "2022-10-03T20:37:51.109Z"
   },
   {
    "duration": 9,
    "start_time": "2022-10-03T20:38:46.407Z"
   },
   {
    "duration": 10,
    "start_time": "2022-10-03T20:43:33.162Z"
   },
   {
    "duration": 11,
    "start_time": "2022-10-03T20:43:43.953Z"
   },
   {
    "duration": 9,
    "start_time": "2022-10-03T20:43:51.566Z"
   },
   {
    "duration": 814,
    "start_time": "2022-10-03T20:44:01.529Z"
   },
   {
    "duration": 28,
    "start_time": "2022-10-03T20:44:02.345Z"
   },
   {
    "duration": 18,
    "start_time": "2022-10-03T20:44:02.374Z"
   },
   {
    "duration": 1819,
    "start_time": "2022-10-03T20:44:02.393Z"
   },
   {
    "duration": 35,
    "start_time": "2022-10-03T20:44:04.214Z"
   },
   {
    "duration": 9,
    "start_time": "2022-10-03T20:44:04.251Z"
   },
   {
    "duration": 57,
    "start_time": "2022-10-03T20:44:04.262Z"
   },
   {
    "duration": 12,
    "start_time": "2022-10-03T20:44:04.320Z"
   },
   {
    "duration": 13,
    "start_time": "2022-10-03T20:44:04.334Z"
   },
   {
    "duration": 8,
    "start_time": "2022-10-03T20:59:47.712Z"
   },
   {
    "duration": 10,
    "start_time": "2022-10-03T21:04:55.311Z"
   },
   {
    "duration": 7,
    "start_time": "2022-10-03T21:06:18.477Z"
   },
   {
    "duration": 7,
    "start_time": "2022-10-03T21:06:38.273Z"
   },
   {
    "duration": 9,
    "start_time": "2022-10-03T21:06:52.913Z"
   },
   {
    "duration": 8,
    "start_time": "2022-10-03T21:08:02.446Z"
   },
   {
    "duration": 12,
    "start_time": "2022-10-03T21:09:14.171Z"
   },
   {
    "duration": 13,
    "start_time": "2022-10-03T21:09:44.340Z"
   },
   {
    "duration": 20,
    "start_time": "2022-10-03T21:11:33.429Z"
   },
   {
    "duration": 18,
    "start_time": "2022-10-03T21:12:13.924Z"
   },
   {
    "duration": 28,
    "start_time": "2022-10-03T21:15:05.818Z"
   },
   {
    "duration": 34,
    "start_time": "2022-10-03T21:15:51.046Z"
   },
   {
    "duration": 35,
    "start_time": "2022-10-03T21:18:54.519Z"
   },
   {
    "duration": 22,
    "start_time": "2022-10-03T21:19:05.805Z"
   },
   {
    "duration": 39,
    "start_time": "2022-10-03T21:26:31.248Z"
   },
   {
    "duration": 5,
    "start_time": "2022-10-03T22:06:28.106Z"
   },
   {
    "duration": 6,
    "start_time": "2022-10-03T22:06:47.697Z"
   },
   {
    "duration": 5,
    "start_time": "2022-10-03T22:07:06.276Z"
   },
   {
    "duration": 29,
    "start_time": "2022-10-03T22:09:38.987Z"
   },
   {
    "duration": 1052,
    "start_time": "2022-10-05T18:59:53.438Z"
   },
   {
    "duration": 36,
    "start_time": "2022-10-05T18:59:54.491Z"
   },
   {
    "duration": 18,
    "start_time": "2022-10-05T18:59:54.530Z"
   },
   {
    "duration": 2050,
    "start_time": "2022-10-05T18:59:54.550Z"
   },
   {
    "duration": 106,
    "start_time": "2022-10-05T18:59:56.602Z"
   },
   {
    "duration": 0,
    "start_time": "2022-10-05T18:59:56.710Z"
   },
   {
    "duration": 0,
    "start_time": "2022-10-05T18:59:56.711Z"
   },
   {
    "duration": 0,
    "start_time": "2022-10-05T18:59:56.712Z"
   },
   {
    "duration": 0,
    "start_time": "2022-10-05T18:59:56.713Z"
   },
   {
    "duration": 0,
    "start_time": "2022-10-05T18:59:56.723Z"
   },
   {
    "duration": 0,
    "start_time": "2022-10-05T18:59:56.724Z"
   },
   {
    "duration": 0,
    "start_time": "2022-10-05T18:59:56.725Z"
   },
   {
    "duration": 0,
    "start_time": "2022-10-05T18:59:56.726Z"
   },
   {
    "duration": 26,
    "start_time": "2022-10-05T19:00:32.565Z"
   },
   {
    "duration": 163,
    "start_time": "2022-10-05T19:01:04.437Z"
   },
   {
    "duration": 32,
    "start_time": "2022-10-05T19:01:12.209Z"
   },
   {
    "duration": 10,
    "start_time": "2022-10-05T19:01:18.348Z"
   },
   {
    "duration": 1814,
    "start_time": "2022-10-05T19:01:27.135Z"
   },
   {
    "duration": 36,
    "start_time": "2022-10-05T19:01:46.151Z"
   },
   {
    "duration": 763,
    "start_time": "2022-10-05T19:06:23.884Z"
   },
   {
    "duration": 25,
    "start_time": "2022-10-05T19:06:24.648Z"
   },
   {
    "duration": 10,
    "start_time": "2022-10-05T19:06:24.675Z"
   },
   {
    "duration": 1874,
    "start_time": "2022-10-05T19:06:24.686Z"
   },
   {
    "duration": 90,
    "start_time": "2022-10-05T19:06:26.561Z"
   },
   {
    "duration": 0,
    "start_time": "2022-10-05T19:06:26.652Z"
   },
   {
    "duration": 0,
    "start_time": "2022-10-05T19:06:26.654Z"
   },
   {
    "duration": 0,
    "start_time": "2022-10-05T19:06:26.655Z"
   },
   {
    "duration": 0,
    "start_time": "2022-10-05T19:06:26.656Z"
   },
   {
    "duration": 0,
    "start_time": "2022-10-05T19:06:26.657Z"
   },
   {
    "duration": 0,
    "start_time": "2022-10-05T19:06:26.657Z"
   },
   {
    "duration": 0,
    "start_time": "2022-10-05T19:06:26.658Z"
   },
   {
    "duration": 0,
    "start_time": "2022-10-05T19:06:26.659Z"
   },
   {
    "duration": 30,
    "start_time": "2022-10-05T19:08:05.203Z"
   },
   {
    "duration": 25,
    "start_time": "2022-10-05T19:09:38.475Z"
   },
   {
    "duration": 25,
    "start_time": "2022-10-05T19:09:44.714Z"
   },
   {
    "duration": 36,
    "start_time": "2022-10-05T19:09:50.054Z"
   },
   {
    "duration": 25,
    "start_time": "2022-10-05T19:18:19.609Z"
   },
   {
    "duration": 94,
    "start_time": "2022-10-05T19:18:57.712Z"
   },
   {
    "duration": 39,
    "start_time": "2022-10-05T19:26:02.455Z"
   },
   {
    "duration": 32,
    "start_time": "2022-10-05T19:26:22.238Z"
   },
   {
    "duration": 32,
    "start_time": "2022-10-05T19:27:06.650Z"
   },
   {
    "duration": 29,
    "start_time": "2022-10-05T19:27:14.527Z"
   },
   {
    "duration": 28,
    "start_time": "2022-10-05T19:27:46.337Z"
   },
   {
    "duration": 27,
    "start_time": "2022-10-05T19:28:04.291Z"
   },
   {
    "duration": 28,
    "start_time": "2022-10-05T19:28:23.632Z"
   },
   {
    "duration": 29,
    "start_time": "2022-10-05T19:28:30.991Z"
   },
   {
    "duration": 9,
    "start_time": "2022-10-05T19:29:06.867Z"
   },
   {
    "duration": 33,
    "start_time": "2022-10-05T19:29:21.839Z"
   },
   {
    "duration": 10,
    "start_time": "2022-10-05T19:29:30.572Z"
   },
   {
    "duration": 11,
    "start_time": "2022-10-05T19:29:40.689Z"
   },
   {
    "duration": 40,
    "start_time": "2022-10-05T19:29:52.124Z"
   },
   {
    "duration": 5,
    "start_time": "2022-10-05T19:34:04.075Z"
   },
   {
    "duration": 9,
    "start_time": "2022-10-05T19:34:42.966Z"
   },
   {
    "duration": 8,
    "start_time": "2022-10-05T19:34:58.141Z"
   },
   {
    "duration": 10,
    "start_time": "2022-10-05T19:35:23.782Z"
   },
   {
    "duration": 8,
    "start_time": "2022-10-05T19:36:09.486Z"
   },
   {
    "duration": 5,
    "start_time": "2022-10-05T19:36:26.500Z"
   },
   {
    "duration": 5,
    "start_time": "2022-10-05T19:36:37.452Z"
   },
   {
    "duration": 132,
    "start_time": "2022-10-05T19:55:58.877Z"
   },
   {
    "duration": 91,
    "start_time": "2022-10-05T19:56:16.625Z"
   },
   {
    "duration": 79,
    "start_time": "2022-10-05T19:57:57.609Z"
   },
   {
    "duration": 100,
    "start_time": "2022-10-05T19:59:26.026Z"
   },
   {
    "duration": 13,
    "start_time": "2022-10-05T20:00:59.442Z"
   },
   {
    "duration": 11,
    "start_time": "2022-10-05T20:01:14.563Z"
   },
   {
    "duration": 1898,
    "start_time": "2022-10-05T20:01:45.770Z"
   },
   {
    "duration": 9,
    "start_time": "2022-10-05T20:07:33.044Z"
   },
   {
    "duration": 9,
    "start_time": "2022-10-05T20:07:41.262Z"
   },
   {
    "duration": 8,
    "start_time": "2022-10-05T20:07:47.593Z"
   },
   {
    "duration": 8,
    "start_time": "2022-10-05T20:09:03.778Z"
   },
   {
    "duration": 15,
    "start_time": "2022-10-05T20:09:39.921Z"
   },
   {
    "duration": 15,
    "start_time": "2022-10-05T20:09:47.452Z"
   },
   {
    "duration": 11,
    "start_time": "2022-10-05T20:10:26.692Z"
   },
   {
    "duration": 9,
    "start_time": "2022-10-05T20:11:10.917Z"
   },
   {
    "duration": 12,
    "start_time": "2022-10-05T20:11:23.074Z"
   },
   {
    "duration": 63,
    "start_time": "2022-10-05T20:12:48.967Z"
   },
   {
    "duration": 12,
    "start_time": "2022-10-05T20:14:42.818Z"
   },
   {
    "duration": 23,
    "start_time": "2022-10-05T20:22:36.858Z"
   },
   {
    "duration": 17,
    "start_time": "2022-10-05T20:23:05.853Z"
   },
   {
    "duration": 11,
    "start_time": "2022-10-05T20:23:17.318Z"
   },
   {
    "duration": 17,
    "start_time": "2022-10-05T20:23:36.208Z"
   },
   {
    "duration": 14,
    "start_time": "2022-10-05T20:23:42.126Z"
   },
   {
    "duration": 14,
    "start_time": "2022-10-05T20:23:47.558Z"
   },
   {
    "duration": 16,
    "start_time": "2022-10-05T20:23:52.048Z"
   },
   {
    "duration": 17,
    "start_time": "2022-10-05T20:23:56.509Z"
   },
   {
    "duration": 15,
    "start_time": "2022-10-05T20:24:00.688Z"
   },
   {
    "duration": 154,
    "start_time": "2022-10-05T20:24:40.165Z"
   },
   {
    "duration": 8,
    "start_time": "2022-10-05T20:25:11.458Z"
   },
   {
    "duration": 19,
    "start_time": "2022-10-05T20:28:03.837Z"
   },
   {
    "duration": 743,
    "start_time": "2022-10-05T20:28:13.122Z"
   },
   {
    "duration": 25,
    "start_time": "2022-10-05T20:28:13.867Z"
   },
   {
    "duration": 12,
    "start_time": "2022-10-05T20:28:13.893Z"
   },
   {
    "duration": 1710,
    "start_time": "2022-10-05T20:28:13.906Z"
   },
   {
    "duration": 33,
    "start_time": "2022-10-05T20:28:15.617Z"
   },
   {
    "duration": 7,
    "start_time": "2022-10-05T20:28:15.652Z"
   },
   {
    "duration": 33,
    "start_time": "2022-10-05T20:28:15.660Z"
   },
   {
    "duration": 8,
    "start_time": "2022-10-05T20:28:15.695Z"
   },
   {
    "duration": 7,
    "start_time": "2022-10-05T20:28:15.722Z"
   },
   {
    "duration": 42,
    "start_time": "2022-10-05T20:28:15.731Z"
   },
   {
    "duration": 19,
    "start_time": "2022-10-05T20:28:15.774Z"
   },
   {
    "duration": 81,
    "start_time": "2022-10-05T20:28:15.794Z"
   },
   {
    "duration": 32,
    "start_time": "2022-10-05T20:29:35.773Z"
   },
   {
    "duration": 158,
    "start_time": "2022-10-05T20:30:16.566Z"
   },
   {
    "duration": 29,
    "start_time": "2022-10-05T20:30:22.795Z"
   },
   {
    "duration": 7,
    "start_time": "2022-10-05T20:30:28.727Z"
   },
   {
    "duration": 1739,
    "start_time": "2022-10-05T20:30:35.810Z"
   },
   {
    "duration": 38,
    "start_time": "2022-10-05T20:30:46.157Z"
   },
   {
    "duration": 2062,
    "start_time": "2022-10-05T20:31:07.390Z"
   },
   {
    "duration": 9,
    "start_time": "2022-10-05T20:31:21.638Z"
   },
   {
    "duration": 32,
    "start_time": "2022-10-05T20:31:26.522Z"
   },
   {
    "duration": 7,
    "start_time": "2022-10-05T20:31:37.443Z"
   },
   {
    "duration": 37,
    "start_time": "2022-10-05T20:31:43.974Z"
   },
   {
    "duration": 5,
    "start_time": "2022-10-05T20:33:54.379Z"
   },
   {
    "duration": 5,
    "start_time": "2022-10-05T20:34:11.721Z"
   },
   {
    "duration": 7,
    "start_time": "2022-10-05T20:34:25.984Z"
   },
   {
    "duration": 66,
    "start_time": "2022-10-05T20:34:49.984Z"
   },
   {
    "duration": 9,
    "start_time": "2022-10-05T20:35:16.520Z"
   },
   {
    "duration": 8,
    "start_time": "2022-10-05T20:35:19.707Z"
   },
   {
    "duration": 904,
    "start_time": "2022-10-05T20:35:30.143Z"
   },
   {
    "duration": 25,
    "start_time": "2022-10-05T20:35:31.049Z"
   },
   {
    "duration": 35,
    "start_time": "2022-10-05T20:35:31.076Z"
   },
   {
    "duration": 1720,
    "start_time": "2022-10-05T20:35:31.112Z"
   },
   {
    "duration": 32,
    "start_time": "2022-10-05T20:35:32.833Z"
   },
   {
    "duration": 7,
    "start_time": "2022-10-05T20:35:32.867Z"
   },
   {
    "duration": 34,
    "start_time": "2022-10-05T20:35:32.876Z"
   },
   {
    "duration": 8,
    "start_time": "2022-10-05T20:35:32.922Z"
   },
   {
    "duration": 8,
    "start_time": "2022-10-05T20:35:32.932Z"
   },
   {
    "duration": 34,
    "start_time": "2022-10-05T20:35:32.942Z"
   },
   {
    "duration": 86,
    "start_time": "2022-10-05T20:35:32.978Z"
   },
   {
    "duration": 0,
    "start_time": "2022-10-05T20:35:33.065Z"
   },
   {
    "duration": 0,
    "start_time": "2022-10-05T20:35:33.066Z"
   },
   {
    "duration": 7,
    "start_time": "2022-10-05T20:35:40.639Z"
   },
   {
    "duration": 8,
    "start_time": "2022-10-05T20:35:43.281Z"
   },
   {
    "duration": 8,
    "start_time": "2022-10-05T20:35:45.717Z"
   },
   {
    "duration": 27,
    "start_time": "2022-10-05T20:36:06.033Z"
   },
   {
    "duration": 70,
    "start_time": "2022-10-05T20:36:08.154Z"
   },
   {
    "duration": 68,
    "start_time": "2022-10-05T20:38:34.493Z"
   },
   {
    "duration": 77,
    "start_time": "2022-10-06T19:55:01.642Z"
   },
   {
    "duration": 1333,
    "start_time": "2022-10-06T19:55:27.894Z"
   },
   {
    "duration": 37,
    "start_time": "2022-10-06T19:55:29.229Z"
   },
   {
    "duration": 12,
    "start_time": "2022-10-06T19:55:29.268Z"
   },
   {
    "duration": 2510,
    "start_time": "2022-10-06T19:55:29.282Z"
   },
   {
    "duration": 46,
    "start_time": "2022-10-06T19:55:31.795Z"
   },
   {
    "duration": 11,
    "start_time": "2022-10-06T19:55:31.843Z"
   },
   {
    "duration": 67,
    "start_time": "2022-10-06T19:55:31.856Z"
   },
   {
    "duration": 13,
    "start_time": "2022-10-06T19:55:31.925Z"
   },
   {
    "duration": 11,
    "start_time": "2022-10-06T19:55:31.940Z"
   },
   {
    "duration": 79,
    "start_time": "2022-10-06T19:55:31.954Z"
   },
   {
    "duration": 33,
    "start_time": "2022-10-06T19:55:32.035Z"
   },
   {
    "duration": 114,
    "start_time": "2022-10-06T19:55:32.070Z"
   },
   {
    "duration": 8,
    "start_time": "2022-10-06T19:55:32.186Z"
   },
   {
    "duration": 4,
    "start_time": "2022-10-06T19:55:39.474Z"
   },
   {
    "duration": 101,
    "start_time": "2022-10-06T19:55:58.661Z"
   },
   {
    "duration": 8,
    "start_time": "2022-10-06T19:56:41.211Z"
   },
   {
    "duration": 8,
    "start_time": "2022-10-06T19:57:36.780Z"
   },
   {
    "duration": 7,
    "start_time": "2022-10-06T19:57:45.109Z"
   },
   {
    "duration": 7,
    "start_time": "2022-10-06T19:58:17.188Z"
   },
   {
    "duration": 9,
    "start_time": "2022-10-06T20:03:04.602Z"
   },
   {
    "duration": 7,
    "start_time": "2022-10-06T20:11:12.884Z"
   },
   {
    "duration": 8,
    "start_time": "2022-10-06T20:12:06.828Z"
   },
   {
    "duration": 69,
    "start_time": "2022-10-06T20:27:15.691Z"
   },
   {
    "duration": 330,
    "start_time": "2022-10-06T20:27:54.846Z"
   },
   {
    "duration": 6,
    "start_time": "2022-10-06T20:45:58.176Z"
   },
   {
    "duration": 6,
    "start_time": "2022-10-06T20:46:50.115Z"
   },
   {
    "duration": 8,
    "start_time": "2022-10-06T20:47:09.274Z"
   },
   {
    "duration": 6,
    "start_time": "2022-10-06T20:47:15.396Z"
   },
   {
    "duration": 19,
    "start_time": "2022-10-06T20:48:12.893Z"
   },
   {
    "duration": 7,
    "start_time": "2022-10-06T20:48:28.042Z"
   },
   {
    "duration": 43,
    "start_time": "2022-10-08T18:35:43.543Z"
   },
   {
    "duration": 1144,
    "start_time": "2022-10-08T18:36:11.949Z"
   },
   {
    "duration": 27,
    "start_time": "2022-10-08T18:36:13.095Z"
   },
   {
    "duration": 18,
    "start_time": "2022-10-08T18:36:13.124Z"
   },
   {
    "duration": 1805,
    "start_time": "2022-10-08T18:36:13.144Z"
   },
   {
    "duration": 34,
    "start_time": "2022-10-08T18:36:14.951Z"
   },
   {
    "duration": 8,
    "start_time": "2022-10-08T18:36:14.986Z"
   },
   {
    "duration": 41,
    "start_time": "2022-10-08T18:36:14.996Z"
   },
   {
    "duration": 9,
    "start_time": "2022-10-08T18:36:15.038Z"
   },
   {
    "duration": 9,
    "start_time": "2022-10-08T18:36:15.048Z"
   },
   {
    "duration": 36,
    "start_time": "2022-10-08T18:36:15.059Z"
   },
   {
    "duration": 52,
    "start_time": "2022-10-08T18:36:15.096Z"
   },
   {
    "duration": 88,
    "start_time": "2022-10-08T18:36:15.149Z"
   },
   {
    "duration": 6,
    "start_time": "2022-10-08T18:36:15.239Z"
   },
   {
    "duration": 11,
    "start_time": "2022-10-08T18:36:15.246Z"
   },
   {
    "duration": 6,
    "start_time": "2022-10-08T18:36:15.258Z"
   },
   {
    "duration": 6,
    "start_time": "2022-10-08T18:36:15.266Z"
   },
   {
    "duration": 307,
    "start_time": "2022-10-08T18:36:15.274Z"
   },
   {
    "duration": 6,
    "start_time": "2022-10-08T18:36:15.583Z"
   },
   {
    "duration": 293,
    "start_time": "2022-10-08T18:36:15.591Z"
   },
   {
    "duration": 328,
    "start_time": "2022-10-08T18:37:08.929Z"
   },
   {
    "duration": 275,
    "start_time": "2022-10-08T18:43:58.009Z"
   },
   {
    "duration": 264,
    "start_time": "2022-10-08T18:44:22.477Z"
   },
   {
    "duration": 275,
    "start_time": "2022-10-08T19:18:27.608Z"
   },
   {
    "duration": 299,
    "start_time": "2022-10-08T19:29:19.928Z"
   },
   {
    "duration": 275,
    "start_time": "2022-10-08T19:29:54.005Z"
   },
   {
    "duration": 355,
    "start_time": "2022-10-08T19:41:52.886Z"
   },
   {
    "duration": 264,
    "start_time": "2022-10-08T19:53:00.329Z"
   },
   {
    "duration": 197,
    "start_time": "2022-10-08T20:01:59.444Z"
   },
   {
    "duration": 136,
    "start_time": "2022-10-08T20:02:14.957Z"
   },
   {
    "duration": 150,
    "start_time": "2022-10-08T20:04:04.129Z"
   },
   {
    "duration": 161,
    "start_time": "2022-10-08T20:04:29.140Z"
   },
   {
    "duration": 146,
    "start_time": "2022-10-08T20:04:44.684Z"
   },
   {
    "duration": 160,
    "start_time": "2022-10-08T20:04:53.830Z"
   },
   {
    "duration": 262,
    "start_time": "2022-10-08T20:05:07.829Z"
   },
   {
    "duration": 994,
    "start_time": "2022-10-08T20:09:15.459Z"
   },
   {
    "duration": 167,
    "start_time": "2022-10-08T20:09:30.038Z"
   },
   {
    "duration": 160,
    "start_time": "2022-10-08T20:09:41.166Z"
   },
   {
    "duration": 138,
    "start_time": "2022-10-08T20:09:51.522Z"
   },
   {
    "duration": 265,
    "start_time": "2022-10-08T20:13:14.435Z"
   },
   {
    "duration": 220,
    "start_time": "2022-10-08T20:18:55.180Z"
   },
   {
    "duration": 15,
    "start_time": "2022-10-08T20:19:31.609Z"
   },
   {
    "duration": 160,
    "start_time": "2022-10-08T20:20:14.034Z"
   },
   {
    "duration": 119,
    "start_time": "2022-10-08T20:23:11.497Z"
   },
   {
    "duration": 109,
    "start_time": "2022-10-08T20:23:18.415Z"
   },
   {
    "duration": 286,
    "start_time": "2022-10-08T20:27:07.286Z"
   },
   {
    "duration": 251,
    "start_time": "2022-10-08T20:36:12.115Z"
   },
   {
    "duration": 217,
    "start_time": "2022-10-08T20:36:19.986Z"
   },
   {
    "duration": 194,
    "start_time": "2022-10-08T20:49:24.705Z"
   },
   {
    "duration": 192,
    "start_time": "2022-10-08T20:49:32.315Z"
   },
   {
    "duration": 209,
    "start_time": "2022-10-08T20:49:42.579Z"
   },
   {
    "duration": 203,
    "start_time": "2022-10-08T20:49:48.343Z"
   },
   {
    "duration": 200,
    "start_time": "2022-10-08T21:18:10.830Z"
   },
   {
    "duration": 280,
    "start_time": "2022-10-08T21:25:04.207Z"
   },
   {
    "duration": 187,
    "start_time": "2022-10-08T21:25:11.800Z"
   },
   {
    "duration": 220,
    "start_time": "2022-10-08T21:25:20.332Z"
   },
   {
    "duration": 187,
    "start_time": "2022-10-08T21:32:10.333Z"
   },
   {
    "duration": 192,
    "start_time": "2022-10-08T21:32:19.787Z"
   },
   {
    "duration": 188,
    "start_time": "2022-10-08T21:36:22.698Z"
   },
   {
    "duration": 286,
    "start_time": "2022-10-08T21:46:16.451Z"
   },
   {
    "duration": 289,
    "start_time": "2022-10-08T21:47:18.417Z"
   },
   {
    "duration": 427,
    "start_time": "2022-10-08T21:48:05.941Z"
   },
   {
    "duration": 272,
    "start_time": "2022-10-08T21:49:18.084Z"
   },
   {
    "duration": 259,
    "start_time": "2022-10-08T21:49:27.587Z"
   },
   {
    "duration": 297,
    "start_time": "2022-10-08T21:49:39.554Z"
   },
   {
    "duration": 263,
    "start_time": "2022-10-08T21:49:50.340Z"
   },
   {
    "duration": 136,
    "start_time": "2022-10-08T22:52:39.040Z"
   },
   {
    "duration": 241,
    "start_time": "2022-10-08T22:59:51.789Z"
   },
   {
    "duration": 137,
    "start_time": "2022-10-08T23:03:11.637Z"
   },
   {
    "duration": 143,
    "start_time": "2022-10-08T23:14:10.219Z"
   },
   {
    "duration": 394,
    "start_time": "2022-10-08T23:18:14.280Z"
   },
   {
    "duration": 417,
    "start_time": "2022-10-08T23:20:35.725Z"
   },
   {
    "duration": 49,
    "start_time": "2022-10-09T10:08:36.976Z"
   },
   {
    "duration": 1301,
    "start_time": "2022-10-09T10:08:47.718Z"
   },
   {
    "duration": 47,
    "start_time": "2022-10-09T10:08:49.022Z"
   },
   {
    "duration": 8,
    "start_time": "2022-10-09T10:08:49.071Z"
   },
   {
    "duration": 2008,
    "start_time": "2022-10-09T10:08:49.081Z"
   },
   {
    "duration": 36,
    "start_time": "2022-10-09T10:08:51.091Z"
   },
   {
    "duration": 17,
    "start_time": "2022-10-09T10:08:51.129Z"
   },
   {
    "duration": 45,
    "start_time": "2022-10-09T10:08:51.148Z"
   },
   {
    "duration": 10,
    "start_time": "2022-10-09T10:08:51.195Z"
   },
   {
    "duration": 9,
    "start_time": "2022-10-09T10:08:51.208Z"
   },
   {
    "duration": 47,
    "start_time": "2022-10-09T10:08:51.235Z"
   },
   {
    "duration": 21,
    "start_time": "2022-10-09T10:08:51.284Z"
   },
   {
    "duration": 106,
    "start_time": "2022-10-09T10:08:51.307Z"
   },
   {
    "duration": 25,
    "start_time": "2022-10-09T10:08:51.415Z"
   },
   {
    "duration": 8,
    "start_time": "2022-10-09T10:08:51.448Z"
   },
   {
    "duration": 9,
    "start_time": "2022-10-09T10:08:51.457Z"
   },
   {
    "duration": 6,
    "start_time": "2022-10-09T10:08:51.468Z"
   },
   {
    "duration": 304,
    "start_time": "2022-10-09T10:08:51.476Z"
   },
   {
    "duration": 6,
    "start_time": "2022-10-09T10:08:51.782Z"
   },
   {
    "duration": 294,
    "start_time": "2022-10-09T10:08:51.790Z"
   },
   {
    "duration": 379,
    "start_time": "2022-10-09T10:08:52.086Z"
   },
   {
    "duration": 298,
    "start_time": "2022-10-09T10:08:52.467Z"
   },
   {
    "duration": 305,
    "start_time": "2022-10-09T10:08:52.767Z"
   },
   {
    "duration": 203,
    "start_time": "2022-10-09T10:08:53.074Z"
   },
   {
    "duration": 174,
    "start_time": "2022-10-09T10:08:53.280Z"
   },
   {
    "duration": 225,
    "start_time": "2022-10-09T10:08:53.456Z"
   },
   {
    "duration": 126,
    "start_time": "2022-10-09T10:08:53.683Z"
   },
   {
    "duration": 220,
    "start_time": "2022-10-09T10:08:53.811Z"
   },
   {
    "duration": 348,
    "start_time": "2022-10-09T10:08:54.033Z"
   },
   {
    "duration": 217,
    "start_time": "2022-10-09T10:08:54.382Z"
   },
   {
    "duration": 227,
    "start_time": "2022-10-09T10:08:54.601Z"
   },
   {
    "duration": 230,
    "start_time": "2022-10-09T10:08:54.830Z"
   },
   {
    "duration": 220,
    "start_time": "2022-10-09T10:08:55.062Z"
   },
   {
    "duration": 334,
    "start_time": "2022-10-09T10:08:55.284Z"
   },
   {
    "duration": 191,
    "start_time": "2022-10-09T10:08:55.621Z"
   },
   {
    "duration": 170,
    "start_time": "2022-10-09T10:08:55.814Z"
   },
   {
    "duration": 158,
    "start_time": "2022-10-09T10:08:55.986Z"
   },
   {
    "duration": 317,
    "start_time": "2022-10-09T10:08:56.150Z"
   },
   {
    "duration": 536,
    "start_time": "2022-10-09T10:08:56.470Z"
   },
   {
    "duration": 0,
    "start_time": "2022-10-09T10:08:57.008Z"
   },
   {
    "duration": 532,
    "start_time": "2022-10-09T10:10:13.164Z"
   },
   {
    "duration": 187,
    "start_time": "2022-10-09T10:10:39.928Z"
   },
   {
    "duration": 55,
    "start_time": "2022-10-09T10:20:58.820Z"
   },
   {
    "duration": 17,
    "start_time": "2022-10-09T10:21:04.315Z"
   },
   {
    "duration": 206,
    "start_time": "2022-10-09T10:23:37.497Z"
   },
   {
    "duration": 159,
    "start_time": "2022-10-09T10:23:56.756Z"
   },
   {
    "duration": 188,
    "start_time": "2022-10-09T10:37:29.156Z"
   },
   {
    "duration": 171,
    "start_time": "2022-10-09T10:37:53.115Z"
   },
   {
    "duration": 228,
    "start_time": "2022-10-09T10:40:04.756Z"
   },
   {
    "duration": 155,
    "start_time": "2022-10-09T10:48:43.459Z"
   },
   {
    "duration": 146,
    "start_time": "2022-10-09T11:12:49.888Z"
   },
   {
    "duration": 33,
    "start_time": "2022-10-09T11:23:37.960Z"
   },
   {
    "duration": 30,
    "start_time": "2022-10-09T11:23:56.277Z"
   },
   {
    "duration": 37,
    "start_time": "2022-10-09T11:25:12.391Z"
   },
   {
    "duration": 26,
    "start_time": "2022-10-09T11:25:17.820Z"
   },
   {
    "duration": 28,
    "start_time": "2022-10-09T11:25:25.576Z"
   },
   {
    "duration": 26,
    "start_time": "2022-10-09T11:27:09.946Z"
   },
   {
    "duration": 26,
    "start_time": "2022-10-09T11:27:43.285Z"
   },
   {
    "duration": 27,
    "start_time": "2022-10-09T11:27:52.062Z"
   },
   {
    "duration": 28,
    "start_time": "2022-10-09T11:39:03.603Z"
   },
   {
    "duration": 32,
    "start_time": "2022-10-09T11:40:20.172Z"
   },
   {
    "duration": 37,
    "start_time": "2022-10-09T11:42:01.470Z"
   },
   {
    "duration": 8,
    "start_time": "2022-10-09T11:42:42.753Z"
   },
   {
    "duration": 10,
    "start_time": "2022-10-09T11:43:23.085Z"
   },
   {
    "duration": 34,
    "start_time": "2022-10-09T11:45:12.667Z"
   },
   {
    "duration": 108,
    "start_time": "2022-10-09T11:50:53.539Z"
   },
   {
    "duration": 228,
    "start_time": "2022-10-09T11:53:04.448Z"
   },
   {
    "duration": 136,
    "start_time": "2022-10-09T11:55:17.384Z"
   },
   {
    "duration": 129,
    "start_time": "2022-10-09T11:56:14.045Z"
   },
   {
    "duration": 129,
    "start_time": "2022-10-09T11:56:19.247Z"
   },
   {
    "duration": 142,
    "start_time": "2022-10-09T11:56:33.312Z"
   },
   {
    "duration": 1001,
    "start_time": "2022-10-09T11:57:14.346Z"
   },
   {
    "duration": 151,
    "start_time": "2022-10-09T11:57:37.476Z"
   },
   {
    "duration": 757,
    "start_time": "2022-10-09T13:28:06.703Z"
   },
   {
    "duration": 27,
    "start_time": "2022-10-09T13:28:07.462Z"
   },
   {
    "duration": 9,
    "start_time": "2022-10-09T13:28:07.491Z"
   },
   {
    "duration": 1727,
    "start_time": "2022-10-09T13:28:07.502Z"
   },
   {
    "duration": 32,
    "start_time": "2022-10-09T13:28:09.230Z"
   },
   {
    "duration": 9,
    "start_time": "2022-10-09T13:28:09.264Z"
   },
   {
    "duration": 48,
    "start_time": "2022-10-09T13:28:09.274Z"
   },
   {
    "duration": 9,
    "start_time": "2022-10-09T13:28:09.324Z"
   },
   {
    "duration": 8,
    "start_time": "2022-10-09T13:28:09.335Z"
   },
   {
    "duration": 38,
    "start_time": "2022-10-09T13:28:09.346Z"
   },
   {
    "duration": 50,
    "start_time": "2022-10-09T13:28:09.386Z"
   },
   {
    "duration": 88,
    "start_time": "2022-10-09T13:28:09.438Z"
   },
   {
    "duration": 6,
    "start_time": "2022-10-09T13:28:09.527Z"
   },
   {
    "duration": 9,
    "start_time": "2022-10-09T13:28:09.535Z"
   },
   {
    "duration": 8,
    "start_time": "2022-10-09T13:28:09.545Z"
   },
   {
    "duration": 10,
    "start_time": "2022-10-09T13:28:09.554Z"
   },
   {
    "duration": 279,
    "start_time": "2022-10-09T13:28:09.566Z"
   },
   {
    "duration": 6,
    "start_time": "2022-10-09T13:28:09.846Z"
   },
   {
    "duration": 266,
    "start_time": "2022-10-09T13:28:09.853Z"
   },
   {
    "duration": 319,
    "start_time": "2022-10-09T13:28:10.121Z"
   },
   {
    "duration": 269,
    "start_time": "2022-10-09T13:28:10.441Z"
   },
   {
    "duration": 250,
    "start_time": "2022-10-09T13:28:10.711Z"
   },
   {
    "duration": 167,
    "start_time": "2022-10-09T13:28:10.963Z"
   },
   {
    "duration": 146,
    "start_time": "2022-10-09T13:28:11.131Z"
   },
   {
    "duration": 223,
    "start_time": "2022-10-09T13:28:11.278Z"
   },
   {
    "duration": 140,
    "start_time": "2022-10-09T13:28:11.503Z"
   },
   {
    "duration": 245,
    "start_time": "2022-10-09T13:28:11.645Z"
   },
   {
    "duration": 322,
    "start_time": "2022-10-09T13:28:11.893Z"
   },
   {
    "duration": 218,
    "start_time": "2022-10-09T13:28:12.216Z"
   },
   {
    "duration": 225,
    "start_time": "2022-10-09T13:28:12.436Z"
   },
   {
    "duration": 208,
    "start_time": "2022-10-09T13:28:12.662Z"
   },
   {
    "duration": 203,
    "start_time": "2022-10-09T13:28:12.872Z"
   },
   {
    "duration": 291,
    "start_time": "2022-10-09T13:28:13.076Z"
   },
   {
    "duration": 181,
    "start_time": "2022-10-09T13:28:13.369Z"
   },
   {
    "duration": 171,
    "start_time": "2022-10-09T13:28:13.552Z"
   },
   {
    "duration": 140,
    "start_time": "2022-10-09T13:28:13.725Z"
   },
   {
    "duration": 231,
    "start_time": "2022-10-09T13:28:13.866Z"
   },
   {
    "duration": 147,
    "start_time": "2022-10-09T13:28:14.098Z"
   },
   {
    "duration": 156,
    "start_time": "2022-10-09T13:28:14.246Z"
   },
   {
    "duration": 154,
    "start_time": "2022-10-09T13:28:14.404Z"
   },
   {
    "duration": 151,
    "start_time": "2022-10-09T13:28:14.559Z"
   },
   {
    "duration": 33,
    "start_time": "2022-10-09T13:28:14.712Z"
   },
   {
    "duration": 76,
    "start_time": "2022-10-09T13:28:14.746Z"
   },
   {
    "duration": 28,
    "start_time": "2022-10-09T13:45:28.168Z"
   },
   {
    "duration": 153,
    "start_time": "2022-10-09T13:46:13.525Z"
   },
   {
    "duration": 157,
    "start_time": "2022-10-09T13:46:39.336Z"
   },
   {
    "duration": 74,
    "start_time": "2022-10-09T15:03:50.257Z"
   },
   {
    "duration": 55,
    "start_time": "2022-10-09T15:04:53.995Z"
   },
   {
    "duration": 77,
    "start_time": "2022-10-09T15:06:03.809Z"
   },
   {
    "duration": 47,
    "start_time": "2022-10-09T15:06:31.746Z"
   },
   {
    "duration": 669,
    "start_time": "2022-10-09T21:32:53.150Z"
   },
   {
    "duration": 0,
    "start_time": "2022-10-09T21:33:18.385Z"
   },
   {
    "duration": 681,
    "start_time": "2022-10-09T21:33:18.548Z"
   },
   {
    "duration": 42,
    "start_time": "2022-10-09T21:33:19.231Z"
   },
   {
    "duration": 9,
    "start_time": "2022-10-09T21:33:19.275Z"
   },
   {
    "duration": 2083,
    "start_time": "2022-10-09T21:33:19.286Z"
   },
   {
    "duration": 43,
    "start_time": "2022-10-09T21:33:21.372Z"
   },
   {
    "duration": 10,
    "start_time": "2022-10-09T21:33:21.416Z"
   },
   {
    "duration": 59,
    "start_time": "2022-10-09T21:33:21.428Z"
   },
   {
    "duration": 13,
    "start_time": "2022-10-09T21:33:21.490Z"
   },
   {
    "duration": 17,
    "start_time": "2022-10-09T21:33:21.505Z"
   },
   {
    "duration": 74,
    "start_time": "2022-10-09T21:33:21.525Z"
   },
   {
    "duration": 32,
    "start_time": "2022-10-09T21:33:21.601Z"
   },
   {
    "duration": 124,
    "start_time": "2022-10-09T21:33:21.655Z"
   },
   {
    "duration": 9,
    "start_time": "2022-10-09T21:33:21.781Z"
   },
   {
    "duration": 27,
    "start_time": "2022-10-09T21:33:21.792Z"
   },
   {
    "duration": 28,
    "start_time": "2022-10-09T21:33:21.821Z"
   },
   {
    "duration": 19,
    "start_time": "2022-10-09T21:33:21.851Z"
   },
   {
    "duration": 359,
    "start_time": "2022-10-09T21:33:21.873Z"
   },
   {
    "duration": 8,
    "start_time": "2022-10-09T21:33:22.234Z"
   },
   {
    "duration": 326,
    "start_time": "2022-10-09T21:33:22.254Z"
   },
   {
    "duration": 429,
    "start_time": "2022-10-09T21:33:22.582Z"
   },
   {
    "duration": 312,
    "start_time": "2022-10-09T21:33:23.014Z"
   },
   {
    "duration": 314,
    "start_time": "2022-10-09T21:33:23.327Z"
   },
   {
    "duration": 192,
    "start_time": "2022-10-09T21:33:23.643Z"
   },
   {
    "duration": 177,
    "start_time": "2022-10-09T21:33:23.837Z"
   },
   {
    "duration": 255,
    "start_time": "2022-10-09T21:33:24.016Z"
   },
   {
    "duration": 139,
    "start_time": "2022-10-09T21:33:24.273Z"
   },
   {
    "duration": 243,
    "start_time": "2022-10-09T21:33:24.414Z"
   },
   {
    "duration": 346,
    "start_time": "2022-10-09T21:33:24.661Z"
   },
   {
    "duration": 254,
    "start_time": "2022-10-09T21:33:25.009Z"
   },
   {
    "duration": 266,
    "start_time": "2022-10-09T21:33:25.265Z"
   },
   {
    "duration": 251,
    "start_time": "2022-10-09T21:33:25.533Z"
   },
   {
    "duration": 234,
    "start_time": "2022-10-09T21:33:25.785Z"
   },
   {
    "duration": 303,
    "start_time": "2022-10-09T21:33:26.021Z"
   },
   {
    "duration": 183,
    "start_time": "2022-10-09T21:33:26.326Z"
   },
   {
    "duration": 186,
    "start_time": "2022-10-09T21:33:26.511Z"
   },
   {
    "duration": 182,
    "start_time": "2022-10-09T21:33:26.699Z"
   },
   {
    "duration": 273,
    "start_time": "2022-10-09T21:33:26.883Z"
   },
   {
    "duration": 181,
    "start_time": "2022-10-09T21:33:27.158Z"
   },
   {
    "duration": 210,
    "start_time": "2022-10-09T21:33:27.341Z"
   },
   {
    "duration": 226,
    "start_time": "2022-10-09T21:33:27.553Z"
   },
   {
    "duration": 191,
    "start_time": "2022-10-09T21:33:27.781Z"
   },
   {
    "duration": 36,
    "start_time": "2022-10-09T21:33:27.974Z"
   },
   {
    "duration": 205,
    "start_time": "2022-10-09T21:33:28.013Z"
   },
   {
    "duration": 31,
    "start_time": "2022-10-09T21:35:22.298Z"
   },
   {
    "duration": 56,
    "start_time": "2022-10-09T21:35:32.064Z"
   },
   {
    "duration": 22,
    "start_time": "2022-10-09T21:36:19.243Z"
   },
   {
    "duration": 81,
    "start_time": "2022-10-09T21:41:46.780Z"
   },
   {
    "duration": 5,
    "start_time": "2022-10-09T21:42:54.126Z"
   },
   {
    "duration": 7,
    "start_time": "2022-10-09T21:43:22.063Z"
   },
   {
    "duration": 50,
    "start_time": "2022-10-09T21:45:31.665Z"
   },
   {
    "duration": 166,
    "start_time": "2022-10-09T21:53:37.846Z"
   },
   {
    "duration": 33,
    "start_time": "2022-10-09T21:59:23.797Z"
   },
   {
    "duration": 42,
    "start_time": "2022-10-09T22:01:42.809Z"
   }
  ],
  "kernelspec": {
   "display_name": "Python 3 (ipykernel)",
   "language": "python",
   "name": "python3"
  },
  "language_info": {
   "codemirror_mode": {
    "name": "ipython",
    "version": 3
   },
   "file_extension": ".py",
   "mimetype": "text/x-python",
   "name": "python",
   "nbconvert_exporter": "python",
   "pygments_lexer": "ipython3",
   "version": "3.10.9"
  },
  "toc": {
   "base_numbering": 1,
   "nav_menu": {},
   "number_sections": true,
   "sideBar": true,
   "skip_h1_title": true,
   "title_cell": "Table of Contents",
   "title_sidebar": "Contents",
   "toc_cell": false,
   "toc_position": {
    "height": "calc(100% - 180px)",
    "left": "10px",
    "top": "150px",
    "width": "165px"
   },
   "toc_section_display": true,
   "toc_window_display": true
  }
 },
 "nbformat": 4,
 "nbformat_minor": 4
}
