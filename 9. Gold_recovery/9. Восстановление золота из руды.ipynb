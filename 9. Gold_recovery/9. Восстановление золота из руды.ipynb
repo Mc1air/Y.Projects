{
  "metadata": {
    "ExecuteTimeLog": [
      {
        "duration": 1649,
        "start_time": "2022-12-16T21:10:20.814Z"
      },
      {
        "duration": 1597,
        "start_time": "2022-12-17T20:29:28.016Z"
      },
      {
        "duration": 1621,
        "start_time": "2022-12-17T20:31:38.337Z"
      },
      {
        "duration": 340,
        "start_time": "2022-12-17T20:31:45.604Z"
      },
      {
        "duration": 840,
        "start_time": "2022-12-17T20:31:50.726Z"
      },
      {
        "duration": 3,
        "start_time": "2022-12-17T20:52:53.146Z"
      },
      {
        "duration": 3,
        "start_time": "2022-12-17T20:53:48.891Z"
      },
      {
        "duration": 734,
        "start_time": "2022-12-17T20:54:29.652Z"
      },
      {
        "duration": 10,
        "start_time": "2022-12-17T21:04:59.883Z"
      },
      {
        "duration": 9,
        "start_time": "2022-12-17T21:06:07.186Z"
      },
      {
        "duration": 210,
        "start_time": "2022-12-17T21:06:23.571Z"
      },
      {
        "duration": 211,
        "start_time": "2022-12-17T21:07:35.927Z"
      },
      {
        "duration": 3,
        "start_time": "2022-12-17T22:46:09.818Z"
      },
      {
        "duration": 10,
        "start_time": "2022-12-17T22:54:24.033Z"
      },
      {
        "duration": 4,
        "start_time": "2022-12-17T22:54:25.963Z"
      },
      {
        "duration": 5,
        "start_time": "2022-12-17T22:55:34.088Z"
      },
      {
        "duration": 13,
        "start_time": "2022-12-17T22:55:38.868Z"
      },
      {
        "duration": 9,
        "start_time": "2022-12-17T23:13:16.492Z"
      },
      {
        "duration": 4,
        "start_time": "2022-12-17T23:13:27.277Z"
      },
      {
        "duration": 48,
        "start_time": "2022-12-19T15:49:00.685Z"
      },
      {
        "duration": 1535,
        "start_time": "2022-12-19T15:49:10.009Z"
      },
      {
        "duration": 3043,
        "start_time": "2022-12-19T15:49:11.546Z"
      },
      {
        "duration": 806,
        "start_time": "2022-12-19T15:49:14.591Z"
      },
      {
        "duration": 252,
        "start_time": "2022-12-19T15:49:15.399Z"
      },
      {
        "duration": 8,
        "start_time": "2022-12-19T15:49:15.654Z"
      },
      {
        "duration": 17,
        "start_time": "2022-12-19T15:49:15.664Z"
      },
      {
        "duration": 7,
        "start_time": "2022-12-19T15:49:15.683Z"
      },
      {
        "duration": 19,
        "start_time": "2022-12-19T15:49:15.691Z"
      },
      {
        "duration": 5,
        "start_time": "2022-12-19T15:49:15.711Z"
      },
      {
        "duration": 22,
        "start_time": "2022-12-19T15:49:15.717Z"
      },
      {
        "duration": 13,
        "start_time": "2022-12-19T15:49:39.933Z"
      },
      {
        "duration": 18,
        "start_time": "2022-12-19T15:58:35.075Z"
      },
      {
        "duration": 6,
        "start_time": "2022-12-19T16:03:08.198Z"
      },
      {
        "duration": 12,
        "start_time": "2022-12-19T16:03:33.442Z"
      },
      {
        "duration": 5,
        "start_time": "2022-12-19T16:13:30.293Z"
      },
      {
        "duration": 12,
        "start_time": "2022-12-19T16:13:32.786Z"
      },
      {
        "duration": 17,
        "start_time": "2022-12-19T16:13:34.523Z"
      },
      {
        "duration": 5,
        "start_time": "2022-12-19T16:14:00.174Z"
      },
      {
        "duration": 13,
        "start_time": "2022-12-19T16:14:01.692Z"
      },
      {
        "duration": 15,
        "start_time": "2022-12-19T16:14:23.437Z"
      },
      {
        "duration": 1323,
        "start_time": "2022-12-19T16:15:57.153Z"
      },
      {
        "duration": 673,
        "start_time": "2022-12-19T16:15:58.478Z"
      },
      {
        "duration": 663,
        "start_time": "2022-12-19T16:15:59.152Z"
      },
      {
        "duration": 215,
        "start_time": "2022-12-19T16:15:59.816Z"
      },
      {
        "duration": 7,
        "start_time": "2022-12-19T16:16:00.033Z"
      },
      {
        "duration": 24,
        "start_time": "2022-12-19T16:16:00.042Z"
      },
      {
        "duration": 35,
        "start_time": "2022-12-19T16:16:00.068Z"
      },
      {
        "duration": 30,
        "start_time": "2022-12-19T16:16:00.104Z"
      },
      {
        "duration": 39,
        "start_time": "2022-12-19T16:16:00.136Z"
      },
      {
        "duration": 33,
        "start_time": "2022-12-19T16:16:00.177Z"
      },
      {
        "duration": 59,
        "start_time": "2022-12-19T16:16:00.211Z"
      },
      {
        "duration": 48,
        "start_time": "2022-12-19T16:16:00.272Z"
      },
      {
        "duration": 26,
        "start_time": "2022-12-19T16:16:00.322Z"
      },
      {
        "duration": 15,
        "start_time": "2022-12-19T16:16:00.350Z"
      },
      {
        "duration": 51,
        "start_time": "2022-12-19T16:16:00.366Z"
      },
      {
        "duration": 48,
        "start_time": "2022-12-19T16:16:00.418Z"
      },
      {
        "duration": 17,
        "start_time": "2022-12-19T16:18:56.646Z"
      },
      {
        "duration": 35,
        "start_time": "2022-12-19T16:19:42.232Z"
      },
      {
        "duration": 1699,
        "start_time": "2022-12-20T13:17:48.478Z"
      },
      {
        "duration": 2976,
        "start_time": "2022-12-20T13:17:50.179Z"
      },
      {
        "duration": 741,
        "start_time": "2022-12-20T13:17:53.157Z"
      },
      {
        "duration": 241,
        "start_time": "2022-12-20T13:17:53.900Z"
      },
      {
        "duration": 8,
        "start_time": "2022-12-20T13:17:54.143Z"
      },
      {
        "duration": 5,
        "start_time": "2022-12-20T13:17:54.153Z"
      },
      {
        "duration": 8,
        "start_time": "2022-12-20T13:17:54.159Z"
      },
      {
        "duration": 35,
        "start_time": "2022-12-20T13:17:54.169Z"
      },
      {
        "duration": 6,
        "start_time": "2022-12-20T13:17:54.206Z"
      },
      {
        "duration": 7,
        "start_time": "2022-12-20T13:17:54.216Z"
      },
      {
        "duration": 17,
        "start_time": "2022-12-20T13:17:54.225Z"
      },
      {
        "duration": 13,
        "start_time": "2022-12-20T13:17:54.243Z"
      },
      {
        "duration": 44,
        "start_time": "2022-12-20T13:17:54.258Z"
      },
      {
        "duration": 7,
        "start_time": "2022-12-20T13:17:54.304Z"
      },
      {
        "duration": 16,
        "start_time": "2022-12-20T13:17:54.313Z"
      },
      {
        "duration": 15,
        "start_time": "2022-12-20T13:17:54.330Z"
      },
      {
        "duration": 72,
        "start_time": "2022-12-20T13:17:54.347Z"
      },
      {
        "duration": 121,
        "start_time": "2022-12-20T14:04:27.014Z"
      },
      {
        "duration": 1046,
        "start_time": "2022-12-20T14:05:25.469Z"
      },
      {
        "duration": 904,
        "start_time": "2022-12-20T14:10:00.985Z"
      },
      {
        "duration": 761,
        "start_time": "2022-12-20T14:10:31.724Z"
      },
      {
        "duration": 865,
        "start_time": "2022-12-20T14:10:44.811Z"
      },
      {
        "duration": 793,
        "start_time": "2022-12-20T14:11:19.159Z"
      },
      {
        "duration": 922,
        "start_time": "2022-12-20T14:11:31.024Z"
      },
      {
        "duration": 1009,
        "start_time": "2022-12-20T14:11:45.394Z"
      },
      {
        "duration": 878,
        "start_time": "2022-12-20T14:12:02.987Z"
      },
      {
        "duration": 773,
        "start_time": "2022-12-20T14:12:32.081Z"
      },
      {
        "duration": 67,
        "start_time": "2022-12-20T14:14:07.778Z"
      },
      {
        "duration": 920,
        "start_time": "2022-12-20T14:16:51.724Z"
      },
      {
        "duration": 728,
        "start_time": "2022-12-20T14:40:50.302Z"
      },
      {
        "duration": 731,
        "start_time": "2022-12-20T14:41:06.787Z"
      },
      {
        "duration": 860,
        "start_time": "2022-12-20T14:41:34.591Z"
      },
      {
        "duration": 484,
        "start_time": "2022-12-20T14:45:30.990Z"
      },
      {
        "duration": 602,
        "start_time": "2022-12-20T14:46:46.898Z"
      },
      {
        "duration": 51,
        "start_time": "2022-12-20T14:57:15.968Z"
      },
      {
        "duration": 11,
        "start_time": "2022-12-20T14:59:21.582Z"
      },
      {
        "duration": 712,
        "start_time": "2022-12-20T14:59:36.632Z"
      },
      {
        "duration": 1083,
        "start_time": "2022-12-20T15:00:11.554Z"
      },
      {
        "duration": 846,
        "start_time": "2022-12-20T15:01:09.487Z"
      },
      {
        "duration": 1699,
        "start_time": "2022-12-20T15:19:53.596Z"
      },
      {
        "duration": 2946,
        "start_time": "2022-12-20T15:19:55.297Z"
      },
      {
        "duration": 794,
        "start_time": "2022-12-20T15:19:58.246Z"
      },
      {
        "duration": 229,
        "start_time": "2022-12-20T15:19:59.042Z"
      },
      {
        "duration": 9,
        "start_time": "2022-12-20T15:19:59.277Z"
      },
      {
        "duration": 22,
        "start_time": "2022-12-20T15:19:59.288Z"
      },
      {
        "duration": 16,
        "start_time": "2022-12-20T15:19:59.312Z"
      },
      {
        "duration": 37,
        "start_time": "2022-12-20T15:19:59.330Z"
      },
      {
        "duration": 16,
        "start_time": "2022-12-20T15:19:59.369Z"
      },
      {
        "duration": 13,
        "start_time": "2022-12-20T15:19:59.389Z"
      },
      {
        "duration": 37,
        "start_time": "2022-12-20T15:19:59.403Z"
      },
      {
        "duration": 22,
        "start_time": "2022-12-20T15:19:59.442Z"
      },
      {
        "duration": 25,
        "start_time": "2022-12-20T15:19:59.466Z"
      },
      {
        "duration": 6,
        "start_time": "2022-12-20T15:19:59.492Z"
      },
      {
        "duration": 28,
        "start_time": "2022-12-20T15:19:59.500Z"
      },
      {
        "duration": 45,
        "start_time": "2022-12-20T15:19:59.530Z"
      },
      {
        "duration": 21,
        "start_time": "2022-12-20T15:19:59.577Z"
      },
      {
        "duration": 31,
        "start_time": "2022-12-20T15:19:59.600Z"
      },
      {
        "duration": 62,
        "start_time": "2022-12-20T15:19:59.633Z"
      },
      {
        "duration": 123,
        "start_time": "2022-12-20T15:19:59.697Z"
      },
      {
        "duration": 0,
        "start_time": "2022-12-20T15:19:59.822Z"
      },
      {
        "duration": 0,
        "start_time": "2022-12-20T15:19:59.823Z"
      },
      {
        "duration": 0,
        "start_time": "2022-12-20T15:19:59.824Z"
      },
      {
        "duration": 0,
        "start_time": "2022-12-20T15:19:59.826Z"
      },
      {
        "duration": 0,
        "start_time": "2022-12-20T15:19:59.827Z"
      },
      {
        "duration": 0,
        "start_time": "2022-12-20T15:19:59.828Z"
      },
      {
        "duration": 6,
        "start_time": "2022-12-20T15:23:07.933Z"
      },
      {
        "duration": 9,
        "start_time": "2022-12-20T15:23:08.551Z"
      },
      {
        "duration": 16,
        "start_time": "2022-12-20T15:23:09.175Z"
      },
      {
        "duration": 16,
        "start_time": "2022-12-20T15:23:11.131Z"
      },
      {
        "duration": 11,
        "start_time": "2022-12-20T15:23:16.338Z"
      },
      {
        "duration": 17,
        "start_time": "2022-12-20T15:23:19.373Z"
      },
      {
        "duration": 18,
        "start_time": "2022-12-20T15:23:54.328Z"
      },
      {
        "duration": 1461,
        "start_time": "2022-12-20T15:24:22.438Z"
      },
      {
        "duration": 686,
        "start_time": "2022-12-20T15:24:23.901Z"
      },
      {
        "duration": 736,
        "start_time": "2022-12-20T15:24:24.588Z"
      },
      {
        "duration": 240,
        "start_time": "2022-12-20T15:24:25.326Z"
      },
      {
        "duration": 15,
        "start_time": "2022-12-20T15:24:25.568Z"
      },
      {
        "duration": 4,
        "start_time": "2022-12-20T15:24:25.584Z"
      },
      {
        "duration": 8,
        "start_time": "2022-12-20T15:24:25.590Z"
      },
      {
        "duration": 14,
        "start_time": "2022-12-20T15:24:25.600Z"
      },
      {
        "duration": 5,
        "start_time": "2022-12-20T15:24:25.615Z"
      },
      {
        "duration": 8,
        "start_time": "2022-12-20T15:24:25.621Z"
      },
      {
        "duration": 50,
        "start_time": "2022-12-20T15:24:25.630Z"
      },
      {
        "duration": 6,
        "start_time": "2022-12-20T15:24:25.682Z"
      },
      {
        "duration": 13,
        "start_time": "2022-12-20T15:24:25.690Z"
      },
      {
        "duration": 17,
        "start_time": "2022-12-20T15:24:25.706Z"
      },
      {
        "duration": 15,
        "start_time": "2022-12-20T15:24:25.724Z"
      },
      {
        "duration": 39,
        "start_time": "2022-12-20T15:24:25.741Z"
      },
      {
        "duration": 17,
        "start_time": "2022-12-20T15:24:25.782Z"
      },
      {
        "duration": 15,
        "start_time": "2022-12-20T15:24:25.800Z"
      },
      {
        "duration": 73,
        "start_time": "2022-12-20T15:24:25.816Z"
      },
      {
        "duration": 130,
        "start_time": "2022-12-20T15:24:25.892Z"
      },
      {
        "duration": 0,
        "start_time": "2022-12-20T15:24:26.023Z"
      },
      {
        "duration": 0,
        "start_time": "2022-12-20T15:24:26.025Z"
      },
      {
        "duration": 0,
        "start_time": "2022-12-20T15:24:26.026Z"
      },
      {
        "duration": 0,
        "start_time": "2022-12-20T15:24:26.027Z"
      },
      {
        "duration": 0,
        "start_time": "2022-12-20T15:24:26.028Z"
      },
      {
        "duration": 0,
        "start_time": "2022-12-20T15:24:26.029Z"
      },
      {
        "duration": 19,
        "start_time": "2022-12-20T15:25:17.942Z"
      },
      {
        "duration": 9,
        "start_time": "2022-12-20T15:25:42.648Z"
      },
      {
        "duration": 17,
        "start_time": "2022-12-20T15:28:04.480Z"
      },
      {
        "duration": 3,
        "start_time": "2022-12-20T15:28:44.145Z"
      },
      {
        "duration": 861,
        "start_time": "2022-12-20T15:28:44.752Z"
      },
      {
        "duration": 752,
        "start_time": "2022-12-20T15:28:46.856Z"
      },
      {
        "duration": 1019,
        "start_time": "2022-12-20T15:28:48.402Z"
      },
      {
        "duration": 649,
        "start_time": "2022-12-20T15:28:50.290Z"
      },
      {
        "duration": 643,
        "start_time": "2022-12-20T15:29:04.093Z"
      },
      {
        "duration": 764,
        "start_time": "2022-12-20T15:29:09.642Z"
      },
      {
        "duration": 926,
        "start_time": "2022-12-20T15:30:01.032Z"
      },
      {
        "duration": 758,
        "start_time": "2022-12-20T15:30:04.678Z"
      },
      {
        "duration": 865,
        "start_time": "2022-12-20T15:30:08.472Z"
      },
      {
        "duration": 615,
        "start_time": "2022-12-20T15:30:12.011Z"
      },
      {
        "duration": 14,
        "start_time": "2022-12-20T15:30:38.769Z"
      },
      {
        "duration": 21,
        "start_time": "2022-12-20T15:31:12.106Z"
      },
      {
        "duration": 19,
        "start_time": "2022-12-20T15:32:49.906Z"
      },
      {
        "duration": 16,
        "start_time": "2022-12-20T15:34:24.757Z"
      },
      {
        "duration": 9,
        "start_time": "2022-12-20T15:34:27.285Z"
      },
      {
        "duration": 20,
        "start_time": "2022-12-20T15:34:28.989Z"
      },
      {
        "duration": 11,
        "start_time": "2022-12-20T15:35:02.048Z"
      },
      {
        "duration": 14,
        "start_time": "2022-12-20T15:35:04.864Z"
      },
      {
        "duration": 5,
        "start_time": "2022-12-20T15:36:05.691Z"
      },
      {
        "duration": 14,
        "start_time": "2022-12-20T15:36:06.643Z"
      },
      {
        "duration": 1381,
        "start_time": "2022-12-20T15:36:37.123Z"
      },
      {
        "duration": 686,
        "start_time": "2022-12-20T15:36:38.506Z"
      },
      {
        "duration": 726,
        "start_time": "2022-12-20T15:36:39.194Z"
      },
      {
        "duration": 230,
        "start_time": "2022-12-20T15:36:39.922Z"
      },
      {
        "duration": 9,
        "start_time": "2022-12-20T15:36:40.154Z"
      },
      {
        "duration": 15,
        "start_time": "2022-12-20T15:36:40.164Z"
      },
      {
        "duration": 5,
        "start_time": "2022-12-20T15:36:40.180Z"
      },
      {
        "duration": 18,
        "start_time": "2022-12-20T15:36:40.186Z"
      },
      {
        "duration": 4,
        "start_time": "2022-12-20T15:36:40.206Z"
      },
      {
        "duration": 10,
        "start_time": "2022-12-20T15:36:40.213Z"
      },
      {
        "duration": 35,
        "start_time": "2022-12-20T15:36:40.224Z"
      },
      {
        "duration": 18,
        "start_time": "2022-12-20T15:36:40.261Z"
      },
      {
        "duration": 9,
        "start_time": "2022-12-20T15:36:40.281Z"
      },
      {
        "duration": 15,
        "start_time": "2022-12-20T15:36:40.292Z"
      },
      {
        "duration": 15,
        "start_time": "2022-12-20T15:36:40.309Z"
      },
      {
        "duration": 15,
        "start_time": "2022-12-20T15:36:40.326Z"
      },
      {
        "duration": 48,
        "start_time": "2022-12-20T15:36:40.343Z"
      },
      {
        "duration": 16,
        "start_time": "2022-12-20T15:36:40.392Z"
      },
      {
        "duration": 14,
        "start_time": "2022-12-20T15:36:40.410Z"
      },
      {
        "duration": 14,
        "start_time": "2022-12-20T15:36:40.425Z"
      },
      {
        "duration": 39,
        "start_time": "2022-12-20T15:36:40.441Z"
      },
      {
        "duration": 24,
        "start_time": "2022-12-20T15:36:40.482Z"
      },
      {
        "duration": 14,
        "start_time": "2022-12-20T15:36:40.507Z"
      },
      {
        "duration": 866,
        "start_time": "2022-12-20T15:36:40.523Z"
      },
      {
        "duration": 760,
        "start_time": "2022-12-20T15:36:41.391Z"
      },
      {
        "duration": 900,
        "start_time": "2022-12-20T15:36:42.153Z"
      },
      {
        "duration": 622,
        "start_time": "2022-12-20T15:36:43.055Z"
      },
      {
        "duration": 13,
        "start_time": "2022-12-20T15:36:43.680Z"
      },
      {
        "duration": 13,
        "start_time": "2022-12-20T15:36:43.694Z"
      },
      {
        "duration": 834,
        "start_time": "2022-12-20T15:36:43.709Z"
      },
      {
        "duration": 9,
        "start_time": "2022-12-20T15:38:41.610Z"
      },
      {
        "duration": 15,
        "start_time": "2022-12-20T15:38:46.392Z"
      },
      {
        "duration": 9,
        "start_time": "2022-12-20T15:40:33.155Z"
      },
      {
        "duration": 1484,
        "start_time": "2022-12-20T15:40:40.307Z"
      },
      {
        "duration": 716,
        "start_time": "2022-12-20T15:40:41.794Z"
      },
      {
        "duration": 777,
        "start_time": "2022-12-20T15:40:42.512Z"
      },
      {
        "duration": 253,
        "start_time": "2022-12-20T15:40:43.290Z"
      },
      {
        "duration": 15,
        "start_time": "2022-12-20T15:40:43.547Z"
      },
      {
        "duration": 18,
        "start_time": "2022-12-20T15:40:43.565Z"
      },
      {
        "duration": 12,
        "start_time": "2022-12-20T15:40:43.586Z"
      },
      {
        "duration": 21,
        "start_time": "2022-12-20T15:40:43.601Z"
      },
      {
        "duration": 4,
        "start_time": "2022-12-20T15:40:43.624Z"
      },
      {
        "duration": 11,
        "start_time": "2022-12-20T15:40:43.630Z"
      },
      {
        "duration": 44,
        "start_time": "2022-12-20T15:40:43.643Z"
      },
      {
        "duration": 7,
        "start_time": "2022-12-20T15:40:43.690Z"
      },
      {
        "duration": 13,
        "start_time": "2022-12-20T15:40:43.699Z"
      },
      {
        "duration": 26,
        "start_time": "2022-12-20T15:40:43.716Z"
      },
      {
        "duration": 34,
        "start_time": "2022-12-20T15:40:43.744Z"
      },
      {
        "duration": 19,
        "start_time": "2022-12-20T15:40:43.780Z"
      },
      {
        "duration": 17,
        "start_time": "2022-12-20T15:40:43.801Z"
      },
      {
        "duration": 29,
        "start_time": "2022-12-20T15:40:43.820Z"
      },
      {
        "duration": 18,
        "start_time": "2022-12-20T15:40:43.877Z"
      },
      {
        "duration": 16,
        "start_time": "2022-12-20T15:40:43.896Z"
      },
      {
        "duration": 81,
        "start_time": "2022-12-20T15:40:43.914Z"
      },
      {
        "duration": 16,
        "start_time": "2022-12-20T15:40:43.997Z"
      },
      {
        "duration": 924,
        "start_time": "2022-12-20T15:40:44.015Z"
      },
      {
        "duration": 776,
        "start_time": "2022-12-20T15:40:44.941Z"
      },
      {
        "duration": 956,
        "start_time": "2022-12-20T15:40:45.719Z"
      },
      {
        "duration": 614,
        "start_time": "2022-12-20T15:40:46.678Z"
      },
      {
        "duration": 13,
        "start_time": "2022-12-20T15:40:47.295Z"
      },
      {
        "duration": 14,
        "start_time": "2022-12-20T15:40:47.310Z"
      },
      {
        "duration": 920,
        "start_time": "2022-12-20T15:40:47.326Z"
      },
      {
        "duration": 16,
        "start_time": "2022-12-20T15:42:31.921Z"
      },
      {
        "duration": 11,
        "start_time": "2022-12-20T15:42:45.387Z"
      },
      {
        "duration": 38,
        "start_time": "2022-12-20T15:42:46.531Z"
      },
      {
        "duration": 12,
        "start_time": "2022-12-20T15:44:02.496Z"
      },
      {
        "duration": 32,
        "start_time": "2022-12-20T15:44:03.663Z"
      },
      {
        "duration": 10,
        "start_time": "2022-12-20T15:44:29.010Z"
      },
      {
        "duration": 12,
        "start_time": "2022-12-20T15:44:45.911Z"
      },
      {
        "duration": 1437,
        "start_time": "2022-12-20T15:45:09.563Z"
      },
      {
        "duration": 685,
        "start_time": "2022-12-20T15:45:11.003Z"
      },
      {
        "duration": 764,
        "start_time": "2022-12-20T15:45:11.690Z"
      },
      {
        "duration": 257,
        "start_time": "2022-12-20T15:45:12.457Z"
      },
      {
        "duration": 13,
        "start_time": "2022-12-20T15:45:12.716Z"
      },
      {
        "duration": 6,
        "start_time": "2022-12-20T15:45:12.731Z"
      },
      {
        "duration": 11,
        "start_time": "2022-12-20T15:45:12.739Z"
      },
      {
        "duration": 34,
        "start_time": "2022-12-20T15:45:12.752Z"
      },
      {
        "duration": 6,
        "start_time": "2022-12-20T15:45:12.788Z"
      },
      {
        "duration": 10,
        "start_time": "2022-12-20T15:45:12.797Z"
      },
      {
        "duration": 19,
        "start_time": "2022-12-20T15:45:12.809Z"
      },
      {
        "duration": 8,
        "start_time": "2022-12-20T15:45:12.829Z"
      },
      {
        "duration": 11,
        "start_time": "2022-12-20T15:45:12.839Z"
      },
      {
        "duration": 35,
        "start_time": "2022-12-20T15:45:12.851Z"
      },
      {
        "duration": 15,
        "start_time": "2022-12-20T15:45:12.887Z"
      },
      {
        "duration": 18,
        "start_time": "2022-12-20T15:45:12.903Z"
      },
      {
        "duration": 15,
        "start_time": "2022-12-20T15:45:12.923Z"
      },
      {
        "duration": 43,
        "start_time": "2022-12-20T15:45:12.940Z"
      },
      {
        "duration": 128,
        "start_time": "2022-12-20T15:45:12.985Z"
      },
      {
        "duration": 0,
        "start_time": "2022-12-20T15:45:13.115Z"
      },
      {
        "duration": 0,
        "start_time": "2022-12-20T15:45:13.117Z"
      },
      {
        "duration": 0,
        "start_time": "2022-12-20T15:45:13.119Z"
      },
      {
        "duration": 0,
        "start_time": "2022-12-20T15:45:13.120Z"
      },
      {
        "duration": 0,
        "start_time": "2022-12-20T15:45:13.121Z"
      },
      {
        "duration": 0,
        "start_time": "2022-12-20T15:45:13.124Z"
      },
      {
        "duration": 0,
        "start_time": "2022-12-20T15:45:13.125Z"
      },
      {
        "duration": 0,
        "start_time": "2022-12-20T15:45:13.127Z"
      },
      {
        "duration": 12,
        "start_time": "2022-12-20T15:45:38.413Z"
      },
      {
        "duration": 11,
        "start_time": "2022-12-20T15:45:41.029Z"
      },
      {
        "duration": 11,
        "start_time": "2022-12-20T15:45:44.480Z"
      },
      {
        "duration": 11,
        "start_time": "2022-12-20T15:45:47.608Z"
      },
      {
        "duration": 6,
        "start_time": "2022-12-20T15:45:53.463Z"
      },
      {
        "duration": 679,
        "start_time": "2022-12-20T15:45:54.645Z"
      },
      {
        "duration": 707,
        "start_time": "2022-12-20T15:45:55.387Z"
      },
      {
        "duration": 214,
        "start_time": "2022-12-20T15:45:56.203Z"
      },
      {
        "duration": 9,
        "start_time": "2022-12-20T15:46:00.381Z"
      },
      {
        "duration": 5,
        "start_time": "2022-12-20T15:46:01.517Z"
      },
      {
        "duration": 4,
        "start_time": "2022-12-20T15:46:03.351Z"
      },
      {
        "duration": 13,
        "start_time": "2022-12-20T15:46:04.136Z"
      },
      {
        "duration": 4,
        "start_time": "2022-12-20T15:46:05.437Z"
      },
      {
        "duration": 6,
        "start_time": "2022-12-20T15:46:06.902Z"
      },
      {
        "duration": 14,
        "start_time": "2022-12-20T15:46:07.526Z"
      },
      {
        "duration": 5,
        "start_time": "2022-12-20T15:46:08.294Z"
      },
      {
        "duration": 7,
        "start_time": "2022-12-20T15:46:09.018Z"
      },
      {
        "duration": 14,
        "start_time": "2022-12-20T15:46:09.721Z"
      },
      {
        "duration": 15,
        "start_time": "2022-12-20T15:46:10.366Z"
      },
      {
        "duration": 17,
        "start_time": "2022-12-20T15:46:10.989Z"
      },
      {
        "duration": 16,
        "start_time": "2022-12-20T15:46:12.278Z"
      },
      {
        "duration": 14,
        "start_time": "2022-12-20T15:46:14.029Z"
      },
      {
        "duration": 11,
        "start_time": "2022-12-20T15:46:14.855Z"
      },
      {
        "duration": 15,
        "start_time": "2022-12-20T15:46:16.676Z"
      },
      {
        "duration": 11,
        "start_time": "2022-12-20T15:46:26.127Z"
      },
      {
        "duration": 9,
        "start_time": "2022-12-20T15:46:42.144Z"
      },
      {
        "duration": 11,
        "start_time": "2022-12-20T15:47:05.321Z"
      },
      {
        "duration": 11,
        "start_time": "2022-12-20T15:47:31.131Z"
      },
      {
        "duration": 5,
        "start_time": "2022-12-20T15:47:49.004Z"
      },
      {
        "duration": 648,
        "start_time": "2022-12-20T15:47:50.131Z"
      },
      {
        "duration": 728,
        "start_time": "2022-12-20T15:47:51.873Z"
      },
      {
        "duration": 217,
        "start_time": "2022-12-20T15:47:54.061Z"
      },
      {
        "duration": 7,
        "start_time": "2022-12-20T15:47:57.957Z"
      },
      {
        "duration": 5,
        "start_time": "2022-12-20T15:47:59.212Z"
      },
      {
        "duration": 4,
        "start_time": "2022-12-20T15:48:02.093Z"
      },
      {
        "duration": 11,
        "start_time": "2022-12-20T15:48:03.324Z"
      },
      {
        "duration": 4,
        "start_time": "2022-12-20T15:48:06.013Z"
      },
      {
        "duration": 6,
        "start_time": "2022-12-20T15:48:11.197Z"
      },
      {
        "duration": 16,
        "start_time": "2022-12-20T15:48:15.247Z"
      },
      {
        "duration": 6,
        "start_time": "2022-12-20T15:48:18.270Z"
      },
      {
        "duration": 7,
        "start_time": "2022-12-20T15:48:25.159Z"
      },
      {
        "duration": 90,
        "start_time": "2022-12-20T15:48:34.919Z"
      },
      {
        "duration": 14,
        "start_time": "2022-12-20T15:48:36.199Z"
      },
      {
        "duration": 14,
        "start_time": "2022-12-20T15:48:39.535Z"
      },
      {
        "duration": 18,
        "start_time": "2022-12-20T15:48:42.614Z"
      },
      {
        "duration": 16,
        "start_time": "2022-12-20T15:48:43.991Z"
      },
      {
        "duration": 9,
        "start_time": "2022-12-20T15:48:53.760Z"
      },
      {
        "duration": 10,
        "start_time": "2022-12-20T15:49:18.297Z"
      },
      {
        "duration": 14,
        "start_time": "2022-12-20T15:49:20.417Z"
      },
      {
        "duration": 17,
        "start_time": "2022-12-20T15:49:26.450Z"
      },
      {
        "duration": 50,
        "start_time": "2022-12-21T07:22:05.749Z"
      },
      {
        "duration": 1681,
        "start_time": "2022-12-21T07:22:24.007Z"
      },
      {
        "duration": 2712,
        "start_time": "2022-12-21T07:22:25.690Z"
      },
      {
        "duration": 677,
        "start_time": "2022-12-21T07:22:28.404Z"
      },
      {
        "duration": 226,
        "start_time": "2022-12-21T07:22:29.083Z"
      },
      {
        "duration": 9,
        "start_time": "2022-12-21T07:22:29.310Z"
      },
      {
        "duration": 6,
        "start_time": "2022-12-21T07:22:29.325Z"
      },
      {
        "duration": 10,
        "start_time": "2022-12-21T07:22:29.333Z"
      },
      {
        "duration": 18,
        "start_time": "2022-12-21T07:22:29.344Z"
      },
      {
        "duration": 4,
        "start_time": "2022-12-21T07:22:29.364Z"
      },
      {
        "duration": 118,
        "start_time": "2022-12-21T07:22:29.370Z"
      },
      {
        "duration": 0,
        "start_time": "2022-12-21T07:22:29.490Z"
      },
      {
        "duration": 0,
        "start_time": "2022-12-21T07:22:29.492Z"
      },
      {
        "duration": 0,
        "start_time": "2022-12-21T07:22:29.493Z"
      },
      {
        "duration": 0,
        "start_time": "2022-12-21T07:22:29.495Z"
      },
      {
        "duration": 0,
        "start_time": "2022-12-21T07:22:29.496Z"
      },
      {
        "duration": 0,
        "start_time": "2022-12-21T07:22:29.498Z"
      },
      {
        "duration": 0,
        "start_time": "2022-12-21T07:22:29.499Z"
      },
      {
        "duration": 0,
        "start_time": "2022-12-21T07:22:29.501Z"
      },
      {
        "duration": 0,
        "start_time": "2022-12-21T07:22:29.502Z"
      },
      {
        "duration": 0,
        "start_time": "2022-12-21T07:22:29.504Z"
      },
      {
        "duration": 0,
        "start_time": "2022-12-21T07:22:29.527Z"
      },
      {
        "duration": 0,
        "start_time": "2022-12-21T07:22:29.529Z"
      },
      {
        "duration": 0,
        "start_time": "2022-12-21T07:22:29.530Z"
      },
      {
        "duration": 0,
        "start_time": "2022-12-21T07:22:29.532Z"
      },
      {
        "duration": 0,
        "start_time": "2022-12-21T07:22:29.533Z"
      },
      {
        "duration": 0,
        "start_time": "2022-12-21T07:22:29.535Z"
      },
      {
        "duration": 0,
        "start_time": "2022-12-21T07:22:29.537Z"
      },
      {
        "duration": 10,
        "start_time": "2022-12-21T07:23:06.868Z"
      },
      {
        "duration": 10,
        "start_time": "2022-12-21T07:23:22.260Z"
      },
      {
        "duration": 12,
        "start_time": "2022-12-21T07:23:34.244Z"
      },
      {
        "duration": 5,
        "start_time": "2022-12-21T07:31:50.758Z"
      },
      {
        "duration": 10,
        "start_time": "2022-12-21T07:32:39.565Z"
      },
      {
        "duration": 10,
        "start_time": "2022-12-21T07:32:49.224Z"
      },
      {
        "duration": 1375,
        "start_time": "2022-12-21T07:32:59.672Z"
      },
      {
        "duration": 695,
        "start_time": "2022-12-21T07:33:01.049Z"
      },
      {
        "duration": 749,
        "start_time": "2022-12-21T07:33:01.746Z"
      },
      {
        "duration": 229,
        "start_time": "2022-12-21T07:33:02.497Z"
      },
      {
        "duration": 9,
        "start_time": "2022-12-21T07:33:02.728Z"
      },
      {
        "duration": 4,
        "start_time": "2022-12-21T07:33:02.739Z"
      },
      {
        "duration": 6,
        "start_time": "2022-12-21T07:33:02.745Z"
      },
      {
        "duration": 16,
        "start_time": "2022-12-21T07:33:02.753Z"
      },
      {
        "duration": 5,
        "start_time": "2022-12-21T07:33:02.771Z"
      },
      {
        "duration": 142,
        "start_time": "2022-12-21T07:33:02.777Z"
      },
      {
        "duration": 0,
        "start_time": "2022-12-21T07:33:02.921Z"
      },
      {
        "duration": 0,
        "start_time": "2022-12-21T07:33:02.926Z"
      },
      {
        "duration": 0,
        "start_time": "2022-12-21T07:33:02.928Z"
      },
      {
        "duration": 1,
        "start_time": "2022-12-21T07:33:02.928Z"
      },
      {
        "duration": 0,
        "start_time": "2022-12-21T07:33:02.930Z"
      },
      {
        "duration": 0,
        "start_time": "2022-12-21T07:33:02.931Z"
      },
      {
        "duration": 0,
        "start_time": "2022-12-21T07:33:02.932Z"
      },
      {
        "duration": 0,
        "start_time": "2022-12-21T07:33:02.933Z"
      },
      {
        "duration": 0,
        "start_time": "2022-12-21T07:33:02.933Z"
      },
      {
        "duration": 0,
        "start_time": "2022-12-21T07:33:02.934Z"
      },
      {
        "duration": 0,
        "start_time": "2022-12-21T07:33:02.935Z"
      },
      {
        "duration": 0,
        "start_time": "2022-12-21T07:33:02.935Z"
      },
      {
        "duration": 0,
        "start_time": "2022-12-21T07:33:02.941Z"
      },
      {
        "duration": 0,
        "start_time": "2022-12-21T07:33:02.942Z"
      },
      {
        "duration": 0,
        "start_time": "2022-12-21T07:33:02.944Z"
      },
      {
        "duration": 0,
        "start_time": "2022-12-21T07:33:02.944Z"
      },
      {
        "duration": 0,
        "start_time": "2022-12-21T07:33:02.945Z"
      },
      {
        "duration": 10,
        "start_time": "2022-12-21T07:34:11.147Z"
      },
      {
        "duration": 13,
        "start_time": "2022-12-21T07:37:33.852Z"
      },
      {
        "duration": 15,
        "start_time": "2022-12-21T07:37:54.576Z"
      },
      {
        "duration": 9,
        "start_time": "2022-12-21T07:38:46.914Z"
      },
      {
        "duration": 1400,
        "start_time": "2022-12-21T07:39:03.059Z"
      },
      {
        "duration": 654,
        "start_time": "2022-12-21T07:39:04.461Z"
      },
      {
        "duration": 765,
        "start_time": "2022-12-21T07:39:05.117Z"
      },
      {
        "duration": 220,
        "start_time": "2022-12-21T07:39:05.884Z"
      },
      {
        "duration": 8,
        "start_time": "2022-12-21T07:39:06.106Z"
      },
      {
        "duration": 13,
        "start_time": "2022-12-21T07:39:06.126Z"
      },
      {
        "duration": 67,
        "start_time": "2022-12-21T07:39:06.140Z"
      },
      {
        "duration": 54,
        "start_time": "2022-12-21T07:39:06.209Z"
      },
      {
        "duration": 114,
        "start_time": "2022-12-21T07:39:06.265Z"
      },
      {
        "duration": 0,
        "start_time": "2022-12-21T07:39:06.381Z"
      },
      {
        "duration": 0,
        "start_time": "2022-12-21T07:39:06.382Z"
      },
      {
        "duration": 0,
        "start_time": "2022-12-21T07:39:06.383Z"
      },
      {
        "duration": 0,
        "start_time": "2022-12-21T07:39:06.384Z"
      },
      {
        "duration": 0,
        "start_time": "2022-12-21T07:39:06.385Z"
      },
      {
        "duration": 0,
        "start_time": "2022-12-21T07:39:06.386Z"
      },
      {
        "duration": 0,
        "start_time": "2022-12-21T07:39:06.387Z"
      },
      {
        "duration": 0,
        "start_time": "2022-12-21T07:39:06.388Z"
      },
      {
        "duration": 0,
        "start_time": "2022-12-21T07:39:06.389Z"
      },
      {
        "duration": 0,
        "start_time": "2022-12-21T07:39:06.391Z"
      },
      {
        "duration": 0,
        "start_time": "2022-12-21T07:39:06.392Z"
      },
      {
        "duration": 0,
        "start_time": "2022-12-21T07:39:06.393Z"
      },
      {
        "duration": 0,
        "start_time": "2022-12-21T07:39:06.394Z"
      },
      {
        "duration": 0,
        "start_time": "2022-12-21T07:39:06.395Z"
      },
      {
        "duration": 0,
        "start_time": "2022-12-21T07:39:06.396Z"
      },
      {
        "duration": 0,
        "start_time": "2022-12-21T07:39:06.397Z"
      },
      {
        "duration": 0,
        "start_time": "2022-12-21T07:39:06.398Z"
      },
      {
        "duration": 0,
        "start_time": "2022-12-21T07:39:06.427Z"
      },
      {
        "duration": 14,
        "start_time": "2022-12-21T07:39:20.219Z"
      },
      {
        "duration": 9,
        "start_time": "2022-12-21T07:39:24.806Z"
      },
      {
        "duration": 10,
        "start_time": "2022-12-21T07:39:45.050Z"
      },
      {
        "duration": 5,
        "start_time": "2022-12-21T07:39:56.468Z"
      },
      {
        "duration": 10,
        "start_time": "2022-12-21T07:40:00.056Z"
      },
      {
        "duration": 4,
        "start_time": "2022-12-21T07:49:51.225Z"
      },
      {
        "duration": 10,
        "start_time": "2022-12-21T07:49:53.747Z"
      },
      {
        "duration": 9,
        "start_time": "2022-12-21T07:53:14.701Z"
      },
      {
        "duration": 5,
        "start_time": "2022-12-21T07:54:24.165Z"
      },
      {
        "duration": 5,
        "start_time": "2022-12-21T07:57:52.269Z"
      },
      {
        "duration": 5,
        "start_time": "2022-12-21T07:57:53.581Z"
      },
      {
        "duration": 6,
        "start_time": "2022-12-21T07:59:16.338Z"
      },
      {
        "duration": 14,
        "start_time": "2022-12-21T07:59:20.264Z"
      },
      {
        "duration": 9,
        "start_time": "2022-12-21T08:00:09.894Z"
      },
      {
        "duration": 17,
        "start_time": "2022-12-21T08:00:14.662Z"
      },
      {
        "duration": 18,
        "start_time": "2022-12-21T08:00:47.281Z"
      },
      {
        "duration": 16,
        "start_time": "2022-12-21T08:00:52.320Z"
      },
      {
        "duration": 10,
        "start_time": "2022-12-21T08:00:53.825Z"
      },
      {
        "duration": 9,
        "start_time": "2022-12-21T08:04:03.757Z"
      },
      {
        "duration": 9,
        "start_time": "2022-12-21T08:04:09.996Z"
      },
      {
        "duration": 9,
        "start_time": "2022-12-21T08:04:11.116Z"
      },
      {
        "duration": 1312,
        "start_time": "2022-12-21T08:04:25.480Z"
      },
      {
        "duration": 640,
        "start_time": "2022-12-21T08:04:26.794Z"
      },
      {
        "duration": 709,
        "start_time": "2022-12-21T08:04:27.436Z"
      },
      {
        "duration": 220,
        "start_time": "2022-12-21T08:04:28.147Z"
      },
      {
        "duration": 9,
        "start_time": "2022-12-21T08:04:28.369Z"
      },
      {
        "duration": 4,
        "start_time": "2022-12-21T08:04:28.379Z"
      },
      {
        "duration": 7,
        "start_time": "2022-12-21T08:04:28.385Z"
      },
      {
        "duration": 33,
        "start_time": "2022-12-21T08:04:28.393Z"
      },
      {
        "duration": 5,
        "start_time": "2022-12-21T08:04:28.428Z"
      },
      {
        "duration": 7,
        "start_time": "2022-12-21T08:04:28.435Z"
      },
      {
        "duration": 19,
        "start_time": "2022-12-21T08:04:28.443Z"
      },
      {
        "duration": 15,
        "start_time": "2022-12-21T08:04:28.464Z"
      },
      {
        "duration": 32,
        "start_time": "2022-12-21T08:04:28.480Z"
      },
      {
        "duration": 20,
        "start_time": "2022-12-21T08:04:28.514Z"
      },
      {
        "duration": 11,
        "start_time": "2022-12-21T08:04:28.536Z"
      },
      {
        "duration": 104,
        "start_time": "2022-12-21T08:04:28.549Z"
      },
      {
        "duration": 0,
        "start_time": "2022-12-21T08:04:28.655Z"
      },
      {
        "duration": 0,
        "start_time": "2022-12-21T08:04:28.655Z"
      },
      {
        "duration": 0,
        "start_time": "2022-12-21T08:04:28.657Z"
      },
      {
        "duration": 0,
        "start_time": "2022-12-21T08:04:28.658Z"
      },
      {
        "duration": 0,
        "start_time": "2022-12-21T08:04:28.659Z"
      },
      {
        "duration": 0,
        "start_time": "2022-12-21T08:04:28.660Z"
      },
      {
        "duration": 0,
        "start_time": "2022-12-21T08:04:28.661Z"
      },
      {
        "duration": 0,
        "start_time": "2022-12-21T08:04:28.662Z"
      },
      {
        "duration": 8,
        "start_time": "2022-12-21T08:04:49.687Z"
      },
      {
        "duration": 2,
        "start_time": "2022-12-21T08:04:55.324Z"
      },
      {
        "duration": 3,
        "start_time": "2022-12-21T08:05:08.009Z"
      },
      {
        "duration": 3,
        "start_time": "2022-12-21T08:05:37.341Z"
      },
      {
        "duration": 3,
        "start_time": "2022-12-21T08:05:45.354Z"
      },
      {
        "duration": 9,
        "start_time": "2022-12-21T08:05:53.654Z"
      },
      {
        "duration": 3,
        "start_time": "2022-12-21T08:05:56.036Z"
      },
      {
        "duration": 8,
        "start_time": "2022-12-21T08:06:04.380Z"
      },
      {
        "duration": 9,
        "start_time": "2022-12-21T08:06:07.146Z"
      },
      {
        "duration": 9,
        "start_time": "2022-12-21T08:06:10.201Z"
      },
      {
        "duration": 8,
        "start_time": "2022-12-21T08:06:12.291Z"
      },
      {
        "duration": 9,
        "start_time": "2022-12-21T08:06:34.067Z"
      },
      {
        "duration": 4,
        "start_time": "2022-12-21T08:07:14.497Z"
      },
      {
        "duration": 620,
        "start_time": "2022-12-21T08:07:16.863Z"
      },
      {
        "duration": 665,
        "start_time": "2022-12-21T08:07:17.508Z"
      },
      {
        "duration": 211,
        "start_time": "2022-12-21T08:07:18.260Z"
      },
      {
        "duration": 8,
        "start_time": "2022-12-21T08:07:20.510Z"
      },
      {
        "duration": 5,
        "start_time": "2022-12-21T08:07:21.087Z"
      },
      {
        "duration": 4,
        "start_time": "2022-12-21T08:07:22.592Z"
      },
      {
        "duration": 10,
        "start_time": "2022-12-21T08:07:23.222Z"
      },
      {
        "duration": 5,
        "start_time": "2022-12-21T08:07:24.476Z"
      },
      {
        "duration": 6,
        "start_time": "2022-12-21T08:07:25.558Z"
      },
      {
        "duration": 6,
        "start_time": "2022-12-21T08:07:27.015Z"
      },
      {
        "duration": 14,
        "start_time": "2022-12-21T08:07:27.658Z"
      },
      {
        "duration": 10,
        "start_time": "2022-12-21T08:07:28.579Z"
      },
      {
        "duration": 14,
        "start_time": "2022-12-21T08:07:29.318Z"
      },
      {
        "duration": 13,
        "start_time": "2022-12-21T08:07:30.052Z"
      },
      {
        "duration": 8,
        "start_time": "2022-12-21T08:07:30.711Z"
      },
      {
        "duration": 9,
        "start_time": "2022-12-21T08:07:48.752Z"
      },
      {
        "duration": 9,
        "start_time": "2022-12-21T08:07:49.957Z"
      },
      {
        "duration": 17,
        "start_time": "2022-12-21T08:17:58.482Z"
      },
      {
        "duration": 12,
        "start_time": "2022-12-21T08:18:01.971Z"
      },
      {
        "duration": 12,
        "start_time": "2022-12-21T08:18:18.638Z"
      },
      {
        "duration": 1365,
        "start_time": "2022-12-21T08:18:28.054Z"
      },
      {
        "duration": 671,
        "start_time": "2022-12-21T08:18:29.421Z"
      },
      {
        "duration": 735,
        "start_time": "2022-12-21T08:18:30.094Z"
      },
      {
        "duration": 228,
        "start_time": "2022-12-21T08:18:30.831Z"
      },
      {
        "duration": 8,
        "start_time": "2022-12-21T08:18:31.061Z"
      },
      {
        "duration": 46,
        "start_time": "2022-12-21T08:18:31.070Z"
      },
      {
        "duration": 32,
        "start_time": "2022-12-21T08:18:31.118Z"
      },
      {
        "duration": 49,
        "start_time": "2022-12-21T08:18:31.151Z"
      },
      {
        "duration": 25,
        "start_time": "2022-12-21T08:18:31.201Z"
      },
      {
        "duration": 22,
        "start_time": "2022-12-21T08:18:31.229Z"
      },
      {
        "duration": 34,
        "start_time": "2022-12-21T08:18:31.253Z"
      },
      {
        "duration": 35,
        "start_time": "2022-12-21T08:18:31.289Z"
      },
      {
        "duration": 36,
        "start_time": "2022-12-21T08:18:31.326Z"
      },
      {
        "duration": 42,
        "start_time": "2022-12-21T08:18:31.363Z"
      },
      {
        "duration": 31,
        "start_time": "2022-12-21T08:18:31.406Z"
      },
      {
        "duration": 22,
        "start_time": "2022-12-21T08:18:31.439Z"
      },
      {
        "duration": 22,
        "start_time": "2022-12-21T08:18:31.463Z"
      },
      {
        "duration": 78,
        "start_time": "2022-12-21T08:18:31.487Z"
      },
      {
        "duration": 859,
        "start_time": "2022-12-21T08:18:31.567Z"
      },
      {
        "duration": 715,
        "start_time": "2022-12-21T08:18:32.428Z"
      },
      {
        "duration": 845,
        "start_time": "2022-12-21T08:18:33.145Z"
      },
      {
        "duration": 597,
        "start_time": "2022-12-21T08:18:33.992Z"
      },
      {
        "duration": 12,
        "start_time": "2022-12-21T08:18:34.591Z"
      },
      {
        "duration": 43,
        "start_time": "2022-12-21T08:18:34.604Z"
      },
      {
        "duration": 1379,
        "start_time": "2022-12-21T08:18:34.648Z"
      },
      {
        "duration": 33,
        "start_time": "2022-12-21T08:25:17.556Z"
      },
      {
        "duration": 15,
        "start_time": "2022-12-21T08:25:18.941Z"
      },
      {
        "duration": 1372,
        "start_time": "2022-12-21T08:25:46.437Z"
      },
      {
        "duration": 622,
        "start_time": "2022-12-21T08:25:47.811Z"
      },
      {
        "duration": 749,
        "start_time": "2022-12-21T08:25:48.435Z"
      },
      {
        "duration": 223,
        "start_time": "2022-12-21T08:25:49.186Z"
      },
      {
        "duration": 19,
        "start_time": "2022-12-21T08:25:49.412Z"
      },
      {
        "duration": 4,
        "start_time": "2022-12-21T08:25:49.433Z"
      },
      {
        "duration": 25,
        "start_time": "2022-12-21T08:25:49.439Z"
      },
      {
        "duration": 19,
        "start_time": "2022-12-21T08:25:49.467Z"
      },
      {
        "duration": 9,
        "start_time": "2022-12-21T08:25:49.488Z"
      },
      {
        "duration": 13,
        "start_time": "2022-12-21T08:25:49.498Z"
      },
      {
        "duration": 16,
        "start_time": "2022-12-21T08:25:49.513Z"
      },
      {
        "duration": 34,
        "start_time": "2022-12-21T08:25:49.531Z"
      },
      {
        "duration": 11,
        "start_time": "2022-12-21T08:25:49.567Z"
      },
      {
        "duration": 21,
        "start_time": "2022-12-21T08:25:49.580Z"
      },
      {
        "duration": 12,
        "start_time": "2022-12-21T08:25:49.603Z"
      },
      {
        "duration": 4451,
        "start_time": "2022-12-21T08:25:49.617Z"
      },
      {
        "duration": 15,
        "start_time": "2022-12-21T08:25:54.070Z"
      },
      {
        "duration": 20,
        "start_time": "2022-12-21T08:25:54.086Z"
      },
      {
        "duration": 745,
        "start_time": "2022-12-21T08:25:54.108Z"
      },
      {
        "duration": 812,
        "start_time": "2022-12-21T08:25:54.856Z"
      },
      {
        "duration": 891,
        "start_time": "2022-12-21T08:25:55.671Z"
      },
      {
        "duration": 566,
        "start_time": "2022-12-21T08:25:56.564Z"
      },
      {
        "duration": 12,
        "start_time": "2022-12-21T08:25:57.131Z"
      },
      {
        "duration": 44,
        "start_time": "2022-12-21T08:25:57.145Z"
      },
      {
        "duration": 1365,
        "start_time": "2022-12-21T08:25:57.191Z"
      },
      {
        "duration": 11,
        "start_time": "2022-12-21T08:26:57.617Z"
      },
      {
        "duration": 12,
        "start_time": "2022-12-21T08:27:05.153Z"
      },
      {
        "duration": 26,
        "start_time": "2022-12-21T08:27:12.147Z"
      },
      {
        "duration": 13,
        "start_time": "2022-12-21T08:27:13.600Z"
      },
      {
        "duration": 34,
        "start_time": "2022-12-21T08:29:09.782Z"
      },
      {
        "duration": 13,
        "start_time": "2022-12-21T08:29:13.056Z"
      },
      {
        "duration": 10,
        "start_time": "2022-12-21T08:29:26.696Z"
      },
      {
        "duration": 13,
        "start_time": "2022-12-21T08:29:30.287Z"
      },
      {
        "duration": 17,
        "start_time": "2022-12-21T08:30:03.588Z"
      },
      {
        "duration": 15,
        "start_time": "2022-12-21T08:30:49.861Z"
      },
      {
        "duration": 1393,
        "start_time": "2022-12-21T08:31:07.043Z"
      },
      {
        "duration": 649,
        "start_time": "2022-12-21T08:31:08.440Z"
      },
      {
        "duration": 678,
        "start_time": "2022-12-21T08:31:09.091Z"
      },
      {
        "duration": 232,
        "start_time": "2022-12-21T08:31:09.770Z"
      },
      {
        "duration": 10,
        "start_time": "2022-12-21T08:31:10.004Z"
      },
      {
        "duration": 29,
        "start_time": "2022-12-21T08:31:10.015Z"
      },
      {
        "duration": 6,
        "start_time": "2022-12-21T08:31:10.046Z"
      },
      {
        "duration": 21,
        "start_time": "2022-12-21T08:31:10.054Z"
      },
      {
        "duration": 6,
        "start_time": "2022-12-21T08:31:10.077Z"
      },
      {
        "duration": 13,
        "start_time": "2022-12-21T08:31:10.085Z"
      },
      {
        "duration": 10,
        "start_time": "2022-12-21T08:31:10.099Z"
      },
      {
        "duration": 21,
        "start_time": "2022-12-21T08:31:10.110Z"
      },
      {
        "duration": 25,
        "start_time": "2022-12-21T08:31:10.132Z"
      },
      {
        "duration": 16,
        "start_time": "2022-12-21T08:31:10.159Z"
      },
      {
        "duration": 21,
        "start_time": "2022-12-21T08:31:10.177Z"
      },
      {
        "duration": 17,
        "start_time": "2022-12-21T08:31:10.200Z"
      },
      {
        "duration": 12,
        "start_time": "2022-12-21T08:31:10.219Z"
      },
      {
        "duration": 804,
        "start_time": "2022-12-21T08:31:10.233Z"
      },
      {
        "duration": 734,
        "start_time": "2022-12-21T08:31:11.039Z"
      },
      {
        "duration": 862,
        "start_time": "2022-12-21T08:31:11.774Z"
      },
      {
        "duration": 582,
        "start_time": "2022-12-21T08:31:12.638Z"
      },
      {
        "duration": 15,
        "start_time": "2022-12-21T08:31:13.222Z"
      },
      {
        "duration": 32,
        "start_time": "2022-12-21T08:31:13.238Z"
      },
      {
        "duration": 1356,
        "start_time": "2022-12-21T08:31:13.272Z"
      },
      {
        "duration": 558,
        "start_time": "2022-12-21T08:38:51.592Z"
      },
      {
        "duration": 1151,
        "start_time": "2022-12-21T08:52:48.246Z"
      },
      {
        "duration": 13,
        "start_time": "2022-12-21T08:52:49.717Z"
      },
      {
        "duration": 2,
        "start_time": "2022-12-21T08:57:30.898Z"
      },
      {
        "duration": 11,
        "start_time": "2022-12-21T08:57:31.557Z"
      },
      {
        "duration": 8,
        "start_time": "2022-12-21T08:57:35.883Z"
      },
      {
        "duration": 16,
        "start_time": "2022-12-21T08:57:36.586Z"
      },
      {
        "duration": 8,
        "start_time": "2022-12-21T08:57:37.061Z"
      },
      {
        "duration": 12,
        "start_time": "2022-12-21T08:57:37.675Z"
      },
      {
        "duration": 14,
        "start_time": "2022-12-21T08:57:38.285Z"
      },
      {
        "duration": 753,
        "start_time": "2022-12-21T08:57:49.560Z"
      },
      {
        "duration": 1473,
        "start_time": "2022-12-21T08:58:28.392Z"
      },
      {
        "duration": 1349,
        "start_time": "2022-12-21T08:58:38.116Z"
      },
      {
        "duration": 619,
        "start_time": "2022-12-21T08:58:39.466Z"
      },
      {
        "duration": 683,
        "start_time": "2022-12-21T08:58:40.086Z"
      },
      {
        "duration": 215,
        "start_time": "2022-12-21T08:58:40.771Z"
      },
      {
        "duration": 8,
        "start_time": "2022-12-21T08:58:40.988Z"
      },
      {
        "duration": 9,
        "start_time": "2022-12-21T08:58:40.998Z"
      },
      {
        "duration": 7,
        "start_time": "2022-12-21T08:58:41.009Z"
      },
      {
        "duration": 16,
        "start_time": "2022-12-21T08:58:41.026Z"
      },
      {
        "duration": 5,
        "start_time": "2022-12-21T08:58:41.044Z"
      },
      {
        "duration": 4,
        "start_time": "2022-12-21T08:58:41.052Z"
      },
      {
        "duration": 4,
        "start_time": "2022-12-21T08:58:41.058Z"
      },
      {
        "duration": 18,
        "start_time": "2022-12-21T08:58:41.064Z"
      },
      {
        "duration": 9,
        "start_time": "2022-12-21T08:58:41.084Z"
      },
      {
        "duration": 47,
        "start_time": "2022-12-21T08:58:41.095Z"
      },
      {
        "duration": 12,
        "start_time": "2022-12-21T08:58:41.144Z"
      },
      {
        "duration": 15,
        "start_time": "2022-12-21T08:58:41.158Z"
      },
      {
        "duration": 12,
        "start_time": "2022-12-21T08:58:41.174Z"
      },
      {
        "duration": 814,
        "start_time": "2022-12-21T08:58:41.188Z"
      },
      {
        "duration": 652,
        "start_time": "2022-12-21T08:58:42.004Z"
      },
      {
        "duration": 782,
        "start_time": "2022-12-21T08:58:42.658Z"
      },
      {
        "duration": 553,
        "start_time": "2022-12-21T08:58:43.441Z"
      },
      {
        "duration": 1289,
        "start_time": "2022-12-21T08:58:43.995Z"
      },
      {
        "duration": 0,
        "start_time": "2022-12-21T08:58:45.285Z"
      },
      {
        "duration": 649,
        "start_time": "2022-12-21T08:59:00.094Z"
      },
      {
        "duration": 788,
        "start_time": "2022-12-21T08:59:18.288Z"
      },
      {
        "duration": 527,
        "start_time": "2022-12-21T08:59:28.091Z"
      },
      {
        "duration": 5,
        "start_time": "2022-12-21T08:59:39.684Z"
      },
      {
        "duration": 685,
        "start_time": "2022-12-21T08:59:45.092Z"
      },
      {
        "duration": 561,
        "start_time": "2022-12-21T09:24:03.744Z"
      },
      {
        "duration": 2,
        "start_time": "2022-12-21T11:32:35.311Z"
      },
      {
        "duration": 718,
        "start_time": "2022-12-21T11:32:37.949Z"
      },
      {
        "duration": 950,
        "start_time": "2022-12-21T11:32:41.465Z"
      },
      {
        "duration": 771,
        "start_time": "2022-12-21T11:32:44.769Z"
      },
      {
        "duration": 731,
        "start_time": "2022-12-21T11:32:48.032Z"
      },
      {
        "duration": 6,
        "start_time": "2022-12-21T11:32:51.509Z"
      },
      {
        "duration": 596,
        "start_time": "2022-12-21T11:32:55.192Z"
      },
      {
        "duration": 6,
        "start_time": "2022-12-21T14:05:52.097Z"
      },
      {
        "duration": 11,
        "start_time": "2022-12-21T14:07:09.411Z"
      },
      {
        "duration": 13,
        "start_time": "2022-12-21T14:07:27.011Z"
      },
      {
        "duration": 15,
        "start_time": "2022-12-21T14:10:40.774Z"
      },
      {
        "duration": 14,
        "start_time": "2022-12-21T14:10:47.415Z"
      },
      {
        "duration": 14,
        "start_time": "2022-12-21T14:12:58.139Z"
      },
      {
        "duration": 14,
        "start_time": "2022-12-21T14:16:04.034Z"
      },
      {
        "duration": 13,
        "start_time": "2022-12-21T14:16:40.303Z"
      },
      {
        "duration": 13,
        "start_time": "2022-12-21T14:16:42.571Z"
      },
      {
        "duration": 37,
        "start_time": "2022-12-21T14:19:45.055Z"
      },
      {
        "duration": 35,
        "start_time": "2022-12-21T14:19:56.900Z"
      },
      {
        "duration": 5,
        "start_time": "2022-12-21T14:20:24.643Z"
      },
      {
        "duration": 544,
        "start_time": "2022-12-21T14:20:51.572Z"
      },
      {
        "duration": 4,
        "start_time": "2022-12-21T14:20:56.112Z"
      },
      {
        "duration": 37,
        "start_time": "2022-12-21T14:20:57.970Z"
      },
      {
        "duration": 3,
        "start_time": "2022-12-21T14:20:58.580Z"
      },
      {
        "duration": 1374,
        "start_time": "2022-12-21T14:21:47.497Z"
      },
      {
        "duration": 613,
        "start_time": "2022-12-21T14:21:48.873Z"
      },
      {
        "duration": 662,
        "start_time": "2022-12-21T14:21:49.487Z"
      },
      {
        "duration": 208,
        "start_time": "2022-12-21T14:21:50.151Z"
      },
      {
        "duration": 9,
        "start_time": "2022-12-21T14:21:50.361Z"
      },
      {
        "duration": 5,
        "start_time": "2022-12-21T14:21:50.372Z"
      },
      {
        "duration": 6,
        "start_time": "2022-12-21T14:21:50.379Z"
      },
      {
        "duration": 16,
        "start_time": "2022-12-21T14:21:50.387Z"
      },
      {
        "duration": 5,
        "start_time": "2022-12-21T14:21:50.427Z"
      },
      {
        "duration": 5,
        "start_time": "2022-12-21T14:21:50.435Z"
      },
      {
        "duration": 5,
        "start_time": "2022-12-21T14:21:50.442Z"
      },
      {
        "duration": 33,
        "start_time": "2022-12-21T14:21:50.449Z"
      },
      {
        "duration": 32,
        "start_time": "2022-12-21T14:21:50.484Z"
      },
      {
        "duration": 20,
        "start_time": "2022-12-21T14:21:50.517Z"
      },
      {
        "duration": 20,
        "start_time": "2022-12-21T14:21:50.538Z"
      },
      {
        "duration": 14,
        "start_time": "2022-12-21T14:21:50.559Z"
      },
      {
        "duration": 2,
        "start_time": "2022-12-21T14:21:50.574Z"
      },
      {
        "duration": 743,
        "start_time": "2022-12-21T14:21:50.578Z"
      },
      {
        "duration": 720,
        "start_time": "2022-12-21T14:21:51.323Z"
      },
      {
        "duration": 775,
        "start_time": "2022-12-21T14:21:52.045Z"
      },
      {
        "duration": 541,
        "start_time": "2022-12-21T14:21:52.822Z"
      },
      {
        "duration": 6,
        "start_time": "2022-12-21T14:21:53.364Z"
      },
      {
        "duration": 533,
        "start_time": "2022-12-21T14:21:53.372Z"
      },
      {
        "duration": 653,
        "start_time": "2022-12-21T14:21:53.907Z"
      },
      {
        "duration": 5,
        "start_time": "2022-12-21T14:21:54.562Z"
      },
      {
        "duration": 41,
        "start_time": "2022-12-21T14:21:54.568Z"
      },
      {
        "duration": 16,
        "start_time": "2022-12-21T14:21:54.611Z"
      },
      {
        "duration": 6,
        "start_time": "2022-12-21T14:25:26.624Z"
      },
      {
        "duration": 14,
        "start_time": "2022-12-21T14:25:27.417Z"
      },
      {
        "duration": 14,
        "start_time": "2022-12-21T14:25:35.290Z"
      },
      {
        "duration": 4,
        "start_time": "2022-12-21T15:25:51.545Z"
      },
      {
        "duration": 3,
        "start_time": "2022-12-21T15:25:52.574Z"
      },
      {
        "duration": 9,
        "start_time": "2022-12-21T15:25:53.502Z"
      },
      {
        "duration": 8,
        "start_time": "2022-12-21T15:25:54.170Z"
      },
      {
        "duration": 106,
        "start_time": "2022-12-21T15:57:24.817Z"
      },
      {
        "duration": 10,
        "start_time": "2022-12-21T15:58:48.495Z"
      },
      {
        "duration": 308,
        "start_time": "2022-12-21T16:01:07.141Z"
      },
      {
        "duration": 4,
        "start_time": "2022-12-21T16:09:13.548Z"
      },
      {
        "duration": 8,
        "start_time": "2022-12-21T16:09:14.993Z"
      },
      {
        "duration": 6,
        "start_time": "2022-12-21T16:09:15.529Z"
      },
      {
        "duration": 547,
        "start_time": "2022-12-21T16:09:53.547Z"
      },
      {
        "duration": 532,
        "start_time": "2022-12-21T16:12:38.399Z"
      },
      {
        "duration": 14,
        "start_time": "2022-12-21T16:12:55.701Z"
      },
      {
        "duration": 1482,
        "start_time": "2022-12-21T16:13:06.140Z"
      },
      {
        "duration": 635,
        "start_time": "2022-12-21T16:13:07.624Z"
      },
      {
        "duration": 672,
        "start_time": "2022-12-21T16:13:08.261Z"
      },
      {
        "duration": 226,
        "start_time": "2022-12-21T16:13:08.936Z"
      },
      {
        "duration": 9,
        "start_time": "2022-12-21T16:13:09.165Z"
      },
      {
        "duration": 10,
        "start_time": "2022-12-21T16:13:09.176Z"
      },
      {
        "duration": 21,
        "start_time": "2022-12-21T16:13:09.188Z"
      },
      {
        "duration": 40,
        "start_time": "2022-12-21T16:13:09.211Z"
      },
      {
        "duration": 26,
        "start_time": "2022-12-21T16:13:09.253Z"
      },
      {
        "duration": 24,
        "start_time": "2022-12-21T16:13:09.281Z"
      },
      {
        "duration": 24,
        "start_time": "2022-12-21T16:13:09.306Z"
      },
      {
        "duration": 23,
        "start_time": "2022-12-21T16:13:09.332Z"
      },
      {
        "duration": 31,
        "start_time": "2022-12-21T16:13:09.357Z"
      },
      {
        "duration": 33,
        "start_time": "2022-12-21T16:13:09.390Z"
      },
      {
        "duration": 821,
        "start_time": "2022-12-21T16:13:09.425Z"
      },
      {
        "duration": 679,
        "start_time": "2022-12-21T16:13:10.248Z"
      },
      {
        "duration": 826,
        "start_time": "2022-12-21T16:13:10.929Z"
      },
      {
        "duration": 566,
        "start_time": "2022-12-21T16:13:11.756Z"
      },
      {
        "duration": 7,
        "start_time": "2022-12-21T16:13:12.323Z"
      },
      {
        "duration": 551,
        "start_time": "2022-12-21T16:13:12.332Z"
      },
      {
        "duration": 674,
        "start_time": "2022-12-21T16:13:12.885Z"
      },
      {
        "duration": 3,
        "start_time": "2022-12-21T16:13:13.561Z"
      },
      {
        "duration": 84,
        "start_time": "2022-12-21T16:13:13.566Z"
      },
      {
        "duration": 4,
        "start_time": "2022-12-21T16:13:13.652Z"
      },
      {
        "duration": 12,
        "start_time": "2022-12-21T16:13:13.658Z"
      },
      {
        "duration": 19,
        "start_time": "2022-12-21T16:13:13.672Z"
      },
      {
        "duration": 12,
        "start_time": "2022-12-21T16:13:13.693Z"
      },
      {
        "duration": 20,
        "start_time": "2022-12-21T16:13:13.707Z"
      },
      {
        "duration": 15,
        "start_time": "2022-12-21T16:13:13.728Z"
      },
      {
        "duration": 20,
        "start_time": "2022-12-21T16:13:13.744Z"
      },
      {
        "duration": 705,
        "start_time": "2022-12-21T16:13:13.766Z"
      },
      {
        "duration": 0,
        "start_time": "2022-12-21T16:13:14.473Z"
      },
      {
        "duration": 0,
        "start_time": "2022-12-21T16:13:14.474Z"
      },
      {
        "duration": 0,
        "start_time": "2022-12-21T16:13:14.474Z"
      },
      {
        "duration": 0,
        "start_time": "2022-12-21T16:13:14.476Z"
      },
      {
        "duration": 10,
        "start_time": "2022-12-21T16:32:33.441Z"
      },
      {
        "duration": 7,
        "start_time": "2022-12-21T16:33:10.023Z"
      },
      {
        "duration": 1277,
        "start_time": "2022-12-21T16:44:23.775Z"
      },
      {
        "duration": 628,
        "start_time": "2022-12-21T16:44:25.054Z"
      },
      {
        "duration": 716,
        "start_time": "2022-12-21T16:44:25.684Z"
      },
      {
        "duration": 205,
        "start_time": "2022-12-21T16:44:26.402Z"
      },
      {
        "duration": 8,
        "start_time": "2022-12-21T16:44:26.608Z"
      },
      {
        "duration": 11,
        "start_time": "2022-12-21T16:44:26.617Z"
      },
      {
        "duration": 5,
        "start_time": "2022-12-21T16:44:26.630Z"
      },
      {
        "duration": 11,
        "start_time": "2022-12-21T16:44:26.637Z"
      },
      {
        "duration": 8,
        "start_time": "2022-12-21T16:44:26.649Z"
      },
      {
        "duration": 10,
        "start_time": "2022-12-21T16:44:26.660Z"
      },
      {
        "duration": 18,
        "start_time": "2022-12-21T16:44:26.671Z"
      },
      {
        "duration": 24,
        "start_time": "2022-12-21T16:44:26.690Z"
      },
      {
        "duration": 18,
        "start_time": "2022-12-21T16:44:26.716Z"
      },
      {
        "duration": 23,
        "start_time": "2022-12-21T16:44:26.736Z"
      },
      {
        "duration": 710,
        "start_time": "2022-12-21T16:44:26.761Z"
      },
      {
        "duration": 658,
        "start_time": "2022-12-21T16:44:27.473Z"
      },
      {
        "duration": 777,
        "start_time": "2022-12-21T16:44:28.132Z"
      },
      {
        "duration": 532,
        "start_time": "2022-12-21T16:44:28.910Z"
      },
      {
        "duration": 5,
        "start_time": "2022-12-21T16:44:29.444Z"
      },
      {
        "duration": 525,
        "start_time": "2022-12-21T16:44:29.450Z"
      },
      {
        "duration": 655,
        "start_time": "2022-12-21T16:44:29.976Z"
      },
      {
        "duration": 4,
        "start_time": "2022-12-21T16:44:30.632Z"
      },
      {
        "duration": 70,
        "start_time": "2022-12-21T16:44:30.637Z"
      },
      {
        "duration": 20,
        "start_time": "2022-12-21T16:44:30.709Z"
      },
      {
        "duration": 56,
        "start_time": "2022-12-21T16:44:30.731Z"
      },
      {
        "duration": 74,
        "start_time": "2022-12-21T16:44:30.789Z"
      },
      {
        "duration": 25,
        "start_time": "2022-12-21T16:44:30.864Z"
      },
      {
        "duration": 51,
        "start_time": "2022-12-21T16:44:30.892Z"
      },
      {
        "duration": 63,
        "start_time": "2022-12-21T16:44:30.945Z"
      },
      {
        "duration": 35,
        "start_time": "2022-12-21T16:44:31.010Z"
      },
      {
        "duration": 704,
        "start_time": "2022-12-21T16:44:31.047Z"
      },
      {
        "duration": 0,
        "start_time": "2022-12-21T16:44:31.753Z"
      },
      {
        "duration": 0,
        "start_time": "2022-12-21T16:44:31.754Z"
      },
      {
        "duration": 0,
        "start_time": "2022-12-21T16:44:31.755Z"
      },
      {
        "duration": 0,
        "start_time": "2022-12-21T16:44:31.757Z"
      },
      {
        "duration": 14,
        "start_time": "2022-12-21T16:44:49.796Z"
      },
      {
        "duration": 43,
        "start_time": "2022-12-21T16:44:58.323Z"
      },
      {
        "duration": 14,
        "start_time": "2022-12-21T16:45:10.595Z"
      },
      {
        "duration": 1340,
        "start_time": "2022-12-21T16:45:22.735Z"
      },
      {
        "duration": 647,
        "start_time": "2022-12-21T16:45:24.076Z"
      },
      {
        "duration": 655,
        "start_time": "2022-12-21T16:45:24.725Z"
      },
      {
        "duration": 251,
        "start_time": "2022-12-21T16:45:25.381Z"
      },
      {
        "duration": 10,
        "start_time": "2022-12-21T16:45:25.635Z"
      },
      {
        "duration": 8,
        "start_time": "2022-12-21T16:45:25.647Z"
      },
      {
        "duration": 10,
        "start_time": "2022-12-21T16:45:25.657Z"
      },
      {
        "duration": 19,
        "start_time": "2022-12-21T16:45:25.668Z"
      },
      {
        "duration": 21,
        "start_time": "2022-12-21T16:45:25.689Z"
      },
      {
        "duration": 51,
        "start_time": "2022-12-21T16:45:25.712Z"
      },
      {
        "duration": 19,
        "start_time": "2022-12-21T16:45:25.765Z"
      },
      {
        "duration": 19,
        "start_time": "2022-12-21T16:45:25.785Z"
      },
      {
        "duration": 14,
        "start_time": "2022-12-21T16:45:25.806Z"
      },
      {
        "duration": 14,
        "start_time": "2022-12-21T16:45:25.823Z"
      },
      {
        "duration": 725,
        "start_time": "2022-12-21T16:45:25.839Z"
      },
      {
        "duration": 652,
        "start_time": "2022-12-21T16:45:26.566Z"
      },
      {
        "duration": 761,
        "start_time": "2022-12-21T16:45:27.220Z"
      },
      {
        "duration": 529,
        "start_time": "2022-12-21T16:45:27.982Z"
      },
      {
        "duration": 5,
        "start_time": "2022-12-21T16:45:28.512Z"
      },
      {
        "duration": 513,
        "start_time": "2022-12-21T16:45:28.519Z"
      },
      {
        "duration": 632,
        "start_time": "2022-12-21T16:45:29.034Z"
      },
      {
        "duration": 5,
        "start_time": "2022-12-21T16:45:29.668Z"
      },
      {
        "duration": 53,
        "start_time": "2022-12-21T16:45:29.675Z"
      },
      {
        "duration": 4,
        "start_time": "2022-12-21T16:45:29.729Z"
      },
      {
        "duration": 12,
        "start_time": "2022-12-21T16:45:29.734Z"
      },
      {
        "duration": 21,
        "start_time": "2022-12-21T16:45:29.748Z"
      },
      {
        "duration": 13,
        "start_time": "2022-12-21T16:45:29.771Z"
      },
      {
        "duration": 12,
        "start_time": "2022-12-21T16:45:29.786Z"
      },
      {
        "duration": 14,
        "start_time": "2022-12-21T16:45:29.800Z"
      },
      {
        "duration": 14,
        "start_time": "2022-12-21T16:45:29.816Z"
      },
      {
        "duration": 675,
        "start_time": "2022-12-21T16:45:29.831Z"
      },
      {
        "duration": 0,
        "start_time": "2022-12-21T16:45:30.508Z"
      },
      {
        "duration": 0,
        "start_time": "2022-12-21T16:45:30.509Z"
      },
      {
        "duration": 0,
        "start_time": "2022-12-21T16:45:30.510Z"
      },
      {
        "duration": 0,
        "start_time": "2022-12-21T16:45:30.512Z"
      },
      {
        "duration": 17,
        "start_time": "2022-12-21T16:46:11.562Z"
      },
      {
        "duration": 13,
        "start_time": "2022-12-21T16:46:17.938Z"
      },
      {
        "duration": 12,
        "start_time": "2022-12-21T16:46:21.948Z"
      },
      {
        "duration": 13,
        "start_time": "2022-12-21T16:46:24.020Z"
      },
      {
        "duration": 13,
        "start_time": "2022-12-21T16:46:26.330Z"
      },
      {
        "duration": 14,
        "start_time": "2022-12-21T16:51:35.877Z"
      },
      {
        "duration": 4,
        "start_time": "2022-12-21T16:53:51.501Z"
      },
      {
        "duration": 646,
        "start_time": "2022-12-21T16:53:52.789Z"
      },
      {
        "duration": 657,
        "start_time": "2022-12-21T16:53:53.577Z"
      },
      {
        "duration": 204,
        "start_time": "2022-12-21T16:53:54.368Z"
      },
      {
        "duration": 9,
        "start_time": "2022-12-21T16:53:58.371Z"
      },
      {
        "duration": 5,
        "start_time": "2022-12-21T16:53:59.142Z"
      },
      {
        "duration": 4,
        "start_time": "2022-12-21T16:54:02.179Z"
      },
      {
        "duration": 10,
        "start_time": "2022-12-21T16:54:03.996Z"
      },
      {
        "duration": 6,
        "start_time": "2022-12-21T16:54:05.028Z"
      },
      {
        "duration": 5,
        "start_time": "2022-12-21T16:54:05.877Z"
      },
      {
        "duration": 10,
        "start_time": "2022-12-21T16:54:09.612Z"
      },
      {
        "duration": 16,
        "start_time": "2022-12-21T16:54:13.379Z"
      },
      {
        "duration": 12,
        "start_time": "2022-12-21T16:54:13.988Z"
      },
      {
        "duration": 16,
        "start_time": "2022-12-21T16:54:14.916Z"
      },
      {
        "duration": 656,
        "start_time": "2022-12-21T16:54:22.062Z"
      },
      {
        "duration": 820,
        "start_time": "2022-12-21T16:54:26.159Z"
      },
      {
        "duration": 754,
        "start_time": "2022-12-21T16:54:29.550Z"
      },
      {
        "duration": 668,
        "start_time": "2022-12-21T16:54:37.573Z"
      },
      {
        "duration": 5,
        "start_time": "2022-12-21T16:54:43.773Z"
      },
      {
        "duration": 573,
        "start_time": "2022-12-21T16:54:47.062Z"
      },
      {
        "duration": 562,
        "start_time": "2022-12-21T16:54:51.230Z"
      },
      {
        "duration": 4,
        "start_time": "2022-12-21T16:54:57.391Z"
      },
      {
        "duration": 31,
        "start_time": "2022-12-21T16:54:58.471Z"
      },
      {
        "duration": 4,
        "start_time": "2022-12-21T16:54:59.451Z"
      },
      {
        "duration": 7,
        "start_time": "2022-12-21T16:55:02.573Z"
      },
      {
        "duration": 13,
        "start_time": "2022-12-21T16:55:05.343Z"
      },
      {
        "duration": 13,
        "start_time": "2022-12-21T16:55:12.451Z"
      },
      {
        "duration": 4,
        "start_time": "2022-12-21T16:55:18.103Z"
      },
      {
        "duration": 8,
        "start_time": "2022-12-21T16:55:19.250Z"
      },
      {
        "duration": 7,
        "start_time": "2022-12-21T16:55:20.017Z"
      },
      {
        "duration": 1463,
        "start_time": "2022-12-21T16:55:21.057Z"
      },
      {
        "duration": 14,
        "start_time": "2022-12-21T17:01:54.147Z"
      },
      {
        "duration": 9,
        "start_time": "2022-12-21T17:03:53.502Z"
      },
      {
        "duration": 895,
        "start_time": "2022-12-21T17:11:56.426Z"
      },
      {
        "duration": 9,
        "start_time": "2022-12-21T17:15:26.709Z"
      },
      {
        "duration": 6,
        "start_time": "2022-12-21T17:15:54.672Z"
      },
      {
        "duration": 3,
        "start_time": "2022-12-21T17:19:13.327Z"
      },
      {
        "duration": 9331,
        "start_time": "2022-12-21T17:19:15.533Z"
      },
      {
        "duration": 8,
        "start_time": "2022-12-21T17:22:48.001Z"
      },
      {
        "duration": 8,
        "start_time": "2022-12-21T17:23:09.579Z"
      },
      {
        "duration": 7,
        "start_time": "2022-12-21T17:23:48.346Z"
      },
      {
        "duration": 2,
        "start_time": "2022-12-21T17:25:49.293Z"
      },
      {
        "duration": 925,
        "start_time": "2022-12-21T17:32:51.354Z"
      },
      {
        "duration": 47,
        "start_time": "2022-12-22T08:07:06.363Z"
      },
      {
        "duration": 1560,
        "start_time": "2022-12-22T08:07:15.313Z"
      },
      {
        "duration": 3060,
        "start_time": "2022-12-22T08:07:16.876Z"
      },
      {
        "duration": 694,
        "start_time": "2022-12-22T08:07:19.938Z"
      },
      {
        "duration": 222,
        "start_time": "2022-12-22T08:07:20.633Z"
      },
      {
        "duration": 9,
        "start_time": "2022-12-22T08:07:20.857Z"
      },
      {
        "duration": 8,
        "start_time": "2022-12-22T08:07:20.867Z"
      },
      {
        "duration": 8,
        "start_time": "2022-12-22T08:07:20.876Z"
      },
      {
        "duration": 11,
        "start_time": "2022-12-22T08:07:20.898Z"
      },
      {
        "duration": 5,
        "start_time": "2022-12-22T08:07:20.910Z"
      },
      {
        "duration": 9,
        "start_time": "2022-12-22T08:07:20.917Z"
      },
      {
        "duration": 12,
        "start_time": "2022-12-22T08:07:20.928Z"
      },
      {
        "duration": 20,
        "start_time": "2022-12-22T08:07:20.942Z"
      },
      {
        "duration": 35,
        "start_time": "2022-12-22T08:07:20.964Z"
      },
      {
        "duration": 16,
        "start_time": "2022-12-22T08:07:21.002Z"
      },
      {
        "duration": 817,
        "start_time": "2022-12-22T08:07:21.019Z"
      },
      {
        "duration": 696,
        "start_time": "2022-12-22T08:07:21.838Z"
      },
      {
        "duration": 812,
        "start_time": "2022-12-22T08:07:22.535Z"
      },
      {
        "duration": 557,
        "start_time": "2022-12-22T08:07:23.349Z"
      },
      {
        "duration": 6,
        "start_time": "2022-12-22T08:07:23.907Z"
      },
      {
        "duration": 553,
        "start_time": "2022-12-22T08:07:23.914Z"
      },
      {
        "duration": 732,
        "start_time": "2022-12-22T08:07:24.469Z"
      },
      {
        "duration": 4,
        "start_time": "2022-12-22T08:07:25.203Z"
      },
      {
        "duration": 42,
        "start_time": "2022-12-22T08:07:25.208Z"
      },
      {
        "duration": 4,
        "start_time": "2022-12-22T08:07:25.252Z"
      },
      {
        "duration": 13,
        "start_time": "2022-12-22T08:07:25.258Z"
      },
      {
        "duration": 34,
        "start_time": "2022-12-22T08:07:25.273Z"
      },
      {
        "duration": 10,
        "start_time": "2022-12-22T08:07:25.309Z"
      },
      {
        "duration": 8,
        "start_time": "2022-12-22T08:07:25.322Z"
      },
      {
        "duration": 24,
        "start_time": "2022-12-22T08:07:25.332Z"
      },
      {
        "duration": 13,
        "start_time": "2022-12-22T08:07:25.358Z"
      },
      {
        "duration": 8,
        "start_time": "2022-12-22T08:07:25.373Z"
      },
      {
        "duration": 1169,
        "start_time": "2022-12-22T08:07:25.382Z"
      },
      {
        "duration": 0,
        "start_time": "2022-12-22T08:07:26.553Z"
      },
      {
        "duration": 0,
        "start_time": "2022-12-22T08:07:26.554Z"
      },
      {
        "duration": 0,
        "start_time": "2022-12-22T08:07:26.555Z"
      },
      {
        "duration": 0,
        "start_time": "2022-12-22T08:07:26.556Z"
      },
      {
        "duration": 0,
        "start_time": "2022-12-22T08:07:26.557Z"
      },
      {
        "duration": 11,
        "start_time": "2022-12-22T09:02:53.861Z"
      },
      {
        "duration": 8,
        "start_time": "2022-12-22T09:02:55.879Z"
      },
      {
        "duration": 3,
        "start_time": "2022-12-22T09:03:04.107Z"
      },
      {
        "duration": 781,
        "start_time": "2022-12-22T09:03:05.609Z"
      },
      {
        "duration": 3,
        "start_time": "2022-12-22T09:06:51.211Z"
      },
      {
        "duration": 818,
        "start_time": "2022-12-22T09:06:51.701Z"
      },
      {
        "duration": 699,
        "start_time": "2022-12-22T09:07:52.609Z"
      },
      {
        "duration": 656,
        "start_time": "2022-12-22T09:22:48.303Z"
      },
      {
        "duration": 3,
        "start_time": "2022-12-22T09:23:28.100Z"
      },
      {
        "duration": 10,
        "start_time": "2022-12-22T09:23:28.832Z"
      },
      {
        "duration": 7,
        "start_time": "2022-12-22T09:23:29.339Z"
      },
      {
        "duration": 641,
        "start_time": "2022-12-22T09:23:33.531Z"
      },
      {
        "duration": 4,
        "start_time": "2022-12-22T09:29:32.817Z"
      },
      {
        "duration": 10,
        "start_time": "2022-12-22T09:29:34.176Z"
      },
      {
        "duration": 8,
        "start_time": "2022-12-22T09:29:34.705Z"
      },
      {
        "duration": 459,
        "start_time": "2022-12-22T09:29:37.108Z"
      },
      {
        "duration": 4,
        "start_time": "2022-12-22T09:33:36.900Z"
      },
      {
        "duration": 12342,
        "start_time": "2022-12-22T09:34:23.874Z"
      },
      {
        "duration": 2,
        "start_time": "2022-12-22T09:36:57.446Z"
      },
      {
        "duration": 2,
        "start_time": "2022-12-22T09:37:05.878Z"
      },
      {
        "duration": 12253,
        "start_time": "2022-12-22T09:37:26.693Z"
      },
      {
        "duration": 12461,
        "start_time": "2022-12-22T09:38:10.936Z"
      },
      {
        "duration": 12232,
        "start_time": "2022-12-22T09:42:27.037Z"
      },
      {
        "duration": 1350015,
        "start_time": "2022-12-22T10:13:57.849Z"
      },
      {
        "duration": 1348,
        "start_time": "2022-12-22T11:40:45.720Z"
      },
      {
        "duration": 660,
        "start_time": "2022-12-22T11:40:47.069Z"
      },
      {
        "duration": 672,
        "start_time": "2022-12-22T11:40:47.731Z"
      },
      {
        "duration": 228,
        "start_time": "2022-12-22T11:40:48.404Z"
      },
      {
        "duration": 9,
        "start_time": "2022-12-22T11:40:48.636Z"
      },
      {
        "duration": 5,
        "start_time": "2022-12-22T11:40:48.647Z"
      },
      {
        "duration": 6,
        "start_time": "2022-12-22T11:40:48.654Z"
      },
      {
        "duration": 42,
        "start_time": "2022-12-22T11:40:48.662Z"
      },
      {
        "duration": 6,
        "start_time": "2022-12-22T11:40:48.706Z"
      },
      {
        "duration": 25,
        "start_time": "2022-12-22T11:40:48.713Z"
      },
      {
        "duration": 15,
        "start_time": "2022-12-22T11:40:48.740Z"
      },
      {
        "duration": 19,
        "start_time": "2022-12-22T11:40:48.757Z"
      },
      {
        "duration": 21,
        "start_time": "2022-12-22T11:40:48.777Z"
      },
      {
        "duration": 17,
        "start_time": "2022-12-22T11:40:48.801Z"
      },
      {
        "duration": 796,
        "start_time": "2022-12-22T11:40:48.820Z"
      },
      {
        "duration": 726,
        "start_time": "2022-12-22T11:40:49.617Z"
      },
      {
        "duration": 822,
        "start_time": "2022-12-22T11:40:50.344Z"
      },
      {
        "duration": 560,
        "start_time": "2022-12-22T11:40:51.167Z"
      },
      {
        "duration": 5,
        "start_time": "2022-12-22T11:40:51.728Z"
      },
      {
        "duration": 540,
        "start_time": "2022-12-22T11:40:51.735Z"
      },
      {
        "duration": 667,
        "start_time": "2022-12-22T11:40:52.277Z"
      },
      {
        "duration": 4,
        "start_time": "2022-12-22T11:40:52.946Z"
      },
      {
        "duration": 49,
        "start_time": "2022-12-22T11:40:52.951Z"
      },
      {
        "duration": 4,
        "start_time": "2022-12-22T11:40:53.001Z"
      },
      {
        "duration": 7,
        "start_time": "2022-12-22T11:40:53.006Z"
      },
      {
        "duration": 14,
        "start_time": "2022-12-22T11:40:53.014Z"
      },
      {
        "duration": 10,
        "start_time": "2022-12-22T11:40:53.029Z"
      },
      {
        "duration": 5,
        "start_time": "2022-12-22T11:40:53.040Z"
      },
      {
        "duration": 12,
        "start_time": "2022-12-22T11:40:53.047Z"
      },
      {
        "duration": 11,
        "start_time": "2022-12-22T11:40:53.060Z"
      },
      {
        "duration": 8,
        "start_time": "2022-12-22T11:40:53.097Z"
      },
      {
        "duration": 12447,
        "start_time": "2022-12-22T11:40:53.107Z"
      },
      {
        "duration": 39,
        "start_time": "2022-12-22T11:41:05.555Z"
      },
      {
        "duration": 0,
        "start_time": "2022-12-22T11:41:05.596Z"
      },
      {
        "duration": 0,
        "start_time": "2022-12-22T11:41:05.598Z"
      },
      {
        "duration": 0,
        "start_time": "2022-12-22T11:41:05.599Z"
      },
      {
        "duration": 45,
        "start_time": "2022-12-22T11:42:50.875Z"
      },
      {
        "duration": 60,
        "start_time": "2022-12-22T11:43:14.878Z"
      },
      {
        "duration": 1333,
        "start_time": "2022-12-22T11:54:52.880Z"
      },
      {
        "duration": 727,
        "start_time": "2022-12-22T11:54:54.215Z"
      },
      {
        "duration": 666,
        "start_time": "2022-12-22T11:54:54.944Z"
      },
      {
        "duration": 228,
        "start_time": "2022-12-22T11:54:55.611Z"
      },
      {
        "duration": 9,
        "start_time": "2022-12-22T11:54:55.842Z"
      },
      {
        "duration": 5,
        "start_time": "2022-12-22T11:54:55.853Z"
      },
      {
        "duration": 11,
        "start_time": "2022-12-22T11:54:55.860Z"
      },
      {
        "duration": 32,
        "start_time": "2022-12-22T11:54:55.873Z"
      },
      {
        "duration": 6,
        "start_time": "2022-12-22T11:54:55.906Z"
      },
      {
        "duration": 8,
        "start_time": "2022-12-22T11:54:55.914Z"
      },
      {
        "duration": 16,
        "start_time": "2022-12-22T11:54:55.923Z"
      },
      {
        "duration": 27,
        "start_time": "2022-12-22T11:54:55.941Z"
      },
      {
        "duration": 28,
        "start_time": "2022-12-22T11:54:55.970Z"
      },
      {
        "duration": 15,
        "start_time": "2022-12-22T11:54:56.001Z"
      },
      {
        "duration": 746,
        "start_time": "2022-12-22T11:54:56.018Z"
      },
      {
        "duration": 645,
        "start_time": "2022-12-22T11:54:56.766Z"
      },
      {
        "duration": 789,
        "start_time": "2022-12-22T11:54:57.413Z"
      },
      {
        "duration": 562,
        "start_time": "2022-12-22T11:54:58.203Z"
      },
      {
        "duration": 6,
        "start_time": "2022-12-22T11:54:58.767Z"
      },
      {
        "duration": 557,
        "start_time": "2022-12-22T11:54:58.774Z"
      },
      {
        "duration": 652,
        "start_time": "2022-12-22T11:54:59.333Z"
      },
      {
        "duration": 12,
        "start_time": "2022-12-22T11:54:59.986Z"
      },
      {
        "duration": 43,
        "start_time": "2022-12-22T11:54:59.999Z"
      },
      {
        "duration": 4,
        "start_time": "2022-12-22T11:55:00.044Z"
      },
      {
        "duration": 20,
        "start_time": "2022-12-22T11:55:00.049Z"
      },
      {
        "duration": 27,
        "start_time": "2022-12-22T11:55:00.071Z"
      },
      {
        "duration": 12,
        "start_time": "2022-12-22T11:55:00.100Z"
      },
      {
        "duration": 114,
        "start_time": "2022-12-22T11:55:00.114Z"
      },
      {
        "duration": 19,
        "start_time": "2022-12-22T11:55:00.230Z"
      },
      {
        "duration": 57,
        "start_time": "2022-12-22T11:55:00.250Z"
      },
      {
        "duration": 34,
        "start_time": "2022-12-22T11:55:00.308Z"
      },
      {
        "duration": 12603,
        "start_time": "2022-12-22T11:55:00.344Z"
      },
      {
        "duration": 172,
        "start_time": "2022-12-22T12:26:00.566Z"
      },
      {
        "duration": 0,
        "start_time": "2022-12-22T12:26:00.740Z"
      },
      {
        "duration": 0,
        "start_time": "2022-12-22T12:26:00.742Z"
      },
      {
        "duration": 0,
        "start_time": "2022-12-22T12:26:00.744Z"
      },
      {
        "duration": 1242,
        "start_time": "2022-12-22T13:21:52.257Z"
      },
      {
        "duration": 667,
        "start_time": "2022-12-22T13:21:53.501Z"
      },
      {
        "duration": 699,
        "start_time": "2022-12-22T13:21:54.170Z"
      },
      {
        "duration": 221,
        "start_time": "2022-12-22T13:21:54.870Z"
      },
      {
        "duration": 8,
        "start_time": "2022-12-22T13:21:55.097Z"
      },
      {
        "duration": 5,
        "start_time": "2022-12-22T13:21:55.106Z"
      },
      {
        "duration": 7,
        "start_time": "2022-12-22T13:21:55.112Z"
      },
      {
        "duration": 13,
        "start_time": "2022-12-22T13:21:55.120Z"
      },
      {
        "duration": 5,
        "start_time": "2022-12-22T13:21:55.134Z"
      },
      {
        "duration": 8,
        "start_time": "2022-12-22T13:21:55.140Z"
      },
      {
        "duration": 23,
        "start_time": "2022-12-22T13:21:55.149Z"
      },
      {
        "duration": 38,
        "start_time": "2022-12-22T13:21:55.173Z"
      },
      {
        "duration": 11,
        "start_time": "2022-12-22T13:21:55.213Z"
      },
      {
        "duration": 14,
        "start_time": "2022-12-22T13:21:55.226Z"
      },
      {
        "duration": 732,
        "start_time": "2022-12-22T13:21:55.242Z"
      },
      {
        "duration": 626,
        "start_time": "2022-12-22T13:21:55.976Z"
      },
      {
        "duration": 750,
        "start_time": "2022-12-22T13:21:56.603Z"
      },
      {
        "duration": 516,
        "start_time": "2022-12-22T13:21:57.354Z"
      },
      {
        "duration": 6,
        "start_time": "2022-12-22T13:21:57.871Z"
      },
      {
        "duration": 539,
        "start_time": "2022-12-22T13:21:57.878Z"
      },
      {
        "duration": 602,
        "start_time": "2022-12-22T13:21:58.418Z"
      },
      {
        "duration": 4,
        "start_time": "2022-12-22T13:21:59.021Z"
      },
      {
        "duration": 40,
        "start_time": "2022-12-22T13:21:59.026Z"
      },
      {
        "duration": 4,
        "start_time": "2022-12-22T13:21:59.067Z"
      },
      {
        "duration": 7,
        "start_time": "2022-12-22T13:21:59.072Z"
      },
      {
        "duration": 13,
        "start_time": "2022-12-22T13:21:59.097Z"
      },
      {
        "duration": 9,
        "start_time": "2022-12-22T13:21:59.111Z"
      },
      {
        "duration": 9,
        "start_time": "2022-12-22T13:21:59.122Z"
      },
      {
        "duration": 5,
        "start_time": "2022-12-22T13:21:59.132Z"
      },
      {
        "duration": 12,
        "start_time": "2022-12-22T13:21:59.138Z"
      },
      {
        "duration": 11,
        "start_time": "2022-12-22T13:21:59.151Z"
      },
      {
        "duration": 12166,
        "start_time": "2022-12-22T13:21:59.164Z"
      },
      {
        "duration": 1155993,
        "start_time": "2022-12-22T13:22:11.331Z"
      },
      {
        "duration": 5791,
        "start_time": "2022-12-22T13:41:27.326Z"
      },
      {
        "duration": 6,
        "start_time": "2022-12-22T13:41:33.119Z"
      },
      {
        "duration": 100,
        "start_time": "2022-12-22T13:41:33.199Z"
      },
      {
        "duration": 3990,
        "start_time": "2022-12-22T13:42:44.920Z"
      },
      {
        "duration": 3132,
        "start_time": "2022-12-22T13:43:07.985Z"
      },
      {
        "duration": 5885,
        "start_time": "2022-12-22T14:04:50.942Z"
      },
      {
        "duration": 5841,
        "start_time": "2022-12-22T14:07:46.529Z"
      },
      {
        "duration": 5700,
        "start_time": "2022-12-22T14:14:30.173Z"
      },
      {
        "duration": 5,
        "start_time": "2022-12-22T14:16:11.945Z"
      },
      {
        "duration": 5,
        "start_time": "2022-12-22T14:16:39.568Z"
      },
      {
        "duration": 5588,
        "start_time": "2022-12-22T14:16:48.321Z"
      },
      {
        "duration": 5687,
        "start_time": "2022-12-22T14:18:28.426Z"
      },
      {
        "duration": 1581,
        "start_time": "2022-12-23T07:24:52.792Z"
      },
      {
        "duration": 2920,
        "start_time": "2022-12-23T07:24:54.375Z"
      },
      {
        "duration": 723,
        "start_time": "2022-12-23T07:24:57.297Z"
      },
      {
        "duration": 251,
        "start_time": "2022-12-23T07:24:58.022Z"
      },
      {
        "duration": 14,
        "start_time": "2022-12-23T07:24:58.276Z"
      },
      {
        "duration": 6,
        "start_time": "2022-12-23T07:24:58.293Z"
      },
      {
        "duration": 9,
        "start_time": "2022-12-23T07:24:58.301Z"
      },
      {
        "duration": 23,
        "start_time": "2022-12-23T07:24:58.312Z"
      },
      {
        "duration": 14,
        "start_time": "2022-12-23T07:24:58.337Z"
      },
      {
        "duration": 27,
        "start_time": "2022-12-23T07:24:58.352Z"
      },
      {
        "duration": 21,
        "start_time": "2022-12-23T07:24:58.381Z"
      },
      {
        "duration": 25,
        "start_time": "2022-12-23T07:24:58.404Z"
      },
      {
        "duration": 16,
        "start_time": "2022-12-23T07:24:58.431Z"
      },
      {
        "duration": 46,
        "start_time": "2022-12-23T07:24:58.450Z"
      },
      {
        "duration": 863,
        "start_time": "2022-12-23T07:24:58.498Z"
      },
      {
        "duration": 778,
        "start_time": "2022-12-23T07:24:59.363Z"
      },
      {
        "duration": 906,
        "start_time": "2022-12-23T07:25:00.143Z"
      },
      {
        "duration": 632,
        "start_time": "2022-12-23T07:25:01.051Z"
      },
      {
        "duration": 7,
        "start_time": "2022-12-23T07:25:01.685Z"
      },
      {
        "duration": 591,
        "start_time": "2022-12-23T07:25:01.694Z"
      },
      {
        "duration": 720,
        "start_time": "2022-12-23T07:25:02.287Z"
      },
      {
        "duration": 4,
        "start_time": "2022-12-23T07:25:03.009Z"
      },
      {
        "duration": 48,
        "start_time": "2022-12-23T07:25:03.015Z"
      },
      {
        "duration": 13,
        "start_time": "2022-12-23T07:25:03.065Z"
      },
      {
        "duration": 16,
        "start_time": "2022-12-23T07:25:03.080Z"
      },
      {
        "duration": 25,
        "start_time": "2022-12-23T07:25:03.097Z"
      },
      {
        "duration": 11,
        "start_time": "2022-12-23T07:25:03.124Z"
      },
      {
        "duration": 8,
        "start_time": "2022-12-23T07:25:03.137Z"
      },
      {
        "duration": 12,
        "start_time": "2022-12-23T07:25:03.146Z"
      },
      {
        "duration": 44,
        "start_time": "2022-12-23T07:25:03.178Z"
      },
      {
        "duration": 13040,
        "start_time": "2022-12-23T07:25:03.224Z"
      },
      {
        "duration": 1079980,
        "start_time": "2022-12-23T07:25:16.267Z"
      },
      {
        "duration": 1836,
        "start_time": "2022-12-23T07:43:16.249Z"
      },
      {
        "duration": 5973,
        "start_time": "2022-12-23T07:43:18.087Z"
      },
      {
        "duration": 3,
        "start_time": "2022-12-23T07:43:24.062Z"
      },
      {
        "duration": 2385903,
        "start_time": "2022-12-23T08:04:45.096Z"
      },
      {
        "duration": 2718586,
        "start_time": "2022-12-23T09:39:01.549Z"
      },
      {
        "duration": 5033,
        "start_time": "2022-12-23T10:39:11.405Z"
      },
      {
        "duration": 132,
        "start_time": "2022-12-23T10:39:50.066Z"
      },
      {
        "duration": 10,
        "start_time": "2022-12-23T10:40:07.719Z"
      },
      {
        "duration": 5218,
        "start_time": "2022-12-23T10:41:10.596Z"
      },
      {
        "duration": 10,
        "start_time": "2022-12-23T10:41:34.634Z"
      },
      {
        "duration": 5499,
        "start_time": "2022-12-23T10:45:23.859Z"
      },
      {
        "duration": 13517,
        "start_time": "2022-12-23T10:46:25.838Z"
      },
      {
        "duration": 5138,
        "start_time": "2022-12-23T10:47:22.223Z"
      },
      {
        "duration": 1605,
        "start_time": "2022-12-23T21:22:52.601Z"
      },
      {
        "duration": 2506,
        "start_time": "2022-12-23T21:22:54.209Z"
      },
      {
        "duration": 694,
        "start_time": "2022-12-23T21:22:56.717Z"
      },
      {
        "duration": 229,
        "start_time": "2022-12-23T21:22:57.413Z"
      },
      {
        "duration": 8,
        "start_time": "2022-12-23T21:22:57.644Z"
      },
      {
        "duration": 20,
        "start_time": "2022-12-23T21:22:57.653Z"
      },
      {
        "duration": 14,
        "start_time": "2022-12-23T21:22:57.675Z"
      },
      {
        "duration": 28,
        "start_time": "2022-12-23T21:22:57.691Z"
      },
      {
        "duration": 5,
        "start_time": "2022-12-23T21:22:57.721Z"
      },
      {
        "duration": 8,
        "start_time": "2022-12-23T21:22:57.728Z"
      },
      {
        "duration": 13,
        "start_time": "2022-12-23T21:22:57.737Z"
      },
      {
        "duration": 19,
        "start_time": "2022-12-23T21:22:57.752Z"
      },
      {
        "duration": 21,
        "start_time": "2022-12-23T21:22:57.773Z"
      },
      {
        "duration": 23,
        "start_time": "2022-12-23T21:22:57.802Z"
      },
      {
        "duration": 844,
        "start_time": "2022-12-23T21:22:57.827Z"
      },
      {
        "duration": 752,
        "start_time": "2022-12-23T21:22:58.673Z"
      },
      {
        "duration": 876,
        "start_time": "2022-12-23T21:22:59.426Z"
      },
      {
        "duration": 596,
        "start_time": "2022-12-23T21:23:00.305Z"
      },
      {
        "duration": 5,
        "start_time": "2022-12-23T21:23:00.904Z"
      },
      {
        "duration": 136,
        "start_time": "2022-12-23T21:23:00.911Z"
      },
      {
        "duration": 0,
        "start_time": "2022-12-23T21:23:01.049Z"
      },
      {
        "duration": 0,
        "start_time": "2022-12-23T21:23:01.050Z"
      },
      {
        "duration": 0,
        "start_time": "2022-12-23T21:23:01.051Z"
      },
      {
        "duration": 0,
        "start_time": "2022-12-23T21:23:01.052Z"
      },
      {
        "duration": 0,
        "start_time": "2022-12-23T21:23:01.053Z"
      },
      {
        "duration": 0,
        "start_time": "2022-12-23T21:23:01.054Z"
      },
      {
        "duration": 0,
        "start_time": "2022-12-23T21:23:01.055Z"
      },
      {
        "duration": 0,
        "start_time": "2022-12-23T21:23:01.057Z"
      },
      {
        "duration": 0,
        "start_time": "2022-12-23T21:23:01.058Z"
      },
      {
        "duration": 0,
        "start_time": "2022-12-23T21:23:01.059Z"
      },
      {
        "duration": 0,
        "start_time": "2022-12-23T21:23:01.080Z"
      },
      {
        "duration": 0,
        "start_time": "2022-12-23T21:23:01.081Z"
      },
      {
        "duration": 0,
        "start_time": "2022-12-23T21:23:01.081Z"
      },
      {
        "duration": 0,
        "start_time": "2022-12-23T21:23:01.082Z"
      },
      {
        "duration": 0,
        "start_time": "2022-12-23T21:23:01.088Z"
      },
      {
        "duration": 567,
        "start_time": "2022-12-23T21:24:33.203Z"
      },
      {
        "duration": 3,
        "start_time": "2022-12-23T21:32:39.906Z"
      },
      {
        "duration": 3,
        "start_time": "2022-12-23T21:32:56.904Z"
      },
      {
        "duration": 6,
        "start_time": "2022-12-23T21:59:13.459Z"
      },
      {
        "duration": 763,
        "start_time": "2022-12-23T21:59:21.401Z"
      },
      {
        "duration": 5,
        "start_time": "2022-12-23T22:01:57.107Z"
      },
      {
        "duration": 593,
        "start_time": "2022-12-23T22:04:52.374Z"
      },
      {
        "duration": 4,
        "start_time": "2022-12-23T22:05:13.128Z"
      },
      {
        "duration": 54,
        "start_time": "2022-12-23T22:05:18.455Z"
      },
      {
        "duration": 10,
        "start_time": "2022-12-23T22:05:20.576Z"
      }
    ],
    "toc": {
      "base_numbering": 1,
      "nav_menu": {},
      "number_sections": true,
      "sideBar": true,
      "skip_h1_title": true,
      "title_cell": "Содержание",
      "title_sidebar": "Contents",
      "toc_cell": true,
      "toc_position": {
        "height": "calc(100% - 180px)",
        "left": "10px",
        "top": "150px",
        "width": "229.188px"
      },
      "toc_section_display": true,
      "toc_window_display": true
    },
    "kernelspec": {
      "name": "python",
      "display_name": "Python (Pyodide)",
      "language": "python"
    },
    "language_info": {
      "codemirror_mode": {
        "name": "python",
        "version": 3
      },
      "file_extension": ".py",
      "mimetype": "text/x-python",
      "name": "python",
      "nbconvert_exporter": "python",
      "pygments_lexer": "ipython3",
      "version": "3.8"
    }
  },
  "nbformat_minor": 4,
  "nbformat": 4,
  "cells": [
    {
      "cell_type": "markdown",
      "source": "# Восстановление золота из руды",
      "metadata": {}
    },
    {
      "cell_type": "markdown",
      "source": "Подготовьте прототип модели машинного обучения для «Цифры». Компания разрабатывает решения для эффективной работы промышленных предприятий.\n\nМодель должна предсказать коэффициент восстановления золота из золотосодержащей руды. Используйте данные с параметрами добычи и очистки. \n\nМодель поможет оптимизировать производство, чтобы не запускать предприятие с убыточными характеристиками.\n\nВам нужно:\n\n1. Подготовить данные;\n2. Провести исследовательский анализ данных;\n3. Построить и обучить модель.\n\nЧтобы выполнить проект, обращайтесь к библиотекам *pandas*, *matplotlib* и *sklearn.* Вам поможет их документация.",
      "metadata": {}
    },
    {
      "cell_type": "code",
      "source": "#Импортируем библиотеки\nimport pandas as pd\nimport numpy as np\nfrom scipy import stats\nimport matplotlib.pyplot as plt\nimport seaborn as sns\nsns.set()\nfrom sklearn.utils import shuffle\nfrom sklearn.preprocessing import StandardScaler\nfrom sklearn.dummy import DummyRegressor\nfrom sklearn.metrics import mean_absolute_error\nfrom sklearn.tree import DecisionTreeRegressor\nfrom sklearn.linear_model import LinearRegression\nfrom sklearn.ensemble import RandomForestRegressor\nfrom sklearn.metrics import make_scorer\nfrom sklearn.model_selection import cross_val_score\nfrom tqdm import tqdm",
      "metadata": {},
      "execution_count": 1,
      "outputs": []
    },
    {
      "cell_type": "markdown",
      "source": "## Подготовка данных",
      "metadata": {}
    },
    {
      "cell_type": "code",
      "source": "#Сохраним данные в переменных\ndata_train = pd.read_csv('/datasets/gold_recovery_train_new.csv')\ndata_test = pd.read_csv('/datasets/gold_recovery_test_new.csv')\ndata_full = pd.read_csv('/datasets/gold_recovery_full_new.csv')",
      "metadata": {},
      "execution_count": 2,
      "outputs": []
    },
    {
      "cell_type": "code",
      "source": "#Создадим список из переменных и посмотрим информацию о каждом датасете\ndata_list = [data_train, data_test, data_full]\nfor data in data_list:\n    display(data.head())\n    display(data.info())\n    display(data.describe())",
      "metadata": {
        "scrolled": true
      },
      "execution_count": 3,
      "outputs": [
        {
          "output_type": "display_data",
          "data": {
            "text/html": [
              "<div>\n",
              "<style scoped>\n",
              "    .dataframe tbody tr th:only-of-type {\n",
              "        vertical-align: middle;\n",
              "    }\n",
              "\n",
              "    .dataframe tbody tr th {\n",
              "        vertical-align: top;\n",
              "    }\n",
              "\n",
              "    .dataframe thead th {\n",
              "        text-align: right;\n",
              "    }\n",
              "</style>\n",
              "<table border=\"1\" class=\"dataframe\">\n",
              "  <thead>\n",
              "    <tr style=\"text-align: right;\">\n",
              "      <th></th>\n",
              "      <th>date</th>\n",
              "      <th>final.output.concentrate_ag</th>\n",
              "      <th>final.output.concentrate_pb</th>\n",
              "      <th>final.output.concentrate_sol</th>\n",
              "      <th>final.output.concentrate_au</th>\n",
              "      <th>final.output.recovery</th>\n",
              "      <th>final.output.tail_ag</th>\n",
              "      <th>final.output.tail_pb</th>\n",
              "      <th>final.output.tail_sol</th>\n",
              "      <th>final.output.tail_au</th>\n",
              "      <th>...</th>\n",
              "      <th>secondary_cleaner.state.floatbank4_a_air</th>\n",
              "      <th>secondary_cleaner.state.floatbank4_a_level</th>\n",
              "      <th>secondary_cleaner.state.floatbank4_b_air</th>\n",
              "      <th>secondary_cleaner.state.floatbank4_b_level</th>\n",
              "      <th>secondary_cleaner.state.floatbank5_a_air</th>\n",
              "      <th>secondary_cleaner.state.floatbank5_a_level</th>\n",
              "      <th>secondary_cleaner.state.floatbank5_b_air</th>\n",
              "      <th>secondary_cleaner.state.floatbank5_b_level</th>\n",
              "      <th>secondary_cleaner.state.floatbank6_a_air</th>\n",
              "      <th>secondary_cleaner.state.floatbank6_a_level</th>\n",
              "    </tr>\n",
              "  </thead>\n",
              "  <tbody>\n",
              "    <tr>\n",
              "      <th>0</th>\n",
              "      <td>2016-01-15 00:00:00</td>\n",
              "      <td>6.055403</td>\n",
              "      <td>9.889648</td>\n",
              "      <td>5.507324</td>\n",
              "      <td>42.192020</td>\n",
              "      <td>70.541216</td>\n",
              "      <td>10.411962</td>\n",
              "      <td>0.895447</td>\n",
              "      <td>16.904297</td>\n",
              "      <td>2.143149</td>\n",
              "      <td>...</td>\n",
              "      <td>14.016835</td>\n",
              "      <td>-502.488007</td>\n",
              "      <td>12.099931</td>\n",
              "      <td>-504.715942</td>\n",
              "      <td>9.925633</td>\n",
              "      <td>-498.310211</td>\n",
              "      <td>8.079666</td>\n",
              "      <td>-500.470978</td>\n",
              "      <td>14.151341</td>\n",
              "      <td>-605.841980</td>\n",
              "    </tr>\n",
              "    <tr>\n",
              "      <th>1</th>\n",
              "      <td>2016-01-15 01:00:00</td>\n",
              "      <td>6.029369</td>\n",
              "      <td>9.968944</td>\n",
              "      <td>5.257781</td>\n",
              "      <td>42.701629</td>\n",
              "      <td>69.266198</td>\n",
              "      <td>10.462676</td>\n",
              "      <td>0.927452</td>\n",
              "      <td>16.634514</td>\n",
              "      <td>2.224930</td>\n",
              "      <td>...</td>\n",
              "      <td>13.992281</td>\n",
              "      <td>-505.503262</td>\n",
              "      <td>11.950531</td>\n",
              "      <td>-501.331529</td>\n",
              "      <td>10.039245</td>\n",
              "      <td>-500.169983</td>\n",
              "      <td>7.984757</td>\n",
              "      <td>-500.582168</td>\n",
              "      <td>13.998353</td>\n",
              "      <td>-599.787184</td>\n",
              "    </tr>\n",
              "    <tr>\n",
              "      <th>2</th>\n",
              "      <td>2016-01-15 02:00:00</td>\n",
              "      <td>6.055926</td>\n",
              "      <td>10.213995</td>\n",
              "      <td>5.383759</td>\n",
              "      <td>42.657501</td>\n",
              "      <td>68.116445</td>\n",
              "      <td>10.507046</td>\n",
              "      <td>0.953716</td>\n",
              "      <td>16.208849</td>\n",
              "      <td>2.257889</td>\n",
              "      <td>...</td>\n",
              "      <td>14.015015</td>\n",
              "      <td>-502.520901</td>\n",
              "      <td>11.912783</td>\n",
              "      <td>-501.133383</td>\n",
              "      <td>10.070913</td>\n",
              "      <td>-500.129135</td>\n",
              "      <td>8.013877</td>\n",
              "      <td>-500.517572</td>\n",
              "      <td>14.028663</td>\n",
              "      <td>-601.427363</td>\n",
              "    </tr>\n",
              "    <tr>\n",
              "      <th>3</th>\n",
              "      <td>2016-01-15 03:00:00</td>\n",
              "      <td>6.047977</td>\n",
              "      <td>9.977019</td>\n",
              "      <td>4.858634</td>\n",
              "      <td>42.689819</td>\n",
              "      <td>68.347543</td>\n",
              "      <td>10.422762</td>\n",
              "      <td>0.883763</td>\n",
              "      <td>16.532835</td>\n",
              "      <td>2.146849</td>\n",
              "      <td>...</td>\n",
              "      <td>14.036510</td>\n",
              "      <td>-500.857308</td>\n",
              "      <td>11.999550</td>\n",
              "      <td>-501.193686</td>\n",
              "      <td>9.970366</td>\n",
              "      <td>-499.201640</td>\n",
              "      <td>7.977324</td>\n",
              "      <td>-500.255908</td>\n",
              "      <td>14.005551</td>\n",
              "      <td>-599.996129</td>\n",
              "    </tr>\n",
              "    <tr>\n",
              "      <th>4</th>\n",
              "      <td>2016-01-15 04:00:00</td>\n",
              "      <td>6.148599</td>\n",
              "      <td>10.142511</td>\n",
              "      <td>4.939416</td>\n",
              "      <td>42.774141</td>\n",
              "      <td>66.927016</td>\n",
              "      <td>10.360302</td>\n",
              "      <td>0.792826</td>\n",
              "      <td>16.525686</td>\n",
              "      <td>2.055292</td>\n",
              "      <td>...</td>\n",
              "      <td>14.027298</td>\n",
              "      <td>-499.838632</td>\n",
              "      <td>11.953070</td>\n",
              "      <td>-501.053894</td>\n",
              "      <td>9.925709</td>\n",
              "      <td>-501.686727</td>\n",
              "      <td>7.894242</td>\n",
              "      <td>-500.356035</td>\n",
              "      <td>13.996647</td>\n",
              "      <td>-601.496691</td>\n",
              "    </tr>\n",
              "  </tbody>\n",
              "</table>\n",
              "<p>5 rows × 87 columns</p>\n",
              "</div>"
            ],
            "text/plain": [
              "                  date  final.output.concentrate_ag  \\\n",
              "0  2016-01-15 00:00:00                     6.055403   \n",
              "1  2016-01-15 01:00:00                     6.029369   \n",
              "2  2016-01-15 02:00:00                     6.055926   \n",
              "3  2016-01-15 03:00:00                     6.047977   \n",
              "4  2016-01-15 04:00:00                     6.148599   \n",
              "\n",
              "   final.output.concentrate_pb  final.output.concentrate_sol  \\\n",
              "0                     9.889648                      5.507324   \n",
              "1                     9.968944                      5.257781   \n",
              "2                    10.213995                      5.383759   \n",
              "3                     9.977019                      4.858634   \n",
              "4                    10.142511                      4.939416   \n",
              "\n",
              "   final.output.concentrate_au  final.output.recovery  final.output.tail_ag  \\\n",
              "0                    42.192020              70.541216             10.411962   \n",
              "1                    42.701629              69.266198             10.462676   \n",
              "2                    42.657501              68.116445             10.507046   \n",
              "3                    42.689819              68.347543             10.422762   \n",
              "4                    42.774141              66.927016             10.360302   \n",
              "\n",
              "   final.output.tail_pb  final.output.tail_sol  final.output.tail_au  ...  \\\n",
              "0              0.895447              16.904297              2.143149  ...   \n",
              "1              0.927452              16.634514              2.224930  ...   \n",
              "2              0.953716              16.208849              2.257889  ...   \n",
              "3              0.883763              16.532835              2.146849  ...   \n",
              "4              0.792826              16.525686              2.055292  ...   \n",
              "\n",
              "   secondary_cleaner.state.floatbank4_a_air  \\\n",
              "0                                 14.016835   \n",
              "1                                 13.992281   \n",
              "2                                 14.015015   \n",
              "3                                 14.036510   \n",
              "4                                 14.027298   \n",
              "\n",
              "   secondary_cleaner.state.floatbank4_a_level  \\\n",
              "0                                 -502.488007   \n",
              "1                                 -505.503262   \n",
              "2                                 -502.520901   \n",
              "3                                 -500.857308   \n",
              "4                                 -499.838632   \n",
              "\n",
              "   secondary_cleaner.state.floatbank4_b_air  \\\n",
              "0                                 12.099931   \n",
              "1                                 11.950531   \n",
              "2                                 11.912783   \n",
              "3                                 11.999550   \n",
              "4                                 11.953070   \n",
              "\n",
              "   secondary_cleaner.state.floatbank4_b_level  \\\n",
              "0                                 -504.715942   \n",
              "1                                 -501.331529   \n",
              "2                                 -501.133383   \n",
              "3                                 -501.193686   \n",
              "4                                 -501.053894   \n",
              "\n",
              "   secondary_cleaner.state.floatbank5_a_air  \\\n",
              "0                                  9.925633   \n",
              "1                                 10.039245   \n",
              "2                                 10.070913   \n",
              "3                                  9.970366   \n",
              "4                                  9.925709   \n",
              "\n",
              "   secondary_cleaner.state.floatbank5_a_level  \\\n",
              "0                                 -498.310211   \n",
              "1                                 -500.169983   \n",
              "2                                 -500.129135   \n",
              "3                                 -499.201640   \n",
              "4                                 -501.686727   \n",
              "\n",
              "   secondary_cleaner.state.floatbank5_b_air  \\\n",
              "0                                  8.079666   \n",
              "1                                  7.984757   \n",
              "2                                  8.013877   \n",
              "3                                  7.977324   \n",
              "4                                  7.894242   \n",
              "\n",
              "   secondary_cleaner.state.floatbank5_b_level  \\\n",
              "0                                 -500.470978   \n",
              "1                                 -500.582168   \n",
              "2                                 -500.517572   \n",
              "3                                 -500.255908   \n",
              "4                                 -500.356035   \n",
              "\n",
              "   secondary_cleaner.state.floatbank6_a_air  \\\n",
              "0                                 14.151341   \n",
              "1                                 13.998353   \n",
              "2                                 14.028663   \n",
              "3                                 14.005551   \n",
              "4                                 13.996647   \n",
              "\n",
              "   secondary_cleaner.state.floatbank6_a_level  \n",
              "0                                 -605.841980  \n",
              "1                                 -599.787184  \n",
              "2                                 -601.427363  \n",
              "3                                 -599.996129  \n",
              "4                                 -601.496691  \n",
              "\n",
              "[5 rows x 87 columns]"
            ]
          },
          "metadata": {}
        },
        {
          "name": "stdout",
          "output_type": "stream",
          "text": "<class 'pandas.core.frame.DataFrame'>\n\nRangeIndex: 14149 entries, 0 to 14148\n\nData columns (total 87 columns):\n\n #   Column                                              Non-Null Count  Dtype  \n\n---  ------                                              --------------  -----  \n\n 0   date                                                14149 non-null  object \n\n 1   final.output.concentrate_ag                         14148 non-null  float64\n\n 2   final.output.concentrate_pb                         14148 non-null  float64\n\n 3   final.output.concentrate_sol                        13938 non-null  float64\n\n 4   final.output.concentrate_au                         14149 non-null  float64\n\n 5   final.output.recovery                               14149 non-null  float64\n\n 6   final.output.tail_ag                                14149 non-null  float64\n\n 7   final.output.tail_pb                                14049 non-null  float64\n\n 8   final.output.tail_sol                               14144 non-null  float64\n\n 9   final.output.tail_au                                14149 non-null  float64\n\n 10  primary_cleaner.input.sulfate                       14129 non-null  float64\n\n 11  primary_cleaner.input.depressant                    14117 non-null  float64\n\n 12  primary_cleaner.input.feed_size                     14149 non-null  float64\n\n 13  primary_cleaner.input.xanthate                      14049 non-null  float64\n\n 14  primary_cleaner.output.concentrate_ag               14149 non-null  float64\n\n 15  primary_cleaner.output.concentrate_pb               14063 non-null  float64\n\n 16  primary_cleaner.output.concentrate_sol              13863 non-null  float64\n\n 17  primary_cleaner.output.concentrate_au               14149 non-null  float64\n\n 18  primary_cleaner.output.tail_ag                      14148 non-null  float64\n\n 19  primary_cleaner.output.tail_pb                      14134 non-null  float64\n\n 20  primary_cleaner.output.tail_sol                     14103 non-null  float64\n\n 21  primary_cleaner.output.tail_au                      14149 non-null  float64\n\n 22  primary_cleaner.state.floatbank8_a_air              14145 non-null  float64\n\n 23  primary_cleaner.state.floatbank8_a_level            14148 non-null  float64\n\n 24  primary_cleaner.state.floatbank8_b_air              14145 non-null  float64\n\n 25  primary_cleaner.state.floatbank8_b_level            14148 non-null  float64\n\n 26  primary_cleaner.state.floatbank8_c_air              14147 non-null  float64\n\n 27  primary_cleaner.state.floatbank8_c_level            14148 non-null  float64\n\n 28  primary_cleaner.state.floatbank8_d_air              14146 non-null  float64\n\n 29  primary_cleaner.state.floatbank8_d_level            14148 non-null  float64\n\n 30  rougher.calculation.sulfate_to_au_concentrate       14148 non-null  float64\n\n 31  rougher.calculation.floatbank10_sulfate_to_au_feed  14148 non-null  float64\n\n 32  rougher.calculation.floatbank11_sulfate_to_au_feed  14148 non-null  float64\n\n 33  rougher.calculation.au_pb_ratio                     14149 non-null  float64\n\n 34  rougher.input.feed_ag                               14149 non-null  float64\n\n 35  rougher.input.feed_pb                               14049 non-null  float64\n\n 36  rougher.input.feed_rate                             14141 non-null  float64\n\n 37  rougher.input.feed_size                             14005 non-null  float64\n\n 38  rougher.input.feed_sol                              14071 non-null  float64\n\n 39  rougher.input.feed_au                               14149 non-null  float64\n\n 40  rougher.input.floatbank10_sulfate                   14120 non-null  float64\n\n 41  rougher.input.floatbank10_xanthate                  14141 non-null  float64\n\n 42  rougher.input.floatbank11_sulfate                   14113 non-null  float64\n\n 43  rougher.input.floatbank11_xanthate                  13721 non-null  float64\n\n 44  rougher.output.concentrate_ag                       14149 non-null  float64\n\n 45  rougher.output.concentrate_pb                       14149 non-null  float64\n\n 46  rougher.output.concentrate_sol                      14127 non-null  float64\n\n 47  rougher.output.concentrate_au                       14149 non-null  float64\n\n 48  rougher.output.recovery                             14149 non-null  float64\n\n 49  rougher.output.tail_ag                              14148 non-null  float64\n\n 50  rougher.output.tail_pb                              14149 non-null  float64\n\n 51  rougher.output.tail_sol                             14149 non-null  float64\n\n 52  rougher.output.tail_au                              14149 non-null  float64\n\n 53  rougher.state.floatbank10_a_air                     14148 non-null  float64\n\n 54  rougher.state.floatbank10_a_level                   14148 non-null  float64\n\n 55  rougher.state.floatbank10_b_air                     14148 non-null  float64\n\n 56  rougher.state.floatbank10_b_level                   14148 non-null  float64\n\n 57  rougher.state.floatbank10_c_air                     14148 non-null  float64\n\n 58  rougher.state.floatbank10_c_level                   14148 non-null  float64\n\n 59  rougher.state.floatbank10_d_air                     14149 non-null  float64\n\n 60  rougher.state.floatbank10_d_level                   14149 non-null  float64\n\n 61  rougher.state.floatbank10_e_air                     13713 non-null  float64\n\n 62  rougher.state.floatbank10_e_level                   14149 non-null  float64\n\n 63  rougher.state.floatbank10_f_air                     14149 non-null  float64\n\n 64  rougher.state.floatbank10_f_level                   14149 non-null  float64\n\n 65  secondary_cleaner.output.tail_ag                    14147 non-null  float64\n\n 66  secondary_cleaner.output.tail_pb                    14139 non-null  float64\n\n 67  secondary_cleaner.output.tail_sol                   12544 non-null  float64\n\n 68  secondary_cleaner.output.tail_au                    14149 non-null  float64\n\n 69  secondary_cleaner.state.floatbank2_a_air            13932 non-null  float64\n\n 70  secondary_cleaner.state.floatbank2_a_level          14148 non-null  float64\n\n 71  secondary_cleaner.state.floatbank2_b_air            14128 non-null  float64\n\n 72  secondary_cleaner.state.floatbank2_b_level          14148 non-null  float64\n\n 73  secondary_cleaner.state.floatbank3_a_air            14145 non-null  float64\n\n 74  secondary_cleaner.state.floatbank3_a_level          14148 non-null  float64\n\n 75  secondary_cleaner.state.floatbank3_b_air            14148 non-null  float64\n\n 76  secondary_cleaner.state.floatbank3_b_level          14148 non-null  float64\n\n 77  secondary_cleaner.state.floatbank4_a_air            14143 non-null  float64\n\n 78  secondary_cleaner.state.floatbank4_a_level          14148 non-null  float64\n\n 79  secondary_cleaner.state.floatbank4_b_air            14148 non-null  float64\n\n 80  secondary_cleaner.state.floatbank4_b_level          14148 non-null  float64\n\n 81  secondary_cleaner.state.floatbank5_a_air            14148 non-null  float64\n\n 82  secondary_cleaner.state.floatbank5_a_level          14148 non-null  float64\n\n 83  secondary_cleaner.state.floatbank5_b_air            14148 non-null  float64\n\n 84  secondary_cleaner.state.floatbank5_b_level          14148 non-null  float64\n\n 85  secondary_cleaner.state.floatbank6_a_air            14147 non-null  float64\n\n 86  secondary_cleaner.state.floatbank6_a_level          14148 non-null  float64\n\ndtypes: float64(86), object(1)\n\nmemory usage: 9.4+ MB\n"
        },
        {
          "output_type": "display_data",
          "data": {
            "text/plain": [
              "None"
            ]
          },
          "metadata": {}
        },
        {
          "output_type": "display_data",
          "data": {
            "text/html": [
              "<div>\n",
              "<style scoped>\n",
              "    .dataframe tbody tr th:only-of-type {\n",
              "        vertical-align: middle;\n",
              "    }\n",
              "\n",
              "    .dataframe tbody tr th {\n",
              "        vertical-align: top;\n",
              "    }\n",
              "\n",
              "    .dataframe thead th {\n",
              "        text-align: right;\n",
              "    }\n",
              "</style>\n",
              "<table border=\"1\" class=\"dataframe\">\n",
              "  <thead>\n",
              "    <tr style=\"text-align: right;\">\n",
              "      <th></th>\n",
              "      <th>final.output.concentrate_ag</th>\n",
              "      <th>final.output.concentrate_pb</th>\n",
              "      <th>final.output.concentrate_sol</th>\n",
              "      <th>final.output.concentrate_au</th>\n",
              "      <th>final.output.recovery</th>\n",
              "      <th>final.output.tail_ag</th>\n",
              "      <th>final.output.tail_pb</th>\n",
              "      <th>final.output.tail_sol</th>\n",
              "      <th>final.output.tail_au</th>\n",
              "      <th>primary_cleaner.input.sulfate</th>\n",
              "      <th>...</th>\n",
              "      <th>secondary_cleaner.state.floatbank4_a_air</th>\n",
              "      <th>secondary_cleaner.state.floatbank4_a_level</th>\n",
              "      <th>secondary_cleaner.state.floatbank4_b_air</th>\n",
              "      <th>secondary_cleaner.state.floatbank4_b_level</th>\n",
              "      <th>secondary_cleaner.state.floatbank5_a_air</th>\n",
              "      <th>secondary_cleaner.state.floatbank5_a_level</th>\n",
              "      <th>secondary_cleaner.state.floatbank5_b_air</th>\n",
              "      <th>secondary_cleaner.state.floatbank5_b_level</th>\n",
              "      <th>secondary_cleaner.state.floatbank6_a_air</th>\n",
              "      <th>secondary_cleaner.state.floatbank6_a_level</th>\n",
              "    </tr>\n",
              "  </thead>\n",
              "  <tbody>\n",
              "    <tr>\n",
              "      <th>count</th>\n",
              "      <td>14148.000000</td>\n",
              "      <td>14148.000000</td>\n",
              "      <td>13938.000000</td>\n",
              "      <td>14149.000000</td>\n",
              "      <td>14149.000000</td>\n",
              "      <td>14149.000000</td>\n",
              "      <td>14049.000000</td>\n",
              "      <td>14144.000000</td>\n",
              "      <td>14149.000000</td>\n",
              "      <td>14129.000000</td>\n",
              "      <td>...</td>\n",
              "      <td>14143.000000</td>\n",
              "      <td>14148.000000</td>\n",
              "      <td>14148.000000</td>\n",
              "      <td>14148.000000</td>\n",
              "      <td>14148.000000</td>\n",
              "      <td>14148.000000</td>\n",
              "      <td>14148.000000</td>\n",
              "      <td>14148.000000</td>\n",
              "      <td>14147.000000</td>\n",
              "      <td>14148.000000</td>\n",
              "    </tr>\n",
              "    <tr>\n",
              "      <th>mean</th>\n",
              "      <td>5.142034</td>\n",
              "      <td>10.132960</td>\n",
              "      <td>9.202849</td>\n",
              "      <td>44.003792</td>\n",
              "      <td>66.518832</td>\n",
              "      <td>9.607035</td>\n",
              "      <td>2.597298</td>\n",
              "      <td>10.512122</td>\n",
              "      <td>2.918421</td>\n",
              "      <td>133.320659</td>\n",
              "      <td>...</td>\n",
              "      <td>19.985454</td>\n",
              "      <td>-478.696836</td>\n",
              "      <td>15.487065</td>\n",
              "      <td>-460.229416</td>\n",
              "      <td>16.775136</td>\n",
              "      <td>-483.956022</td>\n",
              "      <td>13.064590</td>\n",
              "      <td>-483.966564</td>\n",
              "      <td>19.577539</td>\n",
              "      <td>-506.798480</td>\n",
              "    </tr>\n",
              "    <tr>\n",
              "      <th>std</th>\n",
              "      <td>1.369586</td>\n",
              "      <td>1.654930</td>\n",
              "      <td>2.790516</td>\n",
              "      <td>4.905261</td>\n",
              "      <td>10.295402</td>\n",
              "      <td>2.319069</td>\n",
              "      <td>0.971843</td>\n",
              "      <td>3.003617</td>\n",
              "      <td>0.903712</td>\n",
              "      <td>39.431659</td>\n",
              "      <td>...</td>\n",
              "      <td>5.657723</td>\n",
              "      <td>50.736021</td>\n",
              "      <td>5.255655</td>\n",
              "      <td>58.843586</td>\n",
              "      <td>5.831906</td>\n",
              "      <td>37.892788</td>\n",
              "      <td>5.765617</td>\n",
              "      <td>39.207913</td>\n",
              "      <td>5.764417</td>\n",
              "      <td>37.079249</td>\n",
              "    </tr>\n",
              "    <tr>\n",
              "      <th>min</th>\n",
              "      <td>0.000000</td>\n",
              "      <td>0.000000</td>\n",
              "      <td>0.000000</td>\n",
              "      <td>0.000000</td>\n",
              "      <td>0.000000</td>\n",
              "      <td>0.000000</td>\n",
              "      <td>0.000000</td>\n",
              "      <td>0.000000</td>\n",
              "      <td>0.000000</td>\n",
              "      <td>0.003112</td>\n",
              "      <td>...</td>\n",
              "      <td>0.000000</td>\n",
              "      <td>-799.709069</td>\n",
              "      <td>0.000000</td>\n",
              "      <td>-799.889113</td>\n",
              "      <td>-0.372054</td>\n",
              "      <td>-797.142475</td>\n",
              "      <td>0.646208</td>\n",
              "      <td>-800.006180</td>\n",
              "      <td>0.195324</td>\n",
              "      <td>-809.398668</td>\n",
              "    </tr>\n",
              "    <tr>\n",
              "      <th>25%</th>\n",
              "      <td>4.211620</td>\n",
              "      <td>9.297355</td>\n",
              "      <td>7.484645</td>\n",
              "      <td>43.276111</td>\n",
              "      <td>62.545817</td>\n",
              "      <td>7.997429</td>\n",
              "      <td>1.905973</td>\n",
              "      <td>8.811324</td>\n",
              "      <td>2.368607</td>\n",
              "      <td>107.006651</td>\n",
              "      <td>...</td>\n",
              "      <td>14.990775</td>\n",
              "      <td>-500.628656</td>\n",
              "      <td>11.894558</td>\n",
              "      <td>-500.149000</td>\n",
              "      <td>11.083980</td>\n",
              "      <td>-500.363177</td>\n",
              "      <td>8.994405</td>\n",
              "      <td>-500.105994</td>\n",
              "      <td>14.989304</td>\n",
              "      <td>-500.745104</td>\n",
              "    </tr>\n",
              "    <tr>\n",
              "      <th>50%</th>\n",
              "      <td>4.994652</td>\n",
              "      <td>10.297144</td>\n",
              "      <td>8.845462</td>\n",
              "      <td>44.872436</td>\n",
              "      <td>67.432775</td>\n",
              "      <td>9.480270</td>\n",
              "      <td>2.592022</td>\n",
              "      <td>10.514621</td>\n",
              "      <td>2.851025</td>\n",
              "      <td>133.018328</td>\n",
              "      <td>...</td>\n",
              "      <td>20.001789</td>\n",
              "      <td>-499.681450</td>\n",
              "      <td>14.975536</td>\n",
              "      <td>-499.388738</td>\n",
              "      <td>17.932223</td>\n",
              "      <td>-499.702452</td>\n",
              "      <td>11.997547</td>\n",
              "      <td>-499.914556</td>\n",
              "      <td>19.984175</td>\n",
              "      <td>-500.061431</td>\n",
              "    </tr>\n",
              "    <tr>\n",
              "      <th>75%</th>\n",
              "      <td>5.859540</td>\n",
              "      <td>11.170603</td>\n",
              "      <td>10.487508</td>\n",
              "      <td>46.166425</td>\n",
              "      <td>72.346428</td>\n",
              "      <td>11.003707</td>\n",
              "      <td>3.241723</td>\n",
              "      <td>11.933009</td>\n",
              "      <td>3.434764</td>\n",
              "      <td>159.825396</td>\n",
              "      <td>...</td>\n",
              "      <td>24.990826</td>\n",
              "      <td>-477.472413</td>\n",
              "      <td>20.059375</td>\n",
              "      <td>-400.039008</td>\n",
              "      <td>21.346550</td>\n",
              "      <td>-487.712108</td>\n",
              "      <td>17.982903</td>\n",
              "      <td>-453.186936</td>\n",
              "      <td>24.991623</td>\n",
              "      <td>-499.536466</td>\n",
              "    </tr>\n",
              "    <tr>\n",
              "      <th>max</th>\n",
              "      <td>16.001945</td>\n",
              "      <td>17.031899</td>\n",
              "      <td>18.124851</td>\n",
              "      <td>52.756638</td>\n",
              "      <td>100.000000</td>\n",
              "      <td>19.552149</td>\n",
              "      <td>5.639565</td>\n",
              "      <td>22.317730</td>\n",
              "      <td>8.197408</td>\n",
              "      <td>250.127834</td>\n",
              "      <td>...</td>\n",
              "      <td>30.115735</td>\n",
              "      <td>-245.239184</td>\n",
              "      <td>24.007913</td>\n",
              "      <td>-145.071088</td>\n",
              "      <td>43.709931</td>\n",
              "      <td>-275.073125</td>\n",
              "      <td>27.926001</td>\n",
              "      <td>-157.396071</td>\n",
              "      <td>32.188906</td>\n",
              "      <td>-104.427459</td>\n",
              "    </tr>\n",
              "  </tbody>\n",
              "</table>\n",
              "<p>8 rows × 86 columns</p>\n",
              "</div>"
            ],
            "text/plain": [
              "       final.output.concentrate_ag  final.output.concentrate_pb  \\\n",
              "count                 14148.000000                 14148.000000   \n",
              "mean                      5.142034                    10.132960   \n",
              "std                       1.369586                     1.654930   \n",
              "min                       0.000000                     0.000000   \n",
              "25%                       4.211620                     9.297355   \n",
              "50%                       4.994652                    10.297144   \n",
              "75%                       5.859540                    11.170603   \n",
              "max                      16.001945                    17.031899   \n",
              "\n",
              "       final.output.concentrate_sol  final.output.concentrate_au  \\\n",
              "count                  13938.000000                 14149.000000   \n",
              "mean                       9.202849                    44.003792   \n",
              "std                        2.790516                     4.905261   \n",
              "min                        0.000000                     0.000000   \n",
              "25%                        7.484645                    43.276111   \n",
              "50%                        8.845462                    44.872436   \n",
              "75%                       10.487508                    46.166425   \n",
              "max                       18.124851                    52.756638   \n",
              "\n",
              "       final.output.recovery  final.output.tail_ag  final.output.tail_pb  \\\n",
              "count           14149.000000          14149.000000          14049.000000   \n",
              "mean               66.518832              9.607035              2.597298   \n",
              "std                10.295402              2.319069              0.971843   \n",
              "min                 0.000000              0.000000              0.000000   \n",
              "25%                62.545817              7.997429              1.905973   \n",
              "50%                67.432775              9.480270              2.592022   \n",
              "75%                72.346428             11.003707              3.241723   \n",
              "max               100.000000             19.552149              5.639565   \n",
              "\n",
              "       final.output.tail_sol  final.output.tail_au  \\\n",
              "count           14144.000000          14149.000000   \n",
              "mean               10.512122              2.918421   \n",
              "std                 3.003617              0.903712   \n",
              "min                 0.000000              0.000000   \n",
              "25%                 8.811324              2.368607   \n",
              "50%                10.514621              2.851025   \n",
              "75%                11.933009              3.434764   \n",
              "max                22.317730              8.197408   \n",
              "\n",
              "       primary_cleaner.input.sulfate  ...  \\\n",
              "count                   14129.000000  ...   \n",
              "mean                      133.320659  ...   \n",
              "std                        39.431659  ...   \n",
              "min                         0.003112  ...   \n",
              "25%                       107.006651  ...   \n",
              "50%                       133.018328  ...   \n",
              "75%                       159.825396  ...   \n",
              "max                       250.127834  ...   \n",
              "\n",
              "       secondary_cleaner.state.floatbank4_a_air  \\\n",
              "count                              14143.000000   \n",
              "mean                                  19.985454   \n",
              "std                                    5.657723   \n",
              "min                                    0.000000   \n",
              "25%                                   14.990775   \n",
              "50%                                   20.001789   \n",
              "75%                                   24.990826   \n",
              "max                                   30.115735   \n",
              "\n",
              "       secondary_cleaner.state.floatbank4_a_level  \\\n",
              "count                                14148.000000   \n",
              "mean                                  -478.696836   \n",
              "std                                     50.736021   \n",
              "min                                   -799.709069   \n",
              "25%                                   -500.628656   \n",
              "50%                                   -499.681450   \n",
              "75%                                   -477.472413   \n",
              "max                                   -245.239184   \n",
              "\n",
              "       secondary_cleaner.state.floatbank4_b_air  \\\n",
              "count                              14148.000000   \n",
              "mean                                  15.487065   \n",
              "std                                    5.255655   \n",
              "min                                    0.000000   \n",
              "25%                                   11.894558   \n",
              "50%                                   14.975536   \n",
              "75%                                   20.059375   \n",
              "max                                   24.007913   \n",
              "\n",
              "       secondary_cleaner.state.floatbank4_b_level  \\\n",
              "count                                14148.000000   \n",
              "mean                                  -460.229416   \n",
              "std                                     58.843586   \n",
              "min                                   -799.889113   \n",
              "25%                                   -500.149000   \n",
              "50%                                   -499.388738   \n",
              "75%                                   -400.039008   \n",
              "max                                   -145.071088   \n",
              "\n",
              "       secondary_cleaner.state.floatbank5_a_air  \\\n",
              "count                              14148.000000   \n",
              "mean                                  16.775136   \n",
              "std                                    5.831906   \n",
              "min                                   -0.372054   \n",
              "25%                                   11.083980   \n",
              "50%                                   17.932223   \n",
              "75%                                   21.346550   \n",
              "max                                   43.709931   \n",
              "\n",
              "       secondary_cleaner.state.floatbank5_a_level  \\\n",
              "count                                14148.000000   \n",
              "mean                                  -483.956022   \n",
              "std                                     37.892788   \n",
              "min                                   -797.142475   \n",
              "25%                                   -500.363177   \n",
              "50%                                   -499.702452   \n",
              "75%                                   -487.712108   \n",
              "max                                   -275.073125   \n",
              "\n",
              "       secondary_cleaner.state.floatbank5_b_air  \\\n",
              "count                              14148.000000   \n",
              "mean                                  13.064590   \n",
              "std                                    5.765617   \n",
              "min                                    0.646208   \n",
              "25%                                    8.994405   \n",
              "50%                                   11.997547   \n",
              "75%                                   17.982903   \n",
              "max                                   27.926001   \n",
              "\n",
              "       secondary_cleaner.state.floatbank5_b_level  \\\n",
              "count                                14148.000000   \n",
              "mean                                  -483.966564   \n",
              "std                                     39.207913   \n",
              "min                                   -800.006180   \n",
              "25%                                   -500.105994   \n",
              "50%                                   -499.914556   \n",
              "75%                                   -453.186936   \n",
              "max                                   -157.396071   \n",
              "\n",
              "       secondary_cleaner.state.floatbank6_a_air  \\\n",
              "count                              14147.000000   \n",
              "mean                                  19.577539   \n",
              "std                                    5.764417   \n",
              "min                                    0.195324   \n",
              "25%                                   14.989304   \n",
              "50%                                   19.984175   \n",
              "75%                                   24.991623   \n",
              "max                                   32.188906   \n",
              "\n",
              "       secondary_cleaner.state.floatbank6_a_level  \n",
              "count                                14148.000000  \n",
              "mean                                  -506.798480  \n",
              "std                                     37.079249  \n",
              "min                                   -809.398668  \n",
              "25%                                   -500.745104  \n",
              "50%                                   -500.061431  \n",
              "75%                                   -499.536466  \n",
              "max                                   -104.427459  \n",
              "\n",
              "[8 rows x 86 columns]"
            ]
          },
          "metadata": {}
        },
        {
          "output_type": "display_data",
          "data": {
            "text/html": [
              "<div>\n",
              "<style scoped>\n",
              "    .dataframe tbody tr th:only-of-type {\n",
              "        vertical-align: middle;\n",
              "    }\n",
              "\n",
              "    .dataframe tbody tr th {\n",
              "        vertical-align: top;\n",
              "    }\n",
              "\n",
              "    .dataframe thead th {\n",
              "        text-align: right;\n",
              "    }\n",
              "</style>\n",
              "<table border=\"1\" class=\"dataframe\">\n",
              "  <thead>\n",
              "    <tr style=\"text-align: right;\">\n",
              "      <th></th>\n",
              "      <th>date</th>\n",
              "      <th>primary_cleaner.input.sulfate</th>\n",
              "      <th>primary_cleaner.input.depressant</th>\n",
              "      <th>primary_cleaner.input.feed_size</th>\n",
              "      <th>primary_cleaner.input.xanthate</th>\n",
              "      <th>primary_cleaner.state.floatbank8_a_air</th>\n",
              "      <th>primary_cleaner.state.floatbank8_a_level</th>\n",
              "      <th>primary_cleaner.state.floatbank8_b_air</th>\n",
              "      <th>primary_cleaner.state.floatbank8_b_level</th>\n",
              "      <th>primary_cleaner.state.floatbank8_c_air</th>\n",
              "      <th>...</th>\n",
              "      <th>secondary_cleaner.state.floatbank4_a_air</th>\n",
              "      <th>secondary_cleaner.state.floatbank4_a_level</th>\n",
              "      <th>secondary_cleaner.state.floatbank4_b_air</th>\n",
              "      <th>secondary_cleaner.state.floatbank4_b_level</th>\n",
              "      <th>secondary_cleaner.state.floatbank5_a_air</th>\n",
              "      <th>secondary_cleaner.state.floatbank5_a_level</th>\n",
              "      <th>secondary_cleaner.state.floatbank5_b_air</th>\n",
              "      <th>secondary_cleaner.state.floatbank5_b_level</th>\n",
              "      <th>secondary_cleaner.state.floatbank6_a_air</th>\n",
              "      <th>secondary_cleaner.state.floatbank6_a_level</th>\n",
              "    </tr>\n",
              "  </thead>\n",
              "  <tbody>\n",
              "    <tr>\n",
              "      <th>0</th>\n",
              "      <td>2016-09-01 00:59:59</td>\n",
              "      <td>210.800909</td>\n",
              "      <td>14.993118</td>\n",
              "      <td>8.080000</td>\n",
              "      <td>1.005021</td>\n",
              "      <td>1398.981301</td>\n",
              "      <td>-500.225577</td>\n",
              "      <td>1399.144926</td>\n",
              "      <td>-499.919735</td>\n",
              "      <td>1400.102998</td>\n",
              "      <td>...</td>\n",
              "      <td>12.023554</td>\n",
              "      <td>-497.795834</td>\n",
              "      <td>8.016656</td>\n",
              "      <td>-501.289139</td>\n",
              "      <td>7.946562</td>\n",
              "      <td>-432.317850</td>\n",
              "      <td>4.872511</td>\n",
              "      <td>-500.037437</td>\n",
              "      <td>26.705889</td>\n",
              "      <td>-499.709414</td>\n",
              "    </tr>\n",
              "    <tr>\n",
              "      <th>1</th>\n",
              "      <td>2016-09-01 01:59:59</td>\n",
              "      <td>215.392455</td>\n",
              "      <td>14.987471</td>\n",
              "      <td>8.080000</td>\n",
              "      <td>0.990469</td>\n",
              "      <td>1398.777912</td>\n",
              "      <td>-500.057435</td>\n",
              "      <td>1398.055362</td>\n",
              "      <td>-499.778182</td>\n",
              "      <td>1396.151033</td>\n",
              "      <td>...</td>\n",
              "      <td>12.058140</td>\n",
              "      <td>-498.695773</td>\n",
              "      <td>8.130979</td>\n",
              "      <td>-499.634209</td>\n",
              "      <td>7.958270</td>\n",
              "      <td>-525.839648</td>\n",
              "      <td>4.878850</td>\n",
              "      <td>-500.162375</td>\n",
              "      <td>25.019940</td>\n",
              "      <td>-499.819438</td>\n",
              "    </tr>\n",
              "    <tr>\n",
              "      <th>2</th>\n",
              "      <td>2016-09-01 02:59:59</td>\n",
              "      <td>215.259946</td>\n",
              "      <td>12.884934</td>\n",
              "      <td>7.786667</td>\n",
              "      <td>0.996043</td>\n",
              "      <td>1398.493666</td>\n",
              "      <td>-500.868360</td>\n",
              "      <td>1398.860436</td>\n",
              "      <td>-499.764529</td>\n",
              "      <td>1398.075709</td>\n",
              "      <td>...</td>\n",
              "      <td>11.962366</td>\n",
              "      <td>-498.767484</td>\n",
              "      <td>8.096893</td>\n",
              "      <td>-500.827423</td>\n",
              "      <td>8.071056</td>\n",
              "      <td>-500.801673</td>\n",
              "      <td>4.905125</td>\n",
              "      <td>-499.828510</td>\n",
              "      <td>24.994862</td>\n",
              "      <td>-500.622559</td>\n",
              "    </tr>\n",
              "    <tr>\n",
              "      <th>3</th>\n",
              "      <td>2016-09-01 03:59:59</td>\n",
              "      <td>215.336236</td>\n",
              "      <td>12.006805</td>\n",
              "      <td>7.640000</td>\n",
              "      <td>0.863514</td>\n",
              "      <td>1399.618111</td>\n",
              "      <td>-498.863574</td>\n",
              "      <td>1397.440120</td>\n",
              "      <td>-499.211024</td>\n",
              "      <td>1400.129303</td>\n",
              "      <td>...</td>\n",
              "      <td>12.033091</td>\n",
              "      <td>-498.350935</td>\n",
              "      <td>8.074946</td>\n",
              "      <td>-499.474407</td>\n",
              "      <td>7.897085</td>\n",
              "      <td>-500.868509</td>\n",
              "      <td>4.931400</td>\n",
              "      <td>-499.963623</td>\n",
              "      <td>24.948919</td>\n",
              "      <td>-498.709987</td>\n",
              "    </tr>\n",
              "    <tr>\n",
              "      <th>4</th>\n",
              "      <td>2016-09-01 04:59:59</td>\n",
              "      <td>199.099327</td>\n",
              "      <td>10.682530</td>\n",
              "      <td>7.530000</td>\n",
              "      <td>0.805575</td>\n",
              "      <td>1401.268123</td>\n",
              "      <td>-500.808305</td>\n",
              "      <td>1398.128818</td>\n",
              "      <td>-499.504543</td>\n",
              "      <td>1402.172226</td>\n",
              "      <td>...</td>\n",
              "      <td>12.025367</td>\n",
              "      <td>-500.786497</td>\n",
              "      <td>8.054678</td>\n",
              "      <td>-500.397500</td>\n",
              "      <td>8.107890</td>\n",
              "      <td>-509.526725</td>\n",
              "      <td>4.957674</td>\n",
              "      <td>-500.360026</td>\n",
              "      <td>25.003331</td>\n",
              "      <td>-500.856333</td>\n",
              "    </tr>\n",
              "  </tbody>\n",
              "</table>\n",
              "<p>5 rows × 53 columns</p>\n",
              "</div>"
            ],
            "text/plain": [
              "                  date  primary_cleaner.input.sulfate  \\\n",
              "0  2016-09-01 00:59:59                     210.800909   \n",
              "1  2016-09-01 01:59:59                     215.392455   \n",
              "2  2016-09-01 02:59:59                     215.259946   \n",
              "3  2016-09-01 03:59:59                     215.336236   \n",
              "4  2016-09-01 04:59:59                     199.099327   \n",
              "\n",
              "   primary_cleaner.input.depressant  primary_cleaner.input.feed_size  \\\n",
              "0                         14.993118                         8.080000   \n",
              "1                         14.987471                         8.080000   \n",
              "2                         12.884934                         7.786667   \n",
              "3                         12.006805                         7.640000   \n",
              "4                         10.682530                         7.530000   \n",
              "\n",
              "   primary_cleaner.input.xanthate  primary_cleaner.state.floatbank8_a_air  \\\n",
              "0                        1.005021                             1398.981301   \n",
              "1                        0.990469                             1398.777912   \n",
              "2                        0.996043                             1398.493666   \n",
              "3                        0.863514                             1399.618111   \n",
              "4                        0.805575                             1401.268123   \n",
              "\n",
              "   primary_cleaner.state.floatbank8_a_level  \\\n",
              "0                               -500.225577   \n",
              "1                               -500.057435   \n",
              "2                               -500.868360   \n",
              "3                               -498.863574   \n",
              "4                               -500.808305   \n",
              "\n",
              "   primary_cleaner.state.floatbank8_b_air  \\\n",
              "0                             1399.144926   \n",
              "1                             1398.055362   \n",
              "2                             1398.860436   \n",
              "3                             1397.440120   \n",
              "4                             1398.128818   \n",
              "\n",
              "   primary_cleaner.state.floatbank8_b_level  \\\n",
              "0                               -499.919735   \n",
              "1                               -499.778182   \n",
              "2                               -499.764529   \n",
              "3                               -499.211024   \n",
              "4                               -499.504543   \n",
              "\n",
              "   primary_cleaner.state.floatbank8_c_air  ...  \\\n",
              "0                             1400.102998  ...   \n",
              "1                             1396.151033  ...   \n",
              "2                             1398.075709  ...   \n",
              "3                             1400.129303  ...   \n",
              "4                             1402.172226  ...   \n",
              "\n",
              "   secondary_cleaner.state.floatbank4_a_air  \\\n",
              "0                                 12.023554   \n",
              "1                                 12.058140   \n",
              "2                                 11.962366   \n",
              "3                                 12.033091   \n",
              "4                                 12.025367   \n",
              "\n",
              "   secondary_cleaner.state.floatbank4_a_level  \\\n",
              "0                                 -497.795834   \n",
              "1                                 -498.695773   \n",
              "2                                 -498.767484   \n",
              "3                                 -498.350935   \n",
              "4                                 -500.786497   \n",
              "\n",
              "   secondary_cleaner.state.floatbank4_b_air  \\\n",
              "0                                  8.016656   \n",
              "1                                  8.130979   \n",
              "2                                  8.096893   \n",
              "3                                  8.074946   \n",
              "4                                  8.054678   \n",
              "\n",
              "   secondary_cleaner.state.floatbank4_b_level  \\\n",
              "0                                 -501.289139   \n",
              "1                                 -499.634209   \n",
              "2                                 -500.827423   \n",
              "3                                 -499.474407   \n",
              "4                                 -500.397500   \n",
              "\n",
              "   secondary_cleaner.state.floatbank5_a_air  \\\n",
              "0                                  7.946562   \n",
              "1                                  7.958270   \n",
              "2                                  8.071056   \n",
              "3                                  7.897085   \n",
              "4                                  8.107890   \n",
              "\n",
              "   secondary_cleaner.state.floatbank5_a_level  \\\n",
              "0                                 -432.317850   \n",
              "1                                 -525.839648   \n",
              "2                                 -500.801673   \n",
              "3                                 -500.868509   \n",
              "4                                 -509.526725   \n",
              "\n",
              "   secondary_cleaner.state.floatbank5_b_air  \\\n",
              "0                                  4.872511   \n",
              "1                                  4.878850   \n",
              "2                                  4.905125   \n",
              "3                                  4.931400   \n",
              "4                                  4.957674   \n",
              "\n",
              "   secondary_cleaner.state.floatbank5_b_level  \\\n",
              "0                                 -500.037437   \n",
              "1                                 -500.162375   \n",
              "2                                 -499.828510   \n",
              "3                                 -499.963623   \n",
              "4                                 -500.360026   \n",
              "\n",
              "   secondary_cleaner.state.floatbank6_a_air  \\\n",
              "0                                 26.705889   \n",
              "1                                 25.019940   \n",
              "2                                 24.994862   \n",
              "3                                 24.948919   \n",
              "4                                 25.003331   \n",
              "\n",
              "   secondary_cleaner.state.floatbank6_a_level  \n",
              "0                                 -499.709414  \n",
              "1                                 -499.819438  \n",
              "2                                 -500.622559  \n",
              "3                                 -498.709987  \n",
              "4                                 -500.856333  \n",
              "\n",
              "[5 rows x 53 columns]"
            ]
          },
          "metadata": {}
        },
        {
          "name": "stdout",
          "output_type": "stream",
          "text": "<class 'pandas.core.frame.DataFrame'>\n\nRangeIndex: 5290 entries, 0 to 5289\n\nData columns (total 53 columns):\n\n #   Column                                      Non-Null Count  Dtype  \n\n---  ------                                      --------------  -----  \n\n 0   date                                        5290 non-null   object \n\n 1   primary_cleaner.input.sulfate               5286 non-null   float64\n\n 2   primary_cleaner.input.depressant            5285 non-null   float64\n\n 3   primary_cleaner.input.feed_size             5290 non-null   float64\n\n 4   primary_cleaner.input.xanthate              5286 non-null   float64\n\n 5   primary_cleaner.state.floatbank8_a_air      5290 non-null   float64\n\n 6   primary_cleaner.state.floatbank8_a_level    5290 non-null   float64\n\n 7   primary_cleaner.state.floatbank8_b_air      5290 non-null   float64\n\n 8   primary_cleaner.state.floatbank8_b_level    5290 non-null   float64\n\n 9   primary_cleaner.state.floatbank8_c_air      5290 non-null   float64\n\n 10  primary_cleaner.state.floatbank8_c_level    5290 non-null   float64\n\n 11  primary_cleaner.state.floatbank8_d_air      5290 non-null   float64\n\n 12  primary_cleaner.state.floatbank8_d_level    5290 non-null   float64\n\n 13  rougher.input.feed_ag                       5290 non-null   float64\n\n 14  rougher.input.feed_pb                       5290 non-null   float64\n\n 15  rougher.input.feed_rate                     5287 non-null   float64\n\n 16  rougher.input.feed_size                     5289 non-null   float64\n\n 17  rougher.input.feed_sol                      5269 non-null   float64\n\n 18  rougher.input.feed_au                       5290 non-null   float64\n\n 19  rougher.input.floatbank10_sulfate           5285 non-null   float64\n\n 20  rougher.input.floatbank10_xanthate          5290 non-null   float64\n\n 21  rougher.input.floatbank11_sulfate           5282 non-null   float64\n\n 22  rougher.input.floatbank11_xanthate          5265 non-null   float64\n\n 23  rougher.state.floatbank10_a_air             5290 non-null   float64\n\n 24  rougher.state.floatbank10_a_level           5290 non-null   float64\n\n 25  rougher.state.floatbank10_b_air             5290 non-null   float64\n\n 26  rougher.state.floatbank10_b_level           5290 non-null   float64\n\n 27  rougher.state.floatbank10_c_air             5290 non-null   float64\n\n 28  rougher.state.floatbank10_c_level           5290 non-null   float64\n\n 29  rougher.state.floatbank10_d_air             5290 non-null   float64\n\n 30  rougher.state.floatbank10_d_level           5290 non-null   float64\n\n 31  rougher.state.floatbank10_e_air             5290 non-null   float64\n\n 32  rougher.state.floatbank10_e_level           5290 non-null   float64\n\n 33  rougher.state.floatbank10_f_air             5290 non-null   float64\n\n 34  rougher.state.floatbank10_f_level           5290 non-null   float64\n\n 35  secondary_cleaner.state.floatbank2_a_air    5287 non-null   float64\n\n 36  secondary_cleaner.state.floatbank2_a_level  5290 non-null   float64\n\n 37  secondary_cleaner.state.floatbank2_b_air    5288 non-null   float64\n\n 38  secondary_cleaner.state.floatbank2_b_level  5290 non-null   float64\n\n 39  secondary_cleaner.state.floatbank3_a_air    5281 non-null   float64\n\n 40  secondary_cleaner.state.floatbank3_a_level  5290 non-null   float64\n\n 41  secondary_cleaner.state.floatbank3_b_air    5290 non-null   float64\n\n 42  secondary_cleaner.state.floatbank3_b_level  5290 non-null   float64\n\n 43  secondary_cleaner.state.floatbank4_a_air    5290 non-null   float64\n\n 44  secondary_cleaner.state.floatbank4_a_level  5290 non-null   float64\n\n 45  secondary_cleaner.state.floatbank4_b_air    5290 non-null   float64\n\n 46  secondary_cleaner.state.floatbank4_b_level  5290 non-null   float64\n\n 47  secondary_cleaner.state.floatbank5_a_air    5290 non-null   float64\n\n 48  secondary_cleaner.state.floatbank5_a_level  5290 non-null   float64\n\n 49  secondary_cleaner.state.floatbank5_b_air    5290 non-null   float64\n\n 50  secondary_cleaner.state.floatbank5_b_level  5290 non-null   float64\n\n 51  secondary_cleaner.state.floatbank6_a_air    5290 non-null   float64\n\n 52  secondary_cleaner.state.floatbank6_a_level  5290 non-null   float64\n\ndtypes: float64(52), object(1)\n\nmemory usage: 2.1+ MB\n"
        },
        {
          "output_type": "display_data",
          "data": {
            "text/plain": [
              "None"
            ]
          },
          "metadata": {}
        },
        {
          "output_type": "display_data",
          "data": {
            "text/html": [
              "<div>\n",
              "<style scoped>\n",
              "    .dataframe tbody tr th:only-of-type {\n",
              "        vertical-align: middle;\n",
              "    }\n",
              "\n",
              "    .dataframe tbody tr th {\n",
              "        vertical-align: top;\n",
              "    }\n",
              "\n",
              "    .dataframe thead th {\n",
              "        text-align: right;\n",
              "    }\n",
              "</style>\n",
              "<table border=\"1\" class=\"dataframe\">\n",
              "  <thead>\n",
              "    <tr style=\"text-align: right;\">\n",
              "      <th></th>\n",
              "      <th>primary_cleaner.input.sulfate</th>\n",
              "      <th>primary_cleaner.input.depressant</th>\n",
              "      <th>primary_cleaner.input.feed_size</th>\n",
              "      <th>primary_cleaner.input.xanthate</th>\n",
              "      <th>primary_cleaner.state.floatbank8_a_air</th>\n",
              "      <th>primary_cleaner.state.floatbank8_a_level</th>\n",
              "      <th>primary_cleaner.state.floatbank8_b_air</th>\n",
              "      <th>primary_cleaner.state.floatbank8_b_level</th>\n",
              "      <th>primary_cleaner.state.floatbank8_c_air</th>\n",
              "      <th>primary_cleaner.state.floatbank8_c_level</th>\n",
              "      <th>...</th>\n",
              "      <th>secondary_cleaner.state.floatbank4_a_air</th>\n",
              "      <th>secondary_cleaner.state.floatbank4_a_level</th>\n",
              "      <th>secondary_cleaner.state.floatbank4_b_air</th>\n",
              "      <th>secondary_cleaner.state.floatbank4_b_level</th>\n",
              "      <th>secondary_cleaner.state.floatbank5_a_air</th>\n",
              "      <th>secondary_cleaner.state.floatbank5_a_level</th>\n",
              "      <th>secondary_cleaner.state.floatbank5_b_air</th>\n",
              "      <th>secondary_cleaner.state.floatbank5_b_level</th>\n",
              "      <th>secondary_cleaner.state.floatbank6_a_air</th>\n",
              "      <th>secondary_cleaner.state.floatbank6_a_level</th>\n",
              "    </tr>\n",
              "  </thead>\n",
              "  <tbody>\n",
              "    <tr>\n",
              "      <th>count</th>\n",
              "      <td>5286.000000</td>\n",
              "      <td>5285.000000</td>\n",
              "      <td>5290.000000</td>\n",
              "      <td>5286.000000</td>\n",
              "      <td>5.290000e+03</td>\n",
              "      <td>5290.000000</td>\n",
              "      <td>5.290000e+03</td>\n",
              "      <td>5290.000000</td>\n",
              "      <td>5.290000e+03</td>\n",
              "      <td>5290.000000</td>\n",
              "      <td>...</td>\n",
              "      <td>5.290000e+03</td>\n",
              "      <td>5290.000000</td>\n",
              "      <td>5.290000e+03</td>\n",
              "      <td>5290.000000</td>\n",
              "      <td>5290.000000</td>\n",
              "      <td>5290.000000</td>\n",
              "      <td>5290.000000</td>\n",
              "      <td>5290.000000</td>\n",
              "      <td>5290.000000</td>\n",
              "      <td>5290.000000</td>\n",
              "    </tr>\n",
              "    <tr>\n",
              "      <th>mean</th>\n",
              "      <td>174.839652</td>\n",
              "      <td>8.683596</td>\n",
              "      <td>7.266339</td>\n",
              "      <td>1.383803</td>\n",
              "      <td>1.539494e+03</td>\n",
              "      <td>-497.665883</td>\n",
              "      <td>1.545174e+03</td>\n",
              "      <td>-500.273098</td>\n",
              "      <td>1.527272e+03</td>\n",
              "      <td>-498.330680</td>\n",
              "      <td>...</td>\n",
              "      <td>1.632007e+01</td>\n",
              "      <td>-505.144570</td>\n",
              "      <td>1.373544e+01</td>\n",
              "      <td>-463.349858</td>\n",
              "      <td>12.804186</td>\n",
              "      <td>-501.329122</td>\n",
              "      <td>9.881145</td>\n",
              "      <td>-495.663398</td>\n",
              "      <td>17.304935</td>\n",
              "      <td>-501.793193</td>\n",
              "    </tr>\n",
              "    <tr>\n",
              "      <th>std</th>\n",
              "      <td>43.027080</td>\n",
              "      <td>3.072050</td>\n",
              "      <td>0.610219</td>\n",
              "      <td>0.643474</td>\n",
              "      <td>1.167979e+02</td>\n",
              "      <td>19.952431</td>\n",
              "      <td>1.222246e+02</td>\n",
              "      <td>32.968307</td>\n",
              "      <td>1.225380e+02</td>\n",
              "      <td>21.964876</td>\n",
              "      <td>...</td>\n",
              "      <td>3.493583e+00</td>\n",
              "      <td>31.427337</td>\n",
              "      <td>3.430484e+00</td>\n",
              "      <td>86.189107</td>\n",
              "      <td>3.026591</td>\n",
              "      <td>17.951495</td>\n",
              "      <td>2.868205</td>\n",
              "      <td>34.535007</td>\n",
              "      <td>4.536544</td>\n",
              "      <td>39.044215</td>\n",
              "    </tr>\n",
              "    <tr>\n",
              "      <th>min</th>\n",
              "      <td>2.566156</td>\n",
              "      <td>0.003839</td>\n",
              "      <td>5.650000</td>\n",
              "      <td>0.004984</td>\n",
              "      <td>5.445860e-32</td>\n",
              "      <td>-795.316337</td>\n",
              "      <td>6.647490e-32</td>\n",
              "      <td>-799.997015</td>\n",
              "      <td>4.033736e-32</td>\n",
              "      <td>-799.960571</td>\n",
              "      <td>...</td>\n",
              "      <td>1.079872e-16</td>\n",
              "      <td>-799.798523</td>\n",
              "      <td>2.489718e-17</td>\n",
              "      <td>-800.836914</td>\n",
              "      <td>0.069227</td>\n",
              "      <td>-797.323986</td>\n",
              "      <td>0.528083</td>\n",
              "      <td>-800.220337</td>\n",
              "      <td>-0.079426</td>\n",
              "      <td>-809.741464</td>\n",
              "    </tr>\n",
              "    <tr>\n",
              "      <th>25%</th>\n",
              "      <td>147.121401</td>\n",
              "      <td>6.489555</td>\n",
              "      <td>6.890000</td>\n",
              "      <td>0.907623</td>\n",
              "      <td>1.498936e+03</td>\n",
              "      <td>-500.357298</td>\n",
              "      <td>1.498971e+03</td>\n",
              "      <td>-500.703002</td>\n",
              "      <td>1.473230e+03</td>\n",
              "      <td>-501.018117</td>\n",
              "      <td>...</td>\n",
              "      <td>1.403618e+01</td>\n",
              "      <td>-500.868258</td>\n",
              "      <td>1.202862e+01</td>\n",
              "      <td>-500.323028</td>\n",
              "      <td>10.914838</td>\n",
              "      <td>-500.726841</td>\n",
              "      <td>8.036719</td>\n",
              "      <td>-500.194668</td>\n",
              "      <td>13.997317</td>\n",
              "      <td>-500.690984</td>\n",
              "    </tr>\n",
              "    <tr>\n",
              "      <th>50%</th>\n",
              "      <td>177.828489</td>\n",
              "      <td>8.052207</td>\n",
              "      <td>7.250000</td>\n",
              "      <td>1.197610</td>\n",
              "      <td>1.585129e+03</td>\n",
              "      <td>-499.969164</td>\n",
              "      <td>1.595622e+03</td>\n",
              "      <td>-500.028514</td>\n",
              "      <td>1.549595e+03</td>\n",
              "      <td>-500.017711</td>\n",
              "      <td>...</td>\n",
              "      <td>1.700847e+01</td>\n",
              "      <td>-500.115727</td>\n",
              "      <td>1.496486e+01</td>\n",
              "      <td>-499.576513</td>\n",
              "      <td>12.954182</td>\n",
              "      <td>-499.990332</td>\n",
              "      <td>10.004301</td>\n",
              "      <td>-499.990535</td>\n",
              "      <td>16.014935</td>\n",
              "      <td>-500.007126</td>\n",
              "    </tr>\n",
              "    <tr>\n",
              "      <th>75%</th>\n",
              "      <td>208.125438</td>\n",
              "      <td>10.027764</td>\n",
              "      <td>7.600000</td>\n",
              "      <td>1.797819</td>\n",
              "      <td>1.602077e+03</td>\n",
              "      <td>-499.568951</td>\n",
              "      <td>1.602324e+03</td>\n",
              "      <td>-499.293257</td>\n",
              "      <td>1.601144e+03</td>\n",
              "      <td>-498.994130</td>\n",
              "      <td>...</td>\n",
              "      <td>1.803862e+01</td>\n",
              "      <td>-499.404224</td>\n",
              "      <td>1.596213e+01</td>\n",
              "      <td>-400.933805</td>\n",
              "      <td>15.097528</td>\n",
              "      <td>-499.283191</td>\n",
              "      <td>11.997467</td>\n",
              "      <td>-499.719913</td>\n",
              "      <td>21.020013</td>\n",
              "      <td>-499.373018</td>\n",
              "    </tr>\n",
              "    <tr>\n",
              "      <th>max</th>\n",
              "      <td>265.983123</td>\n",
              "      <td>40.000000</td>\n",
              "      <td>15.500000</td>\n",
              "      <td>4.102454</td>\n",
              "      <td>2.103104e+03</td>\n",
              "      <td>-57.195404</td>\n",
              "      <td>1.813084e+03</td>\n",
              "      <td>-142.527229</td>\n",
              "      <td>1.715054e+03</td>\n",
              "      <td>-150.937035</td>\n",
              "      <td>...</td>\n",
              "      <td>3.005180e+01</td>\n",
              "      <td>-401.565212</td>\n",
              "      <td>3.126971e+01</td>\n",
              "      <td>-6.506986</td>\n",
              "      <td>25.258848</td>\n",
              "      <td>-244.483566</td>\n",
              "      <td>14.086866</td>\n",
              "      <td>-137.740004</td>\n",
              "      <td>26.705889</td>\n",
              "      <td>-123.307487</td>\n",
              "    </tr>\n",
              "  </tbody>\n",
              "</table>\n",
              "<p>8 rows × 52 columns</p>\n",
              "</div>"
            ],
            "text/plain": [
              "       primary_cleaner.input.sulfate  primary_cleaner.input.depressant  \\\n",
              "count                    5286.000000                       5285.000000   \n",
              "mean                      174.839652                          8.683596   \n",
              "std                        43.027080                          3.072050   \n",
              "min                         2.566156                          0.003839   \n",
              "25%                       147.121401                          6.489555   \n",
              "50%                       177.828489                          8.052207   \n",
              "75%                       208.125438                         10.027764   \n",
              "max                       265.983123                         40.000000   \n",
              "\n",
              "       primary_cleaner.input.feed_size  primary_cleaner.input.xanthate  \\\n",
              "count                      5290.000000                     5286.000000   \n",
              "mean                          7.266339                        1.383803   \n",
              "std                           0.610219                        0.643474   \n",
              "min                           5.650000                        0.004984   \n",
              "25%                           6.890000                        0.907623   \n",
              "50%                           7.250000                        1.197610   \n",
              "75%                           7.600000                        1.797819   \n",
              "max                          15.500000                        4.102454   \n",
              "\n",
              "       primary_cleaner.state.floatbank8_a_air  \\\n",
              "count                            5.290000e+03   \n",
              "mean                             1.539494e+03   \n",
              "std                              1.167979e+02   \n",
              "min                              5.445860e-32   \n",
              "25%                              1.498936e+03   \n",
              "50%                              1.585129e+03   \n",
              "75%                              1.602077e+03   \n",
              "max                              2.103104e+03   \n",
              "\n",
              "       primary_cleaner.state.floatbank8_a_level  \\\n",
              "count                               5290.000000   \n",
              "mean                                -497.665883   \n",
              "std                                   19.952431   \n",
              "min                                 -795.316337   \n",
              "25%                                 -500.357298   \n",
              "50%                                 -499.969164   \n",
              "75%                                 -499.568951   \n",
              "max                                  -57.195404   \n",
              "\n",
              "       primary_cleaner.state.floatbank8_b_air  \\\n",
              "count                            5.290000e+03   \n",
              "mean                             1.545174e+03   \n",
              "std                              1.222246e+02   \n",
              "min                              6.647490e-32   \n",
              "25%                              1.498971e+03   \n",
              "50%                              1.595622e+03   \n",
              "75%                              1.602324e+03   \n",
              "max                              1.813084e+03   \n",
              "\n",
              "       primary_cleaner.state.floatbank8_b_level  \\\n",
              "count                               5290.000000   \n",
              "mean                                -500.273098   \n",
              "std                                   32.968307   \n",
              "min                                 -799.997015   \n",
              "25%                                 -500.703002   \n",
              "50%                                 -500.028514   \n",
              "75%                                 -499.293257   \n",
              "max                                 -142.527229   \n",
              "\n",
              "       primary_cleaner.state.floatbank8_c_air  \\\n",
              "count                            5.290000e+03   \n",
              "mean                             1.527272e+03   \n",
              "std                              1.225380e+02   \n",
              "min                              4.033736e-32   \n",
              "25%                              1.473230e+03   \n",
              "50%                              1.549595e+03   \n",
              "75%                              1.601144e+03   \n",
              "max                              1.715054e+03   \n",
              "\n",
              "       primary_cleaner.state.floatbank8_c_level  ...  \\\n",
              "count                               5290.000000  ...   \n",
              "mean                                -498.330680  ...   \n",
              "std                                   21.964876  ...   \n",
              "min                                 -799.960571  ...   \n",
              "25%                                 -501.018117  ...   \n",
              "50%                                 -500.017711  ...   \n",
              "75%                                 -498.994130  ...   \n",
              "max                                 -150.937035  ...   \n",
              "\n",
              "       secondary_cleaner.state.floatbank4_a_air  \\\n",
              "count                              5.290000e+03   \n",
              "mean                               1.632007e+01   \n",
              "std                                3.493583e+00   \n",
              "min                                1.079872e-16   \n",
              "25%                                1.403618e+01   \n",
              "50%                                1.700847e+01   \n",
              "75%                                1.803862e+01   \n",
              "max                                3.005180e+01   \n",
              "\n",
              "       secondary_cleaner.state.floatbank4_a_level  \\\n",
              "count                                 5290.000000   \n",
              "mean                                  -505.144570   \n",
              "std                                     31.427337   \n",
              "min                                   -799.798523   \n",
              "25%                                   -500.868258   \n",
              "50%                                   -500.115727   \n",
              "75%                                   -499.404224   \n",
              "max                                   -401.565212   \n",
              "\n",
              "       secondary_cleaner.state.floatbank4_b_air  \\\n",
              "count                              5.290000e+03   \n",
              "mean                               1.373544e+01   \n",
              "std                                3.430484e+00   \n",
              "min                                2.489718e-17   \n",
              "25%                                1.202862e+01   \n",
              "50%                                1.496486e+01   \n",
              "75%                                1.596213e+01   \n",
              "max                                3.126971e+01   \n",
              "\n",
              "       secondary_cleaner.state.floatbank4_b_level  \\\n",
              "count                                 5290.000000   \n",
              "mean                                  -463.349858   \n",
              "std                                     86.189107   \n",
              "min                                   -800.836914   \n",
              "25%                                   -500.323028   \n",
              "50%                                   -499.576513   \n",
              "75%                                   -400.933805   \n",
              "max                                     -6.506986   \n",
              "\n",
              "       secondary_cleaner.state.floatbank5_a_air  \\\n",
              "count                               5290.000000   \n",
              "mean                                  12.804186   \n",
              "std                                    3.026591   \n",
              "min                                    0.069227   \n",
              "25%                                   10.914838   \n",
              "50%                                   12.954182   \n",
              "75%                                   15.097528   \n",
              "max                                   25.258848   \n",
              "\n",
              "       secondary_cleaner.state.floatbank5_a_level  \\\n",
              "count                                 5290.000000   \n",
              "mean                                  -501.329122   \n",
              "std                                     17.951495   \n",
              "min                                   -797.323986   \n",
              "25%                                   -500.726841   \n",
              "50%                                   -499.990332   \n",
              "75%                                   -499.283191   \n",
              "max                                   -244.483566   \n",
              "\n",
              "       secondary_cleaner.state.floatbank5_b_air  \\\n",
              "count                               5290.000000   \n",
              "mean                                   9.881145   \n",
              "std                                    2.868205   \n",
              "min                                    0.528083   \n",
              "25%                                    8.036719   \n",
              "50%                                   10.004301   \n",
              "75%                                   11.997467   \n",
              "max                                   14.086866   \n",
              "\n",
              "       secondary_cleaner.state.floatbank5_b_level  \\\n",
              "count                                 5290.000000   \n",
              "mean                                  -495.663398   \n",
              "std                                     34.535007   \n",
              "min                                   -800.220337   \n",
              "25%                                   -500.194668   \n",
              "50%                                   -499.990535   \n",
              "75%                                   -499.719913   \n",
              "max                                   -137.740004   \n",
              "\n",
              "       secondary_cleaner.state.floatbank6_a_air  \\\n",
              "count                               5290.000000   \n",
              "mean                                  17.304935   \n",
              "std                                    4.536544   \n",
              "min                                   -0.079426   \n",
              "25%                                   13.997317   \n",
              "50%                                   16.014935   \n",
              "75%                                   21.020013   \n",
              "max                                   26.705889   \n",
              "\n",
              "       secondary_cleaner.state.floatbank6_a_level  \n",
              "count                                 5290.000000  \n",
              "mean                                  -501.793193  \n",
              "std                                     39.044215  \n",
              "min                                   -809.741464  \n",
              "25%                                   -500.690984  \n",
              "50%                                   -500.007126  \n",
              "75%                                   -499.373018  \n",
              "max                                   -123.307487  \n",
              "\n",
              "[8 rows x 52 columns]"
            ]
          },
          "metadata": {}
        },
        {
          "output_type": "display_data",
          "data": {
            "text/html": [
              "<div>\n",
              "<style scoped>\n",
              "    .dataframe tbody tr th:only-of-type {\n",
              "        vertical-align: middle;\n",
              "    }\n",
              "\n",
              "    .dataframe tbody tr th {\n",
              "        vertical-align: top;\n",
              "    }\n",
              "\n",
              "    .dataframe thead th {\n",
              "        text-align: right;\n",
              "    }\n",
              "</style>\n",
              "<table border=\"1\" class=\"dataframe\">\n",
              "  <thead>\n",
              "    <tr style=\"text-align: right;\">\n",
              "      <th></th>\n",
              "      <th>date</th>\n",
              "      <th>final.output.concentrate_ag</th>\n",
              "      <th>final.output.concentrate_pb</th>\n",
              "      <th>final.output.concentrate_sol</th>\n",
              "      <th>final.output.concentrate_au</th>\n",
              "      <th>final.output.recovery</th>\n",
              "      <th>final.output.tail_ag</th>\n",
              "      <th>final.output.tail_pb</th>\n",
              "      <th>final.output.tail_sol</th>\n",
              "      <th>final.output.tail_au</th>\n",
              "      <th>...</th>\n",
              "      <th>secondary_cleaner.state.floatbank4_a_air</th>\n",
              "      <th>secondary_cleaner.state.floatbank4_a_level</th>\n",
              "      <th>secondary_cleaner.state.floatbank4_b_air</th>\n",
              "      <th>secondary_cleaner.state.floatbank4_b_level</th>\n",
              "      <th>secondary_cleaner.state.floatbank5_a_air</th>\n",
              "      <th>secondary_cleaner.state.floatbank5_a_level</th>\n",
              "      <th>secondary_cleaner.state.floatbank5_b_air</th>\n",
              "      <th>secondary_cleaner.state.floatbank5_b_level</th>\n",
              "      <th>secondary_cleaner.state.floatbank6_a_air</th>\n",
              "      <th>secondary_cleaner.state.floatbank6_a_level</th>\n",
              "    </tr>\n",
              "  </thead>\n",
              "  <tbody>\n",
              "    <tr>\n",
              "      <th>0</th>\n",
              "      <td>2016-01-15 00:00:00</td>\n",
              "      <td>6.055403</td>\n",
              "      <td>9.889648</td>\n",
              "      <td>5.507324</td>\n",
              "      <td>42.192020</td>\n",
              "      <td>70.541216</td>\n",
              "      <td>10.411962</td>\n",
              "      <td>0.895447</td>\n",
              "      <td>16.904297</td>\n",
              "      <td>2.143149</td>\n",
              "      <td>...</td>\n",
              "      <td>14.016835</td>\n",
              "      <td>-502.488007</td>\n",
              "      <td>12.099931</td>\n",
              "      <td>-504.715942</td>\n",
              "      <td>9.925633</td>\n",
              "      <td>-498.310211</td>\n",
              "      <td>8.079666</td>\n",
              "      <td>-500.470978</td>\n",
              "      <td>14.151341</td>\n",
              "      <td>-605.841980</td>\n",
              "    </tr>\n",
              "    <tr>\n",
              "      <th>1</th>\n",
              "      <td>2016-01-15 01:00:00</td>\n",
              "      <td>6.029369</td>\n",
              "      <td>9.968944</td>\n",
              "      <td>5.257781</td>\n",
              "      <td>42.701629</td>\n",
              "      <td>69.266198</td>\n",
              "      <td>10.462676</td>\n",
              "      <td>0.927452</td>\n",
              "      <td>16.634514</td>\n",
              "      <td>2.224930</td>\n",
              "      <td>...</td>\n",
              "      <td>13.992281</td>\n",
              "      <td>-505.503262</td>\n",
              "      <td>11.950531</td>\n",
              "      <td>-501.331529</td>\n",
              "      <td>10.039245</td>\n",
              "      <td>-500.169983</td>\n",
              "      <td>7.984757</td>\n",
              "      <td>-500.582168</td>\n",
              "      <td>13.998353</td>\n",
              "      <td>-599.787184</td>\n",
              "    </tr>\n",
              "    <tr>\n",
              "      <th>2</th>\n",
              "      <td>2016-01-15 02:00:00</td>\n",
              "      <td>6.055926</td>\n",
              "      <td>10.213995</td>\n",
              "      <td>5.383759</td>\n",
              "      <td>42.657501</td>\n",
              "      <td>68.116445</td>\n",
              "      <td>10.507046</td>\n",
              "      <td>0.953716</td>\n",
              "      <td>16.208849</td>\n",
              "      <td>2.257889</td>\n",
              "      <td>...</td>\n",
              "      <td>14.015015</td>\n",
              "      <td>-502.520901</td>\n",
              "      <td>11.912783</td>\n",
              "      <td>-501.133383</td>\n",
              "      <td>10.070913</td>\n",
              "      <td>-500.129135</td>\n",
              "      <td>8.013877</td>\n",
              "      <td>-500.517572</td>\n",
              "      <td>14.028663</td>\n",
              "      <td>-601.427363</td>\n",
              "    </tr>\n",
              "    <tr>\n",
              "      <th>3</th>\n",
              "      <td>2016-01-15 03:00:00</td>\n",
              "      <td>6.047977</td>\n",
              "      <td>9.977019</td>\n",
              "      <td>4.858634</td>\n",
              "      <td>42.689819</td>\n",
              "      <td>68.347543</td>\n",
              "      <td>10.422762</td>\n",
              "      <td>0.883763</td>\n",
              "      <td>16.532835</td>\n",
              "      <td>2.146849</td>\n",
              "      <td>...</td>\n",
              "      <td>14.036510</td>\n",
              "      <td>-500.857308</td>\n",
              "      <td>11.999550</td>\n",
              "      <td>-501.193686</td>\n",
              "      <td>9.970366</td>\n",
              "      <td>-499.201640</td>\n",
              "      <td>7.977324</td>\n",
              "      <td>-500.255908</td>\n",
              "      <td>14.005551</td>\n",
              "      <td>-599.996129</td>\n",
              "    </tr>\n",
              "    <tr>\n",
              "      <th>4</th>\n",
              "      <td>2016-01-15 04:00:00</td>\n",
              "      <td>6.148599</td>\n",
              "      <td>10.142511</td>\n",
              "      <td>4.939416</td>\n",
              "      <td>42.774141</td>\n",
              "      <td>66.927016</td>\n",
              "      <td>10.360302</td>\n",
              "      <td>0.792826</td>\n",
              "      <td>16.525686</td>\n",
              "      <td>2.055292</td>\n",
              "      <td>...</td>\n",
              "      <td>14.027298</td>\n",
              "      <td>-499.838632</td>\n",
              "      <td>11.953070</td>\n",
              "      <td>-501.053894</td>\n",
              "      <td>9.925709</td>\n",
              "      <td>-501.686727</td>\n",
              "      <td>7.894242</td>\n",
              "      <td>-500.356035</td>\n",
              "      <td>13.996647</td>\n",
              "      <td>-601.496691</td>\n",
              "    </tr>\n",
              "  </tbody>\n",
              "</table>\n",
              "<p>5 rows × 87 columns</p>\n",
              "</div>"
            ],
            "text/plain": [
              "                  date  final.output.concentrate_ag  \\\n",
              "0  2016-01-15 00:00:00                     6.055403   \n",
              "1  2016-01-15 01:00:00                     6.029369   \n",
              "2  2016-01-15 02:00:00                     6.055926   \n",
              "3  2016-01-15 03:00:00                     6.047977   \n",
              "4  2016-01-15 04:00:00                     6.148599   \n",
              "\n",
              "   final.output.concentrate_pb  final.output.concentrate_sol  \\\n",
              "0                     9.889648                      5.507324   \n",
              "1                     9.968944                      5.257781   \n",
              "2                    10.213995                      5.383759   \n",
              "3                     9.977019                      4.858634   \n",
              "4                    10.142511                      4.939416   \n",
              "\n",
              "   final.output.concentrate_au  final.output.recovery  final.output.tail_ag  \\\n",
              "0                    42.192020              70.541216             10.411962   \n",
              "1                    42.701629              69.266198             10.462676   \n",
              "2                    42.657501              68.116445             10.507046   \n",
              "3                    42.689819              68.347543             10.422762   \n",
              "4                    42.774141              66.927016             10.360302   \n",
              "\n",
              "   final.output.tail_pb  final.output.tail_sol  final.output.tail_au  ...  \\\n",
              "0              0.895447              16.904297              2.143149  ...   \n",
              "1              0.927452              16.634514              2.224930  ...   \n",
              "2              0.953716              16.208849              2.257889  ...   \n",
              "3              0.883763              16.532835              2.146849  ...   \n",
              "4              0.792826              16.525686              2.055292  ...   \n",
              "\n",
              "   secondary_cleaner.state.floatbank4_a_air  \\\n",
              "0                                 14.016835   \n",
              "1                                 13.992281   \n",
              "2                                 14.015015   \n",
              "3                                 14.036510   \n",
              "4                                 14.027298   \n",
              "\n",
              "   secondary_cleaner.state.floatbank4_a_level  \\\n",
              "0                                 -502.488007   \n",
              "1                                 -505.503262   \n",
              "2                                 -502.520901   \n",
              "3                                 -500.857308   \n",
              "4                                 -499.838632   \n",
              "\n",
              "   secondary_cleaner.state.floatbank4_b_air  \\\n",
              "0                                 12.099931   \n",
              "1                                 11.950531   \n",
              "2                                 11.912783   \n",
              "3                                 11.999550   \n",
              "4                                 11.953070   \n",
              "\n",
              "   secondary_cleaner.state.floatbank4_b_level  \\\n",
              "0                                 -504.715942   \n",
              "1                                 -501.331529   \n",
              "2                                 -501.133383   \n",
              "3                                 -501.193686   \n",
              "4                                 -501.053894   \n",
              "\n",
              "   secondary_cleaner.state.floatbank5_a_air  \\\n",
              "0                                  9.925633   \n",
              "1                                 10.039245   \n",
              "2                                 10.070913   \n",
              "3                                  9.970366   \n",
              "4                                  9.925709   \n",
              "\n",
              "   secondary_cleaner.state.floatbank5_a_level  \\\n",
              "0                                 -498.310211   \n",
              "1                                 -500.169983   \n",
              "2                                 -500.129135   \n",
              "3                                 -499.201640   \n",
              "4                                 -501.686727   \n",
              "\n",
              "   secondary_cleaner.state.floatbank5_b_air  \\\n",
              "0                                  8.079666   \n",
              "1                                  7.984757   \n",
              "2                                  8.013877   \n",
              "3                                  7.977324   \n",
              "4                                  7.894242   \n",
              "\n",
              "   secondary_cleaner.state.floatbank5_b_level  \\\n",
              "0                                 -500.470978   \n",
              "1                                 -500.582168   \n",
              "2                                 -500.517572   \n",
              "3                                 -500.255908   \n",
              "4                                 -500.356035   \n",
              "\n",
              "   secondary_cleaner.state.floatbank6_a_air  \\\n",
              "0                                 14.151341   \n",
              "1                                 13.998353   \n",
              "2                                 14.028663   \n",
              "3                                 14.005551   \n",
              "4                                 13.996647   \n",
              "\n",
              "   secondary_cleaner.state.floatbank6_a_level  \n",
              "0                                 -605.841980  \n",
              "1                                 -599.787184  \n",
              "2                                 -601.427363  \n",
              "3                                 -599.996129  \n",
              "4                                 -601.496691  \n",
              "\n",
              "[5 rows x 87 columns]"
            ]
          },
          "metadata": {}
        },
        {
          "name": "stdout",
          "output_type": "stream",
          "text": "<class 'pandas.core.frame.DataFrame'>\n\nRangeIndex: 19439 entries, 0 to 19438\n\nData columns (total 87 columns):\n\n #   Column                                              Non-Null Count  Dtype  \n\n---  ------                                              --------------  -----  \n\n 0   date                                                19439 non-null  object \n\n 1   final.output.concentrate_ag                         19438 non-null  float64\n\n 2   final.output.concentrate_pb                         19438 non-null  float64\n\n 3   final.output.concentrate_sol                        19228 non-null  float64\n\n 4   final.output.concentrate_au                         19439 non-null  float64\n\n 5   final.output.recovery                               19439 non-null  float64\n\n 6   final.output.tail_ag                                19438 non-null  float64\n\n 7   final.output.tail_pb                                19338 non-null  float64\n\n 8   final.output.tail_sol                               19433 non-null  float64\n\n 9   final.output.tail_au                                19439 non-null  float64\n\n 10  primary_cleaner.input.sulfate                       19415 non-null  float64\n\n 11  primary_cleaner.input.depressant                    19402 non-null  float64\n\n 12  primary_cleaner.input.feed_size                     19439 non-null  float64\n\n 13  primary_cleaner.input.xanthate                      19335 non-null  float64\n\n 14  primary_cleaner.output.concentrate_ag               19439 non-null  float64\n\n 15  primary_cleaner.output.concentrate_pb               19323 non-null  float64\n\n 16  primary_cleaner.output.concentrate_sol              19069 non-null  float64\n\n 17  primary_cleaner.output.concentrate_au               19439 non-null  float64\n\n 18  primary_cleaner.output.tail_ag                      19435 non-null  float64\n\n 19  primary_cleaner.output.tail_pb                      19418 non-null  float64\n\n 20  primary_cleaner.output.tail_sol                     19377 non-null  float64\n\n 21  primary_cleaner.output.tail_au                      19439 non-null  float64\n\n 22  primary_cleaner.state.floatbank8_a_air              19435 non-null  float64\n\n 23  primary_cleaner.state.floatbank8_a_level            19438 non-null  float64\n\n 24  primary_cleaner.state.floatbank8_b_air              19435 non-null  float64\n\n 25  primary_cleaner.state.floatbank8_b_level            19438 non-null  float64\n\n 26  primary_cleaner.state.floatbank8_c_air              19437 non-null  float64\n\n 27  primary_cleaner.state.floatbank8_c_level            19438 non-null  float64\n\n 28  primary_cleaner.state.floatbank8_d_air              19436 non-null  float64\n\n 29  primary_cleaner.state.floatbank8_d_level            19438 non-null  float64\n\n 30  rougher.calculation.sulfate_to_au_concentrate       19437 non-null  float64\n\n 31  rougher.calculation.floatbank10_sulfate_to_au_feed  19437 non-null  float64\n\n 32  rougher.calculation.floatbank11_sulfate_to_au_feed  19437 non-null  float64\n\n 33  rougher.calculation.au_pb_ratio                     19439 non-null  float64\n\n 34  rougher.input.feed_ag                               19439 non-null  float64\n\n 35  rougher.input.feed_pb                               19339 non-null  float64\n\n 36  rougher.input.feed_rate                             19428 non-null  float64\n\n 37  rougher.input.feed_size                             19294 non-null  float64\n\n 38  rougher.input.feed_sol                              19340 non-null  float64\n\n 39  rougher.input.feed_au                               19439 non-null  float64\n\n 40  rougher.input.floatbank10_sulfate                   19405 non-null  float64\n\n 41  rougher.input.floatbank10_xanthate                  19431 non-null  float64\n\n 42  rougher.input.floatbank11_sulfate                   19395 non-null  float64\n\n 43  rougher.input.floatbank11_xanthate                  18986 non-null  float64\n\n 44  rougher.output.concentrate_ag                       19439 non-null  float64\n\n 45  rougher.output.concentrate_pb                       19439 non-null  float64\n\n 46  rougher.output.concentrate_sol                      19416 non-null  float64\n\n 47  rougher.output.concentrate_au                       19439 non-null  float64\n\n 48  rougher.output.recovery                             19439 non-null  float64\n\n 49  rougher.output.tail_ag                              19438 non-null  float64\n\n 50  rougher.output.tail_pb                              19439 non-null  float64\n\n 51  rougher.output.tail_sol                             19439 non-null  float64\n\n 52  rougher.output.tail_au                              19439 non-null  float64\n\n 53  rougher.state.floatbank10_a_air                     19438 non-null  float64\n\n 54  rougher.state.floatbank10_a_level                   19438 non-null  float64\n\n 55  rougher.state.floatbank10_b_air                     19438 non-null  float64\n\n 56  rougher.state.floatbank10_b_level                   19438 non-null  float64\n\n 57  rougher.state.floatbank10_c_air                     19438 non-null  float64\n\n 58  rougher.state.floatbank10_c_level                   19438 non-null  float64\n\n 59  rougher.state.floatbank10_d_air                     19439 non-null  float64\n\n 60  rougher.state.floatbank10_d_level                   19439 non-null  float64\n\n 61  rougher.state.floatbank10_e_air                     19003 non-null  float64\n\n 62  rougher.state.floatbank10_e_level                   19439 non-null  float64\n\n 63  rougher.state.floatbank10_f_air                     19439 non-null  float64\n\n 64  rougher.state.floatbank10_f_level                   19439 non-null  float64\n\n 65  secondary_cleaner.output.tail_ag                    19437 non-null  float64\n\n 66  secondary_cleaner.output.tail_pb                    19427 non-null  float64\n\n 67  secondary_cleaner.output.tail_sol                   17691 non-null  float64\n\n 68  secondary_cleaner.output.tail_au                    19439 non-null  float64\n\n 69  secondary_cleaner.state.floatbank2_a_air            19219 non-null  float64\n\n 70  secondary_cleaner.state.floatbank2_a_level          19438 non-null  float64\n\n 71  secondary_cleaner.state.floatbank2_b_air            19416 non-null  float64\n\n 72  secondary_cleaner.state.floatbank2_b_level          19438 non-null  float64\n\n 73  secondary_cleaner.state.floatbank3_a_air            19426 non-null  float64\n\n 74  secondary_cleaner.state.floatbank3_a_level          19438 non-null  float64\n\n 75  secondary_cleaner.state.floatbank3_b_air            19438 non-null  float64\n\n 76  secondary_cleaner.state.floatbank3_b_level          19438 non-null  float64\n\n 77  secondary_cleaner.state.floatbank4_a_air            19433 non-null  float64\n\n 78  secondary_cleaner.state.floatbank4_a_level          19438 non-null  float64\n\n 79  secondary_cleaner.state.floatbank4_b_air            19438 non-null  float64\n\n 80  secondary_cleaner.state.floatbank4_b_level          19438 non-null  float64\n\n 81  secondary_cleaner.state.floatbank5_a_air            19438 non-null  float64\n\n 82  secondary_cleaner.state.floatbank5_a_level          19438 non-null  float64\n\n 83  secondary_cleaner.state.floatbank5_b_air            19438 non-null  float64\n\n 84  secondary_cleaner.state.floatbank5_b_level          19438 non-null  float64\n\n 85  secondary_cleaner.state.floatbank6_a_air            19437 non-null  float64\n\n 86  secondary_cleaner.state.floatbank6_a_level          19438 non-null  float64\n\ndtypes: float64(86), object(1)\n\nmemory usage: 12.9+ MB\n"
        },
        {
          "output_type": "display_data",
          "data": {
            "text/plain": [
              "None"
            ]
          },
          "metadata": {}
        },
        {
          "output_type": "display_data",
          "data": {
            "text/html": [
              "<div>\n",
              "<style scoped>\n",
              "    .dataframe tbody tr th:only-of-type {\n",
              "        vertical-align: middle;\n",
              "    }\n",
              "\n",
              "    .dataframe tbody tr th {\n",
              "        vertical-align: top;\n",
              "    }\n",
              "\n",
              "    .dataframe thead th {\n",
              "        text-align: right;\n",
              "    }\n",
              "</style>\n",
              "<table border=\"1\" class=\"dataframe\">\n",
              "  <thead>\n",
              "    <tr style=\"text-align: right;\">\n",
              "      <th></th>\n",
              "      <th>final.output.concentrate_ag</th>\n",
              "      <th>final.output.concentrate_pb</th>\n",
              "      <th>final.output.concentrate_sol</th>\n",
              "      <th>final.output.concentrate_au</th>\n",
              "      <th>final.output.recovery</th>\n",
              "      <th>final.output.tail_ag</th>\n",
              "      <th>final.output.tail_pb</th>\n",
              "      <th>final.output.tail_sol</th>\n",
              "      <th>final.output.tail_au</th>\n",
              "      <th>primary_cleaner.input.sulfate</th>\n",
              "      <th>...</th>\n",
              "      <th>secondary_cleaner.state.floatbank4_a_air</th>\n",
              "      <th>secondary_cleaner.state.floatbank4_a_level</th>\n",
              "      <th>secondary_cleaner.state.floatbank4_b_air</th>\n",
              "      <th>secondary_cleaner.state.floatbank4_b_level</th>\n",
              "      <th>secondary_cleaner.state.floatbank5_a_air</th>\n",
              "      <th>secondary_cleaner.state.floatbank5_a_level</th>\n",
              "      <th>secondary_cleaner.state.floatbank5_b_air</th>\n",
              "      <th>secondary_cleaner.state.floatbank5_b_level</th>\n",
              "      <th>secondary_cleaner.state.floatbank6_a_air</th>\n",
              "      <th>secondary_cleaner.state.floatbank6_a_level</th>\n",
              "    </tr>\n",
              "  </thead>\n",
              "  <tbody>\n",
              "    <tr>\n",
              "      <th>count</th>\n",
              "      <td>19438.000000</td>\n",
              "      <td>19438.000000</td>\n",
              "      <td>19228.000000</td>\n",
              "      <td>19439.000000</td>\n",
              "      <td>19439.000000</td>\n",
              "      <td>19438.000000</td>\n",
              "      <td>19338.000000</td>\n",
              "      <td>19433.000000</td>\n",
              "      <td>19439.000000</td>\n",
              "      <td>19415.000000</td>\n",
              "      <td>...</td>\n",
              "      <td>19433.000000</td>\n",
              "      <td>19438.000000</td>\n",
              "      <td>19438.000000</td>\n",
              "      <td>19438.000000</td>\n",
              "      <td>19438.000000</td>\n",
              "      <td>19438.000000</td>\n",
              "      <td>19438.000000</td>\n",
              "      <td>19438.000000</td>\n",
              "      <td>19437.000000</td>\n",
              "      <td>19438.000000</td>\n",
              "    </tr>\n",
              "    <tr>\n",
              "      <th>mean</th>\n",
              "      <td>5.168470</td>\n",
              "      <td>9.978895</td>\n",
              "      <td>9.501224</td>\n",
              "      <td>44.076513</td>\n",
              "      <td>67.050208</td>\n",
              "      <td>9.688589</td>\n",
              "      <td>2.705795</td>\n",
              "      <td>10.583728</td>\n",
              "      <td>3.042467</td>\n",
              "      <td>144.624774</td>\n",
              "      <td>...</td>\n",
              "      <td>18.987674</td>\n",
              "      <td>-485.894516</td>\n",
              "      <td>15.010366</td>\n",
              "      <td>-461.078636</td>\n",
              "      <td>15.694452</td>\n",
              "      <td>-488.684065</td>\n",
              "      <td>12.198224</td>\n",
              "      <td>-487.149827</td>\n",
              "      <td>18.959024</td>\n",
              "      <td>-505.436305</td>\n",
              "    </tr>\n",
              "    <tr>\n",
              "      <th>std</th>\n",
              "      <td>1.372348</td>\n",
              "      <td>1.669240</td>\n",
              "      <td>2.787537</td>\n",
              "      <td>5.129784</td>\n",
              "      <td>10.125840</td>\n",
              "      <td>2.328642</td>\n",
              "      <td>0.949077</td>\n",
              "      <td>2.868782</td>\n",
              "      <td>0.922808</td>\n",
              "      <td>44.464071</td>\n",
              "      <td>...</td>\n",
              "      <td>5.411058</td>\n",
              "      <td>47.758570</td>\n",
              "      <td>4.890228</td>\n",
              "      <td>67.405524</td>\n",
              "      <td>5.510974</td>\n",
              "      <td>34.533396</td>\n",
              "      <td>5.333024</td>\n",
              "      <td>38.347312</td>\n",
              "      <td>5.550498</td>\n",
              "      <td>37.689057</td>\n",
              "    </tr>\n",
              "    <tr>\n",
              "      <th>min</th>\n",
              "      <td>0.000000</td>\n",
              "      <td>0.000000</td>\n",
              "      <td>0.000000</td>\n",
              "      <td>0.000000</td>\n",
              "      <td>0.000000</td>\n",
              "      <td>0.000000</td>\n",
              "      <td>0.000000</td>\n",
              "      <td>0.000000</td>\n",
              "      <td>0.000000</td>\n",
              "      <td>0.003112</td>\n",
              "      <td>...</td>\n",
              "      <td>0.000000</td>\n",
              "      <td>-799.798523</td>\n",
              "      <td>0.000000</td>\n",
              "      <td>-800.836914</td>\n",
              "      <td>-0.372054</td>\n",
              "      <td>-797.323986</td>\n",
              "      <td>0.528083</td>\n",
              "      <td>-800.220337</td>\n",
              "      <td>-0.079426</td>\n",
              "      <td>-809.741464</td>\n",
              "    </tr>\n",
              "    <tr>\n",
              "      <th>25%</th>\n",
              "      <td>4.251240</td>\n",
              "      <td>9.137262</td>\n",
              "      <td>7.722820</td>\n",
              "      <td>43.402215</td>\n",
              "      <td>63.299712</td>\n",
              "      <td>8.062878</td>\n",
              "      <td>2.040119</td>\n",
              "      <td>8.938947</td>\n",
              "      <td>2.461138</td>\n",
              "      <td>114.107029</td>\n",
              "      <td>...</td>\n",
              "      <td>14.975734</td>\n",
              "      <td>-500.704892</td>\n",
              "      <td>11.940294</td>\n",
              "      <td>-500.187742</td>\n",
              "      <td>10.988606</td>\n",
              "      <td>-500.458467</td>\n",
              "      <td>8.971105</td>\n",
              "      <td>-500.129462</td>\n",
              "      <td>14.983037</td>\n",
              "      <td>-500.728067</td>\n",
              "    </tr>\n",
              "    <tr>\n",
              "      <th>50%</th>\n",
              "      <td>5.066094</td>\n",
              "      <td>10.102433</td>\n",
              "      <td>9.218961</td>\n",
              "      <td>45.011244</td>\n",
              "      <td>68.172738</td>\n",
              "      <td>9.743623</td>\n",
              "      <td>2.748730</td>\n",
              "      <td>10.622456</td>\n",
              "      <td>2.984909</td>\n",
              "      <td>143.232103</td>\n",
              "      <td>...</td>\n",
              "      <td>18.017481</td>\n",
              "      <td>-499.837793</td>\n",
              "      <td>14.971014</td>\n",
              "      <td>-499.459786</td>\n",
              "      <td>15.000036</td>\n",
              "      <td>-499.802605</td>\n",
              "      <td>11.019433</td>\n",
              "      <td>-499.935317</td>\n",
              "      <td>19.960541</td>\n",
              "      <td>-500.048400</td>\n",
              "    </tr>\n",
              "    <tr>\n",
              "      <th>75%</th>\n",
              "      <td>5.895527</td>\n",
              "      <td>11.035769</td>\n",
              "      <td>10.947813</td>\n",
              "      <td>46.275313</td>\n",
              "      <td>72.686642</td>\n",
              "      <td>11.134294</td>\n",
              "      <td>3.333216</td>\n",
              "      <td>12.104271</td>\n",
              "      <td>3.571351</td>\n",
              "      <td>175.075656</td>\n",
              "      <td>...</td>\n",
              "      <td>23.012470</td>\n",
              "      <td>-498.249730</td>\n",
              "      <td>19.034162</td>\n",
              "      <td>-400.118106</td>\n",
              "      <td>18.026190</td>\n",
              "      <td>-498.384187</td>\n",
              "      <td>14.019088</td>\n",
              "      <td>-499.436708</td>\n",
              "      <td>24.003170</td>\n",
              "      <td>-499.495378</td>\n",
              "    </tr>\n",
              "    <tr>\n",
              "      <th>max</th>\n",
              "      <td>16.001945</td>\n",
              "      <td>17.031899</td>\n",
              "      <td>19.615720</td>\n",
              "      <td>52.756638</td>\n",
              "      <td>100.000000</td>\n",
              "      <td>19.552149</td>\n",
              "      <td>5.804178</td>\n",
              "      <td>22.317730</td>\n",
              "      <td>8.245022</td>\n",
              "      <td>265.983123</td>\n",
              "      <td>...</td>\n",
              "      <td>30.115735</td>\n",
              "      <td>-245.239184</td>\n",
              "      <td>31.269706</td>\n",
              "      <td>-6.506986</td>\n",
              "      <td>43.709931</td>\n",
              "      <td>-244.483566</td>\n",
              "      <td>27.926001</td>\n",
              "      <td>-137.740004</td>\n",
              "      <td>32.188906</td>\n",
              "      <td>-104.427459</td>\n",
              "    </tr>\n",
              "  </tbody>\n",
              "</table>\n",
              "<p>8 rows × 86 columns</p>\n",
              "</div>"
            ],
            "text/plain": [
              "       final.output.concentrate_ag  final.output.concentrate_pb  \\\n",
              "count                 19438.000000                 19438.000000   \n",
              "mean                      5.168470                     9.978895   \n",
              "std                       1.372348                     1.669240   \n",
              "min                       0.000000                     0.000000   \n",
              "25%                       4.251240                     9.137262   \n",
              "50%                       5.066094                    10.102433   \n",
              "75%                       5.895527                    11.035769   \n",
              "max                      16.001945                    17.031899   \n",
              "\n",
              "       final.output.concentrate_sol  final.output.concentrate_au  \\\n",
              "count                  19228.000000                 19439.000000   \n",
              "mean                       9.501224                    44.076513   \n",
              "std                        2.787537                     5.129784   \n",
              "min                        0.000000                     0.000000   \n",
              "25%                        7.722820                    43.402215   \n",
              "50%                        9.218961                    45.011244   \n",
              "75%                       10.947813                    46.275313   \n",
              "max                       19.615720                    52.756638   \n",
              "\n",
              "       final.output.recovery  final.output.tail_ag  final.output.tail_pb  \\\n",
              "count           19439.000000          19438.000000          19338.000000   \n",
              "mean               67.050208              9.688589              2.705795   \n",
              "std                10.125840              2.328642              0.949077   \n",
              "min                 0.000000              0.000000              0.000000   \n",
              "25%                63.299712              8.062878              2.040119   \n",
              "50%                68.172738              9.743623              2.748730   \n",
              "75%                72.686642             11.134294              3.333216   \n",
              "max               100.000000             19.552149              5.804178   \n",
              "\n",
              "       final.output.tail_sol  final.output.tail_au  \\\n",
              "count           19433.000000          19439.000000   \n",
              "mean               10.583728              3.042467   \n",
              "std                 2.868782              0.922808   \n",
              "min                 0.000000              0.000000   \n",
              "25%                 8.938947              2.461138   \n",
              "50%                10.622456              2.984909   \n",
              "75%                12.104271              3.571351   \n",
              "max                22.317730              8.245022   \n",
              "\n",
              "       primary_cleaner.input.sulfate  ...  \\\n",
              "count                   19415.000000  ...   \n",
              "mean                      144.624774  ...   \n",
              "std                        44.464071  ...   \n",
              "min                         0.003112  ...   \n",
              "25%                       114.107029  ...   \n",
              "50%                       143.232103  ...   \n",
              "75%                       175.075656  ...   \n",
              "max                       265.983123  ...   \n",
              "\n",
              "       secondary_cleaner.state.floatbank4_a_air  \\\n",
              "count                              19433.000000   \n",
              "mean                                  18.987674   \n",
              "std                                    5.411058   \n",
              "min                                    0.000000   \n",
              "25%                                   14.975734   \n",
              "50%                                   18.017481   \n",
              "75%                                   23.012470   \n",
              "max                                   30.115735   \n",
              "\n",
              "       secondary_cleaner.state.floatbank4_a_level  \\\n",
              "count                                19438.000000   \n",
              "mean                                  -485.894516   \n",
              "std                                     47.758570   \n",
              "min                                   -799.798523   \n",
              "25%                                   -500.704892   \n",
              "50%                                   -499.837793   \n",
              "75%                                   -498.249730   \n",
              "max                                   -245.239184   \n",
              "\n",
              "       secondary_cleaner.state.floatbank4_b_air  \\\n",
              "count                              19438.000000   \n",
              "mean                                  15.010366   \n",
              "std                                    4.890228   \n",
              "min                                    0.000000   \n",
              "25%                                   11.940294   \n",
              "50%                                   14.971014   \n",
              "75%                                   19.034162   \n",
              "max                                   31.269706   \n",
              "\n",
              "       secondary_cleaner.state.floatbank4_b_level  \\\n",
              "count                                19438.000000   \n",
              "mean                                  -461.078636   \n",
              "std                                     67.405524   \n",
              "min                                   -800.836914   \n",
              "25%                                   -500.187742   \n",
              "50%                                   -499.459786   \n",
              "75%                                   -400.118106   \n",
              "max                                     -6.506986   \n",
              "\n",
              "       secondary_cleaner.state.floatbank5_a_air  \\\n",
              "count                              19438.000000   \n",
              "mean                                  15.694452   \n",
              "std                                    5.510974   \n",
              "min                                   -0.372054   \n",
              "25%                                   10.988606   \n",
              "50%                                   15.000036   \n",
              "75%                                   18.026190   \n",
              "max                                   43.709931   \n",
              "\n",
              "       secondary_cleaner.state.floatbank5_a_level  \\\n",
              "count                                19438.000000   \n",
              "mean                                  -488.684065   \n",
              "std                                     34.533396   \n",
              "min                                   -797.323986   \n",
              "25%                                   -500.458467   \n",
              "50%                                   -499.802605   \n",
              "75%                                   -498.384187   \n",
              "max                                   -244.483566   \n",
              "\n",
              "       secondary_cleaner.state.floatbank5_b_air  \\\n",
              "count                              19438.000000   \n",
              "mean                                  12.198224   \n",
              "std                                    5.333024   \n",
              "min                                    0.528083   \n",
              "25%                                    8.971105   \n",
              "50%                                   11.019433   \n",
              "75%                                   14.019088   \n",
              "max                                   27.926001   \n",
              "\n",
              "       secondary_cleaner.state.floatbank5_b_level  \\\n",
              "count                                19438.000000   \n",
              "mean                                  -487.149827   \n",
              "std                                     38.347312   \n",
              "min                                   -800.220337   \n",
              "25%                                   -500.129462   \n",
              "50%                                   -499.935317   \n",
              "75%                                   -499.436708   \n",
              "max                                   -137.740004   \n",
              "\n",
              "       secondary_cleaner.state.floatbank6_a_air  \\\n",
              "count                              19437.000000   \n",
              "mean                                  18.959024   \n",
              "std                                    5.550498   \n",
              "min                                   -0.079426   \n",
              "25%                                   14.983037   \n",
              "50%                                   19.960541   \n",
              "75%                                   24.003170   \n",
              "max                                   32.188906   \n",
              "\n",
              "       secondary_cleaner.state.floatbank6_a_level  \n",
              "count                                19438.000000  \n",
              "mean                                  -505.436305  \n",
              "std                                     37.689057  \n",
              "min                                   -809.741464  \n",
              "25%                                   -500.728067  \n",
              "50%                                   -500.048400  \n",
              "75%                                   -499.495378  \n",
              "max                                   -104.427459  \n",
              "\n",
              "[8 rows x 86 columns]"
            ]
          },
          "metadata": {}
        }
      ]
    },
    {
      "cell_type": "code",
      "source": "#Проверим данные на дубликаты\nfor data in data_list:\n    print('Количество дубликатов в датасете:', data.duplicated().sum())",
      "metadata": {},
      "execution_count": 4,
      "outputs": [
        {
          "name": "stdout",
          "output_type": "stream",
          "text": "Количество дубликатов в датасете: 0\n\nКоличество дубликатов в датасете: 0\n\nКоличество дубликатов в датасете: 0\n"
        }
      ]
    },
    {
      "cell_type": "markdown",
      "source": "Во всех выборках присутствуют пропуски. Дуликатов нет. Предобработка будет позже.",
      "metadata": {}
    },
    {
      "cell_type": "markdown",
      "source": "Проверим правильность расчёта эффективности обогащения. Вычислим её на обучающей выборке для признака rougher.output.recover  \n**Формула расчёта:**  \n![%D0%B8%D0%B7%D0%BE%D0%B1%D1%80%D0%B0%D0%B6%D0%B5%D0%BD%D0%B8%D0%B5.png](attachment:%D0%B8%D0%B7%D0%BE%D0%B1%D1%80%D0%B0%D0%B6%D0%B5%D0%BD%D0%B8%D0%B5.png)  \n**В которой:**  \nC — доля золота в концентрате после флотации/очистки;  \nF — доля золота в сырье до флотации/очистки;  \nT — доля золота в отвальных хвостах после флотации/очистки.",
      "metadata": {},
      "attachments": {
        "%D0%B8%D0%B7%D0%BE%D0%B1%D1%80%D0%B0%D0%B6%D0%B5%D0%BD%D0%B8%D0%B5.png": {
          "image/png": "[encoded data removed]"
        }
      }
    },
    {
      "cell_type": "code",
      "source": "C = data_train['rougher.output.concentrate_au']\nF = data_train['rougher.input.feed_au']\nT = data_train['rougher.output.tail_au']\n#Сохраним расчёты в новом столбце и вычислим среднее\ndata_train['count_recovery'] = ((C*(F-T))/(F*(C-T)))*100\ndata_train['count_recovery'].mean()",
      "metadata": {},
      "execution_count": 5,
      "outputs": [
        {
          "execution_count": 5,
          "output_type": "execute_result",
          "data": {
            "text/plain": [
              "82.70450164550293"
            ]
          },
          "metadata": {}
        }
      ]
    },
    {
      "cell_type": "code",
      "source": "#Посмотрим среднее признака rougher.output.recover\ndata_train['rougher.output.recovery'].mean()",
      "metadata": {},
      "execution_count": 6,
      "outputs": [
        {
          "execution_count": 6,
          "output_type": "execute_result",
          "data": {
            "text/plain": [
              "82.70450164550293"
            ]
          },
          "metadata": {}
        }
      ]
    },
    {
      "cell_type": "markdown",
      "source": "Седние показатели равны, значит эффективность рассчитана правильно.",
      "metadata": {}
    },
    {
      "cell_type": "code",
      "source": "#Найдём MAE между нашими расчётами и значением признака\nprint(mean_absolute_error(data_train['count_recovery'], data_train['rougher.output.recovery']))",
      "metadata": {},
      "execution_count": 7,
      "outputs": [
        {
          "name": "stdout",
          "output_type": "stream",
          "text": "9.73512347450521e-15\n"
        }
      ]
    },
    {
      "cell_type": "code",
      "source": "#Удалим созданный столбец с расчётами\ndata_train.drop('count_recovery', axis=1, inplace=True)",
      "metadata": {},
      "execution_count": 8,
      "outputs": []
    },
    {
      "cell_type": "markdown",
      "source": "МАЕ очень мало, поэтому правильность расчёта эффективности подтверждена.",
      "metadata": {}
    },
    {
      "cell_type": "code",
      "source": "#Добавим в тестовую выборку целевые признаки final.output.recovery и rougher.output.recovery\ndata_test = data_test.merge(data_full[['rougher.output.recovery', 'final.output.recovery']],\n                                              how='left', left_index=True, right_index=True)",
      "metadata": {},
      "execution_count": 9,
      "outputs": []
    },
    {
      "cell_type": "code",
      "source": "#Посмотрим признаки, которые недоступны в тестовой выборке\ntrain_set=set(data_train.columns.to_list())\ntest_set=set(data_test.columns.to_list())\ntt_set=train_set-test_set\ntt_set\n",
      "metadata": {
        "scrolled": true
      },
      "execution_count": 10,
      "outputs": [
        {
          "execution_count": 10,
          "output_type": "execute_result",
          "data": {
            "text/plain": [
              "{'final.output.concentrate_ag',\n",
              " 'final.output.concentrate_au',\n",
              " 'final.output.concentrate_pb',\n",
              " 'final.output.concentrate_sol',\n",
              " 'final.output.tail_ag',\n",
              " 'final.output.tail_au',\n",
              " 'final.output.tail_pb',\n",
              " 'final.output.tail_sol',\n",
              " 'primary_cleaner.output.concentrate_ag',\n",
              " 'primary_cleaner.output.concentrate_au',\n",
              " 'primary_cleaner.output.concentrate_pb',\n",
              " 'primary_cleaner.output.concentrate_sol',\n",
              " 'primary_cleaner.output.tail_ag',\n",
              " 'primary_cleaner.output.tail_au',\n",
              " 'primary_cleaner.output.tail_pb',\n",
              " 'primary_cleaner.output.tail_sol',\n",
              " 'rougher.calculation.au_pb_ratio',\n",
              " 'rougher.calculation.floatbank10_sulfate_to_au_feed',\n",
              " 'rougher.calculation.floatbank11_sulfate_to_au_feed',\n",
              " 'rougher.calculation.sulfate_to_au_concentrate',\n",
              " 'rougher.output.concentrate_ag',\n",
              " 'rougher.output.concentrate_au',\n",
              " 'rougher.output.concentrate_pb',\n",
              " 'rougher.output.concentrate_sol',\n",
              " 'rougher.output.tail_ag',\n",
              " 'rougher.output.tail_au',\n",
              " 'rougher.output.tail_pb',\n",
              " 'rougher.output.tail_sol',\n",
              " 'secondary_cleaner.output.tail_ag',\n",
              " 'secondary_cleaner.output.tail_au',\n",
              " 'secondary_cleaner.output.tail_pb',\n",
              " 'secondary_cleaner.output.tail_sol'}"
            ]
          },
          "metadata": {}
        }
      ]
    },
    {
      "cell_type": "markdown",
      "source": "Обнаруженные признаки относятся к параметрам продукта и расчётным характеристикам. В тестовой выборке отсутствуют целевые признаки **final.output.recovery** и **rougher.output.recovery**. В тренировочной выборке присутствуют признаки, которые мы получаем в процессе флотации. Т.к. мы хотим получить предсказание до флотации, все признаки, которых нет в тестовой выборке, нам нужно удалить из тренировочной выборки, чтобы обучить модель. Целевые признаки нужно добавить в тестовую выборку.",
      "metadata": {}
    },
    {
      "cell_type": "code",
      "source": "#Проведём предобработку\n#Посмотрим, есть ли нулевые значения у целевых признаков в тестовой и обучающей выборках\nprint(data_test[data_test['rougher.output.recovery'] == 0]['rougher.output.recovery'].count())\nprint(data_test[data_test['final.output.recovery'] == 0]['final.output.recovery'].count())\nprint(data_train[data_train['rougher.output.recovery'] == 0]['rougher.output.recovery'].count())\nprint(data_train[data_train['final.output.recovery'] == 0]['final.output.recovery'].count())",
      "metadata": {},
      "execution_count": 11,
      "outputs": [
        {
          "name": "stdout",
          "output_type": "stream",
          "text": "96\n\n23\n\n297\n\n58\n"
        }
      ]
    },
    {
      "cell_type": "code",
      "source": "#Удалим строки с нулевыми значениями целевых признаков, т.к. для обучения модели они не будут полезны, а наоборот, \n#создадут помехи\ndata_train = data_train.drop(data_train[data_train['rougher.output.recovery'] == 0].index)\ndata_train = data_train.drop(data_train[data_train['final.output.recovery'] == 0].index)\ndata_test = data_test.drop(data_test[data_test['rougher.output.recovery'] == 0].index)\ndata_test = data_test.drop(data_test[data_test['final.output.recovery'] == 0].index)",
      "metadata": {},
      "execution_count": 12,
      "outputs": []
    },
    {
      "cell_type": "code",
      "source": "#Заменим пропуски в данных методом ffill\ndata_list = [data_train, data_test, data_full]\nfor data in data_list:\n    data.fillna(method= 'ffill', inplace=True)",
      "metadata": {},
      "execution_count": 13,
      "outputs": []
    },
    {
      "cell_type": "code",
      "source": "#Проверим, остались ли пропуски в данных\nfor data in data_list:\n    print(data.isna().sum())",
      "metadata": {
        "scrolled": true
      },
      "execution_count": 14,
      "outputs": [
        {
          "name": "stdout",
          "output_type": "stream",
          "text": "date                                          0\n\nfinal.output.concentrate_ag                   0\n\nfinal.output.concentrate_pb                   0\n\nfinal.output.concentrate_sol                  0\n\nfinal.output.concentrate_au                   0\n\n                                             ..\n\nsecondary_cleaner.state.floatbank5_a_level    0\n\nsecondary_cleaner.state.floatbank5_b_air      0\n\nsecondary_cleaner.state.floatbank5_b_level    0\n\nsecondary_cleaner.state.floatbank6_a_air      0\n\nsecondary_cleaner.state.floatbank6_a_level    0\n\nLength: 87, dtype: int64\n\ndate                                          0\n\nprimary_cleaner.input.sulfate                 0\n\nprimary_cleaner.input.depressant              0\n\nprimary_cleaner.input.feed_size               0\n\nprimary_cleaner.input.xanthate                0\n\nprimary_cleaner.state.floatbank8_a_air        0\n\nprimary_cleaner.state.floatbank8_a_level      0\n\nprimary_cleaner.state.floatbank8_b_air        0\n\nprimary_cleaner.state.floatbank8_b_level      0\n\nprimary_cleaner.state.floatbank8_c_air        0\n\nprimary_cleaner.state.floatbank8_c_level      0\n\nprimary_cleaner.state.floatbank8_d_air        0\n\nprimary_cleaner.state.floatbank8_d_level      0\n\nrougher.input.feed_ag                         0\n\nrougher.input.feed_pb                         0\n\nrougher.input.feed_rate                       0\n\nrougher.input.feed_size                       0\n\nrougher.input.feed_sol                        0\n\nrougher.input.feed_au                         0\n\nrougher.input.floatbank10_sulfate             0\n\nrougher.input.floatbank10_xanthate            0\n\nrougher.input.floatbank11_sulfate             0\n\nrougher.input.floatbank11_xanthate            0\n\nrougher.state.floatbank10_a_air               0\n\nrougher.state.floatbank10_a_level             0\n\nrougher.state.floatbank10_b_air               0\n\nrougher.state.floatbank10_b_level             0\n\nrougher.state.floatbank10_c_air               0\n\nrougher.state.floatbank10_c_level             0\n\nrougher.state.floatbank10_d_air               0\n\nrougher.state.floatbank10_d_level             0\n\nrougher.state.floatbank10_e_air               0\n\nrougher.state.floatbank10_e_level             0\n\nrougher.state.floatbank10_f_air               0\n\nrougher.state.floatbank10_f_level             0\n\nsecondary_cleaner.state.floatbank2_a_air      0\n\nsecondary_cleaner.state.floatbank2_a_level    0\n\nsecondary_cleaner.state.floatbank2_b_air      0\n\nsecondary_cleaner.state.floatbank2_b_level    0\n\nsecondary_cleaner.state.floatbank3_a_air      0\n\nsecondary_cleaner.state.floatbank3_a_level    0\n\nsecondary_cleaner.state.floatbank3_b_air      0\n\nsecondary_cleaner.state.floatbank3_b_level    0\n\nsecondary_cleaner.state.floatbank4_a_air      0\n\nsecondary_cleaner.state.floatbank4_a_level    0\n\nsecondary_cleaner.state.floatbank4_b_air      0\n\nsecondary_cleaner.state.floatbank4_b_level    0\n\nsecondary_cleaner.state.floatbank5_a_air      0\n\nsecondary_cleaner.state.floatbank5_a_level    0\n\nsecondary_cleaner.state.floatbank5_b_air      0\n\nsecondary_cleaner.state.floatbank5_b_level    0\n\nsecondary_cleaner.state.floatbank6_a_air      0\n\nsecondary_cleaner.state.floatbank6_a_level    0\n\nrougher.output.recovery                       0\n\nfinal.output.recovery                         0\n\ndtype: int64\n\ndate                                          0\n\nfinal.output.concentrate_ag                   0\n\nfinal.output.concentrate_pb                   0\n\nfinal.output.concentrate_sol                  0\n\nfinal.output.concentrate_au                   0\n\n                                             ..\n\nsecondary_cleaner.state.floatbank5_a_level    0\n\nsecondary_cleaner.state.floatbank5_b_air      0\n\nsecondary_cleaner.state.floatbank5_b_level    0\n\nsecondary_cleaner.state.floatbank6_a_air      0\n\nsecondary_cleaner.state.floatbank6_a_level    0\n\nLength: 87, dtype: int64\n"
        }
      ]
    },
    {
      "cell_type": "markdown",
      "source": "**Вывод**  \nДанные подготовлены:\n* Изучена общая иформация о данных\n* Проверена правильность расчёта эффективности обогащения\n* Проведена предобработка данных - удалены ненужные признаки из тренировочной выборки, добавлены целевые признаки в тестовую выборку, пропуски в данных заменены подходящими значениями, удалён признак **date** за ненадобностью\n* Строки с нулевыми значениями целевых признаков удалены",
      "metadata": {}
    },
    {
      "cell_type": "markdown",
      "source": "## Анализ данных",
      "metadata": {}
    },
    {
      "cell_type": "code",
      "source": "#Построим гистограмму концентрации золота\nplt.figure(figsize=[12,9])\n\nplt.hist(data_train['rougher.input.feed_au'], bins=100, label = 'До флотации', alpha=0.5, color='blue')\nplt.hist(data_train['rougher.output.concentrate_au'], bins=100, label = 'После флотации', alpha=0.5,\n                                                                                       color='green')\nplt.hist(data_train['primary_cleaner.output.concentrate_au'], bins=100, label = 'После первичной очистки',\n                                                                                alpha=0.5, color='yellow')\nplt.hist(data_train['final.output.concentrate_au'], bins=100, label = 'Финальная концентрация', alpha=0.5, color='purple')\n\n\n\nplt.xlabel('Концентрация золота')\n\nplt.legend(loc='upper left', fontsize='x-large')\n\nplt.title('Гистограмма концентрации Золота')\nplt.show()",
      "metadata": {},
      "execution_count": 15,
      "outputs": [
        {
          "output_type": "display_data",
          "data": {
            "image/png": "[encoded data removed]",
            "text/plain": [
              "<Figure size 864x648 with 1 Axes>"
            ]
          },
          "metadata": {}
        }
      ]
    },
    {
      "cell_type": "markdown",
      "source": "С каждым этапом концентрация золота повышается",
      "metadata": {}
    },
    {
      "cell_type": "code",
      "source": "#Построим гистограмму концентрации серебра\nplt.figure(figsize=[12,9])\n\nplt.hist(data_train['rougher.input.feed_ag'], bins=100, label = 'До флотации', alpha=0.5, color='blue')\nplt.hist(data_train['rougher.output.concentrate_ag'], bins=100, label = 'После флотации', alpha=0.3,\n                                                                                       color='green')\nplt.hist(data_train['primary_cleaner.output.concentrate_ag'], bins=100, label = 'После первичной очистки',\n                                                                                alpha=0.3, color='yellow')\nplt.hist(data_train['final.output.concentrate_ag'], bins=100, label = 'Финальная концентрация', alpha=0.3, color='purple')\n\n\n\nplt.xlabel('Концентрация серебра')\n\nplt.legend(loc='upper left', fontsize='x-large')\n\nplt.title('Гистограмма концентрации Серебра')\nplt.show()",
      "metadata": {},
      "execution_count": 16,
      "outputs": [
        {
          "output_type": "display_data",
          "data": {
            "image/png": "[encoded data removed]",
            "text/plain": [
              "<Figure size 864x648 with 1 Axes>"
            ]
          },
          "metadata": {}
        }
      ]
    },
    {
      "cell_type": "markdown",
      "source": "С каждым этапом концентрация серебра понижается, т.к. основной целью очистки является получение золота и избавление от прочих металлов",
      "metadata": {}
    },
    {
      "cell_type": "code",
      "source": "#Построим гистограмму концентрации свинца\nplt.figure(figsize=[12,9])\n\nplt.hist(data_train['rougher.input.feed_pb'], bins=100, label = 'До флотации', alpha=0.5, color='blue')\nplt.hist(data_train['rougher.output.concentrate_pb'], bins=100, label = 'После флотации', alpha=0.5,\n                                                                                       color='green')\nplt.hist(data_train['primary_cleaner.output.concentrate_pb'], bins=100, label = 'После первичной очистки',\n                                                                                alpha=0.5, color='yellow')\nplt.hist(data_train['final.output.concentrate_pb'], bins=100, label = 'Финальная концентрация', alpha=0.3, color='purple')\n\n\n\nplt.xlabel('Концентрация свинца')\n\nplt.legend(loc='upper left', fontsize='x-large')\n\nplt.title('Гистограмма концентрации Свинца')\nplt.show()",
      "metadata": {},
      "execution_count": 17,
      "outputs": [
        {
          "output_type": "display_data",
          "data": {
            "image/png": "[encoded data removed]",
            "text/plain": [
              "<Figure size 864x648 with 1 Axes>"
            ]
          },
          "metadata": {}
        }
      ]
    },
    {
      "cell_type": "markdown",
      "source": "Концентрация свинца повышается после флотации и первичной очистки, потом не меняется",
      "metadata": {}
    },
    {
      "cell_type": "code",
      "source": "#Сравним распределения размеров гранул сырья на обучающей и тестовой выборках\n#Построим гистограмму\n\nplt.figure(figsize=[15,12])\n\nplt.hist(data_train['primary_cleaner.input.feed_size'], bins=150, density=True, label = 'Обучающая выборка', alpha=0.5)\nplt.hist(data_test['primary_cleaner.input.feed_size'], bins=150, density=True, label = 'Тестовая выборка', alpha=0.5)\n\nplt.xlabel('Размер гранул сырья')\n\nplt.legend(loc='upper right', fontsize='x-large')\n\nplt.title('Гистограмма распределения гранул сырья')\nplt.show()",
      "metadata": {},
      "execution_count": 18,
      "outputs": [
        {
          "output_type": "display_data",
          "data": {
            "image/png": "[encoded data removed]",
            "text/plain": [
              "<Figure size 1080x864 with 1 Axes>"
            ]
          },
          "metadata": {}
        }
      ]
    },
    {
      "cell_type": "markdown",
      "source": "Распределение гранул не сильно отличается, модель от этого не пострадает",
      "metadata": {}
    },
    {
      "cell_type": "code",
      "source": "#Исследуем суммарную концентрацию всех веществ на разных стадиях: в сырье, в черновом и финальном концентратах\n#Создадим переменные с нужными нам признаками\n\nrougher_int_conc = (data_train['rougher.input.feed_au'] + \n                                        data_train['rougher.input.feed_ag'] + \n                                        data_train['rougher.input.feed_pb'])\nrougher_out_conc = (data_train['rougher.output.concentrate_au'] + \n                                                data_train['rougher.output.concentrate_ag'] + \n                                                data_train['rougher.output.concentrate_pb'])\nfinal_conc = (data_train['final.output.concentrate_au'] + \n                                      data_train['final.output.concentrate_ag'] + \n                                      data_train['final.output.concentrate_pb'])",
      "metadata": {},
      "execution_count": 24,
      "outputs": []
    },
    {
      "cell_type": "code",
      "source": "#Построим гистограмму\nplt.figure(figsize=[12,9])\n\nplt.hist(rougher_int_conc, bins=100, label = 'до флотации', alpha=0.5)\nplt.hist(rougher_out_conc, bins=100, label = 'после флотации', alpha=0.5)\nplt.hist(final_conc, bins=100, label = 'финальная', alpha=0.5)\n\nplt.xlabel('Суммарная концентрация')\n\nplt.legend(loc='upper left', fontsize='x-large')\n\nplt.title('Гистограмма суммарной концентрации')\nplt.show()",
      "metadata": {},
      "execution_count": 25,
      "outputs": [
        {
          "output_type": "display_data",
          "data": {
            "image/png": "[encoded data removed]",
            "text/plain": [
              "<Figure size 864x648 with 1 Axes>"
            ]
          },
          "metadata": {}
        }
      ]
    },
    {
      "cell_type": "code",
      "source": "#На гистограмме мы видим, что есть нулевые значения концентрации признака \"после первичной очистки\". \n#Возможно, они стали результатом сбоя технологического процесса и являются аномалиями. \n#Посмотрим поближе.",
      "metadata": {},
      "execution_count": 23,
      "outputs": []
    },
    {
      "cell_type": "markdown",
      "source": "На гистограмме видно, что с каждой стадией суммарная концентрация увеличивается",
      "metadata": {}
    },
    {
      "cell_type": "markdown",
      "source": "Построим гистограмму для поиска аномалий в стадиях \"после флотации\", \"после первичной очистки\" и \"финальная\"",
      "metadata": {}
    },
    {
      "cell_type": "code",
      "source": "plt.figure(figsize=[12,9])\n\nplt.hist(rougher_conc, bins=100, label = 'после флотации', alpha=0.5)\nplt.hist(primary_conc, bins=100, label = 'после первичной очистки', alpha=0.5)\nplt.hist(final_conc, bins=100, label = 'финальная', alpha=0.5)\n\nplt.xlabel('Суммарная концентрация')\nplt.xlim(0, 5)\nplt.ylim(0, 200)\n\nplt.legend(loc='upper left', fontsize='x-large')\n\nplt.title('Гистограмма распределения суммарной концентрации')\nplt.show()",
      "metadata": {},
      "execution_count": 27,
      "outputs": [
        {
          "output_type": "display_data",
          "data": {
            "image/png": "[encoded data removed]",
            "text/plain": [
              "<Figure size 864x648 with 1 Axes>"
            ]
          },
          "metadata": {}
        }
      ]
    },
    {
      "cell_type": "markdown",
      "source": "Видим, что есть нулевые значения концентрации у всех троих признаков. Удалим все нулевые значения.",
      "metadata": {}
    },
    {
      "cell_type": "code",
      "source": "#Посмотрим размер тренировочной выборки\ndata_train.shape",
      "metadata": {},
      "execution_count": 28,
      "outputs": [
        {
          "execution_count": 28,
          "output_type": "execute_result",
          "data": {
            "text/plain": [
              "(13795, 87)"
            ]
          },
          "metadata": {}
        }
      ]
    },
    {
      "cell_type": "code",
      "source": "#Удалим нулевые значения\ndata_train = data_train.drop(data_train[data_train['primary_cleaner.output.concentrate_au'] == 0].index)\ndata_train = data_train.drop(data_train[data_train['primary_cleaner.output.concentrate_ag'] == 0].index)\ndata_train = data_train.drop(data_train[data_train['primary_cleaner.output.concentrate_pb'] == 0].index)\ndata_train = data_train.drop(data_train[data_train['rougher.output.concentrate_au'] == 0].index)\ndata_train = data_train.drop(data_train[data_train['rougher.output.concentrate_ag'] == 0].index)\ndata_train = data_train.drop(data_train[data_train['rougher.output.concentrate_pb'] == 0].index)\ndata_train = data_train.drop(data_train[data_train['final.output.concentrate_au'] == 0].index)\ndata_train = data_train.drop(data_train[data_train['final.output.concentrate_ag'] == 0].index)\ndata_train = data_train.drop(data_train[data_train['final.output.concentrate_pb'] == 0].index)",
      "metadata": {},
      "execution_count": 29,
      "outputs": []
    },
    {
      "cell_type": "code",
      "source": "#Посмотрим размер тренировочной выборки\ndata_train.shape",
      "metadata": {},
      "execution_count": 30,
      "outputs": [
        {
          "execution_count": 30,
          "output_type": "execute_result",
          "data": {
            "text/plain": [
              "(13720, 87)"
            ]
          },
          "metadata": {}
        }
      ]
    },
    {
      "cell_type": "code",
      "source": "#Удалим ненужные признаки из тренировочной выборки\ndata_train = data_train.drop(list(tt_set), axis=1)",
      "metadata": {},
      "execution_count": null,
      "outputs": []
    },
    {
      "cell_type": "code",
      "source": "#Проверим удаление признаков\ndata_train.info()",
      "metadata": {
        "scrolled": true
      },
      "execution_count": null,
      "outputs": []
    },
    {
      "cell_type": "code",
      "source": "#Удалим столбец с датой из датасетов, т.к. он не понадобится для предсказания\ndata_list = [data_train, data_test, data_full]\n\nfor data in data_list:\n    data.drop('date', axis=1, inplace=True)",
      "metadata": {},
      "execution_count": null,
      "outputs": []
    },
    {
      "cell_type": "markdown",
      "source": "**Вывод:**  \n* Исследованы изменения концентрации золота, серебра и свинца. Концентрация золота увеличивается с каждым этапом, концентрация серебра уменьшается, концентрация свинца увеличивается после первичной очистки и больше не меняется.\n* Проведено сравнение распределения размеров гранул сырья в обучающей и тестовой выборках. Различия незначительны, на обучение модели это не повлияет.\n* Исследована суммарная концентрация всех веществ на разных стадиях. Обнаружены аномалии, которые мы удалили.",
      "metadata": {}
    },
    {
      "cell_type": "markdown",
      "source": "## Модель",
      "metadata": {}
    },
    {
      "cell_type": "code",
      "source": "#Напишем функцию вычисления итоговой sMAPE\ndef smape(target, predict):\n    return 1/len(target) * np.sum(2*np.abs(target - predict) / (np.abs(target) + np.abs(predict))*100)\ndef smape_final(rougher, final):\n    return 0.25*rougher + 0.75*final",
      "metadata": {},
      "execution_count": null,
      "outputs": []
    },
    {
      "cell_type": "code",
      "source": "#Разделим обучающую выборку на признаки и целевой признак\nfeatures_rougher_train = data_train.drop(['rougher.output.recovery'], axis=1).filter(regex='^rougher',axis=1)\ntarget_rougher_train = data_train['rougher.output.recovery']\nprint(features_rougher_train.shape)\nprint(target_rougher_train.shape)\n\nfeatures_final_train = data_train.drop(['final.output.recovery', 'rougher.output.recovery'], axis=1)\ntarget_final_train = data_train['final.output.recovery']\nprint(features_final_train.shape)\nprint(target_final_train.shape)",
      "metadata": {},
      "execution_count": null,
      "outputs": []
    },
    {
      "cell_type": "code",
      "source": "#Разделим тестовую выборку на признаки и целевой признак\nfeatures_rougher_test = data_test.filter(regex='^rougher',axis=1).drop(['rougher.output.recovery'], axis=1)\ntarget_rougher_test = data_test['rougher.output.recovery']\nprint(features_rougher_test.shape)\nprint(target_rougher_test.shape)\n\nfeatures_final_test = data_test.drop(['final.output.recovery', 'rougher.output.recovery'], axis=1)\ntarget_final_test = data_test['final.output.recovery']\nprint(features_final_test.shape)\nprint(target_final_test.shape)",
      "metadata": {},
      "execution_count": null,
      "outputs": []
    },
    {
      "cell_type": "code",
      "source": "#Обучим модель решающего дерева\nfor depth in range(1, 13, 2):\n    model_tree = DecisionTreeRegressor(random_state=12345, max_depth = depth)\n    scorer = make_scorer(smape, greater_is_better=False)\n    tree_rougher = -1 * cross_val_score(model_tree, features_rougher_train, target_rougher_train, scoring=scorer, cv=5)\n    tree_final = -1 * cross_val_score(model_tree, features_final_train, target_final_train, scoring=scorer, cv=5)\n    print('Глубина:',depth)\n    print('Итоговая sMAPE:', smape_final(tree_rougher, tree_final).mean())",
      "metadata": {},
      "execution_count": null,
      "outputs": []
    },
    {
      "cell_type": "markdown",
      "source": "Лучшее значение итоговой sMAPE у дерева с глубиной **3**",
      "metadata": {}
    },
    {
      "cell_type": "code",
      "source": "#Код грузится 40 минут\n#Обучим модель случайного леса\nbest_depth = 0\nbest_est = 0\nbest_smape = 10\n\nfor est in range(10, 51, 10):   \n    for depth in range (1, 13):\n        model_forest = RandomForestRegressor(random_state=12345, n_estimators=est, max_depth=depth)\n        forest_rougher = -1 * cross_val_score(model_forest, features_rougher_train, target_rougher_train, scoring=scorer, cv=5)\n        forest_final = -1 * cross_val_score(model_forest, features_final_train, target_final_train, scoring=scorer, cv=5)\n        total_score = smape_final(forest_rougher, forest_final).mean()\n        if total_score < best_smape:\n            best_smape = total_score\n            best_est = est\n            best_depth = depth\n            \nprint('Итоговая sMAPE:', total_score)\nprint('Количество деревьев', best_est)\nprint('Лучшая глубина', best_depth)",
      "metadata": {},
      "execution_count": null,
      "outputs": []
    },
    {
      "cell_type": "markdown",
      "source": "Итоговая sMAPE случайного леса лучше, чем у решающего дерева и равна 8.79",
      "metadata": {}
    },
    {
      "cell_type": "code",
      "source": "#Обучим модель линейной регрессии\nscaler = StandardScaler()\nscaler.fit(features_rougher_train) \nfeatures_rouger_train = scaler.transform(features_rougher_train)\n\nscaler = StandardScaler()\nscaler.fit(features_final_train) \nfeatures_final_train = scaler.transform(features_final_train)\n\nmodel_reg = LinearRegression()\nreg_rougher = -1 * cross_val_score(model_reg, features_rougher_train, target_rougher_train, scoring=scorer, cv=5)\nreg_final = -1 * cross_val_score(model_reg, features_final_train, target_final_train, scoring=scorer, cv=5)\nprint('Итоговая sMAPE:', smape_final(reg_rougher, reg_final).mean())",
      "metadata": {},
      "execution_count": null,
      "outputs": []
    },
    {
      "cell_type": "markdown",
      "source": "Итоговая sMAPE линейной регрессии хуже, чем у остальных моделей",
      "metadata": {}
    },
    {
      "cell_type": "markdown",
      "source": "**Вывод:**  \nЛучший показатель sMAPE выявлен у случайного леса с количеством деревьев **20** и глубиной **4**. Его мы и проверим на тестовой выборке.",
      "metadata": {}
    },
    {
      "cell_type": "code",
      "source": "#Проверим модель на тестовой выборке\nmodel_rough = RandomForestRegressor(max_depth=4, n_estimators=20, random_state=12345)\nmodel_rough.fit(features_rougher_train, target_rougher_train)\npredict_rough = pd.Series(model_rough.predict(features_rougher_test))\nsmape_rough = smape(target_rougher_test, predict_rough).mean()\n\nmodel_final = RandomForestRegressor(max_depth=4, n_estimators=20, random_state=12345)\nmodel_final.fit(features_final_train, target_final_train)\npredict_final = pd.Series(model_final.predict(features_final_test))\nsmape_fin = smape(target_final_test, predict_final).mean()\n\nprint('Итоговая sMAPE:', smape_final(smape_rough, smape_fin).mean())",
      "metadata": {},
      "execution_count": null,
      "outputs": []
    },
    {
      "cell_type": "code",
      "source": "#Проверим адекватность модели\ndummy_rough = DummyRegressor(strategy=\"mean\")\ndummy_rough.fit(features_rougher_train, target_rougher_train)\npredict_rough = dummy_rough.predict(features_rougher_test)\nsmape_rough_dumm = smape(target_rougher_test, predict_rough).mean()\n\ndummy_final = DummyRegressor(strategy=\"mean\")\ndummy_final.fit(features_final_train, target_final_train)\npredict_final = dummy_final.predict(features_final_test)\nsmape_fin_dumm = smape(target_final_test, predict_final).mean()\n\nsmape_dummy = smape_final(smape_rough_dumm, smape_fin_dumm)\nprint('Итоговая sMAPE на dummy:', smape_dummy)",
      "metadata": {},
      "execution_count": null,
      "outputs": []
    },
    {
      "cell_type": "markdown",
      "source": "**Вывод:**  \n* Проверка на адекватность показала, что модель вменяемая\n* На тестовой выборке было получено значение итоговой sMAPE, равное **12.62**. Многовато, конечно, но приемлемо",
      "metadata": {}
    },
    {
      "cell_type": "code",
      "source": "",
      "metadata": {},
      "execution_count": null,
      "outputs": []
    }
  ]
}