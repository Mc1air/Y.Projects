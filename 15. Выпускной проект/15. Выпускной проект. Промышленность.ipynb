{
 "cells": [
  {
   "cell_type": "markdown",
   "metadata": {},
   "source": [
    "# Финальный проект. Промышленность"
   ]
  },
  {
   "cell_type": "markdown",
   "metadata": {},
   "source": [
    "## Постановка задачи"
   ]
  },
  {
   "cell_type": "markdown",
   "metadata": {},
   "source": [
    "### Условие задачи"
   ]
  },
  {
   "cell_type": "markdown",
   "metadata": {},
   "source": [
    "Чтобы оптимизировать производственные расходы, металлургический комбинат решил уменьшить потребление электроэнергии на этапе обработки стали. Нам предстоит построить модель, которая предскажет температуру стали."
   ]
  },
  {
   "cell_type": "markdown",
   "metadata": {},
   "source": [
    "### Описание этапа обработки"
   ]
  },
  {
   "cell_type": "markdown",
   "metadata": {},
   "source": [
    "Сталь обрабатывают в металлическом ковше вместимостью около 100 тонн. Чтобы ковш выдерживал высокие температуры, изнутри его облицовывают огнеупорным кирпичом. Расплавленную сталь заливают в ковш и подогревают до нужной температуры графитовыми электродами. Они установлены в крышке ковша.\n",
    "\n",
    "Из сплава выводится сера (десульфурация), добавлением примесей корректируется химический состав и отбираются пробы. Сталь легируют — изменяют её состав — подавая куски сплава из бункера для сыпучих материалов или проволоку через специальный трайб-аппарат (англ. tribe, «масса»).\n",
    "\n",
    "Перед тем как первый раз ввести легирующие добавки, измеряют температуру стали и производят её химический анализ. Потом температуру на несколько минут повышают, добавляют легирующие материалы и продувают сплав инертным газом. Затем его перемешивают и снова проводят измерения. Такой цикл повторяется до достижения целевого химического состава и оптимальной температуры плавки.\n",
    "\n",
    "Тогда расплавленная сталь отправляется на доводку металла или поступает в машину непрерывной разливки. Оттуда готовый продукт выходит в виде заготовок-слябов (англ. slab, «плита»)."
   ]
  },
  {
   "cell_type": "markdown",
   "metadata": {},
   "source": [
    "### Описание данных"
   ]
  },
  {
   "cell_type": "markdown",
   "metadata": {},
   "source": [
    "Данные состоят из файлов, полученных из разных источников:  \n",
    "  \n",
    "* **data_arc.csv** — данные об электродах;\n",
    "* **data_bulk.csv** — данные о подаче сыпучих материалов (объём);\n",
    "* **data_bulk_time.csv** — данные о подаче сыпучих материалов (время);\n",
    "* **data_gas.csv** — данные о продувке сплава газом;\n",
    "* **data_temp.csv** — результаты измерения температуры;\n",
    "* **data_wire.csv** — данные о проволочных материалах (объём);\n",
    "* **data_wire_time.csv** — данные о проволочных материалах (время).  \n",
    "  \n",
    "Во всех файлах столбец key содержит номер партии. В файлах может быть несколько строк с одинаковым значением key: они соответствуют разным итерациям обработки."
   ]
  },
  {
   "cell_type": "markdown",
   "metadata": {},
   "source": [
    "### План проекта"
   ]
  },
  {
   "cell_type": "markdown",
   "metadata": {},
   "source": [
    "* Провести исследование и предобработку данных таблиц:\n",
    "    * Изучить общую информацию о данных таблиц\n",
    "    * Построить и изучить графики\n",
    "    * Удалить аномальные значения (если они есть)\n",
    "    * Заполнить пропуски (если они есть)\n",
    "    * Очистить данные от ненужной информации, которая не пригодится для обучения модели\n",
    "    * Объединить данные в одну таблицу (чтобы в дальнейшем обучить модель)\n",
    "    * Проверить данные на мультиколлинеарность\n",
    "* Разделить данные на тренировочную и тестовую выборки.\n",
    "* Обучить модель\n",
    "* Проанализировать результаты обучения и выбрать подходящую модель для проверки\n",
    "* Провести анализ важности факторов у лучшей модели\n",
    "* Проверить модель на тестовой выборке\n",
    "* Сделать выводы"
   ]
  },
  {
   "cell_type": "markdown",
   "metadata": {},
   "source": [
    "### Импорт необходимых библиотек"
   ]
  },
  {
   "cell_type": "code",
   "execution_count": 1,
   "metadata": {},
   "outputs": [],
   "source": [
    "import pandas as pd\n",
    "import numpy as np\n",
    "import matplotlib.pyplot as plt\n",
    "import seaborn as sns \n",
    "\n",
    "from sklearn.model_selection import train_test_split\n",
    "from sklearn.metrics import mean_absolute_error\n",
    "from sklearn.preprocessing import StandardScaler\n",
    "from sklearn.model_selection import cross_val_score\n",
    "from sklearn.model_selection import GridSearchCV\n",
    "from sklearn.linear_model import LinearRegression\n",
    "from sklearn.ensemble import RandomForestRegressor\n",
    "from lightgbm import LGBMRegressor\n",
    "\n",
    "import warnings\n",
    "warnings.filterwarnings('ignore')"
   ]
  },
  {
   "cell_type": "markdown",
   "metadata": {},
   "source": [
    "## Исследовательский анализ данных таблиц"
   ]
  },
  {
   "cell_type": "markdown",
   "metadata": {},
   "source": [
    "### Загрузка данных"
   ]
  },
  {
   "cell_type": "code",
   "execution_count": 2,
   "metadata": {},
   "outputs": [],
   "source": [
    "data_arc = pd.read_csv('/datasets/final_steel/data_arc.csv')  \n",
    "data_bulk = pd.read_csv('/datasets/final_steel/data_bulk.csv')  \n",
    "data_bulk_time = pd.read_csv('/datasets/final_steel/data_bulk_time.csv')  \n",
    "data_gas = pd.read_csv('/datasets/final_steel/data_gas.csv')  \n",
    "data_temp = pd.read_csv('/datasets/final_steel/data_temp.csv')  \n",
    "data_wire = pd.read_csv('/datasets/final_steel/data_wire.csv')  \n",
    "data_wire_time = pd.read_csv('/datasets/final_steel/data_wire_time.csv') "
   ]
  },
  {
   "cell_type": "markdown",
   "metadata": {},
   "source": [
    "### Изучение общей информации и предобработка данных"
   ]
  },
  {
   "cell_type": "code",
   "execution_count": 3,
   "metadata": {},
   "outputs": [
    {
     "name": "stdout",
     "output_type": "stream",
     "text": [
      "<class 'pandas.core.frame.DataFrame'>\n",
      "\n",
      "RangeIndex: 14876 entries, 0 to 14875\n",
      "\n",
      "Data columns (total 5 columns):\n",
      "\n",
      " #   Column                Non-Null Count  Dtype  \n",
      "\n",
      "---  ------                --------------  -----  \n",
      "\n",
      " 0   key                   14876 non-null  int64  \n",
      "\n",
      " 1   Начало нагрева дугой  14876 non-null  object \n",
      "\n",
      " 2   Конец нагрева дугой   14876 non-null  object \n",
      "\n",
      " 3   Активная мощность     14876 non-null  float64\n",
      "\n",
      " 4   Реактивная мощность   14876 non-null  float64\n",
      "\n",
      "dtypes: float64(2), int64(1), object(2)\n",
      "\n",
      "memory usage: 581.2+ KB\n"
     ]
    }
   ],
   "source": [
    "data_arc.info()"
   ]
  },
  {
   "cell_type": "code",
   "execution_count": 4,
   "metadata": {},
   "outputs": [
    {
     "data": {
      "text/html": [
       "<div>\n",
       "<style scoped>\n",
       "    .dataframe tbody tr th:only-of-type {\n",
       "        vertical-align: middle;\n",
       "    }\n",
       "\n",
       "    .dataframe tbody tr th {\n",
       "        vertical-align: top;\n",
       "    }\n",
       "\n",
       "    .dataframe thead th {\n",
       "        text-align: right;\n",
       "    }\n",
       "</style>\n",
       "<table border=\"1\" class=\"dataframe\">\n",
       "  <thead>\n",
       "    <tr style=\"text-align: right;\">\n",
       "      <th></th>\n",
       "      <th>key</th>\n",
       "      <th>Начало нагрева дугой</th>\n",
       "      <th>Конец нагрева дугой</th>\n",
       "      <th>Активная мощность</th>\n",
       "      <th>Реактивная мощность</th>\n",
       "    </tr>\n",
       "  </thead>\n",
       "  <tbody>\n",
       "    <tr>\n",
       "      <th>0</th>\n",
       "      <td>1</td>\n",
       "      <td>2019-05-03 11:02:14</td>\n",
       "      <td>2019-05-03 11:06:02</td>\n",
       "      <td>0.976059</td>\n",
       "      <td>0.687084</td>\n",
       "    </tr>\n",
       "    <tr>\n",
       "      <th>1</th>\n",
       "      <td>1</td>\n",
       "      <td>2019-05-03 11:07:28</td>\n",
       "      <td>2019-05-03 11:10:33</td>\n",
       "      <td>0.805607</td>\n",
       "      <td>0.520285</td>\n",
       "    </tr>\n",
       "    <tr>\n",
       "      <th>2</th>\n",
       "      <td>1</td>\n",
       "      <td>2019-05-03 11:11:44</td>\n",
       "      <td>2019-05-03 11:14:36</td>\n",
       "      <td>0.744363</td>\n",
       "      <td>0.498805</td>\n",
       "    </tr>\n",
       "    <tr>\n",
       "      <th>3</th>\n",
       "      <td>1</td>\n",
       "      <td>2019-05-03 11:18:14</td>\n",
       "      <td>2019-05-03 11:24:19</td>\n",
       "      <td>1.659363</td>\n",
       "      <td>1.062669</td>\n",
       "    </tr>\n",
       "    <tr>\n",
       "      <th>4</th>\n",
       "      <td>1</td>\n",
       "      <td>2019-05-03 11:26:09</td>\n",
       "      <td>2019-05-03 11:28:37</td>\n",
       "      <td>0.692755</td>\n",
       "      <td>0.414397</td>\n",
       "    </tr>\n",
       "  </tbody>\n",
       "</table>\n",
       "</div>"
      ],
      "text/plain": [
       "   key Начало нагрева дугой  Конец нагрева дугой  Активная мощность  \\\n",
       "0    1  2019-05-03 11:02:14  2019-05-03 11:06:02           0.976059   \n",
       "1    1  2019-05-03 11:07:28  2019-05-03 11:10:33           0.805607   \n",
       "2    1  2019-05-03 11:11:44  2019-05-03 11:14:36           0.744363   \n",
       "3    1  2019-05-03 11:18:14  2019-05-03 11:24:19           1.659363   \n",
       "4    1  2019-05-03 11:26:09  2019-05-03 11:28:37           0.692755   \n",
       "\n",
       "   Реактивная мощность  \n",
       "0             0.687084  \n",
       "1             0.520285  \n",
       "2             0.498805  \n",
       "3             1.062669  \n",
       "4             0.414397  "
      ]
     },
     "execution_count": 4,
     "metadata": {},
     "output_type": "execute_result"
    }
   ],
   "source": [
    "data_arc.head()"
   ]
  },
  {
   "cell_type": "markdown",
   "metadata": {},
   "source": [
    "Пропусков нет, однако, у двух столбцов неправильный тип данных. Изменим его"
   ]
  },
  {
   "cell_type": "code",
   "execution_count": 5,
   "metadata": {},
   "outputs": [],
   "source": [
    "data_arc['Начало нагрева дугой'] = pd.to_datetime(data_arc['Начало нагрева дугой'])\n",
    "data_arc['Конец нагрева дугой'] = pd.to_datetime(data_arc['Конец нагрева дугой'])"
   ]
  },
  {
   "cell_type": "code",
   "execution_count": 6,
   "metadata": {},
   "outputs": [
    {
     "name": "stdout",
     "output_type": "stream",
     "text": [
      "<class 'pandas.core.frame.DataFrame'>\n",
      "\n",
      "RangeIndex: 14876 entries, 0 to 14875\n",
      "\n",
      "Data columns (total 5 columns):\n",
      "\n",
      " #   Column                Non-Null Count  Dtype         \n",
      "\n",
      "---  ------                --------------  -----         \n",
      "\n",
      " 0   key                   14876 non-null  int64         \n",
      "\n",
      " 1   Начало нагрева дугой  14876 non-null  datetime64[ns]\n",
      "\n",
      " 2   Конец нагрева дугой   14876 non-null  datetime64[ns]\n",
      "\n",
      " 3   Активная мощность     14876 non-null  float64       \n",
      "\n",
      " 4   Реактивная мощность   14876 non-null  float64       \n",
      "\n",
      "dtypes: datetime64[ns](2), float64(2), int64(1)\n",
      "\n",
      "memory usage: 581.2 KB\n"
     ]
    }
   ],
   "source": [
    "#Проверим изменения\n",
    "data_arc.info()"
   ]
  },
  {
   "cell_type": "code",
   "execution_count": 7,
   "metadata": {},
   "outputs": [
    {
     "data": {
      "text/plain": [
       "0"
      ]
     },
     "execution_count": 7,
     "metadata": {},
     "output_type": "execute_result"
    }
   ],
   "source": [
    "#Проверим наличие дубликатов\n",
    "data_arc.duplicated().sum()"
   ]
  },
  {
   "cell_type": "code",
   "execution_count": 8,
   "metadata": {},
   "outputs": [
    {
     "data": {
      "text/html": [
       "<div>\n",
       "<style scoped>\n",
       "    .dataframe tbody tr th:only-of-type {\n",
       "        vertical-align: middle;\n",
       "    }\n",
       "\n",
       "    .dataframe tbody tr th {\n",
       "        vertical-align: top;\n",
       "    }\n",
       "\n",
       "    .dataframe thead th {\n",
       "        text-align: right;\n",
       "    }\n",
       "</style>\n",
       "<table border=\"1\" class=\"dataframe\">\n",
       "  <thead>\n",
       "    <tr style=\"text-align: right;\">\n",
       "      <th></th>\n",
       "      <th>key</th>\n",
       "      <th>Активная мощность</th>\n",
       "      <th>Реактивная мощность</th>\n",
       "    </tr>\n",
       "  </thead>\n",
       "  <tbody>\n",
       "    <tr>\n",
       "      <th>count</th>\n",
       "      <td>14876.000000</td>\n",
       "      <td>14876.000000</td>\n",
       "      <td>14876.000000</td>\n",
       "    </tr>\n",
       "    <tr>\n",
       "      <th>mean</th>\n",
       "      <td>1615.220422</td>\n",
       "      <td>0.670441</td>\n",
       "      <td>0.452592</td>\n",
       "    </tr>\n",
       "    <tr>\n",
       "      <th>std</th>\n",
       "      <td>934.571502</td>\n",
       "      <td>0.408159</td>\n",
       "      <td>5.878702</td>\n",
       "    </tr>\n",
       "    <tr>\n",
       "      <th>min</th>\n",
       "      <td>1.000000</td>\n",
       "      <td>0.030002</td>\n",
       "      <td>-715.504924</td>\n",
       "    </tr>\n",
       "    <tr>\n",
       "      <th>25%</th>\n",
       "      <td>806.000000</td>\n",
       "      <td>0.395297</td>\n",
       "      <td>0.290991</td>\n",
       "    </tr>\n",
       "    <tr>\n",
       "      <th>50%</th>\n",
       "      <td>1617.000000</td>\n",
       "      <td>0.555517</td>\n",
       "      <td>0.415962</td>\n",
       "    </tr>\n",
       "    <tr>\n",
       "      <th>75%</th>\n",
       "      <td>2429.000000</td>\n",
       "      <td>0.857034</td>\n",
       "      <td>0.637371</td>\n",
       "    </tr>\n",
       "    <tr>\n",
       "      <th>max</th>\n",
       "      <td>3241.000000</td>\n",
       "      <td>3.731596</td>\n",
       "      <td>2.676388</td>\n",
       "    </tr>\n",
       "  </tbody>\n",
       "</table>\n",
       "</div>"
      ],
      "text/plain": [
       "                key  Активная мощность  Реактивная мощность\n",
       "count  14876.000000       14876.000000         14876.000000\n",
       "mean    1615.220422           0.670441             0.452592\n",
       "std      934.571502           0.408159             5.878702\n",
       "min        1.000000           0.030002          -715.504924\n",
       "25%      806.000000           0.395297             0.290991\n",
       "50%     1617.000000           0.555517             0.415962\n",
       "75%     2429.000000           0.857034             0.637371\n",
       "max     3241.000000           3.731596             2.676388"
      ]
     },
     "execution_count": 8,
     "metadata": {},
     "output_type": "execute_result"
    }
   ],
   "source": [
    "data_arc.describe()"
   ]
  },
  {
   "cell_type": "markdown",
   "metadata": {},
   "source": [
    "В минимуме реактивной мощности явно присутствуют выбросы"
   ]
  },
  {
   "cell_type": "code",
   "execution_count": 9,
   "metadata": {},
   "outputs": [
    {
     "data": {
      "text/plain": [
       "Text(0.5, 0, 'Мощность')"
      ]
     },
     "execution_count": 9,
     "metadata": {},
     "output_type": "execute_result"
    },
    {
     "data": {
      "image/png": "[encoded data removed]",
      "text/plain": [
       "<Figure size 1080x720 with 1 Axes>"
      ]
     },
     "metadata": {
      "needs_background": "light"
     },
     "output_type": "display_data"
    }
   ],
   "source": [
    "rp = data_arc['Реактивная мощность'].hist(bins=100, figsize=(15, 10))\n",
    "rp.set_title('Распределение реактивной мощности')\n",
    "rp.set_ylabel('Количество')\n",
    "rp.set_xlabel('Мощность')"
   ]
  },
  {
   "cell_type": "markdown",
   "metadata": {},
   "source": [
    "Все значения расположены около 0. Отсортируем значения в столбце \"Реактивная мощность\" по возрастанию и выведем на экран 5 первых значений."
   ]
  },
  {
   "cell_type": "code",
   "execution_count": 10,
   "metadata": {},
   "outputs": [
    {
     "data": {
      "text/html": [
       "<div>\n",
       "<style scoped>\n",
       "    .dataframe tbody tr th:only-of-type {\n",
       "        vertical-align: middle;\n",
       "    }\n",
       "\n",
       "    .dataframe tbody tr th {\n",
       "        vertical-align: top;\n",
       "    }\n",
       "\n",
       "    .dataframe thead th {\n",
       "        text-align: right;\n",
       "    }\n",
       "</style>\n",
       "<table border=\"1\" class=\"dataframe\">\n",
       "  <thead>\n",
       "    <tr style=\"text-align: right;\">\n",
       "      <th></th>\n",
       "      <th>key</th>\n",
       "      <th>Начало нагрева дугой</th>\n",
       "      <th>Конец нагрева дугой</th>\n",
       "      <th>Активная мощность</th>\n",
       "      <th>Реактивная мощность</th>\n",
       "    </tr>\n",
       "  </thead>\n",
       "  <tbody>\n",
       "    <tr>\n",
       "      <th>9780</th>\n",
       "      <td>2116</td>\n",
       "      <td>2019-07-24 00:44:48</td>\n",
       "      <td>2019-07-24 00:46:37</td>\n",
       "      <td>0.495782</td>\n",
       "      <td>-715.504924</td>\n",
       "    </tr>\n",
       "    <tr>\n",
       "      <th>5596</th>\n",
       "      <td>1216</td>\n",
       "      <td>2019-06-16 08:22:19</td>\n",
       "      <td>2019-06-16 08:22:30</td>\n",
       "      <td>0.030188</td>\n",
       "      <td>0.020806</td>\n",
       "    </tr>\n",
       "    <tr>\n",
       "      <th>2419</th>\n",
       "      <td>521</td>\n",
       "      <td>2019-05-22 17:42:57</td>\n",
       "      <td>2019-05-22 17:43:11</td>\n",
       "      <td>0.030563</td>\n",
       "      <td>0.021154</td>\n",
       "    </tr>\n",
       "    <tr>\n",
       "      <th>4914</th>\n",
       "      <td>1060</td>\n",
       "      <td>2019-06-11 04:31:57</td>\n",
       "      <td>2019-06-11 04:32:08</td>\n",
       "      <td>0.031630</td>\n",
       "      <td>0.022485</td>\n",
       "    </tr>\n",
       "    <tr>\n",
       "      <th>4633</th>\n",
       "      <td>1000</td>\n",
       "      <td>2019-06-09 01:17:44</td>\n",
       "      <td>2019-06-09 01:17:57</td>\n",
       "      <td>0.038186</td>\n",
       "      <td>0.022983</td>\n",
       "    </tr>\n",
       "  </tbody>\n",
       "</table>\n",
       "</div>"
      ],
      "text/plain": [
       "       key Начало нагрева дугой Конец нагрева дугой  Активная мощность  \\\n",
       "9780  2116  2019-07-24 00:44:48 2019-07-24 00:46:37           0.495782   \n",
       "5596  1216  2019-06-16 08:22:19 2019-06-16 08:22:30           0.030188   \n",
       "2419   521  2019-05-22 17:42:57 2019-05-22 17:43:11           0.030563   \n",
       "4914  1060  2019-06-11 04:31:57 2019-06-11 04:32:08           0.031630   \n",
       "4633  1000  2019-06-09 01:17:44 2019-06-09 01:17:57           0.038186   \n",
       "\n",
       "      Реактивная мощность  \n",
       "9780          -715.504924  \n",
       "5596             0.020806  \n",
       "2419             0.021154  \n",
       "4914             0.022485  \n",
       "4633             0.022983  "
      ]
     },
     "execution_count": 10,
     "metadata": {},
     "output_type": "execute_result"
    }
   ],
   "source": [
    "data_arc.sort_values(by=['Реактивная мощность']).head()"
   ]
  },
  {
   "cell_type": "markdown",
   "metadata": {},
   "source": [
    "Минусовое значение только одно, поэтому оно незаметно на графике. Посмотрим всю партию."
   ]
  },
  {
   "cell_type": "code",
   "execution_count": 11,
   "metadata": {},
   "outputs": [
    {
     "data": {
      "text/html": [
       "<div>\n",
       "<style scoped>\n",
       "    .dataframe tbody tr th:only-of-type {\n",
       "        vertical-align: middle;\n",
       "    }\n",
       "\n",
       "    .dataframe tbody tr th {\n",
       "        vertical-align: top;\n",
       "    }\n",
       "\n",
       "    .dataframe thead th {\n",
       "        text-align: right;\n",
       "    }\n",
       "</style>\n",
       "<table border=\"1\" class=\"dataframe\">\n",
       "  <thead>\n",
       "    <tr style=\"text-align: right;\">\n",
       "      <th></th>\n",
       "      <th>key</th>\n",
       "      <th>Начало нагрева дугой</th>\n",
       "      <th>Конец нагрева дугой</th>\n",
       "      <th>Активная мощность</th>\n",
       "      <th>Реактивная мощность</th>\n",
       "    </tr>\n",
       "  </thead>\n",
       "  <tbody>\n",
       "    <tr>\n",
       "      <th>9778</th>\n",
       "      <td>2116</td>\n",
       "      <td>2019-07-24 00:29:52</td>\n",
       "      <td>2019-07-24 00:31:54</td>\n",
       "      <td>0.433266</td>\n",
       "      <td>0.306141</td>\n",
       "    </tr>\n",
       "    <tr>\n",
       "      <th>9779</th>\n",
       "      <td>2116</td>\n",
       "      <td>2019-07-24 00:35:50</td>\n",
       "      <td>2019-07-24 00:38:05</td>\n",
       "      <td>0.620265</td>\n",
       "      <td>0.408352</td>\n",
       "    </tr>\n",
       "    <tr>\n",
       "      <th>9780</th>\n",
       "      <td>2116</td>\n",
       "      <td>2019-07-24 00:44:48</td>\n",
       "      <td>2019-07-24 00:46:37</td>\n",
       "      <td>0.495782</td>\n",
       "      <td>-715.504924</td>\n",
       "    </tr>\n",
       "    <tr>\n",
       "      <th>9781</th>\n",
       "      <td>2116</td>\n",
       "      <td>2019-07-24 00:51:51</td>\n",
       "      <td>2019-07-24 00:52:58</td>\n",
       "      <td>0.299368</td>\n",
       "      <td>0.198796</td>\n",
       "    </tr>\n",
       "  </tbody>\n",
       "</table>\n",
       "</div>"
      ],
      "text/plain": [
       "       key Начало нагрева дугой Конец нагрева дугой  Активная мощность  \\\n",
       "9778  2116  2019-07-24 00:29:52 2019-07-24 00:31:54           0.433266   \n",
       "9779  2116  2019-07-24 00:35:50 2019-07-24 00:38:05           0.620265   \n",
       "9780  2116  2019-07-24 00:44:48 2019-07-24 00:46:37           0.495782   \n",
       "9781  2116  2019-07-24 00:51:51 2019-07-24 00:52:58           0.299368   \n",
       "\n",
       "      Реактивная мощность  \n",
       "9778             0.306141  \n",
       "9779             0.408352  \n",
       "9780          -715.504924  \n",
       "9781             0.198796  "
      ]
     },
     "execution_count": 11,
     "metadata": {},
     "output_type": "execute_result"
    }
   ],
   "source": [
    "data_arc[data_arc['key'] == 2116]"
   ]
  },
  {
   "cell_type": "markdown",
   "metadata": {},
   "source": [
    "Строка с выбросом не последняя в партии, поэтому удалим эту строку с выбросом."
   ]
  },
  {
   "cell_type": "code",
   "execution_count": 12,
   "metadata": {},
   "outputs": [],
   "source": [
    "data_arc = data_arc[data_arc['Реактивная мощность'] >=0]"
   ]
  },
  {
   "cell_type": "code",
   "execution_count": 13,
   "metadata": {},
   "outputs": [
    {
     "data": {
      "text/plain": [
       "<AxesSubplot:>"
      ]
     },
     "execution_count": 13,
     "metadata": {},
     "output_type": "execute_result"
    },
    {
     "data": {
      "image/png": "[encoded data removed]",
      "text/plain": [
       "<Figure size 1080x720 with 1 Axes>"
      ]
     },
     "metadata": {
      "needs_background": "light"
     },
     "output_type": "display_data"
    }
   ],
   "source": [
    "#Посмотрим на изменения, построив график усов\n",
    "data_arc.boxplot('Реактивная мощность', figsize=(15, 10))"
   ]
  },
  {
   "cell_type": "markdown",
   "metadata": {},
   "source": [
    "Выброса нет, можно идти дальше"
   ]
  },
  {
   "cell_type": "code",
   "execution_count": 14,
   "metadata": {},
   "outputs": [],
   "source": [
    "#Рассчитаем полную мощность\n",
    "data_arc['Полная мощность'] = (data_arc['Активная мощность'] ** 2 + data_arc['Реактивная мощность'] ** 2) ** (0.5)"
   ]
  },
  {
   "cell_type": "code",
   "execution_count": 15,
   "metadata": {},
   "outputs": [],
   "source": [
    "#Рассчитаем время нагрева в секундах\n",
    "data_arc['Время нагрева'] = (data_arc['Конец нагрева дугой'] - data_arc['Начало нагрева дугой'])\n",
    "data_arc['Время нагрева'] = data_arc['Время нагрева'].apply(pd.Timedelta.total_seconds).astype('int')"
   ]
  },
  {
   "cell_type": "code",
   "execution_count": 16,
   "metadata": {},
   "outputs": [],
   "source": [
    "#Оставим в таблице только ключ, время нагрева и полную мощность\n",
    "new_data_arc = data_arc.groupby('key').sum()[['Полная мощность', 'Время нагрева']].reset_index()"
   ]
  },
  {
   "cell_type": "code",
   "execution_count": 17,
   "metadata": {},
   "outputs": [
    {
     "data": {
      "text/html": [
       "<div>\n",
       "<style scoped>\n",
       "    .dataframe tbody tr th:only-of-type {\n",
       "        vertical-align: middle;\n",
       "    }\n",
       "\n",
       "    .dataframe tbody tr th {\n",
       "        vertical-align: top;\n",
       "    }\n",
       "\n",
       "    .dataframe thead th {\n",
       "        text-align: right;\n",
       "    }\n",
       "</style>\n",
       "<table border=\"1\" class=\"dataframe\">\n",
       "  <thead>\n",
       "    <tr style=\"text-align: right;\">\n",
       "      <th></th>\n",
       "      <th>key</th>\n",
       "      <th>Полная мощность</th>\n",
       "      <th>Время нагрева</th>\n",
       "    </tr>\n",
       "  </thead>\n",
       "  <tbody>\n",
       "    <tr>\n",
       "      <th>0</th>\n",
       "      <td>1</td>\n",
       "      <td>5.826395</td>\n",
       "      <td>1098</td>\n",
       "    </tr>\n",
       "    <tr>\n",
       "      <th>1</th>\n",
       "      <td>2</td>\n",
       "      <td>3.649216</td>\n",
       "      <td>811</td>\n",
       "    </tr>\n",
       "    <tr>\n",
       "      <th>2</th>\n",
       "      <td>3</td>\n",
       "      <td>2.989534</td>\n",
       "      <td>655</td>\n",
       "    </tr>\n",
       "    <tr>\n",
       "      <th>3</th>\n",
       "      <td>4</td>\n",
       "      <td>3.814962</td>\n",
       "      <td>741</td>\n",
       "    </tr>\n",
       "    <tr>\n",
       "      <th>4</th>\n",
       "      <td>5</td>\n",
       "      <td>4.035758</td>\n",
       "      <td>869</td>\n",
       "    </tr>\n",
       "    <tr>\n",
       "      <th>...</th>\n",
       "      <td>...</td>\n",
       "      <td>...</td>\n",
       "      <td>...</td>\n",
       "    </tr>\n",
       "    <tr>\n",
       "      <th>3209</th>\n",
       "      <td>3237</td>\n",
       "      <td>4.844982</td>\n",
       "      <td>909</td>\n",
       "    </tr>\n",
       "    <tr>\n",
       "      <th>3210</th>\n",
       "      <td>3238</td>\n",
       "      <td>2.696542</td>\n",
       "      <td>546</td>\n",
       "    </tr>\n",
       "    <tr>\n",
       "      <th>3211</th>\n",
       "      <td>3239</td>\n",
       "      <td>5.611883</td>\n",
       "      <td>1216</td>\n",
       "    </tr>\n",
       "    <tr>\n",
       "      <th>3212</th>\n",
       "      <td>3240</td>\n",
       "      <td>3.891856</td>\n",
       "      <td>839</td>\n",
       "    </tr>\n",
       "    <tr>\n",
       "      <th>3213</th>\n",
       "      <td>3241</td>\n",
       "      <td>2.999516</td>\n",
       "      <td>659</td>\n",
       "    </tr>\n",
       "  </tbody>\n",
       "</table>\n",
       "<p>3214 rows × 3 columns</p>\n",
       "</div>"
      ],
      "text/plain": [
       "       key  Полная мощность  Время нагрева\n",
       "0        1         5.826395           1098\n",
       "1        2         3.649216            811\n",
       "2        3         2.989534            655\n",
       "3        4         3.814962            741\n",
       "4        5         4.035758            869\n",
       "...    ...              ...            ...\n",
       "3209  3237         4.844982            909\n",
       "3210  3238         2.696542            546\n",
       "3211  3239         5.611883           1216\n",
       "3212  3240         3.891856            839\n",
       "3213  3241         2.999516            659\n",
       "\n",
       "[3214 rows x 3 columns]"
      ]
     },
     "execution_count": 17,
     "metadata": {},
     "output_type": "execute_result"
    }
   ],
   "source": [
    "#Посмотрим новую таблицу\n",
    "new_data_arc"
   ]
  },
  {
   "cell_type": "code",
   "execution_count": 18,
   "metadata": {},
   "outputs": [
    {
     "data": {
      "text/html": [
       "<div>\n",
       "<style scoped>\n",
       "    .dataframe tbody tr th:only-of-type {\n",
       "        vertical-align: middle;\n",
       "    }\n",
       "\n",
       "    .dataframe tbody tr th {\n",
       "        vertical-align: top;\n",
       "    }\n",
       "\n",
       "    .dataframe thead th {\n",
       "        text-align: right;\n",
       "    }\n",
       "</style>\n",
       "<table border=\"1\" class=\"dataframe\">\n",
       "  <thead>\n",
       "    <tr style=\"text-align: right;\">\n",
       "      <th></th>\n",
       "      <th>key</th>\n",
       "      <th>power_full</th>\n",
       "      <th>heating_time</th>\n",
       "    </tr>\n",
       "  </thead>\n",
       "  <tbody>\n",
       "    <tr>\n",
       "      <th>0</th>\n",
       "      <td>1</td>\n",
       "      <td>5.826395</td>\n",
       "      <td>1098</td>\n",
       "    </tr>\n",
       "    <tr>\n",
       "      <th>1</th>\n",
       "      <td>2</td>\n",
       "      <td>3.649216</td>\n",
       "      <td>811</td>\n",
       "    </tr>\n",
       "    <tr>\n",
       "      <th>2</th>\n",
       "      <td>3</td>\n",
       "      <td>2.989534</td>\n",
       "      <td>655</td>\n",
       "    </tr>\n",
       "    <tr>\n",
       "      <th>3</th>\n",
       "      <td>4</td>\n",
       "      <td>3.814962</td>\n",
       "      <td>741</td>\n",
       "    </tr>\n",
       "    <tr>\n",
       "      <th>4</th>\n",
       "      <td>5</td>\n",
       "      <td>4.035758</td>\n",
       "      <td>869</td>\n",
       "    </tr>\n",
       "    <tr>\n",
       "      <th>...</th>\n",
       "      <td>...</td>\n",
       "      <td>...</td>\n",
       "      <td>...</td>\n",
       "    </tr>\n",
       "    <tr>\n",
       "      <th>3209</th>\n",
       "      <td>3237</td>\n",
       "      <td>4.844982</td>\n",
       "      <td>909</td>\n",
       "    </tr>\n",
       "    <tr>\n",
       "      <th>3210</th>\n",
       "      <td>3238</td>\n",
       "      <td>2.696542</td>\n",
       "      <td>546</td>\n",
       "    </tr>\n",
       "    <tr>\n",
       "      <th>3211</th>\n",
       "      <td>3239</td>\n",
       "      <td>5.611883</td>\n",
       "      <td>1216</td>\n",
       "    </tr>\n",
       "    <tr>\n",
       "      <th>3212</th>\n",
       "      <td>3240</td>\n",
       "      <td>3.891856</td>\n",
       "      <td>839</td>\n",
       "    </tr>\n",
       "    <tr>\n",
       "      <th>3213</th>\n",
       "      <td>3241</td>\n",
       "      <td>2.999516</td>\n",
       "      <td>659</td>\n",
       "    </tr>\n",
       "  </tbody>\n",
       "</table>\n",
       "<p>3214 rows × 3 columns</p>\n",
       "</div>"
      ],
      "text/plain": [
       "       key  power_full  heating_time\n",
       "0        1    5.826395          1098\n",
       "1        2    3.649216           811\n",
       "2        3    2.989534           655\n",
       "3        4    3.814962           741\n",
       "4        5    4.035758           869\n",
       "...    ...         ...           ...\n",
       "3209  3237    4.844982           909\n",
       "3210  3238    2.696542           546\n",
       "3211  3239    5.611883          1216\n",
       "3212  3240    3.891856           839\n",
       "3213  3241    2.999516           659\n",
       "\n",
       "[3214 rows x 3 columns]"
      ]
     },
     "execution_count": 18,
     "metadata": {},
     "output_type": "execute_result"
    }
   ],
   "source": [
    "#Переименуем столбцы\n",
    "new_data_arc.columns = ['key', 'power_full', 'heating_time']\n",
    "new_data_arc"
   ]
  },
  {
   "cell_type": "markdown",
   "metadata": {},
   "source": [
    "Данные по мощностям обработали, переходим к следующей таблице."
   ]
  },
  {
   "cell_type": "code",
   "execution_count": 19,
   "metadata": {},
   "outputs": [
    {
     "name": "stdout",
     "output_type": "stream",
     "text": [
      "<class 'pandas.core.frame.DataFrame'>\n",
      "\n",
      "RangeIndex: 3129 entries, 0 to 3128\n",
      "\n",
      "Data columns (total 16 columns):\n",
      "\n",
      " #   Column   Non-Null Count  Dtype  \n",
      "\n",
      "---  ------   --------------  -----  \n",
      "\n",
      " 0   key      3129 non-null   int64  \n",
      "\n",
      " 1   Bulk 1   252 non-null    float64\n",
      "\n",
      " 2   Bulk 2   22 non-null     float64\n",
      "\n",
      " 3   Bulk 3   1298 non-null   float64\n",
      "\n",
      " 4   Bulk 4   1014 non-null   float64\n",
      "\n",
      " 5   Bulk 5   77 non-null     float64\n",
      "\n",
      " 6   Bulk 6   576 non-null    float64\n",
      "\n",
      " 7   Bulk 7   25 non-null     float64\n",
      "\n",
      " 8   Bulk 8   1 non-null      float64\n",
      "\n",
      " 9   Bulk 9   19 non-null     float64\n",
      "\n",
      " 10  Bulk 10  176 non-null    float64\n",
      "\n",
      " 11  Bulk 11  177 non-null    float64\n",
      "\n",
      " 12  Bulk 12  2450 non-null   float64\n",
      "\n",
      " 13  Bulk 13  18 non-null     float64\n",
      "\n",
      " 14  Bulk 14  2806 non-null   float64\n",
      "\n",
      " 15  Bulk 15  2248 non-null   float64\n",
      "\n",
      "dtypes: float64(15), int64(1)\n",
      "\n",
      "memory usage: 391.2 KB\n"
     ]
    }
   ],
   "source": [
    "data_bulk.info()"
   ]
  },
  {
   "cell_type": "code",
   "execution_count": 20,
   "metadata": {},
   "outputs": [
    {
     "data": {
      "text/html": [
       "<div>\n",
       "<style scoped>\n",
       "    .dataframe tbody tr th:only-of-type {\n",
       "        vertical-align: middle;\n",
       "    }\n",
       "\n",
       "    .dataframe tbody tr th {\n",
       "        vertical-align: top;\n",
       "    }\n",
       "\n",
       "    .dataframe thead th {\n",
       "        text-align: right;\n",
       "    }\n",
       "</style>\n",
       "<table border=\"1\" class=\"dataframe\">\n",
       "  <thead>\n",
       "    <tr style=\"text-align: right;\">\n",
       "      <th></th>\n",
       "      <th>key</th>\n",
       "      <th>Bulk 1</th>\n",
       "      <th>Bulk 2</th>\n",
       "      <th>Bulk 3</th>\n",
       "      <th>Bulk 4</th>\n",
       "      <th>Bulk 5</th>\n",
       "      <th>Bulk 6</th>\n",
       "      <th>Bulk 7</th>\n",
       "      <th>Bulk 8</th>\n",
       "      <th>Bulk 9</th>\n",
       "      <th>Bulk 10</th>\n",
       "      <th>Bulk 11</th>\n",
       "      <th>Bulk 12</th>\n",
       "      <th>Bulk 13</th>\n",
       "      <th>Bulk 14</th>\n",
       "      <th>Bulk 15</th>\n",
       "    </tr>\n",
       "  </thead>\n",
       "  <tbody>\n",
       "    <tr>\n",
       "      <th>0</th>\n",
       "      <td>1</td>\n",
       "      <td>NaN</td>\n",
       "      <td>NaN</td>\n",
       "      <td>NaN</td>\n",
       "      <td>43.0</td>\n",
       "      <td>NaN</td>\n",
       "      <td>NaN</td>\n",
       "      <td>NaN</td>\n",
       "      <td>NaN</td>\n",
       "      <td>NaN</td>\n",
       "      <td>NaN</td>\n",
       "      <td>NaN</td>\n",
       "      <td>206.0</td>\n",
       "      <td>NaN</td>\n",
       "      <td>150.0</td>\n",
       "      <td>154.0</td>\n",
       "    </tr>\n",
       "    <tr>\n",
       "      <th>1</th>\n",
       "      <td>2</td>\n",
       "      <td>NaN</td>\n",
       "      <td>NaN</td>\n",
       "      <td>NaN</td>\n",
       "      <td>73.0</td>\n",
       "      <td>NaN</td>\n",
       "      <td>NaN</td>\n",
       "      <td>NaN</td>\n",
       "      <td>NaN</td>\n",
       "      <td>NaN</td>\n",
       "      <td>NaN</td>\n",
       "      <td>NaN</td>\n",
       "      <td>206.0</td>\n",
       "      <td>NaN</td>\n",
       "      <td>149.0</td>\n",
       "      <td>154.0</td>\n",
       "    </tr>\n",
       "    <tr>\n",
       "      <th>2</th>\n",
       "      <td>3</td>\n",
       "      <td>NaN</td>\n",
       "      <td>NaN</td>\n",
       "      <td>NaN</td>\n",
       "      <td>34.0</td>\n",
       "      <td>NaN</td>\n",
       "      <td>NaN</td>\n",
       "      <td>NaN</td>\n",
       "      <td>NaN</td>\n",
       "      <td>NaN</td>\n",
       "      <td>NaN</td>\n",
       "      <td>NaN</td>\n",
       "      <td>205.0</td>\n",
       "      <td>NaN</td>\n",
       "      <td>152.0</td>\n",
       "      <td>153.0</td>\n",
       "    </tr>\n",
       "    <tr>\n",
       "      <th>3</th>\n",
       "      <td>4</td>\n",
       "      <td>NaN</td>\n",
       "      <td>NaN</td>\n",
       "      <td>NaN</td>\n",
       "      <td>81.0</td>\n",
       "      <td>NaN</td>\n",
       "      <td>NaN</td>\n",
       "      <td>NaN</td>\n",
       "      <td>NaN</td>\n",
       "      <td>NaN</td>\n",
       "      <td>NaN</td>\n",
       "      <td>NaN</td>\n",
       "      <td>207.0</td>\n",
       "      <td>NaN</td>\n",
       "      <td>153.0</td>\n",
       "      <td>154.0</td>\n",
       "    </tr>\n",
       "    <tr>\n",
       "      <th>4</th>\n",
       "      <td>5</td>\n",
       "      <td>NaN</td>\n",
       "      <td>NaN</td>\n",
       "      <td>NaN</td>\n",
       "      <td>78.0</td>\n",
       "      <td>NaN</td>\n",
       "      <td>NaN</td>\n",
       "      <td>NaN</td>\n",
       "      <td>NaN</td>\n",
       "      <td>NaN</td>\n",
       "      <td>NaN</td>\n",
       "      <td>NaN</td>\n",
       "      <td>203.0</td>\n",
       "      <td>NaN</td>\n",
       "      <td>151.0</td>\n",
       "      <td>152.0</td>\n",
       "    </tr>\n",
       "  </tbody>\n",
       "</table>\n",
       "</div>"
      ],
      "text/plain": [
       "   key  Bulk 1  Bulk 2  Bulk 3  Bulk 4  Bulk 5  Bulk 6  Bulk 7  Bulk 8  \\\n",
       "0    1     NaN     NaN     NaN    43.0     NaN     NaN     NaN     NaN   \n",
       "1    2     NaN     NaN     NaN    73.0     NaN     NaN     NaN     NaN   \n",
       "2    3     NaN     NaN     NaN    34.0     NaN     NaN     NaN     NaN   \n",
       "3    4     NaN     NaN     NaN    81.0     NaN     NaN     NaN     NaN   \n",
       "4    5     NaN     NaN     NaN    78.0     NaN     NaN     NaN     NaN   \n",
       "\n",
       "   Bulk 9  Bulk 10  Bulk 11  Bulk 12  Bulk 13  Bulk 14  Bulk 15  \n",
       "0     NaN      NaN      NaN    206.0      NaN    150.0    154.0  \n",
       "1     NaN      NaN      NaN    206.0      NaN    149.0    154.0  \n",
       "2     NaN      NaN      NaN    205.0      NaN    152.0    153.0  \n",
       "3     NaN      NaN      NaN    207.0      NaN    153.0    154.0  \n",
       "4     NaN      NaN      NaN    203.0      NaN    151.0    152.0  "
      ]
     },
     "execution_count": 20,
     "metadata": {},
     "output_type": "execute_result"
    }
   ],
   "source": [
    "data_bulk.head()"
   ]
  },
  {
   "cell_type": "markdown",
   "metadata": {},
   "source": [
    "Пропусков много, они скорее всего означают, что сыпучий материал не добавлялся."
   ]
  },
  {
   "cell_type": "code",
   "execution_count": 21,
   "metadata": {},
   "outputs": [
    {
     "data": {
      "text/html": [
       "<div>\n",
       "<style scoped>\n",
       "    .dataframe tbody tr th:only-of-type {\n",
       "        vertical-align: middle;\n",
       "    }\n",
       "\n",
       "    .dataframe tbody tr th {\n",
       "        vertical-align: top;\n",
       "    }\n",
       "\n",
       "    .dataframe thead th {\n",
       "        text-align: right;\n",
       "    }\n",
       "</style>\n",
       "<table border=\"1\" class=\"dataframe\">\n",
       "  <thead>\n",
       "    <tr style=\"text-align: right;\">\n",
       "      <th></th>\n",
       "      <th>key</th>\n",
       "      <th>Bulk 1</th>\n",
       "      <th>Bulk 2</th>\n",
       "      <th>Bulk 3</th>\n",
       "      <th>Bulk 4</th>\n",
       "      <th>Bulk 5</th>\n",
       "      <th>Bulk 6</th>\n",
       "      <th>Bulk 7</th>\n",
       "      <th>Bulk 8</th>\n",
       "      <th>Bulk 9</th>\n",
       "      <th>Bulk 10</th>\n",
       "      <th>Bulk 11</th>\n",
       "      <th>Bulk 12</th>\n",
       "      <th>Bulk 13</th>\n",
       "      <th>Bulk 14</th>\n",
       "      <th>Bulk 15</th>\n",
       "    </tr>\n",
       "  </thead>\n",
       "  <tbody>\n",
       "    <tr>\n",
       "      <th>count</th>\n",
       "      <td>3129.000000</td>\n",
       "      <td>252.000000</td>\n",
       "      <td>22.000000</td>\n",
       "      <td>1298.000000</td>\n",
       "      <td>1014.000000</td>\n",
       "      <td>77.000000</td>\n",
       "      <td>576.000000</td>\n",
       "      <td>25.000000</td>\n",
       "      <td>1.0</td>\n",
       "      <td>19.000000</td>\n",
       "      <td>176.000000</td>\n",
       "      <td>177.000000</td>\n",
       "      <td>2450.000000</td>\n",
       "      <td>18.000000</td>\n",
       "      <td>2806.000000</td>\n",
       "      <td>2248.000000</td>\n",
       "    </tr>\n",
       "    <tr>\n",
       "      <th>mean</th>\n",
       "      <td>1624.383509</td>\n",
       "      <td>39.242063</td>\n",
       "      <td>253.045455</td>\n",
       "      <td>113.879045</td>\n",
       "      <td>104.394477</td>\n",
       "      <td>107.025974</td>\n",
       "      <td>118.925347</td>\n",
       "      <td>305.600000</td>\n",
       "      <td>49.0</td>\n",
       "      <td>76.315789</td>\n",
       "      <td>83.284091</td>\n",
       "      <td>76.819209</td>\n",
       "      <td>260.471020</td>\n",
       "      <td>181.111111</td>\n",
       "      <td>170.284747</td>\n",
       "      <td>160.513345</td>\n",
       "    </tr>\n",
       "    <tr>\n",
       "      <th>std</th>\n",
       "      <td>933.337642</td>\n",
       "      <td>18.277654</td>\n",
       "      <td>21.180578</td>\n",
       "      <td>75.483494</td>\n",
       "      <td>48.184126</td>\n",
       "      <td>81.790646</td>\n",
       "      <td>72.057776</td>\n",
       "      <td>191.022904</td>\n",
       "      <td>NaN</td>\n",
       "      <td>21.720581</td>\n",
       "      <td>26.060347</td>\n",
       "      <td>59.655365</td>\n",
       "      <td>120.649269</td>\n",
       "      <td>46.088009</td>\n",
       "      <td>65.868652</td>\n",
       "      <td>51.765319</td>\n",
       "    </tr>\n",
       "    <tr>\n",
       "      <th>min</th>\n",
       "      <td>1.000000</td>\n",
       "      <td>10.000000</td>\n",
       "      <td>228.000000</td>\n",
       "      <td>6.000000</td>\n",
       "      <td>12.000000</td>\n",
       "      <td>11.000000</td>\n",
       "      <td>17.000000</td>\n",
       "      <td>47.000000</td>\n",
       "      <td>49.0</td>\n",
       "      <td>63.000000</td>\n",
       "      <td>24.000000</td>\n",
       "      <td>8.000000</td>\n",
       "      <td>53.000000</td>\n",
       "      <td>151.000000</td>\n",
       "      <td>16.000000</td>\n",
       "      <td>1.000000</td>\n",
       "    </tr>\n",
       "    <tr>\n",
       "      <th>25%</th>\n",
       "      <td>816.000000</td>\n",
       "      <td>27.000000</td>\n",
       "      <td>242.000000</td>\n",
       "      <td>58.000000</td>\n",
       "      <td>72.000000</td>\n",
       "      <td>70.000000</td>\n",
       "      <td>69.750000</td>\n",
       "      <td>155.000000</td>\n",
       "      <td>49.0</td>\n",
       "      <td>66.000000</td>\n",
       "      <td>64.000000</td>\n",
       "      <td>25.000000</td>\n",
       "      <td>204.000000</td>\n",
       "      <td>153.250000</td>\n",
       "      <td>119.000000</td>\n",
       "      <td>105.000000</td>\n",
       "    </tr>\n",
       "    <tr>\n",
       "      <th>50%</th>\n",
       "      <td>1622.000000</td>\n",
       "      <td>31.000000</td>\n",
       "      <td>251.500000</td>\n",
       "      <td>97.500000</td>\n",
       "      <td>102.000000</td>\n",
       "      <td>86.000000</td>\n",
       "      <td>100.000000</td>\n",
       "      <td>298.000000</td>\n",
       "      <td>49.0</td>\n",
       "      <td>68.000000</td>\n",
       "      <td>86.500000</td>\n",
       "      <td>64.000000</td>\n",
       "      <td>208.000000</td>\n",
       "      <td>155.500000</td>\n",
       "      <td>151.000000</td>\n",
       "      <td>160.000000</td>\n",
       "    </tr>\n",
       "    <tr>\n",
       "      <th>75%</th>\n",
       "      <td>2431.000000</td>\n",
       "      <td>46.000000</td>\n",
       "      <td>257.750000</td>\n",
       "      <td>152.000000</td>\n",
       "      <td>133.000000</td>\n",
       "      <td>132.000000</td>\n",
       "      <td>157.000000</td>\n",
       "      <td>406.000000</td>\n",
       "      <td>49.0</td>\n",
       "      <td>70.500000</td>\n",
       "      <td>102.000000</td>\n",
       "      <td>106.000000</td>\n",
       "      <td>316.000000</td>\n",
       "      <td>203.500000</td>\n",
       "      <td>205.750000</td>\n",
       "      <td>205.000000</td>\n",
       "    </tr>\n",
       "    <tr>\n",
       "      <th>max</th>\n",
       "      <td>3241.000000</td>\n",
       "      <td>185.000000</td>\n",
       "      <td>325.000000</td>\n",
       "      <td>454.000000</td>\n",
       "      <td>281.000000</td>\n",
       "      <td>603.000000</td>\n",
       "      <td>503.000000</td>\n",
       "      <td>772.000000</td>\n",
       "      <td>49.0</td>\n",
       "      <td>147.000000</td>\n",
       "      <td>159.000000</td>\n",
       "      <td>313.000000</td>\n",
       "      <td>1849.000000</td>\n",
       "      <td>305.000000</td>\n",
       "      <td>636.000000</td>\n",
       "      <td>405.000000</td>\n",
       "    </tr>\n",
       "  </tbody>\n",
       "</table>\n",
       "</div>"
      ],
      "text/plain": [
       "               key      Bulk 1      Bulk 2       Bulk 3       Bulk 4  \\\n",
       "count  3129.000000  252.000000   22.000000  1298.000000  1014.000000   \n",
       "mean   1624.383509   39.242063  253.045455   113.879045   104.394477   \n",
       "std     933.337642   18.277654   21.180578    75.483494    48.184126   \n",
       "min       1.000000   10.000000  228.000000     6.000000    12.000000   \n",
       "25%     816.000000   27.000000  242.000000    58.000000    72.000000   \n",
       "50%    1622.000000   31.000000  251.500000    97.500000   102.000000   \n",
       "75%    2431.000000   46.000000  257.750000   152.000000   133.000000   \n",
       "max    3241.000000  185.000000  325.000000   454.000000   281.000000   \n",
       "\n",
       "           Bulk 5      Bulk 6      Bulk 7  Bulk 8      Bulk 9     Bulk 10  \\\n",
       "count   77.000000  576.000000   25.000000     1.0   19.000000  176.000000   \n",
       "mean   107.025974  118.925347  305.600000    49.0   76.315789   83.284091   \n",
       "std     81.790646   72.057776  191.022904     NaN   21.720581   26.060347   \n",
       "min     11.000000   17.000000   47.000000    49.0   63.000000   24.000000   \n",
       "25%     70.000000   69.750000  155.000000    49.0   66.000000   64.000000   \n",
       "50%     86.000000  100.000000  298.000000    49.0   68.000000   86.500000   \n",
       "75%    132.000000  157.000000  406.000000    49.0   70.500000  102.000000   \n",
       "max    603.000000  503.000000  772.000000    49.0  147.000000  159.000000   \n",
       "\n",
       "          Bulk 11      Bulk 12     Bulk 13      Bulk 14      Bulk 15  \n",
       "count  177.000000  2450.000000   18.000000  2806.000000  2248.000000  \n",
       "mean    76.819209   260.471020  181.111111   170.284747   160.513345  \n",
       "std     59.655365   120.649269   46.088009    65.868652    51.765319  \n",
       "min      8.000000    53.000000  151.000000    16.000000     1.000000  \n",
       "25%     25.000000   204.000000  153.250000   119.000000   105.000000  \n",
       "50%     64.000000   208.000000  155.500000   151.000000   160.000000  \n",
       "75%    106.000000   316.000000  203.500000   205.750000   205.000000  \n",
       "max    313.000000  1849.000000  305.000000   636.000000   405.000000  "
      ]
     },
     "execution_count": 21,
     "metadata": {},
     "output_type": "execute_result"
    }
   ],
   "source": [
    "data_bulk.describe()"
   ]
  },
  {
   "cell_type": "markdown",
   "metadata": {},
   "source": [
    "На первый взгляд аномальных значений в данных нет"
   ]
  },
  {
   "cell_type": "code",
   "execution_count": 22,
   "metadata": {},
   "outputs": [
    {
     "data": {
      "text/plain": [
       "<AxesSubplot:>"
      ]
     },
     "execution_count": 22,
     "metadata": {},
     "output_type": "execute_result"
    },
    {
     "data": {
      "image/png": "[encoded data removed]",
      "text/plain": [
       "<Figure size 1080x720 with 1 Axes>"
      ]
     },
     "metadata": {
      "needs_background": "light"
     },
     "output_type": "display_data"
    }
   ],
   "source": [
    "#Построим график с усами\n",
    "data_bulk.boxplot([col for col in data_bulk.columns if col != 'key'], figsize=(15, 10), vert=False)"
   ]
  },
  {
   "cell_type": "markdown",
   "metadata": {},
   "source": [
    "Почти в каждом сыпучем материале есть значение, похожее на выброс. Возможно, так устроен технологический процесс, не будем трогать эти значения.  \n",
    "Сыпучий материал № 8 использовался всего один раз."
   ]
  },
  {
   "cell_type": "code",
   "execution_count": 23,
   "metadata": {},
   "outputs": [
    {
     "data": {
      "text/html": [
       "<div>\n",
       "<style scoped>\n",
       "    .dataframe tbody tr th:only-of-type {\n",
       "        vertical-align: middle;\n",
       "    }\n",
       "\n",
       "    .dataframe tbody tr th {\n",
       "        vertical-align: top;\n",
       "    }\n",
       "\n",
       "    .dataframe thead th {\n",
       "        text-align: right;\n",
       "    }\n",
       "</style>\n",
       "<table border=\"1\" class=\"dataframe\">\n",
       "  <thead>\n",
       "    <tr style=\"text-align: right;\">\n",
       "      <th></th>\n",
       "      <th>key</th>\n",
       "      <th>Bulk 1</th>\n",
       "      <th>Bulk 2</th>\n",
       "      <th>Bulk 3</th>\n",
       "      <th>Bulk 4</th>\n",
       "      <th>Bulk 5</th>\n",
       "      <th>Bulk 6</th>\n",
       "      <th>Bulk 7</th>\n",
       "      <th>Bulk 8</th>\n",
       "      <th>Bulk 9</th>\n",
       "      <th>Bulk 10</th>\n",
       "      <th>Bulk 11</th>\n",
       "      <th>Bulk 12</th>\n",
       "      <th>Bulk 13</th>\n",
       "      <th>Bulk 14</th>\n",
       "      <th>Bulk 15</th>\n",
       "    </tr>\n",
       "  </thead>\n",
       "  <tbody>\n",
       "    <tr>\n",
       "      <th>0</th>\n",
       "      <td>1</td>\n",
       "      <td>0.0</td>\n",
       "      <td>0.0</td>\n",
       "      <td>0.0</td>\n",
       "      <td>43.0</td>\n",
       "      <td>0.0</td>\n",
       "      <td>0.0</td>\n",
       "      <td>0.0</td>\n",
       "      <td>0.0</td>\n",
       "      <td>0.0</td>\n",
       "      <td>0.0</td>\n",
       "      <td>0.0</td>\n",
       "      <td>206.0</td>\n",
       "      <td>0.0</td>\n",
       "      <td>150.0</td>\n",
       "      <td>154.0</td>\n",
       "    </tr>\n",
       "    <tr>\n",
       "      <th>1</th>\n",
       "      <td>2</td>\n",
       "      <td>0.0</td>\n",
       "      <td>0.0</td>\n",
       "      <td>0.0</td>\n",
       "      <td>73.0</td>\n",
       "      <td>0.0</td>\n",
       "      <td>0.0</td>\n",
       "      <td>0.0</td>\n",
       "      <td>0.0</td>\n",
       "      <td>0.0</td>\n",
       "      <td>0.0</td>\n",
       "      <td>0.0</td>\n",
       "      <td>206.0</td>\n",
       "      <td>0.0</td>\n",
       "      <td>149.0</td>\n",
       "      <td>154.0</td>\n",
       "    </tr>\n",
       "    <tr>\n",
       "      <th>2</th>\n",
       "      <td>3</td>\n",
       "      <td>0.0</td>\n",
       "      <td>0.0</td>\n",
       "      <td>0.0</td>\n",
       "      <td>34.0</td>\n",
       "      <td>0.0</td>\n",
       "      <td>0.0</td>\n",
       "      <td>0.0</td>\n",
       "      <td>0.0</td>\n",
       "      <td>0.0</td>\n",
       "      <td>0.0</td>\n",
       "      <td>0.0</td>\n",
       "      <td>205.0</td>\n",
       "      <td>0.0</td>\n",
       "      <td>152.0</td>\n",
       "      <td>153.0</td>\n",
       "    </tr>\n",
       "    <tr>\n",
       "      <th>3</th>\n",
       "      <td>4</td>\n",
       "      <td>0.0</td>\n",
       "      <td>0.0</td>\n",
       "      <td>0.0</td>\n",
       "      <td>81.0</td>\n",
       "      <td>0.0</td>\n",
       "      <td>0.0</td>\n",
       "      <td>0.0</td>\n",
       "      <td>0.0</td>\n",
       "      <td>0.0</td>\n",
       "      <td>0.0</td>\n",
       "      <td>0.0</td>\n",
       "      <td>207.0</td>\n",
       "      <td>0.0</td>\n",
       "      <td>153.0</td>\n",
       "      <td>154.0</td>\n",
       "    </tr>\n",
       "    <tr>\n",
       "      <th>4</th>\n",
       "      <td>5</td>\n",
       "      <td>0.0</td>\n",
       "      <td>0.0</td>\n",
       "      <td>0.0</td>\n",
       "      <td>78.0</td>\n",
       "      <td>0.0</td>\n",
       "      <td>0.0</td>\n",
       "      <td>0.0</td>\n",
       "      <td>0.0</td>\n",
       "      <td>0.0</td>\n",
       "      <td>0.0</td>\n",
       "      <td>0.0</td>\n",
       "      <td>203.0</td>\n",
       "      <td>0.0</td>\n",
       "      <td>151.0</td>\n",
       "      <td>152.0</td>\n",
       "    </tr>\n",
       "    <tr>\n",
       "      <th>...</th>\n",
       "      <td>...</td>\n",
       "      <td>...</td>\n",
       "      <td>...</td>\n",
       "      <td>...</td>\n",
       "      <td>...</td>\n",
       "      <td>...</td>\n",
       "      <td>...</td>\n",
       "      <td>...</td>\n",
       "      <td>...</td>\n",
       "      <td>...</td>\n",
       "      <td>...</td>\n",
       "      <td>...</td>\n",
       "      <td>...</td>\n",
       "      <td>...</td>\n",
       "      <td>...</td>\n",
       "      <td>...</td>\n",
       "    </tr>\n",
       "    <tr>\n",
       "      <th>3124</th>\n",
       "      <td>3237</td>\n",
       "      <td>0.0</td>\n",
       "      <td>0.0</td>\n",
       "      <td>170.0</td>\n",
       "      <td>0.0</td>\n",
       "      <td>0.0</td>\n",
       "      <td>0.0</td>\n",
       "      <td>0.0</td>\n",
       "      <td>0.0</td>\n",
       "      <td>0.0</td>\n",
       "      <td>0.0</td>\n",
       "      <td>0.0</td>\n",
       "      <td>252.0</td>\n",
       "      <td>0.0</td>\n",
       "      <td>130.0</td>\n",
       "      <td>206.0</td>\n",
       "    </tr>\n",
       "    <tr>\n",
       "      <th>3125</th>\n",
       "      <td>3238</td>\n",
       "      <td>0.0</td>\n",
       "      <td>0.0</td>\n",
       "      <td>126.0</td>\n",
       "      <td>0.0</td>\n",
       "      <td>0.0</td>\n",
       "      <td>0.0</td>\n",
       "      <td>0.0</td>\n",
       "      <td>0.0</td>\n",
       "      <td>0.0</td>\n",
       "      <td>0.0</td>\n",
       "      <td>0.0</td>\n",
       "      <td>254.0</td>\n",
       "      <td>0.0</td>\n",
       "      <td>108.0</td>\n",
       "      <td>106.0</td>\n",
       "    </tr>\n",
       "    <tr>\n",
       "      <th>3126</th>\n",
       "      <td>3239</td>\n",
       "      <td>0.0</td>\n",
       "      <td>0.0</td>\n",
       "      <td>0.0</td>\n",
       "      <td>0.0</td>\n",
       "      <td>0.0</td>\n",
       "      <td>114.0</td>\n",
       "      <td>0.0</td>\n",
       "      <td>0.0</td>\n",
       "      <td>0.0</td>\n",
       "      <td>0.0</td>\n",
       "      <td>0.0</td>\n",
       "      <td>158.0</td>\n",
       "      <td>0.0</td>\n",
       "      <td>270.0</td>\n",
       "      <td>88.0</td>\n",
       "    </tr>\n",
       "    <tr>\n",
       "      <th>3127</th>\n",
       "      <td>3240</td>\n",
       "      <td>0.0</td>\n",
       "      <td>0.0</td>\n",
       "      <td>0.0</td>\n",
       "      <td>0.0</td>\n",
       "      <td>0.0</td>\n",
       "      <td>26.0</td>\n",
       "      <td>0.0</td>\n",
       "      <td>0.0</td>\n",
       "      <td>0.0</td>\n",
       "      <td>0.0</td>\n",
       "      <td>0.0</td>\n",
       "      <td>0.0</td>\n",
       "      <td>0.0</td>\n",
       "      <td>192.0</td>\n",
       "      <td>54.0</td>\n",
       "    </tr>\n",
       "    <tr>\n",
       "      <th>3128</th>\n",
       "      <td>3241</td>\n",
       "      <td>0.0</td>\n",
       "      <td>0.0</td>\n",
       "      <td>0.0</td>\n",
       "      <td>0.0</td>\n",
       "      <td>0.0</td>\n",
       "      <td>0.0</td>\n",
       "      <td>0.0</td>\n",
       "      <td>0.0</td>\n",
       "      <td>0.0</td>\n",
       "      <td>0.0</td>\n",
       "      <td>0.0</td>\n",
       "      <td>0.0</td>\n",
       "      <td>0.0</td>\n",
       "      <td>180.0</td>\n",
       "      <td>52.0</td>\n",
       "    </tr>\n",
       "  </tbody>\n",
       "</table>\n",
       "<p>3129 rows × 16 columns</p>\n",
       "</div>"
      ],
      "text/plain": [
       "       key  Bulk 1  Bulk 2  Bulk 3  Bulk 4  Bulk 5  Bulk 6  Bulk 7  Bulk 8  \\\n",
       "0        1     0.0     0.0     0.0    43.0     0.0     0.0     0.0     0.0   \n",
       "1        2     0.0     0.0     0.0    73.0     0.0     0.0     0.0     0.0   \n",
       "2        3     0.0     0.0     0.0    34.0     0.0     0.0     0.0     0.0   \n",
       "3        4     0.0     0.0     0.0    81.0     0.0     0.0     0.0     0.0   \n",
       "4        5     0.0     0.0     0.0    78.0     0.0     0.0     0.0     0.0   \n",
       "...    ...     ...     ...     ...     ...     ...     ...     ...     ...   \n",
       "3124  3237     0.0     0.0   170.0     0.0     0.0     0.0     0.0     0.0   \n",
       "3125  3238     0.0     0.0   126.0     0.0     0.0     0.0     0.0     0.0   \n",
       "3126  3239     0.0     0.0     0.0     0.0     0.0   114.0     0.0     0.0   \n",
       "3127  3240     0.0     0.0     0.0     0.0     0.0    26.0     0.0     0.0   \n",
       "3128  3241     0.0     0.0     0.0     0.0     0.0     0.0     0.0     0.0   \n",
       "\n",
       "      Bulk 9  Bulk 10  Bulk 11  Bulk 12  Bulk 13  Bulk 14  Bulk 15  \n",
       "0        0.0      0.0      0.0    206.0      0.0    150.0    154.0  \n",
       "1        0.0      0.0      0.0    206.0      0.0    149.0    154.0  \n",
       "2        0.0      0.0      0.0    205.0      0.0    152.0    153.0  \n",
       "3        0.0      0.0      0.0    207.0      0.0    153.0    154.0  \n",
       "4        0.0      0.0      0.0    203.0      0.0    151.0    152.0  \n",
       "...      ...      ...      ...      ...      ...      ...      ...  \n",
       "3124     0.0      0.0      0.0    252.0      0.0    130.0    206.0  \n",
       "3125     0.0      0.0      0.0    254.0      0.0    108.0    106.0  \n",
       "3126     0.0      0.0      0.0    158.0      0.0    270.0     88.0  \n",
       "3127     0.0      0.0      0.0      0.0      0.0    192.0     54.0  \n",
       "3128     0.0      0.0      0.0      0.0      0.0    180.0     52.0  \n",
       "\n",
       "[3129 rows x 16 columns]"
      ]
     },
     "execution_count": 23,
     "metadata": {},
     "output_type": "execute_result"
    }
   ],
   "source": [
    "#Заполним пропуски нулями\n",
    "data_bulk = data_bulk.fillna(0)\n",
    "data_bulk"
   ]
  },
  {
   "cell_type": "code",
   "execution_count": 24,
   "metadata": {},
   "outputs": [],
   "source": [
    "#Суммируем все сыпучие материалы для каждой партии\n",
    "data_bulk['bulk_sum'] = (data_bulk['Bulk 1'] + data_bulk['Bulk 2'] + data_bulk['Bulk 3'] + data_bulk['Bulk 4'] + \n",
    "                         data_bulk['Bulk 5'] + data_bulk['Bulk 6'] + data_bulk['Bulk 7'] + data_bulk['Bulk 8'] + \n",
    "                         data_bulk['Bulk 9'] + data_bulk['Bulk 10'] + data_bulk['Bulk 11'] + data_bulk['Bulk 12'] +\n",
    "                         data_bulk['Bulk 13'] + data_bulk['Bulk 14'] + data_bulk['Bulk 15'])"
   ]
  },
  {
   "cell_type": "code",
   "execution_count": 25,
   "metadata": {},
   "outputs": [
    {
     "data": {
      "text/html": [
       "<div>\n",
       "<style scoped>\n",
       "    .dataframe tbody tr th:only-of-type {\n",
       "        vertical-align: middle;\n",
       "    }\n",
       "\n",
       "    .dataframe tbody tr th {\n",
       "        vertical-align: top;\n",
       "    }\n",
       "\n",
       "    .dataframe thead th {\n",
       "        text-align: right;\n",
       "    }\n",
       "</style>\n",
       "<table border=\"1\" class=\"dataframe\">\n",
       "  <thead>\n",
       "    <tr style=\"text-align: right;\">\n",
       "      <th></th>\n",
       "      <th>key</th>\n",
       "      <th>Bulk 1</th>\n",
       "      <th>Bulk 2</th>\n",
       "      <th>Bulk 3</th>\n",
       "      <th>Bulk 4</th>\n",
       "      <th>Bulk 5</th>\n",
       "      <th>Bulk 6</th>\n",
       "      <th>Bulk 7</th>\n",
       "      <th>Bulk 8</th>\n",
       "      <th>Bulk 9</th>\n",
       "      <th>Bulk 10</th>\n",
       "      <th>Bulk 11</th>\n",
       "      <th>Bulk 12</th>\n",
       "      <th>Bulk 13</th>\n",
       "      <th>Bulk 14</th>\n",
       "      <th>Bulk 15</th>\n",
       "      <th>bulk_sum</th>\n",
       "    </tr>\n",
       "  </thead>\n",
       "  <tbody>\n",
       "    <tr>\n",
       "      <th>0</th>\n",
       "      <td>1</td>\n",
       "      <td>0.0</td>\n",
       "      <td>0.0</td>\n",
       "      <td>0.0</td>\n",
       "      <td>43.0</td>\n",
       "      <td>0.0</td>\n",
       "      <td>0.0</td>\n",
       "      <td>0.0</td>\n",
       "      <td>0.0</td>\n",
       "      <td>0.0</td>\n",
       "      <td>0.0</td>\n",
       "      <td>0.0</td>\n",
       "      <td>206.0</td>\n",
       "      <td>0.0</td>\n",
       "      <td>150.0</td>\n",
       "      <td>154.0</td>\n",
       "      <td>553.0</td>\n",
       "    </tr>\n",
       "    <tr>\n",
       "      <th>1</th>\n",
       "      <td>2</td>\n",
       "      <td>0.0</td>\n",
       "      <td>0.0</td>\n",
       "      <td>0.0</td>\n",
       "      <td>73.0</td>\n",
       "      <td>0.0</td>\n",
       "      <td>0.0</td>\n",
       "      <td>0.0</td>\n",
       "      <td>0.0</td>\n",
       "      <td>0.0</td>\n",
       "      <td>0.0</td>\n",
       "      <td>0.0</td>\n",
       "      <td>206.0</td>\n",
       "      <td>0.0</td>\n",
       "      <td>149.0</td>\n",
       "      <td>154.0</td>\n",
       "      <td>582.0</td>\n",
       "    </tr>\n",
       "    <tr>\n",
       "      <th>2</th>\n",
       "      <td>3</td>\n",
       "      <td>0.0</td>\n",
       "      <td>0.0</td>\n",
       "      <td>0.0</td>\n",
       "      <td>34.0</td>\n",
       "      <td>0.0</td>\n",
       "      <td>0.0</td>\n",
       "      <td>0.0</td>\n",
       "      <td>0.0</td>\n",
       "      <td>0.0</td>\n",
       "      <td>0.0</td>\n",
       "      <td>0.0</td>\n",
       "      <td>205.0</td>\n",
       "      <td>0.0</td>\n",
       "      <td>152.0</td>\n",
       "      <td>153.0</td>\n",
       "      <td>544.0</td>\n",
       "    </tr>\n",
       "    <tr>\n",
       "      <th>3</th>\n",
       "      <td>4</td>\n",
       "      <td>0.0</td>\n",
       "      <td>0.0</td>\n",
       "      <td>0.0</td>\n",
       "      <td>81.0</td>\n",
       "      <td>0.0</td>\n",
       "      <td>0.0</td>\n",
       "      <td>0.0</td>\n",
       "      <td>0.0</td>\n",
       "      <td>0.0</td>\n",
       "      <td>0.0</td>\n",
       "      <td>0.0</td>\n",
       "      <td>207.0</td>\n",
       "      <td>0.0</td>\n",
       "      <td>153.0</td>\n",
       "      <td>154.0</td>\n",
       "      <td>595.0</td>\n",
       "    </tr>\n",
       "    <tr>\n",
       "      <th>4</th>\n",
       "      <td>5</td>\n",
       "      <td>0.0</td>\n",
       "      <td>0.0</td>\n",
       "      <td>0.0</td>\n",
       "      <td>78.0</td>\n",
       "      <td>0.0</td>\n",
       "      <td>0.0</td>\n",
       "      <td>0.0</td>\n",
       "      <td>0.0</td>\n",
       "      <td>0.0</td>\n",
       "      <td>0.0</td>\n",
       "      <td>0.0</td>\n",
       "      <td>203.0</td>\n",
       "      <td>0.0</td>\n",
       "      <td>151.0</td>\n",
       "      <td>152.0</td>\n",
       "      <td>584.0</td>\n",
       "    </tr>\n",
       "    <tr>\n",
       "      <th>...</th>\n",
       "      <td>...</td>\n",
       "      <td>...</td>\n",
       "      <td>...</td>\n",
       "      <td>...</td>\n",
       "      <td>...</td>\n",
       "      <td>...</td>\n",
       "      <td>...</td>\n",
       "      <td>...</td>\n",
       "      <td>...</td>\n",
       "      <td>...</td>\n",
       "      <td>...</td>\n",
       "      <td>...</td>\n",
       "      <td>...</td>\n",
       "      <td>...</td>\n",
       "      <td>...</td>\n",
       "      <td>...</td>\n",
       "      <td>...</td>\n",
       "    </tr>\n",
       "    <tr>\n",
       "      <th>3124</th>\n",
       "      <td>3237</td>\n",
       "      <td>0.0</td>\n",
       "      <td>0.0</td>\n",
       "      <td>170.0</td>\n",
       "      <td>0.0</td>\n",
       "      <td>0.0</td>\n",
       "      <td>0.0</td>\n",
       "      <td>0.0</td>\n",
       "      <td>0.0</td>\n",
       "      <td>0.0</td>\n",
       "      <td>0.0</td>\n",
       "      <td>0.0</td>\n",
       "      <td>252.0</td>\n",
       "      <td>0.0</td>\n",
       "      <td>130.0</td>\n",
       "      <td>206.0</td>\n",
       "      <td>758.0</td>\n",
       "    </tr>\n",
       "    <tr>\n",
       "      <th>3125</th>\n",
       "      <td>3238</td>\n",
       "      <td>0.0</td>\n",
       "      <td>0.0</td>\n",
       "      <td>126.0</td>\n",
       "      <td>0.0</td>\n",
       "      <td>0.0</td>\n",
       "      <td>0.0</td>\n",
       "      <td>0.0</td>\n",
       "      <td>0.0</td>\n",
       "      <td>0.0</td>\n",
       "      <td>0.0</td>\n",
       "      <td>0.0</td>\n",
       "      <td>254.0</td>\n",
       "      <td>0.0</td>\n",
       "      <td>108.0</td>\n",
       "      <td>106.0</td>\n",
       "      <td>594.0</td>\n",
       "    </tr>\n",
       "    <tr>\n",
       "      <th>3126</th>\n",
       "      <td>3239</td>\n",
       "      <td>0.0</td>\n",
       "      <td>0.0</td>\n",
       "      <td>0.0</td>\n",
       "      <td>0.0</td>\n",
       "      <td>0.0</td>\n",
       "      <td>114.0</td>\n",
       "      <td>0.0</td>\n",
       "      <td>0.0</td>\n",
       "      <td>0.0</td>\n",
       "      <td>0.0</td>\n",
       "      <td>0.0</td>\n",
       "      <td>158.0</td>\n",
       "      <td>0.0</td>\n",
       "      <td>270.0</td>\n",
       "      <td>88.0</td>\n",
       "      <td>630.0</td>\n",
       "    </tr>\n",
       "    <tr>\n",
       "      <th>3127</th>\n",
       "      <td>3240</td>\n",
       "      <td>0.0</td>\n",
       "      <td>0.0</td>\n",
       "      <td>0.0</td>\n",
       "      <td>0.0</td>\n",
       "      <td>0.0</td>\n",
       "      <td>26.0</td>\n",
       "      <td>0.0</td>\n",
       "      <td>0.0</td>\n",
       "      <td>0.0</td>\n",
       "      <td>0.0</td>\n",
       "      <td>0.0</td>\n",
       "      <td>0.0</td>\n",
       "      <td>0.0</td>\n",
       "      <td>192.0</td>\n",
       "      <td>54.0</td>\n",
       "      <td>272.0</td>\n",
       "    </tr>\n",
       "    <tr>\n",
       "      <th>3128</th>\n",
       "      <td>3241</td>\n",
       "      <td>0.0</td>\n",
       "      <td>0.0</td>\n",
       "      <td>0.0</td>\n",
       "      <td>0.0</td>\n",
       "      <td>0.0</td>\n",
       "      <td>0.0</td>\n",
       "      <td>0.0</td>\n",
       "      <td>0.0</td>\n",
       "      <td>0.0</td>\n",
       "      <td>0.0</td>\n",
       "      <td>0.0</td>\n",
       "      <td>0.0</td>\n",
       "      <td>0.0</td>\n",
       "      <td>180.0</td>\n",
       "      <td>52.0</td>\n",
       "      <td>232.0</td>\n",
       "    </tr>\n",
       "  </tbody>\n",
       "</table>\n",
       "<p>3129 rows × 17 columns</p>\n",
       "</div>"
      ],
      "text/plain": [
       "       key  Bulk 1  Bulk 2  Bulk 3  Bulk 4  Bulk 5  Bulk 6  Bulk 7  Bulk 8  \\\n",
       "0        1     0.0     0.0     0.0    43.0     0.0     0.0     0.0     0.0   \n",
       "1        2     0.0     0.0     0.0    73.0     0.0     0.0     0.0     0.0   \n",
       "2        3     0.0     0.0     0.0    34.0     0.0     0.0     0.0     0.0   \n",
       "3        4     0.0     0.0     0.0    81.0     0.0     0.0     0.0     0.0   \n",
       "4        5     0.0     0.0     0.0    78.0     0.0     0.0     0.0     0.0   \n",
       "...    ...     ...     ...     ...     ...     ...     ...     ...     ...   \n",
       "3124  3237     0.0     0.0   170.0     0.0     0.0     0.0     0.0     0.0   \n",
       "3125  3238     0.0     0.0   126.0     0.0     0.0     0.0     0.0     0.0   \n",
       "3126  3239     0.0     0.0     0.0     0.0     0.0   114.0     0.0     0.0   \n",
       "3127  3240     0.0     0.0     0.0     0.0     0.0    26.0     0.0     0.0   \n",
       "3128  3241     0.0     0.0     0.0     0.0     0.0     0.0     0.0     0.0   \n",
       "\n",
       "      Bulk 9  Bulk 10  Bulk 11  Bulk 12  Bulk 13  Bulk 14  Bulk 15  bulk_sum  \n",
       "0        0.0      0.0      0.0    206.0      0.0    150.0    154.0     553.0  \n",
       "1        0.0      0.0      0.0    206.0      0.0    149.0    154.0     582.0  \n",
       "2        0.0      0.0      0.0    205.0      0.0    152.0    153.0     544.0  \n",
       "3        0.0      0.0      0.0    207.0      0.0    153.0    154.0     595.0  \n",
       "4        0.0      0.0      0.0    203.0      0.0    151.0    152.0     584.0  \n",
       "...      ...      ...      ...      ...      ...      ...      ...       ...  \n",
       "3124     0.0      0.0      0.0    252.0      0.0    130.0    206.0     758.0  \n",
       "3125     0.0      0.0      0.0    254.0      0.0    108.0    106.0     594.0  \n",
       "3126     0.0      0.0      0.0    158.0      0.0    270.0     88.0     630.0  \n",
       "3127     0.0      0.0      0.0      0.0      0.0    192.0     54.0     272.0  \n",
       "3128     0.0      0.0      0.0      0.0      0.0    180.0     52.0     232.0  \n",
       "\n",
       "[3129 rows x 17 columns]"
      ]
     },
     "execution_count": 25,
     "metadata": {},
     "output_type": "execute_result"
    }
   ],
   "source": [
    "data_bulk"
   ]
  },
  {
   "cell_type": "code",
   "execution_count": 26,
   "metadata": {},
   "outputs": [
    {
     "data": {
      "text/html": [
       "<div>\n",
       "<style scoped>\n",
       "    .dataframe tbody tr th:only-of-type {\n",
       "        vertical-align: middle;\n",
       "    }\n",
       "\n",
       "    .dataframe tbody tr th {\n",
       "        vertical-align: top;\n",
       "    }\n",
       "\n",
       "    .dataframe thead th {\n",
       "        text-align: right;\n",
       "    }\n",
       "</style>\n",
       "<table border=\"1\" class=\"dataframe\">\n",
       "  <thead>\n",
       "    <tr style=\"text-align: right;\">\n",
       "      <th></th>\n",
       "      <th>key</th>\n",
       "      <th>bulk_sum</th>\n",
       "    </tr>\n",
       "  </thead>\n",
       "  <tbody>\n",
       "    <tr>\n",
       "      <th>0</th>\n",
       "      <td>1</td>\n",
       "      <td>553.0</td>\n",
       "    </tr>\n",
       "    <tr>\n",
       "      <th>1</th>\n",
       "      <td>2</td>\n",
       "      <td>582.0</td>\n",
       "    </tr>\n",
       "    <tr>\n",
       "      <th>2</th>\n",
       "      <td>3</td>\n",
       "      <td>544.0</td>\n",
       "    </tr>\n",
       "    <tr>\n",
       "      <th>3</th>\n",
       "      <td>4</td>\n",
       "      <td>595.0</td>\n",
       "    </tr>\n",
       "    <tr>\n",
       "      <th>4</th>\n",
       "      <td>5</td>\n",
       "      <td>584.0</td>\n",
       "    </tr>\n",
       "    <tr>\n",
       "      <th>...</th>\n",
       "      <td>...</td>\n",
       "      <td>...</td>\n",
       "    </tr>\n",
       "    <tr>\n",
       "      <th>3124</th>\n",
       "      <td>3237</td>\n",
       "      <td>758.0</td>\n",
       "    </tr>\n",
       "    <tr>\n",
       "      <th>3125</th>\n",
       "      <td>3238</td>\n",
       "      <td>594.0</td>\n",
       "    </tr>\n",
       "    <tr>\n",
       "      <th>3126</th>\n",
       "      <td>3239</td>\n",
       "      <td>630.0</td>\n",
       "    </tr>\n",
       "    <tr>\n",
       "      <th>3127</th>\n",
       "      <td>3240</td>\n",
       "      <td>272.0</td>\n",
       "    </tr>\n",
       "    <tr>\n",
       "      <th>3128</th>\n",
       "      <td>3241</td>\n",
       "      <td>232.0</td>\n",
       "    </tr>\n",
       "  </tbody>\n",
       "</table>\n",
       "<p>3129 rows × 2 columns</p>\n",
       "</div>"
      ],
      "text/plain": [
       "       key  bulk_sum\n",
       "0        1     553.0\n",
       "1        2     582.0\n",
       "2        3     544.0\n",
       "3        4     595.0\n",
       "4        5     584.0\n",
       "...    ...       ...\n",
       "3124  3237     758.0\n",
       "3125  3238     594.0\n",
       "3126  3239     630.0\n",
       "3127  3240     272.0\n",
       "3128  3241     232.0\n",
       "\n",
       "[3129 rows x 2 columns]"
      ]
     },
     "execution_count": 26,
     "metadata": {},
     "output_type": "execute_result"
    }
   ],
   "source": [
    "#Оставим в таблице только ключ и сумму сыпучих добавок\n",
    "new_data_bulk = data_bulk.groupby('key').sum()[['bulk_sum']].reset_index()\n",
    "new_data_bulk"
   ]
  },
  {
   "cell_type": "markdown",
   "metadata": {},
   "source": [
    "Переходим к следующей таблице"
   ]
  },
  {
   "cell_type": "code",
   "execution_count": 27,
   "metadata": {},
   "outputs": [
    {
     "name": "stdout",
     "output_type": "stream",
     "text": [
      "<class 'pandas.core.frame.DataFrame'>\n",
      "\n",
      "RangeIndex: 3129 entries, 0 to 3128\n",
      "\n",
      "Data columns (total 16 columns):\n",
      "\n",
      " #   Column   Non-Null Count  Dtype \n",
      "\n",
      "---  ------   --------------  ----- \n",
      "\n",
      " 0   key      3129 non-null   int64 \n",
      "\n",
      " 1   Bulk 1   252 non-null    object\n",
      "\n",
      " 2   Bulk 2   22 non-null     object\n",
      "\n",
      " 3   Bulk 3   1298 non-null   object\n",
      "\n",
      " 4   Bulk 4   1014 non-null   object\n",
      "\n",
      " 5   Bulk 5   77 non-null     object\n",
      "\n",
      " 6   Bulk 6   576 non-null    object\n",
      "\n",
      " 7   Bulk 7   25 non-null     object\n",
      "\n",
      " 8   Bulk 8   1 non-null      object\n",
      "\n",
      " 9   Bulk 9   19 non-null     object\n",
      "\n",
      " 10  Bulk 10  176 non-null    object\n",
      "\n",
      " 11  Bulk 11  177 non-null    object\n",
      "\n",
      " 12  Bulk 12  2450 non-null   object\n",
      "\n",
      " 13  Bulk 13  18 non-null     object\n",
      "\n",
      " 14  Bulk 14  2806 non-null   object\n",
      "\n",
      " 15  Bulk 15  2248 non-null   object\n",
      "\n",
      "dtypes: int64(1), object(15)\n",
      "\n",
      "memory usage: 391.2+ KB\n"
     ]
    }
   ],
   "source": [
    "data_bulk_time.info()"
   ]
  },
  {
   "cell_type": "markdown",
   "metadata": {},
   "source": [
    "Пропуски во времени подачи сыпучих материалов совпадают с пропусками в объёме."
   ]
  },
  {
   "cell_type": "code",
   "execution_count": 28,
   "metadata": {},
   "outputs": [
    {
     "data": {
      "text/html": [
       "<div>\n",
       "<style scoped>\n",
       "    .dataframe tbody tr th:only-of-type {\n",
       "        vertical-align: middle;\n",
       "    }\n",
       "\n",
       "    .dataframe tbody tr th {\n",
       "        vertical-align: top;\n",
       "    }\n",
       "\n",
       "    .dataframe thead th {\n",
       "        text-align: right;\n",
       "    }\n",
       "</style>\n",
       "<table border=\"1\" class=\"dataframe\">\n",
       "  <thead>\n",
       "    <tr style=\"text-align: right;\">\n",
       "      <th></th>\n",
       "      <th>key</th>\n",
       "      <th>Bulk 1</th>\n",
       "      <th>Bulk 2</th>\n",
       "      <th>Bulk 3</th>\n",
       "      <th>Bulk 4</th>\n",
       "      <th>Bulk 5</th>\n",
       "      <th>Bulk 6</th>\n",
       "      <th>Bulk 7</th>\n",
       "      <th>Bulk 8</th>\n",
       "      <th>Bulk 9</th>\n",
       "      <th>Bulk 10</th>\n",
       "      <th>Bulk 11</th>\n",
       "      <th>Bulk 12</th>\n",
       "      <th>Bulk 13</th>\n",
       "      <th>Bulk 14</th>\n",
       "      <th>Bulk 15</th>\n",
       "    </tr>\n",
       "  </thead>\n",
       "  <tbody>\n",
       "    <tr>\n",
       "      <th>0</th>\n",
       "      <td>1</td>\n",
       "      <td>NaN</td>\n",
       "      <td>NaN</td>\n",
       "      <td>NaN</td>\n",
       "      <td>2019-05-03 11:21:30</td>\n",
       "      <td>NaN</td>\n",
       "      <td>NaN</td>\n",
       "      <td>NaN</td>\n",
       "      <td>NaN</td>\n",
       "      <td>NaN</td>\n",
       "      <td>NaN</td>\n",
       "      <td>NaN</td>\n",
       "      <td>2019-05-03 11:03:52</td>\n",
       "      <td>NaN</td>\n",
       "      <td>2019-05-03 11:03:52</td>\n",
       "      <td>2019-05-03 11:03:52</td>\n",
       "    </tr>\n",
       "    <tr>\n",
       "      <th>1</th>\n",
       "      <td>2</td>\n",
       "      <td>NaN</td>\n",
       "      <td>NaN</td>\n",
       "      <td>NaN</td>\n",
       "      <td>2019-05-03 11:46:38</td>\n",
       "      <td>NaN</td>\n",
       "      <td>NaN</td>\n",
       "      <td>NaN</td>\n",
       "      <td>NaN</td>\n",
       "      <td>NaN</td>\n",
       "      <td>NaN</td>\n",
       "      <td>NaN</td>\n",
       "      <td>2019-05-03 11:40:20</td>\n",
       "      <td>NaN</td>\n",
       "      <td>2019-05-03 11:40:20</td>\n",
       "      <td>2019-05-03 11:40:20</td>\n",
       "    </tr>\n",
       "    <tr>\n",
       "      <th>2</th>\n",
       "      <td>3</td>\n",
       "      <td>NaN</td>\n",
       "      <td>NaN</td>\n",
       "      <td>NaN</td>\n",
       "      <td>2019-05-03 12:31:06</td>\n",
       "      <td>NaN</td>\n",
       "      <td>NaN</td>\n",
       "      <td>NaN</td>\n",
       "      <td>NaN</td>\n",
       "      <td>NaN</td>\n",
       "      <td>NaN</td>\n",
       "      <td>NaN</td>\n",
       "      <td>2019-05-03 12:09:40</td>\n",
       "      <td>NaN</td>\n",
       "      <td>2019-05-03 12:09:40</td>\n",
       "      <td>2019-05-03 12:09:40</td>\n",
       "    </tr>\n",
       "    <tr>\n",
       "      <th>3</th>\n",
       "      <td>4</td>\n",
       "      <td>NaN</td>\n",
       "      <td>NaN</td>\n",
       "      <td>NaN</td>\n",
       "      <td>2019-05-03 12:48:43</td>\n",
       "      <td>NaN</td>\n",
       "      <td>NaN</td>\n",
       "      <td>NaN</td>\n",
       "      <td>NaN</td>\n",
       "      <td>NaN</td>\n",
       "      <td>NaN</td>\n",
       "      <td>NaN</td>\n",
       "      <td>2019-05-03 12:41:24</td>\n",
       "      <td>NaN</td>\n",
       "      <td>2019-05-03 12:41:24</td>\n",
       "      <td>2019-05-03 12:41:24</td>\n",
       "    </tr>\n",
       "    <tr>\n",
       "      <th>4</th>\n",
       "      <td>5</td>\n",
       "      <td>NaN</td>\n",
       "      <td>NaN</td>\n",
       "      <td>NaN</td>\n",
       "      <td>2019-05-03 13:18:50</td>\n",
       "      <td>NaN</td>\n",
       "      <td>NaN</td>\n",
       "      <td>NaN</td>\n",
       "      <td>NaN</td>\n",
       "      <td>NaN</td>\n",
       "      <td>NaN</td>\n",
       "      <td>NaN</td>\n",
       "      <td>2019-05-03 13:12:56</td>\n",
       "      <td>NaN</td>\n",
       "      <td>2019-05-03 13:12:56</td>\n",
       "      <td>2019-05-03 13:12:56</td>\n",
       "    </tr>\n",
       "  </tbody>\n",
       "</table>\n",
       "</div>"
      ],
      "text/plain": [
       "   key Bulk 1 Bulk 2 Bulk 3               Bulk 4 Bulk 5 Bulk 6 Bulk 7 Bulk 8  \\\n",
       "0    1    NaN    NaN    NaN  2019-05-03 11:21:30    NaN    NaN    NaN    NaN   \n",
       "1    2    NaN    NaN    NaN  2019-05-03 11:46:38    NaN    NaN    NaN    NaN   \n",
       "2    3    NaN    NaN    NaN  2019-05-03 12:31:06    NaN    NaN    NaN    NaN   \n",
       "3    4    NaN    NaN    NaN  2019-05-03 12:48:43    NaN    NaN    NaN    NaN   \n",
       "4    5    NaN    NaN    NaN  2019-05-03 13:18:50    NaN    NaN    NaN    NaN   \n",
       "\n",
       "  Bulk 9 Bulk 10 Bulk 11              Bulk 12 Bulk 13              Bulk 14  \\\n",
       "0    NaN     NaN     NaN  2019-05-03 11:03:52     NaN  2019-05-03 11:03:52   \n",
       "1    NaN     NaN     NaN  2019-05-03 11:40:20     NaN  2019-05-03 11:40:20   \n",
       "2    NaN     NaN     NaN  2019-05-03 12:09:40     NaN  2019-05-03 12:09:40   \n",
       "3    NaN     NaN     NaN  2019-05-03 12:41:24     NaN  2019-05-03 12:41:24   \n",
       "4    NaN     NaN     NaN  2019-05-03 13:12:56     NaN  2019-05-03 13:12:56   \n",
       "\n",
       "               Bulk 15  \n",
       "0  2019-05-03 11:03:52  \n",
       "1  2019-05-03 11:40:20  \n",
       "2  2019-05-03 12:09:40  \n",
       "3  2019-05-03 12:41:24  \n",
       "4  2019-05-03 13:12:56  "
      ]
     },
     "execution_count": 28,
     "metadata": {},
     "output_type": "execute_result"
    }
   ],
   "source": [
    "data_bulk_time.head()"
   ]
  },
  {
   "cell_type": "markdown",
   "metadata": {},
   "source": [
    "Тип данных неверный, но т.к. эта таблица не понадобится для обучения, изменять ничего не будем."
   ]
  },
  {
   "cell_type": "code",
   "execution_count": 29,
   "metadata": {},
   "outputs": [
    {
     "name": "stdout",
     "output_type": "stream",
     "text": [
      "<class 'pandas.core.frame.DataFrame'>\n",
      "\n",
      "RangeIndex: 3239 entries, 0 to 3238\n",
      "\n",
      "Data columns (total 2 columns):\n",
      "\n",
      " #   Column  Non-Null Count  Dtype  \n",
      "\n",
      "---  ------  --------------  -----  \n",
      "\n",
      " 0   key     3239 non-null   int64  \n",
      "\n",
      " 1   Газ 1   3239 non-null   float64\n",
      "\n",
      "dtypes: float64(1), int64(1)\n",
      "\n",
      "memory usage: 50.7 KB\n"
     ]
    }
   ],
   "source": [
    "data_gas.info()"
   ]
  },
  {
   "cell_type": "code",
   "execution_count": 30,
   "metadata": {},
   "outputs": [
    {
     "data": {
      "text/html": [
       "<div>\n",
       "<style scoped>\n",
       "    .dataframe tbody tr th:only-of-type {\n",
       "        vertical-align: middle;\n",
       "    }\n",
       "\n",
       "    .dataframe tbody tr th {\n",
       "        vertical-align: top;\n",
       "    }\n",
       "\n",
       "    .dataframe thead th {\n",
       "        text-align: right;\n",
       "    }\n",
       "</style>\n",
       "<table border=\"1\" class=\"dataframe\">\n",
       "  <thead>\n",
       "    <tr style=\"text-align: right;\">\n",
       "      <th></th>\n",
       "      <th>key</th>\n",
       "      <th>Газ 1</th>\n",
       "    </tr>\n",
       "  </thead>\n",
       "  <tbody>\n",
       "    <tr>\n",
       "      <th>count</th>\n",
       "      <td>3239.000000</td>\n",
       "      <td>3239.000000</td>\n",
       "    </tr>\n",
       "    <tr>\n",
       "      <th>mean</th>\n",
       "      <td>1621.861377</td>\n",
       "      <td>11.002062</td>\n",
       "    </tr>\n",
       "    <tr>\n",
       "      <th>std</th>\n",
       "      <td>935.386334</td>\n",
       "      <td>6.220327</td>\n",
       "    </tr>\n",
       "    <tr>\n",
       "      <th>min</th>\n",
       "      <td>1.000000</td>\n",
       "      <td>0.008399</td>\n",
       "    </tr>\n",
       "    <tr>\n",
       "      <th>25%</th>\n",
       "      <td>812.500000</td>\n",
       "      <td>7.043089</td>\n",
       "    </tr>\n",
       "    <tr>\n",
       "      <th>50%</th>\n",
       "      <td>1622.000000</td>\n",
       "      <td>9.836267</td>\n",
       "    </tr>\n",
       "    <tr>\n",
       "      <th>75%</th>\n",
       "      <td>2431.500000</td>\n",
       "      <td>13.769915</td>\n",
       "    </tr>\n",
       "    <tr>\n",
       "      <th>max</th>\n",
       "      <td>3241.000000</td>\n",
       "      <td>77.995040</td>\n",
       "    </tr>\n",
       "  </tbody>\n",
       "</table>\n",
       "</div>"
      ],
      "text/plain": [
       "               key        Газ 1\n",
       "count  3239.000000  3239.000000\n",
       "mean   1621.861377    11.002062\n",
       "std     935.386334     6.220327\n",
       "min       1.000000     0.008399\n",
       "25%     812.500000     7.043089\n",
       "50%    1622.000000     9.836267\n",
       "75%    2431.500000    13.769915\n",
       "max    3241.000000    77.995040"
      ]
     },
     "execution_count": 30,
     "metadata": {},
     "output_type": "execute_result"
    }
   ],
   "source": [
    "data_gas.describe()"
   ]
  },
  {
   "cell_type": "code",
   "execution_count": 31,
   "metadata": {},
   "outputs": [
    {
     "data": {
      "text/html": [
       "<div>\n",
       "<style scoped>\n",
       "    .dataframe tbody tr th:only-of-type {\n",
       "        vertical-align: middle;\n",
       "    }\n",
       "\n",
       "    .dataframe tbody tr th {\n",
       "        vertical-align: top;\n",
       "    }\n",
       "\n",
       "    .dataframe thead th {\n",
       "        text-align: right;\n",
       "    }\n",
       "</style>\n",
       "<table border=\"1\" class=\"dataframe\">\n",
       "  <thead>\n",
       "    <tr style=\"text-align: right;\">\n",
       "      <th></th>\n",
       "      <th>key</th>\n",
       "      <th>Газ 1</th>\n",
       "    </tr>\n",
       "  </thead>\n",
       "  <tbody>\n",
       "    <tr>\n",
       "      <th>0</th>\n",
       "      <td>1</td>\n",
       "      <td>29.749986</td>\n",
       "    </tr>\n",
       "    <tr>\n",
       "      <th>1</th>\n",
       "      <td>2</td>\n",
       "      <td>12.555561</td>\n",
       "    </tr>\n",
       "    <tr>\n",
       "      <th>2</th>\n",
       "      <td>3</td>\n",
       "      <td>28.554793</td>\n",
       "    </tr>\n",
       "    <tr>\n",
       "      <th>3</th>\n",
       "      <td>4</td>\n",
       "      <td>18.841219</td>\n",
       "    </tr>\n",
       "    <tr>\n",
       "      <th>4</th>\n",
       "      <td>5</td>\n",
       "      <td>5.413692</td>\n",
       "    </tr>\n",
       "  </tbody>\n",
       "</table>\n",
       "</div>"
      ],
      "text/plain": [
       "   key      Газ 1\n",
       "0    1  29.749986\n",
       "1    2  12.555561\n",
       "2    3  28.554793\n",
       "3    4  18.841219\n",
       "4    5   5.413692"
      ]
     },
     "execution_count": 31,
     "metadata": {},
     "output_type": "execute_result"
    }
   ],
   "source": [
    "data_gas.head()"
   ]
  },
  {
   "cell_type": "markdown",
   "metadata": {},
   "source": [
    "Пропусков нет, типы данных в порядке. В значениях аномалий не наблюдается. Построим графики, чтобы убедиться."
   ]
  },
  {
   "cell_type": "code",
   "execution_count": 32,
   "metadata": {},
   "outputs": [
    {
     "data": {
      "text/plain": [
       "Text(0.5, 0, 'Значения')"
      ]
     },
     "execution_count": 32,
     "metadata": {},
     "output_type": "execute_result"
    },
    {
     "data": {
      "image/png": "[encoded data removed]",
      "text/plain": [
       "<Figure size 1080x720 with 1 Axes>"
      ]
     },
     "metadata": {
      "needs_background": "light"
     },
     "output_type": "display_data"
    }
   ],
   "source": [
    "gas = data_gas['Газ 1'].hist(figsize=(15, 10))\n",
    "gas.set_title('Продувка газа')\n",
    "gas.set_ylabel('Количество')\n",
    "gas.set_xlabel('Значения')"
   ]
  },
  {
   "cell_type": "markdown",
   "metadata": {},
   "source": [
    "Есть значения, похожие на выбросы, но, может быть, это особенности технологического процесса. Оставим без изменений."
   ]
  },
  {
   "cell_type": "code",
   "execution_count": 33,
   "metadata": {},
   "outputs": [
    {
     "data": {
      "text/html": [
       "<div>\n",
       "<style scoped>\n",
       "    .dataframe tbody tr th:only-of-type {\n",
       "        vertical-align: middle;\n",
       "    }\n",
       "\n",
       "    .dataframe tbody tr th {\n",
       "        vertical-align: top;\n",
       "    }\n",
       "\n",
       "    .dataframe thead th {\n",
       "        text-align: right;\n",
       "    }\n",
       "</style>\n",
       "<table border=\"1\" class=\"dataframe\">\n",
       "  <thead>\n",
       "    <tr style=\"text-align: right;\">\n",
       "      <th></th>\n",
       "      <th>key</th>\n",
       "      <th>gas</th>\n",
       "    </tr>\n",
       "  </thead>\n",
       "  <tbody>\n",
       "    <tr>\n",
       "      <th>0</th>\n",
       "      <td>1</td>\n",
       "      <td>29.749986</td>\n",
       "    </tr>\n",
       "    <tr>\n",
       "      <th>1</th>\n",
       "      <td>2</td>\n",
       "      <td>12.555561</td>\n",
       "    </tr>\n",
       "    <tr>\n",
       "      <th>2</th>\n",
       "      <td>3</td>\n",
       "      <td>28.554793</td>\n",
       "    </tr>\n",
       "    <tr>\n",
       "      <th>3</th>\n",
       "      <td>4</td>\n",
       "      <td>18.841219</td>\n",
       "    </tr>\n",
       "    <tr>\n",
       "      <th>4</th>\n",
       "      <td>5</td>\n",
       "      <td>5.413692</td>\n",
       "    </tr>\n",
       "    <tr>\n",
       "      <th>...</th>\n",
       "      <td>...</td>\n",
       "      <td>...</td>\n",
       "    </tr>\n",
       "    <tr>\n",
       "      <th>3234</th>\n",
       "      <td>3237</td>\n",
       "      <td>5.543905</td>\n",
       "    </tr>\n",
       "    <tr>\n",
       "      <th>3235</th>\n",
       "      <td>3238</td>\n",
       "      <td>6.745669</td>\n",
       "    </tr>\n",
       "    <tr>\n",
       "      <th>3236</th>\n",
       "      <td>3239</td>\n",
       "      <td>16.023518</td>\n",
       "    </tr>\n",
       "    <tr>\n",
       "      <th>3237</th>\n",
       "      <td>3240</td>\n",
       "      <td>11.863103</td>\n",
       "    </tr>\n",
       "    <tr>\n",
       "      <th>3238</th>\n",
       "      <td>3241</td>\n",
       "      <td>12.680959</td>\n",
       "    </tr>\n",
       "  </tbody>\n",
       "</table>\n",
       "<p>3239 rows × 2 columns</p>\n",
       "</div>"
      ],
      "text/plain": [
       "       key        gas\n",
       "0        1  29.749986\n",
       "1        2  12.555561\n",
       "2        3  28.554793\n",
       "3        4  18.841219\n",
       "4        5   5.413692\n",
       "...    ...        ...\n",
       "3234  3237   5.543905\n",
       "3235  3238   6.745669\n",
       "3236  3239  16.023518\n",
       "3237  3240  11.863103\n",
       "3238  3241  12.680959\n",
       "\n",
       "[3239 rows x 2 columns]"
      ]
     },
     "execution_count": 33,
     "metadata": {},
     "output_type": "execute_result"
    }
   ],
   "source": [
    "#Переименуем столбец\n",
    "data_gas.columns = ['key', 'gas']\n",
    "data_gas"
   ]
  },
  {
   "cell_type": "markdown",
   "metadata": {},
   "source": [
    "Переходим к следующей таблице."
   ]
  },
  {
   "cell_type": "code",
   "execution_count": 34,
   "metadata": {},
   "outputs": [
    {
     "name": "stdout",
     "output_type": "stream",
     "text": [
      "<class 'pandas.core.frame.DataFrame'>\n",
      "\n",
      "RangeIndex: 15907 entries, 0 to 15906\n",
      "\n",
      "Data columns (total 3 columns):\n",
      "\n",
      " #   Column        Non-Null Count  Dtype  \n",
      "\n",
      "---  ------        --------------  -----  \n",
      "\n",
      " 0   key           15907 non-null  int64  \n",
      "\n",
      " 1   Время замера  15907 non-null  object \n",
      "\n",
      " 2   Температура   13006 non-null  float64\n",
      "\n",
      "dtypes: float64(1), int64(1), object(1)\n",
      "\n",
      "memory usage: 372.9+ KB\n"
     ]
    }
   ],
   "source": [
    "data_temp.info()"
   ]
  },
  {
   "cell_type": "code",
   "execution_count": 35,
   "metadata": {},
   "outputs": [
    {
     "data": {
      "text/html": [
       "<div>\n",
       "<style scoped>\n",
       "    .dataframe tbody tr th:only-of-type {\n",
       "        vertical-align: middle;\n",
       "    }\n",
       "\n",
       "    .dataframe tbody tr th {\n",
       "        vertical-align: top;\n",
       "    }\n",
       "\n",
       "    .dataframe thead th {\n",
       "        text-align: right;\n",
       "    }\n",
       "</style>\n",
       "<table border=\"1\" class=\"dataframe\">\n",
       "  <thead>\n",
       "    <tr style=\"text-align: right;\">\n",
       "      <th></th>\n",
       "      <th>key</th>\n",
       "      <th>Время замера</th>\n",
       "      <th>Температура</th>\n",
       "    </tr>\n",
       "  </thead>\n",
       "  <tbody>\n",
       "    <tr>\n",
       "      <th>0</th>\n",
       "      <td>1</td>\n",
       "      <td>2019-05-03 11:16:18</td>\n",
       "      <td>1571.0</td>\n",
       "    </tr>\n",
       "    <tr>\n",
       "      <th>1</th>\n",
       "      <td>1</td>\n",
       "      <td>2019-05-03 11:25:53</td>\n",
       "      <td>1604.0</td>\n",
       "    </tr>\n",
       "    <tr>\n",
       "      <th>2</th>\n",
       "      <td>1</td>\n",
       "      <td>2019-05-03 11:29:11</td>\n",
       "      <td>1618.0</td>\n",
       "    </tr>\n",
       "    <tr>\n",
       "      <th>3</th>\n",
       "      <td>1</td>\n",
       "      <td>2019-05-03 11:30:01</td>\n",
       "      <td>1601.0</td>\n",
       "    </tr>\n",
       "    <tr>\n",
       "      <th>4</th>\n",
       "      <td>1</td>\n",
       "      <td>2019-05-03 11:30:39</td>\n",
       "      <td>1613.0</td>\n",
       "    </tr>\n",
       "  </tbody>\n",
       "</table>\n",
       "</div>"
      ],
      "text/plain": [
       "   key         Время замера  Температура\n",
       "0    1  2019-05-03 11:16:18       1571.0\n",
       "1    1  2019-05-03 11:25:53       1604.0\n",
       "2    1  2019-05-03 11:29:11       1618.0\n",
       "3    1  2019-05-03 11:30:01       1601.0\n",
       "4    1  2019-05-03 11:30:39       1613.0"
      ]
     },
     "execution_count": 35,
     "metadata": {},
     "output_type": "execute_result"
    }
   ],
   "source": [
    "data_temp.head()"
   ]
  },
  {
   "cell_type": "code",
   "execution_count": 36,
   "metadata": {},
   "outputs": [
    {
     "data": {
      "text/html": [
       "<div>\n",
       "<style scoped>\n",
       "    .dataframe tbody tr th:only-of-type {\n",
       "        vertical-align: middle;\n",
       "    }\n",
       "\n",
       "    .dataframe tbody tr th {\n",
       "        vertical-align: top;\n",
       "    }\n",
       "\n",
       "    .dataframe thead th {\n",
       "        text-align: right;\n",
       "    }\n",
       "</style>\n",
       "<table border=\"1\" class=\"dataframe\">\n",
       "  <thead>\n",
       "    <tr style=\"text-align: right;\">\n",
       "      <th></th>\n",
       "      <th>key</th>\n",
       "      <th>Температура</th>\n",
       "    </tr>\n",
       "  </thead>\n",
       "  <tbody>\n",
       "    <tr>\n",
       "      <th>count</th>\n",
       "      <td>15907.000000</td>\n",
       "      <td>13006.000000</td>\n",
       "    </tr>\n",
       "    <tr>\n",
       "      <th>mean</th>\n",
       "      <td>1607.880870</td>\n",
       "      <td>1591.840920</td>\n",
       "    </tr>\n",
       "    <tr>\n",
       "      <th>std</th>\n",
       "      <td>942.212073</td>\n",
       "      <td>21.375851</td>\n",
       "    </tr>\n",
       "    <tr>\n",
       "      <th>min</th>\n",
       "      <td>1.000000</td>\n",
       "      <td>1191.000000</td>\n",
       "    </tr>\n",
       "    <tr>\n",
       "      <th>25%</th>\n",
       "      <td>790.000000</td>\n",
       "      <td>1581.000000</td>\n",
       "    </tr>\n",
       "    <tr>\n",
       "      <th>50%</th>\n",
       "      <td>1618.000000</td>\n",
       "      <td>1591.000000</td>\n",
       "    </tr>\n",
       "    <tr>\n",
       "      <th>75%</th>\n",
       "      <td>2427.000000</td>\n",
       "      <td>1601.000000</td>\n",
       "    </tr>\n",
       "    <tr>\n",
       "      <th>max</th>\n",
       "      <td>3241.000000</td>\n",
       "      <td>1705.000000</td>\n",
       "    </tr>\n",
       "  </tbody>\n",
       "</table>\n",
       "</div>"
      ],
      "text/plain": [
       "                key   Температура\n",
       "count  15907.000000  13006.000000\n",
       "mean    1607.880870   1591.840920\n",
       "std      942.212073     21.375851\n",
       "min        1.000000   1191.000000\n",
       "25%      790.000000   1581.000000\n",
       "50%     1618.000000   1591.000000\n",
       "75%     2427.000000   1601.000000\n",
       "max     3241.000000   1705.000000"
      ]
     },
     "execution_count": 36,
     "metadata": {},
     "output_type": "execute_result"
    }
   ],
   "source": [
    "data_temp.describe()"
   ]
  },
  {
   "cell_type": "markdown",
   "metadata": {},
   "source": [
    "Есть пропуски в значениях температуры, время замеров имеет неправильный тип данных, аномалий не наблюдается."
   ]
  },
  {
   "cell_type": "code",
   "execution_count": 37,
   "metadata": {},
   "outputs": [],
   "source": [
    "#Приведём даты к нужному типу\n",
    "data_temp['Время замера'] = pd.to_datetime(data_temp['Время замера'])"
   ]
  },
  {
   "cell_type": "code",
   "execution_count": 38,
   "metadata": {},
   "outputs": [
    {
     "name": "stdout",
     "output_type": "stream",
     "text": [
      "<class 'pandas.core.frame.DataFrame'>\n",
      "\n",
      "RangeIndex: 15907 entries, 0 to 15906\n",
      "\n",
      "Data columns (total 3 columns):\n",
      "\n",
      " #   Column        Non-Null Count  Dtype         \n",
      "\n",
      "---  ------        --------------  -----         \n",
      "\n",
      " 0   key           15907 non-null  int64         \n",
      "\n",
      " 1   Время замера  15907 non-null  datetime64[ns]\n",
      "\n",
      " 2   Температура   13006 non-null  float64       \n",
      "\n",
      "dtypes: datetime64[ns](1), float64(1), int64(1)\n",
      "\n",
      "memory usage: 372.9 KB\n"
     ]
    }
   ],
   "source": [
    "#Проверим результат\n",
    "data_temp.info()"
   ]
  },
  {
   "cell_type": "code",
   "execution_count": 39,
   "metadata": {},
   "outputs": [
    {
     "data": {
      "text/plain": [
       "Text(0.5, 0, 'Значения')"
      ]
     },
     "execution_count": 39,
     "metadata": {},
     "output_type": "execute_result"
    },
    {
     "data": {
      "image/png": "[encoded data removed]",
      "text/plain": [
       "<Figure size 1080x720 with 1 Axes>"
      ]
     },
     "metadata": {
      "needs_background": "light"
     },
     "output_type": "display_data"
    }
   ],
   "source": [
    "#Рассмотрим температуру\n",
    "temp = data_temp['Температура'].hist(figsize=(15, 10))\n",
    "temp.set_title('Показатели температуры')\n",
    "temp.set_ylabel('Количество')\n",
    "temp.set_xlabel('Значения')"
   ]
  },
  {
   "cell_type": "code",
   "execution_count": 40,
   "metadata": {},
   "outputs": [
    {
     "data": {
      "text/plain": [
       "4350     1191.0\n",
       "12564    1204.0\n",
       "5978     1208.0\n",
       "7958     1218.0\n",
       "10127    1227.0\n",
       "Name: Температура, dtype: float64"
      ]
     },
     "execution_count": 40,
     "metadata": {},
     "output_type": "execute_result"
    }
   ],
   "source": [
    "#Посмотрим наименьшие значения температуры плавления\n",
    "data_temp['Температура'].sort_values().head()"
   ]
  },
  {
   "cell_type": "markdown",
   "metadata": {},
   "source": [
    "Судя по информации на сайте https://metal-holding.ua/, сталь плавится при температуре 1300-1500 градусов. Т.к. у нас есть значения ниже 1300 градусов, удалим их, это явные аномалии. Также удалим пустые строки, они могут плохо повлиять на обучение модели."
   ]
  },
  {
   "cell_type": "code",
   "execution_count": 42,
   "metadata": {},
   "outputs": [
    {
     "data": {
      "text/html": [
       "<div>\n",
       "<style scoped>\n",
       "    .dataframe tbody tr th:only-of-type {\n",
       "        vertical-align: middle;\n",
       "    }\n",
       "\n",
       "    .dataframe tbody tr th {\n",
       "        vertical-align: top;\n",
       "    }\n",
       "\n",
       "    .dataframe thead th {\n",
       "        text-align: right;\n",
       "    }\n",
       "</style>\n",
       "<table border=\"1\" class=\"dataframe\">\n",
       "  <thead>\n",
       "    <tr style=\"text-align: right;\">\n",
       "      <th></th>\n",
       "      <th>key</th>\n",
       "      <th>Время замера</th>\n",
       "      <th>Температура</th>\n",
       "    </tr>\n",
       "  </thead>\n",
       "  <tbody>\n",
       "    <tr>\n",
       "      <th>4350</th>\n",
       "      <td>867</td>\n",
       "      <td>2019-06-04 14:21:00</td>\n",
       "      <td>1191.0</td>\n",
       "    </tr>\n",
       "    <tr>\n",
       "      <th>12564</th>\n",
       "      <td>2561</td>\n",
       "      <td>2019-08-08 07:34:15</td>\n",
       "      <td>1204.0</td>\n",
       "    </tr>\n",
       "    <tr>\n",
       "      <th>5978</th>\n",
       "      <td>1214</td>\n",
       "      <td>2019-06-16 05:32:00</td>\n",
       "      <td>1208.0</td>\n",
       "    </tr>\n",
       "    <tr>\n",
       "      <th>7958</th>\n",
       "      <td>1619</td>\n",
       "      <td>2019-06-30 11:03:54</td>\n",
       "      <td>1218.0</td>\n",
       "    </tr>\n",
       "    <tr>\n",
       "      <th>10127</th>\n",
       "      <td>2052</td>\n",
       "      <td>2019-07-21 14:51:40</td>\n",
       "      <td>1227.0</td>\n",
       "    </tr>\n",
       "    <tr>\n",
       "      <th>8913</th>\n",
       "      <td>1818</td>\n",
       "      <td>2019-07-07 00:30:49</td>\n",
       "      <td>1383.0</td>\n",
       "    </tr>\n",
       "    <tr>\n",
       "      <th>8914</th>\n",
       "      <td>1818</td>\n",
       "      <td>2019-07-07 00:31:40</td>\n",
       "      <td>1383.0</td>\n",
       "    </tr>\n",
       "    <tr>\n",
       "      <th>8206</th>\n",
       "      <td>1671</td>\n",
       "      <td>2019-07-02 00:28:59</td>\n",
       "      <td>1519.0</td>\n",
       "    </tr>\n",
       "    <tr>\n",
       "      <th>2675</th>\n",
       "      <td>512</td>\n",
       "      <td>2019-05-22 11:08:02</td>\n",
       "      <td>1520.0</td>\n",
       "    </tr>\n",
       "    <tr>\n",
       "      <th>4561</th>\n",
       "      <td>908</td>\n",
       "      <td>2019-06-05 19:56:25</td>\n",
       "      <td>1520.0</td>\n",
       "    </tr>\n",
       "  </tbody>\n",
       "</table>\n",
       "</div>"
      ],
      "text/plain": [
       "        key        Время замера  Температура\n",
       "4350    867 2019-06-04 14:21:00       1191.0\n",
       "12564  2561 2019-08-08 07:34:15       1204.0\n",
       "5978   1214 2019-06-16 05:32:00       1208.0\n",
       "7958   1619 2019-06-30 11:03:54       1218.0\n",
       "10127  2052 2019-07-21 14:51:40       1227.0\n",
       "8913   1818 2019-07-07 00:30:49       1383.0\n",
       "8914   1818 2019-07-07 00:31:40       1383.0\n",
       "8206   1671 2019-07-02 00:28:59       1519.0\n",
       "2675    512 2019-05-22 11:08:02       1520.0\n",
       "4561    908 2019-06-05 19:56:25       1520.0"
      ]
     },
     "execution_count": 42,
     "metadata": {},
     "output_type": "execute_result"
    }
   ],
   "source": [
    "#Узнаем номера партий с температурой ниже нормальной\n",
    "data_temp.sort_values(by=['Температура']).head(10)"
   ]
  },
  {
   "cell_type": "code",
   "execution_count": 44,
   "metadata": {},
   "outputs": [
    {
     "data": {
      "text/html": [
       "<div>\n",
       "<style scoped>\n",
       "    .dataframe tbody tr th:only-of-type {\n",
       "        vertical-align: middle;\n",
       "    }\n",
       "\n",
       "    .dataframe tbody tr th {\n",
       "        vertical-align: top;\n",
       "    }\n",
       "\n",
       "    .dataframe thead th {\n",
       "        text-align: right;\n",
       "    }\n",
       "</style>\n",
       "<table border=\"1\" class=\"dataframe\">\n",
       "  <thead>\n",
       "    <tr style=\"text-align: right;\">\n",
       "      <th></th>\n",
       "      <th>key</th>\n",
       "      <th>Время замера</th>\n",
       "      <th>Температура</th>\n",
       "    </tr>\n",
       "  </thead>\n",
       "  <tbody>\n",
       "    <tr>\n",
       "      <th>4350</th>\n",
       "      <td>867</td>\n",
       "      <td>2019-06-04 14:21:00</td>\n",
       "      <td>1191.0</td>\n",
       "    </tr>\n",
       "    <tr>\n",
       "      <th>4351</th>\n",
       "      <td>867</td>\n",
       "      <td>2019-06-04 14:29:35</td>\n",
       "      <td>1575.0</td>\n",
       "    </tr>\n",
       "    <tr>\n",
       "      <th>4352</th>\n",
       "      <td>867</td>\n",
       "      <td>2019-06-04 14:30:29</td>\n",
       "      <td>1576.0</td>\n",
       "    </tr>\n",
       "    <tr>\n",
       "      <th>4353</th>\n",
       "      <td>867</td>\n",
       "      <td>2019-06-04 14:43:10</td>\n",
       "      <td>1571.0</td>\n",
       "    </tr>\n",
       "    <tr>\n",
       "      <th>4354</th>\n",
       "      <td>867</td>\n",
       "      <td>2019-06-04 14:52:54</td>\n",
       "      <td>1600.0</td>\n",
       "    </tr>\n",
       "    <tr>\n",
       "      <th>4355</th>\n",
       "      <td>867</td>\n",
       "      <td>2019-06-04 14:57:17</td>\n",
       "      <td>1599.0</td>\n",
       "    </tr>\n",
       "  </tbody>\n",
       "</table>\n",
       "</div>"
      ],
      "text/plain": [
       "      key        Время замера  Температура\n",
       "4350  867 2019-06-04 14:21:00       1191.0\n",
       "4351  867 2019-06-04 14:29:35       1575.0\n",
       "4352  867 2019-06-04 14:30:29       1576.0\n",
       "4353  867 2019-06-04 14:43:10       1571.0\n",
       "4354  867 2019-06-04 14:52:54       1600.0\n",
       "4355  867 2019-06-04 14:57:17       1599.0"
      ]
     },
     "execution_count": 44,
     "metadata": {},
     "output_type": "execute_result"
    }
   ],
   "source": [
    "data_temp[data_temp['key'] == 867]"
   ]
  },
  {
   "cell_type": "markdown",
   "metadata": {},
   "source": [
    "Аномалия в первом замере, поэтому удалим всю партию"
   ]
  },
  {
   "cell_type": "code",
   "execution_count": 45,
   "metadata": {},
   "outputs": [],
   "source": [
    "data_temp = data_temp.drop(data_temp[data_temp['key'] == 867].index)"
   ]
  },
  {
   "cell_type": "code",
   "execution_count": 46,
   "metadata": {},
   "outputs": [
    {
     "data": {
      "text/html": [
       "<div>\n",
       "<style scoped>\n",
       "    .dataframe tbody tr th:only-of-type {\n",
       "        vertical-align: middle;\n",
       "    }\n",
       "\n",
       "    .dataframe tbody tr th {\n",
       "        vertical-align: top;\n",
       "    }\n",
       "\n",
       "    .dataframe thead th {\n",
       "        text-align: right;\n",
       "    }\n",
       "</style>\n",
       "<table border=\"1\" class=\"dataframe\">\n",
       "  <thead>\n",
       "    <tr style=\"text-align: right;\">\n",
       "      <th></th>\n",
       "      <th>key</th>\n",
       "      <th>Время замера</th>\n",
       "      <th>Температура</th>\n",
       "    </tr>\n",
       "  </thead>\n",
       "  <tbody>\n",
       "    <tr>\n",
       "      <th>12564</th>\n",
       "      <td>2561</td>\n",
       "      <td>2019-08-08 07:34:15</td>\n",
       "      <td>1204.0</td>\n",
       "    </tr>\n",
       "    <tr>\n",
       "      <th>12565</th>\n",
       "      <td>2561</td>\n",
       "      <td>2019-08-08 07:35:02</td>\n",
       "      <td>NaN</td>\n",
       "    </tr>\n",
       "    <tr>\n",
       "      <th>12566</th>\n",
       "      <td>2561</td>\n",
       "      <td>2019-08-08 07:35:38</td>\n",
       "      <td>NaN</td>\n",
       "    </tr>\n",
       "    <tr>\n",
       "      <th>12567</th>\n",
       "      <td>2561</td>\n",
       "      <td>2019-08-08 07:49:07</td>\n",
       "      <td>NaN</td>\n",
       "    </tr>\n",
       "    <tr>\n",
       "      <th>12568</th>\n",
       "      <td>2561</td>\n",
       "      <td>2019-08-08 07:54:21</td>\n",
       "      <td>NaN</td>\n",
       "    </tr>\n",
       "    <tr>\n",
       "      <th>12569</th>\n",
       "      <td>2561</td>\n",
       "      <td>2019-08-08 07:56:57</td>\n",
       "      <td>NaN</td>\n",
       "    </tr>\n",
       "  </tbody>\n",
       "</table>\n",
       "</div>"
      ],
      "text/plain": [
       "        key        Время замера  Температура\n",
       "12564  2561 2019-08-08 07:34:15       1204.0\n",
       "12565  2561 2019-08-08 07:35:02          NaN\n",
       "12566  2561 2019-08-08 07:35:38          NaN\n",
       "12567  2561 2019-08-08 07:49:07          NaN\n",
       "12568  2561 2019-08-08 07:54:21          NaN\n",
       "12569  2561 2019-08-08 07:56:57          NaN"
      ]
     },
     "execution_count": 46,
     "metadata": {},
     "output_type": "execute_result"
    }
   ],
   "source": [
    "data_temp[data_temp['key'] == 2561]"
   ]
  },
  {
   "cell_type": "markdown",
   "metadata": {},
   "source": [
    "Эту парти также нужно удалить, т.к. в ней известна только начальная температура."
   ]
  },
  {
   "cell_type": "code",
   "execution_count": 47,
   "metadata": {},
   "outputs": [],
   "source": [
    "data_temp = data_temp.drop(data_temp[data_temp['key'] == 2561].index)"
   ]
  },
  {
   "cell_type": "code",
   "execution_count": 48,
   "metadata": {},
   "outputs": [
    {
     "data": {
      "text/html": [
       "<div>\n",
       "<style scoped>\n",
       "    .dataframe tbody tr th:only-of-type {\n",
       "        vertical-align: middle;\n",
       "    }\n",
       "\n",
       "    .dataframe tbody tr th {\n",
       "        vertical-align: top;\n",
       "    }\n",
       "\n",
       "    .dataframe thead th {\n",
       "        text-align: right;\n",
       "    }\n",
       "</style>\n",
       "<table border=\"1\" class=\"dataframe\">\n",
       "  <thead>\n",
       "    <tr style=\"text-align: right;\">\n",
       "      <th></th>\n",
       "      <th>key</th>\n",
       "      <th>Время замера</th>\n",
       "      <th>Температура</th>\n",
       "    </tr>\n",
       "  </thead>\n",
       "  <tbody>\n",
       "    <tr>\n",
       "      <th>5978</th>\n",
       "      <td>1214</td>\n",
       "      <td>2019-06-16 05:32:00</td>\n",
       "      <td>1208.0</td>\n",
       "    </tr>\n",
       "    <tr>\n",
       "      <th>5979</th>\n",
       "      <td>1214</td>\n",
       "      <td>2019-06-16 05:49:01</td>\n",
       "      <td>1608.0</td>\n",
       "    </tr>\n",
       "    <tr>\n",
       "      <th>5980</th>\n",
       "      <td>1214</td>\n",
       "      <td>2019-06-16 05:51:28</td>\n",
       "      <td>1608.0</td>\n",
       "    </tr>\n",
       "    <tr>\n",
       "      <th>5981</th>\n",
       "      <td>1214</td>\n",
       "      <td>2019-06-16 05:51:38</td>\n",
       "      <td>1608.0</td>\n",
       "    </tr>\n",
       "    <tr>\n",
       "      <th>5982</th>\n",
       "      <td>1214</td>\n",
       "      <td>2019-06-16 05:52:41</td>\n",
       "      <td>1608.0</td>\n",
       "    </tr>\n",
       "    <tr>\n",
       "      <th>5983</th>\n",
       "      <td>1214</td>\n",
       "      <td>2019-06-16 05:53:03</td>\n",
       "      <td>1608.0</td>\n",
       "    </tr>\n",
       "    <tr>\n",
       "      <th>5984</th>\n",
       "      <td>1214</td>\n",
       "      <td>2019-06-16 05:53:13</td>\n",
       "      <td>1608.0</td>\n",
       "    </tr>\n",
       "    <tr>\n",
       "      <th>5985</th>\n",
       "      <td>1214</td>\n",
       "      <td>2019-06-16 05:54:48</td>\n",
       "      <td>1604.0</td>\n",
       "    </tr>\n",
       "    <tr>\n",
       "      <th>5986</th>\n",
       "      <td>1214</td>\n",
       "      <td>2019-06-16 05:57:21</td>\n",
       "      <td>1604.0</td>\n",
       "    </tr>\n",
       "    <tr>\n",
       "      <th>5987</th>\n",
       "      <td>1214</td>\n",
       "      <td>2019-06-16 06:00:25</td>\n",
       "      <td>1604.0</td>\n",
       "    </tr>\n",
       "    <tr>\n",
       "      <th>5988</th>\n",
       "      <td>1214</td>\n",
       "      <td>2019-06-16 06:06:12</td>\n",
       "      <td>1600.0</td>\n",
       "    </tr>\n",
       "    <tr>\n",
       "      <th>5989</th>\n",
       "      <td>1214</td>\n",
       "      <td>2019-06-16 06:07:28</td>\n",
       "      <td>1596.0</td>\n",
       "    </tr>\n",
       "    <tr>\n",
       "      <th>5990</th>\n",
       "      <td>1214</td>\n",
       "      <td>2019-06-16 06:08:28</td>\n",
       "      <td>1596.0</td>\n",
       "    </tr>\n",
       "    <tr>\n",
       "      <th>5991</th>\n",
       "      <td>1214</td>\n",
       "      <td>2019-06-16 06:09:10</td>\n",
       "      <td>1603.0</td>\n",
       "    </tr>\n",
       "    <tr>\n",
       "      <th>5992</th>\n",
       "      <td>1214</td>\n",
       "      <td>2019-06-16 06:12:25</td>\n",
       "      <td>1591.0</td>\n",
       "    </tr>\n",
       "    <tr>\n",
       "      <th>5993</th>\n",
       "      <td>1214</td>\n",
       "      <td>2019-06-16 06:14:45</td>\n",
       "      <td>1591.0</td>\n",
       "    </tr>\n",
       "  </tbody>\n",
       "</table>\n",
       "</div>"
      ],
      "text/plain": [
       "       key        Время замера  Температура\n",
       "5978  1214 2019-06-16 05:32:00       1208.0\n",
       "5979  1214 2019-06-16 05:49:01       1608.0\n",
       "5980  1214 2019-06-16 05:51:28       1608.0\n",
       "5981  1214 2019-06-16 05:51:38       1608.0\n",
       "5982  1214 2019-06-16 05:52:41       1608.0\n",
       "5983  1214 2019-06-16 05:53:03       1608.0\n",
       "5984  1214 2019-06-16 05:53:13       1608.0\n",
       "5985  1214 2019-06-16 05:54:48       1604.0\n",
       "5986  1214 2019-06-16 05:57:21       1604.0\n",
       "5987  1214 2019-06-16 06:00:25       1604.0\n",
       "5988  1214 2019-06-16 06:06:12       1600.0\n",
       "5989  1214 2019-06-16 06:07:28       1596.0\n",
       "5990  1214 2019-06-16 06:08:28       1596.0\n",
       "5991  1214 2019-06-16 06:09:10       1603.0\n",
       "5992  1214 2019-06-16 06:12:25       1591.0\n",
       "5993  1214 2019-06-16 06:14:45       1591.0"
      ]
     },
     "execution_count": 48,
     "metadata": {},
     "output_type": "execute_result"
    }
   ],
   "source": [
    "data_temp[data_temp['key'] == 1214]"
   ]
  },
  {
   "cell_type": "markdown",
   "metadata": {},
   "source": [
    "Эту партию тоже удаляем"
   ]
  },
  {
   "cell_type": "code",
   "execution_count": 49,
   "metadata": {},
   "outputs": [],
   "source": [
    "data_temp = data_temp.drop(data_temp[data_temp['key'] == 1214].index)"
   ]
  },
  {
   "cell_type": "code",
   "execution_count": 50,
   "metadata": {},
   "outputs": [
    {
     "data": {
      "text/html": [
       "<div>\n",
       "<style scoped>\n",
       "    .dataframe tbody tr th:only-of-type {\n",
       "        vertical-align: middle;\n",
       "    }\n",
       "\n",
       "    .dataframe tbody tr th {\n",
       "        vertical-align: top;\n",
       "    }\n",
       "\n",
       "    .dataframe thead th {\n",
       "        text-align: right;\n",
       "    }\n",
       "</style>\n",
       "<table border=\"1\" class=\"dataframe\">\n",
       "  <thead>\n",
       "    <tr style=\"text-align: right;\">\n",
       "      <th></th>\n",
       "      <th>key</th>\n",
       "      <th>Время замера</th>\n",
       "      <th>Температура</th>\n",
       "    </tr>\n",
       "  </thead>\n",
       "  <tbody>\n",
       "    <tr>\n",
       "      <th>7958</th>\n",
       "      <td>1619</td>\n",
       "      <td>2019-06-30 11:03:54</td>\n",
       "      <td>1218.0</td>\n",
       "    </tr>\n",
       "    <tr>\n",
       "      <th>7959</th>\n",
       "      <td>1619</td>\n",
       "      <td>2019-06-30 11:04:39</td>\n",
       "      <td>1623.0</td>\n",
       "    </tr>\n",
       "    <tr>\n",
       "      <th>7960</th>\n",
       "      <td>1619</td>\n",
       "      <td>2019-06-30 11:10:01</td>\n",
       "      <td>1611.0</td>\n",
       "    </tr>\n",
       "    <tr>\n",
       "      <th>7961</th>\n",
       "      <td>1619</td>\n",
       "      <td>2019-06-30 11:16:03</td>\n",
       "      <td>1603.0</td>\n",
       "    </tr>\n",
       "    <tr>\n",
       "      <th>7962</th>\n",
       "      <td>1619</td>\n",
       "      <td>2019-06-30 11:21:54</td>\n",
       "      <td>1590.0</td>\n",
       "    </tr>\n",
       "  </tbody>\n",
       "</table>\n",
       "</div>"
      ],
      "text/plain": [
       "       key        Время замера  Температура\n",
       "7958  1619 2019-06-30 11:03:54       1218.0\n",
       "7959  1619 2019-06-30 11:04:39       1623.0\n",
       "7960  1619 2019-06-30 11:10:01       1611.0\n",
       "7961  1619 2019-06-30 11:16:03       1603.0\n",
       "7962  1619 2019-06-30 11:21:54       1590.0"
      ]
     },
     "execution_count": 50,
     "metadata": {},
     "output_type": "execute_result"
    }
   ],
   "source": [
    "data_temp[data_temp['key'] == 1619]"
   ]
  },
  {
   "cell_type": "markdown",
   "metadata": {},
   "source": [
    "И эту"
   ]
  },
  {
   "cell_type": "code",
   "execution_count": 51,
   "metadata": {},
   "outputs": [],
   "source": [
    "data_temp = data_temp.drop(data_temp[data_temp['key'] == 1619].index)"
   ]
  },
  {
   "cell_type": "code",
   "execution_count": 52,
   "metadata": {},
   "outputs": [
    {
     "data": {
      "text/html": [
       "<div>\n",
       "<style scoped>\n",
       "    .dataframe tbody tr th:only-of-type {\n",
       "        vertical-align: middle;\n",
       "    }\n",
       "\n",
       "    .dataframe tbody tr th {\n",
       "        vertical-align: top;\n",
       "    }\n",
       "\n",
       "    .dataframe thead th {\n",
       "        text-align: right;\n",
       "    }\n",
       "</style>\n",
       "<table border=\"1\" class=\"dataframe\">\n",
       "  <thead>\n",
       "    <tr style=\"text-align: right;\">\n",
       "      <th></th>\n",
       "      <th>key</th>\n",
       "      <th>Время замера</th>\n",
       "      <th>Температура</th>\n",
       "    </tr>\n",
       "  </thead>\n",
       "  <tbody>\n",
       "    <tr>\n",
       "      <th>10127</th>\n",
       "      <td>2052</td>\n",
       "      <td>2019-07-21 14:51:40</td>\n",
       "      <td>1227.0</td>\n",
       "    </tr>\n",
       "    <tr>\n",
       "      <th>10128</th>\n",
       "      <td>2052</td>\n",
       "      <td>2019-07-21 14:52:21</td>\n",
       "      <td>1592.0</td>\n",
       "    </tr>\n",
       "    <tr>\n",
       "      <th>10129</th>\n",
       "      <td>2052</td>\n",
       "      <td>2019-07-21 15:06:31</td>\n",
       "      <td>1590.0</td>\n",
       "    </tr>\n",
       "    <tr>\n",
       "      <th>10130</th>\n",
       "      <td>2052</td>\n",
       "      <td>2019-07-21 15:15:24</td>\n",
       "      <td>1591.0</td>\n",
       "    </tr>\n",
       "    <tr>\n",
       "      <th>10131</th>\n",
       "      <td>2052</td>\n",
       "      <td>2019-07-21 15:24:06</td>\n",
       "      <td>1592.0</td>\n",
       "    </tr>\n",
       "  </tbody>\n",
       "</table>\n",
       "</div>"
      ],
      "text/plain": [
       "        key        Время замера  Температура\n",
       "10127  2052 2019-07-21 14:51:40       1227.0\n",
       "10128  2052 2019-07-21 14:52:21       1592.0\n",
       "10129  2052 2019-07-21 15:06:31       1590.0\n",
       "10130  2052 2019-07-21 15:15:24       1591.0\n",
       "10131  2052 2019-07-21 15:24:06       1592.0"
      ]
     },
     "execution_count": 52,
     "metadata": {},
     "output_type": "execute_result"
    }
   ],
   "source": [
    "data_temp[data_temp['key'] == 2052]"
   ]
  },
  {
   "cell_type": "markdown",
   "metadata": {},
   "source": [
    "И эту тоже"
   ]
  },
  {
   "cell_type": "code",
   "execution_count": 53,
   "metadata": {},
   "outputs": [],
   "source": [
    "data_temp = data_temp.drop(data_temp[data_temp['key'] == 2052].index)"
   ]
  },
  {
   "cell_type": "code",
   "execution_count": 54,
   "metadata": {},
   "outputs": [
    {
     "name": "stdout",
     "output_type": "stream",
     "text": [
      "<class 'pandas.core.frame.DataFrame'>\n",
      "\n",
      "Int64Index: 15869 entries, 0 to 15906\n",
      "\n",
      "Data columns (total 3 columns):\n",
      "\n",
      " #   Column        Non-Null Count  Dtype         \n",
      "\n",
      "---  ------        --------------  -----         \n",
      "\n",
      " 0   key           15869 non-null  int64         \n",
      "\n",
      " 1   Время замера  15869 non-null  datetime64[ns]\n",
      "\n",
      " 2   Температура   12973 non-null  float64       \n",
      "\n",
      "dtypes: datetime64[ns](1), float64(1), int64(1)\n",
      "\n",
      "memory usage: 495.9 KB\n"
     ]
    }
   ],
   "source": [
    "#Проверим результат\n",
    "data_temp.info()"
   ]
  },
  {
   "cell_type": "code",
   "execution_count": 55,
   "metadata": {},
   "outputs": [
    {
     "data": {
      "text/html": [
       "<div>\n",
       "<style scoped>\n",
       "    .dataframe tbody tr th:only-of-type {\n",
       "        vertical-align: middle;\n",
       "    }\n",
       "\n",
       "    .dataframe tbody tr th {\n",
       "        vertical-align: top;\n",
       "    }\n",
       "\n",
       "    .dataframe thead th {\n",
       "        text-align: right;\n",
       "    }\n",
       "</style>\n",
       "<table border=\"1\" class=\"dataframe\">\n",
       "  <thead>\n",
       "    <tr style=\"text-align: right;\">\n",
       "      <th></th>\n",
       "      <th>key</th>\n",
       "      <th>Время замера</th>\n",
       "      <th>Температура</th>\n",
       "    </tr>\n",
       "  </thead>\n",
       "  <tbody>\n",
       "    <tr>\n",
       "      <th>0</th>\n",
       "      <td>1</td>\n",
       "      <td>2019-05-03 11:16:18</td>\n",
       "      <td>1571.0</td>\n",
       "    </tr>\n",
       "    <tr>\n",
       "      <th>1</th>\n",
       "      <td>1</td>\n",
       "      <td>2019-05-03 11:25:53</td>\n",
       "      <td>1604.0</td>\n",
       "    </tr>\n",
       "    <tr>\n",
       "      <th>2</th>\n",
       "      <td>1</td>\n",
       "      <td>2019-05-03 11:29:11</td>\n",
       "      <td>1618.0</td>\n",
       "    </tr>\n",
       "    <tr>\n",
       "      <th>3</th>\n",
       "      <td>1</td>\n",
       "      <td>2019-05-03 11:30:01</td>\n",
       "      <td>1601.0</td>\n",
       "    </tr>\n",
       "    <tr>\n",
       "      <th>4</th>\n",
       "      <td>1</td>\n",
       "      <td>2019-05-03 11:30:39</td>\n",
       "      <td>1613.0</td>\n",
       "    </tr>\n",
       "    <tr>\n",
       "      <th>...</th>\n",
       "      <td>...</td>\n",
       "      <td>...</td>\n",
       "      <td>...</td>\n",
       "    </tr>\n",
       "    <tr>\n",
       "      <th>15902</th>\n",
       "      <td>3241</td>\n",
       "      <td>2019-09-01 04:03:30</td>\n",
       "      <td>1586.0</td>\n",
       "    </tr>\n",
       "    <tr>\n",
       "      <th>15903</th>\n",
       "      <td>3241</td>\n",
       "      <td>2019-09-01 04:16:12</td>\n",
       "      <td>-1000.0</td>\n",
       "    </tr>\n",
       "    <tr>\n",
       "      <th>15904</th>\n",
       "      <td>3241</td>\n",
       "      <td>2019-09-01 04:22:39</td>\n",
       "      <td>-1000.0</td>\n",
       "    </tr>\n",
       "    <tr>\n",
       "      <th>15905</th>\n",
       "      <td>3241</td>\n",
       "      <td>2019-09-01 04:33:42</td>\n",
       "      <td>-1000.0</td>\n",
       "    </tr>\n",
       "    <tr>\n",
       "      <th>15906</th>\n",
       "      <td>3241</td>\n",
       "      <td>2019-09-01 04:38:08</td>\n",
       "      <td>-1000.0</td>\n",
       "    </tr>\n",
       "  </tbody>\n",
       "</table>\n",
       "<p>15869 rows × 3 columns</p>\n",
       "</div>"
      ],
      "text/plain": [
       "        key        Время замера  Температура\n",
       "0         1 2019-05-03 11:16:18       1571.0\n",
       "1         1 2019-05-03 11:25:53       1604.0\n",
       "2         1 2019-05-03 11:29:11       1618.0\n",
       "3         1 2019-05-03 11:30:01       1601.0\n",
       "4         1 2019-05-03 11:30:39       1613.0\n",
       "...     ...                 ...          ...\n",
       "15902  3241 2019-09-01 04:03:30       1586.0\n",
       "15903  3241 2019-09-01 04:16:12      -1000.0\n",
       "15904  3241 2019-09-01 04:22:39      -1000.0\n",
       "15905  3241 2019-09-01 04:33:42      -1000.0\n",
       "15906  3241 2019-09-01 04:38:08      -1000.0\n",
       "\n",
       "[15869 rows x 3 columns]"
      ]
     },
     "execution_count": 55,
     "metadata": {},
     "output_type": "execute_result"
    }
   ],
   "source": [
    "#Заменим пропуски на минусовое значение\n",
    "data_temp = data_temp.fillna(-1000)\n",
    "data_temp"
   ]
  },
  {
   "cell_type": "code",
   "execution_count": 56,
   "metadata": {},
   "outputs": [
    {
     "data": {
      "text/html": [
       "<div>\n",
       "<style scoped>\n",
       "    .dataframe tbody tr th:only-of-type {\n",
       "        vertical-align: middle;\n",
       "    }\n",
       "\n",
       "    .dataframe tbody tr th {\n",
       "        vertical-align: top;\n",
       "    }\n",
       "\n",
       "    .dataframe thead th {\n",
       "        text-align: right;\n",
       "    }\n",
       "</style>\n",
       "<table border=\"1\" class=\"dataframe\">\n",
       "  <thead>\n",
       "    <tr style=\"text-align: right;\">\n",
       "      <th></th>\n",
       "      <th>Температура</th>\n",
       "    </tr>\n",
       "    <tr>\n",
       "      <th>key</th>\n",
       "      <th></th>\n",
       "    </tr>\n",
       "  </thead>\n",
       "  <tbody>\n",
       "    <tr>\n",
       "      <th>2500</th>\n",
       "      <td>-1000.0</td>\n",
       "    </tr>\n",
       "    <tr>\n",
       "      <th>2501</th>\n",
       "      <td>-1000.0</td>\n",
       "    </tr>\n",
       "    <tr>\n",
       "      <th>2502</th>\n",
       "      <td>-1000.0</td>\n",
       "    </tr>\n",
       "    <tr>\n",
       "      <th>2503</th>\n",
       "      <td>-1000.0</td>\n",
       "    </tr>\n",
       "    <tr>\n",
       "      <th>2504</th>\n",
       "      <td>-1000.0</td>\n",
       "    </tr>\n",
       "    <tr>\n",
       "      <th>...</th>\n",
       "      <td>...</td>\n",
       "    </tr>\n",
       "    <tr>\n",
       "      <th>3237</th>\n",
       "      <td>-1000.0</td>\n",
       "    </tr>\n",
       "    <tr>\n",
       "      <th>3238</th>\n",
       "      <td>-1000.0</td>\n",
       "    </tr>\n",
       "    <tr>\n",
       "      <th>3239</th>\n",
       "      <td>-1000.0</td>\n",
       "    </tr>\n",
       "    <tr>\n",
       "      <th>3240</th>\n",
       "      <td>-1000.0</td>\n",
       "    </tr>\n",
       "    <tr>\n",
       "      <th>3241</th>\n",
       "      <td>-1000.0</td>\n",
       "    </tr>\n",
       "  </tbody>\n",
       "</table>\n",
       "<p>738 rows × 1 columns</p>\n",
       "</div>"
      ],
      "text/plain": [
       "      Температура\n",
       "key              \n",
       "2500      -1000.0\n",
       "2501      -1000.0\n",
       "2502      -1000.0\n",
       "2503      -1000.0\n",
       "2504      -1000.0\n",
       "...           ...\n",
       "3237      -1000.0\n",
       "3238      -1000.0\n",
       "3239      -1000.0\n",
       "3240      -1000.0\n",
       "3241      -1000.0\n",
       "\n",
       "[738 rows x 1 columns]"
      ]
     },
     "execution_count": 56,
     "metadata": {},
     "output_type": "execute_result"
    }
   ],
   "source": [
    "#Посмотрим номера партии, у которых отрицательное значение температуры\n",
    "t = data_temp.groupby('key')['Температура'].last().to_frame()\n",
    "temp = t.loc[t.loc[:, 'Температура'] == -1000]\n",
    "temp"
   ]
  },
  {
   "cell_type": "markdown",
   "metadata": {},
   "source": [
    "Пропуски в температуре есть у партий, начиная с 2500 номера."
   ]
  },
  {
   "cell_type": "code",
   "execution_count": 57,
   "metadata": {},
   "outputs": [],
   "source": [
    "#Удалим все партии с пустыми строками\n",
    "data_temp = data_temp.query('key < 2500')"
   ]
  },
  {
   "cell_type": "code",
   "execution_count": 58,
   "metadata": {},
   "outputs": [
    {
     "name": "stdout",
     "output_type": "stream",
     "text": [
      "<class 'pandas.core.frame.DataFrame'>\n",
      "\n",
      "Int64Index: 12235 entries, 0 to 12266\n",
      "\n",
      "Data columns (total 3 columns):\n",
      "\n",
      " #   Column        Non-Null Count  Dtype         \n",
      "\n",
      "---  ------        --------------  -----         \n",
      "\n",
      " 0   key           12235 non-null  int64         \n",
      "\n",
      " 1   Время замера  12235 non-null  datetime64[ns]\n",
      "\n",
      " 2   Температура   12235 non-null  float64       \n",
      "\n",
      "dtypes: datetime64[ns](1), float64(1), int64(1)\n",
      "\n",
      "memory usage: 382.3 KB\n"
     ]
    }
   ],
   "source": [
    "#Проверим удаление\n",
    "data_temp.info()"
   ]
  },
  {
   "cell_type": "code",
   "execution_count": 59,
   "metadata": {},
   "outputs": [
    {
     "data": {
      "text/plain": [
       "<AxesSubplot:>"
      ]
     },
     "execution_count": 59,
     "metadata": {},
     "output_type": "execute_result"
    },
    {
     "data": {
      "image/png": "[encoded data removed]",
      "text/plain": [
       "<Figure size 1080x720 with 1 Axes>"
      ]
     },
     "metadata": {
      "needs_background": "light"
     },
     "output_type": "display_data"
    }
   ],
   "source": [
    "#Построим график с усами\n",
    "data_temp.boxplot(figsize=(15, 10), vert=False)"
   ]
  },
  {
   "cell_type": "code",
   "execution_count": 60,
   "metadata": {},
   "outputs": [
    {
     "data": {
      "text/plain": [
       "8914    1383.0\n",
       "8913    1383.0\n",
       "8206    1519.0\n",
       "2675    1520.0\n",
       "4561    1520.0\n",
       "Name: Температура, dtype: float64"
      ]
     },
     "execution_count": 60,
     "metadata": {},
     "output_type": "execute_result"
    }
   ],
   "source": [
    "data_temp['Температура'].sort_values().head()"
   ]
  },
  {
   "cell_type": "markdown",
   "metadata": {},
   "source": [
    "В основном партии плавились при температуре от 1500 градусов. С температурой плавления 1300 есть только две партии. Очень похоже на выброс, но, опять таки, это может быть особенностью технологического процесса. Не будем их трогать."
   ]
  },
  {
   "cell_type": "markdown",
   "metadata": {},
   "source": [
    "Разделим температуру на начальную и конечную."
   ]
  },
  {
   "cell_type": "code",
   "execution_count": 61,
   "metadata": {},
   "outputs": [],
   "source": [
    "#Удалим партии, у которых только один замер температуры\n",
    "one_t = data_temp.groupby('key')['Температура'].count().reset_index()\n",
    "one_t['Температура'].value_counts()\n",
    "one_t = one_t.loc[one_t['Температура'] == 1,'key']"
   ]
  },
  {
   "cell_type": "code",
   "execution_count": 62,
   "metadata": {},
   "outputs": [],
   "source": [
    "new_data_temp = data_temp.copy()\n",
    "new_data_temp = new_data_temp.drop(new_data_temp[new_data_temp['key'].isin(one_t.values)].index)"
   ]
  },
  {
   "cell_type": "code",
   "execution_count": 63,
   "metadata": {},
   "outputs": [
    {
     "name": "stdout",
     "output_type": "stream",
     "text": [
      "<class 'pandas.core.frame.DataFrame'>\n",
      "\n",
      "Int64Index: 12233 entries, 0 to 12266\n",
      "\n",
      "Data columns (total 3 columns):\n",
      "\n",
      " #   Column        Non-Null Count  Dtype         \n",
      "\n",
      "---  ------        --------------  -----         \n",
      "\n",
      " 0   key           12233 non-null  int64         \n",
      "\n",
      " 1   Время замера  12233 non-null  datetime64[ns]\n",
      "\n",
      " 2   Температура   12233 non-null  float64       \n",
      "\n",
      "dtypes: datetime64[ns](1), float64(1), int64(1)\n",
      "\n",
      "memory usage: 382.3 KB\n"
     ]
    }
   ],
   "source": [
    "new_data_temp.info()"
   ]
  },
  {
   "cell_type": "markdown",
   "metadata": {},
   "source": [
    "Количество данных уменьшилось."
   ]
  },
  {
   "cell_type": "code",
   "execution_count": 64,
   "metadata": {},
   "outputs": [],
   "source": [
    "temp_one = new_data_temp.groupby('key').agg('min')['Время замера']\n",
    "temp_one = pd.DataFrame(temp_one)\n",
    "temp_one = temp_one.merge(new_data_temp, on='Время замера', how='left')\n",
    "temp_one.set_axis(['time_one','key','temp_one'], axis = 'columns', inplace = True)\n",
    "\n",
    "temp_two = new_data_temp.groupby('key').agg('max')['Время замера']\n",
    "temp_two = pd.DataFrame(temp_two)\n",
    "temp_two = temp_two.merge(new_data_temp, on='Время замера', how='left')\n",
    "temp_two.set_axis(['time_two','key','temp_two'], axis = 'columns', inplace = True)\n",
    "\n",
    "data_temp_new = temp_one.merge(temp_two, on='key', how='left')\\\n",
    "                  .reindex(columns=['key', 'time_one', 'temp_one', 'time_two', 'temp_two'])"
   ]
  },
  {
   "cell_type": "code",
   "execution_count": 65,
   "metadata": {},
   "outputs": [
    {
     "data": {
      "text/html": [
       "<div>\n",
       "<style scoped>\n",
       "    .dataframe tbody tr th:only-of-type {\n",
       "        vertical-align: middle;\n",
       "    }\n",
       "\n",
       "    .dataframe tbody tr th {\n",
       "        vertical-align: top;\n",
       "    }\n",
       "\n",
       "    .dataframe thead th {\n",
       "        text-align: right;\n",
       "    }\n",
       "</style>\n",
       "<table border=\"1\" class=\"dataframe\">\n",
       "  <thead>\n",
       "    <tr style=\"text-align: right;\">\n",
       "      <th></th>\n",
       "      <th>key</th>\n",
       "      <th>time_one</th>\n",
       "      <th>temp_one</th>\n",
       "      <th>time_two</th>\n",
       "      <th>temp_two</th>\n",
       "    </tr>\n",
       "  </thead>\n",
       "  <tbody>\n",
       "    <tr>\n",
       "      <th>0</th>\n",
       "      <td>1</td>\n",
       "      <td>2019-05-03 11:16:18</td>\n",
       "      <td>1571.0</td>\n",
       "      <td>2019-05-03 11:30:39</td>\n",
       "      <td>1613.0</td>\n",
       "    </tr>\n",
       "    <tr>\n",
       "      <th>1</th>\n",
       "      <td>2</td>\n",
       "      <td>2019-05-03 11:37:27</td>\n",
       "      <td>1581.0</td>\n",
       "      <td>2019-05-03 11:59:12</td>\n",
       "      <td>1602.0</td>\n",
       "    </tr>\n",
       "    <tr>\n",
       "      <th>2</th>\n",
       "      <td>3</td>\n",
       "      <td>2019-05-03 12:13:17</td>\n",
       "      <td>1596.0</td>\n",
       "      <td>2019-05-03 12:34:57</td>\n",
       "      <td>1599.0</td>\n",
       "    </tr>\n",
       "    <tr>\n",
       "      <th>3</th>\n",
       "      <td>4</td>\n",
       "      <td>2019-05-03 12:52:57</td>\n",
       "      <td>1601.0</td>\n",
       "      <td>2019-05-03 12:59:25</td>\n",
       "      <td>1625.0</td>\n",
       "    </tr>\n",
       "    <tr>\n",
       "      <th>4</th>\n",
       "      <td>5</td>\n",
       "      <td>2019-05-03 13:23:19</td>\n",
       "      <td>1576.0</td>\n",
       "      <td>2019-05-03 13:36:01</td>\n",
       "      <td>1602.0</td>\n",
       "    </tr>\n",
       "  </tbody>\n",
       "</table>\n",
       "</div>"
      ],
      "text/plain": [
       "   key            time_one  temp_one            time_two  temp_two\n",
       "0    1 2019-05-03 11:16:18    1571.0 2019-05-03 11:30:39    1613.0\n",
       "1    2 2019-05-03 11:37:27    1581.0 2019-05-03 11:59:12    1602.0\n",
       "2    3 2019-05-03 12:13:17    1596.0 2019-05-03 12:34:57    1599.0\n",
       "3    4 2019-05-03 12:52:57    1601.0 2019-05-03 12:59:25    1625.0\n",
       "4    5 2019-05-03 13:23:19    1576.0 2019-05-03 13:36:01    1602.0"
      ]
     },
     "execution_count": 65,
     "metadata": {},
     "output_type": "execute_result"
    }
   ],
   "source": [
    "data_temp_new.head()"
   ]
  },
  {
   "cell_type": "markdown",
   "metadata": {},
   "source": [
    "Температура разделена."
   ]
  },
  {
   "cell_type": "code",
   "execution_count": 66,
   "metadata": {},
   "outputs": [
    {
     "data": {
      "text/html": [
       "<div>\n",
       "<style scoped>\n",
       "    .dataframe tbody tr th:only-of-type {\n",
       "        vertical-align: middle;\n",
       "    }\n",
       "\n",
       "    .dataframe tbody tr th {\n",
       "        vertical-align: top;\n",
       "    }\n",
       "\n",
       "    .dataframe thead th {\n",
       "        text-align: right;\n",
       "    }\n",
       "</style>\n",
       "<table border=\"1\" class=\"dataframe\">\n",
       "  <thead>\n",
       "    <tr style=\"text-align: right;\">\n",
       "      <th></th>\n",
       "      <th>key</th>\n",
       "      <th>temp_one</th>\n",
       "      <th>temp_two</th>\n",
       "    </tr>\n",
       "  </thead>\n",
       "  <tbody>\n",
       "    <tr>\n",
       "      <th>0</th>\n",
       "      <td>1</td>\n",
       "      <td>1571.0</td>\n",
       "      <td>1613.0</td>\n",
       "    </tr>\n",
       "    <tr>\n",
       "      <th>1</th>\n",
       "      <td>2</td>\n",
       "      <td>1581.0</td>\n",
       "      <td>1602.0</td>\n",
       "    </tr>\n",
       "    <tr>\n",
       "      <th>2</th>\n",
       "      <td>3</td>\n",
       "      <td>1596.0</td>\n",
       "      <td>1599.0</td>\n",
       "    </tr>\n",
       "    <tr>\n",
       "      <th>3</th>\n",
       "      <td>4</td>\n",
       "      <td>1601.0</td>\n",
       "      <td>1625.0</td>\n",
       "    </tr>\n",
       "    <tr>\n",
       "      <th>4</th>\n",
       "      <td>5</td>\n",
       "      <td>1576.0</td>\n",
       "      <td>1602.0</td>\n",
       "    </tr>\n",
       "    <tr>\n",
       "      <th>...</th>\n",
       "      <td>...</td>\n",
       "      <td>...</td>\n",
       "      <td>...</td>\n",
       "    </tr>\n",
       "    <tr>\n",
       "      <th>2466</th>\n",
       "      <td>2495</td>\n",
       "      <td>1570.0</td>\n",
       "      <td>1591.0</td>\n",
       "    </tr>\n",
       "    <tr>\n",
       "      <th>2467</th>\n",
       "      <td>2496</td>\n",
       "      <td>1554.0</td>\n",
       "      <td>1591.0</td>\n",
       "    </tr>\n",
       "    <tr>\n",
       "      <th>2468</th>\n",
       "      <td>2497</td>\n",
       "      <td>1571.0</td>\n",
       "      <td>1589.0</td>\n",
       "    </tr>\n",
       "    <tr>\n",
       "      <th>2469</th>\n",
       "      <td>2498</td>\n",
       "      <td>1591.0</td>\n",
       "      <td>1594.0</td>\n",
       "    </tr>\n",
       "    <tr>\n",
       "      <th>2470</th>\n",
       "      <td>2499</td>\n",
       "      <td>1569.0</td>\n",
       "      <td>1603.0</td>\n",
       "    </tr>\n",
       "  </tbody>\n",
       "</table>\n",
       "<p>2471 rows × 3 columns</p>\n",
       "</div>"
      ],
      "text/plain": [
       "       key  temp_one  temp_two\n",
       "0        1    1571.0    1613.0\n",
       "1        2    1581.0    1602.0\n",
       "2        3    1596.0    1599.0\n",
       "3        4    1601.0    1625.0\n",
       "4        5    1576.0    1602.0\n",
       "...    ...       ...       ...\n",
       "2466  2495    1570.0    1591.0\n",
       "2467  2496    1554.0    1591.0\n",
       "2468  2497    1571.0    1589.0\n",
       "2469  2498    1591.0    1594.0\n",
       "2470  2499    1569.0    1603.0\n",
       "\n",
       "[2471 rows x 3 columns]"
      ]
     },
     "execution_count": 66,
     "metadata": {},
     "output_type": "execute_result"
    }
   ],
   "source": [
    "#Уберём из таблицы время\n",
    "data_temp_new = data_temp_new.groupby('key').sum()[['temp_one', 'temp_two']].reset_index()\n",
    "data_temp_new"
   ]
  },
  {
   "cell_type": "markdown",
   "metadata": {},
   "source": [
    "Переходим к следующей таблице."
   ]
  },
  {
   "cell_type": "code",
   "execution_count": 67,
   "metadata": {},
   "outputs": [
    {
     "name": "stdout",
     "output_type": "stream",
     "text": [
      "<class 'pandas.core.frame.DataFrame'>\n",
      "\n",
      "RangeIndex: 3081 entries, 0 to 3080\n",
      "\n",
      "Data columns (total 10 columns):\n",
      "\n",
      " #   Column  Non-Null Count  Dtype  \n",
      "\n",
      "---  ------  --------------  -----  \n",
      "\n",
      " 0   key     3081 non-null   int64  \n",
      "\n",
      " 1   Wire 1  3055 non-null   float64\n",
      "\n",
      " 2   Wire 2  1079 non-null   float64\n",
      "\n",
      " 3   Wire 3  63 non-null     float64\n",
      "\n",
      " 4   Wire 4  14 non-null     float64\n",
      "\n",
      " 5   Wire 5  1 non-null      float64\n",
      "\n",
      " 6   Wire 6  73 non-null     float64\n",
      "\n",
      " 7   Wire 7  11 non-null     float64\n",
      "\n",
      " 8   Wire 8  19 non-null     float64\n",
      "\n",
      " 9   Wire 9  29 non-null     float64\n",
      "\n",
      "dtypes: float64(9), int64(1)\n",
      "\n",
      "memory usage: 240.8 KB\n"
     ]
    }
   ],
   "source": [
    "data_wire.info()"
   ]
  },
  {
   "cell_type": "code",
   "execution_count": 68,
   "metadata": {},
   "outputs": [
    {
     "data": {
      "text/html": [
       "<div>\n",
       "<style scoped>\n",
       "    .dataframe tbody tr th:only-of-type {\n",
       "        vertical-align: middle;\n",
       "    }\n",
       "\n",
       "    .dataframe tbody tr th {\n",
       "        vertical-align: top;\n",
       "    }\n",
       "\n",
       "    .dataframe thead th {\n",
       "        text-align: right;\n",
       "    }\n",
       "</style>\n",
       "<table border=\"1\" class=\"dataframe\">\n",
       "  <thead>\n",
       "    <tr style=\"text-align: right;\">\n",
       "      <th></th>\n",
       "      <th>key</th>\n",
       "      <th>Wire 1</th>\n",
       "      <th>Wire 2</th>\n",
       "      <th>Wire 3</th>\n",
       "      <th>Wire 4</th>\n",
       "      <th>Wire 5</th>\n",
       "      <th>Wire 6</th>\n",
       "      <th>Wire 7</th>\n",
       "      <th>Wire 8</th>\n",
       "      <th>Wire 9</th>\n",
       "    </tr>\n",
       "  </thead>\n",
       "  <tbody>\n",
       "    <tr>\n",
       "      <th>0</th>\n",
       "      <td>1</td>\n",
       "      <td>60.059998</td>\n",
       "      <td>NaN</td>\n",
       "      <td>NaN</td>\n",
       "      <td>NaN</td>\n",
       "      <td>NaN</td>\n",
       "      <td>NaN</td>\n",
       "      <td>NaN</td>\n",
       "      <td>NaN</td>\n",
       "      <td>NaN</td>\n",
       "    </tr>\n",
       "    <tr>\n",
       "      <th>1</th>\n",
       "      <td>2</td>\n",
       "      <td>96.052315</td>\n",
       "      <td>NaN</td>\n",
       "      <td>NaN</td>\n",
       "      <td>NaN</td>\n",
       "      <td>NaN</td>\n",
       "      <td>NaN</td>\n",
       "      <td>NaN</td>\n",
       "      <td>NaN</td>\n",
       "      <td>NaN</td>\n",
       "    </tr>\n",
       "    <tr>\n",
       "      <th>2</th>\n",
       "      <td>3</td>\n",
       "      <td>91.160157</td>\n",
       "      <td>NaN</td>\n",
       "      <td>NaN</td>\n",
       "      <td>NaN</td>\n",
       "      <td>NaN</td>\n",
       "      <td>NaN</td>\n",
       "      <td>NaN</td>\n",
       "      <td>NaN</td>\n",
       "      <td>NaN</td>\n",
       "    </tr>\n",
       "    <tr>\n",
       "      <th>3</th>\n",
       "      <td>4</td>\n",
       "      <td>89.063515</td>\n",
       "      <td>NaN</td>\n",
       "      <td>NaN</td>\n",
       "      <td>NaN</td>\n",
       "      <td>NaN</td>\n",
       "      <td>NaN</td>\n",
       "      <td>NaN</td>\n",
       "      <td>NaN</td>\n",
       "      <td>NaN</td>\n",
       "    </tr>\n",
       "    <tr>\n",
       "      <th>4</th>\n",
       "      <td>5</td>\n",
       "      <td>89.238236</td>\n",
       "      <td>9.11456</td>\n",
       "      <td>NaN</td>\n",
       "      <td>NaN</td>\n",
       "      <td>NaN</td>\n",
       "      <td>NaN</td>\n",
       "      <td>NaN</td>\n",
       "      <td>NaN</td>\n",
       "      <td>NaN</td>\n",
       "    </tr>\n",
       "  </tbody>\n",
       "</table>\n",
       "</div>"
      ],
      "text/plain": [
       "   key     Wire 1   Wire 2  Wire 3  Wire 4  Wire 5  Wire 6  Wire 7  Wire 8  \\\n",
       "0    1  60.059998      NaN     NaN     NaN     NaN     NaN     NaN     NaN   \n",
       "1    2  96.052315      NaN     NaN     NaN     NaN     NaN     NaN     NaN   \n",
       "2    3  91.160157      NaN     NaN     NaN     NaN     NaN     NaN     NaN   \n",
       "3    4  89.063515      NaN     NaN     NaN     NaN     NaN     NaN     NaN   \n",
       "4    5  89.238236  9.11456     NaN     NaN     NaN     NaN     NaN     NaN   \n",
       "\n",
       "   Wire 9  \n",
       "0     NaN  \n",
       "1     NaN  \n",
       "2     NaN  \n",
       "3     NaN  \n",
       "4     NaN  "
      ]
     },
     "execution_count": 68,
     "metadata": {},
     "output_type": "execute_result"
    }
   ],
   "source": [
    "data_wire.head()"
   ]
  },
  {
   "cell_type": "code",
   "execution_count": 69,
   "metadata": {},
   "outputs": [
    {
     "data": {
      "text/html": [
       "<div>\n",
       "<style scoped>\n",
       "    .dataframe tbody tr th:only-of-type {\n",
       "        vertical-align: middle;\n",
       "    }\n",
       "\n",
       "    .dataframe tbody tr th {\n",
       "        vertical-align: top;\n",
       "    }\n",
       "\n",
       "    .dataframe thead th {\n",
       "        text-align: right;\n",
       "    }\n",
       "</style>\n",
       "<table border=\"1\" class=\"dataframe\">\n",
       "  <thead>\n",
       "    <tr style=\"text-align: right;\">\n",
       "      <th></th>\n",
       "      <th>key</th>\n",
       "      <th>Wire 1</th>\n",
       "      <th>Wire 2</th>\n",
       "      <th>Wire 3</th>\n",
       "      <th>Wire 4</th>\n",
       "      <th>Wire 5</th>\n",
       "      <th>Wire 6</th>\n",
       "      <th>Wire 7</th>\n",
       "      <th>Wire 8</th>\n",
       "      <th>Wire 9</th>\n",
       "    </tr>\n",
       "  </thead>\n",
       "  <tbody>\n",
       "    <tr>\n",
       "      <th>count</th>\n",
       "      <td>3081.000000</td>\n",
       "      <td>3055.000000</td>\n",
       "      <td>1079.000000</td>\n",
       "      <td>63.000000</td>\n",
       "      <td>14.000000</td>\n",
       "      <td>1.000</td>\n",
       "      <td>73.000000</td>\n",
       "      <td>11.000000</td>\n",
       "      <td>19.000000</td>\n",
       "      <td>29.000000</td>\n",
       "    </tr>\n",
       "    <tr>\n",
       "      <th>mean</th>\n",
       "      <td>1623.426485</td>\n",
       "      <td>100.895853</td>\n",
       "      <td>50.577323</td>\n",
       "      <td>189.482681</td>\n",
       "      <td>57.442841</td>\n",
       "      <td>15.132</td>\n",
       "      <td>48.016974</td>\n",
       "      <td>10.039007</td>\n",
       "      <td>53.625193</td>\n",
       "      <td>34.155752</td>\n",
       "    </tr>\n",
       "    <tr>\n",
       "      <th>std</th>\n",
       "      <td>932.996726</td>\n",
       "      <td>42.012518</td>\n",
       "      <td>39.320216</td>\n",
       "      <td>99.513444</td>\n",
       "      <td>28.824667</td>\n",
       "      <td>NaN</td>\n",
       "      <td>33.919845</td>\n",
       "      <td>8.610584</td>\n",
       "      <td>16.881728</td>\n",
       "      <td>19.931616</td>\n",
       "    </tr>\n",
       "    <tr>\n",
       "      <th>min</th>\n",
       "      <td>1.000000</td>\n",
       "      <td>1.918800</td>\n",
       "      <td>0.030160</td>\n",
       "      <td>0.144144</td>\n",
       "      <td>24.148801</td>\n",
       "      <td>15.132</td>\n",
       "      <td>0.034320</td>\n",
       "      <td>0.234208</td>\n",
       "      <td>45.076721</td>\n",
       "      <td>4.622800</td>\n",
       "    </tr>\n",
       "    <tr>\n",
       "      <th>25%</th>\n",
       "      <td>823.000000</td>\n",
       "      <td>72.115684</td>\n",
       "      <td>20.193680</td>\n",
       "      <td>95.135044</td>\n",
       "      <td>40.807002</td>\n",
       "      <td>15.132</td>\n",
       "      <td>25.053600</td>\n",
       "      <td>6.762756</td>\n",
       "      <td>46.094879</td>\n",
       "      <td>22.058401</td>\n",
       "    </tr>\n",
       "    <tr>\n",
       "      <th>50%</th>\n",
       "      <td>1619.000000</td>\n",
       "      <td>100.158234</td>\n",
       "      <td>40.142956</td>\n",
       "      <td>235.194977</td>\n",
       "      <td>45.234282</td>\n",
       "      <td>15.132</td>\n",
       "      <td>42.076324</td>\n",
       "      <td>9.017009</td>\n",
       "      <td>46.279999</td>\n",
       "      <td>30.066399</td>\n",
       "    </tr>\n",
       "    <tr>\n",
       "      <th>75%</th>\n",
       "      <td>2434.000000</td>\n",
       "      <td>126.060483</td>\n",
       "      <td>70.227558</td>\n",
       "      <td>276.252014</td>\n",
       "      <td>76.124619</td>\n",
       "      <td>15.132</td>\n",
       "      <td>64.212723</td>\n",
       "      <td>11.886057</td>\n",
       "      <td>48.089603</td>\n",
       "      <td>43.862003</td>\n",
       "    </tr>\n",
       "    <tr>\n",
       "      <th>max</th>\n",
       "      <td>3241.000000</td>\n",
       "      <td>330.314424</td>\n",
       "      <td>282.780152</td>\n",
       "      <td>385.008668</td>\n",
       "      <td>113.231044</td>\n",
       "      <td>15.132</td>\n",
       "      <td>180.454575</td>\n",
       "      <td>32.847674</td>\n",
       "      <td>102.762401</td>\n",
       "      <td>90.053604</td>\n",
       "    </tr>\n",
       "  </tbody>\n",
       "</table>\n",
       "</div>"
      ],
      "text/plain": [
       "               key       Wire 1       Wire 2      Wire 3      Wire 4  Wire 5  \\\n",
       "count  3081.000000  3055.000000  1079.000000   63.000000   14.000000   1.000   \n",
       "mean   1623.426485   100.895853    50.577323  189.482681   57.442841  15.132   \n",
       "std     932.996726    42.012518    39.320216   99.513444   28.824667     NaN   \n",
       "min       1.000000     1.918800     0.030160    0.144144   24.148801  15.132   \n",
       "25%     823.000000    72.115684    20.193680   95.135044   40.807002  15.132   \n",
       "50%    1619.000000   100.158234    40.142956  235.194977   45.234282  15.132   \n",
       "75%    2434.000000   126.060483    70.227558  276.252014   76.124619  15.132   \n",
       "max    3241.000000   330.314424   282.780152  385.008668  113.231044  15.132   \n",
       "\n",
       "           Wire 6     Wire 7      Wire 8     Wire 9  \n",
       "count   73.000000  11.000000   19.000000  29.000000  \n",
       "mean    48.016974  10.039007   53.625193  34.155752  \n",
       "std     33.919845   8.610584   16.881728  19.931616  \n",
       "min      0.034320   0.234208   45.076721   4.622800  \n",
       "25%     25.053600   6.762756   46.094879  22.058401  \n",
       "50%     42.076324   9.017009   46.279999  30.066399  \n",
       "75%     64.212723  11.886057   48.089603  43.862003  \n",
       "max    180.454575  32.847674  102.762401  90.053604  "
      ]
     },
     "execution_count": 69,
     "metadata": {},
     "output_type": "execute_result"
    }
   ],
   "source": [
    "data_wire.describe()"
   ]
  },
  {
   "cell_type": "markdown",
   "metadata": {},
   "source": [
    "Каждый проволочный материал был добавлен хотя бы один раз при плавке. Типы данных соответствуют значениям."
   ]
  },
  {
   "cell_type": "code",
   "execution_count": 70,
   "metadata": {},
   "outputs": [
    {
     "data": {
      "text/plain": [
       "<AxesSubplot:>"
      ]
     },
     "execution_count": 70,
     "metadata": {},
     "output_type": "execute_result"
    },
    {
     "data": {
      "image/png": "[encoded data removed]",
      "text/plain": [
       "<Figure size 1080x720 with 1 Axes>"
      ]
     },
     "metadata": {
      "needs_background": "light"
     },
     "output_type": "display_data"
    }
   ],
   "source": [
    "data_wire.boxplot([col for col in data_wire.columns if col != 'key'], figsize=(15, 10), vert=False)"
   ]
  },
  {
   "cell_type": "markdown",
   "metadata": {},
   "source": [
    "Есть значения, похожие на выбросы, не будем их удалять. Скорее всего, таков технологический процесс."
   ]
  },
  {
   "cell_type": "code",
   "execution_count": 71,
   "metadata": {},
   "outputs": [],
   "source": [
    "#Заменим пустые значения на 0\n",
    "data_wire = data_wire.fillna(0)"
   ]
  },
  {
   "cell_type": "code",
   "execution_count": 72,
   "metadata": {},
   "outputs": [
    {
     "data": {
      "text/html": [
       "<div>\n",
       "<style scoped>\n",
       "    .dataframe tbody tr th:only-of-type {\n",
       "        vertical-align: middle;\n",
       "    }\n",
       "\n",
       "    .dataframe tbody tr th {\n",
       "        vertical-align: top;\n",
       "    }\n",
       "\n",
       "    .dataframe thead th {\n",
       "        text-align: right;\n",
       "    }\n",
       "</style>\n",
       "<table border=\"1\" class=\"dataframe\">\n",
       "  <thead>\n",
       "    <tr style=\"text-align: right;\">\n",
       "      <th></th>\n",
       "      <th>key</th>\n",
       "      <th>Wire 1</th>\n",
       "      <th>Wire 2</th>\n",
       "      <th>Wire 3</th>\n",
       "      <th>Wire 4</th>\n",
       "      <th>Wire 5</th>\n",
       "      <th>Wire 6</th>\n",
       "      <th>Wire 7</th>\n",
       "      <th>Wire 8</th>\n",
       "      <th>Wire 9</th>\n",
       "      <th>wire_sum</th>\n",
       "    </tr>\n",
       "  </thead>\n",
       "  <tbody>\n",
       "    <tr>\n",
       "      <th>0</th>\n",
       "      <td>1</td>\n",
       "      <td>60.059998</td>\n",
       "      <td>0.00000</td>\n",
       "      <td>0.0</td>\n",
       "      <td>0.0</td>\n",
       "      <td>0.0</td>\n",
       "      <td>0.0</td>\n",
       "      <td>0.0</td>\n",
       "      <td>0.0</td>\n",
       "      <td>0.0</td>\n",
       "      <td>60.059998</td>\n",
       "    </tr>\n",
       "    <tr>\n",
       "      <th>1</th>\n",
       "      <td>2</td>\n",
       "      <td>96.052315</td>\n",
       "      <td>0.00000</td>\n",
       "      <td>0.0</td>\n",
       "      <td>0.0</td>\n",
       "      <td>0.0</td>\n",
       "      <td>0.0</td>\n",
       "      <td>0.0</td>\n",
       "      <td>0.0</td>\n",
       "      <td>0.0</td>\n",
       "      <td>96.052315</td>\n",
       "    </tr>\n",
       "    <tr>\n",
       "      <th>2</th>\n",
       "      <td>3</td>\n",
       "      <td>91.160157</td>\n",
       "      <td>0.00000</td>\n",
       "      <td>0.0</td>\n",
       "      <td>0.0</td>\n",
       "      <td>0.0</td>\n",
       "      <td>0.0</td>\n",
       "      <td>0.0</td>\n",
       "      <td>0.0</td>\n",
       "      <td>0.0</td>\n",
       "      <td>91.160157</td>\n",
       "    </tr>\n",
       "    <tr>\n",
       "      <th>3</th>\n",
       "      <td>4</td>\n",
       "      <td>89.063515</td>\n",
       "      <td>0.00000</td>\n",
       "      <td>0.0</td>\n",
       "      <td>0.0</td>\n",
       "      <td>0.0</td>\n",
       "      <td>0.0</td>\n",
       "      <td>0.0</td>\n",
       "      <td>0.0</td>\n",
       "      <td>0.0</td>\n",
       "      <td>89.063515</td>\n",
       "    </tr>\n",
       "    <tr>\n",
       "      <th>4</th>\n",
       "      <td>5</td>\n",
       "      <td>89.238236</td>\n",
       "      <td>9.11456</td>\n",
       "      <td>0.0</td>\n",
       "      <td>0.0</td>\n",
       "      <td>0.0</td>\n",
       "      <td>0.0</td>\n",
       "      <td>0.0</td>\n",
       "      <td>0.0</td>\n",
       "      <td>0.0</td>\n",
       "      <td>98.352796</td>\n",
       "    </tr>\n",
       "    <tr>\n",
       "      <th>...</th>\n",
       "      <td>...</td>\n",
       "      <td>...</td>\n",
       "      <td>...</td>\n",
       "      <td>...</td>\n",
       "      <td>...</td>\n",
       "      <td>...</td>\n",
       "      <td>...</td>\n",
       "      <td>...</td>\n",
       "      <td>...</td>\n",
       "      <td>...</td>\n",
       "      <td>...</td>\n",
       "    </tr>\n",
       "    <tr>\n",
       "      <th>3076</th>\n",
       "      <td>3237</td>\n",
       "      <td>38.088959</td>\n",
       "      <td>0.00000</td>\n",
       "      <td>0.0</td>\n",
       "      <td>0.0</td>\n",
       "      <td>0.0</td>\n",
       "      <td>0.0</td>\n",
       "      <td>0.0</td>\n",
       "      <td>0.0</td>\n",
       "      <td>0.0</td>\n",
       "      <td>38.088959</td>\n",
       "    </tr>\n",
       "    <tr>\n",
       "      <th>3077</th>\n",
       "      <td>3238</td>\n",
       "      <td>56.128799</td>\n",
       "      <td>0.00000</td>\n",
       "      <td>0.0</td>\n",
       "      <td>0.0</td>\n",
       "      <td>0.0</td>\n",
       "      <td>0.0</td>\n",
       "      <td>0.0</td>\n",
       "      <td>0.0</td>\n",
       "      <td>0.0</td>\n",
       "      <td>56.128799</td>\n",
       "    </tr>\n",
       "    <tr>\n",
       "      <th>3078</th>\n",
       "      <td>3239</td>\n",
       "      <td>143.357761</td>\n",
       "      <td>0.00000</td>\n",
       "      <td>0.0</td>\n",
       "      <td>0.0</td>\n",
       "      <td>0.0</td>\n",
       "      <td>0.0</td>\n",
       "      <td>0.0</td>\n",
       "      <td>0.0</td>\n",
       "      <td>0.0</td>\n",
       "      <td>143.357761</td>\n",
       "    </tr>\n",
       "    <tr>\n",
       "      <th>3079</th>\n",
       "      <td>3240</td>\n",
       "      <td>34.070400</td>\n",
       "      <td>0.00000</td>\n",
       "      <td>0.0</td>\n",
       "      <td>0.0</td>\n",
       "      <td>0.0</td>\n",
       "      <td>0.0</td>\n",
       "      <td>0.0</td>\n",
       "      <td>0.0</td>\n",
       "      <td>0.0</td>\n",
       "      <td>34.070400</td>\n",
       "    </tr>\n",
       "    <tr>\n",
       "      <th>3080</th>\n",
       "      <td>3241</td>\n",
       "      <td>63.117595</td>\n",
       "      <td>0.00000</td>\n",
       "      <td>0.0</td>\n",
       "      <td>0.0</td>\n",
       "      <td>0.0</td>\n",
       "      <td>0.0</td>\n",
       "      <td>0.0</td>\n",
       "      <td>0.0</td>\n",
       "      <td>0.0</td>\n",
       "      <td>63.117595</td>\n",
       "    </tr>\n",
       "  </tbody>\n",
       "</table>\n",
       "<p>3081 rows × 11 columns</p>\n",
       "</div>"
      ],
      "text/plain": [
       "       key      Wire 1   Wire 2  Wire 3  Wire 4  Wire 5  Wire 6  Wire 7  \\\n",
       "0        1   60.059998  0.00000     0.0     0.0     0.0     0.0     0.0   \n",
       "1        2   96.052315  0.00000     0.0     0.0     0.0     0.0     0.0   \n",
       "2        3   91.160157  0.00000     0.0     0.0     0.0     0.0     0.0   \n",
       "3        4   89.063515  0.00000     0.0     0.0     0.0     0.0     0.0   \n",
       "4        5   89.238236  9.11456     0.0     0.0     0.0     0.0     0.0   \n",
       "...    ...         ...      ...     ...     ...     ...     ...     ...   \n",
       "3076  3237   38.088959  0.00000     0.0     0.0     0.0     0.0     0.0   \n",
       "3077  3238   56.128799  0.00000     0.0     0.0     0.0     0.0     0.0   \n",
       "3078  3239  143.357761  0.00000     0.0     0.0     0.0     0.0     0.0   \n",
       "3079  3240   34.070400  0.00000     0.0     0.0     0.0     0.0     0.0   \n",
       "3080  3241   63.117595  0.00000     0.0     0.0     0.0     0.0     0.0   \n",
       "\n",
       "      Wire 8  Wire 9    wire_sum  \n",
       "0        0.0     0.0   60.059998  \n",
       "1        0.0     0.0   96.052315  \n",
       "2        0.0     0.0   91.160157  \n",
       "3        0.0     0.0   89.063515  \n",
       "4        0.0     0.0   98.352796  \n",
       "...      ...     ...         ...  \n",
       "3076     0.0     0.0   38.088959  \n",
       "3077     0.0     0.0   56.128799  \n",
       "3078     0.0     0.0  143.357761  \n",
       "3079     0.0     0.0   34.070400  \n",
       "3080     0.0     0.0   63.117595  \n",
       "\n",
       "[3081 rows x 11 columns]"
      ]
     },
     "execution_count": 72,
     "metadata": {},
     "output_type": "execute_result"
    }
   ],
   "source": [
    "#Суммируем проволочные материалы\n",
    "data_wire['wire_sum'] = (data_wire['Wire 1'] + data_wire['Wire 2'] + data_wire['Wire 3'] +\n",
    "                         data_wire['Wire 4'] + data_wire['Wire 5'] + data_wire['Wire 6'] +\n",
    "                         data_wire['Wire 7'] + data_wire['Wire 8'] + data_wire['Wire 9'])\n",
    "data_wire"
   ]
  },
  {
   "cell_type": "code",
   "execution_count": 73,
   "metadata": {},
   "outputs": [
    {
     "data": {
      "text/html": [
       "<div>\n",
       "<style scoped>\n",
       "    .dataframe tbody tr th:only-of-type {\n",
       "        vertical-align: middle;\n",
       "    }\n",
       "\n",
       "    .dataframe tbody tr th {\n",
       "        vertical-align: top;\n",
       "    }\n",
       "\n",
       "    .dataframe thead th {\n",
       "        text-align: right;\n",
       "    }\n",
       "</style>\n",
       "<table border=\"1\" class=\"dataframe\">\n",
       "  <thead>\n",
       "    <tr style=\"text-align: right;\">\n",
       "      <th></th>\n",
       "      <th>key</th>\n",
       "      <th>wire_sum</th>\n",
       "    </tr>\n",
       "  </thead>\n",
       "  <tbody>\n",
       "    <tr>\n",
       "      <th>0</th>\n",
       "      <td>1</td>\n",
       "      <td>60.059998</td>\n",
       "    </tr>\n",
       "    <tr>\n",
       "      <th>1</th>\n",
       "      <td>2</td>\n",
       "      <td>96.052315</td>\n",
       "    </tr>\n",
       "    <tr>\n",
       "      <th>2</th>\n",
       "      <td>3</td>\n",
       "      <td>91.160157</td>\n",
       "    </tr>\n",
       "    <tr>\n",
       "      <th>3</th>\n",
       "      <td>4</td>\n",
       "      <td>89.063515</td>\n",
       "    </tr>\n",
       "    <tr>\n",
       "      <th>4</th>\n",
       "      <td>5</td>\n",
       "      <td>98.352796</td>\n",
       "    </tr>\n",
       "    <tr>\n",
       "      <th>...</th>\n",
       "      <td>...</td>\n",
       "      <td>...</td>\n",
       "    </tr>\n",
       "    <tr>\n",
       "      <th>3076</th>\n",
       "      <td>3237</td>\n",
       "      <td>38.088959</td>\n",
       "    </tr>\n",
       "    <tr>\n",
       "      <th>3077</th>\n",
       "      <td>3238</td>\n",
       "      <td>56.128799</td>\n",
       "    </tr>\n",
       "    <tr>\n",
       "      <th>3078</th>\n",
       "      <td>3239</td>\n",
       "      <td>143.357761</td>\n",
       "    </tr>\n",
       "    <tr>\n",
       "      <th>3079</th>\n",
       "      <td>3240</td>\n",
       "      <td>34.070400</td>\n",
       "    </tr>\n",
       "    <tr>\n",
       "      <th>3080</th>\n",
       "      <td>3241</td>\n",
       "      <td>63.117595</td>\n",
       "    </tr>\n",
       "  </tbody>\n",
       "</table>\n",
       "<p>3081 rows × 2 columns</p>\n",
       "</div>"
      ],
      "text/plain": [
       "       key    wire_sum\n",
       "0        1   60.059998\n",
       "1        2   96.052315\n",
       "2        3   91.160157\n",
       "3        4   89.063515\n",
       "4        5   98.352796\n",
       "...    ...         ...\n",
       "3076  3237   38.088959\n",
       "3077  3238   56.128799\n",
       "3078  3239  143.357761\n",
       "3079  3240   34.070400\n",
       "3080  3241   63.117595\n",
       "\n",
       "[3081 rows x 2 columns]"
      ]
     },
     "execution_count": 73,
     "metadata": {},
     "output_type": "execute_result"
    }
   ],
   "source": [
    "new_data_wire = data_wire.groupby('key').sum()[['wire_sum']].reset_index()\n",
    "new_data_wire"
   ]
  },
  {
   "cell_type": "markdown",
   "metadata": {},
   "source": [
    "Идём к последней таблице"
   ]
  },
  {
   "cell_type": "code",
   "execution_count": 74,
   "metadata": {},
   "outputs": [
    {
     "name": "stdout",
     "output_type": "stream",
     "text": [
      "<class 'pandas.core.frame.DataFrame'>\n",
      "\n",
      "RangeIndex: 3081 entries, 0 to 3080\n",
      "\n",
      "Data columns (total 10 columns):\n",
      "\n",
      " #   Column  Non-Null Count  Dtype \n",
      "\n",
      "---  ------  --------------  ----- \n",
      "\n",
      " 0   key     3081 non-null   int64 \n",
      "\n",
      " 1   Wire 1  3055 non-null   object\n",
      "\n",
      " 2   Wire 2  1079 non-null   object\n",
      "\n",
      " 3   Wire 3  63 non-null     object\n",
      "\n",
      " 4   Wire 4  14 non-null     object\n",
      "\n",
      " 5   Wire 5  1 non-null      object\n",
      "\n",
      " 6   Wire 6  73 non-null     object\n",
      "\n",
      " 7   Wire 7  11 non-null     object\n",
      "\n",
      " 8   Wire 8  19 non-null     object\n",
      "\n",
      " 9   Wire 9  29 non-null     object\n",
      "\n",
      "dtypes: int64(1), object(9)\n",
      "\n",
      "memory usage: 240.8+ KB\n"
     ]
    }
   ],
   "source": [
    "data_wire_time.info()"
   ]
  },
  {
   "cell_type": "code",
   "execution_count": 75,
   "metadata": {},
   "outputs": [
    {
     "data": {
      "text/html": [
       "<div>\n",
       "<style scoped>\n",
       "    .dataframe tbody tr th:only-of-type {\n",
       "        vertical-align: middle;\n",
       "    }\n",
       "\n",
       "    .dataframe tbody tr th {\n",
       "        vertical-align: top;\n",
       "    }\n",
       "\n",
       "    .dataframe thead th {\n",
       "        text-align: right;\n",
       "    }\n",
       "</style>\n",
       "<table border=\"1\" class=\"dataframe\">\n",
       "  <thead>\n",
       "    <tr style=\"text-align: right;\">\n",
       "      <th></th>\n",
       "      <th>key</th>\n",
       "      <th>Wire 1</th>\n",
       "      <th>Wire 2</th>\n",
       "      <th>Wire 3</th>\n",
       "      <th>Wire 4</th>\n",
       "      <th>Wire 5</th>\n",
       "      <th>Wire 6</th>\n",
       "      <th>Wire 7</th>\n",
       "      <th>Wire 8</th>\n",
       "      <th>Wire 9</th>\n",
       "    </tr>\n",
       "  </thead>\n",
       "  <tbody>\n",
       "    <tr>\n",
       "      <th>0</th>\n",
       "      <td>1</td>\n",
       "      <td>2019-05-03 11:11:41</td>\n",
       "      <td>NaN</td>\n",
       "      <td>NaN</td>\n",
       "      <td>NaN</td>\n",
       "      <td>NaN</td>\n",
       "      <td>NaN</td>\n",
       "      <td>NaN</td>\n",
       "      <td>NaN</td>\n",
       "      <td>NaN</td>\n",
       "    </tr>\n",
       "    <tr>\n",
       "      <th>1</th>\n",
       "      <td>2</td>\n",
       "      <td>2019-05-03 11:46:10</td>\n",
       "      <td>NaN</td>\n",
       "      <td>NaN</td>\n",
       "      <td>NaN</td>\n",
       "      <td>NaN</td>\n",
       "      <td>NaN</td>\n",
       "      <td>NaN</td>\n",
       "      <td>NaN</td>\n",
       "      <td>NaN</td>\n",
       "    </tr>\n",
       "    <tr>\n",
       "      <th>2</th>\n",
       "      <td>3</td>\n",
       "      <td>2019-05-03 12:13:47</td>\n",
       "      <td>NaN</td>\n",
       "      <td>NaN</td>\n",
       "      <td>NaN</td>\n",
       "      <td>NaN</td>\n",
       "      <td>NaN</td>\n",
       "      <td>NaN</td>\n",
       "      <td>NaN</td>\n",
       "      <td>NaN</td>\n",
       "    </tr>\n",
       "    <tr>\n",
       "      <th>3</th>\n",
       "      <td>4</td>\n",
       "      <td>2019-05-03 12:48:05</td>\n",
       "      <td>NaN</td>\n",
       "      <td>NaN</td>\n",
       "      <td>NaN</td>\n",
       "      <td>NaN</td>\n",
       "      <td>NaN</td>\n",
       "      <td>NaN</td>\n",
       "      <td>NaN</td>\n",
       "      <td>NaN</td>\n",
       "    </tr>\n",
       "    <tr>\n",
       "      <th>4</th>\n",
       "      <td>5</td>\n",
       "      <td>2019-05-03 13:18:15</td>\n",
       "      <td>2019-05-03 13:32:06</td>\n",
       "      <td>NaN</td>\n",
       "      <td>NaN</td>\n",
       "      <td>NaN</td>\n",
       "      <td>NaN</td>\n",
       "      <td>NaN</td>\n",
       "      <td>NaN</td>\n",
       "      <td>NaN</td>\n",
       "    </tr>\n",
       "  </tbody>\n",
       "</table>\n",
       "</div>"
      ],
      "text/plain": [
       "   key               Wire 1               Wire 2 Wire 3 Wire 4 Wire 5 Wire 6  \\\n",
       "0    1  2019-05-03 11:11:41                  NaN    NaN    NaN    NaN    NaN   \n",
       "1    2  2019-05-03 11:46:10                  NaN    NaN    NaN    NaN    NaN   \n",
       "2    3  2019-05-03 12:13:47                  NaN    NaN    NaN    NaN    NaN   \n",
       "3    4  2019-05-03 12:48:05                  NaN    NaN    NaN    NaN    NaN   \n",
       "4    5  2019-05-03 13:18:15  2019-05-03 13:32:06    NaN    NaN    NaN    NaN   \n",
       "\n",
       "  Wire 7 Wire 8 Wire 9  \n",
       "0    NaN    NaN    NaN  \n",
       "1    NaN    NaN    NaN  \n",
       "2    NaN    NaN    NaN  \n",
       "3    NaN    NaN    NaN  \n",
       "4    NaN    NaN    NaN  "
      ]
     },
     "execution_count": 75,
     "metadata": {},
     "output_type": "execute_result"
    }
   ],
   "source": [
    "data_wire_time.head()"
   ]
  },
  {
   "cell_type": "markdown",
   "metadata": {},
   "source": [
    "Пропуски во времени совпадают с пропусками в объёме проволочных материалов. Данная таблица нам не понадобится для обучения модели. Не будем её трогать."
   ]
  },
  {
   "cell_type": "markdown",
   "metadata": {},
   "source": [
    "### Объединение данных"
   ]
  },
  {
   "cell_type": "code",
   "execution_count": 76,
   "metadata": {},
   "outputs": [],
   "source": [
    "#Объединим все таблицы в одну\n",
    "data = data_temp_new.copy()\n",
    "data = data.merge(new_data_arc, on='key')\n",
    "data = data.merge(new_data_bulk, on='key')\n",
    "data = data.merge(data_gas, on='key')\n",
    "data = data.merge(new_data_wire, on='key')"
   ]
  },
  {
   "cell_type": "code",
   "execution_count": 77,
   "metadata": {},
   "outputs": [
    {
     "data": {
      "text/html": [
       "<div>\n",
       "<style scoped>\n",
       "    .dataframe tbody tr th:only-of-type {\n",
       "        vertical-align: middle;\n",
       "    }\n",
       "\n",
       "    .dataframe tbody tr th {\n",
       "        vertical-align: top;\n",
       "    }\n",
       "\n",
       "    .dataframe thead th {\n",
       "        text-align: right;\n",
       "    }\n",
       "</style>\n",
       "<table border=\"1\" class=\"dataframe\">\n",
       "  <thead>\n",
       "    <tr style=\"text-align: right;\">\n",
       "      <th></th>\n",
       "      <th>key</th>\n",
       "      <th>temp_one</th>\n",
       "      <th>temp_two</th>\n",
       "      <th>power_full</th>\n",
       "      <th>heating_time</th>\n",
       "      <th>bulk_sum</th>\n",
       "      <th>gas</th>\n",
       "      <th>wire_sum</th>\n",
       "    </tr>\n",
       "  </thead>\n",
       "  <tbody>\n",
       "    <tr>\n",
       "      <th>0</th>\n",
       "      <td>1</td>\n",
       "      <td>1571.0</td>\n",
       "      <td>1613.0</td>\n",
       "      <td>5.826395</td>\n",
       "      <td>1098</td>\n",
       "      <td>553.0</td>\n",
       "      <td>29.749986</td>\n",
       "      <td>60.059998</td>\n",
       "    </tr>\n",
       "    <tr>\n",
       "      <th>1</th>\n",
       "      <td>2</td>\n",
       "      <td>1581.0</td>\n",
       "      <td>1602.0</td>\n",
       "      <td>3.649216</td>\n",
       "      <td>811</td>\n",
       "      <td>582.0</td>\n",
       "      <td>12.555561</td>\n",
       "      <td>96.052315</td>\n",
       "    </tr>\n",
       "    <tr>\n",
       "      <th>2</th>\n",
       "      <td>3</td>\n",
       "      <td>1596.0</td>\n",
       "      <td>1599.0</td>\n",
       "      <td>2.989534</td>\n",
       "      <td>655</td>\n",
       "      <td>544.0</td>\n",
       "      <td>28.554793</td>\n",
       "      <td>91.160157</td>\n",
       "    </tr>\n",
       "    <tr>\n",
       "      <th>3</th>\n",
       "      <td>4</td>\n",
       "      <td>1601.0</td>\n",
       "      <td>1625.0</td>\n",
       "      <td>3.814962</td>\n",
       "      <td>741</td>\n",
       "      <td>595.0</td>\n",
       "      <td>18.841219</td>\n",
       "      <td>89.063515</td>\n",
       "    </tr>\n",
       "    <tr>\n",
       "      <th>4</th>\n",
       "      <td>5</td>\n",
       "      <td>1576.0</td>\n",
       "      <td>1602.0</td>\n",
       "      <td>4.035758</td>\n",
       "      <td>869</td>\n",
       "      <td>584.0</td>\n",
       "      <td>5.413692</td>\n",
       "      <td>98.352796</td>\n",
       "    </tr>\n",
       "  </tbody>\n",
       "</table>\n",
       "</div>"
      ],
      "text/plain": [
       "   key  temp_one  temp_two  power_full  heating_time  bulk_sum        gas  \\\n",
       "0    1    1571.0    1613.0    5.826395          1098     553.0  29.749986   \n",
       "1    2    1581.0    1602.0    3.649216           811     582.0  12.555561   \n",
       "2    3    1596.0    1599.0    2.989534           655     544.0  28.554793   \n",
       "3    4    1601.0    1625.0    3.814962           741     595.0  18.841219   \n",
       "4    5    1576.0    1602.0    4.035758           869     584.0   5.413692   \n",
       "\n",
       "    wire_sum  \n",
       "0  60.059998  \n",
       "1  96.052315  \n",
       "2  91.160157  \n",
       "3  89.063515  \n",
       "4  98.352796  "
      ]
     },
     "execution_count": 77,
     "metadata": {},
     "output_type": "execute_result"
    }
   ],
   "source": [
    "data.head()"
   ]
  },
  {
   "cell_type": "code",
   "execution_count": 78,
   "metadata": {},
   "outputs": [
    {
     "data": {
      "text/html": [
       "<div>\n",
       "<style scoped>\n",
       "    .dataframe tbody tr th:only-of-type {\n",
       "        vertical-align: middle;\n",
       "    }\n",
       "\n",
       "    .dataframe tbody tr th {\n",
       "        vertical-align: top;\n",
       "    }\n",
       "\n",
       "    .dataframe thead th {\n",
       "        text-align: right;\n",
       "    }\n",
       "</style>\n",
       "<table border=\"1\" class=\"dataframe\">\n",
       "  <thead>\n",
       "    <tr style=\"text-align: right;\">\n",
       "      <th></th>\n",
       "      <th>key</th>\n",
       "      <th>temp_one</th>\n",
       "      <th>temp_two</th>\n",
       "      <th>power_full</th>\n",
       "      <th>heating_time</th>\n",
       "      <th>bulk_sum</th>\n",
       "      <th>gas</th>\n",
       "      <th>wire_sum</th>\n",
       "    </tr>\n",
       "  </thead>\n",
       "  <tbody>\n",
       "    <tr>\n",
       "      <th>0</th>\n",
       "      <td>1</td>\n",
       "      <td>1571.0</td>\n",
       "      <td>1613.0</td>\n",
       "      <td>5.826395</td>\n",
       "      <td>1098</td>\n",
       "      <td>553.0</td>\n",
       "      <td>29.749986</td>\n",
       "      <td>60.059998</td>\n",
       "    </tr>\n",
       "    <tr>\n",
       "      <th>1</th>\n",
       "      <td>2</td>\n",
       "      <td>1581.0</td>\n",
       "      <td>1602.0</td>\n",
       "      <td>3.649216</td>\n",
       "      <td>811</td>\n",
       "      <td>582.0</td>\n",
       "      <td>12.555561</td>\n",
       "      <td>96.052315</td>\n",
       "    </tr>\n",
       "    <tr>\n",
       "      <th>2</th>\n",
       "      <td>3</td>\n",
       "      <td>1596.0</td>\n",
       "      <td>1599.0</td>\n",
       "      <td>2.989534</td>\n",
       "      <td>655</td>\n",
       "      <td>544.0</td>\n",
       "      <td>28.554793</td>\n",
       "      <td>91.160157</td>\n",
       "    </tr>\n",
       "    <tr>\n",
       "      <th>3</th>\n",
       "      <td>4</td>\n",
       "      <td>1601.0</td>\n",
       "      <td>1625.0</td>\n",
       "      <td>3.814962</td>\n",
       "      <td>741</td>\n",
       "      <td>595.0</td>\n",
       "      <td>18.841219</td>\n",
       "      <td>89.063515</td>\n",
       "    </tr>\n",
       "    <tr>\n",
       "      <th>4</th>\n",
       "      <td>5</td>\n",
       "      <td>1576.0</td>\n",
       "      <td>1602.0</td>\n",
       "      <td>4.035758</td>\n",
       "      <td>869</td>\n",
       "      <td>584.0</td>\n",
       "      <td>5.413692</td>\n",
       "      <td>98.352796</td>\n",
       "    </tr>\n",
       "    <tr>\n",
       "      <th>...</th>\n",
       "      <td>...</td>\n",
       "      <td>...</td>\n",
       "      <td>...</td>\n",
       "      <td>...</td>\n",
       "      <td>...</td>\n",
       "      <td>...</td>\n",
       "      <td>...</td>\n",
       "      <td>...</td>\n",
       "    </tr>\n",
       "    <tr>\n",
       "      <th>2320</th>\n",
       "      <td>2495</td>\n",
       "      <td>1570.0</td>\n",
       "      <td>1591.0</td>\n",
       "      <td>3.986869</td>\n",
       "      <td>723</td>\n",
       "      <td>719.0</td>\n",
       "      <td>7.125735</td>\n",
       "      <td>89.150879</td>\n",
       "    </tr>\n",
       "    <tr>\n",
       "      <th>2321</th>\n",
       "      <td>2496</td>\n",
       "      <td>1554.0</td>\n",
       "      <td>1591.0</td>\n",
       "      <td>5.057033</td>\n",
       "      <td>940</td>\n",
       "      <td>796.0</td>\n",
       "      <td>9.412616</td>\n",
       "      <td>114.179527</td>\n",
       "    </tr>\n",
       "    <tr>\n",
       "      <th>2322</th>\n",
       "      <td>2497</td>\n",
       "      <td>1571.0</td>\n",
       "      <td>1589.0</td>\n",
       "      <td>2.885017</td>\n",
       "      <td>569</td>\n",
       "      <td>665.0</td>\n",
       "      <td>6.271699</td>\n",
       "      <td>103.134723</td>\n",
       "    </tr>\n",
       "    <tr>\n",
       "      <th>2323</th>\n",
       "      <td>2498</td>\n",
       "      <td>1591.0</td>\n",
       "      <td>1594.0</td>\n",
       "      <td>4.143749</td>\n",
       "      <td>750</td>\n",
       "      <td>733.0</td>\n",
       "      <td>14.953657</td>\n",
       "      <td>118.110717</td>\n",
       "    </tr>\n",
       "    <tr>\n",
       "      <th>2324</th>\n",
       "      <td>2499</td>\n",
       "      <td>1569.0</td>\n",
       "      <td>1603.0</td>\n",
       "      <td>4.953010</td>\n",
       "      <td>883</td>\n",
       "      <td>633.0</td>\n",
       "      <td>11.336151</td>\n",
       "      <td>160.166238</td>\n",
       "    </tr>\n",
       "  </tbody>\n",
       "</table>\n",
       "<p>2325 rows × 8 columns</p>\n",
       "</div>"
      ],
      "text/plain": [
       "       key  temp_one  temp_two  power_full  heating_time  bulk_sum        gas  \\\n",
       "0        1    1571.0    1613.0    5.826395          1098     553.0  29.749986   \n",
       "1        2    1581.0    1602.0    3.649216           811     582.0  12.555561   \n",
       "2        3    1596.0    1599.0    2.989534           655     544.0  28.554793   \n",
       "3        4    1601.0    1625.0    3.814962           741     595.0  18.841219   \n",
       "4        5    1576.0    1602.0    4.035758           869     584.0   5.413692   \n",
       "...    ...       ...       ...         ...           ...       ...        ...   \n",
       "2320  2495    1570.0    1591.0    3.986869           723     719.0   7.125735   \n",
       "2321  2496    1554.0    1591.0    5.057033           940     796.0   9.412616   \n",
       "2322  2497    1571.0    1589.0    2.885017           569     665.0   6.271699   \n",
       "2323  2498    1591.0    1594.0    4.143749           750     733.0  14.953657   \n",
       "2324  2499    1569.0    1603.0    4.953010           883     633.0  11.336151   \n",
       "\n",
       "        wire_sum  \n",
       "0      60.059998  \n",
       "1      96.052315  \n",
       "2      91.160157  \n",
       "3      89.063515  \n",
       "4      98.352796  \n",
       "...          ...  \n",
       "2320   89.150879  \n",
       "2321  114.179527  \n",
       "2322  103.134723  \n",
       "2323  118.110717  \n",
       "2324  160.166238  \n",
       "\n",
       "[2325 rows x 8 columns]"
      ]
     },
     "execution_count": 78,
     "metadata": {},
     "output_type": "execute_result"
    }
   ],
   "source": [
    "data"
   ]
  },
  {
   "cell_type": "markdown",
   "metadata": {},
   "source": [
    "Проверим данные на мультиколлинеарность."
   ]
  },
  {
   "cell_type": "code",
   "execution_count": 79,
   "metadata": {},
   "outputs": [
    {
     "data": {
      "image/png": "[encoded data removed]",
      "text/plain": [
       "<Figure size 1080x720 with 2 Axes>"
      ]
     },
     "metadata": {
      "needs_background": "light"
     },
     "output_type": "display_data"
    }
   ],
   "source": [
    "plt.figure(figsize=(15, 10))\n",
    "plt.title('Корреляция')\n",
    "\n",
    "sns.heatmap(data.corr(), annot = True, cmap=\"Blues\")\n",
    "\n",
    "plt.show()"
   ]
  },
  {
   "cell_type": "markdown",
   "metadata": {},
   "source": [
    "Время нагрева и полная мощность очень сильно коррелирут между собой. Остальные признаки в пределах нормы. Удалим столбец \"heating_time\"."
   ]
  },
  {
   "cell_type": "code",
   "execution_count": 80,
   "metadata": {},
   "outputs": [
    {
     "data": {
      "text/html": [
       "<div>\n",
       "<style scoped>\n",
       "    .dataframe tbody tr th:only-of-type {\n",
       "        vertical-align: middle;\n",
       "    }\n",
       "\n",
       "    .dataframe tbody tr th {\n",
       "        vertical-align: top;\n",
       "    }\n",
       "\n",
       "    .dataframe thead th {\n",
       "        text-align: right;\n",
       "    }\n",
       "</style>\n",
       "<table border=\"1\" class=\"dataframe\">\n",
       "  <thead>\n",
       "    <tr style=\"text-align: right;\">\n",
       "      <th></th>\n",
       "      <th>key</th>\n",
       "      <th>temp_one</th>\n",
       "      <th>temp_two</th>\n",
       "      <th>power_full</th>\n",
       "      <th>bulk_sum</th>\n",
       "      <th>gas</th>\n",
       "      <th>wire_sum</th>\n",
       "    </tr>\n",
       "  </thead>\n",
       "  <tbody>\n",
       "    <tr>\n",
       "      <th>0</th>\n",
       "      <td>1</td>\n",
       "      <td>1571.0</td>\n",
       "      <td>1613.0</td>\n",
       "      <td>5.826395</td>\n",
       "      <td>553.0</td>\n",
       "      <td>29.749986</td>\n",
       "      <td>60.059998</td>\n",
       "    </tr>\n",
       "    <tr>\n",
       "      <th>1</th>\n",
       "      <td>2</td>\n",
       "      <td>1581.0</td>\n",
       "      <td>1602.0</td>\n",
       "      <td>3.649216</td>\n",
       "      <td>582.0</td>\n",
       "      <td>12.555561</td>\n",
       "      <td>96.052315</td>\n",
       "    </tr>\n",
       "    <tr>\n",
       "      <th>2</th>\n",
       "      <td>3</td>\n",
       "      <td>1596.0</td>\n",
       "      <td>1599.0</td>\n",
       "      <td>2.989534</td>\n",
       "      <td>544.0</td>\n",
       "      <td>28.554793</td>\n",
       "      <td>91.160157</td>\n",
       "    </tr>\n",
       "    <tr>\n",
       "      <th>3</th>\n",
       "      <td>4</td>\n",
       "      <td>1601.0</td>\n",
       "      <td>1625.0</td>\n",
       "      <td>3.814962</td>\n",
       "      <td>595.0</td>\n",
       "      <td>18.841219</td>\n",
       "      <td>89.063515</td>\n",
       "    </tr>\n",
       "    <tr>\n",
       "      <th>4</th>\n",
       "      <td>5</td>\n",
       "      <td>1576.0</td>\n",
       "      <td>1602.0</td>\n",
       "      <td>4.035758</td>\n",
       "      <td>584.0</td>\n",
       "      <td>5.413692</td>\n",
       "      <td>98.352796</td>\n",
       "    </tr>\n",
       "    <tr>\n",
       "      <th>...</th>\n",
       "      <td>...</td>\n",
       "      <td>...</td>\n",
       "      <td>...</td>\n",
       "      <td>...</td>\n",
       "      <td>...</td>\n",
       "      <td>...</td>\n",
       "      <td>...</td>\n",
       "    </tr>\n",
       "    <tr>\n",
       "      <th>2320</th>\n",
       "      <td>2495</td>\n",
       "      <td>1570.0</td>\n",
       "      <td>1591.0</td>\n",
       "      <td>3.986869</td>\n",
       "      <td>719.0</td>\n",
       "      <td>7.125735</td>\n",
       "      <td>89.150879</td>\n",
       "    </tr>\n",
       "    <tr>\n",
       "      <th>2321</th>\n",
       "      <td>2496</td>\n",
       "      <td>1554.0</td>\n",
       "      <td>1591.0</td>\n",
       "      <td>5.057033</td>\n",
       "      <td>796.0</td>\n",
       "      <td>9.412616</td>\n",
       "      <td>114.179527</td>\n",
       "    </tr>\n",
       "    <tr>\n",
       "      <th>2322</th>\n",
       "      <td>2497</td>\n",
       "      <td>1571.0</td>\n",
       "      <td>1589.0</td>\n",
       "      <td>2.885017</td>\n",
       "      <td>665.0</td>\n",
       "      <td>6.271699</td>\n",
       "      <td>103.134723</td>\n",
       "    </tr>\n",
       "    <tr>\n",
       "      <th>2323</th>\n",
       "      <td>2498</td>\n",
       "      <td>1591.0</td>\n",
       "      <td>1594.0</td>\n",
       "      <td>4.143749</td>\n",
       "      <td>733.0</td>\n",
       "      <td>14.953657</td>\n",
       "      <td>118.110717</td>\n",
       "    </tr>\n",
       "    <tr>\n",
       "      <th>2324</th>\n",
       "      <td>2499</td>\n",
       "      <td>1569.0</td>\n",
       "      <td>1603.0</td>\n",
       "      <td>4.953010</td>\n",
       "      <td>633.0</td>\n",
       "      <td>11.336151</td>\n",
       "      <td>160.166238</td>\n",
       "    </tr>\n",
       "  </tbody>\n",
       "</table>\n",
       "<p>2325 rows × 7 columns</p>\n",
       "</div>"
      ],
      "text/plain": [
       "       key  temp_one  temp_two  power_full  bulk_sum        gas    wire_sum\n",
       "0        1    1571.0    1613.0    5.826395     553.0  29.749986   60.059998\n",
       "1        2    1581.0    1602.0    3.649216     582.0  12.555561   96.052315\n",
       "2        3    1596.0    1599.0    2.989534     544.0  28.554793   91.160157\n",
       "3        4    1601.0    1625.0    3.814962     595.0  18.841219   89.063515\n",
       "4        5    1576.0    1602.0    4.035758     584.0   5.413692   98.352796\n",
       "...    ...       ...       ...         ...       ...        ...         ...\n",
       "2320  2495    1570.0    1591.0    3.986869     719.0   7.125735   89.150879\n",
       "2321  2496    1554.0    1591.0    5.057033     796.0   9.412616  114.179527\n",
       "2322  2497    1571.0    1589.0    2.885017     665.0   6.271699  103.134723\n",
       "2323  2498    1591.0    1594.0    4.143749     733.0  14.953657  118.110717\n",
       "2324  2499    1569.0    1603.0    4.953010     633.0  11.336151  160.166238\n",
       "\n",
       "[2325 rows x 7 columns]"
      ]
     },
     "execution_count": 80,
     "metadata": {},
     "output_type": "execute_result"
    }
   ],
   "source": [
    "new_data = data.groupby('key').sum()[['temp_one', 'temp_two', 'power_full', 'bulk_sum', 'gas', 'wire_sum']].reset_index()\n",
    "new_data"
   ]
  },
  {
   "cell_type": "code",
   "execution_count": 81,
   "metadata": {},
   "outputs": [
    {
     "data": {
      "image/png": "[encoded data removed]",
      "text/plain": [
       "<Figure size 1080x720 with 2 Axes>"
      ]
     },
     "metadata": {
      "needs_background": "light"
     },
     "output_type": "display_data"
    }
   ],
   "source": [
    "#Проверим ещё раз корреляцию\n",
    "plt.figure(figsize=(15, 10))\n",
    "plt.title('Корреляция')\n",
    "\n",
    "sns.heatmap(new_data.corr(), annot = True, cmap=\"Blues\")\n",
    "\n",
    "plt.show()"
   ]
  },
  {
   "cell_type": "markdown",
   "metadata": {},
   "source": [
    "Корреляция в пределах нормы. Переходим к этапу разделения данных."
   ]
  },
  {
   "cell_type": "code",
   "execution_count": 82,
   "metadata": {},
   "outputs": [
    {
     "data": {
      "text/plain": [
       "key           0\n",
       "temp_one      0\n",
       "temp_two      0\n",
       "power_full    0\n",
       "bulk_sum      0\n",
       "gas           0\n",
       "wire_sum      0\n",
       "dtype: int64"
      ]
     },
     "execution_count": 82,
     "metadata": {},
     "output_type": "execute_result"
    }
   ],
   "source": [
    "#Проверим наличие пропусков\n",
    "new_data.isna().sum()"
   ]
  },
  {
   "cell_type": "code",
   "execution_count": 83,
   "metadata": {},
   "outputs": [
    {
     "data": {
      "text/plain": [
       "0"
      ]
     },
     "execution_count": 83,
     "metadata": {},
     "output_type": "execute_result"
    }
   ],
   "source": [
    "#Проверим наличие дубликатов\n",
    "new_data.duplicated().sum()"
   ]
  },
  {
   "cell_type": "markdown",
   "metadata": {},
   "source": [
    "### Вывод"
   ]
  },
  {
   "cell_type": "markdown",
   "metadata": {},
   "source": [
    "В ходе исследования и предобработки данных было сделано следующее:  \n",
    "* Данные загружены и изучены\n",
    "* Выявлены и удалены аномалии в реактивной мощности и температуре\n",
    "* Найдена полная мощность нагрева\n",
    "* Температура разделена на начальную и конечную\n",
    "* Данные из нескольких таблиц объединены в одну таблицу для удобства обучения модели\n",
    "* Проведена проверка на корреляцию признаков, коррелирующий столбец удалён  \n",
    "  \n",
    "Данные поготовлены к обучению моделей."
   ]
  },
  {
   "cell_type": "markdown",
   "metadata": {},
   "source": [
    "## Разделение данных на выборки"
   ]
  },
  {
   "cell_type": "code",
   "execution_count": 84,
   "metadata": {},
   "outputs": [
    {
     "name": "stdout",
     "output_type": "stream",
     "text": [
      "(1743, 5)\n",
      "\n",
      "(582, 5)\n",
      "\n",
      "(1743,)\n",
      "\n",
      "(582,)\n"
     ]
    }
   ],
   "source": [
    "random_state = 100423\n",
    "\n",
    "features = new_data.drop(['key', 'temp_two'], axis=1)\n",
    "target = new_data['temp_two']\n",
    "\n",
    "features_train, features_test, target_train, target_test = train_test_split(\n",
    "                                                            features, \n",
    "                                                            target, \n",
    "                                                            test_size=0.25, \n",
    "                                                            random_state=random_state)\n",
    "cv = 5\n",
    "\n",
    "print(features_train.shape)\n",
    "print(features_test.shape)\n",
    "print(target_train.shape)\n",
    "print(target_test.shape)"
   ]
  },
  {
   "cell_type": "markdown",
   "metadata": {},
   "source": [
    "Для обучения выберем следующие модели:  \n",
    "* LinearRegression\n",
    "* RandomForestRegressor\n",
    "* LGBMRegressor"
   ]
  },
  {
   "cell_type": "markdown",
   "metadata": {},
   "source": [
    "### Вывод"
   ]
  },
  {
   "cell_type": "markdown",
   "metadata": {},
   "source": [
    "В ходе третьего этапа сделано:  \n",
    "* Выделены признаки и целевой признак\n",
    "* Данные разделены на тренировочную и тестовую выборки\n",
    "* Выбраны три модели для обучения"
   ]
  },
  {
   "cell_type": "markdown",
   "metadata": {},
   "source": [
    "## Обучение моделей"
   ]
  },
  {
   "cell_type": "markdown",
   "metadata": {},
   "source": [
    "### LinearRegression"
   ]
  },
  {
   "cell_type": "code",
   "execution_count": 85,
   "metadata": {},
   "outputs": [],
   "source": [
    "#Проведём масштабирование признаков\n",
    "scaler = StandardScaler()\n",
    "features_train = scaler.fit_transform(features_train)\n",
    "features_test = scaler.transform(features_test)"
   ]
  },
  {
   "cell_type": "code",
   "execution_count": 86,
   "metadata": {},
   "outputs": [
    {
     "name": "stdout",
     "output_type": "stream",
     "text": [
      "MAE линейной регрессии с кросс-валидацией: 6.781564446922313\n"
     ]
    }
   ],
   "source": [
    "model_lr = LinearRegression()\n",
    "cv_lr = (cross_val_score(model_lr, \n",
    "                         features_train, \n",
    "                         target_train, \n",
    "                         cv=cv, \n",
    "                         scoring='neg_mean_absolute_error').mean() * -1)\n",
    "print('MAE линейной регрессии с кросс-валидацией:', cv_lr)"
   ]
  },
  {
   "cell_type": "markdown",
   "metadata": {},
   "source": [
    "МАЕ линейной регрессии с кросс-валидацией меньше 6.8 и составляет **6.78**, что отвечает поставленным требованиям. Рассмотрим другие модели."
   ]
  },
  {
   "cell_type": "markdown",
   "metadata": {},
   "source": [
    "### RandomForestRegressor"
   ]
  },
  {
   "cell_type": "code",
   "execution_count": 88,
   "metadata": {},
   "outputs": [
    {
     "name": "stdout",
     "output_type": "stream",
     "text": [
      "Лучшие параметры:  {'max_depth': 8, 'n_estimators': 400}\n",
      "\n",
      "Лучшая MAE:  6.496190381729886\n"
     ]
    }
   ],
   "source": [
    "#Используем GridSearch для поиска лучших параметров\n",
    "\n",
    "model_forest = RandomForestRegressor(random_state=random_state)\n",
    "\n",
    "param_grid = {'n_estimators': [50, 100, 200, 400], 'max_depth' : [4, 6, 8, 10, 12]}\n",
    "\n",
    "cv_forest = GridSearchCV(estimator=model_forest, \n",
    "                         param_grid=param_grid, \n",
    "                         scoring='neg_mean_absolute_error',  \n",
    "                         cv=cv)\n",
    "\n",
    "cv_forest.fit(features_train, target_train)\n",
    "\n",
    "\n",
    "print('Лучшие параметры: ', cv_forest.best_params_)\n",
    "print('Лучшая MAE: ', (-cv_forest.best_score_))"
   ]
  },
  {
   "cell_type": "code",
   "execution_count": 89,
   "metadata": {},
   "outputs": [
    {
     "name": "stdout",
     "output_type": "stream",
     "text": [
      "MAE случайного леса: 4.793208466206721\n"
     ]
    }
   ],
   "source": [
    "#Обучим модель с найденными параметрами\n",
    "model_forest_best = RandomForestRegressor(random_state=random_state, max_depth=8, n_estimators= 400)\n",
    "model_forest_best.fit(features_train, target_train)\n",
    "\n",
    "model_forest_best_pred = model_forest_best.predict(features_train)\n",
    "\n",
    "print('MAE случайного леса:', mean_absolute_error(target_train, model_forest_best_pred))"
   ]
  },
  {
   "cell_type": "markdown",
   "metadata": {},
   "source": [
    "MAE случайного леса с кросс-валидацией тоже отвечает поставленным требованиям и составляет **4.79** на тренировочной выборке с лучшими гиперпараметрами, подобранными с помощью GridSearch. Рассмотрим ещё одну модель."
   ]
  },
  {
   "cell_type": "markdown",
   "metadata": {},
   "source": [
    "### LGBMRegressor"
   ]
  },
  {
   "cell_type": "code",
   "execution_count": null,
   "metadata": {},
   "outputs": [],
   "source": [
    "#Подберём лучшие гиперпараметры для обучения\n",
    "\n",
    "model_lg = LGBMRegressor(random_state=random_state)\n",
    "params_gr = {'n_estimators': [50, 100, 200, 400], 'num_leaves': [50, 80, 100, 200], 'max_depth': [4, 6, 8, 10, 12]}\n",
    "\n",
    "cv_lg = GridSearchCV(estimator=model_lg, param_grid=params_gr, scoring='neg_mean_absolute_error', cv=cv)\n",
    "\n",
    "cv_lg.fit(features_train, target_train)\n",
    "\n",
    "print('Лучшие параметры: ', cv_lg.best_params_)\n",
    "print('Лучшая MAE: ', (-cv_lg.best_score_))"
   ]
  },
  {
   "cell_type": "code",
   "execution_count": null,
   "metadata": {},
   "outputs": [],
   "source": [
    "#Обучим модель с найденными гиперпараметрами\n",
    "model_lg_best = LGBMRegressor(random_state=random_state, max_depth=4, n_estimators=50, num_leaves=50)\n",
    "model_lg_best.fit(features_train, target_train)\n",
    "model_lg_best_pred = model_lg_best.predict(features_train)\n",
    "\n",
    "print('MAE LGBMRegressor:', mean_absolute_error(target_train, model_lg_best_pred))"
   ]
  },
  {
   "cell_type": "markdown",
   "metadata": {},
   "source": [
    "МАЕ LGBMRegressor с кросс-валидацией отвечает поставленным требованиям и составляет 6.52 на тренировочной выборке с лучшими гиперпараметрами, подобранными с помощью GridSearch."
   ]
  },
  {
   "cell_type": "markdown",
   "metadata": {},
   "source": [
    "### Вывод"
   ]
  },
  {
   "cell_type": "markdown",
   "metadata": {},
   "source": [
    "Обучены три модели с применением кросс-валидации и подбором гиперпараметров:  \n",
    "* **LinearRegression** - МАЕ = 6.78\n",
    "* **RandomForestRegressor** - МАЕ = 4.79\n",
    "* **LGBMRegressor** - МАЕ = 6.52  \n",
    "  \n",
    "По результатам обучения наименьшая МАЕ была получена у модели RandomForestRegressor. Её и будем тестировать."
   ]
  },
  {
   "cell_type": "markdown",
   "metadata": {},
   "source": [
    "## Тестирование модели"
   ]
  },
  {
   "cell_type": "code",
   "execution_count": null,
   "metadata": {},
   "outputs": [],
   "source": [
    "#Узнаем МАЕ у модели RandomForestRegressor на тестовой выборке\n",
    "model = RandomForestRegressor(random_state=random_state, max_depth=8, n_estimators= 400)\n",
    "model.fit(features_train, target_train)\n",
    "model_pred = model.predict(features_test)\n",
    "print('MAE RandomForestRegressor: ', mean_absolute_error(target_test, model_pred))"
   ]
  },
  {
   "cell_type": "markdown",
   "metadata": {},
   "source": [
    "МАЕ = **6.68**, что отвечает поставленным требованиям. Проведём анализ важности факторов на тестовой модели."
   ]
  },
  {
   "cell_type": "markdown",
   "metadata": {},
   "source": [
    "### Вывод"
   ]
  },
  {
   "cell_type": "markdown",
   "metadata": {},
   "source": [
    "На тестовой выборке МАЕ получилась выше, чем на тренировочной, но полученное значение вошло в пределы нормы. Для тестирования были использованы гиперпараметры, полученные при обучении модели на тренировочной выборке."
   ]
  },
  {
   "cell_type": "markdown",
   "metadata": {},
   "source": [
    "## Анализ важности факторов"
   ]
  },
  {
   "cell_type": "code",
   "execution_count": null,
   "metadata": {},
   "outputs": [],
   "source": [
    "#Построим график\n",
    "\n",
    "features_forest = pd.Series(model.feature_importances_, features.columns)\n",
    "\n",
    "fig, ax = plt.subplots(figsize=(16,14))\n",
    "features_forest.plot.bar(ax=ax)\n",
    "ax.set_title(\"Важность признаков\")\n",
    "ax.set_ylabel('Важность')\n",
    "fig.tight_layout()"
   ]
  },
  {
   "cell_type": "markdown",
   "metadata": {},
   "source": [
    "### Вывод"
   ]
  },
  {
   "cell_type": "markdown",
   "metadata": {},
   "source": [
    "Судя по построенному графику, наиболее важными признаками для итоговой метрики являются начальная температура и полная мощность нагрева. Заказчику стоит обратить на них внимание, т.к. они больше всего влияют на итоговую температуру."
   ]
  },
  {
   "cell_type": "markdown",
   "metadata": {},
   "source": [
    "## Общий вывод"
   ]
  },
  {
   "cell_type": "markdown",
   "metadata": {},
   "source": [
    "В ходе исследования было сделано следующее:  \n",
    "* Данные загружены, проанализированы и предобработаны\n",
    "  * Выявлены и удалены аномалии в реактивной мощности и температуре\n",
    "  * Найдена полная мощность нагрева\n",
    "  * Температура разделена на начальную и конечную\n",
    "  * Данные из нескольких таблиц объединены в одну таблицу для удобства обучения модели\n",
    "  * Проведена проверка на корреляцию признаков, коррелирующий столбец удалён\n",
    "* Выделены признаки и целевой признак для обучения моделей\n",
    "* Данные разделены на тренировочную и тестовую выборки\n",
    "* Обучены три модели:\n",
    "  * **LinearRegression**\n",
    "  * **RandomForestRegressor**\n",
    "  * **LGBMRegressor**\n",
    "* Для обучения модели использованись следующие признаки:\n",
    "  * **temp_one**\n",
    "  * **power_full**\n",
    "  * **bulk_sum**\n",
    "  * **gas**\n",
    "  * **wire_sum**\n",
    "* Выбрана одна модель для проверки на тестовой выборке - RandomForestRegressor с МАЕ = 4.79, полученной на тренировочной выборке\n",
    "* Проведено тестирование лучшей модели. Получено значение МАЕ = 6.68, что подходит под требования (МАЕ < 6.8)\n",
    "* Проанализирована важность признаков, на которых обучалась модель\n",
    "  * Наиболее значимыми признаками оказались **начальная температура** и **полная мощность**\n",
    "  * От этих признаков конечная температура (целевой признак) зависит сильнее всего\n",
    "* Заказчику рекомендовано обратить внимание на наиболее важные признаки"
   ]
  },
  {
   "cell_type": "code",
   "execution_count": null,
   "metadata": {},
   "outputs": [],
   "source": []
  }
 ],
 "metadata": {
  "ExecuteTimeLog": [
   {
    "duration": 53,
    "start_time": "2023-04-15T16:04:55.306Z"
   },
   {
    "duration": 1982,
    "start_time": "2023-04-15T16:08:17.904Z"
   },
   {
    "duration": 411,
    "start_time": "2023-04-15T16:08:47.404Z"
   },
   {
    "duration": 46,
    "start_time": "2023-04-15T16:14:23.789Z"
   },
   {
    "duration": 52,
    "start_time": "2023-04-15T16:21:39.597Z"
   },
   {
    "duration": 64,
    "start_time": "2023-04-15T16:27:02.851Z"
   },
   {
    "duration": 20,
    "start_time": "2023-04-15T21:53:26.232Z"
   },
   {
    "duration": 13,
    "start_time": "2023-04-15T21:53:36.532Z"
   },
   {
    "duration": 10,
    "start_time": "2023-04-15T21:54:03.641Z"
   },
   {
    "duration": 10,
    "start_time": "2023-04-15T21:54:05.071Z"
   },
   {
    "duration": 24,
    "start_time": "2023-04-15T21:54:10.415Z"
   },
   {
    "duration": 21,
    "start_time": "2023-04-15T21:54:12.366Z"
   },
   {
    "duration": 351,
    "start_time": "2023-04-15T21:54:33.529Z"
   },
   {
    "duration": 7,
    "start_time": "2023-04-15T21:54:51.763Z"
   },
   {
    "duration": 6,
    "start_time": "2023-04-15T21:56:07.952Z"
   },
   {
    "duration": 17,
    "start_time": "2023-04-15T21:59:10.387Z"
   },
   {
    "duration": 13,
    "start_time": "2023-04-15T22:01:30.926Z"
   },
   {
    "duration": 9,
    "start_time": "2023-04-15T22:02:27.461Z"
   },
   {
    "duration": 4,
    "start_time": "2023-04-15T22:08:16.716Z"
   },
   {
    "duration": 170,
    "start_time": "2023-04-15T22:08:17.816Z"
   },
   {
    "duration": 7,
    "start_time": "2023-04-15T22:13:11.316Z"
   },
   {
    "duration": 6,
    "start_time": "2023-04-15T22:13:20.079Z"
   },
   {
    "duration": 153,
    "start_time": "2023-04-15T22:13:31.704Z"
   },
   {
    "duration": 6,
    "start_time": "2023-04-15T22:13:40.362Z"
   },
   {
    "duration": 5,
    "start_time": "2023-04-15T22:27:22.279Z"
   },
   {
    "duration": 4,
    "start_time": "2023-04-15T22:28:11.077Z"
   },
   {
    "duration": 40,
    "start_time": "2023-04-15T22:29:55.989Z"
   },
   {
    "duration": 109,
    "start_time": "2023-04-15T22:30:35.621Z"
   },
   {
    "duration": 31,
    "start_time": "2023-04-15T22:30:37.180Z"
   },
   {
    "duration": 10,
    "start_time": "2023-04-15T22:33:09.329Z"
   },
   {
    "duration": 15,
    "start_time": "2023-04-15T22:33:34.302Z"
   },
   {
    "duration": 13,
    "start_time": "2023-04-15T22:33:49.863Z"
   },
   {
    "duration": 22,
    "start_time": "2023-04-15T22:35:46.658Z"
   },
   {
    "duration": 20,
    "start_time": "2023-04-15T22:38:21.022Z"
   },
   {
    "duration": 28,
    "start_time": "2023-04-15T22:38:27.853Z"
   },
   {
    "duration": 60,
    "start_time": "2023-04-15T22:38:47.606Z"
   },
   {
    "duration": 390,
    "start_time": "2023-04-15T22:38:55.958Z"
   },
   {
    "duration": 57,
    "start_time": "2023-04-16T15:16:36.844Z"
   },
   {
    "duration": 2905,
    "start_time": "2023-04-16T15:16:56.713Z"
   },
   {
    "duration": 761,
    "start_time": "2023-04-16T15:16:59.621Z"
   },
   {
    "duration": 53,
    "start_time": "2023-04-16T15:17:00.390Z"
   },
   {
    "duration": 24,
    "start_time": "2023-04-16T15:17:00.447Z"
   },
   {
    "duration": 43,
    "start_time": "2023-04-16T15:17:00.474Z"
   },
   {
    "duration": 37,
    "start_time": "2023-04-16T15:17:00.519Z"
   },
   {
    "duration": 67,
    "start_time": "2023-04-16T15:17:00.558Z"
   },
   {
    "duration": 57,
    "start_time": "2023-04-16T15:17:00.628Z"
   },
   {
    "duration": 514,
    "start_time": "2023-04-16T15:17:00.690Z"
   },
   {
    "duration": 18,
    "start_time": "2023-04-16T15:17:01.210Z"
   },
   {
    "duration": 66,
    "start_time": "2023-04-16T15:17:01.231Z"
   },
   {
    "duration": 71,
    "start_time": "2023-04-16T15:17:01.299Z"
   },
   {
    "duration": 282,
    "start_time": "2023-04-16T15:17:01.373Z"
   },
   {
    "duration": 5,
    "start_time": "2023-04-16T15:17:01.657Z"
   },
   {
    "duration": 190,
    "start_time": "2023-04-16T15:17:01.664Z"
   },
   {
    "duration": 13,
    "start_time": "2023-04-16T15:17:01.858Z"
   },
   {
    "duration": 100,
    "start_time": "2023-04-16T15:17:01.872Z"
   },
   {
    "duration": 99,
    "start_time": "2023-04-16T15:17:01.974Z"
   },
   {
    "duration": 96,
    "start_time": "2023-04-16T15:17:02.078Z"
   },
   {
    "duration": 146,
    "start_time": "2023-04-16T15:17:02.180Z"
   },
   {
    "duration": 410,
    "start_time": "2023-04-16T15:17:02.328Z"
   },
   {
    "duration": 25,
    "start_time": "2023-04-16T15:17:02.740Z"
   },
   {
    "duration": 70,
    "start_time": "2023-04-16T15:17:02.768Z"
   },
   {
    "duration": 61,
    "start_time": "2023-04-16T15:17:02.841Z"
   },
   {
    "duration": 52,
    "start_time": "2023-04-16T15:17:02.904Z"
   },
   {
    "duration": 74,
    "start_time": "2023-04-16T15:17:02.958Z"
   },
   {
    "duration": 184,
    "start_time": "2023-04-16T15:17:03.034Z"
   },
   {
    "duration": 27,
    "start_time": "2023-04-16T15:17:03.226Z"
   },
   {
    "duration": 279,
    "start_time": "2023-04-16T15:17:03.255Z"
   },
   {
    "duration": 16,
    "start_time": "2023-04-16T15:17:03.537Z"
   },
   {
    "duration": 36,
    "start_time": "2023-04-16T15:17:03.557Z"
   },
   {
    "duration": 70,
    "start_time": "2023-04-16T15:17:03.599Z"
   },
   {
    "duration": 57,
    "start_time": "2023-04-16T15:17:03.671Z"
   },
   {
    "duration": 67,
    "start_time": "2023-04-16T15:17:03.730Z"
   },
   {
    "duration": 364,
    "start_time": "2023-04-16T15:17:03.800Z"
   },
   {
    "duration": 8,
    "start_time": "2023-04-16T15:17:04.166Z"
   },
   {
    "duration": 55,
    "start_time": "2023-04-16T15:17:04.188Z"
   },
   {
    "duration": 4,
    "start_time": "2023-04-16T15:17:04.246Z"
   },
   {
    "duration": 36,
    "start_time": "2023-04-16T15:17:04.252Z"
   },
   {
    "duration": 259,
    "start_time": "2023-04-16T15:17:04.293Z"
   },
   {
    "duration": 9,
    "start_time": "2023-04-16T15:17:04.554Z"
   },
   {
    "duration": 23,
    "start_time": "2023-04-16T15:17:04.565Z"
   },
   {
    "duration": 57,
    "start_time": "2023-04-16T15:17:04.599Z"
   },
   {
    "duration": 11,
    "start_time": "2023-04-16T15:17:04.658Z"
   },
   {
    "duration": 31,
    "start_time": "2023-04-16T15:17:04.671Z"
   },
   {
    "duration": 64,
    "start_time": "2023-04-16T15:17:04.704Z"
   },
   {
    "duration": 65,
    "start_time": "2023-04-16T15:17:04.772Z"
   },
   {
    "duration": 123,
    "start_time": "2023-04-16T15:17:04.839Z"
   },
   {
    "duration": 126,
    "start_time": "2023-04-16T15:17:04.964Z"
   },
   {
    "duration": 379,
    "start_time": "2023-04-16T15:17:05.092Z"
   },
   {
    "duration": 21,
    "start_time": "2023-04-16T15:17:05.473Z"
   },
   {
    "duration": 34,
    "start_time": "2023-04-16T15:17:05.496Z"
   },
   {
    "duration": 119,
    "start_time": "2023-04-16T15:17:05.533Z"
   },
   {
    "duration": 40,
    "start_time": "2023-04-16T15:17:05.655Z"
   },
   {
    "duration": 156,
    "start_time": "2023-04-16T15:17:05.701Z"
   },
   {
    "duration": 30,
    "start_time": "2023-04-16T15:17:43.602Z"
   },
   {
    "duration": 32,
    "start_time": "2023-04-16T15:19:06.113Z"
   },
   {
    "duration": 23,
    "start_time": "2023-04-16T15:22:11.445Z"
   },
   {
    "duration": 22,
    "start_time": "2023-04-16T15:26:12.330Z"
   },
   {
    "duration": 38,
    "start_time": "2023-04-16T15:29:14.415Z"
   },
   {
    "duration": 111,
    "start_time": "2023-04-16T15:55:59.737Z"
   },
   {
    "duration": 269,
    "start_time": "2023-04-16T15:57:02.855Z"
   },
   {
    "duration": 4,
    "start_time": "2023-04-16T15:57:25.538Z"
   },
   {
    "duration": 44,
    "start_time": "2023-04-16T15:57:27.005Z"
   },
   {
    "duration": 40,
    "start_time": "2023-04-16T15:57:41.011Z"
   },
   {
    "duration": 31,
    "start_time": "2023-04-16T15:57:47.448Z"
   },
   {
    "duration": 6,
    "start_time": "2023-04-16T15:59:54.211Z"
   },
   {
    "duration": 86,
    "start_time": "2023-04-16T16:00:12.097Z"
   },
   {
    "duration": 10,
    "start_time": "2023-04-16T16:01:47.205Z"
   },
   {
    "duration": 44,
    "start_time": "2023-04-16T16:01:48.309Z"
   },
   {
    "duration": 28,
    "start_time": "2023-04-16T16:04:15.014Z"
   },
   {
    "duration": 9,
    "start_time": "2023-04-16T16:04:43.056Z"
   },
   {
    "duration": 18,
    "start_time": "2023-04-16T16:04:52.332Z"
   },
   {
    "duration": 15,
    "start_time": "2023-04-16T16:11:23.460Z"
   },
   {
    "duration": 14,
    "start_time": "2023-04-16T16:11:49.338Z"
   },
   {
    "duration": 16,
    "start_time": "2023-04-16T16:12:14.121Z"
   },
   {
    "duration": 16,
    "start_time": "2023-04-16T16:21:37.045Z"
   },
   {
    "duration": 22,
    "start_time": "2023-04-16T16:28:39.882Z"
   },
   {
    "duration": 14,
    "start_time": "2023-04-16T16:29:01.351Z"
   },
   {
    "duration": 8,
    "start_time": "2023-04-16T16:29:18.705Z"
   },
   {
    "duration": 2,
    "start_time": "2023-04-16T16:29:24.909Z"
   },
   {
    "duration": 14,
    "start_time": "2023-04-16T16:29:27.511Z"
   },
   {
    "duration": 2410,
    "start_time": "2023-04-16T16:29:53.353Z"
   },
   {
    "duration": 276,
    "start_time": "2023-04-16T16:29:55.765Z"
   },
   {
    "duration": 16,
    "start_time": "2023-04-16T16:29:56.043Z"
   },
   {
    "duration": 75,
    "start_time": "2023-04-16T16:29:56.061Z"
   },
   {
    "duration": 18,
    "start_time": "2023-04-16T16:29:56.139Z"
   },
   {
    "duration": 39,
    "start_time": "2023-04-16T16:29:56.159Z"
   },
   {
    "duration": 35,
    "start_time": "2023-04-16T16:29:56.200Z"
   },
   {
    "duration": 22,
    "start_time": "2023-04-16T16:29:56.237Z"
   },
   {
    "duration": 471,
    "start_time": "2023-04-16T16:29:56.262Z"
   },
   {
    "duration": 22,
    "start_time": "2023-04-16T16:29:56.735Z"
   },
   {
    "duration": 45,
    "start_time": "2023-04-16T16:29:56.759Z"
   },
   {
    "duration": 108,
    "start_time": "2023-04-16T16:29:56.808Z"
   },
   {
    "duration": 223,
    "start_time": "2023-04-16T16:29:56.919Z"
   },
   {
    "duration": 6,
    "start_time": "2023-04-16T16:29:57.146Z"
   },
   {
    "duration": 109,
    "start_time": "2023-04-16T16:29:57.153Z"
   },
   {
    "duration": 9,
    "start_time": "2023-04-16T16:29:57.264Z"
   },
   {
    "duration": 29,
    "start_time": "2023-04-16T16:29:57.275Z"
   },
   {
    "duration": 55,
    "start_time": "2023-04-16T16:29:57.306Z"
   },
   {
    "duration": 27,
    "start_time": "2023-04-16T16:29:57.363Z"
   },
   {
    "duration": 55,
    "start_time": "2023-04-16T16:29:57.392Z"
   },
   {
    "duration": 75,
    "start_time": "2023-04-16T16:29:57.449Z"
   },
   {
    "duration": 365,
    "start_time": "2023-04-16T16:29:57.526Z"
   },
   {
    "duration": 34,
    "start_time": "2023-04-16T16:29:57.893Z"
   },
   {
    "duration": 8,
    "start_time": "2023-04-16T16:29:57.928Z"
   },
   {
    "duration": 52,
    "start_time": "2023-04-16T16:29:57.938Z"
   },
   {
    "duration": 16,
    "start_time": "2023-04-16T16:29:57.992Z"
   },
   {
    "duration": 34,
    "start_time": "2023-04-16T16:29:58.010Z"
   },
   {
    "duration": 25,
    "start_time": "2023-04-16T16:29:58.046Z"
   },
   {
    "duration": 72,
    "start_time": "2023-04-16T16:29:58.072Z"
   },
   {
    "duration": 17,
    "start_time": "2023-04-16T16:29:58.146Z"
   },
   {
    "duration": 11,
    "start_time": "2023-04-16T16:29:58.165Z"
   },
   {
    "duration": 206,
    "start_time": "2023-04-16T16:29:58.177Z"
   },
   {
    "duration": 11,
    "start_time": "2023-04-16T16:29:58.384Z"
   },
   {
    "duration": 41,
    "start_time": "2023-04-16T16:29:58.397Z"
   },
   {
    "duration": 9,
    "start_time": "2023-04-16T16:29:58.440Z"
   },
   {
    "duration": 37,
    "start_time": "2023-04-16T16:29:58.451Z"
   },
   {
    "duration": 10,
    "start_time": "2023-04-16T16:29:58.492Z"
   },
   {
    "duration": 44,
    "start_time": "2023-04-16T16:29:58.505Z"
   },
   {
    "duration": 304,
    "start_time": "2023-04-16T16:29:58.551Z"
   },
   {
    "duration": 7,
    "start_time": "2023-04-16T16:29:58.858Z"
   },
   {
    "duration": 19,
    "start_time": "2023-04-16T16:29:58.870Z"
   },
   {
    "duration": 41,
    "start_time": "2023-04-16T16:29:58.891Z"
   },
   {
    "duration": 11,
    "start_time": "2023-04-16T16:29:58.934Z"
   },
   {
    "duration": 33,
    "start_time": "2023-04-16T16:29:58.947Z"
   },
   {
    "duration": 213,
    "start_time": "2023-04-16T16:29:58.983Z"
   },
   {
    "duration": 6,
    "start_time": "2023-04-16T16:29:59.197Z"
   },
   {
    "duration": 10,
    "start_time": "2023-04-16T16:29:59.206Z"
   },
   {
    "duration": 22,
    "start_time": "2023-04-16T16:29:59.218Z"
   },
   {
    "duration": 15,
    "start_time": "2023-04-16T16:29:59.243Z"
   },
   {
    "duration": 45,
    "start_time": "2023-04-16T16:29:59.260Z"
   },
   {
    "duration": 13,
    "start_time": "2023-04-16T16:29:59.315Z"
   },
   {
    "duration": 14,
    "start_time": "2023-04-16T16:29:59.329Z"
   },
   {
    "duration": 16,
    "start_time": "2023-04-16T16:29:59.345Z"
   },
   {
    "duration": 65,
    "start_time": "2023-04-16T16:29:59.363Z"
   },
   {
    "duration": 252,
    "start_time": "2023-04-16T16:29:59.433Z"
   },
   {
    "duration": 36,
    "start_time": "2023-04-16T16:29:59.686Z"
   },
   {
    "duration": 34,
    "start_time": "2023-04-16T16:29:59.724Z"
   },
   {
    "duration": 41,
    "start_time": "2023-04-16T16:29:59.760Z"
   },
   {
    "duration": 51,
    "start_time": "2023-04-16T16:29:59.807Z"
   },
   {
    "duration": 57,
    "start_time": "2023-04-16T16:29:59.863Z"
   },
   {
    "duration": 14,
    "start_time": "2023-04-16T16:30:44.111Z"
   },
   {
    "duration": 2276,
    "start_time": "2023-04-16T16:30:56.135Z"
   },
   {
    "duration": 295,
    "start_time": "2023-04-16T16:30:58.419Z"
   },
   {
    "duration": 26,
    "start_time": "2023-04-16T16:30:58.716Z"
   },
   {
    "duration": 26,
    "start_time": "2023-04-16T16:30:58.745Z"
   },
   {
    "duration": 12,
    "start_time": "2023-04-16T16:30:58.773Z"
   },
   {
    "duration": 59,
    "start_time": "2023-04-16T16:30:58.787Z"
   },
   {
    "duration": 12,
    "start_time": "2023-04-16T16:30:58.847Z"
   },
   {
    "duration": 19,
    "start_time": "2023-04-16T16:30:58.860Z"
   },
   {
    "duration": 432,
    "start_time": "2023-04-16T16:30:58.882Z"
   },
   {
    "duration": 15,
    "start_time": "2023-04-16T16:30:59.317Z"
   },
   {
    "duration": 39,
    "start_time": "2023-04-16T16:30:59.334Z"
   },
   {
    "duration": 6,
    "start_time": "2023-04-16T16:30:59.374Z"
   },
   {
    "duration": 233,
    "start_time": "2023-04-16T16:30:59.381Z"
   },
   {
    "duration": 7,
    "start_time": "2023-04-16T16:30:59.616Z"
   },
   {
    "duration": 143,
    "start_time": "2023-04-16T16:30:59.625Z"
   },
   {
    "duration": 22,
    "start_time": "2023-04-16T16:30:59.770Z"
   },
   {
    "duration": 80,
    "start_time": "2023-04-16T16:30:59.793Z"
   },
   {
    "duration": 26,
    "start_time": "2023-04-16T16:30:59.874Z"
   },
   {
    "duration": 79,
    "start_time": "2023-04-16T16:30:59.907Z"
   },
   {
    "duration": 84,
    "start_time": "2023-04-16T16:30:59.990Z"
   },
   {
    "duration": 114,
    "start_time": "2023-04-16T16:31:00.076Z"
   },
   {
    "duration": 480,
    "start_time": "2023-04-16T16:31:00.195Z"
   },
   {
    "duration": 68,
    "start_time": "2023-04-16T16:31:00.682Z"
   },
   {
    "duration": 114,
    "start_time": "2023-04-16T16:31:00.753Z"
   },
   {
    "duration": 147,
    "start_time": "2023-04-16T16:31:00.869Z"
   },
   {
    "duration": 24,
    "start_time": "2023-04-16T16:31:01.019Z"
   },
   {
    "duration": 112,
    "start_time": "2023-04-16T16:31:01.047Z"
   },
   {
    "duration": 36,
    "start_time": "2023-04-16T16:31:01.165Z"
   },
   {
    "duration": 113,
    "start_time": "2023-04-16T16:31:01.208Z"
   },
   {
    "duration": 94,
    "start_time": "2023-04-16T16:31:01.324Z"
   },
   {
    "duration": 110,
    "start_time": "2023-04-16T16:31:01.426Z"
   },
   {
    "duration": 339,
    "start_time": "2023-04-16T16:31:01.541Z"
   },
   {
    "duration": 11,
    "start_time": "2023-04-16T16:31:01.883Z"
   },
   {
    "duration": 84,
    "start_time": "2023-04-16T16:31:01.896Z"
   },
   {
    "duration": 83,
    "start_time": "2023-04-16T16:31:01.986Z"
   },
   {
    "duration": 90,
    "start_time": "2023-04-16T16:31:02.070Z"
   },
   {
    "duration": 35,
    "start_time": "2023-04-16T16:31:02.162Z"
   },
   {
    "duration": 73,
    "start_time": "2023-04-16T16:31:02.201Z"
   },
   {
    "duration": 435,
    "start_time": "2023-04-16T16:31:02.278Z"
   },
   {
    "duration": 8,
    "start_time": "2023-04-16T16:31:02.716Z"
   },
   {
    "duration": 219,
    "start_time": "2023-04-16T16:31:02.725Z"
   },
   {
    "duration": 112,
    "start_time": "2023-04-16T16:31:02.946Z"
   },
   {
    "duration": 2,
    "start_time": "2023-04-16T16:31:03.060Z"
   },
   {
    "duration": 48,
    "start_time": "2023-04-16T16:31:03.064Z"
   },
   {
    "duration": 272,
    "start_time": "2023-04-16T16:31:03.114Z"
   },
   {
    "duration": 8,
    "start_time": "2023-04-16T16:31:03.388Z"
   },
   {
    "duration": 71,
    "start_time": "2023-04-16T16:31:03.398Z"
   },
   {
    "duration": 86,
    "start_time": "2023-04-16T16:31:03.471Z"
   },
   {
    "duration": 22,
    "start_time": "2023-04-16T16:31:03.558Z"
   },
   {
    "duration": 78,
    "start_time": "2023-04-16T16:31:03.582Z"
   },
   {
    "duration": 46,
    "start_time": "2023-04-16T16:31:03.663Z"
   },
   {
    "duration": 52,
    "start_time": "2023-04-16T16:31:03.723Z"
   },
   {
    "duration": 71,
    "start_time": "2023-04-16T16:31:03.776Z"
   },
   {
    "duration": 58,
    "start_time": "2023-04-16T16:31:03.849Z"
   },
   {
    "duration": 393,
    "start_time": "2023-04-16T16:31:03.910Z"
   },
   {
    "duration": 30,
    "start_time": "2023-04-16T16:31:04.313Z"
   },
   {
    "duration": 33,
    "start_time": "2023-04-16T16:31:04.345Z"
   },
   {
    "duration": 99,
    "start_time": "2023-04-16T16:31:04.380Z"
   },
   {
    "duration": 32,
    "start_time": "2023-04-16T16:31:04.481Z"
   },
   {
    "duration": 78,
    "start_time": "2023-04-16T16:31:04.515Z"
   },
   {
    "duration": 14,
    "start_time": "2023-04-16T16:33:56.120Z"
   },
   {
    "duration": 18,
    "start_time": "2023-04-16T16:34:16.182Z"
   },
   {
    "duration": 28,
    "start_time": "2023-04-16T16:34:41.582Z"
   },
   {
    "duration": 22,
    "start_time": "2023-04-16T17:22:41.728Z"
   },
   {
    "duration": 20,
    "start_time": "2023-04-16T17:23:28.345Z"
   },
   {
    "duration": 24,
    "start_time": "2023-04-16T17:23:35.408Z"
   },
   {
    "duration": 6,
    "start_time": "2023-04-16T17:23:52.527Z"
   },
   {
    "duration": 22,
    "start_time": "2023-04-16T17:23:54.532Z"
   },
   {
    "duration": 15,
    "start_time": "2023-04-16T17:24:59.211Z"
   },
   {
    "duration": 20,
    "start_time": "2023-04-16T17:37:35.022Z"
   },
   {
    "duration": 24,
    "start_time": "2023-04-16T17:38:34.808Z"
   },
   {
    "duration": 12,
    "start_time": "2023-04-16T17:38:49.307Z"
   },
   {
    "duration": 13,
    "start_time": "2023-04-16T17:38:55.739Z"
   },
   {
    "duration": 7,
    "start_time": "2023-04-16T17:57:01.359Z"
   },
   {
    "duration": 33,
    "start_time": "2023-04-16T17:57:44.518Z"
   },
   {
    "duration": 10,
    "start_time": "2023-04-16T17:58:34.720Z"
   },
   {
    "duration": 12,
    "start_time": "2023-04-16T17:58:55.712Z"
   },
   {
    "duration": 7,
    "start_time": "2023-04-16T17:59:09.616Z"
   },
   {
    "duration": 5,
    "start_time": "2023-04-16T17:59:22.950Z"
   },
   {
    "duration": 14,
    "start_time": "2023-04-16T17:59:41.033Z"
   },
   {
    "duration": 5,
    "start_time": "2023-04-16T18:00:22.088Z"
   },
   {
    "duration": 3078,
    "start_time": "2023-04-17T14:46:30.010Z"
   },
   {
    "duration": 870,
    "start_time": "2023-04-17T14:46:33.090Z"
   },
   {
    "duration": 18,
    "start_time": "2023-04-17T14:46:33.963Z"
   },
   {
    "duration": 20,
    "start_time": "2023-04-17T14:46:33.983Z"
   },
   {
    "duration": 19,
    "start_time": "2023-04-17T14:46:34.006Z"
   },
   {
    "duration": 18,
    "start_time": "2023-04-17T14:46:34.027Z"
   },
   {
    "duration": 31,
    "start_time": "2023-04-17T14:46:34.047Z"
   },
   {
    "duration": 23,
    "start_time": "2023-04-17T14:46:34.081Z"
   },
   {
    "duration": 383,
    "start_time": "2023-04-17T14:46:34.106Z"
   },
   {
    "duration": 13,
    "start_time": "2023-04-17T14:46:34.491Z"
   },
   {
    "duration": 14,
    "start_time": "2023-04-17T14:46:34.505Z"
   },
   {
    "duration": 17,
    "start_time": "2023-04-17T14:46:34.520Z"
   },
   {
    "duration": 188,
    "start_time": "2023-04-17T14:46:34.539Z"
   },
   {
    "duration": 6,
    "start_time": "2023-04-17T14:46:34.730Z"
   },
   {
    "duration": 109,
    "start_time": "2023-04-17T14:46:34.738Z"
   },
   {
    "duration": 13,
    "start_time": "2023-04-17T14:46:34.849Z"
   },
   {
    "duration": 17,
    "start_time": "2023-04-17T14:46:34.864Z"
   },
   {
    "duration": 16,
    "start_time": "2023-04-17T14:46:34.883Z"
   },
   {
    "duration": 11,
    "start_time": "2023-04-17T14:46:34.901Z"
   },
   {
    "duration": 53,
    "start_time": "2023-04-17T14:46:34.914Z"
   },
   {
    "duration": 54,
    "start_time": "2023-04-17T14:46:34.974Z"
   },
   {
    "duration": 428,
    "start_time": "2023-04-17T14:46:35.029Z"
   },
   {
    "duration": 34,
    "start_time": "2023-04-17T14:46:35.459Z"
   },
   {
    "duration": 8,
    "start_time": "2023-04-17T14:46:35.495Z"
   },
   {
    "duration": 58,
    "start_time": "2023-04-17T14:46:35.505Z"
   },
   {
    "duration": 16,
    "start_time": "2023-04-17T14:46:35.568Z"
   },
   {
    "duration": 15,
    "start_time": "2023-04-17T14:46:35.586Z"
   },
   {
    "duration": 39,
    "start_time": "2023-04-17T14:46:35.603Z"
   },
   {
    "duration": 40,
    "start_time": "2023-04-17T14:46:35.644Z"
   },
   {
    "duration": 31,
    "start_time": "2023-04-17T14:46:35.685Z"
   },
   {
    "duration": 21,
    "start_time": "2023-04-17T14:46:35.718Z"
   },
   {
    "duration": 256,
    "start_time": "2023-04-17T14:46:35.740Z"
   },
   {
    "duration": 11,
    "start_time": "2023-04-17T14:46:35.997Z"
   },
   {
    "duration": 32,
    "start_time": "2023-04-17T14:46:36.009Z"
   },
   {
    "duration": 9,
    "start_time": "2023-04-17T14:46:36.043Z"
   },
   {
    "duration": 21,
    "start_time": "2023-04-17T14:46:36.053Z"
   },
   {
    "duration": 11,
    "start_time": "2023-04-17T14:46:36.076Z"
   },
   {
    "duration": 19,
    "start_time": "2023-04-17T14:46:36.089Z"
   },
   {
    "duration": 301,
    "start_time": "2023-04-17T14:46:36.110Z"
   },
   {
    "duration": 8,
    "start_time": "2023-04-17T14:46:36.413Z"
   },
   {
    "duration": 2,
    "start_time": "2023-04-17T14:46:36.426Z"
   },
   {
    "duration": 33,
    "start_time": "2023-04-17T14:46:36.430Z"
   },
   {
    "duration": 7,
    "start_time": "2023-04-17T14:46:36.465Z"
   },
   {
    "duration": 16,
    "start_time": "2023-04-17T14:46:36.474Z"
   },
   {
    "duration": 8,
    "start_time": "2023-04-17T14:46:36.492Z"
   },
   {
    "duration": 21,
    "start_time": "2023-04-17T14:46:36.502Z"
   },
   {
    "duration": 9,
    "start_time": "2023-04-17T14:46:36.525Z"
   },
   {
    "duration": 37,
    "start_time": "2023-04-17T14:46:36.536Z"
   },
   {
    "duration": 8,
    "start_time": "2023-04-17T14:46:36.576Z"
   },
   {
    "duration": 11,
    "start_time": "2023-04-17T14:46:36.586Z"
   },
   {
    "duration": 9,
    "start_time": "2023-04-17T14:46:36.599Z"
   },
   {
    "duration": 12,
    "start_time": "2023-04-17T14:46:36.610Z"
   },
   {
    "duration": 32,
    "start_time": "2023-04-17T14:46:36.624Z"
   },
   {
    "duration": 25,
    "start_time": "2023-04-17T14:46:36.659Z"
   },
   {
    "duration": 158,
    "start_time": "2023-04-17T14:46:36.686Z"
   },
   {
    "duration": 0,
    "start_time": "2023-04-17T14:46:36.846Z"
   },
   {
    "duration": 0,
    "start_time": "2023-04-17T14:46:36.847Z"
   },
   {
    "duration": 0,
    "start_time": "2023-04-17T14:46:36.848Z"
   },
   {
    "duration": 0,
    "start_time": "2023-04-17T14:46:36.850Z"
   },
   {
    "duration": 0,
    "start_time": "2023-04-17T14:46:36.860Z"
   },
   {
    "duration": 0,
    "start_time": "2023-04-17T14:46:36.861Z"
   },
   {
    "duration": 0,
    "start_time": "2023-04-17T14:46:36.862Z"
   },
   {
    "duration": 0,
    "start_time": "2023-04-17T14:46:36.863Z"
   },
   {
    "duration": 0,
    "start_time": "2023-04-17T14:46:36.863Z"
   },
   {
    "duration": 0,
    "start_time": "2023-04-17T14:46:36.864Z"
   },
   {
    "duration": 0,
    "start_time": "2023-04-17T14:46:36.865Z"
   },
   {
    "duration": 0,
    "start_time": "2023-04-17T14:46:36.865Z"
   },
   {
    "duration": 0,
    "start_time": "2023-04-17T14:46:36.866Z"
   },
   {
    "duration": 0,
    "start_time": "2023-04-17T14:46:36.867Z"
   },
   {
    "duration": 0,
    "start_time": "2023-04-17T14:46:36.867Z"
   },
   {
    "duration": 0,
    "start_time": "2023-04-17T14:46:36.868Z"
   },
   {
    "duration": 0,
    "start_time": "2023-04-17T14:46:36.869Z"
   },
   {
    "duration": 0,
    "start_time": "2023-04-17T14:46:36.870Z"
   },
   {
    "duration": 0,
    "start_time": "2023-04-17T14:46:36.870Z"
   },
   {
    "duration": 23,
    "start_time": "2023-04-17T14:47:27.048Z"
   },
   {
    "duration": 27,
    "start_time": "2023-04-17T14:50:44.555Z"
   },
   {
    "duration": 16,
    "start_time": "2023-04-17T14:55:51.313Z"
   },
   {
    "duration": 14,
    "start_time": "2023-04-17T15:43:26.409Z"
   },
   {
    "duration": 18,
    "start_time": "2023-04-17T15:44:41.483Z"
   },
   {
    "duration": 2330,
    "start_time": "2023-04-17T15:44:54.986Z"
   },
   {
    "duration": 271,
    "start_time": "2023-04-17T15:44:57.318Z"
   },
   {
    "duration": 17,
    "start_time": "2023-04-17T15:44:57.591Z"
   },
   {
    "duration": 20,
    "start_time": "2023-04-17T15:44:57.609Z"
   },
   {
    "duration": 11,
    "start_time": "2023-04-17T15:44:57.632Z"
   },
   {
    "duration": 29,
    "start_time": "2023-04-17T15:44:57.645Z"
   },
   {
    "duration": 14,
    "start_time": "2023-04-17T15:44:57.677Z"
   },
   {
    "duration": 23,
    "start_time": "2023-04-17T15:44:57.695Z"
   },
   {
    "duration": 449,
    "start_time": "2023-04-17T15:44:57.720Z"
   },
   {
    "duration": 30,
    "start_time": "2023-04-17T15:44:58.176Z"
   },
   {
    "duration": 13,
    "start_time": "2023-04-17T15:44:58.208Z"
   },
   {
    "duration": 4,
    "start_time": "2023-04-17T15:44:58.222Z"
   },
   {
    "duration": 207,
    "start_time": "2023-04-17T15:44:58.228Z"
   },
   {
    "duration": 5,
    "start_time": "2023-04-17T15:44:58.438Z"
   },
   {
    "duration": 134,
    "start_time": "2023-04-17T15:44:58.445Z"
   },
   {
    "duration": 13,
    "start_time": "2023-04-17T15:44:58.581Z"
   },
   {
    "duration": 13,
    "start_time": "2023-04-17T15:44:58.597Z"
   },
   {
    "duration": 13,
    "start_time": "2023-04-17T15:44:58.612Z"
   },
   {
    "duration": 43,
    "start_time": "2023-04-17T15:44:58.627Z"
   },
   {
    "duration": 25,
    "start_time": "2023-04-17T15:44:58.672Z"
   },
   {
    "duration": 69,
    "start_time": "2023-04-17T15:44:58.698Z"
   },
   {
    "duration": 401,
    "start_time": "2023-04-17T15:44:58.768Z"
   },
   {
    "duration": 39,
    "start_time": "2023-04-17T15:44:59.171Z"
   },
   {
    "duration": 8,
    "start_time": "2023-04-17T15:44:59.212Z"
   },
   {
    "duration": 74,
    "start_time": "2023-04-17T15:44:59.222Z"
   },
   {
    "duration": 15,
    "start_time": "2023-04-17T15:44:59.300Z"
   },
   {
    "duration": 14,
    "start_time": "2023-04-17T15:44:59.317Z"
   },
   {
    "duration": 16,
    "start_time": "2023-04-17T15:44:59.333Z"
   },
   {
    "duration": 28,
    "start_time": "2023-04-17T15:44:59.351Z"
   },
   {
    "duration": 30,
    "start_time": "2023-04-17T15:44:59.381Z"
   },
   {
    "duration": 9,
    "start_time": "2023-04-17T15:44:59.413Z"
   },
   {
    "duration": 262,
    "start_time": "2023-04-17T15:44:59.423Z"
   },
   {
    "duration": 18,
    "start_time": "2023-04-17T15:44:59.687Z"
   },
   {
    "duration": 14,
    "start_time": "2023-04-17T15:44:59.707Z"
   },
   {
    "duration": 11,
    "start_time": "2023-04-17T15:44:59.723Z"
   },
   {
    "duration": 37,
    "start_time": "2023-04-17T15:44:59.736Z"
   },
   {
    "duration": 21,
    "start_time": "2023-04-17T15:44:59.776Z"
   },
   {
    "duration": 13,
    "start_time": "2023-04-17T15:44:59.800Z"
   },
   {
    "duration": 333,
    "start_time": "2023-04-17T15:44:59.815Z"
   },
   {
    "duration": 10,
    "start_time": "2023-04-17T15:45:00.149Z"
   },
   {
    "duration": 21,
    "start_time": "2023-04-17T15:45:00.167Z"
   },
   {
    "duration": 17,
    "start_time": "2023-04-17T15:45:00.194Z"
   },
   {
    "duration": 9,
    "start_time": "2023-04-17T15:45:00.213Z"
   },
   {
    "duration": 27,
    "start_time": "2023-04-17T15:45:00.224Z"
   },
   {
    "duration": 25,
    "start_time": "2023-04-17T15:45:00.253Z"
   },
   {
    "duration": 17,
    "start_time": "2023-04-17T15:45:00.281Z"
   },
   {
    "duration": 20,
    "start_time": "2023-04-17T15:45:00.300Z"
   },
   {
    "duration": 17,
    "start_time": "2023-04-17T15:45:00.321Z"
   },
   {
    "duration": 80,
    "start_time": "2023-04-17T15:45:00.340Z"
   },
   {
    "duration": 27,
    "start_time": "2023-04-17T15:45:00.422Z"
   },
   {
    "duration": 43,
    "start_time": "2023-04-17T15:45:00.450Z"
   },
   {
    "duration": 23,
    "start_time": "2023-04-17T15:45:00.495Z"
   },
   {
    "duration": 10,
    "start_time": "2023-04-17T15:45:00.520Z"
   },
   {
    "duration": 34,
    "start_time": "2023-04-17T15:45:00.532Z"
   },
   {
    "duration": 43,
    "start_time": "2023-04-17T15:45:00.569Z"
   },
   {
    "duration": 206,
    "start_time": "2023-04-17T15:45:00.614Z"
   },
   {
    "duration": 0,
    "start_time": "2023-04-17T15:45:00.822Z"
   },
   {
    "duration": 0,
    "start_time": "2023-04-17T15:45:00.824Z"
   },
   {
    "duration": 0,
    "start_time": "2023-04-17T15:45:00.825Z"
   },
   {
    "duration": 0,
    "start_time": "2023-04-17T15:45:00.827Z"
   },
   {
    "duration": 0,
    "start_time": "2023-04-17T15:45:00.828Z"
   },
   {
    "duration": 0,
    "start_time": "2023-04-17T15:45:00.830Z"
   },
   {
    "duration": 0,
    "start_time": "2023-04-17T15:45:00.832Z"
   },
   {
    "duration": 0,
    "start_time": "2023-04-17T15:45:00.833Z"
   },
   {
    "duration": 0,
    "start_time": "2023-04-17T15:45:00.834Z"
   },
   {
    "duration": 0,
    "start_time": "2023-04-17T15:45:00.836Z"
   },
   {
    "duration": 0,
    "start_time": "2023-04-17T15:45:00.861Z"
   },
   {
    "duration": 0,
    "start_time": "2023-04-17T15:45:00.862Z"
   },
   {
    "duration": 0,
    "start_time": "2023-04-17T15:45:00.863Z"
   },
   {
    "duration": 0,
    "start_time": "2023-04-17T15:45:00.863Z"
   },
   {
    "duration": 0,
    "start_time": "2023-04-17T15:45:00.864Z"
   },
   {
    "duration": 0,
    "start_time": "2023-04-17T15:45:00.866Z"
   },
   {
    "duration": 0,
    "start_time": "2023-04-17T15:45:00.867Z"
   },
   {
    "duration": 0,
    "start_time": "2023-04-17T15:45:00.869Z"
   },
   {
    "duration": 1,
    "start_time": "2023-04-17T15:45:00.869Z"
   },
   {
    "duration": 20,
    "start_time": "2023-04-17T15:45:23.551Z"
   },
   {
    "duration": 10,
    "start_time": "2023-04-17T15:45:38.301Z"
   },
   {
    "duration": 11,
    "start_time": "2023-04-17T15:46:21.229Z"
   },
   {
    "duration": 10,
    "start_time": "2023-04-17T15:46:24.238Z"
   },
   {
    "duration": 13,
    "start_time": "2023-04-17T15:46:26.508Z"
   },
   {
    "duration": 2102,
    "start_time": "2023-04-17T15:46:34.563Z"
   },
   {
    "duration": 285,
    "start_time": "2023-04-17T15:46:36.667Z"
   },
   {
    "duration": 26,
    "start_time": "2023-04-17T15:46:36.954Z"
   },
   {
    "duration": 29,
    "start_time": "2023-04-17T15:46:36.983Z"
   },
   {
    "duration": 10,
    "start_time": "2023-04-17T15:46:37.014Z"
   },
   {
    "duration": 45,
    "start_time": "2023-04-17T15:46:37.026Z"
   },
   {
    "duration": 18,
    "start_time": "2023-04-17T15:46:37.072Z"
   },
   {
    "duration": 20,
    "start_time": "2023-04-17T15:46:37.092Z"
   },
   {
    "duration": 433,
    "start_time": "2023-04-17T15:46:37.113Z"
   },
   {
    "duration": 14,
    "start_time": "2023-04-17T15:46:37.549Z"
   },
   {
    "duration": 15,
    "start_time": "2023-04-17T15:46:37.565Z"
   },
   {
    "duration": 5,
    "start_time": "2023-04-17T15:46:37.582Z"
   },
   {
    "duration": 218,
    "start_time": "2023-04-17T15:46:37.590Z"
   },
   {
    "duration": 6,
    "start_time": "2023-04-17T15:46:37.809Z"
   },
   {
    "duration": 99,
    "start_time": "2023-04-17T15:46:37.817Z"
   },
   {
    "duration": 10,
    "start_time": "2023-04-17T15:46:37.918Z"
   },
   {
    "duration": 12,
    "start_time": "2023-04-17T15:46:37.929Z"
   },
   {
    "duration": 28,
    "start_time": "2023-04-17T15:46:37.956Z"
   },
   {
    "duration": 14,
    "start_time": "2023-04-17T15:46:37.986Z"
   },
   {
    "duration": 19,
    "start_time": "2023-04-17T15:46:38.002Z"
   },
   {
    "duration": 94,
    "start_time": "2023-04-17T15:46:38.023Z"
   },
   {
    "duration": 420,
    "start_time": "2023-04-17T15:46:38.120Z"
   },
   {
    "duration": 50,
    "start_time": "2023-04-17T15:46:38.542Z"
   },
   {
    "duration": 10,
    "start_time": "2023-04-17T15:46:38.594Z"
   },
   {
    "duration": 35,
    "start_time": "2023-04-17T15:46:38.606Z"
   },
   {
    "duration": 21,
    "start_time": "2023-04-17T15:46:38.643Z"
   },
   {
    "duration": 22,
    "start_time": "2023-04-17T15:46:38.667Z"
   },
   {
    "duration": 26,
    "start_time": "2023-04-17T15:46:38.697Z"
   },
   {
    "duration": 44,
    "start_time": "2023-04-17T15:46:38.725Z"
   },
   {
    "duration": 25,
    "start_time": "2023-04-17T15:46:38.771Z"
   },
   {
    "duration": 13,
    "start_time": "2023-04-17T15:46:38.799Z"
   },
   {
    "duration": 300,
    "start_time": "2023-04-17T15:46:38.814Z"
   },
   {
    "duration": 12,
    "start_time": "2023-04-17T15:46:39.116Z"
   },
   {
    "duration": 40,
    "start_time": "2023-04-17T15:46:39.129Z"
   },
   {
    "duration": 13,
    "start_time": "2023-04-17T15:46:39.173Z"
   },
   {
    "duration": 26,
    "start_time": "2023-04-17T15:46:39.188Z"
   },
   {
    "duration": 24,
    "start_time": "2023-04-17T15:46:39.216Z"
   },
   {
    "duration": 19,
    "start_time": "2023-04-17T15:46:39.242Z"
   },
   {
    "duration": 376,
    "start_time": "2023-04-17T15:46:39.262Z"
   },
   {
    "duration": 19,
    "start_time": "2023-04-17T15:46:39.639Z"
   },
   {
    "duration": 4,
    "start_time": "2023-04-17T15:46:39.662Z"
   },
   {
    "duration": 29,
    "start_time": "2023-04-17T15:46:39.669Z"
   },
   {
    "duration": 4,
    "start_time": "2023-04-17T15:46:39.700Z"
   },
   {
    "duration": 14,
    "start_time": "2023-04-17T15:46:39.706Z"
   },
   {
    "duration": 6,
    "start_time": "2023-04-17T15:46:39.722Z"
   },
   {
    "duration": 33,
    "start_time": "2023-04-17T15:46:39.731Z"
   },
   {
    "duration": 6,
    "start_time": "2023-04-17T15:46:39.767Z"
   },
   {
    "duration": 19,
    "start_time": "2023-04-17T15:46:39.776Z"
   },
   {
    "duration": 9,
    "start_time": "2023-04-17T15:46:39.797Z"
   },
   {
    "duration": 15,
    "start_time": "2023-04-17T15:46:39.810Z"
   },
   {
    "duration": 8,
    "start_time": "2023-04-17T15:46:39.859Z"
   },
   {
    "duration": 13,
    "start_time": "2023-04-17T15:46:39.869Z"
   },
   {
    "duration": 7,
    "start_time": "2023-04-17T15:46:39.885Z"
   },
   {
    "duration": 16,
    "start_time": "2023-04-17T15:46:39.896Z"
   },
   {
    "duration": 67,
    "start_time": "2023-04-17T15:46:39.914Z"
   },
   {
    "duration": 253,
    "start_time": "2023-04-17T15:46:39.984Z"
   },
   {
    "duration": 0,
    "start_time": "2023-04-17T15:46:40.239Z"
   },
   {
    "duration": 0,
    "start_time": "2023-04-17T15:46:40.241Z"
   },
   {
    "duration": 0,
    "start_time": "2023-04-17T15:46:40.242Z"
   },
   {
    "duration": 0,
    "start_time": "2023-04-17T15:46:40.243Z"
   },
   {
    "duration": 0,
    "start_time": "2023-04-17T15:46:40.245Z"
   },
   {
    "duration": 0,
    "start_time": "2023-04-17T15:46:40.246Z"
   },
   {
    "duration": 0,
    "start_time": "2023-04-17T15:46:40.248Z"
   },
   {
    "duration": 0,
    "start_time": "2023-04-17T15:46:40.249Z"
   },
   {
    "duration": 0,
    "start_time": "2023-04-17T15:46:40.250Z"
   },
   {
    "duration": 0,
    "start_time": "2023-04-17T15:46:40.262Z"
   },
   {
    "duration": 1,
    "start_time": "2023-04-17T15:46:40.262Z"
   },
   {
    "duration": 0,
    "start_time": "2023-04-17T15:46:40.263Z"
   },
   {
    "duration": 0,
    "start_time": "2023-04-17T15:46:40.264Z"
   },
   {
    "duration": 0,
    "start_time": "2023-04-17T15:46:40.266Z"
   },
   {
    "duration": 0,
    "start_time": "2023-04-17T15:46:40.268Z"
   },
   {
    "duration": 0,
    "start_time": "2023-04-17T15:46:40.269Z"
   },
   {
    "duration": 0,
    "start_time": "2023-04-17T15:46:40.271Z"
   },
   {
    "duration": 0,
    "start_time": "2023-04-17T15:46:40.272Z"
   },
   {
    "duration": 0,
    "start_time": "2023-04-17T15:46:40.273Z"
   },
   {
    "duration": 12,
    "start_time": "2023-04-17T15:47:19.505Z"
   },
   {
    "duration": 17,
    "start_time": "2023-04-17T15:47:29.124Z"
   },
   {
    "duration": 22,
    "start_time": "2023-04-17T15:47:47.203Z"
   },
   {
    "duration": 15,
    "start_time": "2023-04-17T15:48:03.524Z"
   },
   {
    "duration": 25,
    "start_time": "2023-04-17T15:53:35.246Z"
   },
   {
    "duration": 15,
    "start_time": "2023-04-17T15:53:46.713Z"
   },
   {
    "duration": 1963,
    "start_time": "2023-04-17T15:54:01.911Z"
   },
   {
    "duration": 245,
    "start_time": "2023-04-17T15:54:03.876Z"
   },
   {
    "duration": 14,
    "start_time": "2023-04-17T15:54:04.122Z"
   },
   {
    "duration": 27,
    "start_time": "2023-04-17T15:54:04.138Z"
   },
   {
    "duration": 27,
    "start_time": "2023-04-17T15:54:04.168Z"
   },
   {
    "duration": 15,
    "start_time": "2023-04-17T15:54:04.197Z"
   },
   {
    "duration": 13,
    "start_time": "2023-04-17T15:54:04.214Z"
   },
   {
    "duration": 35,
    "start_time": "2023-04-17T15:54:04.229Z"
   },
   {
    "duration": 385,
    "start_time": "2023-04-17T15:54:04.265Z"
   },
   {
    "duration": 19,
    "start_time": "2023-04-17T15:54:04.653Z"
   },
   {
    "duration": 23,
    "start_time": "2023-04-17T15:54:04.678Z"
   },
   {
    "duration": 4,
    "start_time": "2023-04-17T15:54:04.703Z"
   },
   {
    "duration": 187,
    "start_time": "2023-04-17T15:54:04.709Z"
   },
   {
    "duration": 6,
    "start_time": "2023-04-17T15:54:04.904Z"
   },
   {
    "duration": 98,
    "start_time": "2023-04-17T15:54:04.911Z"
   },
   {
    "duration": 10,
    "start_time": "2023-04-17T15:54:05.011Z"
   },
   {
    "duration": 18,
    "start_time": "2023-04-17T15:54:05.023Z"
   },
   {
    "duration": 32,
    "start_time": "2023-04-17T15:54:05.043Z"
   },
   {
    "duration": 31,
    "start_time": "2023-04-17T15:54:05.077Z"
   },
   {
    "duration": 51,
    "start_time": "2023-04-17T15:54:05.111Z"
   },
   {
    "duration": 105,
    "start_time": "2023-04-17T15:54:05.165Z"
   },
   {
    "duration": 432,
    "start_time": "2023-04-17T15:54:05.284Z"
   },
   {
    "duration": 57,
    "start_time": "2023-04-17T15:54:05.719Z"
   },
   {
    "duration": 13,
    "start_time": "2023-04-17T15:54:05.780Z"
   },
   {
    "duration": 39,
    "start_time": "2023-04-17T15:54:05.799Z"
   },
   {
    "duration": 36,
    "start_time": "2023-04-17T15:54:05.839Z"
   },
   {
    "duration": 21,
    "start_time": "2023-04-17T15:54:05.882Z"
   },
   {
    "duration": 20,
    "start_time": "2023-04-17T15:54:05.907Z"
   },
   {
    "duration": 19,
    "start_time": "2023-04-17T15:54:05.929Z"
   },
   {
    "duration": 46,
    "start_time": "2023-04-17T15:54:05.950Z"
   },
   {
    "duration": 11,
    "start_time": "2023-04-17T15:54:05.998Z"
   },
   {
    "duration": 241,
    "start_time": "2023-04-17T15:54:06.010Z"
   },
   {
    "duration": 32,
    "start_time": "2023-04-17T15:54:06.253Z"
   },
   {
    "duration": 32,
    "start_time": "2023-04-17T15:54:06.287Z"
   },
   {
    "duration": 8,
    "start_time": "2023-04-17T15:54:06.321Z"
   },
   {
    "duration": 16,
    "start_time": "2023-04-17T15:54:06.331Z"
   },
   {
    "duration": 14,
    "start_time": "2023-04-17T15:54:06.349Z"
   },
   {
    "duration": 39,
    "start_time": "2023-04-17T15:54:06.364Z"
   },
   {
    "duration": 323,
    "start_time": "2023-04-17T15:54:06.406Z"
   },
   {
    "duration": 7,
    "start_time": "2023-04-17T15:54:06.731Z"
   },
   {
    "duration": 22,
    "start_time": "2023-04-17T15:54:06.740Z"
   },
   {
    "duration": 16,
    "start_time": "2023-04-17T15:54:06.764Z"
   },
   {
    "duration": 10,
    "start_time": "2023-04-17T15:54:06.782Z"
   },
   {
    "duration": 16,
    "start_time": "2023-04-17T15:54:06.794Z"
   },
   {
    "duration": 6,
    "start_time": "2023-04-17T15:54:06.812Z"
   },
   {
    "duration": 9,
    "start_time": "2023-04-17T15:54:06.819Z"
   },
   {
    "duration": 34,
    "start_time": "2023-04-17T15:54:06.830Z"
   },
   {
    "duration": 25,
    "start_time": "2023-04-17T15:54:06.873Z"
   },
   {
    "duration": 8,
    "start_time": "2023-04-17T15:54:06.901Z"
   },
   {
    "duration": 12,
    "start_time": "2023-04-17T15:54:06.911Z"
   },
   {
    "duration": 18,
    "start_time": "2023-04-17T15:54:06.925Z"
   },
   {
    "duration": 52,
    "start_time": "2023-04-17T15:54:06.945Z"
   },
   {
    "duration": 10,
    "start_time": "2023-04-17T15:54:06.999Z"
   },
   {
    "duration": 20,
    "start_time": "2023-04-17T15:54:07.017Z"
   },
   {
    "duration": 12,
    "start_time": "2023-04-17T15:54:07.038Z"
   },
   {
    "duration": 187,
    "start_time": "2023-04-17T15:54:07.052Z"
   },
   {
    "duration": 0,
    "start_time": "2023-04-17T15:54:07.241Z"
   },
   {
    "duration": 0,
    "start_time": "2023-04-17T15:54:07.243Z"
   },
   {
    "duration": 0,
    "start_time": "2023-04-17T15:54:07.245Z"
   },
   {
    "duration": 0,
    "start_time": "2023-04-17T15:54:07.246Z"
   },
   {
    "duration": 0,
    "start_time": "2023-04-17T15:54:07.247Z"
   },
   {
    "duration": 0,
    "start_time": "2023-04-17T15:54:07.269Z"
   },
   {
    "duration": 0,
    "start_time": "2023-04-17T15:54:07.270Z"
   },
   {
    "duration": 0,
    "start_time": "2023-04-17T15:54:07.271Z"
   },
   {
    "duration": 0,
    "start_time": "2023-04-17T15:54:07.271Z"
   },
   {
    "duration": 0,
    "start_time": "2023-04-17T15:54:07.281Z"
   },
   {
    "duration": 0,
    "start_time": "2023-04-17T15:54:07.288Z"
   },
   {
    "duration": 0,
    "start_time": "2023-04-17T15:54:07.290Z"
   },
   {
    "duration": 0,
    "start_time": "2023-04-17T15:54:07.294Z"
   },
   {
    "duration": 0,
    "start_time": "2023-04-17T15:54:07.295Z"
   },
   {
    "duration": 0,
    "start_time": "2023-04-17T15:54:07.296Z"
   },
   {
    "duration": 0,
    "start_time": "2023-04-17T15:54:07.297Z"
   },
   {
    "duration": 0,
    "start_time": "2023-04-17T15:54:07.298Z"
   },
   {
    "duration": 0,
    "start_time": "2023-04-17T15:54:07.299Z"
   },
   {
    "duration": 0,
    "start_time": "2023-04-17T15:54:07.300Z"
   },
   {
    "duration": 10,
    "start_time": "2023-04-17T15:54:20.425Z"
   },
   {
    "duration": 197,
    "start_time": "2023-04-17T15:54:25.816Z"
   },
   {
    "duration": 10,
    "start_time": "2023-04-17T15:54:28.498Z"
   },
   {
    "duration": 18,
    "start_time": "2023-04-17T15:54:40.328Z"
   },
   {
    "duration": 22,
    "start_time": "2023-04-17T15:55:07.590Z"
   },
   {
    "duration": 2086,
    "start_time": "2023-04-17T15:55:16.797Z"
   },
   {
    "duration": 243,
    "start_time": "2023-04-17T15:55:18.888Z"
   },
   {
    "duration": 14,
    "start_time": "2023-04-17T15:55:19.132Z"
   },
   {
    "duration": 41,
    "start_time": "2023-04-17T15:55:19.147Z"
   },
   {
    "duration": 12,
    "start_time": "2023-04-17T15:55:19.192Z"
   },
   {
    "duration": 16,
    "start_time": "2023-04-17T15:55:19.205Z"
   },
   {
    "duration": 11,
    "start_time": "2023-04-17T15:55:19.223Z"
   },
   {
    "duration": 26,
    "start_time": "2023-04-17T15:55:19.235Z"
   },
   {
    "duration": 362,
    "start_time": "2023-04-17T15:55:19.267Z"
   },
   {
    "duration": 13,
    "start_time": "2023-04-17T15:55:19.630Z"
   },
   {
    "duration": 46,
    "start_time": "2023-04-17T15:55:19.645Z"
   },
   {
    "duration": 5,
    "start_time": "2023-04-17T15:55:19.697Z"
   },
   {
    "duration": 163,
    "start_time": "2023-04-17T15:55:19.704Z"
   },
   {
    "duration": 8,
    "start_time": "2023-04-17T15:55:19.872Z"
   },
   {
    "duration": 109,
    "start_time": "2023-04-17T15:55:19.886Z"
   },
   {
    "duration": 11,
    "start_time": "2023-04-17T15:55:19.998Z"
   },
   {
    "duration": 19,
    "start_time": "2023-04-17T15:55:20.011Z"
   },
   {
    "duration": 18,
    "start_time": "2023-04-17T15:55:20.032Z"
   },
   {
    "duration": 22,
    "start_time": "2023-04-17T15:55:20.052Z"
   },
   {
    "duration": 20,
    "start_time": "2023-04-17T15:55:20.076Z"
   },
   {
    "duration": 73,
    "start_time": "2023-04-17T15:55:20.098Z"
   },
   {
    "duration": 379,
    "start_time": "2023-04-17T15:55:20.173Z"
   },
   {
    "duration": 50,
    "start_time": "2023-04-17T15:55:20.554Z"
   },
   {
    "duration": 9,
    "start_time": "2023-04-17T15:55:20.605Z"
   },
   {
    "duration": 39,
    "start_time": "2023-04-17T15:55:20.615Z"
   },
   {
    "duration": 23,
    "start_time": "2023-04-17T15:55:20.657Z"
   },
   {
    "duration": 20,
    "start_time": "2023-04-17T15:55:20.682Z"
   },
   {
    "duration": 15,
    "start_time": "2023-04-17T15:55:20.704Z"
   },
   {
    "duration": 11,
    "start_time": "2023-04-17T15:55:20.720Z"
   },
   {
    "duration": 35,
    "start_time": "2023-04-17T15:55:20.732Z"
   },
   {
    "duration": 13,
    "start_time": "2023-04-17T15:55:20.769Z"
   },
   {
    "duration": 232,
    "start_time": "2023-04-17T15:55:20.787Z"
   },
   {
    "duration": 10,
    "start_time": "2023-04-17T15:55:21.020Z"
   },
   {
    "duration": 28,
    "start_time": "2023-04-17T15:55:21.031Z"
   },
   {
    "duration": 35,
    "start_time": "2023-04-17T15:55:21.060Z"
   },
   {
    "duration": 16,
    "start_time": "2023-04-17T15:55:21.097Z"
   },
   {
    "duration": 7,
    "start_time": "2023-04-17T15:55:21.114Z"
   },
   {
    "duration": 21,
    "start_time": "2023-04-17T15:55:21.123Z"
   },
   {
    "duration": 305,
    "start_time": "2023-04-17T15:55:21.146Z"
   },
   {
    "duration": 17,
    "start_time": "2023-04-17T15:55:21.453Z"
   },
   {
    "duration": 5,
    "start_time": "2023-04-17T15:55:21.478Z"
   },
   {
    "duration": 12,
    "start_time": "2023-04-17T15:55:21.488Z"
   },
   {
    "duration": 3,
    "start_time": "2023-04-17T15:55:21.503Z"
   },
   {
    "duration": 23,
    "start_time": "2023-04-17T15:55:21.508Z"
   },
   {
    "duration": 10,
    "start_time": "2023-04-17T15:55:21.533Z"
   },
   {
    "duration": 11,
    "start_time": "2023-04-17T15:55:21.545Z"
   },
   {
    "duration": 30,
    "start_time": "2023-04-17T15:55:21.558Z"
   },
   {
    "duration": 18,
    "start_time": "2023-04-17T15:55:21.592Z"
   },
   {
    "duration": 13,
    "start_time": "2023-04-17T15:55:21.611Z"
   },
   {
    "duration": 10,
    "start_time": "2023-04-17T15:55:21.625Z"
   },
   {
    "duration": 6,
    "start_time": "2023-04-17T15:55:21.636Z"
   },
   {
    "duration": 28,
    "start_time": "2023-04-17T15:55:21.644Z"
   },
   {
    "duration": 10,
    "start_time": "2023-04-17T15:55:21.674Z"
   },
   {
    "duration": 21,
    "start_time": "2023-04-17T15:55:21.686Z"
   },
   {
    "duration": 12,
    "start_time": "2023-04-17T15:55:21.708Z"
   },
   {
    "duration": 191,
    "start_time": "2023-04-17T15:55:21.721Z"
   },
   {
    "duration": 0,
    "start_time": "2023-04-17T15:55:21.913Z"
   },
   {
    "duration": 0,
    "start_time": "2023-04-17T15:55:21.914Z"
   },
   {
    "duration": 0,
    "start_time": "2023-04-17T15:55:21.916Z"
   },
   {
    "duration": 0,
    "start_time": "2023-04-17T15:55:21.917Z"
   },
   {
    "duration": 0,
    "start_time": "2023-04-17T15:55:21.918Z"
   },
   {
    "duration": 0,
    "start_time": "2023-04-17T15:55:21.920Z"
   },
   {
    "duration": 0,
    "start_time": "2023-04-17T15:55:21.921Z"
   },
   {
    "duration": 0,
    "start_time": "2023-04-17T15:55:21.922Z"
   },
   {
    "duration": 0,
    "start_time": "2023-04-17T15:55:21.923Z"
   },
   {
    "duration": 0,
    "start_time": "2023-04-17T15:55:21.924Z"
   },
   {
    "duration": 0,
    "start_time": "2023-04-17T15:55:21.925Z"
   },
   {
    "duration": 0,
    "start_time": "2023-04-17T15:55:21.926Z"
   },
   {
    "duration": 0,
    "start_time": "2023-04-17T15:55:21.927Z"
   },
   {
    "duration": 0,
    "start_time": "2023-04-17T15:55:21.928Z"
   },
   {
    "duration": 0,
    "start_time": "2023-04-17T15:55:21.929Z"
   },
   {
    "duration": 0,
    "start_time": "2023-04-17T15:55:21.930Z"
   },
   {
    "duration": 0,
    "start_time": "2023-04-17T15:55:21.932Z"
   },
   {
    "duration": 0,
    "start_time": "2023-04-17T15:55:21.932Z"
   },
   {
    "duration": 0,
    "start_time": "2023-04-17T15:55:21.962Z"
   },
   {
    "duration": 989,
    "start_time": "2023-04-17T15:56:02.136Z"
   },
   {
    "duration": 2234,
    "start_time": "2023-04-17T15:56:40.644Z"
   },
   {
    "duration": 261,
    "start_time": "2023-04-17T15:56:42.892Z"
   },
   {
    "duration": 22,
    "start_time": "2023-04-17T15:56:43.162Z"
   },
   {
    "duration": 34,
    "start_time": "2023-04-17T15:56:43.187Z"
   },
   {
    "duration": 13,
    "start_time": "2023-04-17T15:56:43.224Z"
   },
   {
    "duration": 35,
    "start_time": "2023-04-17T15:56:43.239Z"
   },
   {
    "duration": 23,
    "start_time": "2023-04-17T15:56:43.283Z"
   },
   {
    "duration": 23,
    "start_time": "2023-04-17T15:56:43.308Z"
   },
   {
    "duration": 446,
    "start_time": "2023-04-17T15:56:43.334Z"
   },
   {
    "duration": 14,
    "start_time": "2023-04-17T15:56:43.790Z"
   },
   {
    "duration": 11,
    "start_time": "2023-04-17T15:56:43.806Z"
   },
   {
    "duration": 4,
    "start_time": "2023-04-17T15:56:43.819Z"
   },
   {
    "duration": 176,
    "start_time": "2023-04-17T15:56:43.825Z"
   },
   {
    "duration": 5,
    "start_time": "2023-04-17T15:56:44.004Z"
   },
   {
    "duration": 104,
    "start_time": "2023-04-17T15:56:44.010Z"
   },
   {
    "duration": 8,
    "start_time": "2023-04-17T15:56:44.115Z"
   },
   {
    "duration": 24,
    "start_time": "2023-04-17T15:56:44.124Z"
   },
   {
    "duration": 35,
    "start_time": "2023-04-17T15:56:44.149Z"
   },
   {
    "duration": 16,
    "start_time": "2023-04-17T15:56:44.186Z"
   },
   {
    "duration": 22,
    "start_time": "2023-04-17T15:56:44.204Z"
   },
   {
    "duration": 72,
    "start_time": "2023-04-17T15:56:44.228Z"
   },
   {
    "duration": 364,
    "start_time": "2023-04-17T15:56:44.302Z"
   },
   {
    "duration": 36,
    "start_time": "2023-04-17T15:56:44.668Z"
   },
   {
    "duration": 7,
    "start_time": "2023-04-17T15:56:44.706Z"
   },
   {
    "duration": 26,
    "start_time": "2023-04-17T15:56:44.715Z"
   },
   {
    "duration": 24,
    "start_time": "2023-04-17T15:56:44.756Z"
   },
   {
    "duration": 20,
    "start_time": "2023-04-17T15:56:44.783Z"
   },
   {
    "duration": 15,
    "start_time": "2023-04-17T15:56:44.805Z"
   },
   {
    "duration": 11,
    "start_time": "2023-04-17T15:56:44.821Z"
   },
   {
    "duration": 40,
    "start_time": "2023-04-17T15:56:44.834Z"
   },
   {
    "duration": 20,
    "start_time": "2023-04-17T15:56:44.882Z"
   },
   {
    "duration": 230,
    "start_time": "2023-04-17T15:56:44.904Z"
   },
   {
    "duration": 10,
    "start_time": "2023-04-17T15:56:45.135Z"
   },
   {
    "duration": 27,
    "start_time": "2023-04-17T15:56:45.161Z"
   },
   {
    "duration": 10,
    "start_time": "2023-04-17T15:56:45.195Z"
   },
   {
    "duration": 15,
    "start_time": "2023-04-17T15:56:45.207Z"
   },
   {
    "duration": 6,
    "start_time": "2023-04-17T15:56:45.224Z"
   },
   {
    "duration": 15,
    "start_time": "2023-04-17T15:56:45.232Z"
   },
   {
    "duration": 354,
    "start_time": "2023-04-17T15:56:45.249Z"
   },
   {
    "duration": 6,
    "start_time": "2023-04-17T15:56:45.605Z"
   },
   {
    "duration": 2,
    "start_time": "2023-04-17T15:56:45.615Z"
   },
   {
    "duration": 15,
    "start_time": "2023-04-17T15:56:45.618Z"
   },
   {
    "duration": 2,
    "start_time": "2023-04-17T15:56:45.635Z"
   },
   {
    "duration": 33,
    "start_time": "2023-04-17T15:56:45.638Z"
   },
   {
    "duration": 8,
    "start_time": "2023-04-17T15:56:45.677Z"
   },
   {
    "duration": 18,
    "start_time": "2023-04-17T15:56:45.687Z"
   },
   {
    "duration": 12,
    "start_time": "2023-04-17T15:56:45.707Z"
   },
   {
    "duration": 14,
    "start_time": "2023-04-17T15:56:45.721Z"
   },
   {
    "duration": 13,
    "start_time": "2023-04-17T15:56:45.737Z"
   },
   {
    "duration": 22,
    "start_time": "2023-04-17T15:56:45.752Z"
   },
   {
    "duration": 30,
    "start_time": "2023-04-17T15:56:45.776Z"
   },
   {
    "duration": 40,
    "start_time": "2023-04-17T15:56:45.807Z"
   },
   {
    "duration": 53,
    "start_time": "2023-04-17T15:56:45.848Z"
   },
   {
    "duration": 13,
    "start_time": "2023-04-17T15:56:45.903Z"
   },
   {
    "duration": 11,
    "start_time": "2023-04-17T15:56:45.918Z"
   },
   {
    "duration": 1011,
    "start_time": "2023-04-17T15:56:45.930Z"
   },
   {
    "duration": 0,
    "start_time": "2023-04-17T15:56:46.942Z"
   },
   {
    "duration": 0,
    "start_time": "2023-04-17T15:56:46.943Z"
   },
   {
    "duration": 0,
    "start_time": "2023-04-17T15:56:46.945Z"
   },
   {
    "duration": 0,
    "start_time": "2023-04-17T15:56:46.946Z"
   },
   {
    "duration": 0,
    "start_time": "2023-04-17T15:56:46.947Z"
   },
   {
    "duration": 0,
    "start_time": "2023-04-17T15:56:46.948Z"
   },
   {
    "duration": 0,
    "start_time": "2023-04-17T15:56:46.950Z"
   },
   {
    "duration": 0,
    "start_time": "2023-04-17T15:56:46.951Z"
   },
   {
    "duration": 0,
    "start_time": "2023-04-17T15:56:46.952Z"
   },
   {
    "duration": 0,
    "start_time": "2023-04-17T15:56:46.953Z"
   },
   {
    "duration": 0,
    "start_time": "2023-04-17T15:56:46.954Z"
   },
   {
    "duration": 0,
    "start_time": "2023-04-17T15:56:46.966Z"
   },
   {
    "duration": 0,
    "start_time": "2023-04-17T15:56:46.967Z"
   },
   {
    "duration": 0,
    "start_time": "2023-04-17T15:56:46.968Z"
   },
   {
    "duration": 0,
    "start_time": "2023-04-17T15:56:46.970Z"
   },
   {
    "duration": 0,
    "start_time": "2023-04-17T15:56:46.971Z"
   },
   {
    "duration": 0,
    "start_time": "2023-04-17T15:56:46.973Z"
   },
   {
    "duration": 0,
    "start_time": "2023-04-17T15:56:46.976Z"
   },
   {
    "duration": 0,
    "start_time": "2023-04-17T15:56:46.980Z"
   },
   {
    "duration": 873,
    "start_time": "2023-04-17T15:57:09.032Z"
   },
   {
    "duration": 21,
    "start_time": "2023-04-17T15:57:14.197Z"
   },
   {
    "duration": 1933,
    "start_time": "2023-04-17T15:57:23.801Z"
   },
   {
    "duration": 293,
    "start_time": "2023-04-17T15:57:25.736Z"
   },
   {
    "duration": 12,
    "start_time": "2023-04-17T15:57:26.031Z"
   },
   {
    "duration": 22,
    "start_time": "2023-04-17T15:57:26.045Z"
   },
   {
    "duration": 15,
    "start_time": "2023-04-17T15:57:26.070Z"
   },
   {
    "duration": 22,
    "start_time": "2023-04-17T15:57:26.087Z"
   },
   {
    "duration": 18,
    "start_time": "2023-04-17T15:57:26.110Z"
   },
   {
    "duration": 29,
    "start_time": "2023-04-17T15:57:26.129Z"
   },
   {
    "duration": 426,
    "start_time": "2023-04-17T15:57:26.160Z"
   },
   {
    "duration": 14,
    "start_time": "2023-04-17T15:57:26.591Z"
   },
   {
    "duration": 14,
    "start_time": "2023-04-17T15:57:26.607Z"
   },
   {
    "duration": 5,
    "start_time": "2023-04-17T15:57:26.623Z"
   },
   {
    "duration": 207,
    "start_time": "2023-04-17T15:57:26.630Z"
   },
   {
    "duration": 5,
    "start_time": "2023-04-17T15:57:26.840Z"
   },
   {
    "duration": 129,
    "start_time": "2023-04-17T15:57:26.847Z"
   },
   {
    "duration": 16,
    "start_time": "2023-04-17T15:57:26.978Z"
   },
   {
    "duration": 19,
    "start_time": "2023-04-17T15:57:26.999Z"
   },
   {
    "duration": 16,
    "start_time": "2023-04-17T15:57:27.020Z"
   },
   {
    "duration": 42,
    "start_time": "2023-04-17T15:57:27.038Z"
   },
   {
    "duration": 18,
    "start_time": "2023-04-17T15:57:27.097Z"
   },
   {
    "duration": 75,
    "start_time": "2023-04-17T15:57:27.117Z"
   },
   {
    "duration": 387,
    "start_time": "2023-04-17T15:57:27.193Z"
   },
   {
    "duration": 44,
    "start_time": "2023-04-17T15:57:27.584Z"
   },
   {
    "duration": 7,
    "start_time": "2023-04-17T15:57:27.635Z"
   },
   {
    "duration": 66,
    "start_time": "2023-04-17T15:57:27.644Z"
   },
   {
    "duration": 15,
    "start_time": "2023-04-17T15:57:27.711Z"
   },
   {
    "duration": 13,
    "start_time": "2023-04-17T15:57:27.728Z"
   },
   {
    "duration": 29,
    "start_time": "2023-04-17T15:57:27.742Z"
   },
   {
    "duration": 24,
    "start_time": "2023-04-17T15:57:27.773Z"
   },
   {
    "duration": 28,
    "start_time": "2023-04-17T15:57:27.798Z"
   },
   {
    "duration": 7,
    "start_time": "2023-04-17T15:57:27.828Z"
   },
   {
    "duration": 259,
    "start_time": "2023-04-17T15:57:27.837Z"
   },
   {
    "duration": 12,
    "start_time": "2023-04-17T15:57:28.098Z"
   },
   {
    "duration": 16,
    "start_time": "2023-04-17T15:57:28.111Z"
   },
   {
    "duration": 9,
    "start_time": "2023-04-17T15:57:28.128Z"
   },
   {
    "duration": 45,
    "start_time": "2023-04-17T15:57:28.139Z"
   },
   {
    "duration": 16,
    "start_time": "2023-04-17T15:57:28.186Z"
   },
   {
    "duration": 16,
    "start_time": "2023-04-17T15:57:28.207Z"
   },
   {
    "duration": 337,
    "start_time": "2023-04-17T15:57:28.225Z"
   },
   {
    "duration": 19,
    "start_time": "2023-04-17T15:57:28.572Z"
   },
   {
    "duration": 4,
    "start_time": "2023-04-17T15:57:28.596Z"
   },
   {
    "duration": 34,
    "start_time": "2023-04-17T15:57:28.603Z"
   },
   {
    "duration": 3,
    "start_time": "2023-04-17T15:57:28.639Z"
   },
   {
    "duration": 49,
    "start_time": "2023-04-17T15:57:28.643Z"
   },
   {
    "duration": 12,
    "start_time": "2023-04-17T15:57:28.695Z"
   },
   {
    "duration": 10,
    "start_time": "2023-04-17T15:57:28.709Z"
   },
   {
    "duration": 20,
    "start_time": "2023-04-17T15:57:28.721Z"
   },
   {
    "duration": 13,
    "start_time": "2023-04-17T15:57:28.743Z"
   },
   {
    "duration": 34,
    "start_time": "2023-04-17T15:57:28.758Z"
   },
   {
    "duration": 12,
    "start_time": "2023-04-17T15:57:28.794Z"
   },
   {
    "duration": 5,
    "start_time": "2023-04-17T15:57:28.808Z"
   },
   {
    "duration": 15,
    "start_time": "2023-04-17T15:57:28.815Z"
   },
   {
    "duration": 5,
    "start_time": "2023-04-17T15:57:28.832Z"
   },
   {
    "duration": 9,
    "start_time": "2023-04-17T15:57:28.839Z"
   },
   {
    "duration": 26,
    "start_time": "2023-04-17T15:57:28.850Z"
   },
   {
    "duration": 167,
    "start_time": "2023-04-17T15:57:28.878Z"
   },
   {
    "duration": 0,
    "start_time": "2023-04-17T15:57:29.046Z"
   },
   {
    "duration": 0,
    "start_time": "2023-04-17T15:57:29.047Z"
   },
   {
    "duration": 0,
    "start_time": "2023-04-17T15:57:29.049Z"
   },
   {
    "duration": 0,
    "start_time": "2023-04-17T15:57:29.055Z"
   },
   {
    "duration": 0,
    "start_time": "2023-04-17T15:57:29.056Z"
   },
   {
    "duration": 0,
    "start_time": "2023-04-17T15:57:29.059Z"
   },
   {
    "duration": 0,
    "start_time": "2023-04-17T15:57:29.060Z"
   },
   {
    "duration": 0,
    "start_time": "2023-04-17T15:57:29.063Z"
   },
   {
    "duration": 0,
    "start_time": "2023-04-17T15:57:29.064Z"
   },
   {
    "duration": 0,
    "start_time": "2023-04-17T15:57:29.065Z"
   },
   {
    "duration": 0,
    "start_time": "2023-04-17T15:57:29.065Z"
   },
   {
    "duration": 0,
    "start_time": "2023-04-17T15:57:29.066Z"
   },
   {
    "duration": 0,
    "start_time": "2023-04-17T15:57:29.067Z"
   },
   {
    "duration": 0,
    "start_time": "2023-04-17T15:57:29.067Z"
   },
   {
    "duration": 0,
    "start_time": "2023-04-17T15:57:29.068Z"
   },
   {
    "duration": 0,
    "start_time": "2023-04-17T15:57:29.071Z"
   },
   {
    "duration": 0,
    "start_time": "2023-04-17T15:57:29.072Z"
   },
   {
    "duration": 0,
    "start_time": "2023-04-17T15:57:29.072Z"
   },
   {
    "duration": 0,
    "start_time": "2023-04-17T15:57:29.073Z"
   },
   {
    "duration": 16,
    "start_time": "2023-04-17T16:06:04.923Z"
   },
   {
    "duration": 1969,
    "start_time": "2023-04-17T16:06:27.647Z"
   },
   {
    "duration": 267,
    "start_time": "2023-04-17T16:06:29.620Z"
   },
   {
    "duration": 14,
    "start_time": "2023-04-17T16:06:29.889Z"
   },
   {
    "duration": 22,
    "start_time": "2023-04-17T16:06:29.905Z"
   },
   {
    "duration": 11,
    "start_time": "2023-04-17T16:06:29.929Z"
   },
   {
    "duration": 11,
    "start_time": "2023-04-17T16:06:29.942Z"
   },
   {
    "duration": 15,
    "start_time": "2023-04-17T16:06:29.963Z"
   },
   {
    "duration": 22,
    "start_time": "2023-04-17T16:06:29.980Z"
   },
   {
    "duration": 357,
    "start_time": "2023-04-17T16:06:30.003Z"
   },
   {
    "duration": 15,
    "start_time": "2023-04-17T16:06:30.362Z"
   },
   {
    "duration": 23,
    "start_time": "2023-04-17T16:06:30.378Z"
   },
   {
    "duration": 6,
    "start_time": "2023-04-17T16:06:30.403Z"
   },
   {
    "duration": 217,
    "start_time": "2023-04-17T16:06:30.411Z"
   },
   {
    "duration": 6,
    "start_time": "2023-04-17T16:06:30.629Z"
   },
   {
    "duration": 136,
    "start_time": "2023-04-17T16:06:30.637Z"
   },
   {
    "duration": 13,
    "start_time": "2023-04-17T16:06:30.776Z"
   },
   {
    "duration": 23,
    "start_time": "2023-04-17T16:06:30.795Z"
   },
   {
    "duration": 60,
    "start_time": "2023-04-17T16:06:30.821Z"
   },
   {
    "duration": 50,
    "start_time": "2023-04-17T16:06:30.883Z"
   },
   {
    "duration": 61,
    "start_time": "2023-04-17T16:06:30.936Z"
   },
   {
    "duration": 88,
    "start_time": "2023-04-17T16:06:30.998Z"
   },
   {
    "duration": 341,
    "start_time": "2023-04-17T16:06:31.088Z"
   },
   {
    "duration": 58,
    "start_time": "2023-04-17T16:06:31.431Z"
   },
   {
    "duration": 8,
    "start_time": "2023-04-17T16:06:31.491Z"
   },
   {
    "duration": 66,
    "start_time": "2023-04-17T16:06:31.501Z"
   },
   {
    "duration": 28,
    "start_time": "2023-04-17T16:06:31.571Z"
   },
   {
    "duration": 41,
    "start_time": "2023-04-17T16:06:31.601Z"
   },
   {
    "duration": 40,
    "start_time": "2023-04-17T16:06:31.647Z"
   },
   {
    "duration": 28,
    "start_time": "2023-04-17T16:06:31.689Z"
   },
   {
    "duration": 51,
    "start_time": "2023-04-17T16:06:31.718Z"
   },
   {
    "duration": 9,
    "start_time": "2023-04-17T16:06:31.771Z"
   },
   {
    "duration": 242,
    "start_time": "2023-04-17T16:06:31.781Z"
   },
   {
    "duration": 11,
    "start_time": "2023-04-17T16:06:32.024Z"
   },
   {
    "duration": 22,
    "start_time": "2023-04-17T16:06:32.037Z"
   },
   {
    "duration": 29,
    "start_time": "2023-04-17T16:06:32.063Z"
   },
   {
    "duration": 26,
    "start_time": "2023-04-17T16:06:32.094Z"
   },
   {
    "duration": 8,
    "start_time": "2023-04-17T16:06:32.122Z"
   },
   {
    "duration": 52,
    "start_time": "2023-04-17T16:06:32.132Z"
   },
   {
    "duration": 320,
    "start_time": "2023-04-17T16:06:32.186Z"
   },
   {
    "duration": 7,
    "start_time": "2023-04-17T16:06:32.508Z"
   },
   {
    "duration": 6,
    "start_time": "2023-04-17T16:06:32.517Z"
   },
   {
    "duration": 13,
    "start_time": "2023-04-17T16:06:32.525Z"
   },
   {
    "duration": 25,
    "start_time": "2023-04-17T16:06:32.539Z"
   },
   {
    "duration": 20,
    "start_time": "2023-04-17T16:06:32.565Z"
   },
   {
    "duration": 18,
    "start_time": "2023-04-17T16:06:32.587Z"
   },
   {
    "duration": 34,
    "start_time": "2023-04-17T16:06:32.607Z"
   },
   {
    "duration": 5,
    "start_time": "2023-04-17T16:06:32.643Z"
   },
   {
    "duration": 32,
    "start_time": "2023-04-17T16:06:32.649Z"
   },
   {
    "duration": 9,
    "start_time": "2023-04-17T16:06:32.683Z"
   },
   {
    "duration": 13,
    "start_time": "2023-04-17T16:06:32.694Z"
   },
   {
    "duration": 6,
    "start_time": "2023-04-17T16:06:32.708Z"
   },
   {
    "duration": 11,
    "start_time": "2023-04-17T16:06:32.716Z"
   },
   {
    "duration": 14,
    "start_time": "2023-04-17T16:06:32.728Z"
   },
   {
    "duration": 13,
    "start_time": "2023-04-17T16:06:32.743Z"
   },
   {
    "duration": 25,
    "start_time": "2023-04-17T16:06:32.758Z"
   },
   {
    "duration": 138,
    "start_time": "2023-04-17T16:06:32.785Z"
   },
   {
    "duration": 0,
    "start_time": "2023-04-17T16:06:32.924Z"
   },
   {
    "duration": 0,
    "start_time": "2023-04-17T16:06:32.926Z"
   },
   {
    "duration": 0,
    "start_time": "2023-04-17T16:06:32.928Z"
   },
   {
    "duration": 0,
    "start_time": "2023-04-17T16:06:32.929Z"
   },
   {
    "duration": 0,
    "start_time": "2023-04-17T16:06:32.930Z"
   },
   {
    "duration": 1,
    "start_time": "2023-04-17T16:06:32.934Z"
   },
   {
    "duration": 0,
    "start_time": "2023-04-17T16:06:32.936Z"
   },
   {
    "duration": 0,
    "start_time": "2023-04-17T16:06:32.938Z"
   },
   {
    "duration": 0,
    "start_time": "2023-04-17T16:06:32.939Z"
   },
   {
    "duration": 0,
    "start_time": "2023-04-17T16:06:32.959Z"
   },
   {
    "duration": 0,
    "start_time": "2023-04-17T16:06:32.960Z"
   },
   {
    "duration": 0,
    "start_time": "2023-04-17T16:06:32.961Z"
   },
   {
    "duration": 0,
    "start_time": "2023-04-17T16:06:32.962Z"
   },
   {
    "duration": 0,
    "start_time": "2023-04-17T16:06:32.963Z"
   },
   {
    "duration": 0,
    "start_time": "2023-04-17T16:06:32.964Z"
   },
   {
    "duration": 0,
    "start_time": "2023-04-17T16:06:32.965Z"
   },
   {
    "duration": 0,
    "start_time": "2023-04-17T16:06:32.966Z"
   },
   {
    "duration": 0,
    "start_time": "2023-04-17T16:06:32.967Z"
   },
   {
    "duration": 0,
    "start_time": "2023-04-17T16:06:32.968Z"
   },
   {
    "duration": 0,
    "start_time": "2023-04-17T16:06:32.968Z"
   },
   {
    "duration": 13,
    "start_time": "2023-04-17T16:07:09.901Z"
   },
   {
    "duration": 7,
    "start_time": "2023-04-17T16:09:06.133Z"
   },
   {
    "duration": 181,
    "start_time": "2023-04-17T16:09:08.202Z"
   },
   {
    "duration": 10,
    "start_time": "2023-04-17T16:09:28.313Z"
   },
   {
    "duration": 6,
    "start_time": "2023-04-17T16:10:54.604Z"
   },
   {
    "duration": 9,
    "start_time": "2023-04-17T16:11:05.378Z"
   },
   {
    "duration": 12,
    "start_time": "2023-04-17T16:11:07.060Z"
   },
   {
    "duration": 11,
    "start_time": "2023-04-17T16:11:08.186Z"
   },
   {
    "duration": 21,
    "start_time": "2023-04-17T16:11:19.291Z"
   },
   {
    "duration": 12,
    "start_time": "2023-04-17T16:11:20.588Z"
   },
   {
    "duration": 52,
    "start_time": "2023-04-17T16:14:45.474Z"
   },
   {
    "duration": 6,
    "start_time": "2023-04-17T16:15:05.311Z"
   },
   {
    "duration": 16,
    "start_time": "2023-04-17T16:15:13.313Z"
   },
   {
    "duration": 2421,
    "start_time": "2023-04-17T22:02:30.887Z"
   },
   {
    "duration": 583,
    "start_time": "2023-04-17T22:02:33.310Z"
   },
   {
    "duration": 20,
    "start_time": "2023-04-17T22:02:33.895Z"
   },
   {
    "duration": 17,
    "start_time": "2023-04-17T22:02:33.919Z"
   },
   {
    "duration": 19,
    "start_time": "2023-04-17T22:02:33.939Z"
   },
   {
    "duration": 22,
    "start_time": "2023-04-17T22:02:33.961Z"
   },
   {
    "duration": 35,
    "start_time": "2023-04-17T22:02:33.985Z"
   },
   {
    "duration": 29,
    "start_time": "2023-04-17T22:02:34.022Z"
   },
   {
    "duration": 358,
    "start_time": "2023-04-17T22:02:34.053Z"
   },
   {
    "duration": 13,
    "start_time": "2023-04-17T22:02:34.414Z"
   },
   {
    "duration": 12,
    "start_time": "2023-04-17T22:02:34.428Z"
   },
   {
    "duration": 5,
    "start_time": "2023-04-17T22:02:34.460Z"
   },
   {
    "duration": 178,
    "start_time": "2023-04-17T22:02:34.466Z"
   },
   {
    "duration": 5,
    "start_time": "2023-04-17T22:02:34.646Z"
   },
   {
    "duration": 100,
    "start_time": "2023-04-17T22:02:34.660Z"
   },
   {
    "duration": 14,
    "start_time": "2023-04-17T22:02:34.762Z"
   },
   {
    "duration": 18,
    "start_time": "2023-04-17T22:02:34.778Z"
   },
   {
    "duration": 16,
    "start_time": "2023-04-17T22:02:34.798Z"
   },
   {
    "duration": 44,
    "start_time": "2023-04-17T22:02:34.816Z"
   },
   {
    "duration": 29,
    "start_time": "2023-04-17T22:02:34.862Z"
   },
   {
    "duration": 86,
    "start_time": "2023-04-17T22:02:34.893Z"
   },
   {
    "duration": 346,
    "start_time": "2023-04-17T22:02:34.982Z"
   },
   {
    "duration": 36,
    "start_time": "2023-04-17T22:02:35.330Z"
   },
   {
    "duration": 9,
    "start_time": "2023-04-17T22:02:35.367Z"
   },
   {
    "duration": 43,
    "start_time": "2023-04-17T22:02:35.378Z"
   },
   {
    "duration": 37,
    "start_time": "2023-04-17T22:02:35.424Z"
   },
   {
    "duration": 25,
    "start_time": "2023-04-17T22:02:35.463Z"
   },
   {
    "duration": 24,
    "start_time": "2023-04-17T22:02:35.496Z"
   },
   {
    "duration": 36,
    "start_time": "2023-04-17T22:02:35.523Z"
   },
   {
    "duration": 16,
    "start_time": "2023-04-17T22:02:35.562Z"
   },
   {
    "duration": 13,
    "start_time": "2023-04-17T22:02:35.580Z"
   },
   {
    "duration": 246,
    "start_time": "2023-04-17T22:02:35.596Z"
   },
   {
    "duration": 23,
    "start_time": "2023-04-17T22:02:35.844Z"
   },
   {
    "duration": 32,
    "start_time": "2023-04-17T22:02:35.869Z"
   },
   {
    "duration": 21,
    "start_time": "2023-04-17T22:02:35.904Z"
   },
   {
    "duration": 40,
    "start_time": "2023-04-17T22:02:35.927Z"
   },
   {
    "duration": 8,
    "start_time": "2023-04-17T22:02:35.969Z"
   },
   {
    "duration": 29,
    "start_time": "2023-04-17T22:02:35.980Z"
   },
   {
    "duration": 356,
    "start_time": "2023-04-17T22:02:36.011Z"
   },
   {
    "duration": 7,
    "start_time": "2023-04-17T22:02:36.369Z"
   },
   {
    "duration": 23,
    "start_time": "2023-04-17T22:02:36.378Z"
   },
   {
    "duration": 17,
    "start_time": "2023-04-17T22:02:36.403Z"
   },
   {
    "duration": 2,
    "start_time": "2023-04-17T22:02:36.422Z"
   },
   {
    "duration": 14,
    "start_time": "2023-04-17T22:02:36.427Z"
   },
   {
    "duration": 19,
    "start_time": "2023-04-17T22:02:36.444Z"
   },
   {
    "duration": 24,
    "start_time": "2023-04-17T22:02:36.465Z"
   },
   {
    "duration": 16,
    "start_time": "2023-04-17T22:02:36.491Z"
   },
   {
    "duration": 16,
    "start_time": "2023-04-17T22:02:36.510Z"
   },
   {
    "duration": 17,
    "start_time": "2023-04-17T22:02:36.529Z"
   },
   {
    "duration": 18,
    "start_time": "2023-04-17T22:02:36.548Z"
   },
   {
    "duration": 15,
    "start_time": "2023-04-17T22:02:36.567Z"
   },
   {
    "duration": 27,
    "start_time": "2023-04-17T22:02:36.584Z"
   },
   {
    "duration": 13,
    "start_time": "2023-04-17T22:02:36.613Z"
   },
   {
    "duration": 32,
    "start_time": "2023-04-17T22:02:36.628Z"
   },
   {
    "duration": 17,
    "start_time": "2023-04-17T22:02:36.662Z"
   },
   {
    "duration": 20,
    "start_time": "2023-04-17T22:02:36.680Z"
   },
   {
    "duration": 6,
    "start_time": "2023-04-17T22:02:36.702Z"
   },
   {
    "duration": 30,
    "start_time": "2023-04-17T22:02:36.710Z"
   },
   {
    "duration": 185,
    "start_time": "2023-04-17T22:02:36.742Z"
   },
   {
    "duration": 8,
    "start_time": "2023-04-17T22:02:36.929Z"
   },
   {
    "duration": 24,
    "start_time": "2023-04-17T22:02:36.939Z"
   },
   {
    "duration": 14,
    "start_time": "2023-04-17T22:02:36.965Z"
   },
   {
    "duration": 21,
    "start_time": "2023-04-17T22:02:36.981Z"
   },
   {
    "duration": 28,
    "start_time": "2023-04-17T22:02:37.004Z"
   },
   {
    "duration": 27,
    "start_time": "2023-04-17T22:02:37.034Z"
   },
   {
    "duration": 19,
    "start_time": "2023-04-17T22:02:37.063Z"
   },
   {
    "duration": 33,
    "start_time": "2023-04-17T22:02:37.084Z"
   },
   {
    "duration": 18,
    "start_time": "2023-04-17T22:02:37.120Z"
   },
   {
    "duration": 66,
    "start_time": "2023-04-17T22:02:37.141Z"
   },
   {
    "duration": 286,
    "start_time": "2023-04-17T22:02:37.209Z"
   },
   {
    "duration": 4,
    "start_time": "2023-04-17T22:02:37.497Z"
   },
   {
    "duration": 34,
    "start_time": "2023-04-17T22:02:37.504Z"
   },
   {
    "duration": 34,
    "start_time": "2023-04-17T22:02:37.540Z"
   },
   {
    "duration": 21,
    "start_time": "2023-04-17T22:02:37.576Z"
   },
   {
    "duration": 23,
    "start_time": "2023-04-17T22:02:37.599Z"
   },
   {
    "duration": 44,
    "start_time": "2023-04-17T22:02:37.624Z"
   },
   {
    "duration": 20,
    "start_time": "2023-04-17T22:02:37.670Z"
   },
   {
    "duration": 18,
    "start_time": "2023-04-17T22:02:37.692Z"
   },
   {
    "duration": 272,
    "start_time": "2023-04-17T22:11:51.091Z"
   },
   {
    "duration": 857,
    "start_time": "2023-04-17T22:12:18.820Z"
   },
   {
    "duration": 24,
    "start_time": "2023-04-17T22:19:55.363Z"
   },
   {
    "duration": 617,
    "start_time": "2023-04-17T22:20:22.959Z"
   },
   {
    "duration": 647,
    "start_time": "2023-04-17T22:20:57.131Z"
   },
   {
    "duration": 11,
    "start_time": "2023-04-17T22:36:27.435Z"
   },
   {
    "duration": 7,
    "start_time": "2023-04-17T22:36:55.265Z"
   },
   {
    "duration": 2326,
    "start_time": "2023-04-18T07:49:06.999Z"
   },
   {
    "duration": 466,
    "start_time": "2023-04-18T07:49:09.328Z"
   },
   {
    "duration": 15,
    "start_time": "2023-04-18T07:49:09.796Z"
   },
   {
    "duration": 20,
    "start_time": "2023-04-18T07:49:09.813Z"
   },
   {
    "duration": 12,
    "start_time": "2023-04-18T07:49:09.836Z"
   },
   {
    "duration": 29,
    "start_time": "2023-04-18T07:49:09.850Z"
   },
   {
    "duration": 17,
    "start_time": "2023-04-18T07:49:09.881Z"
   },
   {
    "duration": 21,
    "start_time": "2023-04-18T07:49:09.899Z"
   },
   {
    "duration": 369,
    "start_time": "2023-04-18T07:49:09.921Z"
   },
   {
    "duration": 13,
    "start_time": "2023-04-18T07:49:10.292Z"
   },
   {
    "duration": 13,
    "start_time": "2023-04-18T07:49:10.307Z"
   },
   {
    "duration": 4,
    "start_time": "2023-04-18T07:49:10.322Z"
   },
   {
    "duration": 210,
    "start_time": "2023-04-18T07:49:10.328Z"
   },
   {
    "duration": 8,
    "start_time": "2023-04-18T07:49:10.542Z"
   },
   {
    "duration": 137,
    "start_time": "2023-04-18T07:49:10.552Z"
   },
   {
    "duration": 12,
    "start_time": "2023-04-18T07:49:10.692Z"
   },
   {
    "duration": 22,
    "start_time": "2023-04-18T07:49:10.706Z"
   },
   {
    "duration": 19,
    "start_time": "2023-04-18T07:49:10.730Z"
   },
   {
    "duration": 33,
    "start_time": "2023-04-18T07:49:10.751Z"
   },
   {
    "duration": 29,
    "start_time": "2023-04-18T07:49:10.786Z"
   },
   {
    "duration": 75,
    "start_time": "2023-04-18T07:49:10.817Z"
   },
   {
    "duration": 371,
    "start_time": "2023-04-18T07:49:10.894Z"
   },
   {
    "duration": 33,
    "start_time": "2023-04-18T07:49:11.267Z"
   },
   {
    "duration": 12,
    "start_time": "2023-04-18T07:49:11.302Z"
   },
   {
    "duration": 32,
    "start_time": "2023-04-18T07:49:11.316Z"
   },
   {
    "duration": 31,
    "start_time": "2023-04-18T07:49:11.350Z"
   },
   {
    "duration": 91,
    "start_time": "2023-04-18T07:49:11.387Z"
   },
   {
    "duration": 33,
    "start_time": "2023-04-18T07:49:11.480Z"
   },
   {
    "duration": 17,
    "start_time": "2023-04-18T07:49:11.515Z"
   },
   {
    "duration": 25,
    "start_time": "2023-04-18T07:49:11.535Z"
   },
   {
    "duration": 8,
    "start_time": "2023-04-18T07:49:11.562Z"
   },
   {
    "duration": 231,
    "start_time": "2023-04-18T07:49:11.571Z"
   },
   {
    "duration": 11,
    "start_time": "2023-04-18T07:49:11.804Z"
   },
   {
    "duration": 26,
    "start_time": "2023-04-18T07:49:11.816Z"
   },
   {
    "duration": 13,
    "start_time": "2023-04-18T07:49:11.844Z"
   },
   {
    "duration": 46,
    "start_time": "2023-04-18T07:49:11.858Z"
   },
   {
    "duration": 6,
    "start_time": "2023-04-18T07:49:11.906Z"
   },
   {
    "duration": 21,
    "start_time": "2023-04-18T07:49:11.914Z"
   },
   {
    "duration": 302,
    "start_time": "2023-04-18T07:49:11.936Z"
   },
   {
    "duration": 6,
    "start_time": "2023-04-18T07:49:12.240Z"
   },
   {
    "duration": 7,
    "start_time": "2023-04-18T07:49:12.251Z"
   },
   {
    "duration": 28,
    "start_time": "2023-04-18T07:49:12.260Z"
   },
   {
    "duration": 2,
    "start_time": "2023-04-18T07:49:12.291Z"
   },
   {
    "duration": 13,
    "start_time": "2023-04-18T07:49:12.295Z"
   },
   {
    "duration": 7,
    "start_time": "2023-04-18T07:49:12.311Z"
   },
   {
    "duration": 14,
    "start_time": "2023-04-18T07:49:12.320Z"
   },
   {
    "duration": 12,
    "start_time": "2023-04-18T07:49:12.336Z"
   },
   {
    "duration": 12,
    "start_time": "2023-04-18T07:49:12.350Z"
   },
   {
    "duration": 5,
    "start_time": "2023-04-18T07:49:12.387Z"
   },
   {
    "duration": 25,
    "start_time": "2023-04-18T07:49:12.394Z"
   },
   {
    "duration": 15,
    "start_time": "2023-04-18T07:49:12.420Z"
   },
   {
    "duration": 18,
    "start_time": "2023-04-18T07:49:12.436Z"
   },
   {
    "duration": 25,
    "start_time": "2023-04-18T07:49:12.456Z"
   },
   {
    "duration": 23,
    "start_time": "2023-04-18T07:49:12.483Z"
   },
   {
    "duration": 12,
    "start_time": "2023-04-18T07:49:12.508Z"
   },
   {
    "duration": 14,
    "start_time": "2023-04-18T07:49:12.521Z"
   },
   {
    "duration": 6,
    "start_time": "2023-04-18T07:49:12.536Z"
   },
   {
    "duration": 19,
    "start_time": "2023-04-18T07:49:12.544Z"
   },
   {
    "duration": 188,
    "start_time": "2023-04-18T07:49:12.565Z"
   },
   {
    "duration": 7,
    "start_time": "2023-04-18T07:49:12.755Z"
   },
   {
    "duration": 26,
    "start_time": "2023-04-18T07:49:12.764Z"
   },
   {
    "duration": 6,
    "start_time": "2023-04-18T07:49:12.792Z"
   },
   {
    "duration": 11,
    "start_time": "2023-04-18T07:49:12.799Z"
   },
   {
    "duration": 27,
    "start_time": "2023-04-18T07:49:12.812Z"
   },
   {
    "duration": 11,
    "start_time": "2023-04-18T07:49:12.840Z"
   },
   {
    "duration": 44,
    "start_time": "2023-04-18T07:49:12.853Z"
   },
   {
    "duration": 11,
    "start_time": "2023-04-18T07:49:12.899Z"
   },
   {
    "duration": 15,
    "start_time": "2023-04-18T07:49:12.912Z"
   },
   {
    "duration": 41,
    "start_time": "2023-04-18T07:49:12.929Z"
   },
   {
    "duration": 283,
    "start_time": "2023-04-18T07:49:12.988Z"
   },
   {
    "duration": 4,
    "start_time": "2023-04-18T07:49:13.273Z"
   },
   {
    "duration": 38,
    "start_time": "2023-04-18T07:49:13.287Z"
   },
   {
    "duration": 16,
    "start_time": "2023-04-18T07:49:13.328Z"
   },
   {
    "duration": 21,
    "start_time": "2023-04-18T07:49:13.347Z"
   },
   {
    "duration": 29,
    "start_time": "2023-04-18T07:49:13.370Z"
   },
   {
    "duration": 37,
    "start_time": "2023-04-18T07:49:13.401Z"
   },
   {
    "duration": 14,
    "start_time": "2023-04-18T07:49:13.440Z"
   },
   {
    "duration": 29,
    "start_time": "2023-04-18T07:49:13.456Z"
   },
   {
    "duration": 849,
    "start_time": "2023-04-18T07:49:13.487Z"
   },
   {
    "duration": 21,
    "start_time": "2023-04-18T07:49:14.338Z"
   },
   {
    "duration": 715,
    "start_time": "2023-04-18T07:49:14.362Z"
   },
   {
    "duration": 13,
    "start_time": "2023-04-18T07:49:15.080Z"
   },
   {
    "duration": 167,
    "start_time": "2023-04-18T07:49:15.095Z"
   },
   {
    "duration": 0,
    "start_time": "2023-04-18T07:49:15.264Z"
   },
   {
    "duration": 10,
    "start_time": "2023-04-18T07:50:13.204Z"
   },
   {
    "duration": 8,
    "start_time": "2023-04-18T07:50:19.222Z"
   },
   {
    "duration": 8,
    "start_time": "2023-04-18T07:50:42.607Z"
   },
   {
    "duration": 8,
    "start_time": "2023-04-18T07:50:49.603Z"
   },
   {
    "duration": 9,
    "start_time": "2023-04-18T07:51:40.367Z"
   },
   {
    "duration": 14,
    "start_time": "2023-04-18T08:14:45.657Z"
   },
   {
    "duration": 1196,
    "start_time": "2023-04-18T08:15:04.413Z"
   },
   {
    "duration": 8,
    "start_time": "2023-04-18T08:15:14.936Z"
   },
   {
    "duration": 5,
    "start_time": "2023-04-18T08:17:08.430Z"
   },
   {
    "duration": 6,
    "start_time": "2023-04-18T08:17:16.527Z"
   },
   {
    "duration": 4,
    "start_time": "2023-04-18T08:17:30.311Z"
   },
   {
    "duration": 9,
    "start_time": "2023-04-18T08:20:09.964Z"
   },
   {
    "duration": 16,
    "start_time": "2023-04-18T08:52:55.771Z"
   },
   {
    "duration": 7,
    "start_time": "2023-04-18T08:57:15.142Z"
   },
   {
    "duration": 10,
    "start_time": "2023-04-18T08:57:34.840Z"
   },
   {
    "duration": 85,
    "start_time": "2023-04-18T08:57:40.965Z"
   },
   {
    "duration": 9,
    "start_time": "2023-04-18T08:57:49.806Z"
   },
   {
    "duration": 22,
    "start_time": "2023-04-18T08:57:52.048Z"
   },
   {
    "duration": 11,
    "start_time": "2023-04-18T08:58:00.814Z"
   },
   {
    "duration": 35,
    "start_time": "2023-04-18T08:58:03.370Z"
   },
   {
    "duration": 18,
    "start_time": "2023-04-18T09:15:44.519Z"
   },
   {
    "duration": 75667,
    "start_time": "2023-04-18T09:15:49.578Z"
   },
   {
    "duration": 1905,
    "start_time": "2023-04-18T09:21:12.213Z"
   },
   {
    "duration": 9,
    "start_time": "2023-04-18T09:25:56.722Z"
   },
   {
    "duration": 12,
    "start_time": "2023-04-18T10:01:38.599Z"
   },
   {
    "duration": 381661,
    "start_time": "2023-04-18T10:01:44.237Z"
   },
   {
    "duration": 253,
    "start_time": "2023-04-18T10:51:32.935Z"
   },
   {
    "duration": 443483,
    "start_time": "2023-04-18T10:57:39.615Z"
   },
   {
    "duration": 3,
    "start_time": "2023-04-18T12:20:45.194Z"
   },
   {
    "duration": 1839,
    "start_time": "2023-04-18T13:27:37.405Z"
   },
   {
    "duration": 225,
    "start_time": "2023-04-18T13:27:39.246Z"
   },
   {
    "duration": 16,
    "start_time": "2023-04-18T13:27:39.473Z"
   },
   {
    "duration": 29,
    "start_time": "2023-04-18T13:27:39.492Z"
   },
   {
    "duration": 12,
    "start_time": "2023-04-18T13:27:39.525Z"
   },
   {
    "duration": 19,
    "start_time": "2023-04-18T13:27:39.538Z"
   },
   {
    "duration": 28,
    "start_time": "2023-04-18T13:27:39.559Z"
   },
   {
    "duration": 28,
    "start_time": "2023-04-18T13:27:39.590Z"
   },
   {
    "duration": 424,
    "start_time": "2023-04-18T13:27:39.620Z"
   },
   {
    "duration": 15,
    "start_time": "2023-04-18T13:27:40.047Z"
   },
   {
    "duration": 27,
    "start_time": "2023-04-18T13:27:40.064Z"
   },
   {
    "duration": 22,
    "start_time": "2023-04-18T13:27:40.093Z"
   },
   {
    "duration": 202,
    "start_time": "2023-04-18T13:27:40.118Z"
   },
   {
    "duration": 6,
    "start_time": "2023-04-18T13:27:40.323Z"
   },
   {
    "duration": 213,
    "start_time": "2023-04-18T13:27:40.331Z"
   },
   {
    "duration": 10,
    "start_time": "2023-04-18T13:27:40.546Z"
   },
   {
    "duration": 23,
    "start_time": "2023-04-18T13:27:40.558Z"
   },
   {
    "duration": 34,
    "start_time": "2023-04-18T13:27:40.588Z"
   },
   {
    "duration": 37,
    "start_time": "2023-04-18T13:27:40.625Z"
   },
   {
    "duration": 29,
    "start_time": "2023-04-18T13:27:40.664Z"
   },
   {
    "duration": 87,
    "start_time": "2023-04-18T13:27:40.695Z"
   },
   {
    "duration": 442,
    "start_time": "2023-04-18T13:27:40.785Z"
   },
   {
    "duration": 31,
    "start_time": "2023-04-18T13:27:41.229Z"
   },
   {
    "duration": 30,
    "start_time": "2023-04-18T13:27:41.262Z"
   },
   {
    "duration": 61,
    "start_time": "2023-04-18T13:27:41.295Z"
   },
   {
    "duration": 17,
    "start_time": "2023-04-18T13:27:41.358Z"
   },
   {
    "duration": 46,
    "start_time": "2023-04-18T13:27:41.377Z"
   },
   {
    "duration": 38,
    "start_time": "2023-04-18T13:27:41.426Z"
   },
   {
    "duration": 48,
    "start_time": "2023-04-18T13:27:41.467Z"
   },
   {
    "duration": 57,
    "start_time": "2023-04-18T13:27:41.517Z"
   },
   {
    "duration": 188,
    "start_time": "2023-04-18T13:27:41.577Z"
   },
   {
    "duration": 300,
    "start_time": "2023-04-18T13:27:41.767Z"
   },
   {
    "duration": 25,
    "start_time": "2023-04-18T13:27:42.070Z"
   },
   {
    "duration": 55,
    "start_time": "2023-04-18T13:27:42.098Z"
   },
   {
    "duration": 61,
    "start_time": "2023-04-18T13:27:42.155Z"
   },
   {
    "duration": 45,
    "start_time": "2023-04-18T13:27:42.218Z"
   },
   {
    "duration": 17,
    "start_time": "2023-04-18T13:27:42.265Z"
   },
   {
    "duration": 72,
    "start_time": "2023-04-18T13:27:42.284Z"
   },
   {
    "duration": 282,
    "start_time": "2023-04-18T13:27:42.358Z"
   },
   {
    "duration": 7,
    "start_time": "2023-04-18T13:27:42.642Z"
   },
   {
    "duration": 55,
    "start_time": "2023-04-18T13:27:42.655Z"
   },
   {
    "duration": 32,
    "start_time": "2023-04-18T13:27:42.712Z"
   },
   {
    "duration": 6,
    "start_time": "2023-04-18T13:27:42.746Z"
   },
   {
    "duration": 31,
    "start_time": "2023-04-18T13:27:42.754Z"
   },
   {
    "duration": 35,
    "start_time": "2023-04-18T13:27:42.787Z"
   },
   {
    "duration": 19,
    "start_time": "2023-04-18T13:27:42.825Z"
   },
   {
    "duration": 22,
    "start_time": "2023-04-18T13:27:42.846Z"
   },
   {
    "duration": 25,
    "start_time": "2023-04-18T13:27:42.870Z"
   },
   {
    "duration": 21,
    "start_time": "2023-04-18T13:27:42.898Z"
   },
   {
    "duration": 23,
    "start_time": "2023-04-18T13:27:42.922Z"
   },
   {
    "duration": 19,
    "start_time": "2023-04-18T13:27:42.947Z"
   },
   {
    "duration": 27,
    "start_time": "2023-04-18T13:27:42.968Z"
   },
   {
    "duration": 22,
    "start_time": "2023-04-18T13:27:42.998Z"
   },
   {
    "duration": 16,
    "start_time": "2023-04-18T13:27:43.022Z"
   },
   {
    "duration": 17,
    "start_time": "2023-04-18T13:27:43.041Z"
   },
   {
    "duration": 31,
    "start_time": "2023-04-18T13:27:43.061Z"
   },
   {
    "duration": 8,
    "start_time": "2023-04-18T13:27:43.094Z"
   },
   {
    "duration": 21,
    "start_time": "2023-04-18T13:27:43.106Z"
   },
   {
    "duration": 219,
    "start_time": "2023-04-18T13:27:43.129Z"
   },
   {
    "duration": 8,
    "start_time": "2023-04-18T13:27:43.351Z"
   },
   {
    "duration": 25,
    "start_time": "2023-04-18T13:27:43.362Z"
   },
   {
    "duration": 26,
    "start_time": "2023-04-18T13:27:43.389Z"
   },
   {
    "duration": 34,
    "start_time": "2023-04-18T13:27:43.418Z"
   },
   {
    "duration": 33,
    "start_time": "2023-04-18T13:27:43.454Z"
   },
   {
    "duration": 36,
    "start_time": "2023-04-18T13:27:43.490Z"
   },
   {
    "duration": 29,
    "start_time": "2023-04-18T13:27:43.527Z"
   },
   {
    "duration": 28,
    "start_time": "2023-04-18T13:27:43.558Z"
   },
   {
    "duration": 43,
    "start_time": "2023-04-18T13:27:43.589Z"
   },
   {
    "duration": 52,
    "start_time": "2023-04-18T13:27:43.634Z"
   },
   {
    "duration": 349,
    "start_time": "2023-04-18T13:27:43.689Z"
   },
   {
    "duration": 4,
    "start_time": "2023-04-18T13:27:44.039Z"
   },
   {
    "duration": 44,
    "start_time": "2023-04-18T13:27:44.045Z"
   },
   {
    "duration": 27,
    "start_time": "2023-04-18T13:27:44.092Z"
   },
   {
    "duration": 15,
    "start_time": "2023-04-18T13:27:44.121Z"
   },
   {
    "duration": 33,
    "start_time": "2023-04-18T13:27:44.137Z"
   },
   {
    "duration": 52,
    "start_time": "2023-04-18T13:27:44.171Z"
   },
   {
    "duration": 19,
    "start_time": "2023-04-18T13:27:44.225Z"
   },
   {
    "duration": 38,
    "start_time": "2023-04-18T13:27:44.246Z"
   },
   {
    "duration": 868,
    "start_time": "2023-04-18T13:27:44.287Z"
   },
   {
    "duration": 33,
    "start_time": "2023-04-18T13:27:45.156Z"
   },
   {
    "duration": 865,
    "start_time": "2023-04-18T13:27:45.192Z"
   },
   {
    "duration": 8,
    "start_time": "2023-04-18T13:27:46.059Z"
   },
   {
    "duration": 51,
    "start_time": "2023-04-18T13:27:46.069Z"
   },
   {
    "duration": 15,
    "start_time": "2023-04-18T13:27:46.121Z"
   },
   {
    "duration": 19,
    "start_time": "2023-04-18T13:27:46.141Z"
   },
   {
    "duration": 62,
    "start_time": "2023-04-18T13:27:46.163Z"
   },
   {
    "duration": 32,
    "start_time": "2023-04-18T13:27:46.227Z"
   },
   {
    "duration": 83645,
    "start_time": "2023-04-18T13:27:46.261Z"
   },
   {
    "duration": 3,
    "start_time": "2023-04-18T13:29:09.909Z"
   },
   {
    "duration": 170,
    "start_time": "2023-04-18T13:29:09.914Z"
   },
   {
    "duration": 0,
    "start_time": "2023-04-18T13:29:10.086Z"
   },
   {
    "duration": 0,
    "start_time": "2023-04-18T13:29:10.088Z"
   },
   {
    "duration": 0,
    "start_time": "2023-04-18T13:29:10.089Z"
   },
   {
    "duration": 1714,
    "start_time": "2023-04-18T14:04:17.706Z"
   },
   {
    "duration": 213,
    "start_time": "2023-04-18T14:04:19.422Z"
   },
   {
    "duration": 15,
    "start_time": "2023-04-18T14:04:19.637Z"
   },
   {
    "duration": 13,
    "start_time": "2023-04-18T14:04:19.654Z"
   },
   {
    "duration": 13,
    "start_time": "2023-04-18T14:04:19.670Z"
   },
   {
    "duration": 26,
    "start_time": "2023-04-18T14:04:19.685Z"
   },
   {
    "duration": 15,
    "start_time": "2023-04-18T14:04:19.712Z"
   },
   {
    "duration": 19,
    "start_time": "2023-04-18T14:04:19.729Z"
   },
   {
    "duration": 384,
    "start_time": "2023-04-18T14:04:19.750Z"
   },
   {
    "duration": 13,
    "start_time": "2023-04-18T14:04:20.136Z"
   },
   {
    "duration": 12,
    "start_time": "2023-04-18T14:04:20.150Z"
   },
   {
    "duration": 25,
    "start_time": "2023-04-18T14:04:20.163Z"
   },
   {
    "duration": 186,
    "start_time": "2023-04-18T14:04:20.190Z"
   },
   {
    "duration": 10,
    "start_time": "2023-04-18T14:04:20.379Z"
   },
   {
    "duration": 231,
    "start_time": "2023-04-18T14:04:20.390Z"
   },
   {
    "duration": 11,
    "start_time": "2023-04-18T14:04:20.623Z"
   },
   {
    "duration": 41,
    "start_time": "2023-04-18T14:04:20.636Z"
   },
   {
    "duration": 24,
    "start_time": "2023-04-18T14:04:20.679Z"
   },
   {
    "duration": 36,
    "start_time": "2023-04-18T14:04:20.705Z"
   },
   {
    "duration": 34,
    "start_time": "2023-04-18T14:04:20.744Z"
   },
   {
    "duration": 98,
    "start_time": "2023-04-18T14:04:20.780Z"
   },
   {
    "duration": 407,
    "start_time": "2023-04-18T14:04:20.880Z"
   },
   {
    "duration": 33,
    "start_time": "2023-04-18T14:04:21.289Z"
   },
   {
    "duration": 21,
    "start_time": "2023-04-18T14:04:21.324Z"
   },
   {
    "duration": 49,
    "start_time": "2023-04-18T14:04:21.347Z"
   },
   {
    "duration": 17,
    "start_time": "2023-04-18T14:04:21.398Z"
   },
   {
    "duration": 17,
    "start_time": "2023-04-18T14:04:21.416Z"
   },
   {
    "duration": 21,
    "start_time": "2023-04-18T14:04:21.435Z"
   },
   {
    "duration": 40,
    "start_time": "2023-04-18T14:04:21.458Z"
   },
   {
    "duration": 23,
    "start_time": "2023-04-18T14:04:21.501Z"
   },
   {
    "duration": 7,
    "start_time": "2023-04-18T14:04:21.527Z"
   },
   {
    "duration": 269,
    "start_time": "2023-04-18T14:04:21.536Z"
   },
   {
    "duration": 10,
    "start_time": "2023-04-18T14:04:21.808Z"
   },
   {
    "duration": 13,
    "start_time": "2023-04-18T14:04:21.820Z"
   },
   {
    "duration": 10,
    "start_time": "2023-04-18T14:04:21.835Z"
   },
   {
    "duration": 42,
    "start_time": "2023-04-18T14:04:21.847Z"
   },
   {
    "duration": 13,
    "start_time": "2023-04-18T14:04:21.891Z"
   },
   {
    "duration": 24,
    "start_time": "2023-04-18T14:04:21.906Z"
   },
   {
    "duration": 223,
    "start_time": "2023-04-18T14:04:21.932Z"
   },
   {
    "duration": 7,
    "start_time": "2023-04-18T14:04:22.157Z"
   },
   {
    "duration": 10,
    "start_time": "2023-04-18T14:04:22.169Z"
   },
   {
    "duration": 25,
    "start_time": "2023-04-18T14:04:22.189Z"
   },
   {
    "duration": 15,
    "start_time": "2023-04-18T14:04:22.216Z"
   },
   {
    "duration": 16,
    "start_time": "2023-04-18T14:04:22.233Z"
   },
   {
    "duration": 9,
    "start_time": "2023-04-18T14:04:22.251Z"
   },
   {
    "duration": 15,
    "start_time": "2023-04-18T14:04:22.261Z"
   },
   {
    "duration": 8,
    "start_time": "2023-04-18T14:04:22.278Z"
   },
   {
    "duration": 30,
    "start_time": "2023-04-18T14:04:22.289Z"
   },
   {
    "duration": 9,
    "start_time": "2023-04-18T14:04:22.320Z"
   },
   {
    "duration": 10,
    "start_time": "2023-04-18T14:04:22.330Z"
   },
   {
    "duration": 21,
    "start_time": "2023-04-18T14:04:22.342Z"
   },
   {
    "duration": 18,
    "start_time": "2023-04-18T14:04:22.365Z"
   },
   {
    "duration": 28,
    "start_time": "2023-04-18T14:04:22.385Z"
   },
   {
    "duration": 35,
    "start_time": "2023-04-18T14:04:22.415Z"
   },
   {
    "duration": 19,
    "start_time": "2023-04-18T14:04:22.451Z"
   },
   {
    "duration": 13,
    "start_time": "2023-04-18T14:04:22.471Z"
   },
   {
    "duration": 9,
    "start_time": "2023-04-18T14:04:22.485Z"
   },
   {
    "duration": 22,
    "start_time": "2023-04-18T14:04:22.496Z"
   },
   {
    "duration": 207,
    "start_time": "2023-04-18T14:04:22.520Z"
   },
   {
    "duration": 7,
    "start_time": "2023-04-18T14:04:22.729Z"
   },
   {
    "duration": 8,
    "start_time": "2023-04-18T14:04:22.738Z"
   },
   {
    "duration": 7,
    "start_time": "2023-04-18T14:04:22.748Z"
   },
   {
    "duration": 40,
    "start_time": "2023-04-18T14:04:22.757Z"
   },
   {
    "duration": 39,
    "start_time": "2023-04-18T14:04:22.799Z"
   },
   {
    "duration": 12,
    "start_time": "2023-04-18T14:04:22.841Z"
   },
   {
    "duration": 18,
    "start_time": "2023-04-18T14:04:22.855Z"
   },
   {
    "duration": 16,
    "start_time": "2023-04-18T14:04:22.888Z"
   },
   {
    "duration": 13,
    "start_time": "2023-04-18T14:04:22.906Z"
   },
   {
    "duration": 38,
    "start_time": "2023-04-18T14:04:22.920Z"
   },
   {
    "duration": 316,
    "start_time": "2023-04-18T14:04:22.960Z"
   },
   {
    "duration": 3,
    "start_time": "2023-04-18T14:04:23.278Z"
   },
   {
    "duration": 40,
    "start_time": "2023-04-18T14:04:23.288Z"
   },
   {
    "duration": 24,
    "start_time": "2023-04-18T14:04:23.330Z"
   },
   {
    "duration": 14,
    "start_time": "2023-04-18T14:04:23.356Z"
   },
   {
    "duration": 15,
    "start_time": "2023-04-18T14:04:23.372Z"
   },
   {
    "duration": 32,
    "start_time": "2023-04-18T14:04:23.390Z"
   },
   {
    "duration": 21,
    "start_time": "2023-04-18T14:04:23.424Z"
   },
   {
    "duration": 26,
    "start_time": "2023-04-18T14:04:23.447Z"
   },
   {
    "duration": 807,
    "start_time": "2023-04-18T14:04:23.475Z"
   },
   {
    "duration": 27,
    "start_time": "2023-04-18T14:04:24.284Z"
   },
   {
    "duration": 846,
    "start_time": "2023-04-18T14:04:24.313Z"
   },
   {
    "duration": 7,
    "start_time": "2023-04-18T14:04:25.161Z"
   },
   {
    "duration": 20,
    "start_time": "2023-04-18T14:04:25.170Z"
   },
   {
    "duration": 13,
    "start_time": "2023-04-18T14:04:25.192Z"
   },
   {
    "duration": 10,
    "start_time": "2023-04-18T14:04:25.207Z"
   },
   {
    "duration": 27,
    "start_time": "2023-04-18T14:04:25.219Z"
   },
   {
    "duration": 2,
    "start_time": "2023-04-18T14:04:25.248Z"
   },
   {
    "duration": 80895,
    "start_time": "2023-04-18T14:04:25.253Z"
   },
   {
    "duration": 3,
    "start_time": "2023-04-18T14:05:46.150Z"
   },
   {
    "duration": 406481,
    "start_time": "2023-04-18T14:05:46.154Z"
   },
   {
    "duration": 0,
    "start_time": "2023-04-18T14:12:32.637Z"
   },
   {
    "duration": 0,
    "start_time": "2023-04-18T14:12:32.638Z"
   },
   {
    "duration": 0,
    "start_time": "2023-04-18T14:12:32.639Z"
   },
   {
    "duration": 68684,
    "start_time": "2023-04-18T14:12:51.422Z"
   },
   {
    "duration": 153,
    "start_time": "2023-04-18T14:14:06.186Z"
   },
   {
    "duration": 148,
    "start_time": "2023-04-18T14:14:34.599Z"
   },
   {
    "duration": 170,
    "start_time": "2023-04-18T14:20:07.351Z"
   },
   {
    "duration": 152,
    "start_time": "2023-04-18T14:20:44.462Z"
   },
   {
    "duration": 84,
    "start_time": "2023-04-18T14:21:23.125Z"
   },
   {
    "duration": 1774,
    "start_time": "2023-04-18T14:21:28.844Z"
   },
   {
    "duration": 188,
    "start_time": "2023-04-18T14:21:35.924Z"
   },
   {
    "duration": 268,
    "start_time": "2023-04-18T14:27:01.053Z"
   },
   {
    "duration": 223,
    "start_time": "2023-04-18T14:27:23.636Z"
   },
   {
    "duration": 11,
    "start_time": "2023-04-18T14:28:06.843Z"
   },
   {
    "duration": 12,
    "start_time": "2023-04-18T14:28:11.804Z"
   },
   {
    "duration": 11,
    "start_time": "2023-04-18T14:28:25.798Z"
   },
   {
    "duration": 11,
    "start_time": "2023-04-18T14:34:56.003Z"
   },
   {
    "duration": 11,
    "start_time": "2023-04-18T14:35:20.910Z"
   },
   {
    "duration": 48,
    "start_time": "2023-04-18T14:35:29.559Z"
   },
   {
    "duration": 44,
    "start_time": "2023-04-18T14:35:45.025Z"
   },
   {
    "duration": 1942,
    "start_time": "2023-04-18T14:59:27.631Z"
   },
   {
    "duration": 15,
    "start_time": "2023-04-18T15:07:01.944Z"
   },
   {
    "duration": 47,
    "start_time": "2023-04-18T15:07:08.510Z"
   },
   {
    "duration": 42,
    "start_time": "2023-04-18T15:20:47.749Z"
   },
   {
    "duration": 47,
    "start_time": "2023-04-18T15:21:43.584Z"
   },
   {
    "duration": 384,
    "start_time": "2023-04-18T15:21:52.725Z"
   },
   {
    "duration": 48,
    "start_time": "2023-04-18T15:22:26.226Z"
   },
   {
    "duration": 373,
    "start_time": "2023-04-18T15:22:35.748Z"
   },
   {
    "duration": 1630,
    "start_time": "2023-04-18T15:28:48.052Z"
   },
   {
    "duration": 236,
    "start_time": "2023-04-18T15:28:49.684Z"
   },
   {
    "duration": 15,
    "start_time": "2023-04-18T15:28:49.922Z"
   },
   {
    "duration": 13,
    "start_time": "2023-04-18T15:28:49.940Z"
   },
   {
    "duration": 14,
    "start_time": "2023-04-18T15:28:49.956Z"
   },
   {
    "duration": 13,
    "start_time": "2023-04-18T15:28:49.972Z"
   },
   {
    "duration": 13,
    "start_time": "2023-04-18T15:28:49.987Z"
   },
   {
    "duration": 42,
    "start_time": "2023-04-18T15:28:50.002Z"
   },
   {
    "duration": 369,
    "start_time": "2023-04-18T15:28:50.045Z"
   },
   {
    "duration": 13,
    "start_time": "2023-04-18T15:28:50.418Z"
   },
   {
    "duration": 11,
    "start_time": "2023-04-18T15:28:50.432Z"
   },
   {
    "duration": 4,
    "start_time": "2023-04-18T15:28:50.445Z"
   },
   {
    "duration": 199,
    "start_time": "2023-04-18T15:28:50.451Z"
   },
   {
    "duration": 5,
    "start_time": "2023-04-18T15:28:50.654Z"
   },
   {
    "duration": 207,
    "start_time": "2023-04-18T15:28:50.660Z"
   },
   {
    "duration": 8,
    "start_time": "2023-04-18T15:28:50.869Z"
   },
   {
    "duration": 27,
    "start_time": "2023-04-18T15:28:50.879Z"
   },
   {
    "duration": 17,
    "start_time": "2023-04-18T15:28:50.910Z"
   },
   {
    "duration": 43,
    "start_time": "2023-04-18T15:28:50.929Z"
   },
   {
    "duration": 28,
    "start_time": "2023-04-18T15:28:50.974Z"
   },
   {
    "duration": 61,
    "start_time": "2023-04-18T15:28:51.011Z"
   },
   {
    "duration": 392,
    "start_time": "2023-04-18T15:28:51.074Z"
   },
   {
    "duration": 50,
    "start_time": "2023-04-18T15:28:51.468Z"
   },
   {
    "duration": 16,
    "start_time": "2023-04-18T15:28:51.520Z"
   },
   {
    "duration": 37,
    "start_time": "2023-04-18T15:28:51.538Z"
   },
   {
    "duration": 36,
    "start_time": "2023-04-18T15:28:51.576Z"
   },
   {
    "duration": 19,
    "start_time": "2023-04-18T15:28:51.614Z"
   },
   {
    "duration": 26,
    "start_time": "2023-04-18T15:28:51.635Z"
   },
   {
    "duration": 22,
    "start_time": "2023-04-18T15:28:51.663Z"
   },
   {
    "duration": 40,
    "start_time": "2023-04-18T15:28:51.688Z"
   },
   {
    "duration": 7,
    "start_time": "2023-04-18T15:28:51.730Z"
   },
   {
    "duration": 237,
    "start_time": "2023-04-18T15:28:51.739Z"
   },
   {
    "duration": 33,
    "start_time": "2023-04-18T15:28:51.978Z"
   },
   {
    "duration": 20,
    "start_time": "2023-04-18T15:28:52.012Z"
   },
   {
    "duration": 11,
    "start_time": "2023-04-18T15:28:52.034Z"
   },
   {
    "duration": 90,
    "start_time": "2023-04-18T15:28:52.047Z"
   },
   {
    "duration": 8,
    "start_time": "2023-04-18T15:28:52.139Z"
   },
   {
    "duration": 27,
    "start_time": "2023-04-18T15:28:52.149Z"
   },
   {
    "duration": 239,
    "start_time": "2023-04-18T15:28:52.178Z"
   },
   {
    "duration": 8,
    "start_time": "2023-04-18T15:28:52.419Z"
   },
   {
    "duration": 3,
    "start_time": "2023-04-18T15:28:52.432Z"
   },
   {
    "duration": 14,
    "start_time": "2023-04-18T15:28:52.436Z"
   },
   {
    "duration": 2,
    "start_time": "2023-04-18T15:28:52.452Z"
   },
   {
    "duration": 17,
    "start_time": "2023-04-18T15:28:52.456Z"
   },
   {
    "duration": 14,
    "start_time": "2023-04-18T15:28:52.487Z"
   },
   {
    "duration": 27,
    "start_time": "2023-04-18T15:28:52.502Z"
   },
   {
    "duration": 8,
    "start_time": "2023-04-18T15:28:52.530Z"
   },
   {
    "duration": 14,
    "start_time": "2023-04-18T15:28:52.540Z"
   },
   {
    "duration": 21,
    "start_time": "2023-04-18T15:28:52.557Z"
   },
   {
    "duration": 17,
    "start_time": "2023-04-18T15:28:52.580Z"
   },
   {
    "duration": 25,
    "start_time": "2023-04-18T15:28:52.598Z"
   },
   {
    "duration": 10,
    "start_time": "2023-04-18T15:28:52.624Z"
   },
   {
    "duration": 7,
    "start_time": "2023-04-18T15:28:52.636Z"
   },
   {
    "duration": 20,
    "start_time": "2023-04-18T15:28:52.644Z"
   },
   {
    "duration": 12,
    "start_time": "2023-04-18T15:28:52.666Z"
   },
   {
    "duration": 46,
    "start_time": "2023-04-18T15:28:52.679Z"
   },
   {
    "duration": 7,
    "start_time": "2023-04-18T15:28:52.727Z"
   },
   {
    "duration": 15,
    "start_time": "2023-04-18T15:28:52.735Z"
   },
   {
    "duration": 192,
    "start_time": "2023-04-18T15:28:52.752Z"
   },
   {
    "duration": 6,
    "start_time": "2023-04-18T15:28:52.946Z"
   },
   {
    "duration": 18,
    "start_time": "2023-04-18T15:28:52.954Z"
   },
   {
    "duration": 6,
    "start_time": "2023-04-18T15:28:52.973Z"
   },
   {
    "duration": 12,
    "start_time": "2023-04-18T15:28:52.992Z"
   },
   {
    "duration": 55,
    "start_time": "2023-04-18T15:28:53.006Z"
   },
   {
    "duration": 11,
    "start_time": "2023-04-18T15:28:53.063Z"
   },
   {
    "duration": 30,
    "start_time": "2023-04-18T15:28:53.076Z"
   },
   {
    "duration": 23,
    "start_time": "2023-04-18T15:28:53.108Z"
   },
   {
    "duration": 12,
    "start_time": "2023-04-18T15:28:53.133Z"
   },
   {
    "duration": 48,
    "start_time": "2023-04-18T15:28:53.147Z"
   },
   {
    "duration": 283,
    "start_time": "2023-04-18T15:28:53.197Z"
   },
   {
    "duration": 11,
    "start_time": "2023-04-18T15:28:53.481Z"
   },
   {
    "duration": 42,
    "start_time": "2023-04-18T15:28:53.496Z"
   },
   {
    "duration": 23,
    "start_time": "2023-04-18T15:28:53.540Z"
   },
   {
    "duration": 12,
    "start_time": "2023-04-18T15:28:53.565Z"
   },
   {
    "duration": 57,
    "start_time": "2023-04-18T15:28:53.579Z"
   },
   {
    "duration": 43,
    "start_time": "2023-04-18T15:28:53.638Z"
   },
   {
    "duration": 43,
    "start_time": "2023-04-18T15:28:53.683Z"
   },
   {
    "duration": 22,
    "start_time": "2023-04-18T15:28:53.728Z"
   },
   {
    "duration": 828,
    "start_time": "2023-04-18T15:28:53.752Z"
   },
   {
    "duration": 29,
    "start_time": "2023-04-18T15:28:54.589Z"
   },
   {
    "duration": 816,
    "start_time": "2023-04-18T15:28:54.620Z"
   },
   {
    "duration": 8,
    "start_time": "2023-04-18T15:28:55.439Z"
   },
   {
    "duration": 40,
    "start_time": "2023-04-18T15:28:55.449Z"
   },
   {
    "duration": 33,
    "start_time": "2023-04-18T15:28:55.491Z"
   },
   {
    "duration": 49,
    "start_time": "2023-04-18T15:28:55.526Z"
   },
   {
    "duration": 68,
    "start_time": "2023-04-18T15:28:55.577Z"
   },
   {
    "duration": 2,
    "start_time": "2023-04-18T15:28:55.648Z"
   },
   {
    "duration": 73748,
    "start_time": "2023-04-18T15:28:55.653Z"
   },
   {
    "duration": 1873,
    "start_time": "2023-04-18T15:30:09.403Z"
   }
  ],
  "kernelspec": {
   "display_name": "Python 3 (ipykernel)",
   "language": "python",
   "name": "python3"
  },
  "language_info": {
   "codemirror_mode": {
    "name": "ipython",
    "version": 3
   },
   "file_extension": ".py",
   "mimetype": "text/x-python",
   "name": "python",
   "nbconvert_exporter": "python",
   "pygments_lexer": "ipython3",
   "version": "3.10.9"
  },
  "toc": {
   "base_numbering": 1,
   "nav_menu": {
    "height": "351px",
    "width": "392px"
   },
   "number_sections": true,
   "sideBar": true,
   "skip_h1_title": true,
   "title_cell": "Table of Contents",
   "title_sidebar": "Содержание",
   "toc_cell": false,
   "toc_position": {},
   "toc_section_display": true,
   "toc_window_display": true
  }
 },
 "nbformat": 4,
 "nbformat_minor": 4
}
