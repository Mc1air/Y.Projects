{
  "metadata": {
    "ExecuteTimeLog": [
      {
        "duration": 436,
        "start_time": "2022-08-22T08:20:55.991Z"
      },
      {
        "duration": 3,
        "start_time": "2022-08-22T08:21:02.635Z"
      },
      {
        "duration": 236,
        "start_time": "2022-08-22T08:22:00.289Z"
      },
      {
        "duration": 172,
        "start_time": "2022-08-22T08:22:06.353Z"
      },
      {
        "duration": 20,
        "start_time": "2022-08-22T08:22:40.668Z"
      },
      {
        "duration": 27,
        "start_time": "2022-08-22T08:23:45.658Z"
      },
      {
        "duration": 51,
        "start_time": "2022-08-22T08:32:26.965Z"
      },
      {
        "duration": 2,
        "start_time": "2022-08-22T08:32:47.878Z"
      },
      {
        "duration": 4,
        "start_time": "2022-08-22T08:42:09.619Z"
      },
      {
        "duration": 3,
        "start_time": "2022-08-22T08:43:53.538Z"
      },
      {
        "duration": 13,
        "start_time": "2022-08-22T09:03:30.075Z"
      },
      {
        "duration": 3,
        "start_time": "2022-08-22T09:03:52.675Z"
      },
      {
        "duration": 25,
        "start_time": "2022-08-22T09:08:36.853Z"
      },
      {
        "duration": 63,
        "start_time": "2022-08-22T09:19:44.747Z"
      },
      {
        "duration": 15,
        "start_time": "2022-08-22T09:25:25.926Z"
      },
      {
        "duration": 14,
        "start_time": "2022-08-22T09:25:28.127Z"
      },
      {
        "duration": 21,
        "start_time": "2022-08-22T09:27:25.096Z"
      },
      {
        "duration": 23,
        "start_time": "2022-08-22T09:28:32.526Z"
      },
      {
        "duration": 72,
        "start_time": "2022-08-22T09:30:00.759Z"
      },
      {
        "duration": 69,
        "start_time": "2022-08-22T09:31:05.711Z"
      },
      {
        "duration": 63,
        "start_time": "2022-08-22T09:31:37.072Z"
      },
      {
        "duration": 39,
        "start_time": "2022-08-22T09:37:36.145Z"
      },
      {
        "duration": 604,
        "start_time": "2022-08-22T09:37:51.244Z"
      },
      {
        "duration": 35,
        "start_time": "2022-08-22T09:39:08.803Z"
      },
      {
        "duration": 9,
        "start_time": "2022-08-22T09:39:15.507Z"
      },
      {
        "duration": 32,
        "start_time": "2022-08-22T09:41:54.044Z"
      },
      {
        "duration": 37,
        "start_time": "2022-08-22T09:42:27.254Z"
      },
      {
        "duration": 35,
        "start_time": "2022-08-22T09:42:56.860Z"
      },
      {
        "duration": 68,
        "start_time": "2022-08-22T12:07:23.850Z"
      },
      {
        "duration": 11,
        "start_time": "2022-08-22T12:07:36.596Z"
      },
      {
        "duration": 12,
        "start_time": "2022-08-22T12:07:49.626Z"
      },
      {
        "duration": 11,
        "start_time": "2022-08-22T12:08:16.426Z"
      },
      {
        "duration": 9,
        "start_time": "2022-08-22T12:08:18.467Z"
      },
      {
        "duration": 11,
        "start_time": "2022-08-22T12:13:10.614Z"
      },
      {
        "duration": 6,
        "start_time": "2022-08-22T12:14:02.903Z"
      },
      {
        "duration": 8,
        "start_time": "2022-08-22T12:14:41.268Z"
      },
      {
        "duration": 40,
        "start_time": "2022-08-22T12:15:36.637Z"
      },
      {
        "duration": 36,
        "start_time": "2022-08-22T12:21:40.104Z"
      },
      {
        "duration": 15,
        "start_time": "2022-08-22T12:22:57.059Z"
      },
      {
        "duration": 12,
        "start_time": "2022-08-22T12:25:16.242Z"
      },
      {
        "duration": 45,
        "start_time": "2022-08-22T12:25:59.139Z"
      },
      {
        "duration": 12,
        "start_time": "2022-08-22T12:26:23.187Z"
      },
      {
        "duration": 5,
        "start_time": "2022-08-22T12:46:41.344Z"
      },
      {
        "duration": 15,
        "start_time": "2022-08-22T12:55:45.169Z"
      },
      {
        "duration": 9,
        "start_time": "2022-08-22T13:11:33.256Z"
      },
      {
        "duration": 9,
        "start_time": "2022-08-22T13:11:58.522Z"
      },
      {
        "duration": 9,
        "start_time": "2022-08-22T13:12:15.760Z"
      },
      {
        "duration": 8,
        "start_time": "2022-08-22T13:13:11.474Z"
      },
      {
        "duration": 10,
        "start_time": "2022-08-22T13:13:42.097Z"
      },
      {
        "duration": 9,
        "start_time": "2022-08-22T13:17:59.786Z"
      },
      {
        "duration": 76,
        "start_time": "2022-08-22T13:20:42.173Z"
      },
      {
        "duration": 14,
        "start_time": "2022-08-22T13:22:56.525Z"
      },
      {
        "duration": 15,
        "start_time": "2022-08-22T13:22:57.757Z"
      },
      {
        "duration": 15,
        "start_time": "2022-08-22T13:22:59.276Z"
      },
      {
        "duration": 17,
        "start_time": "2022-08-22T13:23:00.453Z"
      },
      {
        "duration": 15,
        "start_time": "2022-08-22T13:23:01.637Z"
      },
      {
        "duration": 4,
        "start_time": "2022-08-22T13:23:53.623Z"
      },
      {
        "duration": 5,
        "start_time": "2022-08-22T13:23:55.573Z"
      },
      {
        "duration": 10,
        "start_time": "2022-08-22T13:29:52.033Z"
      },
      {
        "duration": 9,
        "start_time": "2022-08-22T13:29:53.184Z"
      },
      {
        "duration": 4,
        "start_time": "2022-08-22T13:35:42.533Z"
      },
      {
        "duration": 56,
        "start_time": "2022-08-22T13:44:55.766Z"
      },
      {
        "duration": 53,
        "start_time": "2022-08-22T13:45:48.432Z"
      },
      {
        "duration": 96,
        "start_time": "2022-08-22T13:46:40.502Z"
      },
      {
        "duration": 64,
        "start_time": "2022-08-22T13:46:57.327Z"
      },
      {
        "duration": 61,
        "start_time": "2022-08-22T13:52:57.477Z"
      },
      {
        "duration": 5,
        "start_time": "2022-08-22T13:53:07.712Z"
      },
      {
        "duration": 5,
        "start_time": "2022-08-22T13:53:15.456Z"
      },
      {
        "duration": 15,
        "start_time": "2022-08-22T13:57:46.034Z"
      },
      {
        "duration": 17,
        "start_time": "2022-08-22T13:58:22.483Z"
      },
      {
        "duration": 11,
        "start_time": "2022-08-22T13:59:39.651Z"
      },
      {
        "duration": 17,
        "start_time": "2022-08-22T13:59:41.769Z"
      },
      {
        "duration": 11,
        "start_time": "2022-08-22T13:59:43.562Z"
      },
      {
        "duration": 10,
        "start_time": "2022-08-22T14:19:42.670Z"
      },
      {
        "duration": 6,
        "start_time": "2022-08-22T14:21:28.431Z"
      },
      {
        "duration": 7,
        "start_time": "2022-08-22T14:22:44.150Z"
      },
      {
        "duration": 5,
        "start_time": "2022-08-22T14:23:23.927Z"
      }
    ],
    "colab": {
      "collapsed_sections": [
        "E0vqbgi9ay0H",
        "VUC88oWjTJw2"
      ],
      "name": "automatization_template_upd4.ipynb",
      "provenance": []
    },
    "toc": {
      "base_numbering": 1,
      "nav_menu": {
        "height": "215px",
        "width": "403px"
      },
      "number_sections": true,
      "sideBar": true,
      "skip_h1_title": true,
      "title_cell": "Table of Contents",
      "title_sidebar": "Contents",
      "toc_cell": false,
      "toc_position": {
        "height": "calc(100% - 180px)",
        "left": "10px",
        "top": "150px",
        "width": "285.825px"
      },
      "toc_section_display": true,
      "toc_window_display": false
    },
    "kernelspec": {
      "name": "python",
      "display_name": "Python (Pyodide)",
      "language": "python"
    },
    "language_info": {
      "codemirror_mode": {
        "name": "python",
        "version": 3
      },
      "file_extension": ".py",
      "mimetype": "text/x-python",
      "name": "python",
      "nbconvert_exporter": "python",
      "pygments_lexer": "ipython3",
      "version": "3.8"
    }
  },
  "nbformat_minor": 4,
  "nbformat": 4,
  "cells": [
    {
      "cell_type": "markdown",
      "source": "# Яндекс Музыка",
      "metadata": {
        "deletable": false,
        "editable": false,
        "id": "E0vqbgi9ay0H"
      }
    },
    {
      "cell_type": "markdown",
      "source": "Сравнение Москвы и Петербурга окружено мифами. Например:\n * Москва — мегаполис, подчинённый жёсткому ритму рабочей недели;\n * Петербург — культурная столица, со своими вкусами.\n\nНа данных Яндекс Музыки вы сравните поведение пользователей двух столиц.\n\n**Цель исследования** — проверьте три гипотезы:\n1. Активность пользователей зависит от дня недели. Причём в Москве и Петербурге это проявляется по-разному.\n2. В понедельник утром в Москве преобладают одни жанры, а в Петербурге — другие. Так же и вечером пятницы преобладают разные жанры — в зависимости от города. \n3. Москва и Петербург предпочитают разные жанры музыки. В Москве чаще слушают поп-музыку, в Петербурге — русский рэп.\n\n**Ход исследования**\n\nДанные о поведении пользователей вы получите из файла `yandex_music_project.csv`. О качестве данных ничего не известно. Поэтому перед проверкой гипотез понадобится обзор данных. \n\nВы проверите данные на ошибки и оцените их влияние на исследование. Затем, на этапе предобработки вы поищете возможность исправить самые критичные ошибки данных.\n \nТаким образом, исследование пройдёт в три этапа:\n 1. Обзор данных.\n 2. Предобработка данных.\n 3. Проверка гипотез.\n\n",
      "metadata": {
        "deletable": false,
        "editable": false,
        "id": "VUC88oWjTJw2"
      }
    },
    {
      "cell_type": "markdown",
      "source": "## Обзор данных\n\nСоставьте первое представление о данных Яндекс Музыки.\n\n\n",
      "metadata": {
        "deletable": false,
        "editable": false,
        "id": "Ml1hmfXC_Zcs"
      }
    },
    {
      "cell_type": "markdown",
      "source": "**Задание 1**\n\nОсновной инструмент аналитика — `pandas`. Импортируйте эту библиотеку.",
      "metadata": {
        "deletable": false,
        "editable": false,
        "id": "57eAOGIz_Zcs",
        "tags": [
          "start_task"
        ]
      }
    },
    {
      "cell_type": "code",
      "source": "import pandas as pd # импорт библиотеки pandas",
      "metadata": {
        "deletable": false,
        "id": "AXN7PHPN_Zcs"
      },
      "execution_count": 2,
      "outputs": []
    },
    {
      "cell_type": "markdown",
      "source": "**Задание 2**\n\nПрочитайте файл `yandex_music_project.csv` из папки `/datasets` и сохраните его в переменной `df`:",
      "metadata": {
        "deletable": false,
        "editable": false,
        "id": "SG23P8tt_Zcs",
        "tags": [
          "start_task"
        ]
      }
    },
    {
      "cell_type": "code",
      "source": "df = pd.read_csv('/datasets/yandex_music_project.csv') # чтение файла с данными и сохранение в df",
      "metadata": {
        "deletable": false,
        "id": "fFVu7vqh_Zct"
      },
      "execution_count": 4,
      "outputs": []
    },
    {
      "cell_type": "markdown",
      "source": "**Задание 3**\n\n\nВыведите на экран первые десять строк таблицы:",
      "metadata": {
        "deletable": false,
        "editable": false,
        "id": "rDoOMd3uTqnZ",
        "tags": [
          "start_task"
        ]
      }
    },
    {
      "cell_type": "code",
      "source": "print(df.head(10)) # получение первых 10 строк таблицы df",
      "metadata": {
        "deletable": false,
        "id": "oWTVX3gW_Zct"
      },
      "execution_count": 5,
      "outputs": [
        {
          "output_type": "display_data",
          "data": {
            "text/html": [
              "<div>\n",
              "<style scoped>\n",
              "    .dataframe tbody tr th:only-of-type {\n",
              "        vertical-align: middle;\n",
              "    }\n",
              "\n",
              "    .dataframe tbody tr th {\n",
              "        vertical-align: top;\n",
              "    }\n",
              "\n",
              "    .dataframe thead th {\n",
              "        text-align: right;\n",
              "    }\n",
              "</style>\n",
              "<table border=\"1\" class=\"dataframe\">\n",
              "  <thead>\n",
              "    <tr style=\"text-align: right;\">\n",
              "      <th></th>\n",
              "      <th>userID</th>\n",
              "      <th>Track</th>\n",
              "      <th>artist</th>\n",
              "      <th>genre</th>\n",
              "      <th>City</th>\n",
              "      <th>time</th>\n",
              "      <th>Day</th>\n",
              "    </tr>\n",
              "  </thead>\n",
              "  <tbody>\n",
              "    <tr>\n",
              "      <th>0</th>\n",
              "      <td>FFB692EC</td>\n",
              "      <td>Kamigata To Boots</td>\n",
              "      <td>The Mass Missile</td>\n",
              "      <td>rock</td>\n",
              "      <td>Saint-Petersburg</td>\n",
              "      <td>20:28:33</td>\n",
              "      <td>Wednesday</td>\n",
              "    </tr>\n",
              "    <tr>\n",
              "      <th>1</th>\n",
              "      <td>55204538</td>\n",
              "      <td>Delayed Because of Accident</td>\n",
              "      <td>Andreas Rönnberg</td>\n",
              "      <td>rock</td>\n",
              "      <td>Moscow</td>\n",
              "      <td>14:07:09</td>\n",
              "      <td>Friday</td>\n",
              "    </tr>\n",
              "    <tr>\n",
              "      <th>2</th>\n",
              "      <td>20EC38</td>\n",
              "      <td>Funiculì funiculà</td>\n",
              "      <td>Mario Lanza</td>\n",
              "      <td>pop</td>\n",
              "      <td>Saint-Petersburg</td>\n",
              "      <td>20:58:07</td>\n",
              "      <td>Wednesday</td>\n",
              "    </tr>\n",
              "    <tr>\n",
              "      <th>3</th>\n",
              "      <td>A3DD03C9</td>\n",
              "      <td>Dragons in the Sunset</td>\n",
              "      <td>Fire + Ice</td>\n",
              "      <td>folk</td>\n",
              "      <td>Saint-Petersburg</td>\n",
              "      <td>08:37:09</td>\n",
              "      <td>Monday</td>\n",
              "    </tr>\n",
              "    <tr>\n",
              "      <th>4</th>\n",
              "      <td>E2DC1FAE</td>\n",
              "      <td>Soul People</td>\n",
              "      <td>Space Echo</td>\n",
              "      <td>dance</td>\n",
              "      <td>Moscow</td>\n",
              "      <td>08:34:34</td>\n",
              "      <td>Monday</td>\n",
              "    </tr>\n",
              "    <tr>\n",
              "      <th>5</th>\n",
              "      <td>842029A1</td>\n",
              "      <td>Преданная</td>\n",
              "      <td>IMPERVTOR</td>\n",
              "      <td>rusrap</td>\n",
              "      <td>Saint-Petersburg</td>\n",
              "      <td>13:09:41</td>\n",
              "      <td>Friday</td>\n",
              "    </tr>\n",
              "    <tr>\n",
              "      <th>6</th>\n",
              "      <td>4CB90AA5</td>\n",
              "      <td>True</td>\n",
              "      <td>Roman Messer</td>\n",
              "      <td>dance</td>\n",
              "      <td>Moscow</td>\n",
              "      <td>13:00:07</td>\n",
              "      <td>Wednesday</td>\n",
              "    </tr>\n",
              "    <tr>\n",
              "      <th>7</th>\n",
              "      <td>F03E1C1F</td>\n",
              "      <td>Feeling This Way</td>\n",
              "      <td>Polina Griffith</td>\n",
              "      <td>dance</td>\n",
              "      <td>Moscow</td>\n",
              "      <td>20:47:49</td>\n",
              "      <td>Wednesday</td>\n",
              "    </tr>\n",
              "    <tr>\n",
              "      <th>8</th>\n",
              "      <td>8FA1D3BE</td>\n",
              "      <td>И вновь продолжается бой</td>\n",
              "      <td>NaN</td>\n",
              "      <td>ruspop</td>\n",
              "      <td>Moscow</td>\n",
              "      <td>09:17:40</td>\n",
              "      <td>Friday</td>\n",
              "    </tr>\n",
              "    <tr>\n",
              "      <th>9</th>\n",
              "      <td>E772D5C0</td>\n",
              "      <td>Pessimist</td>\n",
              "      <td>NaN</td>\n",
              "      <td>dance</td>\n",
              "      <td>Saint-Petersburg</td>\n",
              "      <td>21:20:49</td>\n",
              "      <td>Wednesday</td>\n",
              "    </tr>\n",
              "  </tbody>\n",
              "</table>\n",
              "</div>"
            ],
            "text/plain": [
              "     userID                        Track            artist   genre  \\\n",
              "0  FFB692EC            Kamigata To Boots  The Mass Missile    rock   \n",
              "1  55204538  Delayed Because of Accident  Andreas Rönnberg    rock   \n",
              "2    20EC38            Funiculì funiculà       Mario Lanza     pop   \n",
              "3  A3DD03C9        Dragons in the Sunset        Fire + Ice    folk   \n",
              "4  E2DC1FAE                  Soul People        Space Echo   dance   \n",
              "5  842029A1                    Преданная         IMPERVTOR  rusrap   \n",
              "6  4CB90AA5                         True      Roman Messer   dance   \n",
              "7  F03E1C1F             Feeling This Way   Polina Griffith   dance   \n",
              "8  8FA1D3BE     И вновь продолжается бой               NaN  ruspop   \n",
              "9  E772D5C0                    Pessimist               NaN   dance   \n",
              "\n",
              "             City        time        Day  \n",
              "0  Saint-Petersburg  20:28:33  Wednesday  \n",
              "1            Moscow  14:07:09     Friday  \n",
              "2  Saint-Petersburg  20:58:07  Wednesday  \n",
              "3  Saint-Petersburg  08:37:09     Monday  \n",
              "4            Moscow  08:34:34     Monday  \n",
              "5  Saint-Petersburg  13:09:41     Friday  \n",
              "6            Moscow  13:00:07  Wednesday  \n",
              "7            Moscow  20:47:49  Wednesday  \n",
              "8            Moscow  09:17:40     Friday  \n",
              "9  Saint-Petersburg  21:20:49  Wednesday  "
            ]
          },
          "metadata": {}
        }
      ]
    },
    {
      "cell_type": "markdown",
      "source": "**Задание 4**\n\n\nОдной командой получить общую информацию о таблице c помощью метода `info()`:",
      "metadata": {
        "deletable": false,
        "editable": false,
        "id": "EO73Kwic_Zct",
        "tags": [
          "start_task"
        ]
      }
    },
    {
      "cell_type": "code",
      "source": "df.info() # получение общей информации о данных в таблице df",
      "metadata": {
        "deletable": false,
        "id": "DSf2kIb-_Zct"
      },
      "execution_count": 6,
      "outputs": [
        {
          "name": "stdout",
          "output_type": "stream",
          "text": "<class 'pandas.core.frame.DataFrame'>\n\nRangeIndex: 65079 entries, 0 to 65078\n\nData columns (total 7 columns):\n\n #   Column    Non-Null Count  Dtype \n\n---  ------    --------------  ----- \n\n 0     userID  65079 non-null  object\n\n 1   Track     63848 non-null  object\n\n 2   artist    57876 non-null  object\n\n 3   genre     63881 non-null  object\n\n 4     City    65079 non-null  object\n\n 5   time      65079 non-null  object\n\n 6   Day       65079 non-null  object\n\ndtypes: object(7)\n\nmemory usage: 3.5+ MB\n"
        }
      ]
    },
    {
      "cell_type": "markdown",
      "source": "Итак, в таблице семь столбцов. Тип данных во всех столбцах — `object`.\n\nСогласно документации к данным:\n* `userID` — идентификатор пользователя;\n* `Track` — название трека;  \n* `artist` — имя исполнителя;\n* `genre` — название жанра;\n* `City` — город пользователя;\n* `time` — время начала прослушивания;\n* `Day` — день недели.\n\nКоличество значений в столбцах различается. Значит, в данных есть пропущенные значения.",
      "metadata": {
        "deletable": false,
        "editable": false,
        "id": "TaQ2Iwbr_Zct"
      }
    },
    {
      "cell_type": "markdown",
      "source": "**Задание 5**\n\n**Вопрос со свободной формой ответа**\n\nВ названиях колонок видны нарушения стиля:\n* Строчные буквы сочетаются с прописными.\n* Встречаются пробелы.\n\nКакое третье нарушение?",
      "metadata": {
        "deletable": false,
        "editable": false,
        "id": "rAfziTBDmf2h",
        "tags": [
          "start_task"
        ]
      }
    },
    {
      "cell_type": "code",
      "source": "#Нет змеиного регистра # Напишите ваш ответ здесь комментарием. Не удаляйте символ #. Не меняйте тип этой ячейки на Markdown.",
      "metadata": {
        "id": "jD8EXEIvmf2h"
      },
      "execution_count": 10,
      "outputs": []
    },
    {
      "cell_type": "markdown",
      "source": "**Выводы**\n\nВ каждой строке таблицы — данные о прослушанном треке. Часть колонок описывает саму композицию: название, исполнителя и жанр. Остальные данные рассказывают о пользователе: из какого он города, когда он слушал музыку. \n\nПредварительно можно утверждать, что данных достаточно для проверки гипотез. Но встречаются пропуски в данных, а в названиях колонок — расхождения с хорошим стилем.\n\nЧтобы двигаться дальше, нужно устранить проблемы в данных.",
      "metadata": {
        "deletable": false,
        "editable": false,
        "id": "MCB6-dXG_Zct"
      }
    },
    {
      "cell_type": "markdown",
      "source": "## Предобработка данных\nИсправьте стиль в заголовках столбцов, исключите пропуски. Затем проверьте данные на дубликаты.",
      "metadata": {
        "deletable": false,
        "editable": false,
        "id": "SjYF6Ub9_Zct"
      }
    },
    {
      "cell_type": "markdown",
      "source": "### Стиль заголовков\n\n**Задание 6**\n\nВыведите на экран названия столбцов:",
      "metadata": {
        "deletable": false,
        "editable": false,
        "id": "dIaKXr29_Zct",
        "tags": [
          "start_task"
        ]
      }
    },
    {
      "cell_type": "code",
      "source": "df.columns # перечень названий столбцов таблицы df",
      "metadata": {
        "deletable": false,
        "id": "oKOTdF_Q_Zct"
      },
      "execution_count": 9,
      "outputs": [
        {
          "execution_count": 9,
          "output_type": "execute_result",
          "data": {
            "text/plain": [
              "Index(['  userID', 'Track', 'artist', 'genre', '  City  ', 'time', 'Day'], dtype='object')"
            ]
          },
          "metadata": {}
        }
      ]
    },
    {
      "cell_type": "markdown",
      "source": "**Задание 7**\n\n\nПриведите названия в соответствие с хорошим стилем:\n* несколько слов в названии запишите в «змеином_регистре»,\n* все символы сделайте строчными,\n* устраните пробелы.\n\nДля этого переименуйте колонки так:\n* `'  userID'` → `'user_id'`;\n* `'Track'` → `'track'`;\n* `'  City  '` → `'city'`;\n* `'Day'` → `'day'`.",
      "metadata": {
        "deletable": false,
        "editable": false,
        "id": "zj5534cv_Zct",
        "tags": [
          "start_task"
        ]
      }
    },
    {
      "cell_type": "code",
      "source": "df = df.rename(columns={'  userID':'user_id', 'Track':'track', '  City  ':'city', 'Day':'day'}) # переименование столбцов",
      "metadata": {
        "deletable": false,
        "id": "ISlFqs5y_Zct"
      },
      "execution_count": 11,
      "outputs": []
    },
    {
      "cell_type": "markdown",
      "source": "**Задание 8**\n\n\nПроверьте результат. Для этого ещё раз выведите на экран названия столбцов:",
      "metadata": {
        "deletable": false,
        "editable": false,
        "id": "1dqbh00J_Zct",
        "tags": [
          "start_task"
        ]
      }
    },
    {
      "cell_type": "code",
      "source": "df.columns # проверка результатов - перечень названий столбцов",
      "metadata": {
        "deletable": false,
        "id": "d4NOAmTW_Zct"
      },
      "execution_count": 12,
      "outputs": [
        {
          "execution_count": 12,
          "output_type": "execute_result",
          "data": {
            "text/plain": [
              "Index(['user_id', 'track', 'artist', 'genre', 'city', 'time', 'day'], dtype='object')"
            ]
          },
          "metadata": {}
        }
      ]
    },
    {
      "cell_type": "markdown",
      "source": "### Пропуски значений\n\n**Задание 9**\n\nСначала посчитайте, сколько в таблице пропущенных значений. Для этого достаточно двух методов `pandas`:",
      "metadata": {
        "deletable": false,
        "editable": false,
        "id": "5ISfbcfY_Zct",
        "tags": [
          "start_task"
        ]
      }
    },
    {
      "cell_type": "code",
      "source": "df.isna().sum() # подсчёт пропусков",
      "metadata": {
        "deletable": false,
        "id": "RskX29qr_Zct"
      },
      "execution_count": 13,
      "outputs": [
        {
          "execution_count": 13,
          "output_type": "execute_result",
          "data": {
            "text/plain": [
              "user_id       0\n",
              "track      1231\n",
              "artist     7203\n",
              "genre      1198\n",
              "city          0\n",
              "time          0\n",
              "day           0\n",
              "dtype: int64"
            ]
          },
          "metadata": {}
        }
      ]
    },
    {
      "cell_type": "markdown",
      "source": "Не все пропущенные значения влияют на исследование. Так в `track` и `artist` пропуски не важны для вашей работы. Достаточно заменить их явными обозначениями.\n\nНо пропуски в `genre` могут помешать сравнению музыкальных вкусов в Москве и Санкт-Петербурге. На практике было бы правильно установить причину пропусков и восстановить данные. Такой возможности нет в учебном проекте. Придётся:\n* заполнить и эти пропуски явными обозначениями;\n* оценить, насколько они повредят расчётам. ",
      "metadata": {
        "deletable": false,
        "editable": false,
        "id": "qubhgnlO_Zct"
      }
    },
    {
      "cell_type": "markdown",
      "source": "**Задание 10**\n\nЗамените пропущенные значения в столбцах `track`, `artist` и `genre` на строку `'unknown'`. Для этого создайте список `columns_to_replace`, переберите его элементы циклом `for` и для каждого столбца выполните замену пропущенных значений:",
      "metadata": {
        "deletable": false,
        "editable": false,
        "id": "fSv2laPA_Zct",
        "tags": [
          "start_task"
        ]
      }
    },
    {
      "cell_type": "code",
      "source": "columns_to_replace = ['track', 'artist', 'genre']\nfor col in columns_to_replace:\n    df[col] = df[col].fillna('unknown') # перебор названий столбцов в цикле и замена пропущенных значений на 'unknown'",
      "metadata": {
        "deletable": false,
        "id": "KplB5qWs_Zct"
      },
      "execution_count": 17,
      "outputs": []
    },
    {
      "cell_type": "markdown",
      "source": "**Задание 11**\n\nУбедитесь, что в таблице не осталось пропусков. Для этого ещё раз посчитайте пропущенные значения.",
      "metadata": {
        "deletable": false,
        "editable": false,
        "id": "Ilsm-MZo_Zct",
        "tags": [
          "start_task"
        ]
      }
    },
    {
      "cell_type": "code",
      "source": "df.isna().sum() # подсчёт пропусков",
      "metadata": {
        "deletable": false,
        "id": "Tq4nYRX4_Zct"
      },
      "execution_count": 18,
      "outputs": [
        {
          "execution_count": 18,
          "output_type": "execute_result",
          "data": {
            "text/plain": [
              "user_id    0\n",
              "track      0\n",
              "artist     0\n",
              "genre      0\n",
              "city       0\n",
              "time       0\n",
              "day        0\n",
              "dtype: int64"
            ]
          },
          "metadata": {}
        }
      ]
    },
    {
      "cell_type": "markdown",
      "source": "### Дубликаты\n\n**Задание 12**\n\nПосчитайте явные дубликаты в таблице одной командой:",
      "metadata": {
        "deletable": false,
        "editable": false,
        "id": "BWKRtBJ3_Zct",
        "tags": [
          "start_task"
        ]
      }
    },
    {
      "cell_type": "code",
      "source": "df.duplicated().sum() # подсчёт явных дубликатов",
      "metadata": {
        "deletable": false,
        "id": "36eES_S0_Zct"
      },
      "execution_count": 19,
      "outputs": [
        {
          "execution_count": 19,
          "output_type": "execute_result",
          "data": {
            "text/plain": [
              "3826"
            ]
          },
          "metadata": {}
        }
      ]
    },
    {
      "cell_type": "markdown",
      "source": "**Задание 13**\n\nВызовите специальный метод `pandas`, чтобы удалить явные дубликаты:",
      "metadata": {
        "deletable": false,
        "editable": false,
        "id": "Ot25h6XR_Zct",
        "tags": [
          "start_task"
        ]
      }
    },
    {
      "cell_type": "code",
      "source": "df = df.drop_duplicates() # удаление явных дубликатов",
      "metadata": {
        "deletable": false,
        "id": "exFHq6tt_Zct"
      },
      "execution_count": 20,
      "outputs": []
    },
    {
      "cell_type": "markdown",
      "source": "**Задание 14**\n\nЕщё раз посчитайте явные дубликаты в таблице — убедитесь, что полностью от них избавились:",
      "metadata": {
        "deletable": false,
        "editable": false,
        "id": "Im2YwBEG_Zct",
        "tags": [
          "start_task"
        ]
      }
    },
    {
      "cell_type": "code",
      "source": "df.duplicated().sum() # проверка на отсутствие дубликатов",
      "metadata": {
        "deletable": false,
        "id": "-8PuNWQ0_Zct"
      },
      "execution_count": 21,
      "outputs": [
        {
          "execution_count": 21,
          "output_type": "execute_result",
          "data": {
            "text/plain": [
              "0"
            ]
          },
          "metadata": {}
        }
      ]
    },
    {
      "cell_type": "markdown",
      "source": "Теперь избавьтесь от неявных дубликатов в колонке `genre`. Например, название одного и того же жанра может быть записано немного по-разному. Такие ошибки тоже повлияют на результат исследования.",
      "metadata": {
        "deletable": false,
        "editable": false,
        "id": "QlFBsxAr_Zct"
      }
    },
    {
      "cell_type": "markdown",
      "source": "**Задание 15**\n\nВыведите на экран список уникальных названий жанров, отсортированный в алфавитном порядке. Для этого:\n1. извлеките нужный столбец датафрейма; \n2. примените к нему метод сортировки;\n3. для отсортированного столбца вызовите метод, который вернёт уникальные значения из столбца.",
      "metadata": {
        "deletable": false,
        "editable": false,
        "id": "eSjWwsOh_Zct",
        "tags": [
          "start_task"
        ]
      }
    },
    {
      "cell_type": "code",
      "source": "df_sort = df['genre'].sort_values()\ndf_sort = df_sort.unique()\nprint(df_sort) # Просмотр уникальных названий жанров",
      "metadata": {
        "deletable": false,
        "id": "JIUcqzZN_Zct"
      },
      "execution_count": 28,
      "outputs": [
        {
          "name": "stdout",
          "output_type": "stream",
          "text": "['acid' 'acoustic' 'action' 'adult' 'africa' 'afrikaans' 'alternative'\n\n 'alternativepunk' 'ambient' 'americana' 'animated' 'anime' 'arabesk'\n\n 'arabic' 'arena' 'argentinetango' 'art' 'audiobook' 'author' 'avantgarde'\n\n 'axé' 'baile' 'balkan' 'beats' 'bigroom' 'black' 'bluegrass' 'blues'\n\n 'bollywood' 'bossa' 'brazilian' 'breakbeat' 'breaks' 'broadway'\n\n 'cantautori' 'cantopop' 'canzone' 'caribbean' 'caucasian' 'celtic'\n\n 'chamber' 'chanson' 'children' 'chill' 'chinese' 'choral' 'christian'\n\n 'christmas' 'classical' 'classicmetal' 'club' 'colombian' 'comedy'\n\n 'conjazz' 'contemporary' 'country' 'cuban' 'dance' 'dancehall' 'dancepop'\n\n 'dark' 'death' 'deep' 'deutschrock' 'deutschspr' 'dirty' 'disco' 'dnb'\n\n 'documentary' 'downbeat' 'downtempo' 'drum' 'dub' 'dubstep' 'eastern'\n\n 'easy' 'electronic' 'electropop' 'emo' 'entehno' 'epicmetal' 'estrada'\n\n 'ethnic' 'eurofolk' 'european' 'experimental' 'extrememetal' 'fado'\n\n 'fairytail' 'film' 'fitness' 'flamenco' 'folk' 'folklore' 'folkmetal'\n\n 'folkrock' 'folktronica' 'forró' 'frankreich' 'französisch' 'french'\n\n 'funk' 'future' 'gangsta' 'garage' 'german' 'ghazal' 'gitarre' 'glitch'\n\n 'gospel' 'gothic' 'grime' 'grunge' 'gypsy' 'handsup' \"hard'n'heavy\"\n\n 'hardcore' 'hardstyle' 'hardtechno' 'hip' 'hip-hop' 'hiphop' 'historisch'\n\n 'holiday' 'hop' 'horror' 'house' 'hymn' 'idm' 'independent' 'indian'\n\n 'indie' 'indipop' 'industrial' 'inspirational' 'instrumental'\n\n 'international' 'irish' 'jam' 'japanese' 'jazz' 'jewish' 'jpop' 'jungle'\n\n 'k-pop' 'karadeniz' 'karaoke' 'kayokyoku' 'korean' 'laiko' 'latin'\n\n 'latino' 'leftfield' 'local' 'lounge' 'loungeelectronic' 'lovers'\n\n 'malaysian' 'mandopop' 'marschmusik' 'meditative' 'mediterranean'\n\n 'melodic' 'metal' 'metalcore' 'mexican' 'middle' 'minimal'\n\n 'miscellaneous' 'modern' 'mood' 'mpb' 'muslim' 'native' 'neoklassik'\n\n 'neue' 'new' 'newage' 'newwave' 'nu' 'nujazz' 'numetal' 'oceania' 'old'\n\n 'opera' 'orchestral' 'other' 'piano' 'podcasts' 'pop' 'popdance'\n\n 'popelectronic' 'popeurodance' 'poprussian' 'post' 'posthardcore'\n\n 'postrock' 'power' 'progmetal' 'progressive' 'psychedelic' 'punjabi'\n\n 'punk' 'quebecois' 'ragga' 'ram' 'rancheras' 'rap' 'rave' 'reggae'\n\n 'reggaeton' 'regional' 'relax' 'religious' 'retro' 'rhythm' 'rnb' 'rnr'\n\n 'rock' 'rockabilly' 'rockalternative' 'rockindie' 'rockother' 'romance'\n\n 'roots' 'ruspop' 'rusrap' 'rusrock' 'russian' 'salsa' 'samba' 'scenic'\n\n 'schlager' 'self' 'sertanejo' 'shanson' 'shoegazing' 'showtunes' 'singer'\n\n 'ska' 'skarock' 'slow' 'smooth' 'soft' 'soul' 'soulful' 'sound'\n\n 'soundtrack' 'southern' 'specialty' 'speech' 'spiritual' 'sport'\n\n 'stonerrock' 'surf' 'swing' 'synthpop' 'synthrock' 'sängerportrait'\n\n 'tango' 'tanzorchester' 'taraftar' 'tatar' 'tech' 'techno' 'teen'\n\n 'thrash' 'top' 'traditional' 'tradjazz' 'trance' 'tribal' 'trip'\n\n 'triphop' 'tropical' 'türk' 'türkçe' 'ukrrock' 'unknown' 'urban' 'uzbek'\n\n 'variété' 'vi' 'videogame' 'vocal' 'western' 'world' 'worldbeat' 'ïîï'\n\n 'электроника']\n"
        }
      ]
    },
    {
      "cell_type": "markdown",
      "source": "**Задание 16**\n\nПросмотрите список и найдите неявные дубликаты названия `hiphop`. Это могут быть названия с ошибками или альтернативные названия того же жанра.\n\nВы увидите следующие неявные дубликаты:\n* *hip*,\n* *hop*,\n* *hip-hop*.\n\nЧтобы очистить от них таблицу используйте метод `replace()` с двумя аргументами: списком строк-дубликатов (включащий *hip*, *hop* и *hip-hop*) и строкой с правильным значением. Вам нужно исправить колонку `genre` в таблице `df`: заменить каждое значение из списка дубликатов на верное. Вместо `hip`, `hop` и `hip-hop` в таблице должно быть значение `hiphop`:",
      "metadata": {
        "deletable": false,
        "editable": false,
        "id": "qej-Qmuo_Zct",
        "tags": [
          "start_task"
        ]
      }
    },
    {
      "cell_type": "code",
      "source": "duplicates = ['hip', 'hop', 'hip-hop']\nname = 'hiphop'\n\ndf['genre'] = df['genre'].replace(duplicates, name) # Устранение неявных дубликатов",
      "metadata": {
        "deletable": false,
        "id": "ErNDkmns_Zct"
      },
      "execution_count": 34,
      "outputs": []
    },
    {
      "cell_type": "markdown",
      "source": "**Задание 17**\n\nПроверьте, что заменили неправильные названия:\n\n*   hip,\n*   hop,\n*   hip-hop.\n\nВыведите отсортированный список уникальных значений столбца `genre`:",
      "metadata": {
        "deletable": false,
        "editable": false,
        "id": "zQKF16_RG15m",
        "tags": [
          "start_task"
        ]
      }
    },
    {
      "cell_type": "code",
      "source": "print(df['genre'].sort_values().unique()) # Проверка на неявные дубликаты",
      "metadata": {
        "deletable": false,
        "id": "wvixALnFG15m"
      },
      "execution_count": 37,
      "outputs": [
        {
          "name": "stdout",
          "output_type": "stream",
          "text": "['acid' 'acoustic' 'action' 'adult' 'africa' 'afrikaans' 'alternative'\n\n 'alternativepunk' 'ambient' 'americana' 'animated' 'anime' 'arabesk'\n\n 'arabic' 'arena' 'argentinetango' 'art' 'audiobook' 'author' 'avantgarde'\n\n 'axé' 'baile' 'balkan' 'beats' 'bigroom' 'black' 'bluegrass' 'blues'\n\n 'bollywood' 'bossa' 'brazilian' 'breakbeat' 'breaks' 'broadway'\n\n 'cantautori' 'cantopop' 'canzone' 'caribbean' 'caucasian' 'celtic'\n\n 'chamber' 'chanson' 'children' 'chill' 'chinese' 'choral' 'christian'\n\n 'christmas' 'classical' 'classicmetal' 'club' 'colombian' 'comedy'\n\n 'conjazz' 'contemporary' 'country' 'cuban' 'dance' 'dancehall' 'dancepop'\n\n 'dark' 'death' 'deep' 'deutschrock' 'deutschspr' 'dirty' 'disco' 'dnb'\n\n 'documentary' 'downbeat' 'downtempo' 'drum' 'dub' 'dubstep' 'eastern'\n\n 'easy' 'electronic' 'electropop' 'emo' 'entehno' 'epicmetal' 'estrada'\n\n 'ethnic' 'eurofolk' 'european' 'experimental' 'extrememetal' 'fado'\n\n 'fairytail' 'film' 'fitness' 'flamenco' 'folk' 'folklore' 'folkmetal'\n\n 'folkrock' 'folktronica' 'forró' 'frankreich' 'französisch' 'french'\n\n 'funk' 'future' 'gangsta' 'garage' 'german' 'ghazal' 'gitarre' 'glitch'\n\n 'gospel' 'gothic' 'grime' 'grunge' 'gypsy' 'handsup' \"hard'n'heavy\"\n\n 'hardcore' 'hardstyle' 'hardtechno' 'hiphop' 'historisch' 'holiday'\n\n 'horror' 'house' 'hymn' 'idm' 'independent' 'indian' 'indie' 'indipop'\n\n 'industrial' 'inspirational' 'instrumental' 'international' 'irish' 'jam'\n\n 'japanese' 'jazz' 'jewish' 'jpop' 'jungle' 'k-pop' 'karadeniz' 'karaoke'\n\n 'kayokyoku' 'korean' 'laiko' 'latin' 'latino' 'leftfield' 'local'\n\n 'lounge' 'loungeelectronic' 'lovers' 'malaysian' 'mandopop' 'marschmusik'\n\n 'meditative' 'mediterranean' 'melodic' 'metal' 'metalcore' 'mexican'\n\n 'middle' 'minimal' 'miscellaneous' 'modern' 'mood' 'mpb' 'muslim'\n\n 'native' 'neoklassik' 'neue' 'new' 'newage' 'newwave' 'nu' 'nujazz'\n\n 'numetal' 'oceania' 'old' 'opera' 'orchestral' 'other' 'piano' 'podcasts'\n\n 'pop' 'popdance' 'popelectronic' 'popeurodance' 'poprussian' 'post'\n\n 'posthardcore' 'postrock' 'power' 'progmetal' 'progressive' 'psychedelic'\n\n 'punjabi' 'punk' 'quebecois' 'ragga' 'ram' 'rancheras' 'rap' 'rave'\n\n 'reggae' 'reggaeton' 'regional' 'relax' 'religious' 'retro' 'rhythm'\n\n 'rnb' 'rnr' 'rock' 'rockabilly' 'rockalternative' 'rockindie' 'rockother'\n\n 'romance' 'roots' 'ruspop' 'rusrap' 'rusrock' 'russian' 'salsa' 'samba'\n\n 'scenic' 'schlager' 'self' 'sertanejo' 'shanson' 'shoegazing' 'showtunes'\n\n 'singer' 'ska' 'skarock' 'slow' 'smooth' 'soft' 'soul' 'soulful' 'sound'\n\n 'soundtrack' 'southern' 'specialty' 'speech' 'spiritual' 'sport'\n\n 'stonerrock' 'surf' 'swing' 'synthpop' 'synthrock' 'sängerportrait'\n\n 'tango' 'tanzorchester' 'taraftar' 'tatar' 'tech' 'techno' 'teen'\n\n 'thrash' 'top' 'traditional' 'tradjazz' 'trance' 'tribal' 'trip'\n\n 'triphop' 'tropical' 'türk' 'türkçe' 'ukrrock' 'unknown' 'urban' 'uzbek'\n\n 'variété' 'vi' 'videogame' 'vocal' 'western' 'world' 'worldbeat' 'ïîï'\n\n 'электроника']\n"
        }
      ]
    },
    {
      "cell_type": "markdown",
      "source": "**Выводы**\n\nПредобработка обнаружила три проблемы в данных:\n\n- нарушения в стиле заголовков,\n- пропущенные значения,\n- дубликаты — явные и неявные.\n\nВы исправили заголовки, чтобы упростить работу с таблицей. Без дубликатов исследование станет более точным.\n\nПропущенные значения вы заменили на `'unknown'`. Ещё предстоит увидеть, не повредят ли исследованию пропуски в колонке `genre`.\n\nТеперь можно перейти к проверке гипотез. ",
      "metadata": {
        "deletable": false,
        "editable": false,
        "id": "jz6a9-7HQUDd"
      }
    },
    {
      "cell_type": "markdown",
      "source": "## Проверка гипотез",
      "metadata": {
        "deletable": false,
        "editable": false,
        "id": "WttZHXH0SqKk"
      }
    },
    {
      "cell_type": "markdown",
      "source": "### Сравнение поведения пользователей двух столиц",
      "metadata": {
        "deletable": false,
        "editable": false,
        "id": "Im936VVi_Zcu"
      }
    },
    {
      "cell_type": "markdown",
      "source": "Первая гипотеза утверждает, что пользователи по-разному слушают музыку в Москве и Санкт-Петербурге. Проверьте это предположение по данным о трёх днях недели — понедельнике, среде и пятнице. Для этого:\n\n* Разделите пользователей Москвы и Санкт-Петербурга.\n* Сравните, сколько треков послушала каждая группа пользователей в понедельник, среду и пятницу.\n",
      "metadata": {
        "deletable": false,
        "editable": false,
        "id": "nwt_MuaL_Zcu"
      }
    },
    {
      "cell_type": "markdown",
      "source": "**Задание 18**\n\nДля тренировки сначала выполните каждый из расчётов по отдельности. \n\nОцените активность пользователей в каждом городе. Сгруппируйте данные по городу и посчитайте прослушивания в каждой группе.\n\n",
      "metadata": {
        "deletable": false,
        "editable": false,
        "id": "8Dw_YMmT_Zcu",
        "tags": [
          "start_task"
        ]
      }
    },
    {
      "cell_type": "code",
      "source": "df.groupby('city')['user_id'].count() # Подсчёт прослушиваний в каждом городе",
      "metadata": {
        "deletable": false,
        "id": "0_Qs96oh_Zcu"
      },
      "execution_count": 39,
      "outputs": [
        {
          "execution_count": 39,
          "output_type": "execute_result",
          "data": {
            "text/plain": [
              "city\n",
              "Moscow              42741\n",
              "Saint-Petersburg    18512\n",
              "Name: user_id, dtype: int64"
            ]
          },
          "metadata": {}
        }
      ]
    },
    {
      "cell_type": "markdown",
      "source": "В Москве прослушиваний больше, чем в Петербурге. Из этого не следует, что московские пользователи чаще слушают музыку. Просто самих пользователей в Москве больше.\n\n**Задание 19**\n\nТеперь сгруппируйте данные по дню недели и посчитайте прослушивания в понедельник, среду и пятницу. Учтите, что в данных есть информация о прослушиваниях только за эти дни.\n",
      "metadata": {
        "deletable": false,
        "editable": false,
        "id": "dzli3w8o_Zcu",
        "tags": [
          "start_task"
        ]
      }
    },
    {
      "cell_type": "code",
      "source": "df.groupby('day')['user_id'].count() # Подсчёт прослушиваний в каждый из трёх дней",
      "metadata": {
        "deletable": false,
        "id": "uZMKjiJz_Zcu"
      },
      "execution_count": 42,
      "outputs": [
        {
          "execution_count": 42,
          "output_type": "execute_result",
          "data": {
            "text/plain": [
              "day\n",
              "Friday       21840\n",
              "Monday       21354\n",
              "Wednesday    18059\n",
              "Name: user_id, dtype: int64"
            ]
          },
          "metadata": {}
        }
      ]
    },
    {
      "cell_type": "markdown",
      "source": "В среднем пользователи из двух городов менее активны по средам. Но картина может измениться, если рассмотреть каждый город в отдельности.",
      "metadata": {
        "deletable": false,
        "editable": false,
        "id": "cC2tNrlL_Zcu"
      }
    },
    {
      "cell_type": "markdown",
      "source": "**Задание 20**\n\n\nВы видели, как работает группировка по городу и по дням недели. Теперь напишите функцию, которая объединит два эти расчёта.\n\nСоздайте функцию `number_tracks()`, которая посчитает прослушивания для заданного дня и города. Ей понадобятся два параметра:\n* день недели,\n* название города.\n\nВ функции сохраните в переменную строки исходной таблицы, у которых значение:\n  * в колонке `day` равно параметру `day`,\n  * в колонке `city` равно параметру `city`.\n\nДля этого примените последовательную фильтрацию с логической индексацией (или сложные логические выражения в одну строку, если вы уже знакомы с ними).\n\nЗатем посчитайте значения в столбце `user_id` получившейся таблицы. Результат сохраните в новую переменную. Верните эту переменную из функции.",
      "metadata": {
        "deletable": false,
        "editable": false,
        "id": "POzs8bGa_Zcu",
        "tags": [
          "start_task"
        ]
      }
    },
    {
      "cell_type": "code",
      "source": "# <создание функции number_tracks()>\ndef number_tracks(day, city): # Объявляется функция с двумя параметрами: day, city.\n    track_list = df[(df['day'] == day)&(df['city'] == city)]\n    track_list_count = track_list['user_id'].count() \n    return track_list_count \n# В переменной track_list сохраняются те строки таблицы df, для которых \n# значение в столбце 'day' равно параметру day и одновременно значение\n# в столбце 'city' равно параметру city (используйте последовательную фильтрацию\n# с помощью логической индексации или сложные логические выражения в одну строку, если вы уже знакомы с ними).\n# В переменной track_list_count сохраняется число значений столбца 'user_id',\n# рассчитанное методом count() для таблицы track_list.\n# Функция возвращает число - значение track_list_count.\n\n # Функция для подсчёта прослушиваний для конкретного города и дня.\n# С помощью последовательной фильтрации с логической индексацией она \n# сначала получит из исходной таблицы строки с нужным днём,\n# затем из результата отфильтрует строки с нужным городом,\n# методом count() посчитает количество значений в колонке user_id. \n# Это количество функция вернёт в качестве результата",
      "metadata": {
        "deletable": false,
        "id": "Nz3GdQB1_Zcu"
      },
      "execution_count": 43,
      "outputs": []
    },
    {
      "cell_type": "markdown",
      "source": "**Задание 21**\n\nВызовите `number_tracks()` шесть раз, меняя значение параметров — так, чтобы получить данные для каждого города в каждый из трёх дней.",
      "metadata": {
        "deletable": false,
        "editable": false,
        "id": "ytf7xFrFJQ2r",
        "tags": [
          "start_task"
        ]
      }
    },
    {
      "cell_type": "code",
      "source": "number_tracks('Monday', 'Moscow') # количество прослушиваний в Москве по понедельникам",
      "metadata": {
        "deletable": false,
        "id": "rJcRATNQ_Zcu"
      },
      "execution_count": 44,
      "outputs": [
        {
          "execution_count": 44,
          "output_type": "execute_result",
          "data": {
            "text/plain": [
              "15740"
            ]
          },
          "metadata": {}
        }
      ]
    },
    {
      "cell_type": "code",
      "source": "number_tracks('Monday', 'Saint-Petersburg') # количество прослушиваний в Санкт-Петербурге по понедельникам",
      "metadata": {
        "deletable": false,
        "id": "hq_ncZ5T_Zcu"
      },
      "execution_count": 52,
      "outputs": [
        {
          "execution_count": 52,
          "output_type": "execute_result",
          "data": {
            "text/plain": [
              "5614"
            ]
          },
          "metadata": {}
        }
      ]
    },
    {
      "cell_type": "code",
      "source": "number_tracks('Wednesday', 'Moscow') # количество прослушиваний в Москве по средам",
      "metadata": {
        "deletable": false,
        "id": "_NTy2VPU_Zcu"
      },
      "execution_count": 53,
      "outputs": [
        {
          "execution_count": 53,
          "output_type": "execute_result",
          "data": {
            "text/plain": [
              "11056"
            ]
          },
          "metadata": {}
        }
      ]
    },
    {
      "cell_type": "code",
      "source": "number_tracks('Wednesday', 'Saint-Petersburg') # количество прослушиваний в Санкт-Петербурге по средам",
      "metadata": {
        "deletable": false,
        "id": "j2y3TAwo_Zcu"
      },
      "execution_count": 54,
      "outputs": [
        {
          "execution_count": 54,
          "output_type": "execute_result",
          "data": {
            "text/plain": [
              "7003"
            ]
          },
          "metadata": {}
        }
      ]
    },
    {
      "cell_type": "code",
      "source": "number_tracks('Friday', 'Moscow') # количество прослушиваний в Москве по пятницам",
      "metadata": {
        "deletable": false,
        "id": "vYDw5u_K_Zcu"
      },
      "execution_count": 55,
      "outputs": [
        {
          "execution_count": 55,
          "output_type": "execute_result",
          "data": {
            "text/plain": [
              "15945"
            ]
          },
          "metadata": {}
        }
      ]
    },
    {
      "cell_type": "code",
      "source": "number_tracks('Friday', 'Saint-Petersburg')# количество прослушиваний в Санкт-Петербурге по пятницам",
      "metadata": {
        "deletable": false,
        "id": "8_yzFtW3_Zcu"
      },
      "execution_count": 56,
      "outputs": [
        {
          "execution_count": 56,
          "output_type": "execute_result",
          "data": {
            "text/plain": [
              "5895"
            ]
          },
          "metadata": {}
        }
      ]
    },
    {
      "cell_type": "markdown",
      "source": "**Задание 22**\n\nСоздайте c помощью конструктора `pd.DataFrame` таблицу, где\n* названия колонок — `['city', 'monday', 'wednesday', 'friday']`;\n* данные — результаты, которые вы получили с помощью `number_tracks`.",
      "metadata": {
        "deletable": false,
        "editable": false,
        "id": "7QXffbO-_Zcu",
        "tags": [
          "start_task"
        ]
      }
    },
    {
      "cell_type": "code",
      "source": "data = [\n    ['Moscow', 15740, 11056, 15945],\n    ['Saint-Petersburg', 5614, 7003, 5895]\n]\ncolumns = ['city', 'monday', 'wednesday', 'friday']\ntable = pd.DataFrame(data = data, columns = columns) # Таблица с результатами",
      "metadata": {
        "deletable": false,
        "id": "APAcLpOr_Zcu"
      },
      "execution_count": 61,
      "outputs": []
    },
    {
      "cell_type": "markdown",
      "source": "**Выводы**\n\nДанные показывают разницу поведения пользователей:\n\n- В Москве пик прослушиваний приходится на понедельник и пятницу, а в среду заметен спад.\n- В Петербурге, наоборот, больше слушают музыку по средам. Активность в понедельник и пятницу здесь почти в равной мере уступает среде.\n\nЗначит, данные говорят в пользу первой гипотезы.",
      "metadata": {
        "deletable": false,
        "editable": false,
        "id": "-EgPIHYu_Zcu"
      }
    },
    {
      "cell_type": "markdown",
      "source": "### Музыка в начале и в конце недели",
      "metadata": {
        "deletable": false,
        "editable": false,
        "id": "atZAxtq4_Zcu"
      }
    },
    {
      "cell_type": "markdown",
      "source": "Согласно второй гипотезе, утром в понедельник в Москве преобладают одни жанры, а в Петербурге — другие. Так же и вечером пятницы преобладают разные жанры — в зависимости от города.",
      "metadata": {
        "deletable": false,
        "editable": false,
        "id": "eXrQqXFH_Zcu"
      }
    },
    {
      "cell_type": "markdown",
      "source": "**Задание 23**\n\nСохраните таблицы с данными в две переменные:\n* по Москве — в `moscow_general`;\n* по Санкт-Петербургу — в `spb_general`.",
      "metadata": {
        "deletable": false,
        "editable": false,
        "id": "S8UcW6Hw_Zcu",
        "tags": [
          "start_task"
        ]
      }
    },
    {
      "cell_type": "code",
      "source": "moscow_general = df[df['city'] == 'Moscow'] # получение таблицы moscow_general из тех строк таблицы df, \n# для которых значение в столбце 'city' равно 'Moscow'\n",
      "metadata": {
        "deletable": false,
        "id": "qeaFfM_P_Zcu"
      },
      "execution_count": 59,
      "outputs": []
    },
    {
      "cell_type": "code",
      "source": "spb_general = df[df['city'] == 'Saint-Petersburg'] # получение таблицы spb_general из тех строк таблицы df,\n# для которых значение в столбце 'city' равно 'Saint-Petersburg'\n",
      "metadata": {
        "deletable": false,
        "id": "ORaVRKto_Zcu"
      },
      "execution_count": 60,
      "outputs": []
    },
    {
      "cell_type": "markdown",
      "source": "**Задание 24**\n\nСоздайте функцию `genre_weekday()` с четырьмя параметрами:\n* таблица (датафрейм) с данными,\n* день недели,\n* начальная временная метка в формате 'hh:mm', \n* последняя временная метка в формате 'hh:mm'.\n\nФункция должна вернуть информацию о топ-10 жанров тех треков, которые прослушивали в указанный день, в промежутке между двумя отметками времени.",
      "metadata": {
        "deletable": false,
        "editable": false,
        "id": "MEJV-CX2_Zcu",
        "tags": [
          "start_task"
        ]
      }
    },
    {
      "cell_type": "code",
      "source": "# Объявление функции genre_weekday() с параметрами table, day, time1, time2,\n# которая возвращает информацию о самых популярных жанрах в указанный день в\n# заданное время:\n# 1) в переменную genre_df сохраняются те строки переданного датафрейма table, для\n#    которых одновременно:\n#    - значение в столбце day равно значению аргумента day\n#    - значение в столбце time больше значения аргумента time1\n#    - значение в столбце time меньше значения аргумента time2\n#    Используйте последовательную фильтрацию с помощью логической индексации.\n# 2) сгруппировать датафрейм genre_df по столбцу genre, взять один из его\n#    столбцов и посчитать методом count() количество записей для каждого из\n#    присутствующих жанров, получившийся Series записать в переменную\n#    genre_df_count\n# 3) отсортировать genre_df_count по убыванию встречаемости и сохранить\n#    в переменную genre_df_sorted\n# 4) вернуть Series из 10 первых значений genre_df_sorted, это будут топ-10\n#    популярных жанров (в указанный день, в заданное время)\n\ndef genre_weekday(df, day, time1, time2):\n    # последовательная фильтрация\n    # оставляем в genre_df только те строки df, у которых день равен day\n    genre_df = df[(df['day'] == day)&(df['time'] < time2)&(df['time'] > time1)]\n    genre_df_grouped = genre_df.groupby('genre')['genre'].count() # ваш код здесь\n    genre_df_sorted = genre_df_grouped.sort_values(ascending=False)# оставляем в genre_df только те строки genre_df, у которых время меньше time2\n    return genre_df_sorted[:10] # ваш код здесь\n    # оставляем в genre_df только те строки genre_df, у которых время больше time1\n    # ваш код здесь\n    # сгруппируем отфильтрованный датафрейм по столбцу с названиями жанров, возьмём столбец genre и посчитаем кол-во строк для каждого жанра методом count()\n    # ваш код здесь\n    # отсортируем результат по убыванию (чтобы в начале Series оказались самые популярные жанры)\n    # ваш код здесь\n    # вернём Series с 10 самыми популярными жанрами в указанный отрезок времени заданного дня",
      "metadata": {
        "deletable": false,
        "id": "laJT9BYl_Zcu"
      },
      "execution_count": 68,
      "outputs": []
    },
    {
      "cell_type": "markdown",
      "source": "**Задание 25**\n\n\nCравните результаты функции `genre_weekday()` для Москвы и Санкт-Петербурга в понедельник утром (с 7:00 до 11:00) и в пятницу вечером (с 17:00 до 23:00):",
      "metadata": {
        "deletable": false,
        "editable": false,
        "id": "la2s2_PF_Zcu",
        "tags": [
          "start_task"
        ]
      }
    },
    {
      "cell_type": "code",
      "source": "genre_weekday(moscow_general, 'Monday', '07:00', '11:00') # вызов функции для утра понедельника в Москве (вместо df — таблица moscow_general)\n# объекты, хранящие время, являются строками и сравниваются как строки\n# пример вызова: genre_weekday(moscow_general, 'Monday', '07:00', '11:00')",
      "metadata": {
        "deletable": false,
        "id": "yz7itPUQ_Zcu"
      },
      "execution_count": 70,
      "outputs": [
        {
          "execution_count": 70,
          "output_type": "execute_result",
          "data": {
            "text/plain": [
              "genre\n",
              "pop            781\n",
              "dance          549\n",
              "electronic     480\n",
              "rock           474\n",
              "hiphop         286\n",
              "ruspop         186\n",
              "world          181\n",
              "rusrap         175\n",
              "alternative    164\n",
              "unknown        161\n",
              "Name: genre, dtype: int64"
            ]
          },
          "metadata": {}
        }
      ]
    },
    {
      "cell_type": "code",
      "source": "genre_weekday(spb_general, 'Monday', '07:00', '11:00') # вызов функции для утра понедельника в Петербурге (вместо df — таблица spb_general)",
      "metadata": {
        "deletable": false,
        "id": "kwUcHPdy_Zcu"
      },
      "execution_count": 71,
      "outputs": [
        {
          "execution_count": 71,
          "output_type": "execute_result",
          "data": {
            "text/plain": [
              "genre\n",
              "pop            218\n",
              "dance          182\n",
              "rock           162\n",
              "electronic     147\n",
              "hiphop          80\n",
              "ruspop          64\n",
              "alternative     58\n",
              "rusrap          55\n",
              "jazz            44\n",
              "classical       40\n",
              "Name: genre, dtype: int64"
            ]
          },
          "metadata": {}
        }
      ]
    },
    {
      "cell_type": "code",
      "source": "genre_weekday(moscow_general, 'Friday', '17:00', '23:00') # вызов функции для вечера пятницы в Москве",
      "metadata": {
        "deletable": false,
        "id": "EzXVRE1o_Zcu"
      },
      "execution_count": 72,
      "outputs": [
        {
          "execution_count": 72,
          "output_type": "execute_result",
          "data": {
            "text/plain": [
              "genre\n",
              "pop            713\n",
              "rock           517\n",
              "dance          495\n",
              "electronic     482\n",
              "hiphop         273\n",
              "world          208\n",
              "ruspop         170\n",
              "alternative    163\n",
              "classical      163\n",
              "rusrap         142\n",
              "Name: genre, dtype: int64"
            ]
          },
          "metadata": {}
        }
      ]
    },
    {
      "cell_type": "code",
      "source": "genre_weekday(spb_general, 'Friday', '17:00', '23:00') # вызов функции для вечера пятницы в Петербурге",
      "metadata": {
        "deletable": false,
        "id": "JZaEKu5v_Zcu"
      },
      "execution_count": 73,
      "outputs": [
        {
          "execution_count": 73,
          "output_type": "execute_result",
          "data": {
            "text/plain": [
              "genre\n",
              "pop            256\n",
              "electronic     216\n",
              "rock           216\n",
              "dance          210\n",
              "hiphop          97\n",
              "alternative     63\n",
              "jazz            61\n",
              "classical       60\n",
              "rusrap          59\n",
              "world           54\n",
              "Name: genre, dtype: int64"
            ]
          },
          "metadata": {}
        }
      ]
    },
    {
      "cell_type": "markdown",
      "source": "**Выводы**\n\nЕсли сравнить топ-10 жанров в понедельник утром, можно сделать такие выводы:\n\n1. В Москве и Петербурге слушают похожую музыку. Единственное отличие — в московский рейтинг вошёл жанр “world”, а в петербургский — джаз и классика.\n\n2. В Москве пропущенных значений оказалось так много, что значение `'unknown'` заняло десятое место среди самых популярных жанров. Значит, пропущенные значения занимают существенную долю в данных и угрожают достоверности исследования.\n\nВечер пятницы не меняет эту картину. Некоторые жанры поднимаются немного выше, другие спускаются, но в целом топ-10 остаётся тем же самым.\n\nТаким образом, вторая гипотеза подтвердилась лишь частично:\n* Пользователи слушают похожую музыку в начале недели и в конце.\n* Разница между Москвой и Петербургом не слишком выражена. В Москве чаще слушают русскую популярную музыку, в Петербурге — джаз.\n\nОднако пропуски в данных ставят под сомнение этот результат. В Москве их так много, что рейтинг топ-10 мог бы выглядеть иначе, если бы не утерянные  данные о жанрах.",
      "metadata": {
        "deletable": false,
        "editable": false,
        "id": "wrCe4MNX_Zcu"
      }
    },
    {
      "cell_type": "markdown",
      "source": "### Жанровые предпочтения в Москве и Петербурге\n\nГипотеза: Петербург — столица рэпа, музыку этого жанра там слушают чаще, чем в Москве.  А Москва — город контрастов, в котором, тем не менее, преобладает поп-музыка.",
      "metadata": {
        "deletable": false,
        "editable": false,
        "id": "JolODAqr_Zcu"
      }
    },
    {
      "cell_type": "markdown",
      "source": "**Задание 26**\n\nСгруппируйте таблицу `moscow_general` по жанру и посчитайте прослушивания треков каждого жанра методом `count()`. Затем отсортируйте результат в порядке убывания и сохраните его в таблице `moscow_genres`.",
      "metadata": {
        "deletable": false,
        "editable": false,
        "id": "DlegSvaT_Zcu",
        "tags": [
          "start_task"
        ]
      }
    },
    {
      "cell_type": "code",
      "source": "moscow_genres = moscow_general.groupby('genre')['genre'].count().sort_values(ascending=False) # одной строкой: группировка таблицы moscow_general по столбцу 'genre', \n# подсчёт числа значений 'genre' в этой группировке методом count(), \n# сортировка получившегося Series в порядке убывания и сохранение в moscow_genres",
      "metadata": {
        "deletable": false,
        "id": "r19lIPke_Zcu"
      },
      "execution_count": 74,
      "outputs": []
    },
    {
      "cell_type": "markdown",
      "source": "**Задание 27**\n\nВыведите на экран первые десять строк `moscow_genres`:",
      "metadata": {
        "deletable": false,
        "editable": false,
        "id": "6kMuomxTiIr8",
        "tags": [
          "start_task"
        ]
      }
    },
    {
      "cell_type": "code",
      "source": "moscow_genres.head(10) # просмотр первых 10 строк moscow_genres",
      "metadata": {
        "deletable": false,
        "id": "WhCSooF8_Zcv"
      },
      "execution_count": 75,
      "outputs": [
        {
          "execution_count": 75,
          "output_type": "execute_result",
          "data": {
            "text/plain": [
              "genre\n",
              "pop            5892\n",
              "dance          4435\n",
              "rock           3965\n",
              "electronic     3786\n",
              "hiphop         2096\n",
              "classical      1616\n",
              "world          1432\n",
              "alternative    1379\n",
              "ruspop         1372\n",
              "rusrap         1161\n",
              "Name: genre, dtype: int64"
            ]
          },
          "metadata": {}
        }
      ]
    },
    {
      "cell_type": "markdown",
      "source": "**Задание 28**\n\n\nТеперь повторите то же и для Петербурга.\n\nСгруппируйте таблицу `spb_general` по жанру. Посчитайте прослушивания треков каждого жанра. Результат отсортируйте в порядке убывания и сохраните в таблице `spb_genres`:\n",
      "metadata": {
        "deletable": false,
        "editable": false,
        "id": "cnPG2vnN_Zcv",
        "tags": [
          "start_task"
        ]
      }
    },
    {
      "cell_type": "code",
      "source": "spb_genres = spb_general.groupby('genre')['genre'].count().sort_values(ascending=False) # одной строкой: группировка таблицы spb_general по столбцу 'genre', \n# подсчёт числа значений 'genre' в этой группировке методом count(), \n# сортировка получившегося Series в порядке убывания и сохранение в spb_genres",
      "metadata": {
        "deletable": false,
        "id": "gluLIpE7_Zcv"
      },
      "execution_count": 76,
      "outputs": []
    },
    {
      "cell_type": "markdown",
      "source": "**Задание 29**\n\nВыведите на экран первые десять строк `spb_genres`:",
      "metadata": {
        "deletable": false,
        "editable": false,
        "id": "5Doha_ODgyQ8",
        "tags": [
          "start_task"
        ]
      }
    },
    {
      "cell_type": "code",
      "source": "spb_genres.head(10) # просмотр первых 10 строк spb_genres",
      "metadata": {
        "deletable": false,
        "id": "uaGJHjVU_Zcv"
      },
      "execution_count": 77,
      "outputs": [
        {
          "execution_count": 77,
          "output_type": "execute_result",
          "data": {
            "text/plain": [
              "genre\n",
              "pop            2431\n",
              "dance          1932\n",
              "rock           1879\n",
              "electronic     1736\n",
              "hiphop          960\n",
              "alternative     649\n",
              "classical       646\n",
              "rusrap          564\n",
              "ruspop          538\n",
              "world           515\n",
              "Name: genre, dtype: int64"
            ]
          },
          "metadata": {}
        }
      ]
    },
    {
      "cell_type": "markdown",
      "source": "**Выводы**",
      "metadata": {
        "deletable": false,
        "editable": false,
        "id": "RY51YJYu_Zcv"
      }
    },
    {
      "cell_type": "markdown",
      "source": "Гипотеза частично подтвердилась:\n* Поп-музыка — самый популярный жанр в Москве, как и предполагала гипотеза. Более того, в топ-10 жанров встречается близкий жанр — русская популярная музыка.\n* Вопреки ожиданиям, рэп одинаково популярен в Москве и Петербурге. \n",
      "metadata": {
        "deletable": false,
        "editable": false,
        "id": "nVhnJEm__Zcv"
      }
    },
    {
      "cell_type": "markdown",
      "source": "## Итоги исследования",
      "metadata": {
        "deletable": false,
        "editable": false,
        "id": "ykKQ0N65_Zcv"
      }
    },
    {
      "cell_type": "markdown",
      "source": "Вы проверили три гипотезы и установили:\n\n1. День недели по-разному влияет на активность пользователей в Москве и Петербурге. \n\nПервая гипотеза полностью подтвердилась.\n\n2. Музыкальные предпочтения не сильно меняются в течение недели — будь то Москва или Петербург. Небольшие различия заметны в начале недели, по понедельникам:\n* в Москве слушают музыку жанра “world”,\n* в Петербурге — джаз и классику.\n\nТаким образом, вторая гипотеза подтвердилась лишь отчасти. Этот результат мог оказаться иным, если бы не пропуски в данных.\n\n3. Во вкусах пользователей Москвы и Петербурга больше общего чем различий. Вопреки ожиданиям, предпочтения жанров в Петербурге напоминают московские.\n\nТретья гипотеза не подтвердилась. Если различия в предпочтениях и существуют, на основной массе пользователей они незаметны.\n\n**На практике исследования содержат проверки статистических гипотез.**\nИз данных одного сервиса не всегда можно сделать вывод о всех жителях города.\nПроверки статистических гипотез покажут, насколько они достоверны, исходя из имеющихся данных. \nС методами проверок гипотез вы ещё познакомитесь в следующих темах.",
      "metadata": {
        "deletable": false,
        "editable": false,
        "id": "tjUwbHb3_Zcv"
      }
    }
  ]
}