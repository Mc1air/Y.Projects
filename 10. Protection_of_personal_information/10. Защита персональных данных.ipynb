{
  "metadata": {
    "ExecuteTimeLog": [
      {
        "duration": 1880,
        "start_time": "2023-01-17T12:41:19.177Z"
      },
      {
        "duration": 126,
        "start_time": "2023-01-17T12:42:36.456Z"
      },
      {
        "duration": 14,
        "start_time": "2023-01-17T12:48:55.133Z"
      },
      {
        "duration": 13,
        "start_time": "2023-01-17T12:48:57.711Z"
      },
      {
        "duration": 34,
        "start_time": "2023-01-17T12:51:13.740Z"
      },
      {
        "duration": 8,
        "start_time": "2023-01-17T14:56:49.388Z"
      },
      {
        "duration": 6,
        "start_time": "2023-01-17T14:56:58.003Z"
      },
      {
        "duration": 7,
        "start_time": "2023-01-17T14:57:22.897Z"
      },
      {
        "duration": 1679,
        "start_time": "2023-01-18T11:57:31.957Z"
      },
      {
        "duration": 142,
        "start_time": "2023-01-18T11:57:33.639Z"
      },
      {
        "duration": 12,
        "start_time": "2023-01-18T11:57:35.360Z"
      },
      {
        "duration": 14,
        "start_time": "2023-01-18T11:57:35.976Z"
      },
      {
        "duration": 34,
        "start_time": "2023-01-18T11:57:36.882Z"
      },
      {
        "duration": 7,
        "start_time": "2023-01-18T11:57:37.657Z"
      },
      {
        "duration": 6,
        "start_time": "2023-01-18T11:57:38.501Z"
      },
      {
        "duration": 6,
        "start_time": "2023-01-18T11:57:39.361Z"
      },
      {
        "duration": 433,
        "start_time": "2023-01-18T14:58:23.809Z"
      },
      {
        "duration": 12,
        "start_time": "2023-01-18T14:59:15.720Z"
      },
      {
        "duration": 13,
        "start_time": "2023-01-18T14:59:18.163Z"
      },
      {
        "duration": 4,
        "start_time": "2023-01-18T14:59:23.562Z"
      }
    ],
    "toc": {
      "base_numbering": 1,
      "nav_menu": {},
      "number_sections": true,
      "sideBar": true,
      "skip_h1_title": true,
      "title_cell": "Содержание",
      "title_sidebar": "Contents",
      "toc_cell": true,
      "toc_position": {},
      "toc_section_display": true,
      "toc_window_display": true
    },
    "kernelspec": {
      "name": "python",
      "display_name": "Python (Pyodide)",
      "language": "python"
    },
    "language_info": {
      "codemirror_mode": {
        "name": "python",
        "version": 3
      },
      "file_extension": ".py",
      "mimetype": "text/x-python",
      "name": "python",
      "nbconvert_exporter": "python",
      "pygments_lexer": "ipython3",
      "version": "3.8"
    }
  },
  "nbformat_minor": 4,
  "nbformat": 4,
  "cells": [
    {
      "cell_type": "markdown",
      "source": "<h1>Содержание<span class=\"tocSkip\"></span></h1>\n<div class=\"toc\"><ul class=\"toc-item\"><li><span><a href=\"#Загрузка-данных\" data-toc-modified-id=\"Загрузка-данных-1\"><span class=\"toc-item-num\">1&nbsp;&nbsp;</span>Загрузка данных</a></span></li><li><span><a href=\"#Умножение-матриц\" data-toc-modified-id=\"Умножение-матриц-2\"><span class=\"toc-item-num\">2&nbsp;&nbsp;</span>Умножение матриц</a></span></li><li><span><a href=\"#Алгоритм-преобразования\" data-toc-modified-id=\"Алгоритм-преобразования-3\"><span class=\"toc-item-num\">3&nbsp;&nbsp;</span>Алгоритм преобразования</a></span></li><li><span><a href=\"#Проверка-алгоритма\" data-toc-modified-id=\"Проверка-алгоритма-4\"><span class=\"toc-item-num\">4&nbsp;&nbsp;</span>Проверка алгоритма</a></span></li><li><span><a href=\"#Чек-лист-проверки\" data-toc-modified-id=\"Чек-лист-проверки-5\"><span class=\"toc-item-num\">5&nbsp;&nbsp;</span>Чек-лист проверки</a></span></li></ul></div>",
      "metadata": {
        "toc": true
      }
    },
    {
      "cell_type": "markdown",
      "source": "# Защита персональных данных клиентов",
      "metadata": {}
    },
    {
      "cell_type": "markdown",
      "source": "Вам нужно защитить данные клиентов страховой компании «Хоть потоп». Разработайте такой метод преобразования данных, чтобы по ним было сложно восстановить персональную информацию. Обоснуйте корректность его работы.\n\nНужно защитить данные, чтобы при преобразовании качество моделей машинного обучения не ухудшилось. Подбирать наилучшую модель не требуется.",
      "metadata": {}
    },
    {
      "cell_type": "markdown",
      "source": "## Загрузка данных",
      "metadata": {}
    },
    {
      "cell_type": "code",
      "source": "#Импортируем необходимые библиотеки\nimport pandas as pd\nimport numpy as np\nimport matplotlib.pyplot as plt\nimport seaborn as sns\nfrom sklearn.metrics import r2_score\nfrom sklearn.preprocessing import StandardScaler\nfrom sklearn.linear_model import LinearRegression",
      "metadata": {},
      "execution_count": 1,
      "outputs": []
    },
    {
      "cell_type": "code",
      "source": "#Сохраним файл с данными в переменную data\ndata = pd.read_csv('/datasets/insurance.csv')",
      "metadata": {},
      "execution_count": 2,
      "outputs": []
    },
    {
      "cell_type": "code",
      "source": "#Посмотрим общую информацию датафрейма\ndata.info()",
      "metadata": {},
      "execution_count": 3,
      "outputs": [
        {
          "name": "stdout",
          "output_type": "stream",
          "text": "<class 'pandas.core.frame.DataFrame'>\n\nRangeIndex: 5000 entries, 0 to 4999\n\nData columns (total 5 columns):\n\n #   Column             Non-Null Count  Dtype  \n\n---  ------             --------------  -----  \n\n 0   Пол                5000 non-null   int64  \n\n 1   Возраст            5000 non-null   float64\n\n 2   Зарплата           5000 non-null   float64\n\n 3   Члены семьи        5000 non-null   int64  \n\n 4   Страховые выплаты  5000 non-null   int64  \n\ndtypes: float64(2), int64(3)\n\nmemory usage: 195.4 KB\n"
        }
      ]
    },
    {
      "cell_type": "code",
      "source": "#Выведем первые пять строк данных\ndata.head()",
      "metadata": {},
      "execution_count": 4,
      "outputs": [
        {
          "execution_count": 4,
          "output_type": "execute_result",
          "data": {
            "text/html": [
              "<div>\n",
              "<style scoped>\n",
              "    .dataframe tbody tr th:only-of-type {\n",
              "        vertical-align: middle;\n",
              "    }\n",
              "\n",
              "    .dataframe tbody tr th {\n",
              "        vertical-align: top;\n",
              "    }\n",
              "\n",
              "    .dataframe thead th {\n",
              "        text-align: right;\n",
              "    }\n",
              "</style>\n",
              "<table border=\"1\" class=\"dataframe\">\n",
              "  <thead>\n",
              "    <tr style=\"text-align: right;\">\n",
              "      <th></th>\n",
              "      <th>Пол</th>\n",
              "      <th>Возраст</th>\n",
              "      <th>Зарплата</th>\n",
              "      <th>Члены семьи</th>\n",
              "      <th>Страховые выплаты</th>\n",
              "    </tr>\n",
              "  </thead>\n",
              "  <tbody>\n",
              "    <tr>\n",
              "      <th>0</th>\n",
              "      <td>1</td>\n",
              "      <td>41.0</td>\n",
              "      <td>49600.0</td>\n",
              "      <td>1</td>\n",
              "      <td>0</td>\n",
              "    </tr>\n",
              "    <tr>\n",
              "      <th>1</th>\n",
              "      <td>0</td>\n",
              "      <td>46.0</td>\n",
              "      <td>38000.0</td>\n",
              "      <td>1</td>\n",
              "      <td>1</td>\n",
              "    </tr>\n",
              "    <tr>\n",
              "      <th>2</th>\n",
              "      <td>0</td>\n",
              "      <td>29.0</td>\n",
              "      <td>21000.0</td>\n",
              "      <td>0</td>\n",
              "      <td>0</td>\n",
              "    </tr>\n",
              "    <tr>\n",
              "      <th>3</th>\n",
              "      <td>0</td>\n",
              "      <td>21.0</td>\n",
              "      <td>41700.0</td>\n",
              "      <td>2</td>\n",
              "      <td>0</td>\n",
              "    </tr>\n",
              "    <tr>\n",
              "      <th>4</th>\n",
              "      <td>1</td>\n",
              "      <td>28.0</td>\n",
              "      <td>26100.0</td>\n",
              "      <td>0</td>\n",
              "      <td>0</td>\n",
              "    </tr>\n",
              "  </tbody>\n",
              "</table>\n",
              "</div>"
            ],
            "text/plain": [
              "   Пол  Возраст  Зарплата  Члены семьи  Страховые выплаты\n",
              "0    1     41.0   49600.0            1                  0\n",
              "1    0     46.0   38000.0            1                  1\n",
              "2    0     29.0   21000.0            0                  0\n",
              "3    0     21.0   41700.0            2                  0\n",
              "4    1     28.0   26100.0            0                  0"
            ]
          },
          "metadata": {}
        }
      ]
    },
    {
      "cell_type": "code",
      "source": "#Посмотрим общую информацию о данных\ndata.describe()",
      "metadata": {},
      "execution_count": 5,
      "outputs": [
        {
          "execution_count": 5,
          "output_type": "execute_result",
          "data": {
            "text/html": [
              "<div>\n",
              "<style scoped>\n",
              "    .dataframe tbody tr th:only-of-type {\n",
              "        vertical-align: middle;\n",
              "    }\n",
              "\n",
              "    .dataframe tbody tr th {\n",
              "        vertical-align: top;\n",
              "    }\n",
              "\n",
              "    .dataframe thead th {\n",
              "        text-align: right;\n",
              "    }\n",
              "</style>\n",
              "<table border=\"1\" class=\"dataframe\">\n",
              "  <thead>\n",
              "    <tr style=\"text-align: right;\">\n",
              "      <th></th>\n",
              "      <th>Пол</th>\n",
              "      <th>Возраст</th>\n",
              "      <th>Зарплата</th>\n",
              "      <th>Члены семьи</th>\n",
              "      <th>Страховые выплаты</th>\n",
              "    </tr>\n",
              "  </thead>\n",
              "  <tbody>\n",
              "    <tr>\n",
              "      <th>count</th>\n",
              "      <td>5000.000000</td>\n",
              "      <td>5000.000000</td>\n",
              "      <td>5000.000000</td>\n",
              "      <td>5000.000000</td>\n",
              "      <td>5000.000000</td>\n",
              "    </tr>\n",
              "    <tr>\n",
              "      <th>mean</th>\n",
              "      <td>0.499000</td>\n",
              "      <td>30.952800</td>\n",
              "      <td>39916.360000</td>\n",
              "      <td>1.194200</td>\n",
              "      <td>0.148000</td>\n",
              "    </tr>\n",
              "    <tr>\n",
              "      <th>std</th>\n",
              "      <td>0.500049</td>\n",
              "      <td>8.440807</td>\n",
              "      <td>9900.083569</td>\n",
              "      <td>1.091387</td>\n",
              "      <td>0.463183</td>\n",
              "    </tr>\n",
              "    <tr>\n",
              "      <th>min</th>\n",
              "      <td>0.000000</td>\n",
              "      <td>18.000000</td>\n",
              "      <td>5300.000000</td>\n",
              "      <td>0.000000</td>\n",
              "      <td>0.000000</td>\n",
              "    </tr>\n",
              "    <tr>\n",
              "      <th>25%</th>\n",
              "      <td>0.000000</td>\n",
              "      <td>24.000000</td>\n",
              "      <td>33300.000000</td>\n",
              "      <td>0.000000</td>\n",
              "      <td>0.000000</td>\n",
              "    </tr>\n",
              "    <tr>\n",
              "      <th>50%</th>\n",
              "      <td>0.000000</td>\n",
              "      <td>30.000000</td>\n",
              "      <td>40200.000000</td>\n",
              "      <td>1.000000</td>\n",
              "      <td>0.000000</td>\n",
              "    </tr>\n",
              "    <tr>\n",
              "      <th>75%</th>\n",
              "      <td>1.000000</td>\n",
              "      <td>37.000000</td>\n",
              "      <td>46600.000000</td>\n",
              "      <td>2.000000</td>\n",
              "      <td>0.000000</td>\n",
              "    </tr>\n",
              "    <tr>\n",
              "      <th>max</th>\n",
              "      <td>1.000000</td>\n",
              "      <td>65.000000</td>\n",
              "      <td>79000.000000</td>\n",
              "      <td>6.000000</td>\n",
              "      <td>5.000000</td>\n",
              "    </tr>\n",
              "  </tbody>\n",
              "</table>\n",
              "</div>"
            ],
            "text/plain": [
              "               Пол      Возраст      Зарплата  Члены семьи  Страховые выплаты\n",
              "count  5000.000000  5000.000000   5000.000000  5000.000000        5000.000000\n",
              "mean      0.499000    30.952800  39916.360000     1.194200           0.148000\n",
              "std       0.500049     8.440807   9900.083569     1.091387           0.463183\n",
              "min       0.000000    18.000000   5300.000000     0.000000           0.000000\n",
              "25%       0.000000    24.000000  33300.000000     0.000000           0.000000\n",
              "50%       0.000000    30.000000  40200.000000     1.000000           0.000000\n",
              "75%       1.000000    37.000000  46600.000000     2.000000           0.000000\n",
              "max       1.000000    65.000000  79000.000000     6.000000           5.000000"
            ]
          },
          "metadata": {}
        }
      ]
    },
    {
      "cell_type": "code",
      "source": "#Проверим данные на дубликаты\ndata.duplicated().sum()",
      "metadata": {},
      "execution_count": 6,
      "outputs": [
        {
          "execution_count": 6,
          "output_type": "execute_result",
          "data": {
            "text/plain": [
              "153"
            ]
          },
          "metadata": {}
        }
      ]
    },
    {
      "cell_type": "code",
      "source": "#Удалим дубликаты\ndata.drop_duplicates(inplace=True)",
      "metadata": {},
      "execution_count": 7,
      "outputs": []
    },
    {
      "cell_type": "code",
      "source": "#Проверим данные на дубликаты после их удаления\ndata.duplicated().sum()",
      "metadata": {},
      "execution_count": 8,
      "outputs": [
        {
          "execution_count": 8,
          "output_type": "execute_result",
          "data": {
            "text/plain": [
              "0"
            ]
          },
          "metadata": {}
        }
      ]
    },
    {
      "cell_type": "markdown",
      "source": "**Вывод:**  \n* Удалено 153 дубликата\n* Данные представлены в предобработанном виде.",
      "metadata": {}
    },
    {
      "cell_type": "markdown",
      "source": "## Умножение матриц",
      "metadata": {}
    },
    {
      "cell_type": "markdown",
      "source": "В этом задании вы можете записывать формулы в *Jupyter Notebook.*\n\nЧтобы записать формулу внутри текста, окружите её символами доллара \\\\$; если снаружи —  двойными символами \\\\$\\\\$. Эти формулы записываются на языке вёрстки *LaTeX.* \n\nДля примера мы записали формулы линейной регрессии. Можете их скопировать и отредактировать, чтобы решить задачу.\n\nРаботать в *LaTeX* необязательно.",
      "metadata": {}
    },
    {
      "cell_type": "markdown",
      "source": "Обозначения:\n\n- $X$ — матрица признаков (нулевой столбец состоит из единиц)\n\n- $y$ — вектор целевого признака\n\n- $P$ — матрица, на которую умножаются признаки\n\n- $w$ — вектор весов линейной регрессии (нулевой элемент равен сдвигу)",
      "metadata": {}
    },
    {
      "cell_type": "markdown",
      "source": "Предсказания:\n\n$$\na = Xw\n$$\n\nЗадача обучения:\n\n$$\nw = \\arg\\min_w MSE(Xw, y)\n$$\n\nФормула обучения:\n\n$$\nw = (X^T X)^{-1} X^T y\n$$",
      "metadata": {}
    },
    {
      "cell_type": "markdown",
      "source": "**Ответ:** При умножении на обратимую матрицу, качество линейной регресии не изменится.\n\n**Обоснование:**",
      "metadata": {}
    },
    {
      "cell_type": "markdown",
      "source": "Признаки умножают на обратимую матрицу. Необходимо проверить, изменится ли качество линейной регрессии и показать, как связаны параметры линейной регрессии в исходной задаче и в преобразованной",
      "metadata": {}
    },
    {
      "cell_type": "markdown",
      "source": "Добавим обозначения:  \n  \n$XP$ - новая матрица, полученная умножением матрицы $X$ на обратимую $P$  \n$a1$ - предсказания для новой матрицы  \n$w1$ — вектор весов линейной регрессии для $a1$  \n\nУсловие:  \n$$a=a1$$  \nдолжно быть истинным  \n\nПодставим значения в формулу обучения:  \n$$  \nw1=((XP)^T XP)^{-1} (XP)^T y  \n$$   \n\nРаскроем скобки:    \n$$w1=(X^T P^T XP)^{-1} X^T P^T y$$\n$$w1=P^{-1} (X^T X)^{-1} (P^T)^{-1} X^T P^T y$$\n  \nТ.к. $P$ - обратимая, то произведение $(P^T)^{-1} P^T$ равно $E$ (единичная матрица), получается:  \n  \n$$w1=P^{-1} (X^T X)^{-1} E X^T y=P^{-1} (X^T X)^{-1} X^T y$$\n  \nСократим формулу, т.к. в правой части указана формула для $w$:  \n$$w1=P^{-1} w$$\n  \nПодставим значение $w1$ в формулу $a1$:  \n$$a1=XP P^{-1} w$$  \n  \nСократим её:  \n$$a1=XEw=Xw=a$$\n  \nТаким образом, исходя из расчётов получается, что $a1$ равно $a$, следовательно, качество линейной регрессии не изменится.",
      "metadata": {}
    },
    {
      "cell_type": "markdown",
      "source": "**Вывод:**  \nОтветили на вопрос \"Признаки умножают на обратимую матрицу. Изменится ли качество линейной регрессии?\". При умножении на обратимую матрицу, качество линейной регресии не изменится. Решение обосновали.",
      "metadata": {}
    },
    {
      "cell_type": "markdown",
      "source": "## Алгоритм преобразования",
      "metadata": {}
    },
    {
      "cell_type": "markdown",
      "source": "**Алгоритм**  \n  \nПредлагаем следующий алгоритм для преобразования:  \n  \n* Делим выборку на обучающие признаки и целевой признак, т.е отделяем от данных страховые выплаты;\n* Создаем случайную матрицу размером 4х4 (в выборке 4 признака);\n* Обучаем модель;\n* Получаем предсказания;\n* В качестве метрики берем коэффициент детерминации R2;\n* Признаки умножаем на созданную матрицу;\n* Обучаем модель на новых признаках;\n* Получаем предсказания;\n* Сравниваем полученные результаты",
      "metadata": {}
    },
    {
      "cell_type": "markdown",
      "source": "**Обоснование**\n\nОбоснование расписано во втором этапе исследования.",
      "metadata": {}
    },
    {
      "cell_type": "markdown",
      "source": "**Вывод:**  \nПроверять алгоритм будем на общем датасете, без деления на тестовую и обучающую выборки.",
      "metadata": {}
    },
    {
      "cell_type": "markdown",
      "source": "## Проверка алгоритма",
      "metadata": {}
    },
    {
      "cell_type": "code",
      "source": "features = data.drop('Страховые выплаты', axis=1)\ntarget = data['Страховые выплаты']\nmatrix = np.random.normal(size = (4,4))\nmatrix = np.linalg.inv(matrix)\nmodel = LinearRegression()\nmodel.fit(features, target)\nnormal_pred = model.predict(features)\nnormal_r2_score = r2_score(target, normal_pred)\nprint('R2 на исходных признаках:', normal_r2_score)",
      "metadata": {},
      "execution_count": 10,
      "outputs": [
        {
          "name": "stdout",
          "output_type": "stream",
          "text": "R2 на исходных признаках: 0.4302010044852066\n"
        }
      ]
    },
    {
      "cell_type": "code",
      "source": "trans_features = features @ matrix\nmodel.fit(trans_features, target)\ntrans_pred = model.predict(trans_features)\ntrans_r2_score = r2_score(target, trans_pred)\nprint('R2 на преобразованных признаках:', trans_r2_score)",
      "metadata": {},
      "execution_count": 11,
      "outputs": [
        {
          "name": "stdout",
          "output_type": "stream",
          "text": "R2 на преобразованных признаках: 0.4302010044852066\n"
        }
      ]
    },
    {
      "cell_type": "code",
      "source": "normal_r2_score - trans_r2_score",
      "metadata": {},
      "execution_count": 12,
      "outputs": [
        {
          "execution_count": 12,
          "output_type": "execute_result",
          "data": {
            "text/plain": [
              "0.0"
            ]
          },
          "metadata": {}
        }
      ]
    },
    {
      "cell_type": "markdown",
      "source": "**Вывод:**  \nРезультаты проверки на исходных данных и на преобразованных данных совпадают. Алгоритм преобразования данных не влияет на линейную регрессию.",
      "metadata": {}
    },
    {
      "cell_type": "code",
      "source": "",
      "metadata": {},
      "execution_count": null,
      "outputs": []
    }
  ]
}