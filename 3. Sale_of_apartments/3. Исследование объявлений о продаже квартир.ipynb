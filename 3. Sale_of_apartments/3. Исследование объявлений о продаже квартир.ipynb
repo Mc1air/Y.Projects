{
  "metadata": {
    "ExecuteTimeLog": [
      {
        "duration": 716,
        "start_time": "2022-09-24T10:32:48.371Z"
      },
      {
        "duration": 137,
        "start_time": "2022-09-24T10:34:13.211Z"
      },
      {
        "duration": 94,
        "start_time": "2022-09-24T10:34:32.230Z"
      },
      {
        "duration": 114,
        "start_time": "2022-09-24T10:34:37.815Z"
      },
      {
        "duration": 142,
        "start_time": "2022-09-24T10:36:08.029Z"
      },
      {
        "duration": 138,
        "start_time": "2022-09-24T10:36:26.746Z"
      },
      {
        "duration": 151,
        "start_time": "2022-09-24T10:36:46.870Z"
      },
      {
        "duration": 157,
        "start_time": "2022-09-24T10:40:01.126Z"
      },
      {
        "duration": 776,
        "start_time": "2022-09-25T20:50:48.184Z"
      },
      {
        "duration": 167,
        "start_time": "2022-09-25T20:51:02.102Z"
      },
      {
        "duration": 176,
        "start_time": "2022-09-25T20:51:19.180Z"
      },
      {
        "duration": 184,
        "start_time": "2022-09-25T22:33:09.257Z"
      },
      {
        "duration": 789,
        "start_time": "2022-09-27T20:08:56.369Z"
      },
      {
        "duration": 190,
        "start_time": "2022-09-27T20:09:26.133Z"
      },
      {
        "duration": 26,
        "start_time": "2022-09-27T20:15:58.024Z"
      },
      {
        "duration": 49,
        "start_time": "2022-09-27T21:14:19.863Z"
      },
      {
        "duration": 1517,
        "start_time": "2022-09-27T21:15:54.703Z"
      },
      {
        "duration": 49,
        "start_time": "2022-09-27T21:16:13.827Z"
      },
      {
        "duration": 68,
        "start_time": "2022-09-27T21:18:20.695Z"
      },
      {
        "duration": 70,
        "start_time": "2022-09-27T21:20:49.537Z"
      },
      {
        "duration": 67,
        "start_time": "2022-09-27T21:21:16.039Z"
      },
      {
        "duration": 46,
        "start_time": "2022-09-27T21:21:41.214Z"
      },
      {
        "duration": 38,
        "start_time": "2022-09-27T21:22:26.457Z"
      },
      {
        "duration": 45,
        "start_time": "2022-09-27T21:22:35.604Z"
      },
      {
        "duration": 157,
        "start_time": "2022-09-27T21:23:07.444Z"
      },
      {
        "duration": 26,
        "start_time": "2022-09-27T21:23:17.620Z"
      },
      {
        "duration": 47,
        "start_time": "2022-09-27T21:23:23.623Z"
      },
      {
        "duration": 26,
        "start_time": "2022-09-27T21:25:09.251Z"
      },
      {
        "duration": 51,
        "start_time": "2022-09-27T21:25:28.363Z"
      },
      {
        "duration": 69,
        "start_time": "2022-10-01T19:35:27.218Z"
      },
      {
        "duration": 840,
        "start_time": "2022-10-01T19:35:41.573Z"
      },
      {
        "duration": 33,
        "start_time": "2022-10-01T19:35:48.805Z"
      },
      {
        "duration": 61,
        "start_time": "2022-10-01T19:35:55.089Z"
      },
      {
        "duration": 6,
        "start_time": "2022-10-01T19:36:48.711Z"
      },
      {
        "duration": 5,
        "start_time": "2022-10-01T19:37:08.524Z"
      },
      {
        "duration": 5,
        "start_time": "2022-10-01T19:37:22.337Z"
      },
      {
        "duration": 6,
        "start_time": "2022-10-01T19:38:05.268Z"
      },
      {
        "duration": 5,
        "start_time": "2022-10-01T19:39:15.823Z"
      },
      {
        "duration": 5,
        "start_time": "2022-10-01T19:39:23.585Z"
      },
      {
        "duration": 6,
        "start_time": "2022-10-01T19:41:34.975Z"
      },
      {
        "duration": 6,
        "start_time": "2022-10-01T19:43:35.086Z"
      },
      {
        "duration": 4,
        "start_time": "2022-10-01T19:45:10.324Z"
      },
      {
        "duration": 102,
        "start_time": "2022-10-01T19:45:23.857Z"
      },
      {
        "duration": 4,
        "start_time": "2022-10-01T19:45:58.326Z"
      },
      {
        "duration": 54,
        "start_time": "2022-10-01T19:47:12.261Z"
      },
      {
        "duration": 54,
        "start_time": "2022-10-01T19:48:47.520Z"
      },
      {
        "duration": 4,
        "start_time": "2022-10-01T19:54:44.942Z"
      },
      {
        "duration": 54,
        "start_time": "2022-10-01T19:56:26.786Z"
      },
      {
        "duration": 46,
        "start_time": "2022-10-01T19:58:25.301Z"
      },
      {
        "duration": 51,
        "start_time": "2022-10-01T19:58:53.700Z"
      },
      {
        "duration": 53,
        "start_time": "2022-10-01T19:59:05.351Z"
      },
      {
        "duration": 38,
        "start_time": "2022-10-01T21:17:07.790Z"
      },
      {
        "duration": 48,
        "start_time": "2022-10-01T21:17:25.662Z"
      },
      {
        "duration": 47,
        "start_time": "2022-10-01T21:17:56.618Z"
      },
      {
        "duration": 52,
        "start_time": "2022-10-01T21:18:37.833Z"
      },
      {
        "duration": 95,
        "start_time": "2022-10-01T21:34:03.590Z"
      },
      {
        "duration": 55,
        "start_time": "2022-10-01T21:35:14.905Z"
      },
      {
        "duration": 51,
        "start_time": "2022-10-01T21:36:05.358Z"
      },
      {
        "duration": 51,
        "start_time": "2022-10-01T21:36:18.328Z"
      },
      {
        "duration": 14,
        "start_time": "2022-10-01T21:42:18.144Z"
      },
      {
        "duration": 15,
        "start_time": "2022-10-01T21:42:33.112Z"
      },
      {
        "duration": 18,
        "start_time": "2022-10-01T21:43:04.629Z"
      },
      {
        "duration": 17,
        "start_time": "2022-10-01T21:43:15.582Z"
      },
      {
        "duration": 48,
        "start_time": "2022-10-01T21:44:51.879Z"
      },
      {
        "duration": 55,
        "start_time": "2022-10-01T21:45:47.537Z"
      },
      {
        "duration": 56,
        "start_time": "2022-10-01T21:49:02.824Z"
      },
      {
        "duration": 952,
        "start_time": "2022-10-01T21:50:10.827Z"
      },
      {
        "duration": 31,
        "start_time": "2022-10-01T21:53:45.777Z"
      },
      {
        "duration": 172,
        "start_time": "2022-10-01T21:56:09.231Z"
      },
      {
        "duration": 35,
        "start_time": "2022-10-01T21:56:15.557Z"
      },
      {
        "duration": 32,
        "start_time": "2022-10-01T21:56:21.901Z"
      },
      {
        "duration": 72,
        "start_time": "2022-10-01T21:56:56.970Z"
      },
      {
        "duration": 35,
        "start_time": "2022-10-01T21:58:22.014Z"
      },
      {
        "duration": 32,
        "start_time": "2022-10-01T21:59:44.934Z"
      },
      {
        "duration": 8,
        "start_time": "2022-10-01T22:02:22.666Z"
      },
      {
        "duration": 33,
        "start_time": "2022-10-01T22:06:22.614Z"
      },
      {
        "duration": 51,
        "start_time": "2022-10-02T08:41:59.235Z"
      },
      {
        "duration": 828,
        "start_time": "2022-10-02T08:42:06.954Z"
      },
      {
        "duration": 31,
        "start_time": "2022-10-02T08:42:13.298Z"
      },
      {
        "duration": 2327,
        "start_time": "2022-10-02T08:42:21.373Z"
      },
      {
        "duration": 160,
        "start_time": "2022-10-02T09:22:50.027Z"
      },
      {
        "duration": 2130,
        "start_time": "2022-10-02T09:24:14.100Z"
      },
      {
        "duration": 1823,
        "start_time": "2022-10-02T09:34:24.016Z"
      },
      {
        "duration": 9,
        "start_time": "2022-10-02T09:50:30.706Z"
      },
      {
        "duration": 9,
        "start_time": "2022-10-02T09:53:14.995Z"
      },
      {
        "duration": 8,
        "start_time": "2022-10-02T09:53:25.056Z"
      },
      {
        "duration": 9,
        "start_time": "2022-10-02T10:19:00.036Z"
      },
      {
        "duration": 4,
        "start_time": "2022-10-02T10:21:15.448Z"
      },
      {
        "duration": 4,
        "start_time": "2022-10-02T10:22:14.507Z"
      },
      {
        "duration": 5,
        "start_time": "2022-10-02T10:22:34.976Z"
      },
      {
        "duration": 9,
        "start_time": "2022-10-02T10:26:01.447Z"
      },
      {
        "duration": 37,
        "start_time": "2022-10-02T10:34:35.803Z"
      },
      {
        "duration": 6,
        "start_time": "2022-10-02T10:47:50.578Z"
      },
      {
        "duration": 7,
        "start_time": "2022-10-02T10:48:19.216Z"
      },
      {
        "duration": 7,
        "start_time": "2022-10-02T10:48:41.327Z"
      },
      {
        "duration": 33,
        "start_time": "2022-10-02T11:28:13.224Z"
      },
      {
        "duration": 46,
        "start_time": "2022-10-02T11:44:32.817Z"
      },
      {
        "duration": 40,
        "start_time": "2022-10-02T11:44:57.086Z"
      },
      {
        "duration": 8,
        "start_time": "2022-10-02T20:29:44.208Z"
      },
      {
        "duration": 38,
        "start_time": "2022-10-02T20:37:26.817Z"
      },
      {
        "duration": 8,
        "start_time": "2022-10-02T20:38:00.972Z"
      },
      {
        "duration": 9,
        "start_time": "2022-10-02T20:38:08.403Z"
      },
      {
        "duration": 10,
        "start_time": "2022-10-02T20:38:14.780Z"
      },
      {
        "duration": 9,
        "start_time": "2022-10-02T20:41:42.271Z"
      },
      {
        "duration": 4,
        "start_time": "2022-10-02T20:50:48.339Z"
      },
      {
        "duration": 7,
        "start_time": "2022-10-02T20:51:26.604Z"
      },
      {
        "duration": 8,
        "start_time": "2022-10-02T20:52:38.863Z"
      },
      {
        "duration": 8,
        "start_time": "2022-10-02T20:52:47.816Z"
      },
      {
        "duration": 6,
        "start_time": "2022-10-02T20:52:54.548Z"
      },
      {
        "duration": 30,
        "start_time": "2022-10-02T21:00:16.349Z"
      },
      {
        "duration": 8,
        "start_time": "2022-10-02T21:01:16.341Z"
      },
      {
        "duration": 6,
        "start_time": "2022-10-02T21:01:23.425Z"
      },
      {
        "duration": 275,
        "start_time": "2022-10-02T21:21:06.437Z"
      },
      {
        "duration": 405,
        "start_time": "2022-10-02T21:21:45.248Z"
      },
      {
        "duration": 297,
        "start_time": "2022-10-02T21:21:59.813Z"
      },
      {
        "duration": 265,
        "start_time": "2022-10-02T21:22:35.081Z"
      },
      {
        "duration": 10,
        "start_time": "2022-10-02T21:26:01.456Z"
      },
      {
        "duration": 9,
        "start_time": "2022-10-02T21:26:19.236Z"
      },
      {
        "duration": 7,
        "start_time": "2022-10-02T21:26:21.816Z"
      },
      {
        "duration": 9,
        "start_time": "2022-10-02T21:26:36.578Z"
      },
      {
        "duration": 18,
        "start_time": "2022-10-02T21:26:56.580Z"
      },
      {
        "duration": 66,
        "start_time": "2022-10-02T21:27:17.565Z"
      },
      {
        "duration": 27,
        "start_time": "2022-10-02T21:27:37.737Z"
      },
      {
        "duration": 7,
        "start_time": "2022-10-02T21:28:26.148Z"
      },
      {
        "duration": 26,
        "start_time": "2022-10-02T21:40:37.537Z"
      },
      {
        "duration": 25,
        "start_time": "2022-10-02T21:40:55.131Z"
      },
      {
        "duration": 27,
        "start_time": "2022-10-02T21:41:28.750Z"
      },
      {
        "duration": 25,
        "start_time": "2022-10-02T21:41:35.766Z"
      },
      {
        "duration": 833,
        "start_time": "2022-10-02T21:41:58.184Z"
      },
      {
        "duration": 38,
        "start_time": "2022-10-02T21:41:59.019Z"
      },
      {
        "duration": 1934,
        "start_time": "2022-10-02T21:41:59.058Z"
      },
      {
        "duration": 35,
        "start_time": "2022-10-02T21:42:00.994Z"
      },
      {
        "duration": 15,
        "start_time": "2022-10-02T21:42:01.031Z"
      },
      {
        "duration": 54,
        "start_time": "2022-10-02T21:42:01.048Z"
      },
      {
        "duration": 10,
        "start_time": "2022-10-02T21:42:01.104Z"
      },
      {
        "duration": 33,
        "start_time": "2022-10-02T21:42:01.116Z"
      },
      {
        "duration": 1101,
        "start_time": "2022-10-02T21:42:26.658Z"
      },
      {
        "duration": 28,
        "start_time": "2022-10-02T21:42:43.226Z"
      },
      {
        "duration": 763,
        "start_time": "2022-10-02T21:43:07.349Z"
      },
      {
        "duration": 29,
        "start_time": "2022-10-02T21:43:08.114Z"
      },
      {
        "duration": 1765,
        "start_time": "2022-10-02T21:43:08.145Z"
      },
      {
        "duration": 33,
        "start_time": "2022-10-02T21:43:09.912Z"
      },
      {
        "duration": 7,
        "start_time": "2022-10-02T21:43:09.947Z"
      },
      {
        "duration": 47,
        "start_time": "2022-10-02T21:43:09.956Z"
      },
      {
        "duration": 8,
        "start_time": "2022-10-02T21:43:10.004Z"
      },
      {
        "duration": 34,
        "start_time": "2022-10-02T21:43:10.014Z"
      },
      {
        "duration": 27,
        "start_time": "2022-10-02T21:44:41.108Z"
      },
      {
        "duration": 816,
        "start_time": "2022-10-02T21:44:48.741Z"
      },
      {
        "duration": 26,
        "start_time": "2022-10-02T21:44:49.559Z"
      },
      {
        "duration": 1770,
        "start_time": "2022-10-02T21:44:49.586Z"
      },
      {
        "duration": 34,
        "start_time": "2022-10-02T21:44:51.358Z"
      },
      {
        "duration": 8,
        "start_time": "2022-10-02T21:44:51.394Z"
      },
      {
        "duration": 43,
        "start_time": "2022-10-02T21:44:51.404Z"
      },
      {
        "duration": 9,
        "start_time": "2022-10-02T21:44:51.448Z"
      },
      {
        "duration": 26,
        "start_time": "2022-10-02T21:44:51.459Z"
      },
      {
        "duration": 9,
        "start_time": "2022-10-02T21:45:42.889Z"
      },
      {
        "duration": 9,
        "start_time": "2022-10-02T21:45:43.222Z"
      },
      {
        "duration": 19,
        "start_time": "2022-10-02T21:46:04.882Z"
      },
      {
        "duration": 20,
        "start_time": "2022-10-02T21:46:07.849Z"
      },
      {
        "duration": 8,
        "start_time": "2022-10-02T21:46:35.601Z"
      },
      {
        "duration": 12,
        "start_time": "2022-10-02T21:47:04.322Z"
      },
      {
        "duration": 9,
        "start_time": "2022-10-02T21:47:06.978Z"
      },
      {
        "duration": 10,
        "start_time": "2022-10-02T21:47:48.696Z"
      },
      {
        "duration": 776,
        "start_time": "2022-10-02T21:47:54.463Z"
      },
      {
        "duration": 25,
        "start_time": "2022-10-02T21:47:55.241Z"
      },
      {
        "duration": 1712,
        "start_time": "2022-10-02T21:47:55.267Z"
      },
      {
        "duration": 33,
        "start_time": "2022-10-02T21:47:56.982Z"
      },
      {
        "duration": 8,
        "start_time": "2022-10-02T21:47:57.016Z"
      },
      {
        "duration": 42,
        "start_time": "2022-10-02T21:47:57.026Z"
      },
      {
        "duration": 9,
        "start_time": "2022-10-02T21:47:57.069Z"
      },
      {
        "duration": 9,
        "start_time": "2022-10-02T21:47:57.079Z"
      },
      {
        "duration": 10,
        "start_time": "2022-10-02T21:51:13.946Z"
      },
      {
        "duration": 41,
        "start_time": "2022-10-02T21:55:25.191Z"
      },
      {
        "duration": 9,
        "start_time": "2022-10-02T21:56:24.819Z"
      },
      {
        "duration": 28,
        "start_time": "2022-10-02T22:17:19.890Z"
      },
      {
        "duration": 35,
        "start_time": "2022-10-02T22:17:38.215Z"
      },
      {
        "duration": 732,
        "start_time": "2022-10-02T22:18:15.473Z"
      },
      {
        "duration": 33,
        "start_time": "2022-10-02T22:18:16.207Z"
      },
      {
        "duration": 1790,
        "start_time": "2022-10-02T22:18:16.241Z"
      },
      {
        "duration": 34,
        "start_time": "2022-10-02T22:18:18.033Z"
      },
      {
        "duration": 34,
        "start_time": "2022-10-02T22:18:18.069Z"
      },
      {
        "duration": 47,
        "start_time": "2022-10-02T22:18:18.105Z"
      },
      {
        "duration": 10,
        "start_time": "2022-10-02T22:18:18.154Z"
      },
      {
        "duration": 9,
        "start_time": "2022-10-02T22:18:18.166Z"
      },
      {
        "duration": 12,
        "start_time": "2022-10-02T22:19:01.859Z"
      },
      {
        "duration": 104,
        "start_time": "2022-10-02T22:31:46.283Z"
      },
      {
        "duration": 13,
        "start_time": "2022-10-02T22:31:58.071Z"
      },
      {
        "duration": 21,
        "start_time": "2022-10-02T22:39:44.181Z"
      },
      {
        "duration": 991,
        "start_time": "2022-10-02T22:40:26.554Z"
      },
      {
        "duration": 27,
        "start_time": "2022-10-02T22:40:27.548Z"
      },
      {
        "duration": 1754,
        "start_time": "2022-10-02T22:40:27.577Z"
      },
      {
        "duration": 33,
        "start_time": "2022-10-02T22:40:29.334Z"
      },
      {
        "duration": 13,
        "start_time": "2022-10-02T22:40:29.369Z"
      },
      {
        "duration": 63,
        "start_time": "2022-10-02T22:40:29.383Z"
      },
      {
        "duration": 10,
        "start_time": "2022-10-02T22:40:29.448Z"
      },
      {
        "duration": 43,
        "start_time": "2022-10-02T22:40:56.190Z"
      },
      {
        "duration": 1149,
        "start_time": "2022-10-03T19:16:38.684Z"
      },
      {
        "duration": 25,
        "start_time": "2022-10-03T19:16:39.835Z"
      },
      {
        "duration": 1798,
        "start_time": "2022-10-03T19:16:39.862Z"
      },
      {
        "duration": 48,
        "start_time": "2022-10-03T19:16:41.664Z"
      },
      {
        "duration": 12,
        "start_time": "2022-10-03T19:16:41.714Z"
      },
      {
        "duration": 43,
        "start_time": "2022-10-03T19:16:41.728Z"
      },
      {
        "duration": 9,
        "start_time": "2022-10-03T19:16:41.773Z"
      },
      {
        "duration": 42,
        "start_time": "2022-10-03T19:16:41.784Z"
      },
      {
        "duration": 339,
        "start_time": "2022-10-03T19:17:21.305Z"
      },
      {
        "duration": 12,
        "start_time": "2022-10-03T19:17:41.387Z"
      },
      {
        "duration": 10,
        "start_time": "2022-10-03T19:22:46.533Z"
      },
      {
        "duration": 35,
        "start_time": "2022-10-03T19:48:23.632Z"
      },
      {
        "duration": 25,
        "start_time": "2022-10-03T19:48:51.440Z"
      },
      {
        "duration": 22,
        "start_time": "2022-10-03T19:49:50.395Z"
      },
      {
        "duration": 11,
        "start_time": "2022-10-03T19:50:11.767Z"
      },
      {
        "duration": 10,
        "start_time": "2022-10-03T19:50:29.155Z"
      },
      {
        "duration": 14,
        "start_time": "2022-10-03T19:51:10.941Z"
      },
      {
        "duration": 11,
        "start_time": "2022-10-03T19:51:29.416Z"
      },
      {
        "duration": 772,
        "start_time": "2022-10-03T20:00:30.700Z"
      },
      {
        "duration": 830,
        "start_time": "2022-10-03T20:00:54.453Z"
      },
      {
        "duration": 857,
        "start_time": "2022-10-03T20:01:05.278Z"
      },
      {
        "duration": 896,
        "start_time": "2022-10-03T20:02:25.734Z"
      },
      {
        "duration": 857,
        "start_time": "2022-10-03T20:02:48.707Z"
      },
      {
        "duration": 807,
        "start_time": "2022-10-03T20:02:58.673Z"
      },
      {
        "duration": 786,
        "start_time": "2022-10-03T20:03:18.789Z"
      },
      {
        "duration": 12,
        "start_time": "2022-10-03T20:08:45.110Z"
      },
      {
        "duration": 8,
        "start_time": "2022-10-03T20:09:32.440Z"
      },
      {
        "duration": 7,
        "start_time": "2022-10-03T20:10:28.204Z"
      },
      {
        "duration": 9,
        "start_time": "2022-10-03T20:11:00.547Z"
      },
      {
        "duration": 9,
        "start_time": "2022-10-03T20:11:13.100Z"
      },
      {
        "duration": 11,
        "start_time": "2022-10-03T20:13:55.715Z"
      },
      {
        "duration": 14,
        "start_time": "2022-10-03T20:14:43.932Z"
      },
      {
        "duration": 10,
        "start_time": "2022-10-03T20:15:11.479Z"
      },
      {
        "duration": 11,
        "start_time": "2022-10-03T20:21:32.248Z"
      },
      {
        "duration": 8,
        "start_time": "2022-10-03T20:21:44.279Z"
      },
      {
        "duration": 711,
        "start_time": "2022-10-03T20:22:31.469Z"
      },
      {
        "duration": 27,
        "start_time": "2022-10-03T20:22:32.182Z"
      },
      {
        "duration": 11,
        "start_time": "2022-10-03T20:22:32.211Z"
      },
      {
        "duration": 1812,
        "start_time": "2022-10-03T20:22:32.224Z"
      },
      {
        "duration": 35,
        "start_time": "2022-10-03T20:22:34.038Z"
      },
      {
        "duration": 9,
        "start_time": "2022-10-03T20:22:34.074Z"
      },
      {
        "duration": 38,
        "start_time": "2022-10-03T20:22:34.084Z"
      },
      {
        "duration": 11,
        "start_time": "2022-10-03T20:22:34.124Z"
      },
      {
        "duration": 17,
        "start_time": "2022-10-03T20:22:34.137Z"
      },
      {
        "duration": 12,
        "start_time": "2022-10-03T20:22:46.637Z"
      },
      {
        "duration": 15,
        "start_time": "2022-10-03T20:23:25.666Z"
      },
      {
        "duration": 100,
        "start_time": "2022-10-03T20:24:24.487Z"
      },
      {
        "duration": 854,
        "start_time": "2022-10-03T20:24:42.090Z"
      },
      {
        "duration": 27,
        "start_time": "2022-10-03T20:24:42.946Z"
      },
      {
        "duration": 11,
        "start_time": "2022-10-03T20:24:42.974Z"
      },
      {
        "duration": 1905,
        "start_time": "2022-10-03T20:24:42.987Z"
      },
      {
        "duration": 36,
        "start_time": "2022-10-03T20:24:44.894Z"
      },
      {
        "duration": 8,
        "start_time": "2022-10-03T20:24:44.931Z"
      },
      {
        "duration": 35,
        "start_time": "2022-10-03T20:24:44.941Z"
      },
      {
        "duration": 31,
        "start_time": "2022-10-03T20:24:44.978Z"
      },
      {
        "duration": 1029,
        "start_time": "2022-10-03T20:24:45.011Z"
      },
      {
        "duration": 103,
        "start_time": "2022-10-03T20:25:10.112Z"
      },
      {
        "duration": 10,
        "start_time": "2022-10-03T20:25:32.380Z"
      },
      {
        "duration": 826,
        "start_time": "2022-10-03T20:25:41.073Z"
      },
      {
        "duration": 36,
        "start_time": "2022-10-03T20:25:41.901Z"
      },
      {
        "duration": 8,
        "start_time": "2022-10-03T20:25:41.938Z"
      },
      {
        "duration": 1920,
        "start_time": "2022-10-03T20:25:41.948Z"
      },
      {
        "duration": 36,
        "start_time": "2022-10-03T20:25:43.870Z"
      },
      {
        "duration": 10,
        "start_time": "2022-10-03T20:25:43.908Z"
      },
      {
        "duration": 49,
        "start_time": "2022-10-03T20:25:43.920Z"
      },
      {
        "duration": 11,
        "start_time": "2022-10-03T20:25:43.971Z"
      },
      {
        "duration": 40,
        "start_time": "2022-10-03T20:25:43.984Z"
      },
      {
        "duration": 10,
        "start_time": "2022-10-03T20:25:55.561Z"
      },
      {
        "duration": 61,
        "start_time": "2022-10-03T20:28:10.771Z"
      },
      {
        "duration": 9,
        "start_time": "2022-10-03T20:29:01.488Z"
      },
      {
        "duration": 13,
        "start_time": "2022-10-03T20:29:06.630Z"
      },
      {
        "duration": 80,
        "start_time": "2022-10-03T20:37:34.584Z"
      },
      {
        "duration": 734,
        "start_time": "2022-10-03T20:37:48.350Z"
      },
      {
        "duration": 27,
        "start_time": "2022-10-03T20:37:49.086Z"
      },
      {
        "duration": 12,
        "start_time": "2022-10-03T20:37:49.114Z"
      },
      {
        "duration": 1849,
        "start_time": "2022-10-03T20:37:49.127Z"
      },
      {
        "duration": 44,
        "start_time": "2022-10-03T20:37:50.978Z"
      },
      {
        "duration": 11,
        "start_time": "2022-10-03T20:37:51.025Z"
      },
      {
        "duration": 41,
        "start_time": "2022-10-03T20:37:51.038Z"
      },
      {
        "duration": 10,
        "start_time": "2022-10-03T20:37:51.081Z"
      },
      {
        "duration": 59,
        "start_time": "2022-10-03T20:37:51.109Z"
      },
      {
        "duration": 9,
        "start_time": "2022-10-03T20:38:46.407Z"
      },
      {
        "duration": 10,
        "start_time": "2022-10-03T20:43:33.162Z"
      },
      {
        "duration": 11,
        "start_time": "2022-10-03T20:43:43.953Z"
      },
      {
        "duration": 9,
        "start_time": "2022-10-03T20:43:51.566Z"
      },
      {
        "duration": 814,
        "start_time": "2022-10-03T20:44:01.529Z"
      },
      {
        "duration": 28,
        "start_time": "2022-10-03T20:44:02.345Z"
      },
      {
        "duration": 18,
        "start_time": "2022-10-03T20:44:02.374Z"
      },
      {
        "duration": 1819,
        "start_time": "2022-10-03T20:44:02.393Z"
      },
      {
        "duration": 35,
        "start_time": "2022-10-03T20:44:04.214Z"
      },
      {
        "duration": 9,
        "start_time": "2022-10-03T20:44:04.251Z"
      },
      {
        "duration": 57,
        "start_time": "2022-10-03T20:44:04.262Z"
      },
      {
        "duration": 12,
        "start_time": "2022-10-03T20:44:04.320Z"
      },
      {
        "duration": 13,
        "start_time": "2022-10-03T20:44:04.334Z"
      },
      {
        "duration": 8,
        "start_time": "2022-10-03T20:59:47.712Z"
      },
      {
        "duration": 10,
        "start_time": "2022-10-03T21:04:55.311Z"
      },
      {
        "duration": 7,
        "start_time": "2022-10-03T21:06:18.477Z"
      },
      {
        "duration": 7,
        "start_time": "2022-10-03T21:06:38.273Z"
      },
      {
        "duration": 9,
        "start_time": "2022-10-03T21:06:52.913Z"
      },
      {
        "duration": 8,
        "start_time": "2022-10-03T21:08:02.446Z"
      },
      {
        "duration": 12,
        "start_time": "2022-10-03T21:09:14.171Z"
      },
      {
        "duration": 13,
        "start_time": "2022-10-03T21:09:44.340Z"
      },
      {
        "duration": 20,
        "start_time": "2022-10-03T21:11:33.429Z"
      },
      {
        "duration": 18,
        "start_time": "2022-10-03T21:12:13.924Z"
      },
      {
        "duration": 28,
        "start_time": "2022-10-03T21:15:05.818Z"
      },
      {
        "duration": 34,
        "start_time": "2022-10-03T21:15:51.046Z"
      },
      {
        "duration": 35,
        "start_time": "2022-10-03T21:18:54.519Z"
      },
      {
        "duration": 22,
        "start_time": "2022-10-03T21:19:05.805Z"
      },
      {
        "duration": 39,
        "start_time": "2022-10-03T21:26:31.248Z"
      },
      {
        "duration": 5,
        "start_time": "2022-10-03T22:06:28.106Z"
      },
      {
        "duration": 6,
        "start_time": "2022-10-03T22:06:47.697Z"
      },
      {
        "duration": 5,
        "start_time": "2022-10-03T22:07:06.276Z"
      },
      {
        "duration": 29,
        "start_time": "2022-10-03T22:09:38.987Z"
      },
      {
        "duration": 1052,
        "start_time": "2022-10-05T18:59:53.438Z"
      },
      {
        "duration": 36,
        "start_time": "2022-10-05T18:59:54.491Z"
      },
      {
        "duration": 18,
        "start_time": "2022-10-05T18:59:54.530Z"
      },
      {
        "duration": 2050,
        "start_time": "2022-10-05T18:59:54.550Z"
      },
      {
        "duration": 106,
        "start_time": "2022-10-05T18:59:56.602Z"
      },
      {
        "duration": 0,
        "start_time": "2022-10-05T18:59:56.710Z"
      },
      {
        "duration": 0,
        "start_time": "2022-10-05T18:59:56.711Z"
      },
      {
        "duration": 0,
        "start_time": "2022-10-05T18:59:56.712Z"
      },
      {
        "duration": 0,
        "start_time": "2022-10-05T18:59:56.713Z"
      },
      {
        "duration": 0,
        "start_time": "2022-10-05T18:59:56.723Z"
      },
      {
        "duration": 0,
        "start_time": "2022-10-05T18:59:56.724Z"
      },
      {
        "duration": 0,
        "start_time": "2022-10-05T18:59:56.725Z"
      },
      {
        "duration": 0,
        "start_time": "2022-10-05T18:59:56.726Z"
      },
      {
        "duration": 26,
        "start_time": "2022-10-05T19:00:32.565Z"
      },
      {
        "duration": 163,
        "start_time": "2022-10-05T19:01:04.437Z"
      },
      {
        "duration": 32,
        "start_time": "2022-10-05T19:01:12.209Z"
      },
      {
        "duration": 10,
        "start_time": "2022-10-05T19:01:18.348Z"
      },
      {
        "duration": 1814,
        "start_time": "2022-10-05T19:01:27.135Z"
      },
      {
        "duration": 36,
        "start_time": "2022-10-05T19:01:46.151Z"
      },
      {
        "duration": 763,
        "start_time": "2022-10-05T19:06:23.884Z"
      },
      {
        "duration": 25,
        "start_time": "2022-10-05T19:06:24.648Z"
      },
      {
        "duration": 10,
        "start_time": "2022-10-05T19:06:24.675Z"
      },
      {
        "duration": 1874,
        "start_time": "2022-10-05T19:06:24.686Z"
      },
      {
        "duration": 90,
        "start_time": "2022-10-05T19:06:26.561Z"
      },
      {
        "duration": 0,
        "start_time": "2022-10-05T19:06:26.652Z"
      },
      {
        "duration": 0,
        "start_time": "2022-10-05T19:06:26.654Z"
      },
      {
        "duration": 0,
        "start_time": "2022-10-05T19:06:26.655Z"
      },
      {
        "duration": 0,
        "start_time": "2022-10-05T19:06:26.656Z"
      },
      {
        "duration": 0,
        "start_time": "2022-10-05T19:06:26.657Z"
      },
      {
        "duration": 0,
        "start_time": "2022-10-05T19:06:26.657Z"
      },
      {
        "duration": 0,
        "start_time": "2022-10-05T19:06:26.658Z"
      },
      {
        "duration": 0,
        "start_time": "2022-10-05T19:06:26.659Z"
      },
      {
        "duration": 30,
        "start_time": "2022-10-05T19:08:05.203Z"
      },
      {
        "duration": 25,
        "start_time": "2022-10-05T19:09:38.475Z"
      },
      {
        "duration": 25,
        "start_time": "2022-10-05T19:09:44.714Z"
      },
      {
        "duration": 36,
        "start_time": "2022-10-05T19:09:50.054Z"
      },
      {
        "duration": 25,
        "start_time": "2022-10-05T19:18:19.609Z"
      },
      {
        "duration": 94,
        "start_time": "2022-10-05T19:18:57.712Z"
      },
      {
        "duration": 39,
        "start_time": "2022-10-05T19:26:02.455Z"
      },
      {
        "duration": 32,
        "start_time": "2022-10-05T19:26:22.238Z"
      },
      {
        "duration": 32,
        "start_time": "2022-10-05T19:27:06.650Z"
      },
      {
        "duration": 29,
        "start_time": "2022-10-05T19:27:14.527Z"
      },
      {
        "duration": 28,
        "start_time": "2022-10-05T19:27:46.337Z"
      },
      {
        "duration": 27,
        "start_time": "2022-10-05T19:28:04.291Z"
      },
      {
        "duration": 28,
        "start_time": "2022-10-05T19:28:23.632Z"
      },
      {
        "duration": 29,
        "start_time": "2022-10-05T19:28:30.991Z"
      },
      {
        "duration": 9,
        "start_time": "2022-10-05T19:29:06.867Z"
      },
      {
        "duration": 33,
        "start_time": "2022-10-05T19:29:21.839Z"
      },
      {
        "duration": 10,
        "start_time": "2022-10-05T19:29:30.572Z"
      },
      {
        "duration": 11,
        "start_time": "2022-10-05T19:29:40.689Z"
      },
      {
        "duration": 40,
        "start_time": "2022-10-05T19:29:52.124Z"
      },
      {
        "duration": 5,
        "start_time": "2022-10-05T19:34:04.075Z"
      },
      {
        "duration": 9,
        "start_time": "2022-10-05T19:34:42.966Z"
      },
      {
        "duration": 8,
        "start_time": "2022-10-05T19:34:58.141Z"
      },
      {
        "duration": 10,
        "start_time": "2022-10-05T19:35:23.782Z"
      },
      {
        "duration": 8,
        "start_time": "2022-10-05T19:36:09.486Z"
      },
      {
        "duration": 5,
        "start_time": "2022-10-05T19:36:26.500Z"
      },
      {
        "duration": 5,
        "start_time": "2022-10-05T19:36:37.452Z"
      },
      {
        "duration": 132,
        "start_time": "2022-10-05T19:55:58.877Z"
      },
      {
        "duration": 91,
        "start_time": "2022-10-05T19:56:16.625Z"
      },
      {
        "duration": 79,
        "start_time": "2022-10-05T19:57:57.609Z"
      },
      {
        "duration": 100,
        "start_time": "2022-10-05T19:59:26.026Z"
      },
      {
        "duration": 13,
        "start_time": "2022-10-05T20:00:59.442Z"
      },
      {
        "duration": 11,
        "start_time": "2022-10-05T20:01:14.563Z"
      },
      {
        "duration": 1898,
        "start_time": "2022-10-05T20:01:45.770Z"
      },
      {
        "duration": 9,
        "start_time": "2022-10-05T20:07:33.044Z"
      },
      {
        "duration": 9,
        "start_time": "2022-10-05T20:07:41.262Z"
      },
      {
        "duration": 8,
        "start_time": "2022-10-05T20:07:47.593Z"
      },
      {
        "duration": 8,
        "start_time": "2022-10-05T20:09:03.778Z"
      },
      {
        "duration": 15,
        "start_time": "2022-10-05T20:09:39.921Z"
      },
      {
        "duration": 15,
        "start_time": "2022-10-05T20:09:47.452Z"
      },
      {
        "duration": 11,
        "start_time": "2022-10-05T20:10:26.692Z"
      },
      {
        "duration": 9,
        "start_time": "2022-10-05T20:11:10.917Z"
      },
      {
        "duration": 12,
        "start_time": "2022-10-05T20:11:23.074Z"
      },
      {
        "duration": 63,
        "start_time": "2022-10-05T20:12:48.967Z"
      },
      {
        "duration": 12,
        "start_time": "2022-10-05T20:14:42.818Z"
      },
      {
        "duration": 23,
        "start_time": "2022-10-05T20:22:36.858Z"
      },
      {
        "duration": 17,
        "start_time": "2022-10-05T20:23:05.853Z"
      },
      {
        "duration": 11,
        "start_time": "2022-10-05T20:23:17.318Z"
      },
      {
        "duration": 17,
        "start_time": "2022-10-05T20:23:36.208Z"
      },
      {
        "duration": 14,
        "start_time": "2022-10-05T20:23:42.126Z"
      },
      {
        "duration": 14,
        "start_time": "2022-10-05T20:23:47.558Z"
      },
      {
        "duration": 16,
        "start_time": "2022-10-05T20:23:52.048Z"
      },
      {
        "duration": 17,
        "start_time": "2022-10-05T20:23:56.509Z"
      },
      {
        "duration": 15,
        "start_time": "2022-10-05T20:24:00.688Z"
      },
      {
        "duration": 154,
        "start_time": "2022-10-05T20:24:40.165Z"
      },
      {
        "duration": 8,
        "start_time": "2022-10-05T20:25:11.458Z"
      },
      {
        "duration": 19,
        "start_time": "2022-10-05T20:28:03.837Z"
      },
      {
        "duration": 743,
        "start_time": "2022-10-05T20:28:13.122Z"
      },
      {
        "duration": 25,
        "start_time": "2022-10-05T20:28:13.867Z"
      },
      {
        "duration": 12,
        "start_time": "2022-10-05T20:28:13.893Z"
      },
      {
        "duration": 1710,
        "start_time": "2022-10-05T20:28:13.906Z"
      },
      {
        "duration": 33,
        "start_time": "2022-10-05T20:28:15.617Z"
      },
      {
        "duration": 7,
        "start_time": "2022-10-05T20:28:15.652Z"
      },
      {
        "duration": 33,
        "start_time": "2022-10-05T20:28:15.660Z"
      },
      {
        "duration": 8,
        "start_time": "2022-10-05T20:28:15.695Z"
      },
      {
        "duration": 7,
        "start_time": "2022-10-05T20:28:15.722Z"
      },
      {
        "duration": 42,
        "start_time": "2022-10-05T20:28:15.731Z"
      },
      {
        "duration": 19,
        "start_time": "2022-10-05T20:28:15.774Z"
      },
      {
        "duration": 81,
        "start_time": "2022-10-05T20:28:15.794Z"
      },
      {
        "duration": 32,
        "start_time": "2022-10-05T20:29:35.773Z"
      },
      {
        "duration": 158,
        "start_time": "2022-10-05T20:30:16.566Z"
      },
      {
        "duration": 29,
        "start_time": "2022-10-05T20:30:22.795Z"
      },
      {
        "duration": 7,
        "start_time": "2022-10-05T20:30:28.727Z"
      },
      {
        "duration": 1739,
        "start_time": "2022-10-05T20:30:35.810Z"
      },
      {
        "duration": 38,
        "start_time": "2022-10-05T20:30:46.157Z"
      },
      {
        "duration": 2062,
        "start_time": "2022-10-05T20:31:07.390Z"
      },
      {
        "duration": 9,
        "start_time": "2022-10-05T20:31:21.638Z"
      },
      {
        "duration": 32,
        "start_time": "2022-10-05T20:31:26.522Z"
      },
      {
        "duration": 7,
        "start_time": "2022-10-05T20:31:37.443Z"
      },
      {
        "duration": 37,
        "start_time": "2022-10-05T20:31:43.974Z"
      },
      {
        "duration": 5,
        "start_time": "2022-10-05T20:33:54.379Z"
      },
      {
        "duration": 5,
        "start_time": "2022-10-05T20:34:11.721Z"
      },
      {
        "duration": 7,
        "start_time": "2022-10-05T20:34:25.984Z"
      },
      {
        "duration": 66,
        "start_time": "2022-10-05T20:34:49.984Z"
      },
      {
        "duration": 9,
        "start_time": "2022-10-05T20:35:16.520Z"
      },
      {
        "duration": 8,
        "start_time": "2022-10-05T20:35:19.707Z"
      },
      {
        "duration": 904,
        "start_time": "2022-10-05T20:35:30.143Z"
      },
      {
        "duration": 25,
        "start_time": "2022-10-05T20:35:31.049Z"
      },
      {
        "duration": 35,
        "start_time": "2022-10-05T20:35:31.076Z"
      },
      {
        "duration": 1720,
        "start_time": "2022-10-05T20:35:31.112Z"
      },
      {
        "duration": 32,
        "start_time": "2022-10-05T20:35:32.833Z"
      },
      {
        "duration": 7,
        "start_time": "2022-10-05T20:35:32.867Z"
      },
      {
        "duration": 34,
        "start_time": "2022-10-05T20:35:32.876Z"
      },
      {
        "duration": 8,
        "start_time": "2022-10-05T20:35:32.922Z"
      },
      {
        "duration": 8,
        "start_time": "2022-10-05T20:35:32.932Z"
      },
      {
        "duration": 34,
        "start_time": "2022-10-05T20:35:32.942Z"
      },
      {
        "duration": 86,
        "start_time": "2022-10-05T20:35:32.978Z"
      },
      {
        "duration": 0,
        "start_time": "2022-10-05T20:35:33.065Z"
      },
      {
        "duration": 0,
        "start_time": "2022-10-05T20:35:33.066Z"
      },
      {
        "duration": 7,
        "start_time": "2022-10-05T20:35:40.639Z"
      },
      {
        "duration": 8,
        "start_time": "2022-10-05T20:35:43.281Z"
      },
      {
        "duration": 8,
        "start_time": "2022-10-05T20:35:45.717Z"
      },
      {
        "duration": 27,
        "start_time": "2022-10-05T20:36:06.033Z"
      },
      {
        "duration": 70,
        "start_time": "2022-10-05T20:36:08.154Z"
      },
      {
        "duration": 68,
        "start_time": "2022-10-05T20:38:34.493Z"
      },
      {
        "duration": 77,
        "start_time": "2022-10-06T19:55:01.642Z"
      },
      {
        "duration": 1333,
        "start_time": "2022-10-06T19:55:27.894Z"
      },
      {
        "duration": 37,
        "start_time": "2022-10-06T19:55:29.229Z"
      },
      {
        "duration": 12,
        "start_time": "2022-10-06T19:55:29.268Z"
      },
      {
        "duration": 2510,
        "start_time": "2022-10-06T19:55:29.282Z"
      },
      {
        "duration": 46,
        "start_time": "2022-10-06T19:55:31.795Z"
      },
      {
        "duration": 11,
        "start_time": "2022-10-06T19:55:31.843Z"
      },
      {
        "duration": 67,
        "start_time": "2022-10-06T19:55:31.856Z"
      },
      {
        "duration": 13,
        "start_time": "2022-10-06T19:55:31.925Z"
      },
      {
        "duration": 11,
        "start_time": "2022-10-06T19:55:31.940Z"
      },
      {
        "duration": 79,
        "start_time": "2022-10-06T19:55:31.954Z"
      },
      {
        "duration": 33,
        "start_time": "2022-10-06T19:55:32.035Z"
      },
      {
        "duration": 114,
        "start_time": "2022-10-06T19:55:32.070Z"
      },
      {
        "duration": 8,
        "start_time": "2022-10-06T19:55:32.186Z"
      },
      {
        "duration": 4,
        "start_time": "2022-10-06T19:55:39.474Z"
      },
      {
        "duration": 101,
        "start_time": "2022-10-06T19:55:58.661Z"
      },
      {
        "duration": 8,
        "start_time": "2022-10-06T19:56:41.211Z"
      },
      {
        "duration": 8,
        "start_time": "2022-10-06T19:57:36.780Z"
      },
      {
        "duration": 7,
        "start_time": "2022-10-06T19:57:45.109Z"
      },
      {
        "duration": 7,
        "start_time": "2022-10-06T19:58:17.188Z"
      },
      {
        "duration": 9,
        "start_time": "2022-10-06T20:03:04.602Z"
      },
      {
        "duration": 7,
        "start_time": "2022-10-06T20:11:12.884Z"
      },
      {
        "duration": 8,
        "start_time": "2022-10-06T20:12:06.828Z"
      },
      {
        "duration": 69,
        "start_time": "2022-10-06T20:27:15.691Z"
      },
      {
        "duration": 330,
        "start_time": "2022-10-06T20:27:54.846Z"
      },
      {
        "duration": 6,
        "start_time": "2022-10-06T20:45:58.176Z"
      },
      {
        "duration": 6,
        "start_time": "2022-10-06T20:46:50.115Z"
      },
      {
        "duration": 8,
        "start_time": "2022-10-06T20:47:09.274Z"
      },
      {
        "duration": 6,
        "start_time": "2022-10-06T20:47:15.396Z"
      },
      {
        "duration": 19,
        "start_time": "2022-10-06T20:48:12.893Z"
      },
      {
        "duration": 7,
        "start_time": "2022-10-06T20:48:28.042Z"
      },
      {
        "duration": 43,
        "start_time": "2022-10-08T18:35:43.543Z"
      },
      {
        "duration": 1144,
        "start_time": "2022-10-08T18:36:11.949Z"
      },
      {
        "duration": 27,
        "start_time": "2022-10-08T18:36:13.095Z"
      },
      {
        "duration": 18,
        "start_time": "2022-10-08T18:36:13.124Z"
      },
      {
        "duration": 1805,
        "start_time": "2022-10-08T18:36:13.144Z"
      },
      {
        "duration": 34,
        "start_time": "2022-10-08T18:36:14.951Z"
      },
      {
        "duration": 8,
        "start_time": "2022-10-08T18:36:14.986Z"
      },
      {
        "duration": 41,
        "start_time": "2022-10-08T18:36:14.996Z"
      },
      {
        "duration": 9,
        "start_time": "2022-10-08T18:36:15.038Z"
      },
      {
        "duration": 9,
        "start_time": "2022-10-08T18:36:15.048Z"
      },
      {
        "duration": 36,
        "start_time": "2022-10-08T18:36:15.059Z"
      },
      {
        "duration": 52,
        "start_time": "2022-10-08T18:36:15.096Z"
      },
      {
        "duration": 88,
        "start_time": "2022-10-08T18:36:15.149Z"
      },
      {
        "duration": 6,
        "start_time": "2022-10-08T18:36:15.239Z"
      },
      {
        "duration": 11,
        "start_time": "2022-10-08T18:36:15.246Z"
      },
      {
        "duration": 6,
        "start_time": "2022-10-08T18:36:15.258Z"
      },
      {
        "duration": 6,
        "start_time": "2022-10-08T18:36:15.266Z"
      },
      {
        "duration": 307,
        "start_time": "2022-10-08T18:36:15.274Z"
      },
      {
        "duration": 6,
        "start_time": "2022-10-08T18:36:15.583Z"
      },
      {
        "duration": 293,
        "start_time": "2022-10-08T18:36:15.591Z"
      },
      {
        "duration": 328,
        "start_time": "2022-10-08T18:37:08.929Z"
      },
      {
        "duration": 275,
        "start_time": "2022-10-08T18:43:58.009Z"
      },
      {
        "duration": 264,
        "start_time": "2022-10-08T18:44:22.477Z"
      },
      {
        "duration": 275,
        "start_time": "2022-10-08T19:18:27.608Z"
      },
      {
        "duration": 299,
        "start_time": "2022-10-08T19:29:19.928Z"
      },
      {
        "duration": 275,
        "start_time": "2022-10-08T19:29:54.005Z"
      },
      {
        "duration": 355,
        "start_time": "2022-10-08T19:41:52.886Z"
      },
      {
        "duration": 264,
        "start_time": "2022-10-08T19:53:00.329Z"
      },
      {
        "duration": 197,
        "start_time": "2022-10-08T20:01:59.444Z"
      },
      {
        "duration": 136,
        "start_time": "2022-10-08T20:02:14.957Z"
      },
      {
        "duration": 150,
        "start_time": "2022-10-08T20:04:04.129Z"
      },
      {
        "duration": 161,
        "start_time": "2022-10-08T20:04:29.140Z"
      },
      {
        "duration": 146,
        "start_time": "2022-10-08T20:04:44.684Z"
      },
      {
        "duration": 160,
        "start_time": "2022-10-08T20:04:53.830Z"
      },
      {
        "duration": 262,
        "start_time": "2022-10-08T20:05:07.829Z"
      },
      {
        "duration": 994,
        "start_time": "2022-10-08T20:09:15.459Z"
      },
      {
        "duration": 167,
        "start_time": "2022-10-08T20:09:30.038Z"
      },
      {
        "duration": 160,
        "start_time": "2022-10-08T20:09:41.166Z"
      },
      {
        "duration": 138,
        "start_time": "2022-10-08T20:09:51.522Z"
      },
      {
        "duration": 265,
        "start_time": "2022-10-08T20:13:14.435Z"
      },
      {
        "duration": 220,
        "start_time": "2022-10-08T20:18:55.180Z"
      },
      {
        "duration": 15,
        "start_time": "2022-10-08T20:19:31.609Z"
      },
      {
        "duration": 160,
        "start_time": "2022-10-08T20:20:14.034Z"
      },
      {
        "duration": 119,
        "start_time": "2022-10-08T20:23:11.497Z"
      },
      {
        "duration": 109,
        "start_time": "2022-10-08T20:23:18.415Z"
      },
      {
        "duration": 286,
        "start_time": "2022-10-08T20:27:07.286Z"
      },
      {
        "duration": 251,
        "start_time": "2022-10-08T20:36:12.115Z"
      },
      {
        "duration": 217,
        "start_time": "2022-10-08T20:36:19.986Z"
      },
      {
        "duration": 194,
        "start_time": "2022-10-08T20:49:24.705Z"
      },
      {
        "duration": 192,
        "start_time": "2022-10-08T20:49:32.315Z"
      },
      {
        "duration": 209,
        "start_time": "2022-10-08T20:49:42.579Z"
      },
      {
        "duration": 203,
        "start_time": "2022-10-08T20:49:48.343Z"
      },
      {
        "duration": 200,
        "start_time": "2022-10-08T21:18:10.830Z"
      },
      {
        "duration": 280,
        "start_time": "2022-10-08T21:25:04.207Z"
      },
      {
        "duration": 187,
        "start_time": "2022-10-08T21:25:11.800Z"
      },
      {
        "duration": 220,
        "start_time": "2022-10-08T21:25:20.332Z"
      },
      {
        "duration": 187,
        "start_time": "2022-10-08T21:32:10.333Z"
      },
      {
        "duration": 192,
        "start_time": "2022-10-08T21:32:19.787Z"
      },
      {
        "duration": 188,
        "start_time": "2022-10-08T21:36:22.698Z"
      },
      {
        "duration": 286,
        "start_time": "2022-10-08T21:46:16.451Z"
      },
      {
        "duration": 289,
        "start_time": "2022-10-08T21:47:18.417Z"
      },
      {
        "duration": 427,
        "start_time": "2022-10-08T21:48:05.941Z"
      },
      {
        "duration": 272,
        "start_time": "2022-10-08T21:49:18.084Z"
      },
      {
        "duration": 259,
        "start_time": "2022-10-08T21:49:27.587Z"
      },
      {
        "duration": 297,
        "start_time": "2022-10-08T21:49:39.554Z"
      },
      {
        "duration": 263,
        "start_time": "2022-10-08T21:49:50.340Z"
      },
      {
        "duration": 136,
        "start_time": "2022-10-08T22:52:39.040Z"
      },
      {
        "duration": 241,
        "start_time": "2022-10-08T22:59:51.789Z"
      },
      {
        "duration": 137,
        "start_time": "2022-10-08T23:03:11.637Z"
      },
      {
        "duration": 143,
        "start_time": "2022-10-08T23:14:10.219Z"
      },
      {
        "duration": 394,
        "start_time": "2022-10-08T23:18:14.280Z"
      },
      {
        "duration": 417,
        "start_time": "2022-10-08T23:20:35.725Z"
      },
      {
        "duration": 49,
        "start_time": "2022-10-09T10:08:36.976Z"
      },
      {
        "duration": 1301,
        "start_time": "2022-10-09T10:08:47.718Z"
      },
      {
        "duration": 47,
        "start_time": "2022-10-09T10:08:49.022Z"
      },
      {
        "duration": 8,
        "start_time": "2022-10-09T10:08:49.071Z"
      },
      {
        "duration": 2008,
        "start_time": "2022-10-09T10:08:49.081Z"
      },
      {
        "duration": 36,
        "start_time": "2022-10-09T10:08:51.091Z"
      },
      {
        "duration": 17,
        "start_time": "2022-10-09T10:08:51.129Z"
      },
      {
        "duration": 45,
        "start_time": "2022-10-09T10:08:51.148Z"
      },
      {
        "duration": 10,
        "start_time": "2022-10-09T10:08:51.195Z"
      },
      {
        "duration": 9,
        "start_time": "2022-10-09T10:08:51.208Z"
      },
      {
        "duration": 47,
        "start_time": "2022-10-09T10:08:51.235Z"
      },
      {
        "duration": 21,
        "start_time": "2022-10-09T10:08:51.284Z"
      },
      {
        "duration": 106,
        "start_time": "2022-10-09T10:08:51.307Z"
      },
      {
        "duration": 25,
        "start_time": "2022-10-09T10:08:51.415Z"
      },
      {
        "duration": 8,
        "start_time": "2022-10-09T10:08:51.448Z"
      },
      {
        "duration": 9,
        "start_time": "2022-10-09T10:08:51.457Z"
      },
      {
        "duration": 6,
        "start_time": "2022-10-09T10:08:51.468Z"
      },
      {
        "duration": 304,
        "start_time": "2022-10-09T10:08:51.476Z"
      },
      {
        "duration": 6,
        "start_time": "2022-10-09T10:08:51.782Z"
      },
      {
        "duration": 294,
        "start_time": "2022-10-09T10:08:51.790Z"
      },
      {
        "duration": 379,
        "start_time": "2022-10-09T10:08:52.086Z"
      },
      {
        "duration": 298,
        "start_time": "2022-10-09T10:08:52.467Z"
      },
      {
        "duration": 305,
        "start_time": "2022-10-09T10:08:52.767Z"
      },
      {
        "duration": 203,
        "start_time": "2022-10-09T10:08:53.074Z"
      },
      {
        "duration": 174,
        "start_time": "2022-10-09T10:08:53.280Z"
      },
      {
        "duration": 225,
        "start_time": "2022-10-09T10:08:53.456Z"
      },
      {
        "duration": 126,
        "start_time": "2022-10-09T10:08:53.683Z"
      },
      {
        "duration": 220,
        "start_time": "2022-10-09T10:08:53.811Z"
      },
      {
        "duration": 348,
        "start_time": "2022-10-09T10:08:54.033Z"
      },
      {
        "duration": 217,
        "start_time": "2022-10-09T10:08:54.382Z"
      },
      {
        "duration": 227,
        "start_time": "2022-10-09T10:08:54.601Z"
      },
      {
        "duration": 230,
        "start_time": "2022-10-09T10:08:54.830Z"
      },
      {
        "duration": 220,
        "start_time": "2022-10-09T10:08:55.062Z"
      },
      {
        "duration": 334,
        "start_time": "2022-10-09T10:08:55.284Z"
      },
      {
        "duration": 191,
        "start_time": "2022-10-09T10:08:55.621Z"
      },
      {
        "duration": 170,
        "start_time": "2022-10-09T10:08:55.814Z"
      },
      {
        "duration": 158,
        "start_time": "2022-10-09T10:08:55.986Z"
      },
      {
        "duration": 317,
        "start_time": "2022-10-09T10:08:56.150Z"
      },
      {
        "duration": 536,
        "start_time": "2022-10-09T10:08:56.470Z"
      },
      {
        "duration": 0,
        "start_time": "2022-10-09T10:08:57.008Z"
      },
      {
        "duration": 532,
        "start_time": "2022-10-09T10:10:13.164Z"
      },
      {
        "duration": 187,
        "start_time": "2022-10-09T10:10:39.928Z"
      },
      {
        "duration": 55,
        "start_time": "2022-10-09T10:20:58.820Z"
      },
      {
        "duration": 17,
        "start_time": "2022-10-09T10:21:04.315Z"
      },
      {
        "duration": 206,
        "start_time": "2022-10-09T10:23:37.497Z"
      },
      {
        "duration": 159,
        "start_time": "2022-10-09T10:23:56.756Z"
      },
      {
        "duration": 188,
        "start_time": "2022-10-09T10:37:29.156Z"
      },
      {
        "duration": 171,
        "start_time": "2022-10-09T10:37:53.115Z"
      },
      {
        "duration": 228,
        "start_time": "2022-10-09T10:40:04.756Z"
      },
      {
        "duration": 155,
        "start_time": "2022-10-09T10:48:43.459Z"
      },
      {
        "duration": 146,
        "start_time": "2022-10-09T11:12:49.888Z"
      },
      {
        "duration": 33,
        "start_time": "2022-10-09T11:23:37.960Z"
      },
      {
        "duration": 30,
        "start_time": "2022-10-09T11:23:56.277Z"
      },
      {
        "duration": 37,
        "start_time": "2022-10-09T11:25:12.391Z"
      },
      {
        "duration": 26,
        "start_time": "2022-10-09T11:25:17.820Z"
      },
      {
        "duration": 28,
        "start_time": "2022-10-09T11:25:25.576Z"
      },
      {
        "duration": 26,
        "start_time": "2022-10-09T11:27:09.946Z"
      },
      {
        "duration": 26,
        "start_time": "2022-10-09T11:27:43.285Z"
      },
      {
        "duration": 27,
        "start_time": "2022-10-09T11:27:52.062Z"
      },
      {
        "duration": 28,
        "start_time": "2022-10-09T11:39:03.603Z"
      },
      {
        "duration": 32,
        "start_time": "2022-10-09T11:40:20.172Z"
      },
      {
        "duration": 37,
        "start_time": "2022-10-09T11:42:01.470Z"
      },
      {
        "duration": 8,
        "start_time": "2022-10-09T11:42:42.753Z"
      },
      {
        "duration": 10,
        "start_time": "2022-10-09T11:43:23.085Z"
      },
      {
        "duration": 34,
        "start_time": "2022-10-09T11:45:12.667Z"
      },
      {
        "duration": 108,
        "start_time": "2022-10-09T11:50:53.539Z"
      },
      {
        "duration": 228,
        "start_time": "2022-10-09T11:53:04.448Z"
      },
      {
        "duration": 136,
        "start_time": "2022-10-09T11:55:17.384Z"
      },
      {
        "duration": 129,
        "start_time": "2022-10-09T11:56:14.045Z"
      },
      {
        "duration": 129,
        "start_time": "2022-10-09T11:56:19.247Z"
      },
      {
        "duration": 142,
        "start_time": "2022-10-09T11:56:33.312Z"
      },
      {
        "duration": 1001,
        "start_time": "2022-10-09T11:57:14.346Z"
      },
      {
        "duration": 151,
        "start_time": "2022-10-09T11:57:37.476Z"
      },
      {
        "duration": 757,
        "start_time": "2022-10-09T13:28:06.703Z"
      },
      {
        "duration": 27,
        "start_time": "2022-10-09T13:28:07.462Z"
      },
      {
        "duration": 9,
        "start_time": "2022-10-09T13:28:07.491Z"
      },
      {
        "duration": 1727,
        "start_time": "2022-10-09T13:28:07.502Z"
      },
      {
        "duration": 32,
        "start_time": "2022-10-09T13:28:09.230Z"
      },
      {
        "duration": 9,
        "start_time": "2022-10-09T13:28:09.264Z"
      },
      {
        "duration": 48,
        "start_time": "2022-10-09T13:28:09.274Z"
      },
      {
        "duration": 9,
        "start_time": "2022-10-09T13:28:09.324Z"
      },
      {
        "duration": 8,
        "start_time": "2022-10-09T13:28:09.335Z"
      },
      {
        "duration": 38,
        "start_time": "2022-10-09T13:28:09.346Z"
      },
      {
        "duration": 50,
        "start_time": "2022-10-09T13:28:09.386Z"
      },
      {
        "duration": 88,
        "start_time": "2022-10-09T13:28:09.438Z"
      },
      {
        "duration": 6,
        "start_time": "2022-10-09T13:28:09.527Z"
      },
      {
        "duration": 9,
        "start_time": "2022-10-09T13:28:09.535Z"
      },
      {
        "duration": 8,
        "start_time": "2022-10-09T13:28:09.545Z"
      },
      {
        "duration": 10,
        "start_time": "2022-10-09T13:28:09.554Z"
      },
      {
        "duration": 279,
        "start_time": "2022-10-09T13:28:09.566Z"
      },
      {
        "duration": 6,
        "start_time": "2022-10-09T13:28:09.846Z"
      },
      {
        "duration": 266,
        "start_time": "2022-10-09T13:28:09.853Z"
      },
      {
        "duration": 319,
        "start_time": "2022-10-09T13:28:10.121Z"
      },
      {
        "duration": 269,
        "start_time": "2022-10-09T13:28:10.441Z"
      },
      {
        "duration": 250,
        "start_time": "2022-10-09T13:28:10.711Z"
      },
      {
        "duration": 167,
        "start_time": "2022-10-09T13:28:10.963Z"
      },
      {
        "duration": 146,
        "start_time": "2022-10-09T13:28:11.131Z"
      },
      {
        "duration": 223,
        "start_time": "2022-10-09T13:28:11.278Z"
      },
      {
        "duration": 140,
        "start_time": "2022-10-09T13:28:11.503Z"
      },
      {
        "duration": 245,
        "start_time": "2022-10-09T13:28:11.645Z"
      },
      {
        "duration": 322,
        "start_time": "2022-10-09T13:28:11.893Z"
      },
      {
        "duration": 218,
        "start_time": "2022-10-09T13:28:12.216Z"
      },
      {
        "duration": 225,
        "start_time": "2022-10-09T13:28:12.436Z"
      },
      {
        "duration": 208,
        "start_time": "2022-10-09T13:28:12.662Z"
      },
      {
        "duration": 203,
        "start_time": "2022-10-09T13:28:12.872Z"
      },
      {
        "duration": 291,
        "start_time": "2022-10-09T13:28:13.076Z"
      },
      {
        "duration": 181,
        "start_time": "2022-10-09T13:28:13.369Z"
      },
      {
        "duration": 171,
        "start_time": "2022-10-09T13:28:13.552Z"
      },
      {
        "duration": 140,
        "start_time": "2022-10-09T13:28:13.725Z"
      },
      {
        "duration": 231,
        "start_time": "2022-10-09T13:28:13.866Z"
      },
      {
        "duration": 147,
        "start_time": "2022-10-09T13:28:14.098Z"
      },
      {
        "duration": 156,
        "start_time": "2022-10-09T13:28:14.246Z"
      },
      {
        "duration": 154,
        "start_time": "2022-10-09T13:28:14.404Z"
      },
      {
        "duration": 151,
        "start_time": "2022-10-09T13:28:14.559Z"
      },
      {
        "duration": 33,
        "start_time": "2022-10-09T13:28:14.712Z"
      },
      {
        "duration": 76,
        "start_time": "2022-10-09T13:28:14.746Z"
      },
      {
        "duration": 28,
        "start_time": "2022-10-09T13:45:28.168Z"
      },
      {
        "duration": 153,
        "start_time": "2022-10-09T13:46:13.525Z"
      },
      {
        "duration": 157,
        "start_time": "2022-10-09T13:46:39.336Z"
      },
      {
        "duration": 74,
        "start_time": "2022-10-09T15:03:50.257Z"
      },
      {
        "duration": 55,
        "start_time": "2022-10-09T15:04:53.995Z"
      },
      {
        "duration": 77,
        "start_time": "2022-10-09T15:06:03.809Z"
      },
      {
        "duration": 47,
        "start_time": "2022-10-09T15:06:31.746Z"
      },
      {
        "duration": 669,
        "start_time": "2022-10-09T21:32:53.150Z"
      },
      {
        "duration": 0,
        "start_time": "2022-10-09T21:33:18.385Z"
      },
      {
        "duration": 681,
        "start_time": "2022-10-09T21:33:18.548Z"
      },
      {
        "duration": 42,
        "start_time": "2022-10-09T21:33:19.231Z"
      },
      {
        "duration": 9,
        "start_time": "2022-10-09T21:33:19.275Z"
      },
      {
        "duration": 2083,
        "start_time": "2022-10-09T21:33:19.286Z"
      },
      {
        "duration": 43,
        "start_time": "2022-10-09T21:33:21.372Z"
      },
      {
        "duration": 10,
        "start_time": "2022-10-09T21:33:21.416Z"
      },
      {
        "duration": 59,
        "start_time": "2022-10-09T21:33:21.428Z"
      },
      {
        "duration": 13,
        "start_time": "2022-10-09T21:33:21.490Z"
      },
      {
        "duration": 17,
        "start_time": "2022-10-09T21:33:21.505Z"
      },
      {
        "duration": 74,
        "start_time": "2022-10-09T21:33:21.525Z"
      },
      {
        "duration": 32,
        "start_time": "2022-10-09T21:33:21.601Z"
      },
      {
        "duration": 124,
        "start_time": "2022-10-09T21:33:21.655Z"
      },
      {
        "duration": 9,
        "start_time": "2022-10-09T21:33:21.781Z"
      },
      {
        "duration": 27,
        "start_time": "2022-10-09T21:33:21.792Z"
      },
      {
        "duration": 28,
        "start_time": "2022-10-09T21:33:21.821Z"
      },
      {
        "duration": 19,
        "start_time": "2022-10-09T21:33:21.851Z"
      },
      {
        "duration": 359,
        "start_time": "2022-10-09T21:33:21.873Z"
      },
      {
        "duration": 8,
        "start_time": "2022-10-09T21:33:22.234Z"
      },
      {
        "duration": 326,
        "start_time": "2022-10-09T21:33:22.254Z"
      },
      {
        "duration": 429,
        "start_time": "2022-10-09T21:33:22.582Z"
      },
      {
        "duration": 312,
        "start_time": "2022-10-09T21:33:23.014Z"
      },
      {
        "duration": 314,
        "start_time": "2022-10-09T21:33:23.327Z"
      },
      {
        "duration": 192,
        "start_time": "2022-10-09T21:33:23.643Z"
      },
      {
        "duration": 177,
        "start_time": "2022-10-09T21:33:23.837Z"
      },
      {
        "duration": 255,
        "start_time": "2022-10-09T21:33:24.016Z"
      },
      {
        "duration": 139,
        "start_time": "2022-10-09T21:33:24.273Z"
      },
      {
        "duration": 243,
        "start_time": "2022-10-09T21:33:24.414Z"
      },
      {
        "duration": 346,
        "start_time": "2022-10-09T21:33:24.661Z"
      },
      {
        "duration": 254,
        "start_time": "2022-10-09T21:33:25.009Z"
      },
      {
        "duration": 266,
        "start_time": "2022-10-09T21:33:25.265Z"
      },
      {
        "duration": 251,
        "start_time": "2022-10-09T21:33:25.533Z"
      },
      {
        "duration": 234,
        "start_time": "2022-10-09T21:33:25.785Z"
      },
      {
        "duration": 303,
        "start_time": "2022-10-09T21:33:26.021Z"
      },
      {
        "duration": 183,
        "start_time": "2022-10-09T21:33:26.326Z"
      },
      {
        "duration": 186,
        "start_time": "2022-10-09T21:33:26.511Z"
      },
      {
        "duration": 182,
        "start_time": "2022-10-09T21:33:26.699Z"
      },
      {
        "duration": 273,
        "start_time": "2022-10-09T21:33:26.883Z"
      },
      {
        "duration": 181,
        "start_time": "2022-10-09T21:33:27.158Z"
      },
      {
        "duration": 210,
        "start_time": "2022-10-09T21:33:27.341Z"
      },
      {
        "duration": 226,
        "start_time": "2022-10-09T21:33:27.553Z"
      },
      {
        "duration": 191,
        "start_time": "2022-10-09T21:33:27.781Z"
      },
      {
        "duration": 36,
        "start_time": "2022-10-09T21:33:27.974Z"
      },
      {
        "duration": 205,
        "start_time": "2022-10-09T21:33:28.013Z"
      },
      {
        "duration": 31,
        "start_time": "2022-10-09T21:35:22.298Z"
      },
      {
        "duration": 56,
        "start_time": "2022-10-09T21:35:32.064Z"
      },
      {
        "duration": 22,
        "start_time": "2022-10-09T21:36:19.243Z"
      },
      {
        "duration": 81,
        "start_time": "2022-10-09T21:41:46.780Z"
      },
      {
        "duration": 5,
        "start_time": "2022-10-09T21:42:54.126Z"
      },
      {
        "duration": 7,
        "start_time": "2022-10-09T21:43:22.063Z"
      },
      {
        "duration": 50,
        "start_time": "2022-10-09T21:45:31.665Z"
      },
      {
        "duration": 166,
        "start_time": "2022-10-09T21:53:37.846Z"
      },
      {
        "duration": 33,
        "start_time": "2022-10-09T21:59:23.797Z"
      },
      {
        "duration": 42,
        "start_time": "2022-10-09T22:01:42.809Z"
      }
    ],
    "toc": {
      "base_numbering": 1,
      "nav_menu": {},
      "number_sections": true,
      "sideBar": true,
      "skip_h1_title": true,
      "title_cell": "Table of Contents",
      "title_sidebar": "Contents",
      "toc_cell": false,
      "toc_position": {
        "height": "calc(100% - 180px)",
        "left": "10px",
        "top": "150px",
        "width": "165px"
      },
      "toc_section_display": true,
      "toc_window_display": true
    },
    "kernelspec": {
      "name": "python",
      "display_name": "Python (Pyodide)",
      "language": "python"
    },
    "language_info": {
      "codemirror_mode": {
        "name": "python",
        "version": 3
      },
      "file_extension": ".py",
      "mimetype": "text/x-python",
      "name": "python",
      "nbconvert_exporter": "python",
      "pygments_lexer": "ipython3",
      "version": "3.8"
    }
  },
  "nbformat_minor": 4,
  "nbformat": 4,
  "cells": [
    {
      "cell_type": "markdown",
      "source": "# Исследование объявлений о продаже квартир\n\nВ вашем распоряжении данные сервиса Яндекс.Недвижимость — архив объявлений о продаже квартир в Санкт-Петербурге и соседних населённых пунктов за несколько лет. Нужно научиться определять рыночную стоимость объектов недвижимости. Ваша задача — установить параметры. Это позволит построить автоматизированную систему: она отследит аномалии и мошенническую деятельность. \n\nПо каждой квартире на продажу доступны два вида данных. Первые вписаны пользователем, вторые — получены автоматически на основе картографических данных. Например, расстояние до центра, аэропорта, ближайшего парка и водоёма. ",
      "metadata": {}
    },
    {
      "cell_type": "markdown",
      "source": "**Цель исследования состоит в следующем:**\n* Найти параметры, по которым определяется цена недвижимости, чтобы система смогла следить за аномалиями и определять мошенническую деятельность\n* Поиск особенностей и зависимостей, котрые есть на рынке недвижимости",
      "metadata": {}
    },
    {
      "cell_type": "markdown",
      "source": "**Ход исследования:**\n* Изучение общей информации датасета\n* Поиск и замена пропущенных значений, изменение типа данных, поиск и обработка аномалий\n* Добавление новых столбцов с данными для более полного анализа\n* Изучение параметров объектов недвижимости, исследование скорости продажи объектов, иучение зависимости цены от различных параметров объектов\n* Определение самой высокой и самой низкой стоимости квадратного метра\n* Определение зависимости цены объекта от удалённости от центра",
      "metadata": {}
    },
    {
      "cell_type": "markdown",
      "source": "### Откройте файл с данными и изучите общую информацию. ",
      "metadata": {}
    },
    {
      "cell_type": "code",
      "source": "import pandas as pd\nimport matplotlib.pyplot as plt\ndata = pd.read_csv('/datasets/real_estate_data.csv', sep='\\t')\n#Посмотрим наличие пропусков\ndata.info()\n#Посмотрим общую информацию\ndata.describe()",
      "metadata": {},
      "execution_count": null,
      "outputs": []
    },
    {
      "cell_type": "code",
      "source": "#Выведем первые 10 строк датасета\ndata.head(10)",
      "metadata": {},
      "execution_count": null,
      "outputs": []
    },
    {
      "cell_type": "code",
      "source": "#Посмотрим количество пропусков\ndata.isna().sum()",
      "metadata": {},
      "execution_count": null,
      "outputs": []
    },
    {
      "cell_type": "code",
      "source": "#Построим гистограмму для всех столбцов\nimport matplotlib.pyplot as plt\ndata.hist(grid=True, figsize=(15, 20));plt.show()",
      "metadata": {},
      "execution_count": null,
      "outputs": []
    },
    {
      "cell_type": "markdown",
      "source": "**Пройдёмся по гистограммам:**\nВ целом значения распределяются нормально. Выбросов не наблюдается.",
      "metadata": {}
    },
    {
      "cell_type": "markdown",
      "source": "**Вывод:**\nВ столбцах ceiling_height, floors_total, living_area, is_apartment, kitchen_area, balcony, locality_name, airports_nearest, cityCenters_nearest, parks_around3000, parks_nearest, ponds_around3000, ponds_nearest, days_exposition есть пропуски.\nТакже:\n1. У столбца first_day_exposition долен быть тип \"datetime\"\n2. У столбцов floors_total, balcony, parks_around3000, ponds_around3000, days_exposition, airports_nearest, cityCenters_nearest, parks_nearest, ponds_nearest должен быть тип \"int\", т.к. числовые значения в них могут быть только целыми (вряд ли кто-то решит указать цену с копейками)\n3. У столбца is_apartment должен быть тип \"bool\"\n\nДанные нужно привести в порядок.\n\n* В столбце **is_apartment** слишком много пропусков, возможно это связано с тем, что многие люди не знают, что такое апартаменты, поэтому при заполнении данных они пропускали этот пункт. Знающие, наоборот, заполняли данные (раз они купили такую квартиру, значит разбираются в отличиях квартиры и апартаментов). Можно заменить NaN на \"False\", т.к., скорее всего, пропуски свидетельствуют о том, что квартира не является апартаментами (в договоре купли-продажи должна быть прописана информация о типе продаваемого/покупаемого помещения, в таком случае, если человек не знал, явлется ли квартира апартаментами, значит в договоре информаия про апартаменты не была указана, соответственно, помещение апартаментами не является).\n\n* В столбце **balcony** пропуски можно заменить на \"0\", т.к., вероятно, что раз информация по наличию балкона не указана, то балкона нет.\n\n* В столбце **ceiling_height** вместо пропусков можно поставить медианные значения. Пропуски могли появиться из-за того, что некоторые люди не считают эту информацию важно и обязательной к заполнению.\n\n* Столбец **floors_total** оставим без изменений, данных для анализа досаточно. Причина может быть такой же, как и предыдущем пункте.\n\n* Столбцы **living_area, kitchen_area** могут быть не заполнены из-за того, что квартира является студией. Пропуски заполнить не сможем (можно было бы рассчитать их путём вычитания и общей площади кухни/жилой площади, но у нас нет данных по площади сан. узла и коридора, которые также являются частью общей площади квартиры). Заполненных строк для анализа достаточно.\n\n* Столбец **locality_name** оставим как есть. Непонятна причина пропусков.\n\n* В столбцах **airports_nearest, cityCenters_nearest, parks_around3000, parks_nearest, ponds_around3000, ponds_nearest** данные были добавлены системой, мы их заполнить ничем не сможем, поэтому оставим всё как есть.\n\n* Столбец **days_exposition** тоже оставим в покое. Медианные или средние значения не подойдут, т.к. длительность продажи может зависеть и от других факторов, по которым нет данных (например, шумные соседи, трубы текут, ремонта нет). Имеющихся данных для анализа достаточно. Пропуски могли быть из-за того, что продавцы могли не убрать объявление с сайта после продажи.",
      "metadata": {}
    },
    {
      "cell_type": "markdown",
      "source": "### Предобработка данных",
      "metadata": {}
    },
    {
      "cell_type": "code",
      "source": "#Проверим % пропусков в датасете\npd.DataFrame(round(data.isna().mean()*100,)).style.background_gradient('coolwarm')",
      "metadata": {},
      "execution_count": null,
      "outputs": []
    },
    {
      "cell_type": "code",
      "source": "#Посмотрим количество пропусков и уникальные значения в столбце balcony\ndata['balcony'].isna().sum()\ndata['balcony'].unique()\n#Заменим пропуски в столбце balcony на \"0\" и заменим тип данных\ndata['balcony'] = data['balcony'].fillna(0).astype(int)\n\n#Посмотрим количество пропусков и уникальные значения в столбце is_apartment\ndata['is_apartment'].isna().sum()\ndata['is_apartment'].unique()\n#Заменим пропуски в столбце is_apartment на \"False\"\ndata['is_apartment'] = data['is_apartment'].fillna(False)\n\n#Посмотрим количество пропусков и уникальные значения в столбце ceiling_height\ndata['ceiling_height'].isna().sum()\ndata['ceiling_height'].unique()\n#Заменим пропуски в столбце ceiling_height на медианные значения\ndata['ceiling_height'] = data['ceiling_height'].fillna(data['ceiling_height'].median())\n\n#Заменим тип данных в столбце first_day_exposition на datetime (время неизвестно, поэтому его указывать не будем)\ndata['first_day_exposition'] = pd.to_datetime(data['first_day_exposition'], format = '%Y-%m-%d')\n\n#Заполним пропуски в столцах parks_around3000, ponds_around3000 нулями\ndata['parks_around3000'] = data['parks_around3000'].fillna(0)\ndata['ponds_around3000'] = data['ponds_around3000'].fillna(0)\n\n#Заменим пропуски в столбце floors_total на значения столца floor той же строки\nrow = data['floor']\ndata['floors_total'] = data['floors_total'].fillna(row)\n\n#Заменим тип данных в столбцах floors_total, parks_around3000, ponds_around3000, на int \ndata['floors_total'] = data['floors_total'].astype(int)\ndata['parks_around3000'] = data['parks_around3000'].astype(int)\ndata['ponds_around3000'] = data['ponds_around3000'].astype(int)\n\n#Тип столбцов days_exposition, airports_nearest, cityCenters_nearest, parks_nearest, ponds_nearest \n#не можем заменить на int из-за пропусков\n\n#Проверим изменения\ndata.info()",
      "metadata": {},
      "execution_count": null,
      "outputs": []
    },
    {
      "cell_type": "code",
      "source": "#Посмотрим значения столбца locality_name\ndata['locality_name'].value_counts()\ndata['locality_name'].unique()",
      "metadata": {},
      "execution_count": null,
      "outputs": []
    },
    {
      "cell_type": "code",
      "source": "#Приведём названия к одному виду и удалим пропуски\nbad_name = data[data['locality_name'].isnull()]\nbad_ind = bad_name.index\nprint(bad_ind)\ndata.drop(bad_ind, inplace=True)\n\ndef short_name(row):\n    split_name = row.split()\n    new_name = []\n    for name in split_name:\n        if name[0].isupper():\n            new_name.append(name)\n    new_name = ''.join(name for name in new_name)\n    return new_name\n\ndata['short_name'] = data['locality_name'].apply(short_name)\ndata['short_name'].unique()",
      "metadata": {},
      "execution_count": null,
      "outputs": []
    },
    {
      "cell_type": "code",
      "source": "#Посмотрим уникальные значения столбца ceiling_height и выведем 30 последних значений\nprint(data['ceiling_height'].sort_values().tail(30))\ndata['ceiling_height'].unique()",
      "metadata": {},
      "execution_count": null,
      "outputs": []
    },
    {
      "cell_type": "markdown",
      "source": "Большие значения могли появиться из-за человеческого фактора. Продавец поставил запятую не там где надо, и вот у него в квартире уже 20-ти метровые потолки. А вот высота потолка в 8 метров непонятно откуда взялась, проблемя явно не в запятой, лучше заменим все большие значения на более реальные",
      "metadata": {}
    },
    {
      "cell_type": "code",
      "source": "#Предположим, что 4-х метровые потолки действительно есть, в старых домах такая высота вполне может быть, а вот больше - вряд ли\n#Сначала округлим значения до 1 знака после запятой\ndata['ceiling_height'] = data['ceiling_height'].round(1)\n#Проверим преобразование\ndata['ceiling_height'].unique()\n#Заменим значения больше 4.5 метров на 4.5\nrow = data['ceiling_height'] > 4.5\ndata.loc[row, ['ceiling_height']] = 4.5\n\n#Проверим результат        \ndata['ceiling_height'].unique()",
      "metadata": {},
      "execution_count": null,
      "outputs": []
    },
    {
      "cell_type": "markdown",
      "source": "Уникальных значений стало намного меньше, с ними будет проще работать дальше. Все неправдоподобные значения были переделаны в нормальные",
      "metadata": {}
    },
    {
      "cell_type": "code",
      "source": "#Проверим, нет ли отрицательных знаений в столбцах airports_nearest, cityCenters_nearest, days_exposition, floor, floors_total,\n#kitchen_area, last_price, living_area, parks_around3000, parks_nearest, ponds_around3000, ponds_nearest, rooms, total_area, total_images\n#for airports_nearest, cityCenters_nearest, days_exposition, floor, floors_total, kitchen_area, last_price, living_area, parks_around3000, parks_nearest, ponds_around3000, ponds_nearest, rooms, total_area, total_images in data:\n    \n\nprint(data['airports_nearest'].sort_values().head())\nprint(data['cityCenters_nearest'].sort_values().head())\nprint(data['days_exposition'].sort_values().head())\nprint(data['floor'].sort_values().head())\nprint(data['floors_total'].sort_values().head())\nprint(data['kitchen_area'].sort_values().head())\nprint(data['last_price'].sort_values().head())\nprint(data['living_area'].sort_values().head())\nprint(data['parks_around3000'].sort_values().head())\nprint(data['parks_nearest'].sort_values().head())\nprint(data['ponds_around3000'].sort_values().head())\nprint(data['ponds_nearest'].sort_values().head())\nprint(data['rooms'].sort_values().head())\nprint(data['total_area'].sort_values().head())\nprint(data['total_images'].sort_values().head())",
      "metadata": {},
      "execution_count": null,
      "outputs": []
    },
    {
      "cell_type": "markdown",
      "source": "Отрицательных значений нет, работаем дальше. \nВызывает сомнение существование одноэтажного дома, но всё возможно.\nВ столбцах living_area и rooms есть аномальные значения, скорее всего они вызваны тем, что квартира является студией. Ведь у неё нет комнат и жилая площадь может быть маленькой (например, все метры ушли на кухню). Также имеет место быть вариант продажи доли.",
      "metadata": {}
    },
    {
      "cell_type": "code",
      "source": "#Посмотрим наличие дубликатов в датафрейме\ndata.duplicated().sum()",
      "metadata": {},
      "execution_count": null,
      "outputs": []
    },
    {
      "cell_type": "code",
      "source": "#Выведем общую информацию датафрейма\ndata.info()\ndata.describe()",
      "metadata": {
        "scrolled": true
      },
      "execution_count": null,
      "outputs": []
    },
    {
      "cell_type": "code",
      "source": "#Заменим тип данных в столце last_price на целочисленный\ndata['last_price'] = data['last_price'].astype('int')\n#Проверим результат\ndata['last_price'].head()",
      "metadata": {},
      "execution_count": null,
      "outputs": []
    },
    {
      "cell_type": "markdown",
      "source": "**Вывод:**\nДанные обработаны насколько возможно. \n* Пропуски заменены подходящими по логике значениями\n* Навания населённых пунктов приведены в нормальный вид\n* Изменены типы данных\n",
      "metadata": {}
    },
    {
      "cell_type": "markdown",
      "source": "### Посчитайте и добавьте в таблицу новые столбцы",
      "metadata": {}
    },
    {
      "cell_type": "code",
      "source": "#Добавим столбец с ценой квадратного метра и приведём столбец к типу int\ndata['one_met_price'] = data['last_price'] / data['total_area']\ndata['one_met_price'] = data['one_met_price'].astype(int)\n#Проверим результат\nprint(data['one_met_price'])",
      "metadata": {},
      "execution_count": null,
      "outputs": []
    },
    {
      "cell_type": "code",
      "source": "#Добавим столбец с днём недели публикации объявления\ndata['weekday'] = data['first_day_exposition'].dt.weekday\n#Проверим результат\nprint(data['weekday'])",
      "metadata": {},
      "execution_count": null,
      "outputs": []
    },
    {
      "cell_type": "code",
      "source": "#Добавим столбец с месяцем публикации объявлления и проверим результат\ndata['month'] = data['first_day_exposition'].dt.month\nprint(data['month'])",
      "metadata": {},
      "execution_count": null,
      "outputs": []
    },
    {
      "cell_type": "code",
      "source": "#Добавим год публикации объявления и проверим результат\ndata['year'] = data['first_day_exposition'].dt.year\nprint(data['year'])",
      "metadata": {},
      "execution_count": null,
      "outputs": []
    },
    {
      "cell_type": "code",
      "source": "#Напишем функцию категориации этажей и добавим столбец\ndef floor_cat(row):\n    floors_total = row['floors_total']\n    floor = row['floor']\n    if floor == 1:\n        return 'первый'\n    elif floor == floors_total:\n        return 'последний'\n    elif 1 < floor < floors_total:\n        return 'другой'\n    \ndata['floor_category'] = data.apply(floor_cat, axis=1)\n#Посмотрим на результат\nprint(data['floor_category'])",
      "metadata": {},
      "execution_count": null,
      "outputs": []
    },
    {
      "cell_type": "code",
      "source": "#Добавим столбец с расстоянием до центра города в километрах\ndata['center_distance'] = data['cityCenters_nearest'] / 1000\n#Округлим до целых значений\ndata['center_distance'] = data['center_distance'].round()\n#Проверим результат\nprint(data['center_distance'])",
      "metadata": {},
      "execution_count": null,
      "outputs": []
    },
    {
      "cell_type": "markdown",
      "source": "**Вывод:**\nСтолбцы добавлены, данных для анализа стало больше",
      "metadata": {}
    },
    {
      "cell_type": "markdown",
      "source": "### Проведите исследовательский анализ данных",
      "metadata": {}
    },
    {
      "cell_type": "code",
      "source": "#Построим гистограмму для изучения общей площади и выведем данные столбца\ndata.plot(y='total_area', kind='hist', bins=100, grid=True, figsize=(5, 3), range=(12, 150))\ndata['total_area'].describe()",
      "metadata": {},
      "execution_count": null,
      "outputs": []
    },
    {
      "cell_type": "markdown",
      "source": "**Вывод:** Самое пиковое значение на гистограмме у квартир с площадью 45 квадратных метров. Много квартир с площадью от 30 до 45 метров квадратных. Также есть довольно объёмный участок от 45 до 60 квадратных метров. Потом плотность идёт на спад. У гистограммы есть хвост справа. В данных есть выбросы, но на среднее они не особо влияют.",
      "metadata": {}
    },
    {
      "cell_type": "code",
      "source": "#Построим гистограмму для изучения жилой площади и выведем данные столбца\ndata.plot(y='living_area', kind='hist', bins=100, grid=True, figsize=(5, 3), range=(0, 100))\ndata['living_area'].describe()",
      "metadata": {},
      "execution_count": null,
      "outputs": []
    },
    {
      "cell_type": "markdown",
      "source": "**Вывод:** Самое пиковое значение у жилой площади на отметке 17 кв. метров. Значения в основном распределяются от 14 до 50 кв. метров. Между этими значениями есть участок, в котором отражено мало значений. Квартир с жилой площадью от 21 о 25 кв. метров на рынке немного. Далее плотность идёт на спад. У гистограммы есть длинный хвост справа. Это говорит о том,что квартир с жилой площадью больше 55 кв. метров очень мало.",
      "metadata": {}
    },
    {
      "cell_type": "code",
      "source": "#Построим гистограмму для изучения площади кухни и выведем данные столбца\ndata.plot(y='kitchen_area', kind='hist', bins=100, grid=True, figsize=(5, 3), range=(0, 60))\ndata['kitchen_area'].describe()",
      "metadata": {},
      "execution_count": null,
      "outputs": []
    },
    {
      "cell_type": "markdown",
      "source": "**Вывод:** Основная масса значений располагается в диапазоне от 5 до 15 кв. метров. Больше всего квартир с кухней 7 кв. метров. У гистограммы есть хвост справа, показывающий, что кухонь с метражом больше 15 кв. метров очень мало.",
      "metadata": {}
    },
    {
      "cell_type": "code",
      "source": "#Построим гистограмму для изучения цены объекта и выведем данные столбца\ndata.plot(y='last_price', kind='hist', bins=100, grid=True, figsize=(5, 3), range=(0, 15000000))\ndata['last_price'].describe()",
      "metadata": {},
      "execution_count": null,
      "outputs": []
    },
    {
      "cell_type": "markdown",
      "source": "**Вывод:** Гистограмма имеет вид пирамиды с небольшим хвостом справа. Наибольшее количество квартир продаётся за 4 млн.р. Квартиры в основном продаются в диапазоне от 2 млн. р. до 6.5 млн.р. Мало квартир продаётся дороже, чем 7 млн.р.",
      "metadata": {}
    },
    {
      "cell_type": "code",
      "source": "#Построим гистограмму для изучения количества комнат и выведем данные столбца\ndata.plot(y='rooms', kind='hist', bins=25, grid=True, figsize=(5, 3), range=(0, 10))\ndata['rooms'].describe()",
      "metadata": {},
      "execution_count": null,
      "outputs": []
    },
    {
      "cell_type": "markdown",
      "source": "**Вывод:** В данных есть выбросы, но на среднее это не влияет. На рынке больше всего однокомнатных и двухкомнатных квартир. Потом оидут трёхкомнатные. Четырёхкомнатных совсем мало и редко когда встречаются квартиры с пятью или больше комнатами. Студий тоже довольно мало.",
      "metadata": {}
    },
    {
      "cell_type": "code",
      "source": "#Построим гистограмму для изучения высоты потолков и выведем данные столбца\ndata.plot(y='ceiling_height', kind='hist', bins=10, grid=True, figsize=(5, 3), range=(2.5, 3.5))\ndata['ceiling_height'].describe()",
      "metadata": {},
      "execution_count": null,
      "outputs": []
    },
    {
      "cell_type": "markdown",
      "source": "**Вывод:** В основном на рынке у квартир потолки от 2.6 до 2.7 метров. Редко встречаются потолки ниже 2.6 метров и совсем реко выше 2.7 метров.",
      "metadata": {}
    },
    {
      "cell_type": "code",
      "source": "#Построим гистограмму для изучения этажа квартиры и выведем данные столбца\ndata.plot(y='floor', kind='hist', bins=50, grid=True, figsize=(5, 3), range=(1, 30))\ndata['floor'].describe()",
      "metadata": {},
      "execution_count": null,
      "outputs": []
    },
    {
      "cell_type": "markdown",
      "source": "**Вывод:** Большая часть квартир находится в промежутке от 1 до 5 этажа. Потом количество квартир идёт на спад. Выше 12 этажа продаётся мало квартир. Возможно, квартиры во многоэтажках продаются реже.",
      "metadata": {}
    },
    {
      "cell_type": "code",
      "source": "#Построим гистограмму для изучения типа этажа квартиры и выведем данные столбца\ndata['floor_category'].hist(bins=5, grid=True, figsize=(5, 3))\ndata['floor_category'].describe()",
      "metadata": {},
      "execution_count": null,
      "outputs": []
    },
    {
      "cell_type": "markdown",
      "source": "**Вывод:** Меньше всего квартир продаются на 1 этаже. Неалеко ушли картиры на последнем этаже. Чаще всего продатся квартиры в середине дома.",
      "metadata": {}
    },
    {
      "cell_type": "code",
      "source": "#Построим гистограмму для изучения общего количества этажей в доме и выведем данные столбца\ndata.plot(y='floors_total', kind='hist', bins=50, grid=True, figsize=(5, 3), range=(1, 30))\ndata['floors_total'].describe()",
      "metadata": {},
      "execution_count": null,
      "outputs": []
    },
    {
      "cell_type": "markdown",
      "source": "**Вывод:** На рынке больше всего квартир продаётся в пятиэтажных домах. Можно предположить, что пятиэтажек построено намного больше, чем домов с другим количеством этажей. Недалеко от них ушли девятиэтажные дома, их тоже довольно много. Домов с другим количеством этажей не так много. Среди них выделяются 4-х, 10-ти, 12-ти, 16-ти и 25-ти этажные дома. Если рассматривать их отдельно от пятиэтажек и девятиэтажек, то квартир на продажу в тех домах примерно равное количество.",
      "metadata": {}
    },
    {
      "cell_type": "code",
      "source": "#Построим гистограмму для изучения расстояния до центра города в метрах и выведем данные столбца\ndata.plot(y='cityCenters_nearest', kind='hist', bins=50, grid=True, figsize=(5, 3), range=(0, 30000))\ndata['cityCenters_nearest'].describe()",
      "metadata": {},
      "execution_count": null,
      "outputs": []
    },
    {
      "cell_type": "markdown",
      "source": "**Вывод:** Большинство квартир находится на расстоянии от 8000 до 17000 м от центра. Есть довольно внушительное количество квартир, расположенных на расстоянии от 4000 до 6000 м от центра. В остальных диапазонах квартир не так много.",
      "metadata": {}
    },
    {
      "cell_type": "code",
      "source": "#Построим гистограмму для изучения расстояния до ближайшего аэропорта и выведем данные столбца\ndata.plot(y='airports_nearest', kind='hist', bins=50, grid=True, figsize=(5, 3), range=(5000, 70000))\ndata['airports_nearest'].describe()",
      "metadata": {},
      "execution_count": null,
      "outputs": []
    },
    {
      "cell_type": "markdown",
      "source": "**Вывод:** В основном продаваемые квартиры находятся в диапазоне от 10000 до 55000 м до аэропорта. До 10000м расположено мало квартир. Начиная с 55000м идёт хвост, которы означает, что есть квартиры, находящиеся длеко от аэропорта, но их не так много. Больше всего квартир находятся на расстоянии в 20000м от аэропорта.",
      "metadata": {}
    },
    {
      "cell_type": "code",
      "source": "#Построим гистограмму для изучения расстояния до ближайшего парка и выведем данные столбца\ndata.plot(y='parks_nearest', kind='hist', bins=50, grid=True, figsize=(5, 3), range=(0, 5000))\ndata['parks_nearest'].describe()",
      "metadata": {},
      "execution_count": null,
      "outputs": []
    },
    {
      "cell_type": "markdown",
      "source": "**Вывод:** В данных очень много пропусков по этому столбцу, поэтому гистограмма может быть неточной. По имеющимся данным видно, что у большинства квартир парк находится на расстоянии в 500м. В основном парки удалены от квартир не дальше, чем на 900 метров. С удалённостью парков больше 1000м не так много квартир.",
      "metadata": {}
    },
    {
      "cell_type": "code",
      "source": "#Построим гистограмму для изучения дня публикации объявления и выведем данные столбца\ndata.plot(y='weekday', kind='hist', bins=50, grid=True, figsize=(5, 3), range=(0, 6))\ndata['weekday'].describe()",
      "metadata": {},
      "execution_count": null,
      "outputs": []
    },
    {
      "cell_type": "markdown",
      "source": "**Вывод:** Преимущественно публикуются объявления в будние дни. В выходныые публикуется почти в два раа меньше объявлений, чем в первые дни. В четверг подано больше всего объявлений, хоть разница с другими днями и не такая большая.",
      "metadata": {}
    },
    {
      "cell_type": "code",
      "source": "#Построим гистограмму для изучения месяца публикации объявления и выведем данные столбца\ndata.plot(y='month', kind='hist', bins=50, grid=True, figsize=(5, 3), range=(1, 12))\ndata['month'].describe()",
      "metadata": {},
      "execution_count": null,
      "outputs": []
    },
    {
      "cell_type": "markdown",
      "source": "**Вывод:** Больше всего публикаций было в феврале, марте, апреле и ноябре. Меньше всего публикаций было в мае.",
      "metadata": {}
    },
    {
      "cell_type": "code",
      "source": "#Изучим, как быстро продавались квартиры\n#Построим гистограмму по столбцу days_exposition\ndata.plot(y='days_exposition', kind='hist', bins=100, grid=True, figsize=(5, 3), range=(1, 300))\n#Посчитаем среднее и медиану\nprint('Среднее значение равно:', data['days_exposition'].mean())\nprint('Медиана равна:', data['days_exposition'].median())",
      "metadata": {},
      "execution_count": null,
      "outputs": []
    },
    {
      "cell_type": "markdown",
      "source": "**Вывод:** Самое пиковое значение у отметки в 45 дней. Чуть поменьше - 60 дней. Некоторые объекты продаются более 300 дней, но тут нужно учесть, что некоторые объявления забывают снимать с публикации после продажи, и объявление так и висит многие месяцы. Среднее время продажи составляет 180 дней. Медианное - 95 дней. Судя по гистограмме быстрыми продажами можно посчитать диапазон от 1 до 60 дней. Долгими - диапазон от 200 и выше. Следует отметить, что на сайте Яндекс.Недвижимость объявления автоматически акрываются каждые 45 и 60 дней, что искажает данные. Можно было бы их удалить, но тогда могут потеряться данные о реальной продаже в эти дни.",
      "metadata": {}
    },
    {
      "cell_type": "code",
      "source": "#Изучим зависимость полной стоимости от общей площади\ntotal_area_pt = data.pivot_table(index='total_area', values='last_price', aggfunc=['mean', 'count', 'median'])\ntotal_area_pt.columns = ['mean', 'count', 'median']\ntotal_area_pt.plot(y='median', style='o')\ntotal_area_pt.sort_values('median', ascending=False)\n\nprint(data['total_area'].corr(data['last_price']))",
      "metadata": {},
      "execution_count": null,
      "outputs": []
    },
    {
      "cell_type": "markdown",
      "source": "**Вывод:** Цена ощутимо зависит от общей площади. Корреляция Пирсона равна 0.6. Это доказывает, что чем больше площадь квартиры, тем выше цена за эту квартиру.",
      "metadata": {}
    },
    {
      "cell_type": "code",
      "source": "#Изучим зависимость стоимости от жилой площади\nliving_area_pt = data.pivot_table(index='living_area', values='last_price', aggfunc=['mean', 'count', 'median'])\nliving_area_pt.columns = ['mean', 'count', 'median']\nliving_area_pt.plot(y='median', style='o')\nliving_area_pt.sort_values('median', ascending=False)\n\nprint(data['living_area'].corr(data['last_price']))",
      "metadata": {},
      "execution_count": null,
      "outputs": []
    },
    {
      "cell_type": "markdown",
      "source": "**Вывод:** Корреляция Пирсона равна 0.5. Значит, метраж жилой площади влияет на общую стоимость квартиры. Чем больше площадь, тем больше стоимость квартиры.",
      "metadata": {}
    },
    {
      "cell_type": "code",
      "source": "#Изучим зависимость стоимости от площади кухни\nkitchen_area_pt = data.pivot_table(index='kitchen_area', values='last_price', aggfunc=['mean', 'count', 'median'])\nkitchen_area_pt.columns = ['mean', 'count', 'median']\nkitchen_area_pt.plot(y='median', style='o')\nkitchen_area_pt.sort_values('median', ascending=False)\n\nprint(data['kitchen_area'].corr(data['last_price']))",
      "metadata": {},
      "execution_count": null,
      "outputs": []
    },
    {
      "cell_type": "markdown",
      "source": "**Вывод:** Корреляция Пирсона составляет также 0.5. Зависимость стоимости есть, чем выше метраж кухни, тем выше стоимость квартиры. Хотя из графика видно, что это единичные случаи. Больше всего скопление в диапазоне от 0 до 55 кв. метров. И цена там не сильно различается.",
      "metadata": {}
    },
    {
      "cell_type": "code",
      "source": "#Изучим зависимость стоимости от количества комнат\nrooms_pt = data.pivot_table(index = 'rooms', values = 'last_price', aggfunc = ['mean', 'count', 'median'])\nrooms_pt.columns = ['mean', 'count', 'median']\nrooms_pt.query('count > 50').plot(y = 'median')\n\nrooms_pt.query('count > 50').sort_values('median', ascending = False)\n\ndata['rooms'].corr(data['last_price'])",
      "metadata": {},
      "execution_count": null,
      "outputs": []
    },
    {
      "cell_type": "markdown",
      "source": "**Вывод:** Зависимость есть. С увеличением числа комнат, стоимость квартиры растёт.",
      "metadata": {}
    },
    {
      "cell_type": "code",
      "source": "#Изучим зависимость стоимости от этажа, на котором расположена квартира (первый, последний, другой)\nfloor_category_pt = data.pivot_table(index = 'floor_category', values = 'last_price', aggfunc = ['mean', 'count', 'median'])\nfloor_category_pt.columns = ['mean', 'count', 'median']\nfloor_category_pt.plot(y = 'median')\nfloor_category_pt",
      "metadata": {},
      "execution_count": null,
      "outputs": []
    },
    {
      "cell_type": "markdown",
      "source": "**Вывод:** Из графика видно, что у квартир, расположенных на первом этаже, самая низкая цена. Самая высокая - у квартир, расположенных между первым и последним этажами. Цена на квартиры на посленем этаже не намного меньше цены на квартиры в середине дома. Цена зависит от этажа, если это первый или последний, осальные этажи будут примерно в одной ценовой категории.",
      "metadata": {}
    },
    {
      "cell_type": "code",
      "source": "#Изучим зависимость стоимости от дня размещения\nweekday_pt = data.pivot_table(index = 'weekday', values = 'last_price', aggfunc = ['mean', 'count', 'median'])\nweekday_pt.columns = ['mean', 'count', 'median']\nweekday_pt.plot(y = 'median')\n\nweekday_pt.sort_values('median', ascending = False)",
      "metadata": {},
      "execution_count": null,
      "outputs": []
    },
    {
      "cell_type": "markdown",
      "source": "**Вывод:** Из графика можно сделать вывод, что цена зависит от дня размещения объявления. Во вторник публикуются самые дорогие объявления. К концу недели цена на квартиры идёт на спад. В воскресенье устанавливается самая низкая цена. Хотя разница между самой высокой и самой низкой ценой не такая большая. Это связано с тем, что в выходные публикуется почти в два раза меньше объявлений. ",
      "metadata": {}
    },
    {
      "cell_type": "code",
      "source": "#Изучим зависимость стоимости от месяца размещения\nmonth_pt = data.pivot_table(index = 'month', values = 'last_price', aggfunc = ['mean', 'count', 'median'])\nmonth_pt.columns = ['mean', 'count', 'median']\nmonth_pt.plot(y = 'median')\n\nmonth_pt.sort_values('median', ascending = False)",
      "metadata": {},
      "execution_count": null,
      "outputs": []
    },
    {
      "cell_type": "markdown",
      "source": "**Вывод:** Самая высокая цена у объявлений, опубликованных в апреле, самая низкая - в июне. С начала года до апреля цена растёт, потом происходит падение. Возможно это связано с началом летнего сезона. Потом цена находится примерно в одном диапазоне. Повышается в нечётные месяцы, понижается в чётные.",
      "metadata": {}
    },
    {
      "cell_type": "code",
      "source": "#Изучим зависимость стоимости от года размещения\nyear_pt = data.pivot_table(index = 'year', values = 'last_price', aggfunc = ['mean', 'count', 'median'])\nyear_pt.columns = ['mean', 'count', 'median']\nyear_pt.plot(y = 'median')\n\nyear_pt.sort_values('median', ascending = False)",
      "metadata": {},
      "execution_count": null,
      "outputs": []
    },
    {
      "cell_type": "markdown",
      "source": "**Вывод:** В 2014 году было подано меньше всего объявлений, этот год мы не будем учитывать. В 2017 и 2018 году было больше всего объявлений(8000 против 2000 в остальные годы), но медианная цена у них меньше всего. В 2016 году подано 2000 объявлений, а медианная цена совпадает с 2018 годом. Самая высокая цена была в 2015 и 2019 годах. И этого можно сделать вывод, что год подачи объявления влияет на цену, а точнее мировая обстановка на это влияет.",
      "metadata": {}
    },
    {
      "cell_type": "code",
      "source": "#Изучим зависимость площади от года подачи объявления\narea_pt = data.pivot_table(index = 'year', values = 'total_area', aggfunc = ['mean', 'count', 'median'])\narea_pt.columns = ['mean', 'count', 'median']\narea_pt.plot(y = 'median')\n\narea_pt.sort_values('median', ascending = False)",
      "metadata": {},
      "execution_count": null,
      "outputs": []
    },
    {
      "cell_type": "markdown",
      "source": "**Вывод:** С каждым годом площадь продаваемых квартир уменьшалась, только в 2019 году немного подросла по сравнени с предыущим годом. А так так цена зависит от площади, то и стоимость объектов снижалась соответственно. Зависимости цены от года нет, всё идёт от площади объектов.",
      "metadata": {}
    },
    {
      "cell_type": "code",
      "source": "#Посчитаем среднюю цену одного квадратного метра в 10 населённых пунктах с наибольшим числом объявлений и \n#выделим населённые пункты с самой высокой и низкой стоимостью квадратного метра\nlocal_pt = data.pivot_table(index = 'locality_name', values = 'one_met_price', aggfunc=['count', 'mean'])\nlocal_pt.columns = ['count', 'mean']\nlocal_pt = local_pt.sort_values('count', ascending = False).head(10)\nprint(local_pt)\n#самая высокая стоимость\nmax_price = local_pt[local_pt['mean']==local_pt['mean'].max()]\n#самая низкая стоимость\nmin_price = local_pt[local_pt['mean']==local_pt['mean'].min()]\n\ndisplay(max_price)\ndisplay(min_price)",
      "metadata": {},
      "execution_count": null,
      "outputs": []
    },
    {
      "cell_type": "code",
      "source": "#Посчитаем медианную цену одного квадратного метра в 10 населённых пунктах с наибольшим числом объявлений и \n#выделим населённые пункты с самой высокой и низкой стоимостью квадратного метра\nlocal_pt = data.pivot_table(index = 'locality_name', values = 'one_met_price', aggfunc=['count', 'median'])\nlocal_pt.columns = ['count', 'median']\nlocal_pt = local_pt.sort_values('count', ascending = False).head(10)\nprint(local_pt)\n#самая высокая стоимость\nmax_price = local_pt[local_pt['median']==local_pt['median'].max()]\n#самая низкая стоимость\nmin_price = local_pt[local_pt['median']==local_pt['median'].min()]\n\ndisplay(max_price)\ndisplay(min_price)",
      "metadata": {},
      "execution_count": null,
      "outputs": []
    },
    {
      "cell_type": "markdown",
      "source": "**Вывод:** Самая высокая цена за один кв. метр на жильё в Санкт-Петербурге. Самая низкая - в Выборге.",
      "metadata": {}
    },
    {
      "cell_type": "code",
      "source": "#Выделим квартиры в Санкт-Петербурге с помощью столбца locality_name и вычислим среднюю цену каждого километра\ndata_spb = data.copy()\ndata_spb = data_spb.query('locality_name == \"Санкт-Петербург\"')\ndata_spb.loc[:, 'center_distance'] = (data_spb.loc[:, 'cityCenters_nearest']/1000).round()\ndata_spb_km = data_spb.pivot_table(index = 'center_distance', values = 'one_met_price', aggfunc = 'mean')\ndata_spb_km.plot(grid = True, title = 'Цена за километр')\nplt.show()",
      "metadata": {},
      "execution_count": null,
      "outputs": []
    },
    {
      "cell_type": "markdown",
      "source": "**Вывод:** Из графика видно, что цена на квартиры увеличивается по мере приближения к центру. Есть 2 пика на отметках в 27 и 7 км. Может быть эти объекты намного лучше своих конкурентов, находящихся на том же расстоянии от центра, от того и цена у них выше. Другой вариант - собственники квартир установили слишком высокие цены просто потому что захотели. Начиная с отметки в 3км, цена начинает расти очень быстро. Получается, чем ближе к центру находится квартира, тем она будет дороже.",
      "metadata": {}
    },
    {
      "cell_type": "markdown",
      "source": "### Общий вывод",
      "metadata": {}
    },
    {
      "cell_type": "markdown",
      "source": "В ходе работы было сделано:\n* Определены пропуски и обозначены варианты их заполнения\n* Пропуски заменены на значения там, где это было возможно\n* Определены и исправлены аномалии в данных\n* Названия населённых пунктов приведены к общему виду\n* Изменены типы данных там, где это было необходимо\n* Добавлены столбцы в датасет для лучшего изучения картины\n* Проведён анализ имещихся данных, в котором выяснилось, что:\n    + Цена квартиры зависит в основном от метража, удалённости от центра и немного от этажа\n    + Квартиры в среднем продаются 180 дней, но есть квартиры, которые продаются 200 дней и дольше\n    + В Санкт-Петербурге самая высокая цена на квартиры\n    + В Выборге самая низкая цена на квартиры\n* Даны ответы на заданные вопросы",
      "metadata": {}
    },
    {
      "cell_type": "code",
      "source": "",
      "metadata": {},
      "execution_count": null,
      "outputs": []
    }
  ]
}